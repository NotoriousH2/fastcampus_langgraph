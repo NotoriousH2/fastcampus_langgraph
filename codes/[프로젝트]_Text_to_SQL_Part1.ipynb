{
  "cells": [
    {
      "cell_type": "markdown",
      "metadata": {
        "id": "fFGp2BDVWFqD"
      },
      "source": [
        "# [프로젝트] 복잡한 자연어 쿼리를 처리하는 Text-to-SQL   \n",
        "\n",
        "Text-to-SQL 문제는 LLM의 대표적인 활용 분야 중 하나입니다.   \n",
        "LangChain의 기능을 활용하여, 간단하게 SQL 정보를 전달하고   \n",
        " 쿼리를 실행, 생성하는 기능을 만들어 보겠습니다."
      ]
    },
    {
      "cell_type": "markdown",
      "metadata": {
        "id": "vcJI2_i9WFqE"
      },
      "source": [
        "이번 실습에서는 다음의 DB를 사용합니다.   \n",
        "\n",
        "easy_sql.db : 도서관 DB  \n",
        "intermediate_sql.db : 병원 DB   \n",
        "hard_sql.db : 대학교 DB\n"
      ]
    },
    {
      "cell_type": "code",
      "source": [
        "!pip install  langgraph langchain langchain_google_genai google_generativeai langchain_community python-dotenv -q"
      ],
      "metadata": {
        "id": "8tj-nJqpWeZF"
      },
      "execution_count": null,
      "outputs": []
    },
    {
      "cell_type": "markdown",
      "source": [
        "**세션 다시 시작** 해 주세요!"
      ],
      "metadata": {
        "id": "cy-1rr-8Wq1S"
      }
    },
    {
      "cell_type": "code",
      "source": [
        "import zipfile\n",
        "\n",
        "with zipfile.ZipFile('sql.zip', 'r') as zip_ref:\n",
        "    zip_ref.extractall('.')"
      ],
      "metadata": {
        "id": "kwZuUmKnWsuQ"
      },
      "execution_count": null,
      "outputs": []
    },
    {
      "cell_type": "markdown",
      "metadata": {
        "id": "PPcn4zjoWFqF"
      },
      "source": [
        "## LangChain의 Utilities 활용하기\n",
        "\n",
        "SQLite3을 이용해 db에 접근한 뒤, DB 정보를 불러옵니다."
      ]
    },
    {
      "cell_type": "code",
      "execution_count": null,
      "metadata": {
        "id": "TPoTTPNUWFqF"
      },
      "outputs": [],
      "source": [
        "import sqlite3\n",
        "from langchain_community.utilities import SQLDatabase\n",
        "\n",
        "\n",
        "db = SQLDatabase.from_uri(\"sqlite:///easy_sql.db\")\n"
      ]
    },
    {
      "cell_type": "markdown",
      "metadata": {
        "id": "UYHAW3xAWFqF"
      },
      "source": [
        "get_table_info()를 통해 스키마를 가져옵니다.    \n",
        "테이블의 목록 + 3개 Row를 가져오는 작업을 기본으로 수행합니다."
      ]
    },
    {
      "cell_type": "code",
      "execution_count": null,
      "metadata": {
        "colab": {
          "base_uri": "https://localhost:8080/"
        },
        "id": "IMnIu7NQWFqF",
        "outputId": "7d12883d-94bc-49ea-d714-969948bff81a"
      },
      "outputs": [
        {
          "output_type": "stream",
          "name": "stdout",
          "text": [
            "\n",
            "CREATE TABLE book_categories (\n",
            "\tbook_id INTEGER, \n",
            "\tcategory_id INTEGER, \n",
            "\tPRIMARY KEY (book_id, category_id), \n",
            "\tFOREIGN KEY(book_id) REFERENCES books (book_id), \n",
            "\tFOREIGN KEY(category_id) REFERENCES categories (category_id)\n",
            ")\n",
            "\n",
            "/*\n",
            "3 rows from book_categories table:\n",
            "book_id\tcategory_id\n",
            "1\t2\n",
            "2\t1\n",
            "3\t3\n",
            "*/\n",
            "\n",
            "\n",
            "CREATE TABLE book_promotions (\n",
            "\tbook_id INTEGER, \n",
            "\tpromotion_id INTEGER, \n",
            "\tPRIMARY KEY (book_id, promotion_id), \n",
            "\tFOREIGN KEY(book_id) REFERENCES books (book_id), \n",
            "\tFOREIGN KEY(promotion_id) REFERENCES promotions (promotion_id)\n",
            ")\n",
            "\n",
            "/*\n",
            "3 rows from book_promotions table:\n",
            "book_id\tpromotion_id\n",
            "1\t1\n",
            "2\t1\n",
            "3\t1\n",
            "*/\n",
            "\n",
            "\n",
            "CREATE TABLE books (\n",
            "\tbook_id INTEGER, \n",
            "\ttitle TEXT NOT NULL, \n",
            "\tauthor TEXT NOT NULL, \n",
            "\tprice INTEGER NOT NULL, \n",
            "\tstock INTEGER NOT NULL, \n",
            "\tPRIMARY KEY (book_id)\n",
            ")\n",
            "\n",
            "/*\n",
            "3 rows from books table:\n",
            "book_id\ttitle\tauthor\tprice\tstock\n",
            "1\t인공지능의 기초\t김영희\t25000\t10\n",
            "2\t파이썬 프로그래밍\t이철수\t30000\t15\n",
            "3\t데이터 분석 입문\t박지민\t28000\t8\n",
            "*/\n",
            "\n",
            "\n",
            "CREATE TABLE categories (\n",
            "\tcategory_id INTEGER, \n",
            "\tcategory_name TEXT NOT NULL, \n",
            "\tdescription TEXT, \n",
            "\tPRIMARY KEY (category_id)\n",
            ")\n",
            "\n",
            "/*\n",
            "3 rows from categories table:\n",
            "category_id\tcategory_name\tdescription\n",
            "1\t컴퓨터 과학\t컴퓨터 및 프로그래밍 관련 서적\n",
            "2\t인공지능\t인공지능, 머신러닝, 딥러닝 관련 서적\n",
            "3\t데이터 과학\t데이터 분석 및 처리 관련 서적\n",
            "*/\n",
            "\n",
            "\n",
            "CREATE TABLE customers (\n",
            "\tcustomer_id INTEGER, \n",
            "\tname TEXT NOT NULL, \n",
            "\temail TEXT NOT NULL, \n",
            "\tphone TEXT, \n",
            "\tPRIMARY KEY (customer_id), \n",
            "\tUNIQUE (email)\n",
            ")\n",
            "\n",
            "/*\n",
            "3 rows from customers table:\n",
            "customer_id\tname\temail\tphone\n",
            "1\t홍길동\thong@email.com\t010-1234-5678\n",
            "2\t김철수\tkim@email.com\t010-2345-6789\n",
            "3\t이영희\tlee@email.com\t010-3456-7890\n",
            "*/\n",
            "\n",
            "\n",
            "CREATE TABLE orders (\n",
            "\torder_id INTEGER, \n",
            "\tcustomer_id INTEGER, \n",
            "\tbook_id INTEGER, \n",
            "\torder_date TEXT NOT NULL, \n",
            "\tquantity INTEGER NOT NULL, \n",
            "\tPRIMARY KEY (order_id), \n",
            "\tFOREIGN KEY(customer_id) REFERENCES customers (customer_id), \n",
            "\tFOREIGN KEY(book_id) REFERENCES books (book_id)\n",
            ")\n",
            "\n",
            "/*\n",
            "3 rows from orders table:\n",
            "order_id\tcustomer_id\tbook_id\torder_date\tquantity\n",
            "1\t1\t1\t2024-03-15\t1\n",
            "2\t2\t3\t2024-03-16\t2\n",
            "3\t3\t2\t2024-03-16\t1\n",
            "*/\n",
            "\n",
            "\n",
            "CREATE TABLE promotions (\n",
            "\tpromotion_id INTEGER, \n",
            "\tpromotion_name TEXT NOT NULL, \n",
            "\tdiscount_rate INTEGER NOT NULL, \n",
            "\tstart_date TEXT NOT NULL, \n",
            "\tend_date TEXT NOT NULL, \n",
            "\tPRIMARY KEY (promotion_id)\n",
            ")\n",
            "\n",
            "/*\n",
            "3 rows from promotions table:\n",
            "promotion_id\tpromotion_name\tdiscount_rate\tstart_date\tend_date\n",
            "1\t봄맞이 도서 할인\t10\t2024-03-01\t2024-03-31\n",
            "2\t여름 특별 할인\t15\t2024-06-01\t2024-06-30\n",
            "3\t가을 독서 프로모션\t20\t2024-09-01\t2024-09-30\n",
            "*/\n",
            "\n",
            "\n",
            "CREATE TABLE reviews (\n",
            "\treview_id INTEGER, \n",
            "\tbook_id INTEGER, \n",
            "\tcustomer_id INTEGER, \n",
            "\trating INTEGER NOT NULL, \n",
            "\treview_text TEXT, \n",
            "\treview_date TEXT NOT NULL, \n",
            "\tPRIMARY KEY (review_id), \n",
            "\tFOREIGN KEY(book_id) REFERENCES books (book_id), \n",
            "\tFOREIGN KEY(customer_id) REFERENCES customers (customer_id), \n",
            "\tCHECK (rating BETWEEN 1 AND 5)\n",
            ")\n",
            "\n",
            "/*\n",
            "3 rows from reviews table:\n",
            "review_id\tbook_id\tcustomer_id\trating\treview_text\treview_date\n",
            "1\t1\t1\t5\t정말 좋은 책입니다. 인공지능 입문자에게 추천합니다.\t2024-03-16\n",
            "2\t3\t2\t4\t데이터 분석을 처음 배우는데 도움이 많이 됐습니다.\t2024-03-17\n",
            "3\t2\t3\t5\t파이썬 기초를 쉽게 배울 수 있었습니다.\t2024-03-17\n",
            "*/\n"
          ]
        }
      ],
      "source": [
        "db_schema = db.get_table_info()\n",
        "print(db_schema)"
      ]
    },
    {
      "cell_type": "code",
      "execution_count": null,
      "metadata": {
        "id": "rtNNDp9vWFqF"
      },
      "outputs": [],
      "source": [
        "import os\n",
        "from dotenv import load_dotenv\n",
        "from langchain_google_genai import ChatGoogleGenerativeAI\n",
        "\n",
        "# 환경 변수 로드\n",
        "load_dotenv()\n",
        "\n",
        "\n",
        "os.environ['LANGCHAIN_PROJECT'] = 'LangGraph_FastCampus'\n",
        "os.environ['LANGCHAIN_ENDPOINT'] = 'https://api.smith.langchain.com'\n",
        "os.environ['LANGCHAIN_TRACING_V2']='true'\n",
        "\n",
        "\n",
        "llm = ChatGoogleGenerativeAI(model=\"gemini-2.0-flash\")\n",
        "\n"
      ]
    },
    {
      "cell_type": "markdown",
      "metadata": {
        "id": "CRFYtttYWFqG"
      },
      "source": [
        "구조화된 출력을 구성합니다."
      ]
    },
    {
      "cell_type": "code",
      "execution_count": null,
      "metadata": {
        "id": "d7O43f8zWFqG"
      },
      "outputs": [],
      "source": [
        "from pydantic import BaseModel, Field\n",
        "import sqlite3\n",
        "\n",
        "class SQLQuery(BaseModel):\n",
        "    \"\"\"SQL 쿼리\"\"\"\n",
        "    explanation: str = Field(description=\"쿼리의 목적과 기대되는 결과 설명\")\n",
        "    query: str = Field(description=\"생성된 SQL 쿼리 (반드시 유효한 SQL 문법을 사용)\")\n"
      ]
    },
    {
      "cell_type": "code",
      "execution_count": null,
      "metadata": {
        "colab": {
          "base_uri": "https://localhost:8080/"
        },
        "id": "dY9XSwwVWFqG",
        "outputId": "b5f30fcd-78e2-4e62-a315-8862c974902c"
      },
      "outputs": [
        {
          "output_type": "execute_result",
          "data": {
            "text/plain": [
              "SQLQuery(explanation='책의 총 권수를 계산합니다.', query='SELECT COUNT(*) FROM books')"
            ]
          },
          "metadata": {},
          "execution_count": 9
        }
      ],
      "source": [
        "from langchain.prompts import ChatPromptTemplate\n",
        "\n",
        "structured_llm = llm.with_structured_output(SQLQuery)\n",
        "prompt = ChatPromptTemplate([\"\"\"\n",
        "당신은 SQL 전문가입니다. 다음 데이터베이스 스키마와 사용자 질의를 분석하여 SQL 쿼리를 작성하세요.\n",
        "\n",
        "## 데이터베이스 스키마:\n",
        "{db_schema}\n",
        "\n",
        "## 사용자 질의:\n",
        "{query}\n",
        "\n",
        "\n",
        "테이블을 참고하여, 질문을 쿼리로 변환하세요.\n",
        "SQLite의 경우 LIMIT clause 를 사용하면 됩니다.\n",
        "데이터의 결과를 더 잘 전달하기 위해 정렬할 수 있습니다.\n",
        "주어진 예시 row에 없는 내용이라도, 쿼리를 작성하세요.\n",
        "\n",
        "정답과 무관한 컬럼에 대한 쿼리를 수행하지 말고, 필요한 내용만 추출하세요.\n",
        "아래에 주어지는 컬럼 이름과 테이블 정보를 꼭 참고하세요.\n",
        "존재하지 않는 컬럼에 대한 쿼리를 하지 않도록 주의하세요.\n",
        "만약 '오늘'과 같이 현재 날짜에 대한 질문이 들어오면 date() 등을 사용하세요.\n",
        "컬럼 이름은 \"로 구분하고, 전체 출력은 마크다운으로 수행하세요.\n",
        "\"\"\"])\n",
        "\n",
        "\n",
        "sample = {'db_schema':db_schema, 'query':'책이 총 몇 권 있어요?'}\n",
        "\n",
        "chain = prompt | structured_llm\n",
        "query = chain.invoke(sample)\n",
        "\n",
        "query\n"
      ]
    },
    {
      "cell_type": "markdown",
      "metadata": {
        "id": "BcWG2tnhWFqG"
      },
      "source": [
        "생성한 쿼리는 run()으로 실행합니다."
      ]
    },
    {
      "cell_type": "code",
      "execution_count": null,
      "metadata": {
        "colab": {
          "base_uri": "https://localhost:8080/",
          "height": 35
        },
        "id": "iImptJsAWFqG",
        "outputId": "3e98ffc0-3f22-457d-cd85-41f401bfd9de"
      },
      "outputs": [
        {
          "output_type": "execute_result",
          "data": {
            "text/plain": [
              "'[(30,)]'"
            ],
            "application/vnd.google.colaboratory.intrinsic+json": {
              "type": "string"
            }
          },
          "metadata": {},
          "execution_count": 10
        }
      ],
      "source": [
        "db.run(query.query)"
      ]
    },
    {
      "cell_type": "markdown",
      "metadata": {
        "id": "LrxmAK4lWFqG"
      },
      "source": [
        "전체 기능을 노드로 연결합니다."
      ]
    },
    {
      "cell_type": "code",
      "execution_count": null,
      "metadata": {
        "id": "DzpMnMN1WFqG"
      },
      "outputs": [],
      "source": [
        "from typing_extensions import TypedDict\n",
        "\n",
        "class State(TypedDict):\n",
        "    db_schema: str\n",
        "    db_path: str\n",
        "    query: str\n",
        "    result: str\n",
        "    sql_query : str\n",
        "    final_analysis: str\n",
        "\n",
        "def generate_query(state: State):\n",
        "    structured_llm = llm.with_structured_output(SQLQuery)\n",
        "    prompt = ChatPromptTemplate([\"\"\"\n",
        "    당신은 SQL 전문가입니다. 다음 데이터베이스 스키마와 사용자 질의를 분석하여 SQL 쿼리를 작성하세요.\n",
        "\n",
        "    ## 데이터베이스 스키마:\n",
        "    {db_schema}\n",
        "\n",
        "    ## 사용자 질의:\n",
        "    {query}\n",
        "\n",
        "\n",
        "    테이블을 참고하여, 질문을 쿼리로 변환하세요.\n",
        "    SQLite의 경우 LIMIT clause 를 사용하면 됩니다.\n",
        "    데이터의 결과를 더 잘 전달하기 위해 정렬할 수 있습니다.\n",
        "    주어진 예시 row에 없는 내용이라도, 쿼리를 작성하세요.\n",
        "\n",
        "    정답과 무관한 컬럼에 대한 쿼리를 수행하지 말고, 필요한 내용만 추출하세요.\n",
        "    아래에 주어지는 컬럼 이름과 테이블 정보를 꼭 참고하세요.\n",
        "    존재하지 않는 컬럼에 대한 쿼리를 하지 않도록 주의하세요.\n",
        "    만약 '오늘'과 같이 현재 날짜에 대한 질문이 들어오면 date() 등을 사용하세요.\n",
        "    컬럼 이름은 \"로 구분하고, 전체 출력은 마크다운으로 수행하세요.\n",
        "    \"\"\"])\n",
        "    chain = prompt | structured_llm\n",
        "    sql_query = chain.invoke(state).query\n",
        "    state['sql_query'] = sql_query\n",
        "    return state\n",
        "\n",
        "def execute_query(state: State):\n",
        "\n",
        "    sql_query = state['sql_query']\n",
        "    db_path = state['db_path']\n",
        "    db = SQLDatabase.from_uri(db_path)\n",
        "\n",
        "    result = db.run(state['sql_query'])\n",
        "\n",
        "    state['result'] = result\n",
        "    return state\n",
        "\n",
        "def explain_result(state: State):\n",
        "    prompt = f\"\"\"\n",
        "    당신은 데이터 분석 전문가입니다. SQL 쿼리 결과를 분석하여 사용자가 이해하기 쉽게 설명해주세요.\n",
        "\n",
        "    ## 원래 질문:\n",
        "    {state[\"query\"]}\n",
        "\n",
        "    ## 실행된 SQL 쿼리:\n",
        "    {state[\"sql_query\"]}\n",
        "\n",
        "    ## 쿼리 결과:\n",
        "    {state[\"result\"]}\n",
        "\n",
        "    ## 작업:\n",
        "    1. 원래 질문에 직접적으로 답변하세요.\n",
        "    2. 결과에서 발견된 주요 인사이트를 추출하세요.\n",
        "    3. 데이터를 종합적으로 분석하고 명확하게 설명하세요.\n",
        "    4. 결과가 원래 질문의 모든 측면을 다루는지 확인하세요.\n",
        "    \"\"\"\n",
        "    response = llm.invoke(prompt)\n",
        "    state[\"final_analysis\"] = response.content\n",
        "    return state"
      ]
    },
    {
      "cell_type": "code",
      "execution_count": null,
      "metadata": {
        "colab": {
          "base_uri": "https://localhost:8080/",
          "height": 449
        },
        "id": "YwpWV_X4WFqG",
        "outputId": "52dc6012-2a24-4133-e627-4e9d15791cc0"
      },
      "outputs": [
        {
          "output_type": "execute_result",
          "data": {
            "text/plain": [
              "<langgraph.graph.state.CompiledStateGraph object at 0x79d88df38350>"
            ],
            "image/png": "[encoded data removed]"
          },
          "metadata": {},
          "execution_count": 12
        }
      ],
      "source": [
        "from langgraph.graph import StateGraph, START, END\n",
        "\n",
        "builder = StateGraph(State)\n",
        "\n",
        "builder.add_node(\"generate_query\", generate_query)\n",
        "builder.add_node(\"execute_query\", execute_query)\n",
        "builder.add_node(\"explain_result\", explain_result)\n",
        "\n",
        "# 노드 연결\n",
        "builder.add_edge(\"generate_query\", \"execute_query\")\n",
        "builder.add_edge(\"execute_query\", \"explain_result\")\n",
        "builder.add_edge(\"explain_result\", END)\n",
        "\n",
        "# 시작 노드 설정\n",
        "builder.add_edge(START, \"generate_query\")\n",
        "\n",
        "# 그래프 컴파일\n",
        "graph = builder.compile()\n",
        "graph\n"
      ]
    },
    {
      "cell_type": "code",
      "execution_count": null,
      "metadata": {
        "colab": {
          "base_uri": "https://localhost:8080/"
        },
        "id": "Ho-zTU4VWFqH",
        "outputId": "3c6053f1-e03a-47a6-e2f5-e664cf4a6907"
      },
      "outputs": [
        {
          "output_type": "stream",
          "name": "stdout",
          "text": [
            "기존 질문: 가장 많은 매출을 올린 작가의 모든 도서 목록과 재고 현황을 조회해주세요.\n",
            "최종 분석 결과: ## 분석 결과 보고서\n",
            "\n",
            "**1. 원래 질문에 대한 직접적인 답변:**\n",
            "\n",
            "가장 많은 매출을 올린 작가의 도서 목록과 재고 현황은 다음과 같습니다:\n",
            "\n",
            "*   **도서 제목:** 모바일 앱 프로그래밍\n",
            "*   **재고:** 18권\n",
            "\n",
            "**2. 주요 인사이트:**\n",
            "\n",
            "가장 많은 매출을 올린 작가는 \"모바일 앱 프로그래밍\"이라는 단 하나의 도서만을 출판했으며, 현재 재고는 18권입니다.\n",
            "\n",
            "**3. 데이터 분석 및 설명:**\n",
            "\n",
            "본 쿼리는 두 단계로 나누어 분석할 수 있습니다.\n",
            "\n",
            "*   **서브쿼리 (Subquery):** `(SELECT author FROM (SELECT b.author, SUM(b.price * o.quantity) AS total_sales FROM books b JOIN orders o ON b.book_id = o.book_id GROUP BY b.author ORDER BY total_sales DESC LIMIT 1))`\n",
            "    *   `books` 테이블과 `orders` 테이블을 `book_id`를 기준으로 조인하여 각 작가별 총 매출액을 계산합니다.  (`SUM(b.price * o.quantity) AS total_sales`)\n",
            "    *   `GROUP BY b.author`를 사용하여 작가별로 그룹화합니다.\n",
            "    *   `ORDER BY total_sales DESC`를 사용하여 총 매출액을 기준으로 내림차순 정렬합니다.\n",
            "    *   `LIMIT 1`을 사용하여 가장 높은 총 매출액을 기록한 작가의 이름을 반환합니다.\n",
            "\n",
            "*   **메인 쿼리 (Main Query):** `SELECT b.title, b.stock FROM books b WHERE b.author = (서브쿼리)`\n",
            "    *   `books` 테이블에서 서브쿼리에서 반환된 작가와 동일한 작가의 도서 제목(`b.title`)과 재고(`b.stock`)를 선택합니다.\n",
            "\n",
            "결과적으로, 쿼리는 가장 높은 매출을 올린 작가의 도서 제목과 재고를 반환합니다. 결과에서 \"모바일 앱 프로그래밍\"이라는 도서가 가장 많은 매출을 올린 작가의 유일한 도서이며, 현재 18권의 재고가 있음을 알 수 있습니다.\n",
            "\n",
            "**4. 결과의 완전성 검토:**\n",
            "\n",
            "결과는 원래 질문의 모든 측면을 다루고 있습니다. 즉, \"가장 많은 매출을 올린 작가의 모든 도서 목록과 재고 현황\"을 제공합니다.  만약 해당 작가가 여러 권의 책을 출판했다면, 결과는 모든 책의 제목과 재고를 포함했을 것입니다. 현재는 한 권의 책만 존재하므로 해당 책의 정보만 표시됩니다.\n",
            "-------------\n",
            "기존 질문: IT 분야 도서 목록 알려주세요.\n",
            "최종 분석 결과: ## IT 분야 도서 목록 안내 및 분석\n",
            "\n",
            "**1. 원래 질문에 대한 답변:**\n",
            "\n",
            "요청하신 IT 분야 도서 목록은 다음과 같습니다.\n",
            "\n",
            "*   인공지능의 기초\n",
            "*   파이썬 프로그래밍\n",
            "*   데이터 분석 입문\n",
            "*   머신러닝 알고리즘\n",
            "*   딥러닝의 이해\n",
            "*   빅데이터 처리\n",
            "*   클라우드 컴퓨팅\n",
            "*   자연어 처리\n",
            "*   컴퓨터 비전\n",
            "*   로봇공학 입문\n",
            "*   강화학습 기초\n",
            "*   블록체인 이해\n",
            "*   알고리즘 문제 해결\n",
            "*   데이터베이스 설계\n",
            "*   게임 프로그래밍\n",
            "*   사물인터넷 기초\n",
            "*   컴퓨터 구조론\n",
            "*   운영체제의 이해\n",
            "*   소프트웨어 공학\n",
            "*   인공지능과 미래\n",
            "*   머신러닝 실전 프로젝트\n",
            "*   파이썬으로 배우는 통계\n",
            "*   자바 프로그래밍\n",
            "*   C++ 프로그래밍\n",
            "\n",
            "**2. 주요 인사이트 추출:**\n",
            "\n",
            "*   **다양한 IT 분야를 포괄:** 결과는 인공지능, 데이터 과학, 컴퓨터 과학을 포함한 다양한 IT 분야의 도서를 보여줍니다. 이는 쿼리가 의도한 범위를 잘 반영하고 있음을 의미합니다.\n",
            "*   **프로그래밍 언어 관련 도서 다수:** 파이썬, 자바, C++ 등 다양한 프로그래밍 언어 관련 도서가 포함되어 있습니다. 이는 IT 분야에서 프로그래밍의 중요성을 강조합니다.\n",
            "*   **최신 기술 트렌드 반영:** 머신러닝, 딥러닝, 블록체인, 클라우드 컴퓨팅 등 최신 기술 트렌드를 다루는 도서들이 포함되어 있습니다. 이는 IT 분야의 빠르게 변화하는 특성을 반영합니다.\n",
            "*   **입문 및 심화 학습 모두 포함:** \"인공지능의 기초\", \"데이터 분석 입문\"과 같은 입문 도서와 \"머신러닝 실전 프로젝트\", \"알고리즘 문제 해결\"과 같은 심화 학습 도서가 모두 포함되어 있습니다. 이는 다양한 수준의 학습자를 위한 자료가 있음을 의미합니다.\n",
            "\n",
            "**3. 데이터 종합 분석 및 설명:**\n",
            "\n",
            "제공된 SQL 쿼리는 `books`, `book_categories`, `categories` 테이블을 조인하여 특정 카테고리에 속하는 도서 제목을 검색합니다.  `WHERE` 절은 `category_name`이 '컴퓨터 과학', '인공지능', '데이터 과학' 중 하나라도 포함하는 도서를 선택하도록 합니다.\n",
            "\n",
            "쿼리 결과는 IT 분야의 다양한 주제를 다루는 도서 목록을 제공합니다.  특히 인공지능 및 데이터 과학 관련 도서가 많이 포함되어 있는데, 이는 최근 몇 년간 해당 분야의 높은 관심과 성장세를 반영합니다. 또한, 파이썬과 같은 인기 있는 프로그래밍 언어와 관련된 도서는 IT 분야 학습의 필수적인 부분을 강조합니다.  클라우드 컴퓨팅, 블록체인과 같은 최신 기술 트렌드 관련 도서들은 IT 분야의 끊임없는 변화와 혁신을 보여줍니다.\n",
            "\n",
            "**4. 원래 질문의 모든 측면을 다루는지 확인:**\n",
            "\n",
            "쿼리와 결과는 \"IT 분야 도서 목록\"이라는 원래 질문에 대한 직접적인 답변을 제공합니다. 쿼리는 컴퓨터 과학, 인공지능, 데이터 과학이라는 세 가지 주요 IT 분야를 명시적으로 포함하여 질문의 범위를 포괄적으로 다루고 있습니다.  결과 목록은 다양한 IT 주제와 관련된 도서를 보여주며, 이는 질문의 다양한 측면을 충족합니다.  따라서 제공된 쿼리와 결과는 원래 질문의 모든 측면을 다루고 있다고 판단할 수 있습니다.\n",
            "-------------\n",
            "기존 질문: 리뷰가 좋은 책들 추천해주세요.\n",
            "최종 분석 결과: ## 리뷰가 좋은 책 추천 및 분석 결과\n",
            "\n",
            "**1. 원래 질문에 대한 답변:**\n",
            "\n",
            "리뷰 평점이 4점 이상으로 높은 책들을 추천해 드립니다. 현재까지 확인된 책은 다음과 같습니다:\n",
            "\n",
            "*   인공지능의 기초 (김영희 저)\n",
            "*   파이썬 프로그래밍 (이철수 저)\n",
            "*   데이터 분석 입문 (박지민 저)\n",
            "*   머신러닝 알고리즘 (정동욱 저)\n",
            "*   빅데이터 처리 (황준석 저)\n",
            "\n",
            "**2. 주요 인사이트 추출:**\n",
            "\n",
            "*   **기술 서적 위주:** 추천된 책들이 모두 인공지능, 파이썬, 데이터 분석, 머신러닝, 빅데이터와 같은 기술 분야에 집중되어 있습니다. 이는 해당 분야 책들에 대한 사용자 만족도가 높거나, 리뷰 작성에 적극적인 사용자들이 많다는 것을 시사할 수 있습니다.\n",
            "*   **다양한 저자:** 각 책의 저자가 모두 다른 것으로 보아, 특정 저자의 책에 대한 편향은 없는 것으로 판단됩니다. 즉, 특정 저자 스타일보다는 책 자체의 내용과 퀄리티가 높은 평가를 받은 것으로 해석할 수 있습니다.\n",
            "*   **입문/기초 레벨 도서 포함:** \"데이터 분석 입문\", \"인공지능의 기초\"와 같은 제목에서 알 수 있듯이, 입문자 또는 기초 학습자를 위한 책도 포함되어 있습니다. 이는 해당 분야에 처음 입문하는 사용자들에게 좋은 참고 자료가 될 수 있다는 것을 의미합니다.\n",
            "\n",
            "**3. 데이터 종합 분석 및 설명:**\n",
            "\n",
            "SQL 쿼리를 통해 `reviews` 테이블에서 평점이 4점 이상인 `book_id`들을 찾고, 해당 `book_id`에 해당하는 책의 제목(`title`)과 저자(`author`)를 `books` 테이블에서 가져왔습니다.  `LIMIT 5`를 통해 결과 개수를 5개로 제한했습니다.\n",
            "\n",
            "결과적으로, 높은 평점을 받은 기술 서적 위주로 추천 목록이 구성되었으며, 이는 데이터 분석, 인공지능과 같은 분야에 대한 사용자들의 높은 관심과 만족도를 반영하는 것으로 보입니다.  또한, 입문자를 위한 책도 포함되어 있어, 해당 분야를 처음 접하는 사용자에게도 유용한 정보를 제공할 수 있습니다.\n",
            "\n",
            "**4. 원래 질문의 모든 측면을 다루는지 확인:**\n",
            "\n",
            "쿼리 결과는 원래 질문인 \"리뷰가 좋은 책들 추천해주세요\"에 대한 직접적인 답변을 제공합니다. 하지만, 몇 가지 추가적인 고려 사항이 있을 수 있습니다.\n",
            "\n",
            "*   **리뷰 개수 고려:** 평점이 높더라도 리뷰 개수가 적다면 신뢰도가 떨어질 수 있습니다. 쿼리에 리뷰 개수를 함께 고려하여, 리뷰 개수가 일정 이상인 책들만 추천하는 것이 더 좋을 수 있습니다.\n",
            "*   **최근 리뷰 반영:** 오래된 리뷰만으로는 현재 시점의 책의 가치를 정확히 판단하기 어려울 수 있습니다. 최근 리뷰에 가중치를 두거나, 특정 기간 내의 리뷰만 고려하는 것이 좋습니다.\n",
            "*   **세부 분야 고려:**  \"기술 서적\"이라는 큰 범주 외에, 사용자가 원하는 세부 분야 (예: 자연어 처리, 컴퓨터 비전 등)를 고려하여 추천을 제공하는 것이 더욱 맞춤형 추천이 될 수 있습니다.\n",
            "*   **더 많은 결과:** `LIMIT 5`로 결과를 제한했지만, 더 많은 책을 추천하는 것이 사용자에게 더 다양한 선택지를 제공할 수 있습니다.\n",
            "\n",
            "이러한 추가적인 고려 사항들을 반영하여 쿼리를 수정하고 분석한다면, 더욱 정확하고 유용한 추천 결과를 얻을 수 있을 것입니다.\n",
            "-------------\n"
          ]
        }
      ],
      "source": [
        "db_path = \"sqlite:///easy_sql.db\"\n",
        "# 데이터베이스 스키마 미리 가져오기\n",
        "db = SQLDatabase.from_uri(db_path)\n",
        "db_schema = db.get_table_info()\n",
        "\n",
        "test_queries=[\n",
        "    \"가장 많은 매출을 올린 작가의 모든 도서 목록과 재고 현황을 조회해주세요.\",\n",
        "    \"IT 분야 도서 목록 알려주세요.\",\n",
        "    \"리뷰가 좋은 책들 추천해주세요.\",\n",
        "]\n",
        "\n",
        "for test_query in test_queries:\n",
        "\n",
        "    initial_state = {\n",
        "        'query':test_query,\n",
        "        \"db_path\": db_path,\n",
        "        \"db_schema\": db_schema  # 미리 가져온 스키마 정보 설정\n",
        "    }\n",
        "    result = graph.invoke(initial_state)\n",
        "\n",
        "    print('기존 질문:', test_query)\n",
        "    print('최종 분석 결과:', result[\"final_analysis\"])\n",
        "\n",
        "    print('-------------')\n",
        "\n"
      ]
    }
  ],
  "metadata": {
    "kernelspec": {
      "display_name": "multicampus",
      "language": "python",
      "name": "python3"
    },
    "language_info": {
      "codemirror_mode": {
        "name": "ipython",
        "version": 3
      },
      "file_extension": ".py",
      "mimetype": "text/x-python",
      "name": "python",
      "nbconvert_exporter": "python",
      "pygments_lexer": "ipython3",
      "version": "3.11.7"
    },
    "colab": {
      "provenance": []
    }
  },
  "nbformat": 4,
  "nbformat_minor": 0
}