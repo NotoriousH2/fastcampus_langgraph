{
  "cells": [
    {
      "cell_type": "markdown",
      "metadata": {
        "id": "vhqiOqBxndID"
      },
      "source": [
        "## [실습] Human-in-the-loop 구조 실행하기\n",
        "\n",
        "Human-in-the-loop는 LangGraph 어플리케이션을 작동중일 때, 그래프의 중간 과정에서 사용자의 응답을 요청하는 과정입니다.   \n",
        "\n",
        "`interrupt`를 특정 시점에 실행하면, 해당 시점에서 실행이 중단되는데요.    \n",
        "\n",
        "\n",
        "해당 노드에서 `Command(resume)`를 통해 재개할 수 있습니다.   \n",
        "\n",
        "또한, `Command(goto)`는 다른 위치로 이동하기 위해 사용됩니다."
      ]
    },
    {
      "cell_type": "code",
      "execution_count": 1,
      "metadata": {
        "id": "aqvXCaKmndIE"
      },
      "outputs": [],
      "source": [
        "!pip install langgraph langchain langchain_google_genai langchain-tavily -q"
      ]
    },
    {
      "cell_type": "markdown",
      "metadata": {
        "id": "Ez7q9HTAndIE"
      },
      "source": [
        "LLM을 설정합니다."
      ]
    },
    {
      "cell_type": "code",
      "execution_count": 1,
      "metadata": {
        "id": "G28NkBlZndIF"
      },
      "outputs": [
        {
          "data": {
            "text/plain": [
              "AIMessage(content='안녕하세요! 무엇을 도와드릴까요?', additional_kwargs={}, response_metadata={'prompt_feedback': {'block_reason': 0, 'safety_ratings': []}, 'finish_reason': 'STOP', 'model_name': 'gemini-2.5-flash', 'safety_ratings': [], 'grounding_metadata': {}, 'model_provider': 'google_genai'}, id='lc_run--70d1e7ca-8232-43c0-8d3a-d4a4d98c0c87-0', usage_metadata={'input_tokens': 3, 'output_tokens': 237, 'total_tokens': 240, 'input_token_details': {'cache_read': 0}, 'output_token_details': {'reasoning': 229}})"
            ]
          },
          "execution_count": 1,
          "metadata": {},
          "output_type": "execute_result"
        }
      ],
      "source": [
        "import os\n",
        "os.environ['GOOGLE_API_KEY'] = 'AIxxx'\n",
        "\n",
        "from langchain_core.rate_limiters import InMemoryRateLimiter\n",
        "from langchain_google_genai import ChatGoogleGenerativeAI\n",
        "\n",
        "# Gemini API는 분당 10개 요청으로 제한\n",
        "# 즉, 초당 약 0.167개 요청 (10/60)\n",
        "rate_limiter = InMemoryRateLimiter(\n",
        "    requests_per_second=0.167,  # 분당 10개 요청\n",
        "    check_every_n_seconds=0.1,  # 100ms마다 체크\n",
        "    max_bucket_size=10,  # 최대 버스트 크기\n",
        ")\n",
        "\n",
        "llm = ChatGoogleGenerativeAI(\n",
        "    model=\"gemini-2.5-flash\",\n",
        "    rate_limiter=rate_limiter,\n",
        "    # temperature\n",
        "    # max_tokens\n",
        "\n",
        "    thinking_budget = 500  # 추론(Reasoning) 토큰 길이 제한\n",
        ")\n",
        "\n",
        "llm.invoke(\"안녕\")"
      ]
    },
    {
      "cell_type": "markdown",
      "metadata": {
        "id": "YJz-rKwPndIF"
      },
      "source": [
        "중간 과정 확인을 위해, LangSmith를 연동합니다.\n",
        "https://smith.langchain.com 에서 등록 후 작성합니다."
      ]
    },
    {
      "cell_type": "code",
      "execution_count": null,
      "metadata": {
        "id": "KWtzXfJ5ndIF"
      },
      "outputs": [],
      "source": [
        "os.environ['LANGCHAIN_API_KEY'] = ''\n",
        "os.environ['LANGCHAIN_PROJECT'] = 'LangGraph_FastCampus'\n",
        "os.environ['LANGCHAIN_ENDPOINT'] = 'https://api.smith.langchain.com'\n",
        "os.environ['LANGCHAIN_TRACING_V2']='true'"
      ]
    },
    {
      "cell_type": "markdown",
      "metadata": {
        "id": "eVl_Fr8EndIF"
      },
      "source": [
        "### 네이버 블로그 검색 Tool 구성하기\n",
        "네이버의 검색 API를 이용해, 블로그 검색을 연결하겠습니다.   \n",
        "(https://developers.naver.com/apps/#/register?defaultScope=search)"
      ]
    },
    {
      "cell_type": "code",
      "execution_count": 2,
      "metadata": {
        "id": "8Y9LgrgYndIF"
      },
      "outputs": [],
      "source": [
        "import os\n",
        "import sys\n",
        "import urllib.request\n",
        "import json\n",
        "from langchain_core.tools import tool\n",
        "\n",
        "from typing_extensions import TypedDict, Literal, Annotated\n",
        "\n",
        "headers = {\n",
        "    'X-Naver-Client-Id': 'Ko6yIqbV2TOHq9rPH8tu',\n",
        "    'X-Naver-Client-Secret': 'BvqX8mNtHu'\n",
        "}\n",
        "\n",
        "@tool\n",
        "def search_blogs(query: str, display : int = 10, sort : Literal['sim', 'date'] = 'sim') -> list:\n",
        "    \"\"\"네이버 블로그 검색을 수행하여 검색 결과를 리스트로 반환합니다.\n",
        "    query: 검색어\n",
        "    display: 검색 결과 개수\n",
        "    sort: sim(관련도순), date(시간순)\n",
        "    \"\"\"\n",
        "\n",
        "    client_id = headers['X-Naver-Client-Id']\n",
        "    client_secret = headers['X-Naver-Client-Secret']\n",
        "\n",
        "    encText = urllib.parse.quote(query)\n",
        "    url = f\"https://openapi.naver.com/v1/search/blog?query={encText}&display={display}\"\n",
        "\n",
        "    request = urllib.request.Request(url)\n",
        "    request.add_header(\"X-Naver-Client-Id\", client_id)\n",
        "    request.add_header(\"X-Naver-Client-Secret\", client_secret)\n",
        "\n",
        "    response = urllib.request.urlopen(request)\n",
        "    rescode = response.getcode()\n",
        "\n",
        "    if rescode == 200:\n",
        "        response_body = response.read()\n",
        "        data = json.loads(response_body.decode('utf-8'))\n",
        "\n",
        "        # 필요한 데이터 추출\n",
        "        blog_list = [\n",
        "            {\n",
        "                \"title\": item[\"title\"].replace(\"<b>\", \"\").replace(\"</b>\", \"\"),  # 태그 제거\n",
        "                \"link\": item[\"link\"],\n",
        "                \"description\": item[\"description\"].replace(\"<b>\", \"\").replace(\"</b>\", \"\"),\n",
        "                \"postdate\": item[\"postdate\"]\n",
        "            }\n",
        "            for item in data.get(\"items\", [])\n",
        "        ]\n",
        "\n",
        "        return blog_list\n",
        "    else:\n",
        "        return ['에러 발생, 다른 검색어로 다시 시도하세요.']\n",
        "\n",
        "\n",
        "tool_list = [search_blogs]\n",
        "llm_with_tools = llm.bind_tools(tool_list)"
      ]
    },
    {
      "cell_type": "code",
      "execution_count": 6,
      "metadata": {},
      "outputs": [
        {
          "data": {
            "text/plain": [
              "AIMessage(content='안녕하세요! 무엇을 도와드릴까요?', additional_kwargs={}, response_metadata={'prompt_feedback': {'block_reason': 0, 'safety_ratings': []}, 'finish_reason': 'STOP', 'model_name': 'gemini-2.5-flash', 'safety_ratings': [], 'grounding_metadata': {}, 'model_provider': 'google_genai'}, id='lc_run--9560c08b-77c3-44b6-8a0d-f5c95a858c3d-0', usage_metadata={'input_tokens': 118, 'output_tokens': 8, 'total_tokens': 126, 'input_token_details': {'cache_read': 0}})"
            ]
          },
          "execution_count": 6,
          "metadata": {},
          "output_type": "execute_result"
        }
      ],
      "source": [
        "llm_with_tools.invoke(\"안녕\")"
      ]
    },
    {
      "cell_type": "markdown",
      "metadata": {
        "id": "DxL9T7XSndIG"
      },
      "source": [
        "툴을 구성한 뒤, State와 노드를 구성합니다."
      ]
    },
    {
      "cell_type": "code",
      "execution_count": 3,
      "metadata": {
        "id": "BqSkj86wndIG"
      },
      "outputs": [],
      "source": [
        "from langgraph.graph.message import add_messages\n",
        "\n",
        "# query와 messages를 저장\n",
        "class State(TypedDict):\n",
        "    query : str\n",
        "    messages : Annotated[list, add_messages]"
      ]
    },
    {
      "cell_type": "code",
      "execution_count": 4,
      "metadata": {
        "id": "ytiAb1uXndIG"
      },
      "outputs": [],
      "source": [
        "from langgraph.graph import StateGraph, START, END\n",
        "from langgraph.checkpoint.memory import MemorySaver\n",
        "from langgraph.types import Command, interrupt\n",
        "from langchain_core.messages import AIMessage, HumanMessage, SystemMessage\n",
        "\n",
        "\n",
        "# 메시지 입력\n",
        "def get_user_input(state):\n",
        "    human_message = input()\n",
        "    return {'messages':[HumanMessage(content = human_message)]}\n",
        "\n",
        "def agent(state):\n",
        "    system_message = SystemMessage(content='''당신은 검색 및 요약 챗봇입니다.\n",
        "사용자의 질문을 해결하기 위해 검색 툴을 사용하고, 해당 결과를 바탕으로 답변하세요.\n",
        "요청을 해결한 다음에는 마지막에 '감사합니다! 챗봇을 종료합니다!'를 출력하세요.''')\n",
        "\n",
        "    return {\"messages\": [llm_with_tools.invoke([system_message] + state[\"messages\"])]}\n",
        "\n",
        "\n",
        "def run_tool(state):\n",
        "    new_messages = []\n",
        "    last_message = state[\"messages\"][-1]\n",
        "\n",
        "    tools = {tool.name:tool for tool in tool_list}\n",
        "\n",
        "    tool_calls = last_message.tool_calls\n",
        "\n",
        "    for tool_call in tool_calls:\n",
        "        tool = tools[tool_call[\"name\"]]\n",
        "        result = tool.invoke(tool_call)\n",
        "        # ToolMessage\n",
        "        new_messages.append(result)\n",
        "    return {\"messages\": new_messages}\n"
      ]
    },
    {
      "cell_type": "markdown",
      "metadata": {
        "id": "yHqwYepBndIG"
      },
      "source": [
        "툴을 실행하기 전, `human_review`를 통과하도록 구성합니다."
      ]
    },
    {
      "cell_type": "code",
      "execution_count": 31,
      "metadata": {
        "id": "dcr0zFZ9ndIG"
      },
      "outputs": [],
      "source": [
        "# Typing Hint를 연결하면 Graph에 표시됨\n",
        "def human_review(state) -> Command[Literal[\"agent\", \"run_tool\"]]:\n",
        "\n",
        "    # !!중요!!\n",
        "    # Human_review가 실행되는 상황은 언제일까요?\n",
        "    # Tool을 실행하기 전이므로, 이 상태의 Context는\n",
        "    # 항상 [..., AIMessage(content, tool_calls)]\n",
        "\n",
        "    last_message = state[\"messages\"][-1] # tool call 포함된 AIMessage\n",
        "    tool_call = last_message.tool_calls[-1]\n",
        "\n",
        "    # inturrupt로 중단된 결과는 Command를 통해 재개\n",
        "    human_review = interrupt(\n",
        "        {\n",
        "            \"question\": \"이대로 진행할까요?\",\n",
        "            \"tool_call\": tool_call,\n",
        "        }\n",
        "    )\n",
        "    review_action = human_review[\"action\"]\n",
        "    review_data = human_review.get(\"data\")\n",
        "\n",
        "    print('Decision:', review_action, '\\n Content:', review_data)\n",
        "\n",
        "\n",
        "    # 그대로 진행하는 경우, run_tool로 진입\n",
        "    if review_action == \"continue\":\n",
        "        return Command(goto=\"run_tool\")\n",
        "\n",
        "    # update가 필요한 경우, review_data를 args에 넣고 run_tool로 진입\n",
        "    elif review_action == \"update\":\n",
        "        updated_message = {\n",
        "            \"role\": \"ai\",\n",
        "            \"content\": last_message.content,\n",
        "            \"tool_calls\": [\n",
        "                {\n",
        "                    \"id\": tool_call[\"id\"],\n",
        "                    \"name\": tool_call[\"name\"],\n",
        "\n",
        "                    \"args\": review_data,\n",
        "                    # 새로운 입력\n",
        "                }\n",
        "            ],\n",
        "            \"id\": last_message.id,\n",
        "            # 메시지 id를 동일하게 설정해 Override\n",
        "        }\n",
        "        return Command(goto=\"run_tool\", update={\"messages\": [updated_message]})\n",
        "\n",
        "\n",
        "    # Feedback: 단순 언어로 피드백을 전달하고 싶은 경우\n",
        "    elif review_action == \"feedback\":\n",
        "\n",
        "        # Tool Call 요청을 새로운 유저 메시지로 대체합니다.\n",
        "\n",
        "        new_human_message = HumanMessage(content = review_data,\n",
        "        id = last_message.id)\n",
        "\n",
        "        return Command(goto=\"agent\", update={\"messages\": [new_human_message]})\n",
        "\n",
        "\n",
        "def route_after_llm(state) -> Literal[END, \"get_user_input\", \"human_review\"]:\n",
        "\n",
        "    last_message = state['messages'][-1]\n",
        "    # 마지막 메시지: tool calling\n",
        "    # 2025.10.26 업데이트: Gemini의 Thinking 모델(2.5 이후)에는\n",
        "    # Tool Calling 이후의 messages에 signature가 포함되어 형식이 달라집니다.\n",
        "    last_message_content = last_message.content\n",
        "\n",
        "    if not last_message.tool_calls:\n",
        "        if '감사합니다! 챗봇을 종료합니다!' in last_message_content:\n",
        "            return END\n",
        "        elif isinstance(last_message_content[0], dict) and 'text' in last_message_content[0] and '감사합니다! 챗봇을 종료합니다!' in last_message_content[0]['text']:\n",
        "            return END\n",
        "        return 'get_user_input'\n",
        "    else:\n",
        "        return \"human_review\"\n"
      ]
    },
    {
      "cell_type": "code",
      "execution_count": 32,
      "metadata": {
        "id": "Nzt843rkndIG"
      },
      "outputs": [
        {
          "data": {
            "text/plain": [
              "<langgraph.graph.state.StateGraph at 0x259b9f2b4a0>"
            ]
          },
          "execution_count": 32,
          "metadata": {},
          "output_type": "execute_result"
        }
      ],
      "source": [
        "builder = StateGraph(State)\n",
        "builder.add_node(get_user_input)\n",
        "builder.add_node(agent)\n",
        "builder.add_node(run_tool)\n",
        "builder.add_node(human_review)\n",
        "\n",
        "builder.add_edge(START, \"get_user_input\")\n",
        "builder.add_edge('get_user_input', \"agent\")\n",
        "builder.add_conditional_edges(\"agent\", route_after_llm)\n",
        "builder.add_edge(\"run_tool\", \"agent\")"
      ]
    },
    {
      "cell_type": "code",
      "execution_count": 33,
      "metadata": {
        "id": "RbsbxiLwqx3s"
      },
      "outputs": [
        {
          "data": {
            "image/png": "[encoded data removed]",
            "text/plain": [
              "<langgraph.graph.state.CompiledStateGraph object at 0x00000259B9F2A600>"
            ]
          },
          "execution_count": 33,
          "metadata": {},
          "output_type": "execute_result"
        }
      ],
      "source": [
        "memory = MemorySaver()\n",
        "\n",
        "graph = builder.compile(checkpointer=memory)\n",
        "# 중간 상태 저장을 위해 체크포인터가 필요합니다!\n",
        "graph"
      ]
    },
    {
      "cell_type": "code",
      "execution_count": 34,
      "metadata": {
        "id": "K8XKYNV1ndIG"
      },
      "outputs": [
        {
          "data": {
            "text/html": [
              "<pre style=\"white-space:pre;overflow-x:auto;line-height:normal;font-family:Menlo,'DejaVu Sans Mono',consolas,'Courier New',monospace\"><span style=\"font-weight: bold\">{</span>\n",
              "    <span style=\"color: #008000; text-decoration-color: #008000\">'get_user_input'</span>: <span style=\"font-weight: bold\">{</span>\n",
              "        <span style=\"color: #008000; text-decoration-color: #008000\">'messages'</span>: <span style=\"font-weight: bold\">[</span>\n",
              "            <span style=\"color: #800080; text-decoration-color: #800080; font-weight: bold\">HumanMessage</span><span style=\"font-weight: bold\">(</span>\n",
              "                <span style=\"color: #808000; text-decoration-color: #808000\">content</span>=<span style=\"color: #008000; text-decoration-color: #008000\">'역삼역 근처 커피 맛있는 카페 알려줘'</span>,\n",
              "                <span style=\"color: #808000; text-decoration-color: #808000\">additional_kwargs</span>=<span style=\"font-weight: bold\">{}</span>,\n",
              "                <span style=\"color: #808000; text-decoration-color: #808000\">response_metadata</span>=<span style=\"font-weight: bold\">{}</span>,\n",
              "                <span style=\"color: #808000; text-decoration-color: #808000\">id</span>=<span style=\"color: #008000; text-decoration-color: #008000\">'df4e5b32-844f-44d5-ab78-ed0186673704'</span>\n",
              "            <span style=\"font-weight: bold\">)</span>\n",
              "        <span style=\"font-weight: bold\">]</span>\n",
              "    <span style=\"font-weight: bold\">}</span>\n",
              "<span style=\"font-weight: bold\">}</span>\n",
              "</pre>\n"
            ],
            "text/plain": [
              "\u001b[1m{\u001b[0m\n",
              "    \u001b[32m'get_user_input'\u001b[0m: \u001b[1m{\u001b[0m\n",
              "        \u001b[32m'messages'\u001b[0m: \u001b[1m[\u001b[0m\n",
              "            \u001b[1;35mHumanMessage\u001b[0m\u001b[1m(\u001b[0m\n",
              "                \u001b[33mcontent\u001b[0m=\u001b[32m'역삼역 근처 커피 맛있는 카페 알려줘'\u001b[0m,\n",
              "                \u001b[33madditional_kwargs\u001b[0m=\u001b[1m{\u001b[0m\u001b[1m}\u001b[0m,\n",
              "                \u001b[33mresponse_metadata\u001b[0m=\u001b[1m{\u001b[0m\u001b[1m}\u001b[0m,\n",
              "                \u001b[33mid\u001b[0m=\u001b[32m'df4e5b32-844f-44d5-ab78-ed0186673704'\u001b[0m\n",
              "            \u001b[1m)\u001b[0m\n",
              "        \u001b[1m]\u001b[0m\n",
              "    \u001b[1m}\u001b[0m\n",
              "\u001b[1m}\u001b[0m\n"
            ]
          },
          "metadata": {},
          "output_type": "display_data"
        },
        {
          "data": {
            "text/html": [
              "<pre style=\"white-space:pre;overflow-x:auto;line-height:normal;font-family:Menlo,'DejaVu Sans Mono',consolas,'Courier New',monospace\">\n",
              "\n",
              "</pre>\n"
            ],
            "text/plain": [
              "\n",
              "\n"
            ]
          },
          "metadata": {},
          "output_type": "display_data"
        },
        {
          "data": {
            "text/html": [
              "<pre style=\"white-space:pre;overflow-x:auto;line-height:normal;font-family:Menlo,'DejaVu Sans Mono',consolas,'Courier New',monospace\"><span style=\"font-weight: bold\">{</span>\n",
              "    <span style=\"color: #008000; text-decoration-color: #008000\">'agent'</span>: <span style=\"font-weight: bold\">{</span>\n",
              "        <span style=\"color: #008000; text-decoration-color: #008000\">'messages'</span>: <span style=\"font-weight: bold\">[</span>\n",
              "            <span style=\"color: #800080; text-decoration-color: #800080; font-weight: bold\">AIMessage</span><span style=\"font-weight: bold\">(</span>\n",
              "                <span style=\"color: #808000; text-decoration-color: #808000\">content</span>=<span style=\"color: #008000; text-decoration-color: #008000\">''</span>,\n",
              "                <span style=\"color: #808000; text-decoration-color: #808000\">additional_kwargs</span>=<span style=\"font-weight: bold\">{</span>\n",
              "                    <span style=\"color: #008000; text-decoration-color: #008000\">'function_call'</span>: <span style=\"font-weight: bold\">{</span>\n",
              "                        <span style=\"color: #008000; text-decoration-color: #008000\">'name'</span>: <span style=\"color: #008000; text-decoration-color: #008000\">'search_blogs'</span>,\n",
              "                        <span style=\"color: #008000; text-decoration-color: #008000\">'arguments'</span>: <span style=\"color: #008000; text-decoration-color: #008000\">'{\"query\": \"\\\\uc5ed\\\\uc0bc\\\\uc5ed \\\\ucee4\\\\ud53c \\\\ub9db\\\\uc9d1\"}'</span>\n",
              "                    <span style=\"font-weight: bold\">}</span>\n",
              "                <span style=\"font-weight: bold\">}</span>,\n",
              "                <span style=\"color: #808000; text-decoration-color: #808000\">response_metadata</span>=<span style=\"font-weight: bold\">{</span>\n",
              "                    <span style=\"color: #008000; text-decoration-color: #008000\">'prompt_feedback'</span>: <span style=\"font-weight: bold\">{</span><span style=\"color: #008000; text-decoration-color: #008000\">'block_reason'</span>: <span style=\"color: #008080; text-decoration-color: #008080; font-weight: bold\">0</span>, <span style=\"color: #008000; text-decoration-color: #008000\">'safety_ratings'</span>: <span style=\"font-weight: bold\">[]}</span>,\n",
              "                    <span style=\"color: #008000; text-decoration-color: #008000\">'finish_reason'</span>: <span style=\"color: #008000; text-decoration-color: #008000\">'STOP'</span>,\n",
              "                    <span style=\"color: #008000; text-decoration-color: #008000\">'model_name'</span>: <span style=\"color: #008000; text-decoration-color: #008000\">'gemini-2.5-flash'</span>,\n",
              "                    <span style=\"color: #008000; text-decoration-color: #008000\">'safety_ratings'</span>: <span style=\"font-weight: bold\">[]</span>,\n",
              "                    <span style=\"color: #008000; text-decoration-color: #008000\">'grounding_metadata'</span>: <span style=\"font-weight: bold\">{}</span>,\n",
              "                    <span style=\"color: #008000; text-decoration-color: #008000\">'model_provider'</span>: <span style=\"color: #008000; text-decoration-color: #008000\">'google_genai'</span>\n",
              "                <span style=\"font-weight: bold\">}</span>,\n",
              "                <span style=\"color: #808000; text-decoration-color: #808000\">id</span>=<span style=\"color: #008000; text-decoration-color: #008000\">'lc_run--2938f215-f181-47c1-aab9-593e79f6710a-0'</span>,\n",
              "                <span style=\"color: #808000; text-decoration-color: #808000\">tool_calls</span>=<span style=\"font-weight: bold\">[</span>\n",
              "                    <span style=\"font-weight: bold\">{</span>\n",
              "                        <span style=\"color: #008000; text-decoration-color: #008000\">'name'</span>: <span style=\"color: #008000; text-decoration-color: #008000\">'search_blogs'</span>,\n",
              "                        <span style=\"color: #008000; text-decoration-color: #008000\">'args'</span>: <span style=\"font-weight: bold\">{</span><span style=\"color: #008000; text-decoration-color: #008000\">'query'</span>: <span style=\"color: #008000; text-decoration-color: #008000\">'역삼역 커피 맛집'</span><span style=\"font-weight: bold\">}</span>,\n",
              "                        <span style=\"color: #008000; text-decoration-color: #008000\">'id'</span>: <span style=\"color: #008000; text-decoration-color: #008000\">'b2f8916e-62e5-4c9f-b875-1856f498b42b'</span>,\n",
              "                        <span style=\"color: #008000; text-decoration-color: #008000\">'type'</span>: <span style=\"color: #008000; text-decoration-color: #008000\">'tool_call'</span>\n",
              "                    <span style=\"font-weight: bold\">}</span>\n",
              "                <span style=\"font-weight: bold\">]</span>,\n",
              "                <span style=\"color: #808000; text-decoration-color: #808000\">usage_metadata</span>=<span style=\"font-weight: bold\">{</span>\n",
              "                    <span style=\"color: #008000; text-decoration-color: #008000\">'input_tokens'</span>: <span style=\"color: #008080; text-decoration-color: #008080; font-weight: bold\">187</span>,\n",
              "                    <span style=\"color: #008000; text-decoration-color: #008000\">'output_tokens'</span>: <span style=\"color: #008080; text-decoration-color: #008080; font-weight: bold\">153</span>,\n",
              "                    <span style=\"color: #008000; text-decoration-color: #008000\">'total_tokens'</span>: <span style=\"color: #008080; text-decoration-color: #008080; font-weight: bold\">340</span>,\n",
              "                    <span style=\"color: #008000; text-decoration-color: #008000\">'input_token_details'</span>: <span style=\"font-weight: bold\">{</span><span style=\"color: #008000; text-decoration-color: #008000\">'cache_read'</span>: <span style=\"color: #008080; text-decoration-color: #008080; font-weight: bold\">0</span><span style=\"font-weight: bold\">}</span>,\n",
              "                    <span style=\"color: #008000; text-decoration-color: #008000\">'output_token_details'</span>: <span style=\"font-weight: bold\">{</span><span style=\"color: #008000; text-decoration-color: #008000\">'reasoning'</span>: <span style=\"color: #008080; text-decoration-color: #008080; font-weight: bold\">133</span><span style=\"font-weight: bold\">}</span>\n",
              "                <span style=\"font-weight: bold\">}</span>\n",
              "            <span style=\"font-weight: bold\">)</span>\n",
              "        <span style=\"font-weight: bold\">]</span>\n",
              "    <span style=\"font-weight: bold\">}</span>\n",
              "<span style=\"font-weight: bold\">}</span>\n",
              "</pre>\n"
            ],
            "text/plain": [
              "\u001b[1m{\u001b[0m\n",
              "    \u001b[32m'agent'\u001b[0m: \u001b[1m{\u001b[0m\n",
              "        \u001b[32m'messages'\u001b[0m: \u001b[1m[\u001b[0m\n",
              "            \u001b[1;35mAIMessage\u001b[0m\u001b[1m(\u001b[0m\n",
              "                \u001b[33mcontent\u001b[0m=\u001b[32m''\u001b[0m,\n",
              "                \u001b[33madditional_kwargs\u001b[0m=\u001b[1m{\u001b[0m\n",
              "                    \u001b[32m'function_call'\u001b[0m: \u001b[1m{\u001b[0m\n",
              "                        \u001b[32m'name'\u001b[0m: \u001b[32m'search_blogs'\u001b[0m,\n",
              "                        \u001b[32m'arguments'\u001b[0m: \u001b[32m'\u001b[0m\u001b[32m{\u001b[0m\u001b[32m\"query\": \"\\\\uc5ed\\\\uc0bc\\\\uc5ed \\\\ucee4\\\\ud53c \\\\ub9db\\\\uc9d1\"\u001b[0m\u001b[32m}\u001b[0m\u001b[32m'\u001b[0m\n",
              "                    \u001b[1m}\u001b[0m\n",
              "                \u001b[1m}\u001b[0m,\n",
              "                \u001b[33mresponse_metadata\u001b[0m=\u001b[1m{\u001b[0m\n",
              "                    \u001b[32m'prompt_feedback'\u001b[0m: \u001b[1m{\u001b[0m\u001b[32m'block_reason'\u001b[0m: \u001b[1;36m0\u001b[0m, \u001b[32m'safety_ratings'\u001b[0m: \u001b[1m[\u001b[0m\u001b[1m]\u001b[0m\u001b[1m}\u001b[0m,\n",
              "                    \u001b[32m'finish_reason'\u001b[0m: \u001b[32m'STOP'\u001b[0m,\n",
              "                    \u001b[32m'model_name'\u001b[0m: \u001b[32m'gemini-2.5-flash'\u001b[0m,\n",
              "                    \u001b[32m'safety_ratings'\u001b[0m: \u001b[1m[\u001b[0m\u001b[1m]\u001b[0m,\n",
              "                    \u001b[32m'grounding_metadata'\u001b[0m: \u001b[1m{\u001b[0m\u001b[1m}\u001b[0m,\n",
              "                    \u001b[32m'model_provider'\u001b[0m: \u001b[32m'google_genai'\u001b[0m\n",
              "                \u001b[1m}\u001b[0m,\n",
              "                \u001b[33mid\u001b[0m=\u001b[32m'lc_run--2938f215-f181-47c1-aab9-593e79f6710a-0'\u001b[0m,\n",
              "                \u001b[33mtool_calls\u001b[0m=\u001b[1m[\u001b[0m\n",
              "                    \u001b[1m{\u001b[0m\n",
              "                        \u001b[32m'name'\u001b[0m: \u001b[32m'search_blogs'\u001b[0m,\n",
              "                        \u001b[32m'args'\u001b[0m: \u001b[1m{\u001b[0m\u001b[32m'query'\u001b[0m: \u001b[32m'역삼역 커피 맛집'\u001b[0m\u001b[1m}\u001b[0m,\n",
              "                        \u001b[32m'id'\u001b[0m: \u001b[32m'b2f8916e-62e5-4c9f-b875-1856f498b42b'\u001b[0m,\n",
              "                        \u001b[32m'type'\u001b[0m: \u001b[32m'tool_call'\u001b[0m\n",
              "                    \u001b[1m}\u001b[0m\n",
              "                \u001b[1m]\u001b[0m,\n",
              "                \u001b[33musage_metadata\u001b[0m=\u001b[1m{\u001b[0m\n",
              "                    \u001b[32m'input_tokens'\u001b[0m: \u001b[1;36m187\u001b[0m,\n",
              "                    \u001b[32m'output_tokens'\u001b[0m: \u001b[1;36m153\u001b[0m,\n",
              "                    \u001b[32m'total_tokens'\u001b[0m: \u001b[1;36m340\u001b[0m,\n",
              "                    \u001b[32m'input_token_details'\u001b[0m: \u001b[1m{\u001b[0m\u001b[32m'cache_read'\u001b[0m: \u001b[1;36m0\u001b[0m\u001b[1m}\u001b[0m,\n",
              "                    \u001b[32m'output_token_details'\u001b[0m: \u001b[1m{\u001b[0m\u001b[32m'reasoning'\u001b[0m: \u001b[1;36m133\u001b[0m\u001b[1m}\u001b[0m\n",
              "                \u001b[1m}\u001b[0m\n",
              "            \u001b[1m)\u001b[0m\n",
              "        \u001b[1m]\u001b[0m\n",
              "    \u001b[1m}\u001b[0m\n",
              "\u001b[1m}\u001b[0m\n"
            ]
          },
          "metadata": {},
          "output_type": "display_data"
        },
        {
          "data": {
            "text/html": [
              "<pre style=\"white-space:pre;overflow-x:auto;line-height:normal;font-family:Menlo,'DejaVu Sans Mono',consolas,'Courier New',monospace\">\n",
              "\n",
              "</pre>\n"
            ],
            "text/plain": [
              "\n",
              "\n"
            ]
          },
          "metadata": {},
          "output_type": "display_data"
        },
        {
          "data": {
            "text/html": [
              "<pre style=\"white-space:pre;overflow-x:auto;line-height:normal;font-family:Menlo,'DejaVu Sans Mono',consolas,'Courier New',monospace\"><span style=\"font-weight: bold\">{</span>\n",
              "    <span style=\"color: #008000; text-decoration-color: #008000\">'__interrupt__'</span>: <span style=\"font-weight: bold\">(</span>\n",
              "        <span style=\"color: #800080; text-decoration-color: #800080; font-weight: bold\">Interrupt</span><span style=\"font-weight: bold\">(</span>\n",
              "            <span style=\"color: #808000; text-decoration-color: #808000\">value</span>=<span style=\"font-weight: bold\">{</span>\n",
              "                <span style=\"color: #008000; text-decoration-color: #008000\">'question'</span>: <span style=\"color: #008000; text-decoration-color: #008000\">'이대로 진행할까요?'</span>,\n",
              "                <span style=\"color: #008000; text-decoration-color: #008000\">'tool_call'</span>: <span style=\"font-weight: bold\">{</span>\n",
              "                    <span style=\"color: #008000; text-decoration-color: #008000\">'name'</span>: <span style=\"color: #008000; text-decoration-color: #008000\">'search_blogs'</span>,\n",
              "                    <span style=\"color: #008000; text-decoration-color: #008000\">'args'</span>: <span style=\"font-weight: bold\">{</span><span style=\"color: #008000; text-decoration-color: #008000\">'query'</span>: <span style=\"color: #008000; text-decoration-color: #008000\">'역삼역 커피 맛집'</span><span style=\"font-weight: bold\">}</span>,\n",
              "                    <span style=\"color: #008000; text-decoration-color: #008000\">'id'</span>: <span style=\"color: #008000; text-decoration-color: #008000\">'b2f8916e-62e5-4c9f-b875-1856f498b42b'</span>,\n",
              "                    <span style=\"color: #008000; text-decoration-color: #008000\">'type'</span>: <span style=\"color: #008000; text-decoration-color: #008000\">'tool_call'</span>\n",
              "                <span style=\"font-weight: bold\">}</span>\n",
              "            <span style=\"font-weight: bold\">}</span>,\n",
              "            <span style=\"color: #808000; text-decoration-color: #808000\">id</span>=<span style=\"color: #008000; text-decoration-color: #008000\">'b092e1ee23fd9d50792d10f2b6dcf2fc'</span>\n",
              "        <span style=\"font-weight: bold\">)</span>,\n",
              "    <span style=\"font-weight: bold\">)</span>\n",
              "<span style=\"font-weight: bold\">}</span>\n",
              "</pre>\n"
            ],
            "text/plain": [
              "\u001b[1m{\u001b[0m\n",
              "    \u001b[32m'__interrupt__'\u001b[0m: \u001b[1m(\u001b[0m\n",
              "        \u001b[1;35mInterrupt\u001b[0m\u001b[1m(\u001b[0m\n",
              "            \u001b[33mvalue\u001b[0m=\u001b[1m{\u001b[0m\n",
              "                \u001b[32m'question'\u001b[0m: \u001b[32m'이대로 진행할까요?'\u001b[0m,\n",
              "                \u001b[32m'tool_call'\u001b[0m: \u001b[1m{\u001b[0m\n",
              "                    \u001b[32m'name'\u001b[0m: \u001b[32m'search_blogs'\u001b[0m,\n",
              "                    \u001b[32m'args'\u001b[0m: \u001b[1m{\u001b[0m\u001b[32m'query'\u001b[0m: \u001b[32m'역삼역 커피 맛집'\u001b[0m\u001b[1m}\u001b[0m,\n",
              "                    \u001b[32m'id'\u001b[0m: \u001b[32m'b2f8916e-62e5-4c9f-b875-1856f498b42b'\u001b[0m,\n",
              "                    \u001b[32m'type'\u001b[0m: \u001b[32m'tool_call'\u001b[0m\n",
              "                \u001b[1m}\u001b[0m\n",
              "            \u001b[1m}\u001b[0m,\n",
              "            \u001b[33mid\u001b[0m=\u001b[32m'b092e1ee23fd9d50792d10f2b6dcf2fc'\u001b[0m\n",
              "        \u001b[1m)\u001b[0m,\n",
              "    \u001b[1m)\u001b[0m\n",
              "\u001b[1m}\u001b[0m\n"
            ]
          },
          "metadata": {},
          "output_type": "display_data"
        },
        {
          "data": {
            "text/html": [
              "<pre style=\"white-space:pre;overflow-x:auto;line-height:normal;font-family:Menlo,'DejaVu Sans Mono',consolas,'Courier New',monospace\">\n",
              "\n",
              "</pre>\n"
            ],
            "text/plain": [
              "\n",
              "\n"
            ]
          },
          "metadata": {},
          "output_type": "display_data"
        }
      ],
      "source": [
        "from rich import print as rprint\n",
        "# Input\n",
        "initial_input = {\"messages\": []}\n",
        "\n",
        "# Thread\n",
        "thread = {\"configurable\": {\"thread_id\": \"1\"}}\n",
        "\n",
        "for event in graph.stream(initial_input, thread, stream_mode=\"updates\"):\n",
        "    rprint(event)\n",
        "    rprint(\"\\n\")"
      ]
    },
    {
      "cell_type": "markdown",
      "metadata": {
        "id": "_thhvniqndIG"
      },
      "source": [
        "`__interrupt__`가 구성되면, 사용자 확인을 위해 중단된 상황입니다."
      ]
    },
    {
      "cell_type": "code",
      "execution_count": 35,
      "metadata": {
        "id": "fJkvs6YrndIG"
      },
      "outputs": [
        {
          "name": "stdout",
          "output_type": "stream",
          "text": [
            "graph 현재 상황\n",
            "('human_review',)\n"
          ]
        }
      ],
      "source": [
        "print(\"graph 현재 상황\")\n",
        "print(graph.get_state(thread).next)"
      ]
    },
    {
      "cell_type": "markdown",
      "metadata": {
        "id": "Nl9L0zJzndIG"
      },
      "source": [
        "`human_review`에 기록된 값 중 하나를 입력하여 작업을 재개합니다.   \n",
        "`Command`의 resume으로 값을 보낼 수 있습니다.\n",
        "\n",
        "1. `{\"action\": \"continue\"}`\n",
        "2. `{\"action\": \"update\", \"data\": {\"query\": \"새로운 쿼리\"}}`\n",
        "3. `{\"action\": \"feedback\", \"data\": {\"query\": \"전달할 피드백 내용\"}}`"
      ]
    },
    {
      "cell_type": "markdown",
      "metadata": {
        "id": "0YEtPxGyndIH"
      },
      "source": [
        "### Continue\n",
        "run_tool으로 진행합니다."
      ]
    },
    {
      "cell_type": "code",
      "execution_count": 36,
      "metadata": {
        "id": "vJK8DWD6ndIH"
      },
      "outputs": [
        {
          "name": "stdout",
          "output_type": "stream",
          "text": [
            "Decision: continue \n",
            " Content: None\n",
            "{'human_review': None}\n",
            "\n",
            "\n",
            "{'run_tool': {'messages': [ToolMessage(content='[{\"title\": \"역삼역 카페 디저트 쿠키 맛집 커피 맛있는 미니말레 커피뢰스터\", \"link\": \"https://blog.naver.com/haha4090/223820807313\", \"description\": \"역삼역 카페 디저트 쿠키 맛집 커피 맛있는 미니말레 커피뢰스터 안녕하세요! 오늘은 얼마 전 친구들과 다녀왔던 역삼역 커피 맛집을 소개해 드릴게요! 미니말레 커피뢰스터는 직접 로스팅한 스페셜티 커피와... \", \"postdate\": \"20250403\"}, {\"title\": \"역삼역 카페 미니말레 커피뢰스터 커피 맛집 데이트\", \"link\": \"https://blog.naver.com/grb_080913/224003692668\", \"description\": \"있어 역삼역 커피 맛집다운 퀄리티라는 생각이 들었다 견과류의 고소함과 단맛이 느껴지는 맛... 방문해보세요  #역삼맛집 #카페 #카페추천 #맛집 #맛집추천 #역삼카페 #역삼역카페 #역삼역커피 #역삼역데이트... \", \"postdate\": \"20250911\"}, {\"title\": \"역삼역 커피 미니말레 커피뢰스터 스페셜티 카페 수제디저트 맛집\", \"link\": \"https://blog.naver.com/aboutclaire/223232474188\", \"description\": \"만나러 역삼 방문 맛있는 역삼역 커피 마실만한 곳 찾아보다가 평소 가보고 싶었던 카페 미니말레... 싱글오리진) 커피 소비국 1위 핀란드에서 맛본 라테를 재현한 역삼역 커피 맛집의 헬싱키 라떼는 미니말레에... \", \"postdate\": \"20231010\"}, {\"title\": \"강남 감성 카페 역삼역 데이트로 좋은 커피 맛집 미니말레\", \"link\": \"https://blog.naver.com/rlaalsgml357/223551625534\", \"description\": \"있는 역삼역 커피 맛집 미니말레는 이미 동네 주민분들께 사랑받는 인증된 맛집이었어요 역삼역 커피숍 미니말레는 역 6번출구와 가까워서 도보 5분 안쪽으로 도착할 수 있어요 심플한 디자인의 간판이 오히려... \", \"postdate\": \"20240818\"}, {\"title\": \"강남 역삼역 카페 그릭요거트 맛집 베이글 커피까지 맛있는... \", \"link\": \"https://blog.naver.com/cozcos/223816631510\", \"description\": \"강남 역삼역 그릭요거트 맛집 근데 이제 직접 먹어보니 커피부터 베이글 그래놀라까지 맛있는거... 추천합니다 #강남카페 #역삼역카페 #역삼역그릭요거트 #역삼역커피맛집 #역삼역다이어트식 #역삼역그래놀라... \", \"postdate\": \"20250331\"}, {\"title\": \"역삼역 카페 추천 커피 데이트 미니말레\", \"link\": \"https://blog.naver.com/mister__travel/223902813244\", \"description\": \"많은 역삼역 커피 맛집인데요. 그럴만한 게 전문적으로 직접 로스팅한 스페셜티 커피를 3,000원 대의... 보시길 추천드려요 :) #역삼역카페추천 #역삼역커피 #역삼역데이트 #역삼역카페 #미니말레 #미니말레역삼점\", \"postdate\": \"20250618\"}, {\"title\": \"역삼역 주차 카페 수수커피 강남N타워점 수제 디저트 맛집\", \"link\": \"https://blog.naver.com/ubuzzu/223935084393\", \"description\": \"수수커피 강남N타워점은 역삼역 4번 출구에서 도보로 3분, 강남역 12번 출구에서 도보로 6분 거리에... - 영업시간 : 평일 08:00 ~ 21:50 주말 10:00 ~ 20:50 - 전화번호 : 0507-1358-0941 - 매장주소 : 서울 강남구 역삼동 648-9... \", \"postdate\": \"20250716\"}, {\"title\": \"역삼역 카페 스페셜티 커피 데이트 미니말레 추천해요\", \"link\": \"https://blog.naver.com/mj100600/223876251054\", \"description\": \"역삼역 카페 추천 ㅣ역삼역 커피 미니말레 커피뢰스터 역삼점 커피점수 80점이상의 스페셜티만을 직접... 달기로 커피와 찰떡궁합이었어요. 음식의 하모니가 정말 좋았던 역삼역 카페로 강남 디저트 맛집으로... \", \"postdate\": \"20250525\"}, {\"title\": \"역삼역 카페 월드챔피언 바리스타의 커피 디저트 맛집... \", \"link\": \"https://blog.naver.com/lee_song_/223548920910\", \"description\": \"갔다가 역삼역 주변 커피 디저트 맛집을 찾아내서 솔직후기를 얼른 공유해드릴께요 영업시간 역삼역... 주차는 카페 근처에 유료 주차장 (역삼현대벤처텔, AC호텔 주차장 60분 6000원 동일)이 있어 편리하게... \", \"postdate\": \"20240815\"}, {\"title\": \"역삼역 카페 재방문한 커피 맛집 미니말레 커피뢰스터\", \"link\": \"https://blog.naver.com/hatvo/223530811584\", \"description\": \"역삼역 카페 재방문한 커피 맛집 미니말레 커피뢰스터 지난번에 미니말레 교대점 가고 극찬을... 있더라고요 역삼역 커피 맛집 원하시면 미니말레 커피뢰스터 한 번 방문 해보시는 것도 좋을 것 같아요 저는... \", \"postdate\": \"20240730\"}]', name='search_blogs', id='b78b6111-ad70-4303-a40c-235c8825ca90', tool_call_id='b2f8916e-62e5-4c9f-b875-1856f498b42b')]}}\n",
            "\n",
            "\n",
            "{'agent': {'messages': [AIMessage(content=[{'type': 'text', 'text': '역삼역 근처 커피 맛집으로는 **미니말레 커피뢰스터**와 **수수커피 강남N타워점**이 있습니다.\\n\\n특히 미니말레 커피뢰스터는 직접 로스팅한 스페셜티 커피와 핀란드식 라떼인 헬싱키 라떼가 유명하며, 동네 주민들에게도 사랑받는 곳으로 여러 블로그에서 추천하고 있습니다. 역삼역 6번 출구에서 도보 5분 이내 거리에 위치해 있습니다.\\n\\n수수커피 강남N타워점은 역삼역 4번 출구에서 도보 3분 거리에 있으며, 커피 외에도 수제 디저트가 맛있다고 합니다.\\n\\n감사합니다! 챗봇을 종료합니다!', 'extras': {'signature': 'Co0FAdHtim/Uesd7xFwIvE8RMZoof62hEIYbuxjwthyaUwFlmw3bR+IIO1tFBNrbNggwYPtiEtb+/c9t+Q3AAKVbWIoNK4QutH82xbllUvz61teKblvTQLtQ+dJMEnUA1vuj+Xo/6hEltSOv++5FzE1w2lG9u786u2rP0Tt0aP76+iV/hjqFiV+WH8y6R3MGPeDIdFWtyN7w9OoY7W918DRgeJtkSq4iFDIBpZAMFwDE8PX9O/JNFUouJHfsQ+9pPRdUbV5jf/NOuftXKIHXOoIcN+H7U0b1brNlE+vuYJWjC68mcb8g22bN2zkdqGMGK+UhxLneRzFkKK6seDvs1JzQJOhebLLKx+EYoP+RfG4CMa3+vy4dQvEzT/xDw4CE58WWwO5G2Ghs5FS3tNUhPcuWmPQ+SSXXeSHBkx01VXipWgdl6kIfxw39yfjyfx/DRNphZdDo5ohBDFo+Q/tszLvsMIa/qj77kdBKmL6I+VXLjLtTK+838SvONVfzFHXigiP37QrXuiLlVItH7DSTkLIVhPhWmYWSwysAGTlySnYrA2sj6AtmBrTHbyTuUhfypxCs9OZMdjbfOYV8mWfsXxN1J/Fnp2WyaA5MrpkJguapMH/GISMo0e43BzxRqFHzrGooiEFwfqGVp4M8VZGk+lQtxmUrIb2IJ8E7FCnlJ0adaMoYjYBSQVoXfp4VWMX+mqbuo/xI3eCfCAw8m2l9vA5/EXKKkcz/TrBZMkVMZ02axd1sVKgHm2iTi7vppsW8jIlqH6Mydv4vl5q0qVWPy6Er8f/0+g/f3Z8P2/69Io7PBnbYLIo5xGussFlwv0DqgqWLxVyh/FAiAOQfCNBHPew9iD2UJ0qkWkvPRND3aN0='}}], additional_kwargs={}, response_metadata={'prompt_feedback': {'block_reason': 0, 'safety_ratings': []}, 'finish_reason': 'STOP', 'model_name': 'gemini-2.5-flash', 'safety_ratings': [], 'grounding_metadata': {}, 'model_provider': 'google_genai'}, id='lc_run--db8a982c-54a3-4dca-8c6e-b44a892f09c9-0', usage_metadata={'input_tokens': 1720, 'output_tokens': 314, 'total_tokens': 2034, 'input_token_details': {'cache_read': 0}, 'output_token_details': {'reasoning': 148}})]}}\n",
            "\n",
            "\n"
          ]
        }
      ],
      "source": [
        "for event in graph.stream(\n",
        "\n",
        "    Command(resume={\"action\": \"continue\"}),\n",
        "    thread,\n",
        "    stream_mode=\"updates\",\n",
        "):\n",
        "    print(event)\n",
        "    print(\"\\n\")"
      ]
    },
    {
      "cell_type": "markdown",
      "metadata": {
        "id": "so0kTEXrndIH"
      },
      "source": [
        "### Update\n",
        "Command로 전달되는 값을 받아 갱신합니다.   \n",
        "검색 쿼리를 수정하기로 설정했으므로, 바뀐 쿼리를 전달하게 됩니다."
      ]
    },
    {
      "cell_type": "code",
      "execution_count": 37,
      "metadata": {
        "id": "EVeQ0I25ndIH"
      },
      "outputs": [
        {
          "name": "stdout",
          "output_type": "stream",
          "text": [
            "{'get_user_input': {'messages': [HumanMessage(content='이번 달 새로 개봉한 영화 알려줘', additional_kwargs={}, response_metadata={}, id='86ea60e9-64b4-44b8-a121-bfcc3e052d41')]}}\n",
            "\n",
            "\n",
            "{'agent': {'messages': [AIMessage(content='', additional_kwargs={'function_call': {'name': 'search_blogs', 'arguments': '{\"display\": 5, \"sort\": \"date\", \"query\": \"\\\\uc774\\\\ubc88 \\\\ub2ec \\\\uc0c8\\\\ub85c \\\\uac1c\\\\ubd09\\\\ud55c \\\\uc601\\\\ud654\"}'}}, response_metadata={'prompt_feedback': {'block_reason': 0, 'safety_ratings': []}, 'finish_reason': 'STOP', 'model_name': 'gemini-2.5-flash', 'safety_ratings': [], 'grounding_metadata': {}, 'model_provider': 'google_genai'}, id='lc_run--b82dd54e-8d6b-4122-9e99-1ab689fef7fa-0', tool_calls=[{'name': 'search_blogs', 'args': {'display': 5, 'sort': 'date', 'query': '이번 달 새로 개봉한 영화'}, 'id': '2cc6f99b-7b7a-40c4-9171-7e7cf45c8182', 'type': 'tool_call'}], usage_metadata={'input_tokens': 185, 'output_tokens': 250, 'total_tokens': 435, 'input_token_details': {'cache_read': 0}, 'output_token_details': {'reasoning': 219}})]}}\n",
            "\n",
            "\n",
            "{'__interrupt__': (Interrupt(value={'question': '이대로 진행할까요?', 'tool_call': {'name': 'search_blogs', 'args': {'display': 5, 'sort': 'date', 'query': '이번 달 새로 개봉한 영화'}, 'id': '2cc6f99b-7b7a-40c4-9171-7e7cf45c8182', 'type': 'tool_call'}}, id='3b2a9ac5b2d46fcffd854632329c6767'),)}\n",
            "\n",
            "\n"
          ]
        }
      ],
      "source": [
        "thread = {\"configurable\": {\"thread_id\": \"2\"}}\n",
        "\n",
        "for event in graph.stream(initial_input, thread, stream_mode=\"updates\"):\n",
        "    print(event)\n",
        "    print(\"\\n\")"
      ]
    },
    {
      "cell_type": "code",
      "execution_count": 38,
      "metadata": {
        "id": "8Ee2-2pzndIH"
      },
      "outputs": [
        {
          "name": "stdout",
          "output_type": "stream",
          "text": [
            "Decision: update \n",
            " Content: {'query': '2025년 10월 개봉 영화'}\n",
            "{'human_review': {'messages': [{'role': 'ai', 'content': '', 'tool_calls': [{'id': '2cc6f99b-7b7a-40c4-9171-7e7cf45c8182', 'name': 'search_blogs', 'args': {'query': '2025년 10월 개봉 영화'}}], 'id': 'lc_run--b82dd54e-8d6b-4122-9e99-1ab689fef7fa-0'}]}}\n",
            "\n",
            "\n",
            "{'run_tool': {'messages': [ToolMessage(content='[{\"title\": \"영화 보스 2025년 10월 개봉 영화\", \"link\": \"https://blog.naver.com/jhy703011/224050292149\", \"description\": \"https://naver.me/Fm3AZoKh #영화보스 #2025년영화 #코미디 #액션 #줄거리 #리뷰 #개봉일 #나무위키 #영화추천 #보스 #10월개봉영화 #보스영화 #코미디영화 #코메디영화 #한국영화보스 #한국코미디영화... \", \"postdate\": \"20251022\"}, {\"title\": \"2025년 10월 개봉 영화 기대작\", \"link\": \"https://blog.naver.com/luckyhyh/224022122539\", \"description\": \"사진출처:네이버영화, 예고편캡쳐, IMDB #2025년10월개봉작 #2025년10월개봉영화 #2025년10월영화 #2025년10월개봉예정영화 #2025년10월개봉예정기대작 #개봉예정작 #10월개봉영화\", \"postdate\": \"20250926\"}, {\"title\": \"2025년 10월 개봉예정영화... 뭐가 좀 많네 싶은 10월 개봉 영화\", \"link\": \"https://blog.naver.com/lubkhaki/224022855659\", \"description\": \"2025년 10월 개봉예정영화 오랜만에 개봉작이 많다 많아~ 9월의 마지막 주 개봉 영화 중 찜한 것은 이미 다 챙겨 봤으니, 이제 10월을 준비할 때!! 마침 10월 1일이 수요일이라 첫 주 개봉 영화를 달의 첫날에 바로... \", \"postdate\": \"20250926\"}, {\"title\": \"2025년 10월 개봉 영화 ‘세계의 주인’｜서수빈의 성장... \", \"link\": \"https://blog.naver.com/juhaha6274/224051224016\", \"description\": \"영화 ‘세계의 주인’은 바로 그 여정을 담는다. 기본 정보 제목: 세계의 주인(대한민국) 상영시간: 119분 개봉일: 2025년 10월 22일 감독: 윤가은 출연: 서수빈, 장혜진 등 장르: 청소년 드라마 · 성장 이야기 줄거리... \", \"postdate\": \"20251023\"}, {\"title\": \"2025년 10월 개봉영화 모르면 극장서 갈등 생깁니다\", \"link\": \"https://blog.naver.com/hellomijju/224025942487\", \"description\": \"10월 영화 뭐 볼지 아직도 모르시죠? 시간 아깝게 고르지 말고 지금 확인하세요 2025년 10월 극장가는 또... 큰 영화 좋아하신다면 강추 2025년 10월 개봉영화 장르별로 진짜 다양하죠 근데 그중에서도 이렇게나... \", \"postdate\": \"20250929\"}, {\"title\": \"미스터 반이 추천하는 2025년 10월 개봉영화\", \"link\": \"https://amkorinstory.com/7156\", \"description\": \"Culture/문화로 배우다 미스터 반이 추천하는 2025년 10월 개봉영화 by 앰코인스토리.. 2025. 10. 7. [추천 MOVIE] 2025년 10월에 개봉하는 영화 기대작 추천영화 NO.1 ▶ 보스 사진출처 : 다음 (search.daum.net... \", \"postdate\": \"20251007\"}, {\"title\": \"파나히 &lt;그저 사고였을 뿐&gt;, 2025년 10월 개봉 영화 기대작 5편\", \"link\": \"https://blog.naver.com/just_do_it2023/224016845090\", \"description\": \"2025년 10월 개봉 영화 5편 세계적 거장과 신진 감독들의 신작 2025년 10월 개봉 영화 5편 2025년 10월... 베니스영화제 볼피컵 여우주연상을 수상했다. 작년 수상 이후 국내 개봉까지 1년 이상이 걸린 만큼, 관객들의... \", \"postdate\": \"20250922\"}, {\"title\": \"2025년 10월 개봉영화 기대작 BEST 11 (ft 넷플릭스)\", \"link\": \"https://blog.naver.com/teruloved/224023910703\", \"description\": \"2025년 10월 개봉영화 기대작 2025년 10월 개봉예정영화들을 알아보자! #10월개봉영화의 화두는 마침내 공개되는 \\'#추석영화\\'라 할 수 있다. 10월 극장가는 10월 초 개천절-추석-한글날로 이어지는 장기 연휴... \", \"postdate\": \"20250927\"}, {\"title\": \"2025년 10월 개봉영화  추천\", \"link\": \"https://blog.naver.com/yunsunga07/224006221365\", \"description\": \"2025년 10월 개봉영화 추천 추석으로 인해 즐거운 연휴가 기다리는 2025년 10월 개봉 예정 추천작 으로 즐거움을 더해보세요. 2025년 10월 개봉 영화 추천 편지를 찾아 이어지는 마법같은 시간 연의 편지 영화... \", \"postdate\": \"20250913\"}, {\"title\": \"이수현부터 디카프리오까지 2025년 10월 첫째주 개봉영화 5편\", \"link\": \"https://blog.naver.com/bariyoone/224022022490\", \"description\": \"이미지출처 @네이버영화 ️ 2025년 10월 첫째주 영화관 개봉영화 5편 글 바리윤 10월 3일부터 본격적인... (저는 후자입니다) 긴 연휴에 편안하게 극장에서 볼 수 있는 10월 첫째주 개봉 예정작 5편을... \", \"postdate\": \"20250926\"}]', name='search_blogs', id='fcb22b57-3908-49ff-b83e-2287a2f322c6', tool_call_id='2cc6f99b-7b7a-40c4-9171-7e7cf45c8182')]}}\n",
            "\n",
            "\n",
            "{'agent': {'messages': [AIMessage(content=[{'type': 'text', 'text': '2025년 10월에 개봉하는 영화들에 대한 정보입니다.\\n\\n*   **영화 보스**: 2025년 10월 22일 개봉 예정인 코미디/액션 한국 영화입니다.\\n*   **세계의 주인**: 2025년 10월 22일 개봉 예정인 청소년 드라마/성장 이야기 장르의 한국 영화입니다.\\n*   **그저 사고였을 뿐**: 2025년 10월 개봉 예정인 영화입니다.\\n*   **연의 편지**: 2025년 10월 개봉 예정인 영화입니다.\\n\\n2025년 10월에는 추석, 개천절, 한글날 등으로 이어지는 긴 연휴 덕분에 다양한 장르의 영화들이 많이 개봉할 예정이라고 합니다.\\n\\n감사합니다! 챗봇을 종료합니다!', 'extras': {'signature': 'CqsLAdHtim9ZOpnMnms/rJzAeLajaz5cxCWeg+1OXmbYZZxm/KE3KTnrPAJFOrh1HVvnjc8Cvl9Mi0RT4jxz/6zefLULE3i7BE3wDW8x+e4IIocfWNLFuFVQHsdzee8foQJbF5DVmN9YW3VaBVWx0Fbd3eqY5b1z3apsx9zVgI2P9szcWK9IrAjdPYPiClRB5mNBMFWzjE5DmfUyoR5sJEFLqxcKeVq03xeCE7HDrLTLlqFfMuNjvRdwvTnZ0m9yhY/2r0LANVawBhdP5Pv6zgU95YvnDzyS+Iaxa/0hSiLf/6loNapqCZDkMwXC2Sf5DAp8N2pLnCYvYooHdPWwehB/yWqUkGLkGjYED+odYkh6kujLY2yP2Xi3FiiaLxcF9o8Uayf9Od3fQ2RBKLoGLMCGoP1p0J4OBr3VO/hUFMTYN15fMKEXc1GCZJT51WhGzCtBeHEsqU4e8DY1oB0dlIeqctYRv5VtbBAsp+nsmfyxB0nKerAcWvpbjY7fCjVwyweu2QrBJnlsb1ccuhDtMrKYrLahFWXaZdDzQb8abrSVAz/PAAVqBwjhAxsEFxYoSVcuO9+Z3BCmjrCo7H4f6yaTnH6NwMMLjCfg0cEeLEK/Yy0SrCDFSpv0cYQd7pUttEe7poFc01TGd05ha56m0cOtDn6gaYgoCfoya7PTgXZgW5tPd8Ij9anqEjhX0W3Ryq6+PW1VDI9O/Q4l7cXf+yE16a4ujKoSI+xiE3ftNXB49wbOtw13Tuk1JM+zKHiFVhrxJuUyteukuXae+NZe04gy6KqEcRfwn8zCRac6q93Ctppa4E5bO95N9+OJWZ1Yo/Ps9XK22iLEDvP0V1cnSPTLb7BL5pZoVN9ALwor8LEm/m52kDOWSUUoat3AR4szyzk2FOtKNkqLFjJCCdend9FV8CQhCBNbEjgwtttL+HSHnS0a6UqG8SEmg1AL3nyXvZWA74N2697ldp61rI+vhcmpFkvum5BGeiEg1JS3CgsYpktj7gE/DoYqyvvDBeoKo7F6L1oIgLMWQsTLa39C6DhpUnWj5w3lYaVGhFYFRI/T0DPIDhrpqTWlW12OS14nPZZ7Ftuasw2U3raGcxAx/t0cwuEfb1M0Uz2i7yNSchikNMBpYMe7IFbME7fbBJVs/jgt+W242MEknAXV9NtUQc3AAZjebVxY+nMVAMwJKUmV/M9KYrpJdiniDD5YeJyO5PQf31V6EF5txmyn+CVAVlZMBuv1j08ULZ3G77sVPPKnrEddwvhdydSGRnq2NmD6QJzpPTq+iatR9pLvGQbFGmxwVw/o/d+jypN7WYofURrfzpHSxHwB+zRduG0XLiSG4bWXMXkczD7+SG4Ri9XNS5HT8/ja7tT1J4K740lAyvyQuZUvUy1x3ja7et6725CqFHzp01pU6vpr697LR8/aXXaFXv/mybA3Un4meXG+rYZao2BWW/scv+ZT27OVSFzwAk2+xjHexgp3WZiyMRBIuljPw3+L3Lewn/2F2+fCSeyyvzxotUkzn9N52i+m4U6jeE2uPHsT0ssoKlqBZURUAJjWKJV7XxcAb+XVY9/d6dtdhBDhsY8cBX4f9OI695rJstB12t/64MfH0NoEWZdLtAvgye3YMfy1H30ZlaQE+KSUclz4Iyz2bT+MshWtzsuQNC4mWD0YjFJJoZFQw+AHAGDrhSr8zDUv/rJ0tjLlyriWLWW0IZ+xvjGuIExIy3Tul2p7grFEGsQ72fAN1awORkfeETxF46juxw2H+zSHrdZi41XJQgdOXFHCcVg/fKa08UEPXUMad+HfQpoFjNdDd/Z/NNBkpfAZiyqBQBiH5OwOdolvAVVKx8MtUaX7TKytvonwlqHW+EbXlnwdF075mzlWMb4CS43WJAcpTZfaVUhq+jDRJ+puGZTOgxg63Ncx2w278nG4Smb0VMi72oc='}}], additional_kwargs={}, response_metadata={'prompt_feedback': {'block_reason': 0, 'safety_ratings': []}, 'finish_reason': 'STOP', 'model_name': 'gemini-2.5-flash', 'safety_ratings': [], 'grounding_metadata': {}, 'model_provider': 'google_genai'}, id='lc_run--e1dcb04f-faaa-4de9-abb1-2e7b58ff9403-0', usage_metadata={'input_tokens': 1824, 'output_tokens': 549, 'total_tokens': 2373, 'input_token_details': {'cache_read': 0}, 'output_token_details': {'reasoning': 345}})]}}\n",
            "\n",
            "\n"
          ]
        }
      ],
      "source": [
        "for event in graph.stream(\n",
        "    Command(resume={\"action\": \"update\", \"data\": {\"query\": \"2025년 10월 개봉 영화\"}}),\n",
        "    thread,\n",
        "    stream_mode=\"updates\",\n",
        "):\n",
        "    print(event)\n",
        "    print(\"\\n\")"
      ]
    },
    {
      "cell_type": "markdown",
      "metadata": {
        "id": "jj0mB9XOndIH"
      },
      "source": [
        "### feedback   \n",
        "구현 방식에 따라, 자연어로 구성된 피드백을 전달하면 이를 반영하여 수정할 수도 있습니다."
      ]
    },
    {
      "cell_type": "code",
      "execution_count": 41,
      "metadata": {
        "id": "QSlB7RZZndIH"
      },
      "outputs": [
        {
          "name": "stdout",
          "output_type": "stream",
          "text": [
            "{'get_user_input': {'messages': [HumanMessage(content='판타지 시리즈로 넷플릭스에서 괜찮은 작품 추천해줘', additional_kwargs={}, response_metadata={}, id='28b8d815-b34d-4540-80b7-0cd2ab2015a2')]}}\n",
            "\n",
            "\n",
            "{'agent': {'messages': [AIMessage(content=[{'type': 'text', 'text': '넷플릭스 판타지 시리즈 추천에 대한 블로그 글들을 검색해 보겠습니다. 잠시만 기다려 주세요!', 'extras': {'signature': 'CocOAdHtim+ckSJxNbKZif1ufGR0s+dXg/H7fk6OPKLu6Dcx9mpXCQC9C1JLcBItwfOYegG9ESgd5x44e7O3mS8dMlMogSw6xPT4s2qtmPan6DmMLGR5IkWpXniFD5agpkH1QY4NHj395m6R2DglIOdeKxZsXYRI+yguWzH9Jcex9XCCa6mi+C5sAcpBZzroBR+39eolFcOnHngyvI6vwAgB1hasSXGjOC8kA22xS6gf5wM85Y76rSyuAfHxhpEnQL4ABi6k8V9EWs7bOPk5WXExFFe5PRwKdPzY+F56j0d+Xb8s/lq8nKfXV8bX//Sa27J3nZWkO2Rpq5zlf4RQ6WNpIaRuD9E0Z6MgsaISkzTir1PK2tw7y9cWym6yyUDTC+yXtScRcQ15w2x9mEv4l0u5XLuAlQq1lpTuYrdd46UaD45GKMxHG3x2R73/MTD+niKOuaho2Z2klqOTLZpAc+ImqUMdbsEKGqf3VY4QorGddN60a1SBsSsG6animcqspjvRBX39MauWtgcKKqVToZUJdcEYIe5X59kWsKk1/y8gY4ti1ZKp3ekSr85bMptxLFLWv8nK0V8y801ythEyhZtqhwn3/rvSaN/6whtNpp3h4J4YHofJ/Ve4w+bHPcWV8bKFJIjOlxINYxQYwdQQ+OOQIwk9gcwA4ruRy77b73sqg3RZ/wtI8FmkPGyd8dAwcyMFfa2JDKlUSScvTJp385LmZVNx+zkGMCfPFSwDMolTEGthaPyZSWJPxydIct2aipcz71tTqW9HOc5tMajV/1eX2xebJk2UGj0ZBSLjD9rMxJsWv/y3o4kPgDRQWRmHo8k6sxOhmHoQdzKKTb3zcsMIImzk8wcxlJTSLKwcCuseZtLJumCc8MRr0/xGt/MJybBAadHzOImFns72cFTsDJKdBADXKt+cxYtHoTITeXhC0SK6MpgQnj+o997E7R40IdMMXBPxr2KsVETXUTvaeICfc4/Jc3BKWQn3wZ8QD+0CqEx49XvEdNsuHhG4RWW4NNpvRBt+WU+DxeVwhYI38pNvN8sheKLvuoFyUT+kxXYWKvFJgOuD8X8d2EXiWfXL3Is7wYzHSlpWHzUKehCcvyzd5TD8RZ2modkimJiZtXi8nyzbgD5MLDJBzqlnUAbtN87GM3bp3jv3DqvGkQ8WRB8oHzppxQYX3qrJjWSwoRaygamZgnyZCZ+u12QdhO1vmXRi3lSMyvJ4TiHnS83wdvIZ1fOCbnUsgNC5cjkqYE5Bxo6IO9q1NYXVPfTXokYo4OJ2kbdXTwxhpDxWgZBhnUqwZdC+7/CfVvUBrukuR6ojvDmiquProRmnndTtkZxgRQRq49we/R5SjgFpxvOGy/MPjwfjqaVzPoXk8ZXcAnmB8Nl/LoYW3rcZe/yKs4FMmAXikkU0MEejenXXFHNgeyQNA0oc3f9BS/fdwtW1WX1EVyU7xzFIK5CSbhMQCrNrECrWduZiLYqlLMcji0IZU+P/GD5P+m357WhDSwrjXM9eI9voO91esLrDMRxZPc9Jj6XkOrhN7PoEdU5l+yMFA76eLQjCG+JsG/4hsin+vduOninSLhhUUfYP3wqamAy9Can9aEPHvmAZTI4PlEjYLhZoIhuqsMKUWe1gcz3jSki99bOXp4fw3QUefCwhep6D/KbxUOSOwvHSzXJC8BmnwFMQBQH3FxUtzpipDoTTjrJvI6+PbBhdN+FvoLuBH+mXky7Lxw2cXoEOjl7Q4bNpZHCfJr1qMtpNkujPWOt0olOG46iH+Rsu99MCd0VRhb6TwIJUYYK52cWfWlaJoQAgUiU43q09tpTiGfzPb3Zs5CvPCUf7OBdvdxrKz9YnDxfJ8Onl387RlJmnQVhNhV0hkqlIeCnkHLUqpub+dLjUV6N0NfJj7NDM8T3bdFPDrx6r2Bh2yUg0vGvzkFngd0R2sSiexeBm+dlZEpobhbKaLhvPcNdS+977nd2LZKhdwGyFmch7aAiYUCdk1JUH76Q+4ZLO5QAADKqS8frY8VazKc2t2ciNZzAYsS0dguNp5k9ISo4EI1QmDqCvcgLFxGkefLQJhOrnf+lEdTkweKOa637or3V3jdQVMMHSpzG0nOWtpwdGNko3yRCT0tuGeCKZ2QDAhwazM+0NKtDDqVv0qDpl3RHl6XUCTGe+WZh4iuIR1aK27ah5jp7OiynEGfXZ5NBd9L4ievseK7A0SdVImJsju211EcwUjGGNNszBJUMBoFHZ9Fec8CjwHZmI65dZUrc8fTMHJrVmX87yE93nLjhTdfYHYkeP7t2tv3cn+OS21WiyaLSTMz7nacFY6XPQ7nXayuyRPzsclnLlh0/w555UlTuJT7v5Jn1hCabDKdVZUqjeoqlOga7CjW+Elg/4vI0PSeNQ9Bcp+KY='}}], additional_kwargs={'function_call': {'name': 'search_blogs', 'arguments': '{\"display\": 5, \"query\": \"\\\\ub137\\\\ud50c\\\\ub9ad\\\\uc2a4 \\\\ud310\\\\ud0c0\\\\uc9c0 \\\\uc2dc\\\\ub9ac\\\\uc988 \\\\ucd94\\\\ucc9c\"}'}}, response_metadata={'prompt_feedback': {'block_reason': 0, 'safety_ratings': []}, 'finish_reason': 'STOP', 'model_name': 'gemini-2.5-flash', 'safety_ratings': [], 'grounding_metadata': {}, 'model_provider': 'google_genai'}, id='lc_run--ae9f8f14-3226-4624-a6c0-eeb205faf5d3-0', tool_calls=[{'name': 'search_blogs', 'args': {'display': 5, 'query': '넷플릭스 판타지 시리즈 추천'}, 'id': '5d770976-8104-40c0-96c8-5eb9fd6698ef', 'type': 'tool_call'}], usage_metadata={'input_tokens': 193, 'output_tokens': 447, 'total_tokens': 640, 'input_token_details': {'cache_read': 0}, 'output_token_details': {'reasoning': 392}})]}}\n",
            "\n",
            "\n",
            "{'__interrupt__': (Interrupt(value={'question': '이대로 진행할까요?', 'tool_call': {'name': 'search_blogs', 'args': {'display': 5, 'query': '넷플릭스 판타지 시리즈 추천'}, 'id': '5d770976-8104-40c0-96c8-5eb9fd6698ef', 'type': 'tool_call'}}, id='f4d2c1670312cc6ce0c32993f1734a96'),)}\n",
            "\n",
            "\n"
          ]
        }
      ],
      "source": [
        "thread = {\"configurable\": {\"thread_id\": \"4\"}}\n",
        "\n",
        "for event in graph.stream(initial_input, thread, stream_mode=\"updates\"):\n",
        "    print(event)\n",
        "    print(\"\\n\")"
      ]
    },
    {
      "cell_type": "code",
      "execution_count": 42,
      "metadata": {
        "id": "MDQNIVcAndIH"
      },
      "outputs": [
        {
          "name": "stdout",
          "output_type": "stream",
          "text": [
            "{'messages': [HumanMessage(content='판타지 시리즈로 넷플릭스에서 괜찮은 작품 추천해줘', additional_kwargs={}, response_metadata={}, id='28b8d815-b34d-4540-80b7-0cd2ab2015a2'), AIMessage(content=[{'type': 'text', 'text': '넷플릭스 판타지 시리즈 추천에 대한 블로그 글들을 검색해 보겠습니다. 잠시만 기다려 주세요!', 'extras': {'signature': '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'}}], additional_kwargs={'function_call': {'name': 'search_blogs', 'arguments': '{\"display\": 5, \"query\": \"\\\\ub137\\\\ud50c\\\\ub9ad\\\\uc2a4 \\\\ud310\\\\ud0c0\\\\uc9c0 \\\\uc2dc\\\\ub9ac\\\\uc988 \\\\ucd94\\\\ucc9c\"}'}}, response_metadata={'prompt_feedback': {'block_reason': 0, 'safety_ratings': []}, 'finish_reason': 'STOP', 'model_name': 'gemini-2.5-flash', 'safety_ratings': [], 'grounding_metadata': {}, 'model_provider': 'google_genai'}, id='lc_run--ae9f8f14-3226-4624-a6c0-eeb205faf5d3-0', tool_calls=[{'name': 'search_blogs', 'args': {'display': 5, 'query': '넷플릭스 판타지 시리즈 추천'}, 'id': '5d770976-8104-40c0-96c8-5eb9fd6698ef', 'type': 'tool_call'}], usage_metadata={'input_tokens': 193, 'output_tokens': 447, 'total_tokens': 640, 'input_token_details': {'cache_read': 0}, 'output_token_details': {'reasoning': 392}})]}\n",
            "\n",
            "\n",
            "Decision: feedback \n",
            " Content: 아냐, 왓챠에서 찾아볼래. 왓챠로 검색해봐.\n",
            "{'messages': [HumanMessage(content='판타지 시리즈로 넷플릭스에서 괜찮은 작품 추천해줘', additional_kwargs={}, response_metadata={}, id='28b8d815-b34d-4540-80b7-0cd2ab2015a2'), HumanMessage(content='아냐, 왓챠에서 찾아볼래. 왓챠로 검색해봐.', additional_kwargs={}, response_metadata={}, id='lc_run--ae9f8f14-3226-4624-a6c0-eeb205faf5d3-0')]}\n",
            "\n",
            "\n",
            "{'messages': [HumanMessage(content='판타지 시리즈로 넷플릭스에서 괜찮은 작품 추천해줘', additional_kwargs={}, response_metadata={}, id='28b8d815-b34d-4540-80b7-0cd2ab2015a2'), HumanMessage(content='아냐, 왓챠에서 찾아볼래. 왓챠로 검색해봐.', additional_kwargs={}, response_metadata={}, id='lc_run--ae9f8f14-3226-4624-a6c0-eeb205faf5d3-0'), AIMessage(content='', additional_kwargs={'function_call': {'name': 'search_blogs', 'arguments': '{\"query\": \"\\\\uc653\\\\ucc60 \\\\ud310\\\\ud0c0\\\\uc9c0 \\\\uc2dc\\\\ub9ac\\\\uc988 \\\\ucd94\\\\ucc9c\"}'}}, response_metadata={'prompt_feedback': {'block_reason': 0, 'safety_ratings': []}, 'finish_reason': 'STOP', 'model_name': 'gemini-2.5-flash', 'safety_ratings': [], 'grounding_metadata': {}, 'model_provider': 'google_genai'}, id='lc_run--7965177d-d133-4f61-a216-982c7464f375-0', tool_calls=[{'name': 'search_blogs', 'args': {'query': '왓챠 판타지 시리즈 추천'}, 'id': 'f305a617-57fe-45e5-b7b5-b1f3f354e90a', 'type': 'tool_call'}], usage_metadata={'input_tokens': 213, 'output_tokens': 141, 'total_tokens': 354, 'input_token_details': {'cache_read': 0}, 'output_token_details': {'reasoning': 120}})]}\n",
            "\n",
            "\n",
            "{'__interrupt__': (Interrupt(value={'question': '이대로 진행할까요?', 'tool_call': {'name': 'search_blogs', 'args': {'query': '왓챠 판타지 시리즈 추천'}, 'id': 'f305a617-57fe-45e5-b7b5-b1f3f354e90a', 'type': 'tool_call'}}, id='0f591223b8363ba51d52ee6e543383d0'),)}\n",
            "\n",
            "\n"
          ]
        }
      ],
      "source": [
        "for event in graph.stream(\n",
        "    Command(\n",
        "        resume={\n",
        "            \"action\": \"feedback\",\n",
        "            \"data\": \"아냐, 왓챠에서 찾아볼래. 왓챠로 검색해봐.\",\n",
        "        }\n",
        "    ),\n",
        "    thread,\n",
        "    stream_mode=\"values\",\n",
        "):\n",
        "    print(event)\n",
        "    print(\"\\n\")"
      ]
    },
    {
      "cell_type": "code",
      "execution_count": 43,
      "metadata": {
        "id": "_hsaKpcvndIH"
      },
      "outputs": [
        {
          "name": "stdout",
          "output_type": "stream",
          "text": [
            "다음 상태\n",
            "('human_review',)\n"
          ]
        }
      ],
      "source": [
        "# 다시 Agent로 전달되었으므로 다시 Interrupt 발생\n",
        "print(\"다음 상태\")\n",
        "print(graph.get_state(thread).next)"
      ]
    },
    {
      "cell_type": "code",
      "execution_count": 44,
      "metadata": {
        "id": "tcCytpvqndIH"
      },
      "outputs": [
        {
          "name": "stdout",
          "output_type": "stream",
          "text": [
            "Decision: continue \n",
            " Content: None\n",
            "{'human_review': None}\n",
            "\n",
            "\n",
            "{'run_tool': {'messages': [ToolMessage(content='[{\"title\": \"블러드 워 줄거리 결말 정보 왓챠 추천 판타지 액션 시리즈\", \"link\": \"https://blog.naver.com/i-83-love/223921818368\", \"description\": \"플레이, 왓챠 추천 해외 판타지 액션 시리즈 영화 언더월드: 블러드 워는 시리즈 사상 가장 격렬하면서 비극적인 전쟁의 결말을 그리고 있는 작품입니다. 뱀파이어와 라이칸 간의 전쟁이 극단적으로 격화된... \", \"postdate\": \"20250705\"}, {\"title\": \"왓챠에서 꼭 봐야할 판타지 영화 추천\", \"link\": \"https://blog.naver.com/musicalqxf8/223849555965\", \"description\": \"왓챠에서 꼭 봐야할 판타지 영화 추천 마법의 세계로의 초대 판타지 장르는 우리를 현실에서 벗어나 상상력을 자극하는 마법의 세계로 안내합니다. 내가 좋아하는 영화 중 하나는 \\'해리 포터\\' 시리즈입니다. 매년... \", \"postdate\": \"20250502\"}, {\"title\": \"해리포터시리즈순서 재개봉 영화 해외 판타지 추천 소설원작... \", \"link\": \"https://blog.naver.com/kyunghi39/223762478117\", \"description\": \"해리포터명대사 / 왓챠해리포터 / 시리즈영화 / 재개봉영화 / 해외판타지영화 해리포터시리즈순서... 판타지영화추천 / 판타지영화 / 티빙영화추천 / 웨이브영화추천 / 쿠팡플레이영화추천 / 어린이영화... \", \"postdate\": \"20250217\"}, {\"title\": \"티빙 왓챠 웨이브 퓨전 사극... 중국 판타지 정주행 드라마 추천\", \"link\": \"https://blog.naver.com/kws3128pdm/224040265092\", \"description\": \"투라대륙 시리즈 출연진(등장인물:) 샤오잔 선의 진역유 구심지 종진도 주주 고태우 外 그렇다면... 장르: 사극 로맨스, 무협 액션, 청춘 판타지 外 OTT: 왓챠 웨이브 티빙 추천! WETV 투라대륙(2021, 40부작:) 인생... \", \"postdate\": \"20251014\"}, {\"title\": \"꿀잼 판타지 영화 3편 추천: 넷플릭스 티빙 왓챠 애플티비... \", \"link\": \"https://blog.naver.com/cuttiecuttie/223677489057\", \"description\": \"71 관람등급 12+ 러닝타임 107분 장르 판타지 로맨스 어드벤처 출연진 마리야 포에체예브나 마트베이 리코프 OTT 스트리밍 티빙 왓챠 웨이브 키노라이츠 U+ 모바일tv 시리즈온 드래곤: 용의 신부 감독 인다르... \", \"postdate\": \"20241129\"}, {\"title\": \"영화 추천| SF, 판타지, 로맨스... 과거, 영화 추천, 넷플릭스, 왓챠\", \"link\": \"https://blog.naver.com/sociology14034/223623020990\", \"description\": \"해리포터 시리즈 (Harry Potter, 2001-2011) 호그와트 마법 학교를 배경으로 시간 여행이라는 소재를... 넷플릭스, 왓챠 에 대해 자주 묻는 질문 TOP 5 질문. 시간 여행 영화 추천| SF, 판타지, 로맨스 장르별 베스트... \", \"postdate\": \"20241017\"}, {\"title\": \"해리포터 시리즈 순서 OTT 판타지 명작 영화 추천\", \"link\": \"https://blog.naver.com/jaehee740/223484937985\", \"description\": \"마법사의 돌 러닝타임: 152분 개봉: 2001년 12월 14일 감독: 크리스 콜럼버스 왓챠피디아 평점: 4.3점 판타지 명작 영화 추천 &lt;해리포터&gt; 시리즈 순서의 첫 번째는 크리스 콜럼버스 감독의 \\'마법사의 돌\\'입니다.... \", \"postdate\": \"20240619\"}, {\"title\": \"왓챠에서 만나 볼 해리포터 시리즈 순서 [판타지 영화 추천]\", \"link\": \"https://blog.naver.com/hijames_/222461919521\", \"description\": \"해리포터 시리즈 순서 레전드 판타지 인생 영화 90년대생들의 마음에 설렘을 안겨주었던 인생 영화가... 해리포터시리즈순서 #해리포터보는순서 #영화해리포터 #왓챠해리포터 #왓챠영화추천 #왓챠영화... \", \"postdate\": \"20210808\"}, {\"title\": \"영화 반지의 제왕 시리즈 후기 (순서,피터잭슨,왓챠판타지추천)\", \"link\": \"https://blog.naver.com/junhyeok48/222507841140\", \"description\": \"인생영화 중 하나인 반지의 제왕 재탕만 몇번했는지 기억이 안날정도인데요 ㅋㅋ 시리즈 순서대로... 2001년 당시 해리포터와 같이 개봉하면서 그동안 생소했던 판타지라는 장르가 영화시장을 완전히... \", \"postdate\": \"20210922\"}, {\"title\": \"왓챠에서 볼 수 있는 시리즈 영화추천 10\", \"link\": \"https://blog.naver.com/okjoa012/222169721556\", \"description\": \"보내길 추천하고자 왓챠에서 볼 수 있는 시리즈 영화를 10개 모아봤다. 참고로 시리즈의 핵심 작품이... 재개봉 해리 포터 시리즈(총 8편) &lt;반지의 제왕&gt; 시리즈와 함께 전 세계를 휩쓴 판타지 시리즈다.... \", \"postdate\": \"20201211\"}]', name='search_blogs', id='eeff935d-d936-444d-83be-d974829e9864', tool_call_id='f305a617-57fe-45e5-b7b5-b1f3f354e90a')]}}\n",
            "\n",
            "\n",
            "{'agent': {'messages': [AIMessage(content=[{'type': 'text', 'text': '왓챠에서 볼 수 있는 판타지 시리즈로는 다음과 같은 작품들이 있습니다.\\n\\n*   **해리포터 시리즈**: 호그와트 마법 학교를 배경으로 한 유명한 판타지 시리즈입니다.\\n*   **반지의 제왕 시리즈**: 전 세계를 휩쓴 판타지 시리즈로, 여러 블로그에서 인생 영화로 언급됩니다.\\n*   **언더월드: 블러드 워**: 뱀파이어와 라이칸 간의 전쟁을 그린 판타지 액션 시리즈입니다.\\n*   **투라대륙**: 중국 드라마로, 사극 로맨스, 무협 액션, 청춘 판타지 장르를 포함합니다.\\n\\n이 외에도 다양한 판타지 영화들이 왓챠에 있으니 참고하시면 좋겠습니다.\\n\\n감사합니다! 챗봇을 종료합니다!', 'extras': {'signature': 'CooFAdHtim9F3zDbTKa4naFSCkcdcB18FBby29azBlZEWr0I/fwpdx/E43UyDEhDvYrGsMGT2J24ecLBRk474AUX+A9hJqfzI5kav10bgOXXgUuHjVKm65he4+06U7yau/Qvxn/XPMbhnkuVmJbN2tnX5lnUWj6cP1AzHH+mnUvGd0dMTsgBldvEC7aijYWvZPONedjTvbWan/9y1TN4fFb5vD1eWjA2tsInjEu22e6KHlKHB+snlKWzscv1ay8v0dvvDfFIW05o5CEHheYS0lzu+h6+Jly1Y3d/Nvn7H24gfb0gGzLhleYt54lVB5rw8ZRGRaGqRZiivz3c//1aEYzwwrUdCb4WPeo+FU440CphVl948eM6/9KbTUDvmwLxy8AXSJd7NtTCgrPAoqJDOvYbiW2/9mVbWoXGJ9dUy5RE4EYjMworJsvk0mHj4/Q/KJXFrj/+0zLOO1oYXKb+nXLo4sHiaTsbGIMr/OT8dUw7748zkDhmTnK47j9tEZDKHpT+usukjxF/MtuAeEZXXAzHaR+g8VK21XOQL8bU8HaG9PXmnDH8fQDvIlXc4a0BRkLyBmeyWgteYJIhKQ0VLGd5S/uE5Uc5nEO/TVqEvsnIovH5sL5DW9IEVfjvDGlASDv/h6bfeCswg80mk4bAq1n+3ZvbSUJKM9YnDApUUU5GQtzEE4+Cg+l2qPFMVfM2WnIdfz4KhlM/7eZbm8FTe9VZU8TtwLIewmxw0SlL1X1INVt3pcxlPKhKsoogbRYgmD+izlbSOzyExyLr2SrtJ25qM+kVr7YdlRMRuVbg8JbcVQfBNVTnuPqRZ/4BxnWXOCHu558q2KWcg5V9DnwfLI9q10XfvoFJl1BoKio='}}], additional_kwargs={}, response_metadata={'prompt_feedback': {'block_reason': 0, 'safety_ratings': []}, 'finish_reason': 'STOP', 'model_name': 'gemini-2.5-flash', 'safety_ratings': [], 'grounding_metadata': {}, 'model_provider': 'google_genai'}, id='lc_run--4c288536-5728-4db1-a047-cae662e02862-0', usage_metadata={'input_tokens': 1743, 'output_tokens': 318, 'total_tokens': 2061, 'input_token_details': {'cache_read': 0}, 'output_token_details': {'reasoning': 138}})]}}\n",
            "\n",
            "\n"
          ]
        }
      ],
      "source": [
        "for event in graph.stream(\n",
        "    Command(resume={\"action\": \"continue\"}),\n",
        "    thread,\n",
        "    stream_mode=\"updates\",\n",
        "):\n",
        "    print(event)\n",
        "    print(\"\\n\")"
      ]
    },
    {
      "cell_type": "markdown",
      "metadata": {
        "id": "kCEGQlxqrSWD"
      },
      "source": [
        "Langsmith (https://smith.langchain.com )에서 실행 결과를 확인할 수 있습니다."
      ]
    },
    {
      "cell_type": "code",
      "execution_count": null,
      "metadata": {
        "id": "k258S01vrRl0"
      },
      "outputs": [],
      "source": []
    }
  ],
  "metadata": {
    "colab": {
      "provenance": []
    },
    "kernelspec": {
      "display_name": ".venv",
      "language": "python",
      "name": "python3"
    },
    "language_info": {
      "codemirror_mode": {
        "name": "ipython",
        "version": 3
      },
      "file_extension": ".py",
      "mimetype": "text/x-python",
      "name": "python",
      "nbconvert_exporter": "python",
      "pygments_lexer": "ipython3",
      "version": "3.12.11"
    }
  },
  "nbformat": 4,
  "nbformat_minor": 0
}
