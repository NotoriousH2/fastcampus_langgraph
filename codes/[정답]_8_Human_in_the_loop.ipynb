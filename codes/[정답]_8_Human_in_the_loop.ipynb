{
  "cells": [
    {
      "cell_type": "markdown",
      "metadata": {
        "id": "vhqiOqBxndID"
      },
      "source": [
        "## [실습] Human-in-the-loop 구조 실행하기\n",
        "\n",
        "Human-in-the-loop는 LangGraph 어플리케이션을 작동중일 때, 그래프의 중간 과정에서 사용자의 응답을 요청하는 과정입니다.   \n",
        "\n",
        "`interrupt`를 특정 시점에 실행하면, 해당 시점에서 실행이 중단되는데요.    \n",
        "\n",
        "\n",
        "해당 노드에서 `Command(resume)`를 통해 재개할 수 있습니다.   \n",
        "\n",
        "또한, `Command(goto)`는 다른 위치로 이동하기 위해 사용됩니다."
      ]
    },
    {
      "cell_type": "code",
      "execution_count": null,
      "metadata": {
        "id": "aqvXCaKmndIE",
        "colab": {
          "base_uri": "https://localhost:8080/"
        },
        "outputId": "24eec5db-78a2-4b77-9c6d-f18e04d9a7f0"
      },
      "outputs": [
        {
          "output_type": "stream",
          "name": "stdout",
          "text": [
            "\u001b[2K     \u001b[90m━━━━━━━━━━━━━━━━━━━━━━━━━━━━━━━━━━━━━━━━\u001b[0m \u001b[32m91.0/91.0 kB\u001b[0m \u001b[31m1.5 MB/s\u001b[0m eta \u001b[36m0:00:00\u001b[0m\n",
            "\u001b[2K   \u001b[90m━━━━━━━━━━━━━━━━━━━━━━━━━━━━━━━━━━━━━━━━\u001b[0m \u001b[32m136.5/136.5 kB\u001b[0m \u001b[31m1.2 MB/s\u001b[0m eta \u001b[36m0:00:00\u001b[0m\n",
            "\u001b[2K   \u001b[90m━━━━━━━━━━━━━━━━━━━━━━━━━━━━━━━━━━━━━━━━\u001b[0m \u001b[32m1.0/1.0 MB\u001b[0m \u001b[31m11.6 MB/s\u001b[0m eta \u001b[36m0:00:00\u001b[0m\n",
            "\u001b[2K   \u001b[90m━━━━━━━━━━━━━━━━━━━━━━━━━━━━━━━━━━━━━━━━\u001b[0m \u001b[32m42.0/42.0 kB\u001b[0m \u001b[31m1.4 MB/s\u001b[0m eta \u001b[36m0:00:00\u001b[0m\n",
            "\u001b[2K   \u001b[90m━━━━━━━━━━━━━━━━━━━━━━━━━━━━━━━━━━━━━━━━\u001b[0m \u001b[32m43.8/43.8 kB\u001b[0m \u001b[31m845.3 kB/s\u001b[0m eta \u001b[36m0:00:00\u001b[0m\n",
            "\u001b[2K   \u001b[90m━━━━━━━━━━━━━━━━━━━━━━━━━━━━━━━━━━━━━━━━\u001b[0m \u001b[32m41.2/41.2 kB\u001b[0m \u001b[31m1.6 MB/s\u001b[0m eta \u001b[36m0:00:00\u001b[0m\n",
            "\u001b[2K   \u001b[90m━━━━━━━━━━━━━━━━━━━━━━━━━━━━━━━━━━━━━━━━\u001b[0m \u001b[32m46.5/46.5 kB\u001b[0m \u001b[31m1.2 MB/s\u001b[0m eta \u001b[36m0:00:00\u001b[0m\n",
            "\u001b[2K   \u001b[90m━━━━━━━━━━━━━━━━━━━━━━━━━━━━━━━━━━━━━━━━\u001b[0m \u001b[32m1.2/1.2 MB\u001b[0m \u001b[31m22.9 MB/s\u001b[0m eta \u001b[36m0:00:00\u001b[0m\n",
            "\u001b[?25h"
          ]
        }
      ],
      "source": [
        "!pip install --upgrade langgraph langchain  langchain_google_genai google_generativeai tavily-python -q"
      ]
    },
    {
      "cell_type": "markdown",
      "metadata": {
        "id": "Ez7q9HTAndIE"
      },
      "source": [
        "LLM을 설정합니다."
      ]
    },
    {
      "cell_type": "code",
      "execution_count": null,
      "metadata": {
        "id": "ixxzbOdnndIF"
      },
      "outputs": [],
      "source": [
        "import os\n",
        "os.environ['GOOGLE_API_KEY'] = ''"
      ]
    },
    {
      "cell_type": "code",
      "execution_count": null,
      "metadata": {
        "id": "G28NkBlZndIF"
      },
      "outputs": [],
      "source": [
        "from langchain_core.rate_limiters import InMemoryRateLimiter\n",
        "from langchain_google_genai import ChatGoogleGenerativeAI\n",
        "\n",
        "# Gemini API는 분당 10개 요청으로 제한\n",
        "# 즉, 초당 약 0.167개 요청 (10/60)\n",
        "rate_limiter = InMemoryRateLimiter(\n",
        "    requests_per_second=0.167,  # 분당 10개 요청\n",
        "    check_every_n_seconds=0.1,  # 100ms마다 체크\n",
        "    max_bucket_size=10,  # 최대 버스트 크기\n",
        ")\n",
        "\n",
        "# rate limiter를 LLM에 적용\n",
        "llm = ChatGoogleGenerativeAI(\n",
        "    model=\"gemini-2.0-flash\",\n",
        "    rate_limiter=rate_limiter,\n",
        "    temperature = 0.3\n",
        ")"
      ]
    },
    {
      "cell_type": "markdown",
      "metadata": {
        "id": "YJz-rKwPndIF"
      },
      "source": [
        "중간 과정 확인을 위해, LangSmith를 연동합니다.\n",
        "https://smith.langchain.com 에서 등록 후 작성합니다."
      ]
    },
    {
      "cell_type": "code",
      "execution_count": null,
      "metadata": {
        "id": "KWtzXfJ5ndIF"
      },
      "outputs": [],
      "source": [
        "os.environ['LANGCHAIN_API_KEY'] = ''\n",
        "os.environ['LANGCHAIN_PROJECT'] = 'LangGraph_FastCampus'\n",
        "os.environ['LANGCHAIN_ENDPOINT'] = 'https://api.smith.langchain.com'\n",
        "os.environ['LANGCHAIN_TRACING_V2']='true'"
      ]
    },
    {
      "cell_type": "markdown",
      "metadata": {
        "id": "eVl_Fr8EndIF"
      },
      "source": [
        "### 네이버 블로그 검색 Tool 구성하기\n",
        "네이버의 검색 API를 이용해, 블로그 검색을 연결하겠습니다.   \n",
        "(https://developers.naver.com/apps/#/register?defaultScope=search)"
      ]
    },
    {
      "cell_type": "code",
      "execution_count": null,
      "metadata": {
        "id": "8Y9LgrgYndIF"
      },
      "outputs": [],
      "source": [
        "import os\n",
        "import sys\n",
        "import urllib.request\n",
        "import json\n",
        "from langchain_core.tools import tool\n",
        "\n",
        "from typing_extensions import TypedDict, Literal, Annotated\n",
        "\n",
        "headers = {\n",
        "    'X-Naver-Client-Id': 'suLSGfEzGIxnXqxu2lBT',\n",
        "    'X-Naver-Client-Secret': 'oRjPjtakDu'\n",
        "}\n",
        "\n",
        "@tool\n",
        "def search_blogs(query: str, display : int = 10, sort : Literal['sim', 'date'] = 'sim') -> list:\n",
        "    \"\"\"네이버 블로그 검색을 수행하여 검색 결과를 리스트로 반환합니다.\n",
        "    query: 검색어\n",
        "    display: 검색 결과 개수\n",
        "    sort: sim(관련도순), date(시간순)\n",
        "    \"\"\"\n",
        "\n",
        "    client_id = headers['X-Naver-Client-Id']\n",
        "    client_secret = headers['X-Naver-Client-Secret']\n",
        "\n",
        "    encText = urllib.parse.quote(query)\n",
        "    url = f\"https://openapi.naver.com/v1/search/blog?query={encText}&display={display}\"\n",
        "\n",
        "    request = urllib.request.Request(url)\n",
        "    request.add_header(\"X-Naver-Client-Id\", client_id)\n",
        "    request.add_header(\"X-Naver-Client-Secret\", client_secret)\n",
        "\n",
        "    response = urllib.request.urlopen(request)\n",
        "    rescode = response.getcode()\n",
        "\n",
        "    if rescode == 200:\n",
        "        response_body = response.read()\n",
        "        data = json.loads(response_body.decode('utf-8'))\n",
        "\n",
        "        # 필요한 데이터 추출\n",
        "        blog_list = [\n",
        "            {\n",
        "                \"title\": item[\"title\"].replace(\"<b>\", \"\").replace(\"</b>\", \"\"),  # 태그 제거\n",
        "                \"link\": item[\"link\"],\n",
        "                \"description\": item[\"description\"].replace(\"<b>\", \"\").replace(\"</b>\", \"\"),\n",
        "                \"postdate\": item[\"postdate\"]\n",
        "            }\n",
        "            for item in data.get(\"items\", [])\n",
        "        ]\n",
        "\n",
        "        return blog_list\n",
        "    else:\n",
        "        return ['에러 발생, 다른 검색어로 다시 시도하세요.']\n",
        "\n",
        "\n",
        "tool_list = [search_blogs]\n",
        "llm_with_tools = llm.bind_tools(tool_list)"
      ]
    },
    {
      "cell_type": "markdown",
      "metadata": {
        "id": "DxL9T7XSndIG"
      },
      "source": [
        "툴을 구성한 뒤, State와 노드를 구성합니다."
      ]
    },
    {
      "cell_type": "code",
      "execution_count": null,
      "metadata": {
        "id": "BqSkj86wndIG"
      },
      "outputs": [],
      "source": [
        "from langgraph.graph.message import add_messages\n",
        "\n",
        "# query와 messages를 저장\n",
        "class State(TypedDict):\n",
        "    query : str\n",
        "    messages : Annotated[list, add_messages]"
      ]
    },
    {
      "cell_type": "code",
      "execution_count": null,
      "metadata": {
        "id": "ytiAb1uXndIG"
      },
      "outputs": [],
      "source": [
        "from langgraph.graph import StateGraph, START, END\n",
        "from langgraph.checkpoint.memory import MemorySaver\n",
        "from langgraph.types import Command, interrupt\n",
        "from langchain_core.messages import AIMessage, HumanMessage, SystemMessage\n",
        "\n",
        "\n",
        "# 메시지 입력\n",
        "def get_user_input(state):\n",
        "    human_message = input()\n",
        "    return {'messages':[HumanMessage(content = human_message)]}\n",
        "\n",
        "def agent(state):\n",
        "    system_message = SystemMessage(content='''당신은 검색 및 요약 챗봇입니다.\n",
        "사용자의 질문을 해결하기 위해 검색 툴을 사용하고, 해당 결과를 바탕으로 답변하세요.\n",
        "요청을 해결한 다음에는 마지막에 '감사합니다! 챗봇을 종료합니다!'를 출력하세요.''')\n",
        "\n",
        "    return {\"messages\": [llm_with_tools.invoke([system_message] + state[\"messages\"])]}\n",
        "\n",
        "\n",
        "def run_tool(state):\n",
        "    new_messages = []\n",
        "    last_message = state[\"messages\"][-1]\n",
        "\n",
        "    tools = {tool.name:tool for tool in tool_list}\n",
        "\n",
        "    tool_calls = last_message.tool_calls\n",
        "\n",
        "    for tool_call in tool_calls:\n",
        "        tool = tools[tool_call[\"name\"]]\n",
        "        result = tool.invoke(tool_call)\n",
        "        # ToolMessage\n",
        "        new_messages.append(result)\n",
        "    return {\"messages\": new_messages}\n"
      ]
    },
    {
      "cell_type": "markdown",
      "metadata": {
        "id": "yHqwYepBndIG"
      },
      "source": [
        "툴을 실행하기 전, `human_review`를 통과하도록 구성합니다."
      ]
    },
    {
      "cell_type": "code",
      "execution_count": null,
      "metadata": {
        "id": "dcr0zFZ9ndIG"
      },
      "outputs": [],
      "source": [
        "# Typing Hint를 연결하면 Graph에 표시됨\n",
        "def human_review(state) -> Command[Literal[\"agent\", \"run_tool\"]]:\n",
        "\n",
        "    # !!중요!!\n",
        "    # Human_review가 실행되는 상황은 언제일까요?\n",
        "    # Tool을 실행하기 전이므로, 이 상태의 Context는\n",
        "    # 항상 [..., AIMessage(content, tool_calls)]\n",
        "\n",
        "    last_message = state[\"messages\"][-1] # tool call 포함된 AIMessage\n",
        "    tool_call = last_message.tool_calls[-1]\n",
        "\n",
        "    # inturrupt로 중단된 결과는 Command를 통해 재개\n",
        "    human_review = interrupt(\n",
        "        {\n",
        "            \"question\": \"이대로 진행할까요?\",\n",
        "            \"tool_call\": tool_call,\n",
        "        }\n",
        "    )\n",
        "    review_action = human_review[\"action\"]\n",
        "    review_data = human_review.get(\"data\")\n",
        "\n",
        "    print('Decision:', review_action, '\\n Content:', review_data)\n",
        "\n",
        "\n",
        "    # 그대로 진행하는 경우, run_tool로 진입\n",
        "    if review_action == \"continue\":\n",
        "        return Command(goto=\"run_tool\")\n",
        "\n",
        "    # update가 필요한 경우, review_data를 args에 넣고 run_tool로 진입\n",
        "    elif review_action == \"update\":\n",
        "        updated_message = {\n",
        "            \"role\": \"ai\",\n",
        "            \"content\": last_message.content,\n",
        "            \"tool_calls\": [\n",
        "                {\n",
        "                    \"id\": tool_call[\"id\"],\n",
        "                    \"name\": tool_call[\"name\"],\n",
        "\n",
        "                    \"args\": review_data,\n",
        "                    # 새로운 입력\n",
        "                }\n",
        "            ],\n",
        "            \"id\": last_message.id,\n",
        "            # 메시지 id를 동일하게 설정해 Override\n",
        "        }\n",
        "        return Command(goto=\"run_tool\", update={\"messages\": [updated_message]})\n",
        "\n",
        "\n",
        "    # Feedback: 단순 언어로 피드백을 전달하고 싶은 경우\n",
        "    elif review_action == \"feedback\":\n",
        "\n",
        "        # Tool Call 요청을 새로운 유저 메시지로 대체합니다.\n",
        "\n",
        "        new_human_message = HumanMessage(content = review_data,\n",
        "        id = last_message.id)\n",
        "\n",
        "        return Command(goto=\"agent\", update={\"messages\": [new_human_message]})\n",
        "\n",
        "\n",
        "def route_after_llm(state) -> Literal[END, \"get_user_input\", \"human_review\"]:\n",
        "\n",
        "    last_message = state['messages'][-1]\n",
        "\n",
        "    if not last_message.tool_calls:\n",
        "        if '챗봇을 종료' in last_message.content:\n",
        "            return END\n",
        "        return 'get_user_input'\n",
        "    else:\n",
        "        return \"human_review\"\n"
      ]
    },
    {
      "cell_type": "code",
      "execution_count": null,
      "metadata": {
        "id": "Nzt843rkndIG",
        "colab": {
          "base_uri": "https://localhost:8080/"
        },
        "outputId": "09992790-b666-4c2c-c909-26ce1a31c563"
      },
      "outputs": [
        {
          "output_type": "execute_result",
          "data": {
            "text/plain": [
              "<langgraph.graph.state.StateGraph at 0x7d0dac42a1d0>"
            ]
          },
          "metadata": {},
          "execution_count": 16
        }
      ],
      "source": [
        "builder = StateGraph(State)\n",
        "builder.add_node(get_user_input)\n",
        "builder.add_node(agent)\n",
        "builder.add_node(run_tool)\n",
        "builder.add_node(human_review)\n",
        "\n",
        "builder.add_edge(START, \"get_user_input\")\n",
        "builder.add_edge('get_user_input', \"agent\")\n",
        "builder.add_conditional_edges(\"agent\", route_after_llm)\n",
        "builder.add_edge(\"run_tool\", \"agent\")"
      ]
    },
    {
      "cell_type": "code",
      "source": [
        "memory = MemorySaver()\n",
        "\n",
        "graph = builder.compile(checkpointer=memory)\n",
        "# 중간 상태 저장을 위해 체크포인터가 필요합니다!\n",
        "graph"
      ],
      "metadata": {
        "id": "RbsbxiLwqx3s",
        "colab": {
          "base_uri": "https://localhost:8080/",
          "height": 464
        },
        "outputId": "1308e8ea-8b49-427a-af77-9bd69b347b72"
      },
      "execution_count": null,
      "outputs": [
        {
          "output_type": "execute_result",
          "data": {
            "text/plain": [
              "<langgraph.graph.state.CompiledStateGraph object at 0x7d0dac4d9910>"
            ],
            "image/png": "[encoded data removed]"
          },
          "metadata": {},
          "execution_count": 17
        }
      ]
    },
    {
      "cell_type": "code",
      "execution_count": null,
      "metadata": {
        "id": "K8XKYNV1ndIG",
        "colab": {
          "base_uri": "https://localhost:8080/",
          "height": 1000
        },
        "outputId": "c6bdf4ce-3729-4422-d7f4-8a2f7ff37962"
      },
      "outputs": [
        {
          "name": "stdout",
          "output_type": "stream",
          "text": [
            "삼성 라이온즈의 2025년 중견수가 누구니?\n"
          ]
        },
        {
          "output_type": "display_data",
          "data": {
            "text/plain": [
              "\u001b[1m{\u001b[0m\n",
              "    \u001b[32m'get_user_input'\u001b[0m: \u001b[1m{\u001b[0m\n",
              "        \u001b[32m'messages'\u001b[0m: \u001b[1m[\u001b[0m\n",
              "            \u001b[1;35mHumanMessage\u001b[0m\u001b[1m(\u001b[0m\n",
              "                \u001b[33mcontent\u001b[0m=\u001b[32m'삼성 라이온즈의 2025년 중견수가 누구니?'\u001b[0m,\n",
              "                \u001b[33madditional_kwargs\u001b[0m=\u001b[1m{\u001b[0m\u001b[1m}\u001b[0m,\n",
              "                \u001b[33mresponse_metadata\u001b[0m=\u001b[1m{\u001b[0m\u001b[1m}\u001b[0m,\n",
              "                \u001b[33mid\u001b[0m=\u001b[32m'fea5b8fc-9afc-41de-96a0-521b9bf6b757'\u001b[0m\n",
              "            \u001b[1m)\u001b[0m\n",
              "        \u001b[1m]\u001b[0m\n",
              "    \u001b[1m}\u001b[0m\n",
              "\u001b[1m}\u001b[0m\n"
            ],
            "text/html": [
              "<pre style=\"white-space:pre;overflow-x:auto;line-height:normal;font-family:Menlo,'DejaVu Sans Mono',consolas,'Courier New',monospace\"><span style=\"font-weight: bold\">{</span>\n",
              "    <span style=\"color: #008000; text-decoration-color: #008000\">'get_user_input'</span>: <span style=\"font-weight: bold\">{</span>\n",
              "        <span style=\"color: #008000; text-decoration-color: #008000\">'messages'</span>: <span style=\"font-weight: bold\">[</span>\n",
              "            <span style=\"color: #800080; text-decoration-color: #800080; font-weight: bold\">HumanMessage</span><span style=\"font-weight: bold\">(</span>\n",
              "                <span style=\"color: #808000; text-decoration-color: #808000\">content</span>=<span style=\"color: #008000; text-decoration-color: #008000\">'삼성 라이온즈의 2025년 중견수가 누구니?'</span>,\n",
              "                <span style=\"color: #808000; text-decoration-color: #808000\">additional_kwargs</span>=<span style=\"font-weight: bold\">{}</span>,\n",
              "                <span style=\"color: #808000; text-decoration-color: #808000\">response_metadata</span>=<span style=\"font-weight: bold\">{}</span>,\n",
              "                <span style=\"color: #808000; text-decoration-color: #808000\">id</span>=<span style=\"color: #008000; text-decoration-color: #008000\">'fea5b8fc-9afc-41de-96a0-521b9bf6b757'</span>\n",
              "            <span style=\"font-weight: bold\">)</span>\n",
              "        <span style=\"font-weight: bold\">]</span>\n",
              "    <span style=\"font-weight: bold\">}</span>\n",
              "<span style=\"font-weight: bold\">}</span>\n",
              "</pre>\n"
            ]
          },
          "metadata": {}
        },
        {
          "output_type": "display_data",
          "data": {
            "text/plain": [
              "\n",
              "\n"
            ],
            "text/html": [
              "<pre style=\"white-space:pre;overflow-x:auto;line-height:normal;font-family:Menlo,'DejaVu Sans Mono',consolas,'Courier New',monospace\">\n",
              "\n",
              "</pre>\n"
            ]
          },
          "metadata": {}
        },
        {
          "output_type": "display_data",
          "data": {
            "text/plain": [
              "\u001b[1m{\u001b[0m\n",
              "    \u001b[32m'agent'\u001b[0m: \u001b[1m{\u001b[0m\n",
              "        \u001b[32m'messages'\u001b[0m: \u001b[1m[\u001b[0m\n",
              "            \u001b[1;35mAIMessage\u001b[0m\u001b[1m(\u001b[0m\n",
              "                \u001b[33mcontent\u001b[0m=\u001b[32m''\u001b[0m,\n",
              "                \u001b[33madditional_kwargs\u001b[0m=\u001b[1m{\u001b[0m\n",
              "                    \u001b[32m'function_call'\u001b[0m: \u001b[1m{\u001b[0m\n",
              "                        \u001b[32m'name'\u001b[0m: \u001b[32m'search_blogs'\u001b[0m,\n",
              "                        \u001b[32m'arguments'\u001b[0m: \u001b[32m'\u001b[0m\u001b[32m{\u001b[0m\u001b[32m\"display\": 5.0, \"query\": \"\\\\uc0bc\\\\uc131 \\\\ub77c\\\\uc774\\\\uc628\\\\uc988 \u001b[0m\n",
              "\u001b[32m2025\\\\ub144 \\\\uc911\\\\uacac\\\\uc218\"\u001b[0m\u001b[32m}\u001b[0m\u001b[32m'\u001b[0m\n",
              "                    \u001b[1m}\u001b[0m\n",
              "                \u001b[1m}\u001b[0m,\n",
              "                \u001b[33mresponse_metadata\u001b[0m=\u001b[1m{\u001b[0m\n",
              "                    \u001b[32m'prompt_feedback'\u001b[0m: \u001b[1m{\u001b[0m\u001b[32m'block_reason'\u001b[0m: \u001b[1;36m0\u001b[0m, \u001b[32m'safety_ratings'\u001b[0m: \u001b[1m[\u001b[0m\u001b[1m]\u001b[0m\u001b[1m}\u001b[0m,\n",
              "                    \u001b[32m'finish_reason'\u001b[0m: \u001b[32m'STOP'\u001b[0m,\n",
              "                    \u001b[32m'safety_ratings'\u001b[0m: \u001b[1m[\u001b[0m\u001b[1m]\u001b[0m\n",
              "                \u001b[1m}\u001b[0m,\n",
              "                \u001b[33mid\u001b[0m=\u001b[32m'run-3e7e3da9-05b6-44d9-8694-462091ec99ed-0'\u001b[0m,\n",
              "                \u001b[33mtool_calls\u001b[0m=\u001b[1m[\u001b[0m\n",
              "                    \u001b[1m{\u001b[0m\n",
              "                        \u001b[32m'name'\u001b[0m: \u001b[32m'search_blogs'\u001b[0m,\n",
              "                        \u001b[32m'args'\u001b[0m: \u001b[1m{\u001b[0m\u001b[32m'display'\u001b[0m: \u001b[1;36m5.0\u001b[0m, \u001b[32m'query'\u001b[0m: \u001b[32m'삼성 라이온즈 2025년 중견수'\u001b[0m\u001b[1m}\u001b[0m,\n",
              "                        \u001b[32m'id'\u001b[0m: \u001b[32m'3ad99e7b-7445-4f2e-9669-a7c1014cee94'\u001b[0m,\n",
              "                        \u001b[32m'type'\u001b[0m: \u001b[32m'tool_call'\u001b[0m\n",
              "                    \u001b[1m}\u001b[0m\n",
              "                \u001b[1m]\u001b[0m,\n",
              "                \u001b[33musage_metadata\u001b[0m=\u001b[1m{\u001b[0m\n",
              "                    \u001b[32m'input_tokens'\u001b[0m: \u001b[1;36m150\u001b[0m,\n",
              "                    \u001b[32m'output_tokens'\u001b[0m: \u001b[1;36m19\u001b[0m,\n",
              "                    \u001b[32m'total_tokens'\u001b[0m: \u001b[1;36m169\u001b[0m,\n",
              "                    \u001b[32m'input_token_details'\u001b[0m: \u001b[1m{\u001b[0m\u001b[32m'cache_read'\u001b[0m: \u001b[1;36m0\u001b[0m\u001b[1m}\u001b[0m\n",
              "                \u001b[1m}\u001b[0m\n",
              "            \u001b[1m)\u001b[0m\n",
              "        \u001b[1m]\u001b[0m\n",
              "    \u001b[1m}\u001b[0m\n",
              "\u001b[1m}\u001b[0m\n"
            ],
            "text/html": [
              "<pre style=\"white-space:pre;overflow-x:auto;line-height:normal;font-family:Menlo,'DejaVu Sans Mono',consolas,'Courier New',monospace\"><span style=\"font-weight: bold\">{</span>\n",
              "    <span style=\"color: #008000; text-decoration-color: #008000\">'agent'</span>: <span style=\"font-weight: bold\">{</span>\n",
              "        <span style=\"color: #008000; text-decoration-color: #008000\">'messages'</span>: <span style=\"font-weight: bold\">[</span>\n",
              "            <span style=\"color: #800080; text-decoration-color: #800080; font-weight: bold\">AIMessage</span><span style=\"font-weight: bold\">(</span>\n",
              "                <span style=\"color: #808000; text-decoration-color: #808000\">content</span>=<span style=\"color: #008000; text-decoration-color: #008000\">''</span>,\n",
              "                <span style=\"color: #808000; text-decoration-color: #808000\">additional_kwargs</span>=<span style=\"font-weight: bold\">{</span>\n",
              "                    <span style=\"color: #008000; text-decoration-color: #008000\">'function_call'</span>: <span style=\"font-weight: bold\">{</span>\n",
              "                        <span style=\"color: #008000; text-decoration-color: #008000\">'name'</span>: <span style=\"color: #008000; text-decoration-color: #008000\">'search_blogs'</span>,\n",
              "                        <span style=\"color: #008000; text-decoration-color: #008000\">'arguments'</span>: <span style=\"color: #008000; text-decoration-color: #008000\">'{\"display\": 5.0, \"query\": \"\\\\uc0bc\\\\uc131 \\\\ub77c\\\\uc774\\\\uc628\\\\uc988 </span>\n",
              "<span style=\"color: #008000; text-decoration-color: #008000\">2025\\\\ub144 \\\\uc911\\\\uacac\\\\uc218\"}'</span>\n",
              "                    <span style=\"font-weight: bold\">}</span>\n",
              "                <span style=\"font-weight: bold\">}</span>,\n",
              "                <span style=\"color: #808000; text-decoration-color: #808000\">response_metadata</span>=<span style=\"font-weight: bold\">{</span>\n",
              "                    <span style=\"color: #008000; text-decoration-color: #008000\">'prompt_feedback'</span>: <span style=\"font-weight: bold\">{</span><span style=\"color: #008000; text-decoration-color: #008000\">'block_reason'</span>: <span style=\"color: #008080; text-decoration-color: #008080; font-weight: bold\">0</span>, <span style=\"color: #008000; text-decoration-color: #008000\">'safety_ratings'</span>: <span style=\"font-weight: bold\">[]}</span>,\n",
              "                    <span style=\"color: #008000; text-decoration-color: #008000\">'finish_reason'</span>: <span style=\"color: #008000; text-decoration-color: #008000\">'STOP'</span>,\n",
              "                    <span style=\"color: #008000; text-decoration-color: #008000\">'safety_ratings'</span>: <span style=\"font-weight: bold\">[]</span>\n",
              "                <span style=\"font-weight: bold\">}</span>,\n",
              "                <span style=\"color: #808000; text-decoration-color: #808000\">id</span>=<span style=\"color: #008000; text-decoration-color: #008000\">'run-3e7e3da9-05b6-44d9-8694-462091ec99ed-0'</span>,\n",
              "                <span style=\"color: #808000; text-decoration-color: #808000\">tool_calls</span>=<span style=\"font-weight: bold\">[</span>\n",
              "                    <span style=\"font-weight: bold\">{</span>\n",
              "                        <span style=\"color: #008000; text-decoration-color: #008000\">'name'</span>: <span style=\"color: #008000; text-decoration-color: #008000\">'search_blogs'</span>,\n",
              "                        <span style=\"color: #008000; text-decoration-color: #008000\">'args'</span>: <span style=\"font-weight: bold\">{</span><span style=\"color: #008000; text-decoration-color: #008000\">'display'</span>: <span style=\"color: #008080; text-decoration-color: #008080; font-weight: bold\">5.0</span>, <span style=\"color: #008000; text-decoration-color: #008000\">'query'</span>: <span style=\"color: #008000; text-decoration-color: #008000\">'삼성 라이온즈 2025년 중견수'</span><span style=\"font-weight: bold\">}</span>,\n",
              "                        <span style=\"color: #008000; text-decoration-color: #008000\">'id'</span>: <span style=\"color: #008000; text-decoration-color: #008000\">'3ad99e7b-7445-4f2e-9669-a7c1014cee94'</span>,\n",
              "                        <span style=\"color: #008000; text-decoration-color: #008000\">'type'</span>: <span style=\"color: #008000; text-decoration-color: #008000\">'tool_call'</span>\n",
              "                    <span style=\"font-weight: bold\">}</span>\n",
              "                <span style=\"font-weight: bold\">]</span>,\n",
              "                <span style=\"color: #808000; text-decoration-color: #808000\">usage_metadata</span>=<span style=\"font-weight: bold\">{</span>\n",
              "                    <span style=\"color: #008000; text-decoration-color: #008000\">'input_tokens'</span>: <span style=\"color: #008080; text-decoration-color: #008080; font-weight: bold\">150</span>,\n",
              "                    <span style=\"color: #008000; text-decoration-color: #008000\">'output_tokens'</span>: <span style=\"color: #008080; text-decoration-color: #008080; font-weight: bold\">19</span>,\n",
              "                    <span style=\"color: #008000; text-decoration-color: #008000\">'total_tokens'</span>: <span style=\"color: #008080; text-decoration-color: #008080; font-weight: bold\">169</span>,\n",
              "                    <span style=\"color: #008000; text-decoration-color: #008000\">'input_token_details'</span>: <span style=\"font-weight: bold\">{</span><span style=\"color: #008000; text-decoration-color: #008000\">'cache_read'</span>: <span style=\"color: #008080; text-decoration-color: #008080; font-weight: bold\">0</span><span style=\"font-weight: bold\">}</span>\n",
              "                <span style=\"font-weight: bold\">}</span>\n",
              "            <span style=\"font-weight: bold\">)</span>\n",
              "        <span style=\"font-weight: bold\">]</span>\n",
              "    <span style=\"font-weight: bold\">}</span>\n",
              "<span style=\"font-weight: bold\">}</span>\n",
              "</pre>\n"
            ]
          },
          "metadata": {}
        },
        {
          "output_type": "display_data",
          "data": {
            "text/plain": [
              "\n",
              "\n"
            ],
            "text/html": [
              "<pre style=\"white-space:pre;overflow-x:auto;line-height:normal;font-family:Menlo,'DejaVu Sans Mono',consolas,'Courier New',monospace\">\n",
              "\n",
              "</pre>\n"
            ]
          },
          "metadata": {}
        },
        {
          "output_type": "display_data",
          "data": {
            "text/plain": [
              "\u001b[1m{\u001b[0m\n",
              "    \u001b[32m'__interrupt__'\u001b[0m: \u001b[1m(\u001b[0m\n",
              "        \u001b[1;35mInterrupt\u001b[0m\u001b[1m(\u001b[0m\n",
              "            \u001b[33mvalue\u001b[0m=\u001b[1m{\u001b[0m\n",
              "                \u001b[32m'question'\u001b[0m: \u001b[32m'이대로 진행할까요?'\u001b[0m,\n",
              "                \u001b[32m'tool_call'\u001b[0m: \u001b[1m{\u001b[0m\n",
              "                    \u001b[32m'name'\u001b[0m: \u001b[32m'search_blogs'\u001b[0m,\n",
              "                    \u001b[32m'args'\u001b[0m: \u001b[1m{\u001b[0m\u001b[32m'display'\u001b[0m: \u001b[1;36m5.0\u001b[0m, \u001b[32m'query'\u001b[0m: \u001b[32m'삼성 라이온즈 2025년 중견수'\u001b[0m\u001b[1m}\u001b[0m,\n",
              "                    \u001b[32m'id'\u001b[0m: \u001b[32m'3ad99e7b-7445-4f2e-9669-a7c1014cee94'\u001b[0m,\n",
              "                    \u001b[32m'type'\u001b[0m: \u001b[32m'tool_call'\u001b[0m\n",
              "                \u001b[1m}\u001b[0m\n",
              "            \u001b[1m}\u001b[0m,\n",
              "            \u001b[33mresumable\u001b[0m=\u001b[3;92mTrue\u001b[0m,\n",
              "            \u001b[33mns\u001b[0m=\u001b[1m[\u001b[0m\u001b[32m'human_review:7e0d3b67-8dfc-a4f7-925a-61f0656db419'\u001b[0m\u001b[1m]\u001b[0m\n",
              "        \u001b[1m)\u001b[0m,\n",
              "    \u001b[1m)\u001b[0m\n",
              "\u001b[1m}\u001b[0m\n"
            ],
            "text/html": [
              "<pre style=\"white-space:pre;overflow-x:auto;line-height:normal;font-family:Menlo,'DejaVu Sans Mono',consolas,'Courier New',monospace\"><span style=\"font-weight: bold\">{</span>\n",
              "    <span style=\"color: #008000; text-decoration-color: #008000\">'__interrupt__'</span>: <span style=\"font-weight: bold\">(</span>\n",
              "        <span style=\"color: #800080; text-decoration-color: #800080; font-weight: bold\">Interrupt</span><span style=\"font-weight: bold\">(</span>\n",
              "            <span style=\"color: #808000; text-decoration-color: #808000\">value</span>=<span style=\"font-weight: bold\">{</span>\n",
              "                <span style=\"color: #008000; text-decoration-color: #008000\">'question'</span>: <span style=\"color: #008000; text-decoration-color: #008000\">'이대로 진행할까요?'</span>,\n",
              "                <span style=\"color: #008000; text-decoration-color: #008000\">'tool_call'</span>: <span style=\"font-weight: bold\">{</span>\n",
              "                    <span style=\"color: #008000; text-decoration-color: #008000\">'name'</span>: <span style=\"color: #008000; text-decoration-color: #008000\">'search_blogs'</span>,\n",
              "                    <span style=\"color: #008000; text-decoration-color: #008000\">'args'</span>: <span style=\"font-weight: bold\">{</span><span style=\"color: #008000; text-decoration-color: #008000\">'display'</span>: <span style=\"color: #008080; text-decoration-color: #008080; font-weight: bold\">5.0</span>, <span style=\"color: #008000; text-decoration-color: #008000\">'query'</span>: <span style=\"color: #008000; text-decoration-color: #008000\">'삼성 라이온즈 2025년 중견수'</span><span style=\"font-weight: bold\">}</span>,\n",
              "                    <span style=\"color: #008000; text-decoration-color: #008000\">'id'</span>: <span style=\"color: #008000; text-decoration-color: #008000\">'3ad99e7b-7445-4f2e-9669-a7c1014cee94'</span>,\n",
              "                    <span style=\"color: #008000; text-decoration-color: #008000\">'type'</span>: <span style=\"color: #008000; text-decoration-color: #008000\">'tool_call'</span>\n",
              "                <span style=\"font-weight: bold\">}</span>\n",
              "            <span style=\"font-weight: bold\">}</span>,\n",
              "            <span style=\"color: #808000; text-decoration-color: #808000\">resumable</span>=<span style=\"color: #00ff00; text-decoration-color: #00ff00; font-style: italic\">True</span>,\n",
              "            <span style=\"color: #808000; text-decoration-color: #808000\">ns</span>=<span style=\"font-weight: bold\">[</span><span style=\"color: #008000; text-decoration-color: #008000\">'human_review:7e0d3b67-8dfc-a4f7-925a-61f0656db419'</span><span style=\"font-weight: bold\">]</span>\n",
              "        <span style=\"font-weight: bold\">)</span>,\n",
              "    <span style=\"font-weight: bold\">)</span>\n",
              "<span style=\"font-weight: bold\">}</span>\n",
              "</pre>\n"
            ]
          },
          "metadata": {}
        },
        {
          "output_type": "display_data",
          "data": {
            "text/plain": [
              "\n",
              "\n"
            ],
            "text/html": [
              "<pre style=\"white-space:pre;overflow-x:auto;line-height:normal;font-family:Menlo,'DejaVu Sans Mono',consolas,'Courier New',monospace\">\n",
              "\n",
              "</pre>\n"
            ]
          },
          "metadata": {}
        }
      ],
      "source": [
        "from rich import print as rprint\n",
        "# Input\n",
        "initial_input = {\"messages\": []}\n",
        "\n",
        "# Thread\n",
        "thread = {\"configurable\": {\"thread_id\": \"1\"}}\n",
        "\n",
        "for event in graph.stream(initial_input, thread, stream_mode=\"updates\"):\n",
        "    rprint(event)\n",
        "    rprint(\"\\n\")"
      ]
    },
    {
      "cell_type": "markdown",
      "metadata": {
        "id": "_thhvniqndIG"
      },
      "source": [
        "`__interrupt__`가 구성되면, 사용자 확인을 위해 중단된 상황입니다."
      ]
    },
    {
      "cell_type": "code",
      "execution_count": null,
      "metadata": {
        "id": "fJkvs6YrndIG",
        "colab": {
          "base_uri": "https://localhost:8080/"
        },
        "outputId": "4f70e769-98fe-48ae-9010-d00f7218b63e"
      },
      "outputs": [
        {
          "output_type": "stream",
          "name": "stdout",
          "text": [
            "graph 현재 상황\n",
            "('human_review',)\n"
          ]
        }
      ],
      "source": [
        "print(\"graph 현재 상황\")\n",
        "print(graph.get_state(thread).next)"
      ]
    },
    {
      "cell_type": "markdown",
      "metadata": {
        "id": "Nl9L0zJzndIG"
      },
      "source": [
        "`human_review`에 기록된 값 중 하나를 입력하여 작업을 재개합니다.   \n",
        "`Command`의 resume으로 값을 보낼 수 있습니다.\n",
        "\n",
        "1. `{\"action\": \"continue\"}`\n",
        "2. `{\"action\": \"update\", \"data\": {\"query\": \"새로운 쿼리\"}}`\n",
        "3. `{\"action\": \"feedback\", \"data\": {\"query\": \"전달할 피드백 내용\"}}`"
      ]
    },
    {
      "cell_type": "markdown",
      "metadata": {
        "id": "0YEtPxGyndIH"
      },
      "source": [
        "### Continue\n",
        "run_tool으로 진행합니다."
      ]
    },
    {
      "cell_type": "code",
      "execution_count": null,
      "metadata": {
        "id": "vJK8DWD6ndIH",
        "colab": {
          "base_uri": "https://localhost:8080/"
        },
        "outputId": "98bb02fa-e881-4d33-a93c-c72184288a3f"
      },
      "outputs": [
        {
          "output_type": "stream",
          "name": "stdout",
          "text": [
            "Decision: continue \n",
            " Content: None\n",
            "{'human_review': None}\n",
            "\n",
            "\n",
            "{'run_tool': {'messages': [ToolMessage(content='[{\"title\": \"2025년 03월 16일 삼성 라이온즈 KIA 타이거즈 기아 kbo... \", \"link\": \"https://blog.naver.com/mc_kwak/223797598618\", \"description\": \"기아 vs 삼성 프로야구 실시간 경기 정보를 확인하세요! KBO 야구예매 및 시청 2025년 03월 16일 삼성 라이온즈 KIA 타이거즈 KIA 타이거즈와 삼성 라이온즈의 2025 KBO 시범경기가 오늘 펼쳐집니다. 경기... \", \"postdate\": \"20250316\"}, {\"title\": \"푸른 뱀의 해, 삼성 라이온즈 김지찬-황동재의 2025년\", \"link\": \"https://blog.naver.com/elxhrtmdnlcl126/223726893692\", \"description\": \"지키는 중견수가 되었다. 푸른 뱀의 해, 푸른 유니폼을 입은 김지찬이 더욱 날아오를 시간이다. 팀의 주전으로서, 리드오프로서 빛날 김지찬의 2025년을 기대한다. 제공 - 삼성 라이온즈 황동재 (2001.11.03)... \", \"postdate\": \"20250115\"}, {\"title\": \"삼성 라이온즈, 2025년 주전 우익수 후보군과 외야 뎁스는?(KBO)\", \"link\": \"https://blog.naver.com/agentwannabe/223738489332\", \"description\": \"구자욱이, 중견수는 김지찬이 변함없이 맡을 것으로 보이는데, 오늘은 다음 시즌 삼성 라이온즈의... 박승규(OF) 2000.09.02 박승규 타격에 물음표가 있지만, 외야 수비 장인 박승규도 2025년 복귀를 앞두고... \", \"postdate\": \"20250126\"}, {\"title\": \"삼성 라이온즈 신인 배찬승, 개막전 로스터 탑승 완료\", \"link\": \"https://blog.naver.com/villettes/223802749245\", \"description\": \"삼성 라이온즈 신인 배찬승 개막전 로스터 탑승 완료  삼성 라이온즈의 2025년 신인 배찬승 선수... 게다가 투수와 중견수 두 수비 포지션을 소화했다. 중견수로서의 날렵한 움직임은 물론 투수로서의... \", \"postdate\": \"20250319\"}, {\"title\": \"2025년 프로야구 개막 D-71 스토브리그 2탄 삼성라이온즈\", \"link\": \"https://blog.naver.com/rlaqjatjrsla/223722437585\", \"description\": \"대구 라이온즈 파크를 잘 이용했습니다. 2루 수비불안을 느꼈던 김지찬도 중견수로 바꾸면서 타격과... 삼성의 아픈 손가락 최채가 엘지의 보상선수로 가게됩니다. 라이온즈 파크가 홈런이 많은 구장이고 이미... \", \"postdate\": \"20250111\"}]', name='search_blogs', id='7dfd0c76-e632-41f9-9cd4-2e83a2f0b389', tool_call_id='3ad99e7b-7445-4f2e-9669-a7c1014cee94')]}}\n",
            "\n",
            "\n",
            "{'agent': {'messages': [AIMessage(content=' 검색 결과에 따르면 2025년 삼성 라이온즈의 중견수는 김지찬 선수와 배찬승 선수가 언급되고 있습니다.\\n감사합니다! 챗봇을 종료합니다!', additional_kwargs={}, response_metadata={'prompt_feedback': {'block_reason': 0, 'safety_ratings': []}, 'finish_reason': 'STOP', 'safety_ratings': []}, id='run-50af6bf0-60c4-4939-854b-8848ad9d8ff6-0', usage_metadata={'input_tokens': 936, 'output_tokens': 51, 'total_tokens': 987, 'input_token_details': {'cache_read': 0}})]}}\n",
            "\n",
            "\n"
          ]
        }
      ],
      "source": [
        "for event in graph.stream(\n",
        "\n",
        "    Command(resume={\"action\": \"continue\"}),\n",
        "    thread,\n",
        "    stream_mode=\"updates\",\n",
        "):\n",
        "    print(event)\n",
        "    print(\"\\n\")"
      ]
    },
    {
      "cell_type": "markdown",
      "metadata": {
        "id": "so0kTEXrndIH"
      },
      "source": [
        "### Update\n",
        "Command로 전달되는 값을 받아 갱신합니다.   \n",
        "검색 쿼리를 수정하기로 설정했으므로, 바뀐 쿼리를 전달하게 됩니다."
      ]
    },
    {
      "cell_type": "code",
      "execution_count": null,
      "metadata": {
        "id": "EVeQ0I25ndIH",
        "colab": {
          "base_uri": "https://localhost:8080/"
        },
        "outputId": "0c0a4a88-62d7-4ac5-d077-6da2e9f03f49"
      },
      "outputs": [
        {
          "output_type": "stream",
          "name": "stdout",
          "text": [
            "2025년 넷플릭스 한국 드라마 기대작 알려줘!\n",
            "{'get_user_input': {'messages': [HumanMessage(content='2025년 넷플릭스 한국 드라마 기대작 알려줘!', additional_kwargs={}, response_metadata={}, id='604e9724-8c0a-4f23-a595-51ccee23d99f')]}}\n",
            "\n",
            "\n",
            "{'agent': {'messages': [AIMessage(content='', additional_kwargs={'function_call': {'name': 'search_blogs', 'arguments': '{\"display\": 5.0, \"query\": \"2025\\\\ub144 \\\\ub137\\\\ud50c\\\\ub9ad\\\\uc2a4 \\\\ud55c\\\\uad6d \\\\ub4dc\\\\ub77c\\\\ub9c8\", \"sort\": \"sim\"}'}}, response_metadata={'prompt_feedback': {'block_reason': 0, 'safety_ratings': []}, 'finish_reason': 'STOP', 'safety_ratings': []}, id='run-69004663-a4f7-4f6f-abfe-7d3913e2ff70-0', tool_calls=[{'name': 'search_blogs', 'args': {'display': 5.0, 'query': '2025년 넷플릭스 한국 드라마', 'sort': 'sim'}, 'id': '37901440-3671-44ae-afd0-929b1a8d1dc5', 'type': 'tool_call'}], usage_metadata={'input_tokens': 150, 'output_tokens': 20, 'total_tokens': 170, 'input_token_details': {'cache_read': 0}})]}}\n",
            "\n",
            "\n",
            "{'__interrupt__': (Interrupt(value={'question': '이대로 진행할까요?', 'tool_call': {'name': 'search_blogs', 'args': {'display': 5.0, 'query': '2025년 넷플릭스 한국 드라마', 'sort': 'sim'}, 'id': '37901440-3671-44ae-afd0-929b1a8d1dc5', 'type': 'tool_call'}}, resumable=True, ns=['human_review:9654f889-c3d1-db7e-7a89-e91690a1fdbf']),)}\n",
            "\n",
            "\n"
          ]
        }
      ],
      "source": [
        "thread = {\"configurable\": {\"thread_id\": \"2\"}}\n",
        "\n",
        "for event in graph.stream(initial_input, thread, stream_mode=\"updates\"):\n",
        "    print(event)\n",
        "    print(\"\\n\")"
      ]
    },
    {
      "cell_type": "code",
      "execution_count": null,
      "metadata": {
        "id": "8Ee2-2pzndIH",
        "colab": {
          "base_uri": "https://localhost:8080/"
        },
        "outputId": "c8977ce0-2f31-4a22-dcfc-a221fc7804f9"
      },
      "outputs": [
        {
          "output_type": "stream",
          "name": "stdout",
          "text": [
            "Decision: update \n",
            " Content: {'query': '2025 넷플릭스 한국드라마 기대작'}\n",
            "{'human_review': {'messages': [{'role': 'ai', 'content': '', 'tool_calls': [{'id': '37901440-3671-44ae-afd0-929b1a8d1dc5', 'name': 'search_blogs', 'args': {'query': '2025 넷플릭스 한국드라마 기대작'}}], 'id': 'run-69004663-a4f7-4f6f-abfe-7d3913e2ff70-0'}]}}\n",
            "\n",
            "\n",
            "{'run_tool': {'messages': [ToolMessage(content='[{\"title\": \"2025년 넷플릭스 한국 드라마 개인적인 기대작 3편\", \"link\": \"https://blog.naver.com/airumeraru/223721702475\", \"description\": \"오랜만에 내가 보고 싶은 작품 정리 차 작성해 보는 2025년 넷플릭스 한국 드라마 지극히 개인적인 취향을 반영한 기대작 정리 그리고 보니 오징어 게임 시즌 2는 홍보 엄청 한 거에 비해선 나는 화장실에서... \", \"postdate\": \"20250110\"}, {\"title\": \"2025년 2~3월 한국 드라마 &amp; 예능 기대작 총정리! 넷플릭스... \", \"link\": \"https://blog.naver.com/toxication7/223761389312\", \"description\": \"#한국드라마 #한국예능 #2025기대작 #넷플릭스드라마 #티빙 #디즈니플러스 #쿠팡플레이 #SBS #MBC #KBS #tvN #JTBC #신작드라마 #연애리얼리티 #사극 #판타지 #로맨틱코미디\", \"postdate\": \"20250215\"}, {\"title\": \"2025년 넷플릭스(Netflix) 한국 드라마 기대작 총정리!... \", \"link\": \"https://blog.naver.com/simon220716/223781437012\", \"description\": \"찾아올 2025년 기대작은 어떤 작품들이 있을까요? K-드라마 팬이라면 놓칠 수 없는 최신 소식! 오늘은 올해 공개 예정인 넷플릭스 한국 드라마를 소개해 드릴게요. 흥미진진한 스토리, 매력적인 캐릭터, 화려한... \", \"postdate\": \"20250303\"}, {\"title\": \"달달한 발렌타인 넷플릭스 신작 드라마, 영화 기대작 추천!!\", \"link\": \"https://blog.naver.com/traveleralice/223742043604\", \"description\": \"2025년 2월 넷플릭스 신작 드라마, 영화 기대작 리스트!! 앨리스 취향 저격 작품들 위주로... (2024) 넷플릭스 오리지널. 콜롬비아 암시장을 헤매는 청년에 대한 한국 스릴러 영화. 김성제 감독. 송중기... \", \"postdate\": \"20250131\"}, {\"title\": \"2025 넷플릭스 한국 드라마 라인업 : 기대작 12편... \", \"link\": \"https://blog.naver.com/seeya717/223714463639\", \"description\": \"넷플릭스(NETFLIX) 오리지널 드라마 추천 2025 한국 드라마 라인업 _ 예정작 12편 2025년 넷플릭스 기대작 하면 가장 먼저 떠오르는 건 단연 오겜3일 것이다. 그 외 넷플릭스 오리지널 한국 드라마 중 기대해 볼 만한... \", \"postdate\": \"20250104\"}, {\"title\": \"2025기대작인 광장 예고편보고 혹평 가득? 넷플릭스 드라마... \", \"link\": \"https://blog.naver.com/blanche15/223748321685\", \"description\": \"&lt; 2025기대작인 광장 예고편보고 혹평 가득? 넷플릭스 드라마 출연진 공개일 &gt; 소지섭의 복귀작인 드라마 \\'광장\\'의 예고편이 공개되었습니다. 매달 새로운 오리지널작을 선보이는 넷플릭스에서 4월엔 느와르물로... \", \"postdate\": \"20250205\"}, {\"title\": \"2025 넷플릭스 개봉예정 기대작 한국 라인업 (영화, 드라마... \", \"link\": \"https://blog.naver.com/ottewear/223748972473\", \"description\": \"없는 넷플릭스 오리지널 한국 드라마! 동명의 웹툰이 원작이고, 느와르 액션물이라고 합니다. 약한... 드라마 #넷플릭스예능 #넷플릭스예정작 #넷플릭스예정 #넷플릭스2025 #2025넷플릭스 #넷플릭스기대작... \", \"postdate\": \"20250205\"}, {\"title\": \"2025년 넷플릭스 기대작 &amp; 드라마 추천\", \"link\": \"https://blog.naver.com/joyoom07/223790675947\", \"description\": \"2025년 넷플릭스 기대작&amp;드라마 추천 요즘 넷플릭스 안보는 사람도 있나요 ? 라고 할 정도로 헬장에 가도... 초반 한국을 강태한 애마부인의 탄생과정 속 여배우들의 고군분투기를 그린 시리즈입니다. 1980년대... \", \"postdate\": \"20250310\"}, {\"title\": \"2025년 4월 방영 예정 한국 드라마 기대작 총정리!\", \"link\": \"https://blog.naver.com/kihoon7499/223803564504\", \"description\": \"여러분의 기대작을 댓글로 공유해주세요!  #넷플릭스예정, #넷플릭스, #티빙, #협상의기술후속... 4월드라마, #2025년드라마, #드라마추천, #한국드라마추천, #한국드라마, #로맨스드라마, #판타지드라마\", \"postdate\": \"20250320\"}, {\"title\": \"넷플릭스 한국 드라마 추천 장르별 추천 2025년 기대작\", \"link\": \"https://blog.naver.com/ncgb/223770700170\", \"description\": \"2025년 넷플릭스 한국 드라마 기대작! 트리거: 김남길, 김영광 출연. 대한민국 연쇄 총기 사건! 오징어 게임 시즌 3: 전 세계를 강타했던 \\'오징어 게임\\'의 새로운 시즌! 자백의 대가: 전도연, 김고은 출연. 남편... \", \"postdate\": \"20250223\"}]', name='search_blogs', id='7f686dc1-d3c0-4b2e-a87f-addb24ee98b0', tool_call_id='37901440-3671-44ae-afd0-929b1a8d1dc5')]}}\n",
            "\n",
            "\n",
            "{'agent': {'messages': [AIMessage(content='2025년 넷플릭스 한국 드라마 기대작으로는 오징어 게임 시즌3, 광장, 트리거 등이 있습니다. 자세한 내용은 블로그를 참고해주세요.\\n\\n감사합니다! 챗봇을 종료합니다!', additional_kwargs={}, response_metadata={'prompt_feedback': {'block_reason': 0, 'safety_ratings': []}, 'finish_reason': 'STOP', 'safety_ratings': []}, id='run-87618958-3433-43b1-9ce0-6158c7f68852-0', usage_metadata={'input_tokens': 1676, 'output_tokens': 63, 'total_tokens': 1739, 'input_token_details': {'cache_read': 0}})]}}\n",
            "\n",
            "\n"
          ]
        }
      ],
      "source": [
        "for event in graph.stream(\n",
        "    Command(resume={\"action\": \"update\", \"data\": {\"query\": \"2025 넷플릭스 한국드라마 기대작\"}}),\n",
        "    thread,\n",
        "    stream_mode=\"updates\",\n",
        "):\n",
        "    print(event)\n",
        "    print(\"\\n\")"
      ]
    },
    {
      "cell_type": "markdown",
      "metadata": {
        "id": "jj0mB9XOndIH"
      },
      "source": [
        "### feedback   \n",
        "구현 방식에 따라, 자연어로 구성된 피드백을 전달하면 이를 반영하여 수정할 수도 있습니다."
      ]
    },
    {
      "cell_type": "code",
      "execution_count": null,
      "metadata": {
        "id": "QSlB7RZZndIH",
        "colab": {
          "base_uri": "https://localhost:8080/"
        },
        "outputId": "4cf739ce-020c-4212-d5df-38d1574df1ed"
      },
      "outputs": [
        {
          "output_type": "stream",
          "name": "stdout",
          "text": [
            "오늘 친구들이랑 역삼역에 가기로 했는데, 역삼 근처 카페 추천해줘.\n",
            "{'get_user_input': {'messages': [HumanMessage(content='오늘 친구들이랑 역삼역에 가기로 했는데, 역삼 근처 카페 추천해줘.', additional_kwargs={}, response_metadata={}, id='7a663bc9-15a8-49a3-8590-3411d1af5a4a')]}}\n",
            "\n",
            "\n",
            "{'agent': {'messages': [AIMessage(content='', additional_kwargs={'function_call': {'name': 'search_blogs', 'arguments': '{\"display\": 5.0, \"query\": \"\\\\uc5ed\\\\uc0bc\\\\uc5ed \\\\uadfc\\\\ucc98 \\\\uce74\\\\ud398\", \"sort\": \"sim\"}'}}, response_metadata={'prompt_feedback': {'block_reason': 0, 'safety_ratings': []}, 'finish_reason': 'STOP', 'safety_ratings': []}, id='run-284e5df8-3136-4a36-ac7b-296cb42b0331-0', tool_calls=[{'name': 'search_blogs', 'args': {'display': 5.0, 'query': '역삼역 근처 카페', 'sort': 'sim'}, 'id': 'b60617f9-1478-426e-82b5-88caf3b04537', 'type': 'tool_call'}], usage_metadata={'input_tokens': 157, 'output_tokens': 14, 'total_tokens': 171, 'input_token_details': {'cache_read': 0}})]}}\n",
            "\n",
            "\n",
            "{'__interrupt__': (Interrupt(value={'question': '이대로 진행할까요?', 'tool_call': {'name': 'search_blogs', 'args': {'display': 5.0, 'query': '역삼역 근처 카페', 'sort': 'sim'}, 'id': 'b60617f9-1478-426e-82b5-88caf3b04537', 'type': 'tool_call'}}, resumable=True, ns=['human_review:0427fa3e-e623-0093-ee10-c1aaa1b05031']),)}\n",
            "\n",
            "\n"
          ]
        }
      ],
      "source": [
        "thread = {\"configurable\": {\"thread_id\": \"3\"}}\n",
        "\n",
        "for event in graph.stream(initial_input, thread, stream_mode=\"updates\"):\n",
        "    print(event)\n",
        "    print(\"\\n\")"
      ]
    },
    {
      "cell_type": "code",
      "execution_count": null,
      "metadata": {
        "id": "MDQNIVcAndIH",
        "colab": {
          "base_uri": "https://localhost:8080/"
        },
        "outputId": "e1b5d4d8-2d89-432d-898a-ace8154fb5ea"
      },
      "outputs": [
        {
          "output_type": "stream",
          "name": "stdout",
          "text": [
            "{'messages': [HumanMessage(content='오늘 친구들이랑 역삼역에 가기로 했는데, 역삼 근처 카페 추천해줘.', additional_kwargs={}, response_metadata={}, id='7a663bc9-15a8-49a3-8590-3411d1af5a4a'), AIMessage(content='', additional_kwargs={'function_call': {'name': 'search_blogs', 'arguments': '{\"display\": 5.0, \"query\": \"\\\\uc5ed\\\\uc0bc\\\\uc5ed \\\\uadfc\\\\ucc98 \\\\uce74\\\\ud398\", \"sort\": \"sim\"}'}}, response_metadata={'prompt_feedback': {'block_reason': 0, 'safety_ratings': []}, 'finish_reason': 'STOP', 'safety_ratings': []}, id='run-284e5df8-3136-4a36-ac7b-296cb42b0331-0', tool_calls=[{'name': 'search_blogs', 'args': {'display': 5.0, 'query': '역삼역 근처 카페', 'sort': 'sim'}, 'id': 'b60617f9-1478-426e-82b5-88caf3b04537', 'type': 'tool_call'}], usage_metadata={'input_tokens': 157, 'output_tokens': 14, 'total_tokens': 171, 'input_token_details': {'cache_read': 0}})]}\n",
            "\n",
            "\n",
            "Decision: feedback \n",
            " Content: 아 우리 보드게임카페 가기로 했어.\n",
            "{'messages': [HumanMessage(content='오늘 친구들이랑 역삼역에 가기로 했는데, 역삼 근처 카페 추천해줘.', additional_kwargs={}, response_metadata={}, id='7a663bc9-15a8-49a3-8590-3411d1af5a4a'), HumanMessage(content='아 우리 보드게임카페 가기로 했어.', additional_kwargs={}, response_metadata={}, id='run-284e5df8-3136-4a36-ac7b-296cb42b0331-0')]}\n",
            "\n",
            "\n",
            "{'messages': [HumanMessage(content='오늘 친구들이랑 역삼역에 가기로 했는데, 역삼 근처 카페 추천해줘.', additional_kwargs={}, response_metadata={}, id='7a663bc9-15a8-49a3-8590-3411d1af5a4a'), HumanMessage(content='아 우리 보드게임카페 가기로 했어.', additional_kwargs={}, response_metadata={}, id='run-284e5df8-3136-4a36-ac7b-296cb42b0331-0'), AIMessage(content='', additional_kwargs={'function_call': {'name': 'search_blogs', 'arguments': '{\"display\": 5.0, \"query\": \"\\\\uc5ed\\\\uc0bc \\\\ubcf4\\\\ub4dc\\\\uac8c\\\\uc784\\\\uce74\\\\ud398\", \"sort\": \"sim\"}'}}, response_metadata={'prompt_feedback': {'block_reason': 0, 'safety_ratings': []}, 'finish_reason': 'STOP', 'safety_ratings': []}, id='run-e6cc0bae-b02f-48a1-8caa-2c7bc7878894-0', tool_calls=[{'name': 'search_blogs', 'args': {'display': 5.0, 'query': '역삼 보드게임카페', 'sort': 'sim'}, 'id': '1d71262a-e08b-45f6-b0fb-22f9fdc2a51d', 'type': 'tool_call'}], usage_metadata={'input_tokens': 172, 'output_tokens': 15, 'total_tokens': 187, 'input_token_details': {'cache_read': 0}})]}\n",
            "\n",
            "\n"
          ]
        }
      ],
      "source": [
        "for event in graph.stream(\n",
        "    Command(\n",
        "        resume={\n",
        "            \"action\": \"feedback\",\n",
        "            \"data\": \"아 우리 보드게임카페 가기로 했어.\",\n",
        "        }\n",
        "    ),\n",
        "    thread,\n",
        "    stream_mode=\"values\",\n",
        "):\n",
        "    print(event)\n",
        "    print(\"\\n\")"
      ]
    },
    {
      "cell_type": "code",
      "execution_count": null,
      "metadata": {
        "id": "_hsaKpcvndIH",
        "colab": {
          "base_uri": "https://localhost:8080/"
        },
        "outputId": "580cc0d8-0df6-4d53-a3e9-fd5ed7f20d68"
      },
      "outputs": [
        {
          "output_type": "stream",
          "name": "stdout",
          "text": [
            "다음 상태\n",
            "('human_review',)\n"
          ]
        }
      ],
      "source": [
        "# 다시 Agent로 전달되었으므로 다시 Interrupt 발생\n",
        "print(\"다음 상태\")\n",
        "print(graph.get_state(thread).next)"
      ]
    },
    {
      "cell_type": "code",
      "execution_count": null,
      "metadata": {
        "id": "tcCytpvqndIH",
        "colab": {
          "base_uri": "https://localhost:8080/"
        },
        "outputId": "662a35b6-2886-4732-ec33-c0c7a0c47f44"
      },
      "outputs": [
        {
          "output_type": "stream",
          "name": "stdout",
          "text": [
            "Decision: continue \n",
            " Content: None\n",
            "{'human_review': None}\n",
            "\n",
            "\n",
            "{'run_tool': {'messages': [ToolMessage(content='[{\"title\": \"[강남/역삼] 보드게임카페 레드버튼 시네마강남\", \"link\": \"https://blog.naver.com/h0neylight/223593471719\", \"description\": \"보드게임카페 레드버튼 시네마강남 주소 : 서울 강남구 강남대로 422 4층, 5층 번호 : 02-556-3799 영업시간 : 매일 13:00 ~ 01:00 이 포스팅은 일절 협찬 받지 않은 내돈내산이며, 평가 또한 주관적임을... \", \"postdate\": \"20240923\"}, {\"title\": \"강남역놀거리 역삼역보드게임카페 다이스타운\", \"link\": \"https://blog.naver.com/keyofus/223785125217\", \"description\": \"강남보드게임카페 다이스타운과 사랑에 빠진 순간 먼저 자리안내를 해주시는데, 자리에서 메뉴판을 보고 원하는 게임들과 음료를 골라요! 강남역보드게임카페 다이스타운의 특별한점은 구매도 가능하다는... \", \"postdate\": \"20250305\"}, {\"title\": \"[강남역/신논현역/역삼역]넓고 쾌적한 보드게임 카페... \", \"link\": \"https://blog.naver.com/yeshyun16/223096748792\", \"description\": \"게임은 한개씩! 중도입장,퇴실 시 카운터에 문의~ 기본적인 주의사항 아시죠? 규모가 엄청커서 방도... 테이블그라운드강남점 #역삼역보드게임카페 #신논현보드게임카페 #신논현실내데이트 #역삼실내데이트... \", \"postdate\": \"20230508\"}, {\"title\": \"[역삼 만화카페, 보드게임 카페/ 만화책, 보드게임 놀거리]... \", \"link\": \"https://blog.naver.com/sophia0p0/223483498296\", \"description\": \"하이하이호 오늘은 역삼의 만화카페를 소개해볼까해요 만화책만 있는 줄 알았는데 옆 방에는 보드게임도 할 수 있는 자리도 있습니다! 너무 조용한 곳에서 보는것 보다 소음있는 곳에서 보는게 좋다 하시는... \", \"postdate\": \"20240618\"}, {\"title\": \"역삼 놀거리 양배추 보드카페 보드게임 3분만에 읽어보기\", \"link\": \"https://blog.naver.com/ting317/223736089800\", \"description\": \"게임 즐기고 싶다면 양배추 보드카페가 어떨까 싶어요 이야기 하고 나니까 또 가고 싶어졌어요 메뉴판도 직접 찍어왔는데요! 이거 또 보드게임 하면서 맥주한잔! 정신집중 얼사박 한잔! 안 할 수가 없죠? 역삼... \", \"postdate\": \"20250123\"}]', name='search_blogs', id='6bfc14a0-ffee-47f0-96b6-c334392f50cb', tool_call_id='1d71262a-e08b-45f6-b0fb-22f9fdc2a51d')]}}\n",
            "\n",
            "\n",
            "{'agent': {'messages': [AIMessage(content='역삼역 근처 보드게임 카페를 찾으시는군요! 검색 결과, 다음과 같은 장소들이 인기 있는 것 같습니다.\\n\\n*   **레드버튼 시네마강남**: 강남역과 역삼역 사이에 위치해 있으며, 넓고 쾌적한 환경을 자랑합니다. 다양한 보드게임은 물론, 영화를 볼 수 있는 공간도 마련되어 있습니다.\\n*   **다이스타운**: 강남역 근처에 위치해 있으며, 다양한 보드게임을 즐길 수 있습니다. 보드게임을 구매할 수도 있다는 장점이 있습니다.\\n*   **테이블그라운드 강남점**: 역삼역과 신논현역 사이에 위치해 있으며, 넓은 공간에서 다양한 보드게임을 즐길 수 있습니다.\\n*   **만화카페**: 만화책뿐만 아니라 보드게임도 즐길 수 있는 공간입니다. 조용한 분위기보다는 활기찬 분위기에서 게임을 즐기고 싶다면 좋은 선택이 될 수 있습니다.\\n*   **양배추 보드카페**: 다양한 보드게임과 함께 맥주를 즐길 수 있는 곳입니다. 친구들과 함께 가볍게 맥주를 마시면서 게임을 즐기고 싶다면 추천합니다.\\n\\n이 외에도 다양한 보드게임 카페가 있으니, 친구들과 함께 취향에 맞는 곳을 선택해 즐거운 시간 보내시길 바랍니다!\\n\\n감사합니다! 챗봇을 종료합니다!', additional_kwargs={}, response_metadata={'prompt_feedback': {'block_reason': 0, 'safety_ratings': []}, 'finish_reason': 'STOP', 'safety_ratings': []}, id='run-683fe7fa-b978-48c1-9b56-d4b90c37cc48-0', usage_metadata={'input_tokens': 932, 'output_tokens': 375, 'total_tokens': 1307, 'input_token_details': {'cache_read': 0}})]}}\n",
            "\n",
            "\n"
          ]
        }
      ],
      "source": [
        "for event in graph.stream(\n",
        "    Command(resume={\"action\": \"continue\"}),\n",
        "    thread,\n",
        "    stream_mode=\"updates\",\n",
        "):\n",
        "    print(event)\n",
        "    print(\"\\n\")"
      ]
    },
    {
      "cell_type": "markdown",
      "source": [
        "Langsmith (https://smith.langchain.com )에서 실행 결과를 확인할 수 있습니다."
      ],
      "metadata": {
        "id": "kCEGQlxqrSWD"
      }
    },
    {
      "cell_type": "code",
      "source": [],
      "metadata": {
        "id": "k258S01vrRl0"
      },
      "execution_count": null,
      "outputs": []
    }
  ],
  "metadata": {
    "kernelspec": {
      "display_name": "Python 3",
      "language": "python",
      "name": "python3"
    },
    "language_info": {
      "codemirror_mode": {
        "name": "ipython",
        "version": 3
      },
      "file_extension": ".py",
      "mimetype": "text/x-python",
      "name": "python",
      "nbconvert_exporter": "python",
      "pygments_lexer": "ipython3",
      "version": "3.12.9"
    },
    "colab": {
      "provenance": []
    }
  },
  "nbformat": 4,
  "nbformat_minor": 0
}