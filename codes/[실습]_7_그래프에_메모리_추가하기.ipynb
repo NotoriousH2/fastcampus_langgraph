{
  "cells": [
    {
      "cell_type": "markdown",
      "metadata": {
        "id": "vzedOJ6Xc_YN"
      },
      "source": [
        "# [실습] 그래프에 메모리 추가하기   \n",
        "\n",
        "랭그래프의 메모리 기능을 통해, 이전의 실행 내용을 기억하도록 설정할 수 있습니다.   \n",
        "\n",
        "세션 내부의 단기 기억에 해당하는 Checkpoint와, 장기 기억에 해당하는 Storage를 사용합니다.\n",
        "<br><br>\n",
        "\n",
        "**이번 실습은 GPU가 필요합니다. 오른쪽 탭의 \"런타임 유형 변경\"을 통해 T4 GPU로 체크하고 진행해 주세요!**\n",
        "\n",
        "\n",
        "\n",
        "\n"
      ]
    },
    {
      "cell_type": "markdown",
      "metadata": {
        "id": "rRTPqNYOc_YO"
      },
      "source": [
        "기본 라이브러리를 설치합니다."
      ]
    },
    {
      "cell_type": "code",
      "execution_count": null,
      "metadata": {
        "colab": {
          "base_uri": "https://localhost:8080/"
        },
        "id": "F6ZLhY9hc_YO",
        "outputId": "ea2e69db-73c6-4558-dfba-c98b70ebcced"
      },
      "outputs": [],
      "source": [
        "!pip install langgraph langchain langchain_google_genai langchain_community langgraph-checkpoint-sqlite rich"
      ]
    },
    {
      "cell_type": "markdown",
      "metadata": {
        "id": "0uivwnmsc_YO"
      },
      "source": [
        "API 키와 LLM을 구성합니다."
      ]
    },
    {
      "cell_type": "code",
      "execution_count": null,
      "metadata": {
        "id": "Vped4RdNc_YO"
      },
      "outputs": [],
      "source": [
        "import os\n",
        "os.environ['GOOGLE_API_KEY'] = 'AIxxx'\n",
        "\n",
        "from langchain_core.rate_limiters import InMemoryRateLimiter\n",
        "from langchain_google_genai import ChatGoogleGenerativeAI\n",
        "\n",
        "# Gemini API는 분당 10개 요청으로 제한\n",
        "# 즉, 초당 약 0.167개 요청 (10/60)\n",
        "rate_limiter = InMemoryRateLimiter(\n",
        "    requests_per_second=0.167,  # 분당 10개 요청\n",
        "    check_every_n_seconds=0.1,  # 100ms마다 체크\n",
        "    max_bucket_size=10,  # 최대 버스트 크기\n",
        ")\n",
        "\n",
        "llm = ChatGoogleGenerativeAI(\n",
        "    model=\"gemini-2.5-flash\",\n",
        "    rate_limiter=rate_limiter,\n",
        "    # temperature\n",
        "    # max_tokens\n",
        "\n",
        "    thinking_budget = 500  # 추론(Reasoning) 토큰 길이 제한\n",
        ")"
      ]
    },
    {
      "cell_type": "markdown",
      "metadata": {
        "id": "GwsmW0edc_YO"
      },
      "source": [
        "중간 과정 확인을 위해, LangSmith를 연동합니다.\n",
        "https://smith.langchain.com 에서 등록 후 작성합니다."
      ]
    },
    {
      "cell_type": "code",
      "execution_count": null,
      "metadata": {
        "id": "cz82pgiMc_YP"
      },
      "outputs": [],
      "source": [
        "os.environ['LANGCHAIN_API_KEY'] = ''\n",
        "os.environ['LANGCHAIN_PROJECT'] = 'LangGraph_FastCampus'\n",
        "os.environ['LANGCHAIN_ENDPOINT'] = 'https://api.smith.langchain.com'\n",
        "os.environ['LANGCHAIN_TRACING_V2']='true'"
      ]
    },
    {
      "cell_type": "markdown",
      "metadata": {
        "id": "H4MRLJRdc_YP"
      },
      "source": [
        "## Checkpoint(체크포인트)\n",
        "\n",
        "체크포인트는 그래프 실행의 상태와 중간 단계를 저장하고 관리합니다.    "
      ]
    },
    {
      "cell_type": "markdown",
      "metadata": {
        "id": "xgo7P78xc_YP"
      },
      "source": [
        "<br><br>체크포인트를 저장하기 위해 MemorySaver를 구성합니다."
      ]
    },
    {
      "cell_type": "code",
      "execution_count": null,
      "metadata": {
        "id": "FrH0xkgrc_YP"
      },
      "outputs": [],
      "source": [
        "# 메모리 세팅\n",
        "from langgraph.checkpoint.memory import MemorySaver\n",
        "\n",
        "memory = MemorySaver()"
      ]
    },
    {
      "cell_type": "markdown",
      "metadata": {
        "id": "R3EqwnDXc_YP"
      },
      "source": [
        "구성된 체크포인터는 `compile`에 포함하여 실행하면 됩니다."
      ]
    },
    {
      "cell_type": "code",
      "execution_count": null,
      "metadata": {
        "colab": {
          "base_uri": "https://localhost:8080/",
          "height": 251
        },
        "id": "KquynAnmc_YP",
        "outputId": "abac39cf-96cb-4a75-ff0a-35764815c00c"
      },
      "outputs": [],
      "source": [
        "from typing import Annotated\n",
        "from typing_extensions import TypedDict, List\n",
        "from langgraph.graph.message import add_messages\n",
        "from langgraph.graph import StateGraph, state, START\n",
        "\n",
        "class State(TypedDict):\n",
        "    messages: Annotated[list, add_messages]\n",
        "    foo: str\n",
        "\n",
        "\n",
        "def call_model(state: State):\n",
        "    response = llm.invoke(state[\"messages\"])\n",
        "    return {\"messages\": response}\n",
        "\n",
        "\n",
        "builder = StateGraph(State)\n",
        "\n",
        "builder.add_node(\"call_model\", call_model)\n",
        "builder.add_edge(START, \"call_model\")\n",
        "graph = builder.compile(checkpointer=memory)\n",
        "\n",
        "graph\n",
        "# memory에 기록 저장"
      ]
    },
    {
      "cell_type": "markdown",
      "metadata": {
        "id": "Q8cvyRXAc_YP"
      },
      "source": [
        "체크포인터에서, 각각의 실행은 `thread`라는 이름으로 구분됩니다.   \n",
        "thread_id를 활용해, 이전 출력의 정보를 저장할 수 있습니다."
      ]
    },
    {
      "cell_type": "code",
      "execution_count": null,
      "metadata": {
        "colab": {
          "base_uri": "https://localhost:8080/"
        },
        "id": "1tbf3IFgc_YP",
        "outputId": "077ad2a8-54f3-4e72-ba7f-d13f4d7375e0"
      },
      "outputs": [],
      "source": [
        "from langchain_core.messages import HumanMessage, AIMessage, SystemMessage\n",
        "\n",
        "# thread_id를 통해 매 실행의 체크포인트 저장\n",
        "config = {\"configurable\": {\"thread_id\": \"1\"}}\n",
        "\n",
        "\n",
        "input_message = HumanMessage(input())\n",
        "\n",
        "for chunk in graph.stream({\"messages\": [input_message]},\n",
        "                          config, stream_mode=\"values\"):\n",
        "    chunk[\"messages\"][-1].pretty_print()"
      ]
    },
    {
      "cell_type": "code",
      "execution_count": null,
      "metadata": {
        "colab": {
          "base_uri": "https://localhost:8080/"
        },
        "id": "osjraGxRc_YP",
        "outputId": "1941bfdc-679d-4617-e000-73d2ce49565f"
      },
      "outputs": [],
      "source": [
        "input_message = {\"role\": \"user\", \"content\": \"내가 뭐라고 했지?\"}\n",
        "for chunk in graph.stream({\"messages\": [input_message]}, config, stream_mode=\"values\"):\n",
        "    chunk[\"messages\"][-1].pretty_print()"
      ]
    },
    {
      "cell_type": "markdown",
      "metadata": {
        "id": "2sM1YKIgc_YP"
      },
      "source": [
        "해당 체크포인트의 내용은 `thread_id`에 귀속됩니다."
      ]
    },
    {
      "cell_type": "code",
      "execution_count": null,
      "metadata": {
        "colab": {
          "base_uri": "https://localhost:8080/"
        },
        "id": "e-xROVaRc_YP",
        "outputId": "18b38fbb-7f19-4765-e898-3c5755a62a75"
      },
      "outputs": [],
      "source": [
        "config = {\"configurable\": {\"thread_id\": \"2\"}}\n",
        "\n",
        "input_message = {\"role\": \"user\", \"content\": \"내가 뭐라고 했지?\"}\n",
        "for chunk in graph.stream({\"messages\": [input_message]}, config, stream_mode=\"values\"):\n",
        "    chunk[\"messages\"][-1].pretty_print()"
      ]
    },
    {
      "cell_type": "markdown",
      "metadata": {
        "id": "bSN-nBjBc_YP"
      },
      "source": [
        "`get_state`를 통해 진행된 스레드의 마지막 상태를 볼 수 있습니다.   \n",
        "해당 상태에는 State의 스냅샷 정보가 저장되어 있습니다."
      ]
    },
    {
      "cell_type": "code",
      "execution_count": null,
      "metadata": {
        "colab": {
          "base_uri": "https://localhost:8080/",
          "height": 1000
        },
        "id": "q8N6Seirc_YP",
        "outputId": "f2bf4229-fea3-4c34-d462-34ea5b38cc61"
      },
      "outputs": [],
      "source": [
        "from rich import print as rprint\n",
        "config = {\"configurable\": {\"thread_id\": \"1\"}}\n",
        "\n",
        "rprint(graph.get_state(config))"
      ]
    },
    {
      "cell_type": "markdown",
      "metadata": {
        "id": "bA92cncuc_YQ"
      },
      "source": [
        "`get_state_history()`는 전체 스냅샷 목록을 순서대로 보여줍니다."
      ]
    },
    {
      "cell_type": "code",
      "execution_count": null,
      "metadata": {
        "colab": {
          "base_uri": "https://localhost:8080/"
        },
        "id": "mr0tKxaJc_YQ",
        "outputId": "4b54c110-7f34-43ef-c2fe-79c50e302f6c"
      },
      "outputs": [],
      "source": [
        "history = list(graph.get_state_history(config))\n",
        "history"
      ]
    },
    {
      "cell_type": "code",
      "execution_count": null,
      "metadata": {
        "colab": {
          "base_uri": "https://localhost:8080/"
        },
        "id": "qzzjFMpKc_YQ",
        "outputId": "f5a744f4-8a2e-48ba-b9f6-05ab27049cfc"
      },
      "outputs": [],
      "source": [
        "for i in range(len(history)):\n",
        "    print(history[i].config, len(history[i].values['messages']))\n",
        "    # 메시지 개수와 config 정보"
      ]
    },
    {
      "cell_type": "markdown",
      "metadata": {
        "id": "AaT5t16hc_YQ"
      },
      "source": [
        "## Replay\n",
        "\n",
        "위에서 얻은 Snapshot을 활용하면, 특정 시점부터 시작하는 것도 가능합니다.   "
      ]
    },
    {
      "cell_type": "code",
      "execution_count": null,
      "metadata": {
        "colab": {
          "base_uri": "https://localhost:8080/"
        },
        "id": "0cB4KuZnc_YQ",
        "outputId": "b0f708ad-67b2-4a21-c08c-3124aa1ec31b"
      },
      "outputs": [],
      "source": [
        "history[1].values"
      ]
    },
    {
      "cell_type": "markdown",
      "metadata": {
        "id": "ALUgDC5Uc_YQ"
      },
      "source": [
        "HumanMessage의 특정 시점부터 재시작합니다."
      ]
    },
    {
      "cell_type": "code",
      "execution_count": null,
      "metadata": {
        "colab": {
          "base_uri": "https://localhost:8080/"
        },
        "id": "alid1Crjc_YQ",
        "outputId": "60bc4a79-b802-42fb-ac03-657c6670f259"
      },
      "outputs": [],
      "source": [
        "graph.invoke(None, config = history[1].config)"
      ]
    },
    {
      "cell_type": "markdown",
      "metadata": {
        "id": "ciIXhCwec_YQ"
      },
      "source": [
        "Replay를 수행하면, graph의 history에는 해당 실행 결과가 추가됩니다."
      ]
    },
    {
      "cell_type": "code",
      "execution_count": null,
      "metadata": {
        "colab": {
          "base_uri": "https://localhost:8080/"
        },
        "id": "V2TlIIYkc_YQ",
        "outputId": "8f7847d3-8844-48d3-b671-57f72ad30ae8"
      },
      "outputs": [],
      "source": [
        "history = list(graph.get_state_history(config))\n",
        "history"
      ]
    },
    {
      "cell_type": "markdown",
      "metadata": {
        "id": "vuZU4Yavc_YQ"
      },
      "source": [
        "특정 스냅샷의 값을 수정할 수도 있습니다. 이 경우, Reducer의 정의에 맞게 처리됩니다."
      ]
    },
    {
      "cell_type": "code",
      "execution_count": null,
      "metadata": {
        "colab": {
          "base_uri": "https://localhost:8080/"
        },
        "id": "ElGs2TA-c_YQ",
        "outputId": "8048559b-0702-4e89-b385-f39c08e7e691"
      },
      "outputs": [],
      "source": [
        "graph.update_state(config = history[0].config, values= {'messages':'저녁 뭐 먹을까?'})"
      ]
    },
    {
      "cell_type": "code",
      "execution_count": null,
      "metadata": {
        "colab": {
          "base_uri": "https://localhost:8080/",
          "height": 1000
        },
        "id": "Td5Thpnbc_YQ",
        "outputId": "3ce6a1ab-bc78-47e2-c333-bcde11168e76"
      },
      "outputs": [],
      "source": [
        "history = list(graph.get_state_history(config))\n",
        "rprint(history[0])"
      ]
    },
    {
      "cell_type": "code",
      "execution_count": null,
      "metadata": {
        "colab": {
          "base_uri": "https://localhost:8080/"
        },
        "id": "gYdayqyic_YQ",
        "outputId": "363c30fe-c731-4634-d74a-6b8a02a57df4"
      },
      "outputs": [],
      "source": [
        "graph.invoke(None, config = history[0].config)"
      ]
    },
    {
      "cell_type": "markdown",
      "metadata": {
        "id": "PYHw6rhIeQwJ"
      },
      "source": [
        "## SQLite를 이용한 Checkpointing"
      ]
    },
    {
      "cell_type": "markdown",
      "metadata": {
        "id": "RMeF0TXbeeMX"
      },
      "source": [
        "`SqliteSaver`를 사용해, 체크포인팅을 저장할 수 있습니다."
      ]
    },
    {
      "cell_type": "code",
      "execution_count": null,
      "metadata": {
        "id": "k6P-QVy2eQKL"
      },
      "outputs": [],
      "source": [
        "from langgraph.checkpoint.sqlite import SqliteSaver\n",
        "import sqlite3\n",
        "\n",
        "conn = sqlite3.connect(\"checkpoints.sqlite\", check_same_thread=False)\n",
        "checkpointer = SqliteSaver(conn)\n",
        "\n",
        "graph = builder.compile(checkpointer=checkpointer)\n"
      ]
    },
    {
      "cell_type": "code",
      "execution_count": null,
      "metadata": {
        "colab": {
          "base_uri": "https://localhost:8080/"
        },
        "id": "y51DH3RUgLRA",
        "outputId": "d2c202ef-3c93-4a0b-8225-5e94e852184c"
      },
      "outputs": [],
      "source": [
        "config = {\"configurable\": {\"thread_id\": \"1\"}}\n",
        "\n",
        "\n",
        "input_message = HumanMessage(input())\n",
        "\n",
        "for chunk in graph.stream({\"messages\": [input_message]},\n",
        "                          config, stream_mode=\"values\"):\n",
        "    chunk[\"messages\"][-1].pretty_print()"
      ]
    },
    {
      "cell_type": "code",
      "execution_count": null,
      "metadata": {
        "colab": {
          "base_uri": "https://localhost:8080/"
        },
        "id": "s3qzfldmgs83",
        "outputId": "efafa710-63d7-4086-a7da-a663bd036035"
      },
      "outputs": [],
      "source": [
        "input_message = {\"role\": \"user\", \"content\": \"오늘 저녁은 뭐 먹을까?\"}\n",
        "for chunk in graph.stream({\"messages\": [input_message]}, config, stream_mode=\"values\"):\n",
        "    chunk[\"messages\"][-1].pretty_print()"
      ]
    },
    {
      "cell_type": "markdown",
      "metadata": {
        "id": "iGolsE_rc_YQ"
      },
      "source": [
        "## Store를 이용한 장기 메모리 추가하기   \n",
        "\n",
        "Thread Checkpoint는 단일 세션의 메모리를 저장하기에는 효과적이지만,   \n",
        "세션이 유지되지 않는 경우에는 다른 방법이 필요합니다.   \n",
        "\n",
        "InMemoryStore를 통해, 장기 메모리를 추가할 수 있습니다.\n"
      ]
    },
    {
      "cell_type": "code",
      "execution_count": null,
      "metadata": {
        "id": "ugR2D-yQc_YQ"
      },
      "outputs": [],
      "source": [
        "from langgraph.store.memory import InMemoryStore\n",
        "in_memory_store = InMemoryStore()"
      ]
    },
    {
      "cell_type": "markdown",
      "metadata": {
        "id": "1vwV1gyUc_YQ"
      },
      "source": [
        "Namespace를 통해 메모리 위치를 설정합니다."
      ]
    },
    {
      "cell_type": "code",
      "execution_count": null,
      "metadata": {
        "id": "DPdOsjE6c_YQ"
      },
      "outputs": [],
      "source": [
        "namespace_for_memory = ('1', 'memories')"
      ]
    },
    {
      "cell_type": "code",
      "execution_count": null,
      "metadata": {
        "colab": {
          "base_uri": "https://localhost:8080/"
        },
        "id": "ruj4D-ekc_YQ",
        "outputId": "7f74ba97-34f2-42a4-8669-0f714ee6decd"
      },
      "outputs": [],
      "source": [
        "import uuid\n",
        "memory_id = str(uuid.uuid4())\n",
        "\n",
        "memory = {'information' : \"지금은 랭그래프 메모리 실습 중입니다.\"}\n",
        "in_memory_store.put(namespace_for_memory, memory_id, memory)\n",
        "memories = in_memory_store.search(namespace_for_memory)\n",
        "memories"
      ]
    },
    {
      "cell_type": "code",
      "execution_count": null,
      "metadata": {
        "colab": {
          "base_uri": "https://localhost:8080/"
        },
        "id": "M174_QRNc_YR",
        "outputId": "eb1f7769-2492-44df-c951-42429503123b"
      },
      "outputs": [],
      "source": [
        "memory = {'name' : \"FastCampus\"}\n",
        "memory_id = str(uuid.uuid4())\n",
        "\n",
        "in_memory_store.put(namespace_for_memory, memory_id, memory)\n",
        "# memory_id에 매핑되는 구조\n",
        "\n",
        "memories = in_memory_store.search(namespace_for_memory)\n",
        "memories\n"
      ]
    },
    {
      "cell_type": "code",
      "execution_count": null,
      "metadata": {
        "colab": {
          "base_uri": "https://localhost:8080/"
        },
        "id": "_kagTVnIc_YR",
        "outputId": "c62545de-f41f-4cf7-931b-037fb804bf87"
      },
      "outputs": [],
      "source": [
        "# 메모리 레코드 추가하기\n",
        "memory_id = str(uuid.uuid4())\n",
        "new_memory  = {'name' : \"LangGraph\"}\n",
        "\n",
        "in_memory_store.put(namespace_for_memory, memory_id, new_memory)\n",
        "# memory_id에 매핑되는 구조\n",
        "\n",
        "memories = in_memory_store.search(namespace_for_memory)\n",
        "memories"
      ]
    },
    {
      "cell_type": "code",
      "execution_count": null,
      "metadata": {
        "colab": {
          "base_uri": "https://localhost:8080/"
        },
        "id": "TTMXsqd1c_YW",
        "outputId": "2511b68a-91ce-485e-b3b0-595db5f554af"
      },
      "outputs": [],
      "source": [
        "# 메모리 덮어씌우기\n",
        "new_memory  = {'name' : \"패스트캠퍼스\"}\n",
        "\n",
        "in_memory_store.put(namespace_for_memory, memory_id, new_memory)\n",
        "# memory_id에 매핑되는 구조\n",
        "\n",
        "memories = in_memory_store.search(namespace_for_memory)\n",
        "memories"
      ]
    },
    {
      "cell_type": "code",
      "execution_count": null,
      "metadata": {
        "colab": {
          "base_uri": "https://localhost:8080/"
        },
        "id": "pop9L8FTc_YW",
        "outputId": "5669d113-0344-4b5e-bd5c-e620f28def99"
      },
      "outputs": [],
      "source": [
        "memories[-1].dict()"
      ]
    },
    {
      "cell_type": "markdown",
      "metadata": {
        "id": "we0phY9Kc_YW"
      },
      "source": [
        "## memory 검색    \n",
        "메모리에 임베딩 모델을 설정하면 임베딩 기반의 인덱싱/검색이 가능합니다.    \n",
        "주로 사용할 수 있는 다국어 임베딩은 다음과 같습니다.   \n",
        "1. 온라인/ OpenAI의 `text-embedding-3-small`, `text-embedding-3-large` (유료)\n",
        "2. 온라인/ Google `gemini-embedding-exp-03-07` (유료, 무료 제한 1일 100개)\n",
        "3. 오프라인/ HuggingFace에서 지원하는 `bge-m3`, `multilingual-e5`, `KURE-v1`    \n",
        "\n",
        "이번 실습에서는 가장 작은 임베딩 모델 중 하나인 `text-embedding-3-small`를 사용합니다.   \n",
        "\n",
        "**실제 임베딩 모델을 선정하실 때는 GPU 자원에 따라 MTEB 리더보드 (https://huggingface.co/spaces/mteb/leaderboard) 에서 한국어 성능 순위를 참고하시는 것을 추천합니다!**"
      ]
    },
    {
      "cell_type": "code",
      "execution_count": null,
      "metadata": {
        "colab": {
          "base_uri": "https://localhost:8080/",
          "height": 1000
        },
        "id": "1m1mUU-Sc_YW",
        "outputId": "ddb1d1b9-8783-4302-e4a5-e3d7a9caa408"
      },
      "outputs": [],
      "source": [
        "!pip install langchain-huggingface sentence-transformers"
      ]
    },
    {
      "cell_type": "markdown",
      "metadata": {
        "id": "tUBgB-fsc_YW"
      },
      "source": [
        "HuggingFace에서 임베딩을 다운로드하여 로컬 폴더에 저장합니다."
      ]
    },
    {
      "cell_type": "code",
      "execution_count": null,
      "metadata": {
        "colab": {
          "base_uri": "https://localhost:8080/",
          "height": 467,
          "referenced_widgets": [
            "e7c913b7775e4de7a1174a821ecf107a",
            "c109006238424488865711abe50fc5db",
            "7df6845f3b404767ad3fa577838fa874",
            "d934bab438a140bea8fd1d5d902def02",
            "9f1f2d911da94e179eab8e7bffade83e",
            "b6425d3b29344257b4490cb85eb4fd94",
            "b6db4881d8464b129428aa95a5d07add",
            "bfadc89b205d4306a59d7cb21913fd54",
            "8a7deaacdf1f4a328955f2e19a855e80",
            "24a68273ff57482795eb56095762e139",
            "7e2ba30d2d1f46b3b27f993c89d884d4",
            "e1f9a0dc09f34a8791fac195ecaf2ff1",
            "b4949caac21541a9a14acdccd811b886",
            "628a94cceba949b78159a175bbade706",
            "5f795b5767a045599b8735a7f9ae196a",
            "0b1260266a654691a988deae63a85331",
            "d1089768d4ec419ebe768270c498bfcf",
            "15a23b68dea84bc892edac56a9dbd4f3",
            "a57436fce12b48679b9f867e44936c72",
            "6f4427e5b6824deda0687a70d825d599",
            "cc90dfc2c330458ab28931e395218dcb",
            "54a417351fa947afa973b57115d753ea",
            "25e2733d6c544b48b630532138770038",
            "cc919e42913f4b7e99d69436526f55be",
            "2df597b19a324034bea10a4e797fe385",
            "76385acf69f64ac2935c4cacc21ec2de",
            "6bb4f086650248889a7140a48b1dc1aa",
            "19c597c9ac7f425f9f9d31bfb554f6eb",
            "6dc2391ab9f6476e8ee87a33326bda6a",
            "f12866ae3c7b488a9cd59a1f8320b53f",
            "cc091577b10a40fa9d97766bd57b4933",
            "73b9d91f4f5742ba8ebfefaadd0e679e",
            "6aacfe7c7942458e9de767171b46e39e",
            "b94c0a4c782344d59ece331a94337c20",
            "4da1b0ff60c6438fa56cb38f3704f741",
            "e773a43f9b3a4b2fa9cca3937fc32b59",
            "0681e68dbad842be9f473ef1564f0228",
            "ddd1b31273a54b228ac8d668c9cfd9ef",
            "6f70e5302ea14a0592bf10dfa76f4ce2",
            "c0837f90a5ae4ba7a318604705c4d9fe",
            "5401a083fa454759abbdf3f3759bdf22",
            "a9bd6807216f45b6b67b36b97a66d733",
            "c13d1941dc2048af97ea5cba9c6e768a",
            "452f3705575d44f2a3f3ecdd657a6342",
            "6b868c1085db4b2f88fd249bd7d2ae55",
            "74cb0d2beacc4ca982d6185866ea8296",
            "5b6f38cbf23242818f5e1067b089ac93",
            "4325e27f64ff4194b773bc6833b39ee1",
            "dac58868ad9144468c692cf6a3064ed2",
            "22a5cb9cabc94ed8a06b40e0dfb9be23",
            "c59eb75465fd40b4b95204672f497bf3",
            "fd5348c6288d4908b69ef234185e8a6b",
            "0d62d5b6b8b845dcbef0ad5511cde8e3",
            "4fcfdf7c5af14098aa472da3970391b2",
            "b08dd04259ac4daf9f6c44e49321c716",
            "58db822343b541009b7771fd9da4713b",
            "c635505f06e344eabfc3c649ca0dd1d4",
            "168aa02700744ed8afd923a2d6785fde",
            "0b0902fcdffa4ce49338c2c5cf733db6",
            "56ca874924284cf39f6e4794397c0086",
            "6900547f804c4e2881f99b90f249fa99",
            "ad6ff0421150464bb2a2b21e50a9397f",
            "768d91fb3627426caa07ac4c058f9332",
            "87997a76edfc422f9cc9fea9aee85796",
            "a6ad5525f9ee43f18ea3ce1587882312",
            "5aa45d6402d445bc9db52517af7ea799",
            "57a8d7041f9d4198a781b60218840803",
            "3cd28b10ca884d828544c0cd2379ad0a",
            "92c26f3da5d94515a20e70ee30f85eb6",
            "1d2215ebc46f42898757c8fbbfd01d71",
            "10a09fcbeb0b4841bf46c4ed29a7d517",
            "e40f845709294cb0b60893330364f6f4",
            "ac540e8a52b44569a50b829c680ed5ea",
            "f101b553cc5f4085ac5e82fab4e8087e",
            "a9e93b17c15f4995ba9af579287d1bd0",
            "8ff65194d0544b989a233be45e4834be",
            "0e7a430f698a4eda9fa3bf9c3580ad25",
            "5d7104e8b7914f00b5d6a2dd592dab59",
            "74fed37fecd74d889a3b8b21578912f0",
            "df27dba2bc5045738450b159428278b5",
            "4ab1da4502c94b8ea5df099ae63c3efd",
            "2007edcb253042abbff010c9e8772932",
            "0d398c8152ee42d4b011a580e8657dc2",
            "8f8e9e25801440b4b94e7552ffb68224",
            "e5254b5831c34be3858009097391a14a",
            "7934f8a048b84800919e310f2d518f33",
            "7530b106122148399d55cb3c7e6df861",
            "b019814eece0458bbc7ac9791e9a45a2",
            "e7648751a37f48c696c910dd003b2dd9",
            "0b1f26d493a24fe28ebe3ad36123c25d",
            "2ea425bad36943598e568ae1e624c3e5",
            "7e61ef607c5548a888298e841b94491b",
            "7b9f7875178940dbac323141ace84356",
            "ab64fe76f54040c191766e3b0e6e0eaf",
            "124874f2f2d54c81a3579424b4889608",
            "5fe88de866c64d8a9e4c5e16a4166a0d",
            "993021ad801c4a65b0af69e09b0c89a9",
            "b0da76a392b34b39a066e10d21db6692",
            "523e871cb34e4341972e4fe54a52417b",
            "e73c281d58114b87a01b17dd63cac83a",
            "de413f547b114bda9c66ccb1884926f0",
            "c7781582b7fa4795977ff695bf7997d9",
            "9b3406017f47418797b894ae292271b9",
            "1e283b804d154e05a1d615a6ae101a55",
            "9c58a0ab90334d6dab26c01d2cf73eee",
            "947549a0d52f48039acdac252057d522",
            "d4726ffa58434f1ab92f3e4af9c73ede",
            "d1eaa2d1d59c460b9cbcefdd1b1f9076",
            "3a9301f3b1f646bb94704294d14647bb",
            "2a73aeb2910b411d8b74481b5121a9e7"
          ]
        },
        "id": "12rUAkjrc_YW",
        "outputId": "85a1db93-4a48-4db7-f9a9-abaad2a3cd24"
      },
      "outputs": [],
      "source": [
        "from sentence_transformers import SentenceTransformer\n",
        "\n",
        "# HuggingFace 임베딩 주소 지정하기\n",
        "# nlpai-lab/KURE-v1 , baai/bge-m3, 등의 주소를 입력하여 지정\n",
        "\n",
        "model_name = 'intfloat/multilingual-e5-small'\n",
        "\n",
        "# CPU 설정으로 모델 불러오기\n",
        "# device='cuda'로 변경하면 GPU에서 로드\n",
        "emb_model = SentenceTransformer(model_name, device='cpu')\n",
        "\n",
        "# 로컬 폴더에 모델 저장하기\n",
        "emb_model.save('./embedding')\n",
        "del emb_model\n",
        "\n",
        "import gc\n",
        "gc.collect()\n",
        "# 메모리 정리하기"
      ]
    },
    {
      "cell_type": "code",
      "execution_count": null,
      "metadata": {
        "id": "yO0pezeTc_YW"
      },
      "outputs": [],
      "source": [
        "from langchain_huggingface import HuggingFaceEmbeddings\n",
        "\n",
        "# 허깅페이스 포맷의 임베딩 모델 불러오기\n",
        "embeddings = HuggingFaceEmbeddings(model_name= './embedding',\n",
        "                                   model_kwargs={'device':'cuda'})\n",
        "# GPU가 있는 경우, CUDA(GPU) 설정"
      ]
    },
    {
      "cell_type": "code",
      "execution_count": null,
      "metadata": {
        "id": "14hRqp_ac_YW"
      },
      "outputs": [],
      "source": [
        "store = InMemoryStore(\n",
        "    index={\n",
        "        \"embed\": embeddings,\n",
        "        \"dims\": 1024, # 임베딩 차원(모델마다 다름)\n",
        "        \"fields\": [\"comments\"] # 임베딩을 활용해 저장할 필드 지정\n",
        "    }\n",
        ")"
      ]
    },
    {
      "cell_type": "code",
      "execution_count": null,
      "metadata": {
        "colab": {
          "base_uri": "https://localhost:8080/",
          "height": 36
        },
        "id": "4ECD-Ly0c_YW",
        "outputId": "b0c703c5-a311-4e6e-d6ee-8dc8ec866b06"
      },
      "outputs": [],
      "source": [
        "memory_id"
      ]
    },
    {
      "cell_type": "code",
      "execution_count": null,
      "metadata": {
        "colab": {
          "base_uri": "https://localhost:8080/"
        },
        "id": "Awue0iGZc_YW",
        "outputId": "e95bbe13-5b2e-4d12-8516-db8b23c516ce"
      },
      "outputs": [],
      "source": [
        "namespace_for_memory = ('1', 'information')\n",
        "memory_id = str(uuid.uuid4())\n",
        "\n",
        "store.put(namespace_for_memory,\n",
        "          memory_id,\n",
        "          {'ID':'JohnDoe1', 'comments':'안녕하세요! 저는 John Doe이고, 23살입니다.'})\n",
        "\n",
        "store.search(namespace_for_memory, limit=20)"
      ]
    },
    {
      "cell_type": "code",
      "execution_count": null,
      "metadata": {
        "colab": {
          "base_uri": "https://localhost:8080/"
        },
        "id": "4Cf_m1Lmc_YW",
        "outputId": "5a0675c0-1679-468b-f22a-10f0ca65ba28"
      },
      "outputs": [],
      "source": [
        "def add_records(store, namespace, data_records):\n",
        "    for data in data_records:\n",
        "        store.put(namespace, str(uuid.uuid4()), data)\n",
        "\n",
        "example_data = [\n",
        "    {'Hello':'world'},\n",
        "    {'ID':'Admin', 'comments':'이 계정은 운영 전용 계정입니다.'},\n",
        "    {'ID':'GPT_Agent1', 'comments':'GPT-4o Agent 전용 계정'},\n",
        "    {'ID':'Gemini_Agent1', 'comments':'Gemini-2.0-flash Agent 전용 계정'}\n",
        "]\n",
        "\n",
        "add_records(store,namespace_for_memory, example_data)\n",
        "\n",
        "\n",
        "history = store.search(namespace_for_memory)\n",
        "history"
      ]
    },
    {
      "cell_type": "code",
      "execution_count": null,
      "metadata": {
        "colab": {
          "base_uri": "https://localhost:8080/"
        },
        "id": "8aBGmi9Ec_YW",
        "outputId": "6598ca9a-8ed1-4de5-d457-785651f6650a"
      },
      "outputs": [],
      "source": [
        "print('\\n'.join(['['+str(i.created_at)[0:10] + '] ' + i.value['comments'] if 'comments' in i.value else '' for i in history]))"
      ]
    },
    {
      "cell_type": "code",
      "execution_count": null,
      "metadata": {
        "colab": {
          "base_uri": "https://localhost:8080/"
        },
        "id": "NaFjsgL9c_YX",
        "outputId": "4383d3e3-61b7-4ffb-9a4b-f6b1da1c690f"
      },
      "outputs": [],
      "source": [
        "result = store.search(\n",
        "    namespace_for_memory,\n",
        "    query = 'Gemini Agent 버전은 뭔가요?',\n",
        "    limit = 2\n",
        ")\n",
        "result"
      ]
    },
    {
      "cell_type": "code",
      "execution_count": null,
      "metadata": {
        "colab": {
          "base_uri": "https://localhost:8080/",
          "height": 138
        },
        "id": "RKHoy-Zqc_YX",
        "outputId": "4583e346-1a92-4cdf-c626-5e6d35fc07fb"
      },
      "outputs": [],
      "source": [
        "type(result[0])"
      ]
    },
    {
      "cell_type": "markdown",
      "metadata": {
        "id": "HVSPdRaGc_YX"
      },
      "source": [
        "이렇게 생성된 store는 각 Node에 State와 함께 포함할 수 있습니다.  \n",
        "실제 채팅 시나리오를 통해 구현해 보겠습니다."
      ]
    },
    {
      "cell_type": "code",
      "execution_count": null,
      "metadata": {
        "id": "H6QrPWbbc_YX"
      },
      "outputs": [],
      "source": [
        "from langgraph.checkpoint.sqlite import SqliteSaver\n",
        "\n",
        "\n",
        "memory = MemorySaver()\n",
        "in_memory_store = InMemoryStore()"
      ]
    },
    {
      "cell_type": "code",
      "execution_count": null,
      "metadata": {
        "colab": {
          "base_uri": "https://localhost:8080/",
          "height": 497
        },
        "id": "KfUcO2ZVc_YX",
        "outputId": "a92f8f90-cdb7-4217-8df6-2e2a600e8a4d"
      },
      "outputs": [],
      "source": [
        "from typing import Annotated\n",
        "from typing_extensions import TypedDict, List\n",
        "from langchain_core.messages import HumanMessage, AIMessage, SystemMessage, RemoveMessage\n",
        "from langgraph.graph.message import add_messages\n",
        "from langgraph.graph import StateGraph, state, START, END\n",
        "from langgraph.store.base import BaseStore\n",
        "from langchain_core.runnables import RunnableConfig\n",
        "\n",
        "\n",
        "class State(TypedDict):\n",
        "    messages: Annotated[list, add_messages]\n",
        "    summary: str\n",
        "\n",
        "\n",
        "\n",
        "def call_model(state: State, config: RunnableConfig, store: BaseStore):\n",
        "\n",
        "    user_id = config['configurable']['user_id']\n",
        "    namespace = (user_id, \"information\")\n",
        "\n",
        "    def gen_memories(history):\n",
        "        return '\\n'.join(['['+str(i.created_at)[0:10] + '] ' + i.value['memory'] if 'memory' in i.value else '' for i in history])\n",
        "\n",
        "    summary = gen_memories(store.search(namespace))\n",
        "\n",
        "    prompt = [SystemMessage(content=f\"\"\"\n",
        "당신은 고객 상담 챗봇입니다.\n",
        "고객은 이전에 아래의 상담을 한 적이 있습니다. 과거 내역을 참고하여 응답하세요.\n",
        "첫 대화는 친절한 인사로 시작하세요.\n",
        "---\n",
        "Previous Conversation Summary: {summary}\"\"\"), HumanMessage(content=\"안녕하세요!\")] + state['messages']\n",
        "\n",
        "     # 과거 정보를 상위 Context에 포함하기\n",
        "    response = llm.invoke(prompt)\n",
        "    print('Assistant:', response.content)\n",
        "\n",
        "    user_message = HumanMessage(content = input())\n",
        "\n",
        "\n",
        "    return {\"messages\": [response, user_message]}\n",
        "\n",
        "def summarize_conversation(state: State, config: RunnableConfig, store: BaseStore):\n",
        "\n",
        "    summary_prompt = \"\"\"현재까지의 대화 내용을 요약하여 데이터베이스에 저장하려고 합니다.\n",
        "이전의 Summary 내용과 이어지는 경우, 해당 내용을 포함하여 요약하세요.\n",
        "만약 새로운 주제인 경우, 새로운 대화 내용만 요약하세요.\n",
        "대화 내용을 3~5문장 길이로 요약하세요. 요약 이외의 다른 내용은 출력하지 마세요.\n",
        "또한, 요약을 요청했다는 사실도 작성하지 마세요.\n",
        "\"\"\"\n",
        "    prompt = state['messages'][:-1] + [HumanMessage(content = summary_prompt)]\n",
        "    # END 제외\n",
        "\n",
        "    response = llm.invoke(prompt)\n",
        "\n",
        "    delete_messages = [RemoveMessage(id=m.id) for m in state['messages']]\n",
        "    return {'summary': response.content, 'messages':delete_messages}\n",
        "\n",
        "\n",
        "\n",
        "def update_memory(state:State, config: RunnableConfig, store:BaseStore):\n",
        "\n",
        "    user_id = config['configurable']['user_id']\n",
        "    namespace = (user_id, \"information\")\n",
        "\n",
        "    memory_id = str(uuid.uuid4())\n",
        "\n",
        "\n",
        "    memory = state[\"summary\"]\n",
        "\n",
        "    store.put(namespace, memory_id, {'memory':memory})\n",
        "\n",
        "def check_end(state:State):\n",
        "    last_msg = state[\"messages\"][-1]\n",
        "\n",
        "    if last_msg.content.upper()=='END':\n",
        "        return 'END'\n",
        "    return 'RESUME'\n",
        "\n",
        "builder = StateGraph(State)\n",
        "\n",
        "\n",
        "builder.add_node('update_memory', update_memory)\n",
        "builder.add_node(\"call_model\", call_model)\n",
        "builder.add_node('summarize_conversation', summarize_conversation)\n",
        "\n",
        "builder.add_edge(START, \"call_model\")\n",
        "builder.add_conditional_edges('call_model',\n",
        "                              check_end,\n",
        "                              {'END':'summarize_conversation',\n",
        "                               'RESUME':'call_model'})\n",
        "builder.add_edge('summarize_conversation','update_memory')\n",
        "builder.add_edge('update_memory', END)\n",
        "\n",
        "graph = builder.compile(checkpointer=memory, store=in_memory_store)\n",
        "\n",
        "graph\n",
        "# memory에 기록 저장"
      ]
    },
    {
      "cell_type": "code",
      "execution_count": null,
      "metadata": {
        "id": "onD4mIggc_YX"
      },
      "outputs": [],
      "source": []
    },
    {
      "cell_type": "code",
      "execution_count": null,
      "metadata": {
        "colab": {
          "base_uri": "https://localhost:8080/"
        },
        "id": "3laWr9EVc_YX",
        "outputId": "5c9976ab-6b28-4b92-a185-9868fccd9c8b"
      },
      "outputs": [],
      "source": [
        "print('END를 입력하면 대화가 종료됩니다.')\n",
        "\n",
        "config = {'configurable':{'thread_id':'2', 'user_id':'admin'}}\n",
        "for data in graph.stream(\n",
        "    {'messages':[]},\n",
        "    config,stream_mode=\"updates\"):\n",
        "    print(data)"
      ]
    },
    {
      "cell_type": "code",
      "execution_count": null,
      "metadata": {
        "colab": {
          "base_uri": "https://localhost:8080/"
        },
        "id": "vcIVjFUyc_YX",
        "outputId": "6a6f130f-eaa0-45a7-dea5-de4fd6c7bc16"
      },
      "outputs": [],
      "source": [
        "config = {'configurable':{'thread_id':'8', 'user_id':'admin'}}\n",
        "graph.invoke({'messages':[]}, config)"
      ]
    },
    {
      "cell_type": "code",
      "execution_count": null,
      "metadata": {
        "colab": {
          "base_uri": "https://localhost:8080/"
        },
        "id": "QKQ6nCH4c_YX",
        "outputId": "2f8ef75c-3ffc-44b1-e9b3-7f6e6148de63"
      },
      "outputs": [],
      "source": [
        "graph.get_state(config=config)"
      ]
    },
    {
      "cell_type": "code",
      "execution_count": null,
      "metadata": {
        "colab": {
          "base_uri": "https://localhost:8080/"
        },
        "id": "yfu1n3gUc_YX",
        "outputId": "f1cf1624-3ed2-46b2-df30-d45a9e0ebbfa"
      },
      "outputs": [],
      "source": [
        "in_memory_store.list_namespaces()"
      ]
    },
    {
      "cell_type": "code",
      "execution_count": null,
      "metadata": {
        "colab": {
          "base_uri": "https://localhost:8080/"
        },
        "id": "sUzuioD7c_YX",
        "outputId": "ef6f43a4-4b04-4a50-d897-9881dc69add6"
      },
      "outputs": [],
      "source": [
        "in_memory_store.search(('HH', 'information'))"
      ]
    },
    {
      "cell_type": "code",
      "execution_count": null,
      "metadata": {
        "colab": {
          "base_uri": "https://localhost:8080/"
        },
        "id": "SU9DPl1yc_YX",
        "outputId": "239240b3-4f93-4ad4-cf16-ef2eadc056be"
      },
      "outputs": [],
      "source": [
        "# 다른 thread id로 해도 이전 정보를 참고함\n",
        "config = {'configurable':{'thread_id':'9', 'user_id':'admin'}}\n",
        "for data in graph.stream(\n",
        "    {'messages':[]},\n",
        "    config,stream_mode=\"updates\"):\n",
        "    print(data)"
      ]
    },
    {
      "cell_type": "code",
      "execution_count": null,
      "metadata": {
        "id": "hEQw-Ewuc_YX"
      },
      "outputs": [],
      "source": []
    },
    {
      "cell_type": "markdown",
      "metadata": {
        "id": "JqWxKCxVc_YX"
      },
      "source": [
        "# SQLite Store 사용하기"
      ]
    },
    {
      "cell_type": "markdown",
      "metadata": {
        "id": "AJhzBhvyc_YY"
      },
      "source": [
        "외부 DB를 연동하는 기능은 현재 직접 지원하지 않으며, BaseStore Class를 이용해 구현해야 합니다.   \n",
        "PostGresStore를 사용하는 경우: https://langchain-ai.github.io/langgraph/reference/store/#langgraph.store.postgres.PostgresStore"
      ]
    },
    {
      "cell_type": "code",
      "execution_count": null,
      "metadata": {
        "id": "58oFJuRZc_YY"
      },
      "outputs": [],
      "source": [
        "from langgraph.store.base import BaseStore, SearchItem\n",
        "from typing import List, Optional, Dict, Any, Tuple\n",
        "import sqlite3\n",
        "import json\n",
        "from datetime import datetime\n",
        "import uuid\n",
        "import numpy as np\n",
        "from sentence_transformers import SentenceTransformer\n",
        "\n",
        "class SQLiteStore(BaseStore):\n",
        "    def __init__(self, db_path: str = \"store.db\", embedding_model: str = 'intfloat/multilingual-e5-large'):\n",
        "        self.db_path = db_path\n",
        "        self.conn = sqlite3.connect(db_path, check_same_thread=False)\n",
        "        self.embedding_model = embedding_model\n",
        "        self._setup()\n",
        "\n",
        "    def _setup(self):\n",
        "        \"\"\"데이터베이스 테이블 생성\"\"\"\n",
        "        cursor = self.conn.cursor()\n",
        "\n",
        "        # 메인 스토어 테이블\n",
        "        cursor.execute(\"\"\"\n",
        "            CREATE TABLE IF NOT EXISTS store (\n",
        "                namespace TEXT,\n",
        "                key TEXT,\n",
        "                value TEXT,\n",
        "                created_at TEXT,\n",
        "                updated_at TEXT,\n",
        "                PRIMARY KEY (namespace, key)\n",
        "            )\n",
        "        \"\"\")\n",
        "\n",
        "        # 임베딩 테이블\n",
        "        cursor.execute(\"\"\"\n",
        "            CREATE TABLE IF NOT EXISTS embeddings (\n",
        "                namespace TEXT,\n",
        "                key TEXT,\n",
        "                embedding BLOB,\n",
        "                text TEXT,\n",
        "                PRIMARY KEY (namespace, key),\n",
        "                FOREIGN KEY (namespace, key) REFERENCES store(namespace, key)\n",
        "            )\n",
        "        \"\"\")\n",
        "\n",
        "        self.conn.commit()\n",
        "\n",
        "    def _get_embedding(self, text: str) -> np.ndarray:\n",
        "        \"\"\"텍스트의 임베딩 벡터 생성\"\"\"\n",
        "        model = SentenceTransformer(self.embedding_model)\n",
        "        return model.encode(text)\n",
        "\n",
        "    def _cosine_similarity(self, a: np.ndarray, b: np.ndarray) -> float:\n",
        "        \"\"\"코사인 유사도 계산\"\"\"\n",
        "        return np.dot(a, b) / (np.linalg.norm(a) * np.linalg.norm(b))\n",
        "\n",
        "\n",
        "    def batch(self, operations: List[Tuple[str, Tuple[str, ...], str, Dict[str, Any]]]) -> None:\n",
        "        \"\"\"일괄 작업 처리\"\"\"\n",
        "        for op, namespace, key, value in operations:\n",
        "            if op == \"put\":\n",
        "                self.put(namespace, key, value)\n",
        "            elif op == \"delete\":\n",
        "                self.delete(namespace, key)\n",
        "    async def abatch(self, operations: List[Tuple[str, Tuple[str, ...], str, Dict[str, Any]]]) -> None:\n",
        "        \"\"\"비동기 일괄 작업 처리\"\"\"\n",
        "        self.batch(operations)  # SQLite는 기본적으로 동기식이므로 동기 메서드를 호출\n",
        "\n",
        "\n",
        "\n",
        "\n",
        "    def put(self, namespace: Tuple[str, ...], key: str, value: Dict[str, Any], index: bool = True) -> None:\n",
        "        \"\"\"데이터 저장\"\"\"\n",
        "        namespace_str = json.dumps(namespace)\n",
        "        value_str = json.dumps(value)\n",
        "        now = datetime.utcnow().isoformat()\n",
        "\n",
        "        cursor = self.conn.cursor()\n",
        "        cursor.execute(\"\"\"\n",
        "            INSERT OR REPLACE INTO store (namespace, key, value, created_at, updated_at)\n",
        "            VALUES (?, ?, ?, ?, ?)\n",
        "        \"\"\", (namespace_str, key, value_str, now, now))\n",
        "\n",
        "        # 임베딩 저장\n",
        "        if index:\n",
        "            # value에서 텍스트 추출 (예: 'memory' 필드)\n",
        "            text_to_embed = value.get('memory', '') if isinstance(value, dict) else str(value)\n",
        "            if text_to_embed:\n",
        "                embedding = self._get_embedding(text_to_embed)\n",
        "                cursor.execute(\"\"\"\n",
        "                    INSERT OR REPLACE INTO embeddings (namespace, key, embedding, text)\n",
        "                    VALUES (?, ?, ?, ?)\n",
        "                \"\"\", (namespace_str, key, embedding.tobytes(), text_to_embed))\n",
        "\n",
        "        self.conn.commit()\n",
        "\n",
        "    def get(self, namespace: Tuple[str, ...], key: str) -> Optional[Dict[str, Any]]:\n",
        "        \"\"\"데이터 조회\"\"\"\n",
        "        namespace_str = json.dumps(namespace)\n",
        "        cursor = self.conn.cursor()\n",
        "        cursor.execute(\"\"\"\n",
        "            SELECT value FROM store WHERE namespace = ? AND key = ?\n",
        "        \"\"\", (namespace_str, key))\n",
        "        result = cursor.fetchone()\n",
        "\n",
        "        if result:\n",
        "            return json.loads(result[0])\n",
        "        return None\n",
        "\n",
        "    def search(self, namespace: Tuple[str, ...], query: Optional[str] = None, limit: int = 20) -> List[SearchItem]:\n",
        "        \"\"\"데이터 검색 (임베딩 기반 또는 텍스트 기반)\"\"\"\n",
        "        namespace_str = json.dumps(namespace)\n",
        "        cursor = self.conn.cursor()\n",
        "\n",
        "        if query:\n",
        "            # 임베딩 기반 검색\n",
        "            query_embedding = self._get_embedding(query)\n",
        "\n",
        "            # 모든 임베딩 가져오기\n",
        "            cursor.execute(\"\"\"\n",
        "                SELECT e.embedding, e.text, s.key, s.value, s.created_at, s.updated_at\n",
        "                FROM embeddings e\n",
        "                JOIN store s ON e.namespace = s.namespace AND e.key = s.key\n",
        "                WHERE e.namespace = ?\n",
        "            \"\"\", (namespace_str,))\n",
        "\n",
        "            results = []\n",
        "            for row in cursor.fetchall():\n",
        "                embedding = np.frombuffer(row[0], dtype=np.float32)\n",
        "                similarity = self._cosine_similarity(query_embedding, embedding)\n",
        "                results.append(SearchItem(\n",
        "                key=row[2],          # key는 세 번째 컬럼\n",
        "                value=json.loads(row[3]),  # value는 네 번째 컬럼\n",
        "                created_at=datetime.fromisoformat(row[4]),  # created_at은 다섯 번째 컬럼\n",
        "                updated_at=datetime.fromisoformat(row[5]),  # updated_at은 여섯 번째 컬럼\n",
        "                namespace=namespace,\n",
        "                score = similarity\n",
        "            ))\n",
        "\n",
        "            # 유사도 기준으로 정렬\n",
        "            results.sort(key=lambda x: x.score, reverse=True)\n",
        "            return results[:limit]\n",
        "        else:\n",
        "            # 일반 텍스트 검색\n",
        "            cursor.execute(\"\"\"\n",
        "                SELECT key, value, created_at, updated_at\n",
        "                FROM store\n",
        "                WHERE namespace = ?\n",
        "                ORDER BY created_at DESC LIMIT ?\n",
        "            \"\"\", (namespace_str, limit))\n",
        "\n",
        "            results = []\n",
        "            for row in cursor.fetchall():\n",
        "                value = json.loads(row[1])\n",
        "                results.append(SearchItem(\n",
        "                key=row[0],\n",
        "                value=value,\n",
        "                created_at=datetime.fromisoformat(row[2]),\n",
        "                updated_at=datetime.fromisoformat(row[3]),\n",
        "                namespace=namespace  # 원래 search 메서드에 전달된 namespace 사용\n",
        "                ))\n",
        "\n",
        "            return results\n",
        "\n",
        "    def delete(self, namespace: Tuple[str, ...], key: str) -> None:\n",
        "        \"\"\"데이터 삭제\"\"\"\n",
        "        namespace_str = json.dumps(namespace)\n",
        "        cursor = self.conn.cursor()\n",
        "\n",
        "        # 임베딩도 함께 삭제\n",
        "        cursor.execute(\"\"\"\n",
        "            DELETE FROM embeddings WHERE namespace = ? AND key = ?\n",
        "        \"\"\", (namespace_str, key))\n",
        "\n",
        "        cursor.execute(\"\"\"\n",
        "            DELETE FROM store WHERE namespace = ? AND key = ?\n",
        "        \"\"\", (namespace_str, key))\n",
        "\n",
        "        self.conn.commit()\n",
        "\n",
        "    def list_namespaces(self) -> List[Tuple[str, ...]]:\n",
        "        \"\"\"네임스페이스 목록 조회\"\"\"\n",
        "        cursor = self.conn.cursor()\n",
        "        cursor.execute(\"SELECT DISTINCT namespace FROM store\")\n",
        "        return [tuple(json.loads(row[0])) for row in cursor.fetchall()]"
      ]
    },
    {
      "cell_type": "code",
      "execution_count": null,
      "metadata": {
        "colab": {
          "base_uri": "https://localhost:8080/",
          "height": 497
        },
        "id": "AUYTdfjwc_YY",
        "outputId": "bd669b78-b992-477d-dfe5-2662c81cbfd9"
      },
      "outputs": [],
      "source": [
        "graph"
      ]
    },
    {
      "cell_type": "code",
      "execution_count": null,
      "metadata": {
        "colab": {
          "base_uri": "https://localhost:8080/"
        },
        "id": "yUY8NXa6c_YY",
        "outputId": "68bce8ab-605c-4a5f-e489-c7d03a3920b1"
      },
      "outputs": [],
      "source": [
        "# SQLite 스토어 인스턴스 생성\n",
        "sqlite_store = SQLiteStore(db_path = 'example.db', embedding_model = model_name)\n",
        "\n",
        "graph = builder.compile(checkpointer=memory, store=sqlite_store)\n",
        "\n",
        "print('END를 입력하면 대화가 종료됩니다.')\n",
        "\n",
        "config = {'configurable':{'thread_id':'1', 'user_id':'admin'}}\n",
        "for data in graph.stream(\n",
        "    {'messages':[]},\n",
        "    config,stream_mode=\"updates\"):\n",
        "    print(data)"
      ]
    },
    {
      "cell_type": "code",
      "execution_count": null,
      "metadata": {
        "colab": {
          "base_uri": "https://localhost:8080/"
        },
        "id": "yjmgZLOhc_YY",
        "outputId": "0ae4b56b-4e16-420a-eff9-f55bfd2a146f"
      },
      "outputs": [],
      "source": [
        "sqlite_store.list_namespaces()"
      ]
    },
    {
      "cell_type": "code",
      "execution_count": null,
      "metadata": {
        "colab": {
          "base_uri": "https://localhost:8080/"
        },
        "id": "ZesOhjBTc_YY",
        "outputId": "6ae08be5-5bfe-4bcd-b279-b470ca690bf9"
      },
      "outputs": [],
      "source": [
        "memories = sqlite_store.search(('admin', 'information'))\n",
        "for result in memories:\n",
        "    print(result)"
      ]
    },
    {
      "cell_type": "code",
      "execution_count": null,
      "metadata": {
        "colab": {
          "base_uri": "https://localhost:8080/"
        },
        "id": "IoPKMYqWc_YY",
        "outputId": "74586688-9d80-4bb6-d7d6-73bf7a45d8be"
      },
      "outputs": [],
      "source": [
        "# 임베딩 검색 사용 예시\n",
        "# memory에서 값을 검색하도록 설정(SQLite Store Class 참고)\n",
        "\n",
        "results = sqlite_store.search(('admin', 'information'), query=\"코딩\", limit=1)\n",
        "for result in results:\n",
        "    print(result)\n"
      ]
    },
    {
      "cell_type": "markdown",
      "metadata": {
        "id": "b18UYEgUskcC"
      },
      "source": [
        "Langsmith (https://smith.langchain.com )에서 실행 결과를 확인할 수 있습니다."
      ]
    },
    {
      "cell_type": "code",
      "execution_count": null,
      "metadata": {
        "id": "qAj_rMSOc_YY"
      },
      "outputs": [],
      "source": []
    }
  ],
  "metadata": {
    "accelerator": "GPU",
    "colab": {
      "gpuType": "T4",
      "provenance": []
    },
    "kernelspec": {
      "display_name": ".venv",
      "language": "python",
      "name": "python3"
    },
    "language_info": {
      "codemirror_mode": {
        "name": "ipython",
        "version": 3
      },
      "file_extension": ".py",
      "mimetype": "text/x-python",
      "name": "python",
      "nbconvert_exporter": "python",
      "pygments_lexer": "ipython3",
      "version": "3.12.11"
    },
    "widgets": {
      "application/vnd.jupyter.widget-state+json": {
        "0681e68dbad842be9f473ef1564f0228": {
          "model_module": "@jupyter-widgets/controls",
          "model_module_version": "1.5.0",
          "model_name": "HTMLModel",
          "state": {
            "_dom_classes": [],
            "_model_module": "@jupyter-widgets/controls",
            "_model_module_version": "1.5.0",
            "_model_name": "HTMLModel",
            "_view_count": null,
            "_view_module": "@jupyter-widgets/controls",
            "_view_module_version": "1.5.0",
            "_view_name": "HTMLView",
            "description": "",
            "description_tooltip": null,
            "layout": "IPY_MODEL_c13d1941dc2048af97ea5cba9c6e768a",
            "placeholder": "​",
            "style": "IPY_MODEL_452f3705575d44f2a3f3ecdd657a6342",
            "value": " 655/655 [00:00&lt;00:00, 75.9kB/s]"
          }
        },
        "0b0902fcdffa4ce49338c2c5cf733db6": {
          "model_module": "@jupyter-widgets/controls",
          "model_module_version": "1.5.0",
          "model_name": "HTMLModel",
          "state": {
            "_dom_classes": [],
            "_model_module": "@jupyter-widgets/controls",
            "_model_module_version": "1.5.0",
            "_model_name": "HTMLModel",
            "_view_count": null,
            "_view_module": "@jupyter-widgets/controls",
            "_view_module_version": "1.5.0",
            "_view_name": "HTMLView",
            "description": "",
            "description_tooltip": null,
            "layout": "IPY_MODEL_a6ad5525f9ee43f18ea3ce1587882312",
            "placeholder": "​",
            "style": "IPY_MODEL_5aa45d6402d445bc9db52517af7ea799",
            "value": " 443/443 [00:00&lt;00:00, 12.1kB/s]"
          }
        },
        "0b1260266a654691a988deae63a85331": {
          "model_module": "@jupyter-widgets/base",
          "model_module_version": "1.2.0",
          "model_name": "LayoutModel",
          "state": {
            "_model_module": "@jupyter-widgets/base",
            "_model_module_version": "1.2.0",
            "_model_name": "LayoutModel",
            "_view_count": null,
            "_view_module": "@jupyter-widgets/base",
            "_view_module_version": "1.2.0",
            "_view_name": "LayoutView",
            "align_content": null,
            "align_items": null,
            "align_self": null,
            "border": null,
            "bottom": null,
            "display": null,
            "flex": null,
            "flex_flow": null,
            "grid_area": null,
            "grid_auto_columns": null,
            "grid_auto_flow": null,
            "grid_auto_rows": null,
            "grid_column": null,
            "grid_gap": null,
            "grid_row": null,
            "grid_template_areas": null,
            "grid_template_columns": null,
            "grid_template_rows": null,
            "height": null,
            "justify_content": null,
            "justify_items": null,
            "left": null,
            "margin": null,
            "max_height": null,
            "max_width": null,
            "min_height": null,
            "min_width": null,
            "object_fit": null,
            "object_position": null,
            "order": null,
            "overflow": null,
            "overflow_x": null,
            "overflow_y": null,
            "padding": null,
            "right": null,
            "top": null,
            "visibility": null,
            "width": null
          }
        },
        "0b1f26d493a24fe28ebe3ad36123c25d": {
          "model_module": "@jupyter-widgets/controls",
          "model_module_version": "1.5.0",
          "model_name": "HTMLModel",
          "state": {
            "_dom_classes": [],
            "_model_module": "@jupyter-widgets/controls",
            "_model_module_version": "1.5.0",
            "_model_name": "HTMLModel",
            "_view_count": null,
            "_view_module": "@jupyter-widgets/controls",
            "_view_module_version": "1.5.0",
            "_view_name": "HTMLView",
            "description": "",
            "description_tooltip": null,
            "layout": "IPY_MODEL_ab64fe76f54040c191766e3b0e6e0eaf",
            "placeholder": "​",
            "style": "IPY_MODEL_124874f2f2d54c81a3579424b4889608",
            "value": "special_tokens_map.json: 100%"
          }
        },
        "0d398c8152ee42d4b011a580e8657dc2": {
          "model_module": "@jupyter-widgets/base",
          "model_module_version": "1.2.0",
          "model_name": "LayoutModel",
          "state": {
            "_model_module": "@jupyter-widgets/base",
            "_model_module_version": "1.2.0",
            "_model_name": "LayoutModel",
            "_view_count": null,
            "_view_module": "@jupyter-widgets/base",
            "_view_module_version": "1.2.0",
            "_view_name": "LayoutView",
            "align_content": null,
            "align_items": null,
            "align_self": null,
            "border": null,
            "bottom": null,
            "display": null,
            "flex": null,
            "flex_flow": null,
            "grid_area": null,
            "grid_auto_columns": null,
            "grid_auto_flow": null,
            "grid_auto_rows": null,
            "grid_column": null,
            "grid_gap": null,
            "grid_row": null,
            "grid_template_areas": null,
            "grid_template_columns": null,
            "grid_template_rows": null,
            "height": null,
            "justify_content": null,
            "justify_items": null,
            "left": null,
            "margin": null,
            "max_height": null,
            "max_width": null,
            "min_height": null,
            "min_width": null,
            "object_fit": null,
            "object_position": null,
            "order": null,
            "overflow": null,
            "overflow_x": null,
            "overflow_y": null,
            "padding": null,
            "right": null,
            "top": null,
            "visibility": null,
            "width": null
          }
        },
        "0d62d5b6b8b845dcbef0ad5511cde8e3": {
          "model_module": "@jupyter-widgets/controls",
          "model_module_version": "1.5.0",
          "model_name": "ProgressStyleModel",
          "state": {
            "_model_module": "@jupyter-widgets/controls",
            "_model_module_version": "1.5.0",
            "_model_name": "ProgressStyleModel",
            "_view_count": null,
            "_view_module": "@jupyter-widgets/base",
            "_view_module_version": "1.2.0",
            "_view_name": "StyleView",
            "bar_color": null,
            "description_width": ""
          }
        },
        "0e7a430f698a4eda9fa3bf9c3580ad25": {
          "model_module": "@jupyter-widgets/controls",
          "model_module_version": "1.5.0",
          "model_name": "DescriptionStyleModel",
          "state": {
            "_model_module": "@jupyter-widgets/controls",
            "_model_module_version": "1.5.0",
            "_model_name": "DescriptionStyleModel",
            "_view_count": null,
            "_view_module": "@jupyter-widgets/base",
            "_view_module_version": "1.2.0",
            "_view_name": "StyleView",
            "description_width": ""
          }
        },
        "10a09fcbeb0b4841bf46c4ed29a7d517": {
          "model_module": "@jupyter-widgets/base",
          "model_module_version": "1.2.0",
          "model_name": "LayoutModel",
          "state": {
            "_model_module": "@jupyter-widgets/base",
            "_model_module_version": "1.2.0",
            "_model_name": "LayoutModel",
            "_view_count": null,
            "_view_module": "@jupyter-widgets/base",
            "_view_module_version": "1.2.0",
            "_view_name": "LayoutView",
            "align_content": null,
            "align_items": null,
            "align_self": null,
            "border": null,
            "bottom": null,
            "display": null,
            "flex": null,
            "flex_flow": null,
            "grid_area": null,
            "grid_auto_columns": null,
            "grid_auto_flow": null,
            "grid_auto_rows": null,
            "grid_column": null,
            "grid_gap": null,
            "grid_row": null,
            "grid_template_areas": null,
            "grid_template_columns": null,
            "grid_template_rows": null,
            "height": null,
            "justify_content": null,
            "justify_items": null,
            "left": null,
            "margin": null,
            "max_height": null,
            "max_width": null,
            "min_height": null,
            "min_width": null,
            "object_fit": null,
            "object_position": null,
            "order": null,
            "overflow": null,
            "overflow_x": null,
            "overflow_y": null,
            "padding": null,
            "right": null,
            "top": null,
            "visibility": null,
            "width": null
          }
        },
        "124874f2f2d54c81a3579424b4889608": {
          "model_module": "@jupyter-widgets/controls",
          "model_module_version": "1.5.0",
          "model_name": "DescriptionStyleModel",
          "state": {
            "_model_module": "@jupyter-widgets/controls",
            "_model_module_version": "1.5.0",
            "_model_name": "DescriptionStyleModel",
            "_view_count": null,
            "_view_module": "@jupyter-widgets/base",
            "_view_module_version": "1.2.0",
            "_view_name": "StyleView",
            "description_width": ""
          }
        },
        "15a23b68dea84bc892edac56a9dbd4f3": {
          "model_module": "@jupyter-widgets/controls",
          "model_module_version": "1.5.0",
          "model_name": "DescriptionStyleModel",
          "state": {
            "_model_module": "@jupyter-widgets/controls",
            "_model_module_version": "1.5.0",
            "_model_name": "DescriptionStyleModel",
            "_view_count": null,
            "_view_module": "@jupyter-widgets/base",
            "_view_module_version": "1.2.0",
            "_view_name": "StyleView",
            "description_width": ""
          }
        },
        "168aa02700744ed8afd923a2d6785fde": {
          "model_module": "@jupyter-widgets/controls",
          "model_module_version": "1.5.0",
          "model_name": "FloatProgressModel",
          "state": {
            "_dom_classes": [],
            "_model_module": "@jupyter-widgets/controls",
            "_model_module_version": "1.5.0",
            "_model_name": "FloatProgressModel",
            "_view_count": null,
            "_view_module": "@jupyter-widgets/controls",
            "_view_module_version": "1.5.0",
            "_view_name": "ProgressView",
            "bar_style": "success",
            "description": "",
            "description_tooltip": null,
            "layout": "IPY_MODEL_768d91fb3627426caa07ac4c058f9332",
            "max": 443,
            "min": 0,
            "orientation": "horizontal",
            "style": "IPY_MODEL_87997a76edfc422f9cc9fea9aee85796",
            "value": 443
          }
        },
        "19c597c9ac7f425f9f9d31bfb554f6eb": {
          "model_module": "@jupyter-widgets/base",
          "model_module_version": "1.2.0",
          "model_name": "LayoutModel",
          "state": {
            "_model_module": "@jupyter-widgets/base",
            "_model_module_version": "1.2.0",
            "_model_name": "LayoutModel",
            "_view_count": null,
            "_view_module": "@jupyter-widgets/base",
            "_view_module_version": "1.2.0",
            "_view_name": "LayoutView",
            "align_content": null,
            "align_items": null,
            "align_self": null,
            "border": null,
            "bottom": null,
            "display": null,
            "flex": null,
            "flex_flow": null,
            "grid_area": null,
            "grid_auto_columns": null,
            "grid_auto_flow": null,
            "grid_auto_rows": null,
            "grid_column": null,
            "grid_gap": null,
            "grid_row": null,
            "grid_template_areas": null,
            "grid_template_columns": null,
            "grid_template_rows": null,
            "height": null,
            "justify_content": null,
            "justify_items": null,
            "left": null,
            "margin": null,
            "max_height": null,
            "max_width": null,
            "min_height": null,
            "min_width": null,
            "object_fit": null,
            "object_position": null,
            "order": null,
            "overflow": null,
            "overflow_x": null,
            "overflow_y": null,
            "padding": null,
            "right": null,
            "top": null,
            "visibility": null,
            "width": null
          }
        },
        "1d2215ebc46f42898757c8fbbfd01d71": {
          "model_module": "@jupyter-widgets/controls",
          "model_module_version": "1.5.0",
          "model_name": "HTMLModel",
          "state": {
            "_dom_classes": [],
            "_model_module": "@jupyter-widgets/controls",
            "_model_module_version": "1.5.0",
            "_model_name": "HTMLModel",
            "_view_count": null,
            "_view_module": "@jupyter-widgets/controls",
            "_view_module_version": "1.5.0",
            "_view_name": "HTMLView",
            "description": "",
            "description_tooltip": null,
            "layout": "IPY_MODEL_8ff65194d0544b989a233be45e4834be",
            "placeholder": "​",
            "style": "IPY_MODEL_0e7a430f698a4eda9fa3bf9c3580ad25",
            "value": " 5.07M/5.07M [00:00&lt;00:00, 14.2MB/s]"
          }
        },
        "1e283b804d154e05a1d615a6ae101a55": {
          "model_module": "@jupyter-widgets/base",
          "model_module_version": "1.2.0",
          "model_name": "LayoutModel",
          "state": {
            "_model_module": "@jupyter-widgets/base",
            "_model_module_version": "1.2.0",
            "_model_name": "LayoutModel",
            "_view_count": null,
            "_view_module": "@jupyter-widgets/base",
            "_view_module_version": "1.2.0",
            "_view_name": "LayoutView",
            "align_content": null,
            "align_items": null,
            "align_self": null,
            "border": null,
            "bottom": null,
            "display": null,
            "flex": null,
            "flex_flow": null,
            "grid_area": null,
            "grid_auto_columns": null,
            "grid_auto_flow": null,
            "grid_auto_rows": null,
            "grid_column": null,
            "grid_gap": null,
            "grid_row": null,
            "grid_template_areas": null,
            "grid_template_columns": null,
            "grid_template_rows": null,
            "height": null,
            "justify_content": null,
            "justify_items": null,
            "left": null,
            "margin": null,
            "max_height": null,
            "max_width": null,
            "min_height": null,
            "min_width": null,
            "object_fit": null,
            "object_position": null,
            "order": null,
            "overflow": null,
            "overflow_x": null,
            "overflow_y": null,
            "padding": null,
            "right": null,
            "top": null,
            "visibility": null,
            "width": null
          }
        },
        "2007edcb253042abbff010c9e8772932": {
          "model_module": "@jupyter-widgets/base",
          "model_module_version": "1.2.0",
          "model_name": "LayoutModel",
          "state": {
            "_model_module": "@jupyter-widgets/base",
            "_model_module_version": "1.2.0",
            "_model_name": "LayoutModel",
            "_view_count": null,
            "_view_module": "@jupyter-widgets/base",
            "_view_module_version": "1.2.0",
            "_view_name": "LayoutView",
            "align_content": null,
            "align_items": null,
            "align_self": null,
            "border": null,
            "bottom": null,
            "display": null,
            "flex": null,
            "flex_flow": null,
            "grid_area": null,
            "grid_auto_columns": null,
            "grid_auto_flow": null,
            "grid_auto_rows": null,
            "grid_column": null,
            "grid_gap": null,
            "grid_row": null,
            "grid_template_areas": null,
            "grid_template_columns": null,
            "grid_template_rows": null,
            "height": null,
            "justify_content": null,
            "justify_items": null,
            "left": null,
            "margin": null,
            "max_height": null,
            "max_width": null,
            "min_height": null,
            "min_width": null,
            "object_fit": null,
            "object_position": null,
            "order": null,
            "overflow": null,
            "overflow_x": null,
            "overflow_y": null,
            "padding": null,
            "right": null,
            "top": null,
            "visibility": null,
            "width": null
          }
        },
        "22a5cb9cabc94ed8a06b40e0dfb9be23": {
          "model_module": "@jupyter-widgets/base",
          "model_module_version": "1.2.0",
          "model_name": "LayoutModel",
          "state": {
            "_model_module": "@jupyter-widgets/base",
            "_model_module_version": "1.2.0",
            "_model_name": "LayoutModel",
            "_view_count": null,
            "_view_module": "@jupyter-widgets/base",
            "_view_module_version": "1.2.0",
            "_view_name": "LayoutView",
            "align_content": null,
            "align_items": null,
            "align_self": null,
            "border": null,
            "bottom": null,
            "display": null,
            "flex": null,
            "flex_flow": null,
            "grid_area": null,
            "grid_auto_columns": null,
            "grid_auto_flow": null,
            "grid_auto_rows": null,
            "grid_column": null,
            "grid_gap": null,
            "grid_row": null,
            "grid_template_areas": null,
            "grid_template_columns": null,
            "grid_template_rows": null,
            "height": null,
            "justify_content": null,
            "justify_items": null,
            "left": null,
            "margin": null,
            "max_height": null,
            "max_width": null,
            "min_height": null,
            "min_width": null,
            "object_fit": null,
            "object_position": null,
            "order": null,
            "overflow": null,
            "overflow_x": null,
            "overflow_y": null,
            "padding": null,
            "right": null,
            "top": null,
            "visibility": null,
            "width": null
          }
        },
        "24a68273ff57482795eb56095762e139": {
          "model_module": "@jupyter-widgets/base",
          "model_module_version": "1.2.0",
          "model_name": "LayoutModel",
          "state": {
            "_model_module": "@jupyter-widgets/base",
            "_model_module_version": "1.2.0",
            "_model_name": "LayoutModel",
            "_view_count": null,
            "_view_module": "@jupyter-widgets/base",
            "_view_module_version": "1.2.0",
            "_view_name": "LayoutView",
            "align_content": null,
            "align_items": null,
            "align_self": null,
            "border": null,
            "bottom": null,
            "display": null,
            "flex": null,
            "flex_flow": null,
            "grid_area": null,
            "grid_auto_columns": null,
            "grid_auto_flow": null,
            "grid_auto_rows": null,
            "grid_column": null,
            "grid_gap": null,
            "grid_row": null,
            "grid_template_areas": null,
            "grid_template_columns": null,
            "grid_template_rows": null,
            "height": null,
            "justify_content": null,
            "justify_items": null,
            "left": null,
            "margin": null,
            "max_height": null,
            "max_width": null,
            "min_height": null,
            "min_width": null,
            "object_fit": null,
            "object_position": null,
            "order": null,
            "overflow": null,
            "overflow_x": null,
            "overflow_y": null,
            "padding": null,
            "right": null,
            "top": null,
            "visibility": null,
            "width": null
          }
        },
        "25e2733d6c544b48b630532138770038": {
          "model_module": "@jupyter-widgets/controls",
          "model_module_version": "1.5.0",
          "model_name": "HBoxModel",
          "state": {
            "_dom_classes": [],
            "_model_module": "@jupyter-widgets/controls",
            "_model_module_version": "1.5.0",
            "_model_name": "HBoxModel",
            "_view_count": null,
            "_view_module": "@jupyter-widgets/controls",
            "_view_module_version": "1.5.0",
            "_view_name": "HBoxView",
            "box_style": "",
            "children": [
              "IPY_MODEL_cc919e42913f4b7e99d69436526f55be",
              "IPY_MODEL_2df597b19a324034bea10a4e797fe385",
              "IPY_MODEL_76385acf69f64ac2935c4cacc21ec2de"
            ],
            "layout": "IPY_MODEL_6bb4f086650248889a7140a48b1dc1aa"
          }
        },
        "2a73aeb2910b411d8b74481b5121a9e7": {
          "model_module": "@jupyter-widgets/controls",
          "model_module_version": "1.5.0",
          "model_name": "DescriptionStyleModel",
          "state": {
            "_model_module": "@jupyter-widgets/controls",
            "_model_module_version": "1.5.0",
            "_model_name": "DescriptionStyleModel",
            "_view_count": null,
            "_view_module": "@jupyter-widgets/base",
            "_view_module_version": "1.2.0",
            "_view_name": "StyleView",
            "description_width": ""
          }
        },
        "2df597b19a324034bea10a4e797fe385": {
          "model_module": "@jupyter-widgets/controls",
          "model_module_version": "1.5.0",
          "model_name": "FloatProgressModel",
          "state": {
            "_dom_classes": [],
            "_model_module": "@jupyter-widgets/controls",
            "_model_module_version": "1.5.0",
            "_model_name": "FloatProgressModel",
            "_view_count": null,
            "_view_module": "@jupyter-widgets/controls",
            "_view_module_version": "1.5.0",
            "_view_name": "ProgressView",
            "bar_style": "success",
            "description": "",
            "description_tooltip": null,
            "layout": "IPY_MODEL_f12866ae3c7b488a9cd59a1f8320b53f",
            "max": 57,
            "min": 0,
            "orientation": "horizontal",
            "style": "IPY_MODEL_cc091577b10a40fa9d97766bd57b4933",
            "value": 57
          }
        },
        "2ea425bad36943598e568ae1e624c3e5": {
          "model_module": "@jupyter-widgets/controls",
          "model_module_version": "1.5.0",
          "model_name": "FloatProgressModel",
          "state": {
            "_dom_classes": [],
            "_model_module": "@jupyter-widgets/controls",
            "_model_module_version": "1.5.0",
            "_model_name": "FloatProgressModel",
            "_view_count": null,
            "_view_module": "@jupyter-widgets/controls",
            "_view_module_version": "1.5.0",
            "_view_name": "ProgressView",
            "bar_style": "success",
            "description": "",
            "description_tooltip": null,
            "layout": "IPY_MODEL_5fe88de866c64d8a9e4c5e16a4166a0d",
            "max": 167,
            "min": 0,
            "orientation": "horizontal",
            "style": "IPY_MODEL_993021ad801c4a65b0af69e09b0c89a9",
            "value": 167
          }
        },
        "3a9301f3b1f646bb94704294d14647bb": {
          "model_module": "@jupyter-widgets/base",
          "model_module_version": "1.2.0",
          "model_name": "LayoutModel",
          "state": {
            "_model_module": "@jupyter-widgets/base",
            "_model_module_version": "1.2.0",
            "_model_name": "LayoutModel",
            "_view_count": null,
            "_view_module": "@jupyter-widgets/base",
            "_view_module_version": "1.2.0",
            "_view_name": "LayoutView",
            "align_content": null,
            "align_items": null,
            "align_self": null,
            "border": null,
            "bottom": null,
            "display": null,
            "flex": null,
            "flex_flow": null,
            "grid_area": null,
            "grid_auto_columns": null,
            "grid_auto_flow": null,
            "grid_auto_rows": null,
            "grid_column": null,
            "grid_gap": null,
            "grid_row": null,
            "grid_template_areas": null,
            "grid_template_columns": null,
            "grid_template_rows": null,
            "height": null,
            "justify_content": null,
            "justify_items": null,
            "left": null,
            "margin": null,
            "max_height": null,
            "max_width": null,
            "min_height": null,
            "min_width": null,
            "object_fit": null,
            "object_position": null,
            "order": null,
            "overflow": null,
            "overflow_x": null,
            "overflow_y": null,
            "padding": null,
            "right": null,
            "top": null,
            "visibility": null,
            "width": null
          }
        },
        "3cd28b10ca884d828544c0cd2379ad0a": {
          "model_module": "@jupyter-widgets/controls",
          "model_module_version": "1.5.0",
          "model_name": "HTMLModel",
          "state": {
            "_dom_classes": [],
            "_model_module": "@jupyter-widgets/controls",
            "_model_module_version": "1.5.0",
            "_model_name": "HTMLModel",
            "_view_count": null,
            "_view_module": "@jupyter-widgets/controls",
            "_view_module_version": "1.5.0",
            "_view_name": "HTMLView",
            "description": "",
            "description_tooltip": null,
            "layout": "IPY_MODEL_e40f845709294cb0b60893330364f6f4",
            "placeholder": "​",
            "style": "IPY_MODEL_ac540e8a52b44569a50b829c680ed5ea",
            "value": "sentencepiece.bpe.model: 100%"
          }
        },
        "4325e27f64ff4194b773bc6833b39ee1": {
          "model_module": "@jupyter-widgets/controls",
          "model_module_version": "1.5.0",
          "model_name": "HTMLModel",
          "state": {
            "_dom_classes": [],
            "_model_module": "@jupyter-widgets/controls",
            "_model_module_version": "1.5.0",
            "_model_name": "HTMLModel",
            "_view_count": null,
            "_view_module": "@jupyter-widgets/controls",
            "_view_module_version": "1.5.0",
            "_view_name": "HTMLView",
            "description": "",
            "description_tooltip": null,
            "layout": "IPY_MODEL_4fcfdf7c5af14098aa472da3970391b2",
            "placeholder": "​",
            "style": "IPY_MODEL_b08dd04259ac4daf9f6c44e49321c716",
            "value": " 471M/471M [00:12&lt;00:00, 50.9MB/s]"
          }
        },
        "452f3705575d44f2a3f3ecdd657a6342": {
          "model_module": "@jupyter-widgets/controls",
          "model_module_version": "1.5.0",
          "model_name": "DescriptionStyleModel",
          "state": {
            "_model_module": "@jupyter-widgets/controls",
            "_model_module_version": "1.5.0",
            "_model_name": "DescriptionStyleModel",
            "_view_count": null,
            "_view_module": "@jupyter-widgets/base",
            "_view_module_version": "1.2.0",
            "_view_name": "StyleView",
            "description_width": ""
          }
        },
        "4ab1da4502c94b8ea5df099ae63c3efd": {
          "model_module": "@jupyter-widgets/controls",
          "model_module_version": "1.5.0",
          "model_name": "HTMLModel",
          "state": {
            "_dom_classes": [],
            "_model_module": "@jupyter-widgets/controls",
            "_model_module_version": "1.5.0",
            "_model_name": "HTMLModel",
            "_view_count": null,
            "_view_module": "@jupyter-widgets/controls",
            "_view_module_version": "1.5.0",
            "_view_name": "HTMLView",
            "description": "",
            "description_tooltip": null,
            "layout": "IPY_MODEL_7530b106122148399d55cb3c7e6df861",
            "placeholder": "​",
            "style": "IPY_MODEL_b019814eece0458bbc7ac9791e9a45a2",
            "value": " 17.1M/17.1M [00:00&lt;00:00, 44.4MB/s]"
          }
        },
        "4da1b0ff60c6438fa56cb38f3704f741": {
          "model_module": "@jupyter-widgets/controls",
          "model_module_version": "1.5.0",
          "model_name": "HTMLModel",
          "state": {
            "_dom_classes": [],
            "_model_module": "@jupyter-widgets/controls",
            "_model_module_version": "1.5.0",
            "_model_name": "HTMLModel",
            "_view_count": null,
            "_view_module": "@jupyter-widgets/controls",
            "_view_module_version": "1.5.0",
            "_view_name": "HTMLView",
            "description": "",
            "description_tooltip": null,
            "layout": "IPY_MODEL_6f70e5302ea14a0592bf10dfa76f4ce2",
            "placeholder": "​",
            "style": "IPY_MODEL_c0837f90a5ae4ba7a318604705c4d9fe",
            "value": "config.json: 100%"
          }
        },
        "4fcfdf7c5af14098aa472da3970391b2": {
          "model_module": "@jupyter-widgets/base",
          "model_module_version": "1.2.0",
          "model_name": "LayoutModel",
          "state": {
            "_model_module": "@jupyter-widgets/base",
            "_model_module_version": "1.2.0",
            "_model_name": "LayoutModel",
            "_view_count": null,
            "_view_module": "@jupyter-widgets/base",
            "_view_module_version": "1.2.0",
            "_view_name": "LayoutView",
            "align_content": null,
            "align_items": null,
            "align_self": null,
            "border": null,
            "bottom": null,
            "display": null,
            "flex": null,
            "flex_flow": null,
            "grid_area": null,
            "grid_auto_columns": null,
            "grid_auto_flow": null,
            "grid_auto_rows": null,
            "grid_column": null,
            "grid_gap": null,
            "grid_row": null,
            "grid_template_areas": null,
            "grid_template_columns": null,
            "grid_template_rows": null,
            "height": null,
            "justify_content": null,
            "justify_items": null,
            "left": null,
            "margin": null,
            "max_height": null,
            "max_width": null,
            "min_height": null,
            "min_width": null,
            "object_fit": null,
            "object_position": null,
            "order": null,
            "overflow": null,
            "overflow_x": null,
            "overflow_y": null,
            "padding": null,
            "right": null,
            "top": null,
            "visibility": null,
            "width": null
          }
        },
        "523e871cb34e4341972e4fe54a52417b": {
          "model_module": "@jupyter-widgets/controls",
          "model_module_version": "1.5.0",
          "model_name": "DescriptionStyleModel",
          "state": {
            "_model_module": "@jupyter-widgets/controls",
            "_model_module_version": "1.5.0",
            "_model_name": "DescriptionStyleModel",
            "_view_count": null,
            "_view_module": "@jupyter-widgets/base",
            "_view_module_version": "1.2.0",
            "_view_name": "StyleView",
            "description_width": ""
          }
        },
        "5401a083fa454759abbdf3f3759bdf22": {
          "model_module": "@jupyter-widgets/base",
          "model_module_version": "1.2.0",
          "model_name": "LayoutModel",
          "state": {
            "_model_module": "@jupyter-widgets/base",
            "_model_module_version": "1.2.0",
            "_model_name": "LayoutModel",
            "_view_count": null,
            "_view_module": "@jupyter-widgets/base",
            "_view_module_version": "1.2.0",
            "_view_name": "LayoutView",
            "align_content": null,
            "align_items": null,
            "align_self": null,
            "border": null,
            "bottom": null,
            "display": null,
            "flex": null,
            "flex_flow": null,
            "grid_area": null,
            "grid_auto_columns": null,
            "grid_auto_flow": null,
            "grid_auto_rows": null,
            "grid_column": null,
            "grid_gap": null,
            "grid_row": null,
            "grid_template_areas": null,
            "grid_template_columns": null,
            "grid_template_rows": null,
            "height": null,
            "justify_content": null,
            "justify_items": null,
            "left": null,
            "margin": null,
            "max_height": null,
            "max_width": null,
            "min_height": null,
            "min_width": null,
            "object_fit": null,
            "object_position": null,
            "order": null,
            "overflow": null,
            "overflow_x": null,
            "overflow_y": null,
            "padding": null,
            "right": null,
            "top": null,
            "visibility": null,
            "width": null
          }
        },
        "54a417351fa947afa973b57115d753ea": {
          "model_module": "@jupyter-widgets/controls",
          "model_module_version": "1.5.0",
          "model_name": "DescriptionStyleModel",
          "state": {
            "_model_module": "@jupyter-widgets/controls",
            "_model_module_version": "1.5.0",
            "_model_name": "DescriptionStyleModel",
            "_view_count": null,
            "_view_module": "@jupyter-widgets/base",
            "_view_module_version": "1.2.0",
            "_view_name": "StyleView",
            "description_width": ""
          }
        },
        "56ca874924284cf39f6e4794397c0086": {
          "model_module": "@jupyter-widgets/base",
          "model_module_version": "1.2.0",
          "model_name": "LayoutModel",
          "state": {
            "_model_module": "@jupyter-widgets/base",
            "_model_module_version": "1.2.0",
            "_model_name": "LayoutModel",
            "_view_count": null,
            "_view_module": "@jupyter-widgets/base",
            "_view_module_version": "1.2.0",
            "_view_name": "LayoutView",
            "align_content": null,
            "align_items": null,
            "align_self": null,
            "border": null,
            "bottom": null,
            "display": null,
            "flex": null,
            "flex_flow": null,
            "grid_area": null,
            "grid_auto_columns": null,
            "grid_auto_flow": null,
            "grid_auto_rows": null,
            "grid_column": null,
            "grid_gap": null,
            "grid_row": null,
            "grid_template_areas": null,
            "grid_template_columns": null,
            "grid_template_rows": null,
            "height": null,
            "justify_content": null,
            "justify_items": null,
            "left": null,
            "margin": null,
            "max_height": null,
            "max_width": null,
            "min_height": null,
            "min_width": null,
            "object_fit": null,
            "object_position": null,
            "order": null,
            "overflow": null,
            "overflow_x": null,
            "overflow_y": null,
            "padding": null,
            "right": null,
            "top": null,
            "visibility": null,
            "width": null
          }
        },
        "57a8d7041f9d4198a781b60218840803": {
          "model_module": "@jupyter-widgets/controls",
          "model_module_version": "1.5.0",
          "model_name": "HBoxModel",
          "state": {
            "_dom_classes": [],
            "_model_module": "@jupyter-widgets/controls",
            "_model_module_version": "1.5.0",
            "_model_name": "HBoxModel",
            "_view_count": null,
            "_view_module": "@jupyter-widgets/controls",
            "_view_module_version": "1.5.0",
            "_view_name": "HBoxView",
            "box_style": "",
            "children": [
              "IPY_MODEL_3cd28b10ca884d828544c0cd2379ad0a",
              "IPY_MODEL_92c26f3da5d94515a20e70ee30f85eb6",
              "IPY_MODEL_1d2215ebc46f42898757c8fbbfd01d71"
            ],
            "layout": "IPY_MODEL_10a09fcbeb0b4841bf46c4ed29a7d517"
          }
        },
        "58db822343b541009b7771fd9da4713b": {
          "model_module": "@jupyter-widgets/controls",
          "model_module_version": "1.5.0",
          "model_name": "HBoxModel",
          "state": {
            "_dom_classes": [],
            "_model_module": "@jupyter-widgets/controls",
            "_model_module_version": "1.5.0",
            "_model_name": "HBoxModel",
            "_view_count": null,
            "_view_module": "@jupyter-widgets/controls",
            "_view_module_version": "1.5.0",
            "_view_name": "HBoxView",
            "box_style": "",
            "children": [
              "IPY_MODEL_c635505f06e344eabfc3c649ca0dd1d4",
              "IPY_MODEL_168aa02700744ed8afd923a2d6785fde",
              "IPY_MODEL_0b0902fcdffa4ce49338c2c5cf733db6"
            ],
            "layout": "IPY_MODEL_56ca874924284cf39f6e4794397c0086"
          }
        },
        "5aa45d6402d445bc9db52517af7ea799": {
          "model_module": "@jupyter-widgets/controls",
          "model_module_version": "1.5.0",
          "model_name": "DescriptionStyleModel",
          "state": {
            "_model_module": "@jupyter-widgets/controls",
            "_model_module_version": "1.5.0",
            "_model_name": "DescriptionStyleModel",
            "_view_count": null,
            "_view_module": "@jupyter-widgets/base",
            "_view_module_version": "1.2.0",
            "_view_name": "StyleView",
            "description_width": ""
          }
        },
        "5b6f38cbf23242818f5e1067b089ac93": {
          "model_module": "@jupyter-widgets/controls",
          "model_module_version": "1.5.0",
          "model_name": "FloatProgressModel",
          "state": {
            "_dom_classes": [],
            "_model_module": "@jupyter-widgets/controls",
            "_model_module_version": "1.5.0",
            "_model_name": "FloatProgressModel",
            "_view_count": null,
            "_view_module": "@jupyter-widgets/controls",
            "_view_module_version": "1.5.0",
            "_view_name": "ProgressView",
            "bar_style": "success",
            "description": "",
            "description_tooltip": null,
            "layout": "IPY_MODEL_fd5348c6288d4908b69ef234185e8a6b",
            "max": 470641600,
            "min": 0,
            "orientation": "horizontal",
            "style": "IPY_MODEL_0d62d5b6b8b845dcbef0ad5511cde8e3",
            "value": 470641600
          }
        },
        "5d7104e8b7914f00b5d6a2dd592dab59": {
          "model_module": "@jupyter-widgets/controls",
          "model_module_version": "1.5.0",
          "model_name": "HBoxModel",
          "state": {
            "_dom_classes": [],
            "_model_module": "@jupyter-widgets/controls",
            "_model_module_version": "1.5.0",
            "_model_name": "HBoxModel",
            "_view_count": null,
            "_view_module": "@jupyter-widgets/controls",
            "_view_module_version": "1.5.0",
            "_view_name": "HBoxView",
            "box_style": "",
            "children": [
              "IPY_MODEL_74fed37fecd74d889a3b8b21578912f0",
              "IPY_MODEL_df27dba2bc5045738450b159428278b5",
              "IPY_MODEL_4ab1da4502c94b8ea5df099ae63c3efd"
            ],
            "layout": "IPY_MODEL_2007edcb253042abbff010c9e8772932"
          }
        },
        "5f795b5767a045599b8735a7f9ae196a": {
          "model_module": "@jupyter-widgets/controls",
          "model_module_version": "1.5.0",
          "model_name": "HTMLModel",
          "state": {
            "_dom_classes": [],
            "_model_module": "@jupyter-widgets/controls",
            "_model_module_version": "1.5.0",
            "_model_name": "HTMLModel",
            "_view_count": null,
            "_view_module": "@jupyter-widgets/controls",
            "_view_module_version": "1.5.0",
            "_view_name": "HTMLView",
            "description": "",
            "description_tooltip": null,
            "layout": "IPY_MODEL_cc90dfc2c330458ab28931e395218dcb",
            "placeholder": "​",
            "style": "IPY_MODEL_54a417351fa947afa973b57115d753ea",
            "value": " 498k/? [00:00&lt;00:00, 28.4MB/s]"
          }
        },
        "5fe88de866c64d8a9e4c5e16a4166a0d": {
          "model_module": "@jupyter-widgets/base",
          "model_module_version": "1.2.0",
          "model_name": "LayoutModel",
          "state": {
            "_model_module": "@jupyter-widgets/base",
            "_model_module_version": "1.2.0",
            "_model_name": "LayoutModel",
            "_view_count": null,
            "_view_module": "@jupyter-widgets/base",
            "_view_module_version": "1.2.0",
            "_view_name": "LayoutView",
            "align_content": null,
            "align_items": null,
            "align_self": null,
            "border": null,
            "bottom": null,
            "display": null,
            "flex": null,
            "flex_flow": null,
            "grid_area": null,
            "grid_auto_columns": null,
            "grid_auto_flow": null,
            "grid_auto_rows": null,
            "grid_column": null,
            "grid_gap": null,
            "grid_row": null,
            "grid_template_areas": null,
            "grid_template_columns": null,
            "grid_template_rows": null,
            "height": null,
            "justify_content": null,
            "justify_items": null,
            "left": null,
            "margin": null,
            "max_height": null,
            "max_width": null,
            "min_height": null,
            "min_width": null,
            "object_fit": null,
            "object_position": null,
            "order": null,
            "overflow": null,
            "overflow_x": null,
            "overflow_y": null,
            "padding": null,
            "right": null,
            "top": null,
            "visibility": null,
            "width": null
          }
        },
        "628a94cceba949b78159a175bbade706": {
          "model_module": "@jupyter-widgets/controls",
          "model_module_version": "1.5.0",
          "model_name": "FloatProgressModel",
          "state": {
            "_dom_classes": [],
            "_model_module": "@jupyter-widgets/controls",
            "_model_module_version": "1.5.0",
            "_model_name": "FloatProgressModel",
            "_view_count": null,
            "_view_module": "@jupyter-widgets/controls",
            "_view_module_version": "1.5.0",
            "_view_name": "ProgressView",
            "bar_style": "success",
            "description": "",
            "description_tooltip": null,
            "layout": "IPY_MODEL_a57436fce12b48679b9f867e44936c72",
            "max": 1,
            "min": 0,
            "orientation": "horizontal",
            "style": "IPY_MODEL_6f4427e5b6824deda0687a70d825d599",
            "value": 1
          }
        },
        "6900547f804c4e2881f99b90f249fa99": {
          "model_module": "@jupyter-widgets/base",
          "model_module_version": "1.2.0",
          "model_name": "LayoutModel",
          "state": {
            "_model_module": "@jupyter-widgets/base",
            "_model_module_version": "1.2.0",
            "_model_name": "LayoutModel",
            "_view_count": null,
            "_view_module": "@jupyter-widgets/base",
            "_view_module_version": "1.2.0",
            "_view_name": "LayoutView",
            "align_content": null,
            "align_items": null,
            "align_self": null,
            "border": null,
            "bottom": null,
            "display": null,
            "flex": null,
            "flex_flow": null,
            "grid_area": null,
            "grid_auto_columns": null,
            "grid_auto_flow": null,
            "grid_auto_rows": null,
            "grid_column": null,
            "grid_gap": null,
            "grid_row": null,
            "grid_template_areas": null,
            "grid_template_columns": null,
            "grid_template_rows": null,
            "height": null,
            "justify_content": null,
            "justify_items": null,
            "left": null,
            "margin": null,
            "max_height": null,
            "max_width": null,
            "min_height": null,
            "min_width": null,
            "object_fit": null,
            "object_position": null,
            "order": null,
            "overflow": null,
            "overflow_x": null,
            "overflow_y": null,
            "padding": null,
            "right": null,
            "top": null,
            "visibility": null,
            "width": null
          }
        },
        "6aacfe7c7942458e9de767171b46e39e": {
          "model_module": "@jupyter-widgets/controls",
          "model_module_version": "1.5.0",
          "model_name": "DescriptionStyleModel",
          "state": {
            "_model_module": "@jupyter-widgets/controls",
            "_model_module_version": "1.5.0",
            "_model_name": "DescriptionStyleModel",
            "_view_count": null,
            "_view_module": "@jupyter-widgets/base",
            "_view_module_version": "1.2.0",
            "_view_name": "StyleView",
            "description_width": ""
          }
        },
        "6b868c1085db4b2f88fd249bd7d2ae55": {
          "model_module": "@jupyter-widgets/controls",
          "model_module_version": "1.5.0",
          "model_name": "HBoxModel",
          "state": {
            "_dom_classes": [],
            "_model_module": "@jupyter-widgets/controls",
            "_model_module_version": "1.5.0",
            "_model_name": "HBoxModel",
            "_view_count": null,
            "_view_module": "@jupyter-widgets/controls",
            "_view_module_version": "1.5.0",
            "_view_name": "HBoxView",
            "box_style": "",
            "children": [
              "IPY_MODEL_74cb0d2beacc4ca982d6185866ea8296",
              "IPY_MODEL_5b6f38cbf23242818f5e1067b089ac93",
              "IPY_MODEL_4325e27f64ff4194b773bc6833b39ee1"
            ],
            "layout": "IPY_MODEL_dac58868ad9144468c692cf6a3064ed2"
          }
        },
        "6bb4f086650248889a7140a48b1dc1aa": {
          "model_module": "@jupyter-widgets/base",
          "model_module_version": "1.2.0",
          "model_name": "LayoutModel",
          "state": {
            "_model_module": "@jupyter-widgets/base",
            "_model_module_version": "1.2.0",
            "_model_name": "LayoutModel",
            "_view_count": null,
            "_view_module": "@jupyter-widgets/base",
            "_view_module_version": "1.2.0",
            "_view_name": "LayoutView",
            "align_content": null,
            "align_items": null,
            "align_self": null,
            "border": null,
            "bottom": null,
            "display": null,
            "flex": null,
            "flex_flow": null,
            "grid_area": null,
            "grid_auto_columns": null,
            "grid_auto_flow": null,
            "grid_auto_rows": null,
            "grid_column": null,
            "grid_gap": null,
            "grid_row": null,
            "grid_template_areas": null,
            "grid_template_columns": null,
            "grid_template_rows": null,
            "height": null,
            "justify_content": null,
            "justify_items": null,
            "left": null,
            "margin": null,
            "max_height": null,
            "max_width": null,
            "min_height": null,
            "min_width": null,
            "object_fit": null,
            "object_position": null,
            "order": null,
            "overflow": null,
            "overflow_x": null,
            "overflow_y": null,
            "padding": null,
            "right": null,
            "top": null,
            "visibility": null,
            "width": null
          }
        },
        "6dc2391ab9f6476e8ee87a33326bda6a": {
          "model_module": "@jupyter-widgets/controls",
          "model_module_version": "1.5.0",
          "model_name": "DescriptionStyleModel",
          "state": {
            "_model_module": "@jupyter-widgets/controls",
            "_model_module_version": "1.5.0",
            "_model_name": "DescriptionStyleModel",
            "_view_count": null,
            "_view_module": "@jupyter-widgets/base",
            "_view_module_version": "1.2.0",
            "_view_name": "StyleView",
            "description_width": ""
          }
        },
        "6f4427e5b6824deda0687a70d825d599": {
          "model_module": "@jupyter-widgets/controls",
          "model_module_version": "1.5.0",
          "model_name": "ProgressStyleModel",
          "state": {
            "_model_module": "@jupyter-widgets/controls",
            "_model_module_version": "1.5.0",
            "_model_name": "ProgressStyleModel",
            "_view_count": null,
            "_view_module": "@jupyter-widgets/base",
            "_view_module_version": "1.2.0",
            "_view_name": "StyleView",
            "bar_color": null,
            "description_width": ""
          }
        },
        "6f70e5302ea14a0592bf10dfa76f4ce2": {
          "model_module": "@jupyter-widgets/base",
          "model_module_version": "1.2.0",
          "model_name": "LayoutModel",
          "state": {
            "_model_module": "@jupyter-widgets/base",
            "_model_module_version": "1.2.0",
            "_model_name": "LayoutModel",
            "_view_count": null,
            "_view_module": "@jupyter-widgets/base",
            "_view_module_version": "1.2.0",
            "_view_name": "LayoutView",
            "align_content": null,
            "align_items": null,
            "align_self": null,
            "border": null,
            "bottom": null,
            "display": null,
            "flex": null,
            "flex_flow": null,
            "grid_area": null,
            "grid_auto_columns": null,
            "grid_auto_flow": null,
            "grid_auto_rows": null,
            "grid_column": null,
            "grid_gap": null,
            "grid_row": null,
            "grid_template_areas": null,
            "grid_template_columns": null,
            "grid_template_rows": null,
            "height": null,
            "justify_content": null,
            "justify_items": null,
            "left": null,
            "margin": null,
            "max_height": null,
            "max_width": null,
            "min_height": null,
            "min_width": null,
            "object_fit": null,
            "object_position": null,
            "order": null,
            "overflow": null,
            "overflow_x": null,
            "overflow_y": null,
            "padding": null,
            "right": null,
            "top": null,
            "visibility": null,
            "width": null
          }
        },
        "73b9d91f4f5742ba8ebfefaadd0e679e": {
          "model_module": "@jupyter-widgets/base",
          "model_module_version": "1.2.0",
          "model_name": "LayoutModel",
          "state": {
            "_model_module": "@jupyter-widgets/base",
            "_model_module_version": "1.2.0",
            "_model_name": "LayoutModel",
            "_view_count": null,
            "_view_module": "@jupyter-widgets/base",
            "_view_module_version": "1.2.0",
            "_view_name": "LayoutView",
            "align_content": null,
            "align_items": null,
            "align_self": null,
            "border": null,
            "bottom": null,
            "display": null,
            "flex": null,
            "flex_flow": null,
            "grid_area": null,
            "grid_auto_columns": null,
            "grid_auto_flow": null,
            "grid_auto_rows": null,
            "grid_column": null,
            "grid_gap": null,
            "grid_row": null,
            "grid_template_areas": null,
            "grid_template_columns": null,
            "grid_template_rows": null,
            "height": null,
            "justify_content": null,
            "justify_items": null,
            "left": null,
            "margin": null,
            "max_height": null,
            "max_width": null,
            "min_height": null,
            "min_width": null,
            "object_fit": null,
            "object_position": null,
            "order": null,
            "overflow": null,
            "overflow_x": null,
            "overflow_y": null,
            "padding": null,
            "right": null,
            "top": null,
            "visibility": null,
            "width": null
          }
        },
        "74cb0d2beacc4ca982d6185866ea8296": {
          "model_module": "@jupyter-widgets/controls",
          "model_module_version": "1.5.0",
          "model_name": "HTMLModel",
          "state": {
            "_dom_classes": [],
            "_model_module": "@jupyter-widgets/controls",
            "_model_module_version": "1.5.0",
            "_model_name": "HTMLModel",
            "_view_count": null,
            "_view_module": "@jupyter-widgets/controls",
            "_view_module_version": "1.5.0",
            "_view_name": "HTMLView",
            "description": "",
            "description_tooltip": null,
            "layout": "IPY_MODEL_22a5cb9cabc94ed8a06b40e0dfb9be23",
            "placeholder": "​",
            "style": "IPY_MODEL_c59eb75465fd40b4b95204672f497bf3",
            "value": "model.safetensors: 100%"
          }
        },
        "74fed37fecd74d889a3b8b21578912f0": {
          "model_module": "@jupyter-widgets/controls",
          "model_module_version": "1.5.0",
          "model_name": "HTMLModel",
          "state": {
            "_dom_classes": [],
            "_model_module": "@jupyter-widgets/controls",
            "_model_module_version": "1.5.0",
            "_model_name": "HTMLModel",
            "_view_count": null,
            "_view_module": "@jupyter-widgets/controls",
            "_view_module_version": "1.5.0",
            "_view_name": "HTMLView",
            "description": "",
            "description_tooltip": null,
            "layout": "IPY_MODEL_0d398c8152ee42d4b011a580e8657dc2",
            "placeholder": "​",
            "style": "IPY_MODEL_8f8e9e25801440b4b94e7552ffb68224",
            "value": "tokenizer.json: 100%"
          }
        },
        "7530b106122148399d55cb3c7e6df861": {
          "model_module": "@jupyter-widgets/base",
          "model_module_version": "1.2.0",
          "model_name": "LayoutModel",
          "state": {
            "_model_module": "@jupyter-widgets/base",
            "_model_module_version": "1.2.0",
            "_model_name": "LayoutModel",
            "_view_count": null,
            "_view_module": "@jupyter-widgets/base",
            "_view_module_version": "1.2.0",
            "_view_name": "LayoutView",
            "align_content": null,
            "align_items": null,
            "align_self": null,
            "border": null,
            "bottom": null,
            "display": null,
            "flex": null,
            "flex_flow": null,
            "grid_area": null,
            "grid_auto_columns": null,
            "grid_auto_flow": null,
            "grid_auto_rows": null,
            "grid_column": null,
            "grid_gap": null,
            "grid_row": null,
            "grid_template_areas": null,
            "grid_template_columns": null,
            "grid_template_rows": null,
            "height": null,
            "justify_content": null,
            "justify_items": null,
            "left": null,
            "margin": null,
            "max_height": null,
            "max_width": null,
            "min_height": null,
            "min_width": null,
            "object_fit": null,
            "object_position": null,
            "order": null,
            "overflow": null,
            "overflow_x": null,
            "overflow_y": null,
            "padding": null,
            "right": null,
            "top": null,
            "visibility": null,
            "width": null
          }
        },
        "76385acf69f64ac2935c4cacc21ec2de": {
          "model_module": "@jupyter-widgets/controls",
          "model_module_version": "1.5.0",
          "model_name": "HTMLModel",
          "state": {
            "_dom_classes": [],
            "_model_module": "@jupyter-widgets/controls",
            "_model_module_version": "1.5.0",
            "_model_name": "HTMLModel",
            "_view_count": null,
            "_view_module": "@jupyter-widgets/controls",
            "_view_module_version": "1.5.0",
            "_view_name": "HTMLView",
            "description": "",
            "description_tooltip": null,
            "layout": "IPY_MODEL_73b9d91f4f5742ba8ebfefaadd0e679e",
            "placeholder": "​",
            "style": "IPY_MODEL_6aacfe7c7942458e9de767171b46e39e",
            "value": " 57.0/57.0 [00:00&lt;00:00, 7.36kB/s]"
          }
        },
        "768d91fb3627426caa07ac4c058f9332": {
          "model_module": "@jupyter-widgets/base",
          "model_module_version": "1.2.0",
          "model_name": "LayoutModel",
          "state": {
            "_model_module": "@jupyter-widgets/base",
            "_model_module_version": "1.2.0",
            "_model_name": "LayoutModel",
            "_view_count": null,
            "_view_module": "@jupyter-widgets/base",
            "_view_module_version": "1.2.0",
            "_view_name": "LayoutView",
            "align_content": null,
            "align_items": null,
            "align_self": null,
            "border": null,
            "bottom": null,
            "display": null,
            "flex": null,
            "flex_flow": null,
            "grid_area": null,
            "grid_auto_columns": null,
            "grid_auto_flow": null,
            "grid_auto_rows": null,
            "grid_column": null,
            "grid_gap": null,
            "grid_row": null,
            "grid_template_areas": null,
            "grid_template_columns": null,
            "grid_template_rows": null,
            "height": null,
            "justify_content": null,
            "justify_items": null,
            "left": null,
            "margin": null,
            "max_height": null,
            "max_width": null,
            "min_height": null,
            "min_width": null,
            "object_fit": null,
            "object_position": null,
            "order": null,
            "overflow": null,
            "overflow_x": null,
            "overflow_y": null,
            "padding": null,
            "right": null,
            "top": null,
            "visibility": null,
            "width": null
          }
        },
        "7934f8a048b84800919e310f2d518f33": {
          "model_module": "@jupyter-widgets/controls",
          "model_module_version": "1.5.0",
          "model_name": "ProgressStyleModel",
          "state": {
            "_model_module": "@jupyter-widgets/controls",
            "_model_module_version": "1.5.0",
            "_model_name": "ProgressStyleModel",
            "_view_count": null,
            "_view_module": "@jupyter-widgets/base",
            "_view_module_version": "1.2.0",
            "_view_name": "StyleView",
            "bar_color": null,
            "description_width": ""
          }
        },
        "7b9f7875178940dbac323141ace84356": {
          "model_module": "@jupyter-widgets/base",
          "model_module_version": "1.2.0",
          "model_name": "LayoutModel",
          "state": {
            "_model_module": "@jupyter-widgets/base",
            "_model_module_version": "1.2.0",
            "_model_name": "LayoutModel",
            "_view_count": null,
            "_view_module": "@jupyter-widgets/base",
            "_view_module_version": "1.2.0",
            "_view_name": "LayoutView",
            "align_content": null,
            "align_items": null,
            "align_self": null,
            "border": null,
            "bottom": null,
            "display": null,
            "flex": null,
            "flex_flow": null,
            "grid_area": null,
            "grid_auto_columns": null,
            "grid_auto_flow": null,
            "grid_auto_rows": null,
            "grid_column": null,
            "grid_gap": null,
            "grid_row": null,
            "grid_template_areas": null,
            "grid_template_columns": null,
            "grid_template_rows": null,
            "height": null,
            "justify_content": null,
            "justify_items": null,
            "left": null,
            "margin": null,
            "max_height": null,
            "max_width": null,
            "min_height": null,
            "min_width": null,
            "object_fit": null,
            "object_position": null,
            "order": null,
            "overflow": null,
            "overflow_x": null,
            "overflow_y": null,
            "padding": null,
            "right": null,
            "top": null,
            "visibility": null,
            "width": null
          }
        },
        "7df6845f3b404767ad3fa577838fa874": {
          "model_module": "@jupyter-widgets/controls",
          "model_module_version": "1.5.0",
          "model_name": "FloatProgressModel",
          "state": {
            "_dom_classes": [],
            "_model_module": "@jupyter-widgets/controls",
            "_model_module_version": "1.5.0",
            "_model_name": "FloatProgressModel",
            "_view_count": null,
            "_view_module": "@jupyter-widgets/controls",
            "_view_module_version": "1.5.0",
            "_view_name": "ProgressView",
            "bar_style": "success",
            "description": "",
            "description_tooltip": null,
            "layout": "IPY_MODEL_bfadc89b205d4306a59d7cb21913fd54",
            "max": 387,
            "min": 0,
            "orientation": "horizontal",
            "style": "IPY_MODEL_8a7deaacdf1f4a328955f2e19a855e80",
            "value": 387
          }
        },
        "7e2ba30d2d1f46b3b27f993c89d884d4": {
          "model_module": "@jupyter-widgets/controls",
          "model_module_version": "1.5.0",
          "model_name": "DescriptionStyleModel",
          "state": {
            "_model_module": "@jupyter-widgets/controls",
            "_model_module_version": "1.5.0",
            "_model_name": "DescriptionStyleModel",
            "_view_count": null,
            "_view_module": "@jupyter-widgets/base",
            "_view_module_version": "1.2.0",
            "_view_name": "StyleView",
            "description_width": ""
          }
        },
        "7e61ef607c5548a888298e841b94491b": {
          "model_module": "@jupyter-widgets/controls",
          "model_module_version": "1.5.0",
          "model_name": "HTMLModel",
          "state": {
            "_dom_classes": [],
            "_model_module": "@jupyter-widgets/controls",
            "_model_module_version": "1.5.0",
            "_model_name": "HTMLModel",
            "_view_count": null,
            "_view_module": "@jupyter-widgets/controls",
            "_view_module_version": "1.5.0",
            "_view_name": "HTMLView",
            "description": "",
            "description_tooltip": null,
            "layout": "IPY_MODEL_b0da76a392b34b39a066e10d21db6692",
            "placeholder": "​",
            "style": "IPY_MODEL_523e871cb34e4341972e4fe54a52417b",
            "value": " 167/167 [00:00&lt;00:00, 3.83kB/s]"
          }
        },
        "87997a76edfc422f9cc9fea9aee85796": {
          "model_module": "@jupyter-widgets/controls",
          "model_module_version": "1.5.0",
          "model_name": "ProgressStyleModel",
          "state": {
            "_model_module": "@jupyter-widgets/controls",
            "_model_module_version": "1.5.0",
            "_model_name": "ProgressStyleModel",
            "_view_count": null,
            "_view_module": "@jupyter-widgets/base",
            "_view_module_version": "1.2.0",
            "_view_name": "StyleView",
            "bar_color": null,
            "description_width": ""
          }
        },
        "8a7deaacdf1f4a328955f2e19a855e80": {
          "model_module": "@jupyter-widgets/controls",
          "model_module_version": "1.5.0",
          "model_name": "ProgressStyleModel",
          "state": {
            "_model_module": "@jupyter-widgets/controls",
            "_model_module_version": "1.5.0",
            "_model_name": "ProgressStyleModel",
            "_view_count": null,
            "_view_module": "@jupyter-widgets/base",
            "_view_module_version": "1.2.0",
            "_view_name": "StyleView",
            "bar_color": null,
            "description_width": ""
          }
        },
        "8f8e9e25801440b4b94e7552ffb68224": {
          "model_module": "@jupyter-widgets/controls",
          "model_module_version": "1.5.0",
          "model_name": "DescriptionStyleModel",
          "state": {
            "_model_module": "@jupyter-widgets/controls",
            "_model_module_version": "1.5.0",
            "_model_name": "DescriptionStyleModel",
            "_view_count": null,
            "_view_module": "@jupyter-widgets/base",
            "_view_module_version": "1.2.0",
            "_view_name": "StyleView",
            "description_width": ""
          }
        },
        "8ff65194d0544b989a233be45e4834be": {
          "model_module": "@jupyter-widgets/base",
          "model_module_version": "1.2.0",
          "model_name": "LayoutModel",
          "state": {
            "_model_module": "@jupyter-widgets/base",
            "_model_module_version": "1.2.0",
            "_model_name": "LayoutModel",
            "_view_count": null,
            "_view_module": "@jupyter-widgets/base",
            "_view_module_version": "1.2.0",
            "_view_name": "LayoutView",
            "align_content": null,
            "align_items": null,
            "align_self": null,
            "border": null,
            "bottom": null,
            "display": null,
            "flex": null,
            "flex_flow": null,
            "grid_area": null,
            "grid_auto_columns": null,
            "grid_auto_flow": null,
            "grid_auto_rows": null,
            "grid_column": null,
            "grid_gap": null,
            "grid_row": null,
            "grid_template_areas": null,
            "grid_template_columns": null,
            "grid_template_rows": null,
            "height": null,
            "justify_content": null,
            "justify_items": null,
            "left": null,
            "margin": null,
            "max_height": null,
            "max_width": null,
            "min_height": null,
            "min_width": null,
            "object_fit": null,
            "object_position": null,
            "order": null,
            "overflow": null,
            "overflow_x": null,
            "overflow_y": null,
            "padding": null,
            "right": null,
            "top": null,
            "visibility": null,
            "width": null
          }
        },
        "92c26f3da5d94515a20e70ee30f85eb6": {
          "model_module": "@jupyter-widgets/controls",
          "model_module_version": "1.5.0",
          "model_name": "FloatProgressModel",
          "state": {
            "_dom_classes": [],
            "_model_module": "@jupyter-widgets/controls",
            "_model_module_version": "1.5.0",
            "_model_name": "FloatProgressModel",
            "_view_count": null,
            "_view_module": "@jupyter-widgets/controls",
            "_view_module_version": "1.5.0",
            "_view_name": "ProgressView",
            "bar_style": "success",
            "description": "",
            "description_tooltip": null,
            "layout": "IPY_MODEL_f101b553cc5f4085ac5e82fab4e8087e",
            "max": 5069051,
            "min": 0,
            "orientation": "horizontal",
            "style": "IPY_MODEL_a9e93b17c15f4995ba9af579287d1bd0",
            "value": 5069051
          }
        },
        "947549a0d52f48039acdac252057d522": {
          "model_module": "@jupyter-widgets/controls",
          "model_module_version": "1.5.0",
          "model_name": "DescriptionStyleModel",
          "state": {
            "_model_module": "@jupyter-widgets/controls",
            "_model_module_version": "1.5.0",
            "_model_name": "DescriptionStyleModel",
            "_view_count": null,
            "_view_module": "@jupyter-widgets/base",
            "_view_module_version": "1.2.0",
            "_view_name": "StyleView",
            "description_width": ""
          }
        },
        "993021ad801c4a65b0af69e09b0c89a9": {
          "model_module": "@jupyter-widgets/controls",
          "model_module_version": "1.5.0",
          "model_name": "ProgressStyleModel",
          "state": {
            "_model_module": "@jupyter-widgets/controls",
            "_model_module_version": "1.5.0",
            "_model_name": "ProgressStyleModel",
            "_view_count": null,
            "_view_module": "@jupyter-widgets/base",
            "_view_module_version": "1.2.0",
            "_view_name": "StyleView",
            "bar_color": null,
            "description_width": ""
          }
        },
        "9b3406017f47418797b894ae292271b9": {
          "model_module": "@jupyter-widgets/controls",
          "model_module_version": "1.5.0",
          "model_name": "HTMLModel",
          "state": {
            "_dom_classes": [],
            "_model_module": "@jupyter-widgets/controls",
            "_model_module_version": "1.5.0",
            "_model_name": "HTMLModel",
            "_view_count": null,
            "_view_module": "@jupyter-widgets/controls",
            "_view_module_version": "1.5.0",
            "_view_name": "HTMLView",
            "description": "",
            "description_tooltip": null,
            "layout": "IPY_MODEL_3a9301f3b1f646bb94704294d14647bb",
            "placeholder": "​",
            "style": "IPY_MODEL_2a73aeb2910b411d8b74481b5121a9e7",
            "value": " 200/200 [00:00&lt;00:00, 7.79kB/s]"
          }
        },
        "9c58a0ab90334d6dab26c01d2cf73eee": {
          "model_module": "@jupyter-widgets/base",
          "model_module_version": "1.2.0",
          "model_name": "LayoutModel",
          "state": {
            "_model_module": "@jupyter-widgets/base",
            "_model_module_version": "1.2.0",
            "_model_name": "LayoutModel",
            "_view_count": null,
            "_view_module": "@jupyter-widgets/base",
            "_view_module_version": "1.2.0",
            "_view_name": "LayoutView",
            "align_content": null,
            "align_items": null,
            "align_self": null,
            "border": null,
            "bottom": null,
            "display": null,
            "flex": null,
            "flex_flow": null,
            "grid_area": null,
            "grid_auto_columns": null,
            "grid_auto_flow": null,
            "grid_auto_rows": null,
            "grid_column": null,
            "grid_gap": null,
            "grid_row": null,
            "grid_template_areas": null,
            "grid_template_columns": null,
            "grid_template_rows": null,
            "height": null,
            "justify_content": null,
            "justify_items": null,
            "left": null,
            "margin": null,
            "max_height": null,
            "max_width": null,
            "min_height": null,
            "min_width": null,
            "object_fit": null,
            "object_position": null,
            "order": null,
            "overflow": null,
            "overflow_x": null,
            "overflow_y": null,
            "padding": null,
            "right": null,
            "top": null,
            "visibility": null,
            "width": null
          }
        },
        "9f1f2d911da94e179eab8e7bffade83e": {
          "model_module": "@jupyter-widgets/base",
          "model_module_version": "1.2.0",
          "model_name": "LayoutModel",
          "state": {
            "_model_module": "@jupyter-widgets/base",
            "_model_module_version": "1.2.0",
            "_model_name": "LayoutModel",
            "_view_count": null,
            "_view_module": "@jupyter-widgets/base",
            "_view_module_version": "1.2.0",
            "_view_name": "LayoutView",
            "align_content": null,
            "align_items": null,
            "align_self": null,
            "border": null,
            "bottom": null,
            "display": null,
            "flex": null,
            "flex_flow": null,
            "grid_area": null,
            "grid_auto_columns": null,
            "grid_auto_flow": null,
            "grid_auto_rows": null,
            "grid_column": null,
            "grid_gap": null,
            "grid_row": null,
            "grid_template_areas": null,
            "grid_template_columns": null,
            "grid_template_rows": null,
            "height": null,
            "justify_content": null,
            "justify_items": null,
            "left": null,
            "margin": null,
            "max_height": null,
            "max_width": null,
            "min_height": null,
            "min_width": null,
            "object_fit": null,
            "object_position": null,
            "order": null,
            "overflow": null,
            "overflow_x": null,
            "overflow_y": null,
            "padding": null,
            "right": null,
            "top": null,
            "visibility": null,
            "width": null
          }
        },
        "a57436fce12b48679b9f867e44936c72": {
          "model_module": "@jupyter-widgets/base",
          "model_module_version": "1.2.0",
          "model_name": "LayoutModel",
          "state": {
            "_model_module": "@jupyter-widgets/base",
            "_model_module_version": "1.2.0",
            "_model_name": "LayoutModel",
            "_view_count": null,
            "_view_module": "@jupyter-widgets/base",
            "_view_module_version": "1.2.0",
            "_view_name": "LayoutView",
            "align_content": null,
            "align_items": null,
            "align_self": null,
            "border": null,
            "bottom": null,
            "display": null,
            "flex": null,
            "flex_flow": null,
            "grid_area": null,
            "grid_auto_columns": null,
            "grid_auto_flow": null,
            "grid_auto_rows": null,
            "grid_column": null,
            "grid_gap": null,
            "grid_row": null,
            "grid_template_areas": null,
            "grid_template_columns": null,
            "grid_template_rows": null,
            "height": null,
            "justify_content": null,
            "justify_items": null,
            "left": null,
            "margin": null,
            "max_height": null,
            "max_width": null,
            "min_height": null,
            "min_width": null,
            "object_fit": null,
            "object_position": null,
            "order": null,
            "overflow": null,
            "overflow_x": null,
            "overflow_y": null,
            "padding": null,
            "right": null,
            "top": null,
            "visibility": null,
            "width": "20px"
          }
        },
        "a6ad5525f9ee43f18ea3ce1587882312": {
          "model_module": "@jupyter-widgets/base",
          "model_module_version": "1.2.0",
          "model_name": "LayoutModel",
          "state": {
            "_model_module": "@jupyter-widgets/base",
            "_model_module_version": "1.2.0",
            "_model_name": "LayoutModel",
            "_view_count": null,
            "_view_module": "@jupyter-widgets/base",
            "_view_module_version": "1.2.0",
            "_view_name": "LayoutView",
            "align_content": null,
            "align_items": null,
            "align_self": null,
            "border": null,
            "bottom": null,
            "display": null,
            "flex": null,
            "flex_flow": null,
            "grid_area": null,
            "grid_auto_columns": null,
            "grid_auto_flow": null,
            "grid_auto_rows": null,
            "grid_column": null,
            "grid_gap": null,
            "grid_row": null,
            "grid_template_areas": null,
            "grid_template_columns": null,
            "grid_template_rows": null,
            "height": null,
            "justify_content": null,
            "justify_items": null,
            "left": null,
            "margin": null,
            "max_height": null,
            "max_width": null,
            "min_height": null,
            "min_width": null,
            "object_fit": null,
            "object_position": null,
            "order": null,
            "overflow": null,
            "overflow_x": null,
            "overflow_y": null,
            "padding": null,
            "right": null,
            "top": null,
            "visibility": null,
            "width": null
          }
        },
        "a9bd6807216f45b6b67b36b97a66d733": {
          "model_module": "@jupyter-widgets/controls",
          "model_module_version": "1.5.0",
          "model_name": "ProgressStyleModel",
          "state": {
            "_model_module": "@jupyter-widgets/controls",
            "_model_module_version": "1.5.0",
            "_model_name": "ProgressStyleModel",
            "_view_count": null,
            "_view_module": "@jupyter-widgets/base",
            "_view_module_version": "1.2.0",
            "_view_name": "StyleView",
            "bar_color": null,
            "description_width": ""
          }
        },
        "a9e93b17c15f4995ba9af579287d1bd0": {
          "model_module": "@jupyter-widgets/controls",
          "model_module_version": "1.5.0",
          "model_name": "ProgressStyleModel",
          "state": {
            "_model_module": "@jupyter-widgets/controls",
            "_model_module_version": "1.5.0",
            "_model_name": "ProgressStyleModel",
            "_view_count": null,
            "_view_module": "@jupyter-widgets/base",
            "_view_module_version": "1.2.0",
            "_view_name": "StyleView",
            "bar_color": null,
            "description_width": ""
          }
        },
        "ab64fe76f54040c191766e3b0e6e0eaf": {
          "model_module": "@jupyter-widgets/base",
          "model_module_version": "1.2.0",
          "model_name": "LayoutModel",
          "state": {
            "_model_module": "@jupyter-widgets/base",
            "_model_module_version": "1.2.0",
            "_model_name": "LayoutModel",
            "_view_count": null,
            "_view_module": "@jupyter-widgets/base",
            "_view_module_version": "1.2.0",
            "_view_name": "LayoutView",
            "align_content": null,
            "align_items": null,
            "align_self": null,
            "border": null,
            "bottom": null,
            "display": null,
            "flex": null,
            "flex_flow": null,
            "grid_area": null,
            "grid_auto_columns": null,
            "grid_auto_flow": null,
            "grid_auto_rows": null,
            "grid_column": null,
            "grid_gap": null,
            "grid_row": null,
            "grid_template_areas": null,
            "grid_template_columns": null,
            "grid_template_rows": null,
            "height": null,
            "justify_content": null,
            "justify_items": null,
            "left": null,
            "margin": null,
            "max_height": null,
            "max_width": null,
            "min_height": null,
            "min_width": null,
            "object_fit": null,
            "object_position": null,
            "order": null,
            "overflow": null,
            "overflow_x": null,
            "overflow_y": null,
            "padding": null,
            "right": null,
            "top": null,
            "visibility": null,
            "width": null
          }
        },
        "ac540e8a52b44569a50b829c680ed5ea": {
          "model_module": "@jupyter-widgets/controls",
          "model_module_version": "1.5.0",
          "model_name": "DescriptionStyleModel",
          "state": {
            "_model_module": "@jupyter-widgets/controls",
            "_model_module_version": "1.5.0",
            "_model_name": "DescriptionStyleModel",
            "_view_count": null,
            "_view_module": "@jupyter-widgets/base",
            "_view_module_version": "1.2.0",
            "_view_name": "StyleView",
            "description_width": ""
          }
        },
        "ad6ff0421150464bb2a2b21e50a9397f": {
          "model_module": "@jupyter-widgets/controls",
          "model_module_version": "1.5.0",
          "model_name": "DescriptionStyleModel",
          "state": {
            "_model_module": "@jupyter-widgets/controls",
            "_model_module_version": "1.5.0",
            "_model_name": "DescriptionStyleModel",
            "_view_count": null,
            "_view_module": "@jupyter-widgets/base",
            "_view_module_version": "1.2.0",
            "_view_name": "StyleView",
            "description_width": ""
          }
        },
        "b019814eece0458bbc7ac9791e9a45a2": {
          "model_module": "@jupyter-widgets/controls",
          "model_module_version": "1.5.0",
          "model_name": "DescriptionStyleModel",
          "state": {
            "_model_module": "@jupyter-widgets/controls",
            "_model_module_version": "1.5.0",
            "_model_name": "DescriptionStyleModel",
            "_view_count": null,
            "_view_module": "@jupyter-widgets/base",
            "_view_module_version": "1.2.0",
            "_view_name": "StyleView",
            "description_width": ""
          }
        },
        "b08dd04259ac4daf9f6c44e49321c716": {
          "model_module": "@jupyter-widgets/controls",
          "model_module_version": "1.5.0",
          "model_name": "DescriptionStyleModel",
          "state": {
            "_model_module": "@jupyter-widgets/controls",
            "_model_module_version": "1.5.0",
            "_model_name": "DescriptionStyleModel",
            "_view_count": null,
            "_view_module": "@jupyter-widgets/base",
            "_view_module_version": "1.2.0",
            "_view_name": "StyleView",
            "description_width": ""
          }
        },
        "b0da76a392b34b39a066e10d21db6692": {
          "model_module": "@jupyter-widgets/base",
          "model_module_version": "1.2.0",
          "model_name": "LayoutModel",
          "state": {
            "_model_module": "@jupyter-widgets/base",
            "_model_module_version": "1.2.0",
            "_model_name": "LayoutModel",
            "_view_count": null,
            "_view_module": "@jupyter-widgets/base",
            "_view_module_version": "1.2.0",
            "_view_name": "LayoutView",
            "align_content": null,
            "align_items": null,
            "align_self": null,
            "border": null,
            "bottom": null,
            "display": null,
            "flex": null,
            "flex_flow": null,
            "grid_area": null,
            "grid_auto_columns": null,
            "grid_auto_flow": null,
            "grid_auto_rows": null,
            "grid_column": null,
            "grid_gap": null,
            "grid_row": null,
            "grid_template_areas": null,
            "grid_template_columns": null,
            "grid_template_rows": null,
            "height": null,
            "justify_content": null,
            "justify_items": null,
            "left": null,
            "margin": null,
            "max_height": null,
            "max_width": null,
            "min_height": null,
            "min_width": null,
            "object_fit": null,
            "object_position": null,
            "order": null,
            "overflow": null,
            "overflow_x": null,
            "overflow_y": null,
            "padding": null,
            "right": null,
            "top": null,
            "visibility": null,
            "width": null
          }
        },
        "b4949caac21541a9a14acdccd811b886": {
          "model_module": "@jupyter-widgets/controls",
          "model_module_version": "1.5.0",
          "model_name": "HTMLModel",
          "state": {
            "_dom_classes": [],
            "_model_module": "@jupyter-widgets/controls",
            "_model_module_version": "1.5.0",
            "_model_name": "HTMLModel",
            "_view_count": null,
            "_view_module": "@jupyter-widgets/controls",
            "_view_module_version": "1.5.0",
            "_view_name": "HTMLView",
            "description": "",
            "description_tooltip": null,
            "layout": "IPY_MODEL_d1089768d4ec419ebe768270c498bfcf",
            "placeholder": "​",
            "style": "IPY_MODEL_15a23b68dea84bc892edac56a9dbd4f3",
            "value": "README.md: "
          }
        },
        "b6425d3b29344257b4490cb85eb4fd94": {
          "model_module": "@jupyter-widgets/base",
          "model_module_version": "1.2.0",
          "model_name": "LayoutModel",
          "state": {
            "_model_module": "@jupyter-widgets/base",
            "_model_module_version": "1.2.0",
            "_model_name": "LayoutModel",
            "_view_count": null,
            "_view_module": "@jupyter-widgets/base",
            "_view_module_version": "1.2.0",
            "_view_name": "LayoutView",
            "align_content": null,
            "align_items": null,
            "align_self": null,
            "border": null,
            "bottom": null,
            "display": null,
            "flex": null,
            "flex_flow": null,
            "grid_area": null,
            "grid_auto_columns": null,
            "grid_auto_flow": null,
            "grid_auto_rows": null,
            "grid_column": null,
            "grid_gap": null,
            "grid_row": null,
            "grid_template_areas": null,
            "grid_template_columns": null,
            "grid_template_rows": null,
            "height": null,
            "justify_content": null,
            "justify_items": null,
            "left": null,
            "margin": null,
            "max_height": null,
            "max_width": null,
            "min_height": null,
            "min_width": null,
            "object_fit": null,
            "object_position": null,
            "order": null,
            "overflow": null,
            "overflow_x": null,
            "overflow_y": null,
            "padding": null,
            "right": null,
            "top": null,
            "visibility": null,
            "width": null
          }
        },
        "b6db4881d8464b129428aa95a5d07add": {
          "model_module": "@jupyter-widgets/controls",
          "model_module_version": "1.5.0",
          "model_name": "DescriptionStyleModel",
          "state": {
            "_model_module": "@jupyter-widgets/controls",
            "_model_module_version": "1.5.0",
            "_model_name": "DescriptionStyleModel",
            "_view_count": null,
            "_view_module": "@jupyter-widgets/base",
            "_view_module_version": "1.2.0",
            "_view_name": "StyleView",
            "description_width": ""
          }
        },
        "b94c0a4c782344d59ece331a94337c20": {
          "model_module": "@jupyter-widgets/controls",
          "model_module_version": "1.5.0",
          "model_name": "HBoxModel",
          "state": {
            "_dom_classes": [],
            "_model_module": "@jupyter-widgets/controls",
            "_model_module_version": "1.5.0",
            "_model_name": "HBoxModel",
            "_view_count": null,
            "_view_module": "@jupyter-widgets/controls",
            "_view_module_version": "1.5.0",
            "_view_name": "HBoxView",
            "box_style": "",
            "children": [
              "IPY_MODEL_4da1b0ff60c6438fa56cb38f3704f741",
              "IPY_MODEL_e773a43f9b3a4b2fa9cca3937fc32b59",
              "IPY_MODEL_0681e68dbad842be9f473ef1564f0228"
            ],
            "layout": "IPY_MODEL_ddd1b31273a54b228ac8d668c9cfd9ef"
          }
        },
        "bfadc89b205d4306a59d7cb21913fd54": {
          "model_module": "@jupyter-widgets/base",
          "model_module_version": "1.2.0",
          "model_name": "LayoutModel",
          "state": {
            "_model_module": "@jupyter-widgets/base",
            "_model_module_version": "1.2.0",
            "_model_name": "LayoutModel",
            "_view_count": null,
            "_view_module": "@jupyter-widgets/base",
            "_view_module_version": "1.2.0",
            "_view_name": "LayoutView",
            "align_content": null,
            "align_items": null,
            "align_self": null,
            "border": null,
            "bottom": null,
            "display": null,
            "flex": null,
            "flex_flow": null,
            "grid_area": null,
            "grid_auto_columns": null,
            "grid_auto_flow": null,
            "grid_auto_rows": null,
            "grid_column": null,
            "grid_gap": null,
            "grid_row": null,
            "grid_template_areas": null,
            "grid_template_columns": null,
            "grid_template_rows": null,
            "height": null,
            "justify_content": null,
            "justify_items": null,
            "left": null,
            "margin": null,
            "max_height": null,
            "max_width": null,
            "min_height": null,
            "min_width": null,
            "object_fit": null,
            "object_position": null,
            "order": null,
            "overflow": null,
            "overflow_x": null,
            "overflow_y": null,
            "padding": null,
            "right": null,
            "top": null,
            "visibility": null,
            "width": null
          }
        },
        "c0837f90a5ae4ba7a318604705c4d9fe": {
          "model_module": "@jupyter-widgets/controls",
          "model_module_version": "1.5.0",
          "model_name": "DescriptionStyleModel",
          "state": {
            "_model_module": "@jupyter-widgets/controls",
            "_model_module_version": "1.5.0",
            "_model_name": "DescriptionStyleModel",
            "_view_count": null,
            "_view_module": "@jupyter-widgets/base",
            "_view_module_version": "1.2.0",
            "_view_name": "StyleView",
            "description_width": ""
          }
        },
        "c109006238424488865711abe50fc5db": {
          "model_module": "@jupyter-widgets/controls",
          "model_module_version": "1.5.0",
          "model_name": "HTMLModel",
          "state": {
            "_dom_classes": [],
            "_model_module": "@jupyter-widgets/controls",
            "_model_module_version": "1.5.0",
            "_model_name": "HTMLModel",
            "_view_count": null,
            "_view_module": "@jupyter-widgets/controls",
            "_view_module_version": "1.5.0",
            "_view_name": "HTMLView",
            "description": "",
            "description_tooltip": null,
            "layout": "IPY_MODEL_b6425d3b29344257b4490cb85eb4fd94",
            "placeholder": "​",
            "style": "IPY_MODEL_b6db4881d8464b129428aa95a5d07add",
            "value": "modules.json: 100%"
          }
        },
        "c13d1941dc2048af97ea5cba9c6e768a": {
          "model_module": "@jupyter-widgets/base",
          "model_module_version": "1.2.0",
          "model_name": "LayoutModel",
          "state": {
            "_model_module": "@jupyter-widgets/base",
            "_model_module_version": "1.2.0",
            "_model_name": "LayoutModel",
            "_view_count": null,
            "_view_module": "@jupyter-widgets/base",
            "_view_module_version": "1.2.0",
            "_view_name": "LayoutView",
            "align_content": null,
            "align_items": null,
            "align_self": null,
            "border": null,
            "bottom": null,
            "display": null,
            "flex": null,
            "flex_flow": null,
            "grid_area": null,
            "grid_auto_columns": null,
            "grid_auto_flow": null,
            "grid_auto_rows": null,
            "grid_column": null,
            "grid_gap": null,
            "grid_row": null,
            "grid_template_areas": null,
            "grid_template_columns": null,
            "grid_template_rows": null,
            "height": null,
            "justify_content": null,
            "justify_items": null,
            "left": null,
            "margin": null,
            "max_height": null,
            "max_width": null,
            "min_height": null,
            "min_width": null,
            "object_fit": null,
            "object_position": null,
            "order": null,
            "overflow": null,
            "overflow_x": null,
            "overflow_y": null,
            "padding": null,
            "right": null,
            "top": null,
            "visibility": null,
            "width": null
          }
        },
        "c59eb75465fd40b4b95204672f497bf3": {
          "model_module": "@jupyter-widgets/controls",
          "model_module_version": "1.5.0",
          "model_name": "DescriptionStyleModel",
          "state": {
            "_model_module": "@jupyter-widgets/controls",
            "_model_module_version": "1.5.0",
            "_model_name": "DescriptionStyleModel",
            "_view_count": null,
            "_view_module": "@jupyter-widgets/base",
            "_view_module_version": "1.2.0",
            "_view_name": "StyleView",
            "description_width": ""
          }
        },
        "c635505f06e344eabfc3c649ca0dd1d4": {
          "model_module": "@jupyter-widgets/controls",
          "model_module_version": "1.5.0",
          "model_name": "HTMLModel",
          "state": {
            "_dom_classes": [],
            "_model_module": "@jupyter-widgets/controls",
            "_model_module_version": "1.5.0",
            "_model_name": "HTMLModel",
            "_view_count": null,
            "_view_module": "@jupyter-widgets/controls",
            "_view_module_version": "1.5.0",
            "_view_name": "HTMLView",
            "description": "",
            "description_tooltip": null,
            "layout": "IPY_MODEL_6900547f804c4e2881f99b90f249fa99",
            "placeholder": "​",
            "style": "IPY_MODEL_ad6ff0421150464bb2a2b21e50a9397f",
            "value": "tokenizer_config.json: 100%"
          }
        },
        "c7781582b7fa4795977ff695bf7997d9": {
          "model_module": "@jupyter-widgets/controls",
          "model_module_version": "1.5.0",
          "model_name": "FloatProgressModel",
          "state": {
            "_dom_classes": [],
            "_model_module": "@jupyter-widgets/controls",
            "_model_module_version": "1.5.0",
            "_model_name": "FloatProgressModel",
            "_view_count": null,
            "_view_module": "@jupyter-widgets/controls",
            "_view_module_version": "1.5.0",
            "_view_name": "ProgressView",
            "bar_style": "success",
            "description": "",
            "description_tooltip": null,
            "layout": "IPY_MODEL_d4726ffa58434f1ab92f3e4af9c73ede",
            "max": 200,
            "min": 0,
            "orientation": "horizontal",
            "style": "IPY_MODEL_d1eaa2d1d59c460b9cbcefdd1b1f9076",
            "value": 200
          }
        },
        "cc091577b10a40fa9d97766bd57b4933": {
          "model_module": "@jupyter-widgets/controls",
          "model_module_version": "1.5.0",
          "model_name": "ProgressStyleModel",
          "state": {
            "_model_module": "@jupyter-widgets/controls",
            "_model_module_version": "1.5.0",
            "_model_name": "ProgressStyleModel",
            "_view_count": null,
            "_view_module": "@jupyter-widgets/base",
            "_view_module_version": "1.2.0",
            "_view_name": "StyleView",
            "bar_color": null,
            "description_width": ""
          }
        },
        "cc90dfc2c330458ab28931e395218dcb": {
          "model_module": "@jupyter-widgets/base",
          "model_module_version": "1.2.0",
          "model_name": "LayoutModel",
          "state": {
            "_model_module": "@jupyter-widgets/base",
            "_model_module_version": "1.2.0",
            "_model_name": "LayoutModel",
            "_view_count": null,
            "_view_module": "@jupyter-widgets/base",
            "_view_module_version": "1.2.0",
            "_view_name": "LayoutView",
            "align_content": null,
            "align_items": null,
            "align_self": null,
            "border": null,
            "bottom": null,
            "display": null,
            "flex": null,
            "flex_flow": null,
            "grid_area": null,
            "grid_auto_columns": null,
            "grid_auto_flow": null,
            "grid_auto_rows": null,
            "grid_column": null,
            "grid_gap": null,
            "grid_row": null,
            "grid_template_areas": null,
            "grid_template_columns": null,
            "grid_template_rows": null,
            "height": null,
            "justify_content": null,
            "justify_items": null,
            "left": null,
            "margin": null,
            "max_height": null,
            "max_width": null,
            "min_height": null,
            "min_width": null,
            "object_fit": null,
            "object_position": null,
            "order": null,
            "overflow": null,
            "overflow_x": null,
            "overflow_y": null,
            "padding": null,
            "right": null,
            "top": null,
            "visibility": null,
            "width": null
          }
        },
        "cc919e42913f4b7e99d69436526f55be": {
          "model_module": "@jupyter-widgets/controls",
          "model_module_version": "1.5.0",
          "model_name": "HTMLModel",
          "state": {
            "_dom_classes": [],
            "_model_module": "@jupyter-widgets/controls",
            "_model_module_version": "1.5.0",
            "_model_name": "HTMLModel",
            "_view_count": null,
            "_view_module": "@jupyter-widgets/controls",
            "_view_module_version": "1.5.0",
            "_view_name": "HTMLView",
            "description": "",
            "description_tooltip": null,
            "layout": "IPY_MODEL_19c597c9ac7f425f9f9d31bfb554f6eb",
            "placeholder": "​",
            "style": "IPY_MODEL_6dc2391ab9f6476e8ee87a33326bda6a",
            "value": "sentence_bert_config.json: 100%"
          }
        },
        "d1089768d4ec419ebe768270c498bfcf": {
          "model_module": "@jupyter-widgets/base",
          "model_module_version": "1.2.0",
          "model_name": "LayoutModel",
          "state": {
            "_model_module": "@jupyter-widgets/base",
            "_model_module_version": "1.2.0",
            "_model_name": "LayoutModel",
            "_view_count": null,
            "_view_module": "@jupyter-widgets/base",
            "_view_module_version": "1.2.0",
            "_view_name": "LayoutView",
            "align_content": null,
            "align_items": null,
            "align_self": null,
            "border": null,
            "bottom": null,
            "display": null,
            "flex": null,
            "flex_flow": null,
            "grid_area": null,
            "grid_auto_columns": null,
            "grid_auto_flow": null,
            "grid_auto_rows": null,
            "grid_column": null,
            "grid_gap": null,
            "grid_row": null,
            "grid_template_areas": null,
            "grid_template_columns": null,
            "grid_template_rows": null,
            "height": null,
            "justify_content": null,
            "justify_items": null,
            "left": null,
            "margin": null,
            "max_height": null,
            "max_width": null,
            "min_height": null,
            "min_width": null,
            "object_fit": null,
            "object_position": null,
            "order": null,
            "overflow": null,
            "overflow_x": null,
            "overflow_y": null,
            "padding": null,
            "right": null,
            "top": null,
            "visibility": null,
            "width": null
          }
        },
        "d1eaa2d1d59c460b9cbcefdd1b1f9076": {
          "model_module": "@jupyter-widgets/controls",
          "model_module_version": "1.5.0",
          "model_name": "ProgressStyleModel",
          "state": {
            "_model_module": "@jupyter-widgets/controls",
            "_model_module_version": "1.5.0",
            "_model_name": "ProgressStyleModel",
            "_view_count": null,
            "_view_module": "@jupyter-widgets/base",
            "_view_module_version": "1.2.0",
            "_view_name": "StyleView",
            "bar_color": null,
            "description_width": ""
          }
        },
        "d4726ffa58434f1ab92f3e4af9c73ede": {
          "model_module": "@jupyter-widgets/base",
          "model_module_version": "1.2.0",
          "model_name": "LayoutModel",
          "state": {
            "_model_module": "@jupyter-widgets/base",
            "_model_module_version": "1.2.0",
            "_model_name": "LayoutModel",
            "_view_count": null,
            "_view_module": "@jupyter-widgets/base",
            "_view_module_version": "1.2.0",
            "_view_name": "LayoutView",
            "align_content": null,
            "align_items": null,
            "align_self": null,
            "border": null,
            "bottom": null,
            "display": null,
            "flex": null,
            "flex_flow": null,
            "grid_area": null,
            "grid_auto_columns": null,
            "grid_auto_flow": null,
            "grid_auto_rows": null,
            "grid_column": null,
            "grid_gap": null,
            "grid_row": null,
            "grid_template_areas": null,
            "grid_template_columns": null,
            "grid_template_rows": null,
            "height": null,
            "justify_content": null,
            "justify_items": null,
            "left": null,
            "margin": null,
            "max_height": null,
            "max_width": null,
            "min_height": null,
            "min_width": null,
            "object_fit": null,
            "object_position": null,
            "order": null,
            "overflow": null,
            "overflow_x": null,
            "overflow_y": null,
            "padding": null,
            "right": null,
            "top": null,
            "visibility": null,
            "width": null
          }
        },
        "d934bab438a140bea8fd1d5d902def02": {
          "model_module": "@jupyter-widgets/controls",
          "model_module_version": "1.5.0",
          "model_name": "HTMLModel",
          "state": {
            "_dom_classes": [],
            "_model_module": "@jupyter-widgets/controls",
            "_model_module_version": "1.5.0",
            "_model_name": "HTMLModel",
            "_view_count": null,
            "_view_module": "@jupyter-widgets/controls",
            "_view_module_version": "1.5.0",
            "_view_name": "HTMLView",
            "description": "",
            "description_tooltip": null,
            "layout": "IPY_MODEL_24a68273ff57482795eb56095762e139",
            "placeholder": "​",
            "style": "IPY_MODEL_7e2ba30d2d1f46b3b27f993c89d884d4",
            "value": " 387/387 [00:00&lt;00:00, 36.7kB/s]"
          }
        },
        "dac58868ad9144468c692cf6a3064ed2": {
          "model_module": "@jupyter-widgets/base",
          "model_module_version": "1.2.0",
          "model_name": "LayoutModel",
          "state": {
            "_model_module": "@jupyter-widgets/base",
            "_model_module_version": "1.2.0",
            "_model_name": "LayoutModel",
            "_view_count": null,
            "_view_module": "@jupyter-widgets/base",
            "_view_module_version": "1.2.0",
            "_view_name": "LayoutView",
            "align_content": null,
            "align_items": null,
            "align_self": null,
            "border": null,
            "bottom": null,
            "display": null,
            "flex": null,
            "flex_flow": null,
            "grid_area": null,
            "grid_auto_columns": null,
            "grid_auto_flow": null,
            "grid_auto_rows": null,
            "grid_column": null,
            "grid_gap": null,
            "grid_row": null,
            "grid_template_areas": null,
            "grid_template_columns": null,
            "grid_template_rows": null,
            "height": null,
            "justify_content": null,
            "justify_items": null,
            "left": null,
            "margin": null,
            "max_height": null,
            "max_width": null,
            "min_height": null,
            "min_width": null,
            "object_fit": null,
            "object_position": null,
            "order": null,
            "overflow": null,
            "overflow_x": null,
            "overflow_y": null,
            "padding": null,
            "right": null,
            "top": null,
            "visibility": null,
            "width": null
          }
        },
        "ddd1b31273a54b228ac8d668c9cfd9ef": {
          "model_module": "@jupyter-widgets/base",
          "model_module_version": "1.2.0",
          "model_name": "LayoutModel",
          "state": {
            "_model_module": "@jupyter-widgets/base",
            "_model_module_version": "1.2.0",
            "_model_name": "LayoutModel",
            "_view_count": null,
            "_view_module": "@jupyter-widgets/base",
            "_view_module_version": "1.2.0",
            "_view_name": "LayoutView",
            "align_content": null,
            "align_items": null,
            "align_self": null,
            "border": null,
            "bottom": null,
            "display": null,
            "flex": null,
            "flex_flow": null,
            "grid_area": null,
            "grid_auto_columns": null,
            "grid_auto_flow": null,
            "grid_auto_rows": null,
            "grid_column": null,
            "grid_gap": null,
            "grid_row": null,
            "grid_template_areas": null,
            "grid_template_columns": null,
            "grid_template_rows": null,
            "height": null,
            "justify_content": null,
            "justify_items": null,
            "left": null,
            "margin": null,
            "max_height": null,
            "max_width": null,
            "min_height": null,
            "min_width": null,
            "object_fit": null,
            "object_position": null,
            "order": null,
            "overflow": null,
            "overflow_x": null,
            "overflow_y": null,
            "padding": null,
            "right": null,
            "top": null,
            "visibility": null,
            "width": null
          }
        },
        "de413f547b114bda9c66ccb1884926f0": {
          "model_module": "@jupyter-widgets/controls",
          "model_module_version": "1.5.0",
          "model_name": "HTMLModel",
          "state": {
            "_dom_classes": [],
            "_model_module": "@jupyter-widgets/controls",
            "_model_module_version": "1.5.0",
            "_model_name": "HTMLModel",
            "_view_count": null,
            "_view_module": "@jupyter-widgets/controls",
            "_view_module_version": "1.5.0",
            "_view_name": "HTMLView",
            "description": "",
            "description_tooltip": null,
            "layout": "IPY_MODEL_9c58a0ab90334d6dab26c01d2cf73eee",
            "placeholder": "​",
            "style": "IPY_MODEL_947549a0d52f48039acdac252057d522",
            "value": "config.json: 100%"
          }
        },
        "df27dba2bc5045738450b159428278b5": {
          "model_module": "@jupyter-widgets/controls",
          "model_module_version": "1.5.0",
          "model_name": "FloatProgressModel",
          "state": {
            "_dom_classes": [],
            "_model_module": "@jupyter-widgets/controls",
            "_model_module_version": "1.5.0",
            "_model_name": "FloatProgressModel",
            "_view_count": null,
            "_view_module": "@jupyter-widgets/controls",
            "_view_module_version": "1.5.0",
            "_view_name": "ProgressView",
            "bar_style": "success",
            "description": "",
            "description_tooltip": null,
            "layout": "IPY_MODEL_e5254b5831c34be3858009097391a14a",
            "max": 17082730,
            "min": 0,
            "orientation": "horizontal",
            "style": "IPY_MODEL_7934f8a048b84800919e310f2d518f33",
            "value": 17082730
          }
        },
        "e1f9a0dc09f34a8791fac195ecaf2ff1": {
          "model_module": "@jupyter-widgets/controls",
          "model_module_version": "1.5.0",
          "model_name": "HBoxModel",
          "state": {
            "_dom_classes": [],
            "_model_module": "@jupyter-widgets/controls",
            "_model_module_version": "1.5.0",
            "_model_name": "HBoxModel",
            "_view_count": null,
            "_view_module": "@jupyter-widgets/controls",
            "_view_module_version": "1.5.0",
            "_view_name": "HBoxView",
            "box_style": "",
            "children": [
              "IPY_MODEL_b4949caac21541a9a14acdccd811b886",
              "IPY_MODEL_628a94cceba949b78159a175bbade706",
              "IPY_MODEL_5f795b5767a045599b8735a7f9ae196a"
            ],
            "layout": "IPY_MODEL_0b1260266a654691a988deae63a85331"
          }
        },
        "e40f845709294cb0b60893330364f6f4": {
          "model_module": "@jupyter-widgets/base",
          "model_module_version": "1.2.0",
          "model_name": "LayoutModel",
          "state": {
            "_model_module": "@jupyter-widgets/base",
            "_model_module_version": "1.2.0",
            "_model_name": "LayoutModel",
            "_view_count": null,
            "_view_module": "@jupyter-widgets/base",
            "_view_module_version": "1.2.0",
            "_view_name": "LayoutView",
            "align_content": null,
            "align_items": null,
            "align_self": null,
            "border": null,
            "bottom": null,
            "display": null,
            "flex": null,
            "flex_flow": null,
            "grid_area": null,
            "grid_auto_columns": null,
            "grid_auto_flow": null,
            "grid_auto_rows": null,
            "grid_column": null,
            "grid_gap": null,
            "grid_row": null,
            "grid_template_areas": null,
            "grid_template_columns": null,
            "grid_template_rows": null,
            "height": null,
            "justify_content": null,
            "justify_items": null,
            "left": null,
            "margin": null,
            "max_height": null,
            "max_width": null,
            "min_height": null,
            "min_width": null,
            "object_fit": null,
            "object_position": null,
            "order": null,
            "overflow": null,
            "overflow_x": null,
            "overflow_y": null,
            "padding": null,
            "right": null,
            "top": null,
            "visibility": null,
            "width": null
          }
        },
        "e5254b5831c34be3858009097391a14a": {
          "model_module": "@jupyter-widgets/base",
          "model_module_version": "1.2.0",
          "model_name": "LayoutModel",
          "state": {
            "_model_module": "@jupyter-widgets/base",
            "_model_module_version": "1.2.0",
            "_model_name": "LayoutModel",
            "_view_count": null,
            "_view_module": "@jupyter-widgets/base",
            "_view_module_version": "1.2.0",
            "_view_name": "LayoutView",
            "align_content": null,
            "align_items": null,
            "align_self": null,
            "border": null,
            "bottom": null,
            "display": null,
            "flex": null,
            "flex_flow": null,
            "grid_area": null,
            "grid_auto_columns": null,
            "grid_auto_flow": null,
            "grid_auto_rows": null,
            "grid_column": null,
            "grid_gap": null,
            "grid_row": null,
            "grid_template_areas": null,
            "grid_template_columns": null,
            "grid_template_rows": null,
            "height": null,
            "justify_content": null,
            "justify_items": null,
            "left": null,
            "margin": null,
            "max_height": null,
            "max_width": null,
            "min_height": null,
            "min_width": null,
            "object_fit": null,
            "object_position": null,
            "order": null,
            "overflow": null,
            "overflow_x": null,
            "overflow_y": null,
            "padding": null,
            "right": null,
            "top": null,
            "visibility": null,
            "width": null
          }
        },
        "e73c281d58114b87a01b17dd63cac83a": {
          "model_module": "@jupyter-widgets/controls",
          "model_module_version": "1.5.0",
          "model_name": "HBoxModel",
          "state": {
            "_dom_classes": [],
            "_model_module": "@jupyter-widgets/controls",
            "_model_module_version": "1.5.0",
            "_model_name": "HBoxModel",
            "_view_count": null,
            "_view_module": "@jupyter-widgets/controls",
            "_view_module_version": "1.5.0",
            "_view_name": "HBoxView",
            "box_style": "",
            "children": [
              "IPY_MODEL_de413f547b114bda9c66ccb1884926f0",
              "IPY_MODEL_c7781582b7fa4795977ff695bf7997d9",
              "IPY_MODEL_9b3406017f47418797b894ae292271b9"
            ],
            "layout": "IPY_MODEL_1e283b804d154e05a1d615a6ae101a55"
          }
        },
        "e7648751a37f48c696c910dd003b2dd9": {
          "model_module": "@jupyter-widgets/controls",
          "model_module_version": "1.5.0",
          "model_name": "HBoxModel",
          "state": {
            "_dom_classes": [],
            "_model_module": "@jupyter-widgets/controls",
            "_model_module_version": "1.5.0",
            "_model_name": "HBoxModel",
            "_view_count": null,
            "_view_module": "@jupyter-widgets/controls",
            "_view_module_version": "1.5.0",
            "_view_name": "HBoxView",
            "box_style": "",
            "children": [
              "IPY_MODEL_0b1f26d493a24fe28ebe3ad36123c25d",
              "IPY_MODEL_2ea425bad36943598e568ae1e624c3e5",
              "IPY_MODEL_7e61ef607c5548a888298e841b94491b"
            ],
            "layout": "IPY_MODEL_7b9f7875178940dbac323141ace84356"
          }
        },
        "e773a43f9b3a4b2fa9cca3937fc32b59": {
          "model_module": "@jupyter-widgets/controls",
          "model_module_version": "1.5.0",
          "model_name": "FloatProgressModel",
          "state": {
            "_dom_classes": [],
            "_model_module": "@jupyter-widgets/controls",
            "_model_module_version": "1.5.0",
            "_model_name": "FloatProgressModel",
            "_view_count": null,
            "_view_module": "@jupyter-widgets/controls",
            "_view_module_version": "1.5.0",
            "_view_name": "ProgressView",
            "bar_style": "success",
            "description": "",
            "description_tooltip": null,
            "layout": "IPY_MODEL_5401a083fa454759abbdf3f3759bdf22",
            "max": 655,
            "min": 0,
            "orientation": "horizontal",
            "style": "IPY_MODEL_a9bd6807216f45b6b67b36b97a66d733",
            "value": 655
          }
        },
        "e7c913b7775e4de7a1174a821ecf107a": {
          "model_module": "@jupyter-widgets/controls",
          "model_module_version": "1.5.0",
          "model_name": "HBoxModel",
          "state": {
            "_dom_classes": [],
            "_model_module": "@jupyter-widgets/controls",
            "_model_module_version": "1.5.0",
            "_model_name": "HBoxModel",
            "_view_count": null,
            "_view_module": "@jupyter-widgets/controls",
            "_view_module_version": "1.5.0",
            "_view_name": "HBoxView",
            "box_style": "",
            "children": [
              "IPY_MODEL_c109006238424488865711abe50fc5db",
              "IPY_MODEL_7df6845f3b404767ad3fa577838fa874",
              "IPY_MODEL_d934bab438a140bea8fd1d5d902def02"
            ],
            "layout": "IPY_MODEL_9f1f2d911da94e179eab8e7bffade83e"
          }
        },
        "f101b553cc5f4085ac5e82fab4e8087e": {
          "model_module": "@jupyter-widgets/base",
          "model_module_version": "1.2.0",
          "model_name": "LayoutModel",
          "state": {
            "_model_module": "@jupyter-widgets/base",
            "_model_module_version": "1.2.0",
            "_model_name": "LayoutModel",
            "_view_count": null,
            "_view_module": "@jupyter-widgets/base",
            "_view_module_version": "1.2.0",
            "_view_name": "LayoutView",
            "align_content": null,
            "align_items": null,
            "align_self": null,
            "border": null,
            "bottom": null,
            "display": null,
            "flex": null,
            "flex_flow": null,
            "grid_area": null,
            "grid_auto_columns": null,
            "grid_auto_flow": null,
            "grid_auto_rows": null,
            "grid_column": null,
            "grid_gap": null,
            "grid_row": null,
            "grid_template_areas": null,
            "grid_template_columns": null,
            "grid_template_rows": null,
            "height": null,
            "justify_content": null,
            "justify_items": null,
            "left": null,
            "margin": null,
            "max_height": null,
            "max_width": null,
            "min_height": null,
            "min_width": null,
            "object_fit": null,
            "object_position": null,
            "order": null,
            "overflow": null,
            "overflow_x": null,
            "overflow_y": null,
            "padding": null,
            "right": null,
            "top": null,
            "visibility": null,
            "width": null
          }
        },
        "f12866ae3c7b488a9cd59a1f8320b53f": {
          "model_module": "@jupyter-widgets/base",
          "model_module_version": "1.2.0",
          "model_name": "LayoutModel",
          "state": {
            "_model_module": "@jupyter-widgets/base",
            "_model_module_version": "1.2.0",
            "_model_name": "LayoutModel",
            "_view_count": null,
            "_view_module": "@jupyter-widgets/base",
            "_view_module_version": "1.2.0",
            "_view_name": "LayoutView",
            "align_content": null,
            "align_items": null,
            "align_self": null,
            "border": null,
            "bottom": null,
            "display": null,
            "flex": null,
            "flex_flow": null,
            "grid_area": null,
            "grid_auto_columns": null,
            "grid_auto_flow": null,
            "grid_auto_rows": null,
            "grid_column": null,
            "grid_gap": null,
            "grid_row": null,
            "grid_template_areas": null,
            "grid_template_columns": null,
            "grid_template_rows": null,
            "height": null,
            "justify_content": null,
            "justify_items": null,
            "left": null,
            "margin": null,
            "max_height": null,
            "max_width": null,
            "min_height": null,
            "min_width": null,
            "object_fit": null,
            "object_position": null,
            "order": null,
            "overflow": null,
            "overflow_x": null,
            "overflow_y": null,
            "padding": null,
            "right": null,
            "top": null,
            "visibility": null,
            "width": null
          }
        },
        "fd5348c6288d4908b69ef234185e8a6b": {
          "model_module": "@jupyter-widgets/base",
          "model_module_version": "1.2.0",
          "model_name": "LayoutModel",
          "state": {
            "_model_module": "@jupyter-widgets/base",
            "_model_module_version": "1.2.0",
            "_model_name": "LayoutModel",
            "_view_count": null,
            "_view_module": "@jupyter-widgets/base",
            "_view_module_version": "1.2.0",
            "_view_name": "LayoutView",
            "align_content": null,
            "align_items": null,
            "align_self": null,
            "border": null,
            "bottom": null,
            "display": null,
            "flex": null,
            "flex_flow": null,
            "grid_area": null,
            "grid_auto_columns": null,
            "grid_auto_flow": null,
            "grid_auto_rows": null,
            "grid_column": null,
            "grid_gap": null,
            "grid_row": null,
            "grid_template_areas": null,
            "grid_template_columns": null,
            "grid_template_rows": null,
            "height": null,
            "justify_content": null,
            "justify_items": null,
            "left": null,
            "margin": null,
            "max_height": null,
            "max_width": null,
            "min_height": null,
            "min_width": null,
            "object_fit": null,
            "object_position": null,
            "order": null,
            "overflow": null,
            "overflow_x": null,
            "overflow_y": null,
            "padding": null,
            "right": null,
            "top": null,
            "visibility": null,
            "width": null
          }
        }
      }
    }
  },
  "nbformat": 4,
  "nbformat_minor": 0
}
