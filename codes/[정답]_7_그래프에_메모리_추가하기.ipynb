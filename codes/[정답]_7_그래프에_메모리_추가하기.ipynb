{
  "cells": [
    {
      "cell_type": "markdown",
      "metadata": {
        "id": "vzedOJ6Xc_YN"
      },
      "source": [
        "# [실습] 그래프에 메모리 추가하기   \n",
        "\n",
        "랭그래프의 메모리 기능을 통해, 이전의 실행 내용을 기억하도록 설정할 수 있습니다.   \n",
        "\n",
        "세션 내부의 단기 기억에 해당하는 Checkpoint와, 장기 기억에 해당하는 Storage를 사용합니다.\n",
        "<br><br>\n",
        "\n",
        "**이번 실습은 GPU가 필요합니다. 오른쪽 탭의 \"런타임 유형 변경\"을 통해 T4 GPU로 체크하고 진행해 주세요!**\n",
        "\n",
        "\n",
        "\n",
        "\n"
      ]
    },
    {
      "cell_type": "markdown",
      "metadata": {
        "id": "rRTPqNYOc_YO"
      },
      "source": [
        "기본 라이브러리를 설치합니다."
      ]
    },
    {
      "cell_type": "code",
      "execution_count": 1,
      "metadata": {
        "colab": {
          "base_uri": "https://localhost:8080/"
        },
        "id": "F6ZLhY9hc_YO",
        "outputId": "ea2e69db-73c6-4558-dfba-c98b70ebcced"
      },
      "outputs": [
        {
          "name": "stdout",
          "output_type": "stream",
          "text": [
            "Requirement already satisfied: langgraph in /usr/local/lib/python3.12/dist-packages (1.0.1)\n",
            "Requirement already satisfied: langchain in /usr/local/lib/python3.12/dist-packages (0.3.27)\n",
            "Requirement already satisfied: langchain_google_genai in /usr/local/lib/python3.12/dist-packages (2.1.12)\n",
            "Requirement already satisfied: langchain_community in /usr/local/lib/python3.12/dist-packages (0.3.31)\n",
            "Requirement already satisfied: langgraph-checkpoint-sqlite in /usr/local/lib/python3.12/dist-packages (3.0.0)\n",
            "Requirement already satisfied: rich in /usr/local/lib/python3.12/dist-packages (13.9.4)\n",
            "Requirement already satisfied: langchain-core>=0.1 in /usr/local/lib/python3.12/dist-packages (from langgraph) (1.0.1)\n",
            "Requirement already satisfied: langgraph-checkpoint<4.0.0,>=2.1.0 in /usr/local/lib/python3.12/dist-packages (from langgraph) (3.0.0)\n",
            "Requirement already satisfied: langgraph-prebuilt<1.1.0,>=1.0.0 in /usr/local/lib/python3.12/dist-packages (from langgraph) (1.0.1)\n",
            "Requirement already satisfied: langgraph-sdk<0.3.0,>=0.2.2 in /usr/local/lib/python3.12/dist-packages (from langgraph) (0.2.9)\n",
            "Requirement already satisfied: pydantic>=2.7.4 in /usr/local/lib/python3.12/dist-packages (from langgraph) (2.11.10)\n",
            "Requirement already satisfied: xxhash>=3.5.0 in /usr/local/lib/python3.12/dist-packages (from langgraph) (3.6.0)\n",
            "Collecting langchain-core>=0.1 (from langgraph)\n",
            "  Downloading langchain_core-0.3.79-py3-none-any.whl.metadata (3.2 kB)\n",
            "Requirement already satisfied: langchain-text-splitters<1.0.0,>=0.3.9 in /usr/local/lib/python3.12/dist-packages (from langchain) (0.3.11)\n",
            "Requirement already satisfied: langsmith>=0.1.17 in /usr/local/lib/python3.12/dist-packages (from langchain) (0.4.37)\n",
            "Requirement already satisfied: SQLAlchemy<3,>=1.4 in /usr/local/lib/python3.12/dist-packages (from langchain) (2.0.44)\n",
            "Requirement already satisfied: requests<3,>=2 in /usr/local/lib/python3.12/dist-packages (from langchain) (2.32.5)\n",
            "Requirement already satisfied: PyYAML>=5.3 in /usr/local/lib/python3.12/dist-packages (from langchain) (6.0.3)\n",
            "Requirement already satisfied: google-ai-generativelanguage<1,>=0.7 in /usr/local/lib/python3.12/dist-packages (from langchain_google_genai) (0.9.0)\n",
            "Requirement already satisfied: filetype<2,>=1.2 in /usr/local/lib/python3.12/dist-packages (from langchain_google_genai) (1.2.0)\n",
            "Requirement already satisfied: aiohttp<4.0.0,>=3.8.3 in /usr/local/lib/python3.12/dist-packages (from langchain_community) (3.13.1)\n",
            "Requirement already satisfied: tenacity!=8.4.0,<10.0.0,>=8.1.0 in /usr/local/lib/python3.12/dist-packages (from langchain_community) (8.5.0)\n",
            "Requirement already satisfied: dataclasses-json<0.7.0,>=0.6.7 in /usr/local/lib/python3.12/dist-packages (from langchain_community) (0.6.7)\n",
            "Requirement already satisfied: pydantic-settings<3.0.0,>=2.10.1 in /usr/local/lib/python3.12/dist-packages (from langchain_community) (2.11.0)\n",
            "Requirement already satisfied: httpx-sse<1.0.0,>=0.4.0 in /usr/local/lib/python3.12/dist-packages (from langchain_community) (0.4.3)\n",
            "Requirement already satisfied: numpy>=1.26.2 in /usr/local/lib/python3.12/dist-packages (from langchain_community) (2.0.2)\n",
            "Requirement already satisfied: aiosqlite>=0.20 in /usr/local/lib/python3.12/dist-packages (from langgraph-checkpoint-sqlite) (0.21.0)\n",
            "Requirement already satisfied: sqlite-vec>=0.1.6 in /usr/local/lib/python3.12/dist-packages (from langgraph-checkpoint-sqlite) (0.1.6)\n",
            "Requirement already satisfied: markdown-it-py>=2.2.0 in /usr/local/lib/python3.12/dist-packages (from rich) (4.0.0)\n",
            "Requirement already satisfied: pygments<3.0.0,>=2.13.0 in /usr/local/lib/python3.12/dist-packages (from rich) (2.19.2)\n",
            "Requirement already satisfied: aiohappyeyeballs>=2.5.0 in /usr/local/lib/python3.12/dist-packages (from aiohttp<4.0.0,>=3.8.3->langchain_community) (2.6.1)\n",
            "Requirement already satisfied: aiosignal>=1.4.0 in /usr/local/lib/python3.12/dist-packages (from aiohttp<4.0.0,>=3.8.3->langchain_community) (1.4.0)\n",
            "Requirement already satisfied: attrs>=17.3.0 in /usr/local/lib/python3.12/dist-packages (from aiohttp<4.0.0,>=3.8.3->langchain_community) (25.4.0)\n",
            "Requirement already satisfied: frozenlist>=1.1.1 in /usr/local/lib/python3.12/dist-packages (from aiohttp<4.0.0,>=3.8.3->langchain_community) (1.8.0)\n",
            "Requirement already satisfied: multidict<7.0,>=4.5 in /usr/local/lib/python3.12/dist-packages (from aiohttp<4.0.0,>=3.8.3->langchain_community) (6.7.0)\n",
            "Requirement already satisfied: propcache>=0.2.0 in /usr/local/lib/python3.12/dist-packages (from aiohttp<4.0.0,>=3.8.3->langchain_community) (0.4.1)\n",
            "Requirement already satisfied: yarl<2.0,>=1.17.0 in /usr/local/lib/python3.12/dist-packages (from aiohttp<4.0.0,>=3.8.3->langchain_community) (1.22.0)\n",
            "Requirement already satisfied: typing_extensions>=4.0 in /usr/local/lib/python3.12/dist-packages (from aiosqlite>=0.20->langgraph-checkpoint-sqlite) (4.15.0)\n",
            "Requirement already satisfied: marshmallow<4.0.0,>=3.18.0 in /usr/local/lib/python3.12/dist-packages (from dataclasses-json<0.7.0,>=0.6.7->langchain_community) (3.26.1)\n",
            "Requirement already satisfied: typing-inspect<1,>=0.4.0 in /usr/local/lib/python3.12/dist-packages (from dataclasses-json<0.7.0,>=0.6.7->langchain_community) (0.9.0)\n",
            "Requirement already satisfied: google-api-core!=2.0.*,!=2.1.*,!=2.10.*,!=2.2.*,!=2.3.*,!=2.4.*,!=2.5.*,!=2.6.*,!=2.7.*,!=2.8.*,!=2.9.*,<3.0.0,>=1.34.1 in /usr/local/lib/python3.12/dist-packages (from google-api-core[grpc]!=2.0.*,!=2.1.*,!=2.10.*,!=2.2.*,!=2.3.*,!=2.4.*,!=2.5.*,!=2.6.*,!=2.7.*,!=2.8.*,!=2.9.*,<3.0.0,>=1.34.1->google-ai-generativelanguage<1,>=0.7->langchain_google_genai) (2.26.0)\n",
            "Requirement already satisfied: google-auth!=2.24.0,!=2.25.0,<3.0.0,>=2.14.1 in /usr/local/lib/python3.12/dist-packages (from google-ai-generativelanguage<1,>=0.7->langchain_google_genai) (2.38.0)\n",
            "Requirement already satisfied: grpcio<2.0.0,>=1.33.2 in /usr/local/lib/python3.12/dist-packages (from google-ai-generativelanguage<1,>=0.7->langchain_google_genai) (1.75.1)\n",
            "Requirement already satisfied: proto-plus<2.0.0,>=1.22.3 in /usr/local/lib/python3.12/dist-packages (from google-ai-generativelanguage<1,>=0.7->langchain_google_genai) (1.26.1)\n",
            "Requirement already satisfied: protobuf!=4.21.0,!=4.21.1,!=4.21.2,!=4.21.3,!=4.21.4,!=4.21.5,<7.0.0,>=3.20.2 in /usr/local/lib/python3.12/dist-packages (from google-ai-generativelanguage<1,>=0.7->langchain_google_genai) (5.29.5)\n",
            "Requirement already satisfied: jsonpatch<2.0.0,>=1.33.0 in /usr/local/lib/python3.12/dist-packages (from langchain-core>=0.1->langgraph) (1.33)\n",
            "Requirement already satisfied: packaging<26.0.0,>=23.2.0 in /usr/local/lib/python3.12/dist-packages (from langchain-core>=0.1->langgraph) (25.0)\n",
            "Requirement already satisfied: ormsgpack>=1.10.0 in /usr/local/lib/python3.12/dist-packages (from langgraph-checkpoint<4.0.0,>=2.1.0->langgraph) (1.11.0)\n",
            "Requirement already satisfied: httpx>=0.25.2 in /usr/local/lib/python3.12/dist-packages (from langgraph-sdk<0.3.0,>=0.2.2->langgraph) (0.28.1)\n",
            "Requirement already satisfied: orjson>=3.10.1 in /usr/local/lib/python3.12/dist-packages (from langgraph-sdk<0.3.0,>=0.2.2->langgraph) (3.11.3)\n",
            "Requirement already satisfied: requests-toolbelt>=1.0.0 in /usr/local/lib/python3.12/dist-packages (from langsmith>=0.1.17->langchain) (1.0.0)\n",
            "Requirement already satisfied: zstandard>=0.23.0 in /usr/local/lib/python3.12/dist-packages (from langsmith>=0.1.17->langchain) (0.25.0)\n",
            "Requirement already satisfied: mdurl~=0.1 in /usr/local/lib/python3.12/dist-packages (from markdown-it-py>=2.2.0->rich) (0.1.2)\n",
            "Requirement already satisfied: annotated-types>=0.6.0 in /usr/local/lib/python3.12/dist-packages (from pydantic>=2.7.4->langgraph) (0.7.0)\n",
            "Requirement already satisfied: pydantic-core==2.33.2 in /usr/local/lib/python3.12/dist-packages (from pydantic>=2.7.4->langgraph) (2.33.2)\n",
            "Requirement already satisfied: typing-inspection>=0.4.0 in /usr/local/lib/python3.12/dist-packages (from pydantic>=2.7.4->langgraph) (0.4.2)\n",
            "Requirement already satisfied: python-dotenv>=0.21.0 in /usr/local/lib/python3.12/dist-packages (from pydantic-settings<3.0.0,>=2.10.1->langchain_community) (1.1.1)\n",
            "Requirement already satisfied: charset_normalizer<4,>=2 in /usr/local/lib/python3.12/dist-packages (from requests<3,>=2->langchain) (3.4.4)\n",
            "Requirement already satisfied: idna<4,>=2.5 in /usr/local/lib/python3.12/dist-packages (from requests<3,>=2->langchain) (3.11)\n",
            "Requirement already satisfied: urllib3<3,>=1.21.1 in /usr/local/lib/python3.12/dist-packages (from requests<3,>=2->langchain) (2.5.0)\n",
            "Requirement already satisfied: certifi>=2017.4.17 in /usr/local/lib/python3.12/dist-packages (from requests<3,>=2->langchain) (2025.10.5)\n",
            "Requirement already satisfied: greenlet>=1 in /usr/local/lib/python3.12/dist-packages (from SQLAlchemy<3,>=1.4->langchain) (3.2.4)\n",
            "Requirement already satisfied: googleapis-common-protos<2.0.0,>=1.56.2 in /usr/local/lib/python3.12/dist-packages (from google-api-core!=2.0.*,!=2.1.*,!=2.10.*,!=2.2.*,!=2.3.*,!=2.4.*,!=2.5.*,!=2.6.*,!=2.7.*,!=2.8.*,!=2.9.*,<3.0.0,>=1.34.1->google-api-core[grpc]!=2.0.*,!=2.1.*,!=2.10.*,!=2.2.*,!=2.3.*,!=2.4.*,!=2.5.*,!=2.6.*,!=2.7.*,!=2.8.*,!=2.9.*,<3.0.0,>=1.34.1->google-ai-generativelanguage<1,>=0.7->langchain_google_genai) (1.71.0)\n",
            "Requirement already satisfied: grpcio-status<2.0.0,>=1.33.2 in /usr/local/lib/python3.12/dist-packages (from google-api-core[grpc]!=2.0.*,!=2.1.*,!=2.10.*,!=2.2.*,!=2.3.*,!=2.4.*,!=2.5.*,!=2.6.*,!=2.7.*,!=2.8.*,!=2.9.*,<3.0.0,>=1.34.1->google-ai-generativelanguage<1,>=0.7->langchain_google_genai) (1.71.2)\n",
            "Requirement already satisfied: cachetools<6.0,>=2.0.0 in /usr/local/lib/python3.12/dist-packages (from google-auth!=2.24.0,!=2.25.0,<3.0.0,>=2.14.1->google-ai-generativelanguage<1,>=0.7->langchain_google_genai) (5.5.2)\n",
            "Requirement already satisfied: pyasn1-modules>=0.2.1 in /usr/local/lib/python3.12/dist-packages (from google-auth!=2.24.0,!=2.25.0,<3.0.0,>=2.14.1->google-ai-generativelanguage<1,>=0.7->langchain_google_genai) (0.4.2)\n",
            "Requirement already satisfied: rsa<5,>=3.1.4 in /usr/local/lib/python3.12/dist-packages (from google-auth!=2.24.0,!=2.25.0,<3.0.0,>=2.14.1->google-ai-generativelanguage<1,>=0.7->langchain_google_genai) (4.9.1)\n",
            "Requirement already satisfied: anyio in /usr/local/lib/python3.12/dist-packages (from httpx>=0.25.2->langgraph-sdk<0.3.0,>=0.2.2->langgraph) (4.11.0)\n",
            "Requirement already satisfied: httpcore==1.* in /usr/local/lib/python3.12/dist-packages (from httpx>=0.25.2->langgraph-sdk<0.3.0,>=0.2.2->langgraph) (1.0.9)\n",
            "Requirement already satisfied: h11>=0.16 in /usr/local/lib/python3.12/dist-packages (from httpcore==1.*->httpx>=0.25.2->langgraph-sdk<0.3.0,>=0.2.2->langgraph) (0.16.0)\n",
            "Requirement already satisfied: jsonpointer>=1.9 in /usr/local/lib/python3.12/dist-packages (from jsonpatch<2.0.0,>=1.33.0->langchain-core>=0.1->langgraph) (3.0.0)\n",
            "Requirement already satisfied: mypy-extensions>=0.3.0 in /usr/local/lib/python3.12/dist-packages (from typing-inspect<1,>=0.4.0->dataclasses-json<0.7.0,>=0.6.7->langchain_community) (1.1.0)\n",
            "Requirement already satisfied: pyasn1<0.7.0,>=0.6.1 in /usr/local/lib/python3.12/dist-packages (from pyasn1-modules>=0.2.1->google-auth!=2.24.0,!=2.25.0,<3.0.0,>=2.14.1->google-ai-generativelanguage<1,>=0.7->langchain_google_genai) (0.6.1)\n",
            "Requirement already satisfied: sniffio>=1.1 in /usr/local/lib/python3.12/dist-packages (from anyio->httpx>=0.25.2->langgraph-sdk<0.3.0,>=0.2.2->langgraph) (1.3.1)\n",
            "Downloading langchain_core-0.3.79-py3-none-any.whl (449 kB)\n",
            "\u001b[2K   \u001b[90m━━━━━━━━━━━━━━━━━━━━━━━━━━━━━━━━━━━━━━━━\u001b[0m \u001b[32m449.8/449.8 kB\u001b[0m \u001b[31m11.9 MB/s\u001b[0m eta \u001b[36m0:00:00\u001b[0m\n",
            "\u001b[?25hInstalling collected packages: langchain-core\n",
            "  Attempting uninstall: langchain-core\n",
            "    Found existing installation: langchain-core 1.0.1\n",
            "    Uninstalling langchain-core-1.0.1:\n",
            "      Successfully uninstalled langchain-core-1.0.1\n",
            "\u001b[31mERROR: pip's dependency resolver does not currently take into account all the packages that are installed. This behaviour is the source of the following dependency conflicts.\n",
            "langchain-huggingface 1.0.0 requires langchain-core<2.0.0,>=1.0.0, but you have langchain-core 0.3.79 which is incompatible.\u001b[0m\u001b[31m\n",
            "\u001b[0mSuccessfully installed langchain-core-0.3.79\n"
          ]
        }
      ],
      "source": [
        "!pip install langgraph langchain langchain_google_genai langchain_community langgraph-checkpoint-sqlite rich"
      ]
    },
    {
      "cell_type": "markdown",
      "metadata": {
        "id": "0uivwnmsc_YO"
      },
      "source": [
        "API 키와 LLM을 구성합니다."
      ]
    },
    {
      "cell_type": "code",
      "execution_count": 2,
      "metadata": {
        "id": "Vped4RdNc_YO"
      },
      "outputs": [],
      "source": [
        "import os\n",
        "os.environ['GOOGLE_API_KEY'] = 'AIxxx'\n",
        "\n",
        "from langchain_core.rate_limiters import InMemoryRateLimiter\n",
        "from langchain_google_genai import ChatGoogleGenerativeAI\n",
        "\n",
        "# Gemini API는 분당 10개 요청으로 제한\n",
        "# 즉, 초당 약 0.167개 요청 (10/60)\n",
        "rate_limiter = InMemoryRateLimiter(\n",
        "    requests_per_second=0.167,  # 분당 10개 요청\n",
        "    check_every_n_seconds=0.1,  # 100ms마다 체크\n",
        "    max_bucket_size=10,  # 최대 버스트 크기\n",
        ")\n",
        "\n",
        "llm = ChatGoogleGenerativeAI(\n",
        "    model=\"gemini-2.5-flash\",\n",
        "    rate_limiter=rate_limiter,\n",
        "    # temperature\n",
        "    # max_tokens\n",
        "\n",
        "    thinking_budget = 500  # 추론(Reasoning) 토큰 길이 제한\n",
        ")"
      ]
    },
    {
      "cell_type": "markdown",
      "metadata": {
        "id": "GwsmW0edc_YO"
      },
      "source": [
        "중간 과정 확인을 위해, LangSmith를 연동합니다.\n",
        "https://smith.langchain.com 에서 등록 후 작성합니다."
      ]
    },
    {
      "cell_type": "code",
      "execution_count": null,
      "metadata": {
        "id": "cz82pgiMc_YP"
      },
      "outputs": [],
      "source": [
        "os.environ['LANGCHAIN_API_KEY'] = ''\n",
        "os.environ['LANGCHAIN_PROJECT'] = 'LangGraph_FastCampus'\n",
        "os.environ['LANGCHAIN_ENDPOINT'] = 'https://api.smith.langchain.com'\n",
        "os.environ['LANGCHAIN_TRACING_V2']='true'"
      ]
    },
    {
      "cell_type": "markdown",
      "metadata": {
        "id": "H4MRLJRdc_YP"
      },
      "source": [
        "## Checkpoint(체크포인트)\n",
        "\n",
        "체크포인트는 그래프 실행의 상태와 중간 단계를 저장하고 관리합니다.    "
      ]
    },
    {
      "cell_type": "markdown",
      "metadata": {
        "id": "xgo7P78xc_YP"
      },
      "source": [
        "<br><br>체크포인트를 저장하기 위해 MemorySaver를 구성합니다."
      ]
    },
    {
      "cell_type": "code",
      "execution_count": 4,
      "metadata": {
        "id": "FrH0xkgrc_YP"
      },
      "outputs": [],
      "source": [
        "# 메모리 세팅\n",
        "from langgraph.checkpoint.memory import MemorySaver\n",
        "\n",
        "memory = MemorySaver()"
      ]
    },
    {
      "cell_type": "markdown",
      "metadata": {
        "id": "R3EqwnDXc_YP"
      },
      "source": [
        "구성된 체크포인터는 `compile`에 포함하여 실행하면 됩니다."
      ]
    },
    {
      "cell_type": "code",
      "execution_count": 5,
      "metadata": {
        "colab": {
          "base_uri": "https://localhost:8080/",
          "height": 251
        },
        "id": "KquynAnmc_YP",
        "outputId": "abac39cf-96cb-4a75-ff0a-35764815c00c"
      },
      "outputs": [
        {
          "data": {
            "image/png": "[encoded data removed]",
            "text/plain": [
              "<langgraph.graph.state.CompiledStateGraph object at 0x789d73f43bf0>"
            ]
          },
          "execution_count": 5,
          "metadata": {},
          "output_type": "execute_result"
        }
      ],
      "source": [
        "from typing import Annotated\n",
        "from typing_extensions import TypedDict, List\n",
        "from langgraph.graph.message import add_messages\n",
        "from langgraph.graph import StateGraph, state, START\n",
        "\n",
        "class State(TypedDict):\n",
        "    messages: Annotated[list, add_messages]\n",
        "    foo: str\n",
        "\n",
        "\n",
        "def call_model(state: State):\n",
        "    response = llm.invoke(state[\"messages\"])\n",
        "    return {\"messages\": response}\n",
        "\n",
        "\n",
        "builder = StateGraph(State)\n",
        "\n",
        "builder.add_node(\"call_model\", call_model)\n",
        "builder.add_edge(START, \"call_model\")\n",
        "graph = builder.compile(checkpointer=memory)\n",
        "\n",
        "graph\n",
        "# memory에 기록 저장"
      ]
    },
    {
      "cell_type": "markdown",
      "metadata": {
        "id": "Q8cvyRXAc_YP"
      },
      "source": [
        "체크포인터에서, 각각의 실행은 `thread`라는 이름으로 구분됩니다.   \n",
        "thread_id를 활용해, 이전 출력의 정보를 저장할 수 있습니다."
      ]
    },
    {
      "cell_type": "code",
      "execution_count": 6,
      "metadata": {
        "colab": {
          "base_uri": "https://localhost:8080/"
        },
        "id": "1tbf3IFgc_YP",
        "outputId": "077ad2a8-54f3-4e72-ba7f-d13f4d7375e0"
      },
      "outputs": [
        {
          "name": "stdout",
          "output_type": "stream",
          "text": [
            "안녕, 나는 랭그래프 공부중이야\n",
            "================================\u001b[1m Human Message \u001b[0m=================================\n",
            "\n",
            "안녕, 나는 랭그래프 공부중이야\n",
            "==================================\u001b[1m Ai Message \u001b[0m==================================\n",
            "\n",
            "안녕하세요! 랭그래프(LangGraph)를 공부하고 계시는군요! 정말 흥미롭고 유용한 라이브러리죠.\n",
            "\n",
            "어떤 부분에 대해 궁금하신가요?\n",
            "\n",
            "*   랭그래프의 기본 개념\n",
            "*   상태(State)와 노드(Node), 엣지(Edge)\n",
            "*   다양한 그래프 구성 방식 (선형, 조건부 로직 등)\n",
            "*   에이전트(Agent) 구현\n",
            "*   특정 예제나 사용 사례\n",
            "*   어려움을 겪고 있는 부분\n",
            "\n",
            "어떤 질문이든 편하게 해주세요! 아는 범위 내에서 최대한 도와드리겠습니다. 😊\n"
          ]
        }
      ],
      "source": [
        "from langchain_core.messages import HumanMessage, AIMessage, SystemMessage\n",
        "\n",
        "# thread_id를 통해 매 실행의 체크포인트 저장\n",
        "config = {\"configurable\": {\"thread_id\": \"1\"}}\n",
        "\n",
        "\n",
        "input_message = HumanMessage(input())\n",
        "\n",
        "for chunk in graph.stream({\"messages\": [input_message]},\n",
        "                          config, stream_mode=\"values\"):\n",
        "    chunk[\"messages\"][-1].pretty_print()"
      ]
    },
    {
      "cell_type": "code",
      "execution_count": 7,
      "metadata": {
        "colab": {
          "base_uri": "https://localhost:8080/"
        },
        "id": "osjraGxRc_YP",
        "outputId": "1941bfdc-679d-4617-e000-73d2ce49565f"
      },
      "outputs": [
        {
          "name": "stdout",
          "output_type": "stream",
          "text": [
            "================================\u001b[1m Human Message \u001b[0m=================================\n",
            "\n",
            "내가 뭐라고 했지?\n",
            "==================================\u001b[1m Ai Message \u001b[0m==================================\n",
            "\n",
            "네, **\"안녕, 나는 랭그래프 공부중이야\"** 라고 말씀하셨습니다. 😊\n"
          ]
        }
      ],
      "source": [
        "input_message = {\"role\": \"user\", \"content\": \"내가 뭐라고 했지?\"}\n",
        "for chunk in graph.stream({\"messages\": [input_message]}, config, stream_mode=\"values\"):\n",
        "    chunk[\"messages\"][-1].pretty_print()"
      ]
    },
    {
      "cell_type": "markdown",
      "metadata": {
        "id": "2sM1YKIgc_YP"
      },
      "source": [
        "해당 체크포인트의 내용은 `thread_id`에 귀속됩니다."
      ]
    },
    {
      "cell_type": "code",
      "execution_count": 8,
      "metadata": {
        "colab": {
          "base_uri": "https://localhost:8080/"
        },
        "id": "e-xROVaRc_YP",
        "outputId": "18b38fbb-7f19-4765-e898-3c5755a62a75"
      },
      "outputs": [
        {
          "name": "stdout",
          "output_type": "stream",
          "text": [
            "================================\u001b[1m Human Message \u001b[0m=================================\n",
            "\n",
            "내가 뭐라고 했지?\n",
            "==================================\u001b[1m Ai Message \u001b[0m==================================\n",
            "\n",
            "저는 이전 대화 내용을 기억하지 못합니다. 제가 받은 마지막 질문이나 말씀하신 내용을 다시 한번 알려주시면 제가 더 정확하게 답변해 드릴 수 있습니다.\n"
          ]
        }
      ],
      "source": [
        "config = {\"configurable\": {\"thread_id\": \"2\"}}\n",
        "\n",
        "input_message = {\"role\": \"user\", \"content\": \"내가 뭐라고 했지?\"}\n",
        "for chunk in graph.stream({\"messages\": [input_message]}, config, stream_mode=\"values\"):\n",
        "    chunk[\"messages\"][-1].pretty_print()"
      ]
    },
    {
      "cell_type": "markdown",
      "metadata": {
        "id": "bSN-nBjBc_YP"
      },
      "source": [
        "`get_state`를 통해 진행된 스레드의 마지막 상태를 볼 수 있습니다.   \n",
        "해당 상태에는 State의 스냅샷 정보가 저장되어 있습니다."
      ]
    },
    {
      "cell_type": "code",
      "execution_count": 9,
      "metadata": {
        "colab": {
          "base_uri": "https://localhost:8080/",
          "height": 1000
        },
        "id": "q8N6Seirc_YP",
        "outputId": "f2bf4229-fea3-4c34-d462-34ea5b38cc61"
      },
      "outputs": [
        {
          "data": {
            "text/html": [
              "<pre style=\"white-space:pre;overflow-x:auto;line-height:normal;font-family:Menlo,'DejaVu Sans Mono',consolas,'Courier New',monospace\"><span style=\"color: #800080; text-decoration-color: #800080; font-weight: bold\">StateSnapshot</span><span style=\"font-weight: bold\">(</span>\n",
              "    <span style=\"color: #808000; text-decoration-color: #808000\">values</span>=<span style=\"font-weight: bold\">{</span>\n",
              "        <span style=\"color: #008000; text-decoration-color: #008000\">'messages'</span>: <span style=\"font-weight: bold\">[</span>\n",
              "            <span style=\"color: #800080; text-decoration-color: #800080; font-weight: bold\">HumanMessage</span><span style=\"font-weight: bold\">(</span>\n",
              "                <span style=\"color: #808000; text-decoration-color: #808000\">content</span>=<span style=\"color: #008000; text-decoration-color: #008000\">'안녕, 나는 랭그래프 공부중이야'</span>,\n",
              "                <span style=\"color: #808000; text-decoration-color: #808000\">additional_kwargs</span>=<span style=\"font-weight: bold\">{}</span>,\n",
              "                <span style=\"color: #808000; text-decoration-color: #808000\">response_metadata</span>=<span style=\"font-weight: bold\">{}</span>,\n",
              "                <span style=\"color: #808000; text-decoration-color: #808000\">id</span>=<span style=\"color: #008000; text-decoration-color: #008000\">'0b32bb3b-5086-4272-bf59-6336cf388f8d'</span>\n",
              "            <span style=\"font-weight: bold\">)</span>,\n",
              "            <span style=\"color: #800080; text-decoration-color: #800080; font-weight: bold\">AIMessage</span><span style=\"font-weight: bold\">(</span>\n",
              "                <span style=\"color: #808000; text-decoration-color: #808000\">content</span>=<span style=\"color: #008000; text-decoration-color: #008000\">'안녕하세요! 랭그래프(LangGraph)를 공부하고 계시는군요! 정말 흥미롭고 유용한 </span>\n",
              "<span style=\"color: #008000; text-decoration-color: #008000\">라이브러리죠.\\n\\n어떤 부분에 대해 궁금하신가요?\\n\\n*   랭그래프의 기본 개념\\n*   상태(State)와 노드(Node), </span>\n",
              "<span style=\"color: #008000; text-decoration-color: #008000\">엣지(Edge)\\n*   다양한 그래프 구성 방식 (선형, 조건부 로직 등)\\n*   에이전트(Agent) 구현\\n*   특정 예제나 사용 </span>\n",
              "<span style=\"color: #008000; text-decoration-color: #008000\">사례\\n*   어려움을 겪고 있는 부분\\n\\n어떤 질문이든 편하게 해주세요! 아는 범위 내에서 최대한 도와드리겠습니다. 😊'</span>,\n",
              "                <span style=\"color: #808000; text-decoration-color: #808000\">additional_kwargs</span>=<span style=\"font-weight: bold\">{}</span>,\n",
              "                <span style=\"color: #808000; text-decoration-color: #808000\">response_metadata</span>=<span style=\"font-weight: bold\">{</span>\n",
              "                    <span style=\"color: #008000; text-decoration-color: #008000\">'prompt_feedback'</span>: <span style=\"font-weight: bold\">{</span><span style=\"color: #008000; text-decoration-color: #008000\">'block_reason'</span>: <span style=\"color: #008080; text-decoration-color: #008080; font-weight: bold\">0</span>, <span style=\"color: #008000; text-decoration-color: #008000\">'safety_ratings'</span>: <span style=\"font-weight: bold\">[]}</span>,\n",
              "                    <span style=\"color: #008000; text-decoration-color: #008000\">'finish_reason'</span>: <span style=\"color: #008000; text-decoration-color: #008000\">'STOP'</span>,\n",
              "                    <span style=\"color: #008000; text-decoration-color: #008000\">'model_name'</span>: <span style=\"color: #008000; text-decoration-color: #008000\">'gemini-2.5-flash'</span>,\n",
              "                    <span style=\"color: #008000; text-decoration-color: #008000\">'safety_ratings'</span>: <span style=\"font-weight: bold\">[]</span>\n",
              "                <span style=\"font-weight: bold\">}</span>,\n",
              "                <span style=\"color: #808000; text-decoration-color: #808000\">id</span>=<span style=\"color: #008000; text-decoration-color: #008000\">'run--393f660d-2e9e-4993-9150-262bab3478e6-0'</span>,\n",
              "                <span style=\"color: #808000; text-decoration-color: #808000\">usage_metadata</span>=<span style=\"font-weight: bold\">{</span>\n",
              "                    <span style=\"color: #008000; text-decoration-color: #008000\">'input_tokens'</span>: <span style=\"color: #008080; text-decoration-color: #008080; font-weight: bold\">12</span>,\n",
              "                    <span style=\"color: #008000; text-decoration-color: #008000\">'output_tokens'</span>: <span style=\"color: #008080; text-decoration-color: #008080; font-weight: bold\">644</span>,\n",
              "                    <span style=\"color: #008000; text-decoration-color: #008000\">'total_tokens'</span>: <span style=\"color: #008080; text-decoration-color: #008080; font-weight: bold\">656</span>,\n",
              "                    <span style=\"color: #008000; text-decoration-color: #008000\">'input_token_details'</span>: <span style=\"font-weight: bold\">{</span><span style=\"color: #008000; text-decoration-color: #008000\">'cache_read'</span>: <span style=\"color: #008080; text-decoration-color: #008080; font-weight: bold\">0</span><span style=\"font-weight: bold\">}</span>,\n",
              "                    <span style=\"color: #008000; text-decoration-color: #008000\">'output_token_details'</span>: <span style=\"font-weight: bold\">{</span><span style=\"color: #008000; text-decoration-color: #008000\">'reasoning'</span>: <span style=\"color: #008080; text-decoration-color: #008080; font-weight: bold\">501</span><span style=\"font-weight: bold\">}</span>\n",
              "                <span style=\"font-weight: bold\">}</span>\n",
              "            <span style=\"font-weight: bold\">)</span>,\n",
              "            <span style=\"color: #800080; text-decoration-color: #800080; font-weight: bold\">HumanMessage</span><span style=\"font-weight: bold\">(</span>\n",
              "                <span style=\"color: #808000; text-decoration-color: #808000\">content</span>=<span style=\"color: #008000; text-decoration-color: #008000\">'내가 뭐라고 했지?'</span>,\n",
              "                <span style=\"color: #808000; text-decoration-color: #808000\">additional_kwargs</span>=<span style=\"font-weight: bold\">{}</span>,\n",
              "                <span style=\"color: #808000; text-decoration-color: #808000\">response_metadata</span>=<span style=\"font-weight: bold\">{}</span>,\n",
              "                <span style=\"color: #808000; text-decoration-color: #808000\">id</span>=<span style=\"color: #008000; text-decoration-color: #008000\">'b37898ed-ec49-4e25-b168-35243b797598'</span>\n",
              "            <span style=\"font-weight: bold\">)</span>,\n",
              "            <span style=\"color: #800080; text-decoration-color: #800080; font-weight: bold\">AIMessage</span><span style=\"font-weight: bold\">(</span>\n",
              "                <span style=\"color: #808000; text-decoration-color: #808000\">content</span>=<span style=\"color: #008000; text-decoration-color: #008000\">'네, **\"안녕, 나는 랭그래프 공부중이야\"** 라고 말씀하셨습니다. 😊'</span>,\n",
              "                <span style=\"color: #808000; text-decoration-color: #808000\">additional_kwargs</span>=<span style=\"font-weight: bold\">{}</span>,\n",
              "                <span style=\"color: #808000; text-decoration-color: #808000\">response_metadata</span>=<span style=\"font-weight: bold\">{</span>\n",
              "                    <span style=\"color: #008000; text-decoration-color: #008000\">'prompt_feedback'</span>: <span style=\"font-weight: bold\">{</span><span style=\"color: #008000; text-decoration-color: #008000\">'block_reason'</span>: <span style=\"color: #008080; text-decoration-color: #008080; font-weight: bold\">0</span>, <span style=\"color: #008000; text-decoration-color: #008000\">'safety_ratings'</span>: <span style=\"font-weight: bold\">[]}</span>,\n",
              "                    <span style=\"color: #008000; text-decoration-color: #008000\">'finish_reason'</span>: <span style=\"color: #008000; text-decoration-color: #008000\">'STOP'</span>,\n",
              "                    <span style=\"color: #008000; text-decoration-color: #008000\">'model_name'</span>: <span style=\"color: #008000; text-decoration-color: #008000\">'gemini-2.5-flash'</span>,\n",
              "                    <span style=\"color: #008000; text-decoration-color: #008000\">'safety_ratings'</span>: <span style=\"font-weight: bold\">[]</span>\n",
              "                <span style=\"font-weight: bold\">}</span>,\n",
              "                <span style=\"color: #808000; text-decoration-color: #808000\">id</span>=<span style=\"color: #008000; text-decoration-color: #008000\">'run--c834a92e-520f-4c3d-a978-16d6392f191f-0'</span>,\n",
              "                <span style=\"color: #808000; text-decoration-color: #808000\">usage_metadata</span>=<span style=\"font-weight: bold\">{</span>\n",
              "                    <span style=\"color: #008000; text-decoration-color: #008000\">'input_tokens'</span>: <span style=\"color: #008080; text-decoration-color: #008080; font-weight: bold\">162</span>,\n",
              "                    <span style=\"color: #008000; text-decoration-color: #008000\">'output_tokens'</span>: <span style=\"color: #008080; text-decoration-color: #008080; font-weight: bold\">56</span>,\n",
              "                    <span style=\"color: #008000; text-decoration-color: #008000\">'total_tokens'</span>: <span style=\"color: #008080; text-decoration-color: #008080; font-weight: bold\">218</span>,\n",
              "                    <span style=\"color: #008000; text-decoration-color: #008000\">'input_token_details'</span>: <span style=\"font-weight: bold\">{</span><span style=\"color: #008000; text-decoration-color: #008000\">'cache_read'</span>: <span style=\"color: #008080; text-decoration-color: #008080; font-weight: bold\">0</span><span style=\"font-weight: bold\">}</span>,\n",
              "                    <span style=\"color: #008000; text-decoration-color: #008000\">'output_token_details'</span>: <span style=\"font-weight: bold\">{</span><span style=\"color: #008000; text-decoration-color: #008000\">'reasoning'</span>: <span style=\"color: #008080; text-decoration-color: #008080; font-weight: bold\">32</span><span style=\"font-weight: bold\">}</span>\n",
              "                <span style=\"font-weight: bold\">}</span>\n",
              "            <span style=\"font-weight: bold\">)</span>\n",
              "        <span style=\"font-weight: bold\">]</span>\n",
              "    <span style=\"font-weight: bold\">}</span>,\n",
              "    <span style=\"color: #808000; text-decoration-color: #808000\">next</span>=<span style=\"font-weight: bold\">()</span>,\n",
              "    <span style=\"color: #808000; text-decoration-color: #808000\">config</span>=<span style=\"font-weight: bold\">{</span>\n",
              "        <span style=\"color: #008000; text-decoration-color: #008000\">'configurable'</span>: <span style=\"font-weight: bold\">{</span>\n",
              "            <span style=\"color: #008000; text-decoration-color: #008000\">'thread_id'</span>: <span style=\"color: #008000; text-decoration-color: #008000\">'1'</span>,\n",
              "            <span style=\"color: #008000; text-decoration-color: #008000\">'checkpoint_ns'</span>: <span style=\"color: #008000; text-decoration-color: #008000\">''</span>,\n",
              "            <span style=\"color: #008000; text-decoration-color: #008000\">'checkpoint_id'</span>: <span style=\"color: #008000; text-decoration-color: #008000\">'1f0b22d1-4119-683f-8004-fca6b4896704'</span>\n",
              "        <span style=\"font-weight: bold\">}</span>\n",
              "    <span style=\"font-weight: bold\">}</span>,\n",
              "    <span style=\"color: #808000; text-decoration-color: #808000\">metadata</span>=<span style=\"font-weight: bold\">{</span><span style=\"color: #008000; text-decoration-color: #008000\">'source'</span>: <span style=\"color: #008000; text-decoration-color: #008000\">'loop'</span>, <span style=\"color: #008000; text-decoration-color: #008000\">'step'</span>: <span style=\"color: #008080; text-decoration-color: #008080; font-weight: bold\">4</span>, <span style=\"color: #008000; text-decoration-color: #008000\">'parents'</span>: <span style=\"font-weight: bold\">{}}</span>,\n",
              "    <span style=\"color: #808000; text-decoration-color: #808000\">created_at</span>=<span style=\"color: #008000; text-decoration-color: #008000\">'2025-10-26T05:31:52.845508+00:00'</span>,\n",
              "    <span style=\"color: #808000; text-decoration-color: #808000\">parent_config</span>=<span style=\"font-weight: bold\">{</span>\n",
              "        <span style=\"color: #008000; text-decoration-color: #008000\">'configurable'</span>: <span style=\"font-weight: bold\">{</span>\n",
              "            <span style=\"color: #008000; text-decoration-color: #008000\">'thread_id'</span>: <span style=\"color: #008000; text-decoration-color: #008000\">'1'</span>,\n",
              "            <span style=\"color: #008000; text-decoration-color: #008000\">'checkpoint_ns'</span>: <span style=\"color: #008000; text-decoration-color: #008000\">''</span>,\n",
              "            <span style=\"color: #008000; text-decoration-color: #008000\">'checkpoint_id'</span>: <span style=\"color: #008000; text-decoration-color: #008000\">'1f0b22d1-2b78-6bfd-8003-65870c86f054'</span>\n",
              "        <span style=\"font-weight: bold\">}</span>\n",
              "    <span style=\"font-weight: bold\">}</span>,\n",
              "    <span style=\"color: #808000; text-decoration-color: #808000\">tasks</span>=<span style=\"font-weight: bold\">()</span>,\n",
              "    <span style=\"color: #808000; text-decoration-color: #808000\">interrupts</span>=<span style=\"font-weight: bold\">()</span>\n",
              "<span style=\"font-weight: bold\">)</span>\n",
              "</pre>\n"
            ],
            "text/plain": [
              "\u001b[1;35mStateSnapshot\u001b[0m\u001b[1m(\u001b[0m\n",
              "    \u001b[33mvalues\u001b[0m=\u001b[1m{\u001b[0m\n",
              "        \u001b[32m'messages'\u001b[0m: \u001b[1m[\u001b[0m\n",
              "            \u001b[1;35mHumanMessage\u001b[0m\u001b[1m(\u001b[0m\n",
              "                \u001b[33mcontent\u001b[0m=\u001b[32m'안녕, 나는 랭그래프 공부중이야'\u001b[0m,\n",
              "                \u001b[33madditional_kwargs\u001b[0m=\u001b[1m{\u001b[0m\u001b[1m}\u001b[0m,\n",
              "                \u001b[33mresponse_metadata\u001b[0m=\u001b[1m{\u001b[0m\u001b[1m}\u001b[0m,\n",
              "                \u001b[33mid\u001b[0m=\u001b[32m'0b32bb3b-5086-4272-bf59-6336cf388f8d'\u001b[0m\n",
              "            \u001b[1m)\u001b[0m,\n",
              "            \u001b[1;35mAIMessage\u001b[0m\u001b[1m(\u001b[0m\n",
              "                \u001b[33mcontent\u001b[0m=\u001b[32m'안녕하세요! 랭그래프\u001b[0m\u001b[32m(\u001b[0m\u001b[32mLangGraph\u001b[0m\u001b[32m)\u001b[0m\u001b[32m를 공부하고 계시는군요! 정말 흥미롭고 유용한 \u001b[0m\n",
              "\u001b[32m라이브러리죠.\\n\\n어떤 부분에 대해 궁금하신가요?\\n\\n*   랭그래프의 기본 개념\\n*   상태\u001b[0m\u001b[32m(\u001b[0m\u001b[32mState\u001b[0m\u001b[32m)\u001b[0m\u001b[32m와 노드\u001b[0m\u001b[32m(\u001b[0m\u001b[32mNode\u001b[0m\u001b[32m)\u001b[0m\u001b[32m, \u001b[0m\n",
              "\u001b[32m엣지\u001b[0m\u001b[32m(\u001b[0m\u001b[32mEdge\u001b[0m\u001b[32m)\u001b[0m\u001b[32m\\n*   다양한 그래프 구성 방식 \u001b[0m\u001b[32m(\u001b[0m\u001b[32m선형, 조건부 로직 등\u001b[0m\u001b[32m)\u001b[0m\u001b[32m\\n*   에이전트\u001b[0m\u001b[32m(\u001b[0m\u001b[32mAgent\u001b[0m\u001b[32m)\u001b[0m\u001b[32m 구현\\n*   특정 예제나 사용 \u001b[0m\n",
              "\u001b[32m사례\\n*   어려움을 겪고 있는 부분\\n\\n어떤 질문이든 편하게 해주세요! 아는 범위 내에서 최대한 도와드리겠습니다. 😊'\u001b[0m,\n",
              "                \u001b[33madditional_kwargs\u001b[0m=\u001b[1m{\u001b[0m\u001b[1m}\u001b[0m,\n",
              "                \u001b[33mresponse_metadata\u001b[0m=\u001b[1m{\u001b[0m\n",
              "                    \u001b[32m'prompt_feedback'\u001b[0m: \u001b[1m{\u001b[0m\u001b[32m'block_reason'\u001b[0m: \u001b[1;36m0\u001b[0m, \u001b[32m'safety_ratings'\u001b[0m: \u001b[1m[\u001b[0m\u001b[1m]\u001b[0m\u001b[1m}\u001b[0m,\n",
              "                    \u001b[32m'finish_reason'\u001b[0m: \u001b[32m'STOP'\u001b[0m,\n",
              "                    \u001b[32m'model_name'\u001b[0m: \u001b[32m'gemini-2.5-flash'\u001b[0m,\n",
              "                    \u001b[32m'safety_ratings'\u001b[0m: \u001b[1m[\u001b[0m\u001b[1m]\u001b[0m\n",
              "                \u001b[1m}\u001b[0m,\n",
              "                \u001b[33mid\u001b[0m=\u001b[32m'run--393f660d-2e9e-4993-9150-262bab3478e6-0'\u001b[0m,\n",
              "                \u001b[33musage_metadata\u001b[0m=\u001b[1m{\u001b[0m\n",
              "                    \u001b[32m'input_tokens'\u001b[0m: \u001b[1;36m12\u001b[0m,\n",
              "                    \u001b[32m'output_tokens'\u001b[0m: \u001b[1;36m644\u001b[0m,\n",
              "                    \u001b[32m'total_tokens'\u001b[0m: \u001b[1;36m656\u001b[0m,\n",
              "                    \u001b[32m'input_token_details'\u001b[0m: \u001b[1m{\u001b[0m\u001b[32m'cache_read'\u001b[0m: \u001b[1;36m0\u001b[0m\u001b[1m}\u001b[0m,\n",
              "                    \u001b[32m'output_token_details'\u001b[0m: \u001b[1m{\u001b[0m\u001b[32m'reasoning'\u001b[0m: \u001b[1;36m501\u001b[0m\u001b[1m}\u001b[0m\n",
              "                \u001b[1m}\u001b[0m\n",
              "            \u001b[1m)\u001b[0m,\n",
              "            \u001b[1;35mHumanMessage\u001b[0m\u001b[1m(\u001b[0m\n",
              "                \u001b[33mcontent\u001b[0m=\u001b[32m'내가 뭐라고 했지?'\u001b[0m,\n",
              "                \u001b[33madditional_kwargs\u001b[0m=\u001b[1m{\u001b[0m\u001b[1m}\u001b[0m,\n",
              "                \u001b[33mresponse_metadata\u001b[0m=\u001b[1m{\u001b[0m\u001b[1m}\u001b[0m,\n",
              "                \u001b[33mid\u001b[0m=\u001b[32m'b37898ed-ec49-4e25-b168-35243b797598'\u001b[0m\n",
              "            \u001b[1m)\u001b[0m,\n",
              "            \u001b[1;35mAIMessage\u001b[0m\u001b[1m(\u001b[0m\n",
              "                \u001b[33mcontent\u001b[0m=\u001b[32m'네, **\"안녕, 나는 랭그래프 공부중이야\"** 라고 말씀하셨습니다. 😊'\u001b[0m,\n",
              "                \u001b[33madditional_kwargs\u001b[0m=\u001b[1m{\u001b[0m\u001b[1m}\u001b[0m,\n",
              "                \u001b[33mresponse_metadata\u001b[0m=\u001b[1m{\u001b[0m\n",
              "                    \u001b[32m'prompt_feedback'\u001b[0m: \u001b[1m{\u001b[0m\u001b[32m'block_reason'\u001b[0m: \u001b[1;36m0\u001b[0m, \u001b[32m'safety_ratings'\u001b[0m: \u001b[1m[\u001b[0m\u001b[1m]\u001b[0m\u001b[1m}\u001b[0m,\n",
              "                    \u001b[32m'finish_reason'\u001b[0m: \u001b[32m'STOP'\u001b[0m,\n",
              "                    \u001b[32m'model_name'\u001b[0m: \u001b[32m'gemini-2.5-flash'\u001b[0m,\n",
              "                    \u001b[32m'safety_ratings'\u001b[0m: \u001b[1m[\u001b[0m\u001b[1m]\u001b[0m\n",
              "                \u001b[1m}\u001b[0m,\n",
              "                \u001b[33mid\u001b[0m=\u001b[32m'run--c834a92e-520f-4c3d-a978-16d6392f191f-0'\u001b[0m,\n",
              "                \u001b[33musage_metadata\u001b[0m=\u001b[1m{\u001b[0m\n",
              "                    \u001b[32m'input_tokens'\u001b[0m: \u001b[1;36m162\u001b[0m,\n",
              "                    \u001b[32m'output_tokens'\u001b[0m: \u001b[1;36m56\u001b[0m,\n",
              "                    \u001b[32m'total_tokens'\u001b[0m: \u001b[1;36m218\u001b[0m,\n",
              "                    \u001b[32m'input_token_details'\u001b[0m: \u001b[1m{\u001b[0m\u001b[32m'cache_read'\u001b[0m: \u001b[1;36m0\u001b[0m\u001b[1m}\u001b[0m,\n",
              "                    \u001b[32m'output_token_details'\u001b[0m: \u001b[1m{\u001b[0m\u001b[32m'reasoning'\u001b[0m: \u001b[1;36m32\u001b[0m\u001b[1m}\u001b[0m\n",
              "                \u001b[1m}\u001b[0m\n",
              "            \u001b[1m)\u001b[0m\n",
              "        \u001b[1m]\u001b[0m\n",
              "    \u001b[1m}\u001b[0m,\n",
              "    \u001b[33mnext\u001b[0m=\u001b[1m(\u001b[0m\u001b[1m)\u001b[0m,\n",
              "    \u001b[33mconfig\u001b[0m=\u001b[1m{\u001b[0m\n",
              "        \u001b[32m'configurable'\u001b[0m: \u001b[1m{\u001b[0m\n",
              "            \u001b[32m'thread_id'\u001b[0m: \u001b[32m'1'\u001b[0m,\n",
              "            \u001b[32m'checkpoint_ns'\u001b[0m: \u001b[32m''\u001b[0m,\n",
              "            \u001b[32m'checkpoint_id'\u001b[0m: \u001b[32m'1f0b22d1-4119-683f-8004-fca6b4896704'\u001b[0m\n",
              "        \u001b[1m}\u001b[0m\n",
              "    \u001b[1m}\u001b[0m,\n",
              "    \u001b[33mmetadata\u001b[0m=\u001b[1m{\u001b[0m\u001b[32m'source'\u001b[0m: \u001b[32m'loop'\u001b[0m, \u001b[32m'step'\u001b[0m: \u001b[1;36m4\u001b[0m, \u001b[32m'parents'\u001b[0m: \u001b[1m{\u001b[0m\u001b[1m}\u001b[0m\u001b[1m}\u001b[0m,\n",
              "    \u001b[33mcreated_at\u001b[0m=\u001b[32m'2025-10-26T05:31:52.845508+00:00'\u001b[0m,\n",
              "    \u001b[33mparent_config\u001b[0m=\u001b[1m{\u001b[0m\n",
              "        \u001b[32m'configurable'\u001b[0m: \u001b[1m{\u001b[0m\n",
              "            \u001b[32m'thread_id'\u001b[0m: \u001b[32m'1'\u001b[0m,\n",
              "            \u001b[32m'checkpoint_ns'\u001b[0m: \u001b[32m''\u001b[0m,\n",
              "            \u001b[32m'checkpoint_id'\u001b[0m: \u001b[32m'1f0b22d1-2b78-6bfd-8003-65870c86f054'\u001b[0m\n",
              "        \u001b[1m}\u001b[0m\n",
              "    \u001b[1m}\u001b[0m,\n",
              "    \u001b[33mtasks\u001b[0m=\u001b[1m(\u001b[0m\u001b[1m)\u001b[0m,\n",
              "    \u001b[33minterrupts\u001b[0m=\u001b[1m(\u001b[0m\u001b[1m)\u001b[0m\n",
              "\u001b[1m)\u001b[0m\n"
            ]
          },
          "metadata": {},
          "output_type": "display_data"
        }
      ],
      "source": [
        "from rich import print as rprint\n",
        "config = {\"configurable\": {\"thread_id\": \"1\"}}\n",
        "\n",
        "rprint(graph.get_state(config))"
      ]
    },
    {
      "cell_type": "markdown",
      "metadata": {
        "id": "bA92cncuc_YQ"
      },
      "source": [
        "`get_state_history()`는 전체 스냅샷 목록을 순서대로 보여줍니다."
      ]
    },
    {
      "cell_type": "code",
      "execution_count": 10,
      "metadata": {
        "colab": {
          "base_uri": "https://localhost:8080/"
        },
        "id": "mr0tKxaJc_YQ",
        "outputId": "4b54c110-7f34-43ef-c2fe-79c50e302f6c"
      },
      "outputs": [
        {
          "data": {
            "text/plain": [
              "[StateSnapshot(values={'messages': [HumanMessage(content='안녕, 나는 랭그래프 공부중이야', additional_kwargs={}, response_metadata={}, id='0b32bb3b-5086-4272-bf59-6336cf388f8d'), AIMessage(content='안녕하세요! 랭그래프(LangGraph)를 공부하고 계시는군요! 정말 흥미롭고 유용한 라이브러리죠.\\n\\n어떤 부분에 대해 궁금하신가요?\\n\\n*   랭그래프의 기본 개념\\n*   상태(State)와 노드(Node), 엣지(Edge)\\n*   다양한 그래프 구성 방식 (선형, 조건부 로직 등)\\n*   에이전트(Agent) 구현\\n*   특정 예제나 사용 사례\\n*   어려움을 겪고 있는 부분\\n\\n어떤 질문이든 편하게 해주세요! 아는 범위 내에서 최대한 도와드리겠습니다. 😊', additional_kwargs={}, response_metadata={'prompt_feedback': {'block_reason': 0, 'safety_ratings': []}, 'finish_reason': 'STOP', 'model_name': 'gemini-2.5-flash', 'safety_ratings': []}, id='run--393f660d-2e9e-4993-9150-262bab3478e6-0', usage_metadata={'input_tokens': 12, 'output_tokens': 644, 'total_tokens': 656, 'input_token_details': {'cache_read': 0}, 'output_token_details': {'reasoning': 501}}), HumanMessage(content='내가 뭐라고 했지?', additional_kwargs={}, response_metadata={}, id='b37898ed-ec49-4e25-b168-35243b797598'), AIMessage(content='네, **\"안녕, 나는 랭그래프 공부중이야\"** 라고 말씀하셨습니다. 😊', additional_kwargs={}, response_metadata={'prompt_feedback': {'block_reason': 0, 'safety_ratings': []}, 'finish_reason': 'STOP', 'model_name': 'gemini-2.5-flash', 'safety_ratings': []}, id='run--c834a92e-520f-4c3d-a978-16d6392f191f-0', usage_metadata={'input_tokens': 162, 'output_tokens': 56, 'total_tokens': 218, 'input_token_details': {'cache_read': 0}, 'output_token_details': {'reasoning': 32}})]}, next=(), config={'configurable': {'thread_id': '1', 'checkpoint_ns': '', 'checkpoint_id': '1f0b22d1-4119-683f-8004-fca6b4896704'}}, metadata={'source': 'loop', 'step': 4, 'parents': {}}, created_at='2025-10-26T05:31:52.845508+00:00', parent_config={'configurable': {'thread_id': '1', 'checkpoint_ns': '', 'checkpoint_id': '1f0b22d1-2b78-6bfd-8003-65870c86f054'}}, tasks=(), interrupts=()),\n",
              " StateSnapshot(values={'messages': [HumanMessage(content='안녕, 나는 랭그래프 공부중이야', additional_kwargs={}, response_metadata={}, id='0b32bb3b-5086-4272-bf59-6336cf388f8d'), AIMessage(content='안녕하세요! 랭그래프(LangGraph)를 공부하고 계시는군요! 정말 흥미롭고 유용한 라이브러리죠.\\n\\n어떤 부분에 대해 궁금하신가요?\\n\\n*   랭그래프의 기본 개념\\n*   상태(State)와 노드(Node), 엣지(Edge)\\n*   다양한 그래프 구성 방식 (선형, 조건부 로직 등)\\n*   에이전트(Agent) 구현\\n*   특정 예제나 사용 사례\\n*   어려움을 겪고 있는 부분\\n\\n어떤 질문이든 편하게 해주세요! 아는 범위 내에서 최대한 도와드리겠습니다. 😊', additional_kwargs={}, response_metadata={'prompt_feedback': {'block_reason': 0, 'safety_ratings': []}, 'finish_reason': 'STOP', 'model_name': 'gemini-2.5-flash', 'safety_ratings': []}, id='run--393f660d-2e9e-4993-9150-262bab3478e6-0', usage_metadata={'input_tokens': 12, 'output_tokens': 644, 'total_tokens': 656, 'input_token_details': {'cache_read': 0}, 'output_token_details': {'reasoning': 501}}), HumanMessage(content='내가 뭐라고 했지?', additional_kwargs={}, response_metadata={}, id='b37898ed-ec49-4e25-b168-35243b797598')]}, next=('call_model',), config={'configurable': {'thread_id': '1', 'checkpoint_ns': '', 'checkpoint_id': '1f0b22d1-2b78-6bfd-8003-65870c86f054'}}, metadata={'source': 'loop', 'step': 3, 'parents': {}}, created_at='2025-10-26T05:31:50.577644+00:00', parent_config={'configurable': {'thread_id': '1', 'checkpoint_ns': '', 'checkpoint_id': '1f0b22d1-2b73-6a2c-8002-0bb8839c1b6e'}}, tasks=(PregelTask(id='42c98c76-7249-f384-f2c1-1a2afcf6689e', name='call_model', path=('__pregel_pull', 'call_model'), error=None, interrupts=(), state=None, result={'messages': AIMessage(content='네, **\"안녕, 나는 랭그래프 공부중이야\"** 라고 말씀하셨습니다. 😊', additional_kwargs={}, response_metadata={'prompt_feedback': {'block_reason': 0, 'safety_ratings': []}, 'finish_reason': 'STOP', 'model_name': 'gemini-2.5-flash', 'safety_ratings': []}, id='run--c834a92e-520f-4c3d-a978-16d6392f191f-0', usage_metadata={'input_tokens': 162, 'output_tokens': 56, 'total_tokens': 218, 'input_token_details': {'cache_read': 0}, 'output_token_details': {'reasoning': 32}})}),), interrupts=()),\n",
              " StateSnapshot(values={'messages': [HumanMessage(content='안녕, 나는 랭그래프 공부중이야', additional_kwargs={}, response_metadata={}, id='0b32bb3b-5086-4272-bf59-6336cf388f8d'), AIMessage(content='안녕하세요! 랭그래프(LangGraph)를 공부하고 계시는군요! 정말 흥미롭고 유용한 라이브러리죠.\\n\\n어떤 부분에 대해 궁금하신가요?\\n\\n*   랭그래프의 기본 개념\\n*   상태(State)와 노드(Node), 엣지(Edge)\\n*   다양한 그래프 구성 방식 (선형, 조건부 로직 등)\\n*   에이전트(Agent) 구현\\n*   특정 예제나 사용 사례\\n*   어려움을 겪고 있는 부분\\n\\n어떤 질문이든 편하게 해주세요! 아는 범위 내에서 최대한 도와드리겠습니다. 😊', additional_kwargs={}, response_metadata={'prompt_feedback': {'block_reason': 0, 'safety_ratings': []}, 'finish_reason': 'STOP', 'model_name': 'gemini-2.5-flash', 'safety_ratings': []}, id='run--393f660d-2e9e-4993-9150-262bab3478e6-0', usage_metadata={'input_tokens': 12, 'output_tokens': 644, 'total_tokens': 656, 'input_token_details': {'cache_read': 0}, 'output_token_details': {'reasoning': 501}})]}, next=('__start__',), config={'configurable': {'thread_id': '1', 'checkpoint_ns': '', 'checkpoint_id': '1f0b22d1-2b73-6a2c-8002-0bb8839c1b6e'}}, metadata={'source': 'input', 'step': 2, 'parents': {}}, created_at='2025-10-26T05:31:50.575552+00:00', parent_config={'configurable': {'thread_id': '1', 'checkpoint_ns': '', 'checkpoint_id': '1f0b22d1-2b5c-66d8-8001-04d487a0728e'}}, tasks=(PregelTask(id='679f8cbc-c985-341e-e907-09dd684bb4c5', name='__start__', path=('__pregel_pull', '__start__'), error=None, interrupts=(), state=None, result={'messages': [{'role': 'user', 'content': '내가 뭐라고 했지?'}]}),), interrupts=()),\n",
              " StateSnapshot(values={'messages': [HumanMessage(content='안녕, 나는 랭그래프 공부중이야', additional_kwargs={}, response_metadata={}, id='0b32bb3b-5086-4272-bf59-6336cf388f8d'), AIMessage(content='안녕하세요! 랭그래프(LangGraph)를 공부하고 계시는군요! 정말 흥미롭고 유용한 라이브러리죠.\\n\\n어떤 부분에 대해 궁금하신가요?\\n\\n*   랭그래프의 기본 개념\\n*   상태(State)와 노드(Node), 엣지(Edge)\\n*   다양한 그래프 구성 방식 (선형, 조건부 로직 등)\\n*   에이전트(Agent) 구현\\n*   특정 예제나 사용 사례\\n*   어려움을 겪고 있는 부분\\n\\n어떤 질문이든 편하게 해주세요! 아는 범위 내에서 최대한 도와드리겠습니다. 😊', additional_kwargs={}, response_metadata={'prompt_feedback': {'block_reason': 0, 'safety_ratings': []}, 'finish_reason': 'STOP', 'model_name': 'gemini-2.5-flash', 'safety_ratings': []}, id='run--393f660d-2e9e-4993-9150-262bab3478e6-0', usage_metadata={'input_tokens': 12, 'output_tokens': 644, 'total_tokens': 656, 'input_token_details': {'cache_read': 0}, 'output_token_details': {'reasoning': 501}})]}, next=(), config={'configurable': {'thread_id': '1', 'checkpoint_ns': '', 'checkpoint_id': '1f0b22d1-2b5c-66d8-8001-04d487a0728e'}}, metadata={'source': 'loop', 'step': 1, 'parents': {}}, created_at='2025-10-26T05:31:50.566049+00:00', parent_config={'configurable': {'thread_id': '1', 'checkpoint_ns': '', 'checkpoint_id': '1f0b22d0-c86e-6dd9-8000-5043d4825f1a'}}, tasks=(), interrupts=()),\n",
              " StateSnapshot(values={'messages': [HumanMessage(content='안녕, 나는 랭그래프 공부중이야', additional_kwargs={}, response_metadata={}, id='0b32bb3b-5086-4272-bf59-6336cf388f8d')]}, next=('call_model',), config={'configurable': {'thread_id': '1', 'checkpoint_ns': '', 'checkpoint_id': '1f0b22d0-c86e-6dd9-8000-5043d4825f1a'}}, metadata={'source': 'loop', 'step': 0, 'parents': {}}, created_at='2025-10-26T05:31:40.192692+00:00', parent_config={'configurable': {'thread_id': '1', 'checkpoint_ns': '', 'checkpoint_id': '1f0b22d0-c86b-6b15-bfff-867073a4ab1f'}}, tasks=(PregelTask(id='7ae2062a-e6ef-b9be-d3f1-aa8412798a13', name='call_model', path=('__pregel_pull', 'call_model'), error=None, interrupts=(), state=None, result={'messages': AIMessage(content='안녕하세요! 랭그래프(LangGraph)를 공부하고 계시는군요! 정말 흥미롭고 유용한 라이브러리죠.\\n\\n어떤 부분에 대해 궁금하신가요?\\n\\n*   랭그래프의 기본 개념\\n*   상태(State)와 노드(Node), 엣지(Edge)\\n*   다양한 그래프 구성 방식 (선형, 조건부 로직 등)\\n*   에이전트(Agent) 구현\\n*   특정 예제나 사용 사례\\n*   어려움을 겪고 있는 부분\\n\\n어떤 질문이든 편하게 해주세요! 아는 범위 내에서 최대한 도와드리겠습니다. 😊', additional_kwargs={}, response_metadata={'prompt_feedback': {'block_reason': 0, 'safety_ratings': []}, 'finish_reason': 'STOP', 'model_name': 'gemini-2.5-flash', 'safety_ratings': []}, id='run--393f660d-2e9e-4993-9150-262bab3478e6-0', usage_metadata={'input_tokens': 12, 'output_tokens': 644, 'total_tokens': 656, 'input_token_details': {'cache_read': 0}, 'output_token_details': {'reasoning': 501}})}),), interrupts=()),\n",
              " StateSnapshot(values={'messages': []}, next=('__start__',), config={'configurable': {'thread_id': '1', 'checkpoint_ns': '', 'checkpoint_id': '1f0b22d0-c86b-6b15-bfff-867073a4ab1f'}}, metadata={'source': 'input', 'step': -1, 'parents': {}}, created_at='2025-10-26T05:31:40.191396+00:00', parent_config=None, tasks=(PregelTask(id='a58b93b5-4af0-6e22-f305-fae7cd5fbbcf', name='__start__', path=('__pregel_pull', '__start__'), error=None, interrupts=(), state=None, result={'messages': [HumanMessage(content='안녕, 나는 랭그래프 공부중이야', additional_kwargs={}, response_metadata={})]}),), interrupts=())]"
            ]
          },
          "execution_count": 10,
          "metadata": {},
          "output_type": "execute_result"
        }
      ],
      "source": [
        "history = list(graph.get_state_history(config))\n",
        "history"
      ]
    },
    {
      "cell_type": "code",
      "execution_count": 11,
      "metadata": {
        "colab": {
          "base_uri": "https://localhost:8080/"
        },
        "id": "qzzjFMpKc_YQ",
        "outputId": "f5a744f4-8a2e-48ba-b9f6-05ab27049cfc"
      },
      "outputs": [
        {
          "name": "stdout",
          "output_type": "stream",
          "text": [
            "{'configurable': {'thread_id': '1', 'checkpoint_ns': '', 'checkpoint_id': '1f0b22d1-4119-683f-8004-fca6b4896704'}} 4\n",
            "{'configurable': {'thread_id': '1', 'checkpoint_ns': '', 'checkpoint_id': '1f0b22d1-2b78-6bfd-8003-65870c86f054'}} 3\n",
            "{'configurable': {'thread_id': '1', 'checkpoint_ns': '', 'checkpoint_id': '1f0b22d1-2b73-6a2c-8002-0bb8839c1b6e'}} 2\n",
            "{'configurable': {'thread_id': '1', 'checkpoint_ns': '', 'checkpoint_id': '1f0b22d1-2b5c-66d8-8001-04d487a0728e'}} 2\n",
            "{'configurable': {'thread_id': '1', 'checkpoint_ns': '', 'checkpoint_id': '1f0b22d0-c86e-6dd9-8000-5043d4825f1a'}} 1\n",
            "{'configurable': {'thread_id': '1', 'checkpoint_ns': '', 'checkpoint_id': '1f0b22d0-c86b-6b15-bfff-867073a4ab1f'}} 0\n"
          ]
        }
      ],
      "source": [
        "for i in range(len(history)):\n",
        "    print(history[i].config, len(history[i].values['messages']))\n",
        "    # 메시지 개수와 config 정보"
      ]
    },
    {
      "cell_type": "markdown",
      "metadata": {
        "id": "AaT5t16hc_YQ"
      },
      "source": [
        "## Replay\n",
        "\n",
        "위에서 얻은 Snapshot을 활용하면, 특정 시점부터 시작하는 것도 가능합니다.   "
      ]
    },
    {
      "cell_type": "code",
      "execution_count": 12,
      "metadata": {
        "colab": {
          "base_uri": "https://localhost:8080/"
        },
        "id": "0cB4KuZnc_YQ",
        "outputId": "b0f708ad-67b2-4a21-c08c-3124aa1ec31b"
      },
      "outputs": [
        {
          "data": {
            "text/plain": [
              "{'messages': [HumanMessage(content='안녕, 나는 랭그래프 공부중이야', additional_kwargs={}, response_metadata={}, id='0b32bb3b-5086-4272-bf59-6336cf388f8d'),\n",
              "  AIMessage(content='안녕하세요! 랭그래프(LangGraph)를 공부하고 계시는군요! 정말 흥미롭고 유용한 라이브러리죠.\\n\\n어떤 부분에 대해 궁금하신가요?\\n\\n*   랭그래프의 기본 개념\\n*   상태(State)와 노드(Node), 엣지(Edge)\\n*   다양한 그래프 구성 방식 (선형, 조건부 로직 등)\\n*   에이전트(Agent) 구현\\n*   특정 예제나 사용 사례\\n*   어려움을 겪고 있는 부분\\n\\n어떤 질문이든 편하게 해주세요! 아는 범위 내에서 최대한 도와드리겠습니다. 😊', additional_kwargs={}, response_metadata={'prompt_feedback': {'block_reason': 0, 'safety_ratings': []}, 'finish_reason': 'STOP', 'model_name': 'gemini-2.5-flash', 'safety_ratings': []}, id='run--393f660d-2e9e-4993-9150-262bab3478e6-0', usage_metadata={'input_tokens': 12, 'output_tokens': 644, 'total_tokens': 656, 'input_token_details': {'cache_read': 0}, 'output_token_details': {'reasoning': 501}}),\n",
              "  HumanMessage(content='내가 뭐라고 했지?', additional_kwargs={}, response_metadata={}, id='b37898ed-ec49-4e25-b168-35243b797598')]}"
            ]
          },
          "execution_count": 12,
          "metadata": {},
          "output_type": "execute_result"
        }
      ],
      "source": [
        "history[1].values"
      ]
    },
    {
      "cell_type": "markdown",
      "metadata": {
        "id": "ALUgDC5Uc_YQ"
      },
      "source": [
        "HumanMessage의 특정 시점부터 재시작합니다."
      ]
    },
    {
      "cell_type": "code",
      "execution_count": 13,
      "metadata": {
        "colab": {
          "base_uri": "https://localhost:8080/"
        },
        "id": "alid1Crjc_YQ",
        "outputId": "60bc4a79-b802-42fb-ac03-657c6670f259"
      },
      "outputs": [
        {
          "data": {
            "text/plain": [
              "{'messages': [HumanMessage(content='안녕, 나는 랭그래프 공부중이야', additional_kwargs={}, response_metadata={}, id='0b32bb3b-5086-4272-bf59-6336cf388f8d'),\n",
              "  AIMessage(content='안녕하세요! 랭그래프(LangGraph)를 공부하고 계시는군요! 정말 흥미롭고 유용한 라이브러리죠.\\n\\n어떤 부분에 대해 궁금하신가요?\\n\\n*   랭그래프의 기본 개념\\n*   상태(State)와 노드(Node), 엣지(Edge)\\n*   다양한 그래프 구성 방식 (선형, 조건부 로직 등)\\n*   에이전트(Agent) 구현\\n*   특정 예제나 사용 사례\\n*   어려움을 겪고 있는 부분\\n\\n어떤 질문이든 편하게 해주세요! 아는 범위 내에서 최대한 도와드리겠습니다. 😊', additional_kwargs={}, response_metadata={'prompt_feedback': {'block_reason': 0, 'safety_ratings': []}, 'finish_reason': 'STOP', 'model_name': 'gemini-2.5-flash', 'safety_ratings': []}, id='run--393f660d-2e9e-4993-9150-262bab3478e6-0', usage_metadata={'input_tokens': 12, 'output_tokens': 644, 'total_tokens': 656, 'input_token_details': {'cache_read': 0}, 'output_token_details': {'reasoning': 501}}),\n",
              "  HumanMessage(content='내가 뭐라고 했지?', additional_kwargs={}, response_metadata={}, id='b37898ed-ec49-4e25-b168-35243b797598'),\n",
              "  AIMessage(content='네, 당신은 **\"안녕, 나는 랭그래프 공부중이야\"** 라고 말씀하셨습니다. 😊', additional_kwargs={}, response_metadata={'prompt_feedback': {'block_reason': 0, 'safety_ratings': []}, 'finish_reason': 'STOP', 'model_name': 'gemini-2.5-flash', 'safety_ratings': []}, id='run--401472a0-0498-4cbb-ace2-7340ec0a7815-0', usage_metadata={'input_tokens': 162, 'output_tokens': 121, 'total_tokens': 283, 'input_token_details': {'cache_read': 0}, 'output_token_details': {'reasoning': 95}})]}"
            ]
          },
          "execution_count": 13,
          "metadata": {},
          "output_type": "execute_result"
        }
      ],
      "source": [
        "graph.invoke(None, config = history[1].config)"
      ]
    },
    {
      "cell_type": "markdown",
      "metadata": {
        "id": "ciIXhCwec_YQ"
      },
      "source": [
        "Replay를 수행하면, graph의 history에는 해당 실행 결과가 추가됩니다."
      ]
    },
    {
      "cell_type": "code",
      "execution_count": 14,
      "metadata": {
        "colab": {
          "base_uri": "https://localhost:8080/"
        },
        "id": "V2TlIIYkc_YQ",
        "outputId": "8f7847d3-8844-48d3-b671-57f72ad30ae8"
      },
      "outputs": [
        {
          "data": {
            "text/plain": [
              "[StateSnapshot(values={'messages': [HumanMessage(content='안녕, 나는 랭그래프 공부중이야', additional_kwargs={}, response_metadata={}, id='0b32bb3b-5086-4272-bf59-6336cf388f8d'), AIMessage(content='안녕하세요! 랭그래프(LangGraph)를 공부하고 계시는군요! 정말 흥미롭고 유용한 라이브러리죠.\\n\\n어떤 부분에 대해 궁금하신가요?\\n\\n*   랭그래프의 기본 개념\\n*   상태(State)와 노드(Node), 엣지(Edge)\\n*   다양한 그래프 구성 방식 (선형, 조건부 로직 등)\\n*   에이전트(Agent) 구현\\n*   특정 예제나 사용 사례\\n*   어려움을 겪고 있는 부분\\n\\n어떤 질문이든 편하게 해주세요! 아는 범위 내에서 최대한 도와드리겠습니다. 😊', additional_kwargs={}, response_metadata={'prompt_feedback': {'block_reason': 0, 'safety_ratings': []}, 'finish_reason': 'STOP', 'model_name': 'gemini-2.5-flash', 'safety_ratings': []}, id='run--393f660d-2e9e-4993-9150-262bab3478e6-0', usage_metadata={'input_tokens': 12, 'output_tokens': 644, 'total_tokens': 656, 'input_token_details': {'cache_read': 0}, 'output_token_details': {'reasoning': 501}}), HumanMessage(content='내가 뭐라고 했지?', additional_kwargs={}, response_metadata={}, id='b37898ed-ec49-4e25-b168-35243b797598'), AIMessage(content='네, 당신은 **\"안녕, 나는 랭그래프 공부중이야\"** 라고 말씀하셨습니다. 😊', additional_kwargs={}, response_metadata={'prompt_feedback': {'block_reason': 0, 'safety_ratings': []}, 'finish_reason': 'STOP', 'model_name': 'gemini-2.5-flash', 'safety_ratings': []}, id='run--401472a0-0498-4cbb-ace2-7340ec0a7815-0', usage_metadata={'input_tokens': 162, 'output_tokens': 121, 'total_tokens': 283, 'input_token_details': {'cache_read': 0}, 'output_token_details': {'reasoning': 95}})]}, next=(), config={'configurable': {'thread_id': '1', 'checkpoint_ns': '', 'checkpoint_id': '1f0b22d1-bd08-6fe6-8004-6673c712daba'}}, metadata={'source': 'loop', 'step': 4, 'parents': {}}, created_at='2025-10-26T05:32:05.841079+00:00', parent_config={'configurable': {'thread_id': '1', 'checkpoint_ns': '', 'checkpoint_id': '1f0b22d1-2b78-6bfd-8003-65870c86f054'}}, tasks=(), interrupts=()),\n",
              " StateSnapshot(values={'messages': [HumanMessage(content='안녕, 나는 랭그래프 공부중이야', additional_kwargs={}, response_metadata={}, id='0b32bb3b-5086-4272-bf59-6336cf388f8d'), AIMessage(content='안녕하세요! 랭그래프(LangGraph)를 공부하고 계시는군요! 정말 흥미롭고 유용한 라이브러리죠.\\n\\n어떤 부분에 대해 궁금하신가요?\\n\\n*   랭그래프의 기본 개념\\n*   상태(State)와 노드(Node), 엣지(Edge)\\n*   다양한 그래프 구성 방식 (선형, 조건부 로직 등)\\n*   에이전트(Agent) 구현\\n*   특정 예제나 사용 사례\\n*   어려움을 겪고 있는 부분\\n\\n어떤 질문이든 편하게 해주세요! 아는 범위 내에서 최대한 도와드리겠습니다. 😊', additional_kwargs={}, response_metadata={'prompt_feedback': {'block_reason': 0, 'safety_ratings': []}, 'finish_reason': 'STOP', 'model_name': 'gemini-2.5-flash', 'safety_ratings': []}, id='run--393f660d-2e9e-4993-9150-262bab3478e6-0', usage_metadata={'input_tokens': 12, 'output_tokens': 644, 'total_tokens': 656, 'input_token_details': {'cache_read': 0}, 'output_token_details': {'reasoning': 501}}), HumanMessage(content='내가 뭐라고 했지?', additional_kwargs={}, response_metadata={}, id='b37898ed-ec49-4e25-b168-35243b797598'), AIMessage(content='네, **\"안녕, 나는 랭그래프 공부중이야\"** 라고 말씀하셨습니다. 😊', additional_kwargs={}, response_metadata={'prompt_feedback': {'block_reason': 0, 'safety_ratings': []}, 'finish_reason': 'STOP', 'model_name': 'gemini-2.5-flash', 'safety_ratings': []}, id='run--c834a92e-520f-4c3d-a978-16d6392f191f-0', usage_metadata={'input_tokens': 162, 'output_tokens': 56, 'total_tokens': 218, 'input_token_details': {'cache_read': 0}, 'output_token_details': {'reasoning': 32}})]}, next=(), config={'configurable': {'thread_id': '1', 'checkpoint_ns': '', 'checkpoint_id': '1f0b22d1-4119-683f-8004-fca6b4896704'}}, metadata={'source': 'loop', 'step': 4, 'parents': {}}, created_at='2025-10-26T05:31:52.845508+00:00', parent_config={'configurable': {'thread_id': '1', 'checkpoint_ns': '', 'checkpoint_id': '1f0b22d1-2b78-6bfd-8003-65870c86f054'}}, tasks=(), interrupts=()),\n",
              " StateSnapshot(values={'messages': [HumanMessage(content='안녕, 나는 랭그래프 공부중이야', additional_kwargs={}, response_metadata={}, id='0b32bb3b-5086-4272-bf59-6336cf388f8d'), AIMessage(content='안녕하세요! 랭그래프(LangGraph)를 공부하고 계시는군요! 정말 흥미롭고 유용한 라이브러리죠.\\n\\n어떤 부분에 대해 궁금하신가요?\\n\\n*   랭그래프의 기본 개념\\n*   상태(State)와 노드(Node), 엣지(Edge)\\n*   다양한 그래프 구성 방식 (선형, 조건부 로직 등)\\n*   에이전트(Agent) 구현\\n*   특정 예제나 사용 사례\\n*   어려움을 겪고 있는 부분\\n\\n어떤 질문이든 편하게 해주세요! 아는 범위 내에서 최대한 도와드리겠습니다. 😊', additional_kwargs={}, response_metadata={'prompt_feedback': {'block_reason': 0, 'safety_ratings': []}, 'finish_reason': 'STOP', 'model_name': 'gemini-2.5-flash', 'safety_ratings': []}, id='run--393f660d-2e9e-4993-9150-262bab3478e6-0', usage_metadata={'input_tokens': 12, 'output_tokens': 644, 'total_tokens': 656, 'input_token_details': {'cache_read': 0}, 'output_token_details': {'reasoning': 501}}), HumanMessage(content='내가 뭐라고 했지?', additional_kwargs={}, response_metadata={}, id='b37898ed-ec49-4e25-b168-35243b797598')]}, next=('call_model',), config={'configurable': {'thread_id': '1', 'checkpoint_ns': '', 'checkpoint_id': '1f0b22d1-2b78-6bfd-8003-65870c86f054'}}, metadata={'source': 'loop', 'step': 3, 'parents': {}}, created_at='2025-10-26T05:31:50.577644+00:00', parent_config={'configurable': {'thread_id': '1', 'checkpoint_ns': '', 'checkpoint_id': '1f0b22d1-2b73-6a2c-8002-0bb8839c1b6e'}}, tasks=(PregelTask(id='42c98c76-7249-f384-f2c1-1a2afcf6689e', name='call_model', path=('__pregel_pull', 'call_model'), error=None, interrupts=(), state=None, result={'messages': AIMessage(content='네, **\"안녕, 나는 랭그래프 공부중이야\"** 라고 말씀하셨습니다. 😊', additional_kwargs={}, response_metadata={'prompt_feedback': {'block_reason': 0, 'safety_ratings': []}, 'finish_reason': 'STOP', 'model_name': 'gemini-2.5-flash', 'safety_ratings': []}, id='run--c834a92e-520f-4c3d-a978-16d6392f191f-0', usage_metadata={'input_tokens': 162, 'output_tokens': 56, 'total_tokens': 218, 'input_token_details': {'cache_read': 0}, 'output_token_details': {'reasoning': 32}})}),), interrupts=()),\n",
              " StateSnapshot(values={'messages': [HumanMessage(content='안녕, 나는 랭그래프 공부중이야', additional_kwargs={}, response_metadata={}, id='0b32bb3b-5086-4272-bf59-6336cf388f8d'), AIMessage(content='안녕하세요! 랭그래프(LangGraph)를 공부하고 계시는군요! 정말 흥미롭고 유용한 라이브러리죠.\\n\\n어떤 부분에 대해 궁금하신가요?\\n\\n*   랭그래프의 기본 개념\\n*   상태(State)와 노드(Node), 엣지(Edge)\\n*   다양한 그래프 구성 방식 (선형, 조건부 로직 등)\\n*   에이전트(Agent) 구현\\n*   특정 예제나 사용 사례\\n*   어려움을 겪고 있는 부분\\n\\n어떤 질문이든 편하게 해주세요! 아는 범위 내에서 최대한 도와드리겠습니다. 😊', additional_kwargs={}, response_metadata={'prompt_feedback': {'block_reason': 0, 'safety_ratings': []}, 'finish_reason': 'STOP', 'model_name': 'gemini-2.5-flash', 'safety_ratings': []}, id='run--393f660d-2e9e-4993-9150-262bab3478e6-0', usage_metadata={'input_tokens': 12, 'output_tokens': 644, 'total_tokens': 656, 'input_token_details': {'cache_read': 0}, 'output_token_details': {'reasoning': 501}})]}, next=('__start__',), config={'configurable': {'thread_id': '1', 'checkpoint_ns': '', 'checkpoint_id': '1f0b22d1-2b73-6a2c-8002-0bb8839c1b6e'}}, metadata={'source': 'input', 'step': 2, 'parents': {}}, created_at='2025-10-26T05:31:50.575552+00:00', parent_config={'configurable': {'thread_id': '1', 'checkpoint_ns': '', 'checkpoint_id': '1f0b22d1-2b5c-66d8-8001-04d487a0728e'}}, tasks=(PregelTask(id='679f8cbc-c985-341e-e907-09dd684bb4c5', name='__start__', path=('__pregel_pull', '__start__'), error=None, interrupts=(), state=None, result={'messages': [{'role': 'user', 'content': '내가 뭐라고 했지?'}]}),), interrupts=()),\n",
              " StateSnapshot(values={'messages': [HumanMessage(content='안녕, 나는 랭그래프 공부중이야', additional_kwargs={}, response_metadata={}, id='0b32bb3b-5086-4272-bf59-6336cf388f8d'), AIMessage(content='안녕하세요! 랭그래프(LangGraph)를 공부하고 계시는군요! 정말 흥미롭고 유용한 라이브러리죠.\\n\\n어떤 부분에 대해 궁금하신가요?\\n\\n*   랭그래프의 기본 개념\\n*   상태(State)와 노드(Node), 엣지(Edge)\\n*   다양한 그래프 구성 방식 (선형, 조건부 로직 등)\\n*   에이전트(Agent) 구현\\n*   특정 예제나 사용 사례\\n*   어려움을 겪고 있는 부분\\n\\n어떤 질문이든 편하게 해주세요! 아는 범위 내에서 최대한 도와드리겠습니다. 😊', additional_kwargs={}, response_metadata={'prompt_feedback': {'block_reason': 0, 'safety_ratings': []}, 'finish_reason': 'STOP', 'model_name': 'gemini-2.5-flash', 'safety_ratings': []}, id='run--393f660d-2e9e-4993-9150-262bab3478e6-0', usage_metadata={'input_tokens': 12, 'output_tokens': 644, 'total_tokens': 656, 'input_token_details': {'cache_read': 0}, 'output_token_details': {'reasoning': 501}})]}, next=(), config={'configurable': {'thread_id': '1', 'checkpoint_ns': '', 'checkpoint_id': '1f0b22d1-2b5c-66d8-8001-04d487a0728e'}}, metadata={'source': 'loop', 'step': 1, 'parents': {}}, created_at='2025-10-26T05:31:50.566049+00:00', parent_config={'configurable': {'thread_id': '1', 'checkpoint_ns': '', 'checkpoint_id': '1f0b22d0-c86e-6dd9-8000-5043d4825f1a'}}, tasks=(), interrupts=()),\n",
              " StateSnapshot(values={'messages': [HumanMessage(content='안녕, 나는 랭그래프 공부중이야', additional_kwargs={}, response_metadata={}, id='0b32bb3b-5086-4272-bf59-6336cf388f8d')]}, next=('call_model',), config={'configurable': {'thread_id': '1', 'checkpoint_ns': '', 'checkpoint_id': '1f0b22d0-c86e-6dd9-8000-5043d4825f1a'}}, metadata={'source': 'loop', 'step': 0, 'parents': {}}, created_at='2025-10-26T05:31:40.192692+00:00', parent_config={'configurable': {'thread_id': '1', 'checkpoint_ns': '', 'checkpoint_id': '1f0b22d0-c86b-6b15-bfff-867073a4ab1f'}}, tasks=(PregelTask(id='7ae2062a-e6ef-b9be-d3f1-aa8412798a13', name='call_model', path=('__pregel_pull', 'call_model'), error=None, interrupts=(), state=None, result={'messages': AIMessage(content='안녕하세요! 랭그래프(LangGraph)를 공부하고 계시는군요! 정말 흥미롭고 유용한 라이브러리죠.\\n\\n어떤 부분에 대해 궁금하신가요?\\n\\n*   랭그래프의 기본 개념\\n*   상태(State)와 노드(Node), 엣지(Edge)\\n*   다양한 그래프 구성 방식 (선형, 조건부 로직 등)\\n*   에이전트(Agent) 구현\\n*   특정 예제나 사용 사례\\n*   어려움을 겪고 있는 부분\\n\\n어떤 질문이든 편하게 해주세요! 아는 범위 내에서 최대한 도와드리겠습니다. 😊', additional_kwargs={}, response_metadata={'prompt_feedback': {'block_reason': 0, 'safety_ratings': []}, 'finish_reason': 'STOP', 'model_name': 'gemini-2.5-flash', 'safety_ratings': []}, id='run--393f660d-2e9e-4993-9150-262bab3478e6-0', usage_metadata={'input_tokens': 12, 'output_tokens': 644, 'total_tokens': 656, 'input_token_details': {'cache_read': 0}, 'output_token_details': {'reasoning': 501}})}),), interrupts=()),\n",
              " StateSnapshot(values={'messages': []}, next=('__start__',), config={'configurable': {'thread_id': '1', 'checkpoint_ns': '', 'checkpoint_id': '1f0b22d0-c86b-6b15-bfff-867073a4ab1f'}}, metadata={'source': 'input', 'step': -1, 'parents': {}}, created_at='2025-10-26T05:31:40.191396+00:00', parent_config=None, tasks=(PregelTask(id='a58b93b5-4af0-6e22-f305-fae7cd5fbbcf', name='__start__', path=('__pregel_pull', '__start__'), error=None, interrupts=(), state=None, result={'messages': [HumanMessage(content='안녕, 나는 랭그래프 공부중이야', additional_kwargs={}, response_metadata={})]}),), interrupts=())]"
            ]
          },
          "execution_count": 14,
          "metadata": {},
          "output_type": "execute_result"
        }
      ],
      "source": [
        "history = list(graph.get_state_history(config))\n",
        "history"
      ]
    },
    {
      "cell_type": "markdown",
      "metadata": {
        "id": "vuZU4Yavc_YQ"
      },
      "source": [
        "특정 스냅샷의 값을 수정할 수도 있습니다. 이 경우, Reducer의 정의에 맞게 처리됩니다."
      ]
    },
    {
      "cell_type": "code",
      "execution_count": 15,
      "metadata": {
        "colab": {
          "base_uri": "https://localhost:8080/"
        },
        "id": "ElGs2TA-c_YQ",
        "outputId": "8048559b-0702-4e89-b385-f39c08e7e691"
      },
      "outputs": [
        {
          "data": {
            "text/plain": [
              "{'configurable': {'thread_id': '1',\n",
              "  'checkpoint_ns': '',\n",
              "  'checkpoint_id': '1f0b22d1-bd52-6980-8005-8f319649e8ce'}}"
            ]
          },
          "execution_count": 15,
          "metadata": {},
          "output_type": "execute_result"
        }
      ],
      "source": [
        "graph.update_state(config = history[0].config, values= {'messages':'저녁 뭐 먹을까?'})"
      ]
    },
    {
      "cell_type": "code",
      "execution_count": 16,
      "metadata": {
        "colab": {
          "base_uri": "https://localhost:8080/",
          "height": 1000
        },
        "id": "Td5Thpnbc_YQ",
        "outputId": "3ce6a1ab-bc78-47e2-c333-bcde11168e76"
      },
      "outputs": [
        {
          "data": {
            "text/html": [
              "<pre style=\"white-space:pre;overflow-x:auto;line-height:normal;font-family:Menlo,'DejaVu Sans Mono',consolas,'Courier New',monospace\"><span style=\"color: #800080; text-decoration-color: #800080; font-weight: bold\">StateSnapshot</span><span style=\"font-weight: bold\">(</span>\n",
              "    <span style=\"color: #808000; text-decoration-color: #808000\">values</span>=<span style=\"font-weight: bold\">{</span>\n",
              "        <span style=\"color: #008000; text-decoration-color: #008000\">'messages'</span>: <span style=\"font-weight: bold\">[</span>\n",
              "            <span style=\"color: #800080; text-decoration-color: #800080; font-weight: bold\">HumanMessage</span><span style=\"font-weight: bold\">(</span>\n",
              "                <span style=\"color: #808000; text-decoration-color: #808000\">content</span>=<span style=\"color: #008000; text-decoration-color: #008000\">'안녕, 나는 랭그래프 공부중이야'</span>,\n",
              "                <span style=\"color: #808000; text-decoration-color: #808000\">additional_kwargs</span>=<span style=\"font-weight: bold\">{}</span>,\n",
              "                <span style=\"color: #808000; text-decoration-color: #808000\">response_metadata</span>=<span style=\"font-weight: bold\">{}</span>,\n",
              "                <span style=\"color: #808000; text-decoration-color: #808000\">id</span>=<span style=\"color: #008000; text-decoration-color: #008000\">'0b32bb3b-5086-4272-bf59-6336cf388f8d'</span>\n",
              "            <span style=\"font-weight: bold\">)</span>,\n",
              "            <span style=\"color: #800080; text-decoration-color: #800080; font-weight: bold\">AIMessage</span><span style=\"font-weight: bold\">(</span>\n",
              "                <span style=\"color: #808000; text-decoration-color: #808000\">content</span>=<span style=\"color: #008000; text-decoration-color: #008000\">'안녕하세요! 랭그래프(LangGraph)를 공부하고 계시는군요! 정말 흥미롭고 유용한 </span>\n",
              "<span style=\"color: #008000; text-decoration-color: #008000\">라이브러리죠.\\n\\n어떤 부분에 대해 궁금하신가요?\\n\\n*   랭그래프의 기본 개념\\n*   상태(State)와 노드(Node), </span>\n",
              "<span style=\"color: #008000; text-decoration-color: #008000\">엣지(Edge)\\n*   다양한 그래프 구성 방식 (선형, 조건부 로직 등)\\n*   에이전트(Agent) 구현\\n*   특정 예제나 사용 </span>\n",
              "<span style=\"color: #008000; text-decoration-color: #008000\">사례\\n*   어려움을 겪고 있는 부분\\n\\n어떤 질문이든 편하게 해주세요! 아는 범위 내에서 최대한 도와드리겠습니다. 😊'</span>,\n",
              "                <span style=\"color: #808000; text-decoration-color: #808000\">additional_kwargs</span>=<span style=\"font-weight: bold\">{}</span>,\n",
              "                <span style=\"color: #808000; text-decoration-color: #808000\">response_metadata</span>=<span style=\"font-weight: bold\">{</span>\n",
              "                    <span style=\"color: #008000; text-decoration-color: #008000\">'prompt_feedback'</span>: <span style=\"font-weight: bold\">{</span><span style=\"color: #008000; text-decoration-color: #008000\">'block_reason'</span>: <span style=\"color: #008080; text-decoration-color: #008080; font-weight: bold\">0</span>, <span style=\"color: #008000; text-decoration-color: #008000\">'safety_ratings'</span>: <span style=\"font-weight: bold\">[]}</span>,\n",
              "                    <span style=\"color: #008000; text-decoration-color: #008000\">'finish_reason'</span>: <span style=\"color: #008000; text-decoration-color: #008000\">'STOP'</span>,\n",
              "                    <span style=\"color: #008000; text-decoration-color: #008000\">'model_name'</span>: <span style=\"color: #008000; text-decoration-color: #008000\">'gemini-2.5-flash'</span>,\n",
              "                    <span style=\"color: #008000; text-decoration-color: #008000\">'safety_ratings'</span>: <span style=\"font-weight: bold\">[]</span>\n",
              "                <span style=\"font-weight: bold\">}</span>,\n",
              "                <span style=\"color: #808000; text-decoration-color: #808000\">id</span>=<span style=\"color: #008000; text-decoration-color: #008000\">'run--393f660d-2e9e-4993-9150-262bab3478e6-0'</span>,\n",
              "                <span style=\"color: #808000; text-decoration-color: #808000\">usage_metadata</span>=<span style=\"font-weight: bold\">{</span>\n",
              "                    <span style=\"color: #008000; text-decoration-color: #008000\">'input_tokens'</span>: <span style=\"color: #008080; text-decoration-color: #008080; font-weight: bold\">12</span>,\n",
              "                    <span style=\"color: #008000; text-decoration-color: #008000\">'output_tokens'</span>: <span style=\"color: #008080; text-decoration-color: #008080; font-weight: bold\">644</span>,\n",
              "                    <span style=\"color: #008000; text-decoration-color: #008000\">'total_tokens'</span>: <span style=\"color: #008080; text-decoration-color: #008080; font-weight: bold\">656</span>,\n",
              "                    <span style=\"color: #008000; text-decoration-color: #008000\">'input_token_details'</span>: <span style=\"font-weight: bold\">{</span><span style=\"color: #008000; text-decoration-color: #008000\">'cache_read'</span>: <span style=\"color: #008080; text-decoration-color: #008080; font-weight: bold\">0</span><span style=\"font-weight: bold\">}</span>,\n",
              "                    <span style=\"color: #008000; text-decoration-color: #008000\">'output_token_details'</span>: <span style=\"font-weight: bold\">{</span><span style=\"color: #008000; text-decoration-color: #008000\">'reasoning'</span>: <span style=\"color: #008080; text-decoration-color: #008080; font-weight: bold\">501</span><span style=\"font-weight: bold\">}</span>\n",
              "                <span style=\"font-weight: bold\">}</span>\n",
              "            <span style=\"font-weight: bold\">)</span>,\n",
              "            <span style=\"color: #800080; text-decoration-color: #800080; font-weight: bold\">HumanMessage</span><span style=\"font-weight: bold\">(</span>\n",
              "                <span style=\"color: #808000; text-decoration-color: #808000\">content</span>=<span style=\"color: #008000; text-decoration-color: #008000\">'내가 뭐라고 했지?'</span>,\n",
              "                <span style=\"color: #808000; text-decoration-color: #808000\">additional_kwargs</span>=<span style=\"font-weight: bold\">{}</span>,\n",
              "                <span style=\"color: #808000; text-decoration-color: #808000\">response_metadata</span>=<span style=\"font-weight: bold\">{}</span>,\n",
              "                <span style=\"color: #808000; text-decoration-color: #808000\">id</span>=<span style=\"color: #008000; text-decoration-color: #008000\">'b37898ed-ec49-4e25-b168-35243b797598'</span>\n",
              "            <span style=\"font-weight: bold\">)</span>,\n",
              "            <span style=\"color: #800080; text-decoration-color: #800080; font-weight: bold\">AIMessage</span><span style=\"font-weight: bold\">(</span>\n",
              "                <span style=\"color: #808000; text-decoration-color: #808000\">content</span>=<span style=\"color: #008000; text-decoration-color: #008000\">'네, 당신은 **\"안녕, 나는 랭그래프 공부중이야\"** 라고 말씀하셨습니다. 😊'</span>,\n",
              "                <span style=\"color: #808000; text-decoration-color: #808000\">additional_kwargs</span>=<span style=\"font-weight: bold\">{}</span>,\n",
              "                <span style=\"color: #808000; text-decoration-color: #808000\">response_metadata</span>=<span style=\"font-weight: bold\">{</span>\n",
              "                    <span style=\"color: #008000; text-decoration-color: #008000\">'prompt_feedback'</span>: <span style=\"font-weight: bold\">{</span><span style=\"color: #008000; text-decoration-color: #008000\">'block_reason'</span>: <span style=\"color: #008080; text-decoration-color: #008080; font-weight: bold\">0</span>, <span style=\"color: #008000; text-decoration-color: #008000\">'safety_ratings'</span>: <span style=\"font-weight: bold\">[]}</span>,\n",
              "                    <span style=\"color: #008000; text-decoration-color: #008000\">'finish_reason'</span>: <span style=\"color: #008000; text-decoration-color: #008000\">'STOP'</span>,\n",
              "                    <span style=\"color: #008000; text-decoration-color: #008000\">'model_name'</span>: <span style=\"color: #008000; text-decoration-color: #008000\">'gemini-2.5-flash'</span>,\n",
              "                    <span style=\"color: #008000; text-decoration-color: #008000\">'safety_ratings'</span>: <span style=\"font-weight: bold\">[]</span>\n",
              "                <span style=\"font-weight: bold\">}</span>,\n",
              "                <span style=\"color: #808000; text-decoration-color: #808000\">id</span>=<span style=\"color: #008000; text-decoration-color: #008000\">'run--401472a0-0498-4cbb-ace2-7340ec0a7815-0'</span>,\n",
              "                <span style=\"color: #808000; text-decoration-color: #808000\">usage_metadata</span>=<span style=\"font-weight: bold\">{</span>\n",
              "                    <span style=\"color: #008000; text-decoration-color: #008000\">'input_tokens'</span>: <span style=\"color: #008080; text-decoration-color: #008080; font-weight: bold\">162</span>,\n",
              "                    <span style=\"color: #008000; text-decoration-color: #008000\">'output_tokens'</span>: <span style=\"color: #008080; text-decoration-color: #008080; font-weight: bold\">121</span>,\n",
              "                    <span style=\"color: #008000; text-decoration-color: #008000\">'total_tokens'</span>: <span style=\"color: #008080; text-decoration-color: #008080; font-weight: bold\">283</span>,\n",
              "                    <span style=\"color: #008000; text-decoration-color: #008000\">'input_token_details'</span>: <span style=\"font-weight: bold\">{</span><span style=\"color: #008000; text-decoration-color: #008000\">'cache_read'</span>: <span style=\"color: #008080; text-decoration-color: #008080; font-weight: bold\">0</span><span style=\"font-weight: bold\">}</span>,\n",
              "                    <span style=\"color: #008000; text-decoration-color: #008000\">'output_token_details'</span>: <span style=\"font-weight: bold\">{</span><span style=\"color: #008000; text-decoration-color: #008000\">'reasoning'</span>: <span style=\"color: #008080; text-decoration-color: #008080; font-weight: bold\">95</span><span style=\"font-weight: bold\">}</span>\n",
              "                <span style=\"font-weight: bold\">}</span>\n",
              "            <span style=\"font-weight: bold\">)</span>,\n",
              "            <span style=\"color: #800080; text-decoration-color: #800080; font-weight: bold\">HumanMessage</span><span style=\"font-weight: bold\">(</span>\n",
              "                <span style=\"color: #808000; text-decoration-color: #808000\">content</span>=<span style=\"color: #008000; text-decoration-color: #008000\">'저녁 뭐 먹을까?'</span>,\n",
              "                <span style=\"color: #808000; text-decoration-color: #808000\">additional_kwargs</span>=<span style=\"font-weight: bold\">{}</span>,\n",
              "                <span style=\"color: #808000; text-decoration-color: #808000\">response_metadata</span>=<span style=\"font-weight: bold\">{}</span>,\n",
              "                <span style=\"color: #808000; text-decoration-color: #808000\">id</span>=<span style=\"color: #008000; text-decoration-color: #008000\">'ae41e709-1047-43b6-9e3b-b6ad690a1289'</span>\n",
              "            <span style=\"font-weight: bold\">)</span>\n",
              "        <span style=\"font-weight: bold\">]</span>\n",
              "    <span style=\"font-weight: bold\">}</span>,\n",
              "    <span style=\"color: #808000; text-decoration-color: #808000\">next</span>=<span style=\"font-weight: bold\">()</span>,\n",
              "    <span style=\"color: #808000; text-decoration-color: #808000\">config</span>=<span style=\"font-weight: bold\">{</span>\n",
              "        <span style=\"color: #008000; text-decoration-color: #008000\">'configurable'</span>: <span style=\"font-weight: bold\">{</span>\n",
              "            <span style=\"color: #008000; text-decoration-color: #008000\">'thread_id'</span>: <span style=\"color: #008000; text-decoration-color: #008000\">'1'</span>,\n",
              "            <span style=\"color: #008000; text-decoration-color: #008000\">'checkpoint_ns'</span>: <span style=\"color: #008000; text-decoration-color: #008000\">''</span>,\n",
              "            <span style=\"color: #008000; text-decoration-color: #008000\">'checkpoint_id'</span>: <span style=\"color: #008000; text-decoration-color: #008000\">'1f0b22d1-bd52-6980-8005-8f319649e8ce'</span>\n",
              "        <span style=\"font-weight: bold\">}</span>\n",
              "    <span style=\"font-weight: bold\">}</span>,\n",
              "    <span style=\"color: #808000; text-decoration-color: #808000\">metadata</span>=<span style=\"font-weight: bold\">{</span><span style=\"color: #008000; text-decoration-color: #008000\">'source'</span>: <span style=\"color: #008000; text-decoration-color: #008000\">'update'</span>, <span style=\"color: #008000; text-decoration-color: #008000\">'step'</span>: <span style=\"color: #008080; text-decoration-color: #008080; font-weight: bold\">5</span>, <span style=\"color: #008000; text-decoration-color: #008000\">'parents'</span>: <span style=\"font-weight: bold\">{}}</span>,\n",
              "    <span style=\"color: #808000; text-decoration-color: #808000\">created_at</span>=<span style=\"color: #008000; text-decoration-color: #008000\">'2025-10-26T05:32:05.871227+00:00'</span>,\n",
              "    <span style=\"color: #808000; text-decoration-color: #808000\">parent_config</span>=<span style=\"font-weight: bold\">{</span>\n",
              "        <span style=\"color: #008000; text-decoration-color: #008000\">'configurable'</span>: <span style=\"font-weight: bold\">{</span>\n",
              "            <span style=\"color: #008000; text-decoration-color: #008000\">'thread_id'</span>: <span style=\"color: #008000; text-decoration-color: #008000\">'1'</span>,\n",
              "            <span style=\"color: #008000; text-decoration-color: #008000\">'checkpoint_ns'</span>: <span style=\"color: #008000; text-decoration-color: #008000\">''</span>,\n",
              "            <span style=\"color: #008000; text-decoration-color: #008000\">'checkpoint_id'</span>: <span style=\"color: #008000; text-decoration-color: #008000\">'1f0b22d1-bd08-6fe6-8004-6673c712daba'</span>\n",
              "        <span style=\"font-weight: bold\">}</span>\n",
              "    <span style=\"font-weight: bold\">}</span>,\n",
              "    <span style=\"color: #808000; text-decoration-color: #808000\">tasks</span>=<span style=\"font-weight: bold\">()</span>,\n",
              "    <span style=\"color: #808000; text-decoration-color: #808000\">interrupts</span>=<span style=\"font-weight: bold\">()</span>\n",
              "<span style=\"font-weight: bold\">)</span>\n",
              "</pre>\n"
            ],
            "text/plain": [
              "\u001b[1;35mStateSnapshot\u001b[0m\u001b[1m(\u001b[0m\n",
              "    \u001b[33mvalues\u001b[0m=\u001b[1m{\u001b[0m\n",
              "        \u001b[32m'messages'\u001b[0m: \u001b[1m[\u001b[0m\n",
              "            \u001b[1;35mHumanMessage\u001b[0m\u001b[1m(\u001b[0m\n",
              "                \u001b[33mcontent\u001b[0m=\u001b[32m'안녕, 나는 랭그래프 공부중이야'\u001b[0m,\n",
              "                \u001b[33madditional_kwargs\u001b[0m=\u001b[1m{\u001b[0m\u001b[1m}\u001b[0m,\n",
              "                \u001b[33mresponse_metadata\u001b[0m=\u001b[1m{\u001b[0m\u001b[1m}\u001b[0m,\n",
              "                \u001b[33mid\u001b[0m=\u001b[32m'0b32bb3b-5086-4272-bf59-6336cf388f8d'\u001b[0m\n",
              "            \u001b[1m)\u001b[0m,\n",
              "            \u001b[1;35mAIMessage\u001b[0m\u001b[1m(\u001b[0m\n",
              "                \u001b[33mcontent\u001b[0m=\u001b[32m'안녕하세요! 랭그래프\u001b[0m\u001b[32m(\u001b[0m\u001b[32mLangGraph\u001b[0m\u001b[32m)\u001b[0m\u001b[32m를 공부하고 계시는군요! 정말 흥미롭고 유용한 \u001b[0m\n",
              "\u001b[32m라이브러리죠.\\n\\n어떤 부분에 대해 궁금하신가요?\\n\\n*   랭그래프의 기본 개념\\n*   상태\u001b[0m\u001b[32m(\u001b[0m\u001b[32mState\u001b[0m\u001b[32m)\u001b[0m\u001b[32m와 노드\u001b[0m\u001b[32m(\u001b[0m\u001b[32mNode\u001b[0m\u001b[32m)\u001b[0m\u001b[32m, \u001b[0m\n",
              "\u001b[32m엣지\u001b[0m\u001b[32m(\u001b[0m\u001b[32mEdge\u001b[0m\u001b[32m)\u001b[0m\u001b[32m\\n*   다양한 그래프 구성 방식 \u001b[0m\u001b[32m(\u001b[0m\u001b[32m선형, 조건부 로직 등\u001b[0m\u001b[32m)\u001b[0m\u001b[32m\\n*   에이전트\u001b[0m\u001b[32m(\u001b[0m\u001b[32mAgent\u001b[0m\u001b[32m)\u001b[0m\u001b[32m 구현\\n*   특정 예제나 사용 \u001b[0m\n",
              "\u001b[32m사례\\n*   어려움을 겪고 있는 부분\\n\\n어떤 질문이든 편하게 해주세요! 아는 범위 내에서 최대한 도와드리겠습니다. 😊'\u001b[0m,\n",
              "                \u001b[33madditional_kwargs\u001b[0m=\u001b[1m{\u001b[0m\u001b[1m}\u001b[0m,\n",
              "                \u001b[33mresponse_metadata\u001b[0m=\u001b[1m{\u001b[0m\n",
              "                    \u001b[32m'prompt_feedback'\u001b[0m: \u001b[1m{\u001b[0m\u001b[32m'block_reason'\u001b[0m: \u001b[1;36m0\u001b[0m, \u001b[32m'safety_ratings'\u001b[0m: \u001b[1m[\u001b[0m\u001b[1m]\u001b[0m\u001b[1m}\u001b[0m,\n",
              "                    \u001b[32m'finish_reason'\u001b[0m: \u001b[32m'STOP'\u001b[0m,\n",
              "                    \u001b[32m'model_name'\u001b[0m: \u001b[32m'gemini-2.5-flash'\u001b[0m,\n",
              "                    \u001b[32m'safety_ratings'\u001b[0m: \u001b[1m[\u001b[0m\u001b[1m]\u001b[0m\n",
              "                \u001b[1m}\u001b[0m,\n",
              "                \u001b[33mid\u001b[0m=\u001b[32m'run--393f660d-2e9e-4993-9150-262bab3478e6-0'\u001b[0m,\n",
              "                \u001b[33musage_metadata\u001b[0m=\u001b[1m{\u001b[0m\n",
              "                    \u001b[32m'input_tokens'\u001b[0m: \u001b[1;36m12\u001b[0m,\n",
              "                    \u001b[32m'output_tokens'\u001b[0m: \u001b[1;36m644\u001b[0m,\n",
              "                    \u001b[32m'total_tokens'\u001b[0m: \u001b[1;36m656\u001b[0m,\n",
              "                    \u001b[32m'input_token_details'\u001b[0m: \u001b[1m{\u001b[0m\u001b[32m'cache_read'\u001b[0m: \u001b[1;36m0\u001b[0m\u001b[1m}\u001b[0m,\n",
              "                    \u001b[32m'output_token_details'\u001b[0m: \u001b[1m{\u001b[0m\u001b[32m'reasoning'\u001b[0m: \u001b[1;36m501\u001b[0m\u001b[1m}\u001b[0m\n",
              "                \u001b[1m}\u001b[0m\n",
              "            \u001b[1m)\u001b[0m,\n",
              "            \u001b[1;35mHumanMessage\u001b[0m\u001b[1m(\u001b[0m\n",
              "                \u001b[33mcontent\u001b[0m=\u001b[32m'내가 뭐라고 했지?'\u001b[0m,\n",
              "                \u001b[33madditional_kwargs\u001b[0m=\u001b[1m{\u001b[0m\u001b[1m}\u001b[0m,\n",
              "                \u001b[33mresponse_metadata\u001b[0m=\u001b[1m{\u001b[0m\u001b[1m}\u001b[0m,\n",
              "                \u001b[33mid\u001b[0m=\u001b[32m'b37898ed-ec49-4e25-b168-35243b797598'\u001b[0m\n",
              "            \u001b[1m)\u001b[0m,\n",
              "            \u001b[1;35mAIMessage\u001b[0m\u001b[1m(\u001b[0m\n",
              "                \u001b[33mcontent\u001b[0m=\u001b[32m'네, 당신은 **\"안녕, 나는 랭그래프 공부중이야\"** 라고 말씀하셨습니다. 😊'\u001b[0m,\n",
              "                \u001b[33madditional_kwargs\u001b[0m=\u001b[1m{\u001b[0m\u001b[1m}\u001b[0m,\n",
              "                \u001b[33mresponse_metadata\u001b[0m=\u001b[1m{\u001b[0m\n",
              "                    \u001b[32m'prompt_feedback'\u001b[0m: \u001b[1m{\u001b[0m\u001b[32m'block_reason'\u001b[0m: \u001b[1;36m0\u001b[0m, \u001b[32m'safety_ratings'\u001b[0m: \u001b[1m[\u001b[0m\u001b[1m]\u001b[0m\u001b[1m}\u001b[0m,\n",
              "                    \u001b[32m'finish_reason'\u001b[0m: \u001b[32m'STOP'\u001b[0m,\n",
              "                    \u001b[32m'model_name'\u001b[0m: \u001b[32m'gemini-2.5-flash'\u001b[0m,\n",
              "                    \u001b[32m'safety_ratings'\u001b[0m: \u001b[1m[\u001b[0m\u001b[1m]\u001b[0m\n",
              "                \u001b[1m}\u001b[0m,\n",
              "                \u001b[33mid\u001b[0m=\u001b[32m'run--401472a0-0498-4cbb-ace2-7340ec0a7815-0'\u001b[0m,\n",
              "                \u001b[33musage_metadata\u001b[0m=\u001b[1m{\u001b[0m\n",
              "                    \u001b[32m'input_tokens'\u001b[0m: \u001b[1;36m162\u001b[0m,\n",
              "                    \u001b[32m'output_tokens'\u001b[0m: \u001b[1;36m121\u001b[0m,\n",
              "                    \u001b[32m'total_tokens'\u001b[0m: \u001b[1;36m283\u001b[0m,\n",
              "                    \u001b[32m'input_token_details'\u001b[0m: \u001b[1m{\u001b[0m\u001b[32m'cache_read'\u001b[0m: \u001b[1;36m0\u001b[0m\u001b[1m}\u001b[0m,\n",
              "                    \u001b[32m'output_token_details'\u001b[0m: \u001b[1m{\u001b[0m\u001b[32m'reasoning'\u001b[0m: \u001b[1;36m95\u001b[0m\u001b[1m}\u001b[0m\n",
              "                \u001b[1m}\u001b[0m\n",
              "            \u001b[1m)\u001b[0m,\n",
              "            \u001b[1;35mHumanMessage\u001b[0m\u001b[1m(\u001b[0m\n",
              "                \u001b[33mcontent\u001b[0m=\u001b[32m'저녁 뭐 먹을까?'\u001b[0m,\n",
              "                \u001b[33madditional_kwargs\u001b[0m=\u001b[1m{\u001b[0m\u001b[1m}\u001b[0m,\n",
              "                \u001b[33mresponse_metadata\u001b[0m=\u001b[1m{\u001b[0m\u001b[1m}\u001b[0m,\n",
              "                \u001b[33mid\u001b[0m=\u001b[32m'ae41e709-1047-43b6-9e3b-b6ad690a1289'\u001b[0m\n",
              "            \u001b[1m)\u001b[0m\n",
              "        \u001b[1m]\u001b[0m\n",
              "    \u001b[1m}\u001b[0m,\n",
              "    \u001b[33mnext\u001b[0m=\u001b[1m(\u001b[0m\u001b[1m)\u001b[0m,\n",
              "    \u001b[33mconfig\u001b[0m=\u001b[1m{\u001b[0m\n",
              "        \u001b[32m'configurable'\u001b[0m: \u001b[1m{\u001b[0m\n",
              "            \u001b[32m'thread_id'\u001b[0m: \u001b[32m'1'\u001b[0m,\n",
              "            \u001b[32m'checkpoint_ns'\u001b[0m: \u001b[32m''\u001b[0m,\n",
              "            \u001b[32m'checkpoint_id'\u001b[0m: \u001b[32m'1f0b22d1-bd52-6980-8005-8f319649e8ce'\u001b[0m\n",
              "        \u001b[1m}\u001b[0m\n",
              "    \u001b[1m}\u001b[0m,\n",
              "    \u001b[33mmetadata\u001b[0m=\u001b[1m{\u001b[0m\u001b[32m'source'\u001b[0m: \u001b[32m'update'\u001b[0m, \u001b[32m'step'\u001b[0m: \u001b[1;36m5\u001b[0m, \u001b[32m'parents'\u001b[0m: \u001b[1m{\u001b[0m\u001b[1m}\u001b[0m\u001b[1m}\u001b[0m,\n",
              "    \u001b[33mcreated_at\u001b[0m=\u001b[32m'2025-10-26T05:32:05.871227+00:00'\u001b[0m,\n",
              "    \u001b[33mparent_config\u001b[0m=\u001b[1m{\u001b[0m\n",
              "        \u001b[32m'configurable'\u001b[0m: \u001b[1m{\u001b[0m\n",
              "            \u001b[32m'thread_id'\u001b[0m: \u001b[32m'1'\u001b[0m,\n",
              "            \u001b[32m'checkpoint_ns'\u001b[0m: \u001b[32m''\u001b[0m,\n",
              "            \u001b[32m'checkpoint_id'\u001b[0m: \u001b[32m'1f0b22d1-bd08-6fe6-8004-6673c712daba'\u001b[0m\n",
              "        \u001b[1m}\u001b[0m\n",
              "    \u001b[1m}\u001b[0m,\n",
              "    \u001b[33mtasks\u001b[0m=\u001b[1m(\u001b[0m\u001b[1m)\u001b[0m,\n",
              "    \u001b[33minterrupts\u001b[0m=\u001b[1m(\u001b[0m\u001b[1m)\u001b[0m\n",
              "\u001b[1m)\u001b[0m\n"
            ]
          },
          "metadata": {},
          "output_type": "display_data"
        }
      ],
      "source": [
        "history = list(graph.get_state_history(config))\n",
        "rprint(history[0])"
      ]
    },
    {
      "cell_type": "code",
      "execution_count": 17,
      "metadata": {
        "colab": {
          "base_uri": "https://localhost:8080/"
        },
        "id": "gYdayqyic_YQ",
        "outputId": "363c30fe-c731-4634-d74a-6b8a02a57df4"
      },
      "outputs": [
        {
          "data": {
            "text/plain": [
              "{'messages': [HumanMessage(content='안녕, 나는 랭그래프 공부중이야', additional_kwargs={}, response_metadata={}, id='0b32bb3b-5086-4272-bf59-6336cf388f8d'),\n",
              "  AIMessage(content='안녕하세요! 랭그래프(LangGraph)를 공부하고 계시는군요! 정말 흥미롭고 유용한 라이브러리죠.\\n\\n어떤 부분에 대해 궁금하신가요?\\n\\n*   랭그래프의 기본 개념\\n*   상태(State)와 노드(Node), 엣지(Edge)\\n*   다양한 그래프 구성 방식 (선형, 조건부 로직 등)\\n*   에이전트(Agent) 구현\\n*   특정 예제나 사용 사례\\n*   어려움을 겪고 있는 부분\\n\\n어떤 질문이든 편하게 해주세요! 아는 범위 내에서 최대한 도와드리겠습니다. 😊', additional_kwargs={}, response_metadata={'prompt_feedback': {'block_reason': 0, 'safety_ratings': []}, 'finish_reason': 'STOP', 'model_name': 'gemini-2.5-flash', 'safety_ratings': []}, id='run--393f660d-2e9e-4993-9150-262bab3478e6-0', usage_metadata={'input_tokens': 12, 'output_tokens': 644, 'total_tokens': 656, 'input_token_details': {'cache_read': 0}, 'output_token_details': {'reasoning': 501}}),\n",
              "  HumanMessage(content='내가 뭐라고 했지?', additional_kwargs={}, response_metadata={}, id='b37898ed-ec49-4e25-b168-35243b797598'),\n",
              "  AIMessage(content='네, 당신은 **\"안녕, 나는 랭그래프 공부중이야\"** 라고 말씀하셨습니다. 😊', additional_kwargs={}, response_metadata={'prompt_feedback': {'block_reason': 0, 'safety_ratings': []}, 'finish_reason': 'STOP', 'model_name': 'gemini-2.5-flash', 'safety_ratings': []}, id='run--401472a0-0498-4cbb-ace2-7340ec0a7815-0', usage_metadata={'input_tokens': 162, 'output_tokens': 121, 'total_tokens': 283, 'input_token_details': {'cache_read': 0}, 'output_token_details': {'reasoning': 95}}),\n",
              "  HumanMessage(content='저녁 뭐 먹을까?', additional_kwargs={}, response_metadata={}, id='ae41e709-1047-43b6-9e3b-b6ad690a1289')]}"
            ]
          },
          "execution_count": 17,
          "metadata": {},
          "output_type": "execute_result"
        }
      ],
      "source": [
        "graph.invoke(None, config = history[0].config)"
      ]
    },
    {
      "cell_type": "markdown",
      "metadata": {
        "id": "PYHw6rhIeQwJ"
      },
      "source": [
        "## SQLite를 이용한 Checkpointing"
      ]
    },
    {
      "cell_type": "markdown",
      "metadata": {
        "id": "RMeF0TXbeeMX"
      },
      "source": [
        "`SqliteSaver`를 사용해, 체크포인팅을 저장할 수 있습니다."
      ]
    },
    {
      "cell_type": "code",
      "execution_count": 18,
      "metadata": {
        "id": "k6P-QVy2eQKL"
      },
      "outputs": [],
      "source": [
        "from langgraph.checkpoint.sqlite import SqliteSaver\n",
        "import sqlite3\n",
        "\n",
        "conn = sqlite3.connect(\"checkpoints.sqlite\", check_same_thread=False)\n",
        "checkpointer = SqliteSaver(conn)\n",
        "\n",
        "graph = builder.compile(checkpointer=checkpointer)\n"
      ]
    },
    {
      "cell_type": "code",
      "execution_count": 19,
      "metadata": {
        "colab": {
          "base_uri": "https://localhost:8080/"
        },
        "id": "y51DH3RUgLRA",
        "outputId": "d2c202ef-3c93-4a0b-8225-5e94e852184c"
      },
      "outputs": [
        {
          "name": "stdout",
          "output_type": "stream",
          "text": [
            "안녕, 나는 타코를 좋아해.\n",
            "================================\u001b[1m Human Message \u001b[0m=================================\n",
            "\n",
            "안녕, 나는 타코를 좋아해.\n",
            "==================================\u001b[1m Ai Message \u001b[0m==================================\n",
            "\n",
            "네, 안녕하세요! 다시 만나서 반가워요! 🌮\n",
            "\n",
            "타코를 좋아하시는군요! 저도 정말 좋아해요. 어떤 점이 타코를 그렇게 좋아하게 만드나요?\n",
            "\n",
            "*   바삭한 쉘이나 부드러운 또띠아?\n",
            "*   매콤한 살사 소스?\n",
            "*   다양한 고기와 신선한 채소의 조합?\n",
            "*   아니면 그 모든 것?\n",
            "\n",
            "타코에 대한 이야기를 더 듣고 싶어요! 😊\n"
          ]
        }
      ],
      "source": [
        "config = {\"configurable\": {\"thread_id\": \"1\"}}\n",
        "\n",
        "\n",
        "input_message = HumanMessage(input())\n",
        "\n",
        "for chunk in graph.stream({\"messages\": [input_message]},\n",
        "                          config, stream_mode=\"values\"):\n",
        "    chunk[\"messages\"][-1].pretty_print()"
      ]
    },
    {
      "cell_type": "code",
      "execution_count": 20,
      "metadata": {
        "colab": {
          "base_uri": "https://localhost:8080/"
        },
        "id": "s3qzfldmgs83",
        "outputId": "efafa710-63d7-4086-a7da-a663bd036035"
      },
      "outputs": [
        {
          "name": "stdout",
          "output_type": "stream",
          "text": [
            "================================\u001b[1m Human Message \u001b[0m=================================\n",
            "\n",
            "오늘 저녁은 뭐 먹을까?\n",
            "==================================\u001b[1m Ai Message \u001b[0m==================================\n",
            "\n",
            "네, 타코를 좋아하신다고 하셨으니, 오늘 저녁은 **타코**를 중심으로 생각해 보는 건 어떠세요? 🌮\n",
            "\n",
            "**1. 타코의 즐거움을 다시 한번!**\n",
            "\n",
            "*   **홈메이드 타코:** 직접 재료를 준비해서 만드는 재미도 쏠쏠해요! 소고기, 닭고기, 돼지고기(카르니타스), 새우, 혹은 채식(콩, 버섯) 등 좋아하는 재료를 듬뿍 넣고 살사, 과카몰리, 사워크림, 양파, 고수 등을 곁들이면 정말 맛있죠.\n",
            "*   **타코 전문점 방문 또는 배달:** 오늘은 좀 편하게 즐기고 싶다면, 맛있는 타코 전문점에서 다양한 종류의 타코를 시켜 드시는 것도 좋아요. 멕시칸 그릴이나 푸드트럭 같은 곳도 좋은 옵션이 될 수 있구요!\n",
            "\n",
            "**2. 타코와 찰떡궁합 멕시칸 메뉴!**\n",
            "\n",
            "타코를 좋아하신다면 분명 다른 멕시칸 음식도 입맛에 맞으실 거예요!\n",
            "\n",
            "*   **부리또/부리또 볼:** 밥, 콩, 고기, 채소 등을 또띠아에 싸거나 그릇에 담아 푸짐하게 즐길 수 있어요.\n",
            "*   **퀘사디아:** 치즈와 속재료를 또띠아 사이에 넣고 구운 것. 간단하지만 만족감이 높아요.\n",
            "*   **파히타:** 철판에 지글지글 볶은 고기와 채소를 또띠아에 싸 먹는 재미가 있죠.\n",
            "\n",
            "**3. 만약 타코 말고 다른 게 당기신다면...**\n",
            "\n",
            "혹시 타코와 비슷한 느낌이지만 다른 것을 원하시거나, 완전히 다른 음식이 당기실 수도 있으니 몇 가지 더 제안해 드릴게요.\n",
            "\n",
            "*   **샌드위치/랩:** 타코처럼 손으로 들고 먹는 편한 음식을 좋아하시면, 든든한 랩 샌드위치도 괜찮아요.\n",
            "*   **매콤한 한식:** 타코의 살사처럼 매콤한 맛을 좋아하신다면 김치찌개, 닭볶음탕 같은 한식도 좋은 선택이에요.\n",
            "*   **파스타/피자:** 고민될 땐 역시!\n",
            "\n",
            "---\n",
            "\n",
            "어떤 종류의 타코가 가장 끌리시나요? 아니면 오늘은 직접 만들어 볼까요, 아니면 편하게 시켜 먹을까요? 😊\n"
          ]
        }
      ],
      "source": [
        "input_message = {\"role\": \"user\", \"content\": \"오늘 저녁은 뭐 먹을까?\"}\n",
        "for chunk in graph.stream({\"messages\": [input_message]}, config, stream_mode=\"values\"):\n",
        "    chunk[\"messages\"][-1].pretty_print()"
      ]
    },
    {
      "cell_type": "markdown",
      "metadata": {
        "id": "iGolsE_rc_YQ"
      },
      "source": [
        "## Store를 이용한 장기 메모리 추가하기   \n",
        "\n",
        "Thread Checkpoint는 단일 세션의 메모리를 저장하기에는 효과적이지만,   \n",
        "세션이 유지되지 않는 경우에는 다른 방법이 필요합니다.   \n",
        "\n",
        "InMemoryStore를 통해, 장기 메모리를 추가할 수 있습니다.\n"
      ]
    },
    {
      "cell_type": "code",
      "execution_count": 21,
      "metadata": {
        "id": "ugR2D-yQc_YQ"
      },
      "outputs": [],
      "source": [
        "from langgraph.store.memory import InMemoryStore\n",
        "in_memory_store = InMemoryStore()"
      ]
    },
    {
      "cell_type": "markdown",
      "metadata": {
        "id": "1vwV1gyUc_YQ"
      },
      "source": [
        "Namespace를 통해 메모리 위치를 설정합니다."
      ]
    },
    {
      "cell_type": "code",
      "execution_count": 22,
      "metadata": {
        "id": "DPdOsjE6c_YQ"
      },
      "outputs": [],
      "source": [
        "namespace_for_memory = ('1', 'memories')"
      ]
    },
    {
      "cell_type": "code",
      "execution_count": 23,
      "metadata": {
        "colab": {
          "base_uri": "https://localhost:8080/"
        },
        "id": "ruj4D-ekc_YQ",
        "outputId": "7f74ba97-34f2-42a4-8669-0f714ee6decd"
      },
      "outputs": [
        {
          "data": {
            "text/plain": [
              "[Item(namespace=['1', 'memories'], key='7f5278f1-3552-41be-b5cf-82ec0714fc59', value={'information': '지금은 랭그래프 메모리 실습 중입니다.'}, created_at='2025-10-26T05:32:24.624090+00:00', updated_at='2025-10-26T05:32:24.624092+00:00', score=None)]"
            ]
          },
          "execution_count": 23,
          "metadata": {},
          "output_type": "execute_result"
        }
      ],
      "source": [
        "import uuid\n",
        "memory_id = str(uuid.uuid4())\n",
        "\n",
        "memory = {'information' : \"지금은 랭그래프 메모리 실습 중입니다.\"}\n",
        "in_memory_store.put(namespace_for_memory, memory_id, memory)\n",
        "memories = in_memory_store.search(namespace_for_memory)\n",
        "memories"
      ]
    },
    {
      "cell_type": "code",
      "execution_count": 24,
      "metadata": {
        "colab": {
          "base_uri": "https://localhost:8080/"
        },
        "id": "M174_QRNc_YR",
        "outputId": "eb1f7769-2492-44df-c951-42429503123b"
      },
      "outputs": [
        {
          "data": {
            "text/plain": [
              "[Item(namespace=['1', 'memories'], key='7f5278f1-3552-41be-b5cf-82ec0714fc59', value={'information': '지금은 랭그래프 메모리 실습 중입니다.'}, created_at='2025-10-26T05:32:24.624090+00:00', updated_at='2025-10-26T05:32:24.624092+00:00', score=None),\n",
              " Item(namespace=['1', 'memories'], key='e20add15-42a4-410a-9e58-4ea7b38c9167', value={'name': 'FastCampus'}, created_at='2025-10-26T05:32:24.630916+00:00', updated_at='2025-10-26T05:32:24.630918+00:00', score=None)]"
            ]
          },
          "execution_count": 24,
          "metadata": {},
          "output_type": "execute_result"
        }
      ],
      "source": [
        "memory = {'name' : \"FastCampus\"}\n",
        "memory_id = str(uuid.uuid4())\n",
        "\n",
        "in_memory_store.put(namespace_for_memory, memory_id, memory)\n",
        "# memory_id에 매핑되는 구조\n",
        "\n",
        "memories = in_memory_store.search(namespace_for_memory)\n",
        "memories\n"
      ]
    },
    {
      "cell_type": "code",
      "execution_count": 25,
      "metadata": {
        "colab": {
          "base_uri": "https://localhost:8080/"
        },
        "id": "_kagTVnIc_YR",
        "outputId": "c62545de-f41f-4cf7-931b-037fb804bf87"
      },
      "outputs": [
        {
          "data": {
            "text/plain": [
              "[Item(namespace=['1', 'memories'], key='7f5278f1-3552-41be-b5cf-82ec0714fc59', value={'information': '지금은 랭그래프 메모리 실습 중입니다.'}, created_at='2025-10-26T05:32:24.624090+00:00', updated_at='2025-10-26T05:32:24.624092+00:00', score=None),\n",
              " Item(namespace=['1', 'memories'], key='e20add15-42a4-410a-9e58-4ea7b38c9167', value={'name': 'FastCampus'}, created_at='2025-10-26T05:32:24.630916+00:00', updated_at='2025-10-26T05:32:24.630918+00:00', score=None),\n",
              " Item(namespace=['1', 'memories'], key='5ea85394-4c2f-4a2c-af26-1c1d0550cd29', value={'name': 'LangGraph'}, created_at='2025-10-26T05:32:24.636658+00:00', updated_at='2025-10-26T05:32:24.636660+00:00', score=None)]"
            ]
          },
          "execution_count": 25,
          "metadata": {},
          "output_type": "execute_result"
        }
      ],
      "source": [
        "# 메모리 레코드 추가하기\n",
        "memory_id = str(uuid.uuid4())\n",
        "new_memory  = {'name' : \"LangGraph\"}\n",
        "\n",
        "in_memory_store.put(namespace_for_memory, memory_id, new_memory)\n",
        "# memory_id에 매핑되는 구조\n",
        "\n",
        "memories = in_memory_store.search(namespace_for_memory)\n",
        "memories"
      ]
    },
    {
      "cell_type": "code",
      "execution_count": 26,
      "metadata": {
        "colab": {
          "base_uri": "https://localhost:8080/"
        },
        "id": "TTMXsqd1c_YW",
        "outputId": "2511b68a-91ce-485e-b3b0-595db5f554af"
      },
      "outputs": [
        {
          "data": {
            "text/plain": [
              "[Item(namespace=['1', 'memories'], key='7f5278f1-3552-41be-b5cf-82ec0714fc59', value={'information': '지금은 랭그래프 메모리 실습 중입니다.'}, created_at='2025-10-26T05:32:24.624090+00:00', updated_at='2025-10-26T05:32:24.624092+00:00', score=None),\n",
              " Item(namespace=['1', 'memories'], key='e20add15-42a4-410a-9e58-4ea7b38c9167', value={'name': 'FastCampus'}, created_at='2025-10-26T05:32:24.630916+00:00', updated_at='2025-10-26T05:32:24.630918+00:00', score=None),\n",
              " Item(namespace=['1', 'memories'], key='5ea85394-4c2f-4a2c-af26-1c1d0550cd29', value={'name': '패스트캠퍼스'}, created_at='2025-10-26T05:32:24.642467+00:00', updated_at='2025-10-26T05:32:24.642469+00:00', score=None)]"
            ]
          },
          "execution_count": 26,
          "metadata": {},
          "output_type": "execute_result"
        }
      ],
      "source": [
        "# 메모리 덮어씌우기\n",
        "new_memory  = {'name' : \"패스트캠퍼스\"}\n",
        "\n",
        "in_memory_store.put(namespace_for_memory, memory_id, new_memory)\n",
        "# memory_id에 매핑되는 구조\n",
        "\n",
        "memories = in_memory_store.search(namespace_for_memory)\n",
        "memories"
      ]
    },
    {
      "cell_type": "code",
      "execution_count": 27,
      "metadata": {
        "colab": {
          "base_uri": "https://localhost:8080/"
        },
        "id": "pop9L8FTc_YW",
        "outputId": "5669d113-0344-4b5e-bd5c-e620f28def99"
      },
      "outputs": [
        {
          "data": {
            "text/plain": [
              "{'namespace': ['1', 'memories'],\n",
              " 'key': '5ea85394-4c2f-4a2c-af26-1c1d0550cd29',\n",
              " 'value': {'name': '패스트캠퍼스'},\n",
              " 'created_at': '2025-10-26T05:32:24.642467+00:00',\n",
              " 'updated_at': '2025-10-26T05:32:24.642469+00:00',\n",
              " 'score': None}"
            ]
          },
          "execution_count": 27,
          "metadata": {},
          "output_type": "execute_result"
        }
      ],
      "source": [
        "memories[-1].dict()"
      ]
    },
    {
      "cell_type": "markdown",
      "metadata": {
        "id": "we0phY9Kc_YW"
      },
      "source": [
        "## memory 검색    \n",
        "메모리에 임베딩 모델을 설정하면 임베딩 기반의 인덱싱/검색이 가능합니다.    \n",
        "주로 사용할 수 있는 다국어 임베딩은 다음과 같습니다.   \n",
        "1. 온라인/ OpenAI의 `text-embedding-3-small`, `text-embedding-3-large` (유료)\n",
        "2. 온라인/ Google `gemini-embedding-exp-03-07` (유료, 무료 제한 1일 100개)\n",
        "3. 오프라인/ HuggingFace에서 지원하는 `bge-m3`, `multilingual-e5`, `KURE-v1`    \n",
        "\n",
        "이번 실습에서는 가장 작은 임베딩 모델 중 하나인 `text-embedding-3-small`를 사용합니다.   \n",
        "\n",
        "**실제 임베딩 모델을 선정하실 때는 GPU 자원에 따라 MTEB 리더보드 (https://huggingface.co/spaces/mteb/leaderboard) 에서 한국어 성능 순위를 참고하시는 것을 추천합니다!**"
      ]
    },
    {
      "cell_type": "code",
      "execution_count": 28,
      "metadata": {
        "colab": {
          "base_uri": "https://localhost:8080/",
          "height": 1000
        },
        "id": "1m1mUU-Sc_YW",
        "outputId": "ddb1d1b9-8783-4302-e4a5-e3d7a9caa408"
      },
      "outputs": [
        {
          "name": "stdout",
          "output_type": "stream",
          "text": [
            "Requirement already satisfied: langchain-huggingface in /usr/local/lib/python3.12/dist-packages (1.0.0)\n",
            "Requirement already satisfied: sentence-transformers in /usr/local/lib/python3.12/dist-packages (5.1.1)\n",
            "Requirement already satisfied: huggingface-hub<1.0.0,>=0.33.4 in /usr/local/lib/python3.12/dist-packages (from langchain-huggingface) (0.35.3)\n",
            "Collecting langchain-core<2.0.0,>=1.0.0 (from langchain-huggingface)\n",
            "  Using cached langchain_core-1.0.1-py3-none-any.whl.metadata (3.5 kB)\n",
            "Requirement already satisfied: tokenizers<1.0.0,>=0.19.1 in /usr/local/lib/python3.12/dist-packages (from langchain-huggingface) (0.22.1)\n",
            "Requirement already satisfied: transformers<5.0.0,>=4.41.0 in /usr/local/lib/python3.12/dist-packages (from sentence-transformers) (4.57.1)\n",
            "Requirement already satisfied: tqdm in /usr/local/lib/python3.12/dist-packages (from sentence-transformers) (4.67.1)\n",
            "Requirement already satisfied: torch>=1.11.0 in /usr/local/lib/python3.12/dist-packages (from sentence-transformers) (2.8.0+cu126)\n",
            "Requirement already satisfied: scikit-learn in /usr/local/lib/python3.12/dist-packages (from sentence-transformers) (1.6.1)\n",
            "Requirement already satisfied: scipy in /usr/local/lib/python3.12/dist-packages (from sentence-transformers) (1.16.2)\n",
            "Requirement already satisfied: Pillow in /usr/local/lib/python3.12/dist-packages (from sentence-transformers) (11.3.0)\n",
            "Requirement already satisfied: typing_extensions>=4.5.0 in /usr/local/lib/python3.12/dist-packages (from sentence-transformers) (4.15.0)\n",
            "Requirement already satisfied: filelock in /usr/local/lib/python3.12/dist-packages (from huggingface-hub<1.0.0,>=0.33.4->langchain-huggingface) (3.20.0)\n",
            "Requirement already satisfied: fsspec>=2023.5.0 in /usr/local/lib/python3.12/dist-packages (from huggingface-hub<1.0.0,>=0.33.4->langchain-huggingface) (2025.3.0)\n",
            "Requirement already satisfied: packaging>=20.9 in /usr/local/lib/python3.12/dist-packages (from huggingface-hub<1.0.0,>=0.33.4->langchain-huggingface) (25.0)\n",
            "Requirement already satisfied: pyyaml>=5.1 in /usr/local/lib/python3.12/dist-packages (from huggingface-hub<1.0.0,>=0.33.4->langchain-huggingface) (6.0.3)\n",
            "Requirement already satisfied: requests in /usr/local/lib/python3.12/dist-packages (from huggingface-hub<1.0.0,>=0.33.4->langchain-huggingface) (2.32.5)\n",
            "Requirement already satisfied: hf-xet<2.0.0,>=1.1.3 in /usr/local/lib/python3.12/dist-packages (from huggingface-hub<1.0.0,>=0.33.4->langchain-huggingface) (1.1.10)\n",
            "Requirement already satisfied: jsonpatch<2.0.0,>=1.33.0 in /usr/local/lib/python3.12/dist-packages (from langchain-core<2.0.0,>=1.0.0->langchain-huggingface) (1.33)\n",
            "Requirement already satisfied: langsmith<1.0.0,>=0.3.45 in /usr/local/lib/python3.12/dist-packages (from langchain-core<2.0.0,>=1.0.0->langchain-huggingface) (0.4.37)\n",
            "Requirement already satisfied: pydantic<3.0.0,>=2.7.4 in /usr/local/lib/python3.12/dist-packages (from langchain-core<2.0.0,>=1.0.0->langchain-huggingface) (2.11.10)\n",
            "Requirement already satisfied: tenacity!=8.4.0,<10.0.0,>=8.1.0 in /usr/local/lib/python3.12/dist-packages (from langchain-core<2.0.0,>=1.0.0->langchain-huggingface) (8.5.0)\n",
            "Requirement already satisfied: setuptools in /usr/local/lib/python3.12/dist-packages (from torch>=1.11.0->sentence-transformers) (75.2.0)\n",
            "Requirement already satisfied: sympy>=1.13.3 in /usr/local/lib/python3.12/dist-packages (from torch>=1.11.0->sentence-transformers) (1.13.3)\n",
            "Requirement already satisfied: networkx in /usr/local/lib/python3.12/dist-packages (from torch>=1.11.0->sentence-transformers) (3.5)\n",
            "Requirement already satisfied: jinja2 in /usr/local/lib/python3.12/dist-packages (from torch>=1.11.0->sentence-transformers) (3.1.6)\n",
            "Requirement already satisfied: nvidia-cuda-nvrtc-cu12==12.6.77 in /usr/local/lib/python3.12/dist-packages (from torch>=1.11.0->sentence-transformers) (12.6.77)\n",
            "Requirement already satisfied: nvidia-cuda-runtime-cu12==12.6.77 in /usr/local/lib/python3.12/dist-packages (from torch>=1.11.0->sentence-transformers) (12.6.77)\n",
            "Requirement already satisfied: nvidia-cuda-cupti-cu12==12.6.80 in /usr/local/lib/python3.12/dist-packages (from torch>=1.11.0->sentence-transformers) (12.6.80)\n",
            "Requirement already satisfied: nvidia-cudnn-cu12==9.10.2.21 in /usr/local/lib/python3.12/dist-packages (from torch>=1.11.0->sentence-transformers) (9.10.2.21)\n",
            "Requirement already satisfied: nvidia-cublas-cu12==12.6.4.1 in /usr/local/lib/python3.12/dist-packages (from torch>=1.11.0->sentence-transformers) (12.6.4.1)\n",
            "Requirement already satisfied: nvidia-cufft-cu12==11.3.0.4 in /usr/local/lib/python3.12/dist-packages (from torch>=1.11.0->sentence-transformers) (11.3.0.4)\n",
            "Requirement already satisfied: nvidia-curand-cu12==10.3.7.77 in /usr/local/lib/python3.12/dist-packages (from torch>=1.11.0->sentence-transformers) (10.3.7.77)\n",
            "Requirement already satisfied: nvidia-cusolver-cu12==11.7.1.2 in /usr/local/lib/python3.12/dist-packages (from torch>=1.11.0->sentence-transformers) (11.7.1.2)\n",
            "Requirement already satisfied: nvidia-cusparse-cu12==12.5.4.2 in /usr/local/lib/python3.12/dist-packages (from torch>=1.11.0->sentence-transformers) (12.5.4.2)\n",
            "Requirement already satisfied: nvidia-cusparselt-cu12==0.7.1 in /usr/local/lib/python3.12/dist-packages (from torch>=1.11.0->sentence-transformers) (0.7.1)\n",
            "Requirement already satisfied: nvidia-nccl-cu12==2.27.3 in /usr/local/lib/python3.12/dist-packages (from torch>=1.11.0->sentence-transformers) (2.27.3)\n",
            "Requirement already satisfied: nvidia-nvtx-cu12==12.6.77 in /usr/local/lib/python3.12/dist-packages (from torch>=1.11.0->sentence-transformers) (12.6.77)\n",
            "Requirement already satisfied: nvidia-nvjitlink-cu12==12.6.85 in /usr/local/lib/python3.12/dist-packages (from torch>=1.11.0->sentence-transformers) (12.6.85)\n",
            "Requirement already satisfied: nvidia-cufile-cu12==1.11.1.6 in /usr/local/lib/python3.12/dist-packages (from torch>=1.11.0->sentence-transformers) (1.11.1.6)\n",
            "Requirement already satisfied: triton==3.4.0 in /usr/local/lib/python3.12/dist-packages (from torch>=1.11.0->sentence-transformers) (3.4.0)\n",
            "Requirement already satisfied: numpy>=1.17 in /usr/local/lib/python3.12/dist-packages (from transformers<5.0.0,>=4.41.0->sentence-transformers) (2.0.2)\n",
            "Requirement already satisfied: regex!=2019.12.17 in /usr/local/lib/python3.12/dist-packages (from transformers<5.0.0,>=4.41.0->sentence-transformers) (2024.11.6)\n",
            "Requirement already satisfied: safetensors>=0.4.3 in /usr/local/lib/python3.12/dist-packages (from transformers<5.0.0,>=4.41.0->sentence-transformers) (0.6.2)\n",
            "Requirement already satisfied: joblib>=1.2.0 in /usr/local/lib/python3.12/dist-packages (from scikit-learn->sentence-transformers) (1.5.2)\n",
            "Requirement already satisfied: threadpoolctl>=3.1.0 in /usr/local/lib/python3.12/dist-packages (from scikit-learn->sentence-transformers) (3.6.0)\n",
            "Requirement already satisfied: jsonpointer>=1.9 in /usr/local/lib/python3.12/dist-packages (from jsonpatch<2.0.0,>=1.33.0->langchain-core<2.0.0,>=1.0.0->langchain-huggingface) (3.0.0)\n",
            "Requirement already satisfied: httpx<1,>=0.23.0 in /usr/local/lib/python3.12/dist-packages (from langsmith<1.0.0,>=0.3.45->langchain-core<2.0.0,>=1.0.0->langchain-huggingface) (0.28.1)\n",
            "Requirement already satisfied: orjson>=3.9.14 in /usr/local/lib/python3.12/dist-packages (from langsmith<1.0.0,>=0.3.45->langchain-core<2.0.0,>=1.0.0->langchain-huggingface) (3.11.3)\n",
            "Requirement already satisfied: requests-toolbelt>=1.0.0 in /usr/local/lib/python3.12/dist-packages (from langsmith<1.0.0,>=0.3.45->langchain-core<2.0.0,>=1.0.0->langchain-huggingface) (1.0.0)\n",
            "Requirement already satisfied: zstandard>=0.23.0 in /usr/local/lib/python3.12/dist-packages (from langsmith<1.0.0,>=0.3.45->langchain-core<2.0.0,>=1.0.0->langchain-huggingface) (0.25.0)\n",
            "Requirement already satisfied: annotated-types>=0.6.0 in /usr/local/lib/python3.12/dist-packages (from pydantic<3.0.0,>=2.7.4->langchain-core<2.0.0,>=1.0.0->langchain-huggingface) (0.7.0)\n",
            "Requirement already satisfied: pydantic-core==2.33.2 in /usr/local/lib/python3.12/dist-packages (from pydantic<3.0.0,>=2.7.4->langchain-core<2.0.0,>=1.0.0->langchain-huggingface) (2.33.2)\n",
            "Requirement already satisfied: typing-inspection>=0.4.0 in /usr/local/lib/python3.12/dist-packages (from pydantic<3.0.0,>=2.7.4->langchain-core<2.0.0,>=1.0.0->langchain-huggingface) (0.4.2)\n",
            "Requirement already satisfied: charset_normalizer<4,>=2 in /usr/local/lib/python3.12/dist-packages (from requests->huggingface-hub<1.0.0,>=0.33.4->langchain-huggingface) (3.4.4)\n",
            "Requirement already satisfied: idna<4,>=2.5 in /usr/local/lib/python3.12/dist-packages (from requests->huggingface-hub<1.0.0,>=0.33.4->langchain-huggingface) (3.11)\n",
            "Requirement already satisfied: urllib3<3,>=1.21.1 in /usr/local/lib/python3.12/dist-packages (from requests->huggingface-hub<1.0.0,>=0.33.4->langchain-huggingface) (2.5.0)\n",
            "Requirement already satisfied: certifi>=2017.4.17 in /usr/local/lib/python3.12/dist-packages (from requests->huggingface-hub<1.0.0,>=0.33.4->langchain-huggingface) (2025.10.5)\n",
            "Requirement already satisfied: mpmath<1.4,>=1.1.0 in /usr/local/lib/python3.12/dist-packages (from sympy>=1.13.3->torch>=1.11.0->sentence-transformers) (1.3.0)\n",
            "Requirement already satisfied: MarkupSafe>=2.0 in /usr/local/lib/python3.12/dist-packages (from jinja2->torch>=1.11.0->sentence-transformers) (3.0.3)\n",
            "Requirement already satisfied: anyio in /usr/local/lib/python3.12/dist-packages (from httpx<1,>=0.23.0->langsmith<1.0.0,>=0.3.45->langchain-core<2.0.0,>=1.0.0->langchain-huggingface) (4.11.0)\n",
            "Requirement already satisfied: httpcore==1.* in /usr/local/lib/python3.12/dist-packages (from httpx<1,>=0.23.0->langsmith<1.0.0,>=0.3.45->langchain-core<2.0.0,>=1.0.0->langchain-huggingface) (1.0.9)\n",
            "Requirement already satisfied: h11>=0.16 in /usr/local/lib/python3.12/dist-packages (from httpcore==1.*->httpx<1,>=0.23.0->langsmith<1.0.0,>=0.3.45->langchain-core<2.0.0,>=1.0.0->langchain-huggingface) (0.16.0)\n",
            "Requirement already satisfied: sniffio>=1.1 in /usr/local/lib/python3.12/dist-packages (from anyio->httpx<1,>=0.23.0->langsmith<1.0.0,>=0.3.45->langchain-core<2.0.0,>=1.0.0->langchain-huggingface) (1.3.1)\n",
            "Using cached langchain_core-1.0.1-py3-none-any.whl (467 kB)\n",
            "Installing collected packages: langchain-core\n",
            "  Attempting uninstall: langchain-core\n",
            "    Found existing installation: langchain-core 0.3.79\n",
            "    Uninstalling langchain-core-0.3.79:\n",
            "      Successfully uninstalled langchain-core-0.3.79\n",
            "\u001b[31mERROR: pip's dependency resolver does not currently take into account all the packages that are installed. This behaviour is the source of the following dependency conflicts.\n",
            "langchain 0.3.27 requires langchain-core<1.0.0,>=0.3.72, but you have langchain-core 1.0.1 which is incompatible.\u001b[0m\u001b[31m\n",
            "\u001b[0mSuccessfully installed langchain-core-1.0.1\n"
          ]
        },
        {
          "data": {
            "application/vnd.colab-display-data+json": {
              "id": "bc78e8f7c1684116ad2ae8bed1ceffd1",
              "pip_warning": {
                "packages": [
                  "langchain_core"
                ]
              }
            }
          },
          "metadata": {},
          "output_type": "display_data"
        }
      ],
      "source": [
        "!pip install langchain-huggingface sentence-transformers"
      ]
    },
    {
      "cell_type": "markdown",
      "metadata": {
        "id": "tUBgB-fsc_YW"
      },
      "source": [
        "HuggingFace에서 임베딩을 다운로드하여 로컬 폴더에 저장합니다."
      ]
    },
    {
      "cell_type": "code",
      "execution_count": 29,
      "metadata": {
        "colab": {
          "base_uri": "https://localhost:8080/",
          "height": 467,
          "referenced_widgets": [
            "e7c913b7775e4de7a1174a821ecf107a",
            "c109006238424488865711abe50fc5db",
            "7df6845f3b404767ad3fa577838fa874",
            "d934bab438a140bea8fd1d5d902def02",
            "9f1f2d911da94e179eab8e7bffade83e",
            "b6425d3b29344257b4490cb85eb4fd94",
            "b6db4881d8464b129428aa95a5d07add",
            "bfadc89b205d4306a59d7cb21913fd54",
            "8a7deaacdf1f4a328955f2e19a855e80",
            "24a68273ff57482795eb56095762e139",
            "7e2ba30d2d1f46b3b27f993c89d884d4",
            "e1f9a0dc09f34a8791fac195ecaf2ff1",
            "b4949caac21541a9a14acdccd811b886",
            "628a94cceba949b78159a175bbade706",
            "5f795b5767a045599b8735a7f9ae196a",
            "0b1260266a654691a988deae63a85331",
            "d1089768d4ec419ebe768270c498bfcf",
            "15a23b68dea84bc892edac56a9dbd4f3",
            "a57436fce12b48679b9f867e44936c72",
            "6f4427e5b6824deda0687a70d825d599",
            "cc90dfc2c330458ab28931e395218dcb",
            "54a417351fa947afa973b57115d753ea",
            "25e2733d6c544b48b630532138770038",
            "cc919e42913f4b7e99d69436526f55be",
            "2df597b19a324034bea10a4e797fe385",
            "76385acf69f64ac2935c4cacc21ec2de",
            "6bb4f086650248889a7140a48b1dc1aa",
            "19c597c9ac7f425f9f9d31bfb554f6eb",
            "6dc2391ab9f6476e8ee87a33326bda6a",
            "f12866ae3c7b488a9cd59a1f8320b53f",
            "cc091577b10a40fa9d97766bd57b4933",
            "73b9d91f4f5742ba8ebfefaadd0e679e",
            "6aacfe7c7942458e9de767171b46e39e",
            "b94c0a4c782344d59ece331a94337c20",
            "4da1b0ff60c6438fa56cb38f3704f741",
            "e773a43f9b3a4b2fa9cca3937fc32b59",
            "0681e68dbad842be9f473ef1564f0228",
            "ddd1b31273a54b228ac8d668c9cfd9ef",
            "6f70e5302ea14a0592bf10dfa76f4ce2",
            "c0837f90a5ae4ba7a318604705c4d9fe",
            "5401a083fa454759abbdf3f3759bdf22",
            "a9bd6807216f45b6b67b36b97a66d733",
            "c13d1941dc2048af97ea5cba9c6e768a",
            "452f3705575d44f2a3f3ecdd657a6342",
            "6b868c1085db4b2f88fd249bd7d2ae55",
            "74cb0d2beacc4ca982d6185866ea8296",
            "5b6f38cbf23242818f5e1067b089ac93",
            "4325e27f64ff4194b773bc6833b39ee1",
            "dac58868ad9144468c692cf6a3064ed2",
            "22a5cb9cabc94ed8a06b40e0dfb9be23",
            "c59eb75465fd40b4b95204672f497bf3",
            "fd5348c6288d4908b69ef234185e8a6b",
            "0d62d5b6b8b845dcbef0ad5511cde8e3",
            "4fcfdf7c5af14098aa472da3970391b2",
            "b08dd04259ac4daf9f6c44e49321c716",
            "58db822343b541009b7771fd9da4713b",
            "c635505f06e344eabfc3c649ca0dd1d4",
            "168aa02700744ed8afd923a2d6785fde",
            "0b0902fcdffa4ce49338c2c5cf733db6",
            "56ca874924284cf39f6e4794397c0086",
            "6900547f804c4e2881f99b90f249fa99",
            "ad6ff0421150464bb2a2b21e50a9397f",
            "768d91fb3627426caa07ac4c058f9332",
            "87997a76edfc422f9cc9fea9aee85796",
            "a6ad5525f9ee43f18ea3ce1587882312",
            "5aa45d6402d445bc9db52517af7ea799",
            "57a8d7041f9d4198a781b60218840803",
            "3cd28b10ca884d828544c0cd2379ad0a",
            "92c26f3da5d94515a20e70ee30f85eb6",
            "1d2215ebc46f42898757c8fbbfd01d71",
            "10a09fcbeb0b4841bf46c4ed29a7d517",
            "e40f845709294cb0b60893330364f6f4",
            "ac540e8a52b44569a50b829c680ed5ea",
            "f101b553cc5f4085ac5e82fab4e8087e",
            "a9e93b17c15f4995ba9af579287d1bd0",
            "8ff65194d0544b989a233be45e4834be",
            "0e7a430f698a4eda9fa3bf9c3580ad25",
            "5d7104e8b7914f00b5d6a2dd592dab59",
            "74fed37fecd74d889a3b8b21578912f0",
            "df27dba2bc5045738450b159428278b5",
            "4ab1da4502c94b8ea5df099ae63c3efd",
            "2007edcb253042abbff010c9e8772932",
            "0d398c8152ee42d4b011a580e8657dc2",
            "8f8e9e25801440b4b94e7552ffb68224",
            "e5254b5831c34be3858009097391a14a",
            "7934f8a048b84800919e310f2d518f33",
            "7530b106122148399d55cb3c7e6df861",
            "b019814eece0458bbc7ac9791e9a45a2",
            "e7648751a37f48c696c910dd003b2dd9",
            "0b1f26d493a24fe28ebe3ad36123c25d",
            "2ea425bad36943598e568ae1e624c3e5",
            "7e61ef607c5548a888298e841b94491b",
            "7b9f7875178940dbac323141ace84356",
            "ab64fe76f54040c191766e3b0e6e0eaf",
            "124874f2f2d54c81a3579424b4889608",
            "5fe88de866c64d8a9e4c5e16a4166a0d",
            "993021ad801c4a65b0af69e09b0c89a9",
            "b0da76a392b34b39a066e10d21db6692",
            "523e871cb34e4341972e4fe54a52417b",
            "e73c281d58114b87a01b17dd63cac83a",
            "de413f547b114bda9c66ccb1884926f0",
            "c7781582b7fa4795977ff695bf7997d9",
            "9b3406017f47418797b894ae292271b9",
            "1e283b804d154e05a1d615a6ae101a55",
            "9c58a0ab90334d6dab26c01d2cf73eee",
            "947549a0d52f48039acdac252057d522",
            "d4726ffa58434f1ab92f3e4af9c73ede",
            "d1eaa2d1d59c460b9cbcefdd1b1f9076",
            "3a9301f3b1f646bb94704294d14647bb",
            "2a73aeb2910b411d8b74481b5121a9e7"
          ]
        },
        "id": "12rUAkjrc_YW",
        "outputId": "85a1db93-4a48-4db7-f9a9-abaad2a3cd24"
      },
      "outputs": [
        {
          "name": "stderr",
          "output_type": "stream",
          "text": [
            "/usr/local/lib/python3.12/dist-packages/huggingface_hub/utils/_auth.py:94: UserWarning: \n",
            "The secret `HF_TOKEN` does not exist in your Colab secrets.\n",
            "To authenticate with the Hugging Face Hub, create a token in your settings tab (https://huggingface.co/settings/tokens), set it as secret in your Google Colab and restart your session.\n",
            "You will be able to reuse this secret in all of your notebooks.\n",
            "Please note that authentication is recommended but still optional to access public models or datasets.\n",
            "  warnings.warn(\n"
          ]
        },
        {
          "data": {
            "application/vnd.jupyter.widget-view+json": {
              "model_id": "e7c913b7775e4de7a1174a821ecf107a",
              "version_major": 2,
              "version_minor": 0
            },
            "text/plain": [
              "modules.json:   0%|          | 0.00/387 [00:00<?, ?B/s]"
            ]
          },
          "metadata": {},
          "output_type": "display_data"
        },
        {
          "data": {
            "application/vnd.jupyter.widget-view+json": {
              "model_id": "e1f9a0dc09f34a8791fac195ecaf2ff1",
              "version_major": 2,
              "version_minor": 0
            },
            "text/plain": [
              "README.md: 0.00B [00:00, ?B/s]"
            ]
          },
          "metadata": {},
          "output_type": "display_data"
        },
        {
          "data": {
            "application/vnd.jupyter.widget-view+json": {
              "model_id": "25e2733d6c544b48b630532138770038",
              "version_major": 2,
              "version_minor": 0
            },
            "text/plain": [
              "sentence_bert_config.json:   0%|          | 0.00/57.0 [00:00<?, ?B/s]"
            ]
          },
          "metadata": {},
          "output_type": "display_data"
        },
        {
          "data": {
            "application/vnd.jupyter.widget-view+json": {
              "model_id": "b94c0a4c782344d59ece331a94337c20",
              "version_major": 2,
              "version_minor": 0
            },
            "text/plain": [
              "config.json:   0%|          | 0.00/655 [00:00<?, ?B/s]"
            ]
          },
          "metadata": {},
          "output_type": "display_data"
        },
        {
          "data": {
            "application/vnd.jupyter.widget-view+json": {
              "model_id": "6b868c1085db4b2f88fd249bd7d2ae55",
              "version_major": 2,
              "version_minor": 0
            },
            "text/plain": [
              "model.safetensors:   0%|          | 0.00/471M [00:00<?, ?B/s]"
            ]
          },
          "metadata": {},
          "output_type": "display_data"
        },
        {
          "data": {
            "application/vnd.jupyter.widget-view+json": {
              "model_id": "58db822343b541009b7771fd9da4713b",
              "version_major": 2,
              "version_minor": 0
            },
            "text/plain": [
              "tokenizer_config.json:   0%|          | 0.00/443 [00:00<?, ?B/s]"
            ]
          },
          "metadata": {},
          "output_type": "display_data"
        },
        {
          "data": {
            "application/vnd.jupyter.widget-view+json": {
              "model_id": "57a8d7041f9d4198a781b60218840803",
              "version_major": 2,
              "version_minor": 0
            },
            "text/plain": [
              "sentencepiece.bpe.model:   0%|          | 0.00/5.07M [00:00<?, ?B/s]"
            ]
          },
          "metadata": {},
          "output_type": "display_data"
        },
        {
          "data": {
            "application/vnd.jupyter.widget-view+json": {
              "model_id": "5d7104e8b7914f00b5d6a2dd592dab59",
              "version_major": 2,
              "version_minor": 0
            },
            "text/plain": [
              "tokenizer.json:   0%|          | 0.00/17.1M [00:00<?, ?B/s]"
            ]
          },
          "metadata": {},
          "output_type": "display_data"
        },
        {
          "data": {
            "application/vnd.jupyter.widget-view+json": {
              "model_id": "e7648751a37f48c696c910dd003b2dd9",
              "version_major": 2,
              "version_minor": 0
            },
            "text/plain": [
              "special_tokens_map.json:   0%|          | 0.00/167 [00:00<?, ?B/s]"
            ]
          },
          "metadata": {},
          "output_type": "display_data"
        },
        {
          "data": {
            "application/vnd.jupyter.widget-view+json": {
              "model_id": "e73c281d58114b87a01b17dd63cac83a",
              "version_major": 2,
              "version_minor": 0
            },
            "text/plain": [
              "config.json:   0%|          | 0.00/200 [00:00<?, ?B/s]"
            ]
          },
          "metadata": {},
          "output_type": "display_data"
        },
        {
          "data": {
            "text/plain": [
              "4110"
            ]
          },
          "execution_count": 29,
          "metadata": {},
          "output_type": "execute_result"
        }
      ],
      "source": [
        "from sentence_transformers import SentenceTransformer\n",
        "\n",
        "# HuggingFace 임베딩 주소 지정하기\n",
        "# nlpai-lab/KURE-v1 , baai/bge-m3, 등의 주소를 입력하여 지정\n",
        "\n",
        "model_name = 'intfloat/multilingual-e5-small'\n",
        "\n",
        "# CPU 설정으로 모델 불러오기\n",
        "# device='cuda'로 변경하면 GPU에서 로드\n",
        "emb_model = SentenceTransformer(model_name, device='cpu')\n",
        "\n",
        "# 로컬 폴더에 모델 저장하기\n",
        "emb_model.save('./embedding')\n",
        "del emb_model\n",
        "\n",
        "import gc\n",
        "gc.collect()\n",
        "# 메모리 정리하기"
      ]
    },
    {
      "cell_type": "code",
      "execution_count": 30,
      "metadata": {
        "id": "yO0pezeTc_YW"
      },
      "outputs": [],
      "source": [
        "from langchain_huggingface import HuggingFaceEmbeddings\n",
        "\n",
        "# 허깅페이스 포맷의 임베딩 모델 불러오기\n",
        "embeddings = HuggingFaceEmbeddings(model_name= './embedding',\n",
        "                                   model_kwargs={'device':'cuda'})\n",
        "# GPU가 있는 경우, CUDA(GPU) 설정"
      ]
    },
    {
      "cell_type": "code",
      "execution_count": 31,
      "metadata": {
        "id": "14hRqp_ac_YW"
      },
      "outputs": [],
      "source": [
        "store = InMemoryStore(\n",
        "    index={\n",
        "        \"embed\": embeddings,\n",
        "        \"dims\": 1024, # 임베딩 차원(모델마다 다름)\n",
        "        \"fields\": [\"comments\"] # 임베딩을 활용해 저장할 필드 지정\n",
        "    }\n",
        ")"
      ]
    },
    {
      "cell_type": "code",
      "execution_count": 32,
      "metadata": {
        "colab": {
          "base_uri": "https://localhost:8080/",
          "height": 36
        },
        "id": "4ECD-Ly0c_YW",
        "outputId": "b0c703c5-a311-4e6e-d6ee-8dc8ec866b06"
      },
      "outputs": [
        {
          "data": {
            "application/vnd.google.colaboratory.intrinsic+json": {
              "type": "string"
            },
            "text/plain": [
              "'5ea85394-4c2f-4a2c-af26-1c1d0550cd29'"
            ]
          },
          "execution_count": 32,
          "metadata": {},
          "output_type": "execute_result"
        }
      ],
      "source": [
        "memory_id"
      ]
    },
    {
      "cell_type": "code",
      "execution_count": 33,
      "metadata": {
        "colab": {
          "base_uri": "https://localhost:8080/"
        },
        "id": "Awue0iGZc_YW",
        "outputId": "e95bbe13-5b2e-4d12-8516-db8b23c516ce"
      },
      "outputs": [
        {
          "data": {
            "text/plain": [
              "[Item(namespace=['1', 'information'], key='15f64ae9-0d72-4440-a559-17aeda614b99', value={'ID': 'JohnDoe1', 'comments': '안녕하세요! 저는 John Doe이고, 23살입니다.'}, created_at='2025-10-26T05:33:15.617568+00:00', updated_at='2025-10-26T05:33:15.617575+00:00', score=None)]"
            ]
          },
          "execution_count": 33,
          "metadata": {},
          "output_type": "execute_result"
        }
      ],
      "source": [
        "namespace_for_memory = ('1', 'information')\n",
        "memory_id = str(uuid.uuid4())\n",
        "\n",
        "store.put(namespace_for_memory,\n",
        "          memory_id,\n",
        "          {'ID':'JohnDoe1', 'comments':'안녕하세요! 저는 John Doe이고, 23살입니다.'})\n",
        "\n",
        "store.search(namespace_for_memory, limit=20)"
      ]
    },
    {
      "cell_type": "code",
      "execution_count": 34,
      "metadata": {
        "colab": {
          "base_uri": "https://localhost:8080/"
        },
        "id": "4Cf_m1Lmc_YW",
        "outputId": "5a0675c0-1679-468b-f22a-10f0ca65ba28"
      },
      "outputs": [
        {
          "data": {
            "text/plain": [
              "[Item(namespace=['1', 'information'], key='15f64ae9-0d72-4440-a559-17aeda614b99', value={'ID': 'JohnDoe1', 'comments': '안녕하세요! 저는 John Doe이고, 23살입니다.'}, created_at='2025-10-26T05:33:15.617568+00:00', updated_at='2025-10-26T05:33:15.617575+00:00', score=None),\n",
              " Item(namespace=['1', 'information'], key='54379159-e0e9-4608-9f7f-770d7b02ebc1', value={'Hello': 'world'}, created_at='2025-10-26T05:33:15.647921+00:00', updated_at='2025-10-26T05:33:15.647932+00:00', score=None),\n",
              " Item(namespace=['1', 'information'], key='43e4971e-7b56-446e-b572-d575a8737782', value={'ID': 'Admin', 'comments': '이 계정은 운영 전용 계정입니다.'}, created_at='2025-10-26T05:33:15.670042+00:00', updated_at='2025-10-26T05:33:15.670045+00:00', score=None),\n",
              " Item(namespace=['1', 'information'], key='53a1db81-b3e3-48ae-bbee-392d4b2ddd96', value={'ID': 'GPT_Agent1', 'comments': 'GPT-4o Agent 전용 계정'}, created_at='2025-10-26T05:33:15.686779+00:00', updated_at='2025-10-26T05:33:15.686781+00:00', score=None),\n",
              " Item(namespace=['1', 'information'], key='84c37fc1-7890-45dc-9a10-c00f4d4c93cd', value={'ID': 'Gemini_Agent1', 'comments': 'Gemini-2.0-flash Agent 전용 계정'}, created_at='2025-10-26T05:33:15.703512+00:00', updated_at='2025-10-26T05:33:15.703514+00:00', score=None)]"
            ]
          },
          "execution_count": 34,
          "metadata": {},
          "output_type": "execute_result"
        }
      ],
      "source": [
        "def add_records(store, namespace, data_records):\n",
        "    for data in data_records:\n",
        "        store.put(namespace, str(uuid.uuid4()), data)\n",
        "\n",
        "example_data = [\n",
        "    {'Hello':'world'},\n",
        "    {'ID':'Admin', 'comments':'이 계정은 운영 전용 계정입니다.'},\n",
        "    {'ID':'GPT_Agent1', 'comments':'GPT-4o Agent 전용 계정'},\n",
        "    {'ID':'Gemini_Agent1', 'comments':'Gemini-2.0-flash Agent 전용 계정'}\n",
        "]\n",
        "\n",
        "add_records(store,namespace_for_memory, example_data)\n",
        "\n",
        "\n",
        "history = store.search(namespace_for_memory)\n",
        "history"
      ]
    },
    {
      "cell_type": "code",
      "execution_count": 35,
      "metadata": {
        "colab": {
          "base_uri": "https://localhost:8080/"
        },
        "id": "8aBGmi9Ec_YW",
        "outputId": "6598ca9a-8ed1-4de5-d457-785651f6650a"
      },
      "outputs": [
        {
          "name": "stdout",
          "output_type": "stream",
          "text": [
            "[2025-10-26] 안녕하세요! 저는 John Doe이고, 23살입니다.\n",
            "\n",
            "[2025-10-26] 이 계정은 운영 전용 계정입니다.\n",
            "[2025-10-26] GPT-4o Agent 전용 계정\n",
            "[2025-10-26] Gemini-2.0-flash Agent 전용 계정\n"
          ]
        }
      ],
      "source": [
        "print('\\n'.join(['['+str(i.created_at)[0:10] + '] ' + i.value['comments'] if 'comments' in i.value else '' for i in history]))"
      ]
    },
    {
      "cell_type": "code",
      "execution_count": 36,
      "metadata": {
        "colab": {
          "base_uri": "https://localhost:8080/"
        },
        "id": "NaFjsgL9c_YX",
        "outputId": "4383d3e3-61b7-4ffb-9a4b-f6b1da1c690f"
      },
      "outputs": [
        {
          "data": {
            "text/plain": [
              "[Item(namespace=['1', 'information'], key='84c37fc1-7890-45dc-9a10-c00f4d4c93cd', value={'ID': 'Gemini_Agent1', 'comments': 'Gemini-2.0-flash Agent 전용 계정'}, created_at='2025-10-26T05:33:15.703512+00:00', updated_at='2025-10-26T05:33:15.703514+00:00', score=0.894333969781483),\n",
              " Item(namespace=['1', 'information'], key='53a1db81-b3e3-48ae-bbee-392d4b2ddd96', value={'ID': 'GPT_Agent1', 'comments': 'GPT-4o Agent 전용 계정'}, created_at='2025-10-26T05:33:15.686779+00:00', updated_at='2025-10-26T05:33:15.686781+00:00', score=0.8406650756732776)]"
            ]
          },
          "execution_count": 36,
          "metadata": {},
          "output_type": "execute_result"
        }
      ],
      "source": [
        "result = store.search(\n",
        "    namespace_for_memory,\n",
        "    query = 'Gemini Agent 버전은 뭔가요?',\n",
        "    limit = 2\n",
        ")\n",
        "result"
      ]
    },
    {
      "cell_type": "code",
      "execution_count": 37,
      "metadata": {
        "colab": {
          "base_uri": "https://localhost:8080/",
          "height": 138
        },
        "id": "RKHoy-Zqc_YX",
        "outputId": "4583e346-1a92-4cdf-c626-5e6d35fc07fb"
      },
      "outputs": [
        {
          "data": {
            "text/html": [
              "<div style=\"max-width:800px; border: 1px solid var(--colab-border-color);\"><style>\n",
              "      pre.function-repr-contents {\n",
              "        overflow-x: auto;\n",
              "        padding: 8px 12px;\n",
              "        max-height: 500px;\n",
              "      }\n",
              "\n",
              "      pre.function-repr-contents.function-repr-contents-collapsed {\n",
              "        cursor: pointer;\n",
              "        max-height: 100px;\n",
              "      }\n",
              "    </style>\n",
              "    <pre style=\"white-space: initial; background:\n",
              "         var(--colab-secondary-surface-color); padding: 8px 12px;\n",
              "         border-bottom: 1px solid var(--colab-border-color);\"><b>langgraph.store.base.SearchItem</b><br/>def __init__(namespace: tuple[str, ...], key: str, value: dict[str, Any], created_at: datetime, updated_at: datetime, score: float | None=None) -&gt; None</pre><pre class=\"function-repr-contents function-repr-contents-collapsed\" style=\"\"><a class=\"filepath\" style=\"display:none\" href=\"#\">/usr/local/lib/python3.12/dist-packages/langgraph/store/base/__init__.py</a>Represents an item returned from a search operation with additional metadata.</pre>\n",
              "      <script>\n",
              "      if (google.colab.kernel.accessAllowed && google.colab.files && google.colab.files.view) {\n",
              "        for (const element of document.querySelectorAll('.filepath')) {\n",
              "          element.style.display = 'block'\n",
              "          element.onclick = (event) => {\n",
              "            event.preventDefault();\n",
              "            event.stopPropagation();\n",
              "            google.colab.files.view(element.textContent, 118);\n",
              "          };\n",
              "        }\n",
              "      }\n",
              "      for (const element of document.querySelectorAll('.function-repr-contents')) {\n",
              "        element.onclick = (event) => {\n",
              "          event.preventDefault();\n",
              "          event.stopPropagation();\n",
              "          element.classList.toggle('function-repr-contents-collapsed');\n",
              "        };\n",
              "      }\n",
              "      </script>\n",
              "      </div>"
            ],
            "text/plain": [
              "langgraph.store.base.SearchItem"
            ]
          },
          "execution_count": 37,
          "metadata": {},
          "output_type": "execute_result"
        }
      ],
      "source": [
        "type(result[0])"
      ]
    },
    {
      "cell_type": "markdown",
      "metadata": {
        "id": "HVSPdRaGc_YX"
      },
      "source": [
        "이렇게 생성된 store는 각 Node에 State와 함께 포함할 수 있습니다.  \n",
        "실제 채팅 시나리오를 통해 구현해 보겠습니다."
      ]
    },
    {
      "cell_type": "code",
      "execution_count": 38,
      "metadata": {
        "id": "H6QrPWbbc_YX"
      },
      "outputs": [],
      "source": [
        "from langgraph.checkpoint.sqlite import SqliteSaver\n",
        "\n",
        "\n",
        "memory = MemorySaver()\n",
        "in_memory_store = InMemoryStore()"
      ]
    },
    {
      "cell_type": "code",
      "execution_count": 39,
      "metadata": {
        "colab": {
          "base_uri": "https://localhost:8080/",
          "height": 497
        },
        "id": "KfUcO2ZVc_YX",
        "outputId": "a92f8f90-cdb7-4217-8df6-2e2a600e8a4d"
      },
      "outputs": [
        {
          "data": {
            "image/png": "[encoded data removed]",
            "text/plain": [
              "<langgraph.graph.state.CompiledStateGraph object at 0x789cbd44a8a0>"
            ]
          },
          "execution_count": 39,
          "metadata": {},
          "output_type": "execute_result"
        }
      ],
      "source": [
        "from typing import Annotated\n",
        "from typing_extensions import TypedDict, List\n",
        "from langchain_core.messages import HumanMessage, AIMessage, SystemMessage, RemoveMessage\n",
        "from langgraph.graph.message import add_messages\n",
        "from langgraph.graph import StateGraph, state, START, END\n",
        "from langgraph.store.base import BaseStore\n",
        "from langchain_core.runnables import RunnableConfig\n",
        "\n",
        "\n",
        "class State(TypedDict):\n",
        "    messages: Annotated[list, add_messages]\n",
        "    summary: str\n",
        "\n",
        "\n",
        "\n",
        "def call_model(state: State, config: RunnableConfig, store: BaseStore):\n",
        "\n",
        "    user_id = config['configurable']['user_id']\n",
        "    namespace = (user_id, \"information\")\n",
        "\n",
        "    def gen_memories(history):\n",
        "        return '\\n'.join(['['+str(i.created_at)[0:10] + '] ' + i.value['memory'] if 'memory' in i.value else '' for i in history])\n",
        "\n",
        "    summary = gen_memories(store.search(namespace))\n",
        "\n",
        "    prompt = [SystemMessage(content=f\"\"\"\n",
        "당신은 고객 상담 챗봇입니다.\n",
        "고객은 이전에 아래의 상담을 한 적이 있습니다. 과거 내역을 참고하여 응답하세요.\n",
        "첫 대화는 친절한 인사로 시작하세요.\n",
        "---\n",
        "Previous Conversation Summary: {summary}\"\"\"), HumanMessage(content=\"안녕하세요!\")] + state['messages']\n",
        "\n",
        "     # 과거 정보를 상위 Context에 포함하기\n",
        "    response = llm.invoke(prompt)\n",
        "    print('Assistant:', response.content)\n",
        "\n",
        "    user_message = HumanMessage(content = input())\n",
        "\n",
        "\n",
        "    return {\"messages\": [response, user_message]}\n",
        "\n",
        "def summarize_conversation(state: State, config: RunnableConfig, store: BaseStore):\n",
        "\n",
        "    summary_prompt = \"\"\"현재까지의 대화 내용을 요약하여 데이터베이스에 저장하려고 합니다.\n",
        "이전의 Summary 내용과 이어지는 경우, 해당 내용을 포함하여 요약하세요.\n",
        "만약 새로운 주제인 경우, 새로운 대화 내용만 요약하세요.\n",
        "대화 내용을 3~5문장 길이로 요약하세요. 요약 이외의 다른 내용은 출력하지 마세요.\n",
        "또한, 요약을 요청했다는 사실도 작성하지 마세요.\n",
        "\"\"\"\n",
        "    prompt = state['messages'][:-1] + [HumanMessage(content = summary_prompt)]\n",
        "    # END 제외\n",
        "\n",
        "    response = llm.invoke(prompt)\n",
        "\n",
        "    delete_messages = [RemoveMessage(id=m.id) for m in state['messages']]\n",
        "    return {'summary': response.content, 'messages':delete_messages}\n",
        "\n",
        "\n",
        "\n",
        "def update_memory(state:State, config: RunnableConfig, store:BaseStore):\n",
        "\n",
        "    user_id = config['configurable']['user_id']\n",
        "    namespace = (user_id, \"information\")\n",
        "\n",
        "    memory_id = str(uuid.uuid4())\n",
        "\n",
        "\n",
        "    memory = state[\"summary\"]\n",
        "\n",
        "    store.put(namespace, memory_id, {'memory':memory})\n",
        "\n",
        "def check_end(state:State):\n",
        "    last_msg = state[\"messages\"][-1]\n",
        "\n",
        "    if last_msg.content.upper()=='END':\n",
        "        return 'END'\n",
        "    return 'RESUME'\n",
        "\n",
        "builder = StateGraph(State)\n",
        "\n",
        "\n",
        "builder.add_node('update_memory', update_memory)\n",
        "builder.add_node(\"call_model\", call_model)\n",
        "builder.add_node('summarize_conversation', summarize_conversation)\n",
        "\n",
        "builder.add_edge(START, \"call_model\")\n",
        "builder.add_conditional_edges('call_model',\n",
        "                              check_end,\n",
        "                              {'END':'summarize_conversation',\n",
        "                               'RESUME':'call_model'})\n",
        "builder.add_edge('summarize_conversation','update_memory')\n",
        "builder.add_edge('update_memory', END)\n",
        "\n",
        "graph = builder.compile(checkpointer=memory, store=in_memory_store)\n",
        "\n",
        "graph\n",
        "# memory에 기록 저장"
      ]
    },
    {
      "cell_type": "code",
      "execution_count": 39,
      "metadata": {
        "id": "onD4mIggc_YX"
      },
      "outputs": [],
      "source": []
    },
    {
      "cell_type": "code",
      "execution_count": 40,
      "metadata": {
        "colab": {
          "base_uri": "https://localhost:8080/"
        },
        "id": "3laWr9EVc_YX",
        "outputId": "5c9976ab-6b28-4b92-a185-9868fccd9c8b"
      },
      "outputs": [
        {
          "name": "stdout",
          "output_type": "stream",
          "text": [
            "END를 입력하면 대화가 종료됩니다.\n",
            "Assistant: 안녕하세요! 고객님, 무엇을 도와드릴까요?\n",
            "안녕하세요, 오늘 생일인데 생일 쿠폰을 못 받았어요\n",
            "{'call_model': {'messages': [AIMessage(content='안녕하세요! 고객님, 무엇을 도와드릴까요?', additional_kwargs={}, response_metadata={'prompt_feedback': {'block_reason': 0, 'safety_ratings': []}, 'finish_reason': 'STOP', 'model_name': 'gemini-2.5-flash', 'safety_ratings': []}, id='run--8a1d096c-9b91-4334-8dc2-9e0fa6890c18-0', usage_metadata={'input_tokens': 60, 'output_tokens': 167, 'total_tokens': 227, 'input_token_details': {'cache_read': 0}, 'output_token_details': {'reasoning': 156}}), HumanMessage(content='안녕하세요, 오늘 생일인데 생일 쿠폰을 못 받았어요', additional_kwargs={}, response_metadata={}, id='dac7f58d-8a34-436f-9844-12d3e8ddd789')]}}\n",
            "Assistant: 안녕하세요, 고객님! 우선 생일 진심으로 축하드립니다! 🎉 오늘 특별한 날인데 생일 쿠폰을 받지 못하셨다니 불편하셨겠어요. 죄송합니다.\n",
            "\n",
            "생일 쿠폰은 보통 생일 당일 자정 이후에 자동으로 발급되거나, 생일 전 특정 기간에 미리 발급되는 경우가 많습니다. 혹시 고객님의 회원 정보에 등록된 생일과 오늘 날짜가 일치하는지, 그리고 쿠폰 발급 조건(예: 특정 등급 이상, 정보 동의 여부 등)을 충족하셨는지 확인해볼 필요가 있을 것 같아요.\n",
            "\n",
            "제가 고객님의 정보를 확인하여 쿠폰 발급 여부를 조회해 드릴 수 있을까요? 번거로우시겠지만, 고객님의 성함과 회원 아이디 또는 등록된 휴대폰 번호를 알려주시면 빠르게 확인 후 안내해 드리겠습니다.\n",
            "네, 이름은 OOO이고, 010-1234-5678이에요\n",
            "{'call_model': {'messages': [AIMessage(content='안녕하세요, 고객님! 우선 생일 진심으로 축하드립니다! 🎉 오늘 특별한 날인데 생일 쿠폰을 받지 못하셨다니 불편하셨겠어요. 죄송합니다.\\n\\n생일 쿠폰은 보통 생일 당일 자정 이후에 자동으로 발급되거나, 생일 전 특정 기간에 미리 발급되는 경우가 많습니다. 혹시 고객님의 회원 정보에 등록된 생일과 오늘 날짜가 일치하는지, 그리고 쿠폰 발급 조건(예: 특정 등급 이상, 정보 동의 여부 등)을 충족하셨는지 확인해볼 필요가 있을 것 같아요.\\n\\n제가 고객님의 정보를 확인하여 쿠폰 발급 여부를 조회해 드릴 수 있을까요? 번거로우시겠지만, 고객님의 성함과 회원 아이디 또는 등록된 휴대폰 번호를 알려주시면 빠르게 확인 후 안내해 드리겠습니다.', additional_kwargs={}, response_metadata={'prompt_feedback': {'block_reason': 0, 'safety_ratings': []}, 'finish_reason': 'STOP', 'model_name': 'gemini-2.5-flash', 'safety_ratings': []}, id='run--093f64d5-eca1-433d-bf3b-c4c4b03cffc6-0', usage_metadata={'input_tokens': 87, 'output_tokens': 301, 'total_tokens': 388, 'input_token_details': {'cache_read': 0}, 'output_token_details': {'reasoning': 114}}), HumanMessage(content='네, 이름은 OOO이고, 010-1234-5678이에요', additional_kwargs={}, response_metadata={}, id='72bfeeac-905e-4d62-a45c-c361e34e922b')]}}\n",
            "Assistant: 네, OOO 고객님, 그리고 휴대폰 번호 010-1234-5678로 확인해주셔서 감사합니다.\n",
            "\n",
            "지금 바로 고객님의 정보를 조회하여 생일 쿠폰 발급 여부를 확인해 보겠습니다. 잠시만 기다려 주시면 확인되는 대로 다시 안내해 드릴게요. 불편을 드려 죄송합니다.\n",
            "END\n",
            "{'call_model': {'messages': [AIMessage(content='네, OOO 고객님, 그리고 휴대폰 번호 010-1234-5678로 확인해주셔서 감사합니다.\\n\\n지금 바로 고객님의 정보를 조회하여 생일 쿠폰 발급 여부를 확인해 보겠습니다. 잠시만 기다려 주시면 확인되는 대로 다시 안내해 드릴게요. 불편을 드려 죄송합니다.', additional_kwargs={}, response_metadata={'prompt_feedback': {'block_reason': 0, 'safety_ratings': []}, 'finish_reason': 'STOP', 'model_name': 'gemini-2.5-flash', 'safety_ratings': []}, id='run--6621df34-ef87-4059-b7bd-d5efc790959b-0', usage_metadata={'input_tokens': 299, 'output_tokens': 196, 'total_tokens': 495, 'input_token_details': {'cache_read': 0}, 'output_token_details': {'reasoning': 120}}), HumanMessage(content='END', additional_kwargs={}, response_metadata={}, id='9d53cd0f-a692-490d-aef3-b6d0d152dbc4')]}}\n",
            "{'summarize_conversation': {'summary': '고객이 생일 당일임에도 생일 쿠폰을 받지 못했다고 문의했습니다. 상담사는 고객의 생일을 축하하며 쿠폰 미수신에 대한 불편에 사과하고, 쿠폰 발급 여부 확인을 위해 고객 정보 조회가 필요하다고 안내했습니다. 이에 고객은 본인의 이름 OOO과 휴대폰 번호 010-1234-5678을 제공했습니다. 상담사는 제공된 정보로 쿠폰 발급 여부를 확인하겠다고 응답했습니다.', 'messages': [RemoveMessage(content='', additional_kwargs={}, response_metadata={}, id='run--8a1d096c-9b91-4334-8dc2-9e0fa6890c18-0'), RemoveMessage(content='', additional_kwargs={}, response_metadata={}, id='dac7f58d-8a34-436f-9844-12d3e8ddd789'), RemoveMessage(content='', additional_kwargs={}, response_metadata={}, id='run--093f64d5-eca1-433d-bf3b-c4c4b03cffc6-0'), RemoveMessage(content='', additional_kwargs={}, response_metadata={}, id='72bfeeac-905e-4d62-a45c-c361e34e922b'), RemoveMessage(content='', additional_kwargs={}, response_metadata={}, id='run--6621df34-ef87-4059-b7bd-d5efc790959b-0'), RemoveMessage(content='', additional_kwargs={}, response_metadata={}, id='9d53cd0f-a692-490d-aef3-b6d0d152dbc4')]}}\n",
            "{'update_memory': None}\n"
          ]
        }
      ],
      "source": [
        "print('END를 입력하면 대화가 종료됩니다.')\n",
        "\n",
        "config = {'configurable':{'thread_id':'2', 'user_id':'admin'}}\n",
        "for data in graph.stream(\n",
        "    {'messages':[]},\n",
        "    config,stream_mode=\"updates\"):\n",
        "    print(data)"
      ]
    },
    {
      "cell_type": "code",
      "execution_count": 41,
      "metadata": {
        "colab": {
          "base_uri": "https://localhost:8080/"
        },
        "id": "vcIVjFUyc_YX",
        "outputId": "6a6f130f-eaa0-45a7-dea5-de4fd6c7bc16"
      },
      "outputs": [
        {
          "name": "stdout",
          "output_type": "stream",
          "text": [
            "Assistant: 안녕하세요, 고객님! 다시 찾아주셔서 감사합니다.\n",
            "\n",
            "지난번에 문의 주셨던 생일 쿠폰 발급 여부에 대해 고객님의 정보(이름 OOO, 휴대폰 번호 010-1234-5678)로 확인해 드렸습니다.\n",
            "\n",
            "확인 결과, 고객님의 생일이셨음에도 불구하고 쿠폰이 정상적으로 발급되지 않은 것을 확인했습니다. 불편을 드려 정말 죄송합니다.\n",
            "\n",
            "고객님께 즉시 생일 쿠폰을 수동으로 발급 처리해 드렸습니다. 잠시 후 [앱/웹사이트]의 마이페이지에서 확인하실 수 있으실 겁니다.\n",
            "\n",
            "혹시 추가적으로 궁금하신 점이 있으시다면 언제든지 말씀해주세요.\n",
            "감사합니다. 확인했어요.\n",
            "Assistant: 네, 고객님! 확인해 주셨다니 다행입니다.\n",
            "\n",
            "쿠폰이 정상적으로 발급되어 사용하실 수 있게 되어 저도 기쁩니다. 다시 한번 생일 쿠폰 발급에 불편을 드린 점 사과드립니다.\n",
            "\n",
            "혹시 앞으로 또 다른 문의사항이 생기시거나 도움이 필요하시면 언제든지 편하게 말씀해주세요. 즐거운 하루 보내세요!\n",
            "END\n"
          ]
        },
        {
          "data": {
            "text/plain": [
              "{'messages': [],\n",
              " 'summary': '고객은 생일 쿠폰 미발급 문제에 대해 문의했습니다. 상담사는 고객의 정보(이름 OOO, 휴대폰 번호 010-1234-5678)로 확인 후, 쿠폰이 정상적으로 발급되지 않은 것을 확인했습니다. 이에 상담사는 불편을 사과하고 즉시 생일 쿠폰을 수동으로 발급 처리했습니다. 고객은 앱/웹사이트에서 쿠폰 발급을 확인했으며, 상담사는 확인에 대해 기쁨을 표하며 다시 한번 불편을 드린 점에 대해 사과했습니다.'}"
            ]
          },
          "execution_count": 41,
          "metadata": {},
          "output_type": "execute_result"
        }
      ],
      "source": [
        "config = {'configurable':{'thread_id':'8', 'user_id':'admin'}}\n",
        "graph.invoke({'messages':[]}, config)"
      ]
    },
    {
      "cell_type": "code",
      "execution_count": 42,
      "metadata": {
        "colab": {
          "base_uri": "https://localhost:8080/"
        },
        "id": "QKQ6nCH4c_YX",
        "outputId": "2f8ef75c-3ffc-44b1-e9b3-7f6e6148de63"
      },
      "outputs": [
        {
          "data": {
            "text/plain": [
              "StateSnapshot(values={'messages': [], 'summary': '고객은 생일 쿠폰 미발급 문제에 대해 문의했습니다. 상담사는 고객의 정보(이름 OOO, 휴대폰 번호 010-1234-5678)로 확인 후, 쿠폰이 정상적으로 발급되지 않은 것을 확인했습니다. 이에 상담사는 불편을 사과하고 즉시 생일 쿠폰을 수동으로 발급 처리했습니다. 고객은 앱/웹사이트에서 쿠폰 발급을 확인했으며, 상담사는 확인에 대해 기쁨을 표하며 다시 한번 불편을 드린 점에 대해 사과했습니다.'}, next=(), config={'configurable': {'thread_id': '8', 'checkpoint_ns': '', 'checkpoint_id': '1f0b22dc-1327-6e12-8004-c1c571e440fc'}}, metadata={'source': 'loop', 'step': 4, 'parents': {}, 'user_id': 'admin'}, created_at='2025-10-26T05:36:43.306945+00:00', parent_config={'configurable': {'thread_id': '8', 'checkpoint_ns': '', 'checkpoint_id': '1f0b22dc-1324-6101-8003-5db1bf42b97e'}}, tasks=(), interrupts=())"
            ]
          },
          "execution_count": 42,
          "metadata": {},
          "output_type": "execute_result"
        }
      ],
      "source": [
        "graph.get_state(config=config)"
      ]
    },
    {
      "cell_type": "code",
      "execution_count": 43,
      "metadata": {
        "colab": {
          "base_uri": "https://localhost:8080/"
        },
        "id": "yfu1n3gUc_YX",
        "outputId": "f1cf1624-3ed2-46b2-df30-d45a9e0ebbfa"
      },
      "outputs": [
        {
          "data": {
            "text/plain": [
              "[('admin', 'information')]"
            ]
          },
          "execution_count": 43,
          "metadata": {},
          "output_type": "execute_result"
        }
      ],
      "source": [
        "in_memory_store.list_namespaces()"
      ]
    },
    {
      "cell_type": "code",
      "execution_count": 44,
      "metadata": {
        "colab": {
          "base_uri": "https://localhost:8080/"
        },
        "id": "sUzuioD7c_YX",
        "outputId": "ef6f43a4-4b04-4a50-d897-9881dc69add6"
      },
      "outputs": [
        {
          "data": {
            "text/plain": [
              "[]"
            ]
          },
          "execution_count": 44,
          "metadata": {},
          "output_type": "execute_result"
        }
      ],
      "source": [
        "in_memory_store.search(('HH', 'information'))"
      ]
    },
    {
      "cell_type": "code",
      "execution_count": 45,
      "metadata": {
        "colab": {
          "base_uri": "https://localhost:8080/"
        },
        "id": "SU9DPl1yc_YX",
        "outputId": "239240b3-4f93-4ad4-cf16-ef2eadc056be"
      },
      "outputs": [
        {
          "name": "stdout",
          "output_type": "stream",
          "text": [
            "Assistant: 안녕하세요, 고객님! 다시 찾아주셔서 감사합니다.\n",
            "\n",
            "혹시 지난번 생일 쿠폰은 잘 사용하고 계신가요? 불편함 없이 잘 해결되셨기를 바랍니다.\n",
            "\n",
            "또 다른 궁금하신 점이나 도움이 필요하시면 언제든지 말씀해주세요! 😊\n",
            "네~ 오늘은 다 해결됐어요.\n",
            "{'call_model': {'messages': [AIMessage(content='안녕하세요, 고객님! 다시 찾아주셔서 감사합니다.\\n\\n혹시 지난번 생일 쿠폰은 잘 사용하고 계신가요? 불편함 없이 잘 해결되셨기를 바랍니다.\\n\\n또 다른 궁금하신 점이나 도움이 필요하시면 언제든지 말씀해주세요! 😊', additional_kwargs={}, response_metadata={'prompt_feedback': {'block_reason': 0, 'safety_ratings': []}, 'finish_reason': 'STOP', 'model_name': 'gemini-2.5-flash', 'safety_ratings': []}, id='run--bdc804e6-db36-4fb8-a783-1a067b576e8d-0', usage_metadata={'input_tokens': 318, 'output_tokens': 466, 'total_tokens': 784, 'input_token_details': {'cache_read': 0}, 'output_token_details': {'reasoning': 411}}), HumanMessage(content='네~ 오늘은 다 해결됐어요.', additional_kwargs={}, response_metadata={}, id='81bfd173-1a09-4b90-9ee5-b531934a7db5')]}}\n",
            "Assistant: 네, 고객님! 지난번 생일 쿠폰 문제가 잘 해결되셨다니 정말 다행입니다. 😊\n",
            "\n",
            "혹시 오늘은 또 어떤 일로 문의를 주셨을까요? 제가 도와드릴 수 있는 부분이 있다면 언제든지 말씀해주세요!\n",
            "END\n",
            "{'call_model': {'messages': [AIMessage(content='네, 고객님! 지난번 생일 쿠폰 문제가 잘 해결되셨다니 정말 다행입니다. 😊\\n\\n혹시 오늘은 또 어떤 일로 문의를 주셨을까요? 제가 도와드릴 수 있는 부분이 있다면 언제든지 말씀해주세요!', additional_kwargs={}, response_metadata={'prompt_feedback': {'block_reason': 0, 'safety_ratings': []}, 'finish_reason': 'STOP', 'model_name': 'gemini-2.5-flash', 'safety_ratings': []}, id='run--746faf0d-9bf7-4fab-a808-4f084bda76f5-0', usage_metadata={'input_tokens': 383, 'output_tokens': 170, 'total_tokens': 553, 'input_token_details': {'cache_read': 0}, 'output_token_details': {'reasoning': 119}}), HumanMessage(content='END', additional_kwargs={}, response_metadata={}, id='d8129a7b-b082-465e-b579-53207981817c')]}}\n",
            "{'summarize_conversation': {'summary': '상담사는 고객을 환영하며 지난번 생일 쿠폰 사용 관련 문의가 잘 해결되었는지 확인했습니다. 고객은 이전의 문제가 모두 해결되었다고 답변했습니다. 이에 상담사는 고객의 문제가 원만히 해결된 것에 기쁨을 표하며, 오늘 방문한 다른 목적이나 도움이 필요한 부분이 있는지 문의했습니다.', 'messages': [RemoveMessage(content='', additional_kwargs={}, response_metadata={}, id='run--bdc804e6-db36-4fb8-a783-1a067b576e8d-0'), RemoveMessage(content='', additional_kwargs={}, response_metadata={}, id='81bfd173-1a09-4b90-9ee5-b531934a7db5'), RemoveMessage(content='', additional_kwargs={}, response_metadata={}, id='run--746faf0d-9bf7-4fab-a808-4f084bda76f5-0'), RemoveMessage(content='', additional_kwargs={}, response_metadata={}, id='d8129a7b-b082-465e-b579-53207981817c')]}}\n",
            "{'update_memory': None}\n"
          ]
        }
      ],
      "source": [
        "# 다른 thread id로 해도 이전 정보를 참고함\n",
        "config = {'configurable':{'thread_id':'9', 'user_id':'admin'}}\n",
        "for data in graph.stream(\n",
        "    {'messages':[]},\n",
        "    config,stream_mode=\"updates\"):\n",
        "    print(data)"
      ]
    },
    {
      "cell_type": "code",
      "execution_count": 45,
      "metadata": {
        "id": "hEQw-Ewuc_YX"
      },
      "outputs": [],
      "source": []
    },
    {
      "cell_type": "markdown",
      "metadata": {
        "id": "JqWxKCxVc_YX"
      },
      "source": [
        "# SQLite Store 사용하기"
      ]
    },
    {
      "cell_type": "markdown",
      "metadata": {
        "id": "AJhzBhvyc_YY"
      },
      "source": [
        "외부 DB를 연동하는 기능은 현재 직접 지원하지 않으며, BaseStore Class를 이용해 구현해야 합니다.   \n",
        "PostGresStore를 사용하는 경우: https://langchain-ai.github.io/langgraph/reference/store/#langgraph.store.postgres.PostgresStore"
      ]
    },
    {
      "cell_type": "code",
      "execution_count": 46,
      "metadata": {
        "id": "58oFJuRZc_YY"
      },
      "outputs": [],
      "source": [
        "from langgraph.store.base import BaseStore, SearchItem\n",
        "from typing import List, Optional, Dict, Any, Tuple\n",
        "import sqlite3\n",
        "import json\n",
        "from datetime import datetime\n",
        "import uuid\n",
        "import numpy as np\n",
        "from sentence_transformers import SentenceTransformer\n",
        "\n",
        "class SQLiteStore(BaseStore):\n",
        "    def __init__(self, db_path: str = \"store.db\", embedding_model: str = 'intfloat/multilingual-e5-large'):\n",
        "        self.db_path = db_path\n",
        "        self.conn = sqlite3.connect(db_path, check_same_thread=False)\n",
        "        self.embedding_model = embedding_model\n",
        "        self._setup()\n",
        "\n",
        "    def _setup(self):\n",
        "        \"\"\"데이터베이스 테이블 생성\"\"\"\n",
        "        cursor = self.conn.cursor()\n",
        "\n",
        "        # 메인 스토어 테이블\n",
        "        cursor.execute(\"\"\"\n",
        "            CREATE TABLE IF NOT EXISTS store (\n",
        "                namespace TEXT,\n",
        "                key TEXT,\n",
        "                value TEXT,\n",
        "                created_at TEXT,\n",
        "                updated_at TEXT,\n",
        "                PRIMARY KEY (namespace, key)\n",
        "            )\n",
        "        \"\"\")\n",
        "\n",
        "        # 임베딩 테이블\n",
        "        cursor.execute(\"\"\"\n",
        "            CREATE TABLE IF NOT EXISTS embeddings (\n",
        "                namespace TEXT,\n",
        "                key TEXT,\n",
        "                embedding BLOB,\n",
        "                text TEXT,\n",
        "                PRIMARY KEY (namespace, key),\n",
        "                FOREIGN KEY (namespace, key) REFERENCES store(namespace, key)\n",
        "            )\n",
        "        \"\"\")\n",
        "\n",
        "        self.conn.commit()\n",
        "\n",
        "    def _get_embedding(self, text: str) -> np.ndarray:\n",
        "        \"\"\"텍스트의 임베딩 벡터 생성\"\"\"\n",
        "        model = SentenceTransformer(self.embedding_model)\n",
        "        return model.encode(text)\n",
        "\n",
        "    def _cosine_similarity(self, a: np.ndarray, b: np.ndarray) -> float:\n",
        "        \"\"\"코사인 유사도 계산\"\"\"\n",
        "        return np.dot(a, b) / (np.linalg.norm(a) * np.linalg.norm(b))\n",
        "\n",
        "\n",
        "    def batch(self, operations: List[Tuple[str, Tuple[str, ...], str, Dict[str, Any]]]) -> None:\n",
        "        \"\"\"일괄 작업 처리\"\"\"\n",
        "        for op, namespace, key, value in operations:\n",
        "            if op == \"put\":\n",
        "                self.put(namespace, key, value)\n",
        "            elif op == \"delete\":\n",
        "                self.delete(namespace, key)\n",
        "    async def abatch(self, operations: List[Tuple[str, Tuple[str, ...], str, Dict[str, Any]]]) -> None:\n",
        "        \"\"\"비동기 일괄 작업 처리\"\"\"\n",
        "        self.batch(operations)  # SQLite는 기본적으로 동기식이므로 동기 메서드를 호출\n",
        "\n",
        "\n",
        "\n",
        "\n",
        "    def put(self, namespace: Tuple[str, ...], key: str, value: Dict[str, Any], index: bool = True) -> None:\n",
        "        \"\"\"데이터 저장\"\"\"\n",
        "        namespace_str = json.dumps(namespace)\n",
        "        value_str = json.dumps(value)\n",
        "        now = datetime.utcnow().isoformat()\n",
        "\n",
        "        cursor = self.conn.cursor()\n",
        "        cursor.execute(\"\"\"\n",
        "            INSERT OR REPLACE INTO store (namespace, key, value, created_at, updated_at)\n",
        "            VALUES (?, ?, ?, ?, ?)\n",
        "        \"\"\", (namespace_str, key, value_str, now, now))\n",
        "\n",
        "        # 임베딩 저장\n",
        "        if index:\n",
        "            # value에서 텍스트 추출 (예: 'memory' 필드)\n",
        "            text_to_embed = value.get('memory', '') if isinstance(value, dict) else str(value)\n",
        "            if text_to_embed:\n",
        "                embedding = self._get_embedding(text_to_embed)\n",
        "                cursor.execute(\"\"\"\n",
        "                    INSERT OR REPLACE INTO embeddings (namespace, key, embedding, text)\n",
        "                    VALUES (?, ?, ?, ?)\n",
        "                \"\"\", (namespace_str, key, embedding.tobytes(), text_to_embed))\n",
        "\n",
        "        self.conn.commit()\n",
        "\n",
        "    def get(self, namespace: Tuple[str, ...], key: str) -> Optional[Dict[str, Any]]:\n",
        "        \"\"\"데이터 조회\"\"\"\n",
        "        namespace_str = json.dumps(namespace)\n",
        "        cursor = self.conn.cursor()\n",
        "        cursor.execute(\"\"\"\n",
        "            SELECT value FROM store WHERE namespace = ? AND key = ?\n",
        "        \"\"\", (namespace_str, key))\n",
        "        result = cursor.fetchone()\n",
        "\n",
        "        if result:\n",
        "            return json.loads(result[0])\n",
        "        return None\n",
        "\n",
        "    def search(self, namespace: Tuple[str, ...], query: Optional[str] = None, limit: int = 20) -> List[SearchItem]:\n",
        "        \"\"\"데이터 검색 (임베딩 기반 또는 텍스트 기반)\"\"\"\n",
        "        namespace_str = json.dumps(namespace)\n",
        "        cursor = self.conn.cursor()\n",
        "\n",
        "        if query:\n",
        "            # 임베딩 기반 검색\n",
        "            query_embedding = self._get_embedding(query)\n",
        "\n",
        "            # 모든 임베딩 가져오기\n",
        "            cursor.execute(\"\"\"\n",
        "                SELECT e.embedding, e.text, s.key, s.value, s.created_at, s.updated_at\n",
        "                FROM embeddings e\n",
        "                JOIN store s ON e.namespace = s.namespace AND e.key = s.key\n",
        "                WHERE e.namespace = ?\n",
        "            \"\"\", (namespace_str,))\n",
        "\n",
        "            results = []\n",
        "            for row in cursor.fetchall():\n",
        "                embedding = np.frombuffer(row[0], dtype=np.float32)\n",
        "                similarity = self._cosine_similarity(query_embedding, embedding)\n",
        "                results.append(SearchItem(\n",
        "                key=row[2],          # key는 세 번째 컬럼\n",
        "                value=json.loads(row[3]),  # value는 네 번째 컬럼\n",
        "                created_at=datetime.fromisoformat(row[4]),  # created_at은 다섯 번째 컬럼\n",
        "                updated_at=datetime.fromisoformat(row[5]),  # updated_at은 여섯 번째 컬럼\n",
        "                namespace=namespace,\n",
        "                score = similarity\n",
        "            ))\n",
        "\n",
        "            # 유사도 기준으로 정렬\n",
        "            results.sort(key=lambda x: x.score, reverse=True)\n",
        "            return results[:limit]\n",
        "        else:\n",
        "            # 일반 텍스트 검색\n",
        "            cursor.execute(\"\"\"\n",
        "                SELECT key, value, created_at, updated_at\n",
        "                FROM store\n",
        "                WHERE namespace = ?\n",
        "                ORDER BY created_at DESC LIMIT ?\n",
        "            \"\"\", (namespace_str, limit))\n",
        "\n",
        "            results = []\n",
        "            for row in cursor.fetchall():\n",
        "                value = json.loads(row[1])\n",
        "                results.append(SearchItem(\n",
        "                key=row[0],\n",
        "                value=value,\n",
        "                created_at=datetime.fromisoformat(row[2]),\n",
        "                updated_at=datetime.fromisoformat(row[3]),\n",
        "                namespace=namespace  # 원래 search 메서드에 전달된 namespace 사용\n",
        "                ))\n",
        "\n",
        "            return results\n",
        "\n",
        "    def delete(self, namespace: Tuple[str, ...], key: str) -> None:\n",
        "        \"\"\"데이터 삭제\"\"\"\n",
        "        namespace_str = json.dumps(namespace)\n",
        "        cursor = self.conn.cursor()\n",
        "\n",
        "        # 임베딩도 함께 삭제\n",
        "        cursor.execute(\"\"\"\n",
        "            DELETE FROM embeddings WHERE namespace = ? AND key = ?\n",
        "        \"\"\", (namespace_str, key))\n",
        "\n",
        "        cursor.execute(\"\"\"\n",
        "            DELETE FROM store WHERE namespace = ? AND key = ?\n",
        "        \"\"\", (namespace_str, key))\n",
        "\n",
        "        self.conn.commit()\n",
        "\n",
        "    def list_namespaces(self) -> List[Tuple[str, ...]]:\n",
        "        \"\"\"네임스페이스 목록 조회\"\"\"\n",
        "        cursor = self.conn.cursor()\n",
        "        cursor.execute(\"SELECT DISTINCT namespace FROM store\")\n",
        "        return [tuple(json.loads(row[0])) for row in cursor.fetchall()]"
      ]
    },
    {
      "cell_type": "code",
      "execution_count": 47,
      "metadata": {
        "colab": {
          "base_uri": "https://localhost:8080/",
          "height": 497
        },
        "id": "AUYTdfjwc_YY",
        "outputId": "bd669b78-b992-477d-dfe5-2662c81cbfd9"
      },
      "outputs": [
        {
          "data": {
            "image/png": "[encoded data removed]",
            "text/plain": [
              "<langgraph.graph.state.CompiledStateGraph object at 0x789cbd44a8a0>"
            ]
          },
          "execution_count": 47,
          "metadata": {},
          "output_type": "execute_result"
        }
      ],
      "source": [
        "graph"
      ]
    },
    {
      "cell_type": "code",
      "execution_count": 48,
      "metadata": {
        "colab": {
          "base_uri": "https://localhost:8080/"
        },
        "id": "yUY8NXa6c_YY",
        "outputId": "68bce8ab-605c-4a5f-e489-c7d03a3920b1"
      },
      "outputs": [
        {
          "name": "stdout",
          "output_type": "stream",
          "text": [
            "END를 입력하면 대화가 종료됩니다.\n",
            "Assistant: 안녕하세요! 반갑습니다. 저는 고객님의 문의에 답변해 드리는 챗봇입니다. 😊\n",
            "\n",
            "어떤 점을 도와드릴까요? 편하게 말씀해주세요!\n",
            "네, 오늘은 2025년 10월 26일이고, 다음 주에 멤버십 혜택이 끝나는데, 자동 결제는 언제까지 가능한가요?\n",
            "{'call_model': {'messages': [AIMessage(content='안녕하세요! 반갑습니다. 저는 고객님의 문의에 답변해 드리는 챗봇입니다. 😊\\n\\n어떤 점을 도와드릴까요? 편하게 말씀해주세요!', additional_kwargs={}, response_metadata={'prompt_feedback': {'block_reason': 0, 'safety_ratings': []}, 'finish_reason': 'STOP', 'model_name': 'gemini-2.5-flash', 'safety_ratings': []}, id='run--c2bfc5e3-c967-481b-b4cf-0cd61744f8fb-0', usage_metadata={'input_tokens': 60, 'output_tokens': 310, 'total_tokens': 370, 'input_token_details': {'cache_read': 0}, 'output_token_details': {'reasoning': 277}}), HumanMessage(content='네, 오늘은 2025년 10월 26일이고, 다음 주에 멤버십 혜택이 끝나는데, 자동 결제는 언제까지 가능한가요?', additional_kwargs={}, response_metadata={}, id='6282c379-64e2-4a72-8bb1-4b84a5b98eb9')]}}\n",
            "Assistant: 고객님, 현재 날짜는 2025년 10월 26일 일요일이시군요. 다음 주에 멤버십 혜택이 종료된다고 말씀해주셨습니다.\n",
            "\n",
            "멤버십 자동 결제는 **보통 혜택 종료일 당일에 이루어지거나, 종료일 1~3일 전에 미리 결제 시도가 진행될 수 있습니다.** 이는 멤버십 종류나 약관에 따라 약간의 차이가 있을 수 있습니다.\n",
            "\n",
            "혹시 고객님의 멤버십 혜택 종료일이 **정확히 언제인지** 알려주실 수 있을까요? 예를 들어, 10월 31일 금요일에 종료되는 경우와 같이요. 종료일을 알려주시면 자동 결제 예정일을 더 정확하게 확인해 드릴 수 있습니다.\n",
            "\n",
            "또한, 멤버십 자동 결제를 **유지하고 싶으신지, 아니면 해지를 원하시는지**도 함께 알려주시면 필요한 안내를 도와드리겠습니다. 😊\n",
            "아 네, 11월 1일에 끝나요. 해지하고 싶어요\n",
            "{'call_model': {'messages': [AIMessage(content='고객님, 현재 날짜는 2025년 10월 26일 일요일이시군요. 다음 주에 멤버십 혜택이 종료된다고 말씀해주셨습니다.\\n\\n멤버십 자동 결제는 **보통 혜택 종료일 당일에 이루어지거나, 종료일 1~3일 전에 미리 결제 시도가 진행될 수 있습니다.** 이는 멤버십 종류나 약관에 따라 약간의 차이가 있을 수 있습니다.\\n\\n혹시 고객님의 멤버십 혜택 종료일이 **정확히 언제인지** 알려주실 수 있을까요? 예를 들어, 10월 31일 금요일에 종료되는 경우와 같이요. 종료일을 알려주시면 자동 결제 예정일을 더 정확하게 확인해 드릴 수 있습니다.\\n\\n또한, 멤버십 자동 결제를 **유지하고 싶으신지, 아니면 해지를 원하시는지**도 함께 알려주시면 필요한 안내를 도와드리겠습니다. 😊', additional_kwargs={}, response_metadata={'prompt_feedback': {'block_reason': 0, 'safety_ratings': []}, 'finish_reason': 'STOP', 'model_name': 'gemini-2.5-flash', 'safety_ratings': []}, id='run--66bc2f7c-e58e-4afa-8017-41d778324f3a-0', usage_metadata={'input_tokens': 136, 'output_tokens': 706, 'total_tokens': 842, 'input_token_details': {'cache_read': 0}, 'output_token_details': {'reasoning': 499}}), HumanMessage(content='아 네, 11월 1일에 끝나요. 해지하고 싶어요', additional_kwargs={}, response_metadata={}, id='da4b5c68-d92f-4d10-aa9b-3164a440d2c7')]}}\n",
            "Assistant: 네, 11월 1일에 멤버십이 종료되고 해지를 원하시는군요. 명확히 말씀해주셔서 감사합니다.\n",
            "\n",
            "고객님의 멤버십이 **2025년 11월 1일**에 종료되므로, 자동 결제는 보통 **11월 1일 당일**이나 **10월 31일**에 시도될 가능성이 높습니다.\n",
            "\n",
            "자동 결제가 진행되지 않도록 해지하시려면, **11월 1일이 되기 전에 직접 멤버십 해지를 진행해주셔야 합니다.**\n",
            "\n",
            "일반적으로 멤버십 해지는 다음과 같은 경로로 진행하실 수 있습니다:\n",
            "\n",
            "1.  **[서비스 웹사이트/앱]에 로그인합니다.**\n",
            "2.  **'마이페이지' 또는 '계정 설정'** 메뉴로 이동합니다.\n",
            "3.  **'멤버십 관리', '구독 정보', '정기 결제'** 등의 항목을 찾아 선택합니다.\n",
            "4.  해당 페이지에서 **'멤버십 해지' 또는 '자동 결제 취소'** 버튼을 클릭하여 절차를 완료합니다.\n",
            "\n",
            "혹시 해지하시는 데 어려움이 있으시거나, 어떤 서비스의 멤버십인지 알려주시면 더 구체적인 안내를 도와드릴 수 있습니다. 😊\n",
            "도움이 되었습니다. 감사합니다.\n",
            "{'call_model': {'messages': [AIMessage(content=\"네, 11월 1일에 멤버십이 종료되고 해지를 원하시는군요. 명확히 말씀해주셔서 감사합니다.\\n\\n고객님의 멤버십이 **2025년 11월 1일**에 종료되므로, 자동 결제는 보통 **11월 1일 당일**이나 **10월 31일**에 시도될 가능성이 높습니다.\\n\\n자동 결제가 진행되지 않도록 해지하시려면, **11월 1일이 되기 전에 직접 멤버십 해지를 진행해주셔야 합니다.**\\n\\n일반적으로 멤버십 해지는 다음과 같은 경로로 진행하실 수 있습니다:\\n\\n1.  **[서비스 웹사이트/앱]에 로그인합니다.**\\n2.  **'마이페이지' 또는 '계정 설정'** 메뉴로 이동합니다.\\n3.  **'멤버십 관리', '구독 정보', '정기 결제'** 등의 항목을 찾아 선택합니다.\\n4.  해당 페이지에서 **'멤버십 해지' 또는 '자동 결제 취소'** 버튼을 클릭하여 절차를 완료합니다.\\n\\n혹시 해지하시는 데 어려움이 있으시거나, 어떤 서비스의 멤버십인지 알려주시면 더 구체적인 안내를 도와드릴 수 있습니다. 😊\", additional_kwargs={}, response_metadata={'prompt_feedback': {'block_reason': 0, 'safety_ratings': []}, 'finish_reason': 'STOP', 'model_name': 'gemini-2.5-flash', 'safety_ratings': []}, id='run--0daa264b-30c8-45c3-a969-2165b4efb00b-0', usage_metadata={'input_tokens': 363, 'output_tokens': 506, 'total_tokens': 869, 'input_token_details': {'cache_read': 0}, 'output_token_details': {'reasoning': 231}}), HumanMessage(content='도움이 되었습니다. 감사합니다.', additional_kwargs={}, response_metadata={}, id='1ae004d2-bf8e-47c3-a399-366223a96d4d')]}}\n",
            "Assistant: 천만에요! 고객님께 도움이 되셨다니 정말 다행입니다. 😊\n",
            "\n",
            "혹시 나중에라도 궁금한 점이 생기시면 언제든지 다시 찾아주세요.\n",
            "오늘도 좋은 하루 보내세요!\n",
            "END\n",
            "{'call_model': {'messages': [AIMessage(content='천만에요! 고객님께 도움이 되셨다니 정말 다행입니다. 😊\\n\\n혹시 나중에라도 궁금한 점이 생기시면 언제든지 다시 찾아주세요.\\n오늘도 좋은 하루 보내세요!', additional_kwargs={}, response_metadata={'prompt_feedback': {'block_reason': 0, 'safety_ratings': []}, 'finish_reason': 'STOP', 'model_name': 'gemini-2.5-flash', 'safety_ratings': []}, id='run--54da7d15-2c40-4b50-922e-c1632bb79b10-0', usage_metadata={'input_tokens': 648, 'output_tokens': 46, 'total_tokens': 694, 'input_token_details': {'cache_read': 0}}), HumanMessage(content='END', additional_kwargs={}, response_metadata={}, id='3c21794a-2a68-4592-9d32-36247236be95')]}}\n",
            "{'summarize_conversation': {'summary': \"2025년 10월 26일, 고객은 11월 1일에 멤버십 혜택이 종료되며 자동 결제를 해지하고 싶다고 문의했습니다. 챗봇은 멤버십 자동 결제가 보통 혜택 종료일 당일인 11월 1일 또는 그 전날인 10월 31일에 시도될 가능성이 높다고 안내했습니다. 자동 결제가 이루어지지 않도록 11월 1일 이전에 직접 멤버십 해지를 진행해야 한다고 설명하며, 웹사이트/앱의 '마이페이지'나 '계정 설정'에서 '멤버십 관리'를 통해 해지할 수 있는 일반적인 절차를 안내했습니다. 고객은 제공된 정보가 도움이 되었다고 밝혔습니다.\", 'messages': [RemoveMessage(content='', additional_kwargs={}, response_metadata={}, id='run--c2bfc5e3-c967-481b-b4cf-0cd61744f8fb-0'), RemoveMessage(content='', additional_kwargs={}, response_metadata={}, id='6282c379-64e2-4a72-8bb1-4b84a5b98eb9'), RemoveMessage(content='', additional_kwargs={}, response_metadata={}, id='run--66bc2f7c-e58e-4afa-8017-41d778324f3a-0'), RemoveMessage(content='', additional_kwargs={}, response_metadata={}, id='da4b5c68-d92f-4d10-aa9b-3164a440d2c7'), RemoveMessage(content='', additional_kwargs={}, response_metadata={}, id='run--0daa264b-30c8-45c3-a969-2165b4efb00b-0'), RemoveMessage(content='', additional_kwargs={}, response_metadata={}, id='1ae004d2-bf8e-47c3-a399-366223a96d4d'), RemoveMessage(content='', additional_kwargs={}, response_metadata={}, id='run--54da7d15-2c40-4b50-922e-c1632bb79b10-0'), RemoveMessage(content='', additional_kwargs={}, response_metadata={}, id='3c21794a-2a68-4592-9d32-36247236be95')]}}\n"
          ]
        },
        {
          "name": "stderr",
          "output_type": "stream",
          "text": [
            "/tmp/ipython-input-4120135973.py:75: DeprecationWarning: datetime.datetime.utcnow() is deprecated and scheduled for removal in a future version. Use timezone-aware objects to represent datetimes in UTC: datetime.datetime.now(datetime.UTC).\n",
            "  now = datetime.utcnow().isoformat()\n"
          ]
        },
        {
          "name": "stdout",
          "output_type": "stream",
          "text": [
            "{'update_memory': None}\n"
          ]
        }
      ],
      "source": [
        "# SQLite 스토어 인스턴스 생성\n",
        "sqlite_store = SQLiteStore(db_path = 'example.db', embedding_model = model_name)\n",
        "\n",
        "graph = builder.compile(checkpointer=memory, store=sqlite_store)\n",
        "\n",
        "print('END를 입력하면 대화가 종료됩니다.')\n",
        "\n",
        "config = {'configurable':{'thread_id':'1', 'user_id':'admin'}}\n",
        "for data in graph.stream(\n",
        "    {'messages':[]},\n",
        "    config,stream_mode=\"updates\"):\n",
        "    print(data)"
      ]
    },
    {
      "cell_type": "code",
      "execution_count": 49,
      "metadata": {
        "colab": {
          "base_uri": "https://localhost:8080/"
        },
        "id": "yjmgZLOhc_YY",
        "outputId": "0ae4b56b-4e16-420a-eff9-f55bfd2a146f"
      },
      "outputs": [
        {
          "data": {
            "text/plain": [
              "[('admin', 'information')]"
            ]
          },
          "execution_count": 49,
          "metadata": {},
          "output_type": "execute_result"
        }
      ],
      "source": [
        "sqlite_store.list_namespaces()"
      ]
    },
    {
      "cell_type": "code",
      "execution_count": 50,
      "metadata": {
        "colab": {
          "base_uri": "https://localhost:8080/"
        },
        "id": "ZesOhjBTc_YY",
        "outputId": "6ae08be5-5bfe-4bcd-b279-b470ca690bf9"
      },
      "outputs": [
        {
          "name": "stdout",
          "output_type": "stream",
          "text": [
            "Item(namespace=['admin', 'information'], key='ae82ea3b-ce5e-42be-a34e-870e32935c44', value={'memory': \"2025년 10월 26일, 고객은 11월 1일에 멤버십 혜택이 종료되며 자동 결제를 해지하고 싶다고 문의했습니다. 챗봇은 멤버십 자동 결제가 보통 혜택 종료일 당일인 11월 1일 또는 그 전날인 10월 31일에 시도될 가능성이 높다고 안내했습니다. 자동 결제가 이루어지지 않도록 11월 1일 이전에 직접 멤버십 해지를 진행해야 한다고 설명하며, 웹사이트/앱의 '마이페이지'나 '계정 설정'에서 '멤버십 관리'를 통해 해지할 수 있는 일반적인 절차를 안내했습니다. 고객은 제공된 정보가 도움이 되었다고 밝혔습니다.\"}, created_at='2025-10-26T05:38:25.842755', updated_at='2025-10-26T05:38:25.842755', score=None)\n"
          ]
        }
      ],
      "source": [
        "memories = sqlite_store.search(('admin', 'information'))\n",
        "for result in memories:\n",
        "    print(result)"
      ]
    },
    {
      "cell_type": "code",
      "execution_count": 51,
      "metadata": {
        "colab": {
          "base_uri": "https://localhost:8080/"
        },
        "id": "IoPKMYqWc_YY",
        "outputId": "74586688-9d80-4bb6-d7d6-73bf7a45d8be"
      },
      "outputs": [
        {
          "name": "stdout",
          "output_type": "stream",
          "text": [
            "Item(namespace=['admin', 'information'], key='ae82ea3b-ce5e-42be-a34e-870e32935c44', value={'memory': \"2025년 10월 26일, 고객은 11월 1일에 멤버십 혜택이 종료되며 자동 결제를 해지하고 싶다고 문의했습니다. 챗봇은 멤버십 자동 결제가 보통 혜택 종료일 당일인 11월 1일 또는 그 전날인 10월 31일에 시도될 가능성이 높다고 안내했습니다. 자동 결제가 이루어지지 않도록 11월 1일 이전에 직접 멤버십 해지를 진행해야 한다고 설명하며, 웹사이트/앱의 '마이페이지'나 '계정 설정'에서 '멤버십 관리'를 통해 해지할 수 있는 일반적인 절차를 안내했습니다. 고객은 제공된 정보가 도움이 되었다고 밝혔습니다.\"}, created_at='2025-10-26T05:38:25.842755', updated_at='2025-10-26T05:38:25.842755', score=np.float32(0.76328886))\n"
          ]
        }
      ],
      "source": [
        "# 임베딩 검색 사용 예시\n",
        "# memory에서 값을 검색하도록 설정(SQLite Store Class 참고)\n",
        "\n",
        "results = sqlite_store.search(('admin', 'information'), query=\"코딩\", limit=1)\n",
        "for result in results:\n",
        "    print(result)\n"
      ]
    },
    {
      "cell_type": "markdown",
      "metadata": {
        "id": "b18UYEgUskcC"
      },
      "source": [
        "Langsmith (https://smith.langchain.com )에서 실행 결과를 확인할 수 있습니다."
      ]
    },
    {
      "cell_type": "code",
      "execution_count": 51,
      "metadata": {
        "id": "qAj_rMSOc_YY"
      },
      "outputs": [],
      "source": []
    }
  ],
  "metadata": {
    "accelerator": "GPU",
    "colab": {
      "gpuType": "T4",
      "provenance": []
    },
    "kernelspec": {
      "display_name": ".venv",
      "language": "python",
      "name": "python3"
    },
    "language_info": {
      "codemirror_mode": {
        "name": "ipython",
        "version": 3
      },
      "file_extension": ".py",
      "mimetype": "text/x-python",
      "name": "python",
      "nbconvert_exporter": "python",
      "pygments_lexer": "ipython3",
      "version": "3.12.11"
    },
    "widgets": {
      "application/vnd.jupyter.widget-state+json": {
        "0681e68dbad842be9f473ef1564f0228": {
          "model_module": "@jupyter-widgets/controls",
          "model_module_version": "1.5.0",
          "model_name": "HTMLModel",
          "state": {
            "_dom_classes": [],
            "_model_module": "@jupyter-widgets/controls",
            "_model_module_version": "1.5.0",
            "_model_name": "HTMLModel",
            "_view_count": null,
            "_view_module": "@jupyter-widgets/controls",
            "_view_module_version": "1.5.0",
            "_view_name": "HTMLView",
            "description": "",
            "description_tooltip": null,
            "layout": "IPY_MODEL_c13d1941dc2048af97ea5cba9c6e768a",
            "placeholder": "​",
            "style": "IPY_MODEL_452f3705575d44f2a3f3ecdd657a6342",
            "value": " 655/655 [00:00&lt;00:00, 75.9kB/s]"
          }
        },
        "0b0902fcdffa4ce49338c2c5cf733db6": {
          "model_module": "@jupyter-widgets/controls",
          "model_module_version": "1.5.0",
          "model_name": "HTMLModel",
          "state": {
            "_dom_classes": [],
            "_model_module": "@jupyter-widgets/controls",
            "_model_module_version": "1.5.0",
            "_model_name": "HTMLModel",
            "_view_count": null,
            "_view_module": "@jupyter-widgets/controls",
            "_view_module_version": "1.5.0",
            "_view_name": "HTMLView",
            "description": "",
            "description_tooltip": null,
            "layout": "IPY_MODEL_a6ad5525f9ee43f18ea3ce1587882312",
            "placeholder": "​",
            "style": "IPY_MODEL_5aa45d6402d445bc9db52517af7ea799",
            "value": " 443/443 [00:00&lt;00:00, 12.1kB/s]"
          }
        },
        "0b1260266a654691a988deae63a85331": {
          "model_module": "@jupyter-widgets/base",
          "model_module_version": "1.2.0",
          "model_name": "LayoutModel",
          "state": {
            "_model_module": "@jupyter-widgets/base",
            "_model_module_version": "1.2.0",
            "_model_name": "LayoutModel",
            "_view_count": null,
            "_view_module": "@jupyter-widgets/base",
            "_view_module_version": "1.2.0",
            "_view_name": "LayoutView",
            "align_content": null,
            "align_items": null,
            "align_self": null,
            "border": null,
            "bottom": null,
            "display": null,
            "flex": null,
            "flex_flow": null,
            "grid_area": null,
            "grid_auto_columns": null,
            "grid_auto_flow": null,
            "grid_auto_rows": null,
            "grid_column": null,
            "grid_gap": null,
            "grid_row": null,
            "grid_template_areas": null,
            "grid_template_columns": null,
            "grid_template_rows": null,
            "height": null,
            "justify_content": null,
            "justify_items": null,
            "left": null,
            "margin": null,
            "max_height": null,
            "max_width": null,
            "min_height": null,
            "min_width": null,
            "object_fit": null,
            "object_position": null,
            "order": null,
            "overflow": null,
            "overflow_x": null,
            "overflow_y": null,
            "padding": null,
            "right": null,
            "top": null,
            "visibility": null,
            "width": null
          }
        },
        "0b1f26d493a24fe28ebe3ad36123c25d": {
          "model_module": "@jupyter-widgets/controls",
          "model_module_version": "1.5.0",
          "model_name": "HTMLModel",
          "state": {
            "_dom_classes": [],
            "_model_module": "@jupyter-widgets/controls",
            "_model_module_version": "1.5.0",
            "_model_name": "HTMLModel",
            "_view_count": null,
            "_view_module": "@jupyter-widgets/controls",
            "_view_module_version": "1.5.0",
            "_view_name": "HTMLView",
            "description": "",
            "description_tooltip": null,
            "layout": "IPY_MODEL_ab64fe76f54040c191766e3b0e6e0eaf",
            "placeholder": "​",
            "style": "IPY_MODEL_124874f2f2d54c81a3579424b4889608",
            "value": "special_tokens_map.json: 100%"
          }
        },
        "0d398c8152ee42d4b011a580e8657dc2": {
          "model_module": "@jupyter-widgets/base",
          "model_module_version": "1.2.0",
          "model_name": "LayoutModel",
          "state": {
            "_model_module": "@jupyter-widgets/base",
            "_model_module_version": "1.2.0",
            "_model_name": "LayoutModel",
            "_view_count": null,
            "_view_module": "@jupyter-widgets/base",
            "_view_module_version": "1.2.0",
            "_view_name": "LayoutView",
            "align_content": null,
            "align_items": null,
            "align_self": null,
            "border": null,
            "bottom": null,
            "display": null,
            "flex": null,
            "flex_flow": null,
            "grid_area": null,
            "grid_auto_columns": null,
            "grid_auto_flow": null,
            "grid_auto_rows": null,
            "grid_column": null,
            "grid_gap": null,
            "grid_row": null,
            "grid_template_areas": null,
            "grid_template_columns": null,
            "grid_template_rows": null,
            "height": null,
            "justify_content": null,
            "justify_items": null,
            "left": null,
            "margin": null,
            "max_height": null,
            "max_width": null,
            "min_height": null,
            "min_width": null,
            "object_fit": null,
            "object_position": null,
            "order": null,
            "overflow": null,
            "overflow_x": null,
            "overflow_y": null,
            "padding": null,
            "right": null,
            "top": null,
            "visibility": null,
            "width": null
          }
        },
        "0d62d5b6b8b845dcbef0ad5511cde8e3": {
          "model_module": "@jupyter-widgets/controls",
          "model_module_version": "1.5.0",
          "model_name": "ProgressStyleModel",
          "state": {
            "_model_module": "@jupyter-widgets/controls",
            "_model_module_version": "1.5.0",
            "_model_name": "ProgressStyleModel",
            "_view_count": null,
            "_view_module": "@jupyter-widgets/base",
            "_view_module_version": "1.2.0",
            "_view_name": "StyleView",
            "bar_color": null,
            "description_width": ""
          }
        },
        "0e7a430f698a4eda9fa3bf9c3580ad25": {
          "model_module": "@jupyter-widgets/controls",
          "model_module_version": "1.5.0",
          "model_name": "DescriptionStyleModel",
          "state": {
            "_model_module": "@jupyter-widgets/controls",
            "_model_module_version": "1.5.0",
            "_model_name": "DescriptionStyleModel",
            "_view_count": null,
            "_view_module": "@jupyter-widgets/base",
            "_view_module_version": "1.2.0",
            "_view_name": "StyleView",
            "description_width": ""
          }
        },
        "10a09fcbeb0b4841bf46c4ed29a7d517": {
          "model_module": "@jupyter-widgets/base",
          "model_module_version": "1.2.0",
          "model_name": "LayoutModel",
          "state": {
            "_model_module": "@jupyter-widgets/base",
            "_model_module_version": "1.2.0",
            "_model_name": "LayoutModel",
            "_view_count": null,
            "_view_module": "@jupyter-widgets/base",
            "_view_module_version": "1.2.0",
            "_view_name": "LayoutView",
            "align_content": null,
            "align_items": null,
            "align_self": null,
            "border": null,
            "bottom": null,
            "display": null,
            "flex": null,
            "flex_flow": null,
            "grid_area": null,
            "grid_auto_columns": null,
            "grid_auto_flow": null,
            "grid_auto_rows": null,
            "grid_column": null,
            "grid_gap": null,
            "grid_row": null,
            "grid_template_areas": null,
            "grid_template_columns": null,
            "grid_template_rows": null,
            "height": null,
            "justify_content": null,
            "justify_items": null,
            "left": null,
            "margin": null,
            "max_height": null,
            "max_width": null,
            "min_height": null,
            "min_width": null,
            "object_fit": null,
            "object_position": null,
            "order": null,
            "overflow": null,
            "overflow_x": null,
            "overflow_y": null,
            "padding": null,
            "right": null,
            "top": null,
            "visibility": null,
            "width": null
          }
        },
        "124874f2f2d54c81a3579424b4889608": {
          "model_module": "@jupyter-widgets/controls",
          "model_module_version": "1.5.0",
          "model_name": "DescriptionStyleModel",
          "state": {
            "_model_module": "@jupyter-widgets/controls",
            "_model_module_version": "1.5.0",
            "_model_name": "DescriptionStyleModel",
            "_view_count": null,
            "_view_module": "@jupyter-widgets/base",
            "_view_module_version": "1.2.0",
            "_view_name": "StyleView",
            "description_width": ""
          }
        },
        "15a23b68dea84bc892edac56a9dbd4f3": {
          "model_module": "@jupyter-widgets/controls",
          "model_module_version": "1.5.0",
          "model_name": "DescriptionStyleModel",
          "state": {
            "_model_module": "@jupyter-widgets/controls",
            "_model_module_version": "1.5.0",
            "_model_name": "DescriptionStyleModel",
            "_view_count": null,
            "_view_module": "@jupyter-widgets/base",
            "_view_module_version": "1.2.0",
            "_view_name": "StyleView",
            "description_width": ""
          }
        },
        "168aa02700744ed8afd923a2d6785fde": {
          "model_module": "@jupyter-widgets/controls",
          "model_module_version": "1.5.0",
          "model_name": "FloatProgressModel",
          "state": {
            "_dom_classes": [],
            "_model_module": "@jupyter-widgets/controls",
            "_model_module_version": "1.5.0",
            "_model_name": "FloatProgressModel",
            "_view_count": null,
            "_view_module": "@jupyter-widgets/controls",
            "_view_module_version": "1.5.0",
            "_view_name": "ProgressView",
            "bar_style": "success",
            "description": "",
            "description_tooltip": null,
            "layout": "IPY_MODEL_768d91fb3627426caa07ac4c058f9332",
            "max": 443,
            "min": 0,
            "orientation": "horizontal",
            "style": "IPY_MODEL_87997a76edfc422f9cc9fea9aee85796",
            "value": 443
          }
        },
        "19c597c9ac7f425f9f9d31bfb554f6eb": {
          "model_module": "@jupyter-widgets/base",
          "model_module_version": "1.2.0",
          "model_name": "LayoutModel",
          "state": {
            "_model_module": "@jupyter-widgets/base",
            "_model_module_version": "1.2.0",
            "_model_name": "LayoutModel",
            "_view_count": null,
            "_view_module": "@jupyter-widgets/base",
            "_view_module_version": "1.2.0",
            "_view_name": "LayoutView",
            "align_content": null,
            "align_items": null,
            "align_self": null,
            "border": null,
            "bottom": null,
            "display": null,
            "flex": null,
            "flex_flow": null,
            "grid_area": null,
            "grid_auto_columns": null,
            "grid_auto_flow": null,
            "grid_auto_rows": null,
            "grid_column": null,
            "grid_gap": null,
            "grid_row": null,
            "grid_template_areas": null,
            "grid_template_columns": null,
            "grid_template_rows": null,
            "height": null,
            "justify_content": null,
            "justify_items": null,
            "left": null,
            "margin": null,
            "max_height": null,
            "max_width": null,
            "min_height": null,
            "min_width": null,
            "object_fit": null,
            "object_position": null,
            "order": null,
            "overflow": null,
            "overflow_x": null,
            "overflow_y": null,
            "padding": null,
            "right": null,
            "top": null,
            "visibility": null,
            "width": null
          }
        },
        "1d2215ebc46f42898757c8fbbfd01d71": {
          "model_module": "@jupyter-widgets/controls",
          "model_module_version": "1.5.0",
          "model_name": "HTMLModel",
          "state": {
            "_dom_classes": [],
            "_model_module": "@jupyter-widgets/controls",
            "_model_module_version": "1.5.0",
            "_model_name": "HTMLModel",
            "_view_count": null,
            "_view_module": "@jupyter-widgets/controls",
            "_view_module_version": "1.5.0",
            "_view_name": "HTMLView",
            "description": "",
            "description_tooltip": null,
            "layout": "IPY_MODEL_8ff65194d0544b989a233be45e4834be",
            "placeholder": "​",
            "style": "IPY_MODEL_0e7a430f698a4eda9fa3bf9c3580ad25",
            "value": " 5.07M/5.07M [00:00&lt;00:00, 14.2MB/s]"
          }
        },
        "1e283b804d154e05a1d615a6ae101a55": {
          "model_module": "@jupyter-widgets/base",
          "model_module_version": "1.2.0",
          "model_name": "LayoutModel",
          "state": {
            "_model_module": "@jupyter-widgets/base",
            "_model_module_version": "1.2.0",
            "_model_name": "LayoutModel",
            "_view_count": null,
            "_view_module": "@jupyter-widgets/base",
            "_view_module_version": "1.2.0",
            "_view_name": "LayoutView",
            "align_content": null,
            "align_items": null,
            "align_self": null,
            "border": null,
            "bottom": null,
            "display": null,
            "flex": null,
            "flex_flow": null,
            "grid_area": null,
            "grid_auto_columns": null,
            "grid_auto_flow": null,
            "grid_auto_rows": null,
            "grid_column": null,
            "grid_gap": null,
            "grid_row": null,
            "grid_template_areas": null,
            "grid_template_columns": null,
            "grid_template_rows": null,
            "height": null,
            "justify_content": null,
            "justify_items": null,
            "left": null,
            "margin": null,
            "max_height": null,
            "max_width": null,
            "min_height": null,
            "min_width": null,
            "object_fit": null,
            "object_position": null,
            "order": null,
            "overflow": null,
            "overflow_x": null,
            "overflow_y": null,
            "padding": null,
            "right": null,
            "top": null,
            "visibility": null,
            "width": null
          }
        },
        "2007edcb253042abbff010c9e8772932": {
          "model_module": "@jupyter-widgets/base",
          "model_module_version": "1.2.0",
          "model_name": "LayoutModel",
          "state": {
            "_model_module": "@jupyter-widgets/base",
            "_model_module_version": "1.2.0",
            "_model_name": "LayoutModel",
            "_view_count": null,
            "_view_module": "@jupyter-widgets/base",
            "_view_module_version": "1.2.0",
            "_view_name": "LayoutView",
            "align_content": null,
            "align_items": null,
            "align_self": null,
            "border": null,
            "bottom": null,
            "display": null,
            "flex": null,
            "flex_flow": null,
            "grid_area": null,
            "grid_auto_columns": null,
            "grid_auto_flow": null,
            "grid_auto_rows": null,
            "grid_column": null,
            "grid_gap": null,
            "grid_row": null,
            "grid_template_areas": null,
            "grid_template_columns": null,
            "grid_template_rows": null,
            "height": null,
            "justify_content": null,
            "justify_items": null,
            "left": null,
            "margin": null,
            "max_height": null,
            "max_width": null,
            "min_height": null,
            "min_width": null,
            "object_fit": null,
            "object_position": null,
            "order": null,
            "overflow": null,
            "overflow_x": null,
            "overflow_y": null,
            "padding": null,
            "right": null,
            "top": null,
            "visibility": null,
            "width": null
          }
        },
        "22a5cb9cabc94ed8a06b40e0dfb9be23": {
          "model_module": "@jupyter-widgets/base",
          "model_module_version": "1.2.0",
          "model_name": "LayoutModel",
          "state": {
            "_model_module": "@jupyter-widgets/base",
            "_model_module_version": "1.2.0",
            "_model_name": "LayoutModel",
            "_view_count": null,
            "_view_module": "@jupyter-widgets/base",
            "_view_module_version": "1.2.0",
            "_view_name": "LayoutView",
            "align_content": null,
            "align_items": null,
            "align_self": null,
            "border": null,
            "bottom": null,
            "display": null,
            "flex": null,
            "flex_flow": null,
            "grid_area": null,
            "grid_auto_columns": null,
            "grid_auto_flow": null,
            "grid_auto_rows": null,
            "grid_column": null,
            "grid_gap": null,
            "grid_row": null,
            "grid_template_areas": null,
            "grid_template_columns": null,
            "grid_template_rows": null,
            "height": null,
            "justify_content": null,
            "justify_items": null,
            "left": null,
            "margin": null,
            "max_height": null,
            "max_width": null,
            "min_height": null,
            "min_width": null,
            "object_fit": null,
            "object_position": null,
            "order": null,
            "overflow": null,
            "overflow_x": null,
            "overflow_y": null,
            "padding": null,
            "right": null,
            "top": null,
            "visibility": null,
            "width": null
          }
        },
        "24a68273ff57482795eb56095762e139": {
          "model_module": "@jupyter-widgets/base",
          "model_module_version": "1.2.0",
          "model_name": "LayoutModel",
          "state": {
            "_model_module": "@jupyter-widgets/base",
            "_model_module_version": "1.2.0",
            "_model_name": "LayoutModel",
            "_view_count": null,
            "_view_module": "@jupyter-widgets/base",
            "_view_module_version": "1.2.0",
            "_view_name": "LayoutView",
            "align_content": null,
            "align_items": null,
            "align_self": null,
            "border": null,
            "bottom": null,
            "display": null,
            "flex": null,
            "flex_flow": null,
            "grid_area": null,
            "grid_auto_columns": null,
            "grid_auto_flow": null,
            "grid_auto_rows": null,
            "grid_column": null,
            "grid_gap": null,
            "grid_row": null,
            "grid_template_areas": null,
            "grid_template_columns": null,
            "grid_template_rows": null,
            "height": null,
            "justify_content": null,
            "justify_items": null,
            "left": null,
            "margin": null,
            "max_height": null,
            "max_width": null,
            "min_height": null,
            "min_width": null,
            "object_fit": null,
            "object_position": null,
            "order": null,
            "overflow": null,
            "overflow_x": null,
            "overflow_y": null,
            "padding": null,
            "right": null,
            "top": null,
            "visibility": null,
            "width": null
          }
        },
        "25e2733d6c544b48b630532138770038": {
          "model_module": "@jupyter-widgets/controls",
          "model_module_version": "1.5.0",
          "model_name": "HBoxModel",
          "state": {
            "_dom_classes": [],
            "_model_module": "@jupyter-widgets/controls",
            "_model_module_version": "1.5.0",
            "_model_name": "HBoxModel",
            "_view_count": null,
            "_view_module": "@jupyter-widgets/controls",
            "_view_module_version": "1.5.0",
            "_view_name": "HBoxView",
            "box_style": "",
            "children": [
              "IPY_MODEL_cc919e42913f4b7e99d69436526f55be",
              "IPY_MODEL_2df597b19a324034bea10a4e797fe385",
              "IPY_MODEL_76385acf69f64ac2935c4cacc21ec2de"
            ],
            "layout": "IPY_MODEL_6bb4f086650248889a7140a48b1dc1aa"
          }
        },
        "2a73aeb2910b411d8b74481b5121a9e7": {
          "model_module": "@jupyter-widgets/controls",
          "model_module_version": "1.5.0",
          "model_name": "DescriptionStyleModel",
          "state": {
            "_model_module": "@jupyter-widgets/controls",
            "_model_module_version": "1.5.0",
            "_model_name": "DescriptionStyleModel",
            "_view_count": null,
            "_view_module": "@jupyter-widgets/base",
            "_view_module_version": "1.2.0",
            "_view_name": "StyleView",
            "description_width": ""
          }
        },
        "2df597b19a324034bea10a4e797fe385": {
          "model_module": "@jupyter-widgets/controls",
          "model_module_version": "1.5.0",
          "model_name": "FloatProgressModel",
          "state": {
            "_dom_classes": [],
            "_model_module": "@jupyter-widgets/controls",
            "_model_module_version": "1.5.0",
            "_model_name": "FloatProgressModel",
            "_view_count": null,
            "_view_module": "@jupyter-widgets/controls",
            "_view_module_version": "1.5.0",
            "_view_name": "ProgressView",
            "bar_style": "success",
            "description": "",
            "description_tooltip": null,
            "layout": "IPY_MODEL_f12866ae3c7b488a9cd59a1f8320b53f",
            "max": 57,
            "min": 0,
            "orientation": "horizontal",
            "style": "IPY_MODEL_cc091577b10a40fa9d97766bd57b4933",
            "value": 57
          }
        },
        "2ea425bad36943598e568ae1e624c3e5": {
          "model_module": "@jupyter-widgets/controls",
          "model_module_version": "1.5.0",
          "model_name": "FloatProgressModel",
          "state": {
            "_dom_classes": [],
            "_model_module": "@jupyter-widgets/controls",
            "_model_module_version": "1.5.0",
            "_model_name": "FloatProgressModel",
            "_view_count": null,
            "_view_module": "@jupyter-widgets/controls",
            "_view_module_version": "1.5.0",
            "_view_name": "ProgressView",
            "bar_style": "success",
            "description": "",
            "description_tooltip": null,
            "layout": "IPY_MODEL_5fe88de866c64d8a9e4c5e16a4166a0d",
            "max": 167,
            "min": 0,
            "orientation": "horizontal",
            "style": "IPY_MODEL_993021ad801c4a65b0af69e09b0c89a9",
            "value": 167
          }
        },
        "3a9301f3b1f646bb94704294d14647bb": {
          "model_module": "@jupyter-widgets/base",
          "model_module_version": "1.2.0",
          "model_name": "LayoutModel",
          "state": {
            "_model_module": "@jupyter-widgets/base",
            "_model_module_version": "1.2.0",
            "_model_name": "LayoutModel",
            "_view_count": null,
            "_view_module": "@jupyter-widgets/base",
            "_view_module_version": "1.2.0",
            "_view_name": "LayoutView",
            "align_content": null,
            "align_items": null,
            "align_self": null,
            "border": null,
            "bottom": null,
            "display": null,
            "flex": null,
            "flex_flow": null,
            "grid_area": null,
            "grid_auto_columns": null,
            "grid_auto_flow": null,
            "grid_auto_rows": null,
            "grid_column": null,
            "grid_gap": null,
            "grid_row": null,
            "grid_template_areas": null,
            "grid_template_columns": null,
            "grid_template_rows": null,
            "height": null,
            "justify_content": null,
            "justify_items": null,
            "left": null,
            "margin": null,
            "max_height": null,
            "max_width": null,
            "min_height": null,
            "min_width": null,
            "object_fit": null,
            "object_position": null,
            "order": null,
            "overflow": null,
            "overflow_x": null,
            "overflow_y": null,
            "padding": null,
            "right": null,
            "top": null,
            "visibility": null,
            "width": null
          }
        },
        "3cd28b10ca884d828544c0cd2379ad0a": {
          "model_module": "@jupyter-widgets/controls",
          "model_module_version": "1.5.0",
          "model_name": "HTMLModel",
          "state": {
            "_dom_classes": [],
            "_model_module": "@jupyter-widgets/controls",
            "_model_module_version": "1.5.0",
            "_model_name": "HTMLModel",
            "_view_count": null,
            "_view_module": "@jupyter-widgets/controls",
            "_view_module_version": "1.5.0",
            "_view_name": "HTMLView",
            "description": "",
            "description_tooltip": null,
            "layout": "IPY_MODEL_e40f845709294cb0b60893330364f6f4",
            "placeholder": "​",
            "style": "IPY_MODEL_ac540e8a52b44569a50b829c680ed5ea",
            "value": "sentencepiece.bpe.model: 100%"
          }
        },
        "4325e27f64ff4194b773bc6833b39ee1": {
          "model_module": "@jupyter-widgets/controls",
          "model_module_version": "1.5.0",
          "model_name": "HTMLModel",
          "state": {
            "_dom_classes": [],
            "_model_module": "@jupyter-widgets/controls",
            "_model_module_version": "1.5.0",
            "_model_name": "HTMLModel",
            "_view_count": null,
            "_view_module": "@jupyter-widgets/controls",
            "_view_module_version": "1.5.0",
            "_view_name": "HTMLView",
            "description": "",
            "description_tooltip": null,
            "layout": "IPY_MODEL_4fcfdf7c5af14098aa472da3970391b2",
            "placeholder": "​",
            "style": "IPY_MODEL_b08dd04259ac4daf9f6c44e49321c716",
            "value": " 471M/471M [00:12&lt;00:00, 50.9MB/s]"
          }
        },
        "452f3705575d44f2a3f3ecdd657a6342": {
          "model_module": "@jupyter-widgets/controls",
          "model_module_version": "1.5.0",
          "model_name": "DescriptionStyleModel",
          "state": {
            "_model_module": "@jupyter-widgets/controls",
            "_model_module_version": "1.5.0",
            "_model_name": "DescriptionStyleModel",
            "_view_count": null,
            "_view_module": "@jupyter-widgets/base",
            "_view_module_version": "1.2.0",
            "_view_name": "StyleView",
            "description_width": ""
          }
        },
        "4ab1da4502c94b8ea5df099ae63c3efd": {
          "model_module": "@jupyter-widgets/controls",
          "model_module_version": "1.5.0",
          "model_name": "HTMLModel",
          "state": {
            "_dom_classes": [],
            "_model_module": "@jupyter-widgets/controls",
            "_model_module_version": "1.5.0",
            "_model_name": "HTMLModel",
            "_view_count": null,
            "_view_module": "@jupyter-widgets/controls",
            "_view_module_version": "1.5.0",
            "_view_name": "HTMLView",
            "description": "",
            "description_tooltip": null,
            "layout": "IPY_MODEL_7530b106122148399d55cb3c7e6df861",
            "placeholder": "​",
            "style": "IPY_MODEL_b019814eece0458bbc7ac9791e9a45a2",
            "value": " 17.1M/17.1M [00:00&lt;00:00, 44.4MB/s]"
          }
        },
        "4da1b0ff60c6438fa56cb38f3704f741": {
          "model_module": "@jupyter-widgets/controls",
          "model_module_version": "1.5.0",
          "model_name": "HTMLModel",
          "state": {
            "_dom_classes": [],
            "_model_module": "@jupyter-widgets/controls",
            "_model_module_version": "1.5.0",
            "_model_name": "HTMLModel",
            "_view_count": null,
            "_view_module": "@jupyter-widgets/controls",
            "_view_module_version": "1.5.0",
            "_view_name": "HTMLView",
            "description": "",
            "description_tooltip": null,
            "layout": "IPY_MODEL_6f70e5302ea14a0592bf10dfa76f4ce2",
            "placeholder": "​",
            "style": "IPY_MODEL_c0837f90a5ae4ba7a318604705c4d9fe",
            "value": "config.json: 100%"
          }
        },
        "4fcfdf7c5af14098aa472da3970391b2": {
          "model_module": "@jupyter-widgets/base",
          "model_module_version": "1.2.0",
          "model_name": "LayoutModel",
          "state": {
            "_model_module": "@jupyter-widgets/base",
            "_model_module_version": "1.2.0",
            "_model_name": "LayoutModel",
            "_view_count": null,
            "_view_module": "@jupyter-widgets/base",
            "_view_module_version": "1.2.0",
            "_view_name": "LayoutView",
            "align_content": null,
            "align_items": null,
            "align_self": null,
            "border": null,
            "bottom": null,
            "display": null,
            "flex": null,
            "flex_flow": null,
            "grid_area": null,
            "grid_auto_columns": null,
            "grid_auto_flow": null,
            "grid_auto_rows": null,
            "grid_column": null,
            "grid_gap": null,
            "grid_row": null,
            "grid_template_areas": null,
            "grid_template_columns": null,
            "grid_template_rows": null,
            "height": null,
            "justify_content": null,
            "justify_items": null,
            "left": null,
            "margin": null,
            "max_height": null,
            "max_width": null,
            "min_height": null,
            "min_width": null,
            "object_fit": null,
            "object_position": null,
            "order": null,
            "overflow": null,
            "overflow_x": null,
            "overflow_y": null,
            "padding": null,
            "right": null,
            "top": null,
            "visibility": null,
            "width": null
          }
        },
        "523e871cb34e4341972e4fe54a52417b": {
          "model_module": "@jupyter-widgets/controls",
          "model_module_version": "1.5.0",
          "model_name": "DescriptionStyleModel",
          "state": {
            "_model_module": "@jupyter-widgets/controls",
            "_model_module_version": "1.5.0",
            "_model_name": "DescriptionStyleModel",
            "_view_count": null,
            "_view_module": "@jupyter-widgets/base",
            "_view_module_version": "1.2.0",
            "_view_name": "StyleView",
            "description_width": ""
          }
        },
        "5401a083fa454759abbdf3f3759bdf22": {
          "model_module": "@jupyter-widgets/base",
          "model_module_version": "1.2.0",
          "model_name": "LayoutModel",
          "state": {
            "_model_module": "@jupyter-widgets/base",
            "_model_module_version": "1.2.0",
            "_model_name": "LayoutModel",
            "_view_count": null,
            "_view_module": "@jupyter-widgets/base",
            "_view_module_version": "1.2.0",
            "_view_name": "LayoutView",
            "align_content": null,
            "align_items": null,
            "align_self": null,
            "border": null,
            "bottom": null,
            "display": null,
            "flex": null,
            "flex_flow": null,
            "grid_area": null,
            "grid_auto_columns": null,
            "grid_auto_flow": null,
            "grid_auto_rows": null,
            "grid_column": null,
            "grid_gap": null,
            "grid_row": null,
            "grid_template_areas": null,
            "grid_template_columns": null,
            "grid_template_rows": null,
            "height": null,
            "justify_content": null,
            "justify_items": null,
            "left": null,
            "margin": null,
            "max_height": null,
            "max_width": null,
            "min_height": null,
            "min_width": null,
            "object_fit": null,
            "object_position": null,
            "order": null,
            "overflow": null,
            "overflow_x": null,
            "overflow_y": null,
            "padding": null,
            "right": null,
            "top": null,
            "visibility": null,
            "width": null
          }
        },
        "54a417351fa947afa973b57115d753ea": {
          "model_module": "@jupyter-widgets/controls",
          "model_module_version": "1.5.0",
          "model_name": "DescriptionStyleModel",
          "state": {
            "_model_module": "@jupyter-widgets/controls",
            "_model_module_version": "1.5.0",
            "_model_name": "DescriptionStyleModel",
            "_view_count": null,
            "_view_module": "@jupyter-widgets/base",
            "_view_module_version": "1.2.0",
            "_view_name": "StyleView",
            "description_width": ""
          }
        },
        "56ca874924284cf39f6e4794397c0086": {
          "model_module": "@jupyter-widgets/base",
          "model_module_version": "1.2.0",
          "model_name": "LayoutModel",
          "state": {
            "_model_module": "@jupyter-widgets/base",
            "_model_module_version": "1.2.0",
            "_model_name": "LayoutModel",
            "_view_count": null,
            "_view_module": "@jupyter-widgets/base",
            "_view_module_version": "1.2.0",
            "_view_name": "LayoutView",
            "align_content": null,
            "align_items": null,
            "align_self": null,
            "border": null,
            "bottom": null,
            "display": null,
            "flex": null,
            "flex_flow": null,
            "grid_area": null,
            "grid_auto_columns": null,
            "grid_auto_flow": null,
            "grid_auto_rows": null,
            "grid_column": null,
            "grid_gap": null,
            "grid_row": null,
            "grid_template_areas": null,
            "grid_template_columns": null,
            "grid_template_rows": null,
            "height": null,
            "justify_content": null,
            "justify_items": null,
            "left": null,
            "margin": null,
            "max_height": null,
            "max_width": null,
            "min_height": null,
            "min_width": null,
            "object_fit": null,
            "object_position": null,
            "order": null,
            "overflow": null,
            "overflow_x": null,
            "overflow_y": null,
            "padding": null,
            "right": null,
            "top": null,
            "visibility": null,
            "width": null
          }
        },
        "57a8d7041f9d4198a781b60218840803": {
          "model_module": "@jupyter-widgets/controls",
          "model_module_version": "1.5.0",
          "model_name": "HBoxModel",
          "state": {
            "_dom_classes": [],
            "_model_module": "@jupyter-widgets/controls",
            "_model_module_version": "1.5.0",
            "_model_name": "HBoxModel",
            "_view_count": null,
            "_view_module": "@jupyter-widgets/controls",
            "_view_module_version": "1.5.0",
            "_view_name": "HBoxView",
            "box_style": "",
            "children": [
              "IPY_MODEL_3cd28b10ca884d828544c0cd2379ad0a",
              "IPY_MODEL_92c26f3da5d94515a20e70ee30f85eb6",
              "IPY_MODEL_1d2215ebc46f42898757c8fbbfd01d71"
            ],
            "layout": "IPY_MODEL_10a09fcbeb0b4841bf46c4ed29a7d517"
          }
        },
        "58db822343b541009b7771fd9da4713b": {
          "model_module": "@jupyter-widgets/controls",
          "model_module_version": "1.5.0",
          "model_name": "HBoxModel",
          "state": {
            "_dom_classes": [],
            "_model_module": "@jupyter-widgets/controls",
            "_model_module_version": "1.5.0",
            "_model_name": "HBoxModel",
            "_view_count": null,
            "_view_module": "@jupyter-widgets/controls",
            "_view_module_version": "1.5.0",
            "_view_name": "HBoxView",
            "box_style": "",
            "children": [
              "IPY_MODEL_c635505f06e344eabfc3c649ca0dd1d4",
              "IPY_MODEL_168aa02700744ed8afd923a2d6785fde",
              "IPY_MODEL_0b0902fcdffa4ce49338c2c5cf733db6"
            ],
            "layout": "IPY_MODEL_56ca874924284cf39f6e4794397c0086"
          }
        },
        "5aa45d6402d445bc9db52517af7ea799": {
          "model_module": "@jupyter-widgets/controls",
          "model_module_version": "1.5.0",
          "model_name": "DescriptionStyleModel",
          "state": {
            "_model_module": "@jupyter-widgets/controls",
            "_model_module_version": "1.5.0",
            "_model_name": "DescriptionStyleModel",
            "_view_count": null,
            "_view_module": "@jupyter-widgets/base",
            "_view_module_version": "1.2.0",
            "_view_name": "StyleView",
            "description_width": ""
          }
        },
        "5b6f38cbf23242818f5e1067b089ac93": {
          "model_module": "@jupyter-widgets/controls",
          "model_module_version": "1.5.0",
          "model_name": "FloatProgressModel",
          "state": {
            "_dom_classes": [],
            "_model_module": "@jupyter-widgets/controls",
            "_model_module_version": "1.5.0",
            "_model_name": "FloatProgressModel",
            "_view_count": null,
            "_view_module": "@jupyter-widgets/controls",
            "_view_module_version": "1.5.0",
            "_view_name": "ProgressView",
            "bar_style": "success",
            "description": "",
            "description_tooltip": null,
            "layout": "IPY_MODEL_fd5348c6288d4908b69ef234185e8a6b",
            "max": 470641600,
            "min": 0,
            "orientation": "horizontal",
            "style": "IPY_MODEL_0d62d5b6b8b845dcbef0ad5511cde8e3",
            "value": 470641600
          }
        },
        "5d7104e8b7914f00b5d6a2dd592dab59": {
          "model_module": "@jupyter-widgets/controls",
          "model_module_version": "1.5.0",
          "model_name": "HBoxModel",
          "state": {
            "_dom_classes": [],
            "_model_module": "@jupyter-widgets/controls",
            "_model_module_version": "1.5.0",
            "_model_name": "HBoxModel",
            "_view_count": null,
            "_view_module": "@jupyter-widgets/controls",
            "_view_module_version": "1.5.0",
            "_view_name": "HBoxView",
            "box_style": "",
            "children": [
              "IPY_MODEL_74fed37fecd74d889a3b8b21578912f0",
              "IPY_MODEL_df27dba2bc5045738450b159428278b5",
              "IPY_MODEL_4ab1da4502c94b8ea5df099ae63c3efd"
            ],
            "layout": "IPY_MODEL_2007edcb253042abbff010c9e8772932"
          }
        },
        "5f795b5767a045599b8735a7f9ae196a": {
          "model_module": "@jupyter-widgets/controls",
          "model_module_version": "1.5.0",
          "model_name": "HTMLModel",
          "state": {
            "_dom_classes": [],
            "_model_module": "@jupyter-widgets/controls",
            "_model_module_version": "1.5.0",
            "_model_name": "HTMLModel",
            "_view_count": null,
            "_view_module": "@jupyter-widgets/controls",
            "_view_module_version": "1.5.0",
            "_view_name": "HTMLView",
            "description": "",
            "description_tooltip": null,
            "layout": "IPY_MODEL_cc90dfc2c330458ab28931e395218dcb",
            "placeholder": "​",
            "style": "IPY_MODEL_54a417351fa947afa973b57115d753ea",
            "value": " 498k/? [00:00&lt;00:00, 28.4MB/s]"
          }
        },
        "5fe88de866c64d8a9e4c5e16a4166a0d": {
          "model_module": "@jupyter-widgets/base",
          "model_module_version": "1.2.0",
          "model_name": "LayoutModel",
          "state": {
            "_model_module": "@jupyter-widgets/base",
            "_model_module_version": "1.2.0",
            "_model_name": "LayoutModel",
            "_view_count": null,
            "_view_module": "@jupyter-widgets/base",
            "_view_module_version": "1.2.0",
            "_view_name": "LayoutView",
            "align_content": null,
            "align_items": null,
            "align_self": null,
            "border": null,
            "bottom": null,
            "display": null,
            "flex": null,
            "flex_flow": null,
            "grid_area": null,
            "grid_auto_columns": null,
            "grid_auto_flow": null,
            "grid_auto_rows": null,
            "grid_column": null,
            "grid_gap": null,
            "grid_row": null,
            "grid_template_areas": null,
            "grid_template_columns": null,
            "grid_template_rows": null,
            "height": null,
            "justify_content": null,
            "justify_items": null,
            "left": null,
            "margin": null,
            "max_height": null,
            "max_width": null,
            "min_height": null,
            "min_width": null,
            "object_fit": null,
            "object_position": null,
            "order": null,
            "overflow": null,
            "overflow_x": null,
            "overflow_y": null,
            "padding": null,
            "right": null,
            "top": null,
            "visibility": null,
            "width": null
          }
        },
        "628a94cceba949b78159a175bbade706": {
          "model_module": "@jupyter-widgets/controls",
          "model_module_version": "1.5.0",
          "model_name": "FloatProgressModel",
          "state": {
            "_dom_classes": [],
            "_model_module": "@jupyter-widgets/controls",
            "_model_module_version": "1.5.0",
            "_model_name": "FloatProgressModel",
            "_view_count": null,
            "_view_module": "@jupyter-widgets/controls",
            "_view_module_version": "1.5.0",
            "_view_name": "ProgressView",
            "bar_style": "success",
            "description": "",
            "description_tooltip": null,
            "layout": "IPY_MODEL_a57436fce12b48679b9f867e44936c72",
            "max": 1,
            "min": 0,
            "orientation": "horizontal",
            "style": "IPY_MODEL_6f4427e5b6824deda0687a70d825d599",
            "value": 1
          }
        },
        "6900547f804c4e2881f99b90f249fa99": {
          "model_module": "@jupyter-widgets/base",
          "model_module_version": "1.2.0",
          "model_name": "LayoutModel",
          "state": {
            "_model_module": "@jupyter-widgets/base",
            "_model_module_version": "1.2.0",
            "_model_name": "LayoutModel",
            "_view_count": null,
            "_view_module": "@jupyter-widgets/base",
            "_view_module_version": "1.2.0",
            "_view_name": "LayoutView",
            "align_content": null,
            "align_items": null,
            "align_self": null,
            "border": null,
            "bottom": null,
            "display": null,
            "flex": null,
            "flex_flow": null,
            "grid_area": null,
            "grid_auto_columns": null,
            "grid_auto_flow": null,
            "grid_auto_rows": null,
            "grid_column": null,
            "grid_gap": null,
            "grid_row": null,
            "grid_template_areas": null,
            "grid_template_columns": null,
            "grid_template_rows": null,
            "height": null,
            "justify_content": null,
            "justify_items": null,
            "left": null,
            "margin": null,
            "max_height": null,
            "max_width": null,
            "min_height": null,
            "min_width": null,
            "object_fit": null,
            "object_position": null,
            "order": null,
            "overflow": null,
            "overflow_x": null,
            "overflow_y": null,
            "padding": null,
            "right": null,
            "top": null,
            "visibility": null,
            "width": null
          }
        },
        "6aacfe7c7942458e9de767171b46e39e": {
          "model_module": "@jupyter-widgets/controls",
          "model_module_version": "1.5.0",
          "model_name": "DescriptionStyleModel",
          "state": {
            "_model_module": "@jupyter-widgets/controls",
            "_model_module_version": "1.5.0",
            "_model_name": "DescriptionStyleModel",
            "_view_count": null,
            "_view_module": "@jupyter-widgets/base",
            "_view_module_version": "1.2.0",
            "_view_name": "StyleView",
            "description_width": ""
          }
        },
        "6b868c1085db4b2f88fd249bd7d2ae55": {
          "model_module": "@jupyter-widgets/controls",
          "model_module_version": "1.5.0",
          "model_name": "HBoxModel",
          "state": {
            "_dom_classes": [],
            "_model_module": "@jupyter-widgets/controls",
            "_model_module_version": "1.5.0",
            "_model_name": "HBoxModel",
            "_view_count": null,
            "_view_module": "@jupyter-widgets/controls",
            "_view_module_version": "1.5.0",
            "_view_name": "HBoxView",
            "box_style": "",
            "children": [
              "IPY_MODEL_74cb0d2beacc4ca982d6185866ea8296",
              "IPY_MODEL_5b6f38cbf23242818f5e1067b089ac93",
              "IPY_MODEL_4325e27f64ff4194b773bc6833b39ee1"
            ],
            "layout": "IPY_MODEL_dac58868ad9144468c692cf6a3064ed2"
          }
        },
        "6bb4f086650248889a7140a48b1dc1aa": {
          "model_module": "@jupyter-widgets/base",
          "model_module_version": "1.2.0",
          "model_name": "LayoutModel",
          "state": {
            "_model_module": "@jupyter-widgets/base",
            "_model_module_version": "1.2.0",
            "_model_name": "LayoutModel",
            "_view_count": null,
            "_view_module": "@jupyter-widgets/base",
            "_view_module_version": "1.2.0",
            "_view_name": "LayoutView",
            "align_content": null,
            "align_items": null,
            "align_self": null,
            "border": null,
            "bottom": null,
            "display": null,
            "flex": null,
            "flex_flow": null,
            "grid_area": null,
            "grid_auto_columns": null,
            "grid_auto_flow": null,
            "grid_auto_rows": null,
            "grid_column": null,
            "grid_gap": null,
            "grid_row": null,
            "grid_template_areas": null,
            "grid_template_columns": null,
            "grid_template_rows": null,
            "height": null,
            "justify_content": null,
            "justify_items": null,
            "left": null,
            "margin": null,
            "max_height": null,
            "max_width": null,
            "min_height": null,
            "min_width": null,
            "object_fit": null,
            "object_position": null,
            "order": null,
            "overflow": null,
            "overflow_x": null,
            "overflow_y": null,
            "padding": null,
            "right": null,
            "top": null,
            "visibility": null,
            "width": null
          }
        },
        "6dc2391ab9f6476e8ee87a33326bda6a": {
          "model_module": "@jupyter-widgets/controls",
          "model_module_version": "1.5.0",
          "model_name": "DescriptionStyleModel",
          "state": {
            "_model_module": "@jupyter-widgets/controls",
            "_model_module_version": "1.5.0",
            "_model_name": "DescriptionStyleModel",
            "_view_count": null,
            "_view_module": "@jupyter-widgets/base",
            "_view_module_version": "1.2.0",
            "_view_name": "StyleView",
            "description_width": ""
          }
        },
        "6f4427e5b6824deda0687a70d825d599": {
          "model_module": "@jupyter-widgets/controls",
          "model_module_version": "1.5.0",
          "model_name": "ProgressStyleModel",
          "state": {
            "_model_module": "@jupyter-widgets/controls",
            "_model_module_version": "1.5.0",
            "_model_name": "ProgressStyleModel",
            "_view_count": null,
            "_view_module": "@jupyter-widgets/base",
            "_view_module_version": "1.2.0",
            "_view_name": "StyleView",
            "bar_color": null,
            "description_width": ""
          }
        },
        "6f70e5302ea14a0592bf10dfa76f4ce2": {
          "model_module": "@jupyter-widgets/base",
          "model_module_version": "1.2.0",
          "model_name": "LayoutModel",
          "state": {
            "_model_module": "@jupyter-widgets/base",
            "_model_module_version": "1.2.0",
            "_model_name": "LayoutModel",
            "_view_count": null,
            "_view_module": "@jupyter-widgets/base",
            "_view_module_version": "1.2.0",
            "_view_name": "LayoutView",
            "align_content": null,
            "align_items": null,
            "align_self": null,
            "border": null,
            "bottom": null,
            "display": null,
            "flex": null,
            "flex_flow": null,
            "grid_area": null,
            "grid_auto_columns": null,
            "grid_auto_flow": null,
            "grid_auto_rows": null,
            "grid_column": null,
            "grid_gap": null,
            "grid_row": null,
            "grid_template_areas": null,
            "grid_template_columns": null,
            "grid_template_rows": null,
            "height": null,
            "justify_content": null,
            "justify_items": null,
            "left": null,
            "margin": null,
            "max_height": null,
            "max_width": null,
            "min_height": null,
            "min_width": null,
            "object_fit": null,
            "object_position": null,
            "order": null,
            "overflow": null,
            "overflow_x": null,
            "overflow_y": null,
            "padding": null,
            "right": null,
            "top": null,
            "visibility": null,
            "width": null
          }
        },
        "73b9d91f4f5742ba8ebfefaadd0e679e": {
          "model_module": "@jupyter-widgets/base",
          "model_module_version": "1.2.0",
          "model_name": "LayoutModel",
          "state": {
            "_model_module": "@jupyter-widgets/base",
            "_model_module_version": "1.2.0",
            "_model_name": "LayoutModel",
            "_view_count": null,
            "_view_module": "@jupyter-widgets/base",
            "_view_module_version": "1.2.0",
            "_view_name": "LayoutView",
            "align_content": null,
            "align_items": null,
            "align_self": null,
            "border": null,
            "bottom": null,
            "display": null,
            "flex": null,
            "flex_flow": null,
            "grid_area": null,
            "grid_auto_columns": null,
            "grid_auto_flow": null,
            "grid_auto_rows": null,
            "grid_column": null,
            "grid_gap": null,
            "grid_row": null,
            "grid_template_areas": null,
            "grid_template_columns": null,
            "grid_template_rows": null,
            "height": null,
            "justify_content": null,
            "justify_items": null,
            "left": null,
            "margin": null,
            "max_height": null,
            "max_width": null,
            "min_height": null,
            "min_width": null,
            "object_fit": null,
            "object_position": null,
            "order": null,
            "overflow": null,
            "overflow_x": null,
            "overflow_y": null,
            "padding": null,
            "right": null,
            "top": null,
            "visibility": null,
            "width": null
          }
        },
        "74cb0d2beacc4ca982d6185866ea8296": {
          "model_module": "@jupyter-widgets/controls",
          "model_module_version": "1.5.0",
          "model_name": "HTMLModel",
          "state": {
            "_dom_classes": [],
            "_model_module": "@jupyter-widgets/controls",
            "_model_module_version": "1.5.0",
            "_model_name": "HTMLModel",
            "_view_count": null,
            "_view_module": "@jupyter-widgets/controls",
            "_view_module_version": "1.5.0",
            "_view_name": "HTMLView",
            "description": "",
            "description_tooltip": null,
            "layout": "IPY_MODEL_22a5cb9cabc94ed8a06b40e0dfb9be23",
            "placeholder": "​",
            "style": "IPY_MODEL_c59eb75465fd40b4b95204672f497bf3",
            "value": "model.safetensors: 100%"
          }
        },
        "74fed37fecd74d889a3b8b21578912f0": {
          "model_module": "@jupyter-widgets/controls",
          "model_module_version": "1.5.0",
          "model_name": "HTMLModel",
          "state": {
            "_dom_classes": [],
            "_model_module": "@jupyter-widgets/controls",
            "_model_module_version": "1.5.0",
            "_model_name": "HTMLModel",
            "_view_count": null,
            "_view_module": "@jupyter-widgets/controls",
            "_view_module_version": "1.5.0",
            "_view_name": "HTMLView",
            "description": "",
            "description_tooltip": null,
            "layout": "IPY_MODEL_0d398c8152ee42d4b011a580e8657dc2",
            "placeholder": "​",
            "style": "IPY_MODEL_8f8e9e25801440b4b94e7552ffb68224",
            "value": "tokenizer.json: 100%"
          }
        },
        "7530b106122148399d55cb3c7e6df861": {
          "model_module": "@jupyter-widgets/base",
          "model_module_version": "1.2.0",
          "model_name": "LayoutModel",
          "state": {
            "_model_module": "@jupyter-widgets/base",
            "_model_module_version": "1.2.0",
            "_model_name": "LayoutModel",
            "_view_count": null,
            "_view_module": "@jupyter-widgets/base",
            "_view_module_version": "1.2.0",
            "_view_name": "LayoutView",
            "align_content": null,
            "align_items": null,
            "align_self": null,
            "border": null,
            "bottom": null,
            "display": null,
            "flex": null,
            "flex_flow": null,
            "grid_area": null,
            "grid_auto_columns": null,
            "grid_auto_flow": null,
            "grid_auto_rows": null,
            "grid_column": null,
            "grid_gap": null,
            "grid_row": null,
            "grid_template_areas": null,
            "grid_template_columns": null,
            "grid_template_rows": null,
            "height": null,
            "justify_content": null,
            "justify_items": null,
            "left": null,
            "margin": null,
            "max_height": null,
            "max_width": null,
            "min_height": null,
            "min_width": null,
            "object_fit": null,
            "object_position": null,
            "order": null,
            "overflow": null,
            "overflow_x": null,
            "overflow_y": null,
            "padding": null,
            "right": null,
            "top": null,
            "visibility": null,
            "width": null
          }
        },
        "76385acf69f64ac2935c4cacc21ec2de": {
          "model_module": "@jupyter-widgets/controls",
          "model_module_version": "1.5.0",
          "model_name": "HTMLModel",
          "state": {
            "_dom_classes": [],
            "_model_module": "@jupyter-widgets/controls",
            "_model_module_version": "1.5.0",
            "_model_name": "HTMLModel",
            "_view_count": null,
            "_view_module": "@jupyter-widgets/controls",
            "_view_module_version": "1.5.0",
            "_view_name": "HTMLView",
            "description": "",
            "description_tooltip": null,
            "layout": "IPY_MODEL_73b9d91f4f5742ba8ebfefaadd0e679e",
            "placeholder": "​",
            "style": "IPY_MODEL_6aacfe7c7942458e9de767171b46e39e",
            "value": " 57.0/57.0 [00:00&lt;00:00, 7.36kB/s]"
          }
        },
        "768d91fb3627426caa07ac4c058f9332": {
          "model_module": "@jupyter-widgets/base",
          "model_module_version": "1.2.0",
          "model_name": "LayoutModel",
          "state": {
            "_model_module": "@jupyter-widgets/base",
            "_model_module_version": "1.2.0",
            "_model_name": "LayoutModel",
            "_view_count": null,
            "_view_module": "@jupyter-widgets/base",
            "_view_module_version": "1.2.0",
            "_view_name": "LayoutView",
            "align_content": null,
            "align_items": null,
            "align_self": null,
            "border": null,
            "bottom": null,
            "display": null,
            "flex": null,
            "flex_flow": null,
            "grid_area": null,
            "grid_auto_columns": null,
            "grid_auto_flow": null,
            "grid_auto_rows": null,
            "grid_column": null,
            "grid_gap": null,
            "grid_row": null,
            "grid_template_areas": null,
            "grid_template_columns": null,
            "grid_template_rows": null,
            "height": null,
            "justify_content": null,
            "justify_items": null,
            "left": null,
            "margin": null,
            "max_height": null,
            "max_width": null,
            "min_height": null,
            "min_width": null,
            "object_fit": null,
            "object_position": null,
            "order": null,
            "overflow": null,
            "overflow_x": null,
            "overflow_y": null,
            "padding": null,
            "right": null,
            "top": null,
            "visibility": null,
            "width": null
          }
        },
        "7934f8a048b84800919e310f2d518f33": {
          "model_module": "@jupyter-widgets/controls",
          "model_module_version": "1.5.0",
          "model_name": "ProgressStyleModel",
          "state": {
            "_model_module": "@jupyter-widgets/controls",
            "_model_module_version": "1.5.0",
            "_model_name": "ProgressStyleModel",
            "_view_count": null,
            "_view_module": "@jupyter-widgets/base",
            "_view_module_version": "1.2.0",
            "_view_name": "StyleView",
            "bar_color": null,
            "description_width": ""
          }
        },
        "7b9f7875178940dbac323141ace84356": {
          "model_module": "@jupyter-widgets/base",
          "model_module_version": "1.2.0",
          "model_name": "LayoutModel",
          "state": {
            "_model_module": "@jupyter-widgets/base",
            "_model_module_version": "1.2.0",
            "_model_name": "LayoutModel",
            "_view_count": null,
            "_view_module": "@jupyter-widgets/base",
            "_view_module_version": "1.2.0",
            "_view_name": "LayoutView",
            "align_content": null,
            "align_items": null,
            "align_self": null,
            "border": null,
            "bottom": null,
            "display": null,
            "flex": null,
            "flex_flow": null,
            "grid_area": null,
            "grid_auto_columns": null,
            "grid_auto_flow": null,
            "grid_auto_rows": null,
            "grid_column": null,
            "grid_gap": null,
            "grid_row": null,
            "grid_template_areas": null,
            "grid_template_columns": null,
            "grid_template_rows": null,
            "height": null,
            "justify_content": null,
            "justify_items": null,
            "left": null,
            "margin": null,
            "max_height": null,
            "max_width": null,
            "min_height": null,
            "min_width": null,
            "object_fit": null,
            "object_position": null,
            "order": null,
            "overflow": null,
            "overflow_x": null,
            "overflow_y": null,
            "padding": null,
            "right": null,
            "top": null,
            "visibility": null,
            "width": null
          }
        },
        "7df6845f3b404767ad3fa577838fa874": {
          "model_module": "@jupyter-widgets/controls",
          "model_module_version": "1.5.0",
          "model_name": "FloatProgressModel",
          "state": {
            "_dom_classes": [],
            "_model_module": "@jupyter-widgets/controls",
            "_model_module_version": "1.5.0",
            "_model_name": "FloatProgressModel",
            "_view_count": null,
            "_view_module": "@jupyter-widgets/controls",
            "_view_module_version": "1.5.0",
            "_view_name": "ProgressView",
            "bar_style": "success",
            "description": "",
            "description_tooltip": null,
            "layout": "IPY_MODEL_bfadc89b205d4306a59d7cb21913fd54",
            "max": 387,
            "min": 0,
            "orientation": "horizontal",
            "style": "IPY_MODEL_8a7deaacdf1f4a328955f2e19a855e80",
            "value": 387
          }
        },
        "7e2ba30d2d1f46b3b27f993c89d884d4": {
          "model_module": "@jupyter-widgets/controls",
          "model_module_version": "1.5.0",
          "model_name": "DescriptionStyleModel",
          "state": {
            "_model_module": "@jupyter-widgets/controls",
            "_model_module_version": "1.5.0",
            "_model_name": "DescriptionStyleModel",
            "_view_count": null,
            "_view_module": "@jupyter-widgets/base",
            "_view_module_version": "1.2.0",
            "_view_name": "StyleView",
            "description_width": ""
          }
        },
        "7e61ef607c5548a888298e841b94491b": {
          "model_module": "@jupyter-widgets/controls",
          "model_module_version": "1.5.0",
          "model_name": "HTMLModel",
          "state": {
            "_dom_classes": [],
            "_model_module": "@jupyter-widgets/controls",
            "_model_module_version": "1.5.0",
            "_model_name": "HTMLModel",
            "_view_count": null,
            "_view_module": "@jupyter-widgets/controls",
            "_view_module_version": "1.5.0",
            "_view_name": "HTMLView",
            "description": "",
            "description_tooltip": null,
            "layout": "IPY_MODEL_b0da76a392b34b39a066e10d21db6692",
            "placeholder": "​",
            "style": "IPY_MODEL_523e871cb34e4341972e4fe54a52417b",
            "value": " 167/167 [00:00&lt;00:00, 3.83kB/s]"
          }
        },
        "87997a76edfc422f9cc9fea9aee85796": {
          "model_module": "@jupyter-widgets/controls",
          "model_module_version": "1.5.0",
          "model_name": "ProgressStyleModel",
          "state": {
            "_model_module": "@jupyter-widgets/controls",
            "_model_module_version": "1.5.0",
            "_model_name": "ProgressStyleModel",
            "_view_count": null,
            "_view_module": "@jupyter-widgets/base",
            "_view_module_version": "1.2.0",
            "_view_name": "StyleView",
            "bar_color": null,
            "description_width": ""
          }
        },
        "8a7deaacdf1f4a328955f2e19a855e80": {
          "model_module": "@jupyter-widgets/controls",
          "model_module_version": "1.5.0",
          "model_name": "ProgressStyleModel",
          "state": {
            "_model_module": "@jupyter-widgets/controls",
            "_model_module_version": "1.5.0",
            "_model_name": "ProgressStyleModel",
            "_view_count": null,
            "_view_module": "@jupyter-widgets/base",
            "_view_module_version": "1.2.0",
            "_view_name": "StyleView",
            "bar_color": null,
            "description_width": ""
          }
        },
        "8f8e9e25801440b4b94e7552ffb68224": {
          "model_module": "@jupyter-widgets/controls",
          "model_module_version": "1.5.0",
          "model_name": "DescriptionStyleModel",
          "state": {
            "_model_module": "@jupyter-widgets/controls",
            "_model_module_version": "1.5.0",
            "_model_name": "DescriptionStyleModel",
            "_view_count": null,
            "_view_module": "@jupyter-widgets/base",
            "_view_module_version": "1.2.0",
            "_view_name": "StyleView",
            "description_width": ""
          }
        },
        "8ff65194d0544b989a233be45e4834be": {
          "model_module": "@jupyter-widgets/base",
          "model_module_version": "1.2.0",
          "model_name": "LayoutModel",
          "state": {
            "_model_module": "@jupyter-widgets/base",
            "_model_module_version": "1.2.0",
            "_model_name": "LayoutModel",
            "_view_count": null,
            "_view_module": "@jupyter-widgets/base",
            "_view_module_version": "1.2.0",
            "_view_name": "LayoutView",
            "align_content": null,
            "align_items": null,
            "align_self": null,
            "border": null,
            "bottom": null,
            "display": null,
            "flex": null,
            "flex_flow": null,
            "grid_area": null,
            "grid_auto_columns": null,
            "grid_auto_flow": null,
            "grid_auto_rows": null,
            "grid_column": null,
            "grid_gap": null,
            "grid_row": null,
            "grid_template_areas": null,
            "grid_template_columns": null,
            "grid_template_rows": null,
            "height": null,
            "justify_content": null,
            "justify_items": null,
            "left": null,
            "margin": null,
            "max_height": null,
            "max_width": null,
            "min_height": null,
            "min_width": null,
            "object_fit": null,
            "object_position": null,
            "order": null,
            "overflow": null,
            "overflow_x": null,
            "overflow_y": null,
            "padding": null,
            "right": null,
            "top": null,
            "visibility": null,
            "width": null
          }
        },
        "92c26f3da5d94515a20e70ee30f85eb6": {
          "model_module": "@jupyter-widgets/controls",
          "model_module_version": "1.5.0",
          "model_name": "FloatProgressModel",
          "state": {
            "_dom_classes": [],
            "_model_module": "@jupyter-widgets/controls",
            "_model_module_version": "1.5.0",
            "_model_name": "FloatProgressModel",
            "_view_count": null,
            "_view_module": "@jupyter-widgets/controls",
            "_view_module_version": "1.5.0",
            "_view_name": "ProgressView",
            "bar_style": "success",
            "description": "",
            "description_tooltip": null,
            "layout": "IPY_MODEL_f101b553cc5f4085ac5e82fab4e8087e",
            "max": 5069051,
            "min": 0,
            "orientation": "horizontal",
            "style": "IPY_MODEL_a9e93b17c15f4995ba9af579287d1bd0",
            "value": 5069051
          }
        },
        "947549a0d52f48039acdac252057d522": {
          "model_module": "@jupyter-widgets/controls",
          "model_module_version": "1.5.0",
          "model_name": "DescriptionStyleModel",
          "state": {
            "_model_module": "@jupyter-widgets/controls",
            "_model_module_version": "1.5.0",
            "_model_name": "DescriptionStyleModel",
            "_view_count": null,
            "_view_module": "@jupyter-widgets/base",
            "_view_module_version": "1.2.0",
            "_view_name": "StyleView",
            "description_width": ""
          }
        },
        "993021ad801c4a65b0af69e09b0c89a9": {
          "model_module": "@jupyter-widgets/controls",
          "model_module_version": "1.5.0",
          "model_name": "ProgressStyleModel",
          "state": {
            "_model_module": "@jupyter-widgets/controls",
            "_model_module_version": "1.5.0",
            "_model_name": "ProgressStyleModel",
            "_view_count": null,
            "_view_module": "@jupyter-widgets/base",
            "_view_module_version": "1.2.0",
            "_view_name": "StyleView",
            "bar_color": null,
            "description_width": ""
          }
        },
        "9b3406017f47418797b894ae292271b9": {
          "model_module": "@jupyter-widgets/controls",
          "model_module_version": "1.5.0",
          "model_name": "HTMLModel",
          "state": {
            "_dom_classes": [],
            "_model_module": "@jupyter-widgets/controls",
            "_model_module_version": "1.5.0",
            "_model_name": "HTMLModel",
            "_view_count": null,
            "_view_module": "@jupyter-widgets/controls",
            "_view_module_version": "1.5.0",
            "_view_name": "HTMLView",
            "description": "",
            "description_tooltip": null,
            "layout": "IPY_MODEL_3a9301f3b1f646bb94704294d14647bb",
            "placeholder": "​",
            "style": "IPY_MODEL_2a73aeb2910b411d8b74481b5121a9e7",
            "value": " 200/200 [00:00&lt;00:00, 7.79kB/s]"
          }
        },
        "9c58a0ab90334d6dab26c01d2cf73eee": {
          "model_module": "@jupyter-widgets/base",
          "model_module_version": "1.2.0",
          "model_name": "LayoutModel",
          "state": {
            "_model_module": "@jupyter-widgets/base",
            "_model_module_version": "1.2.0",
            "_model_name": "LayoutModel",
            "_view_count": null,
            "_view_module": "@jupyter-widgets/base",
            "_view_module_version": "1.2.0",
            "_view_name": "LayoutView",
            "align_content": null,
            "align_items": null,
            "align_self": null,
            "border": null,
            "bottom": null,
            "display": null,
            "flex": null,
            "flex_flow": null,
            "grid_area": null,
            "grid_auto_columns": null,
            "grid_auto_flow": null,
            "grid_auto_rows": null,
            "grid_column": null,
            "grid_gap": null,
            "grid_row": null,
            "grid_template_areas": null,
            "grid_template_columns": null,
            "grid_template_rows": null,
            "height": null,
            "justify_content": null,
            "justify_items": null,
            "left": null,
            "margin": null,
            "max_height": null,
            "max_width": null,
            "min_height": null,
            "min_width": null,
            "object_fit": null,
            "object_position": null,
            "order": null,
            "overflow": null,
            "overflow_x": null,
            "overflow_y": null,
            "padding": null,
            "right": null,
            "top": null,
            "visibility": null,
            "width": null
          }
        },
        "9f1f2d911da94e179eab8e7bffade83e": {
          "model_module": "@jupyter-widgets/base",
          "model_module_version": "1.2.0",
          "model_name": "LayoutModel",
          "state": {
            "_model_module": "@jupyter-widgets/base",
            "_model_module_version": "1.2.0",
            "_model_name": "LayoutModel",
            "_view_count": null,
            "_view_module": "@jupyter-widgets/base",
            "_view_module_version": "1.2.0",
            "_view_name": "LayoutView",
            "align_content": null,
            "align_items": null,
            "align_self": null,
            "border": null,
            "bottom": null,
            "display": null,
            "flex": null,
            "flex_flow": null,
            "grid_area": null,
            "grid_auto_columns": null,
            "grid_auto_flow": null,
            "grid_auto_rows": null,
            "grid_column": null,
            "grid_gap": null,
            "grid_row": null,
            "grid_template_areas": null,
            "grid_template_columns": null,
            "grid_template_rows": null,
            "height": null,
            "justify_content": null,
            "justify_items": null,
            "left": null,
            "margin": null,
            "max_height": null,
            "max_width": null,
            "min_height": null,
            "min_width": null,
            "object_fit": null,
            "object_position": null,
            "order": null,
            "overflow": null,
            "overflow_x": null,
            "overflow_y": null,
            "padding": null,
            "right": null,
            "top": null,
            "visibility": null,
            "width": null
          }
        },
        "a57436fce12b48679b9f867e44936c72": {
          "model_module": "@jupyter-widgets/base",
          "model_module_version": "1.2.0",
          "model_name": "LayoutModel",
          "state": {
            "_model_module": "@jupyter-widgets/base",
            "_model_module_version": "1.2.0",
            "_model_name": "LayoutModel",
            "_view_count": null,
            "_view_module": "@jupyter-widgets/base",
            "_view_module_version": "1.2.0",
            "_view_name": "LayoutView",
            "align_content": null,
            "align_items": null,
            "align_self": null,
            "border": null,
            "bottom": null,
            "display": null,
            "flex": null,
            "flex_flow": null,
            "grid_area": null,
            "grid_auto_columns": null,
            "grid_auto_flow": null,
            "grid_auto_rows": null,
            "grid_column": null,
            "grid_gap": null,
            "grid_row": null,
            "grid_template_areas": null,
            "grid_template_columns": null,
            "grid_template_rows": null,
            "height": null,
            "justify_content": null,
            "justify_items": null,
            "left": null,
            "margin": null,
            "max_height": null,
            "max_width": null,
            "min_height": null,
            "min_width": null,
            "object_fit": null,
            "object_position": null,
            "order": null,
            "overflow": null,
            "overflow_x": null,
            "overflow_y": null,
            "padding": null,
            "right": null,
            "top": null,
            "visibility": null,
            "width": "20px"
          }
        },
        "a6ad5525f9ee43f18ea3ce1587882312": {
          "model_module": "@jupyter-widgets/base",
          "model_module_version": "1.2.0",
          "model_name": "LayoutModel",
          "state": {
            "_model_module": "@jupyter-widgets/base",
            "_model_module_version": "1.2.0",
            "_model_name": "LayoutModel",
            "_view_count": null,
            "_view_module": "@jupyter-widgets/base",
            "_view_module_version": "1.2.0",
            "_view_name": "LayoutView",
            "align_content": null,
            "align_items": null,
            "align_self": null,
            "border": null,
            "bottom": null,
            "display": null,
            "flex": null,
            "flex_flow": null,
            "grid_area": null,
            "grid_auto_columns": null,
            "grid_auto_flow": null,
            "grid_auto_rows": null,
            "grid_column": null,
            "grid_gap": null,
            "grid_row": null,
            "grid_template_areas": null,
            "grid_template_columns": null,
            "grid_template_rows": null,
            "height": null,
            "justify_content": null,
            "justify_items": null,
            "left": null,
            "margin": null,
            "max_height": null,
            "max_width": null,
            "min_height": null,
            "min_width": null,
            "object_fit": null,
            "object_position": null,
            "order": null,
            "overflow": null,
            "overflow_x": null,
            "overflow_y": null,
            "padding": null,
            "right": null,
            "top": null,
            "visibility": null,
            "width": null
          }
        },
        "a9bd6807216f45b6b67b36b97a66d733": {
          "model_module": "@jupyter-widgets/controls",
          "model_module_version": "1.5.0",
          "model_name": "ProgressStyleModel",
          "state": {
            "_model_module": "@jupyter-widgets/controls",
            "_model_module_version": "1.5.0",
            "_model_name": "ProgressStyleModel",
            "_view_count": null,
            "_view_module": "@jupyter-widgets/base",
            "_view_module_version": "1.2.0",
            "_view_name": "StyleView",
            "bar_color": null,
            "description_width": ""
          }
        },
        "a9e93b17c15f4995ba9af579287d1bd0": {
          "model_module": "@jupyter-widgets/controls",
          "model_module_version": "1.5.0",
          "model_name": "ProgressStyleModel",
          "state": {
            "_model_module": "@jupyter-widgets/controls",
            "_model_module_version": "1.5.0",
            "_model_name": "ProgressStyleModel",
            "_view_count": null,
            "_view_module": "@jupyter-widgets/base",
            "_view_module_version": "1.2.0",
            "_view_name": "StyleView",
            "bar_color": null,
            "description_width": ""
          }
        },
        "ab64fe76f54040c191766e3b0e6e0eaf": {
          "model_module": "@jupyter-widgets/base",
          "model_module_version": "1.2.0",
          "model_name": "LayoutModel",
          "state": {
            "_model_module": "@jupyter-widgets/base",
            "_model_module_version": "1.2.0",
            "_model_name": "LayoutModel",
            "_view_count": null,
            "_view_module": "@jupyter-widgets/base",
            "_view_module_version": "1.2.0",
            "_view_name": "LayoutView",
            "align_content": null,
            "align_items": null,
            "align_self": null,
            "border": null,
            "bottom": null,
            "display": null,
            "flex": null,
            "flex_flow": null,
            "grid_area": null,
            "grid_auto_columns": null,
            "grid_auto_flow": null,
            "grid_auto_rows": null,
            "grid_column": null,
            "grid_gap": null,
            "grid_row": null,
            "grid_template_areas": null,
            "grid_template_columns": null,
            "grid_template_rows": null,
            "height": null,
            "justify_content": null,
            "justify_items": null,
            "left": null,
            "margin": null,
            "max_height": null,
            "max_width": null,
            "min_height": null,
            "min_width": null,
            "object_fit": null,
            "object_position": null,
            "order": null,
            "overflow": null,
            "overflow_x": null,
            "overflow_y": null,
            "padding": null,
            "right": null,
            "top": null,
            "visibility": null,
            "width": null
          }
        },
        "ac540e8a52b44569a50b829c680ed5ea": {
          "model_module": "@jupyter-widgets/controls",
          "model_module_version": "1.5.0",
          "model_name": "DescriptionStyleModel",
          "state": {
            "_model_module": "@jupyter-widgets/controls",
            "_model_module_version": "1.5.0",
            "_model_name": "DescriptionStyleModel",
            "_view_count": null,
            "_view_module": "@jupyter-widgets/base",
            "_view_module_version": "1.2.0",
            "_view_name": "StyleView",
            "description_width": ""
          }
        },
        "ad6ff0421150464bb2a2b21e50a9397f": {
          "model_module": "@jupyter-widgets/controls",
          "model_module_version": "1.5.0",
          "model_name": "DescriptionStyleModel",
          "state": {
            "_model_module": "@jupyter-widgets/controls",
            "_model_module_version": "1.5.0",
            "_model_name": "DescriptionStyleModel",
            "_view_count": null,
            "_view_module": "@jupyter-widgets/base",
            "_view_module_version": "1.2.0",
            "_view_name": "StyleView",
            "description_width": ""
          }
        },
        "b019814eece0458bbc7ac9791e9a45a2": {
          "model_module": "@jupyter-widgets/controls",
          "model_module_version": "1.5.0",
          "model_name": "DescriptionStyleModel",
          "state": {
            "_model_module": "@jupyter-widgets/controls",
            "_model_module_version": "1.5.0",
            "_model_name": "DescriptionStyleModel",
            "_view_count": null,
            "_view_module": "@jupyter-widgets/base",
            "_view_module_version": "1.2.0",
            "_view_name": "StyleView",
            "description_width": ""
          }
        },
        "b08dd04259ac4daf9f6c44e49321c716": {
          "model_module": "@jupyter-widgets/controls",
          "model_module_version": "1.5.0",
          "model_name": "DescriptionStyleModel",
          "state": {
            "_model_module": "@jupyter-widgets/controls",
            "_model_module_version": "1.5.0",
            "_model_name": "DescriptionStyleModel",
            "_view_count": null,
            "_view_module": "@jupyter-widgets/base",
            "_view_module_version": "1.2.0",
            "_view_name": "StyleView",
            "description_width": ""
          }
        },
        "b0da76a392b34b39a066e10d21db6692": {
          "model_module": "@jupyter-widgets/base",
          "model_module_version": "1.2.0",
          "model_name": "LayoutModel",
          "state": {
            "_model_module": "@jupyter-widgets/base",
            "_model_module_version": "1.2.0",
            "_model_name": "LayoutModel",
            "_view_count": null,
            "_view_module": "@jupyter-widgets/base",
            "_view_module_version": "1.2.0",
            "_view_name": "LayoutView",
            "align_content": null,
            "align_items": null,
            "align_self": null,
            "border": null,
            "bottom": null,
            "display": null,
            "flex": null,
            "flex_flow": null,
            "grid_area": null,
            "grid_auto_columns": null,
            "grid_auto_flow": null,
            "grid_auto_rows": null,
            "grid_column": null,
            "grid_gap": null,
            "grid_row": null,
            "grid_template_areas": null,
            "grid_template_columns": null,
            "grid_template_rows": null,
            "height": null,
            "justify_content": null,
            "justify_items": null,
            "left": null,
            "margin": null,
            "max_height": null,
            "max_width": null,
            "min_height": null,
            "min_width": null,
            "object_fit": null,
            "object_position": null,
            "order": null,
            "overflow": null,
            "overflow_x": null,
            "overflow_y": null,
            "padding": null,
            "right": null,
            "top": null,
            "visibility": null,
            "width": null
          }
        },
        "b4949caac21541a9a14acdccd811b886": {
          "model_module": "@jupyter-widgets/controls",
          "model_module_version": "1.5.0",
          "model_name": "HTMLModel",
          "state": {
            "_dom_classes": [],
            "_model_module": "@jupyter-widgets/controls",
            "_model_module_version": "1.5.0",
            "_model_name": "HTMLModel",
            "_view_count": null,
            "_view_module": "@jupyter-widgets/controls",
            "_view_module_version": "1.5.0",
            "_view_name": "HTMLView",
            "description": "",
            "description_tooltip": null,
            "layout": "IPY_MODEL_d1089768d4ec419ebe768270c498bfcf",
            "placeholder": "​",
            "style": "IPY_MODEL_15a23b68dea84bc892edac56a9dbd4f3",
            "value": "README.md: "
          }
        },
        "b6425d3b29344257b4490cb85eb4fd94": {
          "model_module": "@jupyter-widgets/base",
          "model_module_version": "1.2.0",
          "model_name": "LayoutModel",
          "state": {
            "_model_module": "@jupyter-widgets/base",
            "_model_module_version": "1.2.0",
            "_model_name": "LayoutModel",
            "_view_count": null,
            "_view_module": "@jupyter-widgets/base",
            "_view_module_version": "1.2.0",
            "_view_name": "LayoutView",
            "align_content": null,
            "align_items": null,
            "align_self": null,
            "border": null,
            "bottom": null,
            "display": null,
            "flex": null,
            "flex_flow": null,
            "grid_area": null,
            "grid_auto_columns": null,
            "grid_auto_flow": null,
            "grid_auto_rows": null,
            "grid_column": null,
            "grid_gap": null,
            "grid_row": null,
            "grid_template_areas": null,
            "grid_template_columns": null,
            "grid_template_rows": null,
            "height": null,
            "justify_content": null,
            "justify_items": null,
            "left": null,
            "margin": null,
            "max_height": null,
            "max_width": null,
            "min_height": null,
            "min_width": null,
            "object_fit": null,
            "object_position": null,
            "order": null,
            "overflow": null,
            "overflow_x": null,
            "overflow_y": null,
            "padding": null,
            "right": null,
            "top": null,
            "visibility": null,
            "width": null
          }
        },
        "b6db4881d8464b129428aa95a5d07add": {
          "model_module": "@jupyter-widgets/controls",
          "model_module_version": "1.5.0",
          "model_name": "DescriptionStyleModel",
          "state": {
            "_model_module": "@jupyter-widgets/controls",
            "_model_module_version": "1.5.0",
            "_model_name": "DescriptionStyleModel",
            "_view_count": null,
            "_view_module": "@jupyter-widgets/base",
            "_view_module_version": "1.2.0",
            "_view_name": "StyleView",
            "description_width": ""
          }
        },
        "b94c0a4c782344d59ece331a94337c20": {
          "model_module": "@jupyter-widgets/controls",
          "model_module_version": "1.5.0",
          "model_name": "HBoxModel",
          "state": {
            "_dom_classes": [],
            "_model_module": "@jupyter-widgets/controls",
            "_model_module_version": "1.5.0",
            "_model_name": "HBoxModel",
            "_view_count": null,
            "_view_module": "@jupyter-widgets/controls",
            "_view_module_version": "1.5.0",
            "_view_name": "HBoxView",
            "box_style": "",
            "children": [
              "IPY_MODEL_4da1b0ff60c6438fa56cb38f3704f741",
              "IPY_MODEL_e773a43f9b3a4b2fa9cca3937fc32b59",
              "IPY_MODEL_0681e68dbad842be9f473ef1564f0228"
            ],
            "layout": "IPY_MODEL_ddd1b31273a54b228ac8d668c9cfd9ef"
          }
        },
        "bfadc89b205d4306a59d7cb21913fd54": {
          "model_module": "@jupyter-widgets/base",
          "model_module_version": "1.2.0",
          "model_name": "LayoutModel",
          "state": {
            "_model_module": "@jupyter-widgets/base",
            "_model_module_version": "1.2.0",
            "_model_name": "LayoutModel",
            "_view_count": null,
            "_view_module": "@jupyter-widgets/base",
            "_view_module_version": "1.2.0",
            "_view_name": "LayoutView",
            "align_content": null,
            "align_items": null,
            "align_self": null,
            "border": null,
            "bottom": null,
            "display": null,
            "flex": null,
            "flex_flow": null,
            "grid_area": null,
            "grid_auto_columns": null,
            "grid_auto_flow": null,
            "grid_auto_rows": null,
            "grid_column": null,
            "grid_gap": null,
            "grid_row": null,
            "grid_template_areas": null,
            "grid_template_columns": null,
            "grid_template_rows": null,
            "height": null,
            "justify_content": null,
            "justify_items": null,
            "left": null,
            "margin": null,
            "max_height": null,
            "max_width": null,
            "min_height": null,
            "min_width": null,
            "object_fit": null,
            "object_position": null,
            "order": null,
            "overflow": null,
            "overflow_x": null,
            "overflow_y": null,
            "padding": null,
            "right": null,
            "top": null,
            "visibility": null,
            "width": null
          }
        },
        "c0837f90a5ae4ba7a318604705c4d9fe": {
          "model_module": "@jupyter-widgets/controls",
          "model_module_version": "1.5.0",
          "model_name": "DescriptionStyleModel",
          "state": {
            "_model_module": "@jupyter-widgets/controls",
            "_model_module_version": "1.5.0",
            "_model_name": "DescriptionStyleModel",
            "_view_count": null,
            "_view_module": "@jupyter-widgets/base",
            "_view_module_version": "1.2.0",
            "_view_name": "StyleView",
            "description_width": ""
          }
        },
        "c109006238424488865711abe50fc5db": {
          "model_module": "@jupyter-widgets/controls",
          "model_module_version": "1.5.0",
          "model_name": "HTMLModel",
          "state": {
            "_dom_classes": [],
            "_model_module": "@jupyter-widgets/controls",
            "_model_module_version": "1.5.0",
            "_model_name": "HTMLModel",
            "_view_count": null,
            "_view_module": "@jupyter-widgets/controls",
            "_view_module_version": "1.5.0",
            "_view_name": "HTMLView",
            "description": "",
            "description_tooltip": null,
            "layout": "IPY_MODEL_b6425d3b29344257b4490cb85eb4fd94",
            "placeholder": "​",
            "style": "IPY_MODEL_b6db4881d8464b129428aa95a5d07add",
            "value": "modules.json: 100%"
          }
        },
        "c13d1941dc2048af97ea5cba9c6e768a": {
          "model_module": "@jupyter-widgets/base",
          "model_module_version": "1.2.0",
          "model_name": "LayoutModel",
          "state": {
            "_model_module": "@jupyter-widgets/base",
            "_model_module_version": "1.2.0",
            "_model_name": "LayoutModel",
            "_view_count": null,
            "_view_module": "@jupyter-widgets/base",
            "_view_module_version": "1.2.0",
            "_view_name": "LayoutView",
            "align_content": null,
            "align_items": null,
            "align_self": null,
            "border": null,
            "bottom": null,
            "display": null,
            "flex": null,
            "flex_flow": null,
            "grid_area": null,
            "grid_auto_columns": null,
            "grid_auto_flow": null,
            "grid_auto_rows": null,
            "grid_column": null,
            "grid_gap": null,
            "grid_row": null,
            "grid_template_areas": null,
            "grid_template_columns": null,
            "grid_template_rows": null,
            "height": null,
            "justify_content": null,
            "justify_items": null,
            "left": null,
            "margin": null,
            "max_height": null,
            "max_width": null,
            "min_height": null,
            "min_width": null,
            "object_fit": null,
            "object_position": null,
            "order": null,
            "overflow": null,
            "overflow_x": null,
            "overflow_y": null,
            "padding": null,
            "right": null,
            "top": null,
            "visibility": null,
            "width": null
          }
        },
        "c59eb75465fd40b4b95204672f497bf3": {
          "model_module": "@jupyter-widgets/controls",
          "model_module_version": "1.5.0",
          "model_name": "DescriptionStyleModel",
          "state": {
            "_model_module": "@jupyter-widgets/controls",
            "_model_module_version": "1.5.0",
            "_model_name": "DescriptionStyleModel",
            "_view_count": null,
            "_view_module": "@jupyter-widgets/base",
            "_view_module_version": "1.2.0",
            "_view_name": "StyleView",
            "description_width": ""
          }
        },
        "c635505f06e344eabfc3c649ca0dd1d4": {
          "model_module": "@jupyter-widgets/controls",
          "model_module_version": "1.5.0",
          "model_name": "HTMLModel",
          "state": {
            "_dom_classes": [],
            "_model_module": "@jupyter-widgets/controls",
            "_model_module_version": "1.5.0",
            "_model_name": "HTMLModel",
            "_view_count": null,
            "_view_module": "@jupyter-widgets/controls",
            "_view_module_version": "1.5.0",
            "_view_name": "HTMLView",
            "description": "",
            "description_tooltip": null,
            "layout": "IPY_MODEL_6900547f804c4e2881f99b90f249fa99",
            "placeholder": "​",
            "style": "IPY_MODEL_ad6ff0421150464bb2a2b21e50a9397f",
            "value": "tokenizer_config.json: 100%"
          }
        },
        "c7781582b7fa4795977ff695bf7997d9": {
          "model_module": "@jupyter-widgets/controls",
          "model_module_version": "1.5.0",
          "model_name": "FloatProgressModel",
          "state": {
            "_dom_classes": [],
            "_model_module": "@jupyter-widgets/controls",
            "_model_module_version": "1.5.0",
            "_model_name": "FloatProgressModel",
            "_view_count": null,
            "_view_module": "@jupyter-widgets/controls",
            "_view_module_version": "1.5.0",
            "_view_name": "ProgressView",
            "bar_style": "success",
            "description": "",
            "description_tooltip": null,
            "layout": "IPY_MODEL_d4726ffa58434f1ab92f3e4af9c73ede",
            "max": 200,
            "min": 0,
            "orientation": "horizontal",
            "style": "IPY_MODEL_d1eaa2d1d59c460b9cbcefdd1b1f9076",
            "value": 200
          }
        },
        "cc091577b10a40fa9d97766bd57b4933": {
          "model_module": "@jupyter-widgets/controls",
          "model_module_version": "1.5.0",
          "model_name": "ProgressStyleModel",
          "state": {
            "_model_module": "@jupyter-widgets/controls",
            "_model_module_version": "1.5.0",
            "_model_name": "ProgressStyleModel",
            "_view_count": null,
            "_view_module": "@jupyter-widgets/base",
            "_view_module_version": "1.2.0",
            "_view_name": "StyleView",
            "bar_color": null,
            "description_width": ""
          }
        },
        "cc90dfc2c330458ab28931e395218dcb": {
          "model_module": "@jupyter-widgets/base",
          "model_module_version": "1.2.0",
          "model_name": "LayoutModel",
          "state": {
            "_model_module": "@jupyter-widgets/base",
            "_model_module_version": "1.2.0",
            "_model_name": "LayoutModel",
            "_view_count": null,
            "_view_module": "@jupyter-widgets/base",
            "_view_module_version": "1.2.0",
            "_view_name": "LayoutView",
            "align_content": null,
            "align_items": null,
            "align_self": null,
            "border": null,
            "bottom": null,
            "display": null,
            "flex": null,
            "flex_flow": null,
            "grid_area": null,
            "grid_auto_columns": null,
            "grid_auto_flow": null,
            "grid_auto_rows": null,
            "grid_column": null,
            "grid_gap": null,
            "grid_row": null,
            "grid_template_areas": null,
            "grid_template_columns": null,
            "grid_template_rows": null,
            "height": null,
            "justify_content": null,
            "justify_items": null,
            "left": null,
            "margin": null,
            "max_height": null,
            "max_width": null,
            "min_height": null,
            "min_width": null,
            "object_fit": null,
            "object_position": null,
            "order": null,
            "overflow": null,
            "overflow_x": null,
            "overflow_y": null,
            "padding": null,
            "right": null,
            "top": null,
            "visibility": null,
            "width": null
          }
        },
        "cc919e42913f4b7e99d69436526f55be": {
          "model_module": "@jupyter-widgets/controls",
          "model_module_version": "1.5.0",
          "model_name": "HTMLModel",
          "state": {
            "_dom_classes": [],
            "_model_module": "@jupyter-widgets/controls",
            "_model_module_version": "1.5.0",
            "_model_name": "HTMLModel",
            "_view_count": null,
            "_view_module": "@jupyter-widgets/controls",
            "_view_module_version": "1.5.0",
            "_view_name": "HTMLView",
            "description": "",
            "description_tooltip": null,
            "layout": "IPY_MODEL_19c597c9ac7f425f9f9d31bfb554f6eb",
            "placeholder": "​",
            "style": "IPY_MODEL_6dc2391ab9f6476e8ee87a33326bda6a",
            "value": "sentence_bert_config.json: 100%"
          }
        },
        "d1089768d4ec419ebe768270c498bfcf": {
          "model_module": "@jupyter-widgets/base",
          "model_module_version": "1.2.0",
          "model_name": "LayoutModel",
          "state": {
            "_model_module": "@jupyter-widgets/base",
            "_model_module_version": "1.2.0",
            "_model_name": "LayoutModel",
            "_view_count": null,
            "_view_module": "@jupyter-widgets/base",
            "_view_module_version": "1.2.0",
            "_view_name": "LayoutView",
            "align_content": null,
            "align_items": null,
            "align_self": null,
            "border": null,
            "bottom": null,
            "display": null,
            "flex": null,
            "flex_flow": null,
            "grid_area": null,
            "grid_auto_columns": null,
            "grid_auto_flow": null,
            "grid_auto_rows": null,
            "grid_column": null,
            "grid_gap": null,
            "grid_row": null,
            "grid_template_areas": null,
            "grid_template_columns": null,
            "grid_template_rows": null,
            "height": null,
            "justify_content": null,
            "justify_items": null,
            "left": null,
            "margin": null,
            "max_height": null,
            "max_width": null,
            "min_height": null,
            "min_width": null,
            "object_fit": null,
            "object_position": null,
            "order": null,
            "overflow": null,
            "overflow_x": null,
            "overflow_y": null,
            "padding": null,
            "right": null,
            "top": null,
            "visibility": null,
            "width": null
          }
        },
        "d1eaa2d1d59c460b9cbcefdd1b1f9076": {
          "model_module": "@jupyter-widgets/controls",
          "model_module_version": "1.5.0",
          "model_name": "ProgressStyleModel",
          "state": {
            "_model_module": "@jupyter-widgets/controls",
            "_model_module_version": "1.5.0",
            "_model_name": "ProgressStyleModel",
            "_view_count": null,
            "_view_module": "@jupyter-widgets/base",
            "_view_module_version": "1.2.0",
            "_view_name": "StyleView",
            "bar_color": null,
            "description_width": ""
          }
        },
        "d4726ffa58434f1ab92f3e4af9c73ede": {
          "model_module": "@jupyter-widgets/base",
          "model_module_version": "1.2.0",
          "model_name": "LayoutModel",
          "state": {
            "_model_module": "@jupyter-widgets/base",
            "_model_module_version": "1.2.0",
            "_model_name": "LayoutModel",
            "_view_count": null,
            "_view_module": "@jupyter-widgets/base",
            "_view_module_version": "1.2.0",
            "_view_name": "LayoutView",
            "align_content": null,
            "align_items": null,
            "align_self": null,
            "border": null,
            "bottom": null,
            "display": null,
            "flex": null,
            "flex_flow": null,
            "grid_area": null,
            "grid_auto_columns": null,
            "grid_auto_flow": null,
            "grid_auto_rows": null,
            "grid_column": null,
            "grid_gap": null,
            "grid_row": null,
            "grid_template_areas": null,
            "grid_template_columns": null,
            "grid_template_rows": null,
            "height": null,
            "justify_content": null,
            "justify_items": null,
            "left": null,
            "margin": null,
            "max_height": null,
            "max_width": null,
            "min_height": null,
            "min_width": null,
            "object_fit": null,
            "object_position": null,
            "order": null,
            "overflow": null,
            "overflow_x": null,
            "overflow_y": null,
            "padding": null,
            "right": null,
            "top": null,
            "visibility": null,
            "width": null
          }
        },
        "d934bab438a140bea8fd1d5d902def02": {
          "model_module": "@jupyter-widgets/controls",
          "model_module_version": "1.5.0",
          "model_name": "HTMLModel",
          "state": {
            "_dom_classes": [],
            "_model_module": "@jupyter-widgets/controls",
            "_model_module_version": "1.5.0",
            "_model_name": "HTMLModel",
            "_view_count": null,
            "_view_module": "@jupyter-widgets/controls",
            "_view_module_version": "1.5.0",
            "_view_name": "HTMLView",
            "description": "",
            "description_tooltip": null,
            "layout": "IPY_MODEL_24a68273ff57482795eb56095762e139",
            "placeholder": "​",
            "style": "IPY_MODEL_7e2ba30d2d1f46b3b27f993c89d884d4",
            "value": " 387/387 [00:00&lt;00:00, 36.7kB/s]"
          }
        },
        "dac58868ad9144468c692cf6a3064ed2": {
          "model_module": "@jupyter-widgets/base",
          "model_module_version": "1.2.0",
          "model_name": "LayoutModel",
          "state": {
            "_model_module": "@jupyter-widgets/base",
            "_model_module_version": "1.2.0",
            "_model_name": "LayoutModel",
            "_view_count": null,
            "_view_module": "@jupyter-widgets/base",
            "_view_module_version": "1.2.0",
            "_view_name": "LayoutView",
            "align_content": null,
            "align_items": null,
            "align_self": null,
            "border": null,
            "bottom": null,
            "display": null,
            "flex": null,
            "flex_flow": null,
            "grid_area": null,
            "grid_auto_columns": null,
            "grid_auto_flow": null,
            "grid_auto_rows": null,
            "grid_column": null,
            "grid_gap": null,
            "grid_row": null,
            "grid_template_areas": null,
            "grid_template_columns": null,
            "grid_template_rows": null,
            "height": null,
            "justify_content": null,
            "justify_items": null,
            "left": null,
            "margin": null,
            "max_height": null,
            "max_width": null,
            "min_height": null,
            "min_width": null,
            "object_fit": null,
            "object_position": null,
            "order": null,
            "overflow": null,
            "overflow_x": null,
            "overflow_y": null,
            "padding": null,
            "right": null,
            "top": null,
            "visibility": null,
            "width": null
          }
        },
        "ddd1b31273a54b228ac8d668c9cfd9ef": {
          "model_module": "@jupyter-widgets/base",
          "model_module_version": "1.2.0",
          "model_name": "LayoutModel",
          "state": {
            "_model_module": "@jupyter-widgets/base",
            "_model_module_version": "1.2.0",
            "_model_name": "LayoutModel",
            "_view_count": null,
            "_view_module": "@jupyter-widgets/base",
            "_view_module_version": "1.2.0",
            "_view_name": "LayoutView",
            "align_content": null,
            "align_items": null,
            "align_self": null,
            "border": null,
            "bottom": null,
            "display": null,
            "flex": null,
            "flex_flow": null,
            "grid_area": null,
            "grid_auto_columns": null,
            "grid_auto_flow": null,
            "grid_auto_rows": null,
            "grid_column": null,
            "grid_gap": null,
            "grid_row": null,
            "grid_template_areas": null,
            "grid_template_columns": null,
            "grid_template_rows": null,
            "height": null,
            "justify_content": null,
            "justify_items": null,
            "left": null,
            "margin": null,
            "max_height": null,
            "max_width": null,
            "min_height": null,
            "min_width": null,
            "object_fit": null,
            "object_position": null,
            "order": null,
            "overflow": null,
            "overflow_x": null,
            "overflow_y": null,
            "padding": null,
            "right": null,
            "top": null,
            "visibility": null,
            "width": null
          }
        },
        "de413f547b114bda9c66ccb1884926f0": {
          "model_module": "@jupyter-widgets/controls",
          "model_module_version": "1.5.0",
          "model_name": "HTMLModel",
          "state": {
            "_dom_classes": [],
            "_model_module": "@jupyter-widgets/controls",
            "_model_module_version": "1.5.0",
            "_model_name": "HTMLModel",
            "_view_count": null,
            "_view_module": "@jupyter-widgets/controls",
            "_view_module_version": "1.5.0",
            "_view_name": "HTMLView",
            "description": "",
            "description_tooltip": null,
            "layout": "IPY_MODEL_9c58a0ab90334d6dab26c01d2cf73eee",
            "placeholder": "​",
            "style": "IPY_MODEL_947549a0d52f48039acdac252057d522",
            "value": "config.json: 100%"
          }
        },
        "df27dba2bc5045738450b159428278b5": {
          "model_module": "@jupyter-widgets/controls",
          "model_module_version": "1.5.0",
          "model_name": "FloatProgressModel",
          "state": {
            "_dom_classes": [],
            "_model_module": "@jupyter-widgets/controls",
            "_model_module_version": "1.5.0",
            "_model_name": "FloatProgressModel",
            "_view_count": null,
            "_view_module": "@jupyter-widgets/controls",
            "_view_module_version": "1.5.0",
            "_view_name": "ProgressView",
            "bar_style": "success",
            "description": "",
            "description_tooltip": null,
            "layout": "IPY_MODEL_e5254b5831c34be3858009097391a14a",
            "max": 17082730,
            "min": 0,
            "orientation": "horizontal",
            "style": "IPY_MODEL_7934f8a048b84800919e310f2d518f33",
            "value": 17082730
          }
        },
        "e1f9a0dc09f34a8791fac195ecaf2ff1": {
          "model_module": "@jupyter-widgets/controls",
          "model_module_version": "1.5.0",
          "model_name": "HBoxModel",
          "state": {
            "_dom_classes": [],
            "_model_module": "@jupyter-widgets/controls",
            "_model_module_version": "1.5.0",
            "_model_name": "HBoxModel",
            "_view_count": null,
            "_view_module": "@jupyter-widgets/controls",
            "_view_module_version": "1.5.0",
            "_view_name": "HBoxView",
            "box_style": "",
            "children": [
              "IPY_MODEL_b4949caac21541a9a14acdccd811b886",
              "IPY_MODEL_628a94cceba949b78159a175bbade706",
              "IPY_MODEL_5f795b5767a045599b8735a7f9ae196a"
            ],
            "layout": "IPY_MODEL_0b1260266a654691a988deae63a85331"
          }
        },
        "e40f845709294cb0b60893330364f6f4": {
          "model_module": "@jupyter-widgets/base",
          "model_module_version": "1.2.0",
          "model_name": "LayoutModel",
          "state": {
            "_model_module": "@jupyter-widgets/base",
            "_model_module_version": "1.2.0",
            "_model_name": "LayoutModel",
            "_view_count": null,
            "_view_module": "@jupyter-widgets/base",
            "_view_module_version": "1.2.0",
            "_view_name": "LayoutView",
            "align_content": null,
            "align_items": null,
            "align_self": null,
            "border": null,
            "bottom": null,
            "display": null,
            "flex": null,
            "flex_flow": null,
            "grid_area": null,
            "grid_auto_columns": null,
            "grid_auto_flow": null,
            "grid_auto_rows": null,
            "grid_column": null,
            "grid_gap": null,
            "grid_row": null,
            "grid_template_areas": null,
            "grid_template_columns": null,
            "grid_template_rows": null,
            "height": null,
            "justify_content": null,
            "justify_items": null,
            "left": null,
            "margin": null,
            "max_height": null,
            "max_width": null,
            "min_height": null,
            "min_width": null,
            "object_fit": null,
            "object_position": null,
            "order": null,
            "overflow": null,
            "overflow_x": null,
            "overflow_y": null,
            "padding": null,
            "right": null,
            "top": null,
            "visibility": null,
            "width": null
          }
        },
        "e5254b5831c34be3858009097391a14a": {
          "model_module": "@jupyter-widgets/base",
          "model_module_version": "1.2.0",
          "model_name": "LayoutModel",
          "state": {
            "_model_module": "@jupyter-widgets/base",
            "_model_module_version": "1.2.0",
            "_model_name": "LayoutModel",
            "_view_count": null,
            "_view_module": "@jupyter-widgets/base",
            "_view_module_version": "1.2.0",
            "_view_name": "LayoutView",
            "align_content": null,
            "align_items": null,
            "align_self": null,
            "border": null,
            "bottom": null,
            "display": null,
            "flex": null,
            "flex_flow": null,
            "grid_area": null,
            "grid_auto_columns": null,
            "grid_auto_flow": null,
            "grid_auto_rows": null,
            "grid_column": null,
            "grid_gap": null,
            "grid_row": null,
            "grid_template_areas": null,
            "grid_template_columns": null,
            "grid_template_rows": null,
            "height": null,
            "justify_content": null,
            "justify_items": null,
            "left": null,
            "margin": null,
            "max_height": null,
            "max_width": null,
            "min_height": null,
            "min_width": null,
            "object_fit": null,
            "object_position": null,
            "order": null,
            "overflow": null,
            "overflow_x": null,
            "overflow_y": null,
            "padding": null,
            "right": null,
            "top": null,
            "visibility": null,
            "width": null
          }
        },
        "e73c281d58114b87a01b17dd63cac83a": {
          "model_module": "@jupyter-widgets/controls",
          "model_module_version": "1.5.0",
          "model_name": "HBoxModel",
          "state": {
            "_dom_classes": [],
            "_model_module": "@jupyter-widgets/controls",
            "_model_module_version": "1.5.0",
            "_model_name": "HBoxModel",
            "_view_count": null,
            "_view_module": "@jupyter-widgets/controls",
            "_view_module_version": "1.5.0",
            "_view_name": "HBoxView",
            "box_style": "",
            "children": [
              "IPY_MODEL_de413f547b114bda9c66ccb1884926f0",
              "IPY_MODEL_c7781582b7fa4795977ff695bf7997d9",
              "IPY_MODEL_9b3406017f47418797b894ae292271b9"
            ],
            "layout": "IPY_MODEL_1e283b804d154e05a1d615a6ae101a55"
          }
        },
        "e7648751a37f48c696c910dd003b2dd9": {
          "model_module": "@jupyter-widgets/controls",
          "model_module_version": "1.5.0",
          "model_name": "HBoxModel",
          "state": {
            "_dom_classes": [],
            "_model_module": "@jupyter-widgets/controls",
            "_model_module_version": "1.5.0",
            "_model_name": "HBoxModel",
            "_view_count": null,
            "_view_module": "@jupyter-widgets/controls",
            "_view_module_version": "1.5.0",
            "_view_name": "HBoxView",
            "box_style": "",
            "children": [
              "IPY_MODEL_0b1f26d493a24fe28ebe3ad36123c25d",
              "IPY_MODEL_2ea425bad36943598e568ae1e624c3e5",
              "IPY_MODEL_7e61ef607c5548a888298e841b94491b"
            ],
            "layout": "IPY_MODEL_7b9f7875178940dbac323141ace84356"
          }
        },
        "e773a43f9b3a4b2fa9cca3937fc32b59": {
          "model_module": "@jupyter-widgets/controls",
          "model_module_version": "1.5.0",
          "model_name": "FloatProgressModel",
          "state": {
            "_dom_classes": [],
            "_model_module": "@jupyter-widgets/controls",
            "_model_module_version": "1.5.0",
            "_model_name": "FloatProgressModel",
            "_view_count": null,
            "_view_module": "@jupyter-widgets/controls",
            "_view_module_version": "1.5.0",
            "_view_name": "ProgressView",
            "bar_style": "success",
            "description": "",
            "description_tooltip": null,
            "layout": "IPY_MODEL_5401a083fa454759abbdf3f3759bdf22",
            "max": 655,
            "min": 0,
            "orientation": "horizontal",
            "style": "IPY_MODEL_a9bd6807216f45b6b67b36b97a66d733",
            "value": 655
          }
        },
        "e7c913b7775e4de7a1174a821ecf107a": {
          "model_module": "@jupyter-widgets/controls",
          "model_module_version": "1.5.0",
          "model_name": "HBoxModel",
          "state": {
            "_dom_classes": [],
            "_model_module": "@jupyter-widgets/controls",
            "_model_module_version": "1.5.0",
            "_model_name": "HBoxModel",
            "_view_count": null,
            "_view_module": "@jupyter-widgets/controls",
            "_view_module_version": "1.5.0",
            "_view_name": "HBoxView",
            "box_style": "",
            "children": [
              "IPY_MODEL_c109006238424488865711abe50fc5db",
              "IPY_MODEL_7df6845f3b404767ad3fa577838fa874",
              "IPY_MODEL_d934bab438a140bea8fd1d5d902def02"
            ],
            "layout": "IPY_MODEL_9f1f2d911da94e179eab8e7bffade83e"
          }
        },
        "f101b553cc5f4085ac5e82fab4e8087e": {
          "model_module": "@jupyter-widgets/base",
          "model_module_version": "1.2.0",
          "model_name": "LayoutModel",
          "state": {
            "_model_module": "@jupyter-widgets/base",
            "_model_module_version": "1.2.0",
            "_model_name": "LayoutModel",
            "_view_count": null,
            "_view_module": "@jupyter-widgets/base",
            "_view_module_version": "1.2.0",
            "_view_name": "LayoutView",
            "align_content": null,
            "align_items": null,
            "align_self": null,
            "border": null,
            "bottom": null,
            "display": null,
            "flex": null,
            "flex_flow": null,
            "grid_area": null,
            "grid_auto_columns": null,
            "grid_auto_flow": null,
            "grid_auto_rows": null,
            "grid_column": null,
            "grid_gap": null,
            "grid_row": null,
            "grid_template_areas": null,
            "grid_template_columns": null,
            "grid_template_rows": null,
            "height": null,
            "justify_content": null,
            "justify_items": null,
            "left": null,
            "margin": null,
            "max_height": null,
            "max_width": null,
            "min_height": null,
            "min_width": null,
            "object_fit": null,
            "object_position": null,
            "order": null,
            "overflow": null,
            "overflow_x": null,
            "overflow_y": null,
            "padding": null,
            "right": null,
            "top": null,
            "visibility": null,
            "width": null
          }
        },
        "f12866ae3c7b488a9cd59a1f8320b53f": {
          "model_module": "@jupyter-widgets/base",
          "model_module_version": "1.2.0",
          "model_name": "LayoutModel",
          "state": {
            "_model_module": "@jupyter-widgets/base",
            "_model_module_version": "1.2.0",
            "_model_name": "LayoutModel",
            "_view_count": null,
            "_view_module": "@jupyter-widgets/base",
            "_view_module_version": "1.2.0",
            "_view_name": "LayoutView",
            "align_content": null,
            "align_items": null,
            "align_self": null,
            "border": null,
            "bottom": null,
            "display": null,
            "flex": null,
            "flex_flow": null,
            "grid_area": null,
            "grid_auto_columns": null,
            "grid_auto_flow": null,
            "grid_auto_rows": null,
            "grid_column": null,
            "grid_gap": null,
            "grid_row": null,
            "grid_template_areas": null,
            "grid_template_columns": null,
            "grid_template_rows": null,
            "height": null,
            "justify_content": null,
            "justify_items": null,
            "left": null,
            "margin": null,
            "max_height": null,
            "max_width": null,
            "min_height": null,
            "min_width": null,
            "object_fit": null,
            "object_position": null,
            "order": null,
            "overflow": null,
            "overflow_x": null,
            "overflow_y": null,
            "padding": null,
            "right": null,
            "top": null,
            "visibility": null,
            "width": null
          }
        },
        "fd5348c6288d4908b69ef234185e8a6b": {
          "model_module": "@jupyter-widgets/base",
          "model_module_version": "1.2.0",
          "model_name": "LayoutModel",
          "state": {
            "_model_module": "@jupyter-widgets/base",
            "_model_module_version": "1.2.0",
            "_model_name": "LayoutModel",
            "_view_count": null,
            "_view_module": "@jupyter-widgets/base",
            "_view_module_version": "1.2.0",
            "_view_name": "LayoutView",
            "align_content": null,
            "align_items": null,
            "align_self": null,
            "border": null,
            "bottom": null,
            "display": null,
            "flex": null,
            "flex_flow": null,
            "grid_area": null,
            "grid_auto_columns": null,
            "grid_auto_flow": null,
            "grid_auto_rows": null,
            "grid_column": null,
            "grid_gap": null,
            "grid_row": null,
            "grid_template_areas": null,
            "grid_template_columns": null,
            "grid_template_rows": null,
            "height": null,
            "justify_content": null,
            "justify_items": null,
            "left": null,
            "margin": null,
            "max_height": null,
            "max_width": null,
            "min_height": null,
            "min_width": null,
            "object_fit": null,
            "object_position": null,
            "order": null,
            "overflow": null,
            "overflow_x": null,
            "overflow_y": null,
            "padding": null,
            "right": null,
            "top": null,
            "visibility": null,
            "width": null
          }
        }
      }
    }
  },
  "nbformat": 4,
  "nbformat_minor": 0
}
