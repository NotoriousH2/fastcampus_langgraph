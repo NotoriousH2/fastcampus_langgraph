{
  "cells": [
    {
      "cell_type": "markdown",
      "metadata": {
        "id": "vzedOJ6Xc_YN"
      },
      "source": [
        "# [실습] 그래프에 메모리 추가하기   \n",
        "\n",
        "랭그래프의 메모리 기능을 통해, 이전의 실행 내용을 기억하도록 설정할 수 있습니다.   \n",
        "\n",
        "세션 내부의 단기 기억에 해당하는 Checkpoint와, 장기 기억에 해당하는 Storage를 사용합니다.\n",
        "<br><br>\n",
        "\n",
        "**이번 실습은 GPU가 필요합니다. 오른쪽 탭의 \"런타임 유형 변경\"을 통해 T4 GPU로 체크하고 진행해 주세요!**\n",
        "\n",
        "\n",
        "\n",
        "\n"
      ]
    },
    {
      "cell_type": "markdown",
      "metadata": {
        "id": "rRTPqNYOc_YO"
      },
      "source": [
        "기본 라이브러리를 설치합니다."
      ]
    },
    {
      "cell_type": "code",
      "execution_count": null,
      "metadata": {
        "id": "F6ZLhY9hc_YO",
        "colab": {
          "base_uri": "https://localhost:8080/"
        },
        "outputId": "bf195969-9097-4a1f-b715-ef1eb4c52d80"
      },
      "outputs": [
        {
          "output_type": "stream",
          "name": "stdout",
          "text": [
            "\u001b[?25l   \u001b[90m━━━━━━━━━━━━━━━━━━━━━━━━━━━━━━━━━━━━━━━━\u001b[0m \u001b[32m0.0/136.5 kB\u001b[0m \u001b[31m?\u001b[0m eta \u001b[36m-:--:--\u001b[0m\r\u001b[2K   \u001b[90m━━━━━━━━━━━━━━━━━━━━━━━━━━━━━━━━━━━━━━━━\u001b[0m \u001b[32m136.5/136.5 kB\u001b[0m \u001b[31m5.2 MB/s\u001b[0m eta \u001b[36m0:00:00\u001b[0m\n",
            "\u001b[?25h\u001b[?25l   \u001b[90m━━━━━━━━━━━━━━━━━━━━━━━━━━━━━━━━━━━━━━━━\u001b[0m \u001b[32m0.0/1.0 MB\u001b[0m \u001b[31m?\u001b[0m eta \u001b[36m-:--:--\u001b[0m\r\u001b[2K   \u001b[91m━━━━━━━━━━━━━━━━━━━━━━━━━━━━━━━━━━━━━━━\u001b[0m\u001b[91m╸\u001b[0m \u001b[32m1.0/1.0 MB\u001b[0m \u001b[31m29.8 MB/s\u001b[0m eta \u001b[36m0:00:01\u001b[0m\r\u001b[2K   \u001b[90m━━━━━━━━━━━━━━━━━━━━━━━━━━━━━━━━━━━━━━━━\u001b[0m \u001b[32m1.0/1.0 MB\u001b[0m \u001b[31m15.3 MB/s\u001b[0m eta \u001b[36m0:00:00\u001b[0m\n",
            "\u001b[2K   \u001b[90m━━━━━━━━━━━━━━━━━━━━━━━━━━━━━━━━━━━━━━━━\u001b[0m \u001b[32m42.0/42.0 kB\u001b[0m \u001b[31m1.8 MB/s\u001b[0m eta \u001b[36m0:00:00\u001b[0m\n",
            "\u001b[2K   \u001b[90m━━━━━━━━━━━━━━━━━━━━━━━━━━━━━━━━━━━━━━━━\u001b[0m \u001b[32m2.5/2.5 MB\u001b[0m \u001b[31m24.9 MB/s\u001b[0m eta \u001b[36m0:00:00\u001b[0m\n",
            "\u001b[2K   \u001b[90m━━━━━━━━━━━━━━━━━━━━━━━━━━━━━━━━━━━━━━━━\u001b[0m \u001b[32m41.2/41.2 kB\u001b[0m \u001b[31m2.2 MB/s\u001b[0m eta \u001b[36m0:00:00\u001b[0m\n",
            "\u001b[2K   \u001b[90m━━━━━━━━━━━━━━━━━━━━━━━━━━━━━━━━━━━━━━━━\u001b[0m \u001b[32m46.5/46.5 kB\u001b[0m \u001b[31m2.9 MB/s\u001b[0m eta \u001b[36m0:00:00\u001b[0m\n",
            "\u001b[2K   \u001b[90m━━━━━━━━━━━━━━━━━━━━━━━━━━━━━━━━━━━━━━━━\u001b[0m \u001b[32m50.9/50.9 kB\u001b[0m \u001b[31m2.8 MB/s\u001b[0m eta \u001b[36m0:00:00\u001b[0m\n",
            "\u001b[?25h"
          ]
        }
      ],
      "source": [
        "!pip install --upgrade langgraph langchain langchain_google_genai langchain_community google_generativeai langgraph-checkpoint-sqlite -q"
      ]
    },
    {
      "cell_type": "markdown",
      "metadata": {
        "id": "0uivwnmsc_YO"
      },
      "source": [
        "API 키와 LLM을 구성합니다."
      ]
    },
    {
      "cell_type": "code",
      "execution_count": null,
      "metadata": {
        "id": "Vped4RdNc_YO"
      },
      "outputs": [],
      "source": [
        "import os\n",
        "os.environ['GOOGLE_API_KEY'] = ''\n",
        "\n",
        "from langchain_core.rate_limiters import InMemoryRateLimiter\n",
        "from langchain_google_genai import ChatGoogleGenerativeAI\n",
        "\n",
        "# Gemini API는 분당 10개 요청으로 제한\n",
        "# 즉, 초당 약 0.167개 요청 (10/60)\n",
        "rate_limiter = InMemoryRateLimiter(\n",
        "    requests_per_second=0.167,  # 분당 10개 요청\n",
        "    check_every_n_seconds=0.1,  # 100ms마다 체크\n",
        "    max_bucket_size=10,  # 최대 버스트 크기\n",
        ")\n",
        "\n",
        "# rate limiter를 LLM에 적용\n",
        "llm = ChatGoogleGenerativeAI(\n",
        "    model=\"gemini-2.0-flash\",\n",
        "    rate_limiter=rate_limiter\n",
        ")"
      ]
    },
    {
      "cell_type": "markdown",
      "metadata": {
        "id": "GwsmW0edc_YO"
      },
      "source": [
        "중간 과정 확인을 위해, LangSmith를 연동합니다.\n",
        "https://smith.langchain.com 에서 등록 후 작성합니다."
      ]
    },
    {
      "cell_type": "code",
      "execution_count": null,
      "metadata": {
        "id": "cz82pgiMc_YP"
      },
      "outputs": [],
      "source": [
        "os.environ['LANGCHAIN_API_KEY'] = ''\n",
        "os.environ['LANGCHAIN_PROJECT'] = 'LangGraph_FastCampus'\n",
        "os.environ['LANGCHAIN_ENDPOINT'] = 'https://api.smith.langchain.com'\n",
        "os.environ['LANGCHAIN_TRACING_V2']='true'"
      ]
    },
    {
      "cell_type": "markdown",
      "metadata": {
        "id": "H4MRLJRdc_YP"
      },
      "source": [
        "## Checkpoint(체크포인트)\n",
        "\n",
        "체크포인트는 그래프 실행의 상태와 중간 단계를 저장하고 관리합니다.    "
      ]
    },
    {
      "cell_type": "markdown",
      "metadata": {
        "id": "xgo7P78xc_YP"
      },
      "source": [
        "<br><br>체크포인트를 저장하기 위해 MemorySaver를 구성합니다."
      ]
    },
    {
      "cell_type": "code",
      "execution_count": null,
      "metadata": {
        "id": "FrH0xkgrc_YP"
      },
      "outputs": [],
      "source": [
        "# 메모리 세팅\n",
        "from langgraph.checkpoint.memory import MemorySaver\n",
        "\n",
        "memory = MemorySaver()"
      ]
    },
    {
      "cell_type": "markdown",
      "metadata": {
        "id": "R3EqwnDXc_YP"
      },
      "source": [
        "구성된 체크포인터는 `compile`에 포함하여 실행하면 됩니다."
      ]
    },
    {
      "cell_type": "code",
      "execution_count": null,
      "metadata": {
        "id": "KquynAnmc_YP",
        "colab": {
          "base_uri": "https://localhost:8080/",
          "height": 151
        },
        "outputId": "baad3576-6e2b-41c6-a0fa-97c91527f969"
      },
      "outputs": [
        {
          "output_type": "execute_result",
          "data": {
            "text/plain": [
              "<langgraph.graph.state.CompiledStateGraph object at 0x7adbc97bafd0>"
            ],
            "image/png": "[encoded data removed]"
          },
          "metadata": {},
          "execution_count": 5
        }
      ],
      "source": [
        "from typing import Annotated\n",
        "from typing_extensions import TypedDict, List\n",
        "from langgraph.graph.message import add_messages\n",
        "from langgraph.graph import StateGraph, state, START\n",
        "\n",
        "class State(TypedDict):\n",
        "    messages: Annotated[list, add_messages]\n",
        "    foo: str\n",
        "\n",
        "\n",
        "def call_model(state: State):\n",
        "    response = llm.invoke(state[\"messages\"])\n",
        "    return {\"messages\": response}\n",
        "\n",
        "\n",
        "builder = StateGraph(State)\n",
        "\n",
        "builder.add_node(\"call_model\", call_model)\n",
        "builder.add_edge(START, \"call_model\")\n",
        "graph = builder.compile(checkpointer=memory)\n",
        "\n",
        "graph\n",
        "# memory에 기록 저장"
      ]
    },
    {
      "cell_type": "markdown",
      "metadata": {
        "id": "Q8cvyRXAc_YP"
      },
      "source": [
        "체크포인터에서, 각각의 실행은 `thread`라는 이름으로 구분됩니다.   \n",
        "thread_id를 활용해, 이전 출력의 정보를 저장할 수 있습니다."
      ]
    },
    {
      "cell_type": "code",
      "execution_count": null,
      "metadata": {
        "id": "1tbf3IFgc_YP",
        "colab": {
          "base_uri": "https://localhost:8080/"
        },
        "outputId": "f3fde70f-89a8-4669-f0a5-cac5e34cae01"
      },
      "outputs": [
        {
          "output_type": "stream",
          "name": "stdout",
          "text": [
            "나는 오늘 점심에 우삼겹 포케를 먹었는데, 맛있었어.\n",
            "================================\u001b[1m Human Message \u001b[0m=================================\n",
            "\n",
            "나는 오늘 점심에 우삼겹 포케를 먹었는데, 맛있었어.\n",
            "==================================\u001b[1m Ai Message \u001b[0m==================================\n",
            "\n",
            "우삼겹 포케! 정말 맛있겠네요! 어떤 토핑이 들어갔어요? 맛있었다니 저도 한번 먹어보고 싶어지네요! 😊\n"
          ]
        }
      ],
      "source": [
        "from langchain_core.messages import HumanMessage, AIMessage, SystemMessage\n",
        "\n",
        "# thread_id를 통해 매 실행의 체크포인트 저장\n",
        "config = {\"configurable\": {\"thread_id\": \"1\"}}\n",
        "\n",
        "\n",
        "input_message = HumanMessage(input())\n",
        "\n",
        "for chunk in graph.stream({\"messages\": [input_message]},\n",
        "                          config, stream_mode=\"values\"):\n",
        "    chunk[\"messages\"][-1].pretty_print()"
      ]
    },
    {
      "cell_type": "code",
      "execution_count": null,
      "metadata": {
        "id": "osjraGxRc_YP",
        "colab": {
          "base_uri": "https://localhost:8080/"
        },
        "outputId": "e4fed804-8a11-4fed-a18a-44e13a31d275"
      },
      "outputs": [
        {
          "output_type": "stream",
          "name": "stdout",
          "text": [
            "================================\u001b[1m Human Message \u001b[0m=================================\n",
            "\n",
            "어떤 소스가 가장 어울렸을까?\n",
            "==================================\u001b[1m Ai Message \u001b[0m==================================\n",
            "\n",
            "우삼겹 포케에 어떤 소스가 가장 어울릴지는 정말 다양한 요소에 따라 달라질 수 있어요! 예를 들어, 어떤 종류의 야채와 곡물이 들어갔는지, 그리고 개인적인 취향에 따라서도 많이 달라지죠.\n",
            "\n",
            "하지만 일반적으로 우삼겹의 느끼함을 잡아주면서 풍미를 더해줄 수 있는 소스들을 몇 가지 추천해 드릴게요.\n",
            "\n",
            "*   **간장 베이스 소스:**\n",
            "    *   **간장 + 참기름 + 다진 마늘 + 깨소금:** 기본적인 조합이지만 실패하기 어려운 맛이죠.\n",
            "    *   **폰즈 소스:** 상큼한 맛이 우삼겹의 느끼함을 잡아줘서 깔끔하게 즐길 수 있어요.\n",
            "    *   **데리야끼 소스:** 달콤 짭짤한 맛이 우삼겹과 잘 어울리고, 아이들도 좋아할 만한 맛이에요.\n",
            "*   **고추장 베이스 소스:**\n",
            "    *   **고추장 + 식초 + 설탕 + 다진 마늘:** 매콤하면서도 새콤달콤한 맛이 입맛을 돋우고, 우삼겹의 느끼함을 잡아줘요.\n",
            "    *   **쌈장:** 한국인이라면 누구나 좋아하는 쌈장! 우삼겹과 쌈장의 조합은 말할 필요도 없죠.\n",
            "*   **마요네즈 베이스 소스:**\n",
            "    *   **스리라차 마요:** 매콤하면서도 부드러운 맛이 우삼겹과 잘 어울려요.\n",
            "    *   **와사비 마요:** 톡 쏘는 와사비 향이 우삼겹의 느끼함을 잡아주고, 독특한 풍미를 더해줘요.\n",
            "\n",
            "이 외에도 땅콩 소스, 참깨 소스, 유자 소스 등 다양한 소스들이 우삼겹 포케와 잘 어울릴 수 있어요.\n",
            "\n",
            "혹시 어떤 종류의 야채나 곡물이 들어갔는지 알려주시면 좀 더 구체적인 소스를 추천해 드릴 수 있을 것 같아요! 😊\n"
          ]
        }
      ],
      "source": [
        "input_message = {\"role\": \"user\", \"content\": \"어떤 소스가 가장 어울렸을까?\"}\n",
        "for chunk in graph.stream({\"messages\": [input_message]}, config, stream_mode=\"values\"):\n",
        "    chunk[\"messages\"][-1].pretty_print()"
      ]
    },
    {
      "cell_type": "markdown",
      "metadata": {
        "id": "2sM1YKIgc_YP"
      },
      "source": [
        "해당 체크포인트의 내용은 `thread_id`에 귀속됩니다."
      ]
    },
    {
      "cell_type": "code",
      "execution_count": null,
      "metadata": {
        "id": "e-xROVaRc_YP",
        "colab": {
          "base_uri": "https://localhost:8080/"
        },
        "outputId": "7b2ca6e3-7df4-4cb4-99cd-4297b7552936"
      },
      "outputs": [
        {
          "output_type": "stream",
          "name": "stdout",
          "text": [
            "================================\u001b[1m Human Message \u001b[0m=================================\n",
            "\n",
            "현미밥이었지.\n",
            "==================================\u001b[1m Ai Message \u001b[0m==================================\n",
            "\n",
            "네, 현미밥이었군요. 어떤 맥락에서 말씀하시는 건가요? 현미밥에 대해 궁금하신 점이 있거나, 현미밥과 관련된 이야기를 나누고 싶으신 건가요? 예를 들어:\n",
            "\n",
            "*   **현미밥을 먹은 경험:** \"현미밥이었지. 찰기가 좀 부족했지만, 씹을수록 고소했어.\"\n",
            "*   **현미밥에 대한 생각:** \"현미밥이었지. 건강에는 좋지만, 소화가 잘 안 되는 것 같아.\"\n",
            "*   **현미밥에 대한 질문:** \"현미밥이었지. 백미밥보다 칼로리가 더 높나?\"\n",
            "\n",
            "궁금하신 점이나 나누고 싶은 이야기를 알려주시면 더 자세하게 답변해 드릴 수 있습니다.\n"
          ]
        }
      ],
      "source": [
        "config = {\"configurable\": {\"thread_id\": \"2\"}}\n",
        "\n",
        "input_message = {\"role\": \"user\", \"content\": \"현미밥이었지.\"}\n",
        "for chunk in graph.stream({\"messages\": [input_message]}, config, stream_mode=\"values\"):\n",
        "    chunk[\"messages\"][-1].pretty_print()"
      ]
    },
    {
      "cell_type": "markdown",
      "metadata": {
        "id": "bSN-nBjBc_YP"
      },
      "source": [
        "`get_state`를 통해 진행된 스레드의 마지막 상태를 볼 수 있습니다.   \n",
        "해당 상태에는 State의 스냅샷 정보가 저장되어 있습니다."
      ]
    },
    {
      "cell_type": "code",
      "execution_count": null,
      "metadata": {
        "id": "q8N6Seirc_YP",
        "colab": {
          "base_uri": "https://localhost:8080/",
          "height": 1000
        },
        "outputId": "f737e067-7653-4c8f-8a8f-84b60c905108"
      },
      "outputs": [
        {
          "output_type": "display_data",
          "data": {
            "text/plain": [
              "\u001b[1;35mStateSnapshot\u001b[0m\u001b[1m(\u001b[0m\n",
              "    \u001b[33mvalues\u001b[0m=\u001b[1m{\u001b[0m\n",
              "        \u001b[32m'messages'\u001b[0m: \u001b[1m[\u001b[0m\n",
              "            \u001b[1;35mHumanMessage\u001b[0m\u001b[1m(\u001b[0m\n",
              "                \u001b[33mcontent\u001b[0m=\u001b[32m'나는 오늘 점심에 우삼겹 포케를 먹었는데, 맛있었어.'\u001b[0m,\n",
              "                \u001b[33madditional_kwargs\u001b[0m=\u001b[1m{\u001b[0m\u001b[1m}\u001b[0m,\n",
              "                \u001b[33mresponse_metadata\u001b[0m=\u001b[1m{\u001b[0m\u001b[1m}\u001b[0m,\n",
              "                \u001b[33mid\u001b[0m=\u001b[32m'feb82ba6-0540-4b77-8ed9-e37ec1e469b3'\u001b[0m\n",
              "            \u001b[1m)\u001b[0m,\n",
              "            \u001b[1;35mAIMessage\u001b[0m\u001b[1m(\u001b[0m\n",
              "                \u001b[33mcontent\u001b[0m=\u001b[32m'우삼겹 포케! 정말 맛있겠네요! 어떤 토핑이 들어갔어요? 맛있었다니 저도 한번 먹어보고 \u001b[0m\n",
              "\u001b[32m싶어지네요! 😊'\u001b[0m,\n",
              "                \u001b[33madditional_kwargs\u001b[0m=\u001b[1m{\u001b[0m\u001b[1m}\u001b[0m,\n",
              "                \u001b[33mresponse_metadata\u001b[0m=\u001b[1m{\u001b[0m\n",
              "                    \u001b[32m'prompt_feedback'\u001b[0m: \u001b[1m{\u001b[0m\u001b[32m'block_reason'\u001b[0m: \u001b[1;36m0\u001b[0m, \u001b[32m'safety_ratings'\u001b[0m: \u001b[1m[\u001b[0m\u001b[1m]\u001b[0m\u001b[1m}\u001b[0m,\n",
              "                    \u001b[32m'finish_reason'\u001b[0m: \u001b[32m'STOP'\u001b[0m,\n",
              "                    \u001b[32m'safety_ratings'\u001b[0m: \u001b[1m[\u001b[0m\u001b[1m]\u001b[0m\n",
              "                \u001b[1m}\u001b[0m,\n",
              "                \u001b[33mid\u001b[0m=\u001b[32m'run-aa21ed15-4fb0-4c88-9246-08a6976b6688-0'\u001b[0m,\n",
              "                \u001b[33musage_metadata\u001b[0m=\u001b[1m{\u001b[0m\n",
              "                    \u001b[32m'input_tokens'\u001b[0m: \u001b[1;36m22\u001b[0m,\n",
              "                    \u001b[32m'output_tokens'\u001b[0m: \u001b[1;36m46\u001b[0m,\n",
              "                    \u001b[32m'total_tokens'\u001b[0m: \u001b[1;36m68\u001b[0m,\n",
              "                    \u001b[32m'input_token_details'\u001b[0m: \u001b[1m{\u001b[0m\u001b[32m'cache_read'\u001b[0m: \u001b[1;36m0\u001b[0m\u001b[1m}\u001b[0m\n",
              "                \u001b[1m}\u001b[0m\n",
              "            \u001b[1m)\u001b[0m,\n",
              "            \u001b[1;35mHumanMessage\u001b[0m\u001b[1m(\u001b[0m\n",
              "                \u001b[33mcontent\u001b[0m=\u001b[32m'뭐 이것저것 많이 들어갔어. 소스가 맛있더라.'\u001b[0m,\n",
              "                \u001b[33madditional_kwargs\u001b[0m=\u001b[1m{\u001b[0m\u001b[1m}\u001b[0m,\n",
              "                \u001b[33mresponse_metadata\u001b[0m=\u001b[1m{\u001b[0m\u001b[1m}\u001b[0m,\n",
              "                \u001b[33mid\u001b[0m=\u001b[32m'0bd731ba-4f37-4961-b14b-30e8f92683bc'\u001b[0m\n",
              "            \u001b[1m)\u001b[0m,\n",
              "            \u001b[1;35mAIMessage\u001b[0m\u001b[1m(\u001b[0m\n",
              "                \u001b[33mcontent\u001b[0m=\u001b[32m'소스가 맛있었다니 정말 궁금하네요! 혹시 어떤 종류의 소스였는지 기억나세요? 예를 들어, 간장\u001b[0m\n",
              "\u001b[32m베이스인지, 고추장 베이스인지, 아니면 마요네즈 베이스인지 같은 것들이요! 😋'\u001b[0m,\n",
              "                \u001b[33madditional_kwargs\u001b[0m=\u001b[1m{\u001b[0m\u001b[1m}\u001b[0m,\n",
              "                \u001b[33mresponse_metadata\u001b[0m=\u001b[1m{\u001b[0m\n",
              "                    \u001b[32m'prompt_feedback'\u001b[0m: \u001b[1m{\u001b[0m\u001b[32m'block_reason'\u001b[0m: \u001b[1;36m0\u001b[0m, \u001b[32m'safety_ratings'\u001b[0m: \u001b[1m[\u001b[0m\u001b[1m]\u001b[0m\u001b[1m}\u001b[0m,\n",
              "                    \u001b[32m'finish_reason'\u001b[0m: \u001b[32m'STOP'\u001b[0m,\n",
              "                    \u001b[32m'safety_ratings'\u001b[0m: \u001b[1m[\u001b[0m\u001b[1m]\u001b[0m\n",
              "                \u001b[1m}\u001b[0m,\n",
              "                \u001b[33mid\u001b[0m=\u001b[32m'run-5ad09b3d-3985-4ae2-9272-e40a8767c097-0'\u001b[0m,\n",
              "                \u001b[33musage_metadata\u001b[0m=\u001b[1m{\u001b[0m\n",
              "                    \u001b[32m'input_tokens'\u001b[0m: \u001b[1;36m87\u001b[0m,\n",
              "                    \u001b[32m'output_tokens'\u001b[0m: \u001b[1;36m71\u001b[0m,\n",
              "                    \u001b[32m'total_tokens'\u001b[0m: \u001b[1;36m158\u001b[0m,\n",
              "                    \u001b[32m'input_token_details'\u001b[0m: \u001b[1m{\u001b[0m\u001b[32m'cache_read'\u001b[0m: \u001b[1;36m0\u001b[0m\u001b[1m}\u001b[0m\n",
              "                \u001b[1m}\u001b[0m\n",
              "            \u001b[1m)\u001b[0m,\n",
              "            \u001b[1;35mHumanMessage\u001b[0m\u001b[1m(\u001b[0m\n",
              "                \u001b[33mcontent\u001b[0m=\u001b[32m'어떤 소스가 가장 어울렸을까?'\u001b[0m,\n",
              "                \u001b[33madditional_kwargs\u001b[0m=\u001b[1m{\u001b[0m\u001b[1m}\u001b[0m,\n",
              "                \u001b[33mresponse_metadata\u001b[0m=\u001b[1m{\u001b[0m\u001b[1m}\u001b[0m,\n",
              "                \u001b[33mid\u001b[0m=\u001b[32m'ca759cca-a421-41b5-900a-c0c338d2d2b5'\u001b[0m\n",
              "            \u001b[1m)\u001b[0m,\n",
              "            \u001b[1;35mAIMessage\u001b[0m\u001b[1m(\u001b[0m\n",
              "                \u001b[33mcontent\u001b[0m=\u001b[32m'우삼겹 포케에 어떤 소스가 가장 어울릴지는 정말 다양한 요소에 따라 달라질 수 있어요! 예를 \u001b[0m\n",
              "\u001b[32m들어, 어떤 종류의 야채와 곡물이 들어갔는지, 그리고 개인적인 취향에 따라서도 많이 달라지죠.\\n\\n하지만 일반적으로 \u001b[0m\n",
              "\u001b[32m우삼겹의 느끼함을 잡아주면서 풍미를 더해줄 수 있는 소스들을 몇 가지 추천해 드릴게요.\\n\\n*   **간장 베이스 소스:**\\n\u001b[0m\n",
              "\u001b[32m*   **간장 + 참기름 + 다진 마늘 + 깨소금:** 기본적인 조합이지만 실패하기 어려운 맛이죠.\\n    *   **폰즈 소스:** \u001b[0m\n",
              "\u001b[32m상큼한 맛이 우삼겹의 느끼함을 잡아줘서 깔끔하게 즐길 수 있어요.\\n    *   **데리야끼 소스:** 달콤 짭짤한 맛이 \u001b[0m\n",
              "\u001b[32m우삼겹과 잘 어울리고, 아이들도 좋아할 만한 맛이에요.\\n*   **고추장 베이스 소스:**\\n    *   **고추장 + 식초 + 설탕 +\u001b[0m\n",
              "\u001b[32m다진 마늘:** 매콤하면서도 새콤달콤한 맛이 입맛을 돋우고, 우삼겹의 느끼함을 잡아줘요.\\n    *   **쌈장:** \u001b[0m\n",
              "\u001b[32m한국인이라면 누구나 좋아하는 쌈장! 우삼겹과 쌈장의 조합은 말할 필요도 없죠.\\n*   **마요네즈 베이스 소스:**\\n    *  \u001b[0m\n",
              "\u001b[32m**스리라차 마요:** 매콤하면서도 부드러운 맛이 우삼겹과 잘 어울려요.\\n    *   **와사비 마요:** 톡 쏘는 와사비 향이 \u001b[0m\n",
              "\u001b[32m우삼겹의 느끼함을 잡아주고, 독특한 풍미를 더해줘요.\\n\\n이 외에도 땅콩 소스, 참깨 소스, 유자 소스 등 다양한 소스들이\u001b[0m\n",
              "\u001b[32m우삼겹 포케와 잘 어울릴 수 있어요.\\n\\n혹시 어떤 종류의 야채나 곡물이 들어갔는지 알려주시면 좀 더 구체적인 소스를 \u001b[0m\n",
              "\u001b[32m추천해 드릴 수 있을 것 같아요! 😊'\u001b[0m,\n",
              "                \u001b[33madditional_kwargs\u001b[0m=\u001b[1m{\u001b[0m\u001b[1m}\u001b[0m,\n",
              "                \u001b[33mresponse_metadata\u001b[0m=\u001b[1m{\u001b[0m\n",
              "                    \u001b[32m'prompt_feedback'\u001b[0m: \u001b[1m{\u001b[0m\u001b[32m'block_reason'\u001b[0m: \u001b[1;36m0\u001b[0m, \u001b[32m'safety_ratings'\u001b[0m: \u001b[1m[\u001b[0m\u001b[1m]\u001b[0m\u001b[1m}\u001b[0m,\n",
              "                    \u001b[32m'finish_reason'\u001b[0m: \u001b[32m'STOP'\u001b[0m,\n",
              "                    \u001b[32m'safety_ratings'\u001b[0m: \u001b[1m[\u001b[0m\u001b[1m]\u001b[0m\n",
              "                \u001b[1m}\u001b[0m,\n",
              "                \u001b[33mid\u001b[0m=\u001b[32m'run-338416f1-5ae4-4dd5-92df-39c7c614fc05-0'\u001b[0m,\n",
              "                \u001b[33musage_metadata\u001b[0m=\u001b[1m{\u001b[0m\n",
              "                    \u001b[32m'input_tokens'\u001b[0m: \u001b[1;36m169\u001b[0m,\n",
              "                    \u001b[32m'output_tokens'\u001b[0m: \u001b[1;36m531\u001b[0m,\n",
              "                    \u001b[32m'total_tokens'\u001b[0m: \u001b[1;36m700\u001b[0m,\n",
              "                    \u001b[32m'input_token_details'\u001b[0m: \u001b[1m{\u001b[0m\u001b[32m'cache_read'\u001b[0m: \u001b[1;36m0\u001b[0m\u001b[1m}\u001b[0m\n",
              "                \u001b[1m}\u001b[0m\n",
              "            \u001b[1m)\u001b[0m\n",
              "        \u001b[1m]\u001b[0m\n",
              "    \u001b[1m}\u001b[0m,\n",
              "    \u001b[33mnext\u001b[0m=\u001b[1m(\u001b[0m\u001b[1m)\u001b[0m,\n",
              "    \u001b[33mconfig\u001b[0m=\u001b[1m{\u001b[0m\n",
              "        \u001b[32m'configurable'\u001b[0m: \u001b[1m{\u001b[0m\n",
              "            \u001b[32m'thread_id'\u001b[0m: \u001b[32m'1'\u001b[0m,\n",
              "            \u001b[32m'checkpoint_ns'\u001b[0m: \u001b[32m''\u001b[0m,\n",
              "            \u001b[32m'checkpoint_id'\u001b[0m: \u001b[32m'1f0065aa-0578-6ee0-8007-ebeb170e438b'\u001b[0m\n",
              "        \u001b[1m}\u001b[0m\n",
              "    \u001b[1m}\u001b[0m,\n",
              "    \u001b[33mmetadata\u001b[0m=\u001b[1m{\u001b[0m\n",
              "        \u001b[32m'source'\u001b[0m: \u001b[32m'loop'\u001b[0m,\n",
              "        \u001b[32m'writes'\u001b[0m: \u001b[1m{\u001b[0m\n",
              "            \u001b[32m'call_model'\u001b[0m: \u001b[1m{\u001b[0m\n",
              "                \u001b[32m'messages'\u001b[0m: \u001b[1;35mAIMessage\u001b[0m\u001b[1m(\u001b[0m\n",
              "                    \u001b[33mcontent\u001b[0m=\u001b[32m'우삼겹 포케에 어떤 소스가 가장 어울릴지는 정말 다양한 요소에 따라 달라질 수 있어요! \u001b[0m\n",
              "\u001b[32m예를 들어, 어떤 종류의 야채와 곡물이 들어갔는지, 그리고 개인적인 취향에 따라서도 많이 달라지죠.\\n\\n하지만 \u001b[0m\n",
              "\u001b[32m일반적으로 우삼겹의 느끼함을 잡아주면서 풍미를 더해줄 수 있는 소스들을 몇 가지 추천해 드릴게요.\\n\\n*   **간장 \u001b[0m\n",
              "\u001b[32m베이스 소스:**\\n    *   **간장 + 참기름 + 다진 마늘 + 깨소금:** 기본적인 조합이지만 실패하기 어려운 맛이죠.\\n    * \u001b[0m\n",
              "\u001b[32m**폰즈 소스:** 상큼한 맛이 우삼겹의 느끼함을 잡아줘서 깔끔하게 즐길 수 있어요.\\n    *   **데리야끼 소스:** 달콤 \u001b[0m\n",
              "\u001b[32m짭짤한 맛이 우삼겹과 잘 어울리고, 아이들도 좋아할 만한 맛이에요.\\n*   **고추장 베이스 소스:**\\n    *   **고추장 + \u001b[0m\n",
              "\u001b[32m식초 + 설탕 + 다진 마늘:** 매콤하면서도 새콤달콤한 맛이 입맛을 돋우고, 우삼겹의 느끼함을 잡아줘요.\\n    *   \u001b[0m\n",
              "\u001b[32m**쌈장:** 한국인이라면 누구나 좋아하는 쌈장! 우삼겹과 쌈장의 조합은 말할 필요도 없죠.\\n*   **마요네즈 베이스 \u001b[0m\n",
              "\u001b[32m소스:**\\n    *   **스리라차 마요:** 매콤하면서도 부드러운 맛이 우삼겹과 잘 어울려요.\\n    *   **와사비 마요:** 톡 \u001b[0m\n",
              "\u001b[32m쏘는 와사비 향이 우삼겹의 느끼함을 잡아주고, 독특한 풍미를 더해줘요.\\n\\n이 외에도 땅콩 소스, 참깨 소스, 유자 소스 \u001b[0m\n",
              "\u001b[32m등 다양한 소스들이 우삼겹 포케와 잘 어울릴 수 있어요.\\n\\n혹시 어떤 종류의 야채나 곡물이 들어갔는지 알려주시면 좀 더\u001b[0m\n",
              "\u001b[32m구체적인 소스를 추천해 드릴 수 있을 것 같아요! 😊'\u001b[0m,\n",
              "                    \u001b[33madditional_kwargs\u001b[0m=\u001b[1m{\u001b[0m\u001b[1m}\u001b[0m,\n",
              "                    \u001b[33mresponse_metadata\u001b[0m=\u001b[1m{\u001b[0m\n",
              "                        \u001b[32m'prompt_feedback'\u001b[0m: \u001b[1m{\u001b[0m\u001b[32m'block_reason'\u001b[0m: \u001b[1;36m0\u001b[0m, \u001b[32m'safety_ratings'\u001b[0m: \u001b[1m[\u001b[0m\u001b[1m]\u001b[0m\u001b[1m}\u001b[0m,\n",
              "                        \u001b[32m'finish_reason'\u001b[0m: \u001b[32m'STOP'\u001b[0m,\n",
              "                        \u001b[32m'safety_ratings'\u001b[0m: \u001b[1m[\u001b[0m\u001b[1m]\u001b[0m\n",
              "                    \u001b[1m}\u001b[0m,\n",
              "                    \u001b[33mid\u001b[0m=\u001b[32m'run-338416f1-5ae4-4dd5-92df-39c7c614fc05-0'\u001b[0m,\n",
              "                    \u001b[33musage_metadata\u001b[0m=\u001b[1m{\u001b[0m\n",
              "                        \u001b[32m'input_tokens'\u001b[0m: \u001b[1;36m169\u001b[0m,\n",
              "                        \u001b[32m'output_tokens'\u001b[0m: \u001b[1;36m531\u001b[0m,\n",
              "                        \u001b[32m'total_tokens'\u001b[0m: \u001b[1;36m700\u001b[0m,\n",
              "                        \u001b[32m'input_token_details'\u001b[0m: \u001b[1m{\u001b[0m\u001b[32m'cache_read'\u001b[0m: \u001b[1;36m0\u001b[0m\u001b[1m}\u001b[0m\n",
              "                    \u001b[1m}\u001b[0m\n",
              "                \u001b[1m)\u001b[0m\n",
              "            \u001b[1m}\u001b[0m\n",
              "        \u001b[1m}\u001b[0m,\n",
              "        \u001b[32m'thread_id'\u001b[0m: \u001b[32m'1'\u001b[0m,\n",
              "        \u001b[32m'step'\u001b[0m: \u001b[1;36m7\u001b[0m,\n",
              "        \u001b[32m'parents'\u001b[0m: \u001b[1m{\u001b[0m\u001b[1m}\u001b[0m\n",
              "    \u001b[1m}\u001b[0m,\n",
              "    \u001b[33mcreated_at\u001b[0m=\u001b[32m'2025-03-21T13:44:35.540126+00:00'\u001b[0m,\n",
              "    \u001b[33mparent_config\u001b[0m=\u001b[1m{\u001b[0m\n",
              "        \u001b[32m'configurable'\u001b[0m: \u001b[1m{\u001b[0m\n",
              "            \u001b[32m'thread_id'\u001b[0m: \u001b[32m'1'\u001b[0m,\n",
              "            \u001b[32m'checkpoint_ns'\u001b[0m: \u001b[32m''\u001b[0m,\n",
              "            \u001b[32m'checkpoint_id'\u001b[0m: \u001b[32m'1f0065a9-e85c-67f0-8006-1f2f4d405ed4'\u001b[0m\n",
              "        \u001b[1m}\u001b[0m\n",
              "    \u001b[1m}\u001b[0m,\n",
              "    \u001b[33mtasks\u001b[0m=\u001b[1m(\u001b[0m\u001b[1m)\u001b[0m\n",
              "\u001b[1m)\u001b[0m\n"
            ],
            "text/html": [
              "<pre style=\"white-space:pre;overflow-x:auto;line-height:normal;font-family:Menlo,'DejaVu Sans Mono',consolas,'Courier New',monospace\"><span style=\"color: #800080; text-decoration-color: #800080; font-weight: bold\">StateSnapshot</span><span style=\"font-weight: bold\">(</span>\n",
              "    <span style=\"color: #808000; text-decoration-color: #808000\">values</span>=<span style=\"font-weight: bold\">{</span>\n",
              "        <span style=\"color: #008000; text-decoration-color: #008000\">'messages'</span>: <span style=\"font-weight: bold\">[</span>\n",
              "            <span style=\"color: #800080; text-decoration-color: #800080; font-weight: bold\">HumanMessage</span><span style=\"font-weight: bold\">(</span>\n",
              "                <span style=\"color: #808000; text-decoration-color: #808000\">content</span>=<span style=\"color: #008000; text-decoration-color: #008000\">'나는 오늘 점심에 우삼겹 포케를 먹었는데, 맛있었어.'</span>,\n",
              "                <span style=\"color: #808000; text-decoration-color: #808000\">additional_kwargs</span>=<span style=\"font-weight: bold\">{}</span>,\n",
              "                <span style=\"color: #808000; text-decoration-color: #808000\">response_metadata</span>=<span style=\"font-weight: bold\">{}</span>,\n",
              "                <span style=\"color: #808000; text-decoration-color: #808000\">id</span>=<span style=\"color: #008000; text-decoration-color: #008000\">'feb82ba6-0540-4b77-8ed9-e37ec1e469b3'</span>\n",
              "            <span style=\"font-weight: bold\">)</span>,\n",
              "            <span style=\"color: #800080; text-decoration-color: #800080; font-weight: bold\">AIMessage</span><span style=\"font-weight: bold\">(</span>\n",
              "                <span style=\"color: #808000; text-decoration-color: #808000\">content</span>=<span style=\"color: #008000; text-decoration-color: #008000\">'우삼겹 포케! 정말 맛있겠네요! 어떤 토핑이 들어갔어요? 맛있었다니 저도 한번 먹어보고 </span>\n",
              "<span style=\"color: #008000; text-decoration-color: #008000\">싶어지네요! 😊'</span>,\n",
              "                <span style=\"color: #808000; text-decoration-color: #808000\">additional_kwargs</span>=<span style=\"font-weight: bold\">{}</span>,\n",
              "                <span style=\"color: #808000; text-decoration-color: #808000\">response_metadata</span>=<span style=\"font-weight: bold\">{</span>\n",
              "                    <span style=\"color: #008000; text-decoration-color: #008000\">'prompt_feedback'</span>: <span style=\"font-weight: bold\">{</span><span style=\"color: #008000; text-decoration-color: #008000\">'block_reason'</span>: <span style=\"color: #008080; text-decoration-color: #008080; font-weight: bold\">0</span>, <span style=\"color: #008000; text-decoration-color: #008000\">'safety_ratings'</span>: <span style=\"font-weight: bold\">[]}</span>,\n",
              "                    <span style=\"color: #008000; text-decoration-color: #008000\">'finish_reason'</span>: <span style=\"color: #008000; text-decoration-color: #008000\">'STOP'</span>,\n",
              "                    <span style=\"color: #008000; text-decoration-color: #008000\">'safety_ratings'</span>: <span style=\"font-weight: bold\">[]</span>\n",
              "                <span style=\"font-weight: bold\">}</span>,\n",
              "                <span style=\"color: #808000; text-decoration-color: #808000\">id</span>=<span style=\"color: #008000; text-decoration-color: #008000\">'run-aa21ed15-4fb0-4c88-9246-08a6976b6688-0'</span>,\n",
              "                <span style=\"color: #808000; text-decoration-color: #808000\">usage_metadata</span>=<span style=\"font-weight: bold\">{</span>\n",
              "                    <span style=\"color: #008000; text-decoration-color: #008000\">'input_tokens'</span>: <span style=\"color: #008080; text-decoration-color: #008080; font-weight: bold\">22</span>,\n",
              "                    <span style=\"color: #008000; text-decoration-color: #008000\">'output_tokens'</span>: <span style=\"color: #008080; text-decoration-color: #008080; font-weight: bold\">46</span>,\n",
              "                    <span style=\"color: #008000; text-decoration-color: #008000\">'total_tokens'</span>: <span style=\"color: #008080; text-decoration-color: #008080; font-weight: bold\">68</span>,\n",
              "                    <span style=\"color: #008000; text-decoration-color: #008000\">'input_token_details'</span>: <span style=\"font-weight: bold\">{</span><span style=\"color: #008000; text-decoration-color: #008000\">'cache_read'</span>: <span style=\"color: #008080; text-decoration-color: #008080; font-weight: bold\">0</span><span style=\"font-weight: bold\">}</span>\n",
              "                <span style=\"font-weight: bold\">}</span>\n",
              "            <span style=\"font-weight: bold\">)</span>,\n",
              "            <span style=\"color: #800080; text-decoration-color: #800080; font-weight: bold\">HumanMessage</span><span style=\"font-weight: bold\">(</span>\n",
              "                <span style=\"color: #808000; text-decoration-color: #808000\">content</span>=<span style=\"color: #008000; text-decoration-color: #008000\">'뭐 이것저것 많이 들어갔어. 소스가 맛있더라.'</span>,\n",
              "                <span style=\"color: #808000; text-decoration-color: #808000\">additional_kwargs</span>=<span style=\"font-weight: bold\">{}</span>,\n",
              "                <span style=\"color: #808000; text-decoration-color: #808000\">response_metadata</span>=<span style=\"font-weight: bold\">{}</span>,\n",
              "                <span style=\"color: #808000; text-decoration-color: #808000\">id</span>=<span style=\"color: #008000; text-decoration-color: #008000\">'0bd731ba-4f37-4961-b14b-30e8f92683bc'</span>\n",
              "            <span style=\"font-weight: bold\">)</span>,\n",
              "            <span style=\"color: #800080; text-decoration-color: #800080; font-weight: bold\">AIMessage</span><span style=\"font-weight: bold\">(</span>\n",
              "                <span style=\"color: #808000; text-decoration-color: #808000\">content</span>=<span style=\"color: #008000; text-decoration-color: #008000\">'소스가 맛있었다니 정말 궁금하네요! 혹시 어떤 종류의 소스였는지 기억나세요? 예를 들어, 간장</span>\n",
              "<span style=\"color: #008000; text-decoration-color: #008000\">베이스인지, 고추장 베이스인지, 아니면 마요네즈 베이스인지 같은 것들이요! 😋'</span>,\n",
              "                <span style=\"color: #808000; text-decoration-color: #808000\">additional_kwargs</span>=<span style=\"font-weight: bold\">{}</span>,\n",
              "                <span style=\"color: #808000; text-decoration-color: #808000\">response_metadata</span>=<span style=\"font-weight: bold\">{</span>\n",
              "                    <span style=\"color: #008000; text-decoration-color: #008000\">'prompt_feedback'</span>: <span style=\"font-weight: bold\">{</span><span style=\"color: #008000; text-decoration-color: #008000\">'block_reason'</span>: <span style=\"color: #008080; text-decoration-color: #008080; font-weight: bold\">0</span>, <span style=\"color: #008000; text-decoration-color: #008000\">'safety_ratings'</span>: <span style=\"font-weight: bold\">[]}</span>,\n",
              "                    <span style=\"color: #008000; text-decoration-color: #008000\">'finish_reason'</span>: <span style=\"color: #008000; text-decoration-color: #008000\">'STOP'</span>,\n",
              "                    <span style=\"color: #008000; text-decoration-color: #008000\">'safety_ratings'</span>: <span style=\"font-weight: bold\">[]</span>\n",
              "                <span style=\"font-weight: bold\">}</span>,\n",
              "                <span style=\"color: #808000; text-decoration-color: #808000\">id</span>=<span style=\"color: #008000; text-decoration-color: #008000\">'run-5ad09b3d-3985-4ae2-9272-e40a8767c097-0'</span>,\n",
              "                <span style=\"color: #808000; text-decoration-color: #808000\">usage_metadata</span>=<span style=\"font-weight: bold\">{</span>\n",
              "                    <span style=\"color: #008000; text-decoration-color: #008000\">'input_tokens'</span>: <span style=\"color: #008080; text-decoration-color: #008080; font-weight: bold\">87</span>,\n",
              "                    <span style=\"color: #008000; text-decoration-color: #008000\">'output_tokens'</span>: <span style=\"color: #008080; text-decoration-color: #008080; font-weight: bold\">71</span>,\n",
              "                    <span style=\"color: #008000; text-decoration-color: #008000\">'total_tokens'</span>: <span style=\"color: #008080; text-decoration-color: #008080; font-weight: bold\">158</span>,\n",
              "                    <span style=\"color: #008000; text-decoration-color: #008000\">'input_token_details'</span>: <span style=\"font-weight: bold\">{</span><span style=\"color: #008000; text-decoration-color: #008000\">'cache_read'</span>: <span style=\"color: #008080; text-decoration-color: #008080; font-weight: bold\">0</span><span style=\"font-weight: bold\">}</span>\n",
              "                <span style=\"font-weight: bold\">}</span>\n",
              "            <span style=\"font-weight: bold\">)</span>,\n",
              "            <span style=\"color: #800080; text-decoration-color: #800080; font-weight: bold\">HumanMessage</span><span style=\"font-weight: bold\">(</span>\n",
              "                <span style=\"color: #808000; text-decoration-color: #808000\">content</span>=<span style=\"color: #008000; text-decoration-color: #008000\">'어떤 소스가 가장 어울렸을까?'</span>,\n",
              "                <span style=\"color: #808000; text-decoration-color: #808000\">additional_kwargs</span>=<span style=\"font-weight: bold\">{}</span>,\n",
              "                <span style=\"color: #808000; text-decoration-color: #808000\">response_metadata</span>=<span style=\"font-weight: bold\">{}</span>,\n",
              "                <span style=\"color: #808000; text-decoration-color: #808000\">id</span>=<span style=\"color: #008000; text-decoration-color: #008000\">'ca759cca-a421-41b5-900a-c0c338d2d2b5'</span>\n",
              "            <span style=\"font-weight: bold\">)</span>,\n",
              "            <span style=\"color: #800080; text-decoration-color: #800080; font-weight: bold\">AIMessage</span><span style=\"font-weight: bold\">(</span>\n",
              "                <span style=\"color: #808000; text-decoration-color: #808000\">content</span>=<span style=\"color: #008000; text-decoration-color: #008000\">'우삼겹 포케에 어떤 소스가 가장 어울릴지는 정말 다양한 요소에 따라 달라질 수 있어요! 예를 </span>\n",
              "<span style=\"color: #008000; text-decoration-color: #008000\">들어, 어떤 종류의 야채와 곡물이 들어갔는지, 그리고 개인적인 취향에 따라서도 많이 달라지죠.\\n\\n하지만 일반적으로 </span>\n",
              "<span style=\"color: #008000; text-decoration-color: #008000\">우삼겹의 느끼함을 잡아주면서 풍미를 더해줄 수 있는 소스들을 몇 가지 추천해 드릴게요.\\n\\n*   **간장 베이스 소스:**\\n</span>\n",
              "<span style=\"color: #008000; text-decoration-color: #008000\">*   **간장 + 참기름 + 다진 마늘 + 깨소금:** 기본적인 조합이지만 실패하기 어려운 맛이죠.\\n    *   **폰즈 소스:** </span>\n",
              "<span style=\"color: #008000; text-decoration-color: #008000\">상큼한 맛이 우삼겹의 느끼함을 잡아줘서 깔끔하게 즐길 수 있어요.\\n    *   **데리야끼 소스:** 달콤 짭짤한 맛이 </span>\n",
              "<span style=\"color: #008000; text-decoration-color: #008000\">우삼겹과 잘 어울리고, 아이들도 좋아할 만한 맛이에요.\\n*   **고추장 베이스 소스:**\\n    *   **고추장 + 식초 + 설탕 +</span>\n",
              "<span style=\"color: #008000; text-decoration-color: #008000\">다진 마늘:** 매콤하면서도 새콤달콤한 맛이 입맛을 돋우고, 우삼겹의 느끼함을 잡아줘요.\\n    *   **쌈장:** </span>\n",
              "<span style=\"color: #008000; text-decoration-color: #008000\">한국인이라면 누구나 좋아하는 쌈장! 우삼겹과 쌈장의 조합은 말할 필요도 없죠.\\n*   **마요네즈 베이스 소스:**\\n    *  </span>\n",
              "<span style=\"color: #008000; text-decoration-color: #008000\">**스리라차 마요:** 매콤하면서도 부드러운 맛이 우삼겹과 잘 어울려요.\\n    *   **와사비 마요:** 톡 쏘는 와사비 향이 </span>\n",
              "<span style=\"color: #008000; text-decoration-color: #008000\">우삼겹의 느끼함을 잡아주고, 독특한 풍미를 더해줘요.\\n\\n이 외에도 땅콩 소스, 참깨 소스, 유자 소스 등 다양한 소스들이</span>\n",
              "<span style=\"color: #008000; text-decoration-color: #008000\">우삼겹 포케와 잘 어울릴 수 있어요.\\n\\n혹시 어떤 종류의 야채나 곡물이 들어갔는지 알려주시면 좀 더 구체적인 소스를 </span>\n",
              "<span style=\"color: #008000; text-decoration-color: #008000\">추천해 드릴 수 있을 것 같아요! 😊'</span>,\n",
              "                <span style=\"color: #808000; text-decoration-color: #808000\">additional_kwargs</span>=<span style=\"font-weight: bold\">{}</span>,\n",
              "                <span style=\"color: #808000; text-decoration-color: #808000\">response_metadata</span>=<span style=\"font-weight: bold\">{</span>\n",
              "                    <span style=\"color: #008000; text-decoration-color: #008000\">'prompt_feedback'</span>: <span style=\"font-weight: bold\">{</span><span style=\"color: #008000; text-decoration-color: #008000\">'block_reason'</span>: <span style=\"color: #008080; text-decoration-color: #008080; font-weight: bold\">0</span>, <span style=\"color: #008000; text-decoration-color: #008000\">'safety_ratings'</span>: <span style=\"font-weight: bold\">[]}</span>,\n",
              "                    <span style=\"color: #008000; text-decoration-color: #008000\">'finish_reason'</span>: <span style=\"color: #008000; text-decoration-color: #008000\">'STOP'</span>,\n",
              "                    <span style=\"color: #008000; text-decoration-color: #008000\">'safety_ratings'</span>: <span style=\"font-weight: bold\">[]</span>\n",
              "                <span style=\"font-weight: bold\">}</span>,\n",
              "                <span style=\"color: #808000; text-decoration-color: #808000\">id</span>=<span style=\"color: #008000; text-decoration-color: #008000\">'run-338416f1-5ae4-4dd5-92df-39c7c614fc05-0'</span>,\n",
              "                <span style=\"color: #808000; text-decoration-color: #808000\">usage_metadata</span>=<span style=\"font-weight: bold\">{</span>\n",
              "                    <span style=\"color: #008000; text-decoration-color: #008000\">'input_tokens'</span>: <span style=\"color: #008080; text-decoration-color: #008080; font-weight: bold\">169</span>,\n",
              "                    <span style=\"color: #008000; text-decoration-color: #008000\">'output_tokens'</span>: <span style=\"color: #008080; text-decoration-color: #008080; font-weight: bold\">531</span>,\n",
              "                    <span style=\"color: #008000; text-decoration-color: #008000\">'total_tokens'</span>: <span style=\"color: #008080; text-decoration-color: #008080; font-weight: bold\">700</span>,\n",
              "                    <span style=\"color: #008000; text-decoration-color: #008000\">'input_token_details'</span>: <span style=\"font-weight: bold\">{</span><span style=\"color: #008000; text-decoration-color: #008000\">'cache_read'</span>: <span style=\"color: #008080; text-decoration-color: #008080; font-weight: bold\">0</span><span style=\"font-weight: bold\">}</span>\n",
              "                <span style=\"font-weight: bold\">}</span>\n",
              "            <span style=\"font-weight: bold\">)</span>\n",
              "        <span style=\"font-weight: bold\">]</span>\n",
              "    <span style=\"font-weight: bold\">}</span>,\n",
              "    <span style=\"color: #808000; text-decoration-color: #808000\">next</span>=<span style=\"font-weight: bold\">()</span>,\n",
              "    <span style=\"color: #808000; text-decoration-color: #808000\">config</span>=<span style=\"font-weight: bold\">{</span>\n",
              "        <span style=\"color: #008000; text-decoration-color: #008000\">'configurable'</span>: <span style=\"font-weight: bold\">{</span>\n",
              "            <span style=\"color: #008000; text-decoration-color: #008000\">'thread_id'</span>: <span style=\"color: #008000; text-decoration-color: #008000\">'1'</span>,\n",
              "            <span style=\"color: #008000; text-decoration-color: #008000\">'checkpoint_ns'</span>: <span style=\"color: #008000; text-decoration-color: #008000\">''</span>,\n",
              "            <span style=\"color: #008000; text-decoration-color: #008000\">'checkpoint_id'</span>: <span style=\"color: #008000; text-decoration-color: #008000\">'1f0065aa-0578-6ee0-8007-ebeb170e438b'</span>\n",
              "        <span style=\"font-weight: bold\">}</span>\n",
              "    <span style=\"font-weight: bold\">}</span>,\n",
              "    <span style=\"color: #808000; text-decoration-color: #808000\">metadata</span>=<span style=\"font-weight: bold\">{</span>\n",
              "        <span style=\"color: #008000; text-decoration-color: #008000\">'source'</span>: <span style=\"color: #008000; text-decoration-color: #008000\">'loop'</span>,\n",
              "        <span style=\"color: #008000; text-decoration-color: #008000\">'writes'</span>: <span style=\"font-weight: bold\">{</span>\n",
              "            <span style=\"color: #008000; text-decoration-color: #008000\">'call_model'</span>: <span style=\"font-weight: bold\">{</span>\n",
              "                <span style=\"color: #008000; text-decoration-color: #008000\">'messages'</span>: <span style=\"color: #800080; text-decoration-color: #800080; font-weight: bold\">AIMessage</span><span style=\"font-weight: bold\">(</span>\n",
              "                    <span style=\"color: #808000; text-decoration-color: #808000\">content</span>=<span style=\"color: #008000; text-decoration-color: #008000\">'우삼겹 포케에 어떤 소스가 가장 어울릴지는 정말 다양한 요소에 따라 달라질 수 있어요! </span>\n",
              "<span style=\"color: #008000; text-decoration-color: #008000\">예를 들어, 어떤 종류의 야채와 곡물이 들어갔는지, 그리고 개인적인 취향에 따라서도 많이 달라지죠.\\n\\n하지만 </span>\n",
              "<span style=\"color: #008000; text-decoration-color: #008000\">일반적으로 우삼겹의 느끼함을 잡아주면서 풍미를 더해줄 수 있는 소스들을 몇 가지 추천해 드릴게요.\\n\\n*   **간장 </span>\n",
              "<span style=\"color: #008000; text-decoration-color: #008000\">베이스 소스:**\\n    *   **간장 + 참기름 + 다진 마늘 + 깨소금:** 기본적인 조합이지만 실패하기 어려운 맛이죠.\\n    * </span>\n",
              "<span style=\"color: #008000; text-decoration-color: #008000\">**폰즈 소스:** 상큼한 맛이 우삼겹의 느끼함을 잡아줘서 깔끔하게 즐길 수 있어요.\\n    *   **데리야끼 소스:** 달콤 </span>\n",
              "<span style=\"color: #008000; text-decoration-color: #008000\">짭짤한 맛이 우삼겹과 잘 어울리고, 아이들도 좋아할 만한 맛이에요.\\n*   **고추장 베이스 소스:**\\n    *   **고추장 + </span>\n",
              "<span style=\"color: #008000; text-decoration-color: #008000\">식초 + 설탕 + 다진 마늘:** 매콤하면서도 새콤달콤한 맛이 입맛을 돋우고, 우삼겹의 느끼함을 잡아줘요.\\n    *   </span>\n",
              "<span style=\"color: #008000; text-decoration-color: #008000\">**쌈장:** 한국인이라면 누구나 좋아하는 쌈장! 우삼겹과 쌈장의 조합은 말할 필요도 없죠.\\n*   **마요네즈 베이스 </span>\n",
              "<span style=\"color: #008000; text-decoration-color: #008000\">소스:**\\n    *   **스리라차 마요:** 매콤하면서도 부드러운 맛이 우삼겹과 잘 어울려요.\\n    *   **와사비 마요:** 톡 </span>\n",
              "<span style=\"color: #008000; text-decoration-color: #008000\">쏘는 와사비 향이 우삼겹의 느끼함을 잡아주고, 독특한 풍미를 더해줘요.\\n\\n이 외에도 땅콩 소스, 참깨 소스, 유자 소스 </span>\n",
              "<span style=\"color: #008000; text-decoration-color: #008000\">등 다양한 소스들이 우삼겹 포케와 잘 어울릴 수 있어요.\\n\\n혹시 어떤 종류의 야채나 곡물이 들어갔는지 알려주시면 좀 더</span>\n",
              "<span style=\"color: #008000; text-decoration-color: #008000\">구체적인 소스를 추천해 드릴 수 있을 것 같아요! 😊'</span>,\n",
              "                    <span style=\"color: #808000; text-decoration-color: #808000\">additional_kwargs</span>=<span style=\"font-weight: bold\">{}</span>,\n",
              "                    <span style=\"color: #808000; text-decoration-color: #808000\">response_metadata</span>=<span style=\"font-weight: bold\">{</span>\n",
              "                        <span style=\"color: #008000; text-decoration-color: #008000\">'prompt_feedback'</span>: <span style=\"font-weight: bold\">{</span><span style=\"color: #008000; text-decoration-color: #008000\">'block_reason'</span>: <span style=\"color: #008080; text-decoration-color: #008080; font-weight: bold\">0</span>, <span style=\"color: #008000; text-decoration-color: #008000\">'safety_ratings'</span>: <span style=\"font-weight: bold\">[]}</span>,\n",
              "                        <span style=\"color: #008000; text-decoration-color: #008000\">'finish_reason'</span>: <span style=\"color: #008000; text-decoration-color: #008000\">'STOP'</span>,\n",
              "                        <span style=\"color: #008000; text-decoration-color: #008000\">'safety_ratings'</span>: <span style=\"font-weight: bold\">[]</span>\n",
              "                    <span style=\"font-weight: bold\">}</span>,\n",
              "                    <span style=\"color: #808000; text-decoration-color: #808000\">id</span>=<span style=\"color: #008000; text-decoration-color: #008000\">'run-338416f1-5ae4-4dd5-92df-39c7c614fc05-0'</span>,\n",
              "                    <span style=\"color: #808000; text-decoration-color: #808000\">usage_metadata</span>=<span style=\"font-weight: bold\">{</span>\n",
              "                        <span style=\"color: #008000; text-decoration-color: #008000\">'input_tokens'</span>: <span style=\"color: #008080; text-decoration-color: #008080; font-weight: bold\">169</span>,\n",
              "                        <span style=\"color: #008000; text-decoration-color: #008000\">'output_tokens'</span>: <span style=\"color: #008080; text-decoration-color: #008080; font-weight: bold\">531</span>,\n",
              "                        <span style=\"color: #008000; text-decoration-color: #008000\">'total_tokens'</span>: <span style=\"color: #008080; text-decoration-color: #008080; font-weight: bold\">700</span>,\n",
              "                        <span style=\"color: #008000; text-decoration-color: #008000\">'input_token_details'</span>: <span style=\"font-weight: bold\">{</span><span style=\"color: #008000; text-decoration-color: #008000\">'cache_read'</span>: <span style=\"color: #008080; text-decoration-color: #008080; font-weight: bold\">0</span><span style=\"font-weight: bold\">}</span>\n",
              "                    <span style=\"font-weight: bold\">}</span>\n",
              "                <span style=\"font-weight: bold\">)</span>\n",
              "            <span style=\"font-weight: bold\">}</span>\n",
              "        <span style=\"font-weight: bold\">}</span>,\n",
              "        <span style=\"color: #008000; text-decoration-color: #008000\">'thread_id'</span>: <span style=\"color: #008000; text-decoration-color: #008000\">'1'</span>,\n",
              "        <span style=\"color: #008000; text-decoration-color: #008000\">'step'</span>: <span style=\"color: #008080; text-decoration-color: #008080; font-weight: bold\">7</span>,\n",
              "        <span style=\"color: #008000; text-decoration-color: #008000\">'parents'</span>: <span style=\"font-weight: bold\">{}</span>\n",
              "    <span style=\"font-weight: bold\">}</span>,\n",
              "    <span style=\"color: #808000; text-decoration-color: #808000\">created_at</span>=<span style=\"color: #008000; text-decoration-color: #008000\">'2025-03-21T13:44:35.540126+00:00'</span>,\n",
              "    <span style=\"color: #808000; text-decoration-color: #808000\">parent_config</span>=<span style=\"font-weight: bold\">{</span>\n",
              "        <span style=\"color: #008000; text-decoration-color: #008000\">'configurable'</span>: <span style=\"font-weight: bold\">{</span>\n",
              "            <span style=\"color: #008000; text-decoration-color: #008000\">'thread_id'</span>: <span style=\"color: #008000; text-decoration-color: #008000\">'1'</span>,\n",
              "            <span style=\"color: #008000; text-decoration-color: #008000\">'checkpoint_ns'</span>: <span style=\"color: #008000; text-decoration-color: #008000\">''</span>,\n",
              "            <span style=\"color: #008000; text-decoration-color: #008000\">'checkpoint_id'</span>: <span style=\"color: #008000; text-decoration-color: #008000\">'1f0065a9-e85c-67f0-8006-1f2f4d405ed4'</span>\n",
              "        <span style=\"font-weight: bold\">}</span>\n",
              "    <span style=\"font-weight: bold\">}</span>,\n",
              "    <span style=\"color: #808000; text-decoration-color: #808000\">tasks</span>=<span style=\"font-weight: bold\">()</span>\n",
              "<span style=\"font-weight: bold\">)</span>\n",
              "</pre>\n"
            ]
          },
          "metadata": {}
        }
      ],
      "source": [
        "from rich import print as rprint\n",
        "config = {\"configurable\": {\"thread_id\": \"1\"}}\n",
        "\n",
        "rprint(graph.get_state(config))"
      ]
    },
    {
      "cell_type": "markdown",
      "metadata": {
        "id": "bA92cncuc_YQ"
      },
      "source": [
        "`get_state_history()`는 전체 스냅샷 목록을 순서대로 보여줍니다."
      ]
    },
    {
      "cell_type": "code",
      "execution_count": null,
      "metadata": {
        "id": "mr0tKxaJc_YQ",
        "colab": {
          "base_uri": "https://localhost:8080/"
        },
        "outputId": "2deb50fb-e703-4051-f018-ab5a8e35900c"
      },
      "outputs": [
        {
          "output_type": "execute_result",
          "data": {
            "text/plain": [
              "[StateSnapshot(values={'messages': [HumanMessage(content='나는 오늘 점심에 우삼겹 포케를 먹었는데, 맛있었어.', additional_kwargs={}, response_metadata={}, id='feb82ba6-0540-4b77-8ed9-e37ec1e469b3'), AIMessage(content='우삼겹 포케! 정말 맛있겠네요! 어떤 토핑이 들어갔어요? 맛있었다니 저도 한번 먹어보고 싶어지네요! 😊', additional_kwargs={}, response_metadata={'prompt_feedback': {'block_reason': 0, 'safety_ratings': []}, 'finish_reason': 'STOP', 'safety_ratings': []}, id='run-aa21ed15-4fb0-4c88-9246-08a6976b6688-0', usage_metadata={'input_tokens': 22, 'output_tokens': 46, 'total_tokens': 68, 'input_token_details': {'cache_read': 0}}), HumanMessage(content='뭐 이것저것 많이 들어갔어. 소스가 맛있더라.', additional_kwargs={}, response_metadata={}, id='0bd731ba-4f37-4961-b14b-30e8f92683bc'), AIMessage(content='소스가 맛있었다니 정말 궁금하네요! 혹시 어떤 종류의 소스였는지 기억나세요? 예를 들어, 간장 베이스인지, 고추장 베이스인지, 아니면 마요네즈 베이스인지 같은 것들이요! 😋', additional_kwargs={}, response_metadata={'prompt_feedback': {'block_reason': 0, 'safety_ratings': []}, 'finish_reason': 'STOP', 'safety_ratings': []}, id='run-5ad09b3d-3985-4ae2-9272-e40a8767c097-0', usage_metadata={'input_tokens': 87, 'output_tokens': 71, 'total_tokens': 158, 'input_token_details': {'cache_read': 0}}), HumanMessage(content='어떤 소스가 가장 어울렸을까?', additional_kwargs={}, response_metadata={}, id='ca759cca-a421-41b5-900a-c0c338d2d2b5'), AIMessage(content='우삼겹 포케에 어떤 소스가 가장 어울릴지는 정말 다양한 요소에 따라 달라질 수 있어요! 예를 들어, 어떤 종류의 야채와 곡물이 들어갔는지, 그리고 개인적인 취향에 따라서도 많이 달라지죠.\\n\\n하지만 일반적으로 우삼겹의 느끼함을 잡아주면서 풍미를 더해줄 수 있는 소스들을 몇 가지 추천해 드릴게요.\\n\\n*   **간장 베이스 소스:**\\n    *   **간장 + 참기름 + 다진 마늘 + 깨소금:** 기본적인 조합이지만 실패하기 어려운 맛이죠.\\n    *   **폰즈 소스:** 상큼한 맛이 우삼겹의 느끼함을 잡아줘서 깔끔하게 즐길 수 있어요.\\n    *   **데리야끼 소스:** 달콤 짭짤한 맛이 우삼겹과 잘 어울리고, 아이들도 좋아할 만한 맛이에요.\\n*   **고추장 베이스 소스:**\\n    *   **고추장 + 식초 + 설탕 + 다진 마늘:** 매콤하면서도 새콤달콤한 맛이 입맛을 돋우고, 우삼겹의 느끼함을 잡아줘요.\\n    *   **쌈장:** 한국인이라면 누구나 좋아하는 쌈장! 우삼겹과 쌈장의 조합은 말할 필요도 없죠.\\n*   **마요네즈 베이스 소스:**\\n    *   **스리라차 마요:** 매콤하면서도 부드러운 맛이 우삼겹과 잘 어울려요.\\n    *   **와사비 마요:** 톡 쏘는 와사비 향이 우삼겹의 느끼함을 잡아주고, 독특한 풍미를 더해줘요.\\n\\n이 외에도 땅콩 소스, 참깨 소스, 유자 소스 등 다양한 소스들이 우삼겹 포케와 잘 어울릴 수 있어요.\\n\\n혹시 어떤 종류의 야채나 곡물이 들어갔는지 알려주시면 좀 더 구체적인 소스를 추천해 드릴 수 있을 것 같아요! 😊', additional_kwargs={}, response_metadata={'prompt_feedback': {'block_reason': 0, 'safety_ratings': []}, 'finish_reason': 'STOP', 'safety_ratings': []}, id='run-338416f1-5ae4-4dd5-92df-39c7c614fc05-0', usage_metadata={'input_tokens': 169, 'output_tokens': 531, 'total_tokens': 700, 'input_token_details': {'cache_read': 0}})]}, next=(), config={'configurable': {'thread_id': '1', 'checkpoint_ns': '', 'checkpoint_id': '1f0065aa-0578-6ee0-8007-ebeb170e438b'}}, metadata={'source': 'loop', 'writes': {'call_model': {'messages': AIMessage(content='우삼겹 포케에 어떤 소스가 가장 어울릴지는 정말 다양한 요소에 따라 달라질 수 있어요! 예를 들어, 어떤 종류의 야채와 곡물이 들어갔는지, 그리고 개인적인 취향에 따라서도 많이 달라지죠.\\n\\n하지만 일반적으로 우삼겹의 느끼함을 잡아주면서 풍미를 더해줄 수 있는 소스들을 몇 가지 추천해 드릴게요.\\n\\n*   **간장 베이스 소스:**\\n    *   **간장 + 참기름 + 다진 마늘 + 깨소금:** 기본적인 조합이지만 실패하기 어려운 맛이죠.\\n    *   **폰즈 소스:** 상큼한 맛이 우삼겹의 느끼함을 잡아줘서 깔끔하게 즐길 수 있어요.\\n    *   **데리야끼 소스:** 달콤 짭짤한 맛이 우삼겹과 잘 어울리고, 아이들도 좋아할 만한 맛이에요.\\n*   **고추장 베이스 소스:**\\n    *   **고추장 + 식초 + 설탕 + 다진 마늘:** 매콤하면서도 새콤달콤한 맛이 입맛을 돋우고, 우삼겹의 느끼함을 잡아줘요.\\n    *   **쌈장:** 한국인이라면 누구나 좋아하는 쌈장! 우삼겹과 쌈장의 조합은 말할 필요도 없죠.\\n*   **마요네즈 베이스 소스:**\\n    *   **스리라차 마요:** 매콤하면서도 부드러운 맛이 우삼겹과 잘 어울려요.\\n    *   **와사비 마요:** 톡 쏘는 와사비 향이 우삼겹의 느끼함을 잡아주고, 독특한 풍미를 더해줘요.\\n\\n이 외에도 땅콩 소스, 참깨 소스, 유자 소스 등 다양한 소스들이 우삼겹 포케와 잘 어울릴 수 있어요.\\n\\n혹시 어떤 종류의 야채나 곡물이 들어갔는지 알려주시면 좀 더 구체적인 소스를 추천해 드릴 수 있을 것 같아요! 😊', additional_kwargs={}, response_metadata={'prompt_feedback': {'block_reason': 0, 'safety_ratings': []}, 'finish_reason': 'STOP', 'safety_ratings': []}, id='run-338416f1-5ae4-4dd5-92df-39c7c614fc05-0', usage_metadata={'input_tokens': 169, 'output_tokens': 531, 'total_tokens': 700, 'input_token_details': {'cache_read': 0}})}}, 'thread_id': '1', 'step': 7, 'parents': {}}, created_at='2025-03-21T13:44:35.540126+00:00', parent_config={'configurable': {'thread_id': '1', 'checkpoint_ns': '', 'checkpoint_id': '1f0065a9-e85c-67f0-8006-1f2f4d405ed4'}}, tasks=()),\n",
              " StateSnapshot(values={'messages': [HumanMessage(content='나는 오늘 점심에 우삼겹 포케를 먹었는데, 맛있었어.', additional_kwargs={}, response_metadata={}, id='feb82ba6-0540-4b77-8ed9-e37ec1e469b3'), AIMessage(content='우삼겹 포케! 정말 맛있겠네요! 어떤 토핑이 들어갔어요? 맛있었다니 저도 한번 먹어보고 싶어지네요! 😊', additional_kwargs={}, response_metadata={'prompt_feedback': {'block_reason': 0, 'safety_ratings': []}, 'finish_reason': 'STOP', 'safety_ratings': []}, id='run-aa21ed15-4fb0-4c88-9246-08a6976b6688-0', usage_metadata={'input_tokens': 22, 'output_tokens': 46, 'total_tokens': 68, 'input_token_details': {'cache_read': 0}}), HumanMessage(content='뭐 이것저것 많이 들어갔어. 소스가 맛있더라.', additional_kwargs={}, response_metadata={}, id='0bd731ba-4f37-4961-b14b-30e8f92683bc'), AIMessage(content='소스가 맛있었다니 정말 궁금하네요! 혹시 어떤 종류의 소스였는지 기억나세요? 예를 들어, 간장 베이스인지, 고추장 베이스인지, 아니면 마요네즈 베이스인지 같은 것들이요! 😋', additional_kwargs={}, response_metadata={'prompt_feedback': {'block_reason': 0, 'safety_ratings': []}, 'finish_reason': 'STOP', 'safety_ratings': []}, id='run-5ad09b3d-3985-4ae2-9272-e40a8767c097-0', usage_metadata={'input_tokens': 87, 'output_tokens': 71, 'total_tokens': 158, 'input_token_details': {'cache_read': 0}}), HumanMessage(content='어떤 소스가 가장 어울렸을까?', additional_kwargs={}, response_metadata={}, id='ca759cca-a421-41b5-900a-c0c338d2d2b5')]}, next=('call_model',), config={'configurable': {'thread_id': '1', 'checkpoint_ns': '', 'checkpoint_id': '1f0065a9-e85c-67f0-8006-1f2f4d405ed4'}}, metadata={'source': 'loop', 'writes': None, 'thread_id': '1', 'step': 6, 'parents': {}}, created_at='2025-03-21T13:44:32.487606+00:00', parent_config={'configurable': {'thread_id': '1', 'checkpoint_ns': '', 'checkpoint_id': '1f0065a9-e851-69eb-8005-818609b38b52'}}, tasks=(PregelTask(id='fd3cca4e-8978-4af9-2477-ff7303f6a41c', name='call_model', path=('__pregel_pull', 'call_model'), error=None, interrupts=(), state=None, result={'messages': AIMessage(content='우삼겹 포케에 어떤 소스가 가장 어울릴지는 정말 다양한 요소에 따라 달라질 수 있어요! 예를 들어, 어떤 종류의 야채와 곡물이 들어갔는지, 그리고 개인적인 취향에 따라서도 많이 달라지죠.\\n\\n하지만 일반적으로 우삼겹의 느끼함을 잡아주면서 풍미를 더해줄 수 있는 소스들을 몇 가지 추천해 드릴게요.\\n\\n*   **간장 베이스 소스:**\\n    *   **간장 + 참기름 + 다진 마늘 + 깨소금:** 기본적인 조합이지만 실패하기 어려운 맛이죠.\\n    *   **폰즈 소스:** 상큼한 맛이 우삼겹의 느끼함을 잡아줘서 깔끔하게 즐길 수 있어요.\\n    *   **데리야끼 소스:** 달콤 짭짤한 맛이 우삼겹과 잘 어울리고, 아이들도 좋아할 만한 맛이에요.\\n*   **고추장 베이스 소스:**\\n    *   **고추장 + 식초 + 설탕 + 다진 마늘:** 매콤하면서도 새콤달콤한 맛이 입맛을 돋우고, 우삼겹의 느끼함을 잡아줘요.\\n    *   **쌈장:** 한국인이라면 누구나 좋아하는 쌈장! 우삼겹과 쌈장의 조합은 말할 필요도 없죠.\\n*   **마요네즈 베이스 소스:**\\n    *   **스리라차 마요:** 매콤하면서도 부드러운 맛이 우삼겹과 잘 어울려요.\\n    *   **와사비 마요:** 톡 쏘는 와사비 향이 우삼겹의 느끼함을 잡아주고, 독특한 풍미를 더해줘요.\\n\\n이 외에도 땅콩 소스, 참깨 소스, 유자 소스 등 다양한 소스들이 우삼겹 포케와 잘 어울릴 수 있어요.\\n\\n혹시 어떤 종류의 야채나 곡물이 들어갔는지 알려주시면 좀 더 구체적인 소스를 추천해 드릴 수 있을 것 같아요! 😊', additional_kwargs={}, response_metadata={'prompt_feedback': {'block_reason': 0, 'safety_ratings': []}, 'finish_reason': 'STOP', 'safety_ratings': []}, id='run-338416f1-5ae4-4dd5-92df-39c7c614fc05-0', usage_metadata={'input_tokens': 169, 'output_tokens': 531, 'total_tokens': 700, 'input_token_details': {'cache_read': 0}})}),)),\n",
              " StateSnapshot(values={'messages': [HumanMessage(content='나는 오늘 점심에 우삼겹 포케를 먹었는데, 맛있었어.', additional_kwargs={}, response_metadata={}, id='feb82ba6-0540-4b77-8ed9-e37ec1e469b3'), AIMessage(content='우삼겹 포케! 정말 맛있겠네요! 어떤 토핑이 들어갔어요? 맛있었다니 저도 한번 먹어보고 싶어지네요! 😊', additional_kwargs={}, response_metadata={'prompt_feedback': {'block_reason': 0, 'safety_ratings': []}, 'finish_reason': 'STOP', 'safety_ratings': []}, id='run-aa21ed15-4fb0-4c88-9246-08a6976b6688-0', usage_metadata={'input_tokens': 22, 'output_tokens': 46, 'total_tokens': 68, 'input_token_details': {'cache_read': 0}}), HumanMessage(content='뭐 이것저것 많이 들어갔어. 소스가 맛있더라.', additional_kwargs={}, response_metadata={}, id='0bd731ba-4f37-4961-b14b-30e8f92683bc'), AIMessage(content='소스가 맛있었다니 정말 궁금하네요! 혹시 어떤 종류의 소스였는지 기억나세요? 예를 들어, 간장 베이스인지, 고추장 베이스인지, 아니면 마요네즈 베이스인지 같은 것들이요! 😋', additional_kwargs={}, response_metadata={'prompt_feedback': {'block_reason': 0, 'safety_ratings': []}, 'finish_reason': 'STOP', 'safety_ratings': []}, id='run-5ad09b3d-3985-4ae2-9272-e40a8767c097-0', usage_metadata={'input_tokens': 87, 'output_tokens': 71, 'total_tokens': 158, 'input_token_details': {'cache_read': 0}})]}, next=('__start__',), config={'configurable': {'thread_id': '1', 'checkpoint_ns': '', 'checkpoint_id': '1f0065a9-e851-69eb-8005-818609b38b52'}}, metadata={'source': 'input', 'writes': {'__start__': {'messages': [{'role': 'user', 'content': '어떤 소스가 가장 어울렸을까?'}]}}, 'thread_id': '1', 'step': 5, 'parents': {}}, created_at='2025-03-21T13:44:32.483145+00:00', parent_config={'configurable': {'thread_id': '1', 'checkpoint_ns': '', 'checkpoint_id': '1f0065a9-0b45-69aa-8004-d0a863aa9b07'}}, tasks=(PregelTask(id='1f78996e-1520-fd1e-096f-00a1fd94f04f', name='__start__', path=('__pregel_pull', '__start__'), error=None, interrupts=(), state=None, result={'messages': [{'role': 'user', 'content': '어떤 소스가 가장 어울렸을까?'}]}),)),\n",
              " StateSnapshot(values={'messages': [HumanMessage(content='나는 오늘 점심에 우삼겹 포케를 먹었는데, 맛있었어.', additional_kwargs={}, response_metadata={}, id='feb82ba6-0540-4b77-8ed9-e37ec1e469b3'), AIMessage(content='우삼겹 포케! 정말 맛있겠네요! 어떤 토핑이 들어갔어요? 맛있었다니 저도 한번 먹어보고 싶어지네요! 😊', additional_kwargs={}, response_metadata={'prompt_feedback': {'block_reason': 0, 'safety_ratings': []}, 'finish_reason': 'STOP', 'safety_ratings': []}, id='run-aa21ed15-4fb0-4c88-9246-08a6976b6688-0', usage_metadata={'input_tokens': 22, 'output_tokens': 46, 'total_tokens': 68, 'input_token_details': {'cache_read': 0}}), HumanMessage(content='뭐 이것저것 많이 들어갔어. 소스가 맛있더라.', additional_kwargs={}, response_metadata={}, id='0bd731ba-4f37-4961-b14b-30e8f92683bc'), AIMessage(content='소스가 맛있었다니 정말 궁금하네요! 혹시 어떤 종류의 소스였는지 기억나세요? 예를 들어, 간장 베이스인지, 고추장 베이스인지, 아니면 마요네즈 베이스인지 같은 것들이요! 😋', additional_kwargs={}, response_metadata={'prompt_feedback': {'block_reason': 0, 'safety_ratings': []}, 'finish_reason': 'STOP', 'safety_ratings': []}, id='run-5ad09b3d-3985-4ae2-9272-e40a8767c097-0', usage_metadata={'input_tokens': 87, 'output_tokens': 71, 'total_tokens': 158, 'input_token_details': {'cache_read': 0}})]}, next=(), config={'configurable': {'thread_id': '1', 'checkpoint_ns': '', 'checkpoint_id': '1f0065a9-0b45-69aa-8004-d0a863aa9b07'}}, metadata={'source': 'loop', 'writes': {'call_model': {'messages': AIMessage(content='소스가 맛있었다니 정말 궁금하네요! 혹시 어떤 종류의 소스였는지 기억나세요? 예를 들어, 간장 베이스인지, 고추장 베이스인지, 아니면 마요네즈 베이스인지 같은 것들이요! 😋', additional_kwargs={}, response_metadata={'prompt_feedback': {'block_reason': 0, 'safety_ratings': []}, 'finish_reason': 'STOP', 'safety_ratings': []}, id='run-5ad09b3d-3985-4ae2-9272-e40a8767c097-0', usage_metadata={'input_tokens': 87, 'output_tokens': 71, 'total_tokens': 158, 'input_token_details': {'cache_read': 0}})}}, 'thread_id': '1', 'step': 4, 'parents': {}}, created_at='2025-03-21T13:44:09.304704+00:00', parent_config={'configurable': {'thread_id': '1', 'checkpoint_ns': '', 'checkpoint_id': '1f0065a9-04c5-6ae3-8003-9d41c91ec711'}}, tasks=()),\n",
              " StateSnapshot(values={'messages': [HumanMessage(content='나는 오늘 점심에 우삼겹 포케를 먹었는데, 맛있었어.', additional_kwargs={}, response_metadata={}, id='feb82ba6-0540-4b77-8ed9-e37ec1e469b3'), AIMessage(content='우삼겹 포케! 정말 맛있겠네요! 어떤 토핑이 들어갔어요? 맛있었다니 저도 한번 먹어보고 싶어지네요! 😊', additional_kwargs={}, response_metadata={'prompt_feedback': {'block_reason': 0, 'safety_ratings': []}, 'finish_reason': 'STOP', 'safety_ratings': []}, id='run-aa21ed15-4fb0-4c88-9246-08a6976b6688-0', usage_metadata={'input_tokens': 22, 'output_tokens': 46, 'total_tokens': 68, 'input_token_details': {'cache_read': 0}}), HumanMessage(content='뭐 이것저것 많이 들어갔어. 소스가 맛있더라.', additional_kwargs={}, response_metadata={}, id='0bd731ba-4f37-4961-b14b-30e8f92683bc')]}, next=('call_model',), config={'configurable': {'thread_id': '1', 'checkpoint_ns': '', 'checkpoint_id': '1f0065a9-04c5-6ae3-8003-9d41c91ec711'}}, metadata={'source': 'loop', 'writes': None, 'thread_id': '1', 'step': 3, 'parents': {}}, created_at='2025-03-21T13:44:08.623161+00:00', parent_config={'configurable': {'thread_id': '1', 'checkpoint_ns': '', 'checkpoint_id': '1f0065a9-04b8-69bb-8002-1d3366e51a48'}}, tasks=(PregelTask(id='314c232b-b7b7-8f75-910d-d7f6c5b026cb', name='call_model', path=('__pregel_pull', 'call_model'), error=None, interrupts=(), state=None, result={'messages': AIMessage(content='소스가 맛있었다니 정말 궁금하네요! 혹시 어떤 종류의 소스였는지 기억나세요? 예를 들어, 간장 베이스인지, 고추장 베이스인지, 아니면 마요네즈 베이스인지 같은 것들이요! 😋', additional_kwargs={}, response_metadata={'prompt_feedback': {'block_reason': 0, 'safety_ratings': []}, 'finish_reason': 'STOP', 'safety_ratings': []}, id='run-5ad09b3d-3985-4ae2-9272-e40a8767c097-0', usage_metadata={'input_tokens': 87, 'output_tokens': 71, 'total_tokens': 158, 'input_token_details': {'cache_read': 0}})}),)),\n",
              " StateSnapshot(values={'messages': [HumanMessage(content='나는 오늘 점심에 우삼겹 포케를 먹었는데, 맛있었어.', additional_kwargs={}, response_metadata={}, id='feb82ba6-0540-4b77-8ed9-e37ec1e469b3'), AIMessage(content='우삼겹 포케! 정말 맛있겠네요! 어떤 토핑이 들어갔어요? 맛있었다니 저도 한번 먹어보고 싶어지네요! 😊', additional_kwargs={}, response_metadata={'prompt_feedback': {'block_reason': 0, 'safety_ratings': []}, 'finish_reason': 'STOP', 'safety_ratings': []}, id='run-aa21ed15-4fb0-4c88-9246-08a6976b6688-0', usage_metadata={'input_tokens': 22, 'output_tokens': 46, 'total_tokens': 68, 'input_token_details': {'cache_read': 0}})]}, next=('__start__',), config={'configurable': {'thread_id': '1', 'checkpoint_ns': '', 'checkpoint_id': '1f0065a9-04b8-69bb-8002-1d3366e51a48'}}, metadata={'source': 'input', 'writes': {'__start__': {'messages': [{'role': 'user', 'content': '뭐 이것저것 많이 들어갔어. 소스가 맛있더라.'}]}}, 'thread_id': '1', 'step': 2, 'parents': {}}, created_at='2025-03-21T13:44:08.617803+00:00', parent_config={'configurable': {'thread_id': '1', 'checkpoint_ns': '', 'checkpoint_id': '1f0065a6-fcee-66ae-8001-4d575cbe0a29'}}, tasks=(PregelTask(id='ef25fb15-713d-edeb-50c0-5619b1b85bd6', name='__start__', path=('__pregel_pull', '__start__'), error=None, interrupts=(), state=None, result={'messages': [{'role': 'user', 'content': '뭐 이것저것 많이 들어갔어. 소스가 맛있더라.'}]}),)),\n",
              " StateSnapshot(values={'messages': [HumanMessage(content='나는 오늘 점심에 우삼겹 포케를 먹었는데, 맛있었어.', additional_kwargs={}, response_metadata={}, id='feb82ba6-0540-4b77-8ed9-e37ec1e469b3'), AIMessage(content='우삼겹 포케! 정말 맛있겠네요! 어떤 토핑이 들어갔어요? 맛있었다니 저도 한번 먹어보고 싶어지네요! 😊', additional_kwargs={}, response_metadata={'prompt_feedback': {'block_reason': 0, 'safety_ratings': []}, 'finish_reason': 'STOP', 'safety_ratings': []}, id='run-aa21ed15-4fb0-4c88-9246-08a6976b6688-0', usage_metadata={'input_tokens': 22, 'output_tokens': 46, 'total_tokens': 68, 'input_token_details': {'cache_read': 0}})]}, next=(), config={'configurable': {'thread_id': '1', 'checkpoint_ns': '', 'checkpoint_id': '1f0065a6-fcee-66ae-8001-4d575cbe0a29'}}, metadata={'source': 'loop', 'writes': {'call_model': {'messages': AIMessage(content='우삼겹 포케! 정말 맛있겠네요! 어떤 토핑이 들어갔어요? 맛있었다니 저도 한번 먹어보고 싶어지네요! 😊', additional_kwargs={}, response_metadata={'prompt_feedback': {'block_reason': 0, 'safety_ratings': []}, 'finish_reason': 'STOP', 'safety_ratings': []}, id='run-aa21ed15-4fb0-4c88-9246-08a6976b6688-0', usage_metadata={'input_tokens': 22, 'output_tokens': 46, 'total_tokens': 68, 'input_token_details': {'cache_read': 0}})}}, 'thread_id': '1', 'step': 1, 'parents': {}}, created_at='2025-03-21T13:43:14.113891+00:00', parent_config={'configurable': {'thread_id': '1', 'checkpoint_ns': '', 'checkpoint_id': '1f0065a6-bdbb-6546-8000-2c83a95620b1'}}, tasks=()),\n",
              " StateSnapshot(values={'messages': [HumanMessage(content='나는 오늘 점심에 우삼겹 포케를 먹었는데, 맛있었어.', additional_kwargs={}, response_metadata={}, id='feb82ba6-0540-4b77-8ed9-e37ec1e469b3')]}, next=('call_model',), config={'configurable': {'thread_id': '1', 'checkpoint_ns': '', 'checkpoint_id': '1f0065a6-bdbb-6546-8000-2c83a95620b1'}}, metadata={'source': 'loop', 'writes': None, 'thread_id': '1', 'step': 0, 'parents': {}}, created_at='2025-03-21T13:43:07.486942+00:00', parent_config={'configurable': {'thread_id': '1', 'checkpoint_ns': '', 'checkpoint_id': '1f0065a6-bdb2-6daf-bfff-e1a1a360b21c'}}, tasks=(PregelTask(id='78fb706b-9271-50ae-ef1e-c77d612c2ece', name='call_model', path=('__pregel_pull', 'call_model'), error=None, interrupts=(), state=None, result={'messages': AIMessage(content='우삼겹 포케! 정말 맛있겠네요! 어떤 토핑이 들어갔어요? 맛있었다니 저도 한번 먹어보고 싶어지네요! 😊', additional_kwargs={}, response_metadata={'prompt_feedback': {'block_reason': 0, 'safety_ratings': []}, 'finish_reason': 'STOP', 'safety_ratings': []}, id='run-aa21ed15-4fb0-4c88-9246-08a6976b6688-0', usage_metadata={'input_tokens': 22, 'output_tokens': 46, 'total_tokens': 68, 'input_token_details': {'cache_read': 0}})}),)),\n",
              " StateSnapshot(values={'messages': []}, next=('__start__',), config={'configurable': {'thread_id': '1', 'checkpoint_ns': '', 'checkpoint_id': '1f0065a6-bdb2-6daf-bfff-e1a1a360b21c'}}, metadata={'source': 'input', 'writes': {'__start__': {'messages': [HumanMessage(content='나는 오늘 점심에 우삼겹 포케를 먹었는데, 맛있었어.', additional_kwargs={}, response_metadata={})]}}, 'thread_id': '1', 'step': -1, 'parents': {}}, created_at='2025-03-21T13:43:07.483474+00:00', parent_config=None, tasks=(PregelTask(id='bf4c1758-cfc4-8436-b134-ff9e4c4ca66d', name='__start__', path=('__pregel_pull', '__start__'), error=None, interrupts=(), state=None, result={'messages': [HumanMessage(content='나는 오늘 점심에 우삼겹 포케를 먹었는데, 맛있었어.', additional_kwargs={}, response_metadata={}, id='feb82ba6-0540-4b77-8ed9-e37ec1e469b3')]}),))]"
            ]
          },
          "metadata": {},
          "execution_count": 13
        }
      ],
      "source": [
        "history = list(graph.get_state_history(config))\n",
        "history"
      ]
    },
    {
      "cell_type": "code",
      "execution_count": null,
      "metadata": {
        "id": "qzzjFMpKc_YQ",
        "colab": {
          "base_uri": "https://localhost:8080/"
        },
        "outputId": "679acb5a-efe8-455c-830f-a0f9602e5fbe"
      },
      "outputs": [
        {
          "output_type": "stream",
          "name": "stdout",
          "text": [
            "{'configurable': {'thread_id': '1', 'checkpoint_ns': '', 'checkpoint_id': '1f0065aa-0578-6ee0-8007-ebeb170e438b'}} 6\n",
            "{'configurable': {'thread_id': '1', 'checkpoint_ns': '', 'checkpoint_id': '1f0065a9-e85c-67f0-8006-1f2f4d405ed4'}} 5\n",
            "{'configurable': {'thread_id': '1', 'checkpoint_ns': '', 'checkpoint_id': '1f0065a9-e851-69eb-8005-818609b38b52'}} 4\n",
            "{'configurable': {'thread_id': '1', 'checkpoint_ns': '', 'checkpoint_id': '1f0065a9-0b45-69aa-8004-d0a863aa9b07'}} 4\n",
            "{'configurable': {'thread_id': '1', 'checkpoint_ns': '', 'checkpoint_id': '1f0065a9-04c5-6ae3-8003-9d41c91ec711'}} 3\n",
            "{'configurable': {'thread_id': '1', 'checkpoint_ns': '', 'checkpoint_id': '1f0065a9-04b8-69bb-8002-1d3366e51a48'}} 2\n",
            "{'configurable': {'thread_id': '1', 'checkpoint_ns': '', 'checkpoint_id': '1f0065a6-fcee-66ae-8001-4d575cbe0a29'}} 2\n",
            "{'configurable': {'thread_id': '1', 'checkpoint_ns': '', 'checkpoint_id': '1f0065a6-bdbb-6546-8000-2c83a95620b1'}} 1\n",
            "{'configurable': {'thread_id': '1', 'checkpoint_ns': '', 'checkpoint_id': '1f0065a6-bdb2-6daf-bfff-e1a1a360b21c'}} 0\n"
          ]
        }
      ],
      "source": [
        "for i in range(len(history)):\n",
        "    print(history[i].config, len(history[i].values['messages']))\n",
        "    # 메시지 개수와 config 정보"
      ]
    },
    {
      "cell_type": "markdown",
      "metadata": {
        "id": "AaT5t16hc_YQ"
      },
      "source": [
        "## Replay\n",
        "\n",
        "위에서 얻은 Snapshot을 활용하면, 특정 시점부터 시작하는 것도 가능합니다.   "
      ]
    },
    {
      "cell_type": "code",
      "execution_count": null,
      "metadata": {
        "id": "0cB4KuZnc_YQ",
        "colab": {
          "base_uri": "https://localhost:8080/"
        },
        "outputId": "cec067f6-c3a1-4ef6-8a83-5c6b2670ae74"
      },
      "outputs": [
        {
          "output_type": "execute_result",
          "data": {
            "text/plain": [
              "{'messages': [HumanMessage(content='나는 오늘 점심에 우삼겹 포케를 먹었는데, 맛있었어.', additional_kwargs={}, response_metadata={}, id='feb82ba6-0540-4b77-8ed9-e37ec1e469b3'),\n",
              "  AIMessage(content='우삼겹 포케! 정말 맛있겠네요! 어떤 토핑이 들어갔어요? 맛있었다니 저도 한번 먹어보고 싶어지네요! 😊', additional_kwargs={}, response_metadata={'prompt_feedback': {'block_reason': 0, 'safety_ratings': []}, 'finish_reason': 'STOP', 'safety_ratings': []}, id='run-aa21ed15-4fb0-4c88-9246-08a6976b6688-0', usage_metadata={'input_tokens': 22, 'output_tokens': 46, 'total_tokens': 68, 'input_token_details': {'cache_read': 0}}),\n",
              "  HumanMessage(content='뭐 이것저것 많이 들어갔어. 소스가 맛있더라.', additional_kwargs={}, response_metadata={}, id='0bd731ba-4f37-4961-b14b-30e8f92683bc'),\n",
              "  AIMessage(content='소스가 맛있었다니 정말 궁금하네요! 혹시 어떤 종류의 소스였는지 기억나세요? 예를 들어, 간장 베이스인지, 고추장 베이스인지, 아니면 마요네즈 베이스인지 같은 것들이요! 😋', additional_kwargs={}, response_metadata={'prompt_feedback': {'block_reason': 0, 'safety_ratings': []}, 'finish_reason': 'STOP', 'safety_ratings': []}, id='run-5ad09b3d-3985-4ae2-9272-e40a8767c097-0', usage_metadata={'input_tokens': 87, 'output_tokens': 71, 'total_tokens': 158, 'input_token_details': {'cache_read': 0}}),\n",
              "  HumanMessage(content='어떤 소스가 가장 어울렸을까?', additional_kwargs={}, response_metadata={}, id='ca759cca-a421-41b5-900a-c0c338d2d2b5')]}"
            ]
          },
          "metadata": {},
          "execution_count": 15
        }
      ],
      "source": [
        "history[1].values"
      ]
    },
    {
      "cell_type": "markdown",
      "metadata": {
        "id": "ALUgDC5Uc_YQ"
      },
      "source": [
        "HumanMessage의 특정 시점부터 재시작합니다."
      ]
    },
    {
      "cell_type": "code",
      "execution_count": null,
      "metadata": {
        "id": "alid1Crjc_YQ",
        "colab": {
          "base_uri": "https://localhost:8080/"
        },
        "outputId": "345bf8b1-dcbb-4665-c46a-c760d0aa2002"
      },
      "outputs": [
        {
          "output_type": "execute_result",
          "data": {
            "text/plain": [
              "{'messages': [HumanMessage(content='나는 오늘 점심에 우삼겹 포케를 먹었는데, 맛있었어.', additional_kwargs={}, response_metadata={}, id='feb82ba6-0540-4b77-8ed9-e37ec1e469b3'),\n",
              "  AIMessage(content='우삼겹 포케! 정말 맛있겠네요! 어떤 토핑이 들어갔어요? 맛있었다니 저도 한번 먹어보고 싶어지네요! 😊', additional_kwargs={}, response_metadata={'prompt_feedback': {'block_reason': 0, 'safety_ratings': []}, 'finish_reason': 'STOP', 'safety_ratings': []}, id='run-aa21ed15-4fb0-4c88-9246-08a6976b6688-0', usage_metadata={'input_tokens': 22, 'output_tokens': 46, 'total_tokens': 68, 'input_token_details': {'cache_read': 0}}),\n",
              "  HumanMessage(content='뭐 이것저것 많이 들어갔어. 소스가 맛있더라.', additional_kwargs={}, response_metadata={}, id='0bd731ba-4f37-4961-b14b-30e8f92683bc'),\n",
              "  AIMessage(content='소스가 맛있었다니 정말 궁금하네요! 혹시 어떤 종류의 소스였는지 기억나세요? 예를 들어, 간장 베이스인지, 고추장 베이스인지, 아니면 마요네즈 베이스인지 같은 것들이요! 😋', additional_kwargs={}, response_metadata={'prompt_feedback': {'block_reason': 0, 'safety_ratings': []}, 'finish_reason': 'STOP', 'safety_ratings': []}, id='run-5ad09b3d-3985-4ae2-9272-e40a8767c097-0', usage_metadata={'input_tokens': 87, 'output_tokens': 71, 'total_tokens': 158, 'input_token_details': {'cache_read': 0}}),\n",
              "  HumanMessage(content='어떤 소스가 가장 어울렸을까?', additional_kwargs={}, response_metadata={}, id='ca759cca-a421-41b5-900a-c0c338d2d2b5'),\n",
              "  AIMessage(content=\"우삼겹 포케에 어울리는 소스는 정말 다양해서 어떤 게 가장 '최고'라고 단정하기는 어렵지만, 몇 가지 인기 있는 조합과 특징을 알려드릴게요. 어떤 맛을 선호하는지에 따라 선택하시면 좋을 것 같아요!\\n\\n**1. 간장 베이스 소스:**\\n\\n*   **특징:** 짭짤하고 감칠맛이 돌아서 우삼겹의 고소한 맛과 잘 어울립니다. 참기름이나 깨를 더하면 더욱 풍미가 깊어집니다.\\n*   **예시:** 간장 + 미림 + 설탕 + 다진 마늘 + 참기름 + 깨\\n\\n**2. 매콤한 고추장 베이스 소스:**\\n\\n*   **특징:** 느끼함을 잡아주고 입맛을 돋우는 매력이 있습니다. 우삼겹의 기름진 맛과 찰떡궁합!\\n*   **예시:** 고추장 + 식초 + 설탕 + 다진 마늘 + 참기름 + 깨\\n\\n**3. 마요네즈 베이스 소스:**\\n\\n*   **특징:** 부드럽고 고소한 맛이 강해서, 좀 더 크리미한 포케를 즐기고 싶을 때 좋습니다. 와사비나 스리라차 소스를 살짝 더하면 느끼함을 줄일 수 있습니다.\\n*   **예시:** 마요네즈 + 레몬즙 + 꿀 (또는 설탕) + 소금 + 후추\\n\\n**4. 스리라차 마요 소스:**\\n\\n*   **특징:** 마요네즈의 고소함과 스리라차의 매콤함이 조화롭게 어우러져, 느끼함 없이 깔끔하게 즐길 수 있습니다.\\n*   **예시:** 마요네즈 + 스리라차 소스 + 레몬즙\\n\\n**5. 참깨 드레싱:**\\n\\n*   **특징:** 고소하고 담백한 맛으로, 다른 재료들의 맛을 해치지 않으면서 은은하게 풍미를 더해줍니다.\\n*   **예시:** 시판 참깨 드레싱 또는 직접 만들기 (참깨 + 간장 + 식초 + 설탕 + 참기름)\\n\\n**팁:**\\n\\n*   **토핑에 따라:** 아보카도나 해초류가 많이 들어갔다면 간장이나 참깨 드레싱이, 신선한 채소가 많다면 매콤한 고추장 베이스 소스가 잘 어울릴 수 있습니다.\\n*   **개인 취향:** 결국 가장 중요한 건 본인의 입맛입니다! 위에 제시된 소스들을 참고해서, 자신만의 최적의 조합을 찾아보세요.\\n\\n혹시 드셨던 포케에 어떤 토핑이 들어갔었는지 알려주시면, 더 잘 어울리는 소스를 추천해 드릴 수 있어요! 😊\", additional_kwargs={}, response_metadata={'prompt_feedback': {'block_reason': 0, 'safety_ratings': []}, 'finish_reason': 'STOP', 'safety_ratings': []}, id='run-e3579026-09ae-43e6-a9b3-a57e59ddb389-0', usage_metadata={'input_tokens': 169, 'output_tokens': 688, 'total_tokens': 857, 'input_token_details': {'cache_read': 0}})]}"
            ]
          },
          "metadata": {},
          "execution_count": 16
        }
      ],
      "source": [
        "graph.invoke(None, config = history[1].config)"
      ]
    },
    {
      "cell_type": "markdown",
      "metadata": {
        "id": "ciIXhCwec_YQ"
      },
      "source": [
        "Replay를 수행하면, graph의 history에는 해당 실행 결과가 추가됩니다."
      ]
    },
    {
      "cell_type": "code",
      "execution_count": null,
      "metadata": {
        "id": "V2TlIIYkc_YQ",
        "colab": {
          "base_uri": "https://localhost:8080/"
        },
        "outputId": "9d1750ff-7c0c-419d-f69e-522a2928231f"
      },
      "outputs": [
        {
          "output_type": "execute_result",
          "data": {
            "text/plain": [
              "[StateSnapshot(values={'messages': [HumanMessage(content='나는 오늘 점심에 우삼겹 포케를 먹었는데, 맛있었어.', additional_kwargs={}, response_metadata={}, id='feb82ba6-0540-4b77-8ed9-e37ec1e469b3'), AIMessage(content='우삼겹 포케! 정말 맛있겠네요! 어떤 토핑이 들어갔어요? 맛있었다니 저도 한번 먹어보고 싶어지네요! 😊', additional_kwargs={}, response_metadata={'prompt_feedback': {'block_reason': 0, 'safety_ratings': []}, 'finish_reason': 'STOP', 'safety_ratings': []}, id='run-aa21ed15-4fb0-4c88-9246-08a6976b6688-0', usage_metadata={'input_tokens': 22, 'output_tokens': 46, 'total_tokens': 68, 'input_token_details': {'cache_read': 0}}), HumanMessage(content='뭐 이것저것 많이 들어갔어. 소스가 맛있더라.', additional_kwargs={}, response_metadata={}, id='0bd731ba-4f37-4961-b14b-30e8f92683bc'), AIMessage(content='소스가 맛있었다니 정말 궁금하네요! 혹시 어떤 종류의 소스였는지 기억나세요? 예를 들어, 간장 베이스인지, 고추장 베이스인지, 아니면 마요네즈 베이스인지 같은 것들이요! 😋', additional_kwargs={}, response_metadata={'prompt_feedback': {'block_reason': 0, 'safety_ratings': []}, 'finish_reason': 'STOP', 'safety_ratings': []}, id='run-5ad09b3d-3985-4ae2-9272-e40a8767c097-0', usage_metadata={'input_tokens': 87, 'output_tokens': 71, 'total_tokens': 158, 'input_token_details': {'cache_read': 0}}), HumanMessage(content='어떤 소스가 가장 어울렸을까?', additional_kwargs={}, response_metadata={}, id='ca759cca-a421-41b5-900a-c0c338d2d2b5'), AIMessage(content=\"우삼겹 포케에 어울리는 소스는 정말 다양해서 어떤 게 가장 '최고'라고 단정하기는 어렵지만, 몇 가지 인기 있는 조합과 특징을 알려드릴게요. 어떤 맛을 선호하는지에 따라 선택하시면 좋을 것 같아요!\\n\\n**1. 간장 베이스 소스:**\\n\\n*   **특징:** 짭짤하고 감칠맛이 돌아서 우삼겹의 고소한 맛과 잘 어울립니다. 참기름이나 깨를 더하면 더욱 풍미가 깊어집니다.\\n*   **예시:** 간장 + 미림 + 설탕 + 다진 마늘 + 참기름 + 깨\\n\\n**2. 매콤한 고추장 베이스 소스:**\\n\\n*   **특징:** 느끼함을 잡아주고 입맛을 돋우는 매력이 있습니다. 우삼겹의 기름진 맛과 찰떡궁합!\\n*   **예시:** 고추장 + 식초 + 설탕 + 다진 마늘 + 참기름 + 깨\\n\\n**3. 마요네즈 베이스 소스:**\\n\\n*   **특징:** 부드럽고 고소한 맛이 강해서, 좀 더 크리미한 포케를 즐기고 싶을 때 좋습니다. 와사비나 스리라차 소스를 살짝 더하면 느끼함을 줄일 수 있습니다.\\n*   **예시:** 마요네즈 + 레몬즙 + 꿀 (또는 설탕) + 소금 + 후추\\n\\n**4. 스리라차 마요 소스:**\\n\\n*   **특징:** 마요네즈의 고소함과 스리라차의 매콤함이 조화롭게 어우러져, 느끼함 없이 깔끔하게 즐길 수 있습니다.\\n*   **예시:** 마요네즈 + 스리라차 소스 + 레몬즙\\n\\n**5. 참깨 드레싱:**\\n\\n*   **특징:** 고소하고 담백한 맛으로, 다른 재료들의 맛을 해치지 않으면서 은은하게 풍미를 더해줍니다.\\n*   **예시:** 시판 참깨 드레싱 또는 직접 만들기 (참깨 + 간장 + 식초 + 설탕 + 참기름)\\n\\n**팁:**\\n\\n*   **토핑에 따라:** 아보카도나 해초류가 많이 들어갔다면 간장이나 참깨 드레싱이, 신선한 채소가 많다면 매콤한 고추장 베이스 소스가 잘 어울릴 수 있습니다.\\n*   **개인 취향:** 결국 가장 중요한 건 본인의 입맛입니다! 위에 제시된 소스들을 참고해서, 자신만의 최적의 조합을 찾아보세요.\\n\\n혹시 드셨던 포케에 어떤 토핑이 들어갔었는지 알려주시면, 더 잘 어울리는 소스를 추천해 드릴 수 있어요! 😊\", additional_kwargs={}, response_metadata={'prompt_feedback': {'block_reason': 0, 'safety_ratings': []}, 'finish_reason': 'STOP', 'safety_ratings': []}, id='run-e3579026-09ae-43e6-a9b3-a57e59ddb389-0', usage_metadata={'input_tokens': 169, 'output_tokens': 688, 'total_tokens': 857, 'input_token_details': {'cache_read': 0}})]}, next=(), config={'configurable': {'thread_id': '1', 'checkpoint_ns': '', 'checkpoint_id': '1f0065b6-29f9-6f3b-8007-b753b7605042'}}, metadata={'source': 'loop', 'writes': {'call_model': {'messages': AIMessage(content=\"우삼겹 포케에 어울리는 소스는 정말 다양해서 어떤 게 가장 '최고'라고 단정하기는 어렵지만, 몇 가지 인기 있는 조합과 특징을 알려드릴게요. 어떤 맛을 선호하는지에 따라 선택하시면 좋을 것 같아요!\\n\\n**1. 간장 베이스 소스:**\\n\\n*   **특징:** 짭짤하고 감칠맛이 돌아서 우삼겹의 고소한 맛과 잘 어울립니다. 참기름이나 깨를 더하면 더욱 풍미가 깊어집니다.\\n*   **예시:** 간장 + 미림 + 설탕 + 다진 마늘 + 참기름 + 깨\\n\\n**2. 매콤한 고추장 베이스 소스:**\\n\\n*   **특징:** 느끼함을 잡아주고 입맛을 돋우는 매력이 있습니다. 우삼겹의 기름진 맛과 찰떡궁합!\\n*   **예시:** 고추장 + 식초 + 설탕 + 다진 마늘 + 참기름 + 깨\\n\\n**3. 마요네즈 베이스 소스:**\\n\\n*   **특징:** 부드럽고 고소한 맛이 강해서, 좀 더 크리미한 포케를 즐기고 싶을 때 좋습니다. 와사비나 스리라차 소스를 살짝 더하면 느끼함을 줄일 수 있습니다.\\n*   **예시:** 마요네즈 + 레몬즙 + 꿀 (또는 설탕) + 소금 + 후추\\n\\n**4. 스리라차 마요 소스:**\\n\\n*   **특징:** 마요네즈의 고소함과 스리라차의 매콤함이 조화롭게 어우러져, 느끼함 없이 깔끔하게 즐길 수 있습니다.\\n*   **예시:** 마요네즈 + 스리라차 소스 + 레몬즙\\n\\n**5. 참깨 드레싱:**\\n\\n*   **특징:** 고소하고 담백한 맛으로, 다른 재료들의 맛을 해치지 않으면서 은은하게 풍미를 더해줍니다.\\n*   **예시:** 시판 참깨 드레싱 또는 직접 만들기 (참깨 + 간장 + 식초 + 설탕 + 참기름)\\n\\n**팁:**\\n\\n*   **토핑에 따라:** 아보카도나 해초류가 많이 들어갔다면 간장이나 참깨 드레싱이, 신선한 채소가 많다면 매콤한 고추장 베이스 소스가 잘 어울릴 수 있습니다.\\n*   **개인 취향:** 결국 가장 중요한 건 본인의 입맛입니다! 위에 제시된 소스들을 참고해서, 자신만의 최적의 조합을 찾아보세요.\\n\\n혹시 드셨던 포케에 어떤 토핑이 들어갔었는지 알려주시면, 더 잘 어울리는 소스를 추천해 드릴 수 있어요! 😊\", additional_kwargs={}, response_metadata={'prompt_feedback': {'block_reason': 0, 'safety_ratings': []}, 'finish_reason': 'STOP', 'safety_ratings': []}, id='run-e3579026-09ae-43e6-a9b3-a57e59ddb389-0', usage_metadata={'input_tokens': 169, 'output_tokens': 688, 'total_tokens': 857, 'input_token_details': {'cache_read': 0}})}}, 'thread_id': '1', 'checkpoint_ns': '', 'checkpoint_id': '1f0065a9-e85c-67f0-8006-1f2f4d405ed4', 'step': 7, 'parents': {}}, created_at='2025-03-21T13:50:01.490386+00:00', parent_config={'configurable': {'thread_id': '1', 'checkpoint_ns': '', 'checkpoint_id': '1f0065a9-e85c-67f0-8006-1f2f4d405ed4'}}, tasks=()),\n",
              " StateSnapshot(values={'messages': [HumanMessage(content='나는 오늘 점심에 우삼겹 포케를 먹었는데, 맛있었어.', additional_kwargs={}, response_metadata={}, id='feb82ba6-0540-4b77-8ed9-e37ec1e469b3'), AIMessage(content='우삼겹 포케! 정말 맛있겠네요! 어떤 토핑이 들어갔어요? 맛있었다니 저도 한번 먹어보고 싶어지네요! 😊', additional_kwargs={}, response_metadata={'prompt_feedback': {'block_reason': 0, 'safety_ratings': []}, 'finish_reason': 'STOP', 'safety_ratings': []}, id='run-aa21ed15-4fb0-4c88-9246-08a6976b6688-0', usage_metadata={'input_tokens': 22, 'output_tokens': 46, 'total_tokens': 68, 'input_token_details': {'cache_read': 0}}), HumanMessage(content='뭐 이것저것 많이 들어갔어. 소스가 맛있더라.', additional_kwargs={}, response_metadata={}, id='0bd731ba-4f37-4961-b14b-30e8f92683bc'), AIMessage(content='소스가 맛있었다니 정말 궁금하네요! 혹시 어떤 종류의 소스였는지 기억나세요? 예를 들어, 간장 베이스인지, 고추장 베이스인지, 아니면 마요네즈 베이스인지 같은 것들이요! 😋', additional_kwargs={}, response_metadata={'prompt_feedback': {'block_reason': 0, 'safety_ratings': []}, 'finish_reason': 'STOP', 'safety_ratings': []}, id='run-5ad09b3d-3985-4ae2-9272-e40a8767c097-0', usage_metadata={'input_tokens': 87, 'output_tokens': 71, 'total_tokens': 158, 'input_token_details': {'cache_read': 0}}), HumanMessage(content='어떤 소스가 가장 어울렸을까?', additional_kwargs={}, response_metadata={}, id='ca759cca-a421-41b5-900a-c0c338d2d2b5'), AIMessage(content='우삼겹 포케에 어떤 소스가 가장 어울릴지는 정말 다양한 요소에 따라 달라질 수 있어요! 예를 들어, 어떤 종류의 야채와 곡물이 들어갔는지, 그리고 개인적인 취향에 따라서도 많이 달라지죠.\\n\\n하지만 일반적으로 우삼겹의 느끼함을 잡아주면서 풍미를 더해줄 수 있는 소스들을 몇 가지 추천해 드릴게요.\\n\\n*   **간장 베이스 소스:**\\n    *   **간장 + 참기름 + 다진 마늘 + 깨소금:** 기본적인 조합이지만 실패하기 어려운 맛이죠.\\n    *   **폰즈 소스:** 상큼한 맛이 우삼겹의 느끼함을 잡아줘서 깔끔하게 즐길 수 있어요.\\n    *   **데리야끼 소스:** 달콤 짭짤한 맛이 우삼겹과 잘 어울리고, 아이들도 좋아할 만한 맛이에요.\\n*   **고추장 베이스 소스:**\\n    *   **고추장 + 식초 + 설탕 + 다진 마늘:** 매콤하면서도 새콤달콤한 맛이 입맛을 돋우고, 우삼겹의 느끼함을 잡아줘요.\\n    *   **쌈장:** 한국인이라면 누구나 좋아하는 쌈장! 우삼겹과 쌈장의 조합은 말할 필요도 없죠.\\n*   **마요네즈 베이스 소스:**\\n    *   **스리라차 마요:** 매콤하면서도 부드러운 맛이 우삼겹과 잘 어울려요.\\n    *   **와사비 마요:** 톡 쏘는 와사비 향이 우삼겹의 느끼함을 잡아주고, 독특한 풍미를 더해줘요.\\n\\n이 외에도 땅콩 소스, 참깨 소스, 유자 소스 등 다양한 소스들이 우삼겹 포케와 잘 어울릴 수 있어요.\\n\\n혹시 어떤 종류의 야채나 곡물이 들어갔는지 알려주시면 좀 더 구체적인 소스를 추천해 드릴 수 있을 것 같아요! 😊', additional_kwargs={}, response_metadata={'prompt_feedback': {'block_reason': 0, 'safety_ratings': []}, 'finish_reason': 'STOP', 'safety_ratings': []}, id='run-338416f1-5ae4-4dd5-92df-39c7c614fc05-0', usage_metadata={'input_tokens': 169, 'output_tokens': 531, 'total_tokens': 700, 'input_token_details': {'cache_read': 0}})]}, next=(), config={'configurable': {'thread_id': '1', 'checkpoint_ns': '', 'checkpoint_id': '1f0065aa-0578-6ee0-8007-ebeb170e438b'}}, metadata={'source': 'loop', 'writes': {'call_model': {'messages': AIMessage(content='우삼겹 포케에 어떤 소스가 가장 어울릴지는 정말 다양한 요소에 따라 달라질 수 있어요! 예를 들어, 어떤 종류의 야채와 곡물이 들어갔는지, 그리고 개인적인 취향에 따라서도 많이 달라지죠.\\n\\n하지만 일반적으로 우삼겹의 느끼함을 잡아주면서 풍미를 더해줄 수 있는 소스들을 몇 가지 추천해 드릴게요.\\n\\n*   **간장 베이스 소스:**\\n    *   **간장 + 참기름 + 다진 마늘 + 깨소금:** 기본적인 조합이지만 실패하기 어려운 맛이죠.\\n    *   **폰즈 소스:** 상큼한 맛이 우삼겹의 느끼함을 잡아줘서 깔끔하게 즐길 수 있어요.\\n    *   **데리야끼 소스:** 달콤 짭짤한 맛이 우삼겹과 잘 어울리고, 아이들도 좋아할 만한 맛이에요.\\n*   **고추장 베이스 소스:**\\n    *   **고추장 + 식초 + 설탕 + 다진 마늘:** 매콤하면서도 새콤달콤한 맛이 입맛을 돋우고, 우삼겹의 느끼함을 잡아줘요.\\n    *   **쌈장:** 한국인이라면 누구나 좋아하는 쌈장! 우삼겹과 쌈장의 조합은 말할 필요도 없죠.\\n*   **마요네즈 베이스 소스:**\\n    *   **스리라차 마요:** 매콤하면서도 부드러운 맛이 우삼겹과 잘 어울려요.\\n    *   **와사비 마요:** 톡 쏘는 와사비 향이 우삼겹의 느끼함을 잡아주고, 독특한 풍미를 더해줘요.\\n\\n이 외에도 땅콩 소스, 참깨 소스, 유자 소스 등 다양한 소스들이 우삼겹 포케와 잘 어울릴 수 있어요.\\n\\n혹시 어떤 종류의 야채나 곡물이 들어갔는지 알려주시면 좀 더 구체적인 소스를 추천해 드릴 수 있을 것 같아요! 😊', additional_kwargs={}, response_metadata={'prompt_feedback': {'block_reason': 0, 'safety_ratings': []}, 'finish_reason': 'STOP', 'safety_ratings': []}, id='run-338416f1-5ae4-4dd5-92df-39c7c614fc05-0', usage_metadata={'input_tokens': 169, 'output_tokens': 531, 'total_tokens': 700, 'input_token_details': {'cache_read': 0}})}}, 'thread_id': '1', 'step': 7, 'parents': {}}, created_at='2025-03-21T13:44:35.540126+00:00', parent_config={'configurable': {'thread_id': '1', 'checkpoint_ns': '', 'checkpoint_id': '1f0065a9-e85c-67f0-8006-1f2f4d405ed4'}}, tasks=()),\n",
              " StateSnapshot(values={'messages': [HumanMessage(content='나는 오늘 점심에 우삼겹 포케를 먹었는데, 맛있었어.', additional_kwargs={}, response_metadata={}, id='feb82ba6-0540-4b77-8ed9-e37ec1e469b3'), AIMessage(content='우삼겹 포케! 정말 맛있겠네요! 어떤 토핑이 들어갔어요? 맛있었다니 저도 한번 먹어보고 싶어지네요! 😊', additional_kwargs={}, response_metadata={'prompt_feedback': {'block_reason': 0, 'safety_ratings': []}, 'finish_reason': 'STOP', 'safety_ratings': []}, id='run-aa21ed15-4fb0-4c88-9246-08a6976b6688-0', usage_metadata={'input_tokens': 22, 'output_tokens': 46, 'total_tokens': 68, 'input_token_details': {'cache_read': 0}}), HumanMessage(content='뭐 이것저것 많이 들어갔어. 소스가 맛있더라.', additional_kwargs={}, response_metadata={}, id='0bd731ba-4f37-4961-b14b-30e8f92683bc'), AIMessage(content='소스가 맛있었다니 정말 궁금하네요! 혹시 어떤 종류의 소스였는지 기억나세요? 예를 들어, 간장 베이스인지, 고추장 베이스인지, 아니면 마요네즈 베이스인지 같은 것들이요! 😋', additional_kwargs={}, response_metadata={'prompt_feedback': {'block_reason': 0, 'safety_ratings': []}, 'finish_reason': 'STOP', 'safety_ratings': []}, id='run-5ad09b3d-3985-4ae2-9272-e40a8767c097-0', usage_metadata={'input_tokens': 87, 'output_tokens': 71, 'total_tokens': 158, 'input_token_details': {'cache_read': 0}}), HumanMessage(content='어떤 소스가 가장 어울렸을까?', additional_kwargs={}, response_metadata={}, id='ca759cca-a421-41b5-900a-c0c338d2d2b5')]}, next=('call_model',), config={'configurable': {'thread_id': '1', 'checkpoint_ns': '', 'checkpoint_id': '1f0065a9-e85c-67f0-8006-1f2f4d405ed4'}}, metadata={'source': 'loop', 'writes': None, 'thread_id': '1', 'step': 6, 'parents': {}}, created_at='2025-03-21T13:44:32.487606+00:00', parent_config={'configurable': {'thread_id': '1', 'checkpoint_ns': '', 'checkpoint_id': '1f0065a9-e851-69eb-8005-818609b38b52'}}, tasks=(PregelTask(id='fd3cca4e-8978-4af9-2477-ff7303f6a41c', name='call_model', path=('__pregel_pull', 'call_model'), error=None, interrupts=(), state=None, result={'messages': AIMessage(content='우삼겹 포케에 어떤 소스가 가장 어울릴지는 정말 다양한 요소에 따라 달라질 수 있어요! 예를 들어, 어떤 종류의 야채와 곡물이 들어갔는지, 그리고 개인적인 취향에 따라서도 많이 달라지죠.\\n\\n하지만 일반적으로 우삼겹의 느끼함을 잡아주면서 풍미를 더해줄 수 있는 소스들을 몇 가지 추천해 드릴게요.\\n\\n*   **간장 베이스 소스:**\\n    *   **간장 + 참기름 + 다진 마늘 + 깨소금:** 기본적인 조합이지만 실패하기 어려운 맛이죠.\\n    *   **폰즈 소스:** 상큼한 맛이 우삼겹의 느끼함을 잡아줘서 깔끔하게 즐길 수 있어요.\\n    *   **데리야끼 소스:** 달콤 짭짤한 맛이 우삼겹과 잘 어울리고, 아이들도 좋아할 만한 맛이에요.\\n*   **고추장 베이스 소스:**\\n    *   **고추장 + 식초 + 설탕 + 다진 마늘:** 매콤하면서도 새콤달콤한 맛이 입맛을 돋우고, 우삼겹의 느끼함을 잡아줘요.\\n    *   **쌈장:** 한국인이라면 누구나 좋아하는 쌈장! 우삼겹과 쌈장의 조합은 말할 필요도 없죠.\\n*   **마요네즈 베이스 소스:**\\n    *   **스리라차 마요:** 매콤하면서도 부드러운 맛이 우삼겹과 잘 어울려요.\\n    *   **와사비 마요:** 톡 쏘는 와사비 향이 우삼겹의 느끼함을 잡아주고, 독특한 풍미를 더해줘요.\\n\\n이 외에도 땅콩 소스, 참깨 소스, 유자 소스 등 다양한 소스들이 우삼겹 포케와 잘 어울릴 수 있어요.\\n\\n혹시 어떤 종류의 야채나 곡물이 들어갔는지 알려주시면 좀 더 구체적인 소스를 추천해 드릴 수 있을 것 같아요! 😊', additional_kwargs={}, response_metadata={'prompt_feedback': {'block_reason': 0, 'safety_ratings': []}, 'finish_reason': 'STOP', 'safety_ratings': []}, id='run-338416f1-5ae4-4dd5-92df-39c7c614fc05-0', usage_metadata={'input_tokens': 169, 'output_tokens': 531, 'total_tokens': 700, 'input_token_details': {'cache_read': 0}})}),)),\n",
              " StateSnapshot(values={'messages': [HumanMessage(content='나는 오늘 점심에 우삼겹 포케를 먹었는데, 맛있었어.', additional_kwargs={}, response_metadata={}, id='feb82ba6-0540-4b77-8ed9-e37ec1e469b3'), AIMessage(content='우삼겹 포케! 정말 맛있겠네요! 어떤 토핑이 들어갔어요? 맛있었다니 저도 한번 먹어보고 싶어지네요! 😊', additional_kwargs={}, response_metadata={'prompt_feedback': {'block_reason': 0, 'safety_ratings': []}, 'finish_reason': 'STOP', 'safety_ratings': []}, id='run-aa21ed15-4fb0-4c88-9246-08a6976b6688-0', usage_metadata={'input_tokens': 22, 'output_tokens': 46, 'total_tokens': 68, 'input_token_details': {'cache_read': 0}}), HumanMessage(content='뭐 이것저것 많이 들어갔어. 소스가 맛있더라.', additional_kwargs={}, response_metadata={}, id='0bd731ba-4f37-4961-b14b-30e8f92683bc'), AIMessage(content='소스가 맛있었다니 정말 궁금하네요! 혹시 어떤 종류의 소스였는지 기억나세요? 예를 들어, 간장 베이스인지, 고추장 베이스인지, 아니면 마요네즈 베이스인지 같은 것들이요! 😋', additional_kwargs={}, response_metadata={'prompt_feedback': {'block_reason': 0, 'safety_ratings': []}, 'finish_reason': 'STOP', 'safety_ratings': []}, id='run-5ad09b3d-3985-4ae2-9272-e40a8767c097-0', usage_metadata={'input_tokens': 87, 'output_tokens': 71, 'total_tokens': 158, 'input_token_details': {'cache_read': 0}})]}, next=('__start__',), config={'configurable': {'thread_id': '1', 'checkpoint_ns': '', 'checkpoint_id': '1f0065a9-e851-69eb-8005-818609b38b52'}}, metadata={'source': 'input', 'writes': {'__start__': {'messages': [{'role': 'user', 'content': '어떤 소스가 가장 어울렸을까?'}]}}, 'thread_id': '1', 'step': 5, 'parents': {}}, created_at='2025-03-21T13:44:32.483145+00:00', parent_config={'configurable': {'thread_id': '1', 'checkpoint_ns': '', 'checkpoint_id': '1f0065a9-0b45-69aa-8004-d0a863aa9b07'}}, tasks=(PregelTask(id='1f78996e-1520-fd1e-096f-00a1fd94f04f', name='__start__', path=('__pregel_pull', '__start__'), error=None, interrupts=(), state=None, result={'messages': [{'role': 'user', 'content': '어떤 소스가 가장 어울렸을까?'}]}),)),\n",
              " StateSnapshot(values={'messages': [HumanMessage(content='나는 오늘 점심에 우삼겹 포케를 먹었는데, 맛있었어.', additional_kwargs={}, response_metadata={}, id='feb82ba6-0540-4b77-8ed9-e37ec1e469b3'), AIMessage(content='우삼겹 포케! 정말 맛있겠네요! 어떤 토핑이 들어갔어요? 맛있었다니 저도 한번 먹어보고 싶어지네요! 😊', additional_kwargs={}, response_metadata={'prompt_feedback': {'block_reason': 0, 'safety_ratings': []}, 'finish_reason': 'STOP', 'safety_ratings': []}, id='run-aa21ed15-4fb0-4c88-9246-08a6976b6688-0', usage_metadata={'input_tokens': 22, 'output_tokens': 46, 'total_tokens': 68, 'input_token_details': {'cache_read': 0}}), HumanMessage(content='뭐 이것저것 많이 들어갔어. 소스가 맛있더라.', additional_kwargs={}, response_metadata={}, id='0bd731ba-4f37-4961-b14b-30e8f92683bc'), AIMessage(content='소스가 맛있었다니 정말 궁금하네요! 혹시 어떤 종류의 소스였는지 기억나세요? 예를 들어, 간장 베이스인지, 고추장 베이스인지, 아니면 마요네즈 베이스인지 같은 것들이요! 😋', additional_kwargs={}, response_metadata={'prompt_feedback': {'block_reason': 0, 'safety_ratings': []}, 'finish_reason': 'STOP', 'safety_ratings': []}, id='run-5ad09b3d-3985-4ae2-9272-e40a8767c097-0', usage_metadata={'input_tokens': 87, 'output_tokens': 71, 'total_tokens': 158, 'input_token_details': {'cache_read': 0}})]}, next=(), config={'configurable': {'thread_id': '1', 'checkpoint_ns': '', 'checkpoint_id': '1f0065a9-0b45-69aa-8004-d0a863aa9b07'}}, metadata={'source': 'loop', 'writes': {'call_model': {'messages': AIMessage(content='소스가 맛있었다니 정말 궁금하네요! 혹시 어떤 종류의 소스였는지 기억나세요? 예를 들어, 간장 베이스인지, 고추장 베이스인지, 아니면 마요네즈 베이스인지 같은 것들이요! 😋', additional_kwargs={}, response_metadata={'prompt_feedback': {'block_reason': 0, 'safety_ratings': []}, 'finish_reason': 'STOP', 'safety_ratings': []}, id='run-5ad09b3d-3985-4ae2-9272-e40a8767c097-0', usage_metadata={'input_tokens': 87, 'output_tokens': 71, 'total_tokens': 158, 'input_token_details': {'cache_read': 0}})}}, 'thread_id': '1', 'step': 4, 'parents': {}}, created_at='2025-03-21T13:44:09.304704+00:00', parent_config={'configurable': {'thread_id': '1', 'checkpoint_ns': '', 'checkpoint_id': '1f0065a9-04c5-6ae3-8003-9d41c91ec711'}}, tasks=()),\n",
              " StateSnapshot(values={'messages': [HumanMessage(content='나는 오늘 점심에 우삼겹 포케를 먹었는데, 맛있었어.', additional_kwargs={}, response_metadata={}, id='feb82ba6-0540-4b77-8ed9-e37ec1e469b3'), AIMessage(content='우삼겹 포케! 정말 맛있겠네요! 어떤 토핑이 들어갔어요? 맛있었다니 저도 한번 먹어보고 싶어지네요! 😊', additional_kwargs={}, response_metadata={'prompt_feedback': {'block_reason': 0, 'safety_ratings': []}, 'finish_reason': 'STOP', 'safety_ratings': []}, id='run-aa21ed15-4fb0-4c88-9246-08a6976b6688-0', usage_metadata={'input_tokens': 22, 'output_tokens': 46, 'total_tokens': 68, 'input_token_details': {'cache_read': 0}}), HumanMessage(content='뭐 이것저것 많이 들어갔어. 소스가 맛있더라.', additional_kwargs={}, response_metadata={}, id='0bd731ba-4f37-4961-b14b-30e8f92683bc')]}, next=('call_model',), config={'configurable': {'thread_id': '1', 'checkpoint_ns': '', 'checkpoint_id': '1f0065a9-04c5-6ae3-8003-9d41c91ec711'}}, metadata={'source': 'loop', 'writes': None, 'thread_id': '1', 'step': 3, 'parents': {}}, created_at='2025-03-21T13:44:08.623161+00:00', parent_config={'configurable': {'thread_id': '1', 'checkpoint_ns': '', 'checkpoint_id': '1f0065a9-04b8-69bb-8002-1d3366e51a48'}}, tasks=(PregelTask(id='314c232b-b7b7-8f75-910d-d7f6c5b026cb', name='call_model', path=('__pregel_pull', 'call_model'), error=None, interrupts=(), state=None, result={'messages': AIMessage(content='소스가 맛있었다니 정말 궁금하네요! 혹시 어떤 종류의 소스였는지 기억나세요? 예를 들어, 간장 베이스인지, 고추장 베이스인지, 아니면 마요네즈 베이스인지 같은 것들이요! 😋', additional_kwargs={}, response_metadata={'prompt_feedback': {'block_reason': 0, 'safety_ratings': []}, 'finish_reason': 'STOP', 'safety_ratings': []}, id='run-5ad09b3d-3985-4ae2-9272-e40a8767c097-0', usage_metadata={'input_tokens': 87, 'output_tokens': 71, 'total_tokens': 158, 'input_token_details': {'cache_read': 0}})}),)),\n",
              " StateSnapshot(values={'messages': [HumanMessage(content='나는 오늘 점심에 우삼겹 포케를 먹었는데, 맛있었어.', additional_kwargs={}, response_metadata={}, id='feb82ba6-0540-4b77-8ed9-e37ec1e469b3'), AIMessage(content='우삼겹 포케! 정말 맛있겠네요! 어떤 토핑이 들어갔어요? 맛있었다니 저도 한번 먹어보고 싶어지네요! 😊', additional_kwargs={}, response_metadata={'prompt_feedback': {'block_reason': 0, 'safety_ratings': []}, 'finish_reason': 'STOP', 'safety_ratings': []}, id='run-aa21ed15-4fb0-4c88-9246-08a6976b6688-0', usage_metadata={'input_tokens': 22, 'output_tokens': 46, 'total_tokens': 68, 'input_token_details': {'cache_read': 0}})]}, next=('__start__',), config={'configurable': {'thread_id': '1', 'checkpoint_ns': '', 'checkpoint_id': '1f0065a9-04b8-69bb-8002-1d3366e51a48'}}, metadata={'source': 'input', 'writes': {'__start__': {'messages': [{'role': 'user', 'content': '뭐 이것저것 많이 들어갔어. 소스가 맛있더라.'}]}}, 'thread_id': '1', 'step': 2, 'parents': {}}, created_at='2025-03-21T13:44:08.617803+00:00', parent_config={'configurable': {'thread_id': '1', 'checkpoint_ns': '', 'checkpoint_id': '1f0065a6-fcee-66ae-8001-4d575cbe0a29'}}, tasks=(PregelTask(id='ef25fb15-713d-edeb-50c0-5619b1b85bd6', name='__start__', path=('__pregel_pull', '__start__'), error=None, interrupts=(), state=None, result={'messages': [{'role': 'user', 'content': '뭐 이것저것 많이 들어갔어. 소스가 맛있더라.'}]}),)),\n",
              " StateSnapshot(values={'messages': [HumanMessage(content='나는 오늘 점심에 우삼겹 포케를 먹었는데, 맛있었어.', additional_kwargs={}, response_metadata={}, id='feb82ba6-0540-4b77-8ed9-e37ec1e469b3'), AIMessage(content='우삼겹 포케! 정말 맛있겠네요! 어떤 토핑이 들어갔어요? 맛있었다니 저도 한번 먹어보고 싶어지네요! 😊', additional_kwargs={}, response_metadata={'prompt_feedback': {'block_reason': 0, 'safety_ratings': []}, 'finish_reason': 'STOP', 'safety_ratings': []}, id='run-aa21ed15-4fb0-4c88-9246-08a6976b6688-0', usage_metadata={'input_tokens': 22, 'output_tokens': 46, 'total_tokens': 68, 'input_token_details': {'cache_read': 0}})]}, next=(), config={'configurable': {'thread_id': '1', 'checkpoint_ns': '', 'checkpoint_id': '1f0065a6-fcee-66ae-8001-4d575cbe0a29'}}, metadata={'source': 'loop', 'writes': {'call_model': {'messages': AIMessage(content='우삼겹 포케! 정말 맛있겠네요! 어떤 토핑이 들어갔어요? 맛있었다니 저도 한번 먹어보고 싶어지네요! 😊', additional_kwargs={}, response_metadata={'prompt_feedback': {'block_reason': 0, 'safety_ratings': []}, 'finish_reason': 'STOP', 'safety_ratings': []}, id='run-aa21ed15-4fb0-4c88-9246-08a6976b6688-0', usage_metadata={'input_tokens': 22, 'output_tokens': 46, 'total_tokens': 68, 'input_token_details': {'cache_read': 0}})}}, 'thread_id': '1', 'step': 1, 'parents': {}}, created_at='2025-03-21T13:43:14.113891+00:00', parent_config={'configurable': {'thread_id': '1', 'checkpoint_ns': '', 'checkpoint_id': '1f0065a6-bdbb-6546-8000-2c83a95620b1'}}, tasks=()),\n",
              " StateSnapshot(values={'messages': [HumanMessage(content='나는 오늘 점심에 우삼겹 포케를 먹었는데, 맛있었어.', additional_kwargs={}, response_metadata={}, id='feb82ba6-0540-4b77-8ed9-e37ec1e469b3')]}, next=('call_model',), config={'configurable': {'thread_id': '1', 'checkpoint_ns': '', 'checkpoint_id': '1f0065a6-bdbb-6546-8000-2c83a95620b1'}}, metadata={'source': 'loop', 'writes': None, 'thread_id': '1', 'step': 0, 'parents': {}}, created_at='2025-03-21T13:43:07.486942+00:00', parent_config={'configurable': {'thread_id': '1', 'checkpoint_ns': '', 'checkpoint_id': '1f0065a6-bdb2-6daf-bfff-e1a1a360b21c'}}, tasks=(PregelTask(id='78fb706b-9271-50ae-ef1e-c77d612c2ece', name='call_model', path=('__pregel_pull', 'call_model'), error=None, interrupts=(), state=None, result={'messages': AIMessage(content='우삼겹 포케! 정말 맛있겠네요! 어떤 토핑이 들어갔어요? 맛있었다니 저도 한번 먹어보고 싶어지네요! 😊', additional_kwargs={}, response_metadata={'prompt_feedback': {'block_reason': 0, 'safety_ratings': []}, 'finish_reason': 'STOP', 'safety_ratings': []}, id='run-aa21ed15-4fb0-4c88-9246-08a6976b6688-0', usage_metadata={'input_tokens': 22, 'output_tokens': 46, 'total_tokens': 68, 'input_token_details': {'cache_read': 0}})}),)),\n",
              " StateSnapshot(values={'messages': []}, next=('__start__',), config={'configurable': {'thread_id': '1', 'checkpoint_ns': '', 'checkpoint_id': '1f0065a6-bdb2-6daf-bfff-e1a1a360b21c'}}, metadata={'source': 'input', 'writes': {'__start__': {'messages': [HumanMessage(content='나는 오늘 점심에 우삼겹 포케를 먹었는데, 맛있었어.', additional_kwargs={}, response_metadata={})]}}, 'thread_id': '1', 'step': -1, 'parents': {}}, created_at='2025-03-21T13:43:07.483474+00:00', parent_config=None, tasks=(PregelTask(id='bf4c1758-cfc4-8436-b134-ff9e4c4ca66d', name='__start__', path=('__pregel_pull', '__start__'), error=None, interrupts=(), state=None, result={'messages': [HumanMessage(content='나는 오늘 점심에 우삼겹 포케를 먹었는데, 맛있었어.', additional_kwargs={}, response_metadata={}, id='feb82ba6-0540-4b77-8ed9-e37ec1e469b3')]}),))]"
            ]
          },
          "metadata": {},
          "execution_count": 17
        }
      ],
      "source": [
        "history = list(graph.get_state_history(config))\n",
        "history"
      ]
    },
    {
      "cell_type": "markdown",
      "metadata": {
        "id": "vuZU4Yavc_YQ"
      },
      "source": [
        "특정 스냅샷의 값을 수정할 수도 있습니다. 이 경우, Reducer의 정의에 맞게 처리됩니다."
      ]
    },
    {
      "cell_type": "code",
      "execution_count": null,
      "metadata": {
        "id": "ElGs2TA-c_YQ",
        "colab": {
          "base_uri": "https://localhost:8080/"
        },
        "outputId": "c6351c73-3fee-4031-e0b0-bfb4a8c39ed6"
      },
      "outputs": [
        {
          "output_type": "execute_result",
          "data": {
            "text/plain": [
              "{'configurable': {'thread_id': '1',\n",
              "  'checkpoint_ns': '',\n",
              "  'checkpoint_id': '1f0065b8-b861-62ea-8008-542983f6c11a'}}"
            ]
          },
          "metadata": {},
          "execution_count": 18
        }
      ],
      "source": [
        "graph.update_state(config = history[0].config, values= {'messages':'저녁 뭐 먹을까?'})"
      ]
    },
    {
      "cell_type": "code",
      "execution_count": null,
      "metadata": {
        "id": "Td5Thpnbc_YQ",
        "colab": {
          "base_uri": "https://localhost:8080/",
          "height": 1000
        },
        "outputId": "0992e2fa-586f-4aad-8995-dcd84df2a7dc"
      },
      "outputs": [
        {
          "output_type": "display_data",
          "data": {
            "text/plain": [
              "\u001b[1;35mStateSnapshot\u001b[0m\u001b[1m(\u001b[0m\n",
              "    \u001b[33mvalues\u001b[0m=\u001b[1m{\u001b[0m\n",
              "        \u001b[32m'messages'\u001b[0m: \u001b[1m[\u001b[0m\n",
              "            \u001b[1;35mHumanMessage\u001b[0m\u001b[1m(\u001b[0m\n",
              "                \u001b[33mcontent\u001b[0m=\u001b[32m'나는 오늘 점심에 우삼겹 포케를 먹었는데, 맛있었어.'\u001b[0m,\n",
              "                \u001b[33madditional_kwargs\u001b[0m=\u001b[1m{\u001b[0m\u001b[1m}\u001b[0m,\n",
              "                \u001b[33mresponse_metadata\u001b[0m=\u001b[1m{\u001b[0m\u001b[1m}\u001b[0m,\n",
              "                \u001b[33mid\u001b[0m=\u001b[32m'feb82ba6-0540-4b77-8ed9-e37ec1e469b3'\u001b[0m\n",
              "            \u001b[1m)\u001b[0m,\n",
              "            \u001b[1;35mAIMessage\u001b[0m\u001b[1m(\u001b[0m\n",
              "                \u001b[33mcontent\u001b[0m=\u001b[32m'우삼겹 포케! 정말 맛있겠네요! 어떤 토핑이 들어갔어요? 맛있었다니 저도 한번 먹어보고 \u001b[0m\n",
              "\u001b[32m싶어지네요! 😊'\u001b[0m,\n",
              "                \u001b[33madditional_kwargs\u001b[0m=\u001b[1m{\u001b[0m\u001b[1m}\u001b[0m,\n",
              "                \u001b[33mresponse_metadata\u001b[0m=\u001b[1m{\u001b[0m\n",
              "                    \u001b[32m'prompt_feedback'\u001b[0m: \u001b[1m{\u001b[0m\u001b[32m'block_reason'\u001b[0m: \u001b[1;36m0\u001b[0m, \u001b[32m'safety_ratings'\u001b[0m: \u001b[1m[\u001b[0m\u001b[1m]\u001b[0m\u001b[1m}\u001b[0m,\n",
              "                    \u001b[32m'finish_reason'\u001b[0m: \u001b[32m'STOP'\u001b[0m,\n",
              "                    \u001b[32m'safety_ratings'\u001b[0m: \u001b[1m[\u001b[0m\u001b[1m]\u001b[0m\n",
              "                \u001b[1m}\u001b[0m,\n",
              "                \u001b[33mid\u001b[0m=\u001b[32m'run-aa21ed15-4fb0-4c88-9246-08a6976b6688-0'\u001b[0m,\n",
              "                \u001b[33musage_metadata\u001b[0m=\u001b[1m{\u001b[0m\n",
              "                    \u001b[32m'input_tokens'\u001b[0m: \u001b[1;36m22\u001b[0m,\n",
              "                    \u001b[32m'output_tokens'\u001b[0m: \u001b[1;36m46\u001b[0m,\n",
              "                    \u001b[32m'total_tokens'\u001b[0m: \u001b[1;36m68\u001b[0m,\n",
              "                    \u001b[32m'input_token_details'\u001b[0m: \u001b[1m{\u001b[0m\u001b[32m'cache_read'\u001b[0m: \u001b[1;36m0\u001b[0m\u001b[1m}\u001b[0m\n",
              "                \u001b[1m}\u001b[0m\n",
              "            \u001b[1m)\u001b[0m,\n",
              "            \u001b[1;35mHumanMessage\u001b[0m\u001b[1m(\u001b[0m\n",
              "                \u001b[33mcontent\u001b[0m=\u001b[32m'뭐 이것저것 많이 들어갔어. 소스가 맛있더라.'\u001b[0m,\n",
              "                \u001b[33madditional_kwargs\u001b[0m=\u001b[1m{\u001b[0m\u001b[1m}\u001b[0m,\n",
              "                \u001b[33mresponse_metadata\u001b[0m=\u001b[1m{\u001b[0m\u001b[1m}\u001b[0m,\n",
              "                \u001b[33mid\u001b[0m=\u001b[32m'0bd731ba-4f37-4961-b14b-30e8f92683bc'\u001b[0m\n",
              "            \u001b[1m)\u001b[0m,\n",
              "            \u001b[1;35mAIMessage\u001b[0m\u001b[1m(\u001b[0m\n",
              "                \u001b[33mcontent\u001b[0m=\u001b[32m'소스가 맛있었다니 정말 궁금하네요! 혹시 어떤 종류의 소스였는지 기억나세요? 예를 들어, 간장\u001b[0m\n",
              "\u001b[32m베이스인지, 고추장 베이스인지, 아니면 마요네즈 베이스인지 같은 것들이요! 😋'\u001b[0m,\n",
              "                \u001b[33madditional_kwargs\u001b[0m=\u001b[1m{\u001b[0m\u001b[1m}\u001b[0m,\n",
              "                \u001b[33mresponse_metadata\u001b[0m=\u001b[1m{\u001b[0m\n",
              "                    \u001b[32m'prompt_feedback'\u001b[0m: \u001b[1m{\u001b[0m\u001b[32m'block_reason'\u001b[0m: \u001b[1;36m0\u001b[0m, \u001b[32m'safety_ratings'\u001b[0m: \u001b[1m[\u001b[0m\u001b[1m]\u001b[0m\u001b[1m}\u001b[0m,\n",
              "                    \u001b[32m'finish_reason'\u001b[0m: \u001b[32m'STOP'\u001b[0m,\n",
              "                    \u001b[32m'safety_ratings'\u001b[0m: \u001b[1m[\u001b[0m\u001b[1m]\u001b[0m\n",
              "                \u001b[1m}\u001b[0m,\n",
              "                \u001b[33mid\u001b[0m=\u001b[32m'run-5ad09b3d-3985-4ae2-9272-e40a8767c097-0'\u001b[0m,\n",
              "                \u001b[33musage_metadata\u001b[0m=\u001b[1m{\u001b[0m\n",
              "                    \u001b[32m'input_tokens'\u001b[0m: \u001b[1;36m87\u001b[0m,\n",
              "                    \u001b[32m'output_tokens'\u001b[0m: \u001b[1;36m71\u001b[0m,\n",
              "                    \u001b[32m'total_tokens'\u001b[0m: \u001b[1;36m158\u001b[0m,\n",
              "                    \u001b[32m'input_token_details'\u001b[0m: \u001b[1m{\u001b[0m\u001b[32m'cache_read'\u001b[0m: \u001b[1;36m0\u001b[0m\u001b[1m}\u001b[0m\n",
              "                \u001b[1m}\u001b[0m\n",
              "            \u001b[1m)\u001b[0m,\n",
              "            \u001b[1;35mHumanMessage\u001b[0m\u001b[1m(\u001b[0m\n",
              "                \u001b[33mcontent\u001b[0m=\u001b[32m'어떤 소스가 가장 어울렸을까?'\u001b[0m,\n",
              "                \u001b[33madditional_kwargs\u001b[0m=\u001b[1m{\u001b[0m\u001b[1m}\u001b[0m,\n",
              "                \u001b[33mresponse_metadata\u001b[0m=\u001b[1m{\u001b[0m\u001b[1m}\u001b[0m,\n",
              "                \u001b[33mid\u001b[0m=\u001b[32m'ca759cca-a421-41b5-900a-c0c338d2d2b5'\u001b[0m\n",
              "            \u001b[1m)\u001b[0m,\n",
              "            \u001b[1;35mAIMessage\u001b[0m\u001b[1m(\u001b[0m\n",
              "                \u001b[33mcontent\u001b[0m=\u001b[32m\"우삼겹\u001b[0m\u001b[32m 포케에 어울리는 소스는 정말 다양해서 어떤 게 가장 '최고'라고 단정하기는 어렵지만, \u001b[0m\n",
              "\u001b[32m몇 가지 인기 있는 조합과 특징을 알려드릴게요. 어떤 맛을 선호하는지에 따라 선택하시면 좋을 것 같아요!\\n\\n**1. 간장 \u001b[0m\n",
              "\u001b[32m베이스 소스:**\\n\\n*   **특징:** 짭짤하고 감칠맛이 돌아서 우삼겹의 고소한 맛과 잘 어울립니다. 참기름이나 깨를 더하면\u001b[0m\n",
              "\u001b[32m더욱 풍미가 깊어집니다.\\n*   **예시:** 간장 + 미림 + 설탕 + 다진 마늘 + 참기름 + 깨\\n\\n**2. 매콤한 고추장 베이스 \u001b[0m\n",
              "\u001b[32m소스:**\\n\\n*   **특징:** 느끼함을 잡아주고 입맛을 돋우는 매력이 있습니다. 우삼겹의 기름진 맛과 찰떡궁합!\\n*   \u001b[0m\n",
              "\u001b[32m**예시:** 고추장 + 식초 + 설탕 + 다진 마늘 + 참기름 + 깨\\n\\n**3. 마요네즈 베이스 소스:**\\n\\n*   **특징:** 부드럽고 \u001b[0m\n",
              "\u001b[32m고소한 맛이 강해서, 좀 더 크리미한 포케를 즐기고 싶을 때 좋습니다. 와사비나 스리라차 소스를 살짝 더하면 느끼함을 \u001b[0m\n",
              "\u001b[32m줄일 수 있습니다.\\n*   **예시:** 마요네즈 + 레몬즙 + 꿀 \u001b[0m\u001b[32m(\u001b[0m\u001b[32m또는 설탕\u001b[0m\u001b[32m)\u001b[0m\u001b[32m + 소금 + 후추\\n\\n**4. 스리라차 마요 \u001b[0m\n",
              "\u001b[32m소스:**\\n\\n*   **특징:** 마요네즈의 고소함과 스리라차의 매콤함이 조화롭게 어우러져, 느끼함 없이 깔끔하게 즐길 수 \u001b[0m\n",
              "\u001b[32m있습니다.\\n*   **예시:** 마요네즈 + 스리라차 소스 + 레몬즙\\n\\n**5. 참깨 드레싱:**\\n\\n*   **특징:** 고소하고 담백한 \u001b[0m\n",
              "\u001b[32m맛으로, 다른 재료들의 맛을 해치지 않으면서 은은하게 풍미를 더해줍니다.\\n*   **예시:** 시판 참깨 드레싱 또는 직접 \u001b[0m\n",
              "\u001b[32m만들기 \u001b[0m\u001b[32m(\u001b[0m\u001b[32m참깨 + 간장 + 식초 + 설탕 + 참기름\u001b[0m\u001b[32m)\u001b[0m\u001b[32m\\n\\n**팁:**\\n\\n*   **토핑에 따라:** 아보카도나 해초류가 많이 들어갔다면 \u001b[0m\n",
              "\u001b[32m간장이나 참깨 드레싱이, 신선한 채소가 많다면 매콤한 고추장 베이스 소스가 잘 어울릴 수 있습니다.\\n*   **개인 취향:**\u001b[0m\n",
              "\u001b[32m결국 가장 중요한 건 본인의 입맛입니다! 위에 제시된 소스들을 참고해서, 자신만의 최적의 조합을 찾아보세요.\\n\\n혹시 \u001b[0m\n",
              "\u001b[32m드셨던 포케에 어떤 토핑이 들어갔었는지 알려주시면, 더 잘 어울리는 소스를 추천해 드릴 수 있어요! 😊\"\u001b[0m,\n",
              "                \u001b[33madditional_kwargs\u001b[0m=\u001b[1m{\u001b[0m\u001b[1m}\u001b[0m,\n",
              "                \u001b[33mresponse_metadata\u001b[0m=\u001b[1m{\u001b[0m\n",
              "                    \u001b[32m'prompt_feedback'\u001b[0m: \u001b[1m{\u001b[0m\u001b[32m'block_reason'\u001b[0m: \u001b[1;36m0\u001b[0m, \u001b[32m'safety_ratings'\u001b[0m: \u001b[1m[\u001b[0m\u001b[1m]\u001b[0m\u001b[1m}\u001b[0m,\n",
              "                    \u001b[32m'finish_reason'\u001b[0m: \u001b[32m'STOP'\u001b[0m,\n",
              "                    \u001b[32m'safety_ratings'\u001b[0m: \u001b[1m[\u001b[0m\u001b[1m]\u001b[0m\n",
              "                \u001b[1m}\u001b[0m,\n",
              "                \u001b[33mid\u001b[0m=\u001b[32m'run-e3579026-09ae-43e6-a9b3-a57e59ddb389-0'\u001b[0m,\n",
              "                \u001b[33musage_metadata\u001b[0m=\u001b[1m{\u001b[0m\n",
              "                    \u001b[32m'input_tokens'\u001b[0m: \u001b[1;36m169\u001b[0m,\n",
              "                    \u001b[32m'output_tokens'\u001b[0m: \u001b[1;36m688\u001b[0m,\n",
              "                    \u001b[32m'total_tokens'\u001b[0m: \u001b[1;36m857\u001b[0m,\n",
              "                    \u001b[32m'input_token_details'\u001b[0m: \u001b[1m{\u001b[0m\u001b[32m'cache_read'\u001b[0m: \u001b[1;36m0\u001b[0m\u001b[1m}\u001b[0m\n",
              "                \u001b[1m}\u001b[0m\n",
              "            \u001b[1m)\u001b[0m,\n",
              "            \u001b[1;35mHumanMessage\u001b[0m\u001b[1m(\u001b[0m\n",
              "                \u001b[33mcontent\u001b[0m=\u001b[32m'저녁 뭐 먹을까?'\u001b[0m,\n",
              "                \u001b[33madditional_kwargs\u001b[0m=\u001b[1m{\u001b[0m\u001b[1m}\u001b[0m,\n",
              "                \u001b[33mresponse_metadata\u001b[0m=\u001b[1m{\u001b[0m\u001b[1m}\u001b[0m,\n",
              "                \u001b[33mid\u001b[0m=\u001b[32m'ed69a99b-daf1-4617-b56d-fba1c0415fba'\u001b[0m\n",
              "            \u001b[1m)\u001b[0m\n",
              "        \u001b[1m]\u001b[0m\n",
              "    \u001b[1m}\u001b[0m,\n",
              "    \u001b[33mnext\u001b[0m=\u001b[1m(\u001b[0m\u001b[1m)\u001b[0m,\n",
              "    \u001b[33mconfig\u001b[0m=\u001b[1m{\u001b[0m\n",
              "        \u001b[32m'configurable'\u001b[0m: \u001b[1m{\u001b[0m\n",
              "            \u001b[32m'thread_id'\u001b[0m: \u001b[32m'1'\u001b[0m,\n",
              "            \u001b[32m'checkpoint_ns'\u001b[0m: \u001b[32m''\u001b[0m,\n",
              "            \u001b[32m'checkpoint_id'\u001b[0m: \u001b[32m'1f0065b8-b861-62ea-8008-542983f6c11a'\u001b[0m\n",
              "        \u001b[1m}\u001b[0m\n",
              "    \u001b[1m}\u001b[0m,\n",
              "    \u001b[33mmetadata\u001b[0m=\u001b[1m{\u001b[0m\n",
              "        \u001b[32m'source'\u001b[0m: \u001b[32m'update'\u001b[0m,\n",
              "        \u001b[32m'writes'\u001b[0m: \u001b[1m{\u001b[0m\u001b[32m'call_model'\u001b[0m: \u001b[1m{\u001b[0m\u001b[32m'messages'\u001b[0m: \u001b[32m'저녁 뭐 먹을까?'\u001b[0m\u001b[1m}\u001b[0m\u001b[1m}\u001b[0m,\n",
              "        \u001b[32m'thread_id'\u001b[0m: \u001b[32m'1'\u001b[0m,\n",
              "        \u001b[32m'checkpoint_ns'\u001b[0m: \u001b[32m''\u001b[0m,\n",
              "        \u001b[32m'checkpoint_id'\u001b[0m: \u001b[32m'1f0065b6-29f9-6f3b-8007-b753b7605042'\u001b[0m,\n",
              "        \u001b[32m'step'\u001b[0m: \u001b[1;36m8\u001b[0m,\n",
              "        \u001b[32m'parents'\u001b[0m: \u001b[1m{\u001b[0m\u001b[1m}\u001b[0m\n",
              "    \u001b[1m}\u001b[0m,\n",
              "    \u001b[33mcreated_at\u001b[0m=\u001b[32m'2025-03-21T13:51:10.109547+00:00'\u001b[0m,\n",
              "    \u001b[33mparent_config\u001b[0m=\u001b[1m{\u001b[0m\n",
              "        \u001b[32m'configurable'\u001b[0m: \u001b[1m{\u001b[0m\n",
              "            \u001b[32m'thread_id'\u001b[0m: \u001b[32m'1'\u001b[0m,\n",
              "            \u001b[32m'checkpoint_ns'\u001b[0m: \u001b[32m''\u001b[0m,\n",
              "            \u001b[32m'checkpoint_id'\u001b[0m: \u001b[32m'1f0065b6-29f9-6f3b-8007-b753b7605042'\u001b[0m\n",
              "        \u001b[1m}\u001b[0m\n",
              "    \u001b[1m}\u001b[0m,\n",
              "    \u001b[33mtasks\u001b[0m=\u001b[1m(\u001b[0m\u001b[1m)\u001b[0m\n",
              "\u001b[1m)\u001b[0m\n"
            ],
            "text/html": [
              "<pre style=\"white-space:pre;overflow-x:auto;line-height:normal;font-family:Menlo,'DejaVu Sans Mono',consolas,'Courier New',monospace\"><span style=\"color: #800080; text-decoration-color: #800080; font-weight: bold\">StateSnapshot</span><span style=\"font-weight: bold\">(</span>\n",
              "    <span style=\"color: #808000; text-decoration-color: #808000\">values</span>=<span style=\"font-weight: bold\">{</span>\n",
              "        <span style=\"color: #008000; text-decoration-color: #008000\">'messages'</span>: <span style=\"font-weight: bold\">[</span>\n",
              "            <span style=\"color: #800080; text-decoration-color: #800080; font-weight: bold\">HumanMessage</span><span style=\"font-weight: bold\">(</span>\n",
              "                <span style=\"color: #808000; text-decoration-color: #808000\">content</span>=<span style=\"color: #008000; text-decoration-color: #008000\">'나는 오늘 점심에 우삼겹 포케를 먹었는데, 맛있었어.'</span>,\n",
              "                <span style=\"color: #808000; text-decoration-color: #808000\">additional_kwargs</span>=<span style=\"font-weight: bold\">{}</span>,\n",
              "                <span style=\"color: #808000; text-decoration-color: #808000\">response_metadata</span>=<span style=\"font-weight: bold\">{}</span>,\n",
              "                <span style=\"color: #808000; text-decoration-color: #808000\">id</span>=<span style=\"color: #008000; text-decoration-color: #008000\">'feb82ba6-0540-4b77-8ed9-e37ec1e469b3'</span>\n",
              "            <span style=\"font-weight: bold\">)</span>,\n",
              "            <span style=\"color: #800080; text-decoration-color: #800080; font-weight: bold\">AIMessage</span><span style=\"font-weight: bold\">(</span>\n",
              "                <span style=\"color: #808000; text-decoration-color: #808000\">content</span>=<span style=\"color: #008000; text-decoration-color: #008000\">'우삼겹 포케! 정말 맛있겠네요! 어떤 토핑이 들어갔어요? 맛있었다니 저도 한번 먹어보고 </span>\n",
              "<span style=\"color: #008000; text-decoration-color: #008000\">싶어지네요! 😊'</span>,\n",
              "                <span style=\"color: #808000; text-decoration-color: #808000\">additional_kwargs</span>=<span style=\"font-weight: bold\">{}</span>,\n",
              "                <span style=\"color: #808000; text-decoration-color: #808000\">response_metadata</span>=<span style=\"font-weight: bold\">{</span>\n",
              "                    <span style=\"color: #008000; text-decoration-color: #008000\">'prompt_feedback'</span>: <span style=\"font-weight: bold\">{</span><span style=\"color: #008000; text-decoration-color: #008000\">'block_reason'</span>: <span style=\"color: #008080; text-decoration-color: #008080; font-weight: bold\">0</span>, <span style=\"color: #008000; text-decoration-color: #008000\">'safety_ratings'</span>: <span style=\"font-weight: bold\">[]}</span>,\n",
              "                    <span style=\"color: #008000; text-decoration-color: #008000\">'finish_reason'</span>: <span style=\"color: #008000; text-decoration-color: #008000\">'STOP'</span>,\n",
              "                    <span style=\"color: #008000; text-decoration-color: #008000\">'safety_ratings'</span>: <span style=\"font-weight: bold\">[]</span>\n",
              "                <span style=\"font-weight: bold\">}</span>,\n",
              "                <span style=\"color: #808000; text-decoration-color: #808000\">id</span>=<span style=\"color: #008000; text-decoration-color: #008000\">'run-aa21ed15-4fb0-4c88-9246-08a6976b6688-0'</span>,\n",
              "                <span style=\"color: #808000; text-decoration-color: #808000\">usage_metadata</span>=<span style=\"font-weight: bold\">{</span>\n",
              "                    <span style=\"color: #008000; text-decoration-color: #008000\">'input_tokens'</span>: <span style=\"color: #008080; text-decoration-color: #008080; font-weight: bold\">22</span>,\n",
              "                    <span style=\"color: #008000; text-decoration-color: #008000\">'output_tokens'</span>: <span style=\"color: #008080; text-decoration-color: #008080; font-weight: bold\">46</span>,\n",
              "                    <span style=\"color: #008000; text-decoration-color: #008000\">'total_tokens'</span>: <span style=\"color: #008080; text-decoration-color: #008080; font-weight: bold\">68</span>,\n",
              "                    <span style=\"color: #008000; text-decoration-color: #008000\">'input_token_details'</span>: <span style=\"font-weight: bold\">{</span><span style=\"color: #008000; text-decoration-color: #008000\">'cache_read'</span>: <span style=\"color: #008080; text-decoration-color: #008080; font-weight: bold\">0</span><span style=\"font-weight: bold\">}</span>\n",
              "                <span style=\"font-weight: bold\">}</span>\n",
              "            <span style=\"font-weight: bold\">)</span>,\n",
              "            <span style=\"color: #800080; text-decoration-color: #800080; font-weight: bold\">HumanMessage</span><span style=\"font-weight: bold\">(</span>\n",
              "                <span style=\"color: #808000; text-decoration-color: #808000\">content</span>=<span style=\"color: #008000; text-decoration-color: #008000\">'뭐 이것저것 많이 들어갔어. 소스가 맛있더라.'</span>,\n",
              "                <span style=\"color: #808000; text-decoration-color: #808000\">additional_kwargs</span>=<span style=\"font-weight: bold\">{}</span>,\n",
              "                <span style=\"color: #808000; text-decoration-color: #808000\">response_metadata</span>=<span style=\"font-weight: bold\">{}</span>,\n",
              "                <span style=\"color: #808000; text-decoration-color: #808000\">id</span>=<span style=\"color: #008000; text-decoration-color: #008000\">'0bd731ba-4f37-4961-b14b-30e8f92683bc'</span>\n",
              "            <span style=\"font-weight: bold\">)</span>,\n",
              "            <span style=\"color: #800080; text-decoration-color: #800080; font-weight: bold\">AIMessage</span><span style=\"font-weight: bold\">(</span>\n",
              "                <span style=\"color: #808000; text-decoration-color: #808000\">content</span>=<span style=\"color: #008000; text-decoration-color: #008000\">'소스가 맛있었다니 정말 궁금하네요! 혹시 어떤 종류의 소스였는지 기억나세요? 예를 들어, 간장</span>\n",
              "<span style=\"color: #008000; text-decoration-color: #008000\">베이스인지, 고추장 베이스인지, 아니면 마요네즈 베이스인지 같은 것들이요! 😋'</span>,\n",
              "                <span style=\"color: #808000; text-decoration-color: #808000\">additional_kwargs</span>=<span style=\"font-weight: bold\">{}</span>,\n",
              "                <span style=\"color: #808000; text-decoration-color: #808000\">response_metadata</span>=<span style=\"font-weight: bold\">{</span>\n",
              "                    <span style=\"color: #008000; text-decoration-color: #008000\">'prompt_feedback'</span>: <span style=\"font-weight: bold\">{</span><span style=\"color: #008000; text-decoration-color: #008000\">'block_reason'</span>: <span style=\"color: #008080; text-decoration-color: #008080; font-weight: bold\">0</span>, <span style=\"color: #008000; text-decoration-color: #008000\">'safety_ratings'</span>: <span style=\"font-weight: bold\">[]}</span>,\n",
              "                    <span style=\"color: #008000; text-decoration-color: #008000\">'finish_reason'</span>: <span style=\"color: #008000; text-decoration-color: #008000\">'STOP'</span>,\n",
              "                    <span style=\"color: #008000; text-decoration-color: #008000\">'safety_ratings'</span>: <span style=\"font-weight: bold\">[]</span>\n",
              "                <span style=\"font-weight: bold\">}</span>,\n",
              "                <span style=\"color: #808000; text-decoration-color: #808000\">id</span>=<span style=\"color: #008000; text-decoration-color: #008000\">'run-5ad09b3d-3985-4ae2-9272-e40a8767c097-0'</span>,\n",
              "                <span style=\"color: #808000; text-decoration-color: #808000\">usage_metadata</span>=<span style=\"font-weight: bold\">{</span>\n",
              "                    <span style=\"color: #008000; text-decoration-color: #008000\">'input_tokens'</span>: <span style=\"color: #008080; text-decoration-color: #008080; font-weight: bold\">87</span>,\n",
              "                    <span style=\"color: #008000; text-decoration-color: #008000\">'output_tokens'</span>: <span style=\"color: #008080; text-decoration-color: #008080; font-weight: bold\">71</span>,\n",
              "                    <span style=\"color: #008000; text-decoration-color: #008000\">'total_tokens'</span>: <span style=\"color: #008080; text-decoration-color: #008080; font-weight: bold\">158</span>,\n",
              "                    <span style=\"color: #008000; text-decoration-color: #008000\">'input_token_details'</span>: <span style=\"font-weight: bold\">{</span><span style=\"color: #008000; text-decoration-color: #008000\">'cache_read'</span>: <span style=\"color: #008080; text-decoration-color: #008080; font-weight: bold\">0</span><span style=\"font-weight: bold\">}</span>\n",
              "                <span style=\"font-weight: bold\">}</span>\n",
              "            <span style=\"font-weight: bold\">)</span>,\n",
              "            <span style=\"color: #800080; text-decoration-color: #800080; font-weight: bold\">HumanMessage</span><span style=\"font-weight: bold\">(</span>\n",
              "                <span style=\"color: #808000; text-decoration-color: #808000\">content</span>=<span style=\"color: #008000; text-decoration-color: #008000\">'어떤 소스가 가장 어울렸을까?'</span>,\n",
              "                <span style=\"color: #808000; text-decoration-color: #808000\">additional_kwargs</span>=<span style=\"font-weight: bold\">{}</span>,\n",
              "                <span style=\"color: #808000; text-decoration-color: #808000\">response_metadata</span>=<span style=\"font-weight: bold\">{}</span>,\n",
              "                <span style=\"color: #808000; text-decoration-color: #808000\">id</span>=<span style=\"color: #008000; text-decoration-color: #008000\">'ca759cca-a421-41b5-900a-c0c338d2d2b5'</span>\n",
              "            <span style=\"font-weight: bold\">)</span>,\n",
              "            <span style=\"color: #800080; text-decoration-color: #800080; font-weight: bold\">AIMessage</span><span style=\"font-weight: bold\">(</span>\n",
              "                <span style=\"color: #808000; text-decoration-color: #808000\">content</span>=<span style=\"color: #008000; text-decoration-color: #008000\">\"우삼겹 포케에 어울리는 소스는 정말 다양해서 어떤 게 가장 '최고'라고 단정하기는 어렵지만, </span>\n",
              "<span style=\"color: #008000; text-decoration-color: #008000\">몇 가지 인기 있는 조합과 특징을 알려드릴게요. 어떤 맛을 선호하는지에 따라 선택하시면 좋을 것 같아요!\\n\\n**1. 간장 </span>\n",
              "<span style=\"color: #008000; text-decoration-color: #008000\">베이스 소스:**\\n\\n*   **특징:** 짭짤하고 감칠맛이 돌아서 우삼겹의 고소한 맛과 잘 어울립니다. 참기름이나 깨를 더하면</span>\n",
              "<span style=\"color: #008000; text-decoration-color: #008000\">더욱 풍미가 깊어집니다.\\n*   **예시:** 간장 + 미림 + 설탕 + 다진 마늘 + 참기름 + 깨\\n\\n**2. 매콤한 고추장 베이스 </span>\n",
              "<span style=\"color: #008000; text-decoration-color: #008000\">소스:**\\n\\n*   **특징:** 느끼함을 잡아주고 입맛을 돋우는 매력이 있습니다. 우삼겹의 기름진 맛과 찰떡궁합!\\n*   </span>\n",
              "<span style=\"color: #008000; text-decoration-color: #008000\">**예시:** 고추장 + 식초 + 설탕 + 다진 마늘 + 참기름 + 깨\\n\\n**3. 마요네즈 베이스 소스:**\\n\\n*   **특징:** 부드럽고 </span>\n",
              "<span style=\"color: #008000; text-decoration-color: #008000\">고소한 맛이 강해서, 좀 더 크리미한 포케를 즐기고 싶을 때 좋습니다. 와사비나 스리라차 소스를 살짝 더하면 느끼함을 </span>\n",
              "<span style=\"color: #008000; text-decoration-color: #008000\">줄일 수 있습니다.\\n*   **예시:** 마요네즈 + 레몬즙 + 꿀 (또는 설탕) + 소금 + 후추\\n\\n**4. 스리라차 마요 </span>\n",
              "<span style=\"color: #008000; text-decoration-color: #008000\">소스:**\\n\\n*   **특징:** 마요네즈의 고소함과 스리라차의 매콤함이 조화롭게 어우러져, 느끼함 없이 깔끔하게 즐길 수 </span>\n",
              "<span style=\"color: #008000; text-decoration-color: #008000\">있습니다.\\n*   **예시:** 마요네즈 + 스리라차 소스 + 레몬즙\\n\\n**5. 참깨 드레싱:**\\n\\n*   **특징:** 고소하고 담백한 </span>\n",
              "<span style=\"color: #008000; text-decoration-color: #008000\">맛으로, 다른 재료들의 맛을 해치지 않으면서 은은하게 풍미를 더해줍니다.\\n*   **예시:** 시판 참깨 드레싱 또는 직접 </span>\n",
              "<span style=\"color: #008000; text-decoration-color: #008000\">만들기 (참깨 + 간장 + 식초 + 설탕 + 참기름)\\n\\n**팁:**\\n\\n*   **토핑에 따라:** 아보카도나 해초류가 많이 들어갔다면 </span>\n",
              "<span style=\"color: #008000; text-decoration-color: #008000\">간장이나 참깨 드레싱이, 신선한 채소가 많다면 매콤한 고추장 베이스 소스가 잘 어울릴 수 있습니다.\\n*   **개인 취향:**</span>\n",
              "<span style=\"color: #008000; text-decoration-color: #008000\">결국 가장 중요한 건 본인의 입맛입니다! 위에 제시된 소스들을 참고해서, 자신만의 최적의 조합을 찾아보세요.\\n\\n혹시 </span>\n",
              "<span style=\"color: #008000; text-decoration-color: #008000\">드셨던 포케에 어떤 토핑이 들어갔었는지 알려주시면, 더 잘 어울리는 소스를 추천해 드릴 수 있어요! 😊\"</span>,\n",
              "                <span style=\"color: #808000; text-decoration-color: #808000\">additional_kwargs</span>=<span style=\"font-weight: bold\">{}</span>,\n",
              "                <span style=\"color: #808000; text-decoration-color: #808000\">response_metadata</span>=<span style=\"font-weight: bold\">{</span>\n",
              "                    <span style=\"color: #008000; text-decoration-color: #008000\">'prompt_feedback'</span>: <span style=\"font-weight: bold\">{</span><span style=\"color: #008000; text-decoration-color: #008000\">'block_reason'</span>: <span style=\"color: #008080; text-decoration-color: #008080; font-weight: bold\">0</span>, <span style=\"color: #008000; text-decoration-color: #008000\">'safety_ratings'</span>: <span style=\"font-weight: bold\">[]}</span>,\n",
              "                    <span style=\"color: #008000; text-decoration-color: #008000\">'finish_reason'</span>: <span style=\"color: #008000; text-decoration-color: #008000\">'STOP'</span>,\n",
              "                    <span style=\"color: #008000; text-decoration-color: #008000\">'safety_ratings'</span>: <span style=\"font-weight: bold\">[]</span>\n",
              "                <span style=\"font-weight: bold\">}</span>,\n",
              "                <span style=\"color: #808000; text-decoration-color: #808000\">id</span>=<span style=\"color: #008000; text-decoration-color: #008000\">'run-e3579026-09ae-43e6-a9b3-a57e59ddb389-0'</span>,\n",
              "                <span style=\"color: #808000; text-decoration-color: #808000\">usage_metadata</span>=<span style=\"font-weight: bold\">{</span>\n",
              "                    <span style=\"color: #008000; text-decoration-color: #008000\">'input_tokens'</span>: <span style=\"color: #008080; text-decoration-color: #008080; font-weight: bold\">169</span>,\n",
              "                    <span style=\"color: #008000; text-decoration-color: #008000\">'output_tokens'</span>: <span style=\"color: #008080; text-decoration-color: #008080; font-weight: bold\">688</span>,\n",
              "                    <span style=\"color: #008000; text-decoration-color: #008000\">'total_tokens'</span>: <span style=\"color: #008080; text-decoration-color: #008080; font-weight: bold\">857</span>,\n",
              "                    <span style=\"color: #008000; text-decoration-color: #008000\">'input_token_details'</span>: <span style=\"font-weight: bold\">{</span><span style=\"color: #008000; text-decoration-color: #008000\">'cache_read'</span>: <span style=\"color: #008080; text-decoration-color: #008080; font-weight: bold\">0</span><span style=\"font-weight: bold\">}</span>\n",
              "                <span style=\"font-weight: bold\">}</span>\n",
              "            <span style=\"font-weight: bold\">)</span>,\n",
              "            <span style=\"color: #800080; text-decoration-color: #800080; font-weight: bold\">HumanMessage</span><span style=\"font-weight: bold\">(</span>\n",
              "                <span style=\"color: #808000; text-decoration-color: #808000\">content</span>=<span style=\"color: #008000; text-decoration-color: #008000\">'저녁 뭐 먹을까?'</span>,\n",
              "                <span style=\"color: #808000; text-decoration-color: #808000\">additional_kwargs</span>=<span style=\"font-weight: bold\">{}</span>,\n",
              "                <span style=\"color: #808000; text-decoration-color: #808000\">response_metadata</span>=<span style=\"font-weight: bold\">{}</span>,\n",
              "                <span style=\"color: #808000; text-decoration-color: #808000\">id</span>=<span style=\"color: #008000; text-decoration-color: #008000\">'ed69a99b-daf1-4617-b56d-fba1c0415fba'</span>\n",
              "            <span style=\"font-weight: bold\">)</span>\n",
              "        <span style=\"font-weight: bold\">]</span>\n",
              "    <span style=\"font-weight: bold\">}</span>,\n",
              "    <span style=\"color: #808000; text-decoration-color: #808000\">next</span>=<span style=\"font-weight: bold\">()</span>,\n",
              "    <span style=\"color: #808000; text-decoration-color: #808000\">config</span>=<span style=\"font-weight: bold\">{</span>\n",
              "        <span style=\"color: #008000; text-decoration-color: #008000\">'configurable'</span>: <span style=\"font-weight: bold\">{</span>\n",
              "            <span style=\"color: #008000; text-decoration-color: #008000\">'thread_id'</span>: <span style=\"color: #008000; text-decoration-color: #008000\">'1'</span>,\n",
              "            <span style=\"color: #008000; text-decoration-color: #008000\">'checkpoint_ns'</span>: <span style=\"color: #008000; text-decoration-color: #008000\">''</span>,\n",
              "            <span style=\"color: #008000; text-decoration-color: #008000\">'checkpoint_id'</span>: <span style=\"color: #008000; text-decoration-color: #008000\">'1f0065b8-b861-62ea-8008-542983f6c11a'</span>\n",
              "        <span style=\"font-weight: bold\">}</span>\n",
              "    <span style=\"font-weight: bold\">}</span>,\n",
              "    <span style=\"color: #808000; text-decoration-color: #808000\">metadata</span>=<span style=\"font-weight: bold\">{</span>\n",
              "        <span style=\"color: #008000; text-decoration-color: #008000\">'source'</span>: <span style=\"color: #008000; text-decoration-color: #008000\">'update'</span>,\n",
              "        <span style=\"color: #008000; text-decoration-color: #008000\">'writes'</span>: <span style=\"font-weight: bold\">{</span><span style=\"color: #008000; text-decoration-color: #008000\">'call_model'</span>: <span style=\"font-weight: bold\">{</span><span style=\"color: #008000; text-decoration-color: #008000\">'messages'</span>: <span style=\"color: #008000; text-decoration-color: #008000\">'저녁 뭐 먹을까?'</span><span style=\"font-weight: bold\">}}</span>,\n",
              "        <span style=\"color: #008000; text-decoration-color: #008000\">'thread_id'</span>: <span style=\"color: #008000; text-decoration-color: #008000\">'1'</span>,\n",
              "        <span style=\"color: #008000; text-decoration-color: #008000\">'checkpoint_ns'</span>: <span style=\"color: #008000; text-decoration-color: #008000\">''</span>,\n",
              "        <span style=\"color: #008000; text-decoration-color: #008000\">'checkpoint_id'</span>: <span style=\"color: #008000; text-decoration-color: #008000\">'1f0065b6-29f9-6f3b-8007-b753b7605042'</span>,\n",
              "        <span style=\"color: #008000; text-decoration-color: #008000\">'step'</span>: <span style=\"color: #008080; text-decoration-color: #008080; font-weight: bold\">8</span>,\n",
              "        <span style=\"color: #008000; text-decoration-color: #008000\">'parents'</span>: <span style=\"font-weight: bold\">{}</span>\n",
              "    <span style=\"font-weight: bold\">}</span>,\n",
              "    <span style=\"color: #808000; text-decoration-color: #808000\">created_at</span>=<span style=\"color: #008000; text-decoration-color: #008000\">'2025-03-21T13:51:10.109547+00:00'</span>,\n",
              "    <span style=\"color: #808000; text-decoration-color: #808000\">parent_config</span>=<span style=\"font-weight: bold\">{</span>\n",
              "        <span style=\"color: #008000; text-decoration-color: #008000\">'configurable'</span>: <span style=\"font-weight: bold\">{</span>\n",
              "            <span style=\"color: #008000; text-decoration-color: #008000\">'thread_id'</span>: <span style=\"color: #008000; text-decoration-color: #008000\">'1'</span>,\n",
              "            <span style=\"color: #008000; text-decoration-color: #008000\">'checkpoint_ns'</span>: <span style=\"color: #008000; text-decoration-color: #008000\">''</span>,\n",
              "            <span style=\"color: #008000; text-decoration-color: #008000\">'checkpoint_id'</span>: <span style=\"color: #008000; text-decoration-color: #008000\">'1f0065b6-29f9-6f3b-8007-b753b7605042'</span>\n",
              "        <span style=\"font-weight: bold\">}</span>\n",
              "    <span style=\"font-weight: bold\">}</span>,\n",
              "    <span style=\"color: #808000; text-decoration-color: #808000\">tasks</span>=<span style=\"font-weight: bold\">()</span>\n",
              "<span style=\"font-weight: bold\">)</span>\n",
              "</pre>\n"
            ]
          },
          "metadata": {}
        }
      ],
      "source": [
        "history = list(graph.get_state_history(config))\n",
        "rprint(history[0])"
      ]
    },
    {
      "cell_type": "code",
      "execution_count": null,
      "metadata": {
        "id": "gYdayqyic_YQ",
        "colab": {
          "base_uri": "https://localhost:8080/"
        },
        "outputId": "0b3eadfc-7d94-4fab-b7bf-0b4c0f3207c4"
      },
      "outputs": [
        {
          "output_type": "execute_result",
          "data": {
            "text/plain": [
              "{'messages': [HumanMessage(content='나는 오늘 점심에 우삼겹 포케를 먹었는데, 맛있었어.', additional_kwargs={}, response_metadata={}, id='feb82ba6-0540-4b77-8ed9-e37ec1e469b3'),\n",
              "  AIMessage(content='우삼겹 포케! 정말 맛있겠네요! 어떤 토핑이 들어갔어요? 맛있었다니 저도 한번 먹어보고 싶어지네요! 😊', additional_kwargs={}, response_metadata={'prompt_feedback': {'block_reason': 0, 'safety_ratings': []}, 'finish_reason': 'STOP', 'safety_ratings': []}, id='run-aa21ed15-4fb0-4c88-9246-08a6976b6688-0', usage_metadata={'input_tokens': 22, 'output_tokens': 46, 'total_tokens': 68, 'input_token_details': {'cache_read': 0}}),\n",
              "  HumanMessage(content='뭐 이것저것 많이 들어갔어. 소스가 맛있더라.', additional_kwargs={}, response_metadata={}, id='0bd731ba-4f37-4961-b14b-30e8f92683bc'),\n",
              "  AIMessage(content='소스가 맛있었다니 정말 궁금하네요! 혹시 어떤 종류의 소스였는지 기억나세요? 예를 들어, 간장 베이스인지, 고추장 베이스인지, 아니면 마요네즈 베이스인지 같은 것들이요! 😋', additional_kwargs={}, response_metadata={'prompt_feedback': {'block_reason': 0, 'safety_ratings': []}, 'finish_reason': 'STOP', 'safety_ratings': []}, id='run-5ad09b3d-3985-4ae2-9272-e40a8767c097-0', usage_metadata={'input_tokens': 87, 'output_tokens': 71, 'total_tokens': 158, 'input_token_details': {'cache_read': 0}}),\n",
              "  HumanMessage(content='어떤 소스가 가장 어울렸을까?', additional_kwargs={}, response_metadata={}, id='ca759cca-a421-41b5-900a-c0c338d2d2b5'),\n",
              "  AIMessage(content=\"우삼겹 포케에 어울리는 소스는 정말 다양해서 어떤 게 가장 '최고'라고 단정하기는 어렵지만, 몇 가지 인기 있는 조합과 특징을 알려드릴게요. 어떤 맛을 선호하는지에 따라 선택하시면 좋을 것 같아요!\\n\\n**1. 간장 베이스 소스:**\\n\\n*   **특징:** 짭짤하고 감칠맛이 돌아서 우삼겹의 고소한 맛과 잘 어울립니다. 참기름이나 깨를 더하면 더욱 풍미가 깊어집니다.\\n*   **예시:** 간장 + 미림 + 설탕 + 다진 마늘 + 참기름 + 깨\\n\\n**2. 매콤한 고추장 베이스 소스:**\\n\\n*   **특징:** 느끼함을 잡아주고 입맛을 돋우는 매력이 있습니다. 우삼겹의 기름진 맛과 찰떡궁합!\\n*   **예시:** 고추장 + 식초 + 설탕 + 다진 마늘 + 참기름 + 깨\\n\\n**3. 마요네즈 베이스 소스:**\\n\\n*   **특징:** 부드럽고 고소한 맛이 강해서, 좀 더 크리미한 포케를 즐기고 싶을 때 좋습니다. 와사비나 스리라차 소스를 살짝 더하면 느끼함을 줄일 수 있습니다.\\n*   **예시:** 마요네즈 + 레몬즙 + 꿀 (또는 설탕) + 소금 + 후추\\n\\n**4. 스리라차 마요 소스:**\\n\\n*   **특징:** 마요네즈의 고소함과 스리라차의 매콤함이 조화롭게 어우러져, 느끼함 없이 깔끔하게 즐길 수 있습니다.\\n*   **예시:** 마요네즈 + 스리라차 소스 + 레몬즙\\n\\n**5. 참깨 드레싱:**\\n\\n*   **특징:** 고소하고 담백한 맛으로, 다른 재료들의 맛을 해치지 않으면서 은은하게 풍미를 더해줍니다.\\n*   **예시:** 시판 참깨 드레싱 또는 직접 만들기 (참깨 + 간장 + 식초 + 설탕 + 참기름)\\n\\n**팁:**\\n\\n*   **토핑에 따라:** 아보카도나 해초류가 많이 들어갔다면 간장이나 참깨 드레싱이, 신선한 채소가 많다면 매콤한 고추장 베이스 소스가 잘 어울릴 수 있습니다.\\n*   **개인 취향:** 결국 가장 중요한 건 본인의 입맛입니다! 위에 제시된 소스들을 참고해서, 자신만의 최적의 조합을 찾아보세요.\\n\\n혹시 드셨던 포케에 어떤 토핑이 들어갔었는지 알려주시면, 더 잘 어울리는 소스를 추천해 드릴 수 있어요! 😊\", additional_kwargs={}, response_metadata={'prompt_feedback': {'block_reason': 0, 'safety_ratings': []}, 'finish_reason': 'STOP', 'safety_ratings': []}, id='run-e3579026-09ae-43e6-a9b3-a57e59ddb389-0', usage_metadata={'input_tokens': 169, 'output_tokens': 688, 'total_tokens': 857, 'input_token_details': {'cache_read': 0}}),\n",
              "  HumanMessage(content='저녁 뭐 먹을까?', additional_kwargs={}, response_metadata={}, id='ed69a99b-daf1-4617-b56d-fba1c0415fba')]}"
            ]
          },
          "metadata": {},
          "execution_count": 20
        }
      ],
      "source": [
        "graph.invoke(None, config = history[0].config)"
      ]
    },
    {
      "cell_type": "markdown",
      "source": [
        "## SQLite를 이용한 Checkpointing"
      ],
      "metadata": {
        "id": "PYHw6rhIeQwJ"
      }
    },
    {
      "cell_type": "markdown",
      "source": [
        "`SqliteSaver`를 사용해, 체크포인팅을 저장할 수 있습니다."
      ],
      "metadata": {
        "id": "RMeF0TXbeeMX"
      }
    },
    {
      "cell_type": "code",
      "source": [
        "from langgraph.checkpoint.sqlite import SqliteSaver\n",
        "import sqlite3\n",
        "\n",
        "conn = sqlite3.connect(\"checkpoints.sqlite\", check_same_thread=False)\n",
        "checkpointer = SqliteSaver(conn)\n",
        "\n",
        "graph = builder.compile(checkpointer=checkpointer)\n"
      ],
      "metadata": {
        "id": "k6P-QVy2eQKL"
      },
      "execution_count": null,
      "outputs": []
    },
    {
      "cell_type": "code",
      "source": [
        "config = {\"configurable\": {\"thread_id\": \"1\"}}\n",
        "\n",
        "\n",
        "input_message = HumanMessage(input())\n",
        "\n",
        "for chunk in graph.stream({\"messages\": [input_message]},\n",
        "                          config, stream_mode=\"values\"):\n",
        "    chunk[\"messages\"][-1].pretty_print()"
      ],
      "metadata": {
        "id": "y51DH3RUgLRA",
        "colab": {
          "base_uri": "https://localhost:8080/"
        },
        "outputId": "5be38427-c79c-47cb-d688-ea9d4a93c28e"
      },
      "execution_count": null,
      "outputs": [
        {
          "output_type": "stream",
          "name": "stdout",
          "text": [
            "오늘 점심으로는 타코를 먹었어! 화요일이었거든.\n",
            "================================\u001b[1m Human Message \u001b[0m=================================\n",
            "\n",
            "오늘 점심으로는 타코를 먹었어! 화요일이었거든.\n",
            "==================================\u001b[1m Ai Message \u001b[0m==================================\n",
            "\n",
            "오, 타코 화요일을 즐기셨군요! 어떤 타코를 드셨어요? 맛있었겠네요! 🌮😋\n"
          ]
        }
      ]
    },
    {
      "cell_type": "code",
      "source": [
        "input_message = {\"role\": \"user\", \"content\": \"너는 뭐가 좋겠니?\"}\n",
        "for chunk in graph.stream({\"messages\": [input_message]}, config, stream_mode=\"values\"):\n",
        "    chunk[\"messages\"][-1].pretty_print()"
      ],
      "metadata": {
        "id": "s3qzfldmgs83",
        "colab": {
          "base_uri": "https://localhost:8080/"
        },
        "outputId": "4f7674d1-49dc-4445-e2da-f72c3ee4655c"
      },
      "execution_count": null,
      "outputs": [
        {
          "output_type": "stream",
          "name": "stdout",
          "text": [
            "================================\u001b[1m Human Message \u001b[0m=================================\n",
            "\n",
            "너는 뭐가 좋겠니?\n",
            "==================================\u001b[1m Ai Message \u001b[0m==================================\n",
            "\n",
            "제가 먹을 수 있다면, 저는 신선한 재료로 만든 맛있는 비빔밥이 먹고 싶어요! 다양한 채소와 고기, 그리고 고소한 참기름 향이 정말 좋을 것 같아요. 😋 하지만 저는 먹을 수 없으니, 당신이 좋아하는 음식을 드시는 게 가장 좋겠죠? 😉\n"
          ]
        }
      ]
    },
    {
      "cell_type": "markdown",
      "metadata": {
        "id": "iGolsE_rc_YQ"
      },
      "source": [
        "## Store를 이용한 장기 메모리 추가하기   \n",
        "\n",
        "Thread Checkpoint는 단일 세션의 메모리를 저장하기에는 효과적이지만,   \n",
        "세션이 유지되지 않는 경우에는 다른 방법이 필요합니다.   \n",
        "\n",
        "InMemoryStore를 통해, 장기 메모리를 추가할 수 있습니다.\n"
      ]
    },
    {
      "cell_type": "code",
      "execution_count": null,
      "metadata": {
        "id": "ugR2D-yQc_YQ"
      },
      "outputs": [],
      "source": [
        "from langgraph.store.memory import InMemoryStore\n",
        "in_memory_store = InMemoryStore()"
      ]
    },
    {
      "cell_type": "markdown",
      "metadata": {
        "id": "1vwV1gyUc_YQ"
      },
      "source": [
        "Namespace를 통해 메모리 위치를 설정합니다."
      ]
    },
    {
      "cell_type": "code",
      "execution_count": null,
      "metadata": {
        "id": "DPdOsjE6c_YQ"
      },
      "outputs": [],
      "source": [
        "namespace_for_memory = ('1', 'memories')"
      ]
    },
    {
      "cell_type": "code",
      "execution_count": null,
      "metadata": {
        "id": "ruj4D-ekc_YQ",
        "colab": {
          "base_uri": "https://localhost:8080/"
        },
        "outputId": "223b3c66-63a2-4d06-e835-576c818ed823"
      },
      "outputs": [
        {
          "output_type": "execute_result",
          "data": {
            "text/plain": [
              "[Item(namespace=['1', 'memories'], key='b5de014e-c0b5-4db0-b35d-de5a42866e44', value={'information': '지금은 랭그래프 메모리 실습 중입니다.'}, created_at='2025-03-21T13:55:54.263667+00:00', updated_at='2025-03-21T13:55:54.263670+00:00', score=None),\n",
              " Item(namespace=['1', 'memories'], key='e28b4187-42db-4d89-8025-65f32e07feb7', value={'information': 'GPT 4.5가 엄청 비싸요.'}, created_at='2025-03-21T13:56:15.410960+00:00', updated_at='2025-03-21T13:56:15.410981+00:00', score=None)]"
            ]
          },
          "metadata": {},
          "execution_count": 28
        }
      ],
      "source": [
        "import uuid\n",
        "memory_id = str(uuid.uuid4())\n",
        "\n",
        "memory = {'information' : \"GPT 4.5가 엄청 비싸요.\"}\n",
        "in_memory_store.put(namespace_for_memory, memory_id, memory)\n",
        "memories = in_memory_store.search(namespace_for_memory)\n",
        "memories"
      ]
    },
    {
      "cell_type": "code",
      "execution_count": null,
      "metadata": {
        "id": "M174_QRNc_YR",
        "colab": {
          "base_uri": "https://localhost:8080/"
        },
        "outputId": "e8f453d8-5aa4-45d1-c171-0ad4182de34e"
      },
      "outputs": [
        {
          "output_type": "execute_result",
          "data": {
            "text/plain": [
              "[Item(namespace=['1', 'memories'], key='b5de014e-c0b5-4db0-b35d-de5a42866e44', value={'information': '지금은 랭그래프 메모리 실습 중입니다.'}, created_at='2025-03-21T13:55:54.263667+00:00', updated_at='2025-03-21T13:55:54.263670+00:00', score=None),\n",
              " Item(namespace=['1', 'memories'], key='e28b4187-42db-4d89-8025-65f32e07feb7', value={'information': 'GPT 4.5가 엄청 비싸요.'}, created_at='2025-03-21T13:56:15.410960+00:00', updated_at='2025-03-21T13:56:15.410981+00:00', score=None),\n",
              " Item(namespace=['1', 'memories'], key='1eeaaa4a-b54f-4e18-8ffd-f48dfb429de5', value={'name': 'FastCampus'}, created_at='2025-03-21T13:56:45.283100+00:00', updated_at='2025-03-21T13:56:45.283104+00:00', score=None)]"
            ]
          },
          "metadata": {},
          "execution_count": 29
        }
      ],
      "source": [
        "memory = {'name' : \"FastCampus\"}\n",
        "memory_id = str(uuid.uuid4())\n",
        "\n",
        "in_memory_store.put(namespace_for_memory, memory_id, memory)\n",
        "# memory_id에 매핑되는 구조\n",
        "\n",
        "memories = in_memory_store.search(namespace_for_memory)\n",
        "memories\n"
      ]
    },
    {
      "cell_type": "code",
      "execution_count": null,
      "metadata": {
        "id": "_kagTVnIc_YR",
        "colab": {
          "base_uri": "https://localhost:8080/"
        },
        "outputId": "db880614-5fbd-4da7-f1e8-e64036c02174"
      },
      "outputs": [
        {
          "output_type": "execute_result",
          "data": {
            "text/plain": [
              "[Item(namespace=['1', 'memories'], key='b5de014e-c0b5-4db0-b35d-de5a42866e44', value={'information': '지금은 랭그래프 메모리 실습 중입니다.'}, created_at='2025-03-21T13:55:54.263667+00:00', updated_at='2025-03-21T13:55:54.263670+00:00', score=None),\n",
              " Item(namespace=['1', 'memories'], key='e28b4187-42db-4d89-8025-65f32e07feb7', value={'information': 'GPT 4.5가 엄청 비싸요.'}, created_at='2025-03-21T13:56:15.410960+00:00', updated_at='2025-03-21T13:56:15.410981+00:00', score=None),\n",
              " Item(namespace=['1', 'memories'], key='1eeaaa4a-b54f-4e18-8ffd-f48dfb429de5', value={'name': 'FastCampus'}, created_at='2025-03-21T13:56:45.283100+00:00', updated_at='2025-03-21T13:56:45.283104+00:00', score=None),\n",
              " Item(namespace=['1', 'memories'], key='6a4f754b-c475-467d-856c-86854e3099a7', value={'name': 'LangGraph'}, created_at='2025-03-21T13:57:05.356274+00:00', updated_at='2025-03-21T13:57:05.356276+00:00', score=None)]"
            ]
          },
          "metadata": {},
          "execution_count": 30
        }
      ],
      "source": [
        "# 메모리 레코드 추가하기\n",
        "memory_id = str(uuid.uuid4())\n",
        "new_memory  = {'name' : \"LangGraph\"}\n",
        "\n",
        "in_memory_store.put(namespace_for_memory, memory_id, new_memory)\n",
        "# memory_id에 매핑되는 구조\n",
        "\n",
        "memories = in_memory_store.search(namespace_for_memory)\n",
        "memories"
      ]
    },
    {
      "cell_type": "code",
      "execution_count": null,
      "metadata": {
        "id": "TTMXsqd1c_YW",
        "colab": {
          "base_uri": "https://localhost:8080/"
        },
        "outputId": "3e84f64d-e7c3-4d2f-d039-b57cd23ab702"
      },
      "outputs": [
        {
          "output_type": "execute_result",
          "data": {
            "text/plain": [
              "[Item(namespace=['1', 'memories'], key='b5de014e-c0b5-4db0-b35d-de5a42866e44', value={'information': '지금은 랭그래프 메모리 실습 중입니다.'}, created_at='2025-03-21T13:55:54.263667+00:00', updated_at='2025-03-21T13:55:54.263670+00:00', score=None),\n",
              " Item(namespace=['1', 'memories'], key='e28b4187-42db-4d89-8025-65f32e07feb7', value={'information': 'GPT 4.5가 엄청 비싸요.'}, created_at='2025-03-21T13:56:15.410960+00:00', updated_at='2025-03-21T13:56:15.410981+00:00', score=None),\n",
              " Item(namespace=['1', 'memories'], key='1eeaaa4a-b54f-4e18-8ffd-f48dfb429de5', value={'name': 'FastCampus'}, created_at='2025-03-21T13:56:45.283100+00:00', updated_at='2025-03-21T13:56:45.283104+00:00', score=None),\n",
              " Item(namespace=['1', 'memories'], key='6a4f754b-c475-467d-856c-86854e3099a7', value={'name': '패스트캠퍼스'}, created_at='2025-03-21T13:57:21.109558+00:00', updated_at='2025-03-21T13:57:21.109561+00:00', score=None)]"
            ]
          },
          "metadata": {},
          "execution_count": 31
        }
      ],
      "source": [
        "# 메모리 덮어씌우기\n",
        "new_memory  = {'name' : \"패스트캠퍼스\"}\n",
        "\n",
        "in_memory_store.put(namespace_for_memory, memory_id, new_memory)\n",
        "# memory_id에 매핑되는 구조\n",
        "\n",
        "memories = in_memory_store.search(namespace_for_memory)\n",
        "memories"
      ]
    },
    {
      "cell_type": "code",
      "execution_count": null,
      "metadata": {
        "id": "pop9L8FTc_YW",
        "colab": {
          "base_uri": "https://localhost:8080/"
        },
        "outputId": "cf6e8164-c96f-4c1a-f3d6-07a5a1f9a524"
      },
      "outputs": [
        {
          "output_type": "execute_result",
          "data": {
            "text/plain": [
              "{'namespace': ['1', 'memories'],\n",
              " 'key': '6a4f754b-c475-467d-856c-86854e3099a7',\n",
              " 'value': {'name': '패스트캠퍼스'},\n",
              " 'created_at': '2025-03-21T13:57:21.109558+00:00',\n",
              " 'updated_at': '2025-03-21T13:57:21.109561+00:00',\n",
              " 'score': None}"
            ]
          },
          "metadata": {},
          "execution_count": 32
        }
      ],
      "source": [
        "memories[-1].dict()"
      ]
    },
    {
      "cell_type": "markdown",
      "metadata": {
        "id": "we0phY9Kc_YW"
      },
      "source": [
        "## memory 검색    \n",
        "메모리에 임베딩 모델을 설정하면 임베딩 기반의 인덱싱/검색이 가능합니다.    \n",
        "주로 사용할 수 있는 다국어 임베딩은 다음과 같습니다.   \n",
        "1. 온라인/ OpenAI의 `text-embedding-3-small`, `text-embedding-3-large` (유료)\n",
        "2. 온라인/ Google `gemini-embedding-exp-03-07` (유료, 무료 제한 1일 100개)\n",
        "3. 오프라인/ HuggingFace에서 지원하는 `bge-m3`, `multilingual-e5`, `KURE-v1`    \n",
        "\n",
        "이번 실습에서는 가장 작은 임베딩 모델 중 하나인 `text-embedding-3-small`를 사용합니다.   \n",
        "\n",
        "**실제 임베딩 모델을 선정하실 때는 GPU 자원에 따라 MTEB 리더보드 (https://huggingface.co/spaces/mteb/leaderboard) 에서 한국어 성능 순위를 참고하시는 것을 추천합니다!**"
      ]
    },
    {
      "cell_type": "code",
      "execution_count": null,
      "metadata": {
        "id": "1m1mUU-Sc_YW",
        "colab": {
          "base_uri": "https://localhost:8080/"
        },
        "outputId": "d476f80e-6ecf-46d5-f00b-6dc90026917c"
      },
      "outputs": [
        {
          "output_type": "stream",
          "name": "stdout",
          "text": [
            "Collecting langchain-huggingface\n",
            "  Downloading langchain_huggingface-0.1.2-py3-none-any.whl.metadata (1.3 kB)\n",
            "Requirement already satisfied: sentence-transformers in /usr/local/lib/python3.11/dist-packages (3.4.1)\n",
            "Requirement already satisfied: huggingface-hub>=0.23.0 in /usr/local/lib/python3.11/dist-packages (from langchain-huggingface) (0.29.3)\n",
            "Requirement already satisfied: langchain-core<0.4.0,>=0.3.15 in /usr/local/lib/python3.11/dist-packages (from langchain-huggingface) (0.3.45)\n",
            "Requirement already satisfied: tokenizers>=0.19.1 in /usr/local/lib/python3.11/dist-packages (from langchain-huggingface) (0.21.1)\n",
            "Requirement already satisfied: transformers>=4.39.0 in /usr/local/lib/python3.11/dist-packages (from langchain-huggingface) (4.49.0)\n",
            "Requirement already satisfied: tqdm in /usr/local/lib/python3.11/dist-packages (from sentence-transformers) (4.67.1)\n",
            "Requirement already satisfied: torch>=1.11.0 in /usr/local/lib/python3.11/dist-packages (from sentence-transformers) (2.6.0+cu124)\n",
            "Requirement already satisfied: scikit-learn in /usr/local/lib/python3.11/dist-packages (from sentence-transformers) (1.6.1)\n",
            "Requirement already satisfied: scipy in /usr/local/lib/python3.11/dist-packages (from sentence-transformers) (1.14.1)\n",
            "Requirement already satisfied: Pillow in /usr/local/lib/python3.11/dist-packages (from sentence-transformers) (11.1.0)\n",
            "Requirement already satisfied: filelock in /usr/local/lib/python3.11/dist-packages (from huggingface-hub>=0.23.0->langchain-huggingface) (3.18.0)\n",
            "Requirement already satisfied: fsspec>=2023.5.0 in /usr/local/lib/python3.11/dist-packages (from huggingface-hub>=0.23.0->langchain-huggingface) (2025.3.0)\n",
            "Requirement already satisfied: packaging>=20.9 in /usr/local/lib/python3.11/dist-packages (from huggingface-hub>=0.23.0->langchain-huggingface) (24.2)\n",
            "Requirement already satisfied: pyyaml>=5.1 in /usr/local/lib/python3.11/dist-packages (from huggingface-hub>=0.23.0->langchain-huggingface) (6.0.2)\n",
            "Requirement already satisfied: requests in /usr/local/lib/python3.11/dist-packages (from huggingface-hub>=0.23.0->langchain-huggingface) (2.32.3)\n",
            "Requirement already satisfied: typing-extensions>=3.7.4.3 in /usr/local/lib/python3.11/dist-packages (from huggingface-hub>=0.23.0->langchain-huggingface) (4.12.2)\n",
            "Requirement already satisfied: langsmith<0.4,>=0.1.125 in /usr/local/lib/python3.11/dist-packages (from langchain-core<0.4.0,>=0.3.15->langchain-huggingface) (0.3.15)\n",
            "Requirement already satisfied: tenacity!=8.4.0,<10.0.0,>=8.1.0 in /usr/local/lib/python3.11/dist-packages (from langchain-core<0.4.0,>=0.3.15->langchain-huggingface) (9.0.0)\n",
            "Requirement already satisfied: jsonpatch<2.0,>=1.33 in /usr/local/lib/python3.11/dist-packages (from langchain-core<0.4.0,>=0.3.15->langchain-huggingface) (1.33)\n",
            "Requirement already satisfied: pydantic<3.0.0,>=2.5.2 in /usr/local/lib/python3.11/dist-packages (from langchain-core<0.4.0,>=0.3.15->langchain-huggingface) (2.10.6)\n",
            "Requirement already satisfied: networkx in /usr/local/lib/python3.11/dist-packages (from torch>=1.11.0->sentence-transformers) (3.4.2)\n",
            "Requirement already satisfied: jinja2 in /usr/local/lib/python3.11/dist-packages (from torch>=1.11.0->sentence-transformers) (3.1.6)\n",
            "Collecting nvidia-cuda-nvrtc-cu12==12.4.127 (from torch>=1.11.0->sentence-transformers)\n",
            "  Downloading nvidia_cuda_nvrtc_cu12-12.4.127-py3-none-manylinux2014_x86_64.whl.metadata (1.5 kB)\n",
            "Collecting nvidia-cuda-runtime-cu12==12.4.127 (from torch>=1.11.0->sentence-transformers)\n",
            "  Downloading nvidia_cuda_runtime_cu12-12.4.127-py3-none-manylinux2014_x86_64.whl.metadata (1.5 kB)\n",
            "Collecting nvidia-cuda-cupti-cu12==12.4.127 (from torch>=1.11.0->sentence-transformers)\n",
            "  Downloading nvidia_cuda_cupti_cu12-12.4.127-py3-none-manylinux2014_x86_64.whl.metadata (1.6 kB)\n",
            "Collecting nvidia-cudnn-cu12==9.1.0.70 (from torch>=1.11.0->sentence-transformers)\n",
            "  Downloading nvidia_cudnn_cu12-9.1.0.70-py3-none-manylinux2014_x86_64.whl.metadata (1.6 kB)\n",
            "Collecting nvidia-cublas-cu12==12.4.5.8 (from torch>=1.11.0->sentence-transformers)\n",
            "  Downloading nvidia_cublas_cu12-12.4.5.8-py3-none-manylinux2014_x86_64.whl.metadata (1.5 kB)\n",
            "Collecting nvidia-cufft-cu12==11.2.1.3 (from torch>=1.11.0->sentence-transformers)\n",
            "  Downloading nvidia_cufft_cu12-11.2.1.3-py3-none-manylinux2014_x86_64.whl.metadata (1.5 kB)\n",
            "Collecting nvidia-curand-cu12==10.3.5.147 (from torch>=1.11.0->sentence-transformers)\n",
            "  Downloading nvidia_curand_cu12-10.3.5.147-py3-none-manylinux2014_x86_64.whl.metadata (1.5 kB)\n",
            "Collecting nvidia-cusolver-cu12==11.6.1.9 (from torch>=1.11.0->sentence-transformers)\n",
            "  Downloading nvidia_cusolver_cu12-11.6.1.9-py3-none-manylinux2014_x86_64.whl.metadata (1.6 kB)\n",
            "Collecting nvidia-cusparse-cu12==12.3.1.170 (from torch>=1.11.0->sentence-transformers)\n",
            "  Downloading nvidia_cusparse_cu12-12.3.1.170-py3-none-manylinux2014_x86_64.whl.metadata (1.6 kB)\n",
            "Requirement already satisfied: nvidia-cusparselt-cu12==0.6.2 in /usr/local/lib/python3.11/dist-packages (from torch>=1.11.0->sentence-transformers) (0.6.2)\n",
            "Requirement already satisfied: nvidia-nccl-cu12==2.21.5 in /usr/local/lib/python3.11/dist-packages (from torch>=1.11.0->sentence-transformers) (2.21.5)\n",
            "Requirement already satisfied: nvidia-nvtx-cu12==12.4.127 in /usr/local/lib/python3.11/dist-packages (from torch>=1.11.0->sentence-transformers) (12.4.127)\n",
            "Collecting nvidia-nvjitlink-cu12==12.4.127 (from torch>=1.11.0->sentence-transformers)\n",
            "  Downloading nvidia_nvjitlink_cu12-12.4.127-py3-none-manylinux2014_x86_64.whl.metadata (1.5 kB)\n",
            "Requirement already satisfied: triton==3.2.0 in /usr/local/lib/python3.11/dist-packages (from torch>=1.11.0->sentence-transformers) (3.2.0)\n",
            "Requirement already satisfied: sympy==1.13.1 in /usr/local/lib/python3.11/dist-packages (from torch>=1.11.0->sentence-transformers) (1.13.1)\n",
            "Requirement already satisfied: mpmath<1.4,>=1.1.0 in /usr/local/lib/python3.11/dist-packages (from sympy==1.13.1->torch>=1.11.0->sentence-transformers) (1.3.0)\n",
            "Requirement already satisfied: numpy>=1.17 in /usr/local/lib/python3.11/dist-packages (from transformers>=4.39.0->langchain-huggingface) (2.0.2)\n",
            "Requirement already satisfied: regex!=2019.12.17 in /usr/local/lib/python3.11/dist-packages (from transformers>=4.39.0->langchain-huggingface) (2024.11.6)\n",
            "Requirement already satisfied: safetensors>=0.4.1 in /usr/local/lib/python3.11/dist-packages (from transformers>=4.39.0->langchain-huggingface) (0.5.3)\n",
            "Requirement already satisfied: joblib>=1.2.0 in /usr/local/lib/python3.11/dist-packages (from scikit-learn->sentence-transformers) (1.4.2)\n",
            "Requirement already satisfied: threadpoolctl>=3.1.0 in /usr/local/lib/python3.11/dist-packages (from scikit-learn->sentence-transformers) (3.6.0)\n",
            "Requirement already satisfied: jsonpointer>=1.9 in /usr/local/lib/python3.11/dist-packages (from jsonpatch<2.0,>=1.33->langchain-core<0.4.0,>=0.3.15->langchain-huggingface) (3.0.0)\n",
            "Requirement already satisfied: httpx<1,>=0.23.0 in /usr/local/lib/python3.11/dist-packages (from langsmith<0.4,>=0.1.125->langchain-core<0.4.0,>=0.3.15->langchain-huggingface) (0.28.1)\n",
            "Requirement already satisfied: orjson<4.0.0,>=3.9.14 in /usr/local/lib/python3.11/dist-packages (from langsmith<0.4,>=0.1.125->langchain-core<0.4.0,>=0.3.15->langchain-huggingface) (3.10.15)\n",
            "Requirement already satisfied: requests-toolbelt<2.0.0,>=1.0.0 in /usr/local/lib/python3.11/dist-packages (from langsmith<0.4,>=0.1.125->langchain-core<0.4.0,>=0.3.15->langchain-huggingface) (1.0.0)\n",
            "Requirement already satisfied: zstandard<0.24.0,>=0.23.0 in /usr/local/lib/python3.11/dist-packages (from langsmith<0.4,>=0.1.125->langchain-core<0.4.0,>=0.3.15->langchain-huggingface) (0.23.0)\n",
            "Requirement already satisfied: annotated-types>=0.6.0 in /usr/local/lib/python3.11/dist-packages (from pydantic<3.0.0,>=2.5.2->langchain-core<0.4.0,>=0.3.15->langchain-huggingface) (0.7.0)\n",
            "Requirement already satisfied: pydantic-core==2.27.2 in /usr/local/lib/python3.11/dist-packages (from pydantic<3.0.0,>=2.5.2->langchain-core<0.4.0,>=0.3.15->langchain-huggingface) (2.27.2)\n",
            "Requirement already satisfied: charset-normalizer<4,>=2 in /usr/local/lib/python3.11/dist-packages (from requests->huggingface-hub>=0.23.0->langchain-huggingface) (3.4.1)\n",
            "Requirement already satisfied: idna<4,>=2.5 in /usr/local/lib/python3.11/dist-packages (from requests->huggingface-hub>=0.23.0->langchain-huggingface) (3.10)\n",
            "Requirement already satisfied: urllib3<3,>=1.21.1 in /usr/local/lib/python3.11/dist-packages (from requests->huggingface-hub>=0.23.0->langchain-huggingface) (2.3.0)\n",
            "Requirement already satisfied: certifi>=2017.4.17 in /usr/local/lib/python3.11/dist-packages (from requests->huggingface-hub>=0.23.0->langchain-huggingface) (2025.1.31)\n",
            "Requirement already satisfied: MarkupSafe>=2.0 in /usr/local/lib/python3.11/dist-packages (from jinja2->torch>=1.11.0->sentence-transformers) (3.0.2)\n",
            "Requirement already satisfied: anyio in /usr/local/lib/python3.11/dist-packages (from httpx<1,>=0.23.0->langsmith<0.4,>=0.1.125->langchain-core<0.4.0,>=0.3.15->langchain-huggingface) (4.9.0)\n",
            "Requirement already satisfied: httpcore==1.* in /usr/local/lib/python3.11/dist-packages (from httpx<1,>=0.23.0->langsmith<0.4,>=0.1.125->langchain-core<0.4.0,>=0.3.15->langchain-huggingface) (1.0.7)\n",
            "Requirement already satisfied: h11<0.15,>=0.13 in /usr/local/lib/python3.11/dist-packages (from httpcore==1.*->httpx<1,>=0.23.0->langsmith<0.4,>=0.1.125->langchain-core<0.4.0,>=0.3.15->langchain-huggingface) (0.14.0)\n",
            "Requirement already satisfied: sniffio>=1.1 in /usr/local/lib/python3.11/dist-packages (from anyio->httpx<1,>=0.23.0->langsmith<0.4,>=0.1.125->langchain-core<0.4.0,>=0.3.15->langchain-huggingface) (1.3.1)\n",
            "Downloading langchain_huggingface-0.1.2-py3-none-any.whl (21 kB)\n",
            "Downloading nvidia_cublas_cu12-12.4.5.8-py3-none-manylinux2014_x86_64.whl (363.4 MB)\n",
            "\u001b[2K   \u001b[90m━━━━━━━━━━━━━━━━━━━━━━━━━━━━━━━━━━━━━━━━\u001b[0m \u001b[32m363.4/363.4 MB\u001b[0m \u001b[31m4.9 MB/s\u001b[0m eta \u001b[36m0:00:00\u001b[0m\n",
            "\u001b[?25hDownloading nvidia_cuda_cupti_cu12-12.4.127-py3-none-manylinux2014_x86_64.whl (13.8 MB)\n",
            "\u001b[2K   \u001b[90m━━━━━━━━━━━━━━━━━━━━━━━━━━━━━━━━━━━━━━━━\u001b[0m \u001b[32m13.8/13.8 MB\u001b[0m \u001b[31m67.0 MB/s\u001b[0m eta \u001b[36m0:00:00\u001b[0m\n",
            "\u001b[?25hDownloading nvidia_cuda_nvrtc_cu12-12.4.127-py3-none-manylinux2014_x86_64.whl (24.6 MB)\n",
            "\u001b[2K   \u001b[90m━━━━━━━━━━━━━━━━━━━━━━━━━━━━━━━━━━━━━━━━\u001b[0m \u001b[32m24.6/24.6 MB\u001b[0m \u001b[31m36.2 MB/s\u001b[0m eta \u001b[36m0:00:00\u001b[0m\n",
            "\u001b[?25hDownloading nvidia_cuda_runtime_cu12-12.4.127-py3-none-manylinux2014_x86_64.whl (883 kB)\n",
            "\u001b[2K   \u001b[90m━━━━━━━━━━━━━━━━━━━━━━━━━━━━━━━━━━━━━━━━\u001b[0m \u001b[32m883.7/883.7 kB\u001b[0m \u001b[31m47.5 MB/s\u001b[0m eta \u001b[36m0:00:00\u001b[0m\n",
            "\u001b[?25hDownloading nvidia_cudnn_cu12-9.1.0.70-py3-none-manylinux2014_x86_64.whl (664.8 MB)\n",
            "\u001b[2K   \u001b[90m━━━━━━━━━━━━━━━━━━━━━━━━━━━━━━━━━━━━━━━━\u001b[0m \u001b[32m664.8/664.8 MB\u001b[0m \u001b[31m2.8 MB/s\u001b[0m eta \u001b[36m0:00:00\u001b[0m\n",
            "\u001b[?25hDownloading nvidia_cufft_cu12-11.2.1.3-py3-none-manylinux2014_x86_64.whl (211.5 MB)\n",
            "\u001b[2K   \u001b[90m━━━━━━━━━━━━━━━━━━━━━━━━━━━━━━━━━━━━━━━━\u001b[0m \u001b[32m211.5/211.5 MB\u001b[0m \u001b[31m5.7 MB/s\u001b[0m eta \u001b[36m0:00:00\u001b[0m\n",
            "\u001b[?25hDownloading nvidia_curand_cu12-10.3.5.147-py3-none-manylinux2014_x86_64.whl (56.3 MB)\n",
            "\u001b[2K   \u001b[90m━━━━━━━━━━━━━━━━━━━━━━━━━━━━━━━━━━━━━━━━\u001b[0m \u001b[32m56.3/56.3 MB\u001b[0m \u001b[31m18.1 MB/s\u001b[0m eta \u001b[36m0:00:00\u001b[0m\n",
            "\u001b[?25hDownloading nvidia_cusolver_cu12-11.6.1.9-py3-none-manylinux2014_x86_64.whl (127.9 MB)\n",
            "\u001b[2K   \u001b[90m━━━━━━━━━━━━━━━━━━━━━━━━━━━━━━━━━━━━━━━━\u001b[0m \u001b[32m127.9/127.9 MB\u001b[0m \u001b[31m7.1 MB/s\u001b[0m eta \u001b[36m0:00:00\u001b[0m\n",
            "\u001b[?25hDownloading nvidia_cusparse_cu12-12.3.1.170-py3-none-manylinux2014_x86_64.whl (207.5 MB)\n",
            "\u001b[2K   \u001b[90m━━━━━━━━━━━━━━━━━━━━━━━━━━━━━━━━━━━━━━━━\u001b[0m \u001b[32m207.5/207.5 MB\u001b[0m \u001b[31m6.1 MB/s\u001b[0m eta \u001b[36m0:00:00\u001b[0m\n",
            "\u001b[?25hDownloading nvidia_nvjitlink_cu12-12.4.127-py3-none-manylinux2014_x86_64.whl (21.1 MB)\n",
            "\u001b[2K   \u001b[90m━━━━━━━━━━━━━━━━━━━━━━━━━━━━━━━━━━━━━━━━\u001b[0m \u001b[32m21.1/21.1 MB\u001b[0m \u001b[31m93.6 MB/s\u001b[0m eta \u001b[36m0:00:00\u001b[0m\n",
            "\u001b[?25hInstalling collected packages: nvidia-nvjitlink-cu12, nvidia-curand-cu12, nvidia-cufft-cu12, nvidia-cuda-runtime-cu12, nvidia-cuda-nvrtc-cu12, nvidia-cuda-cupti-cu12, nvidia-cublas-cu12, nvidia-cusparse-cu12, nvidia-cudnn-cu12, nvidia-cusolver-cu12, langchain-huggingface\n",
            "  Attempting uninstall: nvidia-nvjitlink-cu12\n",
            "    Found existing installation: nvidia-nvjitlink-cu12 12.5.82\n",
            "    Uninstalling nvidia-nvjitlink-cu12-12.5.82:\n",
            "      Successfully uninstalled nvidia-nvjitlink-cu12-12.5.82\n",
            "  Attempting uninstall: nvidia-curand-cu12\n",
            "    Found existing installation: nvidia-curand-cu12 10.3.6.82\n",
            "    Uninstalling nvidia-curand-cu12-10.3.6.82:\n",
            "      Successfully uninstalled nvidia-curand-cu12-10.3.6.82\n",
            "  Attempting uninstall: nvidia-cufft-cu12\n",
            "    Found existing installation: nvidia-cufft-cu12 11.2.3.61\n",
            "    Uninstalling nvidia-cufft-cu12-11.2.3.61:\n",
            "      Successfully uninstalled nvidia-cufft-cu12-11.2.3.61\n",
            "  Attempting uninstall: nvidia-cuda-runtime-cu12\n",
            "    Found existing installation: nvidia-cuda-runtime-cu12 12.5.82\n",
            "    Uninstalling nvidia-cuda-runtime-cu12-12.5.82:\n",
            "      Successfully uninstalled nvidia-cuda-runtime-cu12-12.5.82\n",
            "  Attempting uninstall: nvidia-cuda-nvrtc-cu12\n",
            "    Found existing installation: nvidia-cuda-nvrtc-cu12 12.5.82\n",
            "    Uninstalling nvidia-cuda-nvrtc-cu12-12.5.82:\n",
            "      Successfully uninstalled nvidia-cuda-nvrtc-cu12-12.5.82\n",
            "  Attempting uninstall: nvidia-cuda-cupti-cu12\n",
            "    Found existing installation: nvidia-cuda-cupti-cu12 12.5.82\n",
            "    Uninstalling nvidia-cuda-cupti-cu12-12.5.82:\n",
            "      Successfully uninstalled nvidia-cuda-cupti-cu12-12.5.82\n",
            "  Attempting uninstall: nvidia-cublas-cu12\n",
            "    Found existing installation: nvidia-cublas-cu12 12.5.3.2\n",
            "    Uninstalling nvidia-cublas-cu12-12.5.3.2:\n",
            "      Successfully uninstalled nvidia-cublas-cu12-12.5.3.2\n",
            "  Attempting uninstall: nvidia-cusparse-cu12\n",
            "    Found existing installation: nvidia-cusparse-cu12 12.5.1.3\n",
            "    Uninstalling nvidia-cusparse-cu12-12.5.1.3:\n",
            "      Successfully uninstalled nvidia-cusparse-cu12-12.5.1.3\n",
            "  Attempting uninstall: nvidia-cudnn-cu12\n",
            "    Found existing installation: nvidia-cudnn-cu12 9.3.0.75\n",
            "    Uninstalling nvidia-cudnn-cu12-9.3.0.75:\n",
            "      Successfully uninstalled nvidia-cudnn-cu12-9.3.0.75\n",
            "  Attempting uninstall: nvidia-cusolver-cu12\n",
            "    Found existing installation: nvidia-cusolver-cu12 11.6.3.83\n",
            "    Uninstalling nvidia-cusolver-cu12-11.6.3.83:\n",
            "      Successfully uninstalled nvidia-cusolver-cu12-11.6.3.83\n",
            "Successfully installed langchain-huggingface-0.1.2 nvidia-cublas-cu12-12.4.5.8 nvidia-cuda-cupti-cu12-12.4.127 nvidia-cuda-nvrtc-cu12-12.4.127 nvidia-cuda-runtime-cu12-12.4.127 nvidia-cudnn-cu12-9.1.0.70 nvidia-cufft-cu12-11.2.1.3 nvidia-curand-cu12-10.3.5.147 nvidia-cusolver-cu12-11.6.1.9 nvidia-cusparse-cu12-12.3.1.170 nvidia-nvjitlink-cu12-12.4.127\n"
          ]
        }
      ],
      "source": [
        "!pip install langchain-huggingface sentence-transformers"
      ]
    },
    {
      "cell_type": "markdown",
      "metadata": {
        "id": "tUBgB-fsc_YW"
      },
      "source": [
        "HuggingFace에서 임베딩을 다운로드하여 로컬 폴더에 저장합니다."
      ]
    },
    {
      "cell_type": "code",
      "execution_count": null,
      "metadata": {
        "id": "12rUAkjrc_YW",
        "colab": {
          "base_uri": "https://localhost:8080/",
          "height": 484,
          "referenced_widgets": [
            "2107a36b11114104b7ce55e27a6f1d98",
            "1117460caa454c018ad4ab61419c7b1b",
            "59631d25f48c486faf4fabb34562740a",
            "87bb25cb50a04795bc2c0de7cd632b9c",
            "8a612176e55040a5b0b95b6e2ee15b38",
            "704a978147fb4b5da15d0c82d5ae9f2f",
            "4fdeb1eaa9d04903b2a715e82d1d3870",
            "b3d18d7a665147d1af8b86161ccf0171",
            "8e74f0841bc548c991ccd79c5f5e2586",
            "346089d287ea43f88d748ddc450417d0",
            "ec4fb3533bbb456ab998657cc1c3436a",
            "bd31d929464649b4abbfc41cf0f32191",
            "324012f44793482db5ca82416e474421",
            "2d32235cf2364ab6a42d5ee69e66d16f",
            "7564999ac35f4226b4872a54b15b0a18",
            "a04c41c170e54736848b314009108e55",
            "dfe7db7671ec4927898b3e9a2d601421",
            "7fc69afef46045f290cec60052a66f28",
            "1ffd585b31e94d99b5745e811a24bf99",
            "7e613dc34bfa4409995167711f2a174d",
            "0c95b1d5e14740fb92ce6162e5282fa5",
            "5e769d65f14b4016bb4ee99700eda94b",
            "83a946cd2ac2476782206cf79de6c997",
            "8dea5f444d2a44339f709a9abcd61bb2",
            "ef1123b184b9437996714747734b29c6",
            "786180d6cd2244d582511e78c9f004dc",
            "07dece58081241d18f376bb4496305c6",
            "c434553f54a6497890c035c812a32eae",
            "e757245aab1341bfaf2b042630bd1c48",
            "8ed340a33b71456a90ebf5824b871642",
            "3eda7056a64e496699763fc8c273b075",
            "d3c5f896bb044097b18faab81e2d136d",
            "fee47dc852d34e4a97848a7cf767bff4",
            "d1f1b5b7039542dc955c227e30d46b77",
            "ce4051605cfc40b883785eafcf21ae73",
            "05d12b5b4cf5461f9f29e26a72451c71",
            "1b82b027002142758fd71b0b63b02137",
            "a7361111b453413f81dbc4f80997afe3",
            "1ca32db787324124bb701cfd3825e50a",
            "5a23eed8106441fe9d5e1b8906b572c7",
            "1b4f35fbda1b475b90291612eb0153d3",
            "405f153060c345c28f7753a7c580b174",
            "2bfa259492a845e1b967e92e880c1e03",
            "b312363ffc6541659296f25b13718e58",
            "58d486d478d74634817d75f3c35fa50a",
            "45c5e88504c14c6597a91f4c031b5599",
            "d0003efbdb7641a0946d2c68439aa5d8",
            "7fa5e5823f994ce98d9601e50c89e602",
            "7e468d142e9d4308b2d736505b6a16ee",
            "2323d0cbc12149739b88c56fb2319b1e",
            "682b6f9a708a459c80ad4de2549a734c",
            "097d9f48e64c45e9a8aac4c344517677",
            "943fbfd2a6e04ef6bb195e3b37838c47",
            "edfb6a1ac39948c9927da50775cddf2e",
            "6556d62034564b9fae00c0970548a369",
            "ada10fe109cc4c87af82fc0669c660f3",
            "3b987a668ffc4b8bb94ab3f04df109ec",
            "347454dde2144f0a8a009cd15bd7e6d2",
            "9d7b107f74cb4d0d8871d098510a697d",
            "d0a2b9c4d88c4275946c5199b7dc5e80",
            "c5f3f76da4fa45d489adddf556c89345",
            "456d98c7b4e54eeda936a9b49df2b49f",
            "1052a09e35364177a9cd6bce13d1e690",
            "7ba2862ef0fb42498b618bae361f5e26",
            "229c7b0562f5452699d6d81f9eea3ab1",
            "fbc5cfc5ee45492ca91087cae63fb6d7",
            "d71eb6e8b12247d296e17800d91b8548",
            "c83cc215a28f4dccb0b2e1678060f378",
            "d7075587abbb41d0bc603e88ae33f53d",
            "b23fab9c657a4c388f5f338a755c3ec2",
            "906111cc8f274b2eb7bbfcd532ed90ea",
            "c9378f4c87484c658d642214162e05d0",
            "c55f40f16c374a8285c4950a8726adef",
            "26204d0d3095458b8200d755f1d366c9",
            "f8eca6d57b864ad589ac734a2a35ecec",
            "11768ca15d044aa8bb6f12e854f4bd06",
            "497c110045934378b200626c56aa678f",
            "d883ab336cec422fa4fe371f2a59af4b",
            "7029b90a28be45dc92db0de7ff992be2",
            "7091adc086d8405ca167cf2eceaf6748",
            "4cad43d7bd0f40788566c226b9a07a06",
            "0f1986ccdc064e539add967649ae96da",
            "1a1576c2a7b94d4fb85a32158506df68",
            "f7bec12887a74571aedce339d97b27d2",
            "06978e8a2e994731ba17c77f9ec8148d",
            "dc2c42a543b94b8a8f013d1456fcd4de",
            "832eb0874fdd48d7a377456d6889b455",
            "4927fc5dcaa24eb183f4a8fe3d4f05fd",
            "e915be3b692e4d0a8c3d797c9dc9acbd",
            "243f4e2189844336b5bb9750759573f4",
            "dd3b522477eb499c8cd7f4da3f6969d4",
            "83ad961cd69a4af5a9ec38713b6db80e",
            "98c011f88c624f91946369033997e9d6",
            "7af363ce6020485ea7da100738a1108f",
            "2d649f640667424493b6566f958872c8",
            "ebe97db882b145b5bd5ba0240e284dd8",
            "527d3321df74462cbcd116e875481f69",
            "3239a29824c34ed0b0a822bc03394dc1",
            "3d9ca05ddc264c03aea2d2df49361471",
            "ca17ca451a9649f4abe4ee806ded363e",
            "5b4ac64f61ea477087ec7d1a8efa3aad",
            "d813d0d497e7484c84607ccda83aad40",
            "d3cad5b49c724ca2a6df90530166932e",
            "90c0f76757884ab4a19fb5b61c12c14c",
            "98aa06831bf246a594e4ae41fb420ed2",
            "ee7214934c20430bb554018ba54152ee",
            "0b23098e5065404c9abaedb89d27309c",
            "443240f1ae554034934fa2a0182ffd44",
            "d11859377163478c8486df02cd5f6fd6",
            "9e1eeb56a69845158e97ee8e49678a0d"
          ]
        },
        "outputId": "0eea3d14-99d9-4b87-a539-ca1cc3949d4d"
      },
      "outputs": [
        {
          "output_type": "stream",
          "name": "stderr",
          "text": [
            "/usr/local/lib/python3.11/dist-packages/huggingface_hub/utils/_auth.py:94: UserWarning: \n",
            "The secret `HF_TOKEN` does not exist in your Colab secrets.\n",
            "To authenticate with the Hugging Face Hub, create a token in your settings tab (https://huggingface.co/settings/tokens), set it as secret in your Google Colab and restart your session.\n",
            "You will be able to reuse this secret in all of your notebooks.\n",
            "Please note that authentication is recommended but still optional to access public models or datasets.\n",
            "  warnings.warn(\n"
          ]
        },
        {
          "output_type": "display_data",
          "data": {
            "text/plain": [
              "modules.json:   0%|          | 0.00/387 [00:00<?, ?B/s]"
            ],
            "application/vnd.jupyter.widget-view+json": {
              "version_major": 2,
              "version_minor": 0,
              "model_id": "2107a36b11114104b7ce55e27a6f1d98"
            }
          },
          "metadata": {}
        },
        {
          "output_type": "display_data",
          "data": {
            "text/plain": [
              "README.md:   0%|          | 0.00/498k [00:00<?, ?B/s]"
            ],
            "application/vnd.jupyter.widget-view+json": {
              "version_major": 2,
              "version_minor": 0,
              "model_id": "bd31d929464649b4abbfc41cf0f32191"
            }
          },
          "metadata": {}
        },
        {
          "output_type": "display_data",
          "data": {
            "text/plain": [
              "sentence_bert_config.json:   0%|          | 0.00/57.0 [00:00<?, ?B/s]"
            ],
            "application/vnd.jupyter.widget-view+json": {
              "version_major": 2,
              "version_minor": 0,
              "model_id": "83a946cd2ac2476782206cf79de6c997"
            }
          },
          "metadata": {}
        },
        {
          "output_type": "display_data",
          "data": {
            "text/plain": [
              "config.json:   0%|          | 0.00/655 [00:00<?, ?B/s]"
            ],
            "application/vnd.jupyter.widget-view+json": {
              "version_major": 2,
              "version_minor": 0,
              "model_id": "d1f1b5b7039542dc955c227e30d46b77"
            }
          },
          "metadata": {}
        },
        {
          "output_type": "display_data",
          "data": {
            "text/plain": [
              "model.safetensors:   0%|          | 0.00/471M [00:00<?, ?B/s]"
            ],
            "application/vnd.jupyter.widget-view+json": {
              "version_major": 2,
              "version_minor": 0,
              "model_id": "58d486d478d74634817d75f3c35fa50a"
            }
          },
          "metadata": {}
        },
        {
          "output_type": "display_data",
          "data": {
            "text/plain": [
              "tokenizer_config.json:   0%|          | 0.00/443 [00:00<?, ?B/s]"
            ],
            "application/vnd.jupyter.widget-view+json": {
              "version_major": 2,
              "version_minor": 0,
              "model_id": "ada10fe109cc4c87af82fc0669c660f3"
            }
          },
          "metadata": {}
        },
        {
          "output_type": "display_data",
          "data": {
            "text/plain": [
              "sentencepiece.bpe.model:   0%|          | 0.00/5.07M [00:00<?, ?B/s]"
            ],
            "application/vnd.jupyter.widget-view+json": {
              "version_major": 2,
              "version_minor": 0,
              "model_id": "d71eb6e8b12247d296e17800d91b8548"
            }
          },
          "metadata": {}
        },
        {
          "output_type": "display_data",
          "data": {
            "text/plain": [
              "tokenizer.json:   0%|          | 0.00/17.1M [00:00<?, ?B/s]"
            ],
            "application/vnd.jupyter.widget-view+json": {
              "version_major": 2,
              "version_minor": 0,
              "model_id": "d883ab336cec422fa4fe371f2a59af4b"
            }
          },
          "metadata": {}
        },
        {
          "output_type": "display_data",
          "data": {
            "text/plain": [
              "special_tokens_map.json:   0%|          | 0.00/167 [00:00<?, ?B/s]"
            ],
            "application/vnd.jupyter.widget-view+json": {
              "version_major": 2,
              "version_minor": 0,
              "model_id": "e915be3b692e4d0a8c3d797c9dc9acbd"
            }
          },
          "metadata": {}
        },
        {
          "output_type": "display_data",
          "data": {
            "text/plain": [
              "config.json:   0%|          | 0.00/200 [00:00<?, ?B/s]"
            ],
            "application/vnd.jupyter.widget-view+json": {
              "version_major": 2,
              "version_minor": 0,
              "model_id": "ca17ca451a9649f4abe4ee806ded363e"
            }
          },
          "metadata": {}
        },
        {
          "output_type": "execute_result",
          "data": {
            "text/plain": [
              "401"
            ]
          },
          "metadata": {},
          "execution_count": 34
        }
      ],
      "source": [
        "from sentence_transformers import SentenceTransformer\n",
        "\n",
        "# HuggingFace 임베딩 주소 지정하기\n",
        "# nlpai-lab/KURE-v1 , baai/bge-m3, 등의 주소를 입력하여 지정\n",
        "\n",
        "model_name = 'intfloat/multilingual-e5-small'\n",
        "\n",
        "# CPU 설정으로 모델 불러오기\n",
        "# device='cuda'로 변경하면 GPU에서 로드\n",
        "emb_model = SentenceTransformer(model_name, device='cpu')\n",
        "\n",
        "# 로컬 폴더에 모델 저장하기\n",
        "emb_model.save('./embedding')\n",
        "del emb_model\n",
        "\n",
        "import gc\n",
        "gc.collect()\n",
        "# 메모리 정리하기"
      ]
    },
    {
      "cell_type": "code",
      "execution_count": null,
      "metadata": {
        "id": "yO0pezeTc_YW"
      },
      "outputs": [],
      "source": [
        "from langchain_huggingface import HuggingFaceEmbeddings\n",
        "\n",
        "# 허깅페이스 포맷의 임베딩 모델 불러오기\n",
        "embeddings = HuggingFaceEmbeddings(model_name= './embedding',\n",
        "                                   model_kwargs={'device':'cuda'})\n",
        "# GPU가 있는 경우, CUDA(GPU) 설정"
      ]
    },
    {
      "cell_type": "code",
      "execution_count": null,
      "metadata": {
        "id": "14hRqp_ac_YW"
      },
      "outputs": [],
      "source": [
        "store = InMemoryStore(\n",
        "    index={\n",
        "        \"embed\": embeddings,\n",
        "        \"dims\": 1024, # 임베딩 차원(모델마다 다름)\n",
        "        \"fields\": [\"comments\"] # 임베딩을 활용해 저장할 필드 지정\n",
        "    }\n",
        ")"
      ]
    },
    {
      "cell_type": "code",
      "execution_count": null,
      "metadata": {
        "id": "4ECD-Ly0c_YW",
        "colab": {
          "base_uri": "https://localhost:8080/",
          "height": 35
        },
        "outputId": "46318047-eb72-4efe-e870-7a344c266da1"
      },
      "outputs": [
        {
          "output_type": "execute_result",
          "data": {
            "text/plain": [
              "'6a4f754b-c475-467d-856c-86854e3099a7'"
            ],
            "application/vnd.google.colaboratory.intrinsic+json": {
              "type": "string"
            }
          },
          "metadata": {},
          "execution_count": 37
        }
      ],
      "source": [
        "memory_id"
      ]
    },
    {
      "cell_type": "code",
      "execution_count": null,
      "metadata": {
        "id": "Awue0iGZc_YW",
        "colab": {
          "base_uri": "https://localhost:8080/"
        },
        "outputId": "d59ce8ab-1d0c-4c16-dd62-150b5e578eef"
      },
      "outputs": [
        {
          "output_type": "execute_result",
          "data": {
            "text/plain": [
              "[Item(namespace=['1', 'information'], key='5afbad6d-2b8e-457d-9625-171cadb704b2', value={'ID': 'JohnDoe1', 'comments': '안녕하세요! 저는 John Doe이고, 23살입니다.'}, created_at='2025-03-21T14:08:26.855756+00:00', updated_at='2025-03-21T14:08:26.855761+00:00', score=None)]"
            ]
          },
          "metadata": {},
          "execution_count": 38
        }
      ],
      "source": [
        "namespace_for_memory = ('1', 'information')\n",
        "memory_id = str(uuid.uuid4())\n",
        "\n",
        "store.put(namespace_for_memory,\n",
        "          memory_id,\n",
        "          {'ID':'JohnDoe1', 'comments':'안녕하세요! 저는 John Doe이고, 23살입니다.'})\n",
        "\n",
        "store.search(namespace_for_memory, limit=20)"
      ]
    },
    {
      "cell_type": "code",
      "execution_count": null,
      "metadata": {
        "id": "4Cf_m1Lmc_YW",
        "colab": {
          "base_uri": "https://localhost:8080/"
        },
        "outputId": "99a91de7-8661-4b71-c907-de91f807e4cf"
      },
      "outputs": [
        {
          "output_type": "execute_result",
          "data": {
            "text/plain": [
              "[Item(namespace=['1', 'information'], key='5afbad6d-2b8e-457d-9625-171cadb704b2', value={'ID': 'JohnDoe1', 'comments': '안녕하세요! 저는 John Doe이고, 23살입니다.'}, created_at='2025-03-21T14:08:26.855756+00:00', updated_at='2025-03-21T14:08:26.855761+00:00', score=None),\n",
              " Item(namespace=['1', 'information'], key='f45f8af5-2288-4c83-914f-991b55faf7a9', value={'Hello': 'world'}, created_at='2025-03-21T14:09:15.028010+00:00', updated_at='2025-03-21T14:09:15.028015+00:00', score=None),\n",
              " Item(namespace=['1', 'information'], key='6ce6cd7d-5f5b-4628-85fc-6ac20cde2c0a', value={'ID': 'Admin', 'comments': '이 계정은 운영 전용 계정입니다.'}, created_at='2025-03-21T14:09:15.048869+00:00', updated_at='2025-03-21T14:09:15.048873+00:00', score=None),\n",
              " Item(namespace=['1', 'information'], key='2fa179c7-924d-47a0-8fb2-ad5525e1a5e1', value={'ID': 'GPT_Agent1', 'comments': 'GPT-4o Agent 전용 계정'}, created_at='2025-03-21T14:09:15.065154+00:00', updated_at='2025-03-21T14:09:15.065156+00:00', score=None),\n",
              " Item(namespace=['1', 'information'], key='48dd88d1-5aed-4004-a298-ae021cdf8816', value={'ID': 'Gemini_Agent1', 'comments': 'Gemini-2.0-flash Agent 전용 계정'}, created_at='2025-03-21T14:09:15.080112+00:00', updated_at='2025-03-21T14:09:15.080115+00:00', score=None)]"
            ]
          },
          "metadata": {},
          "execution_count": 39
        }
      ],
      "source": [
        "def add_records(store, namespace, data_records):\n",
        "    for data in data_records:\n",
        "        store.put(namespace, str(uuid.uuid4()), data)\n",
        "\n",
        "example_data = [\n",
        "    {'Hello':'world'},\n",
        "    {'ID':'Admin', 'comments':'이 계정은 운영 전용 계정입니다.'},\n",
        "    {'ID':'GPT_Agent1', 'comments':'GPT-4o Agent 전용 계정'},\n",
        "    {'ID':'Gemini_Agent1', 'comments':'Gemini-2.0-flash Agent 전용 계정'}\n",
        "]\n",
        "\n",
        "add_records(store,namespace_for_memory, example_data)\n",
        "\n",
        "\n",
        "history = store.search(namespace_for_memory)\n",
        "history"
      ]
    },
    {
      "cell_type": "code",
      "execution_count": null,
      "metadata": {
        "id": "8aBGmi9Ec_YW",
        "colab": {
          "base_uri": "https://localhost:8080/"
        },
        "outputId": "05a7f38b-9395-4bc7-91c5-0ada703ad6e0"
      },
      "outputs": [
        {
          "output_type": "stream",
          "name": "stdout",
          "text": [
            "[2025-03-21] 안녕하세요! 저는 John Doe이고, 23살입니다.\n",
            "\n",
            "[2025-03-21] 이 계정은 운영 전용 계정입니다.\n",
            "[2025-03-21] GPT-4o Agent 전용 계정\n",
            "[2025-03-21] Gemini-2.0-flash Agent 전용 계정\n"
          ]
        }
      ],
      "source": [
        "print('\\n'.join(['['+str(i.created_at)[0:10] + '] ' + i.value['comments'] if 'comments' in i.value else '' for i in history]))"
      ]
    },
    {
      "cell_type": "code",
      "execution_count": null,
      "metadata": {
        "id": "NaFjsgL9c_YX",
        "colab": {
          "base_uri": "https://localhost:8080/"
        },
        "outputId": "cf8f56ae-c6b2-4c18-b57d-d6a80ef7f84c"
      },
      "outputs": [
        {
          "output_type": "execute_result",
          "data": {
            "text/plain": [
              "[Item(namespace=['1', 'information'], key='48dd88d1-5aed-4004-a298-ae021cdf8816', value={'ID': 'Gemini_Agent1', 'comments': 'Gemini-2.0-flash Agent 전용 계정'}, created_at='2025-03-21T14:09:15.080112+00:00', updated_at='2025-03-21T14:09:15.080115+00:00', score=0.894333969781483),\n",
              " Item(namespace=['1', 'information'], key='2fa179c7-924d-47a0-8fb2-ad5525e1a5e1', value={'ID': 'GPT_Agent1', 'comments': 'GPT-4o Agent 전용 계정'}, created_at='2025-03-21T14:09:15.065154+00:00', updated_at='2025-03-21T14:09:15.065156+00:00', score=0.8406650756732776)]"
            ]
          },
          "metadata": {},
          "execution_count": 41
        }
      ],
      "source": [
        "result = store.search(\n",
        "    namespace_for_memory,\n",
        "    query = 'Gemini Agent 버전은 뭔가요?',\n",
        "    limit = 2\n",
        ")\n",
        "result"
      ]
    },
    {
      "cell_type": "code",
      "execution_count": null,
      "metadata": {
        "id": "RKHoy-Zqc_YX",
        "colab": {
          "base_uri": "https://localhost:8080/",
          "height": 138
        },
        "outputId": "a8fe21b6-2694-43a7-bf88-ab8f79ba7e48"
      },
      "outputs": [
        {
          "output_type": "execute_result",
          "data": {
            "text/plain": [
              "langgraph.store.base.SearchItem"
            ],
            "text/html": [
              "<div style=\"max-width:800px; border: 1px solid var(--colab-border-color);\"><style>\n",
              "      pre.function-repr-contents {\n",
              "        overflow-x: auto;\n",
              "        padding: 8px 12px;\n",
              "        max-height: 500px;\n",
              "      }\n",
              "\n",
              "      pre.function-repr-contents.function-repr-contents-collapsed {\n",
              "        cursor: pointer;\n",
              "        max-height: 100px;\n",
              "      }\n",
              "    </style>\n",
              "    <pre style=\"white-space: initial; background:\n",
              "         var(--colab-secondary-surface-color); padding: 8px 12px;\n",
              "         border-bottom: 1px solid var(--colab-border-color);\"><b>langgraph.store.base.SearchItem</b><br/>def __init__(namespace: tuple[str, ...], key: str, value: dict[str, Any], created_at: datetime, updated_at: datetime, score: Optional[float]=None) -&gt; None</pre><pre class=\"function-repr-contents function-repr-contents-collapsed\" style=\"\"><a class=\"filepath\" style=\"display:none\" href=\"#\">/usr/local/lib/python3.11/dist-packages/langgraph/store/base/__init__.py</a>Represents an item returned from a search operation with additional metadata.</pre>\n",
              "      <script>\n",
              "      if (google.colab.kernel.accessAllowed && google.colab.files && google.colab.files.view) {\n",
              "        for (const element of document.querySelectorAll('.filepath')) {\n",
              "          element.style.display = 'block'\n",
              "          element.onclick = (event) => {\n",
              "            event.preventDefault();\n",
              "            event.stopPropagation();\n",
              "            google.colab.files.view(element.textContent, 118);\n",
              "          };\n",
              "        }\n",
              "      }\n",
              "      for (const element of document.querySelectorAll('.function-repr-contents')) {\n",
              "        element.onclick = (event) => {\n",
              "          event.preventDefault();\n",
              "          event.stopPropagation();\n",
              "          element.classList.toggle('function-repr-contents-collapsed');\n",
              "        };\n",
              "      }\n",
              "      </script>\n",
              "      </div>"
            ]
          },
          "metadata": {},
          "execution_count": 42
        }
      ],
      "source": [
        "type(result[0])"
      ]
    },
    {
      "cell_type": "markdown",
      "metadata": {
        "id": "HVSPdRaGc_YX"
      },
      "source": [
        "이렇게 생성된 store는 각 Node에 State와 함께 포함할 수 있습니다.  \n",
        "실제 채팅 시나리오를 통해 구현해 보겠습니다."
      ]
    },
    {
      "cell_type": "code",
      "execution_count": null,
      "metadata": {
        "id": "H6QrPWbbc_YX"
      },
      "outputs": [],
      "source": [
        "from langgraph.checkpoint.sqlite import SqliteSaver\n",
        "\n",
        "\n",
        "memory = MemorySaver()\n",
        "in_memory_store = InMemoryStore(\n",
        "    index={\n",
        "        \"embed\": embeddings,\n",
        "        \"dims\": 1024, # 임베딩 차원(모델마다 다름)\n",
        "        \"fields\": [\"memory\"] # 임베딩을 활용해 저장할 필드 지정\n",
        "    }\n",
        ")"
      ]
    },
    {
      "cell_type": "code",
      "execution_count": null,
      "metadata": {
        "id": "KfUcO2ZVc_YX",
        "colab": {
          "base_uri": "https://localhost:8080/",
          "height": 497
        },
        "outputId": "75ea7070-5c9e-45c3-f155-6cfb3fa4ab2c"
      },
      "outputs": [
        {
          "output_type": "execute_result",
          "data": {
            "text/plain": [
              "<langgraph.graph.state.CompiledStateGraph object at 0x7ada6a27f7d0>"
            ],
            "image/png": "[encoded data removed]"
          },
          "metadata": {},
          "execution_count": 58
        }
      ],
      "source": [
        "from typing import Annotated\n",
        "from typing_extensions import TypedDict, List\n",
        "from langchain_core.messages import HumanMessage, AIMessage, SystemMessage, RemoveMessage\n",
        "from langgraph.graph.message import add_messages\n",
        "from langgraph.graph import StateGraph, state, START, END\n",
        "from langgraph.store.base import BaseStore\n",
        "from langchain_core.runnables import RunnableConfig\n",
        "\n",
        "\n",
        "class State(TypedDict):\n",
        "    messages: Annotated[list, add_messages]\n",
        "    summary: str\n",
        "\n",
        "\n",
        "\n",
        "def call_model(state: State, config: RunnableConfig, store: BaseStore):\n",
        "\n",
        "    user_id = config['configurable']['user_id']\n",
        "    namespace = (user_id, \"information\")\n",
        "\n",
        "    def gen_memories(history):\n",
        "        return '\\n'.join(['['+str(i.created_at)[0:10] + '] ' + i.value['memory'] if 'memory' in i.value else '' for i in history])\n",
        "\n",
        "    summary = gen_memories(store.search(namespace))\n",
        "\n",
        "    prompt = [SystemMessage(content=f\"\"\"\n",
        "당신은 고객 상담 챗봇입니다.\n",
        "고객은 이전에 아래의 상담을 한 적이 있습니다. 과거 내역을 참고하여 응답하세요.\n",
        "첫 대화는 친절한 인사로 시작하세요.\n",
        "---\n",
        "Previous Conversation Summary: {summary}\"\"\"), HumanMessage(content=\"안녕하세요!\")] + state['messages']\n",
        "\n",
        "     # 과거 정보를 상위 Context에 포함하기\n",
        "    response = llm.invoke(prompt)\n",
        "    print('Assistant:', response.content)\n",
        "\n",
        "    user_message = HumanMessage(content = input())\n",
        "\n",
        "\n",
        "    return {\"messages\": [response, user_message]}\n",
        "\n",
        "def summarize_conversation(state: State, config: RunnableConfig, store: BaseStore):\n",
        "\n",
        "    summary_prompt = \"\"\"현재까지의 대화 내용을 요약하여 데이터베이스에 저장하려고 합니다.\n",
        "이전의 Summary 내용과 이어지는 경우, 해당 내용을 포함하여 요약하세요.\n",
        "만약 새로운 주제인 경우, 새로운 대화 내용만 요약하세요.\n",
        "대화 내용을 3~5문장 길이로 요약하세요. 요약 이외의 다른 내용은 출력하지 마세요.\n",
        "또한, 요약을 요청했다는 사실도 작성하지 마세요.\n",
        "\"\"\"\n",
        "    prompt = state['messages'][:-1] + [HumanMessage(content = summary_prompt)]\n",
        "    # END 제외\n",
        "\n",
        "    response = llm.invoke(prompt)\n",
        "\n",
        "    delete_messages = [RemoveMessage(id=m.id) for m in state['messages']]\n",
        "    return {'summary': response.content, 'messages':delete_messages}\n",
        "\n",
        "\n",
        "\n",
        "def update_memory(state:State, config: RunnableConfig, store:BaseStore):\n",
        "\n",
        "    user_id = config['configurable']['user_id']\n",
        "    namespace = (user_id, \"information\")\n",
        "\n",
        "    memory_id = str(uuid.uuid4())\n",
        "\n",
        "\n",
        "    memory = state[\"summary\"]\n",
        "\n",
        "    store.put(namespace, memory_id, {'memory':memory})\n",
        "\n",
        "def check_end(state:State):\n",
        "    last_msg = state[\"messages\"][-1]\n",
        "\n",
        "    if last_msg.content.upper()=='END':\n",
        "        return 'END'\n",
        "    return 'RESUME'\n",
        "\n",
        "builder = StateGraph(State)\n",
        "\n",
        "\n",
        "builder.add_node('update_memory', update_memory)\n",
        "builder.add_node(\"call_model\", call_model)\n",
        "builder.add_node('summarize_conversation', summarize_conversation)\n",
        "\n",
        "builder.add_edge(START, \"call_model\")\n",
        "builder.add_conditional_edges('call_model',\n",
        "                              check_end,\n",
        "                              {'END':'summarize_conversation',\n",
        "                               'RESUME':'call_model'})\n",
        "builder.add_edge('summarize_conversation','update_memory')\n",
        "builder.add_edge('update_memory', END)\n",
        "\n",
        "graph = builder.compile(checkpointer=memory, store=in_memory_store)\n",
        "\n",
        "graph\n",
        "# memory에 기록 저장"
      ]
    },
    {
      "cell_type": "code",
      "execution_count": null,
      "metadata": {
        "id": "onD4mIggc_YX"
      },
      "outputs": [],
      "source": []
    },
    {
      "cell_type": "code",
      "execution_count": null,
      "metadata": {
        "id": "3laWr9EVc_YX",
        "colab": {
          "base_uri": "https://localhost:8080/"
        },
        "outputId": "812c23a0-103f-45a1-adb4-ed31685e6a08"
      },
      "outputs": [
        {
          "output_type": "stream",
          "name": "stdout",
          "text": [
            "END를 입력하면 대화가 종료됩니다.\n",
            "Assistant: 안녕하세요! 무엇을 도와드릴까요?\n",
            "안녕? 나는 오늘 젬마 3를 써봤는데, 한국어 성능이 뛰어나대!\n",
            "{'call_model': {'messages': [AIMessage(content='안녕하세요! 무엇을 도와드릴까요?', additional_kwargs={}, response_metadata={'prompt_feedback': {'block_reason': 0, 'safety_ratings': []}, 'finish_reason': 'STOP', 'safety_ratings': []}, id='run-a2ff7b04-5fc6-4026-9b35-37c964aaa097-0', usage_metadata={'input_tokens': 69, 'output_tokens': 15, 'total_tokens': 84, 'input_token_details': {'cache_read': 0}}), HumanMessage(content='안녕? 나는 오늘 젬마 3를 써봤는데, 한국어 성능이 뛰어나대!', additional_kwargs={}, response_metadata={}, id='c20760e2-8ccb-4487-8799-64e4a2ea6118')]}}\n",
            "Assistant: 안녕하세요! 젬마 3를 사용해 보셨군요! 한국어 성능이 뛰어나다는 점을 알고 계시는군요. 혹시 사용하시면서 궁금한 점이나 불편한 점이 있으셨나요? 아니면 젬마 3에 대해 더 자세히 알고 싶으신 점이 있으신가요? 편하게 말씀해주세요!\n",
            "한국어 성능이 왜 좋은거야?\n",
            "{'call_model': {'messages': [AIMessage(content='안녕하세요! 젬마 3를 사용해 보셨군요! 한국어 성능이 뛰어나다는 점을 알고 계시는군요. 혹시 사용하시면서 궁금한 점이나 불편한 점이 있으셨나요? 아니면 젬마 3에 대해 더 자세히 알고 싶으신 점이 있으신가요? 편하게 말씀해주세요!', additional_kwargs={}, response_metadata={'prompt_feedback': {'block_reason': 0, 'safety_ratings': []}, 'finish_reason': 'STOP', 'safety_ratings': []}, id='run-dfb812cb-ecab-4e60-b76b-df0dc0af5170-0', usage_metadata={'input_tokens': 111, 'output_tokens': 97, 'total_tokens': 208, 'input_token_details': {'cache_read': 0}}), HumanMessage(content='한국어 성능이 왜 좋은거야?', additional_kwargs={}, response_metadata={}, id='6967a4fd-af16-4d0f-b186-104709ac9e6c')]}}\n",
            "Assistant: 젬마 3의 한국어 성능이 뛰어난 데에는 여러 가지 요인이 있습니다.\n",
            "\n",
            "*   **대규모 한국어 데이터 학습:** 젬마 3는 대규모의 한국어 텍스트 데이터를 학습했습니다. 다양한 분야와 주제의 데이터를 학습하여 한국어에 대한 이해도를 높였습니다.\n",
            "*   **최적화된 모델 구조:** 젬마 3는 한국어에 최적화된 모델 구조를 가지고 있습니다. 한국어의 특징을 잘 반영하여 문맥을 정확하게 파악하고 자연스러운 문장을 생성할 수 있습니다.\n",
            "*   **지속적인 개선:** 젬마 모델은 지속적으로 개선되고 있습니다. 사용자 피드백과 새로운 데이터를 기반으로 모델을 업데이트하여 한국어 성능을 더욱 향상시키고 있습니다.\n",
            "\n",
            "이러한 요인들이 복합적으로 작용하여 젬마 3는 뛰어난 한국어 성능을 보여줍니다. 혹시 특정 분야나 사용 사례에서 젬마 3의 한국어 성능에 대해 궁금한 점이 있으시면 더 자세하게 설명해 드릴 수 있습니다.\n",
            "그래 고마워! 또 궁금하면 물어볼게.\n",
            "{'call_model': {'messages': [AIMessage(content='젬마 3의 한국어 성능이 뛰어난 데에는 여러 가지 요인이 있습니다.\\n\\n*   **대규모 한국어 데이터 학습:** 젬마 3는 대규모의 한국어 텍스트 데이터를 학습했습니다. 다양한 분야와 주제의 데이터를 학습하여 한국어에 대한 이해도를 높였습니다.\\n*   **최적화된 모델 구조:** 젬마 3는 한국어에 최적화된 모델 구조를 가지고 있습니다. 한국어의 특징을 잘 반영하여 문맥을 정확하게 파악하고 자연스러운 문장을 생성할 수 있습니다.\\n*   **지속적인 개선:** 젬마 모델은 지속적으로 개선되고 있습니다. 사용자 피드백과 새로운 데이터를 기반으로 모델을 업데이트하여 한국어 성능을 더욱 향상시키고 있습니다.\\n\\n이러한 요인들이 복합적으로 작용하여 젬마 3는 뛰어난 한국어 성능을 보여줍니다. 혹시 특정 분야나 사용 사례에서 젬마 3의 한국어 성능에 대해 궁금한 점이 있으시면 더 자세하게 설명해 드릴 수 있습니다.', additional_kwargs={}, response_metadata={'prompt_feedback': {'block_reason': 0, 'safety_ratings': []}, 'finish_reason': 'STOP', 'safety_ratings': []}, id='run-7c42794d-b10a-46f0-a21a-3e9cc4538fd6-0', usage_metadata={'input_tokens': 218, 'output_tokens': 280, 'total_tokens': 498, 'input_token_details': {'cache_read': 0}}), HumanMessage(content='그래 고마워! 또 궁금하면 물어볼게.', additional_kwargs={}, response_metadata={}, id='0d517cae-0d74-4e73-8a6a-c9c83b697083')]}}\n",
            "Assistant: 네, 언제든지 편하게 물어보세요! 젬마 3에 대해 더 궁금한 점이 생기시면 주저하지 마시고 다시 찾아와 주세요. 좋은 하루 보내세요!\n",
            "END\n",
            "{'call_model': {'messages': [AIMessage(content='네, 언제든지 편하게 물어보세요! 젬마 3에 대해 더 궁금한 점이 생기시면 주저하지 마시고 다시 찾아와 주세요. 좋은 하루 보내세요!', additional_kwargs={}, response_metadata={'prompt_feedback': {'block_reason': 0, 'safety_ratings': []}, 'finish_reason': 'STOP', 'safety_ratings': []}, id='run-f958fdac-9269-4ee8-8f66-1daa40dc4928-0', usage_metadata={'input_tokens': 514, 'output_tokens': 52, 'total_tokens': 566, 'input_token_details': {'cache_read': 0}}), HumanMessage(content='END', additional_kwargs={}, response_metadata={}, id='cf4b6ed4-e7c9-4a6d-a9bd-a7e3b4c020c7')]}}\n",
            "{'summarize_conversation': {'summary': '- 사용자가 젬마 3를 사용해 보았으며, 한국어 성능이 뛰어나다는 것을 알고 있다고 언급했습니다.\\n- 젬마 3의 한국어 성능이 좋은 이유에 대해 질문하여, 대규모 한국어 데이터 학습, 최적화된 모델 구조, 지속적인 개선 등의 요인으로 설명했습니다.\\n- 사용자는 답변에 감사하며, 추가 질문이 있을 경우 다시 문의할 것을 밝혔습니다.', 'messages': [RemoveMessage(content='', additional_kwargs={}, response_metadata={}, id='run-a2ff7b04-5fc6-4026-9b35-37c964aaa097-0'), RemoveMessage(content='', additional_kwargs={}, response_metadata={}, id='c20760e2-8ccb-4487-8799-64e4a2ea6118'), RemoveMessage(content='', additional_kwargs={}, response_metadata={}, id='run-dfb812cb-ecab-4e60-b76b-df0dc0af5170-0'), RemoveMessage(content='', additional_kwargs={}, response_metadata={}, id='6967a4fd-af16-4d0f-b186-104709ac9e6c'), RemoveMessage(content='', additional_kwargs={}, response_metadata={}, id='run-7c42794d-b10a-46f0-a21a-3e9cc4538fd6-0'), RemoveMessage(content='', additional_kwargs={}, response_metadata={}, id='0d517cae-0d74-4e73-8a6a-c9c83b697083'), RemoveMessage(content='', additional_kwargs={}, response_metadata={}, id='run-f958fdac-9269-4ee8-8f66-1daa40dc4928-0'), RemoveMessage(content='', additional_kwargs={}, response_metadata={}, id='cf4b6ed4-e7c9-4a6d-a9bd-a7e3b4c020c7')]}}\n",
            "{'update_memory': None}\n"
          ]
        }
      ],
      "source": [
        "print('END를 입력하면 대화가 종료됩니다.')\n",
        "\n",
        "config = {'configurable':{'thread_id':'2', 'user_id':'admin'}}\n",
        "for data in graph.stream(\n",
        "    {'messages':[]},\n",
        "    config,stream_mode=\"updates\"):\n",
        "    print(data)"
      ]
    },
    {
      "cell_type": "code",
      "execution_count": null,
      "metadata": {
        "id": "vcIVjFUyc_YX",
        "colab": {
          "base_uri": "https://localhost:8080/"
        },
        "outputId": "15bbd346-b672-4335-ec2f-fdb44d66bbf8"
      },
      "outputs": [
        {
          "name": "stdout",
          "output_type": "stream",
          "text": [
            "Assistant: 안녕하세요! 이전 젬마 3 관련 문의에 이어 다시 찾아주셔서 감사합니다. 무엇을 도와드릴까요? 😊\n",
            "오늘은 아침 브런치 메뉴를 추천받고 싶은데.\n",
            "Assistant: 아침 브런치 메뉴 추천을 원하시는군요! 어떤 스타일의 브런치를 선호하시나요? 예를 들어, 다음과 같은 질문에 답해주시면 더 정확한 추천이 가능합니다.\n",
            "\n",
            "*   **어떤 종류의 음식을 좋아하시나요?** (예: 달콤한 것, 짭짤한 것, 건강한 것 등)\n",
            "*   **만드는 데 얼마나 시간을 투자할 수 있나요?** (예: 간단한 메뉴, 정성 들인 메뉴)\n",
            "*   **어떤 재료가 집에 있나요?** (예: 계란, 빵, 과일 등)\n",
            "\n",
            "이러한 정보를 바탕으로 맛있는 브런치 메뉴를 추천해 드릴게요!\n",
            "건강한 것으로 부탁해.\n",
            "Assistant: 건강한 브런치를 원하시는군요! 그렇다면 다음과 같은 메뉴들을 추천해 드립니다:\n",
            "\n",
            "1.  **아보카도 토스트:** 통밀빵에 으깬 아보카도를 올리고 소금, 후추, 약간의 레몬즙으로 간을 합니다. 취향에 따라 계란 프라이나 토마토를 추가해도 좋습니다. 아보카도의 건강한 지방과 통밀빵의 식이섬유가 포만감을 줍니다.\n",
            "2.  **그릭 요거트 볼:** 그릭 요거트에 신선한 과일(베리류, 바나나 등)과 견과류, 씨앗류(치아씨드, 아마씨 등)를 얹어 먹습니다. 꿀이나 메이플 시럽을 약간 추가해도 좋습니다. 단백질과 비타민, 미네랄이 풍부한 건강한 메뉴입니다.\n",
            "3.  **오트밀:** 오트밀을 우유나 물에 끓여 부드럽게 만든 후, 과일, 견과류, 씨앗류를 얹어 먹습니다. 시나몬 가루를 약간 뿌려도 좋습니다. 식이섬유가 풍부하여 장 건강에 좋습니다.\n",
            "4.  **스무디:** 과일(베리류, 바나나, 망고 등), 채소(시금치, 케일 등), 요거트 또는 우유를 함께 갈아 만든 스무디입니다. 단백질 파우더나 견과류 버터를 추가하여 영양을 더할 수도 있습니다.\n",
            "\n",
            "이 중에서 어떤 메뉴가 가장 마음에 드시나요? 아니면, 특별히 피하고 싶은 재료가 있으신가요?\n",
            "END\n"
          ]
        },
        {
          "output_type": "execute_result",
          "data": {
            "text/plain": [
              "{'messages': [],\n",
              " 'summary': '사용자는 아침 브런치 메뉴 추천을 요청했습니다. 건강한 메뉴를 선호한다고 밝혔으며, 이에 따라 아보카도 토스트, 그릭 요거트 볼, 오트밀, 스무디 등의 메뉴가 추천되었습니다. 사용자는 이전에 젬마 3 관련 문의를 한 적이 있습니다.'}"
            ]
          },
          "metadata": {},
          "execution_count": 60
        }
      ],
      "source": [
        "config = {'configurable':{'thread_id':'8', 'user_id':'admin'}}\n",
        "graph.invoke({'messages':[]}, config)"
      ]
    },
    {
      "cell_type": "code",
      "execution_count": null,
      "metadata": {
        "id": "QKQ6nCH4c_YX",
        "colab": {
          "base_uri": "https://localhost:8080/"
        },
        "outputId": "ddf7d8bf-9f96-429c-fd6a-e3b83a9c0ac4"
      },
      "outputs": [
        {
          "output_type": "execute_result",
          "data": {
            "text/plain": [
              "StateSnapshot(values={'messages': [], 'summary': '사용자는 아침 브런치 메뉴 추천을 요청했습니다. 건강한 메뉴를 선호한다고 밝혔으며, 이에 따라 아보카도 토스트, 그릭 요거트 볼, 오트밀, 스무디 등의 메뉴가 추천되었습니다. 사용자는 이전에 젬마 3 관련 문의를 한 적이 있습니다.'}, next=(), config={'configurable': {'thread_id': '8', 'checkpoint_ns': '', 'checkpoint_id': '1f006615-edba-60d8-8005-926bca78d521'}}, metadata={'source': 'loop', 'writes': {'update_memory': None}, 'thread_id': '8', 'user_id': 'admin', 'step': 5, 'parents': {}}, created_at='2025-03-21T14:32:52.153141+00:00', parent_config={'configurable': {'thread_id': '8', 'checkpoint_ns': '', 'checkpoint_id': '1f006615-ed91-69b0-8004-11ce34c1218d'}}, tasks=())"
            ]
          },
          "metadata": {},
          "execution_count": 61
        }
      ],
      "source": [
        "graph.get_state(config=config)"
      ]
    },
    {
      "cell_type": "code",
      "execution_count": null,
      "metadata": {
        "id": "yfu1n3gUc_YX",
        "colab": {
          "base_uri": "https://localhost:8080/"
        },
        "outputId": "a152871c-4139-4456-8977-14fd09c6ec4e"
      },
      "outputs": [
        {
          "output_type": "execute_result",
          "data": {
            "text/plain": [
              "[('admin', 'information')]"
            ]
          },
          "metadata": {},
          "execution_count": 62
        }
      ],
      "source": [
        "in_memory_store.list_namespaces()"
      ]
    },
    {
      "cell_type": "code",
      "execution_count": null,
      "metadata": {
        "id": "sUzuioD7c_YX",
        "colab": {
          "base_uri": "https://localhost:8080/"
        },
        "outputId": "61dc4d57-84a3-4e7e-e3bd-b349e7574274"
      },
      "outputs": [
        {
          "output_type": "execute_result",
          "data": {
            "text/plain": [
              "[Item(namespace=['admin', 'information'], key='08bd0862-71c9-480b-8f65-2f99685c2433', value={'memory': '사용자는 랭체인 생태계의 랭그래프에 대한 지식을 확인하고, 랭그래프의 기본 개념, 활용 분야, 랭체인과의 관계 등에 대한 질문이 가능하다는 답변을 받았습니다. 이후 사용자는 대화 내용을 요약하여 데이터베이스에 저장하고, 이전 요약 내용이 있을 경우 이를 포함하여 요약하며, 새로운 주제일 경우 새로운 대화 내용만 요약하는 것을 요청했습니다. 요약은 3~5문장 길이로 제공되며, 요약 요청 사실은 기록되지 않습니다.'}, created_at='2025-03-21T14:34:18.606655+00:00', updated_at='2025-03-21T14:34:18.606658+00:00', score=0.8380613444294231),\n",
              " Item(namespace=['admin', 'information'], key='34a2f154-27fc-4799-bbf0-88f51fdc022a', value={'memory': '사용자는 아침 브런치 메뉴 추천을 요청했습니다. 건강한 메뉴를 선호한다고 밝혔으며, 이에 따라 아보카도 토스트, 그릭 요거트 볼, 오트밀, 스무디 등의 메뉴가 추천되었습니다. 사용자는 이전에 젬마 3 관련 문의를 한 적이 있습니다.'}, created_at='2025-03-21T14:32:52.152007+00:00', updated_at='2025-03-21T14:32:52.152010+00:00', score=0.7792949231583357),\n",
              " Item(namespace=['admin', 'information'], key='4e9292e5-4b1b-4e6b-abd1-af9bab890362', value={'memory': '- 사용자가 젬마 3를 사용해 보았으며, 한국어 성능이 뛰어나다는 것을 알고 있다고 언급했습니다.\\n- 젬마 3의 한국어 성능이 좋은 이유에 대해 질문하여, 대규모 한국어 데이터 학습, 최적화된 모델 구조, 지속적인 개선 등의 요인으로 설명했습니다.\\n- 사용자는 답변에 감사하며, 추가 질문이 있을 경우 다시 문의할 것을 밝혔습니다.'}, created_at='2025-03-21T14:31:50.678102+00:00', updated_at='2025-03-21T14:31:50.678106+00:00', score=0.7634960511036479)]"
            ]
          },
          "metadata": {},
          "execution_count": 67
        }
      ],
      "source": [
        "in_memory_store.search(('admin', 'information'), query='랭그래프', limit=3)"
      ]
    },
    {
      "cell_type": "code",
      "execution_count": null,
      "metadata": {
        "id": "SU9DPl1yc_YX",
        "colab": {
          "base_uri": "https://localhost:8080/"
        },
        "outputId": "dd20dba5-8a7e-4f6b-ed61-3d9ec29f406e"
      },
      "outputs": [
        {
          "output_type": "stream",
          "name": "stdout",
          "text": [
            "Assistant: 안녕하세요! 오늘 하루도 활기차게 시작하시길 바랍니다. 무엇을 도와드릴까요? 지난 번 젬마 3에 대한 문의와 아침 브런치 메뉴 추천에 이어, 또 궁금한 점이 있으시거나 필요한 정보가 있으시면 언제든지 말씀해주세요. 😊\n",
            "너 랭그래프 좀 알아?\n",
            "{'call_model': {'messages': [AIMessage(content='안녕하세요! 오늘 하루도 활기차게 시작하시길 바랍니다. 무엇을 도와드릴까요? 지난 번 젬마 3에 대한 문의와 아침 브런치 메뉴 추천에 이어, 또 궁금한 점이 있으시거나 필요한 정보가 있으시면 언제든지 말씀해주세요. 😊', additional_kwargs={}, response_metadata={'prompt_feedback': {'block_reason': 0, 'safety_ratings': []}, 'finish_reason': 'STOP', 'safety_ratings': []}, id='run-8c730e73-eb24-4cac-a6e9-fccf986c8c20-0', usage_metadata={'input_tokens': 293, 'output_tokens': 88, 'total_tokens': 381, 'input_token_details': {'cache_read': 0}}), HumanMessage(content='너 랭그래프 좀 알아?', additional_kwargs={}, response_metadata={}, id='b3fd3577-6ad8-441b-bf27-0358f766c5b5')]}}\n",
            "Assistant: 랭그래프(LangGraph)에 대해 알고 있습니다. 랭체인(LangChain) 생태계의 일부로, LLM(Large Language Model)을 사용하여 구축된 복잡한 멀티 에이전트 워크플로우를 오케스트레이션하고 관리하는 데 사용되는 도구입니다.\n",
            "\n",
            "랭그래프에 대해 어떤 점이 궁금하신가요? 예를 들어 다음과 같은 질문에 답변해 드릴 수 있습니다.\n",
            "\n",
            "*   랭그래프의 기본적인 개념과 작동 방식\n",
            "*   랭그래프를 사용하여 어떤 종류의 워크플로우를 구축할 수 있는지\n",
            "*   랭체인과의 관계\n",
            "*   랭그래프 사용 예시\n",
            "*   기타 랭그래프 관련 기술적인 질문\n",
            "\n",
            "궁금하신 점을 구체적으로 말씀해주시면 더 자세하고 정확한 답변을 드릴 수 있습니다.\n",
            "END\n",
            "{'call_model': {'messages': [AIMessage(content='랭그래프(LangGraph)에 대해 알고 있습니다. 랭체인(LangChain) 생태계의 일부로, LLM(Large Language Model)을 사용하여 구축된 복잡한 멀티 에이전트 워크플로우를 오케스트레이션하고 관리하는 데 사용되는 도구입니다.\\n\\n랭그래프에 대해 어떤 점이 궁금하신가요? 예를 들어 다음과 같은 질문에 답변해 드릴 수 있습니다.\\n\\n*   랭그래프의 기본적인 개념과 작동 방식\\n*   랭그래프를 사용하여 어떤 종류의 워크플로우를 구축할 수 있는지\\n*   랭체인과의 관계\\n*   랭그래프 사용 예시\\n*   기타 랭그래프 관련 기술적인 질문\\n\\n궁금하신 점을 구체적으로 말씀해주시면 더 자세하고 정확한 답변을 드릴 수 있습니다.', additional_kwargs={}, response_metadata={'prompt_feedback': {'block_reason': 0, 'safety_ratings': []}, 'finish_reason': 'STOP', 'safety_ratings': []}, id='run-093484b3-6e21-4771-b511-fcdd36b1f4da-0', usage_metadata={'input_tokens': 391, 'output_tokens': 225, 'total_tokens': 616, 'input_token_details': {'cache_read': 0}}), HumanMessage(content='END', additional_kwargs={}, response_metadata={}, id='d2c5911c-0a36-46e3-9904-db8b6b23280a')]}}\n",
            "{'summarize_conversation': {'summary': '사용자는 랭체인 생태계의 랭그래프에 대한 지식을 확인하고, 랭그래프의 기본 개념, 활용 분야, 랭체인과의 관계 등에 대한 질문이 가능하다는 답변을 받았습니다. 이후 사용자는 대화 내용을 요약하여 데이터베이스에 저장하고, 이전 요약 내용이 있을 경우 이를 포함하여 요약하며, 새로운 주제일 경우 새로운 대화 내용만 요약하는 것을 요청했습니다. 요약은 3~5문장 길이로 제공되며, 요약 요청 사실은 기록되지 않습니다.', 'messages': [RemoveMessage(content='', additional_kwargs={}, response_metadata={}, id='run-8c730e73-eb24-4cac-a6e9-fccf986c8c20-0'), RemoveMessage(content='', additional_kwargs={}, response_metadata={}, id='b3fd3577-6ad8-441b-bf27-0358f766c5b5'), RemoveMessage(content='', additional_kwargs={}, response_metadata={}, id='run-093484b3-6e21-4771-b511-fcdd36b1f4da-0'), RemoveMessage(content='', additional_kwargs={}, response_metadata={}, id='d2c5911c-0a36-46e3-9904-db8b6b23280a')]}}\n",
            "{'update_memory': None}\n"
          ]
        }
      ],
      "source": [
        "# 다른 thread id로 해도 이전 정보를 참고함\n",
        "config = {'configurable':{'thread_id':'9', 'user_id':'admin'}}\n",
        "for data in graph.stream(\n",
        "    {'messages':[]},\n",
        "    config,stream_mode=\"updates\"):\n",
        "    print(data)"
      ]
    },
    {
      "cell_type": "code",
      "execution_count": null,
      "metadata": {
        "id": "hEQw-Ewuc_YX"
      },
      "outputs": [],
      "source": []
    },
    {
      "cell_type": "markdown",
      "metadata": {
        "id": "JqWxKCxVc_YX"
      },
      "source": [
        "# SQLite Store 사용하기"
      ]
    },
    {
      "cell_type": "markdown",
      "metadata": {
        "id": "AJhzBhvyc_YY"
      },
      "source": [
        "외부 DB를 연동하는 기능은 현재 직접 지원하지 않으며, BaseStore Class를 이용해 구현해야 합니다.   \n",
        "PostGresStore를 사용하는 경우: https://langchain-ai.github.io/langgraph/reference/store/#langgraph.store.postgres.PostgresStore"
      ]
    },
    {
      "cell_type": "code",
      "execution_count": null,
      "metadata": {
        "id": "58oFJuRZc_YY"
      },
      "outputs": [],
      "source": [
        "from langgraph.store.base import BaseStore, SearchItem\n",
        "from typing import List, Optional, Dict, Any, Tuple\n",
        "import sqlite3\n",
        "import json\n",
        "from datetime import datetime\n",
        "import uuid\n",
        "import numpy as np\n",
        "from sentence_transformers import SentenceTransformer\n",
        "\n",
        "class SQLiteStore(BaseStore):\n",
        "    def __init__(self, db_path: str = \"store.db\", embedding_model: str = 'intfloat/multilingual-e5-large'):\n",
        "        self.db_path = db_path\n",
        "        self.conn = sqlite3.connect(db_path, check_same_thread=False)\n",
        "        self.embedding_model = embedding_model\n",
        "        self._setup()\n",
        "\n",
        "    def _setup(self):\n",
        "        \"\"\"데이터베이스 테이블 생성\"\"\"\n",
        "        cursor = self.conn.cursor()\n",
        "\n",
        "        # 메인 스토어 테이블\n",
        "        cursor.execute(\"\"\"\n",
        "            CREATE TABLE IF NOT EXISTS store (\n",
        "                namespace TEXT,\n",
        "                key TEXT,\n",
        "                value TEXT,\n",
        "                created_at TEXT,\n",
        "                updated_at TEXT,\n",
        "                PRIMARY KEY (namespace, key)\n",
        "            )\n",
        "        \"\"\")\n",
        "\n",
        "        # 임베딩 테이블\n",
        "        cursor.execute(\"\"\"\n",
        "            CREATE TABLE IF NOT EXISTS embeddings (\n",
        "                namespace TEXT,\n",
        "                key TEXT,\n",
        "                embedding BLOB,\n",
        "                text TEXT,\n",
        "                PRIMARY KEY (namespace, key),\n",
        "                FOREIGN KEY (namespace, key) REFERENCES store(namespace, key)\n",
        "            )\n",
        "        \"\"\")\n",
        "\n",
        "        self.conn.commit()\n",
        "\n",
        "    def _get_embedding(self, text: str) -> np.ndarray:\n",
        "        \"\"\"텍스트의 임베딩 벡터 생성\"\"\"\n",
        "        model = SentenceTransformer(self.embedding_model)\n",
        "        return model.encode(text)\n",
        "\n",
        "    def _cosine_similarity(self, a: np.ndarray, b: np.ndarray) -> float:\n",
        "        \"\"\"코사인 유사도 계산\"\"\"\n",
        "        return np.dot(a, b) / (np.linalg.norm(a) * np.linalg.norm(b))\n",
        "\n",
        "\n",
        "    def batch(self, operations: List[Tuple[str, Tuple[str, ...], str, Dict[str, Any]]]) -> None:\n",
        "        \"\"\"일괄 작업 처리\"\"\"\n",
        "        for op, namespace, key, value in operations:\n",
        "            if op == \"put\":\n",
        "                self.put(namespace, key, value)\n",
        "            elif op == \"delete\":\n",
        "                self.delete(namespace, key)\n",
        "    async def abatch(self, operations: List[Tuple[str, Tuple[str, ...], str, Dict[str, Any]]]) -> None:\n",
        "        \"\"\"비동기 일괄 작업 처리\"\"\"\n",
        "        self.batch(operations)  # SQLite는 기본적으로 동기식이므로 동기 메서드를 호출\n",
        "\n",
        "\n",
        "\n",
        "\n",
        "    def put(self, namespace: Tuple[str, ...], key: str, value: Dict[str, Any], index: bool = True) -> None:\n",
        "        \"\"\"데이터 저장\"\"\"\n",
        "        namespace_str = json.dumps(namespace)\n",
        "        value_str = json.dumps(value)\n",
        "        now = datetime.utcnow().isoformat()\n",
        "\n",
        "        cursor = self.conn.cursor()\n",
        "        cursor.execute(\"\"\"\n",
        "            INSERT OR REPLACE INTO store (namespace, key, value, created_at, updated_at)\n",
        "            VALUES (?, ?, ?, ?, ?)\n",
        "        \"\"\", (namespace_str, key, value_str, now, now))\n",
        "\n",
        "        # 임베딩 저장\n",
        "        if index:\n",
        "            # value에서 텍스트 추출 (예: 'memory' 필드)\n",
        "            text_to_embed = value.get('memory', '') if isinstance(value, dict) else str(value)\n",
        "            if text_to_embed:\n",
        "                embedding = self._get_embedding(text_to_embed)\n",
        "                cursor.execute(\"\"\"\n",
        "                    INSERT OR REPLACE INTO embeddings (namespace, key, embedding, text)\n",
        "                    VALUES (?, ?, ?, ?)\n",
        "                \"\"\", (namespace_str, key, embedding.tobytes(), text_to_embed))\n",
        "\n",
        "        self.conn.commit()\n",
        "\n",
        "    def get(self, namespace: Tuple[str, ...], key: str) -> Optional[Dict[str, Any]]:\n",
        "        \"\"\"데이터 조회\"\"\"\n",
        "        namespace_str = json.dumps(namespace)\n",
        "        cursor = self.conn.cursor()\n",
        "        cursor.execute(\"\"\"\n",
        "            SELECT value FROM store WHERE namespace = ? AND key = ?\n",
        "        \"\"\", (namespace_str, key))\n",
        "        result = cursor.fetchone()\n",
        "\n",
        "        if result:\n",
        "            return json.loads(result[0])\n",
        "        return None\n",
        "\n",
        "    def search(self, namespace: Tuple[str, ...], query: Optional[str] = None, limit: int = 20) -> List[SearchItem]:\n",
        "        \"\"\"데이터 검색 (임베딩 기반 또는 텍스트 기반)\"\"\"\n",
        "        namespace_str = json.dumps(namespace)\n",
        "        cursor = self.conn.cursor()\n",
        "\n",
        "        if query:\n",
        "            # 임베딩 기반 검색\n",
        "            query_embedding = self._get_embedding(query)\n",
        "\n",
        "            # 모든 임베딩 가져오기\n",
        "            cursor.execute(\"\"\"\n",
        "                SELECT e.embedding, e.text, s.key, s.value, s.created_at, s.updated_at\n",
        "                FROM embeddings e\n",
        "                JOIN store s ON e.namespace = s.namespace AND e.key = s.key\n",
        "                WHERE e.namespace = ?\n",
        "            \"\"\", (namespace_str,))\n",
        "\n",
        "            results = []\n",
        "            for row in cursor.fetchall():\n",
        "                embedding = np.frombuffer(row[0], dtype=np.float32)\n",
        "                similarity = self._cosine_similarity(query_embedding, embedding)\n",
        "                results.append(SearchItem(\n",
        "                key=row[2],          # key는 세 번째 컬럼\n",
        "                value=json.loads(row[3]),  # value는 네 번째 컬럼\n",
        "                created_at=datetime.fromisoformat(row[4]),  # created_at은 다섯 번째 컬럼\n",
        "                updated_at=datetime.fromisoformat(row[5]),  # updated_at은 여섯 번째 컬럼\n",
        "                namespace=namespace,\n",
        "                score = similarity\n",
        "            ))\n",
        "\n",
        "            # 유사도 기준으로 정렬\n",
        "            results.sort(key=lambda x: x.score, reverse=True)\n",
        "            return results[:limit]\n",
        "        else:\n",
        "            # 일반 텍스트 검색\n",
        "            cursor.execute(\"\"\"\n",
        "                SELECT key, value, created_at, updated_at\n",
        "                FROM store\n",
        "                WHERE namespace = ?\n",
        "                ORDER BY created_at DESC LIMIT ?\n",
        "            \"\"\", (namespace_str, limit))\n",
        "\n",
        "            results = []\n",
        "            for row in cursor.fetchall():\n",
        "                value = json.loads(row[1])\n",
        "                results.append(SearchItem(\n",
        "                key=row[0],\n",
        "                value=value,\n",
        "                created_at=datetime.fromisoformat(row[2]),\n",
        "                updated_at=datetime.fromisoformat(row[3]),\n",
        "                namespace=namespace  # 원래 search 메서드에 전달된 namespace 사용\n",
        "                ))\n",
        "\n",
        "            return results\n",
        "\n",
        "    def delete(self, namespace: Tuple[str, ...], key: str) -> None:\n",
        "        \"\"\"데이터 삭제\"\"\"\n",
        "        namespace_str = json.dumps(namespace)\n",
        "        cursor = self.conn.cursor()\n",
        "\n",
        "        # 임베딩도 함께 삭제\n",
        "        cursor.execute(\"\"\"\n",
        "            DELETE FROM embeddings WHERE namespace = ? AND key = ?\n",
        "        \"\"\", (namespace_str, key))\n",
        "\n",
        "        cursor.execute(\"\"\"\n",
        "            DELETE FROM store WHERE namespace = ? AND key = ?\n",
        "        \"\"\", (namespace_str, key))\n",
        "\n",
        "        self.conn.commit()\n",
        "\n",
        "    def list_namespaces(self) -> List[Tuple[str, ...]]:\n",
        "        \"\"\"네임스페이스 목록 조회\"\"\"\n",
        "        cursor = self.conn.cursor()\n",
        "        cursor.execute(\"SELECT DISTINCT namespace FROM store\")\n",
        "        return [tuple(json.loads(row[0])) for row in cursor.fetchall()]"
      ]
    },
    {
      "cell_type": "code",
      "execution_count": null,
      "metadata": {
        "id": "AUYTdfjwc_YY"
      },
      "outputs": [],
      "source": [
        "graph"
      ]
    },
    {
      "cell_type": "code",
      "execution_count": null,
      "metadata": {
        "id": "yUY8NXa6c_YY"
      },
      "outputs": [],
      "source": [
        "# SQLite 스토어 인스턴스 생성\n",
        "sqlite_store = SQLiteStore(db_path = 'example.db', embedding_model = model_name)\n",
        "\n",
        "graph = builder.compile(checkpointer=memory, store=sqlite_store)\n",
        "\n",
        "print('END를 입력하면 대화가 종료됩니다.')\n",
        "\n",
        "config = {'configurable':{'thread_id':'1', 'user_id':'admin'}}\n",
        "for data in graph.stream(\n",
        "    {'messages':[]},\n",
        "    config,stream_mode=\"updates\"):\n",
        "    print(data)"
      ]
    },
    {
      "cell_type": "code",
      "execution_count": null,
      "metadata": {
        "id": "yjmgZLOhc_YY"
      },
      "outputs": [],
      "source": [
        "sqlite_store.list_namespaces()"
      ]
    },
    {
      "cell_type": "code",
      "execution_count": null,
      "metadata": {
        "id": "ZesOhjBTc_YY"
      },
      "outputs": [],
      "source": [
        "memories = sqlite_store.search(('admin', 'information'))\n",
        "for result in memories:\n",
        "    print(result)"
      ]
    },
    {
      "cell_type": "code",
      "execution_count": null,
      "metadata": {
        "id": "IoPKMYqWc_YY"
      },
      "outputs": [],
      "source": [
        "# 임베딩 검색 사용 예시\n",
        "# memory에서 값을 검색하도록 설정(SQLite Store Class 참고)\n",
        "\n",
        "results = sqlite_store.search(('admin', 'information'), query=\"코딩\", limit=1)\n",
        "for result in results:\n",
        "    print(result)\n"
      ]
    },
    {
      "cell_type": "markdown",
      "source": [
        "Langsmith (https://smith.langchain.com )에서 실행 결과를 확인할 수 있습니다."
      ],
      "metadata": {
        "id": "b18UYEgUskcC"
      }
    },
    {
      "cell_type": "code",
      "execution_count": null,
      "metadata": {
        "id": "qAj_rMSOc_YY"
      },
      "outputs": [],
      "source": []
    }
  ],
  "metadata": {
    "kernelspec": {
      "display_name": "Python 3",
      "name": "python3"
    },
    "language_info": {
      "codemirror_mode": {
        "name": "ipython",
        "version": 3
      },
      "file_extension": ".py",
      "mimetype": "text/x-python",
      "name": "python",
      "nbconvert_exporter": "python",
      "pygments_lexer": "ipython3",
      "version": "3.11.7"
    },
    "colab": {
      "provenance": [],
      "gpuType": "T4"
    },
    "accelerator": "GPU",
    "widgets": {
      "application/vnd.jupyter.widget-state+json": {
        "2107a36b11114104b7ce55e27a6f1d98": {
          "model_module": "@jupyter-widgets/controls",
          "model_name": "HBoxModel",
          "model_module_version": "1.5.0",
          "state": {
            "_dom_classes": [],
            "_model_module": "@jupyter-widgets/controls",
            "_model_module_version": "1.5.0",
            "_model_name": "HBoxModel",
            "_view_count": null,
            "_view_module": "@jupyter-widgets/controls",
            "_view_module_version": "1.5.0",
            "_view_name": "HBoxView",
            "box_style": "",
            "children": [
              "IPY_MODEL_1117460caa454c018ad4ab61419c7b1b",
              "IPY_MODEL_59631d25f48c486faf4fabb34562740a",
              "IPY_MODEL_87bb25cb50a04795bc2c0de7cd632b9c"
            ],
            "layout": "IPY_MODEL_8a612176e55040a5b0b95b6e2ee15b38"
          }
        },
        "1117460caa454c018ad4ab61419c7b1b": {
          "model_module": "@jupyter-widgets/controls",
          "model_name": "HTMLModel",
          "model_module_version": "1.5.0",
          "state": {
            "_dom_classes": [],
            "_model_module": "@jupyter-widgets/controls",
            "_model_module_version": "1.5.0",
            "_model_name": "HTMLModel",
            "_view_count": null,
            "_view_module": "@jupyter-widgets/controls",
            "_view_module_version": "1.5.0",
            "_view_name": "HTMLView",
            "description": "",
            "description_tooltip": null,
            "layout": "IPY_MODEL_704a978147fb4b5da15d0c82d5ae9f2f",
            "placeholder": "​",
            "style": "IPY_MODEL_4fdeb1eaa9d04903b2a715e82d1d3870",
            "value": "modules.json: 100%"
          }
        },
        "59631d25f48c486faf4fabb34562740a": {
          "model_module": "@jupyter-widgets/controls",
          "model_name": "FloatProgressModel",
          "model_module_version": "1.5.0",
          "state": {
            "_dom_classes": [],
            "_model_module": "@jupyter-widgets/controls",
            "_model_module_version": "1.5.0",
            "_model_name": "FloatProgressModel",
            "_view_count": null,
            "_view_module": "@jupyter-widgets/controls",
            "_view_module_version": "1.5.0",
            "_view_name": "ProgressView",
            "bar_style": "success",
            "description": "",
            "description_tooltip": null,
            "layout": "IPY_MODEL_b3d18d7a665147d1af8b86161ccf0171",
            "max": 387,
            "min": 0,
            "orientation": "horizontal",
            "style": "IPY_MODEL_8e74f0841bc548c991ccd79c5f5e2586",
            "value": 387
          }
        },
        "87bb25cb50a04795bc2c0de7cd632b9c": {
          "model_module": "@jupyter-widgets/controls",
          "model_name": "HTMLModel",
          "model_module_version": "1.5.0",
          "state": {
            "_dom_classes": [],
            "_model_module": "@jupyter-widgets/controls",
            "_model_module_version": "1.5.0",
            "_model_name": "HTMLModel",
            "_view_count": null,
            "_view_module": "@jupyter-widgets/controls",
            "_view_module_version": "1.5.0",
            "_view_name": "HTMLView",
            "description": "",
            "description_tooltip": null,
            "layout": "IPY_MODEL_346089d287ea43f88d748ddc450417d0",
            "placeholder": "​",
            "style": "IPY_MODEL_ec4fb3533bbb456ab998657cc1c3436a",
            "value": " 387/387 [00:00&lt;00:00, 26.2kB/s]"
          }
        },
        "8a612176e55040a5b0b95b6e2ee15b38": {
          "model_module": "@jupyter-widgets/base",
          "model_name": "LayoutModel",
          "model_module_version": "1.2.0",
          "state": {
            "_model_module": "@jupyter-widgets/base",
            "_model_module_version": "1.2.0",
            "_model_name": "LayoutModel",
            "_view_count": null,
            "_view_module": "@jupyter-widgets/base",
            "_view_module_version": "1.2.0",
            "_view_name": "LayoutView",
            "align_content": null,
            "align_items": null,
            "align_self": null,
            "border": null,
            "bottom": null,
            "display": null,
            "flex": null,
            "flex_flow": null,
            "grid_area": null,
            "grid_auto_columns": null,
            "grid_auto_flow": null,
            "grid_auto_rows": null,
            "grid_column": null,
            "grid_gap": null,
            "grid_row": null,
            "grid_template_areas": null,
            "grid_template_columns": null,
            "grid_template_rows": null,
            "height": null,
            "justify_content": null,
            "justify_items": null,
            "left": null,
            "margin": null,
            "max_height": null,
            "max_width": null,
            "min_height": null,
            "min_width": null,
            "object_fit": null,
            "object_position": null,
            "order": null,
            "overflow": null,
            "overflow_x": null,
            "overflow_y": null,
            "padding": null,
            "right": null,
            "top": null,
            "visibility": null,
            "width": null
          }
        },
        "704a978147fb4b5da15d0c82d5ae9f2f": {
          "model_module": "@jupyter-widgets/base",
          "model_name": "LayoutModel",
          "model_module_version": "1.2.0",
          "state": {
            "_model_module": "@jupyter-widgets/base",
            "_model_module_version": "1.2.0",
            "_model_name": "LayoutModel",
            "_view_count": null,
            "_view_module": "@jupyter-widgets/base",
            "_view_module_version": "1.2.0",
            "_view_name": "LayoutView",
            "align_content": null,
            "align_items": null,
            "align_self": null,
            "border": null,
            "bottom": null,
            "display": null,
            "flex": null,
            "flex_flow": null,
            "grid_area": null,
            "grid_auto_columns": null,
            "grid_auto_flow": null,
            "grid_auto_rows": null,
            "grid_column": null,
            "grid_gap": null,
            "grid_row": null,
            "grid_template_areas": null,
            "grid_template_columns": null,
            "grid_template_rows": null,
            "height": null,
            "justify_content": null,
            "justify_items": null,
            "left": null,
            "margin": null,
            "max_height": null,
            "max_width": null,
            "min_height": null,
            "min_width": null,
            "object_fit": null,
            "object_position": null,
            "order": null,
            "overflow": null,
            "overflow_x": null,
            "overflow_y": null,
            "padding": null,
            "right": null,
            "top": null,
            "visibility": null,
            "width": null
          }
        },
        "4fdeb1eaa9d04903b2a715e82d1d3870": {
          "model_module": "@jupyter-widgets/controls",
          "model_name": "DescriptionStyleModel",
          "model_module_version": "1.5.0",
          "state": {
            "_model_module": "@jupyter-widgets/controls",
            "_model_module_version": "1.5.0",
            "_model_name": "DescriptionStyleModel",
            "_view_count": null,
            "_view_module": "@jupyter-widgets/base",
            "_view_module_version": "1.2.0",
            "_view_name": "StyleView",
            "description_width": ""
          }
        },
        "b3d18d7a665147d1af8b86161ccf0171": {
          "model_module": "@jupyter-widgets/base",
          "model_name": "LayoutModel",
          "model_module_version": "1.2.0",
          "state": {
            "_model_module": "@jupyter-widgets/base",
            "_model_module_version": "1.2.0",
            "_model_name": "LayoutModel",
            "_view_count": null,
            "_view_module": "@jupyter-widgets/base",
            "_view_module_version": "1.2.0",
            "_view_name": "LayoutView",
            "align_content": null,
            "align_items": null,
            "align_self": null,
            "border": null,
            "bottom": null,
            "display": null,
            "flex": null,
            "flex_flow": null,
            "grid_area": null,
            "grid_auto_columns": null,
            "grid_auto_flow": null,
            "grid_auto_rows": null,
            "grid_column": null,
            "grid_gap": null,
            "grid_row": null,
            "grid_template_areas": null,
            "grid_template_columns": null,
            "grid_template_rows": null,
            "height": null,
            "justify_content": null,
            "justify_items": null,
            "left": null,
            "margin": null,
            "max_height": null,
            "max_width": null,
            "min_height": null,
            "min_width": null,
            "object_fit": null,
            "object_position": null,
            "order": null,
            "overflow": null,
            "overflow_x": null,
            "overflow_y": null,
            "padding": null,
            "right": null,
            "top": null,
            "visibility": null,
            "width": null
          }
        },
        "8e74f0841bc548c991ccd79c5f5e2586": {
          "model_module": "@jupyter-widgets/controls",
          "model_name": "ProgressStyleModel",
          "model_module_version": "1.5.0",
          "state": {
            "_model_module": "@jupyter-widgets/controls",
            "_model_module_version": "1.5.0",
            "_model_name": "ProgressStyleModel",
            "_view_count": null,
            "_view_module": "@jupyter-widgets/base",
            "_view_module_version": "1.2.0",
            "_view_name": "StyleView",
            "bar_color": null,
            "description_width": ""
          }
        },
        "346089d287ea43f88d748ddc450417d0": {
          "model_module": "@jupyter-widgets/base",
          "model_name": "LayoutModel",
          "model_module_version": "1.2.0",
          "state": {
            "_model_module": "@jupyter-widgets/base",
            "_model_module_version": "1.2.0",
            "_model_name": "LayoutModel",
            "_view_count": null,
            "_view_module": "@jupyter-widgets/base",
            "_view_module_version": "1.2.0",
            "_view_name": "LayoutView",
            "align_content": null,
            "align_items": null,
            "align_self": null,
            "border": null,
            "bottom": null,
            "display": null,
            "flex": null,
            "flex_flow": null,
            "grid_area": null,
            "grid_auto_columns": null,
            "grid_auto_flow": null,
            "grid_auto_rows": null,
            "grid_column": null,
            "grid_gap": null,
            "grid_row": null,
            "grid_template_areas": null,
            "grid_template_columns": null,
            "grid_template_rows": null,
            "height": null,
            "justify_content": null,
            "justify_items": null,
            "left": null,
            "margin": null,
            "max_height": null,
            "max_width": null,
            "min_height": null,
            "min_width": null,
            "object_fit": null,
            "object_position": null,
            "order": null,
            "overflow": null,
            "overflow_x": null,
            "overflow_y": null,
            "padding": null,
            "right": null,
            "top": null,
            "visibility": null,
            "width": null
          }
        },
        "ec4fb3533bbb456ab998657cc1c3436a": {
          "model_module": "@jupyter-widgets/controls",
          "model_name": "DescriptionStyleModel",
          "model_module_version": "1.5.0",
          "state": {
            "_model_module": "@jupyter-widgets/controls",
            "_model_module_version": "1.5.0",
            "_model_name": "DescriptionStyleModel",
            "_view_count": null,
            "_view_module": "@jupyter-widgets/base",
            "_view_module_version": "1.2.0",
            "_view_name": "StyleView",
            "description_width": ""
          }
        },
        "bd31d929464649b4abbfc41cf0f32191": {
          "model_module": "@jupyter-widgets/controls",
          "model_name": "HBoxModel",
          "model_module_version": "1.5.0",
          "state": {
            "_dom_classes": [],
            "_model_module": "@jupyter-widgets/controls",
            "_model_module_version": "1.5.0",
            "_model_name": "HBoxModel",
            "_view_count": null,
            "_view_module": "@jupyter-widgets/controls",
            "_view_module_version": "1.5.0",
            "_view_name": "HBoxView",
            "box_style": "",
            "children": [
              "IPY_MODEL_324012f44793482db5ca82416e474421",
              "IPY_MODEL_2d32235cf2364ab6a42d5ee69e66d16f",
              "IPY_MODEL_7564999ac35f4226b4872a54b15b0a18"
            ],
            "layout": "IPY_MODEL_a04c41c170e54736848b314009108e55"
          }
        },
        "324012f44793482db5ca82416e474421": {
          "model_module": "@jupyter-widgets/controls",
          "model_name": "HTMLModel",
          "model_module_version": "1.5.0",
          "state": {
            "_dom_classes": [],
            "_model_module": "@jupyter-widgets/controls",
            "_model_module_version": "1.5.0",
            "_model_name": "HTMLModel",
            "_view_count": null,
            "_view_module": "@jupyter-widgets/controls",
            "_view_module_version": "1.5.0",
            "_view_name": "HTMLView",
            "description": "",
            "description_tooltip": null,
            "layout": "IPY_MODEL_dfe7db7671ec4927898b3e9a2d601421",
            "placeholder": "​",
            "style": "IPY_MODEL_7fc69afef46045f290cec60052a66f28",
            "value": "README.md: 100%"
          }
        },
        "2d32235cf2364ab6a42d5ee69e66d16f": {
          "model_module": "@jupyter-widgets/controls",
          "model_name": "FloatProgressModel",
          "model_module_version": "1.5.0",
          "state": {
            "_dom_classes": [],
            "_model_module": "@jupyter-widgets/controls",
            "_model_module_version": "1.5.0",
            "_model_name": "FloatProgressModel",
            "_view_count": null,
            "_view_module": "@jupyter-widgets/controls",
            "_view_module_version": "1.5.0",
            "_view_name": "ProgressView",
            "bar_style": "success",
            "description": "",
            "description_tooltip": null,
            "layout": "IPY_MODEL_1ffd585b31e94d99b5745e811a24bf99",
            "max": 497538,
            "min": 0,
            "orientation": "horizontal",
            "style": "IPY_MODEL_7e613dc34bfa4409995167711f2a174d",
            "value": 497538
          }
        },
        "7564999ac35f4226b4872a54b15b0a18": {
          "model_module": "@jupyter-widgets/controls",
          "model_name": "HTMLModel",
          "model_module_version": "1.5.0",
          "state": {
            "_dom_classes": [],
            "_model_module": "@jupyter-widgets/controls",
            "_model_module_version": "1.5.0",
            "_model_name": "HTMLModel",
            "_view_count": null,
            "_view_module": "@jupyter-widgets/controls",
            "_view_module_version": "1.5.0",
            "_view_name": "HTMLView",
            "description": "",
            "description_tooltip": null,
            "layout": "IPY_MODEL_0c95b1d5e14740fb92ce6162e5282fa5",
            "placeholder": "​",
            "style": "IPY_MODEL_5e769d65f14b4016bb4ee99700eda94b",
            "value": " 498k/498k [00:00&lt;00:00, 9.50MB/s]"
          }
        },
        "a04c41c170e54736848b314009108e55": {
          "model_module": "@jupyter-widgets/base",
          "model_name": "LayoutModel",
          "model_module_version": "1.2.0",
          "state": {
            "_model_module": "@jupyter-widgets/base",
            "_model_module_version": "1.2.0",
            "_model_name": "LayoutModel",
            "_view_count": null,
            "_view_module": "@jupyter-widgets/base",
            "_view_module_version": "1.2.0",
            "_view_name": "LayoutView",
            "align_content": null,
            "align_items": null,
            "align_self": null,
            "border": null,
            "bottom": null,
            "display": null,
            "flex": null,
            "flex_flow": null,
            "grid_area": null,
            "grid_auto_columns": null,
            "grid_auto_flow": null,
            "grid_auto_rows": null,
            "grid_column": null,
            "grid_gap": null,
            "grid_row": null,
            "grid_template_areas": null,
            "grid_template_columns": null,
            "grid_template_rows": null,
            "height": null,
            "justify_content": null,
            "justify_items": null,
            "left": null,
            "margin": null,
            "max_height": null,
            "max_width": null,
            "min_height": null,
            "min_width": null,
            "object_fit": null,
            "object_position": null,
            "order": null,
            "overflow": null,
            "overflow_x": null,
            "overflow_y": null,
            "padding": null,
            "right": null,
            "top": null,
            "visibility": null,
            "width": null
          }
        },
        "dfe7db7671ec4927898b3e9a2d601421": {
          "model_module": "@jupyter-widgets/base",
          "model_name": "LayoutModel",
          "model_module_version": "1.2.0",
          "state": {
            "_model_module": "@jupyter-widgets/base",
            "_model_module_version": "1.2.0",
            "_model_name": "LayoutModel",
            "_view_count": null,
            "_view_module": "@jupyter-widgets/base",
            "_view_module_version": "1.2.0",
            "_view_name": "LayoutView",
            "align_content": null,
            "align_items": null,
            "align_self": null,
            "border": null,
            "bottom": null,
            "display": null,
            "flex": null,
            "flex_flow": null,
            "grid_area": null,
            "grid_auto_columns": null,
            "grid_auto_flow": null,
            "grid_auto_rows": null,
            "grid_column": null,
            "grid_gap": null,
            "grid_row": null,
            "grid_template_areas": null,
            "grid_template_columns": null,
            "grid_template_rows": null,
            "height": null,
            "justify_content": null,
            "justify_items": null,
            "left": null,
            "margin": null,
            "max_height": null,
            "max_width": null,
            "min_height": null,
            "min_width": null,
            "object_fit": null,
            "object_position": null,
            "order": null,
            "overflow": null,
            "overflow_x": null,
            "overflow_y": null,
            "padding": null,
            "right": null,
            "top": null,
            "visibility": null,
            "width": null
          }
        },
        "7fc69afef46045f290cec60052a66f28": {
          "model_module": "@jupyter-widgets/controls",
          "model_name": "DescriptionStyleModel",
          "model_module_version": "1.5.0",
          "state": {
            "_model_module": "@jupyter-widgets/controls",
            "_model_module_version": "1.5.0",
            "_model_name": "DescriptionStyleModel",
            "_view_count": null,
            "_view_module": "@jupyter-widgets/base",
            "_view_module_version": "1.2.0",
            "_view_name": "StyleView",
            "description_width": ""
          }
        },
        "1ffd585b31e94d99b5745e811a24bf99": {
          "model_module": "@jupyter-widgets/base",
          "model_name": "LayoutModel",
          "model_module_version": "1.2.0",
          "state": {
            "_model_module": "@jupyter-widgets/base",
            "_model_module_version": "1.2.0",
            "_model_name": "LayoutModel",
            "_view_count": null,
            "_view_module": "@jupyter-widgets/base",
            "_view_module_version": "1.2.0",
            "_view_name": "LayoutView",
            "align_content": null,
            "align_items": null,
            "align_self": null,
            "border": null,
            "bottom": null,
            "display": null,
            "flex": null,
            "flex_flow": null,
            "grid_area": null,
            "grid_auto_columns": null,
            "grid_auto_flow": null,
            "grid_auto_rows": null,
            "grid_column": null,
            "grid_gap": null,
            "grid_row": null,
            "grid_template_areas": null,
            "grid_template_columns": null,
            "grid_template_rows": null,
            "height": null,
            "justify_content": null,
            "justify_items": null,
            "left": null,
            "margin": null,
            "max_height": null,
            "max_width": null,
            "min_height": null,
            "min_width": null,
            "object_fit": null,
            "object_position": null,
            "order": null,
            "overflow": null,
            "overflow_x": null,
            "overflow_y": null,
            "padding": null,
            "right": null,
            "top": null,
            "visibility": null,
            "width": null
          }
        },
        "7e613dc34bfa4409995167711f2a174d": {
          "model_module": "@jupyter-widgets/controls",
          "model_name": "ProgressStyleModel",
          "model_module_version": "1.5.0",
          "state": {
            "_model_module": "@jupyter-widgets/controls",
            "_model_module_version": "1.5.0",
            "_model_name": "ProgressStyleModel",
            "_view_count": null,
            "_view_module": "@jupyter-widgets/base",
            "_view_module_version": "1.2.0",
            "_view_name": "StyleView",
            "bar_color": null,
            "description_width": ""
          }
        },
        "0c95b1d5e14740fb92ce6162e5282fa5": {
          "model_module": "@jupyter-widgets/base",
          "model_name": "LayoutModel",
          "model_module_version": "1.2.0",
          "state": {
            "_model_module": "@jupyter-widgets/base",
            "_model_module_version": "1.2.0",
            "_model_name": "LayoutModel",
            "_view_count": null,
            "_view_module": "@jupyter-widgets/base",
            "_view_module_version": "1.2.0",
            "_view_name": "LayoutView",
            "align_content": null,
            "align_items": null,
            "align_self": null,
            "border": null,
            "bottom": null,
            "display": null,
            "flex": null,
            "flex_flow": null,
            "grid_area": null,
            "grid_auto_columns": null,
            "grid_auto_flow": null,
            "grid_auto_rows": null,
            "grid_column": null,
            "grid_gap": null,
            "grid_row": null,
            "grid_template_areas": null,
            "grid_template_columns": null,
            "grid_template_rows": null,
            "height": null,
            "justify_content": null,
            "justify_items": null,
            "left": null,
            "margin": null,
            "max_height": null,
            "max_width": null,
            "min_height": null,
            "min_width": null,
            "object_fit": null,
            "object_position": null,
            "order": null,
            "overflow": null,
            "overflow_x": null,
            "overflow_y": null,
            "padding": null,
            "right": null,
            "top": null,
            "visibility": null,
            "width": null
          }
        },
        "5e769d65f14b4016bb4ee99700eda94b": {
          "model_module": "@jupyter-widgets/controls",
          "model_name": "DescriptionStyleModel",
          "model_module_version": "1.5.0",
          "state": {
            "_model_module": "@jupyter-widgets/controls",
            "_model_module_version": "1.5.0",
            "_model_name": "DescriptionStyleModel",
            "_view_count": null,
            "_view_module": "@jupyter-widgets/base",
            "_view_module_version": "1.2.0",
            "_view_name": "StyleView",
            "description_width": ""
          }
        },
        "83a946cd2ac2476782206cf79de6c997": {
          "model_module": "@jupyter-widgets/controls",
          "model_name": "HBoxModel",
          "model_module_version": "1.5.0",
          "state": {
            "_dom_classes": [],
            "_model_module": "@jupyter-widgets/controls",
            "_model_module_version": "1.5.0",
            "_model_name": "HBoxModel",
            "_view_count": null,
            "_view_module": "@jupyter-widgets/controls",
            "_view_module_version": "1.5.0",
            "_view_name": "HBoxView",
            "box_style": "",
            "children": [
              "IPY_MODEL_8dea5f444d2a44339f709a9abcd61bb2",
              "IPY_MODEL_ef1123b184b9437996714747734b29c6",
              "IPY_MODEL_786180d6cd2244d582511e78c9f004dc"
            ],
            "layout": "IPY_MODEL_07dece58081241d18f376bb4496305c6"
          }
        },
        "8dea5f444d2a44339f709a9abcd61bb2": {
          "model_module": "@jupyter-widgets/controls",
          "model_name": "HTMLModel",
          "model_module_version": "1.5.0",
          "state": {
            "_dom_classes": [],
            "_model_module": "@jupyter-widgets/controls",
            "_model_module_version": "1.5.0",
            "_model_name": "HTMLModel",
            "_view_count": null,
            "_view_module": "@jupyter-widgets/controls",
            "_view_module_version": "1.5.0",
            "_view_name": "HTMLView",
            "description": "",
            "description_tooltip": null,
            "layout": "IPY_MODEL_c434553f54a6497890c035c812a32eae",
            "placeholder": "​",
            "style": "IPY_MODEL_e757245aab1341bfaf2b042630bd1c48",
            "value": "sentence_bert_config.json: 100%"
          }
        },
        "ef1123b184b9437996714747734b29c6": {
          "model_module": "@jupyter-widgets/controls",
          "model_name": "FloatProgressModel",
          "model_module_version": "1.5.0",
          "state": {
            "_dom_classes": [],
            "_model_module": "@jupyter-widgets/controls",
            "_model_module_version": "1.5.0",
            "_model_name": "FloatProgressModel",
            "_view_count": null,
            "_view_module": "@jupyter-widgets/controls",
            "_view_module_version": "1.5.0",
            "_view_name": "ProgressView",
            "bar_style": "success",
            "description": "",
            "description_tooltip": null,
            "layout": "IPY_MODEL_8ed340a33b71456a90ebf5824b871642",
            "max": 57,
            "min": 0,
            "orientation": "horizontal",
            "style": "IPY_MODEL_3eda7056a64e496699763fc8c273b075",
            "value": 57
          }
        },
        "786180d6cd2244d582511e78c9f004dc": {
          "model_module": "@jupyter-widgets/controls",
          "model_name": "HTMLModel",
          "model_module_version": "1.5.0",
          "state": {
            "_dom_classes": [],
            "_model_module": "@jupyter-widgets/controls",
            "_model_module_version": "1.5.0",
            "_model_name": "HTMLModel",
            "_view_count": null,
            "_view_module": "@jupyter-widgets/controls",
            "_view_module_version": "1.5.0",
            "_view_name": "HTMLView",
            "description": "",
            "description_tooltip": null,
            "layout": "IPY_MODEL_d3c5f896bb044097b18faab81e2d136d",
            "placeholder": "​",
            "style": "IPY_MODEL_fee47dc852d34e4a97848a7cf767bff4",
            "value": " 57.0/57.0 [00:00&lt;00:00, 3.91kB/s]"
          }
        },
        "07dece58081241d18f376bb4496305c6": {
          "model_module": "@jupyter-widgets/base",
          "model_name": "LayoutModel",
          "model_module_version": "1.2.0",
          "state": {
            "_model_module": "@jupyter-widgets/base",
            "_model_module_version": "1.2.0",
            "_model_name": "LayoutModel",
            "_view_count": null,
            "_view_module": "@jupyter-widgets/base",
            "_view_module_version": "1.2.0",
            "_view_name": "LayoutView",
            "align_content": null,
            "align_items": null,
            "align_self": null,
            "border": null,
            "bottom": null,
            "display": null,
            "flex": null,
            "flex_flow": null,
            "grid_area": null,
            "grid_auto_columns": null,
            "grid_auto_flow": null,
            "grid_auto_rows": null,
            "grid_column": null,
            "grid_gap": null,
            "grid_row": null,
            "grid_template_areas": null,
            "grid_template_columns": null,
            "grid_template_rows": null,
            "height": null,
            "justify_content": null,
            "justify_items": null,
            "left": null,
            "margin": null,
            "max_height": null,
            "max_width": null,
            "min_height": null,
            "min_width": null,
            "object_fit": null,
            "object_position": null,
            "order": null,
            "overflow": null,
            "overflow_x": null,
            "overflow_y": null,
            "padding": null,
            "right": null,
            "top": null,
            "visibility": null,
            "width": null
          }
        },
        "c434553f54a6497890c035c812a32eae": {
          "model_module": "@jupyter-widgets/base",
          "model_name": "LayoutModel",
          "model_module_version": "1.2.0",
          "state": {
            "_model_module": "@jupyter-widgets/base",
            "_model_module_version": "1.2.0",
            "_model_name": "LayoutModel",
            "_view_count": null,
            "_view_module": "@jupyter-widgets/base",
            "_view_module_version": "1.2.0",
            "_view_name": "LayoutView",
            "align_content": null,
            "align_items": null,
            "align_self": null,
            "border": null,
            "bottom": null,
            "display": null,
            "flex": null,
            "flex_flow": null,
            "grid_area": null,
            "grid_auto_columns": null,
            "grid_auto_flow": null,
            "grid_auto_rows": null,
            "grid_column": null,
            "grid_gap": null,
            "grid_row": null,
            "grid_template_areas": null,
            "grid_template_columns": null,
            "grid_template_rows": null,
            "height": null,
            "justify_content": null,
            "justify_items": null,
            "left": null,
            "margin": null,
            "max_height": null,
            "max_width": null,
            "min_height": null,
            "min_width": null,
            "object_fit": null,
            "object_position": null,
            "order": null,
            "overflow": null,
            "overflow_x": null,
            "overflow_y": null,
            "padding": null,
            "right": null,
            "top": null,
            "visibility": null,
            "width": null
          }
        },
        "e757245aab1341bfaf2b042630bd1c48": {
          "model_module": "@jupyter-widgets/controls",
          "model_name": "DescriptionStyleModel",
          "model_module_version": "1.5.0",
          "state": {
            "_model_module": "@jupyter-widgets/controls",
            "_model_module_version": "1.5.0",
            "_model_name": "DescriptionStyleModel",
            "_view_count": null,
            "_view_module": "@jupyter-widgets/base",
            "_view_module_version": "1.2.0",
            "_view_name": "StyleView",
            "description_width": ""
          }
        },
        "8ed340a33b71456a90ebf5824b871642": {
          "model_module": "@jupyter-widgets/base",
          "model_name": "LayoutModel",
          "model_module_version": "1.2.0",
          "state": {
            "_model_module": "@jupyter-widgets/base",
            "_model_module_version": "1.2.0",
            "_model_name": "LayoutModel",
            "_view_count": null,
            "_view_module": "@jupyter-widgets/base",
            "_view_module_version": "1.2.0",
            "_view_name": "LayoutView",
            "align_content": null,
            "align_items": null,
            "align_self": null,
            "border": null,
            "bottom": null,
            "display": null,
            "flex": null,
            "flex_flow": null,
            "grid_area": null,
            "grid_auto_columns": null,
            "grid_auto_flow": null,
            "grid_auto_rows": null,
            "grid_column": null,
            "grid_gap": null,
            "grid_row": null,
            "grid_template_areas": null,
            "grid_template_columns": null,
            "grid_template_rows": null,
            "height": null,
            "justify_content": null,
            "justify_items": null,
            "left": null,
            "margin": null,
            "max_height": null,
            "max_width": null,
            "min_height": null,
            "min_width": null,
            "object_fit": null,
            "object_position": null,
            "order": null,
            "overflow": null,
            "overflow_x": null,
            "overflow_y": null,
            "padding": null,
            "right": null,
            "top": null,
            "visibility": null,
            "width": null
          }
        },
        "3eda7056a64e496699763fc8c273b075": {
          "model_module": "@jupyter-widgets/controls",
          "model_name": "ProgressStyleModel",
          "model_module_version": "1.5.0",
          "state": {
            "_model_module": "@jupyter-widgets/controls",
            "_model_module_version": "1.5.0",
            "_model_name": "ProgressStyleModel",
            "_view_count": null,
            "_view_module": "@jupyter-widgets/base",
            "_view_module_version": "1.2.0",
            "_view_name": "StyleView",
            "bar_color": null,
            "description_width": ""
          }
        },
        "d3c5f896bb044097b18faab81e2d136d": {
          "model_module": "@jupyter-widgets/base",
          "model_name": "LayoutModel",
          "model_module_version": "1.2.0",
          "state": {
            "_model_module": "@jupyter-widgets/base",
            "_model_module_version": "1.2.0",
            "_model_name": "LayoutModel",
            "_view_count": null,
            "_view_module": "@jupyter-widgets/base",
            "_view_module_version": "1.2.0",
            "_view_name": "LayoutView",
            "align_content": null,
            "align_items": null,
            "align_self": null,
            "border": null,
            "bottom": null,
            "display": null,
            "flex": null,
            "flex_flow": null,
            "grid_area": null,
            "grid_auto_columns": null,
            "grid_auto_flow": null,
            "grid_auto_rows": null,
            "grid_column": null,
            "grid_gap": null,
            "grid_row": null,
            "grid_template_areas": null,
            "grid_template_columns": null,
            "grid_template_rows": null,
            "height": null,
            "justify_content": null,
            "justify_items": null,
            "left": null,
            "margin": null,
            "max_height": null,
            "max_width": null,
            "min_height": null,
            "min_width": null,
            "object_fit": null,
            "object_position": null,
            "order": null,
            "overflow": null,
            "overflow_x": null,
            "overflow_y": null,
            "padding": null,
            "right": null,
            "top": null,
            "visibility": null,
            "width": null
          }
        },
        "fee47dc852d34e4a97848a7cf767bff4": {
          "model_module": "@jupyter-widgets/controls",
          "model_name": "DescriptionStyleModel",
          "model_module_version": "1.5.0",
          "state": {
            "_model_module": "@jupyter-widgets/controls",
            "_model_module_version": "1.5.0",
            "_model_name": "DescriptionStyleModel",
            "_view_count": null,
            "_view_module": "@jupyter-widgets/base",
            "_view_module_version": "1.2.0",
            "_view_name": "StyleView",
            "description_width": ""
          }
        },
        "d1f1b5b7039542dc955c227e30d46b77": {
          "model_module": "@jupyter-widgets/controls",
          "model_name": "HBoxModel",
          "model_module_version": "1.5.0",
          "state": {
            "_dom_classes": [],
            "_model_module": "@jupyter-widgets/controls",
            "_model_module_version": "1.5.0",
            "_model_name": "HBoxModel",
            "_view_count": null,
            "_view_module": "@jupyter-widgets/controls",
            "_view_module_version": "1.5.0",
            "_view_name": "HBoxView",
            "box_style": "",
            "children": [
              "IPY_MODEL_ce4051605cfc40b883785eafcf21ae73",
              "IPY_MODEL_05d12b5b4cf5461f9f29e26a72451c71",
              "IPY_MODEL_1b82b027002142758fd71b0b63b02137"
            ],
            "layout": "IPY_MODEL_a7361111b453413f81dbc4f80997afe3"
          }
        },
        "ce4051605cfc40b883785eafcf21ae73": {
          "model_module": "@jupyter-widgets/controls",
          "model_name": "HTMLModel",
          "model_module_version": "1.5.0",
          "state": {
            "_dom_classes": [],
            "_model_module": "@jupyter-widgets/controls",
            "_model_module_version": "1.5.0",
            "_model_name": "HTMLModel",
            "_view_count": null,
            "_view_module": "@jupyter-widgets/controls",
            "_view_module_version": "1.5.0",
            "_view_name": "HTMLView",
            "description": "",
            "description_tooltip": null,
            "layout": "IPY_MODEL_1ca32db787324124bb701cfd3825e50a",
            "placeholder": "​",
            "style": "IPY_MODEL_5a23eed8106441fe9d5e1b8906b572c7",
            "value": "config.json: 100%"
          }
        },
        "05d12b5b4cf5461f9f29e26a72451c71": {
          "model_module": "@jupyter-widgets/controls",
          "model_name": "FloatProgressModel",
          "model_module_version": "1.5.0",
          "state": {
            "_dom_classes": [],
            "_model_module": "@jupyter-widgets/controls",
            "_model_module_version": "1.5.0",
            "_model_name": "FloatProgressModel",
            "_view_count": null,
            "_view_module": "@jupyter-widgets/controls",
            "_view_module_version": "1.5.0",
            "_view_name": "ProgressView",
            "bar_style": "success",
            "description": "",
            "description_tooltip": null,
            "layout": "IPY_MODEL_1b4f35fbda1b475b90291612eb0153d3",
            "max": 655,
            "min": 0,
            "orientation": "horizontal",
            "style": "IPY_MODEL_405f153060c345c28f7753a7c580b174",
            "value": 655
          }
        },
        "1b82b027002142758fd71b0b63b02137": {
          "model_module": "@jupyter-widgets/controls",
          "model_name": "HTMLModel",
          "model_module_version": "1.5.0",
          "state": {
            "_dom_classes": [],
            "_model_module": "@jupyter-widgets/controls",
            "_model_module_version": "1.5.0",
            "_model_name": "HTMLModel",
            "_view_count": null,
            "_view_module": "@jupyter-widgets/controls",
            "_view_module_version": "1.5.0",
            "_view_name": "HTMLView",
            "description": "",
            "description_tooltip": null,
            "layout": "IPY_MODEL_2bfa259492a845e1b967e92e880c1e03",
            "placeholder": "​",
            "style": "IPY_MODEL_b312363ffc6541659296f25b13718e58",
            "value": " 655/655 [00:00&lt;00:00, 58.9kB/s]"
          }
        },
        "a7361111b453413f81dbc4f80997afe3": {
          "model_module": "@jupyter-widgets/base",
          "model_name": "LayoutModel",
          "model_module_version": "1.2.0",
          "state": {
            "_model_module": "@jupyter-widgets/base",
            "_model_module_version": "1.2.0",
            "_model_name": "LayoutModel",
            "_view_count": null,
            "_view_module": "@jupyter-widgets/base",
            "_view_module_version": "1.2.0",
            "_view_name": "LayoutView",
            "align_content": null,
            "align_items": null,
            "align_self": null,
            "border": null,
            "bottom": null,
            "display": null,
            "flex": null,
            "flex_flow": null,
            "grid_area": null,
            "grid_auto_columns": null,
            "grid_auto_flow": null,
            "grid_auto_rows": null,
            "grid_column": null,
            "grid_gap": null,
            "grid_row": null,
            "grid_template_areas": null,
            "grid_template_columns": null,
            "grid_template_rows": null,
            "height": null,
            "justify_content": null,
            "justify_items": null,
            "left": null,
            "margin": null,
            "max_height": null,
            "max_width": null,
            "min_height": null,
            "min_width": null,
            "object_fit": null,
            "object_position": null,
            "order": null,
            "overflow": null,
            "overflow_x": null,
            "overflow_y": null,
            "padding": null,
            "right": null,
            "top": null,
            "visibility": null,
            "width": null
          }
        },
        "1ca32db787324124bb701cfd3825e50a": {
          "model_module": "@jupyter-widgets/base",
          "model_name": "LayoutModel",
          "model_module_version": "1.2.0",
          "state": {
            "_model_module": "@jupyter-widgets/base",
            "_model_module_version": "1.2.0",
            "_model_name": "LayoutModel",
            "_view_count": null,
            "_view_module": "@jupyter-widgets/base",
            "_view_module_version": "1.2.0",
            "_view_name": "LayoutView",
            "align_content": null,
            "align_items": null,
            "align_self": null,
            "border": null,
            "bottom": null,
            "display": null,
            "flex": null,
            "flex_flow": null,
            "grid_area": null,
            "grid_auto_columns": null,
            "grid_auto_flow": null,
            "grid_auto_rows": null,
            "grid_column": null,
            "grid_gap": null,
            "grid_row": null,
            "grid_template_areas": null,
            "grid_template_columns": null,
            "grid_template_rows": null,
            "height": null,
            "justify_content": null,
            "justify_items": null,
            "left": null,
            "margin": null,
            "max_height": null,
            "max_width": null,
            "min_height": null,
            "min_width": null,
            "object_fit": null,
            "object_position": null,
            "order": null,
            "overflow": null,
            "overflow_x": null,
            "overflow_y": null,
            "padding": null,
            "right": null,
            "top": null,
            "visibility": null,
            "width": null
          }
        },
        "5a23eed8106441fe9d5e1b8906b572c7": {
          "model_module": "@jupyter-widgets/controls",
          "model_name": "DescriptionStyleModel",
          "model_module_version": "1.5.0",
          "state": {
            "_model_module": "@jupyter-widgets/controls",
            "_model_module_version": "1.5.0",
            "_model_name": "DescriptionStyleModel",
            "_view_count": null,
            "_view_module": "@jupyter-widgets/base",
            "_view_module_version": "1.2.0",
            "_view_name": "StyleView",
            "description_width": ""
          }
        },
        "1b4f35fbda1b475b90291612eb0153d3": {
          "model_module": "@jupyter-widgets/base",
          "model_name": "LayoutModel",
          "model_module_version": "1.2.0",
          "state": {
            "_model_module": "@jupyter-widgets/base",
            "_model_module_version": "1.2.0",
            "_model_name": "LayoutModel",
            "_view_count": null,
            "_view_module": "@jupyter-widgets/base",
            "_view_module_version": "1.2.0",
            "_view_name": "LayoutView",
            "align_content": null,
            "align_items": null,
            "align_self": null,
            "border": null,
            "bottom": null,
            "display": null,
            "flex": null,
            "flex_flow": null,
            "grid_area": null,
            "grid_auto_columns": null,
            "grid_auto_flow": null,
            "grid_auto_rows": null,
            "grid_column": null,
            "grid_gap": null,
            "grid_row": null,
            "grid_template_areas": null,
            "grid_template_columns": null,
            "grid_template_rows": null,
            "height": null,
            "justify_content": null,
            "justify_items": null,
            "left": null,
            "margin": null,
            "max_height": null,
            "max_width": null,
            "min_height": null,
            "min_width": null,
            "object_fit": null,
            "object_position": null,
            "order": null,
            "overflow": null,
            "overflow_x": null,
            "overflow_y": null,
            "padding": null,
            "right": null,
            "top": null,
            "visibility": null,
            "width": null
          }
        },
        "405f153060c345c28f7753a7c580b174": {
          "model_module": "@jupyter-widgets/controls",
          "model_name": "ProgressStyleModel",
          "model_module_version": "1.5.0",
          "state": {
            "_model_module": "@jupyter-widgets/controls",
            "_model_module_version": "1.5.0",
            "_model_name": "ProgressStyleModel",
            "_view_count": null,
            "_view_module": "@jupyter-widgets/base",
            "_view_module_version": "1.2.0",
            "_view_name": "StyleView",
            "bar_color": null,
            "description_width": ""
          }
        },
        "2bfa259492a845e1b967e92e880c1e03": {
          "model_module": "@jupyter-widgets/base",
          "model_name": "LayoutModel",
          "model_module_version": "1.2.0",
          "state": {
            "_model_module": "@jupyter-widgets/base",
            "_model_module_version": "1.2.0",
            "_model_name": "LayoutModel",
            "_view_count": null,
            "_view_module": "@jupyter-widgets/base",
            "_view_module_version": "1.2.0",
            "_view_name": "LayoutView",
            "align_content": null,
            "align_items": null,
            "align_self": null,
            "border": null,
            "bottom": null,
            "display": null,
            "flex": null,
            "flex_flow": null,
            "grid_area": null,
            "grid_auto_columns": null,
            "grid_auto_flow": null,
            "grid_auto_rows": null,
            "grid_column": null,
            "grid_gap": null,
            "grid_row": null,
            "grid_template_areas": null,
            "grid_template_columns": null,
            "grid_template_rows": null,
            "height": null,
            "justify_content": null,
            "justify_items": null,
            "left": null,
            "margin": null,
            "max_height": null,
            "max_width": null,
            "min_height": null,
            "min_width": null,
            "object_fit": null,
            "object_position": null,
            "order": null,
            "overflow": null,
            "overflow_x": null,
            "overflow_y": null,
            "padding": null,
            "right": null,
            "top": null,
            "visibility": null,
            "width": null
          }
        },
        "b312363ffc6541659296f25b13718e58": {
          "model_module": "@jupyter-widgets/controls",
          "model_name": "DescriptionStyleModel",
          "model_module_version": "1.5.0",
          "state": {
            "_model_module": "@jupyter-widgets/controls",
            "_model_module_version": "1.5.0",
            "_model_name": "DescriptionStyleModel",
            "_view_count": null,
            "_view_module": "@jupyter-widgets/base",
            "_view_module_version": "1.2.0",
            "_view_name": "StyleView",
            "description_width": ""
          }
        },
        "58d486d478d74634817d75f3c35fa50a": {
          "model_module": "@jupyter-widgets/controls",
          "model_name": "HBoxModel",
          "model_module_version": "1.5.0",
          "state": {
            "_dom_classes": [],
            "_model_module": "@jupyter-widgets/controls",
            "_model_module_version": "1.5.0",
            "_model_name": "HBoxModel",
            "_view_count": null,
            "_view_module": "@jupyter-widgets/controls",
            "_view_module_version": "1.5.0",
            "_view_name": "HBoxView",
            "box_style": "",
            "children": [
              "IPY_MODEL_45c5e88504c14c6597a91f4c031b5599",
              "IPY_MODEL_d0003efbdb7641a0946d2c68439aa5d8",
              "IPY_MODEL_7fa5e5823f994ce98d9601e50c89e602"
            ],
            "layout": "IPY_MODEL_7e468d142e9d4308b2d736505b6a16ee"
          }
        },
        "45c5e88504c14c6597a91f4c031b5599": {
          "model_module": "@jupyter-widgets/controls",
          "model_name": "HTMLModel",
          "model_module_version": "1.5.0",
          "state": {
            "_dom_classes": [],
            "_model_module": "@jupyter-widgets/controls",
            "_model_module_version": "1.5.0",
            "_model_name": "HTMLModel",
            "_view_count": null,
            "_view_module": "@jupyter-widgets/controls",
            "_view_module_version": "1.5.0",
            "_view_name": "HTMLView",
            "description": "",
            "description_tooltip": null,
            "layout": "IPY_MODEL_2323d0cbc12149739b88c56fb2319b1e",
            "placeholder": "​",
            "style": "IPY_MODEL_682b6f9a708a459c80ad4de2549a734c",
            "value": "model.safetensors: 100%"
          }
        },
        "d0003efbdb7641a0946d2c68439aa5d8": {
          "model_module": "@jupyter-widgets/controls",
          "model_name": "FloatProgressModel",
          "model_module_version": "1.5.0",
          "state": {
            "_dom_classes": [],
            "_model_module": "@jupyter-widgets/controls",
            "_model_module_version": "1.5.0",
            "_model_name": "FloatProgressModel",
            "_view_count": null,
            "_view_module": "@jupyter-widgets/controls",
            "_view_module_version": "1.5.0",
            "_view_name": "ProgressView",
            "bar_style": "success",
            "description": "",
            "description_tooltip": null,
            "layout": "IPY_MODEL_097d9f48e64c45e9a8aac4c344517677",
            "max": 470641600,
            "min": 0,
            "orientation": "horizontal",
            "style": "IPY_MODEL_943fbfd2a6e04ef6bb195e3b37838c47",
            "value": 470641600
          }
        },
        "7fa5e5823f994ce98d9601e50c89e602": {
          "model_module": "@jupyter-widgets/controls",
          "model_name": "HTMLModel",
          "model_module_version": "1.5.0",
          "state": {
            "_dom_classes": [],
            "_model_module": "@jupyter-widgets/controls",
            "_model_module_version": "1.5.0",
            "_model_name": "HTMLModel",
            "_view_count": null,
            "_view_module": "@jupyter-widgets/controls",
            "_view_module_version": "1.5.0",
            "_view_name": "HTMLView",
            "description": "",
            "description_tooltip": null,
            "layout": "IPY_MODEL_edfb6a1ac39948c9927da50775cddf2e",
            "placeholder": "​",
            "style": "IPY_MODEL_6556d62034564b9fae00c0970548a369",
            "value": " 471M/471M [00:02&lt;00:00, 211MB/s]"
          }
        },
        "7e468d142e9d4308b2d736505b6a16ee": {
          "model_module": "@jupyter-widgets/base",
          "model_name": "LayoutModel",
          "model_module_version": "1.2.0",
          "state": {
            "_model_module": "@jupyter-widgets/base",
            "_model_module_version": "1.2.0",
            "_model_name": "LayoutModel",
            "_view_count": null,
            "_view_module": "@jupyter-widgets/base",
            "_view_module_version": "1.2.0",
            "_view_name": "LayoutView",
            "align_content": null,
            "align_items": null,
            "align_self": null,
            "border": null,
            "bottom": null,
            "display": null,
            "flex": null,
            "flex_flow": null,
            "grid_area": null,
            "grid_auto_columns": null,
            "grid_auto_flow": null,
            "grid_auto_rows": null,
            "grid_column": null,
            "grid_gap": null,
            "grid_row": null,
            "grid_template_areas": null,
            "grid_template_columns": null,
            "grid_template_rows": null,
            "height": null,
            "justify_content": null,
            "justify_items": null,
            "left": null,
            "margin": null,
            "max_height": null,
            "max_width": null,
            "min_height": null,
            "min_width": null,
            "object_fit": null,
            "object_position": null,
            "order": null,
            "overflow": null,
            "overflow_x": null,
            "overflow_y": null,
            "padding": null,
            "right": null,
            "top": null,
            "visibility": null,
            "width": null
          }
        },
        "2323d0cbc12149739b88c56fb2319b1e": {
          "model_module": "@jupyter-widgets/base",
          "model_name": "LayoutModel",
          "model_module_version": "1.2.0",
          "state": {
            "_model_module": "@jupyter-widgets/base",
            "_model_module_version": "1.2.0",
            "_model_name": "LayoutModel",
            "_view_count": null,
            "_view_module": "@jupyter-widgets/base",
            "_view_module_version": "1.2.0",
            "_view_name": "LayoutView",
            "align_content": null,
            "align_items": null,
            "align_self": null,
            "border": null,
            "bottom": null,
            "display": null,
            "flex": null,
            "flex_flow": null,
            "grid_area": null,
            "grid_auto_columns": null,
            "grid_auto_flow": null,
            "grid_auto_rows": null,
            "grid_column": null,
            "grid_gap": null,
            "grid_row": null,
            "grid_template_areas": null,
            "grid_template_columns": null,
            "grid_template_rows": null,
            "height": null,
            "justify_content": null,
            "justify_items": null,
            "left": null,
            "margin": null,
            "max_height": null,
            "max_width": null,
            "min_height": null,
            "min_width": null,
            "object_fit": null,
            "object_position": null,
            "order": null,
            "overflow": null,
            "overflow_x": null,
            "overflow_y": null,
            "padding": null,
            "right": null,
            "top": null,
            "visibility": null,
            "width": null
          }
        },
        "682b6f9a708a459c80ad4de2549a734c": {
          "model_module": "@jupyter-widgets/controls",
          "model_name": "DescriptionStyleModel",
          "model_module_version": "1.5.0",
          "state": {
            "_model_module": "@jupyter-widgets/controls",
            "_model_module_version": "1.5.0",
            "_model_name": "DescriptionStyleModel",
            "_view_count": null,
            "_view_module": "@jupyter-widgets/base",
            "_view_module_version": "1.2.0",
            "_view_name": "StyleView",
            "description_width": ""
          }
        },
        "097d9f48e64c45e9a8aac4c344517677": {
          "model_module": "@jupyter-widgets/base",
          "model_name": "LayoutModel",
          "model_module_version": "1.2.0",
          "state": {
            "_model_module": "@jupyter-widgets/base",
            "_model_module_version": "1.2.0",
            "_model_name": "LayoutModel",
            "_view_count": null,
            "_view_module": "@jupyter-widgets/base",
            "_view_module_version": "1.2.0",
            "_view_name": "LayoutView",
            "align_content": null,
            "align_items": null,
            "align_self": null,
            "border": null,
            "bottom": null,
            "display": null,
            "flex": null,
            "flex_flow": null,
            "grid_area": null,
            "grid_auto_columns": null,
            "grid_auto_flow": null,
            "grid_auto_rows": null,
            "grid_column": null,
            "grid_gap": null,
            "grid_row": null,
            "grid_template_areas": null,
            "grid_template_columns": null,
            "grid_template_rows": null,
            "height": null,
            "justify_content": null,
            "justify_items": null,
            "left": null,
            "margin": null,
            "max_height": null,
            "max_width": null,
            "min_height": null,
            "min_width": null,
            "object_fit": null,
            "object_position": null,
            "order": null,
            "overflow": null,
            "overflow_x": null,
            "overflow_y": null,
            "padding": null,
            "right": null,
            "top": null,
            "visibility": null,
            "width": null
          }
        },
        "943fbfd2a6e04ef6bb195e3b37838c47": {
          "model_module": "@jupyter-widgets/controls",
          "model_name": "ProgressStyleModel",
          "model_module_version": "1.5.0",
          "state": {
            "_model_module": "@jupyter-widgets/controls",
            "_model_module_version": "1.5.0",
            "_model_name": "ProgressStyleModel",
            "_view_count": null,
            "_view_module": "@jupyter-widgets/base",
            "_view_module_version": "1.2.0",
            "_view_name": "StyleView",
            "bar_color": null,
            "description_width": ""
          }
        },
        "edfb6a1ac39948c9927da50775cddf2e": {
          "model_module": "@jupyter-widgets/base",
          "model_name": "LayoutModel",
          "model_module_version": "1.2.0",
          "state": {
            "_model_module": "@jupyter-widgets/base",
            "_model_module_version": "1.2.0",
            "_model_name": "LayoutModel",
            "_view_count": null,
            "_view_module": "@jupyter-widgets/base",
            "_view_module_version": "1.2.0",
            "_view_name": "LayoutView",
            "align_content": null,
            "align_items": null,
            "align_self": null,
            "border": null,
            "bottom": null,
            "display": null,
            "flex": null,
            "flex_flow": null,
            "grid_area": null,
            "grid_auto_columns": null,
            "grid_auto_flow": null,
            "grid_auto_rows": null,
            "grid_column": null,
            "grid_gap": null,
            "grid_row": null,
            "grid_template_areas": null,
            "grid_template_columns": null,
            "grid_template_rows": null,
            "height": null,
            "justify_content": null,
            "justify_items": null,
            "left": null,
            "margin": null,
            "max_height": null,
            "max_width": null,
            "min_height": null,
            "min_width": null,
            "object_fit": null,
            "object_position": null,
            "order": null,
            "overflow": null,
            "overflow_x": null,
            "overflow_y": null,
            "padding": null,
            "right": null,
            "top": null,
            "visibility": null,
            "width": null
          }
        },
        "6556d62034564b9fae00c0970548a369": {
          "model_module": "@jupyter-widgets/controls",
          "model_name": "DescriptionStyleModel",
          "model_module_version": "1.5.0",
          "state": {
            "_model_module": "@jupyter-widgets/controls",
            "_model_module_version": "1.5.0",
            "_model_name": "DescriptionStyleModel",
            "_view_count": null,
            "_view_module": "@jupyter-widgets/base",
            "_view_module_version": "1.2.0",
            "_view_name": "StyleView",
            "description_width": ""
          }
        },
        "ada10fe109cc4c87af82fc0669c660f3": {
          "model_module": "@jupyter-widgets/controls",
          "model_name": "HBoxModel",
          "model_module_version": "1.5.0",
          "state": {
            "_dom_classes": [],
            "_model_module": "@jupyter-widgets/controls",
            "_model_module_version": "1.5.0",
            "_model_name": "HBoxModel",
            "_view_count": null,
            "_view_module": "@jupyter-widgets/controls",
            "_view_module_version": "1.5.0",
            "_view_name": "HBoxView",
            "box_style": "",
            "children": [
              "IPY_MODEL_3b987a668ffc4b8bb94ab3f04df109ec",
              "IPY_MODEL_347454dde2144f0a8a009cd15bd7e6d2",
              "IPY_MODEL_9d7b107f74cb4d0d8871d098510a697d"
            ],
            "layout": "IPY_MODEL_d0a2b9c4d88c4275946c5199b7dc5e80"
          }
        },
        "3b987a668ffc4b8bb94ab3f04df109ec": {
          "model_module": "@jupyter-widgets/controls",
          "model_name": "HTMLModel",
          "model_module_version": "1.5.0",
          "state": {
            "_dom_classes": [],
            "_model_module": "@jupyter-widgets/controls",
            "_model_module_version": "1.5.0",
            "_model_name": "HTMLModel",
            "_view_count": null,
            "_view_module": "@jupyter-widgets/controls",
            "_view_module_version": "1.5.0",
            "_view_name": "HTMLView",
            "description": "",
            "description_tooltip": null,
            "layout": "IPY_MODEL_c5f3f76da4fa45d489adddf556c89345",
            "placeholder": "​",
            "style": "IPY_MODEL_456d98c7b4e54eeda936a9b49df2b49f",
            "value": "tokenizer_config.json: 100%"
          }
        },
        "347454dde2144f0a8a009cd15bd7e6d2": {
          "model_module": "@jupyter-widgets/controls",
          "model_name": "FloatProgressModel",
          "model_module_version": "1.5.0",
          "state": {
            "_dom_classes": [],
            "_model_module": "@jupyter-widgets/controls",
            "_model_module_version": "1.5.0",
            "_model_name": "FloatProgressModel",
            "_view_count": null,
            "_view_module": "@jupyter-widgets/controls",
            "_view_module_version": "1.5.0",
            "_view_name": "ProgressView",
            "bar_style": "success",
            "description": "",
            "description_tooltip": null,
            "layout": "IPY_MODEL_1052a09e35364177a9cd6bce13d1e690",
            "max": 443,
            "min": 0,
            "orientation": "horizontal",
            "style": "IPY_MODEL_7ba2862ef0fb42498b618bae361f5e26",
            "value": 443
          }
        },
        "9d7b107f74cb4d0d8871d098510a697d": {
          "model_module": "@jupyter-widgets/controls",
          "model_name": "HTMLModel",
          "model_module_version": "1.5.0",
          "state": {
            "_dom_classes": [],
            "_model_module": "@jupyter-widgets/controls",
            "_model_module_version": "1.5.0",
            "_model_name": "HTMLModel",
            "_view_count": null,
            "_view_module": "@jupyter-widgets/controls",
            "_view_module_version": "1.5.0",
            "_view_name": "HTMLView",
            "description": "",
            "description_tooltip": null,
            "layout": "IPY_MODEL_229c7b0562f5452699d6d81f9eea3ab1",
            "placeholder": "​",
            "style": "IPY_MODEL_fbc5cfc5ee45492ca91087cae63fb6d7",
            "value": " 443/443 [00:00&lt;00:00, 24.9kB/s]"
          }
        },
        "d0a2b9c4d88c4275946c5199b7dc5e80": {
          "model_module": "@jupyter-widgets/base",
          "model_name": "LayoutModel",
          "model_module_version": "1.2.0",
          "state": {
            "_model_module": "@jupyter-widgets/base",
            "_model_module_version": "1.2.0",
            "_model_name": "LayoutModel",
            "_view_count": null,
            "_view_module": "@jupyter-widgets/base",
            "_view_module_version": "1.2.0",
            "_view_name": "LayoutView",
            "align_content": null,
            "align_items": null,
            "align_self": null,
            "border": null,
            "bottom": null,
            "display": null,
            "flex": null,
            "flex_flow": null,
            "grid_area": null,
            "grid_auto_columns": null,
            "grid_auto_flow": null,
            "grid_auto_rows": null,
            "grid_column": null,
            "grid_gap": null,
            "grid_row": null,
            "grid_template_areas": null,
            "grid_template_columns": null,
            "grid_template_rows": null,
            "height": null,
            "justify_content": null,
            "justify_items": null,
            "left": null,
            "margin": null,
            "max_height": null,
            "max_width": null,
            "min_height": null,
            "min_width": null,
            "object_fit": null,
            "object_position": null,
            "order": null,
            "overflow": null,
            "overflow_x": null,
            "overflow_y": null,
            "padding": null,
            "right": null,
            "top": null,
            "visibility": null,
            "width": null
          }
        },
        "c5f3f76da4fa45d489adddf556c89345": {
          "model_module": "@jupyter-widgets/base",
          "model_name": "LayoutModel",
          "model_module_version": "1.2.0",
          "state": {
            "_model_module": "@jupyter-widgets/base",
            "_model_module_version": "1.2.0",
            "_model_name": "LayoutModel",
            "_view_count": null,
            "_view_module": "@jupyter-widgets/base",
            "_view_module_version": "1.2.0",
            "_view_name": "LayoutView",
            "align_content": null,
            "align_items": null,
            "align_self": null,
            "border": null,
            "bottom": null,
            "display": null,
            "flex": null,
            "flex_flow": null,
            "grid_area": null,
            "grid_auto_columns": null,
            "grid_auto_flow": null,
            "grid_auto_rows": null,
            "grid_column": null,
            "grid_gap": null,
            "grid_row": null,
            "grid_template_areas": null,
            "grid_template_columns": null,
            "grid_template_rows": null,
            "height": null,
            "justify_content": null,
            "justify_items": null,
            "left": null,
            "margin": null,
            "max_height": null,
            "max_width": null,
            "min_height": null,
            "min_width": null,
            "object_fit": null,
            "object_position": null,
            "order": null,
            "overflow": null,
            "overflow_x": null,
            "overflow_y": null,
            "padding": null,
            "right": null,
            "top": null,
            "visibility": null,
            "width": null
          }
        },
        "456d98c7b4e54eeda936a9b49df2b49f": {
          "model_module": "@jupyter-widgets/controls",
          "model_name": "DescriptionStyleModel",
          "model_module_version": "1.5.0",
          "state": {
            "_model_module": "@jupyter-widgets/controls",
            "_model_module_version": "1.5.0",
            "_model_name": "DescriptionStyleModel",
            "_view_count": null,
            "_view_module": "@jupyter-widgets/base",
            "_view_module_version": "1.2.0",
            "_view_name": "StyleView",
            "description_width": ""
          }
        },
        "1052a09e35364177a9cd6bce13d1e690": {
          "model_module": "@jupyter-widgets/base",
          "model_name": "LayoutModel",
          "model_module_version": "1.2.0",
          "state": {
            "_model_module": "@jupyter-widgets/base",
            "_model_module_version": "1.2.0",
            "_model_name": "LayoutModel",
            "_view_count": null,
            "_view_module": "@jupyter-widgets/base",
            "_view_module_version": "1.2.0",
            "_view_name": "LayoutView",
            "align_content": null,
            "align_items": null,
            "align_self": null,
            "border": null,
            "bottom": null,
            "display": null,
            "flex": null,
            "flex_flow": null,
            "grid_area": null,
            "grid_auto_columns": null,
            "grid_auto_flow": null,
            "grid_auto_rows": null,
            "grid_column": null,
            "grid_gap": null,
            "grid_row": null,
            "grid_template_areas": null,
            "grid_template_columns": null,
            "grid_template_rows": null,
            "height": null,
            "justify_content": null,
            "justify_items": null,
            "left": null,
            "margin": null,
            "max_height": null,
            "max_width": null,
            "min_height": null,
            "min_width": null,
            "object_fit": null,
            "object_position": null,
            "order": null,
            "overflow": null,
            "overflow_x": null,
            "overflow_y": null,
            "padding": null,
            "right": null,
            "top": null,
            "visibility": null,
            "width": null
          }
        },
        "7ba2862ef0fb42498b618bae361f5e26": {
          "model_module": "@jupyter-widgets/controls",
          "model_name": "ProgressStyleModel",
          "model_module_version": "1.5.0",
          "state": {
            "_model_module": "@jupyter-widgets/controls",
            "_model_module_version": "1.5.0",
            "_model_name": "ProgressStyleModel",
            "_view_count": null,
            "_view_module": "@jupyter-widgets/base",
            "_view_module_version": "1.2.0",
            "_view_name": "StyleView",
            "bar_color": null,
            "description_width": ""
          }
        },
        "229c7b0562f5452699d6d81f9eea3ab1": {
          "model_module": "@jupyter-widgets/base",
          "model_name": "LayoutModel",
          "model_module_version": "1.2.0",
          "state": {
            "_model_module": "@jupyter-widgets/base",
            "_model_module_version": "1.2.0",
            "_model_name": "LayoutModel",
            "_view_count": null,
            "_view_module": "@jupyter-widgets/base",
            "_view_module_version": "1.2.0",
            "_view_name": "LayoutView",
            "align_content": null,
            "align_items": null,
            "align_self": null,
            "border": null,
            "bottom": null,
            "display": null,
            "flex": null,
            "flex_flow": null,
            "grid_area": null,
            "grid_auto_columns": null,
            "grid_auto_flow": null,
            "grid_auto_rows": null,
            "grid_column": null,
            "grid_gap": null,
            "grid_row": null,
            "grid_template_areas": null,
            "grid_template_columns": null,
            "grid_template_rows": null,
            "height": null,
            "justify_content": null,
            "justify_items": null,
            "left": null,
            "margin": null,
            "max_height": null,
            "max_width": null,
            "min_height": null,
            "min_width": null,
            "object_fit": null,
            "object_position": null,
            "order": null,
            "overflow": null,
            "overflow_x": null,
            "overflow_y": null,
            "padding": null,
            "right": null,
            "top": null,
            "visibility": null,
            "width": null
          }
        },
        "fbc5cfc5ee45492ca91087cae63fb6d7": {
          "model_module": "@jupyter-widgets/controls",
          "model_name": "DescriptionStyleModel",
          "model_module_version": "1.5.0",
          "state": {
            "_model_module": "@jupyter-widgets/controls",
            "_model_module_version": "1.5.0",
            "_model_name": "DescriptionStyleModel",
            "_view_count": null,
            "_view_module": "@jupyter-widgets/base",
            "_view_module_version": "1.2.0",
            "_view_name": "StyleView",
            "description_width": ""
          }
        },
        "d71eb6e8b12247d296e17800d91b8548": {
          "model_module": "@jupyter-widgets/controls",
          "model_name": "HBoxModel",
          "model_module_version": "1.5.0",
          "state": {
            "_dom_classes": [],
            "_model_module": "@jupyter-widgets/controls",
            "_model_module_version": "1.5.0",
            "_model_name": "HBoxModel",
            "_view_count": null,
            "_view_module": "@jupyter-widgets/controls",
            "_view_module_version": "1.5.0",
            "_view_name": "HBoxView",
            "box_style": "",
            "children": [
              "IPY_MODEL_c83cc215a28f4dccb0b2e1678060f378",
              "IPY_MODEL_d7075587abbb41d0bc603e88ae33f53d",
              "IPY_MODEL_b23fab9c657a4c388f5f338a755c3ec2"
            ],
            "layout": "IPY_MODEL_906111cc8f274b2eb7bbfcd532ed90ea"
          }
        },
        "c83cc215a28f4dccb0b2e1678060f378": {
          "model_module": "@jupyter-widgets/controls",
          "model_name": "HTMLModel",
          "model_module_version": "1.5.0",
          "state": {
            "_dom_classes": [],
            "_model_module": "@jupyter-widgets/controls",
            "_model_module_version": "1.5.0",
            "_model_name": "HTMLModel",
            "_view_count": null,
            "_view_module": "@jupyter-widgets/controls",
            "_view_module_version": "1.5.0",
            "_view_name": "HTMLView",
            "description": "",
            "description_tooltip": null,
            "layout": "IPY_MODEL_c9378f4c87484c658d642214162e05d0",
            "placeholder": "​",
            "style": "IPY_MODEL_c55f40f16c374a8285c4950a8726adef",
            "value": "sentencepiece.bpe.model: 100%"
          }
        },
        "d7075587abbb41d0bc603e88ae33f53d": {
          "model_module": "@jupyter-widgets/controls",
          "model_name": "FloatProgressModel",
          "model_module_version": "1.5.0",
          "state": {
            "_dom_classes": [],
            "_model_module": "@jupyter-widgets/controls",
            "_model_module_version": "1.5.0",
            "_model_name": "FloatProgressModel",
            "_view_count": null,
            "_view_module": "@jupyter-widgets/controls",
            "_view_module_version": "1.5.0",
            "_view_name": "ProgressView",
            "bar_style": "success",
            "description": "",
            "description_tooltip": null,
            "layout": "IPY_MODEL_26204d0d3095458b8200d755f1d366c9",
            "max": 5069051,
            "min": 0,
            "orientation": "horizontal",
            "style": "IPY_MODEL_f8eca6d57b864ad589ac734a2a35ecec",
            "value": 5069051
          }
        },
        "b23fab9c657a4c388f5f338a755c3ec2": {
          "model_module": "@jupyter-widgets/controls",
          "model_name": "HTMLModel",
          "model_module_version": "1.5.0",
          "state": {
            "_dom_classes": [],
            "_model_module": "@jupyter-widgets/controls",
            "_model_module_version": "1.5.0",
            "_model_name": "HTMLModel",
            "_view_count": null,
            "_view_module": "@jupyter-widgets/controls",
            "_view_module_version": "1.5.0",
            "_view_name": "HTMLView",
            "description": "",
            "description_tooltip": null,
            "layout": "IPY_MODEL_11768ca15d044aa8bb6f12e854f4bd06",
            "placeholder": "​",
            "style": "IPY_MODEL_497c110045934378b200626c56aa678f",
            "value": " 5.07M/5.07M [00:00&lt;00:00, 140MB/s]"
          }
        },
        "906111cc8f274b2eb7bbfcd532ed90ea": {
          "model_module": "@jupyter-widgets/base",
          "model_name": "LayoutModel",
          "model_module_version": "1.2.0",
          "state": {
            "_model_module": "@jupyter-widgets/base",
            "_model_module_version": "1.2.0",
            "_model_name": "LayoutModel",
            "_view_count": null,
            "_view_module": "@jupyter-widgets/base",
            "_view_module_version": "1.2.0",
            "_view_name": "LayoutView",
            "align_content": null,
            "align_items": null,
            "align_self": null,
            "border": null,
            "bottom": null,
            "display": null,
            "flex": null,
            "flex_flow": null,
            "grid_area": null,
            "grid_auto_columns": null,
            "grid_auto_flow": null,
            "grid_auto_rows": null,
            "grid_column": null,
            "grid_gap": null,
            "grid_row": null,
            "grid_template_areas": null,
            "grid_template_columns": null,
            "grid_template_rows": null,
            "height": null,
            "justify_content": null,
            "justify_items": null,
            "left": null,
            "margin": null,
            "max_height": null,
            "max_width": null,
            "min_height": null,
            "min_width": null,
            "object_fit": null,
            "object_position": null,
            "order": null,
            "overflow": null,
            "overflow_x": null,
            "overflow_y": null,
            "padding": null,
            "right": null,
            "top": null,
            "visibility": null,
            "width": null
          }
        },
        "c9378f4c87484c658d642214162e05d0": {
          "model_module": "@jupyter-widgets/base",
          "model_name": "LayoutModel",
          "model_module_version": "1.2.0",
          "state": {
            "_model_module": "@jupyter-widgets/base",
            "_model_module_version": "1.2.0",
            "_model_name": "LayoutModel",
            "_view_count": null,
            "_view_module": "@jupyter-widgets/base",
            "_view_module_version": "1.2.0",
            "_view_name": "LayoutView",
            "align_content": null,
            "align_items": null,
            "align_self": null,
            "border": null,
            "bottom": null,
            "display": null,
            "flex": null,
            "flex_flow": null,
            "grid_area": null,
            "grid_auto_columns": null,
            "grid_auto_flow": null,
            "grid_auto_rows": null,
            "grid_column": null,
            "grid_gap": null,
            "grid_row": null,
            "grid_template_areas": null,
            "grid_template_columns": null,
            "grid_template_rows": null,
            "height": null,
            "justify_content": null,
            "justify_items": null,
            "left": null,
            "margin": null,
            "max_height": null,
            "max_width": null,
            "min_height": null,
            "min_width": null,
            "object_fit": null,
            "object_position": null,
            "order": null,
            "overflow": null,
            "overflow_x": null,
            "overflow_y": null,
            "padding": null,
            "right": null,
            "top": null,
            "visibility": null,
            "width": null
          }
        },
        "c55f40f16c374a8285c4950a8726adef": {
          "model_module": "@jupyter-widgets/controls",
          "model_name": "DescriptionStyleModel",
          "model_module_version": "1.5.0",
          "state": {
            "_model_module": "@jupyter-widgets/controls",
            "_model_module_version": "1.5.0",
            "_model_name": "DescriptionStyleModel",
            "_view_count": null,
            "_view_module": "@jupyter-widgets/base",
            "_view_module_version": "1.2.0",
            "_view_name": "StyleView",
            "description_width": ""
          }
        },
        "26204d0d3095458b8200d755f1d366c9": {
          "model_module": "@jupyter-widgets/base",
          "model_name": "LayoutModel",
          "model_module_version": "1.2.0",
          "state": {
            "_model_module": "@jupyter-widgets/base",
            "_model_module_version": "1.2.0",
            "_model_name": "LayoutModel",
            "_view_count": null,
            "_view_module": "@jupyter-widgets/base",
            "_view_module_version": "1.2.0",
            "_view_name": "LayoutView",
            "align_content": null,
            "align_items": null,
            "align_self": null,
            "border": null,
            "bottom": null,
            "display": null,
            "flex": null,
            "flex_flow": null,
            "grid_area": null,
            "grid_auto_columns": null,
            "grid_auto_flow": null,
            "grid_auto_rows": null,
            "grid_column": null,
            "grid_gap": null,
            "grid_row": null,
            "grid_template_areas": null,
            "grid_template_columns": null,
            "grid_template_rows": null,
            "height": null,
            "justify_content": null,
            "justify_items": null,
            "left": null,
            "margin": null,
            "max_height": null,
            "max_width": null,
            "min_height": null,
            "min_width": null,
            "object_fit": null,
            "object_position": null,
            "order": null,
            "overflow": null,
            "overflow_x": null,
            "overflow_y": null,
            "padding": null,
            "right": null,
            "top": null,
            "visibility": null,
            "width": null
          }
        },
        "f8eca6d57b864ad589ac734a2a35ecec": {
          "model_module": "@jupyter-widgets/controls",
          "model_name": "ProgressStyleModel",
          "model_module_version": "1.5.0",
          "state": {
            "_model_module": "@jupyter-widgets/controls",
            "_model_module_version": "1.5.0",
            "_model_name": "ProgressStyleModel",
            "_view_count": null,
            "_view_module": "@jupyter-widgets/base",
            "_view_module_version": "1.2.0",
            "_view_name": "StyleView",
            "bar_color": null,
            "description_width": ""
          }
        },
        "11768ca15d044aa8bb6f12e854f4bd06": {
          "model_module": "@jupyter-widgets/base",
          "model_name": "LayoutModel",
          "model_module_version": "1.2.0",
          "state": {
            "_model_module": "@jupyter-widgets/base",
            "_model_module_version": "1.2.0",
            "_model_name": "LayoutModel",
            "_view_count": null,
            "_view_module": "@jupyter-widgets/base",
            "_view_module_version": "1.2.0",
            "_view_name": "LayoutView",
            "align_content": null,
            "align_items": null,
            "align_self": null,
            "border": null,
            "bottom": null,
            "display": null,
            "flex": null,
            "flex_flow": null,
            "grid_area": null,
            "grid_auto_columns": null,
            "grid_auto_flow": null,
            "grid_auto_rows": null,
            "grid_column": null,
            "grid_gap": null,
            "grid_row": null,
            "grid_template_areas": null,
            "grid_template_columns": null,
            "grid_template_rows": null,
            "height": null,
            "justify_content": null,
            "justify_items": null,
            "left": null,
            "margin": null,
            "max_height": null,
            "max_width": null,
            "min_height": null,
            "min_width": null,
            "object_fit": null,
            "object_position": null,
            "order": null,
            "overflow": null,
            "overflow_x": null,
            "overflow_y": null,
            "padding": null,
            "right": null,
            "top": null,
            "visibility": null,
            "width": null
          }
        },
        "497c110045934378b200626c56aa678f": {
          "model_module": "@jupyter-widgets/controls",
          "model_name": "DescriptionStyleModel",
          "model_module_version": "1.5.0",
          "state": {
            "_model_module": "@jupyter-widgets/controls",
            "_model_module_version": "1.5.0",
            "_model_name": "DescriptionStyleModel",
            "_view_count": null,
            "_view_module": "@jupyter-widgets/base",
            "_view_module_version": "1.2.0",
            "_view_name": "StyleView",
            "description_width": ""
          }
        },
        "d883ab336cec422fa4fe371f2a59af4b": {
          "model_module": "@jupyter-widgets/controls",
          "model_name": "HBoxModel",
          "model_module_version": "1.5.0",
          "state": {
            "_dom_classes": [],
            "_model_module": "@jupyter-widgets/controls",
            "_model_module_version": "1.5.0",
            "_model_name": "HBoxModel",
            "_view_count": null,
            "_view_module": "@jupyter-widgets/controls",
            "_view_module_version": "1.5.0",
            "_view_name": "HBoxView",
            "box_style": "",
            "children": [
              "IPY_MODEL_7029b90a28be45dc92db0de7ff992be2",
              "IPY_MODEL_7091adc086d8405ca167cf2eceaf6748",
              "IPY_MODEL_4cad43d7bd0f40788566c226b9a07a06"
            ],
            "layout": "IPY_MODEL_0f1986ccdc064e539add967649ae96da"
          }
        },
        "7029b90a28be45dc92db0de7ff992be2": {
          "model_module": "@jupyter-widgets/controls",
          "model_name": "HTMLModel",
          "model_module_version": "1.5.0",
          "state": {
            "_dom_classes": [],
            "_model_module": "@jupyter-widgets/controls",
            "_model_module_version": "1.5.0",
            "_model_name": "HTMLModel",
            "_view_count": null,
            "_view_module": "@jupyter-widgets/controls",
            "_view_module_version": "1.5.0",
            "_view_name": "HTMLView",
            "description": "",
            "description_tooltip": null,
            "layout": "IPY_MODEL_1a1576c2a7b94d4fb85a32158506df68",
            "placeholder": "​",
            "style": "IPY_MODEL_f7bec12887a74571aedce339d97b27d2",
            "value": "tokenizer.json: 100%"
          }
        },
        "7091adc086d8405ca167cf2eceaf6748": {
          "model_module": "@jupyter-widgets/controls",
          "model_name": "FloatProgressModel",
          "model_module_version": "1.5.0",
          "state": {
            "_dom_classes": [],
            "_model_module": "@jupyter-widgets/controls",
            "_model_module_version": "1.5.0",
            "_model_name": "FloatProgressModel",
            "_view_count": null,
            "_view_module": "@jupyter-widgets/controls",
            "_view_module_version": "1.5.0",
            "_view_name": "ProgressView",
            "bar_style": "success",
            "description": "",
            "description_tooltip": null,
            "layout": "IPY_MODEL_06978e8a2e994731ba17c77f9ec8148d",
            "max": 17082730,
            "min": 0,
            "orientation": "horizontal",
            "style": "IPY_MODEL_dc2c42a543b94b8a8f013d1456fcd4de",
            "value": 17082730
          }
        },
        "4cad43d7bd0f40788566c226b9a07a06": {
          "model_module": "@jupyter-widgets/controls",
          "model_name": "HTMLModel",
          "model_module_version": "1.5.0",
          "state": {
            "_dom_classes": [],
            "_model_module": "@jupyter-widgets/controls",
            "_model_module_version": "1.5.0",
            "_model_name": "HTMLModel",
            "_view_count": null,
            "_view_module": "@jupyter-widgets/controls",
            "_view_module_version": "1.5.0",
            "_view_name": "HTMLView",
            "description": "",
            "description_tooltip": null,
            "layout": "IPY_MODEL_832eb0874fdd48d7a377456d6889b455",
            "placeholder": "​",
            "style": "IPY_MODEL_4927fc5dcaa24eb183f4a8fe3d4f05fd",
            "value": " 17.1M/17.1M [00:00&lt;00:00, 183MB/s]"
          }
        },
        "0f1986ccdc064e539add967649ae96da": {
          "model_module": "@jupyter-widgets/base",
          "model_name": "LayoutModel",
          "model_module_version": "1.2.0",
          "state": {
            "_model_module": "@jupyter-widgets/base",
            "_model_module_version": "1.2.0",
            "_model_name": "LayoutModel",
            "_view_count": null,
            "_view_module": "@jupyter-widgets/base",
            "_view_module_version": "1.2.0",
            "_view_name": "LayoutView",
            "align_content": null,
            "align_items": null,
            "align_self": null,
            "border": null,
            "bottom": null,
            "display": null,
            "flex": null,
            "flex_flow": null,
            "grid_area": null,
            "grid_auto_columns": null,
            "grid_auto_flow": null,
            "grid_auto_rows": null,
            "grid_column": null,
            "grid_gap": null,
            "grid_row": null,
            "grid_template_areas": null,
            "grid_template_columns": null,
            "grid_template_rows": null,
            "height": null,
            "justify_content": null,
            "justify_items": null,
            "left": null,
            "margin": null,
            "max_height": null,
            "max_width": null,
            "min_height": null,
            "min_width": null,
            "object_fit": null,
            "object_position": null,
            "order": null,
            "overflow": null,
            "overflow_x": null,
            "overflow_y": null,
            "padding": null,
            "right": null,
            "top": null,
            "visibility": null,
            "width": null
          }
        },
        "1a1576c2a7b94d4fb85a32158506df68": {
          "model_module": "@jupyter-widgets/base",
          "model_name": "LayoutModel",
          "model_module_version": "1.2.0",
          "state": {
            "_model_module": "@jupyter-widgets/base",
            "_model_module_version": "1.2.0",
            "_model_name": "LayoutModel",
            "_view_count": null,
            "_view_module": "@jupyter-widgets/base",
            "_view_module_version": "1.2.0",
            "_view_name": "LayoutView",
            "align_content": null,
            "align_items": null,
            "align_self": null,
            "border": null,
            "bottom": null,
            "display": null,
            "flex": null,
            "flex_flow": null,
            "grid_area": null,
            "grid_auto_columns": null,
            "grid_auto_flow": null,
            "grid_auto_rows": null,
            "grid_column": null,
            "grid_gap": null,
            "grid_row": null,
            "grid_template_areas": null,
            "grid_template_columns": null,
            "grid_template_rows": null,
            "height": null,
            "justify_content": null,
            "justify_items": null,
            "left": null,
            "margin": null,
            "max_height": null,
            "max_width": null,
            "min_height": null,
            "min_width": null,
            "object_fit": null,
            "object_position": null,
            "order": null,
            "overflow": null,
            "overflow_x": null,
            "overflow_y": null,
            "padding": null,
            "right": null,
            "top": null,
            "visibility": null,
            "width": null
          }
        },
        "f7bec12887a74571aedce339d97b27d2": {
          "model_module": "@jupyter-widgets/controls",
          "model_name": "DescriptionStyleModel",
          "model_module_version": "1.5.0",
          "state": {
            "_model_module": "@jupyter-widgets/controls",
            "_model_module_version": "1.5.0",
            "_model_name": "DescriptionStyleModel",
            "_view_count": null,
            "_view_module": "@jupyter-widgets/base",
            "_view_module_version": "1.2.0",
            "_view_name": "StyleView",
            "description_width": ""
          }
        },
        "06978e8a2e994731ba17c77f9ec8148d": {
          "model_module": "@jupyter-widgets/base",
          "model_name": "LayoutModel",
          "model_module_version": "1.2.0",
          "state": {
            "_model_module": "@jupyter-widgets/base",
            "_model_module_version": "1.2.0",
            "_model_name": "LayoutModel",
            "_view_count": null,
            "_view_module": "@jupyter-widgets/base",
            "_view_module_version": "1.2.0",
            "_view_name": "LayoutView",
            "align_content": null,
            "align_items": null,
            "align_self": null,
            "border": null,
            "bottom": null,
            "display": null,
            "flex": null,
            "flex_flow": null,
            "grid_area": null,
            "grid_auto_columns": null,
            "grid_auto_flow": null,
            "grid_auto_rows": null,
            "grid_column": null,
            "grid_gap": null,
            "grid_row": null,
            "grid_template_areas": null,
            "grid_template_columns": null,
            "grid_template_rows": null,
            "height": null,
            "justify_content": null,
            "justify_items": null,
            "left": null,
            "margin": null,
            "max_height": null,
            "max_width": null,
            "min_height": null,
            "min_width": null,
            "object_fit": null,
            "object_position": null,
            "order": null,
            "overflow": null,
            "overflow_x": null,
            "overflow_y": null,
            "padding": null,
            "right": null,
            "top": null,
            "visibility": null,
            "width": null
          }
        },
        "dc2c42a543b94b8a8f013d1456fcd4de": {
          "model_module": "@jupyter-widgets/controls",
          "model_name": "ProgressStyleModel",
          "model_module_version": "1.5.0",
          "state": {
            "_model_module": "@jupyter-widgets/controls",
            "_model_module_version": "1.5.0",
            "_model_name": "ProgressStyleModel",
            "_view_count": null,
            "_view_module": "@jupyter-widgets/base",
            "_view_module_version": "1.2.0",
            "_view_name": "StyleView",
            "bar_color": null,
            "description_width": ""
          }
        },
        "832eb0874fdd48d7a377456d6889b455": {
          "model_module": "@jupyter-widgets/base",
          "model_name": "LayoutModel",
          "model_module_version": "1.2.0",
          "state": {
            "_model_module": "@jupyter-widgets/base",
            "_model_module_version": "1.2.0",
            "_model_name": "LayoutModel",
            "_view_count": null,
            "_view_module": "@jupyter-widgets/base",
            "_view_module_version": "1.2.0",
            "_view_name": "LayoutView",
            "align_content": null,
            "align_items": null,
            "align_self": null,
            "border": null,
            "bottom": null,
            "display": null,
            "flex": null,
            "flex_flow": null,
            "grid_area": null,
            "grid_auto_columns": null,
            "grid_auto_flow": null,
            "grid_auto_rows": null,
            "grid_column": null,
            "grid_gap": null,
            "grid_row": null,
            "grid_template_areas": null,
            "grid_template_columns": null,
            "grid_template_rows": null,
            "height": null,
            "justify_content": null,
            "justify_items": null,
            "left": null,
            "margin": null,
            "max_height": null,
            "max_width": null,
            "min_height": null,
            "min_width": null,
            "object_fit": null,
            "object_position": null,
            "order": null,
            "overflow": null,
            "overflow_x": null,
            "overflow_y": null,
            "padding": null,
            "right": null,
            "top": null,
            "visibility": null,
            "width": null
          }
        },
        "4927fc5dcaa24eb183f4a8fe3d4f05fd": {
          "model_module": "@jupyter-widgets/controls",
          "model_name": "DescriptionStyleModel",
          "model_module_version": "1.5.0",
          "state": {
            "_model_module": "@jupyter-widgets/controls",
            "_model_module_version": "1.5.0",
            "_model_name": "DescriptionStyleModel",
            "_view_count": null,
            "_view_module": "@jupyter-widgets/base",
            "_view_module_version": "1.2.0",
            "_view_name": "StyleView",
            "description_width": ""
          }
        },
        "e915be3b692e4d0a8c3d797c9dc9acbd": {
          "model_module": "@jupyter-widgets/controls",
          "model_name": "HBoxModel",
          "model_module_version": "1.5.0",
          "state": {
            "_dom_classes": [],
            "_model_module": "@jupyter-widgets/controls",
            "_model_module_version": "1.5.0",
            "_model_name": "HBoxModel",
            "_view_count": null,
            "_view_module": "@jupyter-widgets/controls",
            "_view_module_version": "1.5.0",
            "_view_name": "HBoxView",
            "box_style": "",
            "children": [
              "IPY_MODEL_243f4e2189844336b5bb9750759573f4",
              "IPY_MODEL_dd3b522477eb499c8cd7f4da3f6969d4",
              "IPY_MODEL_83ad961cd69a4af5a9ec38713b6db80e"
            ],
            "layout": "IPY_MODEL_98c011f88c624f91946369033997e9d6"
          }
        },
        "243f4e2189844336b5bb9750759573f4": {
          "model_module": "@jupyter-widgets/controls",
          "model_name": "HTMLModel",
          "model_module_version": "1.5.0",
          "state": {
            "_dom_classes": [],
            "_model_module": "@jupyter-widgets/controls",
            "_model_module_version": "1.5.0",
            "_model_name": "HTMLModel",
            "_view_count": null,
            "_view_module": "@jupyter-widgets/controls",
            "_view_module_version": "1.5.0",
            "_view_name": "HTMLView",
            "description": "",
            "description_tooltip": null,
            "layout": "IPY_MODEL_7af363ce6020485ea7da100738a1108f",
            "placeholder": "​",
            "style": "IPY_MODEL_2d649f640667424493b6566f958872c8",
            "value": "special_tokens_map.json: 100%"
          }
        },
        "dd3b522477eb499c8cd7f4da3f6969d4": {
          "model_module": "@jupyter-widgets/controls",
          "model_name": "FloatProgressModel",
          "model_module_version": "1.5.0",
          "state": {
            "_dom_classes": [],
            "_model_module": "@jupyter-widgets/controls",
            "_model_module_version": "1.5.0",
            "_model_name": "FloatProgressModel",
            "_view_count": null,
            "_view_module": "@jupyter-widgets/controls",
            "_view_module_version": "1.5.0",
            "_view_name": "ProgressView",
            "bar_style": "success",
            "description": "",
            "description_tooltip": null,
            "layout": "IPY_MODEL_ebe97db882b145b5bd5ba0240e284dd8",
            "max": 167,
            "min": 0,
            "orientation": "horizontal",
            "style": "IPY_MODEL_527d3321df74462cbcd116e875481f69",
            "value": 167
          }
        },
        "83ad961cd69a4af5a9ec38713b6db80e": {
          "model_module": "@jupyter-widgets/controls",
          "model_name": "HTMLModel",
          "model_module_version": "1.5.0",
          "state": {
            "_dom_classes": [],
            "_model_module": "@jupyter-widgets/controls",
            "_model_module_version": "1.5.0",
            "_model_name": "HTMLModel",
            "_view_count": null,
            "_view_module": "@jupyter-widgets/controls",
            "_view_module_version": "1.5.0",
            "_view_name": "HTMLView",
            "description": "",
            "description_tooltip": null,
            "layout": "IPY_MODEL_3239a29824c34ed0b0a822bc03394dc1",
            "placeholder": "​",
            "style": "IPY_MODEL_3d9ca05ddc264c03aea2d2df49361471",
            "value": " 167/167 [00:00&lt;00:00, 10.9kB/s]"
          }
        },
        "98c011f88c624f91946369033997e9d6": {
          "model_module": "@jupyter-widgets/base",
          "model_name": "LayoutModel",
          "model_module_version": "1.2.0",
          "state": {
            "_model_module": "@jupyter-widgets/base",
            "_model_module_version": "1.2.0",
            "_model_name": "LayoutModel",
            "_view_count": null,
            "_view_module": "@jupyter-widgets/base",
            "_view_module_version": "1.2.0",
            "_view_name": "LayoutView",
            "align_content": null,
            "align_items": null,
            "align_self": null,
            "border": null,
            "bottom": null,
            "display": null,
            "flex": null,
            "flex_flow": null,
            "grid_area": null,
            "grid_auto_columns": null,
            "grid_auto_flow": null,
            "grid_auto_rows": null,
            "grid_column": null,
            "grid_gap": null,
            "grid_row": null,
            "grid_template_areas": null,
            "grid_template_columns": null,
            "grid_template_rows": null,
            "height": null,
            "justify_content": null,
            "justify_items": null,
            "left": null,
            "margin": null,
            "max_height": null,
            "max_width": null,
            "min_height": null,
            "min_width": null,
            "object_fit": null,
            "object_position": null,
            "order": null,
            "overflow": null,
            "overflow_x": null,
            "overflow_y": null,
            "padding": null,
            "right": null,
            "top": null,
            "visibility": null,
            "width": null
          }
        },
        "7af363ce6020485ea7da100738a1108f": {
          "model_module": "@jupyter-widgets/base",
          "model_name": "LayoutModel",
          "model_module_version": "1.2.0",
          "state": {
            "_model_module": "@jupyter-widgets/base",
            "_model_module_version": "1.2.0",
            "_model_name": "LayoutModel",
            "_view_count": null,
            "_view_module": "@jupyter-widgets/base",
            "_view_module_version": "1.2.0",
            "_view_name": "LayoutView",
            "align_content": null,
            "align_items": null,
            "align_self": null,
            "border": null,
            "bottom": null,
            "display": null,
            "flex": null,
            "flex_flow": null,
            "grid_area": null,
            "grid_auto_columns": null,
            "grid_auto_flow": null,
            "grid_auto_rows": null,
            "grid_column": null,
            "grid_gap": null,
            "grid_row": null,
            "grid_template_areas": null,
            "grid_template_columns": null,
            "grid_template_rows": null,
            "height": null,
            "justify_content": null,
            "justify_items": null,
            "left": null,
            "margin": null,
            "max_height": null,
            "max_width": null,
            "min_height": null,
            "min_width": null,
            "object_fit": null,
            "object_position": null,
            "order": null,
            "overflow": null,
            "overflow_x": null,
            "overflow_y": null,
            "padding": null,
            "right": null,
            "top": null,
            "visibility": null,
            "width": null
          }
        },
        "2d649f640667424493b6566f958872c8": {
          "model_module": "@jupyter-widgets/controls",
          "model_name": "DescriptionStyleModel",
          "model_module_version": "1.5.0",
          "state": {
            "_model_module": "@jupyter-widgets/controls",
            "_model_module_version": "1.5.0",
            "_model_name": "DescriptionStyleModel",
            "_view_count": null,
            "_view_module": "@jupyter-widgets/base",
            "_view_module_version": "1.2.0",
            "_view_name": "StyleView",
            "description_width": ""
          }
        },
        "ebe97db882b145b5bd5ba0240e284dd8": {
          "model_module": "@jupyter-widgets/base",
          "model_name": "LayoutModel",
          "model_module_version": "1.2.0",
          "state": {
            "_model_module": "@jupyter-widgets/base",
            "_model_module_version": "1.2.0",
            "_model_name": "LayoutModel",
            "_view_count": null,
            "_view_module": "@jupyter-widgets/base",
            "_view_module_version": "1.2.0",
            "_view_name": "LayoutView",
            "align_content": null,
            "align_items": null,
            "align_self": null,
            "border": null,
            "bottom": null,
            "display": null,
            "flex": null,
            "flex_flow": null,
            "grid_area": null,
            "grid_auto_columns": null,
            "grid_auto_flow": null,
            "grid_auto_rows": null,
            "grid_column": null,
            "grid_gap": null,
            "grid_row": null,
            "grid_template_areas": null,
            "grid_template_columns": null,
            "grid_template_rows": null,
            "height": null,
            "justify_content": null,
            "justify_items": null,
            "left": null,
            "margin": null,
            "max_height": null,
            "max_width": null,
            "min_height": null,
            "min_width": null,
            "object_fit": null,
            "object_position": null,
            "order": null,
            "overflow": null,
            "overflow_x": null,
            "overflow_y": null,
            "padding": null,
            "right": null,
            "top": null,
            "visibility": null,
            "width": null
          }
        },
        "527d3321df74462cbcd116e875481f69": {
          "model_module": "@jupyter-widgets/controls",
          "model_name": "ProgressStyleModel",
          "model_module_version": "1.5.0",
          "state": {
            "_model_module": "@jupyter-widgets/controls",
            "_model_module_version": "1.5.0",
            "_model_name": "ProgressStyleModel",
            "_view_count": null,
            "_view_module": "@jupyter-widgets/base",
            "_view_module_version": "1.2.0",
            "_view_name": "StyleView",
            "bar_color": null,
            "description_width": ""
          }
        },
        "3239a29824c34ed0b0a822bc03394dc1": {
          "model_module": "@jupyter-widgets/base",
          "model_name": "LayoutModel",
          "model_module_version": "1.2.0",
          "state": {
            "_model_module": "@jupyter-widgets/base",
            "_model_module_version": "1.2.0",
            "_model_name": "LayoutModel",
            "_view_count": null,
            "_view_module": "@jupyter-widgets/base",
            "_view_module_version": "1.2.0",
            "_view_name": "LayoutView",
            "align_content": null,
            "align_items": null,
            "align_self": null,
            "border": null,
            "bottom": null,
            "display": null,
            "flex": null,
            "flex_flow": null,
            "grid_area": null,
            "grid_auto_columns": null,
            "grid_auto_flow": null,
            "grid_auto_rows": null,
            "grid_column": null,
            "grid_gap": null,
            "grid_row": null,
            "grid_template_areas": null,
            "grid_template_columns": null,
            "grid_template_rows": null,
            "height": null,
            "justify_content": null,
            "justify_items": null,
            "left": null,
            "margin": null,
            "max_height": null,
            "max_width": null,
            "min_height": null,
            "min_width": null,
            "object_fit": null,
            "object_position": null,
            "order": null,
            "overflow": null,
            "overflow_x": null,
            "overflow_y": null,
            "padding": null,
            "right": null,
            "top": null,
            "visibility": null,
            "width": null
          }
        },
        "3d9ca05ddc264c03aea2d2df49361471": {
          "model_module": "@jupyter-widgets/controls",
          "model_name": "DescriptionStyleModel",
          "model_module_version": "1.5.0",
          "state": {
            "_model_module": "@jupyter-widgets/controls",
            "_model_module_version": "1.5.0",
            "_model_name": "DescriptionStyleModel",
            "_view_count": null,
            "_view_module": "@jupyter-widgets/base",
            "_view_module_version": "1.2.0",
            "_view_name": "StyleView",
            "description_width": ""
          }
        },
        "ca17ca451a9649f4abe4ee806ded363e": {
          "model_module": "@jupyter-widgets/controls",
          "model_name": "HBoxModel",
          "model_module_version": "1.5.0",
          "state": {
            "_dom_classes": [],
            "_model_module": "@jupyter-widgets/controls",
            "_model_module_version": "1.5.0",
            "_model_name": "HBoxModel",
            "_view_count": null,
            "_view_module": "@jupyter-widgets/controls",
            "_view_module_version": "1.5.0",
            "_view_name": "HBoxView",
            "box_style": "",
            "children": [
              "IPY_MODEL_5b4ac64f61ea477087ec7d1a8efa3aad",
              "IPY_MODEL_d813d0d497e7484c84607ccda83aad40",
              "IPY_MODEL_d3cad5b49c724ca2a6df90530166932e"
            ],
            "layout": "IPY_MODEL_90c0f76757884ab4a19fb5b61c12c14c"
          }
        },
        "5b4ac64f61ea477087ec7d1a8efa3aad": {
          "model_module": "@jupyter-widgets/controls",
          "model_name": "HTMLModel",
          "model_module_version": "1.5.0",
          "state": {
            "_dom_classes": [],
            "_model_module": "@jupyter-widgets/controls",
            "_model_module_version": "1.5.0",
            "_model_name": "HTMLModel",
            "_view_count": null,
            "_view_module": "@jupyter-widgets/controls",
            "_view_module_version": "1.5.0",
            "_view_name": "HTMLView",
            "description": "",
            "description_tooltip": null,
            "layout": "IPY_MODEL_98aa06831bf246a594e4ae41fb420ed2",
            "placeholder": "​",
            "style": "IPY_MODEL_ee7214934c20430bb554018ba54152ee",
            "value": "config.json: 100%"
          }
        },
        "d813d0d497e7484c84607ccda83aad40": {
          "model_module": "@jupyter-widgets/controls",
          "model_name": "FloatProgressModel",
          "model_module_version": "1.5.0",
          "state": {
            "_dom_classes": [],
            "_model_module": "@jupyter-widgets/controls",
            "_model_module_version": "1.5.0",
            "_model_name": "FloatProgressModel",
            "_view_count": null,
            "_view_module": "@jupyter-widgets/controls",
            "_view_module_version": "1.5.0",
            "_view_name": "ProgressView",
            "bar_style": "success",
            "description": "",
            "description_tooltip": null,
            "layout": "IPY_MODEL_0b23098e5065404c9abaedb89d27309c",
            "max": 200,
            "min": 0,
            "orientation": "horizontal",
            "style": "IPY_MODEL_443240f1ae554034934fa2a0182ffd44",
            "value": 200
          }
        },
        "d3cad5b49c724ca2a6df90530166932e": {
          "model_module": "@jupyter-widgets/controls",
          "model_name": "HTMLModel",
          "model_module_version": "1.5.0",
          "state": {
            "_dom_classes": [],
            "_model_module": "@jupyter-widgets/controls",
            "_model_module_version": "1.5.0",
            "_model_name": "HTMLModel",
            "_view_count": null,
            "_view_module": "@jupyter-widgets/controls",
            "_view_module_version": "1.5.0",
            "_view_name": "HTMLView",
            "description": "",
            "description_tooltip": null,
            "layout": "IPY_MODEL_d11859377163478c8486df02cd5f6fd6",
            "placeholder": "​",
            "style": "IPY_MODEL_9e1eeb56a69845158e97ee8e49678a0d",
            "value": " 200/200 [00:00&lt;00:00, 19.6kB/s]"
          }
        },
        "90c0f76757884ab4a19fb5b61c12c14c": {
          "model_module": "@jupyter-widgets/base",
          "model_name": "LayoutModel",
          "model_module_version": "1.2.0",
          "state": {
            "_model_module": "@jupyter-widgets/base",
            "_model_module_version": "1.2.0",
            "_model_name": "LayoutModel",
            "_view_count": null,
            "_view_module": "@jupyter-widgets/base",
            "_view_module_version": "1.2.0",
            "_view_name": "LayoutView",
            "align_content": null,
            "align_items": null,
            "align_self": null,
            "border": null,
            "bottom": null,
            "display": null,
            "flex": null,
            "flex_flow": null,
            "grid_area": null,
            "grid_auto_columns": null,
            "grid_auto_flow": null,
            "grid_auto_rows": null,
            "grid_column": null,
            "grid_gap": null,
            "grid_row": null,
            "grid_template_areas": null,
            "grid_template_columns": null,
            "grid_template_rows": null,
            "height": null,
            "justify_content": null,
            "justify_items": null,
            "left": null,
            "margin": null,
            "max_height": null,
            "max_width": null,
            "min_height": null,
            "min_width": null,
            "object_fit": null,
            "object_position": null,
            "order": null,
            "overflow": null,
            "overflow_x": null,
            "overflow_y": null,
            "padding": null,
            "right": null,
            "top": null,
            "visibility": null,
            "width": null
          }
        },
        "98aa06831bf246a594e4ae41fb420ed2": {
          "model_module": "@jupyter-widgets/base",
          "model_name": "LayoutModel",
          "model_module_version": "1.2.0",
          "state": {
            "_model_module": "@jupyter-widgets/base",
            "_model_module_version": "1.2.0",
            "_model_name": "LayoutModel",
            "_view_count": null,
            "_view_module": "@jupyter-widgets/base",
            "_view_module_version": "1.2.0",
            "_view_name": "LayoutView",
            "align_content": null,
            "align_items": null,
            "align_self": null,
            "border": null,
            "bottom": null,
            "display": null,
            "flex": null,
            "flex_flow": null,
            "grid_area": null,
            "grid_auto_columns": null,
            "grid_auto_flow": null,
            "grid_auto_rows": null,
            "grid_column": null,
            "grid_gap": null,
            "grid_row": null,
            "grid_template_areas": null,
            "grid_template_columns": null,
            "grid_template_rows": null,
            "height": null,
            "justify_content": null,
            "justify_items": null,
            "left": null,
            "margin": null,
            "max_height": null,
            "max_width": null,
            "min_height": null,
            "min_width": null,
            "object_fit": null,
            "object_position": null,
            "order": null,
            "overflow": null,
            "overflow_x": null,
            "overflow_y": null,
            "padding": null,
            "right": null,
            "top": null,
            "visibility": null,
            "width": null
          }
        },
        "ee7214934c20430bb554018ba54152ee": {
          "model_module": "@jupyter-widgets/controls",
          "model_name": "DescriptionStyleModel",
          "model_module_version": "1.5.0",
          "state": {
            "_model_module": "@jupyter-widgets/controls",
            "_model_module_version": "1.5.0",
            "_model_name": "DescriptionStyleModel",
            "_view_count": null,
            "_view_module": "@jupyter-widgets/base",
            "_view_module_version": "1.2.0",
            "_view_name": "StyleView",
            "description_width": ""
          }
        },
        "0b23098e5065404c9abaedb89d27309c": {
          "model_module": "@jupyter-widgets/base",
          "model_name": "LayoutModel",
          "model_module_version": "1.2.0",
          "state": {
            "_model_module": "@jupyter-widgets/base",
            "_model_module_version": "1.2.0",
            "_model_name": "LayoutModel",
            "_view_count": null,
            "_view_module": "@jupyter-widgets/base",
            "_view_module_version": "1.2.0",
            "_view_name": "LayoutView",
            "align_content": null,
            "align_items": null,
            "align_self": null,
            "border": null,
            "bottom": null,
            "display": null,
            "flex": null,
            "flex_flow": null,
            "grid_area": null,
            "grid_auto_columns": null,
            "grid_auto_flow": null,
            "grid_auto_rows": null,
            "grid_column": null,
            "grid_gap": null,
            "grid_row": null,
            "grid_template_areas": null,
            "grid_template_columns": null,
            "grid_template_rows": null,
            "height": null,
            "justify_content": null,
            "justify_items": null,
            "left": null,
            "margin": null,
            "max_height": null,
            "max_width": null,
            "min_height": null,
            "min_width": null,
            "object_fit": null,
            "object_position": null,
            "order": null,
            "overflow": null,
            "overflow_x": null,
            "overflow_y": null,
            "padding": null,
            "right": null,
            "top": null,
            "visibility": null,
            "width": null
          }
        },
        "443240f1ae554034934fa2a0182ffd44": {
          "model_module": "@jupyter-widgets/controls",
          "model_name": "ProgressStyleModel",
          "model_module_version": "1.5.0",
          "state": {
            "_model_module": "@jupyter-widgets/controls",
            "_model_module_version": "1.5.0",
            "_model_name": "ProgressStyleModel",
            "_view_count": null,
            "_view_module": "@jupyter-widgets/base",
            "_view_module_version": "1.2.0",
            "_view_name": "StyleView",
            "bar_color": null,
            "description_width": ""
          }
        },
        "d11859377163478c8486df02cd5f6fd6": {
          "model_module": "@jupyter-widgets/base",
          "model_name": "LayoutModel",
          "model_module_version": "1.2.0",
          "state": {
            "_model_module": "@jupyter-widgets/base",
            "_model_module_version": "1.2.0",
            "_model_name": "LayoutModel",
            "_view_count": null,
            "_view_module": "@jupyter-widgets/base",
            "_view_module_version": "1.2.0",
            "_view_name": "LayoutView",
            "align_content": null,
            "align_items": null,
            "align_self": null,
            "border": null,
            "bottom": null,
            "display": null,
            "flex": null,
            "flex_flow": null,
            "grid_area": null,
            "grid_auto_columns": null,
            "grid_auto_flow": null,
            "grid_auto_rows": null,
            "grid_column": null,
            "grid_gap": null,
            "grid_row": null,
            "grid_template_areas": null,
            "grid_template_columns": null,
            "grid_template_rows": null,
            "height": null,
            "justify_content": null,
            "justify_items": null,
            "left": null,
            "margin": null,
            "max_height": null,
            "max_width": null,
            "min_height": null,
            "min_width": null,
            "object_fit": null,
            "object_position": null,
            "order": null,
            "overflow": null,
            "overflow_x": null,
            "overflow_y": null,
            "padding": null,
            "right": null,
            "top": null,
            "visibility": null,
            "width": null
          }
        },
        "9e1eeb56a69845158e97ee8e49678a0d": {
          "model_module": "@jupyter-widgets/controls",
          "model_name": "DescriptionStyleModel",
          "model_module_version": "1.5.0",
          "state": {
            "_model_module": "@jupyter-widgets/controls",
            "_model_module_version": "1.5.0",
            "_model_name": "DescriptionStyleModel",
            "_view_count": null,
            "_view_module": "@jupyter-widgets/base",
            "_view_module_version": "1.2.0",
            "_view_name": "StyleView",
            "description_width": ""
          }
        }
      }
    }
  },
  "nbformat": 4,
  "nbformat_minor": 0
}