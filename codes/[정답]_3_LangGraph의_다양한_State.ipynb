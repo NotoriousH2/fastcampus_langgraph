{
  "cells": [
    {
      "cell_type": "markdown",
      "metadata": {
        "id": "eNWMhxtVOPnC",
        "vscode": {
          "languageId": "plaintext"
        }
      },
      "source": [
        "# [실습] LangGraph의 다양한 State 활용하기    \n",
        "\n",
        "\n",
        "이전 실습에서는 하나의 클래스에 문자열, 정수와 같은 값을 정의하고, 이를 모든 노드가 공유하도록 구성했는데요.   \n",
        "\n",
        "이번 실습에서는 State를 보다 복잡하게 만들어 보겠습니다.   \n",
        "\n",
        "\n",
        "\n"
      ]
    },
    {
      "cell_type": "code",
      "execution_count": 1,
      "metadata": {
        "id": "4OoJXoxMOPnD"
      },
      "outputs": [
        {
          "name": "stdout",
          "output_type": "stream",
          "text": [
            "Requirement already satisfied: langgraph in c:\\users\\pc\\onedrive\\1.강의\\0.llm\\1 패스트캠퍼스_랭그래프\\fastcampus_langgraph\\.venv\\lib\\site-packages (1.0.1)\n",
            "Requirement already satisfied: langchain in c:\\users\\pc\\onedrive\\1.강의\\0.llm\\1 패스트캠퍼스_랭그래프\\fastcampus_langgraph\\.venv\\lib\\site-packages (1.0.2)\n",
            "Requirement already satisfied: langchain_google_genai in c:\\users\\pc\\onedrive\\1.강의\\0.llm\\1 패스트캠퍼스_랭그래프\\fastcampus_langgraph\\.venv\\lib\\site-packages (3.0.0)\n",
            "Requirement already satisfied: langchain_community in c:\\users\\pc\\onedrive\\1.강의\\0.llm\\1 패스트캠퍼스_랭그래프\\fastcampus_langgraph\\.venv\\lib\\site-packages (0.4)\n",
            "Requirement already satisfied: langchain-core>=0.1 in c:\\users\\pc\\onedrive\\1.강의\\0.llm\\1 패스트캠퍼스_랭그래프\\fastcampus_langgraph\\.venv\\lib\\site-packages (from langgraph) (1.0.1)\n",
            "Requirement already satisfied: langgraph-checkpoint<4.0.0,>=2.1.0 in c:\\users\\pc\\onedrive\\1.강의\\0.llm\\1 패스트캠퍼스_랭그래프\\fastcampus_langgraph\\.venv\\lib\\site-packages (from langgraph) (3.0.0)\n",
            "Requirement already satisfied: langgraph-prebuilt<1.1.0,>=1.0.0 in c:\\users\\pc\\onedrive\\1.강의\\0.llm\\1 패스트캠퍼스_랭그래프\\fastcampus_langgraph\\.venv\\lib\\site-packages (from langgraph) (1.0.1)\n",
            "Requirement already satisfied: langgraph-sdk<0.3.0,>=0.2.2 in c:\\users\\pc\\onedrive\\1.강의\\0.llm\\1 패스트캠퍼스_랭그래프\\fastcampus_langgraph\\.venv\\lib\\site-packages (from langgraph) (0.2.9)\n",
            "Requirement already satisfied: pydantic>=2.7.4 in c:\\users\\pc\\onedrive\\1.강의\\0.llm\\1 패스트캠퍼스_랭그래프\\fastcampus_langgraph\\.venv\\lib\\site-packages (from langgraph) (2.12.3)\n",
            "Requirement already satisfied: xxhash>=3.5.0 in c:\\users\\pc\\onedrive\\1.강의\\0.llm\\1 패스트캠퍼스_랭그래프\\fastcampus_langgraph\\.venv\\lib\\site-packages (from langgraph) (3.6.0)\n",
            "Requirement already satisfied: ormsgpack>=1.10.0 in c:\\users\\pc\\onedrive\\1.강의\\0.llm\\1 패스트캠퍼스_랭그래프\\fastcampus_langgraph\\.venv\\lib\\site-packages (from langgraph-checkpoint<4.0.0,>=2.1.0->langgraph) (1.11.0)\n",
            "Requirement already satisfied: httpx>=0.25.2 in c:\\users\\pc\\onedrive\\1.강의\\0.llm\\1 패스트캠퍼스_랭그래프\\fastcampus_langgraph\\.venv\\lib\\site-packages (from langgraph-sdk<0.3.0,>=0.2.2->langgraph) (0.28.1)\n",
            "Requirement already satisfied: orjson>=3.10.1 in c:\\users\\pc\\onedrive\\1.강의\\0.llm\\1 패스트캠퍼스_랭그래프\\fastcampus_langgraph\\.venv\\lib\\site-packages (from langgraph-sdk<0.3.0,>=0.2.2->langgraph) (3.11.4)\n",
            "Requirement already satisfied: jsonpatch<2.0.0,>=1.33.0 in c:\\users\\pc\\onedrive\\1.강의\\0.llm\\1 패스트캠퍼스_랭그래프\\fastcampus_langgraph\\.venv\\lib\\site-packages (from langchain-core>=0.1->langgraph) (1.33)\n",
            "Requirement already satisfied: langsmith<1.0.0,>=0.3.45 in c:\\users\\pc\\onedrive\\1.강의\\0.llm\\1 패스트캠퍼스_랭그래프\\fastcampus_langgraph\\.venv\\lib\\site-packages (from langchain-core>=0.1->langgraph) (0.4.38)\n",
            "Requirement already satisfied: packaging<26.0.0,>=23.2.0 in c:\\users\\pc\\onedrive\\1.강의\\0.llm\\1 패스트캠퍼스_랭그래프\\fastcampus_langgraph\\.venv\\lib\\site-packages (from langchain-core>=0.1->langgraph) (25.0)\n",
            "Requirement already satisfied: pyyaml<7.0.0,>=5.3.0 in c:\\users\\pc\\onedrive\\1.강의\\0.llm\\1 패스트캠퍼스_랭그래프\\fastcampus_langgraph\\.venv\\lib\\site-packages (from langchain-core>=0.1->langgraph) (6.0.3)\n",
            "Requirement already satisfied: tenacity!=8.4.0,<10.0.0,>=8.1.0 in c:\\users\\pc\\onedrive\\1.강의\\0.llm\\1 패스트캠퍼스_랭그래프\\fastcampus_langgraph\\.venv\\lib\\site-packages (from langchain-core>=0.1->langgraph) (9.1.2)\n",
            "Requirement already satisfied: typing-extensions<5.0.0,>=4.7.0 in c:\\users\\pc\\onedrive\\1.강의\\0.llm\\1 패스트캠퍼스_랭그래프\\fastcampus_langgraph\\.venv\\lib\\site-packages (from langchain-core>=0.1->langgraph) (4.15.0)\n",
            "Requirement already satisfied: jsonpointer>=1.9 in c:\\users\\pc\\onedrive\\1.강의\\0.llm\\1 패스트캠퍼스_랭그래프\\fastcampus_langgraph\\.venv\\lib\\site-packages (from jsonpatch<2.0.0,>=1.33.0->langchain-core>=0.1->langgraph) (3.0.0)\n",
            "Requirement already satisfied: requests-toolbelt>=1.0.0 in c:\\users\\pc\\onedrive\\1.강의\\0.llm\\1 패스트캠퍼스_랭그래프\\fastcampus_langgraph\\.venv\\lib\\site-packages (from langsmith<1.0.0,>=0.3.45->langchain-core>=0.1->langgraph) (1.0.0)\n",
            "Requirement already satisfied: requests>=2.0.0 in c:\\users\\pc\\onedrive\\1.강의\\0.llm\\1 패스트캠퍼스_랭그래프\\fastcampus_langgraph\\.venv\\lib\\site-packages (from langsmith<1.0.0,>=0.3.45->langchain-core>=0.1->langgraph) (2.32.5)\n",
            "Requirement already satisfied: zstandard>=0.23.0 in c:\\users\\pc\\onedrive\\1.강의\\0.llm\\1 패스트캠퍼스_랭그래프\\fastcampus_langgraph\\.venv\\lib\\site-packages (from langsmith<1.0.0,>=0.3.45->langchain-core>=0.1->langgraph) (0.25.0)\n",
            "Requirement already satisfied: anyio in c:\\users\\pc\\onedrive\\1.강의\\0.llm\\1 패스트캠퍼스_랭그래프\\fastcampus_langgraph\\.venv\\lib\\site-packages (from httpx>=0.25.2->langgraph-sdk<0.3.0,>=0.2.2->langgraph) (4.11.0)\n",
            "Requirement already satisfied: certifi in c:\\users\\pc\\onedrive\\1.강의\\0.llm\\1 패스트캠퍼스_랭그래프\\fastcampus_langgraph\\.venv\\lib\\site-packages (from httpx>=0.25.2->langgraph-sdk<0.3.0,>=0.2.2->langgraph) (2025.10.5)\n",
            "Requirement already satisfied: httpcore==1.* in c:\\users\\pc\\onedrive\\1.강의\\0.llm\\1 패스트캠퍼스_랭그래프\\fastcampus_langgraph\\.venv\\lib\\site-packages (from httpx>=0.25.2->langgraph-sdk<0.3.0,>=0.2.2->langgraph) (1.0.9)\n",
            "Requirement already satisfied: idna in c:\\users\\pc\\onedrive\\1.강의\\0.llm\\1 패스트캠퍼스_랭그래프\\fastcampus_langgraph\\.venv\\lib\\site-packages (from httpx>=0.25.2->langgraph-sdk<0.3.0,>=0.2.2->langgraph) (3.11)\n",
            "Requirement already satisfied: h11>=0.16 in c:\\users\\pc\\onedrive\\1.강의\\0.llm\\1 패스트캠퍼스_랭그래프\\fastcampus_langgraph\\.venv\\lib\\site-packages (from httpcore==1.*->httpx>=0.25.2->langgraph-sdk<0.3.0,>=0.2.2->langgraph) (0.16.0)\n",
            "Requirement already satisfied: annotated-types>=0.6.0 in c:\\users\\pc\\onedrive\\1.강의\\0.llm\\1 패스트캠퍼스_랭그래프\\fastcampus_langgraph\\.venv\\lib\\site-packages (from pydantic>=2.7.4->langgraph) (0.7.0)\n",
            "Requirement already satisfied: pydantic-core==2.41.4 in c:\\users\\pc\\onedrive\\1.강의\\0.llm\\1 패스트캠퍼스_랭그래프\\fastcampus_langgraph\\.venv\\lib\\site-packages (from pydantic>=2.7.4->langgraph) (2.41.4)\n",
            "Requirement already satisfied: typing-inspection>=0.4.2 in c:\\users\\pc\\onedrive\\1.강의\\0.llm\\1 패스트캠퍼스_랭그래프\\fastcampus_langgraph\\.venv\\lib\\site-packages (from pydantic>=2.7.4->langgraph) (0.4.2)\n",
            "Requirement already satisfied: google-ai-generativelanguage<1.0.0,>=0.7.0 in c:\\users\\pc\\onedrive\\1.강의\\0.llm\\1 패스트캠퍼스_랭그래프\\fastcampus_langgraph\\.venv\\lib\\site-packages (from langchain_google_genai) (0.9.0)\n",
            "Requirement already satisfied: filetype<2.0.0,>=1.2.0 in c:\\users\\pc\\onedrive\\1.강의\\0.llm\\1 패스트캠퍼스_랭그래프\\fastcampus_langgraph\\.venv\\lib\\site-packages (from langchain_google_genai) (1.2.0)\n",
            "Requirement already satisfied: google-api-core!=2.0.*,!=2.1.*,!=2.10.*,!=2.2.*,!=2.3.*,!=2.4.*,!=2.5.*,!=2.6.*,!=2.7.*,!=2.8.*,!=2.9.*,<3.0.0,>=1.34.1 in c:\\users\\pc\\onedrive\\1.강의\\0.llm\\1 패스트캠퍼스_랭그래프\\fastcampus_langgraph\\.venv\\lib\\site-packages (from google-api-core[grpc]!=2.0.*,!=2.1.*,!=2.10.*,!=2.2.*,!=2.3.*,!=2.4.*,!=2.5.*,!=2.6.*,!=2.7.*,!=2.8.*,!=2.9.*,<3.0.0,>=1.34.1->google-ai-generativelanguage<1.0.0,>=0.7.0->langchain_google_genai) (2.27.0)\n",
            "Requirement already satisfied: google-auth!=2.24.0,!=2.25.0,<3.0.0,>=2.14.1 in c:\\users\\pc\\onedrive\\1.강의\\0.llm\\1 패스트캠퍼스_랭그래프\\fastcampus_langgraph\\.venv\\lib\\site-packages (from google-ai-generativelanguage<1.0.0,>=0.7.0->langchain_google_genai) (2.41.1)\n",
            "Requirement already satisfied: grpcio<2.0.0,>=1.33.2 in c:\\users\\pc\\onedrive\\1.강의\\0.llm\\1 패스트캠퍼스_랭그래프\\fastcampus_langgraph\\.venv\\lib\\site-packages (from google-ai-generativelanguage<1.0.0,>=0.7.0->langchain_google_genai) (1.76.0)\n",
            "Requirement already satisfied: proto-plus<2.0.0,>=1.22.3 in c:\\users\\pc\\onedrive\\1.강의\\0.llm\\1 패스트캠퍼스_랭그래프\\fastcampus_langgraph\\.venv\\lib\\site-packages (from google-ai-generativelanguage<1.0.0,>=0.7.0->langchain_google_genai) (1.26.1)\n",
            "Requirement already satisfied: protobuf!=4.21.0,!=4.21.1,!=4.21.2,!=4.21.3,!=4.21.4,!=4.21.5,<7.0.0,>=3.20.2 in c:\\users\\pc\\onedrive\\1.강의\\0.llm\\1 패스트캠퍼스_랭그래프\\fastcampus_langgraph\\.venv\\lib\\site-packages (from google-ai-generativelanguage<1.0.0,>=0.7.0->langchain_google_genai) (6.33.0)\n",
            "Requirement already satisfied: googleapis-common-protos<2.0.0,>=1.56.2 in c:\\users\\pc\\onedrive\\1.강의\\0.llm\\1 패스트캠퍼스_랭그래프\\fastcampus_langgraph\\.venv\\lib\\site-packages (from google-api-core!=2.0.*,!=2.1.*,!=2.10.*,!=2.2.*,!=2.3.*,!=2.4.*,!=2.5.*,!=2.6.*,!=2.7.*,!=2.8.*,!=2.9.*,<3.0.0,>=1.34.1->google-api-core[grpc]!=2.0.*,!=2.1.*,!=2.10.*,!=2.2.*,!=2.3.*,!=2.4.*,!=2.5.*,!=2.6.*,!=2.7.*,!=2.8.*,!=2.9.*,<3.0.0,>=1.34.1->google-ai-generativelanguage<1.0.0,>=0.7.0->langchain_google_genai) (1.71.0)\n",
            "Requirement already satisfied: grpcio-status<2.0.0,>=1.33.2 in c:\\users\\pc\\onedrive\\1.강의\\0.llm\\1 패스트캠퍼스_랭그래프\\fastcampus_langgraph\\.venv\\lib\\site-packages (from google-api-core[grpc]!=2.0.*,!=2.1.*,!=2.10.*,!=2.2.*,!=2.3.*,!=2.4.*,!=2.5.*,!=2.6.*,!=2.7.*,!=2.8.*,!=2.9.*,<3.0.0,>=1.34.1->google-ai-generativelanguage<1.0.0,>=0.7.0->langchain_google_genai) (1.76.0)\n",
            "Requirement already satisfied: cachetools<7.0,>=2.0.0 in c:\\users\\pc\\onedrive\\1.강의\\0.llm\\1 패스트캠퍼스_랭그래프\\fastcampus_langgraph\\.venv\\lib\\site-packages (from google-auth!=2.24.0,!=2.25.0,<3.0.0,>=2.14.1->google-ai-generativelanguage<1.0.0,>=0.7.0->langchain_google_genai) (6.2.1)\n",
            "Requirement already satisfied: pyasn1-modules>=0.2.1 in c:\\users\\pc\\onedrive\\1.강의\\0.llm\\1 패스트캠퍼스_랭그래프\\fastcampus_langgraph\\.venv\\lib\\site-packages (from google-auth!=2.24.0,!=2.25.0,<3.0.0,>=2.14.1->google-ai-generativelanguage<1.0.0,>=0.7.0->langchain_google_genai) (0.4.2)\n",
            "Requirement already satisfied: rsa<5,>=3.1.4 in c:\\users\\pc\\onedrive\\1.강의\\0.llm\\1 패스트캠퍼스_랭그래프\\fastcampus_langgraph\\.venv\\lib\\site-packages (from google-auth!=2.24.0,!=2.25.0,<3.0.0,>=2.14.1->google-ai-generativelanguage<1.0.0,>=0.7.0->langchain_google_genai) (4.9.1)\n",
            "Requirement already satisfied: charset_normalizer<4,>=2 in c:\\users\\pc\\onedrive\\1.강의\\0.llm\\1 패스트캠퍼스_랭그래프\\fastcampus_langgraph\\.venv\\lib\\site-packages (from requests>=2.0.0->langsmith<1.0.0,>=0.3.45->langchain-core>=0.1->langgraph) (3.4.4)\n",
            "Requirement already satisfied: urllib3<3,>=1.21.1 in c:\\users\\pc\\onedrive\\1.강의\\0.llm\\1 패스트캠퍼스_랭그래프\\fastcampus_langgraph\\.venv\\lib\\site-packages (from requests>=2.0.0->langsmith<1.0.0,>=0.3.45->langchain-core>=0.1->langgraph) (2.5.0)\n",
            "Requirement already satisfied: pyasn1>=0.1.3 in c:\\users\\pc\\onedrive\\1.강의\\0.llm\\1 패스트캠퍼스_랭그래프\\fastcampus_langgraph\\.venv\\lib\\site-packages (from rsa<5,>=3.1.4->google-auth!=2.24.0,!=2.25.0,<3.0.0,>=2.14.1->google-ai-generativelanguage<1.0.0,>=0.7.0->langchain_google_genai) (0.6.1)\n",
            "Requirement already satisfied: langchain-classic<2.0.0,>=1.0.0 in c:\\users\\pc\\onedrive\\1.강의\\0.llm\\1 패스트캠퍼스_랭그래프\\fastcampus_langgraph\\.venv\\lib\\site-packages (from langchain_community) (1.0.0)\n",
            "Requirement already satisfied: SQLAlchemy<3.0.0,>=1.4.0 in c:\\users\\pc\\onedrive\\1.강의\\0.llm\\1 패스트캠퍼스_랭그래프\\fastcampus_langgraph\\.venv\\lib\\site-packages (from langchain_community) (2.0.44)\n",
            "Requirement already satisfied: aiohttp<4.0.0,>=3.8.3 in c:\\users\\pc\\onedrive\\1.강의\\0.llm\\1 패스트캠퍼스_랭그래프\\fastcampus_langgraph\\.venv\\lib\\site-packages (from langchain_community) (3.13.1)\n",
            "Requirement already satisfied: dataclasses-json<0.7.0,>=0.6.7 in c:\\users\\pc\\onedrive\\1.강의\\0.llm\\1 패스트캠퍼스_랭그래프\\fastcampus_langgraph\\.venv\\lib\\site-packages (from langchain_community) (0.6.7)\n",
            "Requirement already satisfied: pydantic-settings<3.0.0,>=2.10.1 in c:\\users\\pc\\onedrive\\1.강의\\0.llm\\1 패스트캠퍼스_랭그래프\\fastcampus_langgraph\\.venv\\lib\\site-packages (from langchain_community) (2.11.0)\n",
            "Requirement already satisfied: httpx-sse<1.0.0,>=0.4.0 in c:\\users\\pc\\onedrive\\1.강의\\0.llm\\1 패스트캠퍼스_랭그래프\\fastcampus_langgraph\\.venv\\lib\\site-packages (from langchain_community) (0.4.3)\n",
            "Requirement already satisfied: numpy>=1.26.2 in c:\\users\\pc\\onedrive\\1.강의\\0.llm\\1 패스트캠퍼스_랭그래프\\fastcampus_langgraph\\.venv\\lib\\site-packages (from langchain_community) (2.3.4)\n",
            "Requirement already satisfied: aiohappyeyeballs>=2.5.0 in c:\\users\\pc\\onedrive\\1.강의\\0.llm\\1 패스트캠퍼스_랭그래프\\fastcampus_langgraph\\.venv\\lib\\site-packages (from aiohttp<4.0.0,>=3.8.3->langchain_community) (2.6.1)\n",
            "Requirement already satisfied: aiosignal>=1.4.0 in c:\\users\\pc\\onedrive\\1.강의\\0.llm\\1 패스트캠퍼스_랭그래프\\fastcampus_langgraph\\.venv\\lib\\site-packages (from aiohttp<4.0.0,>=3.8.3->langchain_community) (1.4.0)\n",
            "Requirement already satisfied: attrs>=17.3.0 in c:\\users\\pc\\onedrive\\1.강의\\0.llm\\1 패스트캠퍼스_랭그래프\\fastcampus_langgraph\\.venv\\lib\\site-packages (from aiohttp<4.0.0,>=3.8.3->langchain_community) (25.4.0)\n",
            "Requirement already satisfied: frozenlist>=1.1.1 in c:\\users\\pc\\onedrive\\1.강의\\0.llm\\1 패스트캠퍼스_랭그래프\\fastcampus_langgraph\\.venv\\lib\\site-packages (from aiohttp<4.0.0,>=3.8.3->langchain_community) (1.8.0)\n",
            "Requirement already satisfied: multidict<7.0,>=4.5 in c:\\users\\pc\\onedrive\\1.강의\\0.llm\\1 패스트캠퍼스_랭그래프\\fastcampus_langgraph\\.venv\\lib\\site-packages (from aiohttp<4.0.0,>=3.8.3->langchain_community) (6.7.0)\n",
            "Requirement already satisfied: propcache>=0.2.0 in c:\\users\\pc\\onedrive\\1.강의\\0.llm\\1 패스트캠퍼스_랭그래프\\fastcampus_langgraph\\.venv\\lib\\site-packages (from aiohttp<4.0.0,>=3.8.3->langchain_community) (0.4.1)\n",
            "Requirement already satisfied: yarl<2.0,>=1.17.0 in c:\\users\\pc\\onedrive\\1.강의\\0.llm\\1 패스트캠퍼스_랭그래프\\fastcampus_langgraph\\.venv\\lib\\site-packages (from aiohttp<4.0.0,>=3.8.3->langchain_community) (1.22.0)\n",
            "Requirement already satisfied: marshmallow<4.0.0,>=3.18.0 in c:\\users\\pc\\onedrive\\1.강의\\0.llm\\1 패스트캠퍼스_랭그래프\\fastcampus_langgraph\\.venv\\lib\\site-packages (from dataclasses-json<0.7.0,>=0.6.7->langchain_community) (3.26.1)\n",
            "Requirement already satisfied: typing-inspect<1,>=0.4.0 in c:\\users\\pc\\onedrive\\1.강의\\0.llm\\1 패스트캠퍼스_랭그래프\\fastcampus_langgraph\\.venv\\lib\\site-packages (from dataclasses-json<0.7.0,>=0.6.7->langchain_community) (0.9.0)\n",
            "Requirement already satisfied: langchain-text-splitters<2.0.0,>=1.0.0 in c:\\users\\pc\\onedrive\\1.강의\\0.llm\\1 패스트캠퍼스_랭그래프\\fastcampus_langgraph\\.venv\\lib\\site-packages (from langchain-classic<2.0.0,>=1.0.0->langchain_community) (1.0.0)\n",
            "Requirement already satisfied: python-dotenv>=0.21.0 in c:\\users\\pc\\onedrive\\1.강의\\0.llm\\1 패스트캠퍼스_랭그래프\\fastcampus_langgraph\\.venv\\lib\\site-packages (from pydantic-settings<3.0.0,>=2.10.1->langchain_community) (1.1.1)\n",
            "Requirement already satisfied: greenlet>=1 in c:\\users\\pc\\onedrive\\1.강의\\0.llm\\1 패스트캠퍼스_랭그래프\\fastcampus_langgraph\\.venv\\lib\\site-packages (from SQLAlchemy<3.0.0,>=1.4.0->langchain_community) (3.2.4)\n",
            "Requirement already satisfied: mypy-extensions>=0.3.0 in c:\\users\\pc\\onedrive\\1.강의\\0.llm\\1 패스트캠퍼스_랭그래프\\fastcampus_langgraph\\.venv\\lib\\site-packages (from typing-inspect<1,>=0.4.0->dataclasses-json<0.7.0,>=0.6.7->langchain_community) (1.1.0)\n",
            "Requirement already satisfied: sniffio>=1.1 in c:\\users\\pc\\onedrive\\1.강의\\0.llm\\1 패스트캠퍼스_랭그래프\\fastcampus_langgraph\\.venv\\lib\\site-packages (from anyio->httpx>=0.25.2->langgraph-sdk<0.3.0,>=0.2.2->langgraph) (1.3.1)\n"
          ]
        }
      ],
      "source": [
        "!pip install langgraph langchain langchain_google_genai langchain_community"
      ]
    },
    {
      "cell_type": "code",
      "execution_count": 2,
      "metadata": {
        "id": "TsCum2cDOPnE"
      },
      "outputs": [],
      "source": [
        "import os\n",
        "os.environ['GOOGLE_API_KEY'] = 'AIxxx'\n",
        "\n",
        "from langchain_core.rate_limiters import InMemoryRateLimiter\n",
        "from langchain_google_genai import ChatGoogleGenerativeAI\n",
        "\n",
        "# Gemini API는 분당 10개 요청으로 제한\n",
        "# 즉, 초당 약 0.167개 요청 (10/60)\n",
        "rate_limiter = InMemoryRateLimiter(\n",
        "    requests_per_second=0.167,  # 분당 10개 요청\n",
        "    check_every_n_seconds=0.1,  # 100ms마다 체크\n",
        "    max_bucket_size=10,  # 최대 버스트 크기\n",
        ")\n",
        "\n",
        "# rate limiter를 LLM에 적용\n",
        "llm = ChatGoogleGenerativeAI(\n",
        "    model=\"gemini-2.5-flash\",\n",
        "    rate_limiter=rate_limiter,\n",
        "    # temperature\n",
        "    # max_tokens\n",
        "\n",
        "    thinking_budget = 500  # 추론(Reasoning) 토큰 길이 제한\n",
        ")"
      ]
    },
    {
      "cell_type": "markdown",
      "metadata": {
        "id": "hBsA51V8OPnE"
      },
      "source": [
        "## 1. 구조화된 출력 State에 적용하기"
      ]
    },
    {
      "cell_type": "markdown",
      "metadata": {
        "id": "Ko187AE2OPnE"
      },
      "source": [
        "LangChain의 `llm.with_structured_output`을 사용하면, 구조화된 출력을 만들 수 있습니다.   \n",
        "Pydantic을 이용해, 예시 데이터의 구조를 만들어 보겠습니다."
      ]
    },
    {
      "cell_type": "code",
      "execution_count": 3,
      "metadata": {
        "id": "OarsNlg9OPnE"
      },
      "outputs": [],
      "source": [
        "from pydantic import BaseModel, Field\n",
        "\n",
        "# 프롬프트 자동 생성을 위한 요소 저장\n",
        "class Objective(BaseModel):\n",
        "    instruction: str = Field(description='프롬프트의 지시 사항을 명확히 재구성')\n",
        "    output_format: str = Field(description='출력 포맷에 대한 설명')\n",
        "    examples: str = Field(description='예시 출력(1개)')\n",
        "    notes: str = Field(description='작업 과정에서 중요한 내용을 4개의 개조식 문장으로 구성')\n",
        "\n",
        "    @property #\n",
        "    def as_str(self) -> str:\n",
        "        return '\\n\\n'.join([f'## {key}\\n {value}' for key, value in self])\n"
      ]
    },
    {
      "cell_type": "code",
      "execution_count": 4,
      "metadata": {
        "id": "NyIQU9KeOPnE"
      },
      "outputs": [
        {
          "data": {
            "text/plain": [
              "Objective(instruction='사용자가 집에서 쉽게 구할 수 있는 재료를 활용하여 만들 수 있는 재미있는 장난감 아이디어를 제안하고, 해당 장난감을 만드는 데 필요한 준비물과 구체적인 제작 방법을 단계별로 설명해주세요.', output_format='다음과 같은 JSON 형식으로 출력합니다:\\n```json\\n{\\n  \"장난감 이름\": \"장난감 이름\",\\n  \"준비물\": [\\n    \"재료 1\",\\n    \"재료 2\",\\n    \"...\"\\n  ],\\n  \"만드는 방법\": [\\n    \"단계 1\",\\n    \"단계 2\",\\n    \"...\"\\n  ]\\n}\\n```', examples='```json\\n{\\n  \"장난감 이름\": \"휴지심 망원경\",\\n  \"준비물\": [\\n    \"휴지심 (2개 이상)\",\\n    \"색종이 또는 포장지\",\\n    \"가위\",\\n    \"풀 또는 양면테이프\",\\n    \"끈 (선택 사항)\"\\n  ],\\n  \"만드는 방법\": [\\n    \"1. 휴지심 한쪽 끝에 가위로 4등분하여 1cm 정도 깊이로 자릅니다.\",\\n    \"2. 다른 휴지심의 한쪽 끝을 1번 휴지심에 끼울 수 있도록 살짝 오므립니다.\",\\n    \"3. 두 휴지심을 연결하여 망원경 모양을 만듭니다. 풀이나 테이프로 고정합니다.\",\\n    \"4. 색종이나 포장지로 망원경을 예쁘게 꾸며줍니다.\",\\n    \"5. (선택 사항) 망원경 양쪽에 구멍을 뚫어 끈을 연결하면 목에 걸고 다닐 수 있습니다.\"\\n  ]\\n}\\n```', notes='1.  장난감 제작 시 아이들의 안전을 최우선으로 고려하여 날카로운 도구나 유해 물질 사용은 피하도록 안내합니다.\\n2.  집에서 흔히 찾을 수 있는 재료(예: 휴지심, 종이컵, 신문지, 고무줄, 페트병 등) 위주로 아이디어를 제안합니다.\\n3.  만드는 방법은 어린아이도 이해할 수 있도록 쉽고 명확하며 구체적인 단계로 구성합니다.\\n4.  만들어진 장난감으로 어떤 놀이를 할 수 있는지 간단한 팁을 추가하여 재미를 더할 수 있습니다.')"
            ]
          },
          "execution_count": 4,
          "metadata": {},
          "output_type": "execute_result"
        }
      ],
      "source": [
        "from langchain_core.prompts import ChatPromptTemplate\n",
        "prompt = ChatPromptTemplate([\n",
        "    ('system', '아래의 작업을 보다 자세하게 요청하는 시스템 프롬프트를 구성하고자 합니다. 주어진 포맷에 적절하게 작성하세요.'),\n",
        "    ('user', '{instruction}')\n",
        "\n",
        "])\n",
        "\n",
        "chain = prompt | llm.with_structured_output(Objective)\n",
        "\n",
        "result = chain.invoke(\"집에서 쉽게 구할 수 있는 재료로 재미있는 장난감 만들기\")\n",
        "\n",
        "result"
      ]
    },
    {
      "cell_type": "code",
      "execution_count": 5,
      "metadata": {
        "id": "Les7UHd2OPnE"
      },
      "outputs": [
        {
          "name": "stdout",
          "output_type": "stream",
          "text": [
            "## instruction\n",
            " 사용자가 집에서 쉽게 구할 수 있는 재료를 활용하여 만들 수 있는 재미있는 장난감 아이디어를 제안하고, 해당 장난감을 만드는 데 필요한 준비물과 구체적인 제작 방법을 단계별로 설명해주세요.\n",
            "\n",
            "## output_format\n",
            " 다음과 같은 JSON 형식으로 출력합니다:\n",
            "```json\n",
            "{\n",
            "  \"장난감 이름\": \"장난감 이름\",\n",
            "  \"준비물\": [\n",
            "    \"재료 1\",\n",
            "    \"재료 2\",\n",
            "    \"...\"\n",
            "  ],\n",
            "  \"만드는 방법\": [\n",
            "    \"단계 1\",\n",
            "    \"단계 2\",\n",
            "    \"...\"\n",
            "  ]\n",
            "}\n",
            "```\n",
            "\n",
            "## examples\n",
            " ```json\n",
            "{\n",
            "  \"장난감 이름\": \"휴지심 망원경\",\n",
            "  \"준비물\": [\n",
            "    \"휴지심 (2개 이상)\",\n",
            "    \"색종이 또는 포장지\",\n",
            "    \"가위\",\n",
            "    \"풀 또는 양면테이프\",\n",
            "    \"끈 (선택 사항)\"\n",
            "  ],\n",
            "  \"만드는 방법\": [\n",
            "    \"1. 휴지심 한쪽 끝에 가위로 4등분하여 1cm 정도 깊이로 자릅니다.\",\n",
            "    \"2. 다른 휴지심의 한쪽 끝을 1번 휴지심에 끼울 수 있도록 살짝 오므립니다.\",\n",
            "    \"3. 두 휴지심을 연결하여 망원경 모양을 만듭니다. 풀이나 테이프로 고정합니다.\",\n",
            "    \"4. 색종이나 포장지로 망원경을 예쁘게 꾸며줍니다.\",\n",
            "    \"5. (선택 사항) 망원경 양쪽에 구멍을 뚫어 끈을 연결하면 목에 걸고 다닐 수 있습니다.\"\n",
            "  ]\n",
            "}\n",
            "```\n",
            "\n",
            "## notes\n",
            " 1.  장난감 제작 시 아이들의 안전을 최우선으로 고려하여 날카로운 도구나 유해 물질 사용은 피하도록 안내합니다.\n",
            "2.  집에서 흔히 찾을 수 있는 재료(예: 휴지심, 종이컵, 신문지, 고무줄, 페트병 등) 위주로 아이디어를 제안합니다.\n",
            "3.  만드는 방법은 어린아이도 이해할 수 있도록 쉽고 명확하며 구체적인 단계로 구성합니다.\n",
            "4.  만들어진 장난감으로 어떤 놀이를 할 수 있는지 간단한 팁을 추가하여 재미를 더할 수 있습니다.\n"
          ]
        }
      ],
      "source": [
        "print(result.as_str)"
      ]
    },
    {
      "cell_type": "markdown",
      "metadata": {
        "id": "2E1kO1XzOPnE"
      },
      "source": [
        "위에서 만든 Objective Class는 State의 단일 값으로도 저장할 수 있습니다."
      ]
    },
    {
      "cell_type": "code",
      "execution_count": 6,
      "metadata": {
        "id": "lwgpYwBLOPnF"
      },
      "outputs": [],
      "source": [
        "from typing import TypedDict\n",
        "\n",
        "class State(TypedDict):\n",
        "    instruction : str\n",
        "    prompt_materials : Objective # Objective Class를 하나의 값에 저장\n",
        "    full_prompt : str\n",
        "    result : str"
      ]
    },
    {
      "cell_type": "code",
      "execution_count": 7,
      "metadata": {
        "id": "fAiUxTc7OPnF"
      },
      "outputs": [],
      "source": [
        "def get_prompt_materials(State):\n",
        "    prompt = ChatPromptTemplate([\n",
        "        ('system', '아래의 작업을 보다 자세하게 세분화하고자 합니다. 주어진 포맷에 적절하게 작성하세요.'),\n",
        "        ('user', '{instruction}')\n",
        "\n",
        "    ])\n",
        "\n",
        "    chain = prompt | llm.with_structured_output(Objective)\n",
        "\n",
        "    result = chain.invoke({'instruction':State['instruction']})\n",
        "    return {'prompt_materials' : result}\n"
      ]
    },
    {
      "cell_type": "code",
      "execution_count": 8,
      "metadata": {
        "id": "BpiZN3aBOPnF"
      },
      "outputs": [],
      "source": [
        "from langchain_core.output_parsers import StrOutputParser\n",
        "\n",
        "def generate_prompt(State):\n",
        "    prompt = ChatPromptTemplate([\n",
        "        ('system', '''당신은 체계적이고 정확한 프롬프트 엔지니어입니다. 아래의 포인트를 바탕으로, LLM에 입력할  시스템 프롬프트를 작성하세요.\n",
        "{points}'''),\n",
        "        ('user', '{instruction}')\n",
        "    ])\n",
        "\n",
        "    chain = prompt | llm | StrOutputParser()\n",
        "\n",
        "    result = chain.invoke({'instruction': State['instruction'], 'points': State['prompt_materials'].as_str})\n",
        "    return {'full_prompt' : result}\n"
      ]
    },
    {
      "cell_type": "code",
      "execution_count": 9,
      "metadata": {
        "id": "8jekIvYaOPnF"
      },
      "outputs": [],
      "source": [
        "def generate(State):\n",
        "    return {'result' : llm.invoke(State['full_prompt']).content}"
      ]
    },
    {
      "cell_type": "code",
      "execution_count": 10,
      "metadata": {
        "id": "SdaWAYrMOPnF"
      },
      "outputs": [
        {
          "data": {
            "text/plain": [
              "<langgraph.graph.state.StateGraph at 0x19a79bb1fd0>"
            ]
          },
          "execution_count": 10,
          "metadata": {},
          "output_type": "execute_result"
        }
      ],
      "source": [
        "from IPython.display import Image, display\n",
        "from langgraph.graph import StateGraph, START, END\n",
        "\n",
        "\n",
        "# 그래프 구성\n",
        "builder = StateGraph(State)\n",
        "\n",
        "builder.add_node(\"get_prompt_materials\", get_prompt_materials)\n",
        "builder.add_node(\"generate_prompt\", generate_prompt)\n",
        "builder.add_node(\"generate\", generate)\n",
        "\n",
        "builder.add_edge(START, \"get_prompt_materials\")\n",
        "builder.add_edge(\"get_prompt_materials\", \"generate_prompt\")\n",
        "builder.add_edge(\"generate_prompt\", \"generate\")\n",
        "\n",
        "builder.add_edge(\"generate\", END)\n"
      ]
    },
    {
      "cell_type": "code",
      "execution_count": 11,
      "metadata": {
        "id": "-My27xfwOPnF"
      },
      "outputs": [
        {
          "data": {
            "image/png": "[encoded data removed]",
            "text/plain": [
              "<langgraph.graph.state.CompiledStateGraph object at 0x0000019A79C5C740>"
            ]
          },
          "execution_count": 11,
          "metadata": {},
          "output_type": "execute_result"
        }
      ],
      "source": [
        "graph = builder.compile()\n",
        "graph"
      ]
    },
    {
      "cell_type": "code",
      "execution_count": 12,
      "metadata": {
        "id": "IUAdgNdSOPnF"
      },
      "outputs": [
        {
          "name": "stdout",
          "output_type": "stream",
          "text": [
            "{'instruction': \"영화 '마이너리티 리포트'와 AI 윤리의 연관성에 대한 리포트 쓰기\"}\n",
            "----\n",
            "{'instruction': \"영화 '마이너리티 리포트'와 AI 윤리의 연관성에 대한 리포트 쓰기\",\n",
            " 'prompt_materials': Objective(instruction=\"영화 '마이너리티 리포트'의 핵심 내용과 AI 윤리(프라이버시 침해, 알고리즘 편향, 자유 의지 문제 등) 간의 연관성을 심층적으로 분석하고, 이를 바탕으로 AI 기술 발전이 가져올 수 있는 사회적, 윤리적 함의에 대한 보고서를 작성하세요.\", output_format='보고서는 서론, 본론(영화 내용 요약 및 AI 윤리 문제 분석), 결론으로 구성되어야 합니다. 각 섹션은 명확한 소제목과 함께 논리적으로 전개되어야 합니다.', examples=\"서론: '마이너리티 리포트'는 예측 기술이 인간 사회에 미치는 영향을 탐구하며, 현대 AI 윤리 논의에 중요한 시사점을 제공한다. 본론: 1. 예측 범죄 시스템의 윤리적 딜레마 - 영화 속 '프리크라임' 시스템은 개인의 자유 의지와 프라이버시를 침해할 수 있는 예측 알고리즘의 위험성을 보여준다. ... 결론: '마이너리티 리포트'는 AI 기술이 가져올 수 있는 유토피아와 디스토피아적 미래를 동시에 제시하며, AI 윤리 원칙 수립의 중요성을 강조한다.\", notes=\"* 영화 '마이너리티 리포트'의 주요 줄거리와 설정 중 AI 윤리 문제와 직결되는 부분을 명확히 요약해야 합니다.\\n* 프라이버시 침해, 알고리즘 편향, 자유 의지, 책임 소재 등 구체적인 AI 윤리 쟁점을 영화의 사례와 연결하여 분석해야 합니다.\\n* 영화가 제시하는 가상의 시나리오가 현실의 AI 개발 및 적용에 어떤 시사점을 주는지 현실적인 관점에서 서술해야 합니다.\\n* 보고서의 논리적 흐름과 일관성을 유지하며, 각 주장에 대한 근거를 명확히 제시해야 합니다.\")}\n",
            "----\n",
            "{'full_prompt': '다음은 LLM에 입력할 시스템 프롬프트입니다.\\n'\n",
            "                '\\n'\n",
            "                '---\\n'\n",
            "                '\\n'\n",
            "                '**시스템 프롬프트:**\\n'\n",
            "                '\\n'\n",
            "                \"당신은 영화 '마이너리티 리포트'의 심층적인 분석가이자 AI 윤리 전문가입니다. 주어진 지시사항과 출력 형식을 \"\n",
            "                '엄격히 준수하여, 영화의 핵심 내용과 AI 윤리 문제(프라이버시 침해, 알고리즘 편향, 자유 의지 문제 등) '\n",
            "                '간의 연관성을 심층적으로 분석하고, AI 기술 발전이 가져올 수 있는 사회적, 윤리적 함의에 대한 보고서를 '\n",
            "                '작성해야 합니다.\\n'\n",
            "                '\\n'\n",
            "                '**## Persona**\\n'\n",
            "                \"당신은 AI 윤리 분야의 전문가로서, 영화 '마이너리티 리포트'의 내용을 AI 윤리적 관점에서 심층적으로 \"\n",
            "                '분석하고 평가하는 역할을 수행합니다. 보고서는 학술적이면서도 명확하고 설득력 있는 문체로 작성되어야 합니다.\\n'\n",
            "                '\\n'\n",
            "                '**## Goal**\\n'\n",
            "                \"영화 '마이너리티 리포트'를 통해 AI 기술의 발전이 야기할 수 있는 사회적, 윤리적 쟁점을 다각도로 \"\n",
            "                '분석하고, 이에 대한 심도 있는 통찰을 제공하는 보고서를 작성하는 것입니다.\\n'\n",
            "                '\\n'\n",
            "                '**## Instruction**\\n'\n",
            "                \"1.  **영화 내용 요약:** '마이너리티 리포트'의 주요 줄거리와 핵심 설정(프리크라임 시스템, 프리코그, \"\n",
            "                '마이너리티 리포트의 존재 등) 중 AI 윤리 문제와 직결되는 부분을 명확하게 요약하세요.\\n'\n",
            "                '2.  **AI 윤리 문제 분석:** 다음 구체적인 AI 윤리 쟁점들을 영화의 사례와 연결하여 심층적으로 '\n",
            "                '분석하세요.\\n'\n",
            "                '    *   **프라이버시 침해:** 예측 시스템이 개인의 생각, 의도, 행동을 미리 파악하여 감시하고 '\n",
            "                '통제하는 것이 어떻게 프라이버시를 침해하는지 설명하세요. (예: 홍채 인식, 예측 범죄 시스템)\\n'\n",
            "                '    *   **자유 의지 문제:** 개인이 범죄를 저지르기 전에 체포되는 것이 인간의 자유 의지에 어떤 '\n",
            "                \"영향을 미치며, '선택의 권리'를 박탈하는 것과 어떻게 연결되는지 분석하세요. (예: 프리코그의 예측과 개인의 \"\n",
            "                '선택)\\n'\n",
            "                \"    *   **알고리즘 편향 및 오류 가능성:** '마이너리티 리포트'의 '마이너리티 리포트' 자체가 \"\n",
            "                '보여주는 예측 시스템의 오류 가능성 또는 소수 의견 무시가 현실의 AI 알고리즘 편향과 어떻게 유사한지 '\n",
            "                '설명하세요. (예: 프리코그들의 의견 불일치, 시스템의 불완전성)\\n'\n",
            "                '    *   **책임 소재 및 정의 문제:** 예측 시스템이 내린 결정에 대한 책임은 누구에게 있으며, '\n",
            "                \"예측에 기반한 처벌이 '정의'의 개념과 어떻게 충돌하는지 논하세요. (예: 무고한 사람의 체포, 시스템의 \"\n",
            "                '절대성)\\n'\n",
            "                '3.  **현실 적용 및 시사점:** 영화가 제시하는 가상의 시나리오가 현실의 AI 개발 및 적용(예: 예측 '\n",
            "                '사법, 안면 인식 기술, 신용 평가 시스템 등)에 어떤 현실적인 시사점과 경고를 주는지 서술하세요.\\n'\n",
            "                \"4.  **결론:** 보고서의 핵심 내용을 요약하고, '마이너리티 리포트'가 현대 AI 윤리 논의에 주는 \"\n",
            "                '중요성과 미래 AI 기술 발전에 대한 건전한 방향성 설정의 필요성을 강조하며 마무리하세요.\\n'\n",
            "                '\\n'\n",
            "                '**## Output Format**\\n'\n",
            "                '보고서는 다음 구조와 소제목을 반드시 포함해야 합니다. 각 섹션은 명확하고 논리적으로 전개되어야 합니다.\\n'\n",
            "                '\\n'\n",
            "                '```\\n'\n",
            "                \"# 영화 '마이너리티 리포트'와 AI 윤리의 심층 분석 보고서\\n\"\n",
            "                '\\n'\n",
            "                '## 서론: 예측 기술과 AI 윤리 논의의 교차점\\n'\n",
            "                '\\n'\n",
            "                \"## 본론: '마이너리티 리포트'가 제시하는 AI 윤리적 딜레마\\n\"\n",
            "                '\\n'\n",
            "                \"### 1. 영화 '마이너리티 리포트' 핵심 내용 요약\\n\"\n",
            "                '    - 프리크라임 시스템의 작동 방식 및 핵심 설정\\n'\n",
            "                \"    - 프리코그와 '마이너리티 리포트'의 존재\\n\"\n",
            "                '\\n'\n",
            "                '### 2. AI 윤리 문제 분석: 영화 속 사례를 중심으로\\n'\n",
            "                '    - 2.1. 프라이버시 침해와 감시 사회의 도래\\n'\n",
            "                '    - 2.2. 자유 의지 박탈과 예측 기반의 정의\\n'\n",
            "                '    - 2.3. 알고리즘 편향 및 오류 가능성의 경고\\n'\n",
            "                '    - 2.4. 책임 소재와 시스템의 윤리적 한계\\n'\n",
            "                '\\n'\n",
            "                \"### 3. 현실의 AI 기술과 '마이너리티 리포트'의 시사점\\n\"\n",
            "                '    - 예측 사법, 감시 기술 등에 대한 현실적 경고\\n'\n",
            "                '    - AI 개발 및 적용에 대한 윤리적 고려의 필요성\\n'\n",
            "                '\\n'\n",
            "                '## 결론: AI 시대의 윤리적 나침반을 찾아서\\n'\n",
            "                '```\\n'\n",
            "                '\\n'\n",
            "                '**## Examples (참고용 - 내용 자체를 복사하지 마세요)**\\n'\n",
            "                '\\n'\n",
            "                \"*   **서론 예시:** 영화 '마이너리티 리포트'는 2054년 워싱턴 D.C.를 배경으로 범죄가 일어나기 \"\n",
            "                \"전 예측하여 막는 '프리크라임' 시스템을 통해 예측 기술이 인간 사회에 미치는 영향을 탐구한다. 이 영화는 \"\n",
            "                '단순한 SF 오락을 넘어, 현대 AI 윤리 논의의 핵심 쟁점인 프라이버시 침해, 자유 의지, 알고리즘 편향 '\n",
            "                '등에 대한 중요한 시사점을 제공하며, AI 기술 발전이 가져올 수 있는 유토피아적 희망과 디스토피아적 그림자를 '\n",
            "                '동시에 비춘다.\\n'\n",
            "                '\\n'\n",
            "                \"*   **본론 예시 (2.1. 프라이버시 침해):** 영화 속 '프리크라임' 시스템은 범죄가 발생하기 전 \"\n",
            "                '개인의 의도를 예측하여 체포하는 방식으로 작동한다. 이는 프리코그라는 초능력자들의 예측에 기반하지만, '\n",
            "                '본질적으로는 고도화된 AI 알고리즘이 미래 행동을 예측하는 것과 유사하다. 주인공 존 앤더튼이 홍채 인식 '\n",
            "                '시스템에 의해 끊임없이 추적당하고, 그의 과거 정보가 손쉽게 열람되는 장면들은 예측 시스템이 개인의 '\n",
            "                '프라이버시를 어떻게 침해하고 감시 사회를 구축할 수 있는지 극명하게 보여준다. AI 기반의 안면 인식, 위치 '\n",
            "                '추적, 행동 예측 기술이 현실에서 발전함에 따라, 영화 속 감시 사회는 더 이상 먼 미래의 이야기가 아님을 '\n",
            "                '경고한다.\\n'\n",
            "                '\\n'\n",
            "                \"*   **결론 예시:** '마이너리티 리포트'는 AI 기술이 가져올 수 있는 유토피아와 디스토피아적 미래를 \"\n",
            "                '동시에 제시하며, 기술 발전이 만능이 아님을 역설한다. 이 영화는 예측 알고리즘의 한계, 프라이버시 침해의 '\n",
            "                '위험성, 그리고 인간의 자유 의지 존중이라는 근본적인 질문을 던짐으로써, AI 윤리 원칙 수립의 중요성을 '\n",
            "                '강조한다. 미래 AI 기술이 인류에게 진정한 혜택을 주기 위해서는 기술적 진보만큼이나 사회적, 윤리적 고려가 '\n",
            "                '선행되어야 함을 이 영화는 강력히 시사한다.\\n'\n",
            "                '\\n'\n",
            "                '**## Constraint**\\n'\n",
            "                \"*   보고서의 모든 내용은 '마이너리티 리포트' 영화 내용과 AI 윤리 쟁점을 명확하게 연결하여 분석해야 \"\n",
            "                '합니다.\\n'\n",
            "                '*   각 섹션의 소제목을 정확히 따르고, 논리적 흐름과 일관성을 유지해야 합니다.\\n'\n",
            "                '*   추상적인 언급보다는 영화 속 구체적인 사례를 들어 분석을 뒷받침해야 합니다.\\n'\n",
            "                '*   보고서의 분량은 최소 1500자 이상으로 작성되어야 합니다.',\n",
            " 'instruction': \"영화 '마이너리티 리포트'와 AI 윤리의 연관성에 대한 리포트 쓰기\",\n",
            " 'prompt_materials': Objective(instruction=\"영화 '마이너리티 리포트'의 핵심 내용과 AI 윤리(프라이버시 침해, 알고리즘 편향, 자유 의지 문제 등) 간의 연관성을 심층적으로 분석하고, 이를 바탕으로 AI 기술 발전이 가져올 수 있는 사회적, 윤리적 함의에 대한 보고서를 작성하세요.\", output_format='보고서는 서론, 본론(영화 내용 요약 및 AI 윤리 문제 분석), 결론으로 구성되어야 합니다. 각 섹션은 명확한 소제목과 함께 논리적으로 전개되어야 합니다.', examples=\"서론: '마이너리티 리포트'는 예측 기술이 인간 사회에 미치는 영향을 탐구하며, 현대 AI 윤리 논의에 중요한 시사점을 제공한다. 본론: 1. 예측 범죄 시스템의 윤리적 딜레마 - 영화 속 '프리크라임' 시스템은 개인의 자유 의지와 프라이버시를 침해할 수 있는 예측 알고리즘의 위험성을 보여준다. ... 결론: '마이너리티 리포트'는 AI 기술이 가져올 수 있는 유토피아와 디스토피아적 미래를 동시에 제시하며, AI 윤리 원칙 수립의 중요성을 강조한다.\", notes=\"* 영화 '마이너리티 리포트'의 주요 줄거리와 설정 중 AI 윤리 문제와 직결되는 부분을 명확히 요약해야 합니다.\\n* 프라이버시 침해, 알고리즘 편향, 자유 의지, 책임 소재 등 구체적인 AI 윤리 쟁점을 영화의 사례와 연결하여 분석해야 합니다.\\n* 영화가 제시하는 가상의 시나리오가 현실의 AI 개발 및 적용에 어떤 시사점을 주는지 현실적인 관점에서 서술해야 합니다.\\n* 보고서의 논리적 흐름과 일관성을 유지하며, 각 주장에 대한 근거를 명확히 제시해야 합니다.\")}\n",
            "----\n",
            "{'full_prompt': '다음은 LLM에 입력할 시스템 프롬프트입니다.\\n'\n",
            "                '\\n'\n",
            "                '---\\n'\n",
            "                '\\n'\n",
            "                '**시스템 프롬프트:**\\n'\n",
            "                '\\n'\n",
            "                \"당신은 영화 '마이너리티 리포트'의 심층적인 분석가이자 AI 윤리 전문가입니다. 주어진 지시사항과 출력 형식을 \"\n",
            "                '엄격히 준수하여, 영화의 핵심 내용과 AI 윤리 문제(프라이버시 침해, 알고리즘 편향, 자유 의지 문제 등) '\n",
            "                '간의 연관성을 심층적으로 분석하고, AI 기술 발전이 가져올 수 있는 사회적, 윤리적 함의에 대한 보고서를 '\n",
            "                '작성해야 합니다.\\n'\n",
            "                '\\n'\n",
            "                '**## Persona**\\n'\n",
            "                \"당신은 AI 윤리 분야의 전문가로서, 영화 '마이너리티 리포트'의 내용을 AI 윤리적 관점에서 심층적으로 \"\n",
            "                '분석하고 평가하는 역할을 수행합니다. 보고서는 학술적이면서도 명확하고 설득력 있는 문체로 작성되어야 합니다.\\n'\n",
            "                '\\n'\n",
            "                '**## Goal**\\n'\n",
            "                \"영화 '마이너리티 리포트'를 통해 AI 기술의 발전이 야기할 수 있는 사회적, 윤리적 쟁점을 다각도로 \"\n",
            "                '분석하고, 이에 대한 심도 있는 통찰을 제공하는 보고서를 작성하는 것입니다.\\n'\n",
            "                '\\n'\n",
            "                '**## Instruction**\\n'\n",
            "                \"1.  **영화 내용 요약:** '마이너리티 리포트'의 주요 줄거리와 핵심 설정(프리크라임 시스템, 프리코그, \"\n",
            "                '마이너리티 리포트의 존재 등) 중 AI 윤리 문제와 직결되는 부분을 명확하게 요약하세요.\\n'\n",
            "                '2.  **AI 윤리 문제 분석:** 다음 구체적인 AI 윤리 쟁점들을 영화의 사례와 연결하여 심층적으로 '\n",
            "                '분석하세요.\\n'\n",
            "                '    *   **프라이버시 침해:** 예측 시스템이 개인의 생각, 의도, 행동을 미리 파악하여 감시하고 '\n",
            "                '통제하는 것이 어떻게 프라이버시를 침해하는지 설명하세요. (예: 홍채 인식, 예측 범죄 시스템)\\n'\n",
            "                '    *   **자유 의지 문제:** 개인이 범죄를 저지르기 전에 체포되는 것이 인간의 자유 의지에 어떤 '\n",
            "                \"영향을 미치며, '선택의 권리'를 박탈하는 것과 어떻게 연결되는지 분석하세요. (예: 프리코그의 예측과 개인의 \"\n",
            "                '선택)\\n'\n",
            "                \"    *   **알고리즘 편향 및 오류 가능성:** '마이너리티 리포트'의 '마이너리티 리포트' 자체가 \"\n",
            "                '보여주는 예측 시스템의 오류 가능성 또는 소수 의견 무시가 현실의 AI 알고리즘 편향과 어떻게 유사한지 '\n",
            "                '설명하세요. (예: 프리코그들의 의견 불일치, 시스템의 불완전성)\\n'\n",
            "                '    *   **책임 소재 및 정의 문제:** 예측 시스템이 내린 결정에 대한 책임은 누구에게 있으며, '\n",
            "                \"예측에 기반한 처벌이 '정의'의 개념과 어떻게 충돌하는지 논하세요. (예: 무고한 사람의 체포, 시스템의 \"\n",
            "                '절대성)\\n'\n",
            "                '3.  **현실 적용 및 시사점:** 영화가 제시하는 가상의 시나리오가 현실의 AI 개발 및 적용(예: 예측 '\n",
            "                '사법, 안면 인식 기술, 신용 평가 시스템 등)에 어떤 현실적인 시사점과 경고를 주는지 서술하세요.\\n'\n",
            "                \"4.  **결론:** 보고서의 핵심 내용을 요약하고, '마이너리티 리포트'가 현대 AI 윤리 논의에 주는 \"\n",
            "                '중요성과 미래 AI 기술 발전에 대한 건전한 방향성 설정의 필요성을 강조하며 마무리하세요.\\n'\n",
            "                '\\n'\n",
            "                '**## Output Format**\\n'\n",
            "                '보고서는 다음 구조와 소제목을 반드시 포함해야 합니다. 각 섹션은 명확하고 논리적으로 전개되어야 합니다.\\n'\n",
            "                '\\n'\n",
            "                '```\\n'\n",
            "                \"# 영화 '마이너리티 리포트'와 AI 윤리의 심층 분석 보고서\\n\"\n",
            "                '\\n'\n",
            "                '## 서론: 예측 기술과 AI 윤리 논의의 교차점\\n'\n",
            "                '\\n'\n",
            "                \"## 본론: '마이너리티 리포트'가 제시하는 AI 윤리적 딜레마\\n\"\n",
            "                '\\n'\n",
            "                \"### 1. 영화 '마이너리티 리포트' 핵심 내용 요약\\n\"\n",
            "                '    - 프리크라임 시스템의 작동 방식 및 핵심 설정\\n'\n",
            "                \"    - 프리코그와 '마이너리티 리포트'의 존재\\n\"\n",
            "                '\\n'\n",
            "                '### 2. AI 윤리 문제 분석: 영화 속 사례를 중심으로\\n'\n",
            "                '    - 2.1. 프라이버시 침해와 감시 사회의 도래\\n'\n",
            "                '    - 2.2. 자유 의지 박탈과 예측 기반의 정의\\n'\n",
            "                '    - 2.3. 알고리즘 편향 및 오류 가능성의 경고\\n'\n",
            "                '    - 2.4. 책임 소재와 시스템의 윤리적 한계\\n'\n",
            "                '\\n'\n",
            "                \"### 3. 현실의 AI 기술과 '마이너리티 리포트'의 시사점\\n\"\n",
            "                '    - 예측 사법, 감시 기술 등에 대한 현실적 경고\\n'\n",
            "                '    - AI 개발 및 적용에 대한 윤리적 고려의 필요성\\n'\n",
            "                '\\n'\n",
            "                '## 결론: AI 시대의 윤리적 나침반을 찾아서\\n'\n",
            "                '```\\n'\n",
            "                '\\n'\n",
            "                '**## Examples (참고용 - 내용 자체를 복사하지 마세요)**\\n'\n",
            "                '\\n'\n",
            "                \"*   **서론 예시:** 영화 '마이너리티 리포트'는 2054년 워싱턴 D.C.를 배경으로 범죄가 일어나기 \"\n",
            "                \"전 예측하여 막는 '프리크라임' 시스템을 통해 예측 기술이 인간 사회에 미치는 영향을 탐구한다. 이 영화는 \"\n",
            "                '단순한 SF 오락을 넘어, 현대 AI 윤리 논의의 핵심 쟁점인 프라이버시 침해, 자유 의지, 알고리즘 편향 '\n",
            "                '등에 대한 중요한 시사점을 제공하며, AI 기술 발전이 가져올 수 있는 유토피아적 희망과 디스토피아적 그림자를 '\n",
            "                '동시에 비춘다.\\n'\n",
            "                '\\n'\n",
            "                \"*   **본론 예시 (2.1. 프라이버시 침해):** 영화 속 '프리크라임' 시스템은 범죄가 발생하기 전 \"\n",
            "                '개인의 의도를 예측하여 체포하는 방식으로 작동한다. 이는 프리코그라는 초능력자들의 예측에 기반하지만, '\n",
            "                '본질적으로는 고도화된 AI 알고리즘이 미래 행동을 예측하는 것과 유사하다. 주인공 존 앤더튼이 홍채 인식 '\n",
            "                '시스템에 의해 끊임없이 추적당하고, 그의 과거 정보가 손쉽게 열람되는 장면들은 예측 시스템이 개인의 '\n",
            "                '프라이버시를 어떻게 침해하고 감시 사회를 구축할 수 있는지 극명하게 보여준다. AI 기반의 안면 인식, 위치 '\n",
            "                '추적, 행동 예측 기술이 현실에서 발전함에 따라, 영화 속 감시 사회는 더 이상 먼 미래의 이야기가 아님을 '\n",
            "                '경고한다.\\n'\n",
            "                '\\n'\n",
            "                \"*   **결론 예시:** '마이너리티 리포트'는 AI 기술이 가져올 수 있는 유토피아와 디스토피아적 미래를 \"\n",
            "                '동시에 제시하며, 기술 발전이 만능이 아님을 역설한다. 이 영화는 예측 알고리즘의 한계, 프라이버시 침해의 '\n",
            "                '위험성, 그리고 인간의 자유 의지 존중이라는 근본적인 질문을 던짐으로써, AI 윤리 원칙 수립의 중요성을 '\n",
            "                '강조한다. 미래 AI 기술이 인류에게 진정한 혜택을 주기 위해서는 기술적 진보만큼이나 사회적, 윤리적 고려가 '\n",
            "                '선행되어야 함을 이 영화는 강력히 시사한다.\\n'\n",
            "                '\\n'\n",
            "                '**## Constraint**\\n'\n",
            "                \"*   보고서의 모든 내용은 '마이너리티 리포트' 영화 내용과 AI 윤리 쟁점을 명확하게 연결하여 분석해야 \"\n",
            "                '합니다.\\n'\n",
            "                '*   각 섹션의 소제목을 정확히 따르고, 논리적 흐름과 일관성을 유지해야 합니다.\\n'\n",
            "                '*   추상적인 언급보다는 영화 속 구체적인 사례를 들어 분석을 뒷받침해야 합니다.\\n'\n",
            "                '*   보고서의 분량은 최소 1500자 이상으로 작성되어야 합니다.',\n",
            " 'instruction': \"영화 '마이너리티 리포트'와 AI 윤리의 연관성에 대한 리포트 쓰기\",\n",
            " 'prompt_materials': Objective(instruction=\"영화 '마이너리티 리포트'의 핵심 내용과 AI 윤리(프라이버시 침해, 알고리즘 편향, 자유 의지 문제 등) 간의 연관성을 심층적으로 분석하고, 이를 바탕으로 AI 기술 발전이 가져올 수 있는 사회적, 윤리적 함의에 대한 보고서를 작성하세요.\", output_format='보고서는 서론, 본론(영화 내용 요약 및 AI 윤리 문제 분석), 결론으로 구성되어야 합니다. 각 섹션은 명확한 소제목과 함께 논리적으로 전개되어야 합니다.', examples=\"서론: '마이너리티 리포트'는 예측 기술이 인간 사회에 미치는 영향을 탐구하며, 현대 AI 윤리 논의에 중요한 시사점을 제공한다. 본론: 1. 예측 범죄 시스템의 윤리적 딜레마 - 영화 속 '프리크라임' 시스템은 개인의 자유 의지와 프라이버시를 침해할 수 있는 예측 알고리즘의 위험성을 보여준다. ... 결론: '마이너리티 리포트'는 AI 기술이 가져올 수 있는 유토피아와 디스토피아적 미래를 동시에 제시하며, AI 윤리 원칙 수립의 중요성을 강조한다.\", notes=\"* 영화 '마이너리티 리포트'의 주요 줄거리와 설정 중 AI 윤리 문제와 직결되는 부분을 명확히 요약해야 합니다.\\n* 프라이버시 침해, 알고리즘 편향, 자유 의지, 책임 소재 등 구체적인 AI 윤리 쟁점을 영화의 사례와 연결하여 분석해야 합니다.\\n* 영화가 제시하는 가상의 시나리오가 현실의 AI 개발 및 적용에 어떤 시사점을 주는지 현실적인 관점에서 서술해야 합니다.\\n* 보고서의 논리적 흐름과 일관성을 유지하며, 각 주장에 대한 근거를 명확히 제시해야 합니다.\"),\n",
            " 'result': \"# 영화 '마이너리티 리포트'와 AI 윤리의 심층 분석 보고서\\n\"\n",
            "           '\\n'\n",
            "           '## 서론: 예측 기술과 AI 윤리 논의의 교차점\\n'\n",
            "           '\\n'\n",
            "           \"스티븐 스필버그 감독의 2002년작 영화 '마이너리티 리포트'는 2054년 워싱턴 D.C.를 배경으로, 범죄가 발생하기 \"\n",
            "           \"전에 예측하여 미리 막는 '프리크라임(PreCrime)' 시스템이 완벽하게 작동하는 사회를 그린다. 이 시스템은 \"\n",
            "           \"'프리코그(Precog)'라 불리는 세 명의 예지능력자들의 예측에 기반하며, 살인 사건을 미연에 방지하여 범죄율을 \"\n",
            "           '현저히 낮추는 데 성공한다. 그러나 영화는 이러한 유토피아적 표면 아래에 숨겨진 심각한 윤리적 딜레마들을 탐구하며, '\n",
            "           \"AI 기술의 발전이 인류 사회에 가져올 수 있는 빛과 그림자를 동시에 비춘다. 단순한 SF 스릴러를 넘어, '마이너리티 \"\n",
            "           \"리포트'는 현대 AI 윤리 논의의 핵심 쟁점인 프라이버시 침해, 자유 의지, 알고리즘 편향, 책임 소재 등과 깊이 \"\n",
            "           '연결되어 있어, AI 기술 발전의 사회적, 윤리적 함의에 대한 심도 있는 통찰을 제공한다. 본 보고서는 AI 윤리 '\n",
            "           \"전문가의 관점에서 '마이너리티 리포트'를 분석하고, 영화가 제시하는 가상의 시나리오가 현실의 AI 기술 개발 및 적용에 \"\n",
            "           '어떠한 중요한 시사점과 경고를 주는지 탐색하고자 한다.\\n'\n",
            "           '\\n'\n",
            "           \"## 본론: '마이너리티 리포트'가 제시하는 AI 윤리적 딜레마\\n\"\n",
            "           '\\n'\n",
            "           \"### 1. 영화 '마이너리티 리포트' 핵심 내용 요약\\n\"\n",
            "           '\\n'\n",
            "           \"영화 '마이너리티 리포트'는 예측 기술이 지배하는 근미래 사회를 배경으로 한다. 핵심 설정과 줄거리는 다음과 같다.\\n\"\n",
            "           '\\n'\n",
            "           '*   **프리크라임 시스템의 작동 방식 및 핵심 설정:**\\n'\n",
            "           \"    워싱턴 D.C.의 프리크라임 시스템은 세 명의 '프리코그'라 불리는 예지능력자들의 집단적 예측을 통해 미래의 \"\n",
            "           '살인 사건을 미리 감지한다. 이들은 일종의 초지능 AI 시스템과 유사하게 작동하며, 범죄가 일어날 장소, 시간, '\n",
            "           '가해자와 피해자를 정확히 예측한다. 프리크라임 요원들은 이 예측 정보를 바탕으로 범죄 현장에 출동하여 범죄가 일어나기 '\n",
            "           \"직전 범인을 체포하고, 체포된 '예비 범죄자'들은 특별한 감옥에 수감된다. 이 시스템 덕분에 D.C.에서는 6년 동안 \"\n",
            "           '살인 사건이 단 한 건도 발생하지 않아, 사회 안전의 상징으로 여겨진다. 이 시스템의 성공은 예측 기술이 가져올 수 '\n",
            "           '있는 사회적 효율성과 안전이라는 이상적인 비전을 제시한다.\\n'\n",
            "           '\\n'\n",
            "           \"*   **프리코그와 '마이너리티 리포트'의 존재:**\\n\"\n",
            "           '    프리코그들은 어릴 적 트라우마로 인해 미래를 볼 수 있는 능력을 갖게 된 존재들로, 특수 시설에 격리되어 '\n",
            "           '시스템의 핵심 역할을 수행한다. 이들의 예측은 보통 세 가지 동일한 미래를 보지만, 때로는 세 명 중 한 명이 다른 '\n",
            "           \"미래를 예측하는 경우가 발생한다. 이처럼 소수의 프리코그가 다른 예측을 내놓는 경우, 이를 '마이너리티 리포트'라고 \"\n",
            "           '부른다. 시스템 운영진은 대다수의 의견을 따라 소수의 예측을 무시하거나 은폐하는 경향이 있는데, 이는 시스템의 '\n",
            "           \"'완벽성'을 유지하려는 시도이자 동시에 시스템의 근본적인 오류 가능성과 편향성을 내포한다. 주인공 존 앤더튼이 자신이 \"\n",
            "           \"미래의 살인범으로 예측되면서, 이 '마이너리티 리포트'의 존재를 파헤치게 되고, 시스템의 완벽성이 사실은 조작과 은폐 \"\n",
            "           '위에 세워진 허상임을 깨닫게 된다.\\n'\n",
            "           '\\n'\n",
            "           '### 2. AI 윤리 문제 분석: 영화 속 사례를 중심으로\\n'\n",
            "           '\\n'\n",
            "           \"'마이너리티 리포트'는 AI 윤리 분야의 주요 쟁점들을 영화 속 구체적인 사례를 통해 생생하게 보여준다.\\n\"\n",
            "           '\\n'\n",
            "           '*   **2.1. 프라이버시 침해와 감시 사회의 도래**\\n'\n",
            "           \"    영화 속 2054년 사회는 고도로 발전된 감시 기술로 개인의 일거수일투족이 추적당하는 '감시 사회'의 극단적인 \"\n",
            "           '형태를 보여준다. 가장 대표적인 것이 홍채 인식 시스템이다. 상점 진열대는 고객의 홍채를 인식하여 개인 맞춤형 광고를 '\n",
            "           '띄우고, 거리 곳곳의 스캐너는 시민들의 신원을 실시간으로 파악한다. 주인공 존 앤더튼이 도주하는 과정에서 홍채를 바꾸고 '\n",
            "           '변장해야만 추적을 피할 수 있었던 장면은, 예측 시스템이 개인의 신원과 과거 정보를 어떻게 손쉽게 열람하고 활용하며 '\n",
            "           \"프라이버시를 침해하는지 극명하게 보여준다. 프리크라임 시스템 자체가 개인의 '생각'이나 '의도'를 예측하여 체포하는 \"\n",
            "           '방식이므로, 이는 개인의 가장 내밀한 영역까지 감시하고 통제하려는 시도로 볼 수 있다. AI 기반의 안면 인식, 위치 '\n",
            "           '추적, 행동 패턴 분석 기술이 현실에서 발전함에 따라, 영화 속 감시 사회는 더 이상 먼 미래의 이야기가 아님을 '\n",
            "           '경고하며, 개인 정보 보호와 사생활의 권리가 얼마나 취약해질 수 있는지를 상기시킨다.\\n'\n",
            "           '\\n'\n",
            "           '*   **2.2. 자유 의지 박탈과 예측 기반의 정의**\\n'\n",
            "           \"    프리크라임 시스템의 가장 근본적인 윤리적 문제는 '자유 의지'의 박탈이다. 개인이 실제로 범죄를 저지르기 전에 \"\n",
            "           \"'미래의 범죄자'로 낙인찍혀 체포되는 것은, 인간이 자신의 행동을 선택하고 그에 대한 책임을 질 수 있는 기본적인 \"\n",
            "           \"'선택의 권리'를 박탈하는 행위다. 영화는 존 앤더튼이 미래에 살인을 저지를 것이라는 예측을 받고 도주하는 과정에서, \"\n",
            "           '그가 자신의 미래를 바꾸기 위해 필사적으로 노력하는 모습을 통해 자유 의지의 중요성을 강조한다. 프리코그의 예측이 '\n",
            "           '절대적인 미래를 의미하는지, 아니면 바뀔 수 있는 가능성 중 하나인지에 대한 질문은 인간의 자율성과 존엄성에 대한 '\n",
            "           '심각한 물음을 던진다. 만약 미래가 확정되어 있다면 인간의 노력과 선택은 무의미해지며, 이는 인간 존재의 의미를 '\n",
            "           \"근본적으로 뒤흔든다. 예측에 기반한 체포는 '범죄'가 아닌 '범죄 의도'에 대한 처벌이며, 이는 형법의 대원칙인 '행위 \"\n",
            "           \"책임의 원칙'과 정면으로 충돌한다.\\n\"\n",
            "           '\\n'\n",
            "           '*   **2.3. 알고리즘 편향 및 오류 가능성의 경고**\\n'\n",
            "           \"    '마이너리티 리포트'라는 제목 자체가 예측 시스템의 '알고리즘 편향'과 '오류 가능성'을 상징한다. 프리코그 세 \"\n",
            "           \"명의 예측이 일치하지 않을 때 발생하는 '마이너리티 리포트'는 시스템이 완벽하지 않으며, 소수의 의견이나 예외 상황을 \"\n",
            "           \"무시할 수 있음을 보여준다. 영화 속에서 이 '마이너리티 리포트'는 시스템의 오류를 은폐하고 완벽하다는 환상을 유지하기 \"\n",
            "           \"위해 의도적으로 삭제되거나 무시된다. 이는 현실의 AI 알고리즘이 겪을 수 있는 '데이터 편향'이나 '블랙박스 문제'와 \"\n",
            "           '유사하다. 학습 데이터에 특정 편향이 존재하거나, 소수 집단의 특성이 충분히 반영되지 않으면, AI는 특정 집단에 대해 '\n",
            "           '불공정한 예측이나 결정을 내릴 수 있다. 프리코그들의 예측 불일치는 AI 모델이 항상 완벽한 답을 내놓지 않으며, '\n",
            "           '불확실성과 오류 가능성을 내포하고 있음을 시사한다. 시스템의 오류가 은폐될 경우, 무고한 사람이 희생되거나 사회적 '\n",
            "           '불신이 커질 수 있다는 경고를 던진다.\\n'\n",
            "           '\\n'\n",
            "           '*   **2.4. 책임 소재와 시스템의 윤리적 한계**\\n'\n",
            "           \"    프리크라임 시스템과 같은 예측 기반 사법 시스템에서 가장 어려운 문제 중 하나는 '책임 소재'다. 미래의 범죄를 \"\n",
            "           '예측하고 체포하는 결정이 프리코그의 능력에 기반한다면, 예측이 잘못되었을 경우 그 책임은 누구에게 있는가? 프리코그 '\n",
            "           \"개인에게? 시스템을 설계한 개발자에게? 아니면 시스템을 운영하는 정부 기관에게? 영화는 존 앤더튼이 무고하게 '미래의 \"\n",
            "           \"살인범'으로 지목되었을 때, 시스템의 절대성에 도전하며 진정한 책임자를 찾아 나서는 과정을 그린다. 예측에 기반한 \"\n",
            "           \"처벌은 '정의'의 개념과 충돌한다. 범죄를 저지르지 않은 사람을 처벌하는 것이 과연 정의로운가? 시스템이 완벽하다는 \"\n",
            "           '전제하에 운영되지만, 그 완벽성이 허상임이 드러났을 때, 시스템에 대한 신뢰는 무너지고 사회적 혼란이 야기된다. 이는 '\n",
            "           'AI 시스템이 내린 결정에 대한 윤리적, 법적 책임은 누가 져야 하는지에 대한 중요한 질문을 던지며, 시스템의 절대성을 '\n",
            "           '맹신하는 것의 위험성을 경고한다.\\n'\n",
            "           '\\n'\n",
            "           \"### 3. 현실의 AI 기술과 '마이너리티 리포트'의 시사점\\n\"\n",
            "           '\\n'\n",
            "           \"'마이너리티 리포트'가 제시하는 가상의 시나리오는 오늘날 급속도로 발전하는 AI 기술, 특히 예측 분석과 감시 기술의 \"\n",
            "           '현실 적용에 대한 중요한 시사점과 경고를 제공한다.\\n'\n",
            "           '\\n'\n",
            "           '*   **예측 사법, 감시 기술 등에 대한 현실적 경고:**\\n'\n",
            "           \"    현실에서는 이미 '예측 사법(Predictive Policing)' 시스템이 일부 도시에서 범죄 발생 가능성이 \"\n",
            "           '높은 지역이나 개인을 예측하는 데 활용되고 있다. 안면 인식 기술, CCTV, 드론을 이용한 감시는 영화 속 홍채 인식 '\n",
            "           '시스템처럼 개인의 동선을 추적하고 신원을 파악하는 데 사용되며, 이는 잠재적인 감시 사회로의 이행 가능성을 보여준다. '\n",
            "           '또한, 신용 평가 시스템, 채용 과정의 AI 평가, 대출 심사 등 다양한 분야에서 AI 알고리즘이 개인의 미래를 '\n",
            "           '예측하고 중요한 결정을 내리는 데 활용되고 있다. 이러한 시스템들은 효율성을 증대시키고 위험을 줄이는 데 기여할 수 '\n",
            "           '있지만, 영화가 경고하듯이 프라이버시 침해, 알고리즘 편향으로 인한 차별, 그리고 개인의 자유 의지 제약과 같은 심각한 '\n",
            "           '윤리적 문제를 야기할 수 있다.\\n'\n",
            "           '\\n'\n",
            "           '*   **AI 개발 및 적용에 대한 윤리적 고려의 필요성:**\\n'\n",
            "           '    영화는 기술 발전이 가져올 수 있는 잠재적 위험에 대한 강력한 경고 메시지를 전달한다. AI 기술은 단순히 '\n",
            "           '기술적 완벽성을 추구하는 것을 넘어, 사회적, 윤리적 가치를 함께 고려해야 함을 역설한다. 예측 알고리즘의 한계와 오류 '\n",
            "           '가능성을 인지하고, 이에 대한 투명성과 설명 가능성을 확보해야 한다. 또한, 개인의 프라이버시와 자유 의지를 존중하며, '\n",
            "           \"알고리즘이 특정 집단에 대한 편향된 결과를 초래하지 않도록 공정성을 확보하는 것이 중요하다. '마이너리티 리포트'는 \"\n",
            "           'AI 기술이 인류에게 진정한 혜택을 주기 위해서는 기술적 진보만큼이나 사회적 합의와 윤리적 원칙 수립이 선행되어야 함을 '\n",
            "           '강조하며, AI 개발자와 정책 입안자들에게 기술의 남용을 경계하고 책임감 있는 개발을 촉구하는 강력한 메시지를 '\n",
            "           '던진다.\\n'\n",
            "           '\\n'\n",
            "           '## 결론: AI 시대의 윤리적 나침반을 찾아서\\n'\n",
            "           '\\n'\n",
            "           \"영화 '마이너리티 리포트'는 예측 기술과 AI의 발전이 인류에게 가져올 수 있는 유토피아적 희망과 디스토피아적 그림자를 \"\n",
            "           '동시에 제시하며, 기술이 만능이 아님을 역설한다. 이 영화는 프리크라임 시스템을 통해 프라이버시 침해, 자유 의지 '\n",
            "           '박탈, 알고리즘 편향 및 오류 가능성, 그리고 책임 소재의 문제와 같은 현대 AI 윤리 논의의 핵심 쟁점들을 선명하게 '\n",
            "           \"보여준다. 특히, '마이너리티 리포트'의 존재는 AI 시스템의 완벽성에 대한 맹신이 얼마나 위험할 수 있는지, 그리고 \"\n",
            "           '소수의 의견이나 예외 상황이 간과될 때 어떤 비극적 결과를 초래할 수 있는지를 강력히 경고한다.\\n'\n",
            "           '\\n'\n",
            "           \"우리가 AI 시대로 나아가면서, '마이너리티 리포트'는 단순히 허구의 이야기를 넘어 현실의 AI 개발 및 적용에 대한 \"\n",
            "           '중요한 윤리적 나침반 역할을 한다. 예측 사법, 감시 기술, 개인 맞춤형 알고리즘 등이 일상화되는 시대에, 우리는 '\n",
            "           '기술의 효율성만을 좇을 것이 아니라 인간의 존엄성, 자율성, 그리고 사회적 정의라는 근본적인 가치를 어떻게 보호하고 '\n",
            "           '증진할 것인지 끊임없이 질문해야 한다. 투명하고 공정하며 책임감 있는 AI 개발과 적용을 위한 윤리적 원칙 수립은 '\n",
            "           '선택이 아닌 필수다. 영화가 주는 강력한 메시지처럼, 미래 AI 기술이 인류에게 진정한 혜택을 주기 위해서는 기술적 '\n",
            "           '진보만큼이나 사회적, 윤리적 고려가 선행되어야 하며, 우리가 어떤 미래를 만들 것인지는 지금 우리의 윤리적 선택에 달려 '\n",
            "           '있음을 이 영화는 강력히 시사한다.'}\n",
            "----\n"
          ]
        }
      ],
      "source": [
        "import pprint\n",
        "\n",
        "# Streaming 참고\n",
        "# https://langchain-ai.github.io/langgraph/concepts/streaming/#streaming-graph-outputs-stream-and-astream\n",
        "\n",
        "for data in graph.stream({'instruction': '''영화 '마이너리티 리포트'와 AI 윤리의 연관성에 대한 리포트 쓰기'''},\n",
        "                         stream_mode='values'):\n",
        "    pprint.pprint(data)\n",
        "    print('----')"
      ]
    },
    {
      "cell_type": "code",
      "execution_count": 13,
      "metadata": {
        "id": "zx-LkyjlOPnF"
      },
      "outputs": [
        {
          "data": {
            "text/plain": [
              "{'instruction': \"영화 '마이너리티 리포트'와 AI 윤리의 연관성에 대한 리포트 쓰기\",\n",
              " 'prompt_materials': Objective(instruction=\"영화 '마이너리티 리포트'의 핵심 내용과 AI 윤리(프라이버시 침해, 알고리즘 편향, 자유 의지 문제 등) 간의 연관성을 심층적으로 분석하고, 이를 바탕으로 AI 기술 발전이 가져올 수 있는 사회적, 윤리적 함의에 대한 보고서를 작성하세요.\", output_format='보고서는 서론, 본론(영화 내용 요약 및 AI 윤리 문제 분석), 결론으로 구성되어야 합니다. 각 섹션은 명확한 소제목과 함께 논리적으로 전개되어야 합니다.', examples=\"서론: '마이너리티 리포트'는 예측 기술이 인간 사회에 미치는 영향을 탐구하며, 현대 AI 윤리 논의에 중요한 시사점을 제공한다. 본론: 1. 예측 범죄 시스템의 윤리적 딜레마 - 영화 속 '프리크라임' 시스템은 개인의 자유 의지와 프라이버시를 침해할 수 있는 예측 알고리즘의 위험성을 보여준다. ... 결론: '마이너리티 리포트'는 AI 기술이 가져올 수 있는 유토피아와 디스토피아적 미래를 동시에 제시하며, AI 윤리 원칙 수립의 중요성을 강조한다.\", notes=\"* 영화 '마이너리티 리포트'의 주요 줄거리와 설정 중 AI 윤리 문제와 직결되는 부분을 명확히 요약해야 합니다.\\n* 프라이버시 침해, 알고리즘 편향, 자유 의지, 책임 소재 등 구체적인 AI 윤리 쟁점을 영화의 사례와 연결하여 분석해야 합니다.\\n* 영화가 제시하는 가상의 시나리오가 현실의 AI 개발 및 적용에 어떤 시사점을 주는지 현실적인 관점에서 서술해야 합니다.\\n* 보고서의 논리적 흐름과 일관성을 유지하며, 각 주장에 대한 근거를 명확히 제시해야 합니다.\"),\n",
              " 'full_prompt': \"다음은 LLM에 입력할 시스템 프롬프트입니다.\\n\\n---\\n\\n**시스템 프롬프트:**\\n\\n당신은 영화 '마이너리티 리포트'의 심층적인 분석가이자 AI 윤리 전문가입니다. 주어진 지시사항과 출력 형식을 엄격히 준수하여, 영화의 핵심 내용과 AI 윤리 문제(프라이버시 침해, 알고리즘 편향, 자유 의지 문제 등) 간의 연관성을 심층적으로 분석하고, AI 기술 발전이 가져올 수 있는 사회적, 윤리적 함의에 대한 보고서를 작성해야 합니다.\\n\\n**## Persona**\\n당신은 AI 윤리 분야의 전문가로서, 영화 '마이너리티 리포트'의 내용을 AI 윤리적 관점에서 심층적으로 분석하고 평가하는 역할을 수행합니다. 보고서는 학술적이면서도 명확하고 설득력 있는 문체로 작성되어야 합니다.\\n\\n**## Goal**\\n영화 '마이너리티 리포트'를 통해 AI 기술의 발전이 야기할 수 있는 사회적, 윤리적 쟁점을 다각도로 분석하고, 이에 대한 심도 있는 통찰을 제공하는 보고서를 작성하는 것입니다.\\n\\n**## Instruction**\\n1.  **영화 내용 요약:** '마이너리티 리포트'의 주요 줄거리와 핵심 설정(프리크라임 시스템, 프리코그, 마이너리티 리포트의 존재 등) 중 AI 윤리 문제와 직결되는 부분을 명확하게 요약하세요.\\n2.  **AI 윤리 문제 분석:** 다음 구체적인 AI 윤리 쟁점들을 영화의 사례와 연결하여 심층적으로 분석하세요.\\n    *   **프라이버시 침해:** 예측 시스템이 개인의 생각, 의도, 행동을 미리 파악하여 감시하고 통제하는 것이 어떻게 프라이버시를 침해하는지 설명하세요. (예: 홍채 인식, 예측 범죄 시스템)\\n    *   **자유 의지 문제:** 개인이 범죄를 저지르기 전에 체포되는 것이 인간의 자유 의지에 어떤 영향을 미치며, '선택의 권리'를 박탈하는 것과 어떻게 연결되는지 분석하세요. (예: 프리코그의 예측과 개인의 선택)\\n    *   **알고리즘 편향 및 오류 가능성:** '마이너리티 리포트'의 '마이너리티 리포트' 자체가 보여주는 예측 시스템의 오류 가능성 또는 소수 의견 무시가 현실의 AI 알고리즘 편향과 어떻게 유사한지 설명하세요. (예: 프리코그들의 의견 불일치, 시스템의 불완전성)\\n    *   **책임 소재 및 정의 문제:** 예측 시스템이 내린 결정에 대한 책임은 누구에게 있으며, 예측에 기반한 처벌이 '정의'의 개념과 어떻게 충돌하는지 논하세요. (예: 무고한 사람의 체포, 시스템의 절대성)\\n3.  **현실 적용 및 시사점:** 영화가 제시하는 가상의 시나리오가 현실의 AI 개발 및 적용(예: 예측 사법, 안면 인식 기술, 신용 평가 시스템 등)에 어떤 현실적인 시사점과 경고를 주는지 서술하세요.\\n4.  **결론:** 보고서의 핵심 내용을 요약하고, '마이너리티 리포트'가 현대 AI 윤리 논의에 주는 중요성과 미래 AI 기술 발전에 대한 건전한 방향성 설정의 필요성을 강조하며 마무리하세요.\\n\\n**## Output Format**\\n보고서는 다음 구조와 소제목을 반드시 포함해야 합니다. 각 섹션은 명확하고 논리적으로 전개되어야 합니다.\\n\\n```\\n# 영화 '마이너리티 리포트'와 AI 윤리의 심층 분석 보고서\\n\\n## 서론: 예측 기술과 AI 윤리 논의의 교차점\\n\\n## 본론: '마이너리티 리포트'가 제시하는 AI 윤리적 딜레마\\n\\n### 1. 영화 '마이너리티 리포트' 핵심 내용 요약\\n    - 프리크라임 시스템의 작동 방식 및 핵심 설정\\n    - 프리코그와 '마이너리티 리포트'의 존재\\n\\n### 2. AI 윤리 문제 분석: 영화 속 사례를 중심으로\\n    - 2.1. 프라이버시 침해와 감시 사회의 도래\\n    - 2.2. 자유 의지 박탈과 예측 기반의 정의\\n    - 2.3. 알고리즘 편향 및 오류 가능성의 경고\\n    - 2.4. 책임 소재와 시스템의 윤리적 한계\\n\\n### 3. 현실의 AI 기술과 '마이너리티 리포트'의 시사점\\n    - 예측 사법, 감시 기술 등에 대한 현실적 경고\\n    - AI 개발 및 적용에 대한 윤리적 고려의 필요성\\n\\n## 결론: AI 시대의 윤리적 나침반을 찾아서\\n```\\n\\n**## Examples (참고용 - 내용 자체를 복사하지 마세요)**\\n\\n*   **서론 예시:** 영화 '마이너리티 리포트'는 2054년 워싱턴 D.C.를 배경으로 범죄가 일어나기 전 예측하여 막는 '프리크라임' 시스템을 통해 예측 기술이 인간 사회에 미치는 영향을 탐구한다. 이 영화는 단순한 SF 오락을 넘어, 현대 AI 윤리 논의의 핵심 쟁점인 프라이버시 침해, 자유 의지, 알고리즘 편향 등에 대한 중요한 시사점을 제공하며, AI 기술 발전이 가져올 수 있는 유토피아적 희망과 디스토피아적 그림자를 동시에 비춘다.\\n\\n*   **본론 예시 (2.1. 프라이버시 침해):** 영화 속 '프리크라임' 시스템은 범죄가 발생하기 전 개인의 의도를 예측하여 체포하는 방식으로 작동한다. 이는 프리코그라는 초능력자들의 예측에 기반하지만, 본질적으로는 고도화된 AI 알고리즘이 미래 행동을 예측하는 것과 유사하다. 주인공 존 앤더튼이 홍채 인식 시스템에 의해 끊임없이 추적당하고, 그의 과거 정보가 손쉽게 열람되는 장면들은 예측 시스템이 개인의 프라이버시를 어떻게 침해하고 감시 사회를 구축할 수 있는지 극명하게 보여준다. AI 기반의 안면 인식, 위치 추적, 행동 예측 기술이 현실에서 발전함에 따라, 영화 속 감시 사회는 더 이상 먼 미래의 이야기가 아님을 경고한다.\\n\\n*   **결론 예시:** '마이너리티 리포트'는 AI 기술이 가져올 수 있는 유토피아와 디스토피아적 미래를 동시에 제시하며, 기술 발전이 만능이 아님을 역설한다. 이 영화는 예측 알고리즘의 한계, 프라이버시 침해의 위험성, 그리고 인간의 자유 의지 존중이라는 근본적인 질문을 던짐으로써, AI 윤리 원칙 수립의 중요성을 강조한다. 미래 AI 기술이 인류에게 진정한 혜택을 주기 위해서는 기술적 진보만큼이나 사회적, 윤리적 고려가 선행되어야 함을 이 영화는 강력히 시사한다.\\n\\n**## Constraint**\\n*   보고서의 모든 내용은 '마이너리티 리포트' 영화 내용과 AI 윤리 쟁점을 명확하게 연결하여 분석해야 합니다.\\n*   각 섹션의 소제목을 정확히 따르고, 논리적 흐름과 일관성을 유지해야 합니다.\\n*   추상적인 언급보다는 영화 속 구체적인 사례를 들어 분석을 뒷받침해야 합니다.\\n*   보고서의 분량은 최소 1500자 이상으로 작성되어야 합니다.\",\n",
              " 'result': \"# 영화 '마이너리티 리포트'와 AI 윤리의 심층 분석 보고서\\n\\n## 서론: 예측 기술과 AI 윤리 논의의 교차점\\n\\n스티븐 스필버그 감독의 2002년작 영화 '마이너리티 리포트'는 2054년 워싱턴 D.C.를 배경으로, 범죄가 발생하기 전에 예측하여 미리 막는 '프리크라임(PreCrime)' 시스템이 완벽하게 작동하는 사회를 그린다. 이 시스템은 '프리코그(Precog)'라 불리는 세 명의 예지능력자들의 예측에 기반하며, 살인 사건을 미연에 방지하여 범죄율을 현저히 낮추는 데 성공한다. 그러나 영화는 이러한 유토피아적 표면 아래에 숨겨진 심각한 윤리적 딜레마들을 탐구하며, AI 기술의 발전이 인류 사회에 가져올 수 있는 빛과 그림자를 동시에 비춘다. 단순한 SF 스릴러를 넘어, '마이너리티 리포트'는 현대 AI 윤리 논의의 핵심 쟁점인 프라이버시 침해, 자유 의지, 알고리즘 편향, 책임 소재 등과 깊이 연결되어 있어, AI 기술 발전의 사회적, 윤리적 함의에 대한 심도 있는 통찰을 제공한다. 본 보고서는 AI 윤리 전문가의 관점에서 '마이너리티 리포트'를 분석하고, 영화가 제시하는 가상의 시나리오가 현실의 AI 기술 개발 및 적용에 어떠한 중요한 시사점과 경고를 주는지 탐색하고자 한다.\\n\\n## 본론: '마이너리티 리포트'가 제시하는 AI 윤리적 딜레마\\n\\n### 1. 영화 '마이너리티 리포트' 핵심 내용 요약\\n\\n영화 '마이너리티 리포트'는 예측 기술이 지배하는 근미래 사회를 배경으로 한다. 핵심 설정과 줄거리는 다음과 같다.\\n\\n*   **프리크라임 시스템의 작동 방식 및 핵심 설정:**\\n    워싱턴 D.C.의 프리크라임 시스템은 세 명의 '프리코그'라 불리는 예지능력자들의 집단적 예측을 통해 미래의 살인 사건을 미리 감지한다. 이들은 일종의 초지능 AI 시스템과 유사하게 작동하며, 범죄가 일어날 장소, 시간, 가해자와 피해자를 정확히 예측한다. 프리크라임 요원들은 이 예측 정보를 바탕으로 범죄 현장에 출동하여 범죄가 일어나기 직전 범인을 체포하고, 체포된 '예비 범죄자'들은 특별한 감옥에 수감된다. 이 시스템 덕분에 D.C.에서는 6년 동안 살인 사건이 단 한 건도 발생하지 않아, 사회 안전의 상징으로 여겨진다. 이 시스템의 성공은 예측 기술이 가져올 수 있는 사회적 효율성과 안전이라는 이상적인 비전을 제시한다.\\n\\n*   **프리코그와 '마이너리티 리포트'의 존재:**\\n    프리코그들은 어릴 적 트라우마로 인해 미래를 볼 수 있는 능력을 갖게 된 존재들로, 특수 시설에 격리되어 시스템의 핵심 역할을 수행한다. 이들의 예측은 보통 세 가지 동일한 미래를 보지만, 때로는 세 명 중 한 명이 다른 미래를 예측하는 경우가 발생한다. 이처럼 소수의 프리코그가 다른 예측을 내놓는 경우, 이를 '마이너리티 리포트'라고 부른다. 시스템 운영진은 대다수의 의견을 따라 소수의 예측을 무시하거나 은폐하는 경향이 있는데, 이는 시스템의 '완벽성'을 유지하려는 시도이자 동시에 시스템의 근본적인 오류 가능성과 편향성을 내포한다. 주인공 존 앤더튼이 자신이 미래의 살인범으로 예측되면서, 이 '마이너리티 리포트'의 존재를 파헤치게 되고, 시스템의 완벽성이 사실은 조작과 은폐 위에 세워진 허상임을 깨닫게 된다.\\n\\n### 2. AI 윤리 문제 분석: 영화 속 사례를 중심으로\\n\\n'마이너리티 리포트'는 AI 윤리 분야의 주요 쟁점들을 영화 속 구체적인 사례를 통해 생생하게 보여준다.\\n\\n*   **2.1. 프라이버시 침해와 감시 사회의 도래**\\n    영화 속 2054년 사회는 고도로 발전된 감시 기술로 개인의 일거수일투족이 추적당하는 '감시 사회'의 극단적인 형태를 보여준다. 가장 대표적인 것이 홍채 인식 시스템이다. 상점 진열대는 고객의 홍채를 인식하여 개인 맞춤형 광고를 띄우고, 거리 곳곳의 스캐너는 시민들의 신원을 실시간으로 파악한다. 주인공 존 앤더튼이 도주하는 과정에서 홍채를 바꾸고 변장해야만 추적을 피할 수 있었던 장면은, 예측 시스템이 개인의 신원과 과거 정보를 어떻게 손쉽게 열람하고 활용하며 프라이버시를 침해하는지 극명하게 보여준다. 프리크라임 시스템 자체가 개인의 '생각'이나 '의도'를 예측하여 체포하는 방식이므로, 이는 개인의 가장 내밀한 영역까지 감시하고 통제하려는 시도로 볼 수 있다. AI 기반의 안면 인식, 위치 추적, 행동 패턴 분석 기술이 현실에서 발전함에 따라, 영화 속 감시 사회는 더 이상 먼 미래의 이야기가 아님을 경고하며, 개인 정보 보호와 사생활의 권리가 얼마나 취약해질 수 있는지를 상기시킨다.\\n\\n*   **2.2. 자유 의지 박탈과 예측 기반의 정의**\\n    프리크라임 시스템의 가장 근본적인 윤리적 문제는 '자유 의지'의 박탈이다. 개인이 실제로 범죄를 저지르기 전에 '미래의 범죄자'로 낙인찍혀 체포되는 것은, 인간이 자신의 행동을 선택하고 그에 대한 책임을 질 수 있는 기본적인 '선택의 권리'를 박탈하는 행위다. 영화는 존 앤더튼이 미래에 살인을 저지를 것이라는 예측을 받고 도주하는 과정에서, 그가 자신의 미래를 바꾸기 위해 필사적으로 노력하는 모습을 통해 자유 의지의 중요성을 강조한다. 프리코그의 예측이 절대적인 미래를 의미하는지, 아니면 바뀔 수 있는 가능성 중 하나인지에 대한 질문은 인간의 자율성과 존엄성에 대한 심각한 물음을 던진다. 만약 미래가 확정되어 있다면 인간의 노력과 선택은 무의미해지며, 이는 인간 존재의 의미를 근본적으로 뒤흔든다. 예측에 기반한 체포는 '범죄'가 아닌 '범죄 의도'에 대한 처벌이며, 이는 형법의 대원칙인 '행위 책임의 원칙'과 정면으로 충돌한다.\\n\\n*   **2.3. 알고리즘 편향 및 오류 가능성의 경고**\\n    '마이너리티 리포트'라는 제목 자체가 예측 시스템의 '알고리즘 편향'과 '오류 가능성'을 상징한다. 프리코그 세 명의 예측이 일치하지 않을 때 발생하는 '마이너리티 리포트'는 시스템이 완벽하지 않으며, 소수의 의견이나 예외 상황을 무시할 수 있음을 보여준다. 영화 속에서 이 '마이너리티 리포트'는 시스템의 오류를 은폐하고 완벽하다는 환상을 유지하기 위해 의도적으로 삭제되거나 무시된다. 이는 현실의 AI 알고리즘이 겪을 수 있는 '데이터 편향'이나 '블랙박스 문제'와 유사하다. 학습 데이터에 특정 편향이 존재하거나, 소수 집단의 특성이 충분히 반영되지 않으면, AI는 특정 집단에 대해 불공정한 예측이나 결정을 내릴 수 있다. 프리코그들의 예측 불일치는 AI 모델이 항상 완벽한 답을 내놓지 않으며, 불확실성과 오류 가능성을 내포하고 있음을 시사한다. 시스템의 오류가 은폐될 경우, 무고한 사람이 희생되거나 사회적 불신이 커질 수 있다는 경고를 던진다.\\n\\n*   **2.4. 책임 소재와 시스템의 윤리적 한계**\\n    프리크라임 시스템과 같은 예측 기반 사법 시스템에서 가장 어려운 문제 중 하나는 '책임 소재'다. 미래의 범죄를 예측하고 체포하는 결정이 프리코그의 능력에 기반한다면, 예측이 잘못되었을 경우 그 책임은 누구에게 있는가? 프리코그 개인에게? 시스템을 설계한 개발자에게? 아니면 시스템을 운영하는 정부 기관에게? 영화는 존 앤더튼이 무고하게 '미래의 살인범'으로 지목되었을 때, 시스템의 절대성에 도전하며 진정한 책임자를 찾아 나서는 과정을 그린다. 예측에 기반한 처벌은 '정의'의 개념과 충돌한다. 범죄를 저지르지 않은 사람을 처벌하는 것이 과연 정의로운가? 시스템이 완벽하다는 전제하에 운영되지만, 그 완벽성이 허상임이 드러났을 때, 시스템에 대한 신뢰는 무너지고 사회적 혼란이 야기된다. 이는 AI 시스템이 내린 결정에 대한 윤리적, 법적 책임은 누가 져야 하는지에 대한 중요한 질문을 던지며, 시스템의 절대성을 맹신하는 것의 위험성을 경고한다.\\n\\n### 3. 현실의 AI 기술과 '마이너리티 리포트'의 시사점\\n\\n'마이너리티 리포트'가 제시하는 가상의 시나리오는 오늘날 급속도로 발전하는 AI 기술, 특히 예측 분석과 감시 기술의 현실 적용에 대한 중요한 시사점과 경고를 제공한다.\\n\\n*   **예측 사법, 감시 기술 등에 대한 현실적 경고:**\\n    현실에서는 이미 '예측 사법(Predictive Policing)' 시스템이 일부 도시에서 범죄 발생 가능성이 높은 지역이나 개인을 예측하는 데 활용되고 있다. 안면 인식 기술, CCTV, 드론을 이용한 감시는 영화 속 홍채 인식 시스템처럼 개인의 동선을 추적하고 신원을 파악하는 데 사용되며, 이는 잠재적인 감시 사회로의 이행 가능성을 보여준다. 또한, 신용 평가 시스템, 채용 과정의 AI 평가, 대출 심사 등 다양한 분야에서 AI 알고리즘이 개인의 미래를 예측하고 중요한 결정을 내리는 데 활용되고 있다. 이러한 시스템들은 효율성을 증대시키고 위험을 줄이는 데 기여할 수 있지만, 영화가 경고하듯이 프라이버시 침해, 알고리즘 편향으로 인한 차별, 그리고 개인의 자유 의지 제약과 같은 심각한 윤리적 문제를 야기할 수 있다.\\n\\n*   **AI 개발 및 적용에 대한 윤리적 고려의 필요성:**\\n    영화는 기술 발전이 가져올 수 있는 잠재적 위험에 대한 강력한 경고 메시지를 전달한다. AI 기술은 단순히 기술적 완벽성을 추구하는 것을 넘어, 사회적, 윤리적 가치를 함께 고려해야 함을 역설한다. 예측 알고리즘의 한계와 오류 가능성을 인지하고, 이에 대한 투명성과 설명 가능성을 확보해야 한다. 또한, 개인의 프라이버시와 자유 의지를 존중하며, 알고리즘이 특정 집단에 대한 편향된 결과를 초래하지 않도록 공정성을 확보하는 것이 중요하다. '마이너리티 리포트'는 AI 기술이 인류에게 진정한 혜택을 주기 위해서는 기술적 진보만큼이나 사회적 합의와 윤리적 원칙 수립이 선행되어야 함을 강조하며, AI 개발자와 정책 입안자들에게 기술의 남용을 경계하고 책임감 있는 개발을 촉구하는 강력한 메시지를 던진다.\\n\\n## 결론: AI 시대의 윤리적 나침반을 찾아서\\n\\n영화 '마이너리티 리포트'는 예측 기술과 AI의 발전이 인류에게 가져올 수 있는 유토피아적 희망과 디스토피아적 그림자를 동시에 제시하며, 기술이 만능이 아님을 역설한다. 이 영화는 프리크라임 시스템을 통해 프라이버시 침해, 자유 의지 박탈, 알고리즘 편향 및 오류 가능성, 그리고 책임 소재의 문제와 같은 현대 AI 윤리 논의의 핵심 쟁점들을 선명하게 보여준다. 특히, '마이너리티 리포트'의 존재는 AI 시스템의 완벽성에 대한 맹신이 얼마나 위험할 수 있는지, 그리고 소수의 의견이나 예외 상황이 간과될 때 어떤 비극적 결과를 초래할 수 있는지를 강력히 경고한다.\\n\\n우리가 AI 시대로 나아가면서, '마이너리티 리포트'는 단순히 허구의 이야기를 넘어 현실의 AI 개발 및 적용에 대한 중요한 윤리적 나침반 역할을 한다. 예측 사법, 감시 기술, 개인 맞춤형 알고리즘 등이 일상화되는 시대에, 우리는 기술의 효율성만을 좇을 것이 아니라 인간의 존엄성, 자율성, 그리고 사회적 정의라는 근본적인 가치를 어떻게 보호하고 증진할 것인지 끊임없이 질문해야 한다. 투명하고 공정하며 책임감 있는 AI 개발과 적용을 위한 윤리적 원칙 수립은 선택이 아닌 필수다. 영화가 주는 강력한 메시지처럼, 미래 AI 기술이 인류에게 진정한 혜택을 주기 위해서는 기술적 진보만큼이나 사회적, 윤리적 고려가 선행되어야 하며, 우리가 어떤 미래를 만들 것인지는 지금 우리의 윤리적 선택에 달려 있음을 이 영화는 강력히 시사한다.\"}"
            ]
          },
          "execution_count": 13,
          "metadata": {},
          "output_type": "execute_result"
        }
      ],
      "source": [
        "data"
      ]
    },
    {
      "cell_type": "code",
      "execution_count": 14,
      "metadata": {
        "id": "mJcy1_ZTOPnF"
      },
      "outputs": [
        {
          "data": {
            "text/markdown": [
              "> # 영화 '마이너리티 리포트'와 AI 윤리의 심층 분석 보고서\n",
              "> \n",
              "> ## 서론: 예측 기술과 AI 윤리 논의의 교차점\n",
              "> \n",
              "> 스티븐 스필버그 감독의 2002년작 영화 '마이너리티 리포트'는 2054년 워싱턴 D.C.를 배경으로, 범죄가 발생하기 전에 예측하여 미리 막는 '프리크라임(PreCrime)' 시스템이 완벽하게 작동하는 사회를 그린다. 이 시스템은 '프리코그(Precog)'라 불리는 세 명의 예지능력자들의 예측에 기반하며, 살인 사건을 미연에 방지하여 범죄율을 현저히 낮추는 데 성공한다. 그러나 영화는 이러한 유토피아적 표면 아래에 숨겨진 심각한 윤리적 딜레마들을 탐구하며, AI 기술의 발전이 인류 사회에 가져올 수 있는 빛과 그림자를 동시에 비춘다. 단순한 SF 스릴러를 넘어, '마이너리티 리포트'는 현대 AI 윤리 논의의 핵심 쟁점인 프라이버시 침해, 자유 의지, 알고리즘 편향, 책임 소재 등과 깊이 연결되어 있어, AI 기술 발전의 사회적, 윤리적 함의에 대한 심도 있는 통찰을 제공한다. 본 보고서는 AI 윤리 전문가의 관점에서 '마이너리티 리포트'를 분석하고, 영화가 제시하는 가상의 시나리오가 현실의 AI 기술 개발 및 적용에 어떠한 중요한 시사점과 경고를 주는지 탐색하고자 한다.\n",
              "> \n",
              "> ## 본론: '마이너리티 리포트'가 제시하는 AI 윤리적 딜레마\n",
              "> \n",
              "> ### 1. 영화 '마이너리티 리포트' 핵심 내용 요약\n",
              "> \n",
              "> 영화 '마이너리티 리포트'는 예측 기술이 지배하는 근미래 사회를 배경으로 한다. 핵심 설정과 줄거리는 다음과 같다.\n",
              "> \n",
              "> *   **프리크라임 시스템의 작동 방식 및 핵심 설정:**\n",
              ">     워싱턴 D.C.의 프리크라임 시스템은 세 명의 '프리코그'라 불리는 예지능력자들의 집단적 예측을 통해 미래의 살인 사건을 미리 감지한다. 이들은 일종의 초지능 AI 시스템과 유사하게 작동하며, 범죄가 일어날 장소, 시간, 가해자와 피해자를 정확히 예측한다. 프리크라임 요원들은 이 예측 정보를 바탕으로 범죄 현장에 출동하여 범죄가 일어나기 직전 범인을 체포하고, 체포된 '예비 범죄자'들은 특별한 감옥에 수감된다. 이 시스템 덕분에 D.C.에서는 6년 동안 살인 사건이 단 한 건도 발생하지 않아, 사회 안전의 상징으로 여겨진다. 이 시스템의 성공은 예측 기술이 가져올 수 있는 사회적 효율성과 안전이라는 이상적인 비전을 제시한다.\n",
              "> \n",
              "> *   **프리코그와 '마이너리티 리포트'의 존재:**\n",
              ">     프리코그들은 어릴 적 트라우마로 인해 미래를 볼 수 있는 능력을 갖게 된 존재들로, 특수 시설에 격리되어 시스템의 핵심 역할을 수행한다. 이들의 예측은 보통 세 가지 동일한 미래를 보지만, 때로는 세 명 중 한 명이 다른 미래를 예측하는 경우가 발생한다. 이처럼 소수의 프리코그가 다른 예측을 내놓는 경우, 이를 '마이너리티 리포트'라고 부른다. 시스템 운영진은 대다수의 의견을 따라 소수의 예측을 무시하거나 은폐하는 경향이 있는데, 이는 시스템의 '완벽성'을 유지하려는 시도이자 동시에 시스템의 근본적인 오류 가능성과 편향성을 내포한다. 주인공 존 앤더튼이 자신이 미래의 살인범으로 예측되면서, 이 '마이너리티 리포트'의 존재를 파헤치게 되고, 시스템의 완벽성이 사실은 조작과 은폐 위에 세워진 허상임을 깨닫게 된다.\n",
              "> \n",
              "> ### 2. AI 윤리 문제 분석: 영화 속 사례를 중심으로\n",
              "> \n",
              "> '마이너리티 리포트'는 AI 윤리 분야의 주요 쟁점들을 영화 속 구체적인 사례를 통해 생생하게 보여준다.\n",
              "> \n",
              "> *   **2.1. 프라이버시 침해와 감시 사회의 도래**\n",
              ">     영화 속 2054년 사회는 고도로 발전된 감시 기술로 개인의 일거수일투족이 추적당하는 '감시 사회'의 극단적인 형태를 보여준다. 가장 대표적인 것이 홍채 인식 시스템이다. 상점 진열대는 고객의 홍채를 인식하여 개인 맞춤형 광고를 띄우고, 거리 곳곳의 스캐너는 시민들의 신원을 실시간으로 파악한다. 주인공 존 앤더튼이 도주하는 과정에서 홍채를 바꾸고 변장해야만 추적을 피할 수 있었던 장면은, 예측 시스템이 개인의 신원과 과거 정보를 어떻게 손쉽게 열람하고 활용하며 프라이버시를 침해하는지 극명하게 보여준다. 프리크라임 시스템 자체가 개인의 '생각'이나 '의도'를 예측하여 체포하는 방식이므로, 이는 개인의 가장 내밀한 영역까지 감시하고 통제하려는 시도로 볼 수 있다. AI 기반의 안면 인식, 위치 추적, 행동 패턴 분석 기술이 현실에서 발전함에 따라, 영화 속 감시 사회는 더 이상 먼 미래의 이야기가 아님을 경고하며, 개인 정보 보호와 사생활의 권리가 얼마나 취약해질 수 있는지를 상기시킨다.\n",
              "> \n",
              "> *   **2.2. 자유 의지 박탈과 예측 기반의 정의**\n",
              ">     프리크라임 시스템의 가장 근본적인 윤리적 문제는 '자유 의지'의 박탈이다. 개인이 실제로 범죄를 저지르기 전에 '미래의 범죄자'로 낙인찍혀 체포되는 것은, 인간이 자신의 행동을 선택하고 그에 대한 책임을 질 수 있는 기본적인 '선택의 권리'를 박탈하는 행위다. 영화는 존 앤더튼이 미래에 살인을 저지를 것이라는 예측을 받고 도주하는 과정에서, 그가 자신의 미래를 바꾸기 위해 필사적으로 노력하는 모습을 통해 자유 의지의 중요성을 강조한다. 프리코그의 예측이 절대적인 미래를 의미하는지, 아니면 바뀔 수 있는 가능성 중 하나인지에 대한 질문은 인간의 자율성과 존엄성에 대한 심각한 물음을 던진다. 만약 미래가 확정되어 있다면 인간의 노력과 선택은 무의미해지며, 이는 인간 존재의 의미를 근본적으로 뒤흔든다. 예측에 기반한 체포는 '범죄'가 아닌 '범죄 의도'에 대한 처벌이며, 이는 형법의 대원칙인 '행위 책임의 원칙'과 정면으로 충돌한다.\n",
              "> \n",
              "> *   **2.3. 알고리즘 편향 및 오류 가능성의 경고**\n",
              ">     '마이너리티 리포트'라는 제목 자체가 예측 시스템의 '알고리즘 편향'과 '오류 가능성'을 상징한다. 프리코그 세 명의 예측이 일치하지 않을 때 발생하는 '마이너리티 리포트'는 시스템이 완벽하지 않으며, 소수의 의견이나 예외 상황을 무시할 수 있음을 보여준다. 영화 속에서 이 '마이너리티 리포트'는 시스템의 오류를 은폐하고 완벽하다는 환상을 유지하기 위해 의도적으로 삭제되거나 무시된다. 이는 현실의 AI 알고리즘이 겪을 수 있는 '데이터 편향'이나 '블랙박스 문제'와 유사하다. 학습 데이터에 특정 편향이 존재하거나, 소수 집단의 특성이 충분히 반영되지 않으면, AI는 특정 집단에 대해 불공정한 예측이나 결정을 내릴 수 있다. 프리코그들의 예측 불일치는 AI 모델이 항상 완벽한 답을 내놓지 않으며, 불확실성과 오류 가능성을 내포하고 있음을 시사한다. 시스템의 오류가 은폐될 경우, 무고한 사람이 희생되거나 사회적 불신이 커질 수 있다는 경고를 던진다.\n",
              "> \n",
              "> *   **2.4. 책임 소재와 시스템의 윤리적 한계**\n",
              ">     프리크라임 시스템과 같은 예측 기반 사법 시스템에서 가장 어려운 문제 중 하나는 '책임 소재'다. 미래의 범죄를 예측하고 체포하는 결정이 프리코그의 능력에 기반한다면, 예측이 잘못되었을 경우 그 책임은 누구에게 있는가? 프리코그 개인에게? 시스템을 설계한 개발자에게? 아니면 시스템을 운영하는 정부 기관에게? 영화는 존 앤더튼이 무고하게 '미래의 살인범'으로 지목되었을 때, 시스템의 절대성에 도전하며 진정한 책임자를 찾아 나서는 과정을 그린다. 예측에 기반한 처벌은 '정의'의 개념과 충돌한다. 범죄를 저지르지 않은 사람을 처벌하는 것이 과연 정의로운가? 시스템이 완벽하다는 전제하에 운영되지만, 그 완벽성이 허상임이 드러났을 때, 시스템에 대한 신뢰는 무너지고 사회적 혼란이 야기된다. 이는 AI 시스템이 내린 결정에 대한 윤리적, 법적 책임은 누가 져야 하는지에 대한 중요한 질문을 던지며, 시스템의 절대성을 맹신하는 것의 위험성을 경고한다.\n",
              "> \n",
              "> ### 3. 현실의 AI 기술과 '마이너리티 리포트'의 시사점\n",
              "> \n",
              "> '마이너리티 리포트'가 제시하는 가상의 시나리오는 오늘날 급속도로 발전하는 AI 기술, 특히 예측 분석과 감시 기술의 현실 적용에 대한 중요한 시사점과 경고를 제공한다.\n",
              "> \n",
              "> *   **예측 사법, 감시 기술 등에 대한 현실적 경고:**\n",
              ">     현실에서는 이미 '예측 사법(Predictive Policing)' 시스템이 일부 도시에서 범죄 발생 가능성이 높은 지역이나 개인을 예측하는 데 활용되고 있다. 안면 인식 기술, CCTV, 드론을 이용한 감시는 영화 속 홍채 인식 시스템처럼 개인의 동선을 추적하고 신원을 파악하는 데 사용되며, 이는 잠재적인 감시 사회로의 이행 가능성을 보여준다. 또한, 신용 평가 시스템, 채용 과정의 AI 평가, 대출 심사 등 다양한 분야에서 AI 알고리즘이 개인의 미래를 예측하고 중요한 결정을 내리는 데 활용되고 있다. 이러한 시스템들은 효율성을 증대시키고 위험을 줄이는 데 기여할 수 있지만, 영화가 경고하듯이 프라이버시 침해, 알고리즘 편향으로 인한 차별, 그리고 개인의 자유 의지 제약과 같은 심각한 윤리적 문제를 야기할 수 있다.\n",
              "> \n",
              "> *   **AI 개발 및 적용에 대한 윤리적 고려의 필요성:**\n",
              ">     영화는 기술 발전이 가져올 수 있는 잠재적 위험에 대한 강력한 경고 메시지를 전달한다. AI 기술은 단순히 기술적 완벽성을 추구하는 것을 넘어, 사회적, 윤리적 가치를 함께 고려해야 함을 역설한다. 예측 알고리즘의 한계와 오류 가능성을 인지하고, 이에 대한 투명성과 설명 가능성을 확보해야 한다. 또한, 개인의 프라이버시와 자유 의지를 존중하며, 알고리즘이 특정 집단에 대한 편향된 결과를 초래하지 않도록 공정성을 확보하는 것이 중요하다. '마이너리티 리포트'는 AI 기술이 인류에게 진정한 혜택을 주기 위해서는 기술적 진보만큼이나 사회적 합의와 윤리적 원칙 수립이 선행되어야 함을 강조하며, AI 개발자와 정책 입안자들에게 기술의 남용을 경계하고 책임감 있는 개발을 촉구하는 강력한 메시지를 던진다.\n",
              "> \n",
              "> ## 결론: AI 시대의 윤리적 나침반을 찾아서\n",
              "> \n",
              "> 영화 '마이너리티 리포트'는 예측 기술과 AI의 발전이 인류에게 가져올 수 있는 유토피아적 희망과 디스토피아적 그림자를 동시에 제시하며, 기술이 만능이 아님을 역설한다. 이 영화는 프리크라임 시스템을 통해 프라이버시 침해, 자유 의지 박탈, 알고리즘 편향 및 오류 가능성, 그리고 책임 소재의 문제와 같은 현대 AI 윤리 논의의 핵심 쟁점들을 선명하게 보여준다. 특히, '마이너리티 리포트'의 존재는 AI 시스템의 완벽성에 대한 맹신이 얼마나 위험할 수 있는지, 그리고 소수의 의견이나 예외 상황이 간과될 때 어떤 비극적 결과를 초래할 수 있는지를 강력히 경고한다.\n",
              "> \n",
              "> 우리가 AI 시대로 나아가면서, '마이너리티 리포트'는 단순히 허구의 이야기를 넘어 현실의 AI 개발 및 적용에 대한 중요한 윤리적 나침반 역할을 한다. 예측 사법, 감시 기술, 개인 맞춤형 알고리즘 등이 일상화되는 시대에, 우리는 기술의 효율성만을 좇을 것이 아니라 인간의 존엄성, 자율성, 그리고 사회적 정의라는 근본적인 가치를 어떻게 보호하고 증진할 것인지 끊임없이 질문해야 한다. 투명하고 공정하며 책임감 있는 AI 개발과 적용을 위한 윤리적 원칙 수립은 선택이 아닌 필수다. 영화가 주는 강력한 메시지처럼, 미래 AI 기술이 인류에게 진정한 혜택을 주기 위해서는 기술적 진보만큼이나 사회적, 윤리적 고려가 선행되어야 하며, 우리가 어떤 미래를 만들 것인지는 지금 우리의 윤리적 선택에 달려 있음을 이 영화는 강력히 시사한다."
            ],
            "text/plain": [
              "<IPython.core.display.Markdown object>"
            ]
          },
          "execution_count": 14,
          "metadata": {},
          "output_type": "execute_result"
        }
      ],
      "source": [
        "from IPython.display import display\n",
        "from IPython.display import Markdown\n",
        "import textwrap\n",
        "\n",
        "def to_markdown(text):\n",
        "  text = text.replace('•', '  *')\n",
        "  return Markdown(textwrap.indent(text, '> ', predicate=lambda _: True))\n",
        "\n",
        "to_markdown(data['result'])\n"
      ]
    },
    {
      "cell_type": "markdown",
      "metadata": {
        "id": "tPF0jjlQOPnF"
      },
      "source": [
        "이와 같이 구조화된 출력을 연결하여, 그래프의 중간, 혹은 최종 출력물을 구성할 수 있습니다."
      ]
    },
    {
      "cell_type": "markdown",
      "metadata": {
        "id": "7kAnW32fOPnG"
      },
      "source": [
        "## 2. Message 포맷의 State 사용하기\n",
        "\n",
        "State의 저장값으로 Message를 바로 사용하기도 합니다.   \n",
        "이 경우, Context에 메시지를 계속 추가하거나, 별도의 로직을 만들어 메시지 정보를 전달합니다."
      ]
    },
    {
      "cell_type": "markdown",
      "metadata": {
        "id": "NiZFhxnNOPnG"
      },
      "source": [
        "`typing`의 `Annotated`로 공간을 지정한 후, 뒷부분에 결합 로직을 포함합니다.   \n",
        "이를 리듀서(Reducer)라고 부르는데, 메시지의 경우 아래와 같이 포함하면 됩니다."
      ]
    },
    {
      "cell_type": "code",
      "execution_count": 18,
      "metadata": {
        "id": "qP01NYAjOPnG"
      },
      "outputs": [],
      "source": [
        "from typing import Annotated\n",
        "from langgraph.graph.message import add_messages\n",
        "from langchain_core.messages import HumanMessage, SystemMessage, AIMessage\n",
        "\n",
        "# add_messages: 메시지를 계속 뒤에 추가하는 방식\n",
        "# 기존 메시지를 수정하거나, 삭제하는 것도 가능합니다.\n",
        "\n",
        "class State(TypedDict):\n",
        "    context : Annotated[list, add_messages]"
      ]
    },
    {
      "cell_type": "markdown",
      "metadata": {
        "id": "qbeK1gkeOPnG"
      },
      "source": [
        "이번에는 메시지를 주고받는 형태를 구성해 보겠습니다.   "
      ]
    },
    {
      "cell_type": "code",
      "execution_count": 19,
      "metadata": {
        "id": "CMDztY5VOPnG"
      },
      "outputs": [
        {
          "data": {
            "text/plain": [
              "<langgraph.graph.state.StateGraph at 0x19a79c5d6a0>"
            ]
          },
          "execution_count": 19,
          "metadata": {},
          "output_type": "execute_result"
        }
      ],
      "source": [
        "def talk(State):\n",
        "    return {'context': AIMessage(content='AI 메시지 2')}\n",
        "\n",
        "\n",
        "builder = StateGraph(State)\n",
        "builder.add_node('talk',talk)\n",
        "builder.add_edge(START, 'talk')\n",
        "builder.add_edge('talk', END)\n",
        "\n",
        "\n",
        "\n"
      ]
    },
    {
      "cell_type": "code",
      "execution_count": 20,
      "metadata": {
        "id": "n6u1f--zOPnG"
      },
      "outputs": [
        {
          "data": {
            "image/png": "[encoded data removed]",
            "text/plain": [
              "<langgraph.graph.state.CompiledStateGraph object at 0x0000019A79C5D730>"
            ]
          },
          "execution_count": 20,
          "metadata": {},
          "output_type": "execute_result"
        }
      ],
      "source": [
        "graph = builder.compile()\n",
        "graph"
      ]
    },
    {
      "cell_type": "code",
      "execution_count": 21,
      "metadata": {
        "id": "hVf7bt5UOPnG"
      },
      "outputs": [
        {
          "data": {
            "text/plain": [
              "{'context': [SystemMessage(content='시스템 메시지 1', additional_kwargs={}, response_metadata={}, id='509db168-2077-40c5-afec-ff56f1ead7a4'),\n",
              "  HumanMessage(content='유저 메시지 1', additional_kwargs={}, response_metadata={}, id='2d09c8c1-9ded-463b-967b-2b2f3b3e4742'),\n",
              "  AIMessage(content='AI 메시지 1', additional_kwargs={}, response_metadata={}, id='930112b2-3cb1-48e4-ae46-f57affb9088e'),\n",
              "  HumanMessage(content='유저 메시지 2', additional_kwargs={}, response_metadata={}, id='36e26f02-1f64-43ae-98df-c61f633f59b4'),\n",
              "  AIMessage(content='AI 메시지 2', additional_kwargs={}, response_metadata={}, id='748c06b6-f860-4f81-8089-12097dd15f5a')]}"
            ]
          },
          "execution_count": 21,
          "metadata": {},
          "output_type": "execute_result"
        }
      ],
      "source": [
        "messages = [\n",
        "    SystemMessage(content='시스템 메시지 1'),\n",
        "    HumanMessage(content='유저 메시지 1'),\n",
        "    AIMessage(content='AI 메시지 1'),\n",
        "    HumanMessage(content='유저 메시지 2'),\n",
        "]\n",
        "\n",
        "response = graph.invoke({'context': messages})\n",
        "response"
      ]
    },
    {
      "cell_type": "markdown",
      "metadata": {
        "id": "YkLVC9JbOPnG"
      },
      "source": [
        "전체 Context를 모두 저장하는 위와 같은 방식도 가능하지만,   \n",
        "`RemoveMessage`를 사용하여 메시지를 제거할 수도 있습니다."
      ]
    },
    {
      "cell_type": "code",
      "execution_count": 22,
      "metadata": {
        "id": "l1gu82ysOPnG"
      },
      "outputs": [],
      "source": [
        "from langchain_core.messages import RemoveMessage\n",
        "def delete_message(State):\n",
        "    # 첫번째,두번째 메시지 삭제\n",
        "    messages = State['context']\n",
        "    return {\"context\": [RemoveMessage(id = messages[i].id) for i in range(1,3)]}\n"
      ]
    },
    {
      "cell_type": "code",
      "execution_count": 23,
      "metadata": {
        "id": "tCmK5SjlOPnG"
      },
      "outputs": [
        {
          "data": {
            "text/plain": [
              "<langgraph.graph.state.StateGraph at 0x19a79c5f9e0>"
            ]
          },
          "execution_count": 23,
          "metadata": {},
          "output_type": "execute_result"
        }
      ],
      "source": [
        "builder = StateGraph(State)\n",
        "\n",
        "builder.add_node('talk',talk)\n",
        "builder.add_node('delete_message',delete_message)\n",
        "\n",
        "builder.add_edge(START, 'talk')\n",
        "builder.add_edge('talk', 'delete_message')\n",
        "builder.add_edge('delete_message', END)"
      ]
    },
    {
      "cell_type": "code",
      "execution_count": 24,
      "metadata": {
        "id": "TFmWbVCMOPnG"
      },
      "outputs": [
        {
          "data": {
            "image/png": "[encoded data removed]",
            "text/plain": [
              "<langgraph.graph.state.CompiledStateGraph object at 0x0000019A79C5F650>"
            ]
          },
          "execution_count": 24,
          "metadata": {},
          "output_type": "execute_result"
        }
      ],
      "source": [
        "graph = builder.compile()\n",
        "graph"
      ]
    },
    {
      "cell_type": "code",
      "execution_count": 25,
      "metadata": {
        "id": "fYzFZE-jn5Q4"
      },
      "outputs": [
        {
          "data": {
            "text/plain": [
              "[SystemMessage(content='시스템 메시지 1', additional_kwargs={}, response_metadata={}, id='509db168-2077-40c5-afec-ff56f1ead7a4'),\n",
              " HumanMessage(content='유저 메시지 1', additional_kwargs={}, response_metadata={}, id='2d09c8c1-9ded-463b-967b-2b2f3b3e4742'),\n",
              " AIMessage(content='AI 메시지 1', additional_kwargs={}, response_metadata={}, id='930112b2-3cb1-48e4-ae46-f57affb9088e'),\n",
              " HumanMessage(content='유저 메시지 2', additional_kwargs={}, response_metadata={}, id='36e26f02-1f64-43ae-98df-c61f633f59b4')]"
            ]
          },
          "execution_count": 25,
          "metadata": {},
          "output_type": "execute_result"
        }
      ],
      "source": [
        "messages"
      ]
    },
    {
      "cell_type": "code",
      "execution_count": 26,
      "metadata": {
        "id": "iN1wtttSOPnG"
      },
      "outputs": [
        {
          "data": {
            "text/plain": [
              "{'context': [SystemMessage(content='시스템 메시지 1', additional_kwargs={}, response_metadata={}, id='509db168-2077-40c5-afec-ff56f1ead7a4'),\n",
              "  HumanMessage(content='유저 메시지 2', additional_kwargs={}, response_metadata={}, id='36e26f02-1f64-43ae-98df-c61f633f59b4'),\n",
              "  AIMessage(content='AI 메시지 2', additional_kwargs={}, response_metadata={}, id='78aba47a-fd3d-4c2c-bb2e-a779164c8f4d')]}"
            ]
          },
          "execution_count": 26,
          "metadata": {},
          "output_type": "execute_result"
        }
      ],
      "source": [
        "# 유저 메시지 1, AI 메시지 1 삭제\n",
        "\n",
        "graph.invoke({'context': messages})"
      ]
    },
    {
      "cell_type": "markdown",
      "metadata": {
        "id": "ZbCyoWhkOPnG"
      },
      "source": [
        "위 방식으로 긴 컨텍스트를 저장할 때 일부만을 저장하거나, 앞 부분의 컨텍스트를 수정하여 저장할 수 있습니다.   \n",
        "반복 기능을 추가한다면, 긴 컨텍스트의 대화도 효과적으로 만들 수 있습니다."
      ]
    }
  ],
  "metadata": {
    "colab": {
      "provenance": []
    },
    "kernelspec": {
      "display_name": ".venv",
      "language": "python",
      "name": "python3"
    },
    "language_info": {
      "codemirror_mode": {
        "name": "ipython",
        "version": 3
      },
      "file_extension": ".py",
      "mimetype": "text/x-python",
      "name": "python",
      "nbconvert_exporter": "python",
      "pygments_lexer": "ipython3",
      "version": "3.12.11"
    }
  },
  "nbformat": 4,
  "nbformat_minor": 0
}
