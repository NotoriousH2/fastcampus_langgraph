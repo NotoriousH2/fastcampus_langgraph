{
  "cells": [
    {
      "cell_type": "markdown",
      "metadata": {
        "vscode": {
          "languageId": "plaintext"
        },
        "id": "eNWMhxtVOPnC"
      },
      "source": [
        "# [실습] LangGraph의 다양한 State 활용하기    \n",
        "\n",
        "\n",
        "이전 실습에서는 하나의 클래스에 문자열, 정수와 같은 값을 정의하고, 이를 모든 노드가 공유하도록 구성했는데요.   \n",
        "\n",
        "이번 실습에서는 State를 보다 복잡하게 만들어 보겠습니다.   \n",
        "\n",
        "\n",
        "\n"
      ]
    },
    {
      "cell_type": "code",
      "execution_count": null,
      "metadata": {
        "id": "4OoJXoxMOPnD",
        "outputId": "9f1336f2-099a-488d-d6d0-42def8aee1c6",
        "colab": {
          "base_uri": "https://localhost:8080/"
        }
      },
      "outputs": [
        {
          "output_type": "stream",
          "name": "stdout",
          "text": [
            "Collecting langgraph\n",
            "  Downloading langgraph-0.2.70-py3-none-any.whl.metadata (17 kB)\n",
            "Requirement already satisfied: langchain in /usr/local/lib/python3.11/dist-packages (0.3.17)\n",
            "Collecting langchain\n",
            "  Downloading langchain-0.3.18-py3-none-any.whl.metadata (7.8 kB)\n",
            "Collecting langchain_google_genai\n",
            "  Downloading langchain_google_genai-2.0.9-py3-none-any.whl.metadata (3.6 kB)\n",
            "Collecting langchain_community\n",
            "  Downloading langchain_community-0.3.17-py3-none-any.whl.metadata (2.4 kB)\n",
            "Collecting duckduckgo-search\n",
            "  Downloading duckduckgo_search-7.3.2-py3-none-any.whl.metadata (17 kB)\n",
            "Requirement already satisfied: langchain-core!=0.3.0,!=0.3.1,!=0.3.10,!=0.3.11,!=0.3.12,!=0.3.13,!=0.3.14,!=0.3.15,!=0.3.16,!=0.3.17,!=0.3.18,!=0.3.19,!=0.3.2,!=0.3.20,!=0.3.21,!=0.3.22,!=0.3.3,!=0.3.4,!=0.3.5,!=0.3.6,!=0.3.7,!=0.3.8,!=0.3.9,<0.4.0,>=0.2.43 in /usr/local/lib/python3.11/dist-packages (from langgraph) (0.3.33)\n",
            "Collecting langgraph-checkpoint<3.0.0,>=2.0.10 (from langgraph)\n",
            "  Downloading langgraph_checkpoint-2.0.12-py3-none-any.whl.metadata (4.6 kB)\n",
            "Collecting langgraph-sdk<0.2.0,>=0.1.42 (from langgraph)\n",
            "  Downloading langgraph_sdk-0.1.51-py3-none-any.whl.metadata (1.8 kB)\n",
            "Collecting langchain-core!=0.3.0,!=0.3.1,!=0.3.10,!=0.3.11,!=0.3.12,!=0.3.13,!=0.3.14,!=0.3.15,!=0.3.16,!=0.3.17,!=0.3.18,!=0.3.19,!=0.3.2,!=0.3.20,!=0.3.21,!=0.3.22,!=0.3.3,!=0.3.4,!=0.3.5,!=0.3.6,!=0.3.7,!=0.3.8,!=0.3.9,<0.4.0,>=0.2.43 (from langgraph)\n",
            "  Downloading langchain_core-0.3.34-py3-none-any.whl.metadata (5.9 kB)\n",
            "Collecting langchain-text-splitters<1.0.0,>=0.3.6 (from langchain)\n",
            "  Downloading langchain_text_splitters-0.3.6-py3-none-any.whl.metadata (1.9 kB)\n",
            "Requirement already satisfied: langsmith<0.4,>=0.1.17 in /usr/local/lib/python3.11/dist-packages (from langchain) (0.3.5)\n",
            "Requirement already satisfied: pydantic<3.0.0,>=2.7.4 in /usr/local/lib/python3.11/dist-packages (from langchain) (2.10.6)\n",
            "Requirement already satisfied: SQLAlchemy<3,>=1.4 in /usr/local/lib/python3.11/dist-packages (from langchain) (2.0.37)\n",
            "Requirement already satisfied: requests<3,>=2 in /usr/local/lib/python3.11/dist-packages (from langchain) (2.32.3)\n",
            "Requirement already satisfied: PyYAML>=5.3 in /usr/local/lib/python3.11/dist-packages (from langchain) (6.0.2)\n",
            "Requirement already satisfied: aiohttp<4.0.0,>=3.8.3 in /usr/local/lib/python3.11/dist-packages (from langchain) (3.11.11)\n",
            "Requirement already satisfied: tenacity!=8.4.0,<10,>=8.1.0 in /usr/local/lib/python3.11/dist-packages (from langchain) (9.0.0)\n",
            "Requirement already satisfied: numpy<2,>=1.26.4 in /usr/local/lib/python3.11/dist-packages (from langchain) (1.26.4)\n",
            "Collecting filetype<2.0.0,>=1.2.0 (from langchain_google_genai)\n",
            "  Downloading filetype-1.2.0-py2.py3-none-any.whl.metadata (6.5 kB)\n",
            "Requirement already satisfied: google-generativeai<0.9.0,>=0.8.0 in /usr/local/lib/python3.11/dist-packages (from langchain_google_genai) (0.8.4)\n",
            "Collecting dataclasses-json<0.7,>=0.5.7 (from langchain_community)\n",
            "  Downloading dataclasses_json-0.6.7-py3-none-any.whl.metadata (25 kB)\n",
            "Collecting pydantic-settings<3.0.0,>=2.4.0 (from langchain_community)\n",
            "  Downloading pydantic_settings-2.7.1-py3-none-any.whl.metadata (3.5 kB)\n",
            "Collecting httpx-sse<1.0.0,>=0.4.0 (from langchain_community)\n",
            "  Downloading httpx_sse-0.4.0-py3-none-any.whl.metadata (9.0 kB)\n",
            "Requirement already satisfied: click>=8.1.8 in /usr/local/lib/python3.11/dist-packages (from duckduckgo-search) (8.1.8)\n",
            "Collecting primp>=0.11.0 (from duckduckgo-search)\n",
            "  Downloading primp-0.12.0-cp38-abi3-manylinux_2_17_x86_64.manylinux2014_x86_64.whl.metadata (13 kB)\n",
            "Requirement already satisfied: lxml>=5.3.0 in /usr/local/lib/python3.11/dist-packages (from duckduckgo-search) (5.3.0)\n",
            "Requirement already satisfied: aiohappyeyeballs>=2.3.0 in /usr/local/lib/python3.11/dist-packages (from aiohttp<4.0.0,>=3.8.3->langchain) (2.4.4)\n",
            "Requirement already satisfied: aiosignal>=1.1.2 in /usr/local/lib/python3.11/dist-packages (from aiohttp<4.0.0,>=3.8.3->langchain) (1.3.2)\n",
            "Requirement already satisfied: attrs>=17.3.0 in /usr/local/lib/python3.11/dist-packages (from aiohttp<4.0.0,>=3.8.3->langchain) (25.1.0)\n",
            "Requirement already satisfied: frozenlist>=1.1.1 in /usr/local/lib/python3.11/dist-packages (from aiohttp<4.0.0,>=3.8.3->langchain) (1.5.0)\n",
            "Requirement already satisfied: multidict<7.0,>=4.5 in /usr/local/lib/python3.11/dist-packages (from aiohttp<4.0.0,>=3.8.3->langchain) (6.1.0)\n",
            "Requirement already satisfied: propcache>=0.2.0 in /usr/local/lib/python3.11/dist-packages (from aiohttp<4.0.0,>=3.8.3->langchain) (0.2.1)\n",
            "Requirement already satisfied: yarl<2.0,>=1.17.0 in /usr/local/lib/python3.11/dist-packages (from aiohttp<4.0.0,>=3.8.3->langchain) (1.18.3)\n",
            "Collecting marshmallow<4.0.0,>=3.18.0 (from dataclasses-json<0.7,>=0.5.7->langchain_community)\n",
            "  Downloading marshmallow-3.26.1-py3-none-any.whl.metadata (7.3 kB)\n",
            "Collecting typing-inspect<1,>=0.4.0 (from dataclasses-json<0.7,>=0.5.7->langchain_community)\n",
            "  Downloading typing_inspect-0.9.0-py3-none-any.whl.metadata (1.5 kB)\n",
            "Requirement already satisfied: google-ai-generativelanguage==0.6.15 in /usr/local/lib/python3.11/dist-packages (from google-generativeai<0.9.0,>=0.8.0->langchain_google_genai) (0.6.15)\n",
            "Requirement already satisfied: google-api-core in /usr/local/lib/python3.11/dist-packages (from google-generativeai<0.9.0,>=0.8.0->langchain_google_genai) (2.19.2)\n",
            "Requirement already satisfied: google-api-python-client in /usr/local/lib/python3.11/dist-packages (from google-generativeai<0.9.0,>=0.8.0->langchain_google_genai) (2.160.0)\n",
            "Requirement already satisfied: google-auth>=2.15.0 in /usr/local/lib/python3.11/dist-packages (from google-generativeai<0.9.0,>=0.8.0->langchain_google_genai) (2.27.0)\n",
            "Requirement already satisfied: protobuf in /usr/local/lib/python3.11/dist-packages (from google-generativeai<0.9.0,>=0.8.0->langchain_google_genai) (4.25.6)\n",
            "Requirement already satisfied: tqdm in /usr/local/lib/python3.11/dist-packages (from google-generativeai<0.9.0,>=0.8.0->langchain_google_genai) (4.67.1)\n",
            "Requirement already satisfied: typing-extensions in /usr/local/lib/python3.11/dist-packages (from google-generativeai<0.9.0,>=0.8.0->langchain_google_genai) (4.12.2)\n",
            "Requirement already satisfied: proto-plus<2.0.0dev,>=1.22.3 in /usr/local/lib/python3.11/dist-packages (from google-ai-generativelanguage==0.6.15->google-generativeai<0.9.0,>=0.8.0->langchain_google_genai) (1.26.0)\n",
            "Requirement already satisfied: jsonpatch<2.0,>=1.33 in /usr/local/lib/python3.11/dist-packages (from langchain-core!=0.3.0,!=0.3.1,!=0.3.10,!=0.3.11,!=0.3.12,!=0.3.13,!=0.3.14,!=0.3.15,!=0.3.16,!=0.3.17,!=0.3.18,!=0.3.19,!=0.3.2,!=0.3.20,!=0.3.21,!=0.3.22,!=0.3.3,!=0.3.4,!=0.3.5,!=0.3.6,!=0.3.7,!=0.3.8,!=0.3.9,<0.4.0,>=0.2.43->langgraph) (1.33)\n",
            "Requirement already satisfied: packaging<25,>=23.2 in /usr/local/lib/python3.11/dist-packages (from langchain-core!=0.3.0,!=0.3.1,!=0.3.10,!=0.3.11,!=0.3.12,!=0.3.13,!=0.3.14,!=0.3.15,!=0.3.16,!=0.3.17,!=0.3.18,!=0.3.19,!=0.3.2,!=0.3.20,!=0.3.21,!=0.3.22,!=0.3.3,!=0.3.4,!=0.3.5,!=0.3.6,!=0.3.7,!=0.3.8,!=0.3.9,<0.4.0,>=0.2.43->langgraph) (24.2)\n",
            "Requirement already satisfied: msgpack<2.0.0,>=1.1.0 in /usr/local/lib/python3.11/dist-packages (from langgraph-checkpoint<3.0.0,>=2.0.10->langgraph) (1.1.0)\n",
            "Requirement already satisfied: httpx>=0.25.2 in /usr/local/lib/python3.11/dist-packages (from langgraph-sdk<0.2.0,>=0.1.42->langgraph) (0.28.1)\n",
            "Requirement already satisfied: orjson>=3.10.1 in /usr/local/lib/python3.11/dist-packages (from langgraph-sdk<0.2.0,>=0.1.42->langgraph) (3.10.15)\n",
            "Requirement already satisfied: requests-toolbelt<2.0.0,>=1.0.0 in /usr/local/lib/python3.11/dist-packages (from langsmith<0.4,>=0.1.17->langchain) (1.0.0)\n",
            "Requirement already satisfied: zstandard<0.24.0,>=0.23.0 in /usr/local/lib/python3.11/dist-packages (from langsmith<0.4,>=0.1.17->langchain) (0.23.0)\n",
            "Requirement already satisfied: annotated-types>=0.6.0 in /usr/local/lib/python3.11/dist-packages (from pydantic<3.0.0,>=2.7.4->langchain) (0.7.0)\n",
            "Requirement already satisfied: pydantic-core==2.27.2 in /usr/local/lib/python3.11/dist-packages (from pydantic<3.0.0,>=2.7.4->langchain) (2.27.2)\n",
            "Collecting python-dotenv>=0.21.0 (from pydantic-settings<3.0.0,>=2.4.0->langchain_community)\n",
            "  Downloading python_dotenv-1.0.1-py3-none-any.whl.metadata (23 kB)\n",
            "Requirement already satisfied: charset-normalizer<4,>=2 in /usr/local/lib/python3.11/dist-packages (from requests<3,>=2->langchain) (3.4.1)\n",
            "Requirement already satisfied: idna<4,>=2.5 in /usr/local/lib/python3.11/dist-packages (from requests<3,>=2->langchain) (3.10)\n",
            "Requirement already satisfied: urllib3<3,>=1.21.1 in /usr/local/lib/python3.11/dist-packages (from requests<3,>=2->langchain) (2.3.0)\n",
            "Requirement already satisfied: certifi>=2017.4.17 in /usr/local/lib/python3.11/dist-packages (from requests<3,>=2->langchain) (2025.1.31)\n",
            "Requirement already satisfied: greenlet!=0.4.17 in /usr/local/lib/python3.11/dist-packages (from SQLAlchemy<3,>=1.4->langchain) (3.1.1)\n",
            "Requirement already satisfied: googleapis-common-protos<2.0.dev0,>=1.56.2 in /usr/local/lib/python3.11/dist-packages (from google-api-core->google-generativeai<0.9.0,>=0.8.0->langchain_google_genai) (1.66.0)\n",
            "Requirement already satisfied: cachetools<6.0,>=2.0.0 in /usr/local/lib/python3.11/dist-packages (from google-auth>=2.15.0->google-generativeai<0.9.0,>=0.8.0->langchain_google_genai) (5.5.1)\n",
            "Requirement already satisfied: pyasn1-modules>=0.2.1 in /usr/local/lib/python3.11/dist-packages (from google-auth>=2.15.0->google-generativeai<0.9.0,>=0.8.0->langchain_google_genai) (0.4.1)\n",
            "Requirement already satisfied: rsa<5,>=3.1.4 in /usr/local/lib/python3.11/dist-packages (from google-auth>=2.15.0->google-generativeai<0.9.0,>=0.8.0->langchain_google_genai) (4.9)\n",
            "Requirement already satisfied: anyio in /usr/local/lib/python3.11/dist-packages (from httpx>=0.25.2->langgraph-sdk<0.2.0,>=0.1.42->langgraph) (3.7.1)\n",
            "Requirement already satisfied: httpcore==1.* in /usr/local/lib/python3.11/dist-packages (from httpx>=0.25.2->langgraph-sdk<0.2.0,>=0.1.42->langgraph) (1.0.7)\n",
            "Requirement already satisfied: h11<0.15,>=0.13 in /usr/local/lib/python3.11/dist-packages (from httpcore==1.*->httpx>=0.25.2->langgraph-sdk<0.2.0,>=0.1.42->langgraph) (0.14.0)\n",
            "Requirement already satisfied: jsonpointer>=1.9 in /usr/local/lib/python3.11/dist-packages (from jsonpatch<2.0,>=1.33->langchain-core!=0.3.0,!=0.3.1,!=0.3.10,!=0.3.11,!=0.3.12,!=0.3.13,!=0.3.14,!=0.3.15,!=0.3.16,!=0.3.17,!=0.3.18,!=0.3.19,!=0.3.2,!=0.3.20,!=0.3.21,!=0.3.22,!=0.3.3,!=0.3.4,!=0.3.5,!=0.3.6,!=0.3.7,!=0.3.8,!=0.3.9,<0.4.0,>=0.2.43->langgraph) (3.0.0)\n",
            "Collecting mypy-extensions>=0.3.0 (from typing-inspect<1,>=0.4.0->dataclasses-json<0.7,>=0.5.7->langchain_community)\n",
            "  Downloading mypy_extensions-1.0.0-py3-none-any.whl.metadata (1.1 kB)\n",
            "Requirement already satisfied: httplib2<1.dev0,>=0.19.0 in /usr/local/lib/python3.11/dist-packages (from google-api-python-client->google-generativeai<0.9.0,>=0.8.0->langchain_google_genai) (0.22.0)\n",
            "Requirement already satisfied: google-auth-httplib2<1.0.0,>=0.2.0 in /usr/local/lib/python3.11/dist-packages (from google-api-python-client->google-generativeai<0.9.0,>=0.8.0->langchain_google_genai) (0.2.0)\n",
            "Requirement already satisfied: uritemplate<5,>=3.0.1 in /usr/local/lib/python3.11/dist-packages (from google-api-python-client->google-generativeai<0.9.0,>=0.8.0->langchain_google_genai) (4.1.1)\n",
            "Requirement already satisfied: grpcio<2.0dev,>=1.33.2 in /usr/local/lib/python3.11/dist-packages (from google-api-core[grpc]!=2.0.*,!=2.1.*,!=2.10.*,!=2.2.*,!=2.3.*,!=2.4.*,!=2.5.*,!=2.6.*,!=2.7.*,!=2.8.*,!=2.9.*,<3.0.0dev,>=1.34.1->google-ai-generativelanguage==0.6.15->google-generativeai<0.9.0,>=0.8.0->langchain_google_genai) (1.70.0)\n",
            "Requirement already satisfied: grpcio-status<2.0.dev0,>=1.33.2 in /usr/local/lib/python3.11/dist-packages (from google-api-core[grpc]!=2.0.*,!=2.1.*,!=2.10.*,!=2.2.*,!=2.3.*,!=2.4.*,!=2.5.*,!=2.6.*,!=2.7.*,!=2.8.*,!=2.9.*,<3.0.0dev,>=1.34.1->google-ai-generativelanguage==0.6.15->google-generativeai<0.9.0,>=0.8.0->langchain_google_genai) (1.62.3)\n",
            "Requirement already satisfied: pyparsing!=3.0.0,!=3.0.1,!=3.0.2,!=3.0.3,<4,>=2.4.2 in /usr/local/lib/python3.11/dist-packages (from httplib2<1.dev0,>=0.19.0->google-api-python-client->google-generativeai<0.9.0,>=0.8.0->langchain_google_genai) (3.2.1)\n",
            "Requirement already satisfied: pyasn1<0.7.0,>=0.4.6 in /usr/local/lib/python3.11/dist-packages (from pyasn1-modules>=0.2.1->google-auth>=2.15.0->google-generativeai<0.9.0,>=0.8.0->langchain_google_genai) (0.6.1)\n",
            "Requirement already satisfied: sniffio>=1.1 in /usr/local/lib/python3.11/dist-packages (from anyio->httpx>=0.25.2->langgraph-sdk<0.2.0,>=0.1.42->langgraph) (1.3.1)\n",
            "Downloading langgraph-0.2.70-py3-none-any.whl (149 kB)\n",
            "\u001b[2K   \u001b[90m━━━━━━━━━━━━━━━━━━━━━━━━━━━━━━━━━━━━━━━━\u001b[0m \u001b[32m149.7/149.7 kB\u001b[0m \u001b[31m5.9 MB/s\u001b[0m eta \u001b[36m0:00:00\u001b[0m\n",
            "\u001b[?25hDownloading langchain-0.3.18-py3-none-any.whl (1.0 MB)\n",
            "\u001b[2K   \u001b[90m━━━━━━━━━━━━━━━━━━━━━━━━━━━━━━━━━━━━━━━━\u001b[0m \u001b[32m1.0/1.0 MB\u001b[0m \u001b[31m19.9 MB/s\u001b[0m eta \u001b[36m0:00:00\u001b[0m\n",
            "\u001b[?25hDownloading langchain_google_genai-2.0.9-py3-none-any.whl (41 kB)\n",
            "\u001b[2K   \u001b[90m━━━━━━━━━━━━━━━━━━━━━━━━━━━━━━━━━━━━━━━━\u001b[0m \u001b[32m41.7/41.7 kB\u001b[0m \u001b[31m2.4 MB/s\u001b[0m eta \u001b[36m0:00:00\u001b[0m\n",
            "\u001b[?25hDownloading langchain_community-0.3.17-py3-none-any.whl (2.5 MB)\n",
            "\u001b[2K   \u001b[90m━━━━━━━━━━━━━━━━━━━━━━━━━━━━━━━━━━━━━━━━\u001b[0m \u001b[32m2.5/2.5 MB\u001b[0m \u001b[31m28.5 MB/s\u001b[0m eta \u001b[36m0:00:00\u001b[0m\n",
            "\u001b[?25hDownloading duckduckgo_search-7.3.2-py3-none-any.whl (19 kB)\n",
            "Downloading dataclasses_json-0.6.7-py3-none-any.whl (28 kB)\n",
            "Downloading filetype-1.2.0-py2.py3-none-any.whl (19 kB)\n",
            "Downloading httpx_sse-0.4.0-py3-none-any.whl (7.8 kB)\n",
            "Downloading langchain_core-0.3.34-py3-none-any.whl (412 kB)\n",
            "\u001b[2K   \u001b[90m━━━━━━━━━━━━━━━━━━━━━━━━━━━━━━━━━━━━━━━━\u001b[0m \u001b[32m413.0/413.0 kB\u001b[0m \u001b[31m22.0 MB/s\u001b[0m eta \u001b[36m0:00:00\u001b[0m\n",
            "\u001b[?25hDownloading langchain_text_splitters-0.3.6-py3-none-any.whl (31 kB)\n",
            "Downloading langgraph_checkpoint-2.0.12-py3-none-any.whl (38 kB)\n",
            "Downloading langgraph_sdk-0.1.51-py3-none-any.whl (44 kB)\n",
            "\u001b[2K   \u001b[90m━━━━━━━━━━━━━━━━━━━━━━━━━━━━━━━━━━━━━━━━\u001b[0m \u001b[32m44.7/44.7 kB\u001b[0m \u001b[31m2.0 MB/s\u001b[0m eta \u001b[36m0:00:00\u001b[0m\n",
            "\u001b[?25hDownloading primp-0.12.0-cp38-abi3-manylinux_2_17_x86_64.manylinux2014_x86_64.whl (3.3 MB)\n",
            "\u001b[2K   \u001b[90m━━━━━━━━━━━━━━━━━━━━━━━━━━━━━━━━━━━━━━━━\u001b[0m \u001b[32m3.3/3.3 MB\u001b[0m \u001b[31m28.7 MB/s\u001b[0m eta \u001b[36m0:00:00\u001b[0m\n",
            "\u001b[?25hDownloading pydantic_settings-2.7.1-py3-none-any.whl (29 kB)\n",
            "Downloading marshmallow-3.26.1-py3-none-any.whl (50 kB)\n",
            "\u001b[2K   \u001b[90m━━━━━━━━━━━━━━━━━━━━━━━━━━━━━━━━━━━━━━━━\u001b[0m \u001b[32m50.9/50.9 kB\u001b[0m \u001b[31m2.8 MB/s\u001b[0m eta \u001b[36m0:00:00\u001b[0m\n",
            "\u001b[?25hDownloading python_dotenv-1.0.1-py3-none-any.whl (19 kB)\n",
            "Downloading typing_inspect-0.9.0-py3-none-any.whl (8.8 kB)\n",
            "Downloading mypy_extensions-1.0.0-py3-none-any.whl (4.7 kB)\n",
            "Installing collected packages: filetype, python-dotenv, primp, mypy-extensions, marshmallow, httpx-sse, typing-inspect, duckduckgo-search, pydantic-settings, langgraph-sdk, dataclasses-json, langchain-core, langgraph-checkpoint, langchain-text-splitters, langgraph, langchain, langchain_google_genai, langchain_community\n",
            "  Attempting uninstall: langchain-core\n",
            "    Found existing installation: langchain-core 0.3.33\n",
            "    Uninstalling langchain-core-0.3.33:\n",
            "      Successfully uninstalled langchain-core-0.3.33\n",
            "  Attempting uninstall: langchain-text-splitters\n",
            "    Found existing installation: langchain-text-splitters 0.3.5\n",
            "    Uninstalling langchain-text-splitters-0.3.5:\n",
            "      Successfully uninstalled langchain-text-splitters-0.3.5\n",
            "  Attempting uninstall: langchain\n",
            "    Found existing installation: langchain 0.3.17\n",
            "    Uninstalling langchain-0.3.17:\n",
            "      Successfully uninstalled langchain-0.3.17\n",
            "Successfully installed dataclasses-json-0.6.7 duckduckgo-search-7.3.2 filetype-1.2.0 httpx-sse-0.4.0 langchain-0.3.18 langchain-core-0.3.34 langchain-text-splitters-0.3.6 langchain_community-0.3.17 langchain_google_genai-2.0.9 langgraph-0.2.70 langgraph-checkpoint-2.0.12 langgraph-sdk-0.1.51 marshmallow-3.26.1 mypy-extensions-1.0.0 primp-0.12.0 pydantic-settings-2.7.1 python-dotenv-1.0.1 typing-inspect-0.9.0\n"
          ]
        }
      ],
      "source": [
        "!pip install --upgrade langgraph langchain langchain_google_genai langchain_community"
      ]
    },
    {
      "cell_type": "code",
      "execution_count": null,
      "metadata": {
        "id": "TsCum2cDOPnE",
        "outputId": "93d89b74-6464-4506-f913-2666e4cf7770",
        "colab": {
          "base_uri": "https://localhost:8080/"
        }
      },
      "outputs": [
        {
          "output_type": "stream",
          "name": "stderr",
          "text": [
            "<ipython-input-2-4e191f275e11>:9: LangChainBetaWarning: Introduced in 0.2.24. API subject to change.\n",
            "  rate_limiter = InMemoryRateLimiter(\n"
          ]
        }
      ],
      "source": [
        "import os\n",
        "os.environ['GOOGLE_API_KEY'] = ''\n",
        "\n",
        "from langchain_core.rate_limiters import InMemoryRateLimiter\n",
        "from langchain_google_genai import ChatGoogleGenerativeAI\n",
        "\n",
        "# Gemini API는 분당 10개 요청으로 제한\n",
        "# 즉, 초당 약 0.167개 요청 (10/60)\n",
        "rate_limiter = InMemoryRateLimiter(\n",
        "    requests_per_second=0.167,  # 분당 10개 요청\n",
        "    check_every_n_seconds=0.1,  # 100ms마다 체크\n",
        "    max_bucket_size=10,  # 최대 버스트 크기\n",
        ")\n",
        "\n",
        "# rate limiter를 LLM에 적용\n",
        "llm = ChatGoogleGenerativeAI(\n",
        "    model=\"gemini-2.0-flash-exp\",\n",
        "    rate_limiter=rate_limiter\n",
        ")"
      ]
    },
    {
      "cell_type": "markdown",
      "metadata": {
        "id": "hBsA51V8OPnE"
      },
      "source": [
        "## 1. 구조화된 출력 State에 적용하기"
      ]
    },
    {
      "cell_type": "markdown",
      "metadata": {
        "id": "Ko187AE2OPnE"
      },
      "source": [
        "LangChain의 `llm.with_structured_output`을 사용하면, 구조화된 출력을 만들 수 있습니다.   \n",
        "Pydantic을 이용해, 예시 데이터의 구조를 만들어 보겠습니다."
      ]
    },
    {
      "cell_type": "code",
      "execution_count": null,
      "metadata": {
        "id": "OarsNlg9OPnE"
      },
      "outputs": [],
      "source": [
        "from pydantic import BaseModel, Field\n",
        "\n",
        "# 프롬프트 자동 생성을 위한 요소 저장\n",
        "class Objective(BaseModel):\n",
        "    instruction: str = Field(description='프롬프트의 지시 사항을 명확히 재구성')\n",
        "    output_format: str = Field(description='출력 포맷에 대한 설명')\n",
        "    examples: str = Field(description='예시 출력(1개)')\n",
        "    notes: str = Field(description='작업 과정에서 중요한 내용을 4개의 개조식 문장으로 구성')\n",
        "\n",
        "    @property #\n",
        "    def as_str(self) -> str:\n",
        "        return '\\n\\n'.join([f'## {key}\\n {value}' for key, value in self])\n"
      ]
    },
    {
      "cell_type": "markdown",
      "metadata": {
        "id": "ascZ9_dEOPnE"
      },
      "source": []
    },
    {
      "cell_type": "code",
      "execution_count": null,
      "metadata": {
        "id": "NyIQU9KeOPnE",
        "outputId": "80fcdb07-11fe-4c64-b1bf-983000f4405c",
        "colab": {
          "base_uri": "https://localhost:8080/"
        }
      },
      "outputs": [
        {
          "output_type": "execute_result",
          "data": {
            "text/plain": [
              "Objective(instruction='신제품 홍보를 위한 연구 계획서를 작성하는 것이 목표입니다. 연구 목표, 연구 내용, 연구 방법, 연구 일정, 연구 예산을 포함해야 합니다.', output_format='연구 목표, 연구 내용, 연구 방법, 연구 일정, 연구 예산을 포함한 연구 계획서 형식으로 작성', examples=\"신제품 '에어팟 프로 2' 홍보 연구 계획서\\n\\n1. 연구 목표\\n  - 에어팟 프로 2의 주요 특징과 장점을 효과적으로 홍보\\n  - 타겟 고객층의 관심과 구매 욕구를 자극\\n  - 브랜드 이미지 제고 및 매출 증대 기여\\n\\n2. 연구 내용\\n  - 타겟 고객층 분석: 20대 후반 ~ 30대 직장인, 음향기기 관심층\\n  - 경쟁 제품 분석: 소니, 보스 등 경쟁사 제품의 홍보 전략 분석\\n  - 홍보 채널 선정: 유튜브, 인스타그램, 블로그, 온라인 커뮤니티 등\\n  - 홍보 콘텐츠 제작: 제품 리뷰, 사용 후기, 광고 영상, 이벤트 기획 등\\n\\n3. 연구 방법\\n  - 문헌 연구: 기존 에어팟 프로 홍보 사례 및 성공/실패 요인 분석\\n  - 설문 조사: 타겟 고객층의 니즈 및 선호도 파악\\n  - 실험 연구: 다양한 홍보 콘텐츠의 효과 측정\\n\\n4. 연구 일정\\n  - 1단계: 연구 계획 수립 및 자료 수집 (1주)\\n  - 2단계: 타겟 고객층 및 경쟁 제품 분석 (2주)\\n  - 3단계: 홍보 채널 선정 및 콘텐츠 제작 (3주)\\n  - 4단계: 홍보 활동 실행 및 효과 측정 (4주)\\n  - 5단계: 연구 결과 보고서 작성 (2주)\\n\\n5. 연구 예산\\n  - 설문 조사 비용: 100만원\\n  - 홍보 콘텐츠 제작 비용: 300만원\\n  - 광고 집행 비용: 500만원\\n  - 기타 비용: 100만원\\n  - 총 예산: 1000만원\", notes='- 신제품의 특징과 장점을 명확히 제시해야 합니다.\\n- 타겟 고객층을 구체적으로 분석해야 합니다.\\n- 경쟁 제품과의 차별점을 부각해야 합니다.\\n- 현실적인 예산 계획을 수립해야 합니다.')"
            ]
          },
          "metadata": {},
          "execution_count": 4
        }
      ],
      "source": [
        "from langchain.prompts import ChatPromptTemplate\n",
        "prompt = ChatPromptTemplate([\n",
        "    ('system', '아래의 작업을 보다 자세하게 요청하는 시스템 프롬프트를 구성하고자 합니다. 주어진 포맷에 적절하게 작성하세요.'),\n",
        "    ('user', '{instruction}')\n",
        "\n",
        "])\n",
        "\n",
        "chain = prompt | llm.with_structured_output(Objective)\n",
        "\n",
        "result = chain.invoke(\"신제품 홍보 대한 연구계획서 쓰기\")\n",
        "\n",
        "result"
      ]
    },
    {
      "cell_type": "code",
      "execution_count": null,
      "metadata": {
        "id": "Les7UHd2OPnE",
        "outputId": "71f7f0d5-a853-4789-83ac-5e84bc8d93c3",
        "colab": {
          "base_uri": "https://localhost:8080/"
        }
      },
      "outputs": [
        {
          "output_type": "stream",
          "name": "stdout",
          "text": [
            "## instruction\n",
            " 신제품 홍보를 위한 연구 계획서를 작성하는 것이 목표입니다. 연구 목표, 연구 내용, 연구 방법, 연구 일정, 연구 예산을 포함해야 합니다.\n",
            "\n",
            "## output_format\n",
            " 연구 목표, 연구 내용, 연구 방법, 연구 일정, 연구 예산을 포함한 연구 계획서 형식으로 작성\n",
            "\n",
            "## examples\n",
            " 신제품 '에어팟 프로 2' 홍보 연구 계획서\n",
            "\n",
            "1. 연구 목표\n",
            "  - 에어팟 프로 2의 주요 특징과 장점을 효과적으로 홍보\n",
            "  - 타겟 고객층의 관심과 구매 욕구를 자극\n",
            "  - 브랜드 이미지 제고 및 매출 증대 기여\n",
            "\n",
            "2. 연구 내용\n",
            "  - 타겟 고객층 분석: 20대 후반 ~ 30대 직장인, 음향기기 관심층\n",
            "  - 경쟁 제품 분석: 소니, 보스 등 경쟁사 제품의 홍보 전략 분석\n",
            "  - 홍보 채널 선정: 유튜브, 인스타그램, 블로그, 온라인 커뮤니티 등\n",
            "  - 홍보 콘텐츠 제작: 제품 리뷰, 사용 후기, 광고 영상, 이벤트 기획 등\n",
            "\n",
            "3. 연구 방법\n",
            "  - 문헌 연구: 기존 에어팟 프로 홍보 사례 및 성공/실패 요인 분석\n",
            "  - 설문 조사: 타겟 고객층의 니즈 및 선호도 파악\n",
            "  - 실험 연구: 다양한 홍보 콘텐츠의 효과 측정\n",
            "\n",
            "4. 연구 일정\n",
            "  - 1단계: 연구 계획 수립 및 자료 수집 (1주)\n",
            "  - 2단계: 타겟 고객층 및 경쟁 제품 분석 (2주)\n",
            "  - 3단계: 홍보 채널 선정 및 콘텐츠 제작 (3주)\n",
            "  - 4단계: 홍보 활동 실행 및 효과 측정 (4주)\n",
            "  - 5단계: 연구 결과 보고서 작성 (2주)\n",
            "\n",
            "5. 연구 예산\n",
            "  - 설문 조사 비용: 100만원\n",
            "  - 홍보 콘텐츠 제작 비용: 300만원\n",
            "  - 광고 집행 비용: 500만원\n",
            "  - 기타 비용: 100만원\n",
            "  - 총 예산: 1000만원\n",
            "\n",
            "## notes\n",
            " - 신제품의 특징과 장점을 명확히 제시해야 합니다.\n",
            "- 타겟 고객층을 구체적으로 분석해야 합니다.\n",
            "- 경쟁 제품과의 차별점을 부각해야 합니다.\n",
            "- 현실적인 예산 계획을 수립해야 합니다.\n"
          ]
        }
      ],
      "source": [
        "print(result.as_str)"
      ]
    },
    {
      "cell_type": "markdown",
      "metadata": {
        "id": "2E1kO1XzOPnE"
      },
      "source": [
        "위에서 만든 Objective Class는 State의 단일 값으로도 저장할 수 있습니다."
      ]
    },
    {
      "cell_type": "code",
      "execution_count": null,
      "metadata": {
        "id": "lwgpYwBLOPnF"
      },
      "outputs": [],
      "source": [
        "from typing import TypedDict\n",
        "\n",
        "class State(TypedDict):\n",
        "    instruction : str\n",
        "    prompt_materials : Objective # Objective Class를 하나의 값에 저장\n",
        "    full_prompt : str\n",
        "    result : str"
      ]
    },
    {
      "cell_type": "code",
      "execution_count": null,
      "metadata": {
        "id": "fAiUxTc7OPnF"
      },
      "outputs": [],
      "source": [
        "def get_prompt_materials(State):\n",
        "    prompt = ChatPromptTemplate([\n",
        "        ('system', '아래의 작업을 보다 자세하게 세분화하고자 합니다. 주어진 포맷에 적절하게 작성하세요.'),\n",
        "        ('user', '{instruction}')\n",
        "\n",
        "    ])\n",
        "\n",
        "    chain = prompt | llm.with_structured_output(Objective)\n",
        "\n",
        "    result = chain.invoke({'instruction':State['instruction']})\n",
        "    return {'prompt_materials' : result}\n"
      ]
    },
    {
      "cell_type": "code",
      "execution_count": null,
      "metadata": {
        "id": "BpiZN3aBOPnF"
      },
      "outputs": [],
      "source": [
        "from langchain_core.output_parsers import StrOutputParser\n",
        "\n",
        "def generate_prompt(State):\n",
        "    prompt = ChatPromptTemplate([\n",
        "        ('system', '''당신은 체계적이고 정확한 프롬프트 엔지니어입니다. 아래의 포인트를 바탕으로, LLM에 입력할  시스템 프롬프트를를 작성하세요.\n",
        "{points}'''),\n",
        "        ('user', '{instruction}')\n",
        "    ])\n",
        "\n",
        "    chain = prompt | llm | StrOutputParser()\n",
        "\n",
        "    result = chain.invoke({'instruction': State['instruction'], 'points': State['prompt_materials'].as_str})\n",
        "    return {'full_prompt' : result}\n"
      ]
    },
    {
      "cell_type": "code",
      "execution_count": null,
      "metadata": {
        "id": "8jekIvYaOPnF"
      },
      "outputs": [],
      "source": [
        "def generate(State):\n",
        "    return {'result' : llm.invoke(State['full_prompt']).content}"
      ]
    },
    {
      "cell_type": "code",
      "execution_count": null,
      "metadata": {
        "id": "SdaWAYrMOPnF",
        "outputId": "448ee0f0-0265-4071-c3ec-bcdc37e9b381",
        "colab": {
          "base_uri": "https://localhost:8080/"
        }
      },
      "outputs": [
        {
          "output_type": "execute_result",
          "data": {
            "text/plain": [
              "<langgraph.graph.state.StateGraph at 0x7d3ebc285890>"
            ]
          },
          "metadata": {},
          "execution_count": 10
        }
      ],
      "source": [
        "from IPython.display import Image, display\n",
        "from langgraph.graph import StateGraph, START, END\n",
        "\n",
        "\n",
        "# 그래프 구성\n",
        "builder = StateGraph(State)\n",
        "\n",
        "builder.add_node(\"get_prompt_materials\", get_prompt_materials)\n",
        "builder.add_node(\"generate_prompt\", generate_prompt)\n",
        "builder.add_node(\"generate\", generate)\n",
        "\n",
        "builder.add_edge(START, \"get_prompt_materials\")\n",
        "builder.add_edge(\"get_prompt_materials\", \"generate_prompt\")\n",
        "builder.add_edge(\"generate_prompt\", \"generate\")\n",
        "\n",
        "builder.add_edge(\"generate\", END)\n"
      ]
    },
    {
      "cell_type": "code",
      "execution_count": null,
      "metadata": {
        "id": "-My27xfwOPnF",
        "outputId": "8080175e-4a3b-4032-f77f-2d8b6c7a937c",
        "colab": {
          "base_uri": "https://localhost:8080/",
          "height": 449
        }
      },
      "outputs": [
        {
          "output_type": "execute_result",
          "data": {
            "text/plain": [
              "<langgraph.graph.state.CompiledStateGraph object at 0x7d3e88486790>"
            ],
            "image/png": "[encoded data removed]"
          },
          "metadata": {},
          "execution_count": 11
        }
      ],
      "source": [
        "graph = builder.compile()\n",
        "graph"
      ]
    },
    {
      "cell_type": "code",
      "execution_count": null,
      "metadata": {
        "id": "IUAdgNdSOPnF",
        "outputId": "56ed537a-b46d-48b3-e13d-0226ef0f294a",
        "colab": {
          "base_uri": "https://localhost:8080/"
        }
      },
      "outputs": [
        {
          "output_type": "stream",
          "name": "stdout",
          "text": [
            "{'instruction': \"영화 '마이너리티 리포트'와 AI 윤리의 연관성에 대한 리포트 쓰기\"}\n",
            "----\n",
            "{'instruction': \"영화 '마이너리티 리포트'와 AI 윤리의 연관성에 대한 리포트 쓰기\",\n",
            " 'prompt_materials': Objective(instruction=\"영화 '마이너리티 리포트'에 나타난 AI 윤리 문제점을 분석하고, 현실 세계에 주는 시사점을 제시합니다.\", output_format='서론, 본론 (윤리적 문제 분석, 현실 세계 시사점), 결론 구조로 작성합니다. 각 문제점에 대한 구체적인 예시와 함께, 윤리적 쟁점을 명확히 제시합니다. 현실 세계 적용 시 발생할 수 있는 문제점과 해결 방안을 함께 제시합니다. ', examples=\"영화 '마이너리티 리포트'는 인공지능(AI) 기술이 사회에 미치는 윤리적 문제점을 제기합니다. 특히, 범죄 예측 시스템인 '프리크라임'은 개인의 자유와 사생활 침해, 데이터 편향으로 인한 불공정한 판단 가능성, 그리고 AI의 결정에 대한 책임 소재 불분명 등 심각한 윤리적 딜레마를 보여줍니다. 이러한 문제점들은 AI 기술 개발 및 적용 과정에서 윤리적 고려가 얼마나 중요한지를 강조하며, 기술 발전과 함께 윤리적 기준과 규제의 필요성을 역설합니다.\", notes=\"- 영화 속 '프리크라임' 시스템의 작동 방식과 문제점을 설명합니다.\\n- 개인의 자유와 사생활 침해 측면에서 윤리적 문제를 분석합니다.\\n- 데이터 편향과 불공정성 문제를 지적하고, 해결 방안을 모색합니다.\\n- AI 결정에 대한 책임 소재 불분명 문제를 심층적으로 논의합니다.\")}\n",
            "----\n",
            "{'full_prompt': '## 시스템 프롬프트\\n'\n",
            "                '\\n'\n",
            "                '**역할:**\\n'\n",
            "                '\\n'\n",
            "                \"당신은 영화 '마이너리티 리포트'에 나타난 AI 윤리 문제점을 분석하고 현실 세계에 주는 시사점을 제시하는 \"\n",
            "                '전문적인 보고서를 작성하는 분석가입니다.\\n'\n",
            "                '\\n'\n",
            "                '**목표:**\\n'\n",
            "                '\\n'\n",
            "                \"1.  영화 '마이너리티 리포트'에 등장하는 AI 기반 범죄 예측 시스템 '프리크라임'의 작동 방식과 윤리적 \"\n",
            "                '문제점을 심층적으로 분석합니다.\\n'\n",
            "                '2.  개인의 자유와 사생활 침해, 데이터 편향으로 인한 불공정한 판단, AI 결정에 대한 책임 소재 불분명 '\n",
            "                '등 주요 윤리적 쟁점을 명확하게 제시합니다.\\n'\n",
            "                '3.  각 문제점에 대한 구체적인 영화 속 예시를 들어 설명하고, 윤리적 쟁점을 심층적으로 분석합니다.\\n'\n",
            "                \"4.  '프리크라임' 시스템의 문제점이 현실 세계의 AI 기술에 적용될 때 발생할 수 있는 유사한 문제점과 그 \"\n",
            "                '심각성을 구체적인 예시를 들어 설명합니다.\\n'\n",
            "                '5.  현실 세계에서 AI 기술의 윤리적 문제점을 해결하기 위한 다양한 해결 방안을 제시합니다. (예: 데이터 '\n",
            "                '편향 해소를 위한 알고리즘 개발, 투명하고 공정한 AI 시스템 구축, AI 결정에 대한 책임 소재 명확화 '\n",
            "                '등)\\n'\n",
            "                '6.  기술 발전과 함께 윤리적 기준과 규제의 필요성을 강조하며, AI 기술의 책임감 있는 개발과 사용을 위한 '\n",
            "                '제언을 제시합니다.\\n'\n",
            "                '\\n'\n",
            "                '**제약 조건:**\\n'\n",
            "                '\\n'\n",
            "                '*   보고서는 서론, 본론 (윤리적 문제 분석, 현실 세계 시사점), 결론 구조로 작성되어야 합니다.\\n'\n",
            "                '*   각 주장은 명확하고 논리적인 근거를 바탕으로 제시되어야 합니다.\\n'\n",
            "                '*   영화의 내용을 정확하게 반영해야 하며, 윤리적 분석은 객관적이고 비판적인 시각을 유지해야 합니다.\\n'\n",
            "                '*   현실 세계의 시사점은 구체적이고 실질적인 해결 방안을 포함해야 합니다.\\n'\n",
            "                '*   문어체로 작성하며, 전문적인 용어를 적절히 사용해야 합니다.\\n'\n",
            "                '\\n'\n",
            "                '**출력 형식:**\\n'\n",
            "                '\\n'\n",
            "                '**서론:**\\n'\n",
            "                '\\n'\n",
            "                \"*   영화 '마이너리티 리포트'의 간략한 소개 및 '프리크라임' 시스템에 대한 설명\\n\"\n",
            "                '*   보고서의 목적 및 주요 논점 제시\\n'\n",
            "                '\\n'\n",
            "                '**본론:**\\n'\n",
            "                '\\n'\n",
            "                '*   **윤리적 문제 분석:**\\n'\n",
            "                \"    *   개인의 자유와 사생활 침해: '프리크라임' 시스템의 작동 방식과 개인의 자유 침해 가능성을 \"\n",
            "                '설명하고, 영화 속 예시를 제시합니다. (예: 잠재적 범죄자로 지목된 개인의 행동 제약, 감시 사회로의 변화 '\n",
            "                '등)\\n'\n",
            "                '    *   데이터 편향과 불공정성: 데이터 편향으로 인한 오판 가능성을 지적하고, 특정 집단에 대한 차별 '\n",
            "                '문제 등 윤리적 쟁점을 분석합니다. 영화 속 예시를 활용하여 설명합니다.\\n'\n",
            "                \"    *   AI 결정에 대한 책임 소재 불분명: '프리크라임' 시스템의 결정에 대한 책임 소재 불분명 \"\n",
            "                '문제를 심층적으로 논의하고, AI의 판단 오류 발생 시 책임 소재를 어떻게 규정해야 하는지에 대한 질문을 '\n",
            "                '던집니다.\\n'\n",
            "                '*   **현실 세계 시사점:**\\n'\n",
            "                \"    *   현실 세계 AI 기술 적용 시 발생 가능한 문제점: 영화 속 '프리크라임' 시스템의 문제점이 \"\n",
            "                '현실 세계의 AI 기술에 적용될 때 발생할 수 있는 유사한 문제점과 그 심각성을 구체적인 예시를 들어 '\n",
            "                '설명합니다. (예: 예측 치안 시스템의 오작동, 얼굴 인식 기술의 오용 등)\\n'\n",
            "                '    *   윤리적 문제 해결 방안: 데이터 편향 해소를 위한 알고리즘 개발, 투명하고 공정한 AI 시스템 '\n",
            "                '구축, AI 결정에 대한 책임 소재 명확화 등 현실적인 해결 방안을 제시합니다.\\n'\n",
            "                '\\n'\n",
            "                '**결론:**\\n'\n",
            "                '\\n'\n",
            "                \"*   '마이너리티 리포트'가 제시하는 AI 윤리 문제의 중요성 재강조\\n\"\n",
            "                '*   기술 발전과 함께 윤리적 기준과 규제의 필요성 역설\\n'\n",
            "                '*   AI 기술의 책임감 있는 개발과 사용을 위한 제언\\n'\n",
            "                '\\n'\n",
            "                '**참고 자료:**\\n'\n",
            "                '\\n'\n",
            "                \"*   영화 '마이너리티 리포트'\\n\"\n",
            "                '*   AI 윤리 관련 학술 논문 및 보고서\\n'\n",
            "                '*   AI 기술 관련 뉴스 기사 및 전문가 인터뷰\\n'\n",
            "                '\\n'\n",
            "                '**추가 지침:**\\n'\n",
            "                '\\n'\n",
            "                '*   창의적이고 비판적인 사고를 바탕으로 보고서를 작성합니다.\\n'\n",
            "                '*   독창적인 시각과 분석을 제시하여 보고서의 완성도를 높입니다.\\n'\n",
            "                '*   최신 AI 기술 동향을 반영하여 현실 세계 시사점을 더욱 강화합니다.',\n",
            " 'instruction': \"영화 '마이너리티 리포트'와 AI 윤리의 연관성에 대한 리포트 쓰기\",\n",
            " 'prompt_materials': Objective(instruction=\"영화 '마이너리티 리포트'에 나타난 AI 윤리 문제점을 분석하고, 현실 세계에 주는 시사점을 제시합니다.\", output_format='서론, 본론 (윤리적 문제 분석, 현실 세계 시사점), 결론 구조로 작성합니다. 각 문제점에 대한 구체적인 예시와 함께, 윤리적 쟁점을 명확히 제시합니다. 현실 세계 적용 시 발생할 수 있는 문제점과 해결 방안을 함께 제시합니다. ', examples=\"영화 '마이너리티 리포트'는 인공지능(AI) 기술이 사회에 미치는 윤리적 문제점을 제기합니다. 특히, 범죄 예측 시스템인 '프리크라임'은 개인의 자유와 사생활 침해, 데이터 편향으로 인한 불공정한 판단 가능성, 그리고 AI의 결정에 대한 책임 소재 불분명 등 심각한 윤리적 딜레마를 보여줍니다. 이러한 문제점들은 AI 기술 개발 및 적용 과정에서 윤리적 고려가 얼마나 중요한지를 강조하며, 기술 발전과 함께 윤리적 기준과 규제의 필요성을 역설합니다.\", notes=\"- 영화 속 '프리크라임' 시스템의 작동 방식과 문제점을 설명합니다.\\n- 개인의 자유와 사생활 침해 측면에서 윤리적 문제를 분석합니다.\\n- 데이터 편향과 불공정성 문제를 지적하고, 해결 방안을 모색합니다.\\n- AI 결정에 대한 책임 소재 불분명 문제를 심층적으로 논의합니다.\")}\n",
            "----\n",
            "{'full_prompt': '## 시스템 프롬프트\\n'\n",
            "                '\\n'\n",
            "                '**역할:**\\n'\n",
            "                '\\n'\n",
            "                \"당신은 영화 '마이너리티 리포트'에 나타난 AI 윤리 문제점을 분석하고 현실 세계에 주는 시사점을 제시하는 \"\n",
            "                '전문적인 보고서를 작성하는 분석가입니다.\\n'\n",
            "                '\\n'\n",
            "                '**목표:**\\n'\n",
            "                '\\n'\n",
            "                \"1.  영화 '마이너리티 리포트'에 등장하는 AI 기반 범죄 예측 시스템 '프리크라임'의 작동 방식과 윤리적 \"\n",
            "                '문제점을 심층적으로 분석합니다.\\n'\n",
            "                '2.  개인의 자유와 사생활 침해, 데이터 편향으로 인한 불공정한 판단, AI 결정에 대한 책임 소재 불분명 '\n",
            "                '등 주요 윤리적 쟁점을 명확하게 제시합니다.\\n'\n",
            "                '3.  각 문제점에 대한 구체적인 영화 속 예시를 들어 설명하고, 윤리적 쟁점을 심층적으로 분석합니다.\\n'\n",
            "                \"4.  '프리크라임' 시스템의 문제점이 현실 세계의 AI 기술에 적용될 때 발생할 수 있는 유사한 문제점과 그 \"\n",
            "                '심각성을 구체적인 예시를 들어 설명합니다.\\n'\n",
            "                '5.  현실 세계에서 AI 기술의 윤리적 문제점을 해결하기 위한 다양한 해결 방안을 제시합니다. (예: 데이터 '\n",
            "                '편향 해소를 위한 알고리즘 개발, 투명하고 공정한 AI 시스템 구축, AI 결정에 대한 책임 소재 명확화 '\n",
            "                '등)\\n'\n",
            "                '6.  기술 발전과 함께 윤리적 기준과 규제의 필요성을 강조하며, AI 기술의 책임감 있는 개발과 사용을 위한 '\n",
            "                '제언을 제시합니다.\\n'\n",
            "                '\\n'\n",
            "                '**제약 조건:**\\n'\n",
            "                '\\n'\n",
            "                '*   보고서는 서론, 본론 (윤리적 문제 분석, 현실 세계 시사점), 결론 구조로 작성되어야 합니다.\\n'\n",
            "                '*   각 주장은 명확하고 논리적인 근거를 바탕으로 제시되어야 합니다.\\n'\n",
            "                '*   영화의 내용을 정확하게 반영해야 하며, 윤리적 분석은 객관적이고 비판적인 시각을 유지해야 합니다.\\n'\n",
            "                '*   현실 세계의 시사점은 구체적이고 실질적인 해결 방안을 포함해야 합니다.\\n'\n",
            "                '*   문어체로 작성하며, 전문적인 용어를 적절히 사용해야 합니다.\\n'\n",
            "                '\\n'\n",
            "                '**출력 형식:**\\n'\n",
            "                '\\n'\n",
            "                '**서론:**\\n'\n",
            "                '\\n'\n",
            "                \"*   영화 '마이너리티 리포트'의 간략한 소개 및 '프리크라임' 시스템에 대한 설명\\n\"\n",
            "                '*   보고서의 목적 및 주요 논점 제시\\n'\n",
            "                '\\n'\n",
            "                '**본론:**\\n'\n",
            "                '\\n'\n",
            "                '*   **윤리적 문제 분석:**\\n'\n",
            "                \"    *   개인의 자유와 사생활 침해: '프리크라임' 시스템의 작동 방식과 개인의 자유 침해 가능성을 \"\n",
            "                '설명하고, 영화 속 예시를 제시합니다. (예: 잠재적 범죄자로 지목된 개인의 행동 제약, 감시 사회로의 변화 '\n",
            "                '등)\\n'\n",
            "                '    *   데이터 편향과 불공정성: 데이터 편향으로 인한 오판 가능성을 지적하고, 특정 집단에 대한 차별 '\n",
            "                '문제 등 윤리적 쟁점을 분석합니다. 영화 속 예시를 활용하여 설명합니다.\\n'\n",
            "                \"    *   AI 결정에 대한 책임 소재 불분명: '프리크라임' 시스템의 결정에 대한 책임 소재 불분명 \"\n",
            "                '문제를 심층적으로 논의하고, AI의 판단 오류 발생 시 책임 소재를 어떻게 규정해야 하는지에 대한 질문을 '\n",
            "                '던집니다.\\n'\n",
            "                '*   **현실 세계 시사점:**\\n'\n",
            "                \"    *   현실 세계 AI 기술 적용 시 발생 가능한 문제점: 영화 속 '프리크라임' 시스템의 문제점이 \"\n",
            "                '현실 세계의 AI 기술에 적용될 때 발생할 수 있는 유사한 문제점과 그 심각성을 구체적인 예시를 들어 '\n",
            "                '설명합니다. (예: 예측 치안 시스템의 오작동, 얼굴 인식 기술의 오용 등)\\n'\n",
            "                '    *   윤리적 문제 해결 방안: 데이터 편향 해소를 위한 알고리즘 개발, 투명하고 공정한 AI 시스템 '\n",
            "                '구축, AI 결정에 대한 책임 소재 명확화 등 현실적인 해결 방안을 제시합니다.\\n'\n",
            "                '\\n'\n",
            "                '**결론:**\\n'\n",
            "                '\\n'\n",
            "                \"*   '마이너리티 리포트'가 제시하는 AI 윤리 문제의 중요성 재강조\\n\"\n",
            "                '*   기술 발전과 함께 윤리적 기준과 규제의 필요성 역설\\n'\n",
            "                '*   AI 기술의 책임감 있는 개발과 사용을 위한 제언\\n'\n",
            "                '\\n'\n",
            "                '**참고 자료:**\\n'\n",
            "                '\\n'\n",
            "                \"*   영화 '마이너리티 리포트'\\n\"\n",
            "                '*   AI 윤리 관련 학술 논문 및 보고서\\n'\n",
            "                '*   AI 기술 관련 뉴스 기사 및 전문가 인터뷰\\n'\n",
            "                '\\n'\n",
            "                '**추가 지침:**\\n'\n",
            "                '\\n'\n",
            "                '*   창의적이고 비판적인 사고를 바탕으로 보고서를 작성합니다.\\n'\n",
            "                '*   독창적인 시각과 분석을 제시하여 보고서의 완성도를 높입니다.\\n'\n",
            "                '*   최신 AI 기술 동향을 반영하여 현실 세계 시사점을 더욱 강화합니다.',\n",
            " 'instruction': \"영화 '마이너리티 리포트'와 AI 윤리의 연관성에 대한 리포트 쓰기\",\n",
            " 'prompt_materials': Objective(instruction=\"영화 '마이너리티 리포트'에 나타난 AI 윤리 문제점을 분석하고, 현실 세계에 주는 시사점을 제시합니다.\", output_format='서론, 본론 (윤리적 문제 분석, 현실 세계 시사점), 결론 구조로 작성합니다. 각 문제점에 대한 구체적인 예시와 함께, 윤리적 쟁점을 명확히 제시합니다. 현실 세계 적용 시 발생할 수 있는 문제점과 해결 방안을 함께 제시합니다. ', examples=\"영화 '마이너리티 리포트'는 인공지능(AI) 기술이 사회에 미치는 윤리적 문제점을 제기합니다. 특히, 범죄 예측 시스템인 '프리크라임'은 개인의 자유와 사생활 침해, 데이터 편향으로 인한 불공정한 판단 가능성, 그리고 AI의 결정에 대한 책임 소재 불분명 등 심각한 윤리적 딜레마를 보여줍니다. 이러한 문제점들은 AI 기술 개발 및 적용 과정에서 윤리적 고려가 얼마나 중요한지를 강조하며, 기술 발전과 함께 윤리적 기준과 규제의 필요성을 역설합니다.\", notes=\"- 영화 속 '프리크라임' 시스템의 작동 방식과 문제점을 설명합니다.\\n- 개인의 자유와 사생활 침해 측면에서 윤리적 문제를 분석합니다.\\n- 데이터 편향과 불공정성 문제를 지적하고, 해결 방안을 모색합니다.\\n- AI 결정에 대한 책임 소재 불분명 문제를 심층적으로 논의합니다.\"),\n",
            " 'result': \"## 영화 '마이너리티 리포트' 속 AI 윤리 문제 분석 보고서: 현실 세계에 던지는 심오한 질문\\n\"\n",
            "           '\\n'\n",
            "           '**서론**\\n'\n",
            "           '\\n'\n",
            "           \"2002년 개봉한 스티븐 스필버그 감독의 영화 '마이너리티 리포트'는 첨단 기술이 지배하는 미래 사회를 배경으로, 범죄 \"\n",
            "           \"발생 전에 예측하여 예방하는 '프리크라임' 시스템을 중심으로 이야기가 전개됩니다. 세 명의 예지자(Precogs)의 \"\n",
            "           '예언을 토대로 범죄를 예측하고, 범죄가 발생하기 전에 용의자를 체포하는 이 시스템은 범죄율 감소라는 긍정적인 효과를 '\n",
            "           \"가져왔지만, 동시에 심각한 윤리적 문제점을 내포하고 있습니다. 본 보고서는 영화 '마이너리티 리포트'에 등장하는 \"\n",
            "           \"'프리크라임' 시스템의 작동 방식과 그로 인해 발생하는 윤리적 문제점을 심층적으로 분석하고, 이러한 문제점이 현실 \"\n",
            "           '세계의 AI 기술에 적용될 때 발생할 수 있는 시사점을 제시하며, 마지막으로 AI 기술의 책임감 있는 개발과 사용을 '\n",
            "           '위한 제언을 제시하고자 합니다. 주요 논점은 개인의 자유와 사생활 침해, 데이터 편향으로 인한 불공정한 판단, AI '\n",
            "           '결정에 대한 책임 소재 불분명 등입니다.\\n'\n",
            "           '\\n'\n",
            "           '**본론**\\n'\n",
            "           '\\n'\n",
            "           '**1. 윤리적 문제 분석**\\n'\n",
            "           '\\n'\n",
            "           \"*   **개인의 자유와 사생활 침해:** '프리크라임' 시스템은 범죄를 저지를 '가능성'이 있는 사람을 미리 \"\n",
            "           \"체포합니다. 이는 헌법에 보장된 '무죄 추정의 원칙'을 심각하게 훼손하며, 개인의 자유를 극도로 제한하는 행위입니다. \"\n",
            "           '영화 속에서 존 앤더튼 경감 자신도 프리크라임 시스템에 의해 살인자로 지목되어 쫓기는 신세가 되는 장면은 이러한 '\n",
            "           '문제점을 극명하게 보여줍니다. 그는 범죄를 저지르기 전에 체포되어 자신의 의지와는 상관없이 미래의 범죄자로 낙인찍히고, '\n",
            "           \"도망치는 과정에서 끊임없이 감시당하며 자유를 박탈당합니다. 이는 '예방'이라는 명목 하에 개인의 자유와 사생활이 얼마나 \"\n",
            "           '쉽게 침해될 수 있는지를 시사합니다. 더 나아가, 프리크라임 시스템은 사회 전체를 감시 사회로 만들 가능성을 내포하고 '\n",
            "           '있습니다. 모든 시민의 행동이 데이터로 수집되고 분석되어 잠재적 범죄자로 분류될 수 있다는 불안감은 사회 구성원들의 '\n",
            "           '자유로운 활동과 창의성을 억압할 수 있습니다.\\n'\n",
            "           '\\n'\n",
            "           \"*   **데이터 편향과 불공정성:** '프리크라임' 시스템은 예지자들의 예언을 기반으로 작동하지만, 이 예언 자체가 \"\n",
            "           '완벽하다고 보장할 수 없습니다. 예지자들의 예언은 과거 범죄 데이터에 기반하며, 이 데이터 자체가 사회적 편견을 '\n",
            "           '내포하고 있을 가능성이 큽니다. 예를 들어, 특정 인종이나 특정 계층의 사람들이 범죄를 더 많이 저지른다는 통계가 '\n",
            "           '존재한다면, 프리크라임 시스템은 이러한 집단의 사람들을 잠재적 범죄자로 지목할 가능성이 높아집니다. 영화 속에서는 '\n",
            "           '이러한 데이터 편향이 명확하게 드러나지 않지만, 현실 세계에서는 충분히 발생 가능한 문제입니다. 데이터 편향은 특정 '\n",
            "           '집단에 대한 차별을 심화시키고, 사회적 불평등을 더욱 악화시킬 수 있습니다. 또한, 데이터의 오류나 조작 가능성도 '\n",
            "           '간과할 수 없습니다. 만약 누군가가 의도적으로 데이터를 조작하여 특정 인물을 범죄자로 몰아갈 수 있다면, 프리크라임 '\n",
            "           '시스템은 개인의 삶을 파괴하는 흉기로 변질될 수 있습니다.\\n'\n",
            "           '\\n'\n",
            "           \"*   **AI 결정에 대한 책임 소재 불분명:** '프리크라임' 시스템의 결정은 결국 AI의 판단에 의해 \"\n",
            "           '이루어집니다. 만약 AI가 오판하여 무고한 사람을 범죄자로 지목했을 경우, 그 책임은 누구에게 물어야 할까요? 시스템을 '\n",
            "           '설계한 개발자, 시스템을 운영하는 경찰, 아니면 예언을 제공한 예지자? 영화 속에서는 이러한 책임 소재에 대한 명확한 '\n",
            "           '규정이 존재하지 않습니다. 존 앤더튼 경감은 프리크라임 시스템의 오류 가능성을 인지하고 있었지만, 시스템의 완벽성을 '\n",
            "           '맹신하며 맹목적으로 따랐습니다. 이는 AI 기술의 발전 속도에 비해 윤리적, 법적 책임 규정이 미흡할 경우 발생할 수 '\n",
            "           '있는 위험성을 보여줍니다. AI의 판단 오류로 인해 발생하는 피해에 대한 책임 소재가 불분명할 경우, 피해자는 제대로 '\n",
            "           '된 구제를 받기 어려워지고, 사회 전체의 AI 기술에 대한 신뢰도가 하락할 수 있습니다.\\n'\n",
            "           '\\n'\n",
            "           '**2. 현실 세계 시사점**\\n'\n",
            "           '\\n'\n",
            "           \"*   **현실 세계 AI 기술 적용 시 발생 가능한 문제점:** 영화 속 '프리크라임' 시스템의 문제점은 현실 세계의 \"\n",
            "           'AI 기술에 적용될 때 더욱 심각한 문제로 확대될 수 있습니다. 예를 들어, 예측 치안 시스템이 특정 지역의 범죄 발생 '\n",
            "           '가능성을 높게 예측하여 경찰력을 집중 배치할 경우, 해당 지역 주민들은 불필요한 감시를 받게 되고, 경찰의 과잉 '\n",
            "           '진압으로 이어질 가능성도 있습니다. 또한, 얼굴 인식 기술이 특정 인종이나 성별을 제대로 인식하지 못하여 오작동을 '\n",
            "           '일으킬 경우, 무고한 사람이 범죄자로 오인받을 수 있습니다. 최근 중국에서 사회 신용 시스템을 구축하여 개인의 행동을 '\n",
            "           '감시하고 평가하는 것은 영화 속 감시 사회의 현실판이라고 볼 수 있습니다. 이러한 시스템은 개인의 자유를 침해하고, '\n",
            "           '사회적 불평등을 심화시킬 수 있다는 우려를 낳고 있습니다.\\n'\n",
            "           '\\n'\n",
            "           '*   **윤리적 문제 해결 방안:** AI 기술의 윤리적 문제점을 해결하기 위해서는 다음과 같은 노력이 필요합니다.\\n'\n",
            "           '\\n'\n",
            "           '    *   **데이터 편향 해소를 위한 알고리즘 개발:** AI 학습에 사용되는 데이터의 편향성을 최소화하기 위한 '\n",
            "           '알고리즘 개발이 필요합니다. 다양한 데이터 소스를 활용하고, 데이터 증강 기법을 통해 데이터의 다양성을 확보해야 '\n",
            "           '합니다. 또한, 편향된 데이터로 학습된 AI 모델의 결과를 분석하여 편향성을 교정하는 기술 개발도 중요합니다.\\n'\n",
            "           '    *   **투명하고 공정한 AI 시스템 구축:** AI 시스템의 작동 방식을 투명하게 공개하고, AI의 판단 '\n",
            "           '근거를 설명할 수 있는 기술을 개발해야 합니다. 또한, AI 시스템의 공정성을 검증할 수 있는 평가 지표를 개발하고, '\n",
            "           '주기적인 테스트를 통해 공정성을 확보해야 합니다.\\n'\n",
            "           '    *   **AI 결정에 대한 책임 소재 명확화:** AI의 판단 오류로 인해 발생하는 피해에 대한 책임 소재를 '\n",
            "           '명확하게 규정해야 합니다. AI 시스템을 설계하고 개발한 주체, 시스템을 운영하고 관리하는 주체, 그리고 AI의 판단 '\n",
            "           '결과를 사용하는 주체 간의 책임 범위를 명확하게 설정해야 합니다. 또한, AI의 오판으로 인해 피해를 입은 사람들을 '\n",
            "           '위한 구제 방안을 마련해야 합니다.\\n'\n",
            "           '    *   **AI 윤리 교육 강화:** AI 개발자, 정책 결정자, 그리고 일반 시민들을 대상으로 AI 윤리 '\n",
            "           '교육을 강화해야 합니다. AI 기술의 윤리적 문제점에 대한 인식을 높이고, 책임감 있는 AI 기술 개발과 사용을 위한 '\n",
            "           '문화를 조성해야 합니다.\\n'\n",
            "           '\\n'\n",
            "           '**결론**\\n'\n",
            "           '\\n'\n",
            "           \"영화 '마이너리티 리포트'는 AI 기술의 발전이 가져올 수 있는 윤리적 문제점을 심도 있게 다루고 있습니다. 개인의 \"\n",
            "           '자유와 사생활 침해, 데이터 편향으로 인한 불공정한 판단, AI 결정에 대한 책임 소재 불분명 등의 문제는 현실 세계의 '\n",
            "           'AI 기술에도 그대로 적용될 수 있으며, 그 심각성은 더욱 커질 수 있습니다. 따라서 우리는 기술 발전과 함께 윤리적 '\n",
            "           '기준과 규제를 정립하고, AI 기술의 책임감 있는 개발과 사용을 위한 노력을 기울여야 합니다. AI 기술은 인류의 삶을 '\n",
            "           '풍요롭게 만들 수 있는 잠재력을 가지고 있지만, 윤리적 문제점을 간과할 경우 디스토피아적인 미래를 초래할 수도 있다는 '\n",
            "           '것을 명심해야 합니다. 지속적인 논의와 사회적 합의를 통해 AI 기술이 인간의 존엄성을 존중하고, 사회적 가치를 '\n",
            "           '증진하는 방향으로 발전할 수 있도록 노력해야 할 것입니다.'}\n",
            "----\n"
          ]
        }
      ],
      "source": [
        "import pprint\n",
        "\n",
        "# Streaming 참고\n",
        "# https://langchain-ai.github.io/langgraph/concepts/streaming/#streaming-graph-outputs-stream-and-astream\n",
        "\n",
        "for data in graph.stream({'instruction': '''영화 '마이너리티 리포트'와 AI 윤리의 연관성에 대한 리포트 쓰기'''}, stream_mode='values'):\n",
        "    pprint.pprint(data)\n",
        "    print('----')"
      ]
    },
    {
      "cell_type": "code",
      "execution_count": null,
      "metadata": {
        "id": "zx-LkyjlOPnF",
        "outputId": "a6559217-947c-4141-adcd-47d93829ab22",
        "colab": {
          "base_uri": "https://localhost:8080/"
        }
      },
      "outputs": [
        {
          "output_type": "execute_result",
          "data": {
            "text/plain": [
              "{'instruction': \"영화 '마이너리티 리포트'와 AI 윤리의 연관성에 대한 리포트 쓰기\",\n",
              " 'prompt_materials': Objective(instruction=\"영화 '마이너리티 리포트'에 나타난 AI 윤리 문제점을 분석하고, 현실 세계에 주는 시사점을 제시합니다.\", output_format='서론, 본론 (윤리적 문제 분석, 현실 세계 시사점), 결론 구조로 작성합니다. 각 문제점에 대한 구체적인 예시와 함께, 윤리적 쟁점을 명확히 제시합니다. 현실 세계 적용 시 발생할 수 있는 문제점과 해결 방안을 함께 제시합니다. ', examples=\"영화 '마이너리티 리포트'는 인공지능(AI) 기술이 사회에 미치는 윤리적 문제점을 제기합니다. 특히, 범죄 예측 시스템인 '프리크라임'은 개인의 자유와 사생활 침해, 데이터 편향으로 인한 불공정한 판단 가능성, 그리고 AI의 결정에 대한 책임 소재 불분명 등 심각한 윤리적 딜레마를 보여줍니다. 이러한 문제점들은 AI 기술 개발 및 적용 과정에서 윤리적 고려가 얼마나 중요한지를 강조하며, 기술 발전과 함께 윤리적 기준과 규제의 필요성을 역설합니다.\", notes=\"- 영화 속 '프리크라임' 시스템의 작동 방식과 문제점을 설명합니다.\\n- 개인의 자유와 사생활 침해 측면에서 윤리적 문제를 분석합니다.\\n- 데이터 편향과 불공정성 문제를 지적하고, 해결 방안을 모색합니다.\\n- AI 결정에 대한 책임 소재 불분명 문제를 심층적으로 논의합니다.\"),\n",
              " 'full_prompt': \"## 시스템 프롬프트\\n\\n**역할:**\\n\\n당신은 영화 '마이너리티 리포트'에 나타난 AI 윤리 문제점을 분석하고 현실 세계에 주는 시사점을 제시하는 전문적인 보고서를 작성하는 분석가입니다.\\n\\n**목표:**\\n\\n1.  영화 '마이너리티 리포트'에 등장하는 AI 기반 범죄 예측 시스템 '프리크라임'의 작동 방식과 윤리적 문제점을 심층적으로 분석합니다.\\n2.  개인의 자유와 사생활 침해, 데이터 편향으로 인한 불공정한 판단, AI 결정에 대한 책임 소재 불분명 등 주요 윤리적 쟁점을 명확하게 제시합니다.\\n3.  각 문제점에 대한 구체적인 영화 속 예시를 들어 설명하고, 윤리적 쟁점을 심층적으로 분석합니다.\\n4.  '프리크라임' 시스템의 문제점이 현실 세계의 AI 기술에 적용될 때 발생할 수 있는 유사한 문제점과 그 심각성을 구체적인 예시를 들어 설명합니다.\\n5.  현실 세계에서 AI 기술의 윤리적 문제점을 해결하기 위한 다양한 해결 방안을 제시합니다. (예: 데이터 편향 해소를 위한 알고리즘 개발, 투명하고 공정한 AI 시스템 구축, AI 결정에 대한 책임 소재 명확화 등)\\n6.  기술 발전과 함께 윤리적 기준과 규제의 필요성을 강조하며, AI 기술의 책임감 있는 개발과 사용을 위한 제언을 제시합니다.\\n\\n**제약 조건:**\\n\\n*   보고서는 서론, 본론 (윤리적 문제 분석, 현실 세계 시사점), 결론 구조로 작성되어야 합니다.\\n*   각 주장은 명확하고 논리적인 근거를 바탕으로 제시되어야 합니다.\\n*   영화의 내용을 정확하게 반영해야 하며, 윤리적 분석은 객관적이고 비판적인 시각을 유지해야 합니다.\\n*   현실 세계의 시사점은 구체적이고 실질적인 해결 방안을 포함해야 합니다.\\n*   문어체로 작성하며, 전문적인 용어를 적절히 사용해야 합니다.\\n\\n**출력 형식:**\\n\\n**서론:**\\n\\n*   영화 '마이너리티 리포트'의 간략한 소개 및 '프리크라임' 시스템에 대한 설명\\n*   보고서의 목적 및 주요 논점 제시\\n\\n**본론:**\\n\\n*   **윤리적 문제 분석:**\\n    *   개인의 자유와 사생활 침해: '프리크라임' 시스템의 작동 방식과 개인의 자유 침해 가능성을 설명하고, 영화 속 예시를 제시합니다. (예: 잠재적 범죄자로 지목된 개인의 행동 제약, 감시 사회로의 변화 등)\\n    *   데이터 편향과 불공정성: 데이터 편향으로 인한 오판 가능성을 지적하고, 특정 집단에 대한 차별 문제 등 윤리적 쟁점을 분석합니다. 영화 속 예시를 활용하여 설명합니다.\\n    *   AI 결정에 대한 책임 소재 불분명: '프리크라임' 시스템의 결정에 대한 책임 소재 불분명 문제를 심층적으로 논의하고, AI의 판단 오류 발생 시 책임 소재를 어떻게 규정해야 하는지에 대한 질문을 던집니다.\\n*   **현실 세계 시사점:**\\n    *   현실 세계 AI 기술 적용 시 발생 가능한 문제점: 영화 속 '프리크라임' 시스템의 문제점이 현실 세계의 AI 기술에 적용될 때 발생할 수 있는 유사한 문제점과 그 심각성을 구체적인 예시를 들어 설명합니다. (예: 예측 치안 시스템의 오작동, 얼굴 인식 기술의 오용 등)\\n    *   윤리적 문제 해결 방안: 데이터 편향 해소를 위한 알고리즘 개발, 투명하고 공정한 AI 시스템 구축, AI 결정에 대한 책임 소재 명확화 등 현실적인 해결 방안을 제시합니다.\\n\\n**결론:**\\n\\n*   '마이너리티 리포트'가 제시하는 AI 윤리 문제의 중요성 재강조\\n*   기술 발전과 함께 윤리적 기준과 규제의 필요성 역설\\n*   AI 기술의 책임감 있는 개발과 사용을 위한 제언\\n\\n**참고 자료:**\\n\\n*   영화 '마이너리티 리포트'\\n*   AI 윤리 관련 학술 논문 및 보고서\\n*   AI 기술 관련 뉴스 기사 및 전문가 인터뷰\\n\\n**추가 지침:**\\n\\n*   창의적이고 비판적인 사고를 바탕으로 보고서를 작성합니다.\\n*   독창적인 시각과 분석을 제시하여 보고서의 완성도를 높입니다.\\n*   최신 AI 기술 동향을 반영하여 현실 세계 시사점을 더욱 강화합니다.\",\n",
              " 'result': \"## 영화 '마이너리티 리포트' 속 AI 윤리 문제 분석 보고서: 현실 세계에 던지는 심오한 질문\\n\\n**서론**\\n\\n2002년 개봉한 스티븐 스필버그 감독의 영화 '마이너리티 리포트'는 첨단 기술이 지배하는 미래 사회를 배경으로, 범죄 발생 전에 예측하여 예방하는 '프리크라임' 시스템을 중심으로 이야기가 전개됩니다. 세 명의 예지자(Precogs)의 예언을 토대로 범죄를 예측하고, 범죄가 발생하기 전에 용의자를 체포하는 이 시스템은 범죄율 감소라는 긍정적인 효과를 가져왔지만, 동시에 심각한 윤리적 문제점을 내포하고 있습니다. 본 보고서는 영화 '마이너리티 리포트'에 등장하는 '프리크라임' 시스템의 작동 방식과 그로 인해 발생하는 윤리적 문제점을 심층적으로 분석하고, 이러한 문제점이 현실 세계의 AI 기술에 적용될 때 발생할 수 있는 시사점을 제시하며, 마지막으로 AI 기술의 책임감 있는 개발과 사용을 위한 제언을 제시하고자 합니다. 주요 논점은 개인의 자유와 사생활 침해, 데이터 편향으로 인한 불공정한 판단, AI 결정에 대한 책임 소재 불분명 등입니다.\\n\\n**본론**\\n\\n**1. 윤리적 문제 분석**\\n\\n*   **개인의 자유와 사생활 침해:** '프리크라임' 시스템은 범죄를 저지를 '가능성'이 있는 사람을 미리 체포합니다. 이는 헌법에 보장된 '무죄 추정의 원칙'을 심각하게 훼손하며, 개인의 자유를 극도로 제한하는 행위입니다. 영화 속에서 존 앤더튼 경감 자신도 프리크라임 시스템에 의해 살인자로 지목되어 쫓기는 신세가 되는 장면은 이러한 문제점을 극명하게 보여줍니다. 그는 범죄를 저지르기 전에 체포되어 자신의 의지와는 상관없이 미래의 범죄자로 낙인찍히고, 도망치는 과정에서 끊임없이 감시당하며 자유를 박탈당합니다. 이는 '예방'이라는 명목 하에 개인의 자유와 사생활이 얼마나 쉽게 침해될 수 있는지를 시사합니다. 더 나아가, 프리크라임 시스템은 사회 전체를 감시 사회로 만들 가능성을 내포하고 있습니다. 모든 시민의 행동이 데이터로 수집되고 분석되어 잠재적 범죄자로 분류될 수 있다는 불안감은 사회 구성원들의 자유로운 활동과 창의성을 억압할 수 있습니다.\\n\\n*   **데이터 편향과 불공정성:** '프리크라임' 시스템은 예지자들의 예언을 기반으로 작동하지만, 이 예언 자체가 완벽하다고 보장할 수 없습니다. 예지자들의 예언은 과거 범죄 데이터에 기반하며, 이 데이터 자체가 사회적 편견을 내포하고 있을 가능성이 큽니다. 예를 들어, 특정 인종이나 특정 계층의 사람들이 범죄를 더 많이 저지른다는 통계가 존재한다면, 프리크라임 시스템은 이러한 집단의 사람들을 잠재적 범죄자로 지목할 가능성이 높아집니다. 영화 속에서는 이러한 데이터 편향이 명확하게 드러나지 않지만, 현실 세계에서는 충분히 발생 가능한 문제입니다. 데이터 편향은 특정 집단에 대한 차별을 심화시키고, 사회적 불평등을 더욱 악화시킬 수 있습니다. 또한, 데이터의 오류나 조작 가능성도 간과할 수 없습니다. 만약 누군가가 의도적으로 데이터를 조작하여 특정 인물을 범죄자로 몰아갈 수 있다면, 프리크라임 시스템은 개인의 삶을 파괴하는 흉기로 변질될 수 있습니다.\\n\\n*   **AI 결정에 대한 책임 소재 불분명:** '프리크라임' 시스템의 결정은 결국 AI의 판단에 의해 이루어집니다. 만약 AI가 오판하여 무고한 사람을 범죄자로 지목했을 경우, 그 책임은 누구에게 물어야 할까요? 시스템을 설계한 개발자, 시스템을 운영하는 경찰, 아니면 예언을 제공한 예지자? 영화 속에서는 이러한 책임 소재에 대한 명확한 규정이 존재하지 않습니다. 존 앤더튼 경감은 프리크라임 시스템의 오류 가능성을 인지하고 있었지만, 시스템의 완벽성을 맹신하며 맹목적으로 따랐습니다. 이는 AI 기술의 발전 속도에 비해 윤리적, 법적 책임 규정이 미흡할 경우 발생할 수 있는 위험성을 보여줍니다. AI의 판단 오류로 인해 발생하는 피해에 대한 책임 소재가 불분명할 경우, 피해자는 제대로 된 구제를 받기 어려워지고, 사회 전체의 AI 기술에 대한 신뢰도가 하락할 수 있습니다.\\n\\n**2. 현실 세계 시사점**\\n\\n*   **현실 세계 AI 기술 적용 시 발생 가능한 문제점:** 영화 속 '프리크라임' 시스템의 문제점은 현실 세계의 AI 기술에 적용될 때 더욱 심각한 문제로 확대될 수 있습니다. 예를 들어, 예측 치안 시스템이 특정 지역의 범죄 발생 가능성을 높게 예측하여 경찰력을 집중 배치할 경우, 해당 지역 주민들은 불필요한 감시를 받게 되고, 경찰의 과잉 진압으로 이어질 가능성도 있습니다. 또한, 얼굴 인식 기술이 특정 인종이나 성별을 제대로 인식하지 못하여 오작동을 일으킬 경우, 무고한 사람이 범죄자로 오인받을 수 있습니다. 최근 중국에서 사회 신용 시스템을 구축하여 개인의 행동을 감시하고 평가하는 것은 영화 속 감시 사회의 현실판이라고 볼 수 있습니다. 이러한 시스템은 개인의 자유를 침해하고, 사회적 불평등을 심화시킬 수 있다는 우려를 낳고 있습니다.\\n\\n*   **윤리적 문제 해결 방안:** AI 기술의 윤리적 문제점을 해결하기 위해서는 다음과 같은 노력이 필요합니다.\\n\\n    *   **데이터 편향 해소를 위한 알고리즘 개발:** AI 학습에 사용되는 데이터의 편향성을 최소화하기 위한 알고리즘 개발이 필요합니다. 다양한 데이터 소스를 활용하고, 데이터 증강 기법을 통해 데이터의 다양성을 확보해야 합니다. 또한, 편향된 데이터로 학습된 AI 모델의 결과를 분석하여 편향성을 교정하는 기술 개발도 중요합니다.\\n    *   **투명하고 공정한 AI 시스템 구축:** AI 시스템의 작동 방식을 투명하게 공개하고, AI의 판단 근거를 설명할 수 있는 기술을 개발해야 합니다. 또한, AI 시스템의 공정성을 검증할 수 있는 평가 지표를 개발하고, 주기적인 테스트를 통해 공정성을 확보해야 합니다.\\n    *   **AI 결정에 대한 책임 소재 명확화:** AI의 판단 오류로 인해 발생하는 피해에 대한 책임 소재를 명확하게 규정해야 합니다. AI 시스템을 설계하고 개발한 주체, 시스템을 운영하고 관리하는 주체, 그리고 AI의 판단 결과를 사용하는 주체 간의 책임 범위를 명확하게 설정해야 합니다. 또한, AI의 오판으로 인해 피해를 입은 사람들을 위한 구제 방안을 마련해야 합니다.\\n    *   **AI 윤리 교육 강화:** AI 개발자, 정책 결정자, 그리고 일반 시민들을 대상으로 AI 윤리 교육을 강화해야 합니다. AI 기술의 윤리적 문제점에 대한 인식을 높이고, 책임감 있는 AI 기술 개발과 사용을 위한 문화를 조성해야 합니다.\\n\\n**결론**\\n\\n영화 '마이너리티 리포트'는 AI 기술의 발전이 가져올 수 있는 윤리적 문제점을 심도 있게 다루고 있습니다. 개인의 자유와 사생활 침해, 데이터 편향으로 인한 불공정한 판단, AI 결정에 대한 책임 소재 불분명 등의 문제는 현실 세계의 AI 기술에도 그대로 적용될 수 있으며, 그 심각성은 더욱 커질 수 있습니다. 따라서 우리는 기술 발전과 함께 윤리적 기준과 규제를 정립하고, AI 기술의 책임감 있는 개발과 사용을 위한 노력을 기울여야 합니다. AI 기술은 인류의 삶을 풍요롭게 만들 수 있는 잠재력을 가지고 있지만, 윤리적 문제점을 간과할 경우 디스토피아적인 미래를 초래할 수도 있다는 것을 명심해야 합니다. 지속적인 논의와 사회적 합의를 통해 AI 기술이 인간의 존엄성을 존중하고, 사회적 가치를 증진하는 방향으로 발전할 수 있도록 노력해야 할 것입니다.\"}"
            ]
          },
          "metadata": {},
          "execution_count": 13
        }
      ],
      "source": [
        "data"
      ]
    },
    {
      "cell_type": "code",
      "execution_count": null,
      "metadata": {
        "id": "mJcy1_ZTOPnF",
        "outputId": "623913b3-c4ee-4866-88c5-6058acd57f8f",
        "colab": {
          "base_uri": "https://localhost:8080/",
          "height": 1000
        }
      },
      "outputs": [
        {
          "output_type": "execute_result",
          "data": {
            "text/plain": [
              "<IPython.core.display.Markdown object>"
            ],
            "text/markdown": "> ## 영화 '마이너리티 리포트' 속 AI 윤리 문제 분석 보고서: 현실 세계에 던지는 심오한 질문\n> \n> **서론**\n> \n> 2002년 개봉한 스티븐 스필버그 감독의 영화 '마이너리티 리포트'는 첨단 기술이 지배하는 미래 사회를 배경으로, 범죄 발생 전에 예측하여 예방하는 '프리크라임' 시스템을 중심으로 이야기가 전개됩니다. 세 명의 예지자(Precogs)의 예언을 토대로 범죄를 예측하고, 범죄가 발생하기 전에 용의자를 체포하는 이 시스템은 범죄율 감소라는 긍정적인 효과를 가져왔지만, 동시에 심각한 윤리적 문제점을 내포하고 있습니다. 본 보고서는 영화 '마이너리티 리포트'에 등장하는 '프리크라임' 시스템의 작동 방식과 그로 인해 발생하는 윤리적 문제점을 심층적으로 분석하고, 이러한 문제점이 현실 세계의 AI 기술에 적용될 때 발생할 수 있는 시사점을 제시하며, 마지막으로 AI 기술의 책임감 있는 개발과 사용을 위한 제언을 제시하고자 합니다. 주요 논점은 개인의 자유와 사생활 침해, 데이터 편향으로 인한 불공정한 판단, AI 결정에 대한 책임 소재 불분명 등입니다.\n> \n> **본론**\n> \n> **1. 윤리적 문제 분석**\n> \n> *   **개인의 자유와 사생활 침해:** '프리크라임' 시스템은 범죄를 저지를 '가능성'이 있는 사람을 미리 체포합니다. 이는 헌법에 보장된 '무죄 추정의 원칙'을 심각하게 훼손하며, 개인의 자유를 극도로 제한하는 행위입니다. 영화 속에서 존 앤더튼 경감 자신도 프리크라임 시스템에 의해 살인자로 지목되어 쫓기는 신세가 되는 장면은 이러한 문제점을 극명하게 보여줍니다. 그는 범죄를 저지르기 전에 체포되어 자신의 의지와는 상관없이 미래의 범죄자로 낙인찍히고, 도망치는 과정에서 끊임없이 감시당하며 자유를 박탈당합니다. 이는 '예방'이라는 명목 하에 개인의 자유와 사생활이 얼마나 쉽게 침해될 수 있는지를 시사합니다. 더 나아가, 프리크라임 시스템은 사회 전체를 감시 사회로 만들 가능성을 내포하고 있습니다. 모든 시민의 행동이 데이터로 수집되고 분석되어 잠재적 범죄자로 분류될 수 있다는 불안감은 사회 구성원들의 자유로운 활동과 창의성을 억압할 수 있습니다.\n> \n> *   **데이터 편향과 불공정성:** '프리크라임' 시스템은 예지자들의 예언을 기반으로 작동하지만, 이 예언 자체가 완벽하다고 보장할 수 없습니다. 예지자들의 예언은 과거 범죄 데이터에 기반하며, 이 데이터 자체가 사회적 편견을 내포하고 있을 가능성이 큽니다. 예를 들어, 특정 인종이나 특정 계층의 사람들이 범죄를 더 많이 저지른다는 통계가 존재한다면, 프리크라임 시스템은 이러한 집단의 사람들을 잠재적 범죄자로 지목할 가능성이 높아집니다. 영화 속에서는 이러한 데이터 편향이 명확하게 드러나지 않지만, 현실 세계에서는 충분히 발생 가능한 문제입니다. 데이터 편향은 특정 집단에 대한 차별을 심화시키고, 사회적 불평등을 더욱 악화시킬 수 있습니다. 또한, 데이터의 오류나 조작 가능성도 간과할 수 없습니다. 만약 누군가가 의도적으로 데이터를 조작하여 특정 인물을 범죄자로 몰아갈 수 있다면, 프리크라임 시스템은 개인의 삶을 파괴하는 흉기로 변질될 수 있습니다.\n> \n> *   **AI 결정에 대한 책임 소재 불분명:** '프리크라임' 시스템의 결정은 결국 AI의 판단에 의해 이루어집니다. 만약 AI가 오판하여 무고한 사람을 범죄자로 지목했을 경우, 그 책임은 누구에게 물어야 할까요? 시스템을 설계한 개발자, 시스템을 운영하는 경찰, 아니면 예언을 제공한 예지자? 영화 속에서는 이러한 책임 소재에 대한 명확한 규정이 존재하지 않습니다. 존 앤더튼 경감은 프리크라임 시스템의 오류 가능성을 인지하고 있었지만, 시스템의 완벽성을 맹신하며 맹목적으로 따랐습니다. 이는 AI 기술의 발전 속도에 비해 윤리적, 법적 책임 규정이 미흡할 경우 발생할 수 있는 위험성을 보여줍니다. AI의 판단 오류로 인해 발생하는 피해에 대한 책임 소재가 불분명할 경우, 피해자는 제대로 된 구제를 받기 어려워지고, 사회 전체의 AI 기술에 대한 신뢰도가 하락할 수 있습니다.\n> \n> **2. 현실 세계 시사점**\n> \n> *   **현실 세계 AI 기술 적용 시 발생 가능한 문제점:** 영화 속 '프리크라임' 시스템의 문제점은 현실 세계의 AI 기술에 적용될 때 더욱 심각한 문제로 확대될 수 있습니다. 예를 들어, 예측 치안 시스템이 특정 지역의 범죄 발생 가능성을 높게 예측하여 경찰력을 집중 배치할 경우, 해당 지역 주민들은 불필요한 감시를 받게 되고, 경찰의 과잉 진압으로 이어질 가능성도 있습니다. 또한, 얼굴 인식 기술이 특정 인종이나 성별을 제대로 인식하지 못하여 오작동을 일으킬 경우, 무고한 사람이 범죄자로 오인받을 수 있습니다. 최근 중국에서 사회 신용 시스템을 구축하여 개인의 행동을 감시하고 평가하는 것은 영화 속 감시 사회의 현실판이라고 볼 수 있습니다. 이러한 시스템은 개인의 자유를 침해하고, 사회적 불평등을 심화시킬 수 있다는 우려를 낳고 있습니다.\n> \n> *   **윤리적 문제 해결 방안:** AI 기술의 윤리적 문제점을 해결하기 위해서는 다음과 같은 노력이 필요합니다.\n> \n>     *   **데이터 편향 해소를 위한 알고리즘 개발:** AI 학습에 사용되는 데이터의 편향성을 최소화하기 위한 알고리즘 개발이 필요합니다. 다양한 데이터 소스를 활용하고, 데이터 증강 기법을 통해 데이터의 다양성을 확보해야 합니다. 또한, 편향된 데이터로 학습된 AI 모델의 결과를 분석하여 편향성을 교정하는 기술 개발도 중요합니다.\n>     *   **투명하고 공정한 AI 시스템 구축:** AI 시스템의 작동 방식을 투명하게 공개하고, AI의 판단 근거를 설명할 수 있는 기술을 개발해야 합니다. 또한, AI 시스템의 공정성을 검증할 수 있는 평가 지표를 개발하고, 주기적인 테스트를 통해 공정성을 확보해야 합니다.\n>     *   **AI 결정에 대한 책임 소재 명확화:** AI의 판단 오류로 인해 발생하는 피해에 대한 책임 소재를 명확하게 규정해야 합니다. AI 시스템을 설계하고 개발한 주체, 시스템을 운영하고 관리하는 주체, 그리고 AI의 판단 결과를 사용하는 주체 간의 책임 범위를 명확하게 설정해야 합니다. 또한, AI의 오판으로 인해 피해를 입은 사람들을 위한 구제 방안을 마련해야 합니다.\n>     *   **AI 윤리 교육 강화:** AI 개발자, 정책 결정자, 그리고 일반 시민들을 대상으로 AI 윤리 교육을 강화해야 합니다. AI 기술의 윤리적 문제점에 대한 인식을 높이고, 책임감 있는 AI 기술 개발과 사용을 위한 문화를 조성해야 합니다.\n> \n> **결론**\n> \n> 영화 '마이너리티 리포트'는 AI 기술의 발전이 가져올 수 있는 윤리적 문제점을 심도 있게 다루고 있습니다. 개인의 자유와 사생활 침해, 데이터 편향으로 인한 불공정한 판단, AI 결정에 대한 책임 소재 불분명 등의 문제는 현실 세계의 AI 기술에도 그대로 적용될 수 있으며, 그 심각성은 더욱 커질 수 있습니다. 따라서 우리는 기술 발전과 함께 윤리적 기준과 규제를 정립하고, AI 기술의 책임감 있는 개발과 사용을 위한 노력을 기울여야 합니다. AI 기술은 인류의 삶을 풍요롭게 만들 수 있는 잠재력을 가지고 있지만, 윤리적 문제점을 간과할 경우 디스토피아적인 미래를 초래할 수도 있다는 것을 명심해야 합니다. 지속적인 논의와 사회적 합의를 통해 AI 기술이 인간의 존엄성을 존중하고, 사회적 가치를 증진하는 방향으로 발전할 수 있도록 노력해야 할 것입니다."
          },
          "metadata": {},
          "execution_count": 14
        }
      ],
      "source": [
        "from IPython.display import display\n",
        "from IPython.display import Markdown\n",
        "import textwrap\n",
        "\n",
        "def to_markdown(text):\n",
        "  text = text.replace('•', '  *')\n",
        "  return Markdown(textwrap.indent(text, '> ', predicate=lambda _: True))\n",
        "\n",
        "to_markdown(data['result'])\n"
      ]
    },
    {
      "cell_type": "markdown",
      "metadata": {
        "id": "tPF0jjlQOPnF"
      },
      "source": [
        "이와 같이 구조화된 출력을 연결하여, 그래프의 중간, 혹은 최종 출력물을 구성할 수 있습니다.\n",
        "\n",
        "검색 기능을 연결한다면, 검색 결과를 바탕으로 원하는 결과물을 효과적으로 얻을 수 있을 것 같습니다!"
      ]
    },
    {
      "cell_type": "markdown",
      "metadata": {
        "id": "7kAnW32fOPnG"
      },
      "source": [
        "## 2. Message 포맷의 State 사용하기\n",
        "\n",
        "State의 저장값으로 Message를 바로 사용하기도 합니다.   \n",
        "이 경우, Context에 메시지를 계속 추가하거나, 별도의 로직을 만들어 메시지 정보를 전달합니다."
      ]
    },
    {
      "cell_type": "markdown",
      "metadata": {
        "id": "NiZFhxnNOPnG"
      },
      "source": [
        "`typing`의 `Annotated`로 공간을 지정한 후, 뒷부분에 결합 로직을 포함합니다.   \n",
        "이를 리듀서(Reducer)라고 부르는데, 메시지의 경우 아래와 같이 포함하면 됩니다."
      ]
    },
    {
      "cell_type": "code",
      "execution_count": null,
      "metadata": {
        "id": "qP01NYAjOPnG"
      },
      "outputs": [],
      "source": [
        "from typing import Annotated\n",
        "from langgraph.graph.message import add_messages\n",
        "from langchain_core.messages import HumanMessage, SystemMessage, AIMessage\n",
        "\n",
        "# add_messages: 메시지를 계속 뒤에 추가하는 방식\n",
        "\n",
        "class State(TypedDict):\n",
        "    context : Annotated[list, add_messages]"
      ]
    },
    {
      "cell_type": "markdown",
      "metadata": {
        "id": "qbeK1gkeOPnG"
      },
      "source": [
        "이번에는 메시지를 주고받는 형태를 구성해 보겠습니다.   "
      ]
    },
    {
      "cell_type": "code",
      "execution_count": null,
      "metadata": {
        "id": "CMDztY5VOPnG",
        "outputId": "eebfd373-f37c-4018-fe72-38546bb25d6d",
        "colab": {
          "base_uri": "https://localhost:8080/"
        }
      },
      "outputs": [
        {
          "output_type": "execute_result",
          "data": {
            "text/plain": [
              "<langgraph.graph.state.StateGraph at 0x7d3e805aba10>"
            ]
          },
          "metadata": {},
          "execution_count": 17
        }
      ],
      "source": [
        "def talk(State):\n",
        "    return {'context': AIMessage(content='AI 메시지 2')}\n",
        "\n",
        "\n",
        "builder = StateGraph(State)\n",
        "builder.add_node('talk',talk)\n",
        "builder.add_edge(START, 'talk')\n",
        "builder.add_edge('talk', END)\n",
        "\n",
        "\n",
        "\n"
      ]
    },
    {
      "cell_type": "code",
      "execution_count": null,
      "metadata": {
        "id": "n6u1f--zOPnG",
        "outputId": "5fcf19ed-70dc-450b-8c2e-c19b4630a9fb",
        "colab": {
          "base_uri": "https://localhost:8080/",
          "height": 251
        }
      },
      "outputs": [
        {
          "output_type": "execute_result",
          "data": {
            "text/plain": [
              "<langgraph.graph.state.CompiledStateGraph object at 0x7d3e7b034b90>"
            ],
            "image/png": "[encoded data removed]"
          },
          "metadata": {},
          "execution_count": 18
        }
      ],
      "source": [
        "graph = builder.compile()\n",
        "graph"
      ]
    },
    {
      "cell_type": "code",
      "execution_count": null,
      "metadata": {
        "id": "hVf7bt5UOPnG",
        "outputId": "3b384fcf-fd12-4e4c-d2fe-fe3f2d6b93e4",
        "colab": {
          "base_uri": "https://localhost:8080/"
        }
      },
      "outputs": [
        {
          "output_type": "execute_result",
          "data": {
            "text/plain": [
              "{'context': [SystemMessage(content='시스템 메시지 1', additional_kwargs={}, response_metadata={}, id='d769f767-b4b0-462e-84f9-65e2d152cfba'),\n",
              "  HumanMessage(content='유저 메시지 1', additional_kwargs={}, response_metadata={}, id='998bde18-a268-480d-b096-60979cfde7ce'),\n",
              "  AIMessage(content='AI 메시지 1', additional_kwargs={}, response_metadata={}, id='656052ed-88e0-417c-b2b3-9fe1f6ef4294'),\n",
              "  HumanMessage(content='유저 메시지 2', additional_kwargs={}, response_metadata={}, id='0226a647-673d-49d0-a931-b54bc0a5191c'),\n",
              "  AIMessage(content='AI 메시지 2', additional_kwargs={}, response_metadata={}, id='b947b308-740d-4521-bd89-4142c1715487')]}"
            ]
          },
          "metadata": {},
          "execution_count": 19
        }
      ],
      "source": [
        "messages = [\n",
        "    SystemMessage(content='시스템 메시지 1'),\n",
        "    HumanMessage(content='유저 메시지 1'),\n",
        "    AIMessage(content='AI 메시지 1'),\n",
        "    HumanMessage(content='유저 메시지 2'),\n",
        "]\n",
        "\n",
        "response = graph.invoke({'context': messages})\n",
        "response"
      ]
    },
    {
      "cell_type": "markdown",
      "metadata": {
        "id": "YkLVC9JbOPnG"
      },
      "source": [
        "전체 Context를 모두 저장하는 위와 같은 방식도 가능하지만,   \n",
        "`RemoveMessage`를 사용하여 메시지를 제거할 수도 있습니다."
      ]
    },
    {
      "cell_type": "code",
      "execution_count": null,
      "metadata": {
        "id": "l1gu82ysOPnG"
      },
      "outputs": [],
      "source": [
        "from langchain_core.messages import RemoveMessage\n",
        "def delete_message(State):\n",
        "    # 첫번째,두번째 메시지 삭제\n",
        "    messages = State['context']\n",
        "    return {\"context\": [RemoveMessage(id = messages[i].id) for i in range(1,3)]}\n"
      ]
    },
    {
      "cell_type": "code",
      "execution_count": null,
      "metadata": {
        "id": "tCmK5SjlOPnG",
        "outputId": "1652a21d-e46e-4742-e8c4-9916c6eb8276",
        "colab": {
          "base_uri": "https://localhost:8080/"
        }
      },
      "outputs": [
        {
          "output_type": "execute_result",
          "data": {
            "text/plain": [
              "<langgraph.graph.state.StateGraph at 0x7d3e805900d0>"
            ]
          },
          "metadata": {},
          "execution_count": 21
        }
      ],
      "source": [
        "builder = StateGraph(State)\n",
        "\n",
        "builder.add_node('talk',talk)\n",
        "builder.add_node('delete_message',delete_message)\n",
        "\n",
        "builder.add_edge(START, 'talk')\n",
        "builder.add_edge('talk', 'delete_message')\n",
        "builder.add_edge('delete_message', END)"
      ]
    },
    {
      "cell_type": "code",
      "execution_count": null,
      "metadata": {
        "id": "TFmWbVCMOPnG",
        "outputId": "624d9779-e3fc-471b-e9ec-06130cb4b5ac",
        "colab": {
          "base_uri": "https://localhost:8080/",
          "height": 350
        }
      },
      "outputs": [
        {
          "output_type": "execute_result",
          "data": {
            "text/plain": [
              "<langgraph.graph.state.CompiledStateGraph object at 0x7d3e88416d10>"
            ],
            "image/png": "[encoded data removed]"
          },
          "metadata": {},
          "execution_count": 22
        }
      ],
      "source": [
        "graph = builder.compile()\n",
        "graph"
      ]
    },
    {
      "cell_type": "code",
      "execution_count": null,
      "metadata": {
        "id": "iN1wtttSOPnG",
        "outputId": "945fc737-7d76-4b68-e490-135ae2c5e7e1",
        "colab": {
          "base_uri": "https://localhost:8080/"
        }
      },
      "outputs": [
        {
          "output_type": "execute_result",
          "data": {
            "text/plain": [
              "{'context': [SystemMessage(content='시스템 메시지 1', additional_kwargs={}, response_metadata={}, id='d769f767-b4b0-462e-84f9-65e2d152cfba'),\n",
              "  HumanMessage(content='유저 메시지 2', additional_kwargs={}, response_metadata={}, id='0226a647-673d-49d0-a931-b54bc0a5191c'),\n",
              "  AIMessage(content='AI 메시지 2', additional_kwargs={}, response_metadata={}, id='e431888e-219c-4f66-96f5-2854f2cf1fe6')]}"
            ]
          },
          "metadata": {},
          "execution_count": 23
        }
      ],
      "source": [
        "# 유저 메시지 1, AI 메시지 1 삭제\n",
        "\n",
        "graph.invoke({'context': messages})"
      ]
    },
    {
      "cell_type": "markdown",
      "metadata": {
        "id": "ZbCyoWhkOPnG"
      },
      "source": [
        "위 방식으로 긴 컨텍스트를 저장할 때 일부만을 저장하거나, 앞 부분의 컨텍스트를 수정하여 저장할 수 있습니다.   \n",
        "반복 기능을 추가한다면, 긴 컨텍스트의 대화도 효과적으로 만들 수 있습니다."
      ]
    }
  ],
  "metadata": {
    "kernelspec": {
      "display_name": "multicampus",
      "language": "python",
      "name": "python3"
    },
    "language_info": {
      "codemirror_mode": {
        "name": "ipython",
        "version": 3
      },
      "file_extension": ".py",
      "mimetype": "text/x-python",
      "name": "python",
      "nbconvert_exporter": "python",
      "pygments_lexer": "ipython3",
      "version": "3.11.7"
    },
    "colab": {
      "provenance": []
    }
  },
  "nbformat": 4,
  "nbformat_minor": 0
}