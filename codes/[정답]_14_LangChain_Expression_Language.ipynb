{
  "cells": [
    {
      "cell_type": "markdown",
      "id": "a435919b",
      "metadata": {
        "id": "a435919b"
      },
      "source": [
        "# [실습] LangChain Expression Language\n",
        "\n",
        "\n",
        "LangChain Expression Language(LCEL)는 랭체인에서 체인을 간결하게 구성하는 문법입니다.   \n",
        "먼저, LCEL에서 체인이 구성되는 기본적인 구조에 대해 알아봅시다.\n"
      ]
    },
    {
      "cell_type": "code",
      "execution_count": 6,
      "id": "bf68e6c0",
      "metadata": {
        "id": "bf68e6c0",
        "scrolled": true
      },
      "outputs": [
        {
          "name": "stdout",
          "output_type": "stream",
          "text": [
            "Requirement already satisfied: langchain in c:\\users\\pc\\onedrive\\1.강의\\0.llm\\1 패스트캠퍼스_랭그래프\\fastcampus_langgraph\\.venv\\lib\\site-packages (1.0.2)\n",
            "Requirement already satisfied: langchain_google_genai in c:\\users\\pc\\onedrive\\1.강의\\0.llm\\1 패스트캠퍼스_랭그래프\\fastcampus_langgraph\\.venv\\lib\\site-packages (3.0.0)\n",
            "Requirement already satisfied: langchain-core<2.0.0,>=1.0.0 in c:\\users\\pc\\onedrive\\1.강의\\0.llm\\1 패스트캠퍼스_랭그래프\\fastcampus_langgraph\\.venv\\lib\\site-packages (from langchain) (1.0.1)\n",
            "Requirement already satisfied: langgraph<1.1.0,>=1.0.0 in c:\\users\\pc\\onedrive\\1.강의\\0.llm\\1 패스트캠퍼스_랭그래프\\fastcampus_langgraph\\.venv\\lib\\site-packages (from langchain) (1.0.1)\n",
            "Requirement already satisfied: pydantic<3.0.0,>=2.7.4 in c:\\users\\pc\\onedrive\\1.강의\\0.llm\\1 패스트캠퍼스_랭그래프\\fastcampus_langgraph\\.venv\\lib\\site-packages (from langchain) (2.12.3)\n",
            "Requirement already satisfied: jsonpatch<2.0.0,>=1.33.0 in c:\\users\\pc\\onedrive\\1.강의\\0.llm\\1 패스트캠퍼스_랭그래프\\fastcampus_langgraph\\.venv\\lib\\site-packages (from langchain-core<2.0.0,>=1.0.0->langchain) (1.33)\n",
            "Requirement already satisfied: langsmith<1.0.0,>=0.3.45 in c:\\users\\pc\\onedrive\\1.강의\\0.llm\\1 패스트캠퍼스_랭그래프\\fastcampus_langgraph\\.venv\\lib\\site-packages (from langchain-core<2.0.0,>=1.0.0->langchain) (0.4.38)\n",
            "Requirement already satisfied: packaging<26.0.0,>=23.2.0 in c:\\users\\pc\\onedrive\\1.강의\\0.llm\\1 패스트캠퍼스_랭그래프\\fastcampus_langgraph\\.venv\\lib\\site-packages (from langchain-core<2.0.0,>=1.0.0->langchain) (25.0)\n",
            "Requirement already satisfied: pyyaml<7.0.0,>=5.3.0 in c:\\users\\pc\\onedrive\\1.강의\\0.llm\\1 패스트캠퍼스_랭그래프\\fastcampus_langgraph\\.venv\\lib\\site-packages (from langchain-core<2.0.0,>=1.0.0->langchain) (6.0.3)\n",
            "Requirement already satisfied: tenacity!=8.4.0,<10.0.0,>=8.1.0 in c:\\users\\pc\\onedrive\\1.강의\\0.llm\\1 패스트캠퍼스_랭그래프\\fastcampus_langgraph\\.venv\\lib\\site-packages (from langchain-core<2.0.0,>=1.0.0->langchain) (9.1.2)\n",
            "Requirement already satisfied: typing-extensions<5.0.0,>=4.7.0 in c:\\users\\pc\\onedrive\\1.강의\\0.llm\\1 패스트캠퍼스_랭그래프\\fastcampus_langgraph\\.venv\\lib\\site-packages (from langchain-core<2.0.0,>=1.0.0->langchain) (4.15.0)\n",
            "Requirement already satisfied: jsonpointer>=1.9 in c:\\users\\pc\\onedrive\\1.강의\\0.llm\\1 패스트캠퍼스_랭그래프\\fastcampus_langgraph\\.venv\\lib\\site-packages (from jsonpatch<2.0.0,>=1.33.0->langchain-core<2.0.0,>=1.0.0->langchain) (3.0.0)\n",
            "Requirement already satisfied: langgraph-checkpoint<4.0.0,>=2.1.0 in c:\\users\\pc\\onedrive\\1.강의\\0.llm\\1 패스트캠퍼스_랭그래프\\fastcampus_langgraph\\.venv\\lib\\site-packages (from langgraph<1.1.0,>=1.0.0->langchain) (3.0.0)\n",
            "Requirement already satisfied: langgraph-prebuilt<1.1.0,>=1.0.0 in c:\\users\\pc\\onedrive\\1.강의\\0.llm\\1 패스트캠퍼스_랭그래프\\fastcampus_langgraph\\.venv\\lib\\site-packages (from langgraph<1.1.0,>=1.0.0->langchain) (1.0.1)\n",
            "Requirement already satisfied: langgraph-sdk<0.3.0,>=0.2.2 in c:\\users\\pc\\onedrive\\1.강의\\0.llm\\1 패스트캠퍼스_랭그래프\\fastcampus_langgraph\\.venv\\lib\\site-packages (from langgraph<1.1.0,>=1.0.0->langchain) (0.2.9)\n",
            "Requirement already satisfied: xxhash>=3.5.0 in c:\\users\\pc\\onedrive\\1.강의\\0.llm\\1 패스트캠퍼스_랭그래프\\fastcampus_langgraph\\.venv\\lib\\site-packages (from langgraph<1.1.0,>=1.0.0->langchain) (3.6.0)\n",
            "Requirement already satisfied: ormsgpack>=1.10.0 in c:\\users\\pc\\onedrive\\1.강의\\0.llm\\1 패스트캠퍼스_랭그래프\\fastcampus_langgraph\\.venv\\lib\\site-packages (from langgraph-checkpoint<4.0.0,>=2.1.0->langgraph<1.1.0,>=1.0.0->langchain) (1.11.0)\n",
            "Requirement already satisfied: httpx>=0.25.2 in c:\\users\\pc\\onedrive\\1.강의\\0.llm\\1 패스트캠퍼스_랭그래프\\fastcampus_langgraph\\.venv\\lib\\site-packages (from langgraph-sdk<0.3.0,>=0.2.2->langgraph<1.1.0,>=1.0.0->langchain) (0.28.1)\n",
            "Requirement already satisfied: orjson>=3.10.1 in c:\\users\\pc\\onedrive\\1.강의\\0.llm\\1 패스트캠퍼스_랭그래프\\fastcampus_langgraph\\.venv\\lib\\site-packages (from langgraph-sdk<0.3.0,>=0.2.2->langgraph<1.1.0,>=1.0.0->langchain) (3.11.4)\n",
            "Requirement already satisfied: requests-toolbelt>=1.0.0 in c:\\users\\pc\\onedrive\\1.강의\\0.llm\\1 패스트캠퍼스_랭그래프\\fastcampus_langgraph\\.venv\\lib\\site-packages (from langsmith<1.0.0,>=0.3.45->langchain-core<2.0.0,>=1.0.0->langchain) (1.0.0)\n",
            "Requirement already satisfied: requests>=2.0.0 in c:\\users\\pc\\onedrive\\1.강의\\0.llm\\1 패스트캠퍼스_랭그래프\\fastcampus_langgraph\\.venv\\lib\\site-packages (from langsmith<1.0.0,>=0.3.45->langchain-core<2.0.0,>=1.0.0->langchain) (2.32.5)\n",
            "Requirement already satisfied: zstandard>=0.23.0 in c:\\users\\pc\\onedrive\\1.강의\\0.llm\\1 패스트캠퍼스_랭그래프\\fastcampus_langgraph\\.venv\\lib\\site-packages (from langsmith<1.0.0,>=0.3.45->langchain-core<2.0.0,>=1.0.0->langchain) (0.25.0)\n",
            "Requirement already satisfied: anyio in c:\\users\\pc\\onedrive\\1.강의\\0.llm\\1 패스트캠퍼스_랭그래프\\fastcampus_langgraph\\.venv\\lib\\site-packages (from httpx>=0.25.2->langgraph-sdk<0.3.0,>=0.2.2->langgraph<1.1.0,>=1.0.0->langchain) (4.11.0)\n",
            "Requirement already satisfied: certifi in c:\\users\\pc\\onedrive\\1.강의\\0.llm\\1 패스트캠퍼스_랭그래프\\fastcampus_langgraph\\.venv\\lib\\site-packages (from httpx>=0.25.2->langgraph-sdk<0.3.0,>=0.2.2->langgraph<1.1.0,>=1.0.0->langchain) (2025.10.5)\n",
            "Requirement already satisfied: httpcore==1.* in c:\\users\\pc\\onedrive\\1.강의\\0.llm\\1 패스트캠퍼스_랭그래프\\fastcampus_langgraph\\.venv\\lib\\site-packages (from httpx>=0.25.2->langgraph-sdk<0.3.0,>=0.2.2->langgraph<1.1.0,>=1.0.0->langchain) (1.0.9)\n",
            "Requirement already satisfied: idna in c:\\users\\pc\\onedrive\\1.강의\\0.llm\\1 패스트캠퍼스_랭그래프\\fastcampus_langgraph\\.venv\\lib\\site-packages (from httpx>=0.25.2->langgraph-sdk<0.3.0,>=0.2.2->langgraph<1.1.0,>=1.0.0->langchain) (3.11)\n",
            "Requirement already satisfied: h11>=0.16 in c:\\users\\pc\\onedrive\\1.강의\\0.llm\\1 패스트캠퍼스_랭그래프\\fastcampus_langgraph\\.venv\\lib\\site-packages (from httpcore==1.*->httpx>=0.25.2->langgraph-sdk<0.3.0,>=0.2.2->langgraph<1.1.0,>=1.0.0->langchain) (0.16.0)\n",
            "Requirement already satisfied: annotated-types>=0.6.0 in c:\\users\\pc\\onedrive\\1.강의\\0.llm\\1 패스트캠퍼스_랭그래프\\fastcampus_langgraph\\.venv\\lib\\site-packages (from pydantic<3.0.0,>=2.7.4->langchain) (0.7.0)\n",
            "Requirement already satisfied: pydantic-core==2.41.4 in c:\\users\\pc\\onedrive\\1.강의\\0.llm\\1 패스트캠퍼스_랭그래프\\fastcampus_langgraph\\.venv\\lib\\site-packages (from pydantic<3.0.0,>=2.7.4->langchain) (2.41.4)\n",
            "Requirement already satisfied: typing-inspection>=0.4.2 in c:\\users\\pc\\onedrive\\1.강의\\0.llm\\1 패스트캠퍼스_랭그래프\\fastcampus_langgraph\\.venv\\lib\\site-packages (from pydantic<3.0.0,>=2.7.4->langchain) (0.4.2)\n",
            "Requirement already satisfied: google-ai-generativelanguage<1.0.0,>=0.7.0 in c:\\users\\pc\\onedrive\\1.강의\\0.llm\\1 패스트캠퍼스_랭그래프\\fastcampus_langgraph\\.venv\\lib\\site-packages (from langchain_google_genai) (0.9.0)\n",
            "Requirement already satisfied: filetype<2.0.0,>=1.2.0 in c:\\users\\pc\\onedrive\\1.강의\\0.llm\\1 패스트캠퍼스_랭그래프\\fastcampus_langgraph\\.venv\\lib\\site-packages (from langchain_google_genai) (1.2.0)\n",
            "Requirement already satisfied: google-api-core!=2.0.*,!=2.1.*,!=2.10.*,!=2.2.*,!=2.3.*,!=2.4.*,!=2.5.*,!=2.6.*,!=2.7.*,!=2.8.*,!=2.9.*,<3.0.0,>=1.34.1 in c:\\users\\pc\\onedrive\\1.강의\\0.llm\\1 패스트캠퍼스_랭그래프\\fastcampus_langgraph\\.venv\\lib\\site-packages (from google-api-core[grpc]!=2.0.*,!=2.1.*,!=2.10.*,!=2.2.*,!=2.3.*,!=2.4.*,!=2.5.*,!=2.6.*,!=2.7.*,!=2.8.*,!=2.9.*,<3.0.0,>=1.34.1->google-ai-generativelanguage<1.0.0,>=0.7.0->langchain_google_genai) (2.27.0)\n",
            "Requirement already satisfied: google-auth!=2.24.0,!=2.25.0,<3.0.0,>=2.14.1 in c:\\users\\pc\\onedrive\\1.강의\\0.llm\\1 패스트캠퍼스_랭그래프\\fastcampus_langgraph\\.venv\\lib\\site-packages (from google-ai-generativelanguage<1.0.0,>=0.7.0->langchain_google_genai) (2.41.1)\n",
            "Requirement already satisfied: grpcio<2.0.0,>=1.33.2 in c:\\users\\pc\\onedrive\\1.강의\\0.llm\\1 패스트캠퍼스_랭그래프\\fastcampus_langgraph\\.venv\\lib\\site-packages (from google-ai-generativelanguage<1.0.0,>=0.7.0->langchain_google_genai) (1.76.0)\n",
            "Requirement already satisfied: proto-plus<2.0.0,>=1.22.3 in c:\\users\\pc\\onedrive\\1.강의\\0.llm\\1 패스트캠퍼스_랭그래프\\fastcampus_langgraph\\.venv\\lib\\site-packages (from google-ai-generativelanguage<1.0.0,>=0.7.0->langchain_google_genai) (1.26.1)\n",
            "Requirement already satisfied: protobuf!=4.21.0,!=4.21.1,!=4.21.2,!=4.21.3,!=4.21.4,!=4.21.5,<7.0.0,>=3.20.2 in c:\\users\\pc\\onedrive\\1.강의\\0.llm\\1 패스트캠퍼스_랭그래프\\fastcampus_langgraph\\.venv\\lib\\site-packages (from google-ai-generativelanguage<1.0.0,>=0.7.0->langchain_google_genai) (4.25.8)\n",
            "Requirement already satisfied: googleapis-common-protos<2.0.0,>=1.56.2 in c:\\users\\pc\\onedrive\\1.강의\\0.llm\\1 패스트캠퍼스_랭그래프\\fastcampus_langgraph\\.venv\\lib\\site-packages (from google-api-core!=2.0.*,!=2.1.*,!=2.10.*,!=2.2.*,!=2.3.*,!=2.4.*,!=2.5.*,!=2.6.*,!=2.7.*,!=2.8.*,!=2.9.*,<3.0.0,>=1.34.1->google-api-core[grpc]!=2.0.*,!=2.1.*,!=2.10.*,!=2.2.*,!=2.3.*,!=2.4.*,!=2.5.*,!=2.6.*,!=2.7.*,!=2.8.*,!=2.9.*,<3.0.0,>=1.34.1->google-ai-generativelanguage<1.0.0,>=0.7.0->langchain_google_genai) (1.71.0)\n",
            "Requirement already satisfied: grpcio-status<2.0.0,>=1.33.2 in c:\\users\\pc\\onedrive\\1.강의\\0.llm\\1 패스트캠퍼스_랭그래프\\fastcampus_langgraph\\.venv\\lib\\site-packages (from google-api-core[grpc]!=2.0.*,!=2.1.*,!=2.10.*,!=2.2.*,!=2.3.*,!=2.4.*,!=2.5.*,!=2.6.*,!=2.7.*,!=2.8.*,!=2.9.*,<3.0.0,>=1.34.1->google-ai-generativelanguage<1.0.0,>=0.7.0->langchain_google_genai) (1.62.3)\n",
            "Requirement already satisfied: cachetools<7.0,>=2.0.0 in c:\\users\\pc\\onedrive\\1.강의\\0.llm\\1 패스트캠퍼스_랭그래프\\fastcampus_langgraph\\.venv\\lib\\site-packages (from google-auth!=2.24.0,!=2.25.0,<3.0.0,>=2.14.1->google-ai-generativelanguage<1.0.0,>=0.7.0->langchain_google_genai) (6.2.1)\n",
            "Requirement already satisfied: pyasn1-modules>=0.2.1 in c:\\users\\pc\\onedrive\\1.강의\\0.llm\\1 패스트캠퍼스_랭그래프\\fastcampus_langgraph\\.venv\\lib\\site-packages (from google-auth!=2.24.0,!=2.25.0,<3.0.0,>=2.14.1->google-ai-generativelanguage<1.0.0,>=0.7.0->langchain_google_genai) (0.4.2)\n",
            "Requirement already satisfied: rsa<5,>=3.1.4 in c:\\users\\pc\\onedrive\\1.강의\\0.llm\\1 패스트캠퍼스_랭그래프\\fastcampus_langgraph\\.venv\\lib\\site-packages (from google-auth!=2.24.0,!=2.25.0,<3.0.0,>=2.14.1->google-ai-generativelanguage<1.0.0,>=0.7.0->langchain_google_genai) (4.9.1)\n",
            "Requirement already satisfied: charset_normalizer<4,>=2 in c:\\users\\pc\\onedrive\\1.강의\\0.llm\\1 패스트캠퍼스_랭그래프\\fastcampus_langgraph\\.venv\\lib\\site-packages (from requests>=2.0.0->langsmith<1.0.0,>=0.3.45->langchain-core<2.0.0,>=1.0.0->langchain) (3.4.4)\n",
            "Requirement already satisfied: urllib3<3,>=1.21.1 in c:\\users\\pc\\onedrive\\1.강의\\0.llm\\1 패스트캠퍼스_랭그래프\\fastcampus_langgraph\\.venv\\lib\\site-packages (from requests>=2.0.0->langsmith<1.0.0,>=0.3.45->langchain-core<2.0.0,>=1.0.0->langchain) (2.5.0)\n",
            "Requirement already satisfied: pyasn1>=0.1.3 in c:\\users\\pc\\onedrive\\1.강의\\0.llm\\1 패스트캠퍼스_랭그래프\\fastcampus_langgraph\\.venv\\lib\\site-packages (from rsa<5,>=3.1.4->google-auth!=2.24.0,!=2.25.0,<3.0.0,>=2.14.1->google-ai-generativelanguage<1.0.0,>=0.7.0->langchain_google_genai) (0.6.1)\n",
            "Requirement already satisfied: sniffio>=1.1 in c:\\users\\pc\\onedrive\\1.강의\\0.llm\\1 패스트캠퍼스_랭그래프\\fastcampus_langgraph\\.venv\\lib\\site-packages (from anyio->httpx>=0.25.2->langgraph-sdk<0.3.0,>=0.2.2->langgraph<1.1.0,>=1.0.0->langchain) (1.3.1)\n"
          ]
        }
      ],
      "source": [
        "!pip install langchain langchain_google_genai"
      ]
    },
    {
      "cell_type": "markdown",
      "id": "A59cI3UHz9l2",
      "metadata": {
        "id": "A59cI3UHz9l2"
      },
      "source": [
        "## Gemini API 준비하기\n",
        "\n",
        "\n",
        "Google API 키를 등록하고 입력합니다.   \n",
        "구글 계정 로그인 후 https://aistudio.google.com  에 접속하면, API 키 생성이 가능합니다."
      ]
    },
    {
      "cell_type": "code",
      "execution_count": 10,
      "id": "13da3542",
      "metadata": {
        "id": "13da3542"
      },
      "outputs": [],
      "source": [
        "import os\n",
        "# Google API KEY 설정\n",
        "os.environ['GOOGLE_API_KEY']=\"AIxxx\""
      ]
    },
    {
      "cell_type": "markdown",
      "id": "b3b4252b",
      "metadata": {
        "id": "b3b4252b"
      },
      "source": [
        "\n",
        "LCEL의 가장 큰 특징은, Chain의 구성 요소를 **|**  (파이프)로 연결하여 한 번에 실행한다는 점입니다. 예시를 보겠습니다."
      ]
    },
    {
      "cell_type": "code",
      "execution_count": 11,
      "id": "d503ec22",
      "metadata": {
        "id": "d503ec22"
      },
      "outputs": [],
      "source": [
        "from langchain_google_genai import ChatGoogleGenerativeAI\n",
        "from langchain_core.prompts import ChatPromptTemplate\n",
        "\n",
        "# topic에 대한 영어 농담을 하고, 이것이 왜 농담인지 한국어로 설명하세요.\n",
        "fun_chat_template = ChatPromptTemplate([\n",
        "    ('user',\"\"\"\n",
        "Tell me an English joke about {topic} that uses a pun.\n",
        "\n",
        "Then, provide the following in Korean:\n",
        "1.  An explanation focusing on the pun, detailing why it is funny to English speakers.\n",
        "2.  A Korean translation of the joke. Please make your best effort to provide an excellent translation\n",
        "that captures the spirit and wordplay of the original English pun, even if a direct equivalent is difficult to find.\"\"\")])\n",
        "\n",
        "llm = ChatGoogleGenerativeAI(model='gemini-2.0-flash',\n",
        "                           temperature=0.5,\n",
        "                           max_tokens=2048)"
      ]
    },
    {
      "cell_type": "markdown",
      "id": "8def25a8",
      "metadata": {
        "id": "8def25a8"
      },
      "source": [
        "-----------\n",
        "LCEL의 구조에서는 템플릿과 llm 모델을 설정하고, 이를 하나로 묶어 체인을 생성합니다."
      ]
    },
    {
      "cell_type": "code",
      "execution_count": 12,
      "id": "f79c3c49",
      "metadata": {
        "id": "f79c3c49"
      },
      "outputs": [
        {
          "data": {
            "text/plain": [
              "ChatPromptTemplate(input_variables=['topic'], input_types={}, partial_variables={}, messages=[HumanMessagePromptTemplate(prompt=PromptTemplate(input_variables=['topic'], input_types={}, partial_variables={}, template='\\nTell me an English joke about {topic} that uses a pun.\\n\\nThen, provide the following in Korean:\\n1.  An explanation focusing on the pun, detailing why it is funny to English speakers.\\n2.  A Korean translation of the joke. Please make your best effort to provide an excellent translation\\nthat captures the spirit and wordplay of the original English pun, even if a direct equivalent is difficult to find.'), additional_kwargs={})])\n",
              "| ChatGoogleGenerativeAI(model='models/gemini-2.0-flash', google_api_key=SecretStr('**********'), temperature=0.5, max_output_tokens=2048, client=<google.ai.generativelanguage_v1beta.services.generative_service.client.GenerativeServiceClient object at 0x000002AAF5DBBD70>, default_metadata=(), model_kwargs={})"
            ]
          },
          "execution_count": 12,
          "metadata": {},
          "output_type": "execute_result"
        }
      ],
      "source": [
        "joke = fun_chat_template | llm\n",
        "joke"
      ]
    },
    {
      "cell_type": "markdown",
      "id": "69b435fd",
      "metadata": {
        "id": "69b435fd"
      },
      "source": [
        "이후, 체인의 invoke를 실행하며 입력 포맷을 전달하면, 순서대로 체인이 실행되며 최종 결과로 연결됩니다.    \n",
        "입력 포맷은 Dict 형식으로 전달합니다."
      ]
    },
    {
      "cell_type": "code",
      "execution_count": 13,
      "id": "a0e1a8fa",
      "metadata": {
        "id": "a0e1a8fa"
      },
      "outputs": [
        {
          "data": {
            "text/plain": [
              "AIMessage(content='Okay, here\\'s the English joke:\\n\\n**Why did the egg hide?**\\n\\n**Because it saw the chicken getting egg-secuted!**\\n\\nNow, here\\'s the Korean breakdown:\\n\\n1.  **Explanation of the Pun (in Korean):**\\n\\n이 농담은 \"executed\"라는 단어와 \"egg-secuted\"라는 단어의 발음 유사성을 이용한 언어유희입니다. \"Executed\"는 \"처형당하다\"라는 뜻이고, \"egg-secuted\"는 \"egg\" (달걀)와 \"executed\"를 합쳐 만든 가짜 단어입니다. 닭이 처형당하는 것을 보고 달걀이 숨었다는 설정은, 닭이 달걀을 낳는 존재이므로 달걀에게도 위험이 닥칠 수 있다는 두려움을 표현한 것입니다. 영어 화자들은 이러한 발음의 유사성과 예상치 못한 단어 조합에서 재미를 느낍니다.  \"Egg-secuted\"라는 단어 자체가 어색하고 우스꽝스럽게 들리기 때문에 웃음을 유발합니다. 또한, 달걀이 겁을 먹고 숨는다는 의인화된 상황도 유머를 더합니다.\\n\\n2.  **Korean Translation of the Joke (with pun attempt):**\\n\\n**왜 달걀이 숨었을까?**\\n\\n**닭이 \\'달걀형\\' 당하는 걸 봤거든!**\\n\\n**Explanation of Korean Translation:**\\n\\n*   I tried to capture the pun by using \"달걀형 당하다\" (dalgyal-hyeong danghada), which literally translates to \"being subjected to egg-shape.\"  This is a play on the common Korean expression \"처형당하다\" (cheohyeongdanghada - to be executed). The humor comes from the absurdity of someone being \"egg-shaped\" as a form of punishment, and the similarity to the sound of \"처형\" (cheohyeong).\\n*   While not a perfect equivalent, it attempts to mirror the English pun\\'s structure of replacing a syllable in \"execution\" with \"egg.\" It leverages the familiarity of the \"처형\" sound to create a similar, albeit weaker, pun effect.\\n*   Another possible translation could be: **왜 달걀이 숨었을까? 닭이 \\'달걀\\'되는 꼴을 봤거든!** (Why did the egg hide? Because it saw the chicken becoming an egg!) This is a more literal translation that highlights the cyclical nature of chickens laying eggs, and the potential for the chicken\\'s fate to befall the egg. However, it doesn\\'t have the same pun-like quality. The first translation is a closer attempt at capturing the original joke\\'s wordplay.', additional_kwargs={}, response_metadata={'prompt_feedback': {'block_reason': 0, 'safety_ratings': []}, 'finish_reason': 'STOP', 'model_name': 'gemini-2.0-flash', 'safety_ratings': [], 'grounding_metadata': {}, 'model_provider': 'google_genai'}, id='lc_run--e9d5b44a-d9d1-4260-bb4b-b1550868131f-0', usage_metadata={'input_tokens': 87, 'output_tokens': 606, 'total_tokens': 693, 'input_token_details': {'cache_read': 0}})"
            ]
          },
          "execution_count": 13,
          "metadata": {},
          "output_type": "execute_result"
        }
      ],
      "source": [
        "response = joke.invoke({'topic':'eggs'})\n",
        "\n",
        "response"
      ]
    },
    {
      "cell_type": "code",
      "execution_count": 14,
      "id": "8005f683",
      "metadata": {
        "id": "8005f683"
      },
      "outputs": [
        {
          "name": "stdout",
          "output_type": "stream",
          "text": [
            "Okay, here's the English joke:\n",
            "\n",
            "**Why did the egg hide?**\n",
            "\n",
            "**Because it saw the chicken getting egg-secuted!**\n",
            "\n",
            "Now, here's the Korean breakdown:\n",
            "\n",
            "1.  **Explanation of the Pun (in Korean):**\n",
            "\n",
            "이 농담은 \"executed\"라는 단어와 \"egg-secuted\"라는 단어의 발음 유사성을 이용한 언어유희입니다. \"Executed\"는 \"처형당하다\"라는 뜻이고, \"egg-secuted\"는 \"egg\" (달걀)와 \"executed\"를 합쳐 만든 가짜 단어입니다. 닭이 처형당하는 것을 보고 달걀이 숨었다는 설정은, 닭이 달걀을 낳는 존재이므로 달걀에게도 위험이 닥칠 수 있다는 두려움을 표현한 것입니다. 영어 화자들은 이러한 발음의 유사성과 예상치 못한 단어 조합에서 재미를 느낍니다.  \"Egg-secuted\"라는 단어 자체가 어색하고 우스꽝스럽게 들리기 때문에 웃음을 유발합니다. 또한, 달걀이 겁을 먹고 숨는다는 의인화된 상황도 유머를 더합니다.\n",
            "\n",
            "2.  **Korean Translation of the Joke (with pun attempt):**\n",
            "\n",
            "**왜 달걀이 숨었을까?**\n",
            "\n",
            "**닭이 '달걀형' 당하는 걸 봤거든!**\n",
            "\n",
            "**Explanation of Korean Translation:**\n",
            "\n",
            "*   I tried to capture the pun by using \"달걀형 당하다\" (dalgyal-hyeong danghada), which literally translates to \"being subjected to egg-shape.\"  This is a play on the common Korean expression \"처형당하다\" (cheohyeongdanghada - to be executed). The humor comes from the absurdity of someone being \"egg-shaped\" as a form of punishment, and the similarity to the sound of \"처형\" (cheohyeong).\n",
            "*   While not a perfect equivalent, it attempts to mirror the English pun's structure of replacing a syllable in \"execution\" with \"egg.\" It leverages the familiarity of the \"처형\" sound to create a similar, albeit weaker, pun effect.\n",
            "*   Another possible translation could be: **왜 달걀이 숨었을까? 닭이 '달걀'되는 꼴을 봤거든!** (Why did the egg hide? Because it saw the chicken becoming an egg!) This is a more literal translation that highlights the cyclical nature of chickens laying eggs, and the potential for the chicken's fate to befall the egg. However, it doesn't have the same pun-like quality. The first translation is a closer attempt at capturing the original joke's wordplay.\n"
          ]
        }
      ],
      "source": [
        "print(response.content)"
      ]
    },
    {
      "cell_type": "markdown",
      "id": "EdQZoCqula-M",
      "metadata": {
        "id": "EdQZoCqula-M"
      },
      "source": [
        "batch()를 실행하면, 여러 개의 데이터를 병렬적으로 전달합니다."
      ]
    },
    {
      "cell_type": "code",
      "execution_count": 15,
      "id": "0l3VP3gklah9",
      "metadata": {
        "id": "0l3VP3gklah9"
      },
      "outputs": [
        {
          "data": {
            "text/plain": [
              "[AIMessage(content='Okay, here\\'s the English joke:\\n\\n**Why did the cucumber blush?**\\n\\n**Because it saw the salad dressing!**\\n\\n---\\n\\nHere\\'s the Korean explanation and translation:\\n\\n1.  **Explanation of the Pun (in Korean):**\\n\\n농담은 \"salad dressing\" (샐러드 드레싱)이라는 단어와 \"dressing\" (옷을 입다)이라는 단어의 중의성을 이용합니다. 오이가 샐러드 드레싱을 봤다는 것은 단순히 샐러드 소스를 봤다는 의미일 수도 있지만, \"dressing\"이 \"옷을 입다\"라는 뜻도 있기 때문에, 오이가 옷을 벗은 샐러드 드레싱을 보고 부끄러워했다는 의미로 해석될 수 있습니다.  영어에서 \"blush\"는 얼굴이 붉어지는 것을 의미하며, 부끄러움이나 당황스러움을 표현할 때 사용됩니다. 따라서 오이가 옷을 벗은 샐러드 드레싱을 보고 부끄러워 얼굴이 붉어졌다는 상황을 상상하게 만들어 웃음을 유발하는 것입니다.  이러한 언어유희는 영어에서 흔히 사용되는 유머 방식입니다.\\n\\n2.  **Korean Translation of the Joke (Attempting to Capture the Pun):**\\n\\n**왜 오이가 얼굴을 붉혔을까?**\\n\\n**샐러드 드레싱이 홀딱 벗은 걸 봤거든!**\\n\\n**Explanation of the Korean Translation Choices:**\\n\\n*   **\"얼굴을 붉혔을까?\"** - This directly translates to \"Why did it blush?\"\\n*   **\"샐러드 드레싱이 홀딱 벗은 걸 봤거든!\"** - This is where the attempt to capture the pun comes in.\\n    *   \"샐러드 드레싱\" - Remains as \"salad dressing\".\\n    *   \"홀딱 벗은 걸 봤거든!\" - This translates to \"Because it saw it completely naked!\"  The key is the use of \"홀딱 벗은\" (holttak beoseun), which vividly describes being completely naked. This is a strong image that implies the salad dressing was undressed, creating a similar (though not identical) effect to the English pun.  The \"거든!\" (geodeun!) adds a bit of emphasis and a slightly playful tone.\\n\\n**Why this translation works (as much as possible):**\\n\\nThe Korean translation aims to achieve a similar effect by:\\n\\n*   Creating a situation where the cucumber is embarrassed because it saw something it shouldn\\'t have.\\n*   Using vivid language (\"홀딱 벗은\") to create a slightly absurd and humorous image.\\n\\nIt\\'s important to note that a perfect translation of a pun is often impossible. The goal is to find the closest equivalent that evokes a similar feeling of amusement and wordplay in the target language. This Korean translation sacrifices the direct wordplay on \"dressing\" but tries to replace it with a vivid image that creates a similar comedic effect.', additional_kwargs={}, response_metadata={'prompt_feedback': {'block_reason': 0, 'safety_ratings': []}, 'finish_reason': 'STOP', 'model_name': 'gemini-2.0-flash', 'safety_ratings': [], 'grounding_metadata': {}, 'model_provider': 'google_genai'}, id='lc_run--4aa537c1-43a5-46aa-83f1-259f50ea8eff-0', usage_metadata={'input_tokens': 87, 'output_tokens': 681, 'total_tokens': 768, 'input_token_details': {'cache_read': 0}}),\n",
              " AIMessage(content='Okay, here\\'s the English joke:\\n\\n**Why did the mango go out with a prune?**\\n\\n**Because he couldn\\'t find a date!** (Date as in a romantic outing, and date as in the fruit.)\\n\\n---\\n\\nHere\\'s the Korean explanation and translation:\\n\\n**1. 한국어 설명 (Explanation in Korean):**\\n\\n이 농담은 \"date\"라는 단어의 중의성을 이용한 언어유희입니다. 영어에서 \"date\"는 두 가지 의미를 가집니다. 첫째는 \"데이트\"라는 뜻으로, 연인 관계의 사람들이 함께 시간을 보내는 것을 의미합니다. 둘째는 \"대추야자\"라는 과일의 이름입니다.\\n\\n농담은 망고가 데이트 상대를 찾지 못해서 (couldn\\'t find a date) 결국 자두 (prune)와 데이트를 했다고 말합니다. 여기서 \"date\"는 데이트 상대를 의미하지만, 동시에 \"대추야자\"라는 과일을 찾지 못했다는 의미로도 해석될 수 있습니다. 대추야자는 망고와 비슷한 종류의 과일이기 때문에, 망고가 다른 과일인 자두와 데이트를 했다는 상황이 더욱 우스꽝스럽게 느껴집니다.\\n\\n영어권 화자들은 이러한 언어유희를 통해 웃음을 유발합니다. 비슷한 발음이나 철자를 가진 단어가 다른 의미를 가질 때, 그 차이를 이용하여 예상치 못한 연결고리를 만들고, 그로 인해 발생하는 부조화에서 재미를 느끼는 것입니다.\\n\\n**2. 한국어 번역 (Korean Translation):**\\n\\n**왜 망고는 말린 자두랑 데이트했을까?**\\n\\n**제대로 된 \\'대추\\'가 없었거든!** (대추 as in 대추야자, and 대추 as in 데이트 할 사람)\\n\\n**Explanation of the Korean Translation:**\\n\\nThis translation attempts to capture the pun by using the word \"대추\" (daechu), which primarily means \"jujube\" (a type of date fruit). However, I\\'ve tried to imply that it also sounds similar to someone you\\'d go on a date with. It\\'s not a perfect 1:1 pun, as \"대추\" doesn\\'t *directly* mean \"date\" in the romantic sense, but the context and the implication that the mango couldn\\'t find a *proper* date (fruit or person) hopefully convey the humor. The nuance is that the mango couldn\\'t find a \"good match\" (a *real* date, either a person or a date fruit), so it settled for a prune.\\n\\nThe \"제대로 된\" (jedaero doen - proper, real, decent) adds to the implication that the mango was looking for a *good* date (in either sense).', additional_kwargs={}, response_metadata={'prompt_feedback': {'block_reason': 0, 'safety_ratings': []}, 'finish_reason': 'STOP', 'model_name': 'gemini-2.0-flash', 'safety_ratings': [], 'grounding_metadata': {}, 'model_provider': 'google_genai'}, id='lc_run--b20ddd2d-9f06-4907-b4ee-ac4c02a2987e-0', usage_metadata={'input_tokens': 87, 'output_tokens': 649, 'total_tokens': 736, 'input_token_details': {'cache_read': 0}}),\n",
              " AIMessage(content='Okay, here\\'s an English joke about a peanut:\\n\\n**Joke:**\\n\\nWhy did the peanut go to the police?\\n\\nBecause he was a-salted!\\n\\n---\\n\\nHere\\'s the Korean explanation and translation:\\n\\n1. **Explanation of the Pun (in Korean):**\\n\\n이 농담은 영어의 동음이의어를 이용한 언어유희입니다. \"Assaulted\"는 \"폭행당했다\"라는 뜻인데, \"a-salted\"라고 쓰면 \"소금에 절여졌다\"라는 뜻으로 들립니다. 땅콩(peanut)은 종종 소금에 절여져서 판매되기 때문에, \"땅콩이 경찰에 간 이유\"가 \"소금에 절여졌기 때문\"이라는 답이 말이 되면서도 웃음을 유발하는 것입니다. 즉, 폭행(assault)과 소금(salt)의 발음이 비슷한 점을 이용한 재치 있는 농담입니다. 영어권 사람들은 이러한 언어유희를 재미있어합니다.\\n\\n2. **Korean Translation of the Joke:**\\n\\n**Original English Joke:** Why did the peanut go to the police? Because he was a-salted!\\n\\n**Korean Translation:**\\n\\n왜 땅콩이 경찰서에 갔을까?\\n\\n너무 짜증나서! (너무 짭짤해서!)\\n\\n**Explanation of the Korean Translation:**\\n\\nThe challenge is to find a Korean pun that relates to peanuts and a crime/police situation. The best I could come up with uses the word \"짜증나다\" (jjajeungnada), which means \"to be annoyed\" or \"to be irritated.\" By changing it to \"짜서 짜증나다\", we can imply that it is \"salty\" and \"annoying\".\\n\\n*   \"짜다\" (jjada) means \"salty.\"\\n*   \"너무 짜서\" (neomu jjaseo) means \"too salty.\"\\n*   \"짜증나다\" (jjajeungnada) means \"annoying\" or \"irritating.\"\\n\\nThe double meaning is that the peanut is *literally* too salty (because peanuts are often salted), and *figuratively* annoyed enough to go to the police. It\\'s not a perfect one-to-one translation of the English pun, but it\\'s the closest I can get to capturing the spirit of the wordplay in Korean. It relies on the listener understanding the common association of peanuts with salt and the double meaning of \"짜증나다\" in this context.', additional_kwargs={}, response_metadata={'prompt_feedback': {'block_reason': 0, 'safety_ratings': []}, 'finish_reason': 'STOP', 'model_name': 'gemini-2.0-flash', 'safety_ratings': [], 'grounding_metadata': {}, 'model_provider': 'google_genai'}, id='lc_run--afd4526e-5de7-42d4-a4bc-01df6672d952-0', usage_metadata={'input_tokens': 87, 'output_tokens': 564, 'total_tokens': 651, 'input_token_details': {'cache_read': 0}})]"
            ]
          },
          "execution_count": 15,
          "metadata": {},
          "output_type": "execute_result"
        }
      ],
      "source": [
        "topic_list = ['cucumber', 'mango', 'peanut']\n",
        "response = joke.batch(topic_list)\n",
        "response"
      ]
    },
    {
      "cell_type": "markdown",
      "id": "996f34e5",
      "metadata": {
        "id": "996f34e5"
      },
      "source": [
        "## 실습) 매개변수가 2개인 Prompt-LLM Chain 생성하기   \n",
        "임의의 ChatPromptTemplate를 만들고, 2개의 매개변수를 받도록 구성하여 체인을 만들고 실행하세요."
      ]
    },
    {
      "cell_type": "code",
      "execution_count": 19,
      "id": "LC7f4K056TWg",
      "metadata": {
        "id": "LC7f4K056TWg"
      },
      "outputs": [],
      "source": [
        "prompt = ChatPromptTemplate(\n",
        "    [\n",
        "        ('system','당신은 매우 창의적이며 재미있는 이야기꾼입니다.'),\n",
        "        ('user','{A}와 {B}가 만났을 때의 가상 대화를 써 주세요.')\n",
        "    ]\n",
        ")"
      ]
    },
    {
      "cell_type": "code",
      "execution_count": 20,
      "id": "69894a7b",
      "metadata": {
        "id": "69894a7b"
      },
      "outputs": [],
      "source": [
        "chain = prompt | llm"
      ]
    },
    {
      "cell_type": "code",
      "execution_count": 21,
      "id": "ecf3226d",
      "metadata": {
        "id": "ecf3226d"
      },
      "outputs": [
        {
          "name": "stdout",
          "output_type": "stream",
          "text": [
            "물론입니다. 햄릿 왕자와 슈퍼 마리오의 가상 대화입니다.\n",
            "\n",
            "[장면 시작]\n",
            "\n",
            "덴마크의 어두컴컴한 성, 엘시노어. 햄릿 왕자는 홀로 서서 해골을 들고 고뇌에 잠겨 있다.\n",
            "\n",
            "햄릿: 아, 가엾은 요릭! 나는 그를 잘 알았지, 호레이쇼. 무한한 농담과 뛰어난 재능을 가진 자였지. 그런데 이제 그는 어디에 있는가? 그가 한때 춤추고 노래했던 곳은 어디인가? 웃음의 섬광은 어디에 있는가? 이제는 침묵뿐, 끔찍한 침묵뿐!\n",
            "\n",
            "갑자기 녹색 파이프가 바닥에서 솟아오른다. 슈퍼 마리오가 파이프에서 뛰어내린다.\n",
            "\n",
            "마리오: 만세! 정말 멋진 파이프입니다!\n",
            "\n",
            "햄릿은 깜짝 놀라 해골을 떨어뜨린다.\n",
            "\n",
            "햄릿: 하늘이시여! 이게 무슨 일인가? 요정인가, 악마인가? 말하는 버섯인가?\n",
            "\n",
            "마리오: 아니요, 아니요, 아니요! 저는 마리오입니다! 슈퍼 마리오! 이 파이프가 어디로 연결되는지 알아내려고요.\n",
            "\n",
            "햄릿: 마리오? 슈퍼 마리오? 그런 이름은 들어본 적이 없소. 이 땅에는 그런 존재가 없소.\n",
            "\n",
            "마리오: 이 땅? 저는 버섯 왕국에 있다고 생각했어요! 피치 공주님을 구해야 하는데, 그 바우저가 또 납치했거든요!\n",
            "\n",
            "햄릿: 공주님, 납치? 나는 이 속임수와 배신을 잘 알고 있다. 내 숙부인 클라우디우스가 내 아버지를 죽이고 왕좌를 차지하고 내 어머니와 결혼했소!\n",
            "\n",
            "마리오: 와! 정말 나쁘네요! 하지만 공주님을 구하는 것보다 나쁘지는 않아요!\n",
            "\n",
            "햄릿: 나는 복수해야 할까, 복수하지 말아야 할까? 그것이 문제로다. 그 악당을 없애고 아버지의 죽음을 복수해야 할까, 아니면 고통을 참아야 할까?\n",
            "\n",
            "마리오: 복수하세요! 그게 바로 제가 하는 일이에요! 바우저는 항상 문제를 일으키지만, 저는 항상 그를 막아요!\n",
            "\n",
            "햄릿: 하지만 복수는 고통을 낳고, 폭력은 폭력을 낳는다. 세상에 더 많은 고통을 가져다주는 것이 아닐까?\n",
            "\n",
            "마리오: 음... 저는 그것에 대해 생각해 본 적이 없어요. 하지만 피치 공주님은 쿠키를 정말 잘 만드세요!\n",
            "\n",
            "햄릿: 쿠키?\n",
            "\n",
            "마리오: 네! 초콜릿 칩, 설탕, 오트밀 레이즌! 그녀는 모든 종류를 만들어요!\n",
            "\n",
            "햄릿: 쿠키는 좋은 것 같소. 나는 오랫동안 기쁨을 맛보지 못했소. 어쩌면 복수만이 유일한 길이 아닐 수도 있소. 어쩌면 삶에는 아직 즐거움이 있을 수도 있소. 어쩌면... 쿠키가 있을 수도 있소.\n",
            "\n",
            "마리오: 맞아요! 자, 도와드릴까요? 함께 바우저를 물리치고 피치 공주님이 쿠키를 만들어 주실 수 있도록 할까요?\n",
            "\n",
            "햄릿: 어쩌면... 어쩌면 나는 칼과 독 대신 행동을 택할 수도 있소. 어쩌면 나는 정의를 추구할 수도 있소. 어쩌면... 나는 쿠키를 먹을 수도 있소. 좋아, 마리오. 함께 바우저를 물리치자!\n",
            "\n",
            "마리오: 만세! 그게 바로 정신이에요!\n",
            "\n",
            "마리오와 햄릿은 함께 모험을 떠날 준비를 한다.\n",
            "\n",
            "[장면 종료]\n"
          ]
        }
      ],
      "source": [
        "response = chain.invoke({'A':'햄릿 왕자', 'B':'슈퍼 마리오'})\n",
        "print(response.content)"
      ]
    },
    {
      "cell_type": "markdown",
      "id": "7viSO-5e_Zzg",
      "metadata": {
        "id": "7viSO-5e_Zzg"
      },
      "source": [
        "<br><br><br><br><br><br><br><br><br><br><br><br>"
      ]
    },
    {
      "cell_type": "code",
      "execution_count": 22,
      "id": "C2nlXU-d_dXE",
      "metadata": {
        "id": "C2nlXU-d_dXE"
      },
      "outputs": [
        {
          "name": "stdout",
          "output_type": "stream",
          "text": [
            "어느 날, 햄릿이 곰곰이 생각하며 걷다가, 이상한 소리가 들려왔습니다. \"도넛! 도넛!\" 햄릿은 소리가 나는 곳으로 갔고, 그곳에서 호머 심슨이 도넛 더미를 먹고 있는 것을 발견했습니다.\n",
            "\n",
            "햄릿: \"잠깐만요! 당신은 누구시죠?\"\n",
            "\n",
            "호머: \"나는 호머 심슨이오. 당신은 누구시오?\"\n",
            "\n",
            "햄릿: \"저는 햄릿이오.\"\n",
            "\n",
            "호머: \"햄릿? 햄릿처럼 들리네요. 그게 도넛인가요?\"\n",
            "\n",
            "햄릿: \"아니오, 저는 도넛이 아니오. 저는 왕자요.\"\n",
            "\n",
            "호머: \"왕자? 쿨해요! 저도 왕이 되고 싶어요. 그러면 내가 원하는 만큼 도넛을 먹을 수 있을 거예요!\"\n",
            "\n",
            "햄릿: \"왕이 되는 것은 쉽지 않소. 책임이 많소.\"\n",
            "\n",
            "호머: \"책임? 으으, 그건 끔찍하게 들리네요. 그냥 도넛을 먹을게요.\"\n",
            "\n",
            "햄릿: \"저는 제 아버지의 죽음에 대해 고민하고 있소.\"\n",
            "\n",
            "호머: \"아, 슬프네요. 슬픔을 치유하는 데 도움이 되는 도넛을 드릴까요?\"\n",
            "\n",
            "햄릿: \"아니오, 고맙소. 저는 제 아버지의 죽음에 대해 복수해야 할지 고민하고 있소.\"\n",
            "\n",
            "호머: \"복수? 으으, 그건 많은 노력이 필요하겠네요. 그냥 앉아서 도넛을 먹을게요.\"\n",
            "\n",
            "햄릿: \"저는 삶의 의미에 대해 고민하고 있소.\"\n",
            "\n",
            "호머: \"삶의 의미? 으으, 그건 너무 어렵게 들리네요. 그냥 앉아서 도넛을 먹을게요.\"\n",
            "\n",
            "햄릿: \"저는 인간의 본성에 대해 고민하고 있소.\"\n",
            "\n",
            "호머: \"인간의 본성? 으으, 그건 너무 지루하게 들리네요. 그냥 앉아서 도넛을 먹을게요.\"\n",
            "\n",
            "햄릿: \"당신은 아무것도 심각하게 생각하지 않는 것 같소.\"\n",
            "\n",
            "호머: \"나는 심각하게 생각해요! 도넛을 심각하게 생각해요!\"\n",
            "\n",
            "햄릿: \"저는 당신을 이해하지 못하겠소.\"\n",
            "\n",
            "호머: \"나도 당신을 이해하지 못해요. 도넛을 먹을까요?\"\n",
            "\n",
            "햄릿: \"좋아요.\"\n",
            "\n",
            "그래서 햄릿과 호머는 함께 도넛을 먹었습니다. 햄릿은 여전히 고민하고 있었지만, 호머와 함께 시간을 보내는 것이 조금 더 나았습니다. 호머는 여전히 도넛을 먹고 있었지만, 햄릿과 함께 시간을 보내는 것이 조금 더 나았습니다. 아마도 그들은 서로에게서 배울 수 있었을 것입니다. 아마도 그들은 서로를 이해할 수 있었을 것입니다. 하지만 지금은 그냥 함께 도넛을 먹고 있었습니다.\n"
          ]
        }
      ],
      "source": [
        "prompt = ChatPromptTemplate(\n",
        "    [\n",
        "        ('system', '당신은 재미있고 교훈적인 이야기를 씁니다.'),\n",
        "        ('user', '{A}와 {B}가 만났을 때의 대화를 써 주세요.')\n",
        "    ])\n",
        "chain = prompt | llm\n",
        "response = chain.invoke({'A':'햄릿', 'B':'호머 심슨'})\n",
        "print(response.content)"
      ]
    },
    {
      "cell_type": "markdown",
      "id": "pizQhT08JC7E",
      "metadata": {
        "id": "pizQhT08JC7E"
      },
      "source": [
        "<br><br>\n",
        "## Chain에 파서 추가하기"
      ]
    },
    {
      "cell_type": "markdown",
      "id": "a939c4b3",
      "metadata": {
        "id": "a939c4b3"
      },
      "source": [
        "\n",
        "LCEL의 체인에는 **파서(Parser)** 를 추가할 수 있습니다.    \n",
        "파서는 출력 형식을 변환합니다."
      ]
    },
    {
      "cell_type": "markdown",
      "id": "ab182142",
      "metadata": {
        "id": "ab182142"
      },
      "source": [
        "StrOutputParser : 출력 결과를 String 형식으로 변환합니다."
      ]
    },
    {
      "cell_type": "code",
      "execution_count": 23,
      "id": "e9ced988",
      "metadata": {
        "id": "e9ced988"
      },
      "outputs": [],
      "source": [
        "from langchain_core.output_parsers import StrOutputParser\n",
        "\n",
        "travel_template = ChatPromptTemplate([\n",
        "    ('system', '당신은 전문적인 여행 플래너입니다.'),\n",
        "    ('user', '''다음 여행지에 대한 2박 3일의 여행 계획을 만들어주세요: {destination}''')\n",
        "])"
      ]
    },
    {
      "cell_type": "code",
      "execution_count": 24,
      "id": "5c6ed960",
      "metadata": {
        "id": "5c6ed960"
      },
      "outputs": [
        {
          "name": "stdout",
          "output_type": "stream",
          "text": [
            "## 서울 2박 3일 여행 계획 (추천)\n",
            "\n",
            "**여행 테마:** 서울의 전통과 현대, 그리고 맛을 모두 경험하는 알찬 여행\n",
            "\n",
            "**숙소:** 명동, 종로, 강남 등 교통이 편리하고 다양한 편의시설이 있는 곳을 추천합니다.\n",
            "\n",
            "**교통:** 대중교통 (지하철, 버스)을 적극 활용하세요. T머니 카드 또는 모바일 티머니를 준비하면 편리합니다.\n",
            "\n",
            "---\n",
            "\n",
            "**1일차: 역사와 전통을 거닐다**\n",
            "\n",
            "*   **오전 (9:00 - 12:00): 경복궁 & 북촌한옥마을**\n",
            "    *   경복궁: 서울의 대표적인 궁궐. 웅장한 건축물과 아름다운 정원을 감상하며 한국 역사를 느껴보세요. (한복을 입고 방문하면 무료 입장)\n",
            "    *   북촌한옥마을: 경복궁 근처에 위치한 전통 한옥 마을. 좁은 골목길을 따라 아기자기한 상점과 카페를 구경하며 사진 찍기 좋은 곳입니다.\n",
            "*   **점심 (12:00 - 13:00): 북촌 맛집 탐방**\n",
            "    *   북촌칼국수, 북촌손만두 등 한옥마을 주변 맛집에서 칼국수, 만두 등 전통 음식을 맛보세요.\n",
            "*   **오후 (13:00 - 17:00): 인사동 & 익선동**\n",
            "    *   인사동: 전통 공예품, 찻집, 갤러리가 모여있는 거리. 한국 전통 문화를 체험하고 기념품을 구매하기 좋습니다.\n",
            "    *   익선동: 좁은 골목길에 개성 넘치는 카페와 레스토랑이 즐비한 핫플레이스. 독특한 분위기를 즐기며 커피 한 잔의 여유를 즐겨보세요.\n",
            "*   **저녁 (17:00 - 19:00): 광장시장 먹거리 투어**\n",
            "    *   광장시장: 다양한 길거리 음식과 먹거리를 저렴하게 즐길 수 있는 곳. 빈대떡, 마약김밥, 육회 등 다양한 음식을 맛보세요.\n",
            "*   **저녁 이후 (19:00 - ): 청계천 야경 감상**\n",
            "    *   청계천: 광장시장 근처에 위치한 도심 속 휴식 공간. 밤에는 아름다운 조명이 켜져 산책하기 좋습니다.\n",
            "\n",
            "**2일차: 현대적인 서울을 만나다**\n",
            "\n",
            "*   **오전 (9:00 - 12:00): 남산 & N서울타워**\n",
            "    *   남산: 서울 시내를 한눈에 조망할 수 있는 곳. 케이블카를 타고 올라가 N서울타워에서 멋진 풍경을 감상하세요.\n",
            "    *   사랑의 자물쇠: N서울타워에서 사랑하는 사람과 함께 자물쇠를 걸어 영원한 사랑을 약속하세요.\n",
            "*   **점심 (12:00 - 13:00): 명동 맛집**\n",
            "    *   명동: 다양한 맛집과 쇼핑 명소가 있는 곳. 칼국수, 돈까스, 닭갈비 등 다양한 음식을 맛보세요.\n",
            "*   **오후 (13:00 - 17:00): 강남 & 코엑스**\n",
            "    *   강남: 한국의 대표적인 번화가. 트렌디한 쇼핑과 맛집을 즐길 수 있습니다.\n",
            "    *   코엑스: 다양한 전시회와 쇼핑몰, 아쿠아리움 등이 있는 복합 문화 공간.\n",
            "*   **저녁 (17:00 - 19:00): 강남 맛집 & 쇼핑**\n",
            "    *   강남역 주변 맛집에서 저녁 식사를 즐기고, 강남 지하상가에서 쇼핑을 즐겨보세요.\n",
            "*   **저녁 이후 (19:00 - ): 롯데월드타워 & 석촌호수 야경**\n",
            "    *   롯데월드타워: 한국에서 가장 높은 건물. 서울의 야경을 감상하기 좋은 곳입니다.\n",
            "    *   석촌호수: 롯데월드타워 옆에 위치한 호수. 밤에는 아름다운 조명이 켜져 산책하기 좋습니다.\n",
            "\n",
            "**3일차: 쇼핑과 문화 예술을 즐기다**\n",
            "\n",
            "*   **오전 (9:00 - 12:00): 홍대 & 이화여자대학교**\n",
            "    *   홍대: 젊음과 예술의 거리. 개성 넘치는 상점, 카페, 클럽 등이 모여있습니다.\n",
            "    *   이화여자대학교: 아름다운 캠퍼스를 자랑하는 대학교. 사진 찍기 좋은 곳입니다.\n",
            "*   **점심 (12:00 - 13:00): 홍대 맛집**\n",
            "    *   홍대: 다양한 종류의 맛집이 많으니, 취향에 맞는 음식을 선택하여 즐기세요.\n",
            "*   **오후 (13:00 - 16:00): 쇼핑 & 기념품 구매**\n",
            "    *   명동, 강남, 홍대 등에서 쇼핑을 즐기거나, 인사동에서 한국 전통 기념품을 구매하세요.\n",
            "*   **저녁 (16:00 - 18:00): 공항으로 이동**\n",
            "    *   공항철도 또는 공항버스를 이용하여 공항으로 이동합니다.\n",
            "\n",
            "**팁:**\n",
            "\n",
            "*   여행 전에 서울 관광 정보 웹사이트 (Visit Seoul 등)를 참고하여 최신 정보를 확인하세요.\n",
            "*   미리 예약 가능한 티켓 (N서울타워, 롯데월드 등)은 온라인으로 예매하는 것이 좋습니다.\n",
            "*   서울은 대중교통이 잘 되어 있지만, 택시를 이용해야 할 경우도 있습니다.\n",
            "*   한국어를 못하더라도 걱정하지 마세요. 관광지에는 외국어 지원이 잘 되어 있습니다.\n",
            "*   환전은 미리 해두는 것이 좋지만, 한국에서도 환전소를 쉽게 찾을 수 있습니다.\n",
            "*   날씨에 맞는 옷차림을 준비하세요.\n",
            "\n",
            "**여행 예산:**\n",
            "\n",
            "*   숙박: 1박당 5만원 ~ 20만원 (호텔, 게스트하우스 등 숙소 종류에 따라 다름)\n",
            "*   식비: 1인당 하루 3만원 ~ 5만원\n",
            "*   교통비: 1인당 하루 5천원 ~ 1만원\n",
            "*   입장료 및 기타 비용: 1인당 3만원 ~ 5만원\n",
            "\n",
            "**참고:** 위 일정은 추천 일정이며, 개인의 취향과 관심사에 따라 자유롭게 변경 가능합니다. 즐거운 서울 여행 되세요!\n"
          ]
        }
      ],
      "source": [
        "travel_chain = travel_template | llm | StrOutputParser()\n",
        "response = travel_chain.invoke({'destination':'서울'})\n",
        "print(response)"
      ]
    },
    {
      "cell_type": "markdown",
      "id": "dea64911",
      "metadata": {
        "id": "dea64911"
      },
      "source": [
        "파서는 스트링이 아닌 json 형식으로도 만들 수 있습니다.   \n",
        "프롬프트에서 형식을 요청하고, 이를 파서와 결합하여 변환하는 방식입니다."
      ]
    },
    {
      "cell_type": "code",
      "execution_count": 25,
      "id": "88ecbe6c",
      "metadata": {
        "id": "88ecbe6c"
      },
      "outputs": [],
      "source": [
        "from langchain_core.output_parsers import JsonOutputParser\n",
        "\n",
        "jsonparser = JsonOutputParser()"
      ]
    },
    {
      "cell_type": "code",
      "execution_count": 26,
      "id": "833e804d",
      "metadata": {
        "id": "833e804d"
      },
      "outputs": [
        {
          "data": {
            "text/plain": [
              "'Return a JSON object.'"
            ]
          },
          "execution_count": 26,
          "metadata": {},
          "output_type": "execute_result"
        }
      ],
      "source": [
        "jsonparser.get_format_instructions()"
      ]
    },
    {
      "cell_type": "code",
      "execution_count": 27,
      "id": "b19b4fad",
      "metadata": {
        "id": "b19b4fad"
      },
      "outputs": [],
      "source": [
        "travel_template = ChatPromptTemplate([\n",
        "    ('system', '당신은 전문적인 여행 플래너입니다.'),\n",
        "    ('user', '''다음 여행지에 대한 여행 계획을 만들어주세요: {destination}\n",
        "    상세한 정보를 JSON 형식으로 제공해주세요.''')\n",
        "])\n",
        "\n",
        "travel_chain = travel_template | llm | jsonparser"
      ]
    },
    {
      "cell_type": "code",
      "execution_count": 28,
      "id": "b1ff815a",
      "metadata": {
        "id": "b1ff815a"
      },
      "outputs": [
        {
          "data": {
            "text/plain": [
              "{'trip_name': '베니스 로맨틱 여행',\n",
              " 'destination': '베니스, 이탈리아',\n",
              " 'duration': '4일 3박',\n",
              " 'best_time_to_visit': '4월 - 5월 (봄) 또는 9월 - 10월 (가을). 여름은 덥고 혼잡하며 겨울은 추울 수 있습니다.',\n",
              " 'currency': '유로 (EUR)',\n",
              " 'language': '이탈리아어 (영어 사용 가능)',\n",
              " 'accommodation': {'recommendations': [{'name': '호텔 다니엘리, 어 럭셔리 컬렉션 호텔, 베니스',\n",
              "    'type': '럭셔리',\n",
              "    'description': '베니스 라군이 내려다보이는 멋진 전망을 자랑하는 역사적인 호텔입니다.',\n",
              "    'price_range': '€€€€',\n",
              "    'notes': '미리 예약하세요. 특히 성수기에는 더욱 그렇습니다.'},\n",
              "   {'name': 'Hotel Ai Reali - Small Luxury Hotels of the World',\n",
              "    'type': '부티크',\n",
              "    'description': '리알토 다리 근처에 위치한 스타일리시하고 현대적인 호텔입니다.',\n",
              "    'price_range': '€€€',\n",
              "    'notes': '훌륭한 위치와 현대적인 편의 시설을 갖추고 있습니다.'},\n",
              "   {'name': 'Hotel Al Ponte Mocenigo',\n",
              "    'type': '중급',\n",
              "    'description': '조용하고 중앙에 위치한 매력적인 호텔입니다.',\n",
              "    'price_range': '€€',\n",
              "    'notes': '가성비가 좋습니다.'}],\n",
              "  'tips': '베니스는 숙박 시설이 비쌉니다. 미리 예약하고, 특히 페스티벌이나 이벤트 기간에는 더욱 그렇습니다. 본토의 메스트레에 머무르는 것도 고려해 보세요. 베니스로 가는 기차나 버스가 자주 운행됩니다.'},\n",
              " 'transportation': {'getting_around': '베니스는 도보로 이동하거나 수상 교통을 이용하는 것이 가장 좋습니다. 바포레토(수상 버스)는 도시를 돌아다니는 일반적인 방법입니다. 곤돌라는 로맨틱하지만 비쌉니다.',\n",
              "  'airport_transfer': '마르코 폴로 공항에서 베니스까지 수상 택시, 바포레토(Alilaguna 라인), 또는 버스를 이용할 수 있습니다. 트레비소 공항에서 베니스까지 버스를 이용할 수 있습니다.',\n",
              "  'vaporeto_pass': '며칠 동안 여러 번 바포레토를 이용할 계획이라면 바포레토 패스를 구입하는 것이 좋습니다.',\n",
              "  'walking_shoes': '편안한 신발을 신으세요! 많은 걷기가 필요합니다.'},\n",
              " 'itinerary': {'day_1': {'morning': '산 마르코 광장 방문: 산 마르코 대성당, 두칼레 궁전, 종탑을 둘러보세요.',\n",
              "   'afternoon': '리알토 다리를 건너 리알토 시장을 탐험하세요.',\n",
              "   'evening': '카날 그란데에서 곤돌라를 타세요. 전통적인 베네치아 레스토랑에서 저녁 식사를 즐기세요.'},\n",
              "  'day_2': {'morning': '무라노 섬으로 바포레토를 타고 유리 공방을 방문하세요.',\n",
              "   'afternoon': '부라노 섬으로 이동하여 다채로운 집을 감상하세요.',\n",
              "   'evening': '칸나레조 지구에서 치케티(베네치아 타파스)와 와인을 즐기세요.'},\n",
              "  'day_3': {'morning': '도르소두로 지구에 있는 갤러리 아카데미아를 방문하여 베네치아 예술을 감상하세요.',\n",
              "   'afternoon': '페기 구겐하임 컬렉션을 탐험하세요.',\n",
              "   'evening': '산타 마르게리타 광장에서 아페리티보를 즐기세요.'},\n",
              "  'day_4': {'morning': '산 조르조 마조레 교회 방문: 종탑에서 도시의 멋진 전망을 감상하세요.',\n",
              "   'afternoon': '자유 시간: 쇼핑, 박물관 방문, 또는 단순히 운하를 따라 산책을 즐기세요.',\n",
              "   'evening': '출발.'}},\n",
              " 'food_and_drink': {'must_try': ['치케티 (베네치아 타파스)',\n",
              "   '리소토 알 네로 디 세피아 (오징어 먹물 리소토)',\n",
              "   '파스타 에 파졸리 (파스타와 콩 수프)',\n",
              "   '프리톨레 (베네치아 도넛)',\n",
              "   '스프리츠 (아페롤, 프로세코, 소다수를 섞은 칵테일)'],\n",
              "  'recommendations': [{'name': 'Trattoria Al Gatto Nero (부라노)',\n",
              "    'cuisine': '해산물',\n",
              "    'notes': '부라노 섬에 있는 유명한 해산물 레스토랑입니다.'},\n",
              "   {'name': \"All'Arco (리알토)\",\n",
              "    'cuisine': '치케티',\n",
              "    'notes': '리알토 시장 근처에 있는 인기 있는 치케티 바입니다.'},\n",
              "   {'name': \"Dal Moro's Fresh Pasta To Go\",\n",
              "    'cuisine': '테이크 아웃 파스타',\n",
              "    'notes': '빠르고 저렴한 점심 식사를 위한 훌륭한 옵션입니다.'}],\n",
              "  'tips': '베네치아 레스토랑은 비쌀 수 있습니다. 특히 관광 지역에서는 더욱 그렇습니다. 현지인들이 자주 가는 바카리(와인 바)에서 치케티와 와인을 즐겨보세요.'},\n",
              " 'activities': {'romantic': ['카날 그란데에서 곤돌라를 타세요.',\n",
              "   '산 마르코 광장에서 저녁 산책을 즐기세요.',\n",
              "   '산 조르조 마조레 교회 종탑에서 일몰을 감상하세요.',\n",
              "   '조용한 운하 옆에서 저녁 식사를 즐기세요.'],\n",
              "  'cultural': ['산 마르코 대성당과 두칼레 궁전을 방문하세요.',\n",
              "   '갤러리 아카데미아와 페기 구겐하임 컬렉션을 탐험하세요.',\n",
              "   '라 페니체 극장에서 오페라를 감상하세요.',\n",
              "   '베네치아 가면 워크숍에 참여하세요.'],\n",
              "  'unique': ['무라노 섬에서 유리 불기 시연을 관람하세요.',\n",
              "   '부라노 섬에서 레이스 만들기 워크숍에 참여하세요.',\n",
              "   '산 프란체스코 델 데세르토 섬을 방문하세요.',\n",
              "   '베네치아 카지노에서 행운을 시험해 보세요.']},\n",
              " 'tips_and_advice': {'water': '수돗물은 마실 수 있지만 맛이 없을 수 있습니다. 병에 든 물을 구입하는 것이 좋습니다.',\n",
              "  'mosquitoes': '여름에는 모기가 많을 수 있습니다. 모기 퇴치제를 챙기세요.',\n",
              "  'flooding': '베니스는 아쿠아 알타(만조)를 겪을 수 있습니다. 특히 가을과 겨울에는 더욱 그렇습니다. 장화를 챙기거나 현지에서 구입할 수 있습니다.',\n",
              "  'respect': '교회와 종교 장소에 방문할 때는 옷을 적절하게 입으세요.',\n",
              "  'pickpockets': '인파가 많은 지역에서는 소지품을 잘 챙기세요.',\n",
              "  'negotiate': '수상 택시 요금은 협상 가능합니다. 타기 전에 가격을 확인하세요.'},\n",
              " 'budget': {'flights': '€200 - €500 (출발지에 따라 다름)',\n",
              "  'accommodation': '€100 - €500+ (1박당, 숙박 시설 유형에 따라 다름)',\n",
              "  'food': '€50 - €100 (1인당, 1일)',\n",
              "  'transportation': '€20 - €50 (1일)',\n",
              "  'activities': '€30 - €100+ (1인당, 1일)',\n",
              "  'total_estimated_cost': '€800 - €2500+ (1인당, 여행 전체)'}}"
            ]
          },
          "execution_count": 28,
          "metadata": {},
          "output_type": "execute_result"
        }
      ],
      "source": [
        "response = travel_chain.invoke({'destination':'베니스'})\n",
        "response"
      ]
    },
    {
      "cell_type": "markdown",
      "id": "176a7aa5",
      "metadata": {
        "id": "176a7aa5"
      },
      "source": [
        "Json으로 파싱하는 방법은 활용도가 높지만, 실행할 때마다 결과뿐만 아니라 형식도 달라진다는 문제가 있습니다."
      ]
    },
    {
      "cell_type": "code",
      "execution_count": 29,
      "id": "85ce4142",
      "metadata": {
        "id": "85ce4142"
      },
      "outputs": [
        {
          "data": {
            "text/plain": [
              "{'tripName': '아이슬란드 어드벤처',\n",
              " 'destination': '아이슬란드',\n",
              " 'duration': '7일 6박',\n",
              " 'bestTimeToVisit': '6월 - 8월 (최고의 날씨 및 백야), 9월 - 4월 (오로라)',\n",
              " 'budget': {'currency': 'USD',\n",
              "  'estimatedCostPerDay': 250,\n",
              "  'totalEstimatedCost': 1750,\n",
              "  'notes': '이것은 평균적인 추정치이며, 숙박 시설, 활동 및 식사에 따라 크게 달라질 수 있습니다. 렌터카, 투어 및 식사는 특히 비쌀 수 있습니다.'},\n",
              " 'travelStyle': '자연, 모험, 사진, 문화',\n",
              " 'accommodation': {'options': ['호텔 (레이캬비크)',\n",
              "   '게스트하우스 (시골 지역)',\n",
              "   '캠핑 (여름)',\n",
              "   '에어비앤비'],\n",
              "  'recommendations': [{'name': 'The Retreat at Blue Lagoon Iceland',\n",
              "    'type': '호텔',\n",
              "    'description': '블루 라군에 위치한 고급 호텔. 스파와 고급 레스토랑을 이용할 수 있습니다.',\n",
              "    'priceRange': '$$$$'},\n",
              "   {'name': 'Fosshotel Glacier Lagoon',\n",
              "    'type': '호텔',\n",
              "    'description': '요쿨살론 빙하 라군 근처에 위치한 현대적인 호텔. 아름다운 전망을 제공합니다.',\n",
              "    'priceRange': '$$$'},\n",
              "   {'name': '아이슬란드 에어비앤비',\n",
              "    'type': '에어비앤비',\n",
              "    'description': '레이캬비크 또는 시골 지역에서 다양한 예산에 맞는 다양한 옵션이 있습니다.',\n",
              "    'priceRange': '$$ - $$$'}]},\n",
              " 'transportation': {'primary': '렌터카 (4륜 구동 권장, 특히 겨울)',\n",
              "  'alternatives': ['대중교통 (레이캬비크)', '투어 버스'],\n",
              "  'notes': '아이슬란드를 탐험하는 가장 좋은 방법은 렌터카입니다. F-로드(산악 도로)를 운전할 계획이라면 4륜 구동 차량이 필수입니다. 겨울에는 도로 상황이 예측 불가능할 수 있으므로 운전 경험이 중요합니다.'},\n",
              " 'itinerary': {'day1': {'location': '레이캬비크',\n",
              "   'activities': ['케플라비크 공항 도착 및 렌터카 픽업',\n",
              "    '호텔 체크인 (레이캬비크)',\n",
              "    '할그림스키르캬 교회 방문',\n",
              "    '하르파 콘서트홀 산책',\n",
              "    '선 보이저 조각상 보기',\n",
              "    '레이캬비크 시내 탐험 및 저녁 식사']},\n",
              "  'day2': {'location': '골든 서클',\n",
              "   'activities': ['싱벨리어 국립공원 방문 (유네스코 세계 문화 유산)',\n",
              "    '게이시르 지열 지역에서 스트로쿠르 간헐천 보기',\n",
              "    '굴포스 폭포 감상',\n",
              "    '비밀 라군에서 휴식 (선택 사항)',\n",
              "    '골든 서클 지역의 숙박 시설에서 숙박']},\n",
              "  'day3': {'location': '아이슬란드 남해안',\n",
              "   'activities': ['셀랴란드스포스 폭포 방문 (폭포 뒤를 걸어보세요!)',\n",
              "    '스코가포스 폭포 방문',\n",
              "    '솔헤이마요쿨 빙하 하이킹 (선택 사항, 가이드 투어 필요)',\n",
              "    '디르홀레이 절벽과 레이니스피아라 해변에서 검은 모래 해변과 현무암 기둥 보기',\n",
              "    '비크 마을에서 숙박']},\n",
              "  'day4': {'location': '요쿨살론 빙하 라군 & 다이아몬드 해변',\n",
              "   'activities': ['요쿨살론 빙하 라군 방문 (빙산 보트 투어 고려)',\n",
              "    '다이아몬드 해변에서 빙산이 검은 모래 해변에 떠밀려 오는 것을 감상',\n",
              "    '스카프타펠 자연 보호 구역에서 하이킹 (스바르티포스 폭포까지 하이킹 고려)',\n",
              "    '회픈 지역에서 숙박']},\n",
              "  'day5': {'location': '아이슬란드 동부 피오르드',\n",
              "   'activities': ['아이슬란드 동부 피오르드를 따라 경치 좋은 드라이브',\n",
              "    '작은 어촌 마을 방문 (예: 세이디스피오르두르)',\n",
              "    '아이슬란드 동부의 야생 동물 관찰 (순록이 있을 수 있습니다!)',\n",
              "    '아이슬란드 동부 피오르드 지역의 숙박 시설에서 숙박']},\n",
              "  'day6': {'location': '미바튼 호수',\n",
              "   'activities': ['데티포스 폭포 방문 (유럽에서 가장 강력한 폭포)',\n",
              "    '나마프잘 지열 지역 탐험',\n",
              "    '미바튼 호수 주변의 가짜 분화구 방문',\n",
              "    '미바튼 자연욕장에서 휴식',\n",
              "    '미바튼 호수 지역의 숙박 시설에서 숙박']},\n",
              "  'day7': {'location': '레이캬비크 & 출발',\n",
              "   'activities': ['고다포스 폭포 방문',\n",
              "    '레이캬비크로 돌아오는 길',\n",
              "    '블루 라군에서 휴식 (선택 사항, 미리 예약)',\n",
              "    '케플라비크 공항으로 돌아가 렌터카 반납',\n",
              "    '출발']}},\n",
              " 'activities': ['빙하 하이킹',\n",
              "  '고래 관찰',\n",
              "  '오로라 관찰 (겨울)',\n",
              "  '온천욕 (블루 라군, 미바튼 자연욕장, 비밀 라군)',\n",
              "  '동굴 탐험',\n",
              "  '승마',\n",
              "  '낚시'],\n",
              " 'food': {'mustTry': ['아이슬란드 양고기 수프 (Kjötsúpa)',\n",
              "   '생선 스튜 (Plokkfiskur)',\n",
              "   '핫도그 (Pylsur)',\n",
              "   '아이슬란드 스카이르 (요거트)',\n",
              "   '호밀빵 (Rúgbrauð)',\n",
              "   '신선한 해산물'],\n",
              "  'notes': '아이슬란드에서는 음식 가격이 비쌀 수 있습니다. 예산을 절약하려면 식료품점에서 식료품을 구입하고 직접 요리하는 것을 고려하세요.'},\n",
              " 'packingList': ['방수 및 방풍 의류',\n",
              "  '레이어링할 수 있는 옷',\n",
              "  '튼튼한 하이킹 부츠',\n",
              "  '수영복 (온천욕)',\n",
              "  '카메라',\n",
              "  '삼각대 (오로라 관찰)',\n",
              "  '선글라스',\n",
              "  '자외선 차단제',\n",
              "  '모자와 장갑',\n",
              "  '전원 어댑터'],\n",
              " 'importantNotes': ['아이슬란드 날씨는 예측 불가능할 수 있습니다. 날씨 변화에 대비하세요.',\n",
              "  '도로 상황을 확인하고 안전하게 운전하세요.',\n",
              "  '투어와 숙박 시설을 미리 예약하세요. 특히 성수기에는 더욱 그렇습니다.',\n",
              "  '책임감 있게 여행하고 아이슬란드 자연을 존중하세요.',\n",
              "  '여행자 보험에 가입하는 것을 고려하세요.',\n",
              "  '112는 아이슬란드에서 응급 서비스 전화번호입니다.']}"
            ]
          },
          "execution_count": 29,
          "metadata": {},
          "output_type": "execute_result"
        }
      ],
      "source": [
        "response = travel_chain.invoke({'destination':'아이슬란드'})\n",
        "response"
      ]
    },
    {
      "cell_type": "markdown",
      "id": "2f447984",
      "metadata": {
        "id": "2f447984"
      },
      "source": [
        "## Pydantic을 이용해 확실한 형식 지정하기"
      ]
    },
    {
      "cell_type": "markdown",
      "id": "442f4b64",
      "metadata": {
        "id": "442f4b64"
      },
      "source": [
        "pydantic은 데이터 형식에 제약조건을 두고 이를 준수하는지 검증하는 라이브러리입니다.\n"
      ]
    },
    {
      "cell_type": "code",
      "execution_count": 30,
      "id": "0f68be94",
      "metadata": {
        "id": "0f68be94"
      },
      "outputs": [],
      "source": [
        "from pydantic import BaseModel, Field\n",
        "# pydantic 연동\n",
        "\n",
        "# Pydantic 모델 정의\n",
        "class TravelPlan(BaseModel):\n",
        "    destination: str = Field(description=\"여행지 이름\")\n",
        "    best_season: str = Field(description=\"최적의 방문 시기\")\n",
        "    duration: str = Field(description=\"추천 여행 기간\")\n",
        "    must_visit: list[str] = Field(description=\"필수 방문지 리스트\")\n",
        "    estimated_cost: str = Field(description=\"예상 비용 (1인 기준)\")\n",
        "    items_to_pack: list[str] = Field(description=\"준비물 리스트\")\n",
        "    local_foods: list[str] = Field(description=\"현지 음식 추천\")\n",
        "    tips: list[str] = Field(description=\"여행 팁과 주의사항\")\n"
      ]
    },
    {
      "cell_type": "code",
      "execution_count": 31,
      "id": "22f285b4",
      "metadata": {
        "id": "22f285b4"
      },
      "outputs": [],
      "source": [
        "parser = JsonOutputParser(pydantic_object=TravelPlan)"
      ]
    },
    {
      "cell_type": "code",
      "execution_count": 32,
      "id": "952c24cb",
      "metadata": {
        "id": "952c24cb"
      },
      "outputs": [
        {
          "name": "stdout",
          "output_type": "stream",
          "text": [
            "The output should be formatted as a JSON instance that conforms to the JSON schema below.\n",
            "\n",
            "As an example, for the schema {\"properties\": {\"foo\": {\"title\": \"Foo\", \"description\": \"a list of strings\", \"type\": \"array\", \"items\": {\"type\": \"string\"}}}, \"required\": [\"foo\"]}\n",
            "the object {\"foo\": [\"bar\", \"baz\"]} is a well-formatted instance of the schema. The object {\"properties\": {\"foo\": [\"bar\", \"baz\"]}} is not well-formatted.\n",
            "\n",
            "Here is the output schema:\n",
            "```\n",
            "{\"properties\": {\"destination\": {\"description\": \"여행지 이름\", \"title\": \"Destination\", \"type\": \"string\"}, \"best_season\": {\"description\": \"최적의 방문 시기\", \"title\": \"Best Season\", \"type\": \"string\"}, \"duration\": {\"description\": \"추천 여행 기간\", \"title\": \"Duration\", \"type\": \"string\"}, \"must_visit\": {\"description\": \"필수 방문지 리스트\", \"items\": {\"type\": \"string\"}, \"title\": \"Must Visit\", \"type\": \"array\"}, \"estimated_cost\": {\"description\": \"예상 비용 (1인 기준)\", \"title\": \"Estimated Cost\", \"type\": \"string\"}, \"items_to_pack\": {\"description\": \"준비물 리스트\", \"items\": {\"type\": \"string\"}, \"title\": \"Items To Pack\", \"type\": \"array\"}, \"local_foods\": {\"description\": \"현지 음식 추천\", \"items\": {\"type\": \"string\"}, \"title\": \"Local Foods\", \"type\": \"array\"}, \"tips\": {\"description\": \"여행 팁과 주의사항\", \"items\": {\"type\": \"string\"}, \"title\": \"Tips\", \"type\": \"array\"}}, \"required\": [\"destination\", \"best_season\", \"duration\", \"must_visit\", \"estimated_cost\", \"items_to_pack\", \"local_foods\", \"tips\"]}\n",
            "```\n"
          ]
        }
      ],
      "source": [
        "print(parser.get_format_instructions())"
      ]
    },
    {
      "cell_type": "code",
      "execution_count": 33,
      "id": "ec750811",
      "metadata": {
        "id": "ec750811"
      },
      "outputs": [],
      "source": [
        "travel_template = ChatPromptTemplate([\n",
        "    ('system', '당신은 전문적인 여행 플래너입니다.'),\n",
        "    ('user', '''다음 여행지에 대한 여행 계획을 만들어주세요: {destination}\n",
        "    상세한 정보를 JSON 형식으로 제공해주세요.\n",
        "    {format_instructions}\n",
        "    ''')\n",
        "])\n",
        "\n",
        "travel_chain2 = travel_template | llm | parser\n"
      ]
    },
    {
      "cell_type": "code",
      "execution_count": 34,
      "id": "d1262301",
      "metadata": {
        "id": "d1262301"
      },
      "outputs": [
        {
          "data": {
            "text/plain": [
              "{'destination': '카이로',\n",
              " 'best_season': '10월부터 4월 (온화한 날씨)',\n",
              " 'duration': '4-7일',\n",
              " 'must_visit': ['기자 피라미드와 스핑크스',\n",
              "  '이집트 박물관',\n",
              "  '칸 엘 칼릴리 시장',\n",
              "  '무함마드 알리 모스크',\n",
              "  '콥트 카이로 (콥트 박물관, 매달린 교회 등)',\n",
              "  '카이로 타워',\n",
              "  '멤피스와 사카라 (선택 사항, 시간이 있다면)'],\n",
              " 'estimated_cost': '1인 기준 70만원 ~ 150만원 (항공권, 숙박, 식사, 교통, 입장료 포함, 개인 소비에 따라 다름)',\n",
              " 'items_to_pack': ['가벼운 옷 (면 소재 권장)',\n",
              "  '편안한 신발 (많이 걸어야 함)',\n",
              "  '선글라스, 선크림, 모자',\n",
              "  '스카프 (여성의 경우 모스크 방문 시 필요)',\n",
              "  '상비약 (소화제, 지사제, 진통제 등)',\n",
              "  '모기 퇴치제',\n",
              "  '손 소독제',\n",
              "  '보조 배터리',\n",
              "  '카메라',\n",
              "  '여행자 보험 증서 사본',\n",
              "  '현금 (소액)',\n",
              "  '어댑터 (필요한 경우)'],\n",
              " 'local_foods': ['코샤리 (Koshari): 쌀, 마카로니, 렌틸콩, 병아리콩, 토마토 소스, 튀긴 양파를 섞은 이집트 대표 음식',\n",
              "  '풀 메다메스 (Ful Medames): 파바콩을 주재료로 한 스튜',\n",
              "  \"타메이야 (Ta'meya): 이집트식 팔라펠, 파바콩으로 만든 튀김\",\n",
              "  '케밥 (Kebab) & 코프타 (Kofta): 구운 고기 요리',\n",
              "  '옴 알리 (Om Ali): 우유, 빵, 견과류를 넣어 만든 이집트식 푸딩',\n",
              "  '아이쉬 발라디 (Aish Baladi): 이집트 전통 빵',\n",
              "  '신선한 주스 (사탕수수 주스, 망고 주스 등)'],\n",
              " 'tips': ['흥정은 필수! 특히 시장이나 기념품 가게에서는 가격을 깎는 것을 잊지 마세요.',\n",
              "  '물을 반드시 생수를 구입해서 드세요. 수돗물은 마시지 않는 것이 좋습니다.',\n",
              "  '소매치기를 조심하세요. 귀중품은 안전하게 보관하고, 사람이 많은 곳에서는 가방을 주의하세요.',\n",
              "  '택시를 이용할 때는 미터기를 켜는지 확인하거나, 타기 전에 가격을 협상하세요. 우버나 Careem과 같은 차량 호출 앱을 사용하는 것도 좋은 방법입니다.',\n",
              "  '라마단 기간에는 음식점 영업시간이 변경될 수 있으니 미리 확인하세요.',\n",
              "  '모스크 방문 시에는 단정한 복장을 착용하세요. 여성은 머리카락을 가리는 스카프를 준비하는 것이 좋습니다.',\n",
              "  '사진 촬영이 금지된 장소가 있을 수 있으니, 안내 표지판을 확인하세요.',\n",
              "  '팁 문화가 있습니다. 식당이나 호텔에서 서비스를 받았을 경우 팁을 주는 것이 일반적입니다.',\n",
              "  '아랍어 몇 마디를 알아두면 도움이 됩니다. (예: 안녕하세요 - As-salamu alaykum, 감사합니다 - Shukran)',\n",
              "  '여행자 보험에 가입하는 것을 잊지 마세요.']}"
            ]
          },
          "execution_count": 34,
          "metadata": {},
          "output_type": "execute_result"
        }
      ],
      "source": [
        "travel_chain2.invoke({'destination':'카이로', 'format_instructions':parser.get_format_instructions()})"
      ]
    },
    {
      "cell_type": "markdown",
      "id": "N0jZSyIrl08N",
      "metadata": {
        "id": "N0jZSyIrl08N"
      },
      "source": [
        "partial을 통해 먼저 일부를 입력할 수도 있습니다."
      ]
    },
    {
      "cell_type": "code",
      "execution_count": 35,
      "id": "NlSlQTWPl3Vd",
      "metadata": {
        "id": "NlSlQTWPl3Vd"
      },
      "outputs": [
        {
          "data": {
            "text/plain": [
              "{'destination': '제주도',\n",
              " 'best_season': '봄 (4월-5월) 또는 가을 (9월-10월)',\n",
              " 'duration': '3박 4일',\n",
              " 'must_visit': ['성산일출봉',\n",
              "  '만장굴',\n",
              "  '섭지코지',\n",
              "  '한라산 국립공원 (영실기암)',\n",
              "  '천지연폭포',\n",
              "  '올레길 (7코스 또는 10코스)',\n",
              "  '함덕해수욕장',\n",
              "  '우도'],\n",
              " 'estimated_cost': '50만원 - 80만원 (1인 기준, 항공 및 숙박 포함)',\n",
              " 'items_to_pack': ['편안한 신발 (올레길 트레킹)',\n",
              "  '선크림, 선글라스, 모자',\n",
              "  '카메라',\n",
              "  '보조 배터리',\n",
              "  '우산 또는 우비 (변덕스러운 날씨 대비)',\n",
              "  '상비약',\n",
              "  '개인 세면도구',\n",
              "  '얇은 겉옷 (저녁에는 쌀쌀할 수 있음)',\n",
              "  '수영복 (여름철 해수욕)',\n",
              "  '충전 어댑터'],\n",
              " 'local_foods': ['흑돼지 구이',\n",
              "  '고기국수',\n",
              "  '갈치조림',\n",
              "  '해물뚝배기',\n",
              "  '성게미역국',\n",
              "  '전복죽',\n",
              "  '오메기떡',\n",
              "  '한라봉 주스/아이스크림'],\n",
              " 'tips': ['렌터카 예약은 필수 (대중교통 이용이 불편)',\n",
              "  '숙소는 서귀포, 제주시, 성산 지역으로 나누어 고려',\n",
              "  '여행자 보험 가입 권장',\n",
              "  '제주도 날씨는 변화무쌍하므로 날씨 예보를 자주 확인',\n",
              "  '올레길 코스는 난이도가 다양하므로 체력에 맞춰 선택',\n",
              "  '맛집은 웨이팅이 길 수 있으므로 예약 또는 오픈 시간에 맞춰 방문',\n",
              "  '우도는 배편 시간을 미리 확인하고 예약하는 것이 좋음',\n",
              "  '쓰레기 분리수거 철저히 하기',\n",
              "  '대중교통 이용 시, 교통카드를 미리 준비']}"
            ]
          },
          "execution_count": 35,
          "metadata": {},
          "output_type": "execute_result"
        }
      ],
      "source": [
        "travel_chain2 = travel_template.partial(format_instructions=parser.get_format_instructions()) | llm | parser\n",
        "\n",
        "travel_chain2.invoke('제주도')"
      ]
    },
    {
      "cell_type": "markdown",
      "id": "z94ZBAdPwphP",
      "metadata": {
        "id": "z94ZBAdPwphP"
      },
      "source": [
        "# Structured Output\n",
        "LangChain의 Structured_Output 기능을 사용할 수도 있습니다."
      ]
    },
    {
      "cell_type": "code",
      "execution_count": 36,
      "id": "SGvRJVPlws__",
      "metadata": {
        "id": "SGvRJVPlws__"
      },
      "outputs": [
        {
          "data": {
            "text/plain": [
              "TravelPlan(destination='전주', best_season='영화제 기간', duration='당일', must_visit=['영화의 거리', '전주국제영화제 상영관'], estimated_cost='5만원', items_to_pack=['영화 티켓', '간단한 간식', '편한 신발'], local_foods=['비빔밥', '콩나물국밥'], tips=['영화 시간표 미리 확인', '혼영하기 좋은 상영관 위치 파악'])"
            ]
          },
          "execution_count": 36,
          "metadata": {},
          "output_type": "execute_result"
        }
      ],
      "source": [
        "structured_llm = llm.with_structured_output(TravelPlan)\n",
        "response = structured_llm.invoke(\"당일치기 전주국제영화제 혼영 플랜 만들어줘.\")\n",
        "response"
      ]
    },
    {
      "cell_type": "code",
      "execution_count": 37,
      "id": "AqDCAsofkakR",
      "metadata": {
        "id": "AqDCAsofkakR"
      },
      "outputs": [
        {
          "data": {
            "text/plain": [
              "TravelPlan(destination='부산', best_season='봄 (4월-5월) 또는 가을 (9월-10월)', duration='3일-4일', must_visit=['해운대 해수욕장', '감천문화마을', '태종대', 'BIFF 광장', '국제시장', '광안리 해수욕장', '용궁사', '달맞이길'], estimated_cost='30만원 - 50만원 (1인 기준)', items_to_pack=['편안한 신발', '선크림', '모자 또는 선글라스', '카메라', '보조 배터리', '상비약', '가벼운 겉옷 (간절기)', '우산 또는 우비 (여름철)', '개인 위생 용품'], local_foods=['돼지국밥', '밀면', '씨앗호떡', '부산 어묵', '동래파전', '꼼장어', '회', '낙곱새'], tips=['대중교통 이용이 편리합니다. (지하철, 버스)', '부산 지하철 1일권을 구매하면 저렴하게 이용할 수 있습니다.', '해운대, 광안리 주변 숙소는 미리 예약하는 것이 좋습니다.', '감천문화마을은 언덕이 많으니 편한 신발을 착용하세요.', '국제시장, BIFF 광장은 현금 위주로 준비하는 것이 좋습니다.', '여름에는 해수욕장 개장 시기를 확인하세요.', '부산은 해산물이 유명하니 꼭 맛보세요.', '관광 안내소에서 지도와 정보를 얻을 수 있습니다.'])"
            ]
          },
          "execution_count": 37,
          "metadata": {},
          "output_type": "execute_result"
        }
      ],
      "source": [
        "# 허깅페이스 오픈 모델의 경우, Structured_Output 기능이 지원되지 않는 경우가 많습니다.\n",
        "\n",
        "from langchain_core.output_parsers import PydanticOutputParser\n",
        "\n",
        "parser = PydanticOutputParser(pydantic_object = TravelPlan)\n",
        "\n",
        "travel_template = ChatPromptTemplate([\n",
        "    ('system', '당신은 전문적인 여행 플래너입니다.'),\n",
        "    ('user', '''다음 여행지에 대한 여행 계획을 만들어주세요: {destination}\n",
        "    상세한 정보를 JSON 형식으로 제공해주세요.\n",
        "    {format_instructions}\n",
        "    ''')\n",
        "])\n",
        "\n",
        "structured_llm2 = travel_template.partial(format_instructions = parser.get_format_instructions()) | llm | parser\n",
        "\n",
        "response = structured_llm2.invoke('부산')\n",
        "response"
      ]
    },
    {
      "cell_type": "markdown",
      "id": "b8f71872",
      "metadata": {
        "id": "b8f71872"
      },
      "source": [
        "프롬프트를 잘 구성하거나, Schema를 사용한다면 답글의 형식을 통일할 수 있습니다."
      ]
    },
    {
      "cell_type": "markdown",
      "id": "W8fyKsLXebWS",
      "metadata": {
        "id": "W8fyKsLXebWS"
      },
      "source": [
        "<br><br>\n",
        "## Runnables\n",
        "\n",
        "Runnables는 LCEL의 기본 단위로, 입력을 받아 출력을 생성하는 기본 단위입니다.    \n",
        "llm, prompt, chain 등이 모두 Runnable 구조에 해당합니다.\n",
        "\n",
        "이번에는, 데이터 흐름을 제어하는 특별한 Runnable인   \n",
        "RunnablePassthrough와 RunnableParallel을 이용해 체인을 구성해 보겠습니다.\n"
      ]
    },
    {
      "cell_type": "markdown",
      "id": "0PgbPFMJevgi",
      "metadata": {
        "id": "0PgbPFMJevgi"
      },
      "source": [
        "<br><br>\n",
        "### RunnablePassthrough\n",
        "RunnablePassthrough는 체인의 직전 출력을 그대로 가져옵니다."
      ]
    },
    {
      "cell_type": "code",
      "execution_count": 43,
      "id": "qZVecD8veakX",
      "metadata": {
        "id": "qZVecD8veakX"
      },
      "outputs": [
        {
          "data": {
            "text/plain": [
              "{'answer': '브래드 피트는 수많은 흥행작과 비평적으로 성공한 영화에 출연하여 그의 대표작을 꼽는 것은 매우 어렵습니다. 하지만, 일반적으로 다음과 같은 작품들이 그의 대표작으로 여겨집니다.\\n\\n**연기력으로 인정받은 작품:**\\n\\n*   **《세븐》 (1995):** 데이비드 핀처 감독의 스릴러 영화로, 브래드 피트는 젊고 이상주의적인 형사 밀스 역을 맡아 강렬한 연기를 선보였습니다.\\n*   **《12 몽키즈》 (1995):** 테리 길리엄 감독의 SF 영화로, 브래드 피트는 정신병 환자 제프리 역을 맡아 골든 글로브 남우조연상을 수상하며 연기력을 인정받았습니다.\\n*   **《파이트 클럽》 (1999):** 데이비드 핀처 감독의 컬트 영화로, 브래드 피트는 반항적이고 카리스마 넘치는 타일러 더든 역을 맡아 강렬한 인상을 남겼습니다.\\n*   **《머니볼》 (2011):** 실화를 바탕으로 한 스포츠 드라마로, 브래드 피트는 오클랜드 애슬레틱스의 단장 빌리 빈 역을 맡아 뛰어난 연기를 선보였으며, 아카데미 남우주연상 후보에 올랐습니다.\\n*   **《바스터즈: 거친 녀석들》 (2009):** 쿠엔틴 타란티노 감독의 전쟁 영화로, 브래드 피트는 알도 레인 중위 역을 맡아 특유의 카리스마를 선보였습니다.\\n*   **《원스 어폰 어 타임... 인 할리우드》 (2019):** 쿠엔틴 타란티노 감독의 영화로, 브래드 피트는 스턴트맨 클리프 부스 역을 맡아 아카데미 남우조연상을 수상했습니다.\\n\\n**흥행에 성공한 작품:**\\n\\n*   **《미스터 & 미세스 스미스》 (2005):** 더그 라이먼 감독의 액션 코미디 영화로, 안젤리나 졸리와 함께 출연하여 큰 인기를 끌었습니다.\\n*   **《트로이》 (2004):** 볼프강 페터젠 감독의 서사 영화로, 브래드 피트는 아킬레스 역을 맡아 액션 연기를 선보였습니다.\\n*   **《월드워Z》 (2013):** 마크 포스터 감독의 재난 영화로, 브래드 피트는 UN 조사관 제리 레인 역을 맡아 전 세계적인 흥행을 기록했습니다.\\n\\n**기타 주목할 만한 작품:**\\n\\n*   **《델마와 루이스》 (1991):** 브래드 피트의 초기 작품으로, 짧은 출연이었지만 강렬한 인상을 남겼습니다.\\n*   **《흐르는 강물처럼》 (1992):** 로버트 레드포드 감독의 영화로, 브래드 피트는 아름다운 영상미와 함께 섬세한 연기를 선보였습니다.\\n*   **《벤자민 버튼의 시간은 거꾸로 간다》 (2008):** 데이비드 핀처 감독의 영화로, 브래드 피트는 늙은 모습으로 태어나 점점 젊어지는 벤자민 버튼 역을 맡아 특수 분장과 함께 인상적인 연기를 선보였습니다.\\n\\n위에 언급된 작품 외에도 브래드 피트는 다양한 장르의 영화에서 뛰어난 연기를 보여주었으며, 앞으로도 그의 활약을 기대해 봅니다.'}"
            ]
          },
          "execution_count": 43,
          "metadata": {},
          "output_type": "execute_result"
        }
      ],
      "source": [
        "from langchain_core.runnables import RunnablePassthrough\n",
        "\n",
        "prompt1 = ChatPromptTemplate([\"{actor}의 대표 작품은 무엇입니까?\"])\n",
        "chain1 = (\n",
        "    prompt1\n",
        "    | llm\n",
        "    | StrOutputParser()\n",
        "    | {'answer': RunnablePassthrough()})\n",
        "\n",
        "response = chain1.invoke(\"브래드 피트\")\n",
        "response"
      ]
    },
    {
      "cell_type": "markdown",
      "id": "vi5eb2d3e0MA",
      "metadata": {
        "id": "vi5eb2d3e0MA"
      },
      "source": [
        "<br><br>\n",
        "### RunnableParallel\n",
        "\n",
        "RunnableParallel은 서로 다른 체인을 병렬적으로 실행합니다."
      ]
    },
    {
      "cell_type": "code",
      "execution_count": 44,
      "id": "I7j1SNCSeyNr",
      "metadata": {
        "id": "I7j1SNCSeyNr"
      },
      "outputs": [
        {
          "data": {
            "text/plain": [
              "{'color': '검은색', 'food': '김치찌개'}"
            ]
          },
          "execution_count": 44,
          "metadata": {},
          "output_type": "execute_result"
        }
      ],
      "source": [
        "from langchain_core.runnables import RunnableParallel\n",
        "\n",
        "prompt1 = ChatPromptTemplate([\"임의의 색깔을 하나 출력하세요. 색깔만 출력하세요.\"])\n",
        "prompt2 = ChatPromptTemplate([\"임의의 음식을 하나 출력하세요, 음식만 출력하세요.\"])\n",
        "\n",
        "chain1 = prompt1 | llm | StrOutputParser()\n",
        "chain2 = prompt2 | llm | StrOutputParser()\n",
        "\n",
        "chain3 = RunnableParallel(color = chain1, food = chain2)\n",
        "\n",
        "chain3.invoke({})\n"
      ]
    },
    {
      "cell_type": "code",
      "execution_count": null,
      "id": "Og79uQHue109",
      "metadata": {
        "id": "Og79uQHue109"
      },
      "outputs": [],
      "source": []
    },
    {
      "cell_type": "markdown",
      "id": "VuVwUL6ke4Kd",
      "metadata": {
        "id": "VuVwUL6ke4Kd"
      },
      "source": [
        "<br><br><br>이번에는 LLM의 결과를 다음 LLM으로 연결해 보겠습니다."
      ]
    },
    {
      "cell_type": "code",
      "execution_count": 45,
      "id": "xxthmwJ3e5eb",
      "metadata": {
        "id": "xxthmwJ3e5eb"
      },
      "outputs": [
        {
          "data": {
            "text/plain": [
              "'* 앤드루 잭슨\\n* 미일리 사이러스\\n* 케샤'"
            ]
          },
          "execution_count": 45,
          "metadata": {},
          "output_type": "execute_result"
        }
      ],
      "source": [
        "prompt1 = ChatPromptTemplate([\"내쉬빌은 어느 나라의 도시입니까?\"])\n",
        "prompt2 = ChatPromptTemplate(\n",
        "    [\"{country}의 대표적인 인물 3명을 나열하세요. 인물의 이름만 출력하세요.\"]\n",
        ")\n",
        "\n",
        "chain1 = prompt1 | llm | StrOutputParser()\n",
        "chain2 =(\n",
        "    {\"country\": chain1} | prompt2 | llm | StrOutputParser()\n",
        ")\n",
        "chain2.invoke({})"
      ]
    },
    {
      "cell_type": "markdown",
      "id": "CdgW2ccrfBtn",
      "metadata": {
        "id": "CdgW2ccrfBtn"
      },
      "source": [
        "RunnableParallel.assign을 통해, 중간 체인인 chain1의 결과와 chain2의 결과를 함께 얻을 수 있습니다.   "
      ]
    },
    {
      "cell_type": "code",
      "execution_count": 46,
      "id": "m0i1R3GpfDM5",
      "metadata": {
        "id": "m0i1R3GpfDM5"
      },
      "outputs": [
        {
          "data": {
            "text/plain": [
              "{'country': '내슈빌은 미국에 있는 도시입니다. 구체적으로 말하면 테네시주에 있습니다.',\n",
              " 'people': '* 앤드루 잭슨\\n* 앤 워커\\n* 미일리 사이러스'}"
            ]
          },
          "execution_count": 46,
          "metadata": {},
          "output_type": "execute_result"
        }
      ],
      "source": [
        "prompt1 = ChatPromptTemplate([\"내쉬빌은 어느 나라의 도시입니까?\"])\n",
        "prompt2 = ChatPromptTemplate(\n",
        "    [\"{country}의 대표적인 인물 3명을 나열하세요. 인물의 이름만 출력하세요.\"]\n",
        ")\n",
        "\n",
        "\n",
        "chain1 = prompt1 | llm | StrOutputParser()\n",
        "chain2 = prompt2 | llm | StrOutputParser()\n",
        "\n",
        "chain3 = RunnableParallel(country = chain1).assign(people = chain2)\n",
        "\n",
        "chain3.invoke({})"
      ]
    },
    {
      "cell_type": "markdown",
      "id": "p-7loBF5fLzB",
      "metadata": {
        "id": "p-7loBF5fLzB"
      },
      "source": [
        "chain2에서 새로운 매개변수가 추가되는 경우는 어떻게 해야 할까요?\n",
        "\n",
        "Lambda 함수를 통해, 입력 dict로부터 값을 선택합니다."
      ]
    },
    {
      "cell_type": "code",
      "execution_count": 47,
      "id": "9mSFt-ZqfPWh",
      "metadata": {
        "id": "9mSFt-ZqfPWh"
      },
      "outputs": [
        {
          "name": "stdout",
          "output_type": "stream",
          "text": [
            "조지 워싱턴, 에이브러햄 링컨, 마틴 루터 킹 주니어\n"
          ]
        }
      ],
      "source": [
        "prompt1 = ChatPromptTemplate([\"{city}는 어느 나라의 도시인가요? 나라 이름만 출력하세요.\"])\n",
        "prompt2 = ChatPromptTemplate([\"{country}의 유명한 인물은 누가 있나요? {num} 명의 이름을 나열하세요. 사람 이름만 ,로 구분하여 나열하세요.\"])\n",
        "\n",
        "chain1 = prompt1 | llm | StrOutputParser()\n",
        "\n",
        "chain2 = (\n",
        "    RunnableParallel(country = chain1, num = lambda x:x['num'])\n",
        "    # lambda x:f(x) --> x가 주어지면 f(x)를 return\n",
        "    | prompt2\n",
        "    | llm\n",
        "    | StrOutputParser()\n",
        ")\n",
        "\n",
        "print(chain2.invoke({\"city\": \"내쉬빌\", \"num\": \"3\"}))"
      ]
    },
    {
      "cell_type": "markdown",
      "id": "LugI0dFrfbzn",
      "metadata": {
        "id": "LugI0dFrfbzn"
      },
      "source": [
        "<br><br>\n",
        "체인을 분리하고 RunnableParallel을 이용하면 중간 과정을 모두 출력할 수 있습니다."
      ]
    },
    {
      "cell_type": "code",
      "execution_count": 48,
      "id": "a2bv38f1fcFN",
      "metadata": {
        "id": "a2bv38f1fcFN"
      },
      "outputs": [
        {
          "data": {
            "text/plain": [
              "{'country': '아르헨티나', 'num': '3', 'res': '리오넬 메시, 에바 페론, 프란치스코 교황'}"
            ]
          },
          "execution_count": 48,
          "metadata": {},
          "output_type": "execute_result"
        }
      ],
      "source": [
        "chain4 = (prompt2\n",
        "    | llm\n",
        "    | StrOutputParser())\n",
        "\n",
        "chain3 = RunnableParallel(country = chain1, num = lambda x:x['num']).assign(res = chain4)\n",
        "\n",
        "chain3.invoke({\"city\": \"부에노스 아이레스\", \"num\": \"3\"})"
      ]
    },
    {
      "cell_type": "markdown",
      "id": "SAEA6qeAfft6",
      "metadata": {
        "id": "SAEA6qeAfft6"
      },
      "source": [
        "JsonOutputParser를 쓴다면 아래와 같이 만들 수도 있습니다."
      ]
    },
    {
      "cell_type": "code",
      "execution_count": null,
      "id": "xO_-zGuHfhEn",
      "metadata": {
        "id": "xO_-zGuHfhEn"
      },
      "outputs": [
        {
          "name": "stdout",
          "output_type": "stream",
          "text": [
            "다음은 냉장고와 기타의 공통점에 대한 10문장 길이의 글입니다.\n",
            "\n",
            "냉장고와 기타는 일견 매우 다른 가전제품과 악기처럼 보일 수 있지만, 자세히 살펴보면 놀라운 공통점이 있습니다. 우선 둘 다 집에서 흔히 볼 수 있는 물건으로, 각자의 목적을 위해 사용됩니다. 냉장고는 음식을 신선하게 보관하는 데 사용되는 반면, 기타는 음악을 만드는 데 사용됩니다. 둘 다 다양한 모양, 크기 및 색상으로 제공되므로 사용자는 자신의 취향에 맞는 것을 선택할 수 있습니다.\n",
            "\n",
            "기능적인 측면에서 냉장고와 기타는 모두 특정 목적을 달성하기 위해 제어해야 하는 일종의 에너지 형태에 의존합니다. 냉장고는 전기 에너지를 사용하여 내부를 시원하게 유지하는 반면, 기타는 사람이 튕기거나 뜯거나 두드리는 운동 에너지를 사용하여 음향 진동을 생성합니다. 또한 둘 다 조정이 필요합니다. 냉장고는 최적의 온도를 유지하기 위해 조정해야 할 수 있고, 기타는 정확한 음을 내기 위해 조정해야 합니다.\n",
            "\n",
            "또한 냉장고와 기타는 모두 시간이 지남에 따라 유지 관리 및 관리가 필요합니다. 냉장고는 깨끗하게 유지하고 정기적으로 제상해야 하는 반면, 기타는 청소하고 줄을 교체해야 할 수 있습니다. 마지막으로 냉장고와 기타 모두 사람들의 삶에 기쁨과 편안함을 가져다줄 수 있습니다. 냉장고는 음식을 신선하게 보관하여 식사를 쉽게 준비할 수 있도록 해주는 반면, 기타는 음악을 만들고 연주하여 사람들에게 기쁨과 휴식을 제공할 수 있습니다.\n"
          ]
        }
      ],
      "source": [
        "from langchain_core.output_parsers import JsonOutputParser\n",
        "\n",
        "prompt1 = ChatPromptTemplate(\n",
        "    [\"전혀 관련이 없는 임의의 단어 두 개를 출력하세요. 출력은 json 형식으로 하세요. 각 항목은 word1, word2로 표시하세요.\"])\n",
        "prompt2 = ChatPromptTemplate([\"{word1}와 {word2}의 공통점에 대한 10문장 길이의 글을 작성하세요.\"])\n",
        "\n",
        "chain1 = prompt1 | llm | JsonOutputParser()\n",
        "chain2 =(\n",
        "     chain1 | prompt2 | llm | StrOutputParser()\n",
        ")\n",
        "print(chain2.invoke({}))"
      ]
    },
    {
      "cell_type": "code",
      "execution_count": 51,
      "id": "02a3003a",
      "metadata": {},
      "outputs": [
        {
          "data": {
            "text/plain": [
              "{'word1': '냉장고',\n",
              " 'word2': '기타',\n",
              " 'article': '물론입니다. 냉장고와 기타의 공통점에 대한 10문장 길이의 글을 작성했습니다.\\n\\n냉장고와 기타는 겉으로는 전혀 관련이 없어 보이지만, 자세히 살펴보면 몇 가지 흥미로운 공통점이 있습니다. 우선 둘 다 인간의 창의력과 혁신이 낳은 발명품입니다. 냉장고는 음식을 보존하고 신선하게 유지하기 위해 설계되었고, 기타는 음악을 만들고 즐거움을 선사하기 위해 만들어졌습니다. 둘 다 기술을 사용하여 특정 목적을 달성합니다. 냉장고는 온도 조절을 위해 냉각 기술을 사용하고, 기타는 현의 진동을 통해 소리를 증폭합니다.\\n\\n또한 냉장고와 기타는 모두 다양한 형태와 크기로 제공되어 다양한 요구와 선호도에 부응합니다. 작은 탁상용 냉장고부터 대형 산업용 냉장고까지 있으며, 어쿠스틱 기타부터 일렉트릭 기타까지 다양한 기타가 있습니다. 또한 냉장고와 기타는 모두 유지보수가 필요하지만, 냉장고는 정기적으로 청소해야 하고 기타는 정기적으로 조율해야 합니다. 마지막으로 냉장고와 기타는 모두 사람들의 삶에 가치를 더합니다. 냉장고는 음식물을 신선하게 유지하고 부패를 방지함으로써 편의성을 제공하고, 기타는 음악, 창의성, 자기 표현을 제공합니다.'}"
            ]
          },
          "execution_count": 51,
          "metadata": {},
          "output_type": "execute_result"
        }
      ],
      "source": [
        "chain3 = prompt2 | llm | StrOutputParser()\n",
        "\n",
        "chain4 = chain1.assign(article=chain3)\n",
        "\n",
        "chain4.invoke({})"
      ]
    }
  ],
  "metadata": {
    "colab": {
      "provenance": []
    },
    "kernelspec": {
      "display_name": ".venv",
      "language": "python",
      "name": "python3"
    },
    "language_info": {
      "codemirror_mode": {
        "name": "ipython",
        "version": 3
      },
      "file_extension": ".py",
      "mimetype": "text/x-python",
      "name": "python",
      "nbconvert_exporter": "python",
      "pygments_lexer": "ipython3",
      "version": "3.12.11"
    }
  },
  "nbformat": 4,
  "nbformat_minor": 5
}
