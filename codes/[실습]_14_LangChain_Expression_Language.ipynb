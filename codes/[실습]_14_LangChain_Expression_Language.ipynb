{
  "cells": [
    {
      "cell_type": "markdown",
      "id": "a435919b",
      "metadata": {
        "id": "a435919b"
      },
      "source": [
        "# [실습] LangChain Expression Language\n",
        "\n",
        "\n",
        "LangChain Expression Language(LCEL)는 랭체인에서 체인을 간결하게 구성하는 문법입니다.   \n",
        "먼저, LCEL에서 체인이 구성되는 기본적인 구조에 대해 알아봅시다.\n"
      ]
    },
    {
      "cell_type": "code",
      "execution_count": null,
      "id": "bf68e6c0",
      "metadata": {
        "id": "bf68e6c0",
        "scrolled": true
      },
      "outputs": [],
      "source": [
        "!pip install langchain langchain_google_genai"
      ]
    },
    {
      "cell_type": "markdown",
      "id": "A59cI3UHz9l2",
      "metadata": {
        "id": "A59cI3UHz9l2"
      },
      "source": [
        "## Gemini API 준비하기\n",
        "\n",
        "\n",
        "Google API 키를 등록하고 입력합니다.   \n",
        "구글 계정 로그인 후 https://aistudio.google.com  에 접속하면, API 키 생성이 가능합니다."
      ]
    },
    {
      "cell_type": "code",
      "execution_count": null,
      "id": "13da3542",
      "metadata": {
        "id": "13da3542"
      },
      "outputs": [],
      "source": [
        "import os\n",
        "# Google API KEY 설정\n",
        "os.environ['GOOGLE_API_KEY']=\"AIxxx\""
      ]
    },
    {
      "cell_type": "markdown",
      "id": "b3b4252b",
      "metadata": {
        "id": "b3b4252b"
      },
      "source": [
        "\n",
        "LCEL의 가장 큰 특징은, Chain의 구성 요소를 **|**  (파이프)로 연결하여 한 번에 실행한다는 점입니다. 예시를 보겠습니다."
      ]
    },
    {
      "cell_type": "code",
      "execution_count": null,
      "id": "d503ec22",
      "metadata": {
        "id": "d503ec22"
      },
      "outputs": [],
      "source": [
        "from langchain_google_genai import ChatGoogleGenerativeAI\n",
        "from langchain_core.prompts import ChatPromptTemplate\n",
        "\n",
        "# topic에 대한 영어 농담을 하고, 이것이 왜 농담인지 한국어로 설명하세요.\n",
        "fun_chat_template = ChatPromptTemplate([\n",
        "    ('user',\"\"\"\n",
        "Tell me an English joke about {topic} that uses a pun.\n",
        "\n",
        "Then, provide the following in Korean:\n",
        "1.  An explanation focusing on the pun, detailing why it is funny to English speakers.\n",
        "2.  A Korean translation of the joke. Please make your best effort to provide an excellent translation\n",
        "that captures the spirit and wordplay of the original English pun, even if a direct equivalent is difficult to find.\"\"\")])\n",
        "\n",
        "llm = ChatGoogleGenerativeAI(model='gemini-2.0-flash',\n",
        "                           temperature=0.5,\n",
        "                           max_tokens=2048)"
      ]
    },
    {
      "cell_type": "markdown",
      "id": "8def25a8",
      "metadata": {
        "id": "8def25a8"
      },
      "source": [
        "-----------\n",
        "LCEL의 구조에서는 템플릿과 llm 모델을 설정하고, 이를 하나로 묶어 체인을 생성합니다."
      ]
    },
    {
      "cell_type": "code",
      "execution_count": null,
      "id": "f79c3c49",
      "metadata": {
        "id": "f79c3c49"
      },
      "outputs": [],
      "source": [
        "joke = fun_chat_template | llm\n",
        "joke"
      ]
    },
    {
      "cell_type": "markdown",
      "id": "69b435fd",
      "metadata": {
        "id": "69b435fd"
      },
      "source": [
        "이후, 체인의 invoke를 실행하며 입력 포맷을 전달하면, 순서대로 체인이 실행되며 최종 결과로 연결됩니다.    \n",
        "입력 포맷은 Dict 형식으로 전달합니다."
      ]
    },
    {
      "cell_type": "code",
      "execution_count": null,
      "id": "a0e1a8fa",
      "metadata": {
        "id": "a0e1a8fa"
      },
      "outputs": [],
      "source": [
        "response = joke.invoke({'topic':'eggs'})\n",
        "\n",
        "response"
      ]
    },
    {
      "cell_type": "code",
      "execution_count": null,
      "id": "8005f683",
      "metadata": {
        "id": "8005f683"
      },
      "outputs": [],
      "source": [
        "print(response.content)"
      ]
    },
    {
      "cell_type": "markdown",
      "id": "EdQZoCqula-M",
      "metadata": {
        "id": "EdQZoCqula-M"
      },
      "source": [
        "batch()를 실행하면, 여러 개의 데이터를 병렬적으로 전달합니다."
      ]
    },
    {
      "cell_type": "code",
      "execution_count": null,
      "id": "0l3VP3gklah9",
      "metadata": {
        "id": "0l3VP3gklah9"
      },
      "outputs": [],
      "source": [
        "topic_list = ['cucumber', 'mango', 'peanut']\n",
        "response = joke.batch(topic_list)\n",
        "response"
      ]
    },
    {
      "cell_type": "markdown",
      "id": "996f34e5",
      "metadata": {
        "id": "996f34e5"
      },
      "source": [
        "## 실습) 매개변수가 2개인 Prompt-LLM Chain 생성하기   \n",
        "임의의 ChatPromptTemplate를 만들고, 2개의 매개변수를 받도록 구성하여 체인을 만들고 실행하세요."
      ]
    },
    {
      "cell_type": "code",
      "execution_count": null,
      "id": "LC7f4K056TWg",
      "metadata": {
        "id": "LC7f4K056TWg"
      },
      "outputs": [],
      "source": [
        "prompt = ChatPromptTemplate(\n",
        "    [\n",
        "        ('system','당신은 매우 창의적이며 재미있는 이야기꾼입니다.'),\n",
        "        ('user','{A}와 {B}가 만났을 때의 가상 대화를 써 주세요.')\n",
        "    ]\n",
        ")"
      ]
    },
    {
      "cell_type": "code",
      "execution_count": null,
      "id": "69894a7b",
      "metadata": {
        "id": "69894a7b"
      },
      "outputs": [],
      "source": [
        "chain = prompt | llm"
      ]
    },
    {
      "cell_type": "code",
      "execution_count": null,
      "id": "ecf3226d",
      "metadata": {
        "id": "ecf3226d"
      },
      "outputs": [],
      "source": [
        "response = chain.invoke({'A':'햄릿 왕자', 'B':'슈퍼 마리오'})\n",
        "print(response.content)"
      ]
    },
    {
      "cell_type": "markdown",
      "id": "7viSO-5e_Zzg",
      "metadata": {
        "id": "7viSO-5e_Zzg"
      },
      "source": [
        "<br><br><br><br><br><br><br><br><br><br><br><br>"
      ]
    },
    {
      "cell_type": "code",
      "execution_count": null,
      "id": "C2nlXU-d_dXE",
      "metadata": {
        "id": "C2nlXU-d_dXE"
      },
      "outputs": [],
      "source": [
        "prompt = ChatPromptTemplate(\n",
        "    [\n",
        "        ('system', '당신은 재미있고 교훈적인 이야기를 씁니다.'),\n",
        "        ('user', '{A}와 {B}가 만났을 때의 대화를 써 주세요.')\n",
        "    ])\n",
        "chain = prompt | llm\n",
        "response = chain.invoke({'A':'햄릿', 'B':'호머 심슨'})\n",
        "print(response.content)"
      ]
    },
    {
      "cell_type": "markdown",
      "id": "pizQhT08JC7E",
      "metadata": {
        "id": "pizQhT08JC7E"
      },
      "source": [
        "<br><br>\n",
        "## Chain에 파서 추가하기"
      ]
    },
    {
      "cell_type": "markdown",
      "id": "a939c4b3",
      "metadata": {
        "id": "a939c4b3"
      },
      "source": [
        "\n",
        "LCEL의 체인에는 **파서(Parser)** 를 추가할 수 있습니다.    \n",
        "파서는 출력 형식을 변환합니다."
      ]
    },
    {
      "cell_type": "markdown",
      "id": "ab182142",
      "metadata": {
        "id": "ab182142"
      },
      "source": [
        "StrOutputParser : 출력 결과를 String 형식으로 변환합니다."
      ]
    },
    {
      "cell_type": "code",
      "execution_count": null,
      "id": "e9ced988",
      "metadata": {
        "id": "e9ced988"
      },
      "outputs": [],
      "source": [
        "from langchain_core.output_parsers import StrOutputParser\n",
        "\n",
        "travel_template = ChatPromptTemplate([\n",
        "    ('system', '당신은 전문적인 여행 플래너입니다.'),\n",
        "    ('user', '''다음 여행지에 대한 2박 3일의 여행 계획을 만들어주세요: {destination}''')\n",
        "])"
      ]
    },
    {
      "cell_type": "code",
      "execution_count": null,
      "id": "5c6ed960",
      "metadata": {
        "id": "5c6ed960"
      },
      "outputs": [],
      "source": [
        "travel_chain = travel_template | llm | StrOutputParser()\n",
        "response = travel_chain.invoke({'destination':'서울'})\n",
        "print(response)"
      ]
    },
    {
      "cell_type": "markdown",
      "id": "dea64911",
      "metadata": {
        "id": "dea64911"
      },
      "source": [
        "파서는 스트링이 아닌 json 형식으로도 만들 수 있습니다.   \n",
        "프롬프트에서 형식을 요청하고, 이를 파서와 결합하여 변환하는 방식입니다."
      ]
    },
    {
      "cell_type": "code",
      "execution_count": null,
      "id": "88ecbe6c",
      "metadata": {
        "id": "88ecbe6c"
      },
      "outputs": [],
      "source": [
        "from langchain_core.output_parsers import JsonOutputParser\n",
        "\n",
        "jsonparser = JsonOutputParser()"
      ]
    },
    {
      "cell_type": "code",
      "execution_count": null,
      "id": "833e804d",
      "metadata": {
        "id": "833e804d"
      },
      "outputs": [],
      "source": [
        "jsonparser.get_format_instructions()"
      ]
    },
    {
      "cell_type": "code",
      "execution_count": null,
      "id": "b19b4fad",
      "metadata": {
        "id": "b19b4fad"
      },
      "outputs": [],
      "source": [
        "travel_template = ChatPromptTemplate([\n",
        "    ('system', '당신은 전문적인 여행 플래너입니다.'),\n",
        "    ('user', '''다음 여행지에 대한 여행 계획을 만들어주세요: {destination}\n",
        "    상세한 정보를 JSON 형식으로 제공해주세요.''')\n",
        "])\n",
        "\n",
        "travel_chain = travel_template | llm | jsonparser"
      ]
    },
    {
      "cell_type": "code",
      "execution_count": null,
      "id": "b1ff815a",
      "metadata": {
        "id": "b1ff815a"
      },
      "outputs": [],
      "source": [
        "response = travel_chain.invoke({'destination':'베니스'})\n",
        "response"
      ]
    },
    {
      "cell_type": "markdown",
      "id": "176a7aa5",
      "metadata": {
        "id": "176a7aa5"
      },
      "source": [
        "Json으로 파싱하는 방법은 활용도가 높지만, 실행할 때마다 결과뿐만 아니라 형식도 달라진다는 문제가 있습니다."
      ]
    },
    {
      "cell_type": "code",
      "execution_count": null,
      "id": "85ce4142",
      "metadata": {
        "id": "85ce4142"
      },
      "outputs": [],
      "source": [
        "response = travel_chain.invoke({'destination':'아이슬란드'})\n",
        "response"
      ]
    },
    {
      "cell_type": "markdown",
      "id": "2f447984",
      "metadata": {
        "id": "2f447984"
      },
      "source": [
        "## Pydantic을 이용해 확실한 형식 지정하기"
      ]
    },
    {
      "cell_type": "markdown",
      "id": "442f4b64",
      "metadata": {
        "id": "442f4b64"
      },
      "source": [
        "pydantic은 데이터 형식에 제약조건을 두고 이를 준수하는지 검증하는 라이브러리입니다.\n"
      ]
    },
    {
      "cell_type": "code",
      "execution_count": null,
      "id": "0f68be94",
      "metadata": {
        "id": "0f68be94"
      },
      "outputs": [],
      "source": [
        "from pydantic import BaseModel, Field\n",
        "# pydantic 연동\n",
        "\n",
        "# Pydantic 모델 정의\n",
        "class TravelPlan(BaseModel):\n",
        "    destination: str = Field(description=\"여행지 이름\")\n",
        "    best_season: str = Field(description=\"최적의 방문 시기\")\n",
        "    duration: str = Field(description=\"추천 여행 기간\")\n",
        "    must_visit: list[str] = Field(description=\"필수 방문지 리스트\")\n",
        "    estimated_cost: str = Field(description=\"예상 비용 (1인 기준)\")\n",
        "    items_to_pack: list[str] = Field(description=\"준비물 리스트\")\n",
        "    local_foods: list[str] = Field(description=\"현지 음식 추천\")\n",
        "    tips: list[str] = Field(description=\"여행 팁과 주의사항\")\n"
      ]
    },
    {
      "cell_type": "code",
      "execution_count": null,
      "id": "22f285b4",
      "metadata": {
        "id": "22f285b4"
      },
      "outputs": [],
      "source": [
        "parser = JsonOutputParser(pydantic_object=TravelPlan)"
      ]
    },
    {
      "cell_type": "code",
      "execution_count": null,
      "id": "952c24cb",
      "metadata": {
        "id": "952c24cb"
      },
      "outputs": [],
      "source": [
        "print(parser.get_format_instructions())"
      ]
    },
    {
      "cell_type": "code",
      "execution_count": null,
      "id": "ec750811",
      "metadata": {
        "id": "ec750811"
      },
      "outputs": [],
      "source": [
        "travel_template = ChatPromptTemplate([\n",
        "    ('system', '당신은 전문적인 여행 플래너입니다.'),\n",
        "    ('user', '''다음 여행지에 대한 여행 계획을 만들어주세요: {destination}\n",
        "    상세한 정보를 JSON 형식으로 제공해주세요.\n",
        "    {format_instructions}\n",
        "    ''')\n",
        "])\n",
        "\n",
        "travel_chain2 = travel_template | llm | parser\n"
      ]
    },
    {
      "cell_type": "code",
      "execution_count": null,
      "id": "d1262301",
      "metadata": {
        "id": "d1262301"
      },
      "outputs": [],
      "source": [
        "travel_chain2.invoke({'destination':'카이로', 'format_instructions':parser.get_format_instructions()})"
      ]
    },
    {
      "cell_type": "markdown",
      "id": "N0jZSyIrl08N",
      "metadata": {
        "id": "N0jZSyIrl08N"
      },
      "source": [
        "partial을 통해 먼저 일부를 입력할 수도 있습니다."
      ]
    },
    {
      "cell_type": "code",
      "execution_count": null,
      "id": "NlSlQTWPl3Vd",
      "metadata": {
        "id": "NlSlQTWPl3Vd"
      },
      "outputs": [],
      "source": [
        "travel_chain2 = travel_template.partial(format_instructions=parser.get_format_instructions()) | llm | parser\n",
        "\n",
        "travel_chain2.invoke('제주도')"
      ]
    },
    {
      "cell_type": "markdown",
      "id": "z94ZBAdPwphP",
      "metadata": {
        "id": "z94ZBAdPwphP"
      },
      "source": [
        "# Structured Output\n",
        "LangChain의 Structured_Output 기능을 사용할 수도 있습니다."
      ]
    },
    {
      "cell_type": "code",
      "execution_count": null,
      "id": "SGvRJVPlws__",
      "metadata": {
        "id": "SGvRJVPlws__"
      },
      "outputs": [],
      "source": [
        "structured_llm = llm.with_structured_output(TravelPlan)\n",
        "response = structured_llm.invoke(\"당일치기 전주국제영화제 혼영 플랜 만들어줘.\")\n",
        "response"
      ]
    },
    {
      "cell_type": "code",
      "execution_count": null,
      "id": "AqDCAsofkakR",
      "metadata": {
        "id": "AqDCAsofkakR"
      },
      "outputs": [],
      "source": [
        "# 허깅페이스 오픈 모델의 경우, Structured_Output 기능이 지원되지 않는 경우가 많습니다.\n",
        "\n",
        "from langchain_core.output_parsers import PydanticOutputParser\n",
        "\n",
        "parser = PydanticOutputParser(pydantic_object = TravelPlan)\n",
        "\n",
        "travel_template = ChatPromptTemplate([\n",
        "    ('system', '당신은 전문적인 여행 플래너입니다.'),\n",
        "    ('user', '''다음 여행지에 대한 여행 계획을 만들어주세요: {destination}\n",
        "    상세한 정보를 JSON 형식으로 제공해주세요.\n",
        "    {format_instructions}\n",
        "    ''')\n",
        "])\n",
        "\n",
        "structured_llm2 = travel_template.partial(format_instructions = parser.get_format_instructions()) | llm | parser\n",
        "\n",
        "response = structured_llm2.invoke('부산')\n",
        "response"
      ]
    },
    {
      "cell_type": "markdown",
      "id": "b8f71872",
      "metadata": {
        "id": "b8f71872"
      },
      "source": [
        "프롬프트를 잘 구성하거나, Schema를 사용한다면 답글의 형식을 통일할 수 있습니다."
      ]
    },
    {
      "cell_type": "markdown",
      "id": "W8fyKsLXebWS",
      "metadata": {
        "id": "W8fyKsLXebWS"
      },
      "source": [
        "<br><br>\n",
        "## Runnables\n",
        "\n",
        "Runnables는 LCEL의 기본 단위로, 입력을 받아 출력을 생성하는 기본 단위입니다.    \n",
        "llm, prompt, chain 등이 모두 Runnable 구조에 해당합니다.\n",
        "\n",
        "이번에는, 데이터 흐름을 제어하는 특별한 Runnable인   \n",
        "RunnablePassthrough와 RunnableParallel을 이용해 체인을 구성해 보겠습니다.\n"
      ]
    },
    {
      "cell_type": "markdown",
      "id": "0PgbPFMJevgi",
      "metadata": {
        "id": "0PgbPFMJevgi"
      },
      "source": [
        "<br><br>\n",
        "### RunnablePassthrough\n",
        "RunnablePassthrough는 체인의 직전 출력을 그대로 가져옵니다."
      ]
    },
    {
      "cell_type": "code",
      "execution_count": null,
      "id": "qZVecD8veakX",
      "metadata": {
        "id": "qZVecD8veakX"
      },
      "outputs": [],
      "source": [
        "from langchain_core.runnables import RunnablePassthrough\n",
        "\n",
        "prompt1 = ChatPromptTemplate([\"{actor}의 대표 작품은 무엇입니까?\"])\n",
        "chain1 = (\n",
        "    prompt1\n",
        "    | llm\n",
        "    | StrOutputParser()\n",
        "    | {'answer': RunnablePassthrough()})\n",
        "\n",
        "response = chain1.invoke(\"브래드 피트\")\n",
        "response"
      ]
    },
    {
      "cell_type": "markdown",
      "id": "vi5eb2d3e0MA",
      "metadata": {
        "id": "vi5eb2d3e0MA"
      },
      "source": [
        "<br><br>\n",
        "### RunnableParallel\n",
        "\n",
        "RunnableParallel은 서로 다른 체인을 병렬적으로 실행합니다."
      ]
    },
    {
      "cell_type": "code",
      "execution_count": null,
      "id": "I7j1SNCSeyNr",
      "metadata": {
        "id": "I7j1SNCSeyNr"
      },
      "outputs": [],
      "source": [
        "from langchain_core.runnables import RunnableParallel\n",
        "\n",
        "prompt1 = ChatPromptTemplate([\"임의의 색깔을 하나 출력하세요. 색깔만 출력하세요.\"])\n",
        "prompt2 = ChatPromptTemplate([\"임의의 음식을 하나 출력하세요, 음식만 출력하세요.\"])\n",
        "\n",
        "chain1 = prompt1 | llm | StrOutputParser()\n",
        "chain2 = prompt2 | llm | StrOutputParser()\n",
        "\n",
        "chain3 = RunnableParallel(color = chain1, food = chain2)\n",
        "\n",
        "chain3.invoke({})\n"
      ]
    },
    {
      "cell_type": "code",
      "execution_count": null,
      "id": "Og79uQHue109",
      "metadata": {
        "id": "Og79uQHue109"
      },
      "outputs": [],
      "source": []
    },
    {
      "cell_type": "markdown",
      "id": "VuVwUL6ke4Kd",
      "metadata": {
        "id": "VuVwUL6ke4Kd"
      },
      "source": [
        "<br><br><br>이번에는 LLM의 결과를 다음 LLM으로 연결해 보겠습니다."
      ]
    },
    {
      "cell_type": "code",
      "execution_count": null,
      "id": "xxthmwJ3e5eb",
      "metadata": {
        "id": "xxthmwJ3e5eb"
      },
      "outputs": [],
      "source": [
        "prompt1 = ChatPromptTemplate([\"내쉬빌은 어느 나라의 도시입니까?\"])\n",
        "prompt2 = ChatPromptTemplate(\n",
        "    [\"{country}의 대표적인 인물 3명을 나열하세요. 인물의 이름만 출력하세요.\"]\n",
        ")\n",
        "\n",
        "chain1 = prompt1 | llm | StrOutputParser()\n",
        "chain2 =(\n",
        "    {\"country\": chain1} | prompt2 | llm | StrOutputParser()\n",
        ")\n",
        "chain2.invoke({})"
      ]
    },
    {
      "cell_type": "markdown",
      "id": "CdgW2ccrfBtn",
      "metadata": {
        "id": "CdgW2ccrfBtn"
      },
      "source": [
        "RunnableParallel.assign을 통해, 중간 체인인 chain1의 결과와 chain2의 결과를 함께 얻을 수 있습니다.   "
      ]
    },
    {
      "cell_type": "code",
      "execution_count": null,
      "id": "m0i1R3GpfDM5",
      "metadata": {
        "id": "m0i1R3GpfDM5"
      },
      "outputs": [],
      "source": [
        "prompt1 = ChatPromptTemplate([\"내쉬빌은 어느 나라의 도시입니까?\"])\n",
        "prompt2 = ChatPromptTemplate(\n",
        "    [\"{country}의 대표적인 인물 3명을 나열하세요. 인물의 이름만 출력하세요.\"]\n",
        ")\n",
        "\n",
        "\n",
        "chain1 = prompt1 | llm | StrOutputParser()\n",
        "chain2 = prompt2 | llm | StrOutputParser()\n",
        "\n",
        "chain3 = RunnableParallel(country = chain1).assign(people = chain2)\n",
        "\n",
        "chain3.invoke({})"
      ]
    },
    {
      "cell_type": "markdown",
      "id": "p-7loBF5fLzB",
      "metadata": {
        "id": "p-7loBF5fLzB"
      },
      "source": [
        "chain2에서 새로운 매개변수가 추가되는 경우는 어떻게 해야 할까요?\n",
        "\n",
        "Lambda 함수를 통해, 입력 dict로부터 값을 선택합니다."
      ]
    },
    {
      "cell_type": "code",
      "execution_count": null,
      "id": "9mSFt-ZqfPWh",
      "metadata": {
        "id": "9mSFt-ZqfPWh"
      },
      "outputs": [],
      "source": [
        "prompt1 = ChatPromptTemplate([\"{city}는 어느 나라의 도시인가요? 나라 이름만 출력하세요.\"])\n",
        "prompt2 = ChatPromptTemplate([\"{country}의 유명한 인물은 누가 있나요? {num} 명의 이름을 나열하세요. 사람 이름만 ,로 구분하여 나열하세요.\"])\n",
        "\n",
        "chain1 = prompt1 | llm | StrOutputParser()\n",
        "\n",
        "chain2 = (\n",
        "    RunnableParallel(country = chain1, num = lambda x:x['num'])\n",
        "    # lambda x:f(x) --> x가 주어지면 f(x)를 return\n",
        "    | prompt2\n",
        "    | llm\n",
        "    | StrOutputParser()\n",
        ")\n",
        "\n",
        "print(chain2.invoke({\"city\": \"내쉬빌\", \"num\": \"3\"}))"
      ]
    },
    {
      "cell_type": "markdown",
      "id": "LugI0dFrfbzn",
      "metadata": {
        "id": "LugI0dFrfbzn"
      },
      "source": [
        "<br><br>\n",
        "체인을 분리하고 RunnableParallel을 이용하면 중간 과정을 모두 출력할 수 있습니다."
      ]
    },
    {
      "cell_type": "code",
      "execution_count": null,
      "id": "a2bv38f1fcFN",
      "metadata": {
        "id": "a2bv38f1fcFN"
      },
      "outputs": [],
      "source": [
        "chain4 = (prompt2\n",
        "    | llm\n",
        "    | StrOutputParser())\n",
        "\n",
        "chain3 = RunnableParallel(country = chain1, num = lambda x:x['num']).assign(res = chain4)\n",
        "\n",
        "chain3.invoke({\"city\": \"부에노스 아이레스\", \"num\": \"3\"})"
      ]
    },
    {
      "cell_type": "markdown",
      "id": "SAEA6qeAfft6",
      "metadata": {
        "id": "SAEA6qeAfft6"
      },
      "source": [
        "JsonOutputParser를 쓴다면 아래와 같이 만들 수도 있습니다."
      ]
    },
    {
      "cell_type": "code",
      "execution_count": null,
      "id": "xO_-zGuHfhEn",
      "metadata": {
        "id": "xO_-zGuHfhEn"
      },
      "outputs": [],
      "source": [
        "from langchain_core.output_parsers import JsonOutputParser\n",
        "\n",
        "prompt1 = ChatPromptTemplate(\n",
        "    [\"전혀 관련이 없는 임의의 단어 두 개를 출력하세요. 출력은 json 형식으로 하세요. 각 항목은 word1, word2로 표시하세요.\"])\n",
        "prompt2 = ChatPromptTemplate([\"{word1}와 {word2}의 공통점에 대한 10문장 길이의 글을 작성하세요.\"])\n",
        "\n",
        "chain1 = prompt1 | llm | JsonOutputParser()\n",
        "chain2 =(\n",
        "     chain1 | prompt2 | llm | StrOutputParser()\n",
        ")\n",
        "print(chain2.invoke({}))"
      ]
    },
    {
      "cell_type": "code",
      "execution_count": null,
      "id": "02a3003a",
      "metadata": {},
      "outputs": [],
      "source": [
        "chain3 = prompt2 | llm | StrOutputParser()\n",
        "\n",
        "chain4 = chain1.assign(article=chain3)\n",
        "\n",
        "chain4.invoke({})"
      ]
    }
  ],
  "metadata": {
    "colab": {
      "provenance": []
    },
    "kernelspec": {
      "display_name": ".venv",
      "language": "python",
      "name": "python3"
    },
    "language_info": {
      "codemirror_mode": {
        "name": "ipython",
        "version": 3
      },
      "file_extension": ".py",
      "mimetype": "text/x-python",
      "name": "python",
      "nbconvert_exporter": "python",
      "pygments_lexer": "ipython3",
      "version": "3.12.11"
    }
  },
  "nbformat": 4,
  "nbformat_minor": 5
}
