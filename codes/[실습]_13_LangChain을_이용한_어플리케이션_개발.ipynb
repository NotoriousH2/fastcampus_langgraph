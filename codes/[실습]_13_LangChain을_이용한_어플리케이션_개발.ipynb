{
  "cells": [
    {
      "cell_type": "markdown",
      "id": "a435919b",
      "metadata": {
        "id": "a435919b"
      },
      "source": [
        "# [실습] LangChain을 이용한 어플리케이션 개발   \n",
        "\n",
        "LCEL 구조를 이용하여, 간단한 텍스트를 요약하는 어플리케이션을 만들어 보겠습니다."
      ]
    },
    {
      "cell_type": "code",
      "execution_count": null,
      "id": "bf68e6c0",
      "metadata": {
        "id": "bf68e6c0",
        "scrolled": true
      },
      "outputs": [],
      "source": [
        "!pip install google_genai langchain langchain-community langchain_google_genai pymupdf"
      ]
    },
    {
      "cell_type": "markdown",
      "id": "A59cI3UHz9l2",
      "metadata": {
        "id": "A59cI3UHz9l2"
      },
      "source": [
        "## Gemini API 준비하기\n",
        "\n",
        "\n",
        "Google API 키를 등록하고 입력합니다.   \n",
        "구글 계정 로그인 후 https://aistudio.google.com  에 접속하면, API 키 생성이 가능합니다."
      ]
    },
    {
      "cell_type": "code",
      "execution_count": null,
      "id": "955e251a",
      "metadata": {
        "id": "955e251a"
      },
      "outputs": [],
      "source": [
        "import os\n",
        "os.environ['GOOGLE_API_KEY'] = 'AIxxx'\n",
        "\n",
        "from langchain_core.rate_limiters import InMemoryRateLimiter\n",
        "from langchain_google_genai import ChatGoogleGenerativeAI\n",
        "\n",
        "# Gemini API는 분당 10개 요청으로 제한\n",
        "# 즉, 초당 약 0.167개 요청 (10/60)\n",
        "rate_limiter = InMemoryRateLimiter(\n",
        "    requests_per_second=0.167,  # 분당 10개 요청\n",
        "    check_every_n_seconds=0.1,  # 100ms마다 체크\n",
        "    max_bucket_size=10,  # 최대 버스트 크기\n",
        ")\n",
        "\n",
        "# rate limiter를 LLM에 적용\n",
        "llm = ChatGoogleGenerativeAI(\n",
        "    model=\"gemini-2.0-flash\",\n",
        "    rate_limiter=rate_limiter,\n",
        "    temperature = 0.5,\n",
        "    max_tokens = 2048\n",
        ")"
      ]
    },
    {
      "cell_type": "markdown",
      "id": "dd54abc8",
      "metadata": {
        "id": "dd54abc8"
      },
      "source": [
        "PDF 파일 준비하기   \n",
        "임의의 PDF 파일을 다운로드하여 준비합니다.   \n",
        "(예시 PDF 파일을 사용하실 분은 첨부된 PDF 파일을 활용해 주세요!)"
      ]
    },
    {
      "cell_type": "code",
      "execution_count": null,
      "id": "14579bb5",
      "metadata": {
        "id": "14579bb5"
      },
      "outputs": [],
      "source": [
        "path_material = 'example.pdf'\n",
        "# 자유롭게 경로 변경해서 실행하셔도 됩니다!"
      ]
    },
    {
      "cell_type": "markdown",
      "id": "c0948d1b",
      "metadata": {
        "id": "c0948d1b"
      },
      "source": [
        "랭체인에서는 데이터를 `Document` 클래스로 처리합니다.   \n",
        "데이터의 형식에 따라 적절한 document_loader를 불러와서 사용할 수 있습니다.   \n",
        "\n",
        "이번 실습에서는 PDF를 불러오는 가장 간단한 로더인 PyMuPDFLoader를 사용합니다."
      ]
    },
    {
      "cell_type": "code",
      "execution_count": null,
      "id": "3c18c40c",
      "metadata": {
        "id": "3c18c40c"
      },
      "outputs": [],
      "source": [
        "from langchain_community.document_loaders import PyMuPDFLoader\n",
        "\n",
        "loader = PyMuPDFLoader(path_material)\n",
        "# 페이지별로 저장\n",
        "pages = loader.load()\n",
        "print(\"# Number of Pages:\", len(pages))"
      ]
    },
    {
      "cell_type": "markdown",
      "id": "a4554d08",
      "metadata": {
        "id": "a4554d08"
      },
      "source": [
        "파일이 너무 긴 경우,일부만 선택하여 요약할 수 있습니다."
      ]
    },
    {
      "cell_type": "code",
      "execution_count": null,
      "id": "4b061ea2",
      "metadata": {
        "id": "4b061ea2"
      },
      "outputs": [],
      "source": [
        "pages = pages[:11]"
      ]
    },
    {
      "cell_type": "code",
      "execution_count": null,
      "id": "41633081",
      "metadata": {
        "id": "41633081"
      },
      "outputs": [],
      "source": [
        "pages[10]\n"
      ]
    },
    {
      "cell_type": "markdown",
      "id": "08e8c187",
      "metadata": {
        "id": "08e8c187"
      },
      "source": [
        "PDF 파일은 페이지별 Document를 저장합니다.   \n",
        "요약을 수행하기 위해, 전체 텍스트를 하나의 Document에 합칩니다."
      ]
    },
    {
      "cell_type": "code",
      "execution_count": null,
      "id": "bb0f968d",
      "metadata": {
        "id": "bb0f968d"
      },
      "outputs": [],
      "source": [
        "from langchain_core.documents import Document\n",
        "# Document 클래스 만들기\n",
        "\n",
        "corpus = Document(page_content='')\n",
        "for page in pages:\n",
        "    corpus.page_content += page.page_content + '\\n'\n",
        "\n",
        "corpus.page_content = corpus.page_content.replace('\\n\\n','\\n')\n",
        "len(corpus.page_content)"
      ]
    },
    {
      "cell_type": "markdown",
      "id": "6721b57a",
      "metadata": {
        "id": "6721b57a"
      },
      "source": [
        "LLM에 처리하기 전, 토큰 수를 체크합니다."
      ]
    },
    {
      "cell_type": "code",
      "execution_count": null,
      "id": "787f4fb5",
      "metadata": {
        "id": "787f4fb5"
      },
      "outputs": [],
      "source": [
        "from google import genai\n",
        "from google.genai import types\n",
        "\n",
        "client = genai.Client()\n",
        "\n",
        "\n",
        "response = client.models.count_tokens(\n",
        "    model='gemini-2.0-flash',\n",
        "    contents=corpus.page_content\n",
        ")\n",
        "\n",
        "print(\"Prompt tokens:\",response.total_tokens)"
      ]
    },
    {
      "cell_type": "markdown",
      "id": "c7be7d52",
      "metadata": {
        "id": "c7be7d52"
      },
      "source": [
        "요약 체인을 만들고 구성합니다."
      ]
    },
    {
      "cell_type": "markdown",
      "id": "ee52b512",
      "metadata": {
        "id": "ee52b512"
      },
      "source": [
        "## [실습] 요약 체인 만들기\n",
        "\n",
        "`corpus.page_content`를 입력으로 받는 요약 체인을 만들고 실행하세요."
      ]
    },
    {
      "cell_type": "code",
      "execution_count": null,
      "id": "622b8bc1",
      "metadata": {
        "id": "622b8bc1"
      },
      "outputs": [],
      "source": [
        "from langchain_core.prompts import ChatPromptTemplate\n",
        "from langchain_core.output_parsers import StrOutputParser\n",
        "summary_prompt = ChatPromptTemplate(\n",
        "    [('user', '''\n",
        "당신은 LLM/AI 전문가입니다.\n",
        "LLM에 대한 최신 모델의 논문이 주어집니다.\n",
        "전문 개발자를 대상으로 이를 설명한다고 가정하고,\n",
        "모델의 구조에 집중해서 논문의 내용을 요약하세요.\n",
        "\n",
        "전체는 5문단으로 하고, 문단별 4~8개 문장으로 구성하세요.\n",
        "---\n",
        "{text}''')\n",
        "\n",
        "    ]\n",
        "\n",
        ")\n",
        "summary_chain = summary_prompt | llm | StrOutputParser()\n",
        "\n",
        "summary = summary_chain.invoke(corpus.page_content)\n",
        "summary"
      ]
    },
    {
      "cell_type": "code",
      "execution_count": null,
      "id": "4e499d89",
      "metadata": {
        "id": "4e499d89"
      },
      "outputs": [],
      "source": []
    },
    {
      "cell_type": "code",
      "execution_count": null,
      "id": "05e7e658",
      "metadata": {
        "id": "05e7e658"
      },
      "outputs": [],
      "source": []
    },
    {
      "cell_type": "markdown",
      "id": "5ee49e0e",
      "metadata": {
        "id": "5ee49e0e"
      },
      "source": [
        "Gemini 2.0 Flash의 Context Window는 1M이므로 전체를 모두 하나의 컨텍스트로 입력해도 되지만,   \n",
        "Context가 짧은 모델들의 경우, 전체를 분할하여 요약 작업을 수행할 수 있습니다.\n",
        "\n",
        "**Map-Reduce** 방식의 요약을 만들어 보겠습니다.   \n",
        "\n",
        "Map-Reduce는 텍스트를 청크로 분할하고, 청크별 요약을 생성한 뒤  \n",
        "전체 요약문을 합쳐 프롬프트로 넣고 최종 요약문을 생성하는 방식입니다."
      ]
    },
    {
      "cell_type": "markdown",
      "id": "c0740625",
      "metadata": {
        "id": "c0740625"
      },
      "source": [
        "문서를 청크로 나누기 위해, RecursiveCharacterTextSplitter를 사용합니다."
      ]
    },
    {
      "cell_type": "code",
      "execution_count": null,
      "id": "f8031c4c",
      "metadata": {
        "id": "f8031c4c"
      },
      "outputs": [],
      "source": [
        "from langchain_text_splitters import RecursiveCharacterTextSplitter\n",
        "\n",
        "text_splitter = RecursiveCharacterTextSplitter(\n",
        "    chunk_size=20000,\n",
        "    chunk_overlap=4000,\n",
        ")\n",
        "\n",
        "chunks = text_splitter.split_documents([corpus])\n",
        "print(len(chunks))"
      ]
    },
    {
      "cell_type": "markdown",
      "id": "ac546a56",
      "metadata": {
        "id": "ac546a56"
      },
      "source": [
        "Map: 청크별 요약을 생성합니다."
      ]
    },
    {
      "cell_type": "code",
      "execution_count": null,
      "id": "93b6596c",
      "metadata": {
        "id": "93b6596c"
      },
      "outputs": [],
      "source": [
        "# Map 과정 : 각 문서에 대해 요약을 생성합니다.\n",
        "from tqdm import tqdm\n",
        "\n",
        "map_prompt = ChatPromptTemplate([\n",
        "    ('system', '''논문의 일부가 주어집니다.\n",
        "해당 내용을 읽고 한국어로 요약하세요.\n",
        "요약은 5개의 문단과 문단별 4~8개의 문장으로 작성하세요.\n",
        "'''),\n",
        "    ('user', '''{text}''')])\n",
        "\n",
        "raw_summaries = []\n",
        "\n",
        "map_chain  = map_prompt | llm | StrOutputParser()\n",
        "\n",
        "\n",
        "for i in tqdm(range(len(chunks))):\n",
        "    response = map_chain.invoke(chunks[i].page_content)\n",
        "\n",
        "    raw_summaries.append(response)\n",
        "\n",
        "    print('\\n#',i)\n",
        "    print(response)\n",
        "    print('===========================')"
      ]
    },
    {
      "cell_type": "code",
      "execution_count": null,
      "id": "64afc69b",
      "metadata": {
        "id": "64afc69b"
      },
      "outputs": [],
      "source": [
        "gathered_summaries = '\\n---\\n'.join(raw_summaries)\n",
        "\n",
        "print(gathered_summaries)"
      ]
    },
    {
      "cell_type": "code",
      "execution_count": null,
      "id": "fd5d91f1",
      "metadata": {
        "id": "fd5d91f1"
      },
      "outputs": [],
      "source": [
        "# Reduce 과정 : 각 문서의 요약을 하나로 합칩니다.\n",
        "reduce_prompt = ChatPromptTemplate([\n",
        "    ('system', '''당신은 인공지능과 거대 언어 모델의 전문가입니다.\n",
        "LLM 논문에 대한 요약문의 리스트가 주어집니다.\n",
        "이를 읽고, 전체 주제를 포함하는 최종 요약을 작성하세요.\n",
        "요약은 5개의 문단과 문단별 4-8개의 문장으로 작성하세요.\n",
        "'''),\n",
        "    ('user', '''{text}\n",
        "---\n",
        "Summary:\n",
        "''')])\n",
        "\n",
        "reduce_chain = reduce_prompt | llm | StrOutputParser()\n",
        "\n",
        "summary = reduce_chain.invoke(gathered_summaries)\n",
        "\n",
        "print(summary)"
      ]
    },
    {
      "cell_type": "code",
      "execution_count": null,
      "id": "bfece695",
      "metadata": {},
      "outputs": [],
      "source": []
    }
  ],
  "metadata": {
    "colab": {
      "provenance": []
    },
    "kernelspec": {
      "display_name": ".venv",
      "language": "python",
      "name": "python3"
    },
    "language_info": {
      "codemirror_mode": {
        "name": "ipython",
        "version": 3
      },
      "file_extension": ".py",
      "mimetype": "text/x-python",
      "name": "python",
      "nbconvert_exporter": "python",
      "pygments_lexer": "ipython3",
      "version": "3.12.11"
    }
  },
  "nbformat": 4,
  "nbformat_minor": 5
}
