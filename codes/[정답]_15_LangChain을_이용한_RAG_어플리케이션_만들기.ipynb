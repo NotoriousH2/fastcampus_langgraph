{
  "cells": [
    {
      "cell_type": "markdown",
      "metadata": {
        "id": "uHQzg8LlBPiX"
      },
      "source": [
        "## 중요) 이 실습은 GPU 연결이 필요합니다.\n",
        "**오른쪽 위 ▼ 화살표 클릭 --> 런타임 유형 변경 --> T4 GPU 설정**  \n",
        "이후 아래 코드 실행해 주세요.\n",
        "\n",
        "-----\n",
        "\n",
        "<br><br>\n",
        "# [실습] LangChain을 이용한 RAG 만들기\n",
        "\n",
        "RAG는 Retrieval-Augmented Generation (RAG) 의 약자로, 질문이 주어지면 관련 있는 문서를 찾아 프롬프트에 추가하는 방식의 어플리케이션입니다.   \n",
        "RAG의 과정은 아래와 같이 진행됩니다.\n",
        "1. Indexing : 문서를 받아 검색이 잘 되도록 저장합니다.\n",
        "1. Processing : 입력 쿼리를 전처리하여 검색에 적절한 형태로 변환합니다<br>(여기서는 수행하지 않습니다)\n",
        "1. Search(Retrieval) : 질문이 주어진 상황에서 가장 필요한 참고자료를 검색합니다.\n",
        "1. Augmenting : Retrieval의 결과와 입력 프롬프트를 이용해 LLM에 전달할 프롬프트를 생성합니다.\n",
        "1. Generation : LLM이 출력을 생성합니다."
      ]
    },
    {
      "cell_type": "markdown",
      "metadata": {
        "id": "yD8cevFKBPia"
      },
      "source": [
        "이번 실습에서는 웹 페이지의 결과를 받아와, 이를 기반으로 RAG를 수행하는 프로그램을 만들어 보겠습니다."
      ]
    },
    {
      "cell_type": "code",
      "execution_count": 1,
      "metadata": {
        "id": "GHgrhVbLnM6I",
        "colab": {
          "base_uri": "https://localhost:8080/"
        },
        "outputId": "2ace1928-9e7e-40db-e3a5-c5c61f0e563b"
      },
      "outputs": [
        {
          "output_type": "stream",
          "name": "stdout",
          "text": [
            "\u001b[?25l     \u001b[90m━━━━━━━━━━━━━━━━━━━━━━━━━━━━━━━━━━━━━━━━\u001b[0m \u001b[32m0.0/67.3 kB\u001b[0m \u001b[31m?\u001b[0m eta \u001b[36m-:--:--\u001b[0m\r\u001b[2K     \u001b[90m━━━━━━━━━━━━━━━━━━━━━━━━━━━━━━━━━━━━━━━━\u001b[0m \u001b[32m67.3/67.3 kB\u001b[0m \u001b[31m3.2 MB/s\u001b[0m eta \u001b[36m0:00:00\u001b[0m\n",
            "\u001b[?25h  Installing build dependencies ... \u001b[?25l\u001b[?25hdone\n",
            "  Getting requirements to build wheel ... \u001b[?25l\u001b[?25hdone\n",
            "  Preparing metadata (pyproject.toml) ... \u001b[?25l\u001b[?25hdone\n",
            "\u001b[2K   \u001b[90m━━━━━━━━━━━━━━━━━━━━━━━━━━━━━━━━━━━━━━━━\u001b[0m \u001b[32m2.5/2.5 MB\u001b[0m \u001b[31m94.2 MB/s\u001b[0m eta \u001b[36m0:00:00\u001b[0m\n",
            "\u001b[2K   \u001b[90m━━━━━━━━━━━━━━━━━━━━━━━━━━━━━━━━━━━━━━━━\u001b[0m \u001b[32m50.7/50.7 kB\u001b[0m \u001b[31m4.9 MB/s\u001b[0m eta \u001b[36m0:00:00\u001b[0m\n",
            "\u001b[2K   \u001b[90m━━━━━━━━━━━━━━━━━━━━━━━━━━━━━━━━━━━━━━━━\u001b[0m \u001b[32m20.7/20.7 MB\u001b[0m \u001b[31m100.3 MB/s\u001b[0m eta \u001b[36m0:00:00\u001b[0m\n",
            "\u001b[2K   \u001b[90m━━━━━━━━━━━━━━━━━━━━━━━━━━━━━━━━━━━━━━━━\u001b[0m \u001b[32m278.2/278.2 kB\u001b[0m \u001b[31m17.0 MB/s\u001b[0m eta \u001b[36m0:00:00\u001b[0m\n",
            "\u001b[2K   \u001b[90m━━━━━━━━━━━━━━━━━━━━━━━━━━━━━━━━━━━━━━━━\u001b[0m \u001b[32m1.4/1.4 MB\u001b[0m \u001b[31m63.4 MB/s\u001b[0m eta \u001b[36m0:00:00\u001b[0m\n",
            "\u001b[2K   \u001b[90m━━━━━━━━━━━━━━━━━━━━━━━━━━━━━━━━━━━━━━━━\u001b[0m \u001b[32m2.0/2.0 MB\u001b[0m \u001b[31m84.1 MB/s\u001b[0m eta \u001b[36m0:00:00\u001b[0m\n",
            "\u001b[2K   \u001b[90m━━━━━━━━━━━━━━━━━━━━━━━━━━━━━━━━━━━━━━━━\u001b[0m \u001b[32m103.3/103.3 kB\u001b[0m \u001b[31m8.4 MB/s\u001b[0m eta \u001b[36m0:00:00\u001b[0m\n",
            "\u001b[2K   \u001b[90m━━━━━━━━━━━━━━━━━━━━━━━━━━━━━━━━━━━━━━━━\u001b[0m \u001b[32m17.4/17.4 MB\u001b[0m \u001b[31m94.7 MB/s\u001b[0m eta \u001b[36m0:00:00\u001b[0m\n",
            "\u001b[2K   \u001b[90m━━━━━━━━━━━━━━━━━━━━━━━━━━━━━━━━━━━━━━━━\u001b[0m \u001b[32m72.5/72.5 kB\u001b[0m \u001b[31m6.4 MB/s\u001b[0m eta \u001b[36m0:00:00\u001b[0m\n",
            "\u001b[2K   \u001b[90m━━━━━━━━━━━━━━━━━━━━━━━━━━━━━━━━━━━━━━━━\u001b[0m \u001b[32m132.3/132.3 kB\u001b[0m \u001b[31m10.5 MB/s\u001b[0m eta \u001b[36m0:00:00\u001b[0m\n",
            "\u001b[2K   \u001b[90m━━━━━━━━━━━━━━━━━━━━━━━━━━━━━━━━━━━━━━━━\u001b[0m \u001b[32m65.9/65.9 kB\u001b[0m \u001b[31m6.9 MB/s\u001b[0m eta \u001b[36m0:00:00\u001b[0m\n",
            "\u001b[2K   \u001b[90m━━━━━━━━━━━━━━━━━━━━━━━━━━━━━━━━━━━━━━━━\u001b[0m \u001b[32m208.0/208.0 kB\u001b[0m \u001b[31m15.3 MB/s\u001b[0m eta \u001b[36m0:00:00\u001b[0m\n",
            "\u001b[2K   \u001b[90m━━━━━━━━━━━━━━━━━━━━━━━━━━━━━━━━━━━━━━━━\u001b[0m \u001b[32m105.4/105.4 kB\u001b[0m \u001b[31m8.9 MB/s\u001b[0m eta \u001b[36m0:00:00\u001b[0m\n",
            "\u001b[2K   \u001b[90m━━━━━━━━━━━━━━━━━━━━━━━━━━━━━━━━━━━━━━━━\u001b[0m \u001b[32m71.6/71.6 kB\u001b[0m \u001b[31m6.3 MB/s\u001b[0m eta \u001b[36m0:00:00\u001b[0m\n",
            "\u001b[2K   \u001b[90m━━━━━━━━━━━━━━━━━━━━━━━━━━━━━━━━━━━━━━━━\u001b[0m \u001b[32m64.7/64.7 kB\u001b[0m \u001b[31m5.4 MB/s\u001b[0m eta \u001b[36m0:00:00\u001b[0m\n",
            "\u001b[2K   \u001b[90m━━━━━━━━━━━━━━━━━━━━━━━━━━━━━━━━━━━━━━━━\u001b[0m \u001b[32m517.7/517.7 kB\u001b[0m \u001b[31m30.7 MB/s\u001b[0m eta \u001b[36m0:00:00\u001b[0m\n",
            "\u001b[2K   \u001b[90m━━━━━━━━━━━━━━━━━━━━━━━━━━━━━━━━━━━━━━━━\u001b[0m \u001b[32m50.9/50.9 kB\u001b[0m \u001b[31m3.6 MB/s\u001b[0m eta \u001b[36m0:00:00\u001b[0m\n",
            "\u001b[2K   \u001b[90m━━━━━━━━━━━━━━━━━━━━━━━━━━━━━━━━━━━━━━━━\u001b[0m \u001b[32m128.4/128.4 kB\u001b[0m \u001b[31m12.6 MB/s\u001b[0m eta \u001b[36m0:00:00\u001b[0m\n",
            "\u001b[2K   \u001b[90m━━━━━━━━━━━━━━━━━━━━━━━━━━━━━━━━━━━━━━━━\u001b[0m \u001b[32m4.4/4.4 MB\u001b[0m \u001b[31m134.3 MB/s\u001b[0m eta \u001b[36m0:00:00\u001b[0m\n",
            "\u001b[2K   \u001b[90m━━━━━━━━━━━━━━━━━━━━━━━━━━━━━━━━━━━━━━━━\u001b[0m \u001b[32m456.8/456.8 kB\u001b[0m \u001b[31m45.3 MB/s\u001b[0m eta \u001b[36m0:00:00\u001b[0m\n",
            "\u001b[2K   \u001b[90m━━━━━━━━━━━━━━━━━━━━━━━━━━━━━━━━━━━━━━━━\u001b[0m \u001b[32m46.0/46.0 kB\u001b[0m \u001b[31m4.6 MB/s\u001b[0m eta \u001b[36m0:00:00\u001b[0m\n",
            "\u001b[2K   \u001b[90m━━━━━━━━━━━━━━━━━━━━━━━━━━━━━━━━━━━━━━━━\u001b[0m \u001b[32m86.8/86.8 kB\u001b[0m \u001b[31m9.6 MB/s\u001b[0m eta \u001b[36m0:00:00\u001b[0m\n",
            "\u001b[?25h  Building wheel for pypika (pyproject.toml) ... \u001b[?25l\u001b[?25hdone\n",
            "\u001b[31mERROR: pip's dependency resolver does not currently take into account all the packages that are installed. This behaviour is the source of the following dependency conflicts.\n",
            "google-colab 1.0.0 requires requests==2.32.4, but you have requests 2.32.5 which is incompatible.\n",
            "opentelemetry-exporter-otlp-proto-http 1.37.0 requires opentelemetry-exporter-otlp-proto-common==1.37.0, but you have opentelemetry-exporter-otlp-proto-common 1.38.0 which is incompatible.\n",
            "opentelemetry-exporter-otlp-proto-http 1.37.0 requires opentelemetry-proto==1.37.0, but you have opentelemetry-proto 1.38.0 which is incompatible.\n",
            "opentelemetry-exporter-otlp-proto-http 1.37.0 requires opentelemetry-sdk~=1.37.0, but you have opentelemetry-sdk 1.38.0 which is incompatible.\n",
            "google-adk 1.16.0 requires opentelemetry-api<=1.37.0,>=1.37.0, but you have opentelemetry-api 1.38.0 which is incompatible.\n",
            "google-adk 1.16.0 requires opentelemetry-sdk<=1.37.0,>=1.37.0, but you have opentelemetry-sdk 1.38.0 which is incompatible.\n",
            "google-generativeai 0.8.5 requires google-ai-generativelanguage==0.6.15, but you have google-ai-generativelanguage 0.9.0 which is incompatible.\u001b[0m\u001b[31m\n",
            "\u001b[0m"
          ]
        }
      ],
      "source": [
        "# 랭체인\n",
        "!pip install langchain langchain-community langchain-google-genai langchain-chroma chromadb langchain_huggingface -q"
      ]
    },
    {
      "cell_type": "markdown",
      "source": [
        "위에 발생하는 에러는 실행과 무관합니다."
      ],
      "metadata": {
        "id": "Si0sWOsX8rPq"
      }
    },
    {
      "cell_type": "code",
      "source": [
        "# 데이터 수집/전처리\n",
        "!pip install rank-bm25 kiwipiepy sentence_transformers beautifulsoup4 -q"
      ],
      "metadata": {
        "id": "91hEIto-61ON",
        "colab": {
          "base_uri": "https://localhost:8080/"
        },
        "outputId": "288e0838-3685-42c6-cfc6-9a631306ea8f"
      },
      "execution_count": 2,
      "outputs": [
        {
          "output_type": "stream",
          "name": "stdout",
          "text": [
            "\u001b[2K     \u001b[90m━━━━━━━━━━━━━━━━━━━━━━━━━━━━━━━━━━━━━━━━\u001b[0m \u001b[32m35.5/35.5 MB\u001b[0m \u001b[31m31.5 MB/s\u001b[0m eta \u001b[36m0:00:00\u001b[0m\n",
            "\u001b[?25h  Preparing metadata (setup.py) ... \u001b[?25l\u001b[?25hdone\n",
            "\u001b[2K   \u001b[90m━━━━━━━━━━━━━━━━━━━━━━━━━━━━━━━━━━━━━━━━\u001b[0m \u001b[32m7.6/7.6 MB\u001b[0m \u001b[31m130.5 MB/s\u001b[0m eta \u001b[36m0:00:00\u001b[0m\n",
            "\u001b[?25h  Building wheel for kiwipiepy_model (setup.py) ... \u001b[?25l\u001b[?25hdone\n"
          ]
        }
      ]
    },
    {
      "cell_type": "markdown",
      "source": [
        "# [중요] 설치 후, **런타임 --> 세션 다시 시작** 후 실행해 주세요!"
      ],
      "metadata": {
        "id": "L0EzTIXs7wMq"
      }
    },
    {
      "cell_type": "code",
      "execution_count": 3,
      "metadata": {
        "id": "C5uYZQknXLDM"
      },
      "outputs": [],
      "source": [
        "import os\n",
        "os.environ['GOOGLE_API_KEY']=\"AIxxx\"\n",
        "\n",
        "os.environ['USER_AGENT'] = 'test'\n",
        "\n",
        "from langchain_core.rate_limiters import InMemoryRateLimiter\n",
        "from langchain_google_genai import ChatGoogleGenerativeAI\n",
        "\n",
        "# Gemini API는 분당 10개 요청으로 제한\n",
        "# 즉, 초당 약 0.167개 요청 (10/60)\n",
        "rate_limiter = InMemoryRateLimiter(\n",
        "    requests_per_second=0.167,  # 분당 10개 요청\n",
        "    check_every_n_seconds=0.1,  # 100ms마다 체크\n",
        "    max_bucket_size=10,  # 최대 버스트 크기\n",
        ")\n",
        "\n",
        "# rate limiter를 LLM에 적용\n",
        "llm = ChatGoogleGenerativeAI(\n",
        "    model=\"gemini-2.0-flash\",\n",
        "    rate_limiter=rate_limiter,\n",
        "    temperature = 0.5,\n",
        "    max_tokens = 2048\n",
        ")"
      ]
    },
    {
      "cell_type": "code",
      "execution_count": 4,
      "metadata": {
        "id": "k5aalGFW30h5",
        "colab": {
          "base_uri": "https://localhost:8080/"
        },
        "outputId": "81098189-81a1-40b9-8fb2-7b564a78189c"
      },
      "outputs": [
        {
          "output_type": "stream",
          "name": "stdout",
          "text": [
            "알리바바의 최신 언어 모델은 **Qwen2**입니다. 이 모델은 2024년 5월에 공개되었으며, 다양한 크기와 기능을 제공합니다. 특히 오픈 소스로 공개되어 많은 관심을 받고 있습니다.\n",
            "\n",
            "Qwen2는 이전 모델인 Qwen1.5를 기반으로 하며, 다음과 같은 특징을 가지고 있습니다:\n",
            "\n",
            "*   **다국어 능력 향상:** 특히 영어 외 다른 언어에서의 성능이 크게 향상되었습니다.\n",
            "*   **긴 문맥 처리 능력:** 더 긴 문맥을 이해하고 처리할 수 있어 복잡한 질문에 대한 답변 능력이 향상되었습니다.\n",
            "*   **코드 생성 능력:** 프로그래밍 코드 생성 및 이해 능력도 개선되었습니다.\n",
            "*   **오픈 소스:** 상업적 및 연구 목적으로 자유롭게 사용할 수 있습니다.\n",
            "\n",
            "더 자세한 정보는 알리바바 클라우드 웹사이트 또는 관련 기술 블로그에서 확인할 수 있습니다.\n"
          ]
        }
      ],
      "source": [
        "# Test\n",
        "response = llm.invoke(\"알리바바의 최신 언어 모델은 무엇입니까?\")\n",
        "print(response.content)"
      ]
    },
    {
      "cell_type": "markdown",
      "metadata": {
        "id": "_8tnZzwABPid"
      },
      "source": [
        "## 1. `WebBaseLoader`로 웹 페이지 받아오기"
      ]
    },
    {
      "cell_type": "markdown",
      "metadata": {
        "id": "GVOZC5YqBPid"
      },
      "source": [
        "LangChain의 `document_loaders`는 다양한 형식의 파일을 불러올 수 있었는데요.\n",
        "[https://python.langchain.com/docs/integrations/document_loaders/ ]    \n",
        "\n",
        "이번에는 웹 페이지를 로드하는 `WebBaseLoader`를 통해 뉴스 기사를 읽어보겠습니다.    \n",
        "WebBaseLoader는 URL의 내용을 불러오므로, URL 리스트를 먼저 전달해야 합니다."
      ]
    },
    {
      "cell_type": "markdown",
      "metadata": {
        "id": "M23Hd2pQdkNK"
      },
      "source": [
        "#### 네이버 검색 연동하기\n",
        "네이버 API를 사용해, 네이버 뉴스 검색 링크를 가져옵니다.   \n",
        "(https://developers.naver.com/apps/#/register?defaultScope=search)   \n",
        "\n",
        "API 사용 인증 후, 애플리케이션 등록을 통해 ID과 Secret를 발급합니다."
      ]
    },
    {
      "cell_type": "code",
      "execution_count": 5,
      "metadata": {
        "id": "K8YdRdqnuXbH",
        "colab": {
          "base_uri": "https://localhost:8080/"
        },
        "outputId": "c3a9ad1a-b4af-408c-e235-c91e310e673f"
      },
      "outputs": [
        {
          "output_type": "stream",
          "name": "stdout",
          "text": [
            "메타 : 73 Example: https://n.news.naver.com/mnews/article/003/0013556805?sid=104\n",
            "오픈AI : 87 Example: https://n.news.naver.com/mnews/article/057/0001915192?sid=102\n",
            "XAI : 60 Example: https://n.news.naver.com/mnews/article/469/0000893809?sid=101\n",
            "앤트로픽 : 52 Example: https://n.news.naver.com/mnews/article/001/0015700649?sid=105\n",
            "구글 : 88 Example: https://n.news.naver.com/mnews/article/092/0002395260?sid=105\n",
            "알리바바 : 66 Example: https://n.news.naver.com/mnews/article/011/0004547477?sid=104\n",
            "Total Articles: 426\n",
            "Total Articles(Without Duplicate): 399\n"
          ]
        }
      ],
      "source": [
        "# 스포츠 뉴스는 형식이 달라서 지원하지 않습니다...\n",
        "\n",
        "import requests\n",
        "def get_naver_news_links(query, num_links=100):\n",
        "    url = f\"https://openapi.naver.com/v1/search/news.json?query={query}&display={num_links}&sort=sim\"\n",
        "    # 최대 100개의 결과를 표시\n",
        "    headers = {\n",
        "        'X-Naver-Client-Id': 'Ko6yIqbV2TOHq9rPH8tu',\n",
        "        'X-Naver-Client-Secret': 'BvqX8mNtHu'\n",
        "    }\n",
        "\n",
        "    response = requests.get(url, headers=headers)\n",
        "    result = response.json()\n",
        "    # 특정 링크 형식만 필터링\n",
        "    filtered_links = []\n",
        "    for item in result['items']:\n",
        "        link = item['link']\n",
        "        if \"n.news.naver.com/mnews/article/\" in link:\n",
        "            # 네이버 뉴스 스타일만 모으기\n",
        "            filtered_links.append(link)\n",
        "\n",
        "    print(query, ':', len(filtered_links), 'Example:', filtered_links[0])\n",
        "    return filtered_links\n",
        "\n",
        "filtered_links = []\n",
        "for topic in ['메타', '오픈AI', 'XAI', '앤트로픽','구글','알리바바']:\n",
        "    filtered_links += get_naver_news_links(topic, 100)\n",
        "print('Total Articles:', len(filtered_links))\n",
        "print('Total Articles(Without Duplicate):',len(list(set(filtered_links))))\n",
        "filtered_links = list(set(filtered_links))"
      ]
    },
    {
      "cell_type": "markdown",
      "metadata": {
        "id": "RO-iMtosurI_"
      },
      "source": [
        "WebBaseLoader를 이용해, 링크로부터 본문을 불러옵니다."
      ]
    },
    {
      "cell_type": "code",
      "execution_count": 6,
      "metadata": {
        "id": "K21DHXavwoff"
      },
      "outputs": [],
      "source": [
        "# Jupyter 분산 처리를 위한 설정\n",
        "import nest_asyncio\n",
        "\n",
        "nest_asyncio.apply()"
      ]
    },
    {
      "cell_type": "code",
      "execution_count": 7,
      "metadata": {
        "id": "dEmvVcecuqsm",
        "colab": {
          "base_uri": "https://localhost:8080/"
        },
        "outputId": "dd7a4c9f-c9b5-448f-c1cd-4da0a043a2ab"
      },
      "outputs": [
        {
          "output_type": "stream",
          "name": "stderr",
          "text": [
            "Fetching pages: 100%|##########| 399/399 [00:09<00:00, 41.39it/s]\n"
          ]
        },
        {
          "output_type": "stream",
          "name": "stdout",
          "text": [
            "399\n"
          ]
        }
      ],
      "source": [
        "import bs4\n",
        "from langchain_community.document_loaders import WebBaseLoader\n",
        "\n",
        "async def get_news_documents(links):\n",
        "    loader = WebBaseLoader(\n",
        "        web_paths=links,\n",
        "        bs_kwargs=dict(\n",
        "            parse_only=bs4.SoupStrainer(\n",
        "                class_=(\"newsct\", \"newsct-body\")\n",
        "                # newsct, newsct-body만 추출 : 네이버 뉴스 포맷에 맞는 HTML 요소\n",
        "            )\n",
        "        ),\n",
        "        requests_per_second = 10, # 1초에 10개 요청 보내기\n",
        "        show_progress = True # 진행 상황 출력\n",
        "    )\n",
        "    # docs = loader.load() # 기본 코드\n",
        "    docs = []\n",
        "\n",
        "    async for doc in loader.alazy_load():\n",
        "        docs.append(doc)\n",
        "    return docs\n",
        "\n",
        "docs = await get_news_documents(filtered_links)\n",
        "print(len(docs))"
      ]
    },
    {
      "cell_type": "code",
      "execution_count": 8,
      "metadata": {
        "id": "73nVmzJLBPie",
        "colab": {
          "base_uri": "https://localhost:8080/"
        },
        "outputId": "23168e71-2b15-4a97-dbee-0b23ab44cae5"
      },
      "outputs": [
        {
          "output_type": "execute_result",
          "data": {
            "text/plain": [
              "Document(metadata={'source': 'https://n.news.naver.com/mnews/article/023/0003935835?sid=101'}, page_content='\\n\\n\\n\\n\\n조선일보\\n\\n조선일보\\n\\n\\n구독\\n\\n조선일보 언론사 구독되었습니다. 메인 뉴스판에서  주요뉴스를  볼 수 있습니다.\\n보러가기\\n\\n\\n조선일보 언론사 구독 해지되었습니다.\\n\\n\\n\\n\\nG마켓, 알리바바와 글로벌·AI서 협력... 국내 이커머스 1위 탈환 나선다\\n\\n\\n\\n\\n\\n\\n\\n\\n입력\\n2025.10.21. 오전 11:31\\n\\n\\n수정\\n2025.10.21. 오후 1:24\\n\\n\\n\\n기사원문\\n \\n\\n\\n\\n\\n\\n\\n\\n\\n\\n\\n추천\\n\\n\\n\\n\\n쏠쏠정보\\n0\\n\\n\\n\\n\\n흥미진진\\n0\\n\\n\\n\\n\\n공감백배\\n0\\n\\n\\n\\n\\n분석탁월\\n0\\n\\n\\n\\n\\n후속강추\\n0\\n\\n\\n \\n\\n\\n\\n댓글\\n\\n\\n\\n\\n\\n본문 요약봇\\n\\n\\n\\n본문 요약봇도움말\\n자동 추출 기술로 요약된 내용입니다. 요약 기술의 특성상 본문의 주요 내용이 제외될 수 있어, 전체 맥락을 이해하기 위해서는 기사 본문 전체보기를 권장합니다.\\n닫기\\n\\n\\n\\n\\n\\n\\n\\n\\n텍스트 음성 변환 서비스 사용하기\\n\\n\\n\\n성별\\n남성\\n여성\\n\\n\\n말하기 속도\\n느림\\n보통\\n빠름\\n\\n이동 통신망을 이용하여 음성을 재생하면 별도의 데이터 통화료가 부과될 수 있습니다.\\n본문듣기 시작\\n\\n닫기\\n\\n\\n \\n\\n글자 크기 변경하기\\n\\n\\n\\n가1단계\\n작게\\n\\n\\n가2단계\\n보통\\n\\n\\n가3단계\\n크게\\n\\n\\n가4단계\\n아주크게\\n\\n\\n가5단계\\n최대크게\\n\\n\\n\\n\\n\\n\\nSNS 보내기\\n\\n\\n\\n인쇄하기\\n\\n\\n\\n\\n\\n\\n\\n\\n\\t\\t\\t\\t\\t\\t\\t\\t\\t\\t신세계그룹 이커머스(전자상거래) 계열사 지마켓(G마켓)이 연 7000억원을 투입해 향후 5년 내로 거래액을 현재의 2배 이상으로 끌어올린다. 또 글로벌 진출, 인공지능(AI) 기술 활용 분야에서 중국 알리바바와 협력하겠다는 계획을 밝혔다. 쿠팡과 네이버로 국내 이커머스 시장이 사실상 양분된 상황에서 국내 이커머스 1위 자리를 탈환하겠다는 목표다.지마켓은 21일 서울 강남구 코엑스에서 미디어데이를 열고 “2026년을 오픈마켓 선도 혁신 기업으로의 부활을 위한 재도약의 원년으로 삼겠다”며 이같이 밝혔다. 지마켓은 초기 비용으로 연 7000억원을 투입할 계획이다.\\n\\n\\n\\n지마켓 로고\\t\\t\\t\\t\\t\\t\\t\\t\\t\\t이날 지마켓은 ‘글로벌-로컬 마켓’을 목표로 내세웠다. 국내와 해외 시장을 잇는 글로벌 플랫폼이 되겠다는 것이다. 지마켓 제임스 장(한국명 장승환) 대표는 “지마켓이 다시 한번 국내 1등 오픈마켓으로 올라서기 위해 ‘국내 경쟁력 강화’와 ‘글로벌 확장’이라는 두 축의 중장기 전략을 본격 추진하겠다”고 밝혔다.◇‘알리’ 통해 5년 내 200국 진출글로벌 확장에서는 알리바바와 협력한다. 지마켓이 알리바바와 구체적인 협력 방안을 밝힌 것은 작년 말 신세계그룹과 알리바바가 조인트벤처(합작 회사) 설립을 발표한 이후 처음이다. 합작 법인은 지난달 공정거래위원회 승인을 받았다.지마켓은 알리바바가 보유한 글로벌 유통망을 기반으로 해외 진출한다는 계획이다. 지마켓은 현재 알리바바 계열 동남아시아 지역 플랫폼인 라자다를 통해 싱가포르, 말레이시아, 태국, 필리핀, 베트남 5국에서 상품을 판매 중이다. 라자다는 동남아 전역에 걸쳐 소비자 1억6000만명을 보유한 플랫폼으로, 지마켓은 여기에 상품 총 2000만개를 공급하고 있다.\\n\\n\\n\\n21일 서울 강남구 코엑스에서 열린 ‘지마켓 미디어데이’ 행사장에서 지마켓 제임스 장(한국명 장승환) 대표가 지마켓의 향후 전략 방향 및 비전에 대해 설명하고 있다. /지마켓\\t\\t\\t\\t\\t\\t\\t\\t\\t\\t동남아시아를 시작으로 향후 남아시아 지역과 스페인, 포르투갈 등 남유럽으로 진출할 예정이다. 이어 2027년까지 북미, 중남미, 중동 등으로 뻗어 나간단 계획이다. 지마켓은 5년 내 연간 거래액 1조원 이상을 달성하고 신규 고객 수억 명을 확보할 수 있을 것으로 봤다. 제임스 장 대표는 “5년 내 200여 국가에서 소비자들을 만나겠다”고 말했다.지마켓이 해외 소비자에게 공급하는 주요 상품은 K뷰티, K패션, K푸드 등 최근 해외에서 인기를 끌고 있는 ‘K브랜드’ 상품이 될 전망이다. 지마켓은 물류, 관세, 고객 응대 등 해외 진출에 필요한 절차를 셀러 대신 수행해 국내 셀러가 해외 시장에 쉽게 진출할 수 있게 돕는다는 방침이다. 지마켓 측은 “국내 셀러들이 글로벌 시장에 진출해 새로운 수익원을 얻을 수 있을 것”이라며 “국내 중소기업의 경쟁력을 키우는 효과도 기대할 수 있다”고 설명했다.국내 소비자를 겨냥한 해외 상품도 늘린다. 지마켓은 알리바바가 보유한 글로벌 유통망과 조달(소싱) 시스템을 활용해 새로운 상품을 제공할 예정이다. 국내에서 접하기 힘든 유럽 등 글로벌 브랜드를 중심으로 약 100만개(SKU) 상품을 확보할 계획이다.◇AI 기반 초개인화 기술에 투자지마켓은 AI 활용에 연 1000억원을 투자한다. 이 투자는 주로 알리바바가 축적한 우수한 AI 기술 노하우를 활용하는 데 쓰일 예정이다.최종 목표는 AI 기술 기반의 초개인화 플랫폼을 구축하는 것이다. 고객의 달라진 행동 패턴을 실시간 감지하고 이를 반영해 개인별 맞춤도가 높은 상품 추천과 광고를 제공한다는 구상이다.그 출발점으로 지마켓은 내년부터 단순한 텍스트 외에 느낌, 감각 등 비정형 데이터를 포함한 ‘멀티모달 검색’을 강화하기로 했다. 멀티모달 검색은 ‘부드러운 소재의 러닝화’로 검색해도 적합한 상품을 보여줄 수 있는 기능이다.\\n\\n\\n\\n21일 서울 강남구 코엑스에서 열린 ‘지마켓 미디어데이’ 행사장에서 지마켓 제임스 장(한국명 장승환) 대표가 지마켓의 향후 전략 방향 및 비전에 대해 설명하고 있다. /지마켓\\t\\t\\t\\t\\t\\t\\t\\t\\t\\t최근 소비자들 사이에서 제기된 개인정보 유출 우려에 대해서는 “우려하지 않아도 된다”고 밝혔다. 지마켓 측은 “합작법인 설립 이후에도 지마켓의 고객 정보는 지마켓이 단독 관리한다”며 “AI 학습을 위한 빅데이터도 독립적인 클라우드에서 관리하고 있고 개인을 특정할 수 있는 정보는 전송되지 않는다”고 설명했다.알리바바의 플랫폼 알리익스프레스와의 통합 운영에 대해서도 선을 그었다. 장 대표는 “알리익스프레스와 지마켓을 함께 운영할 계획은 전혀 없다”며 “공정거래위원회 승인 당시에도 이러한 조건이 있었고 이를 지킬 방침”이라고 말했다.◇셀러 지원·할인 행사도 강화지마켓이 투입하는 7000억원 중 5000억원은 셀러들의 비용 부담을 줄이고 신규 셀러를 지원하는 데 쓰인다. 지마켓의 할인 행사 ‘빅스마일데이’ 등 대형 할인 프로모션을 진행할 때 들어가는 고객 할인 비용을 지마켓이 전액 부담하는 데 3500억원이 투입된다. 할인 쿠폰에 붙던 별도 수수료도 폐지해 연간 500억원의 셀러 부담금이 줄어들 전망이다.신규 셀러 모집에도 투자한다. 지마켓은 신규 셀러와 중소 영세 셀러 육성에 기존보다 50% 늘어난 연 200억원 이상을 투입하기로 했다. 입점 지원과 셀러별 맞춤형 조언을 할 전문 인력 100여 명도 채용한다. 신규 셀러를 대상으로는 일정 기간 수수료를 받지 않는 ‘제로(0) 수수료’도 도입할 계획이다.고객 지원 규모도 작년보다 50% 이상 늘린다. 연간 1000억원 이상 투입해 정기 할인 행사 ‘빅스마일데이’를 국내 최대 온라인 할인 행사로 자리 잡도록 한다는 방침이다.이마트와 협력해 신선 식품, 마트 장보기 서비스도 강화한다. 이마트 매장과 연계한 새벽 배송 서비스를 확대하고, 내년 상반기에는 퀵 배송 서비스도 도입한다.지마켓 장 대표는 “올해 말까지 플랫폼 체력 회복과 기본적인 체질 개선을 완료하고, 재도약을 위한 준비를 마칠 것”이라며 “세계 시장을 무대로 새로운 성장 동력을 확보하고, 셀러와의 상생을 강화해 최고의 고객 만족을 주는 혁신 기업이 되겠다”고 말했다.\\n\\n\\n\\n\\n김윤주 기자 yunj@chosun.com\\n\\n\\n\\n\\nCopyright ⓒ 조선일보. All rights reserved. 무단 전재 및 재배포 금지.\\n\\n \\n이 기사는 언론사에서 경제 섹션으로 분류했습니다.\\n\\n기사 섹션 분류 안내\\n기사의 섹션 정보는 해당 언론사의 분류를 따르고 있습니다. 언론사는 개별 기사를 2개 이상 섹션으로 중복 분류할 수 있습니다.\\n닫기\\n\\n\\n\\n\\n\\n\\n\\n\\n\\n\\n\\n\\n구독\\n조선일보 구독하고 메인에서 바로 만나보세요!구독하고 메인에서 만나보세요!\\n\\n\\n구독중\\n조선일보 구독하고 메인에서 바로 만나보세요!구독하고 메인에서 만나보세요!\\n\\n\\n언론사홈\\n\\n\\n\\n\\n\\n\\n조선일보\\n\\n\\t\\t\\t주요뉴스해당 언론사에서 선정하며 언론사(아웃링크)로 이동합니다.\\n\\n\\n이이경 사생활 의혹 폭로자… \"돈 줄 수 있냐 한 번 물어\"\\n이코노미 탄 美장관 부부 \"전용기 타는 정치인과 비교돼\"\\n애플 3.9% 급등 사상 최고치…시가총액 2위로 올라서\\n전기밥솥에 쌀 씻으면 \\'치매 위험\\'? 전문가 경고\\n조회 수 1억7000만회 웹툰 \\'유부녀 킬러\\' 드라마로\\n\\n\\n\\n\\n\\n\\n\\n\\n\\n낸 돈보다 더 퍼주는 멤버십! 지금 확인해보세요\\nQR 코드를 클릭하면 크게 볼 수 있어요.\\n\\n\\n\\nQR을 촬영해보세요.\\n낸 돈보다 더 퍼주는 멤버십! 지금 확인해보세요\\n\\n\\n\\n\\n\\n\\n\\n\\n\\n\\n닫기\\n\\n\\n\\n\\n\\n\\n\\n\\n\\n광고 안 봐도 되는 큐브 스도쿠로 스트레스 싸악!\\nQR 코드를 클릭하면 크게 볼 수 있어요.\\n\\n\\n\\nQR을 촬영해보세요.\\n광고 안 봐도 되는 큐브 스도쿠로 스트레스 싸악!\\n\\n\\n\\n\\n\\n\\n\\n\\n\\n\\n닫기\\n\\n\\n\\n\\n\\n\\n\\n\\n\\n\\n\\n\\n\\n조선일보 언론사가 직접 선정한 이슈\\n\\t\\t\\t\\n\\n\\n\\n\\n\\n\\n\\n\\n이슈\\n이재명 정부\\n\\n\\n\\n李대통령, 이달 중 10여國에 특사 파견 추진\\n\\n\\n\\n\\n\\n\\n\\n\\n\\n\\n이슈\\n트럼프, 세계를 뒤흔들다\\n\\n\\n\\n美정보수장, WP 기자에 “정신 나갔다” 비난…무슨 일?\\n\\n\\n\\n\\n\\n\\n\\n\\n\\n\\n이슈\\n북 러시아 파병\\n\\n\\n\\n‘러 파병 전사자 관 어루만지는 김정은’ 공개\\n\\n\\n\\n\\n\\n\\n\\n\\n\\n\\n이슈\\nK방산 신화를 만든 사람들\\n\\n\\n\\n총알 480발·영하 32도 견딘다… 원조 험비 넘은 ‘K험비’\\n\\n\\n\\n\\n\\n\\n\\n\\n\\n\\n\\n이전\\n\\n\\n다음\\n\\n\\n\\n\\n\\n\\n\\n\\n\\n\\n이 기사를 추천합니다\\n\\n\\n기사 추천은 24시간 내 50회까지 참여할 수 있습니다.\\n닫기\\n\\n\\n\\n\\n\\n\\n쏠쏠정보\\n0\\n\\n\\n\\n\\n흥미진진\\n0\\n\\n\\n\\n\\n공감백배\\n0\\n\\n\\n\\n\\n분석탁월\\n0\\n\\n\\n\\n\\n후속강추\\n0\\n\\n\\n \\n\\n\\n\\n\\n\\n\\n\\n')"
            ]
          },
          "metadata": {},
          "execution_count": 8
        }
      ],
      "source": [
        "docs[2]"
      ]
    },
    {
      "cell_type": "markdown",
      "metadata": {
        "id": "VohN5U6jzkbJ"
      },
      "source": [
        "불필요한 내용을 전처리합니다."
      ]
    },
    {
      "cell_type": "code",
      "execution_count": 9,
      "metadata": {
        "id": "5VLH9vOHzls-"
      },
      "outputs": [],
      "source": [
        "import re\n",
        "\n",
        "def preprocess(docs):\n",
        "    noise_texts = [\n",
        "        '''구독중 구독자 0 응원수 0 더보기''',\n",
        "        '''쏠쏠정보 0 흥미진진 0 공감백배 0 분석탁월 0 후속강추 0''',\n",
        "        '''댓글 본문 요약봇 본문 요약봇''',\n",
        "        '''도움말 자동 추출 기술로 요약된 내용입니다. 요약 기술의 특성상 본문의 주요 내용이 제외될 수 있어, 전체 맥락을 이해하기 위해서는 기사 본문 전체보기를 권장합니다. 닫기''',\n",
        "        '''텍스트 음성 변환 서비스 사용하기 성별 남성 여성 말하기 속도 느림 보통 빠름''',\n",
        "        '''이동 통신망을 이용하여 음성을 재생하면 별도의 데이터 통화료가 부과될 수 있습니다. 본문듣기 시작''',\n",
        "        '''닫기 글자 크기 변경하기 가1단계 작게 가2단계 보통 가3단계 크게 가4단계 아주크게 가5단계 최대크게 SNS 보내기 인쇄하기''',\n",
        "        'PICK 안내 언론사가 주요기사로선정한 기사입니다. 언론사별 바로가기 닫기',\n",
        "        '응원 닫기',\n",
        "        '구독 구독중 구독자 0 응원수 0 ',\n",
        "\n",
        "    ]\n",
        "\n",
        "    def clean_text(doc):\n",
        "        text = doc.page_content\n",
        "        # 탭과 개행문자를 공백으로 변환\n",
        "        text = text.replace('\\t', ' ').replace('\\n', ' ')\n",
        "\n",
        "        # 연속된 공백을 하나로 치환\n",
        "        text = re.sub(r'\\s+', ' ', text).strip()\n",
        "\n",
        "        # 여러 구분자를 한번에 처리\n",
        "        split_markers = [\n",
        "            '구독 해지되었습니다.',\n",
        "            '구독 메인에서 바로 보는 언론사 편집 뉴스 지금 바로 구독해보세요!'\n",
        "        ]\n",
        "\n",
        "\n",
        "        for marker in split_markers:\n",
        "            parts = text.split(marker)\n",
        "            if len(parts) > 1:\n",
        "                if marker == '구독 해지되었습니다.':\n",
        "                    text = parts[1]  # 뒷부분 사용\n",
        "                else:\n",
        "                    text = parts[0]  # 앞부분 사용\n",
        "\n",
        "\n",
        "        # 노이즈 텍스트 제거\n",
        "        for noise in noise_texts:\n",
        "            text = text.replace(noise, '')\n",
        "\n",
        "        # 연속된 공백을 하나로 치환\n",
        "        text = re.sub(r'\\s+', ' ', text).strip()\n",
        "\n",
        "        doc.page_content = text\n",
        "\n",
        "        return doc\n",
        "\n",
        "    preprocessed_docs = []\n",
        "    for doc in docs:\n",
        "        # 텍스트 정제\n",
        "        doc= clean_text(doc)\n",
        "        preprocessed_docs.append(doc)\n",
        "\n",
        "    return preprocessed_docs\n",
        "\n",
        "preprocessed_docs = preprocess(docs)\n"
      ]
    },
    {
      "cell_type": "markdown",
      "metadata": {
        "id": "sT7hRU6wBPie"
      },
      "source": [
        "## 2. Chunking: 청크 단위로 나누기   \n",
        "\n"
      ]
    },
    {
      "cell_type": "markdown",
      "metadata": {
        "id": "xEyCdybpBPie"
      },
      "source": [
        "전처리가 완료된 docs를 chunk 단위로 분리합니다.\n",
        "`chunk_size`와 `chunk_overlap`을 이용해 청크의 구성 방식을 조절할 수 있습니다."
      ]
    },
    {
      "cell_type": "code",
      "execution_count": 10,
      "metadata": {
        "collapsed": true,
        "id": "4SopeO4tBPie",
        "colab": {
          "base_uri": "https://localhost:8080/"
        },
        "outputId": "3ea1c509-51fd-4265-9bf0-db558a7de8b9"
      },
      "outputs": [
        {
          "output_type": "stream",
          "name": "stdout",
          "text": [
            "511\n"
          ]
        }
      ],
      "source": [
        "from langchain_text_splitters import RecursiveCharacterTextSplitter\n",
        "from langchain import hub\n",
        "\n",
        "\n",
        "# 청크 사이즈는 RAG 성능에 매우 중요한 역할을 수행합니다!\n",
        "\n",
        "text_splitter = RecursiveCharacterTextSplitter(chunk_size=3000, chunk_overlap=600)\n",
        "# 0~3000, 2400~5400, 4800~7800, ...\n",
        "chunks = text_splitter.split_documents(preprocessed_docs)\n",
        "print(len(chunks))"
      ]
    },
    {
      "cell_type": "markdown",
      "metadata": {
        "id": "Zwbv-FQ2BPif"
      },
      "source": [
        "구성된 청크를 벡터 데이터베이스에 로드합니다.   \n",
        "`Chroma.from_documents`는 documents의 임베딩을 구하고 이를 DB에 저장합니다."
      ]
    },
    {
      "cell_type": "code",
      "execution_count": 11,
      "metadata": {
        "id": "Fhrg3PtCBPif"
      },
      "outputs": [],
      "source": [
        "from langchain_chroma import Chroma"
      ]
    },
    {
      "cell_type": "markdown",
      "metadata": {
        "id": "iirue0f2ILJY"
      },
      "source": [
        "벡터 데이터베이스에 데이터를 저장하기 위해, 임베딩 모델을 선정합니다.   \n",
        "OpenAI의 `text-embedding-3-large`나, Google의 Gemini Embedding은 빠른 속도로 연산이 가능하나, 유료 모델입니다.   \n",
        "(Gemini Embedding은 일 사용량 100회로 매우 부족합니다.)\n",
        "\n",
        "이에 따라, 오프라인 사용이 가능한 허깅페이스에서 공개 임베딩 모델을 사용하여 구현해 보겠습니다.\n",
        "\n",
        "\n",
        "#### 오픈 임베딩 모델 사용하기   \n",
        "- intfloat/multilingual-e5-small (500MB)   \n",
        "Multilingual-E5 시리즈는 마이크로소프트의 다국어 공개 임베딩 모델입니다.\n",
        "\n",
        "- BAAI/bge-m3 (2GB)\n",
        "BGE-M3 시리즈는 BAAI의 임베딩 모델로, 현재 가장 인기가 많은 모델입니다.\n",
        "\n",
        "- nlpai-lab/KURE-v1 (2GB)    \n",
        "KURE 임베딩은 고려대학교 NLP 연구실에서 만든 모델로, BGE-M3를 한국어 텍스트로 파인 튜닝한 모델입니다."
      ]
    },
    {
      "cell_type": "code",
      "execution_count": 12,
      "metadata": {
        "id": "8szmXklD4h6X",
        "colab": {
          "base_uri": "https://localhost:8080/",
          "height": 486,
          "referenced_widgets": [
            "ab13613589494df6b6bc63f0583bee6c",
            "b7529c4ff47d48a3a7a5219294dad9a7",
            "d7847c8ccd884f8e80a3c03316ad04dc",
            "c0f441c7b27d4483a33b669de8230074",
            "8710833204434b7389efaa67d9db6c35",
            "bf9998f47210492cb248c11b76dbe431",
            "12acdc83448d493ea6fd5c4b805edb95",
            "054d8d9bc6864b9a974d939e4fc0fd3a",
            "c23b6036310640a89abf5ad87c93cba0",
            "fdd98a8d453d4f1691d626a2eb4d066f",
            "2a12967172f546d7b6b1c7ae853907a8",
            "7aa30f8d706f411bbd7a29a58c55cc24",
            "1db249523a8f4b0aa1794894924abfbe",
            "501904992b854667ab5d29337a6e6a62",
            "d2fbe308f255425ba36756501ccc6c04",
            "03308ff7e537422390f546444cab4956",
            "6f6f6860eda549ef814f10f7476bf7b5",
            "b74d6b0343ab4d2aac9227cb9ca35d08",
            "0249a7531e6445f2b0d5c284f08cb414",
            "857805197ed14174a44fb5cae588df5c",
            "bf23738c0bce4f01b192e5f46bd572b1",
            "d43a053bcb384c879b35754ccaaa6582",
            "bfca3fe101d349d3a92024af7fb450cb",
            "28127f709d124750baf4e9f8ee5110b2",
            "e610c854a078486eb725a54c876fb8bc",
            "5243501747df4a159b5ff5be036c801a",
            "d39ede6cf6c24d26ba73a35d9d394c36",
            "7dcd0565b19c4811a18be2ade08a5e76",
            "b7b165e051c349f78482d4e956852598",
            "c077240363a5475f9832be4dd3844c39",
            "a60002ac94f64e858d328eeba36e9e09",
            "d4d1cb8305994a5d9551d9dafc22e21f",
            "89ebffeea10b4eff9fac6215a240a18d",
            "fedbaa7e4d1649d1aa2b8d21d657195c",
            "f3e37b9f35a24b0c96f8c1f804a62b69",
            "1b9d83ac68e040ac98e1128c9c898707",
            "d26e79f288454c87840c5ae996931f55",
            "685d6ff9a78b4055a62a0f6545656e20",
            "a8292cad82fa46e7b6a9e92d9c17d2fe",
            "26927e5702fa49009afc8579cf333daa",
            "fd08c77fa15945068c9f6f6efcfcd375",
            "ef7ce18b87544cc4812f55096379d588",
            "a087f316b3c84f5b94b682b4dd20b7df",
            "9af06f6fd04a42d29c1b7bb435de1b15",
            "cb43e26aed4b4284a793f79090917ee9",
            "9c7308a90a394795ba5e7cca072f768c",
            "0c4d556cbe424b30989027fa8b953859",
            "abf275da97bc44968fdf9b693dc66abe",
            "37ce3f7eed574d80a2834c19613bf104",
            "5349f752fa194c1da1b68502f5e16c1d",
            "a51e0434e5cf424f884a0aaa30a090ef",
            "998dec4bacc344b1aa9c8ec7d0d1427f",
            "0b29e6ad945e4aa185252357ff68e698",
            "3b7d8bdc5ba8434691c6909c3b9bc6f4",
            "5ec037f6a5ab4fdf93b17382ab18f547",
            "c1fb426df72546c18a38429863577e1a",
            "69924766acd9408f929a347c39760ba7",
            "94980f7e51784c7aa0a39f9813fa59d7",
            "83ec66aae39249dabd218b2c70450c6d",
            "29ee523d1ec64d9394cdef25c1ffeb41",
            "3006412cd7ac43e8b5b8a806d8d5bf6a",
            "c349d86500444bafaf548137f7d3ab22",
            "a3f5c885b863414fb5344b00de65922c",
            "26b0d2c4654f46e0a5086ebd614b4d52",
            "3302cc7297b141d994fcf4efe3187a69",
            "085bc35bc74941ea9738f65b1f6efc4d",
            "a069f8b7fe0443bab0f8d3059aacc03c",
            "48d4d050227c4e02a7b7800b5551962f",
            "e2754b40a15f480d8d48bc8ad86b694e",
            "eb3ddc663ce1452d8b37b03aa2a7292b",
            "32de6916f47845f2b82e8e255f2783f8",
            "5fa07f9f768c450eadb4208c1fde199d",
            "49c3b4a0b22e4a31898936a74e852357",
            "90572833333a406da4f35f396434b16e",
            "2395cd09d97f44cda4fec1acfe964296",
            "4d5b59968c5a421b98f10eb3dfdecc32",
            "09fdb343b4144319939dca555268d234",
            "560615347a684ba1afc023dade46af53",
            "2961f431eef04dffa34b67f4dc8e3f0c",
            "04b28166b037412f9df0384eaabf63ab",
            "ca6142dd8b47432f86f9989a54212040",
            "f31792e9faa342f7951036a3a49345f8",
            "2f9692f06f7e44da9686d128b7b62833",
            "c5d10c98e223430b998f903ac1f77fab",
            "a2fb92c9cb1f442485b71d6c1caf93c7",
            "d58ac6fbe5b04939ab637dd44af1e387",
            "b67673099cdb4e26853ad2b1064a617e",
            "81a99b204b0b4de89ad1886aadcecf47",
            "02cabbff811b4596bb2a1a66b3fc3577",
            "60ba9ff58b6948fdbe791d1a113539c4",
            "b235c1a668db46abb8467e5fa232f1d2",
            "11c6e3cb37a94b53926aa467622952ec",
            "c3a29a6d5c7f4d3fa3e64f7655cccea0",
            "b90954dc4298412885a533f08ef0e92c",
            "07033aa842484efeb4a8fb6c89577284",
            "af0cdb056288431ab1b79575e6047e18",
            "a176ead6c0914447b2dce74318378694",
            "fdd1e7d122624c188a1427876527c870",
            "57d2a28b5af940c9bf36c91633149b47",
            "dbd05cb42e43422397001d0892e07603",
            "42353d2e12974eeebb4ebb4cc37759cd",
            "45afdfce2ea64036820f13de1f9829ab",
            "82982cf89cfc41fa9a28d1a390a57424",
            "2192afabcbb84ab1b4c4d59aa2ca5688",
            "3777b2af6f0b47fabe511fd983b3cc33",
            "022a476eff83410980d0253793980b92",
            "5a766ab1372b4c18b114ab11cdd2ddaf",
            "9a028d0376e64d2687d2323de9121273",
            "2b529a09e91a48928d9b8cfddf56af7e",
            "39f239176d794b52a825685733d3b19d"
          ]
        },
        "outputId": "1ccf4314-1413-4c14-8621-4567a81fcaa1"
      },
      "outputs": [
        {
          "output_type": "stream",
          "name": "stderr",
          "text": [
            "/usr/local/lib/python3.12/dist-packages/huggingface_hub/utils/_auth.py:94: UserWarning: \n",
            "The secret `HF_TOKEN` does not exist in your Colab secrets.\n",
            "To authenticate with the Hugging Face Hub, create a token in your settings tab (https://huggingface.co/settings/tokens), set it as secret in your Google Colab and restart your session.\n",
            "You will be able to reuse this secret in all of your notebooks.\n",
            "Please note that authentication is recommended but still optional to access public models or datasets.\n",
            "  warnings.warn(\n"
          ]
        },
        {
          "output_type": "display_data",
          "data": {
            "text/plain": [
              "modules.json:   0%|          | 0.00/349 [00:00<?, ?B/s]"
            ],
            "application/vnd.jupyter.widget-view+json": {
              "version_major": 2,
              "version_minor": 0,
              "model_id": "ab13613589494df6b6bc63f0583bee6c"
            }
          },
          "metadata": {}
        },
        {
          "output_type": "display_data",
          "data": {
            "text/plain": [
              "config_sentence_transformers.json:   0%|          | 0.00/220 [00:00<?, ?B/s]"
            ],
            "application/vnd.jupyter.widget-view+json": {
              "version_major": 2,
              "version_minor": 0,
              "model_id": "7aa30f8d706f411bbd7a29a58c55cc24"
            }
          },
          "metadata": {}
        },
        {
          "output_type": "display_data",
          "data": {
            "text/plain": [
              "README.md: 0.00B [00:00, ?B/s]"
            ],
            "application/vnd.jupyter.widget-view+json": {
              "version_major": 2,
              "version_minor": 0,
              "model_id": "bfca3fe101d349d3a92024af7fb450cb"
            }
          },
          "metadata": {}
        },
        {
          "output_type": "display_data",
          "data": {
            "text/plain": [
              "sentence_bert_config.json:   0%|          | 0.00/54.0 [00:00<?, ?B/s]"
            ],
            "application/vnd.jupyter.widget-view+json": {
              "version_major": 2,
              "version_minor": 0,
              "model_id": "fedbaa7e4d1649d1aa2b8d21d657195c"
            }
          },
          "metadata": {}
        },
        {
          "output_type": "display_data",
          "data": {
            "text/plain": [
              "config.json:   0%|          | 0.00/807 [00:00<?, ?B/s]"
            ],
            "application/vnd.jupyter.widget-view+json": {
              "version_major": 2,
              "version_minor": 0,
              "model_id": "cb43e26aed4b4284a793f79090917ee9"
            }
          },
          "metadata": {}
        },
        {
          "output_type": "display_data",
          "data": {
            "text/plain": [
              "model.safetensors:   0%|          | 0.00/2.27G [00:00<?, ?B/s]"
            ],
            "application/vnd.jupyter.widget-view+json": {
              "version_major": 2,
              "version_minor": 0,
              "model_id": "c1fb426df72546c18a38429863577e1a"
            }
          },
          "metadata": {}
        },
        {
          "output_type": "display_data",
          "data": {
            "text/plain": [
              "tokenizer_config.json: 0.00B [00:00, ?B/s]"
            ],
            "application/vnd.jupyter.widget-view+json": {
              "version_major": 2,
              "version_minor": 0,
              "model_id": "a069f8b7fe0443bab0f8d3059aacc03c"
            }
          },
          "metadata": {}
        },
        {
          "output_type": "display_data",
          "data": {
            "text/plain": [
              "tokenizer.json:   0%|          | 0.00/17.1M [00:00<?, ?B/s]"
            ],
            "application/vnd.jupyter.widget-view+json": {
              "version_major": 2,
              "version_minor": 0,
              "model_id": "560615347a684ba1afc023dade46af53"
            }
          },
          "metadata": {}
        },
        {
          "output_type": "display_data",
          "data": {
            "text/plain": [
              "special_tokens_map.json:   0%|          | 0.00/964 [00:00<?, ?B/s]"
            ],
            "application/vnd.jupyter.widget-view+json": {
              "version_major": 2,
              "version_minor": 0,
              "model_id": "02cabbff811b4596bb2a1a66b3fc3577"
            }
          },
          "metadata": {}
        },
        {
          "output_type": "display_data",
          "data": {
            "text/plain": [
              "config.json:   0%|          | 0.00/297 [00:00<?, ?B/s]"
            ],
            "application/vnd.jupyter.widget-view+json": {
              "version_major": 2,
              "version_minor": 0,
              "model_id": "dbd05cb42e43422397001d0892e07603"
            }
          },
          "metadata": {}
        },
        {
          "output_type": "execute_result",
          "data": {
            "text/plain": [
              "7745"
            ]
          },
          "metadata": {},
          "execution_count": 12
        }
      ],
      "source": [
        "from sentence_transformers import SentenceTransformer\n",
        "\n",
        "model_name = 'nlpai-lab/KURE-v1'\n",
        "# CPU 설정으로 모델 불러오기\n",
        "\n",
        "emb_model = SentenceTransformer(model_name, device='cpu')\n",
        "# 코랩 이외의 환경에서 불러오는 경우, 위 코드에 token='' 으로 HuggingFace Read 권한 토큰을 추가해야 할 수 있음\n",
        "\n",
        "# 로컬 폴더에 모델 저장하기\n",
        "emb_model.save('./embedding')\n",
        "\n",
        "del emb_model\n",
        "\n",
        "import gc\n",
        "gc.collect()"
      ]
    },
    {
      "cell_type": "code",
      "execution_count": 13,
      "metadata": {
        "id": "qW90zzuG4h6X"
      },
      "outputs": [],
      "source": [
        "from langchain_huggingface import HuggingFaceEmbeddings\n",
        "\n",
        "# 허깅페이스 포맷의 임베딩 모델 불러오기\n",
        "embeddings = HuggingFaceEmbeddings(model_name= './embedding',\n",
        "                                   model_kwargs={'device':'cuda'}) # gpu 사용하기"
      ]
    },
    {
      "cell_type": "code",
      "execution_count": 14,
      "metadata": {
        "id": "cAAhmf2GBPif"
      },
      "outputs": [],
      "source": [
        "Chroma().delete_collection() # 메모리에 로드된 기존 데이터 삭제\n",
        "\n",
        "db = Chroma.from_documents(documents=chunks,\n",
        "                           embedding=embeddings,\n",
        "                           persist_directory=\"./chroma_web\",\n",
        "                           collection_name='web', # DB 구분 이름\n",
        "\n",
        "                           collection_metadata={'hnsw:space':'l2'}\n",
        "                           # l2 메트릭 설정(기본값)\n",
        "                           # cosine, mmr\n",
        "                           )"
      ]
    },
    {
      "cell_type": "markdown",
      "metadata": {
        "id": "lIuEJaToBPif"
      },
      "source": [
        "retriever는 query에 맞춰 db에서 문서를 검색합니다."
      ]
    },
    {
      "cell_type": "code",
      "execution_count": 15,
      "metadata": {
        "id": "u4AhVSXLBPif"
      },
      "outputs": [],
      "source": [
        "retriever = db.as_retriever(search_kwargs={\"k\": 5})"
      ]
    },
    {
      "cell_type": "code",
      "execution_count": 16,
      "metadata": {
        "id": "fLCZKMIRnvi6",
        "colab": {
          "base_uri": "https://localhost:8080/"
        },
        "outputId": "3f00a93d-d50f-439c-db64-12f1a9439ae5"
      },
      "outputs": [
        {
          "output_type": "execute_result",
          "data": {
            "text/plain": [
              "[Document(id='7b20fe01-15e7-4763-b8a5-06d86c8dfcc3', metadata={'source': 'https://n.news.naver.com/mnews/article/421/0008560619?sid=105'}, page_content='앤트로픽 공동창업자 \"AI 혁신 꽃필 수 있는 환경에 韓 제격\" 김민석 기자 김민석 기자 김민석 기자 구독 입력 2025.10.24. 오후 3:15 수정 2025.10.24. 오후 3:16 기사원문 추천 벤자민 맨 \"韓 가장 기대되는 AI 시장…AI 3대 강국 동참\"SKT·앤트로픽 텔클로드 공동개발…\"특화모델 정확도 2배 향상\" FILE PHOTO: Illustration shows Anthropic logo ⓒ 로이터=뉴스1(서울=뉴스1) 김민석 기자\"한국은 전 세계에서 가장 기대되는 인공지능(AI) 시장 중 하나입니다. 기술 인프라, 실행 속도, 품질 등 다각적인 면에서 AI 혁신을 꽃필 수 있는 환경이 조성되고 있습니다.\"벤자민 맨(Benjamin Mann) 앤트로픽 공동창업자가 다음 달 초 열리는 \\'SK AI 서밋\\'에 기조연설에 나서 한국 AI 시장의 잠재력을 강조한다.24일 업계에 따르면 맨 공동창업자는 SK텔레콤 뉴스룸과 인터뷰를 통해 한국 AI 시장의 특장점을 짚었다. 벤자민 맨 앤트로픽 공동 창립자(SK텔레콤 뉴스룸 갈무리)맨은 \"한국 시장의 차별점은 주요 기업들이 핵심 (프로젝트·앱 등) 운영을 위해 프로덕션 환경에서 AI를 배포하는 방식\"이라며 \"한국 정부가 세계 3대 AI 강국 비전을 추진함에 따라 민·관의 협력이 증가할 것\"이라고 말했다.이어 \"한국은 기술을 신속하게 수용하는 문화를 갖추고 있어 AI 도입률도 높은 수준을 유지하고 있다\"며 \"한국 파트너사들은 선제적 접근에서 이미 탁월함을 보여주고 있다\"고 평가했다.한국이 글로벌 빅테크 기업들의 테스트베드(실험대)로 각광 받는 요인으로 △글로벌 손꼽히는 디지털 인프라 △ 높은 AI 혁신 수용도 △반도체 경쟁력 △개발자 생태계 등이 꼽힌다.맨은 \"자사의 한국 고객사는 통신·법률 서비스·AI 플랫폼·연구 기관에 걸쳐 다양하다\"며 \"SK텔레콤과는 통신 특화 LLM \\'텔클로드\\'를 공동 개발하며 고객 서비스와 네트워크 운영 전반을 혁신하고 있다\"고 설명했다.이어 \"뤼튼은 새로운 기능을 지속적으로 실험하며 한국에서 가장 인기 있는 AI 플랫폼 중 하나로 성장했고 로앤컴퍼니는 1년 만에 법률 워크플로 자동화에 성공했다\"고 언급했다. 다리오 아모데이 앤트로픽 CEO ⓒ AFP=뉴스1SK텔레콤은 2023년 5월 앤트로픽 시리즈 C 투자에 참여한 데 이어 8월 1억 달러(약 1300억 원)를 추가 투자했다.맨은 \"SK텔레콤의 통신 관련 데이터를 학습시킨 후 모델의 정확도는 2배 이상 향상됐다\"며 \"특화 LLM이 통신 네트워크 용어를 이해하고 정확한 기술적 답변을 제공하며 통신 고객이 기대하는 방식으로 응답하게 됐다\"고 설명했다.맨은 \"향후 수년 내 인간 수준의 AI가 나올 것\"이라며 \"새로운 모델이 나올 때마다 다시 시도하고 성능을 측정하며 도구를 계속 개선해야 한다\"고 조언했다.이어 \"오늘 불가능해 보이는 일들이 내일은 일상이 될 수 있다\"며 \"지금부터 실험을 시작하는 기업은 비록 현재 완전하지 않더라도, AI가 인간 수준의 성능에 도달했을 때 이미 필요한 시스템과 노하우를 갖춘 상태가 될 것\"이라고 했다.<용어설명>■ LLMLarge Language Model. 대규모 언어 모델. 자연어 처리(NLP) 작업을 수행할 수 있는 머신 러닝 모델을 말한다. 자연어의 복잡성을 이해할 수 있어 기존 기계 학습 알고리즘보다 정확하다.■ 워크플로워크플로(Workflow)는 작업 흐름 또는 업무 절차로 특정 목표를 달성하기 위해 필요한 작업들을 순차적으로 정리한 일련의 과정이다. 업무가 어떤 순서로 누가 어떤 방식으로 처리되는지를 시각적으로 또는 논리적으로 체계화한 것을 말한다. 김민석 기자 (ideaed@news1.kr) Copyright ⓒ 뉴스1. All rights reserved. 무단 전재 및 재배포, AI학습 이용 금지. 이 기사는 언론사에서 IT, 경제 섹션으로 분류했습니다. 기사 섹션 분류 안내 기사의 섹션 정보는 해당 언론사의 분류를 따르고 있습니다. 언론사는 개별 기사를 2개 이상 섹션으로 중복 분류할 수 있습니다. 닫기 기자 프로필 김민석 기자 김민석 기자 뉴스1 구독 구독중 \"179만원 아이폰 이게 말이 되나\"…아이폰17 변색 전세계 확산 [단독]퍼플렉시티, AWS US-EAST 리전 오류에 시스템 마비 구독 뉴스1 구독하고 메인에서 바로 만나보세요!구독하고 메인에서 만나보세요! 구독중 뉴스1 구독하고 메인에서 바로 만나보세요!구독하고 메인에서 만나보세요! 언론사홈 뉴스1 주요뉴스해당 언론사에서 선정하며 언론사(아웃링크)로 이동합니다. 당직 근무 중 성관계한 43세 부사관·24세 女병사 \\'징계\\' \"외설적\"…야한 영상 올린 커플에 \\'두달내 결혼\\' 명령 이름 잘못 듣고 미인대회 결승 무대 올라간 여성 \\'민망\\' 디올 입고 \\'어좌\\' 앉은 김건희…명성황후 침실도 갔다 아내 손 잡고 엘베 탄 男, 내릴 때 옆 여성 엉덩이 추행 K팝·K트롯 팬들의 놀이터, 스타1픽 QR 코드를 클릭하면 크게 볼 수 있어요. QR을 촬영해보세요. K팝·K트롯 팬들의 놀이터, 스타1픽 닫기 세상에 이런 일이...[사건의 재구성] QR 코드를 클릭하면 크게 볼 수 있어요. QR을 촬영해보세요. 세상에 이런 일이...[사건의 재구성] 닫기 뉴스1 언론사가 직접 선정한 이슈 이슈 러시아-우크라 전쟁 트럼프 \"푸틴에 실망…우크라 합의 못 본다면 만날 계획 없어\" 이슈 3대 특검 尹정부 수사 내란특검, \\'외환 의혹\\' 전 수방사령관·국방부 법무관리관 소환(종합) 이슈 반도체 전쟁 \\'슈퍼 사이클\\' 반도체 인재 쟁탈전…삼성·SK하닉 \\'쉽지 않네\\' 이슈 윤석열 재판 군사법원, 11월에 윤석열·김용현 증인 신문 기일 지정 이슈 \\'초고령 사회\\' 정년 연장 김영훈 장관 \"정년연장, 노동시장 대전환 핵심…세대 연계형으로 추진\" 이전 다음 이 기사를 추천합니다 기사 추천은 24시간 내 50회까지 참여할 수 있습니다. 닫기 기자 구독 후 기사보기 구독 없이 계속 보기'),\n",
              " Document(id='76ad1a2c-dfdb-4138-ad78-65164eceb452', metadata={'source': 'https://n.news.naver.com/mnews/article/421/0008560360?sid=105'}, page_content='오픈AI 이어 앤트로픽 \\'韓 AI 3대 강국\\' 비전 동참…\"가장 기대\" 김민석 기자 김민석 기자 김민석 기자 구독 입력 2025.10.24. 오후 2:01 수정 2025.10.24. 오후 2:02 기사원문 추천 벤자민 맨 앤트로픽 공동창업자 다음달 \\'SK AI 서밋\\' 기조연설SKT 앤트로픽에 1300억 이상 투자…글로벌 통신특화 AI 구축 벤자민 맨 앤트로픽 공동 창립자(SK텔레콤 뉴스룸 갈무리)(서울=뉴스1) 김민석 기자 = 미국 인공지능(AI) 선도 기업 앤트로픽이 내년 초 서울 강남에 한국 사무소를 개소하고 한국 기업·정부와 협력을 본격화한다.벤자민 맨 앤트로픽 공동 창업자는 신호탄으로 다음 달 초 열리는 \\'SK AI 서밋\\'에서 기조연설에 나선다.맨 공동창업자는 기조연설에 앞서 SK텔레콤 뉴스룸을 통해 \"한국은 전 세계에서 가장 기대되는 AI 시장 중 하나\"라고 말했다. 다리오 아모데이 앤트로픽 CEO ⓒ AFP=뉴스124일 업계에 따르면 앤트로픽은 내년 초 한국 사무소를 열고 한국지사장·스타트업 담당 총괄 등을 시작으로 추가 인력을 채용할 계획이다.한국 사무소는 인도·일본에 이은 아시아·태평양 지역 내 3번째 거점이 될 예정이다.앤트로픽은 거점 마련을 계기로 한국 AI 커뮤니티, 정부 기관과의 협력과 전략적 파트너십을 강화해 한국의 \\'AI 3대 강국 목표\\' 달성에 동참한다는 방침이다.앤트로픽 관계자는 \"자사가 개발한 AI 모델 클로드(Claude)는 한국에서 전 세계 상위 5위권 내에서 가장 활발히 사용되고 있다\"며 \"AI 코딩 어시스턴트 클로드 코드의 월간 활성 이용자 수는 최근 4개월간 6배 증가했고 한국 소프트웨어 엔지니어가 전 세계 최다 사용 기록을 보유하고 있다\"고 말했다.SK텔레콤은 2023년 5월 앤트로픽 시리즈 C 투자에 참여한 데 이어 8월 1억 달러(약 1300억 원)를 추가 투자했다.양사는 통신 산업에 특화된 다국어(한국어·영어·일본어·스페인어 등) LLM을 공동으로 개발하고 있다.맨 창업자는 SK텔레콤과 협력과 관련 \"SK텔레콤의 통신 관련 데이터를 학습시킨 후 모델의 정확도는 2배 이상 향상됐다\"고 설명했다. 이재명 대통령이 1일 서울 용산 대통령실 청사에서 우리나라 AI 대전환 및 AI 생태계 조성 가속화를 위한 과학기술정보통신부와 오픈AI 간 MOU 체결 후 기념촬영을 하고 있다. 왼쪽부터 샘 알트만 오픈AI 대표, 이 대통령, 배경훈 과학기술정보통신부 장관. (대통령실 제공. 재판매 및 DB 금지) 2025.10.1/뉴스1 ⓒ News1 허경 기자오픈AI는 한국 정부에 \\'오픈AI의 경제 청사진 보고서\\'(AI in South Korea: OpenAI\\'s Economic Blueprint·블루포인트)를 제시하는 등 한국과 협력에 적극적이다.오픈AI는 최근 한국 법인을 설립한 데 이어 서울사무소를 열고 파트너십 비전을 제시했다. 오픈AI 코리아는 아시아 3번째이자 전 세계 12번째 지사다.크리스 리헤인 오픈AI 글로벌 대외협력 최고책임자(총괄 부사장)은 \"오픈AI는 한국을 \\'AI 인프라 허브\\'로 발전시키기 위해 협력할 준비가 돼 있다\"며 \"오픈AI의 글로벌 인프라 확대 속에서 한국의 반도체·메모리 기업은 전 세계 공급망의 핵심이 될 수 있다\"고 강조했다. 아이반 장 코히어 공동창업자(코히어 제공)코히어도 서울에 APAC 지사를 설립하고 LG CNS 등 한국 기업들과 다국어 모델 공동 연구를 추진하고 있다.아이반 장 코히어 공동창업자는 \"LG CNS와 전략적 파트너십을 바탕으로 한국 맞춤형 에이전틱 AI 서비스를 제공하겠다\"며 \"한국에서 검증한 모델을 아·태 시장으로 확산하겠다\"고 했다.<용어설명>■ LLMLarge Language Model. 대규모 언어 모델. 자연어 처리(NLP) 작업을 수행할 수 있는 머신 러닝 모델을 말한다. 자연어의 복잡성을 이해할 수 있어 기존 기계 학습 알고리즘보다 정확하다.■ 블루포인트오픈AI가 말하는 블루포인트(Bluepoint)는 단순히 청사진(blueprint)의 번역어가 아니닌 국가별로 맞춤형 AI 경제 전략을 제시하는 정책·산업 로드맵 개념의 브랜드 명칭이다.\\u200b AI 기술이 각 지역·나라에 어떤 기여를 할 수 있는지 잠재력을 분석하고 이를 극대화하기 위한 정책 방향 제안 보고서로 오픈AI가 올해부터 작성·발간하고 있다. 김민석 기자 (ideaed@news1.kr) Copyright ⓒ 뉴스1. All rights reserved. 무단 전재 및 재배포, AI학습 이용 금지. 이 기사는 언론사에서 IT, 경제 섹션으로 분류했습니다. 기사 섹션 분류 안내 기사의 섹션 정보는 해당 언론사의 분류를 따르고 있습니다. 언론사는 개별 기사를 2개 이상 섹션으로 중복 분류할 수 있습니다. 닫기 기자 프로필 김민석 기자 김민석 기자 뉴스1 구독 구독중 \"179만원 아이폰 이게 말이 되나\"…아이폰17 변색 전세계 확산 [단독]퍼플렉시티, AWS US-EAST 리전 오류에 시스템 마비 구독 뉴스1 구독하고 메인에서 바로 만나보세요!구독하고 메인에서 만나보세요! 구독중 뉴스1 구독하고 메인에서 바로 만나보세요!구독하고 메인에서 만나보세요! 언론사홈 뉴스1 주요뉴스해당 언론사에서 선정하며 언론사(아웃링크)로 이동합니다. 당직 근무 중 성관계한 43세 부사관·24세 女병사 \\'징계\\' \"외설적\"…야한 영상 올린 커플에 \\'두달내 결혼\\' 명령 이름 잘못 듣고 미인대회 결승 무대 올라간 여성 \\'민망\\' 디올 입고 \\'어좌\\' 앉은 김건희…명성황후 침실도 갔다 아내 손 잡고 엘베 탄 男, 내릴 때 옆 여성 엉덩이 추행 K팝·K트롯 팬들의 놀이터, 스타1픽 QR 코드를 클릭하면 크게 볼 수 있어요. QR을 촬영해보세요. K팝·K트롯 팬들의 놀이터, 스타1픽 닫기 세상에 이런 일이...[사건의 재구성] QR 코드를 클릭하면 크게 볼 수 있어요. QR을 촬영해보세요. 세상에 이런 일이...[사건의 재구성] 닫기 뉴스1 언론사가 직접 선정한 이슈 이슈 부동산 시장 \"장동혁 \\'주택 6채\\' 싹쓸이 위원장\" \"민주, 수렁 빠져 헛발질\" (종합) 이슈 3대 특검 尹정부 수사 내란특검, \\'외환 의혹\\' 전 수방사령관·국방부 법무관리관 소환(종합) 이슈'),\n",
              " Document(id='84b33edf-cb7e-4e79-9cef-78c32b55fc43', metadata={'source': 'https://n.news.naver.com/mnews/article/366/0001117021?sid=110'}, page_content='[기자수첩] 정밀 지도 요구하는 구글의 ‘무임승차’ 논리 김수정 기자 김수정 기자 김수정 기자 구독 입력 2025.10.24. 오전 8:01 기사원문 추천 댓글 “구글이 한국 정부에 ‘글로벌 표준’을 이유로 고정밀 지도를 요구하지만, 구글의 행동은 ‘글로벌 특권’을 내세울 뿐입니다.”최근 만난 국내 빅테크 기업 관계자는 이렇게 말했다. 그는 “한국 시장에만 고가의 앱스토어 결제 수수료를 부과하는 구글에 고정밀 지도까지 내어준다면 우리의 디지털 생태계를 빼앗기는 것과 다름없다”며 “국내에 서버 설치 없이 지도 반출만 요구하는 구글의 태도는 한국을 봉으로 생각하는 것”이라고 비판했다.올해 초부터 시작된 구글의 한국 고정밀 지도 데이터 국외 반출 요구에 대한 정부의 결론이 다음 달 나온다. 구글이 고정밀 지도 반출을 한국에 요청한 것은 2007년, 2016년에 이어 이번이 세 번째다. 구글이 요청하는 것은 축척 1대5000 축적 지도다. 현행 공간정보관리법은 1대2만5000 축척보다 세밀한 지도를 국외로 반출하려면 국토교통부 장관의 승인을 받도록 하고 있다.1대5000 축적 지도는 축척이 세밀한 만큼 국가 주요 시설과 지형지물이 고스란히 드러난다. 도로·건물·교량·철도·항만·군사시설 등이 실제 좌표와 거의 일치하게 표시된다. 앞서 우리 정부는 두 차례나 안보 우려를 들어 반출을 불허했다. 한국지도학회지는 고정밀 지도를 위성 영상과 중첩하면 핵심 군사 시설 중 하나인 수도방위사령부 내 침투로, 보급선, 이동 경로 등을 파악할 수 있다는 점을 강조하고 있다. 실제 우크라이나 전쟁 등의 사례에서 볼 수 있듯 관련 데이터를 활용하면 현대전에서 드론을 통해 즉각 타격이 가능한 시스템도 구현할 수 있다.정부의 불허에도 구글이 거듭 지도 반출을 요청하는 이유는 해당 지도가 모빌리티 서비스 구축을 위한 필수 데이터이기 때문이다. 내비게이션 서비스에 필요하며 향후 자율주행차, 드론 및 로봇 배달 등 배송 관련 서비스에도 들어간다. 구글 지도에서 자동차·도보 길 찾기가 안 되는 나라는 한국, 중국, 북한 등 세 나라뿐이라며 ‘글로벌 표준’을 이유로 고정밀 지도 반출을 요구 중이다.문제는 구글이 현지 서비스 강화를 목적으로 지도 반출을 요구하면서, 한국에 대한 투자는 외면하고 있다는 점이다. 정부는 구글 고정밀 지도 반출 조건으로 국내 데이터센터를 설립할 것을 요구했지만, 구글은 계획이 없다고 못 박았다. 지도 서비스를 원활하게 유지하려면 국내 지도 데이터를 국외 데이터센터로 분산시킨 뒤 연산해야 한다는 이유에서다.업계에서는 보안 절차를 거쳐 국내 데이터센터와 해외 서버를 연동하는 것이 기술적으로 불가능하지 않으며, 이는 복잡한 기술이 아니라고 설명한다. 구글 또한 유럽연합(EU)의 일반개인정보보호법(GDPR)에 따라 유럽 사용자 데이터는 유럽 내에서만 처리되도록 설계하고 있다.게다가 구글은 2004년 한국 법인 설립 후 한국에서 발생한 매출에 따른 납세 현황이 불투명한 상황이다. 한국재무관리학회에 따르면 2023년 구글코리아의 매출은 12조원, 관련 법인세만 5180억원으로 추정된다. 국회 기획재정위원회는 법인 설립 후 20년간 추산되는 매출은 97조~242조원, 법인세는 최소 7조7000억~19조3000억원 수준이라고 밝혔다. 하지만 2023년 구글코리아가 국내 매출 발생으로 납부한 세금은 155억원에 그쳤다. 지난해 매출 10조7000억원을 기록해 법인세 3902억원을 납부한 네이버와 비교하면 터무니없는 수준이다.구글은 이런 논란이 일어날 때마다 아랑곳하지 않는 모습이다. 한국은 구글의 무임승차장이 아니다. 한국 정부에 글로벌 표준을 요구하기 전에, 국내 투자와 정당한 세금 납부 등 글로벌 기업으로서 책임을 다해야 할 것으로 보인다. 그래야 고정밀 지도 반출 관련 논의가 협상 테이블 위에 오를 수 있을 것이다. 김수정 기자 revise@chosunbiz.com Copyright ⓒ 조선비즈. All rights reserved. 무단 전재 및 재배포 금지. 이 기사는 언론사에서 오피니언 섹션으로 분류했습니다. 기사 섹션 분류 안내 기사의 섹션 정보는 해당 언론사의 분류를 따르고 있습니다. 언론사는 개별 기사를 2개 이상 섹션으로 중복 분류할 수 있습니다. 닫기 기자 프로필 김수정 기자 김수정 기자 조선비즈 구독 구독중 할리우드 이어 日 정부까지 나섰다… “오픈AI, IP 침해하지마” 3분기 실적 넷마블·크래프톤만 ‘맑음’ 예보… 신작·레거시 IP가 게임사 희비 갈랐다 구독 조선비즈 구독하고 메인에서 바로 만나보세요!구독하고 메인에서 만나보세요! 구독중 조선비즈 구독하고 메인에서 바로 만나보세요!구독하고 메인에서 만나보세요! 언론사홈 조선비즈 주요뉴스해당 언론사에서 선정하며 언론사(아웃링크)로 이동합니다. \\'9년 갱신권\\' 전세 종말 시작? 밀어붙이겠다는 범여 눈 뜨고 코 베인 개미들… 돌연 급등한 광명전기 사건 전말 삼성, 또 구글 압박에 굴복… \\'갤럭시 XR\\'에 빅스비 뺐다 관광객들 줄서서 사간다, 요즘 뜨는 \\'매출 효자\\' K액세사리 석유화학 이대론 다 죽는다, 여전히 구조조정 눈치싸움 프랑스 명품 ‘지방시’ 가문에 한국인 며느리 QR 코드를 클릭하면 크게 볼 수 있어요. QR을 촬영해보세요. 프랑스 명품 ‘지방시’ 가문에 한국인 며느리 닫기 \"한국인들 미쳤어\" 카디비가 빠진 K푸드 QR 코드를 클릭하면 크게 볼 수 있어요. QR을 촬영해보세요. \"한국인들 미쳤어\" 카디비가 빠진 K푸드 닫기 조선비즈 언론사가 직접 선정한 이슈 이슈 부동산 대책 정청래 “경제 정책, 당은 반 발짝 뒤에서 ‘로키’로 가야” 이슈 3대 특검 김건희 특검, 새 특검보에 김경호·박노수 변호사 임명 이슈 한미 관세 합의 한미정상회담 사흘 앞으로… 李·트럼프 대통령, 관세협상 타결할까 이전 다음 이 기사를 추천합니다 기사 추천은 24시간 내 50회까지 참여할 수 있습니다. 닫기 기자 구독 후 기사보기 구독 없이 계속 보기'),\n",
              " Document(id='c2403975-ce08-4679-a83f-82f239408799', metadata={'source': 'https://n.news.naver.com/mnews/article/001/0015695557?sid=105'}, page_content='앤트로픽 공동창업자 \"한국, 글로벌서 가장 주목받는 AI 시장\" 조성미 기자 조성미 기자 조성미 기자 구독 입력 2025.10.23. 오전 8:56 수정 2025.10.23. 오전 8:57 기사원문 추천 \"\"SKT와 통신 특화 AI 개발…정확도 두 배 향상\"벤자민 맨 공동창업자 SK AI 서밋 연설 앞서 SKT와 인터뷰 벤자민 맨 앤트로픽 공동 창업자[SKT 뉴스룸 캡처. 재판매 및 DB 금지] (서울=연합뉴스) 조성미 기자 = 챗GPT와 제미나이의 대항마로 꼽히는 거대언어모델(LLM) 클로드 개발사 앤트로픽 공동 창업자가 한국을 전 세계에서 가장 기대되는 인공지능(AI) 시장 중 하나로 꼽았다. 23일 통신업계에 따르면 벤자민 맨 앤트로픽 공동 창업자는 다음 달 3일부터 이틀간 열리는 SK AI 서밋 2025에서 기조연설에 나설 예정으로 이에 앞서 SK텔레콤과 가진 인터뷰에서 이같이 밝혔다. 맨 창업자는 한국이 기술 인프라, 실행 속도, 품질 기준이 결합한 독특한 혁신 환경을 갖췄고 정부의 AI 강국 목표 아래 민관 협력이 강화되면서 혁신 속도가 더 빨라질 것으로 전망했다. 그는 앤트로픽이 개발한 클로드가 유용하고 무해하며 정직한 행동 원칙을 학습하도록 설계돼 추론의 투명성과 예측 가능성을 확보하고 있다고 설명했다. 클로드 최신 버전은 특히 코딩 분야에서 챗GPT, 제미나이를 능가하는 성과를 보이는 것으로 주목된다. 맨 창업자는 클로드를 코딩 업무에 도입한 회사들이 구체적 성과를 내고 있다고 강조했다. 그는 SK텔레콤과 협력을 통해 통신 분야 AI를 개발했다고 소개했다. SK텔레콤의 통신 데이터를 학습시킨 후 모델의 정확도가 두 배 이상 올라갔다며 AI가 네트워크 용어를 이해하고 정확한 기술적 답변을 제시한다고 밝혔다. 통신사 요구에 따라 클로드를 맞춤화할 수 있도록 설계했고 한국어·영어·일본어·스페인어를 지원해 글로벌 통신사들이 단일 시스템으로 활용할 수 있다고 덧붙였다. 그러면서 SK텔레콤이 통신사들의 AI 연합체인 \\'글로벌 텔코 AI 얼라이언스\\'를 추진하며 언어와 규제 환경을 아우르는 글로벌 AI 생태계 확장에 앞장서고 있다고 평가했다. 그는 SK AI 서밋 2025에서 AI 에이전트가 단순한 작업 수행자를 넘어 인간의 협력자로 성장하는 변곡점에 서 있다고 강조할 예정이다. AI 에이전트의 변혁적인 세 가지 요소로 조직의 맥락을 이해하고 경험을 통해 학습하는 상황적 지능, 복잡한 워크플로를 며칠 단위로 수행할 수 있는 장기 실행 능력, 추론을 투명하게 설명하고 사용자 스타일에 적응하는 협업 능력을 꼽았다. csm@yna.co.kr 조성미(csm@yna.co.kr) Copyright ⓒ 연합뉴스. All rights reserved. 무단 전재-재배포, AI 학습 및 활용 금지. 이 기사는 언론사에서 IT 섹션으로 분류했습니다. 기사 섹션 분류 안내 기사의 섹션 정보는 해당 언론사의 분류를 따르고 있습니다. 언론사는 개별 기사를 2개 이상 섹션으로 중복 분류할 수 있습니다. 닫기 기자 프로필 조성미 기자 조성미 기자 연합뉴스 구독 구독중 홍범식 LG유플러스 대표 \"당국에 해킹 피해 신고하겠다\" LG유플러스도 해킹 정황 신고…통신 3사 모두 뚫렸다 구독 연합뉴스 구독하고 메인에서 바로 만나보세요!구독하고 메인에서 만나보세요! 구독중 연합뉴스 구독하고 메인에서 바로 만나보세요!구독하고 메인에서 만나보세요! 언론사홈 연합뉴스 주요뉴스해당 언론사에서 선정하며 언론사(아웃링크)로 이동합니다. \"짜장면 사주겠다며 아저씨가 여고생 성추행하고 치근덕\" \"님, 회사서 운동회 한다면 좋아요?\" 생후 4개월 아기 욕조 빠져 의식불명…30대 친모 긴급체포 \\'철마\\' 루 게릭의 마지막 양키스 유니폼, 39억원에 경매 경복궁 \\'왕의 의자\\' 앉은 김건희…\"역대 대통령은 앉은 적 없어\" [앱 다운] 빠르고 정확한 연합뉴스를 받아보세요 뉴스제보는 연합뉴스 okjebo 톡! 연합뉴스 언론사가 직접 선정한 이슈 이슈 한미 관세협상 방한 트럼프, 국내조선소 갈까…러트닉은 재계총수 만찬 추진(종합) 이슈 3특검 가동 특검, 내일 김대기 前비서실장 첫소환…이종섭 도피의혹 참고인 이슈 국가전산망 장애 \"국정자원 화재로 정부부처 피해 최소 95억원 추산\" 이전 다음 이 기사를 추천합니다 기사 추천은 24시간 내 50회까지 참여할 수 있습니다. 닫기 기자 구독 후 기사보기 구독 없이 계속 보기'),\n",
              " Document(id='7c902895-b95e-4e67-9cf7-6b8abd29dff8', metadata={'source': 'https://n.news.naver.com/mnews/article/092/0002395021?sid=105'}, page_content='대해서도 강조하는 측면이나 해석이 달라집니다.Q2. LLM이 역사적 사실을 틀리게 말하는 것은 왜 발생하나요?A: LLM의 \"환각(hallucination)\"은 잘 알려진 특성입니다. 연구에서 일부 LLM은 당시 이미 사망한 역사적 인물을 소개하거나 완전히 인물을 창작하는 경향을 보였습니다. 사용자는 LLM이 제공하는 역사 정보를 신뢰할 수 있는 여러 출처와 교차 확인해야 합니다.Q3. 이 연구에서 가장 일관된 LLM과 가장 많이 사용된 LLM은 무엇인가요?A: 반복 호출 시 가장 일관된 응답을 제공한 것은 미스트랄-large와 클로드 Sonnet 4였습니다. 방문객들은 모든 모델을 시도했지만 메타의 라마 3.1을 가장 선호했고, 더 긴 상호작용에서는 딥시크-Chat이 가장 많이 사용되었습니다.■ 이 기사는 AI 전문 매체 ‘AI 매터스’와 제휴를 통해 제공됩니다. 기사는 클로드 3.5 소네트와 챗GPT를 활용해 작성되었습니다. AI 에디터 (media@zdnet.co.kr) Copyright ⓒ ZDNet Korea. All rights reserved. 무단 전재 및 재배포 금지. 이 기사는 언론사에서 IT 섹션으로 분류했습니다. 기사 섹션 분류 안내 기사의 섹션 정보는 해당 언론사의 분류를 따르고 있습니다. 언론사는 개별 기사를 2개 이상 섹션으로 중복 분류할 수 있습니다. 닫기 구독 지디넷코리아 구독하고 메인에서 바로 만나보세요!구독하고 메인에서 만나보세요! 구독중 지디넷코리아 구독하고 메인에서 바로 만나보세요!구독하고 메인에서 만나보세요! 언론사홈 지디넷코리아 주요뉴스해당 언론사에서 선정하며 언론사(아웃링크)로 이동합니다. AI의 농담, 인간은 \\'실수\\'로 오해한다… 뇌파 분석 결과 충격 [Q&AI] \"AI로 조작했다\"… 이이경 사생활 폭로 사건 정리 [Q&AI] 챗GPT가 알려준 번호로 복권 당첨됐다고? 지디넷코리아 \\'홈페이지\\' QR 코드를 클릭하면 크게 볼 수 있어요. QR을 촬영해보세요. 지디넷코리아 \\'홈페이지\\' 닫기 네이버 채널 구독하기 지디넷코리아 언론사가 직접 선정한 이슈 이슈 트럼프 2.0시대 레이건 광고에 분노한 트럼프, 캐나다 관세 10% 추가 인상 이슈 AI 핫트렌드 퀀텀에어로, \\'국방 AI\\' 연쇄 협력…\\'소버린 AI\\' 기술 자립 속도 낸다 이슈 반도체 전쟁 SK하이닉스, GPU 넘는 메모리 중심 AI 가속기 구상 이전 다음 이 기사를 추천합니다 기사 추천은 24시간 내 50회까지 참여할 수 있습니다. 닫기')]"
            ]
          },
          "metadata": {},
          "execution_count": 16
        }
      ],
      "source": [
        "retriever.invoke(\"도메인 특화 언어 모델\")"
      ]
    },
    {
      "cell_type": "markdown",
      "metadata": {
        "id": "OX6QQUh24h6X"
      },
      "source": [
        "#### 한국어 키워드 기반 검색 추가하기"
      ]
    },
    {
      "cell_type": "markdown",
      "metadata": {
        "id": "jezmMdsP4h6X"
      },
      "source": [
        "임베딩 기반의 시맨틱 검색에 추가로 키워드 검색을 연동해 보겠습니다.   \n",
        "랭체인의 기본 라이브러리는 키워드 기반의 `BM25Retriever`를 지원하나, 한국어 처리를 위해서는 추가 설정이 필요합니다."
      ]
    },
    {
      "cell_type": "code",
      "execution_count": 17,
      "metadata": {
        "id": "oRagVnd04h6X"
      },
      "outputs": [],
      "source": [
        "# Kiwi 형태소 분석기\n",
        "from kiwipiepy import Kiwi\n",
        "\n",
        "kiwi = Kiwi()\n",
        "def kiwi_tokenize(text):\n",
        "    return [token.form for token in kiwi.tokenize(text)]\n"
      ]
    },
    {
      "cell_type": "code",
      "execution_count": 18,
      "metadata": {
        "id": "hnyE2oc44h6X"
      },
      "outputs": [],
      "source": [
        "from langchain_community.retrievers import BM25Retriever, EnsembleRetriever\n",
        "\n",
        "# 키위 형태소 분석기로 청크를 분리한 뒤, 키워드 집합 추출\n",
        "# 해당 키워드 집합으로 인덱싱\n",
        "bm25_retriever = BM25Retriever.from_documents(chunks, preprocess_func = kiwi_tokenize)\n",
        "bm25_retriever.k = 5\n",
        "\n",
        "retriever = db.as_retriever(search_kwargs={\"k\": 5})\n",
        "\n",
        "ensemble_retriever = EnsembleRetriever(\n",
        "    retrievers=[bm25_retriever, retriever], weights=[0.5, 0.5]\n",
        ")"
      ]
    },
    {
      "cell_type": "code",
      "execution_count": 19,
      "metadata": {
        "id": "sxR-UElW4h6X",
        "colab": {
          "base_uri": "https://localhost:8080/"
        },
        "outputId": "79dce984-aeda-47c0-8b4d-891c6fefeb3c"
      },
      "outputs": [
        {
          "output_type": "execute_result",
          "data": {
            "text/plain": [
              "EnsembleRetriever(retrievers=[BM25Retriever(vectorizer=<rank_bm25.BM25Okapi object at 0x7f868972c3b0>, k=5, preprocess_func=<function kiwi_tokenize at 0x7f8603b6ec00>), VectorStoreRetriever(tags=['Chroma', 'HuggingFaceEmbeddings'], vectorstore=<langchain_chroma.vectorstores.Chroma object at 0x7f8605ba5fd0>, search_kwargs={'k': 5})], weights=[0.5, 0.5])"
            ]
          },
          "metadata": {},
          "execution_count": 19
        }
      ],
      "source": [
        "ensemble_retriever"
      ]
    },
    {
      "cell_type": "markdown",
      "metadata": {
        "id": "R7i4qL0ZBPif"
      },
      "source": [
        "## 3. Prompting"
      ]
    },
    {
      "cell_type": "markdown",
      "metadata": {
        "id": "v5QpFAyVMYpV"
      },
      "source": [
        "RAG를 위한 간단한 프롬프트를 작성합니다."
      ]
    },
    {
      "cell_type": "code",
      "execution_count": 20,
      "metadata": {
        "id": "7BiDkZRlBPig"
      },
      "outputs": [],
      "source": [
        "from langchain.prompts import ChatPromptTemplate"
      ]
    },
    {
      "cell_type": "code",
      "execution_count": 21,
      "metadata": {
        "id": "RS06ZDSDBPig",
        "colab": {
          "base_uri": "https://localhost:8080/"
        },
        "outputId": "9d3a913d-0a0b-456c-d015-9d01c471991b"
      },
      "outputs": [
        {
          "output_type": "stream",
          "name": "stdout",
          "text": [
            "================================\u001b[1m Human Message \u001b[0m=================================\n",
            "\n",
            "당신은 QA(Question-Answering)을 수행하는 Assistant입니다.\n",
            "다음의 Context를 이용하여 Question에 답변하세요.\n",
            "만약 모든 Context를 다 확인해도 정보가 없다면,\n",
            "\"정보가 부족하여 답변할 수 없습니다.\"를 출력하세요.\n",
            "---\n",
            "Context: \u001b[33;1m\u001b[1;3m{context}\u001b[0m\n",
            "---\n",
            "Question: \u001b[33;1m\u001b[1;3m{question}\u001b[0m\n"
          ]
        }
      ],
      "source": [
        "prompt = ChatPromptTemplate([\n",
        "    (\"user\", '''당신은 QA(Question-Answering)을 수행하는 Assistant입니다.\n",
        "다음의 Context를 이용하여 Question에 답변하세요.\n",
        "만약 모든 Context를 다 확인해도 정보가 없다면,\n",
        "\"정보가 부족하여 답변할 수 없습니다.\"를 출력하세요.\n",
        "---\n",
        "Context: {context}\n",
        "---\n",
        "Question: {question}''')])\n",
        "prompt.pretty_print()"
      ]
    },
    {
      "cell_type": "markdown",
      "metadata": {
        "id": "9C09vkykMwXo"
      },
      "source": [
        "## 4. Chain"
      ]
    },
    {
      "cell_type": "markdown",
      "metadata": {
        "id": "H98LGZRVBPig"
      },
      "source": [
        "RAG를 수행하기 위한 Chain을 만듭니다."
      ]
    },
    {
      "cell_type": "markdown",
      "metadata": {
        "id": "2kqWGHwuBPig"
      },
      "source": [
        "RAG Chain은 프롬프트에 context와 question을 전달해야 합니다.    \n",
        "체인의 입력은 Question만 들어가므로, Context를 동시에 prompt에 넣기 위해서는 아래의 구성이 필요합니다."
      ]
    },
    {
      "cell_type": "code",
      "execution_count": 22,
      "metadata": {
        "id": "GEr1E0zbBPig"
      },
      "outputs": [],
      "source": [
        "from langchain_core.runnables import RunnablePassthrough\n",
        "from langchain_core.output_parsers import StrOutputParser\n",
        "\n",
        "\n",
        "# retriever의 결과물은 List[Document] 이므로 이를 ---로 구분하는 함수\n",
        "# metadata의 source를 보존하여 추가\n",
        "def format_docs(docs):\n",
        "    return \" \\n\\n---\\n\\n \".join(['URL: '+ doc.metadata['source'] + '\\n기사 내용: ' +doc.page_content for doc in docs])\n",
        "    # join : 구분자를 기준으로 스트링 리스트를 하나의 스트링으로 연결\n",
        "\n",
        "\n",
        "rag_chain = (\n",
        "    {\"context\": ensemble_retriever | format_docs, \"question\": RunnablePassthrough()}\n",
        "    # retriever : question을 받아서 context 검색: document 반환\n",
        "    # format_docs : document 형태를 받아서 텍스트로 변환\n",
        "    # RunnablePassthrough(): 체인의 입력을 그대로 저장\n",
        "    | prompt\n",
        "    | llm\n",
        "    | StrOutputParser()\n",
        ")"
      ]
    },
    {
      "cell_type": "code",
      "execution_count": 23,
      "metadata": {
        "id": "AjSGAEkg4h6a",
        "colab": {
          "base_uri": "https://localhost:8080/"
        },
        "outputId": "6594196f-ab06-4b6b-ac63-886869cd0a8b"
      },
      "outputs": [
        {
          "output_type": "stream",
          "name": "stdout",
          "text": [
            "URL: https://n.news.naver.com/mnews/article/277/0005669381?sid=104\n",
            "기사 내용: EU, 메타·틱톡 '디지털서비스법' 위반 잠정 결론 공병선 기자 공병선 기자 공병선 기자 구독 입력 2025.10.24. 오후 8:39 수정 2025.10.24. 오후 8:40 기사원문 추천 유럽연합(EU)이 사회관계망서비스(SNS) 페이스북·인스타그램의 모회사 메타와 틱톡의 바이트댄스가 데이터 접근권을 보장하는 디지털서비스법(DSA) 의무를 준수하지 않았다고 잠정 결론을 내렸다. EU 행정부 격인 집행위원회는 24일(현지시간) 페이스북, 인스타그램과 중국 동영상 공유 플랫폼인 틱톡에 대한 DSA 예비 조사 결과를 발표했다.집행위는 \"페이스북과 인스타그램, 틱톡이 연구자들의 공공데이터 접근 절차를 복잡하게 했을 가능성이 있다\"며 \"연구자들은 공공데이터를 활용해 폭력 미화 콘텐츠가 아동에 미치는 영향과 같은 것을 조사할 수 있다\"고 밝혔다. 페이스북과 인스타그램, 틱톡 등이 DSA의 투명성 의무 규정을 어겨 플랫폼에 대한 데이터 접근권을 보장하지 않았다는 셈이다. 아울러 집행위는 메타의 불법 콘텐츠 신고 체계도 DSA 규정을 이행하지 않았다고 지적했다.EU의 DSA는 미성년자 보호 등을 목적으로 온라인 허위 정보와 유해·불법 상품 또는 콘텐츠 확산을 막기 위해 도입된 법이다. 예비 조사 결과를 통보받은 메타와 틱톡은 반론을 제기하거나 시정조치를 해야 한다. 다만 집행위는 시정조치 등이 부족하다고 판단하면 예비 조사 결과를 확정하고 조사 대상 기업의 전 세계 연 매출의 최대 6％를 과징금으로 부과할 수 있다. 공병선 기자 mydillon@asiae.co.kr Copyright ⓒ 아시아경제. All rights reserved. 무단 전재 및 재배포 금지. 이 기사는 언론사에서 세계 섹션으로 분류했습니다. 기사 섹션 분류 안내 기사의 섹션 정보는 해당 언론사의 분류를 따르고 있습니다. 언론사는 개별 기사를 2개 이상 섹션으로 중복 분류할 수 있습니다. 닫기 기자 프로필 공병선 기자 공병선 기자 아시아경제 구독 구독중 [속보]美 9월 소비자물가 전년 대비 3.0%↑…예상치 하회 한국 온 美조지아 주지사 \"구금 사태 피해자 깊은 위로\" 구독 아시아경제 구독하고 메인에서 바로 만나보세요!구독하고 메인에서 만나보세요! 구독중 아시아경제 구독하고 메인에서 바로 만나보세요!구독하고 메인에서 만나보세요! 언론사홈 아시아경제 주요뉴스해당 언론사에서 선정하며 언론사(아웃링크)로 이동합니다. \"연봉 4억에 집도 드린다\" 카이스트 교수 149명이 받은 이메일 정체 \"전기밥솥이 이렇게 위험하다니\"…귀찮다고 쌀 씻었다가 건강에 치명적 \"尹·김건희, 단둘이 명성황후 침전서 10분 머물러\"…통제구역인데 \"문열어\" 전원주, 2억에 산 집 42억 됐다…\"여기 와서 모든 게 잘 풀려\" \"성심당 가려고 여행계획 다 세웠는데 문 닫는다고?\"…전 매장 하루 휴업 이유는 2026년 사주·운세·토정비결·궁합 확인! QR 코드를 클릭하면 크게 볼 수 있어요. QR을 촬영해보세요. 2026년 사주·운세·토정비결·궁합 확인! 닫기 하루 3분, 퀴즈 풀고 시사 만렙 달성하기! QR 코드를 클릭하면 크게 볼 수 있어요. QR을 촬영해보세요. 하루 3분, 퀴즈 풀고 시사 만렙 달성하기! 닫기 아시아경제 언론사가 직접 선정한 이슈 이슈 10·15부동산대책 서울 아파트 거래량 대책 발표 후 5일간 45%↓…막차 행렬, 신고가 행진 이슈 윤석열·김건희 특검 '슬리퍼 차림' 김건희, 휴관일에 경호원들과 경회루 갔다…그 옆사람 누군가 보니 이슈 이재명 정부 국민 납치하는 보이스피싱…李대통령 \"대책 더 강경, 강력하게\" 이슈 트럼프 2.0 시대 미·러 외교수장 통화…트럼프·푸틴 회담 준비 논의 이슈 불황 한파 생존기 '6만원짜리 밥' 때문에 홀수 축의금 공식은 끝났다…\"5만원 내기 눈치 보여요\" 이전 다음 이 기사를 추천합니다 기사 추천은 24시간 내 50회까지 참여할 수 있습니다. 닫기 기자 구독 후 기사보기 구독 없이 계속 보기 \n",
            "\n",
            "---\n",
            "\n",
            " URL: https://n.news.naver.com/mnews/article/009/0005575399?sid=105\n",
            "기사 내용: 2개 이상 섹션으로 중복 분류할 수 있습니다. 닫기 기자 프로필 김태성 기자 김태성 기자 매일경제 구독 구독중 김범수 카카오 창업자, SM 시세조종 혐의 1심 ‘무죄’ [단독] 엔씨소프트, 사명 ‘엔씨(NC)’로 변경한다 구독 매일경제 구독하고 메인에서 바로 만나보세요!구독하고 메인에서 만나보세요! 구독중 매일경제 구독하고 메인에서 바로 만나보세요!구독하고 메인에서 만나보세요! 언론사홈 매일경제 주요뉴스해당 언론사에서 선정하며 언론사(아웃링크)로 이동합니다. 오늘의 운세 2025년 10월 20일 月(음력 8월 29일) \"우크라 그만 때리라고?\"…푸틴, 트럼프에 종전 대가로 요구한 것은 [단독] 캄보디아 '범죄조직' 프린스그룹 뱅크런 사태에 중앙은행 긴급 개입 코스피서 재미 보고 빠진 개미들…결국엔 '이 자산'으로 몰려갔다 전 프로야구 유튜버 조용훈 야외 방송하다 사망 매경 회원전용 콘텐츠 'MK위클리연재'에서 확인하세요 QR 코드를 클릭하면 크게 볼 수 있어요. QR을 촬영해보세요. 매경 회원전용 콘텐츠 'MK위클리연재'에서 확인하세요 닫기 현명한 부의 이전을 위한 자산관리 노하우 QR 코드를 클릭하면 크게 볼 수 있어요. QR을 촬영해보세요. 현명한 부의 이전을 위한 자산관리 노하우 닫기 매일경제 언론사가 직접 선정한 이슈 이슈 관세전쟁 트럼프 “한미협상, 타결에 매우 가까워…한국 준비되면 나도 준비돼” 이슈 3대 특검 가동 김건희 특검 “통일교 측에서 준 목걸이·샤넬백 확보” 이슈 연이은 해킹 사태 김영섭 KT 대표 “해킹 피해 고객 위약금 면제”...전체 대상은 검토 이슈 이재명 시대 개막 예상 뛰어넘는 예산, 방산에 쏟는다…자주국방 외친 이재명의 청사진 이슈 이스라엘·이란 전쟁 네타냐후 이스라엘 총리, 내년 선거에 재도전 발표 이전 다음 이 기사를 추천합니다 기사 추천은 24시간 내 50회까지 참여할 수 있습니다. 닫기 기자 구독 후 기사보기 구독 없이 계속 보기 \n",
            "\n",
            "---\n",
            "\n",
            " URL: https://n.news.naver.com/mnews/article/081/0003584063?sid=101\n",
            "기사 내용: 알리바바 통한 해외 확장…G마켓, 7000억원 승부수 띄운다 박은서 기자 TALK 박은서 기자 박은서 기자 TALK 구독 입력 2025.10.21. 오후 6:25 기사원문 추천 ‘지마켓 미디어데이’ 발표하는 장승환 대표 - 21일 서울 강남구 코엑스에서 열린 G마켓 미디어데이 행사에서 장승환 G마켓 대표가 사업 전략을 발표하고 있다. 연합뉴스국내 1세대 이커머스 기업인 G마켓이 내년에 약 7000억원을 투자하고 5년 안에 거래액을 2배 이상으로 늘리겠다는 목표를 제시했다. 신세계그룹과 알리바바인터내셔널이 5대 5로 출자한 합작법인(JV)의 자회사가 된 만큼 양사 지원을 동력으로 삼아 글로벌 플랫폼으로 영향력을 확대하겠다는 포부다.21일 서울 강남구 코엑스에서 열린 간담회에서 제임스 장(40·한국명 장승환) G마켓 대표는 “다시 국내 1등 오픈마켓으로 올라서기 위해 국내 경쟁력 강화와 글로벌 확장이라는 두 축의 중장기 전략을 추진하겠다”고 밝혔다. 국내와 해외 시장을 잇는 플랫폼이란 의미에서 ‘G-마켓=글로벌-로컬 마켓’이란 캐치프레이즈를 선보였다.G마켓의 신규 전략은 해외 확장에 방점이 찍혔다. 알리바바가 보유한 글로벌 유통망을 기반으로 셀러(판매자)가 해외에 진출하도록 돕는다. 지난달 JV가 공정거래위원회의 승인을 받은 후 G마켓은 셀러들이 알리바바 계열 동남아 지역 플랫폼인 ‘라자다’를 통해 싱가포르, 베트남 등 5개국에서 상품을 판매할 수 있도록 연동했다. G마켓은 2027년까지 북미, 중남미, 중동에 진출하고, 5년 내 진출국은 200여곳으로 늘리겠다고 했다. 커진 한국산 상품과 콘텐츠에 대한 해외 수요를 G마켓이 ‘온라인 수출 창구’로 흡수하겠다는 의미다. 21일 서울 강남구 코엑스에서 열린 G마켓 미디어데이 행사에서 회사 측 관계자들이 질문에 답하고 있다. 연합뉴스우수한 셀러를 확보하고 육성하는 게 핵심이라고 보고 연간 5000억원 규모의 셀러 지원책도 내놨다. 이 중 3500억원이 기존 입점 셀러의 판촉과 매출 확대를 위해 쓰인다. 대형 행사를 진행할 때 고객 할인 비용을 G마켓이 100% 부담하고, 할인쿠폰에 붙던 별도 수수료도 폐지해 연간 500억원의 셀러 부담금을 줄인다. 신규 셀러 대상으론 일정 기간 수수료를 받지 않기로 했다.소비자 대상 혜택에도 연간 1000억원 이상을 투입한다. 정기 할인 행사 ‘빅스마일 데이’에 고객 지원 규모를 50% 늘리고, 알리바바가 보유한 유통망 등을 활용해 100만개의 상품을 확보한다. 인공지능(AI) 활용에 연 1000억원도 투자한다.G마켓은 알리익스프레스와 시너지를 감안해 JV 전체의 연간 거래액을 2030년까지 40조원으로 키우겠다는 목표도 밝혔다.다만 쿠팡과 네이버에 뺏긴 시장 점유율을 다시 찾아올 구체적 방안은 제시되지 않았다. 장 대표는 “주요 과제는 G마켓과 옥션의 업그레이드에 있고 셀러의 매출과 수익 증대가 더 중요하다”고 했다.G마켓이 합작법인으로 편입되며 고객 정보의 해외 유출 우려가 커진 데 대해 김정우 G마켓 PX본부장은 “고객 정보는 G마켓이 단독 관리하며 AI 학습을 위한 데이터도 독립된 클라우드에 보관하기에 걱정하지 않아도 된다”고 했다. 박은서 기자 Copyright ⓒ 서울신문. All rights reserved. 무단전재, 재배포, AI 학습 및 활용 금지. 이 기사는 언론사에서 경제 섹션으로 분류했습니다. 기사 섹션 분류 안내 기사의 섹션 정보는 해당 언론사의 분류를 따르고 있습니다. 언론사는 개별 기사를 2개 이상 섹션으로 중복 분류할 수 있습니다. 닫기 기자 프로필 박은서 기자 박은서 기자 서울신문 TALK 유익하고 소중한 제보를 기다려요! 제보 닫기 구독 구독중 ‘양 줄여 꼼수 인상’ 논란…교촌치킨, 순살 메뉴 중량 되돌리기로 음식값 올린 뒤 할인?…배민 할인 행사에 ‘가격 부풀리기’ 논란 구독 서울신문 구독하고 메인에서 바로 만나보세요!구독하고 메인에서 만나보세요! 구독중 서울신문 구독하고 메인에서 바로 만나보세요!구독하고 메인에서 만나보세요! 언론사홈 서울신문 주요뉴스해당 언론사에서 선정하며 언론사(아웃링크)로 이동합니다. 바다, 생활고 고백…\"집 현관 보고 화장실이냐고\" 요즘 뜨는 '이 배우' 누구 닮았다했더니…원빈의 조카였다 \"뻑가, 과즙세연에 1000만원 지급해야\" 손배소 1심 판결 \"상상도 못한 금액\"…곽튜브 결혼식 축의금 1위 '이사람' 권민아 \"친언니 유방암에 머리 다 빠져…술파티 절대 열지 말았어야\" 대한매일상회에서 최저가 구매로 후원까지!!! QR 코드를 클릭하면 크게 볼 수 있어요. QR을 촬영해보세요. 대한매일상회에서 최저가 구매로 후원까지!!! 닫기 서울신문 사이트에서 더 많은 기사 확인하기 QR 코드를 클릭하면 크게 볼 수 있어요. QR을 촬영해보세요. 서울신문 사이트에서 더 많은 기사 확인하기 닫기 서울신문 언론사가 직접 선정한 이슈 이슈 이재명 정부 이 대통령 말레이시아 도착…‘실용외교’ 슈퍼위크 개막 이슈 공포의 캄보디아 ‘캄보디아 불법 광고’ 삭제는 누가?…심의할 방미심위 위원이 없다 이슈 트럼프 2기 시대 트럼프, 벌써 ‘여자 아베’에 빠졌나…“내 친구의 친구!” 화기애애 이슈 3대 특검 ‘검찰 관봉권 폐기·쿠팡 불기소’, 상설특검에서 수사한다 이전 다음 이 기사를 추천합니다 기사 추천은 24시간 내 50회까지 참여할 수 있습니다. 닫기 기자 구독 후 기사보기 구독 없이 계속 보기 \n",
            "\n",
            "---\n",
            "\n",
            " URL: https://n.news.naver.com/mnews/article/648/0000040904?sid=101\n",
            "기사 내용: 있습니다. 닫기 기자 프로필 정혜인 기자 정혜인 기자 비즈워치 TALK 응원의 한마디! 힘이 됩니다! 구독 구독중 매물로 나온 SK스토아…18년 만의 '빅딜' 될까 이대론 안 된다…'절박한' 코오롱FnC, 아웃도어로 승부수 구독 비즈워치 구독하고 메인에서 바로 만나보세요!구독하고 메인에서 만나보세요! 구독중 비즈워치 구독하고 메인에서 바로 만나보세요!구독하고 메인에서 만나보세요! 언론사홈 비즈워치 주요뉴스해당 언론사에서 선정하며 언론사(아웃링크)로 이동합니다. '반도체 왕좌' 재탈환한 삼성…이재용 부활 신호탄 같은 라면 아니다?…'봉지'와 '컵'에 숨은 비밀 [단독]삼양식품, '우지라면' 명예 회복…'삼양라면1963' 출시 라면에 국산 원재료 5%뿐?…\"어쩔 수가 없다\" 냉장고와 김치냉장고, 같지만 다른 이유 '돈'걱정 덜어내고 싶다면? [돈워리 유튜브] QR 코드를 클릭하면 크게 볼 수 있어요. QR을 촬영해보세요. '돈'걱정 덜어내고 싶다면? [돈워리 유튜브] 닫기 힐링여행하고 경품도 받으려면? [산수유람 참여하기] QR 코드를 클릭하면 크게 볼 수 있어요. QR을 촬영해보세요. 힐링여행하고 경품도 받으려면? [산수유람 참여하기] 닫기 비즈워치 언론사가 직접 선정한 이슈 이슈 2025 산업 동향 잘 나가고 있는데…K유통, '캄보디아 리스크' 어쩌나 이슈 '서학개미'는 오늘도 김치프리미엄 없는 'SOL 국제금', 일주만에 540억 순매수 이슈 이재명 정부의 시작 이 대통령 \"부동산 언젠간 터진다…폭탄 돌리는 것\" 이슈 인공지능전환(AX) 시대 AI 정예팀 누가될까? 설왕설래 이슈 2025 세제개편안 금융사들이 '왜' 교육세를 낼까? 이전 다음 이 기사를 추천합니다 기사 추천은 24시간 내 50회까지 참여할 수 있습니다. 닫기 기자 구독 후 기사보기 구독 없이 계속 보기 \n",
            "\n",
            "---\n",
            "\n",
            " URL: https://n.news.naver.com/mnews/article/003/0013549971?sid=105\n",
            "기사 내용: 무게로 설계돼 사용자에게 한층 더 편안한 사용 경험을 선사한다. 헤드셋 프레임은 이마와 머리 뒤쪽의 압력을 고르게 분산시켜 장시간 사용에 따른 피로감을 최소화하고 안정적인 착용감을 제공한다.탈부착에 따라 외부 빛을 차단할 수 있는 '외부광 차단 패드'는 사용자의 편의에 맞춰 완벽한 몰입 경험을 제공하며, 저시력 사용자는 도수형 인서트 렌즈를 맞춤 제작해 '갤럭시 XR'에 자석처럼 부착해 사용할 수 있다. 전국 다비치 안경 매장에서 자신에게 적합한 도수 검사를 진행하고 주문을 하면, 글로벌 안경렌즈 전문 기업 '에실로'가 제작한 렌즈를 수령할 수 있다. 가격은 도수에 관계 없이 14만원이다.또 갤럭시 XR은 정밀한 센서·카메라·마이크와 '퀄컴 스냅드래곤® XR2+ Gen 2 플랫폼' 칩셋 등 고성능 하드웨어가 탑재돼 사용자의 머리, 손, 눈의 움직임과 음성을 정확히 인식해 사용자와 기기의 자연스러운 상호작용을 구현한다.구글 지도에서는 '제미나이'와 함께 원하는 장소로 순간 이동하는 경험이 가능하고, '몰입형 3D 지도'를 통해 실제 해당 위치에 있는 듯한 생생한 공간감을 경험할 수 있다. '구글 포토' 앱으로는 기존 2D 사진과 영상을 입체감 있는 3D로 즐길 수 있다.눈 앞의 현실 장면이 그대로 보이는 '패스 스루(Pass Through)' 상태에서는 '서클 투 서치'를 활용해 눈 앞에 있는 사물에 대한 정보를 즉시 검색할 수 있다.XR 전용 게임과 안드로이드 기반 게임을 '제미나이'에게 실시간 코칭을 받으며 즐길 수 있고 '어도비 펄사' 프로그램을 활용해 3D 영상 제작도 가능하다. 삼성전자는 더 많은 소비자들이 XR의 가치를 느낄 수 있도록 다양한 파트너사와 협력을 강화해 어도비, MLB, NBA, Calm, 어메이즈 VR 등 글로벌 주요 서비스와 연계한 XR 콘텐츠를 제공한다. 국내에서는 네이버 스트리밍 플랫폼 '치지직'에서도 XR 전용 콘텐츠를 선보일 계획이다. 삼성전자는 새로운 AI 경험을 제공하는 헤드셋 형태의 모바일 기기 '갤럭시 XR(Galaxy XR)'을 22일 국내 출시한다고 밝혔다. 사진은 갤럭시 XR을 통해 구글 지도에서 '제미나이'와 함께 원하는 장소로 이동하는 기능의 모습. (사진=삼성전자 제공) *재판매 및 DB 금지한국과 미국에서 22일 출시…출시가 269만원 \n",
            "\n",
            "---\n",
            "\n",
            " URL: https://n.news.naver.com/mnews/article/277/0005662038?sid=101\n",
            "기사 내용: 메인에서 만나보세요! 언론사홈 아시아경제 주요뉴스해당 언론사에서 선정하며 언론사(아웃링크)로 이동합니다. \"이러다 다 죽어\"…'990원 소금빵' 닮은 꼴 '470원 바게트' 터졌다 잠들기 전 '나 지금 얼마있지?' 은행 잔고 확인…10명 중 7명 밤새 돈 걱정 \"여학생 폭행하고 옷까지 벗겨\"…학폭 영상 쏟아지는 中, 日 언론도 집중조명 벌써 4000명 넘게 감염 난리났다…한국인 많이 가는 日·대만 '독감 주의보' \"엄마랑 삼촌이랑 결혼하면 어떨거 같아?\" 김나영 재혼 결심한 이유 2026년 사주·운세·토정비결·궁합 확인! QR 코드를 클릭하면 크게 볼 수 있어요. QR을 촬영해보세요. 2026년 사주·운세·토정비결·궁합 확인! 닫기 하루 3분, 퀴즈 풀고 시사 만렙 달성하기! QR 코드를 클릭하면 크게 볼 수 있어요. QR을 촬영해보세요. 하루 3분, 퀴즈 풀고 시사 만렙 달성하기! 닫기 아시아경제 언론사가 직접 선정한 이슈 이슈 10·15부동산대책 서울 아파트 거래량 대책 발표 후 5일간 45%↓…막차 행렬, 신고가 행진 이슈 윤석열·김건희 특검 '슬리퍼 차림' 김건희, 휴관일에 경호원들과 경회루 갔다…그 옆사람 누군가 보니 이슈 이재명 정부 국민 납치하는 보이스피싱…李대통령 \"대책 더 강경, 강력하게\" 이슈 트럼프 2.0 시대 미·러 외교수장 통화…트럼프·푸틴 회담 준비 논의 이슈 불황 한파 생존기 '6만원짜리 밥' 때문에 홀수 축의금 공식은 끝났다…\"5만원 내기 눈치 보여요\" 이전 다음 이 기사를 추천합니다 기사 추천은 24시간 내 50회까지 참여할 수 있습니다. 닫기 기자 구독 후 기사보기 구독 없이 계속 보기 \n",
            "\n",
            "---\n",
            "\n",
            " URL: https://n.news.naver.com/mnews/article/003/0013549971?sid=105\n",
            "기사 내용: 삼성·구글·퀄컴의 '갤럭시 XR' 베일 벗었다…출시가 269만원 윤현성 기자 윤현성 기자 윤현성 기자 구독 입력 2025.10.22. 오전 11:00 수정 2025.10.22. 오전 11:09 기사원문 추천 멀티모달 AI 특화로 구글 제미나이 등과 다양한 방식으로 소통안드로이드 XR 최초 탑재…삼성 폰에서 쓰던 기능 XR로도 구현MLB·NBA 등 주요 글로벌 콘텐츠와 연계…한국·미국에서만 출시 삼성전자는 새로운 AI 경험을 제공하는 헤드셋 형태의 모바일 기기 '갤럭시 XR(Galaxy XR)'을 22일 국내 출시한다고 밝혔다. (사진=삼성전자 제공) *재판매 및 DB 금지[서울=뉴시스]윤현성 기자 = 삼성전자가 구글, 퀄컴과 합작해 개발한 XR(확장현실) 헤드셋이 베일을 벗었다. 지난 2023년 2월 갤럭시 언팩 행사에서 이들 3사가 XR 동맹을 깜짝 발표한 지 약 2년 8개월 만에 결실을 맺었다.삼성전자는 새로운 AI 경험을 제공하는 헤드셋 형태의 모바일 기기 '갤럭시 XR(Galaxy XR)'을 22일 국내 출시한다고 밝혔다. 갤럭시 XR은 삼성전자와 구글, 퀄컴이 공동 개발한 '안드로이드 XR' 플랫폼을 최초로 탑재한 제품이다.사용자는 갤럭시 XR을 통해 물리적 제한없이 확장된 3차원의 공간에서 음성, 시선, 제스처 등으로 콘텐츠와 자연스럽고 직관적인 상호작용을 할 수 있다. 특히 '멀티모달 AI'에 최적화된 새로운 폼팩터인 갤럭시 XR은 사용자에게 더욱 깊이있는 몰입형 경험을 선사하고, 정보를 탐색하거나 엔터테인먼트를 감상하는데 있어 새로운 방식을 제안한다.삼성전자 MX사업부 COO 최원준 사장은 \"갤럭시 XR은 새로운 모바일 생태계를 구축할 것\"이라며 \"안드로이드 XR을 기반으로 갤럭시 XR은 모바일 AI 비전을 무한한 가능성의 영역으로 한층 끌어올리며, 업계와 사용자 모두에게 일상의 기기로 거듭날 것\"이라는 포부를 밝혔다.멀티모달 AI 가능성 확장…구글 제미나이와 음성·시선·제스처로 소통삼성전자는 갤럭시 XR을 통해 멀티모달 AI의 가능성을 확장한다는 계획이다. 멀티모달 AI는 텍스트, 이미지뿐만 아니라 음성, 영상 등 다양한 유형의 정보를 동시에 이해하고 처리하는 기술로 사용자와 기기간에 자연스러운 소통을 가능하게 한다.갤럭시 XR은 제품 개발 단계부터 멀티모달 AI에 최적화된 플랫폼으로 설계됐다. 이를 통해 사용자는 음성·시선·제스처 기반의 자연스럽고 직관적인 상호작용을 통해 멀티모달 AI가 제공하는 새로운 차원의 혁신을 경험할 수 있다.또 구글 '제미나이'와 대화에 특화된 '제미나이 라이브'가 탑재돼 사용자가 보는 것과 듣는 것을 같이 인식하며, 주변 환경을 이해하고 맥락을 파악해 매끄러운 작업 수행을 지원한다.예를 들어 사용자는 제미나이에게 음성으로 유튜브에서 원하는 영상 콘텐츠를 찾아 달라고 한 뒤 시선을 움직여 검색된 결과물을 선택하고 손가락을 맞닿게 하는 제스처로 실행할 수 있다. 스포츠를 시청할 때는 마치 경기장에서 보는것과 같은 생생한 현장감과 함께 여러 경기를 동시에 시청할 수도 있다.삼성전자는 B2B 분야에서도 다른 업종과 기업용 XR 협업을 통해 멀티모달 AI의 가능성을 확장해 나갈 계획이다. 삼성전자는 새로운 AI 경험을 제공하는 헤드셋 형태의 모바일 기기 '갤럭시 XR(Galaxy XR)'을 22일 국내 출시한다고 밝혔다. 사진은 삼성전자 모델들이 갤럭시 XR을 착용하고 있는 모습. (사진=삼성전자 제공) *재판매 및 DB 금지구글·퀄컴과 개발한 '안드로이드 XR' 탑재…스마트폰 기능 XR헤드셋에서도 구현삼성전자, 구글, 퀄컴이 공동 개발한 안드로이드 XR은 AI를 기반으로 헤드셋부터 AR 글라스 등 다양한 폼팩터로 확장 가능한 개방형 플랫폼이다.안드로이드 XR은 안드로이드 기반의 앱을 지원해, 구글 지도·포토·유튜브 XR 등 구글의 기본 서비스는 물론 기존 스마트폰에서 사용하던 기능들도 갤럭시 XR에서 구현된다.사미르 사맛 구글 안드로이드 생태계 부문 사장은 \"안드로이드 XR은 제미나이 시대를 위한 완전히 새로운 안드로이드 플랫이다. 갤럭시 XR을 통해 큰 도약을 이루게 돼 매우 기쁘다\"며 \"안드로이드 XR은 탐색, 연결, 창작의 완전히 새로운 방식을 통해 차세대 컴퓨팅 진화를 위한 개방적이고 통합된 플랫폼을 구축할 것\"이라고 전했다.알렉스 카투지안 퀄컴 모바일·컴퓨트·XR(MCX) 본부장은 \"갤럭시 XR은 AI와 XR의 시너지를 통해 개인 컴퓨팅의 가능성을 확장하고자 하는 우리의 미래 비전을 구현한 제품\"이라며 \"다양한 산업 분야에 걸쳐 새로운 활용 사례를 창출하고, 삼성, 구글과의 협력을 통해 구현되는 멀티 디바이스 경험의 새로운 시대를 여는데 중요한 역할을 할 것이다. 이번 프로젝트를 위해 삼성과 협력하게 돼 자부심을 느낀다\"고 말했다.인체공학적 디자인에 무게는 545g…네이버·어도비·MLB·NBA 등과 연계한 콘텐츠 제공갤럭시 XR은 균형 잡힌 인체공학적 디자인과 545g의 무게로 설계돼 사용자에게 한층 더 편안한 사용 경험을 선사한다. 헤드셋 프레임은 이마와 머리 뒤쪽의 압력을 고르게 분산시켜 장시간 사용에 따른 피로감을 최소화하고 안정적인 착용감을 제공한다.탈부착에 따라 외부 빛을 차단할 수 있는 '외부광 차단 패드'는 사용자의 편의에 맞춰 완벽한 몰입 경험을 제공하며, 저시력 사용자는 도수형 인서트 렌즈를 맞춤 제작해 '갤럭시 XR'에 자석처럼 부착해 사용할 수 있다. 전국 다비치 안경 매장에서 자신에게 적합한 도수 검사를 진행하고 주문을 하면, 글로벌 안경렌즈 전문 기업 '에실로'가 제작한 렌즈를 수령할 수 있다. 가격은 도수에 관계 없이 14만원이다.또 갤럭시 XR은 정밀한 센서·카메라·마이크와 '퀄컴 스냅드래곤® XR2+ Gen 2 플랫폼' 칩셋 등 고성능 하드웨어가 탑재돼 사용자의 머리, 손, 눈의 움직임과 음성을 정확히 인식해 사용자와 기기의 자연스러운 상호작용을 구현한다.구글 지도에서는 '제미나이'와 함께 원하는 장소로 순간 이동하는 경험이 가능하고, '몰입형 3D 지도'를 통해 실제 해당 위치에 있는 듯한 생생한 공간감을 경험할 수 있다. '구글 포토' 앱으로는 기존 2D 사진과 영상을 입체감 있는 3D로 \n",
            "\n",
            "---\n",
            "\n",
            " URL: https://n.news.naver.com/mnews/article/421/0008562285?sid=102\n",
            "기사 내용: 언론사홈 뉴스1 주요뉴스해당 언론사에서 선정하며 언론사(아웃링크)로 이동합니다. \"제 남편에게 단둘이 술 먹자는 친여동생…선 넘은 거 맞죠?\" 휴대전화에 아내 '통통이'로 저장했다고 이혼 소송 개에 물려 견주에 소리치자…남편 \"네 잘못이 크다\" \"남편 회사에 20대 입사…너무 예뻐 짝사랑할까 걱정\" \"선생님 월급은 우리 엄마 세금\"…치킨 요구한 초등생 K팝·K트롯 팬들의 놀이터, 스타1픽 QR 코드를 클릭하면 크게 볼 수 있어요. QR을 촬영해보세요. K팝·K트롯 팬들의 놀이터, 스타1픽 닫기 세상에 이런 일이...[사건의 재구성] QR 코드를 클릭하면 크게 볼 수 있어요. QR을 촬영해보세요. 세상에 이런 일이...[사건의 재구성] 닫기 뉴스1 언론사가 직접 선정한 이슈 이슈 트럼프 관세전쟁 美 관세에 자동차·타이어 손실 현실화…APEC에 쏠리는 눈 이슈 공포의 캄보디아 캄보디아서 감금됐다 구조됐는데…또 보이스피싱 가담한 조직원 이슈 이재명 정부 美 \"트럼프 29일 방한해 이재명과 회담…1박 뒤 시진핑 만나\"(종합) 이슈 중동 전쟁 트럼프 \"이스라엘, 서안지구 병합하면 美 지지 잃을 것\" 이슈 총성 없는 'AI 전쟁' \"AI 비서가 직원처럼? 10년은 일러\"…오픈AI 공동창업자의 찬물 이전 다음 이 기사를 추천합니다 기사 추천은 24시간 내 50회까지 참여할 수 있습니다. 닫기 기자 구독 후 기사보기 구독 없이 계속 보기 \n",
            "\n",
            "---\n",
            "\n",
            " URL: https://n.news.naver.com/mnews/article/025/0003477516?sid=105\n",
            "기사 내용: 구글이 본격 ‘양자 시대’ 여나…양자컴 검증할 알고리즘 구현 김남영 기자 김남영 기자 김남영 기자 구독 입력 2025.10.24. 오전 12:01 수정 2025.10.24. 오전 12:02 기사원문 추천 순다르 피차이 구글 CEO가 구글 퀀텀 AI 캠퍼스 양자컴 옆에 서 있다. [사진 구글] 구글이 세계 최초로 양자컴퓨터(양자컴)의 성능을 객관적으로 검증할 수 있는 알고리즘을 구현했다. 구글은 자체 개발한 양자 칩 ‘윌로우’를 이용해 구현한 알고리즘 ‘퀀텀 에코스’(Quantum Echoes)를 학술지 네이처에 22일(현지시간) 게재했다고 밝혔다. 양자컴은 양자역학을 활용해 연산 속도를 획기적으로 끌어올린 신개념 컴퓨터다. 퀀텀 에코스는 양자 칩 안에 신호를 넣고, 되돌아오는 ‘메아리’를 관찰한다. 즉, 양자컴이 한 계산을 ‘검산’할 수 있게 됐다는 이야기다. 구글은 퀀텀 에코스가 세계 최고 성능의 수퍼컴 알고리즘의 연산 속도보다 1만3000배 빠르다고 설명한다. 현 시점 가장 빠른 수퍼컴퓨터로도 10셉틸리언(10의 25제곱·septillion)년이 걸리는 계산을 5분 이내에 수행할 수 있다는 것이다. 이번 구글 발표는 올해 노벨 물리학상 수상으로 이어진 양자컴 기본 단위 ‘초전도 큐비트’ 기술 연구에 뿌리를 두고 있다. 이 분야의 세계적 석학이자 구글 퀀텀 인공지능(AI) 수석 과학자 미셸 드보레는 윌로우 양자 칩을 포함한 구글의 통합적인 양자 컴퓨팅 접근법 개발에 핵심 역할을 수행해왔다. 양자컴 상용화에도 속도가 붙게 됐다. 그동안은 양자컴이 기존의 수퍼컴보다 계산이 빠르다는 것은 알지만, 내놓은 결과 값이나 계산 과정이 정확한지 확인할 방법이 없었다. 퀀텀 에코스 알고리즘으로 양자컴 성능을 객관적으로 검증할 수 있는 문이 마련된 것이다. 양자컴의 뇌라고 할 수 있는 QPU(양자처리장치)를 만들고 있는 스타트업 오큐티의 김동규 대표(KAIST 물리학과 교수)는 “이번 연구는 구글이 양자컴으로 분자의 원자 간 거리 등을 정량적으로 정확히 읽어냈다는 데 의의가 있다. 다만 현재는 소규모 분자 분석에 실용적인 수준이고, 향후 대형 분자 시스템을 분석하려면 논리 큐비트 기반의 접근이 필요할 것”이라고 설명했다. 양자컴은 0과 1 상태가 동시에 존재하는 ‘큐비트’를 정보 단위로 쓴다. 물리 큐비트는 일반적으로 언급되는 큐비트, 논리 큐비트는 실제 양자 알고리즘을 실행하기 위해 여러 개의 물리 큐비트를 묶은 것을 의미한다. 구글 측은 “양자컴은 원자와 입자의 상호작용, 분자의 구조와 같은 양자역학적 현상을 모델링하는 데 중요한 역할을 할 것”이라며 “분자의 모양과 움직임을 모델링하는 것은 화학·생물학·재료과학의 기초이자 생명공학부터 태양에너지, 핵융합까지 다양한 분야 발전의 밑바탕이 된다”고 설명했다. 김남영 기자 kim.namyoung3@joongang.co.kr Copyright ⓒ 중앙일보. All rights reserved. 무단 전재 및 재배포 금지. 이 기사는 언론사에서 IT 섹션으로 분류했습니다. 기사 섹션 분류 안내 기사의 섹션 정보는 해당 언론사의 분류를 따르고 있습니다. 언론사는 개별 기사를 2개 이상 섹션으로 중복 분류할 수 있습니다. 닫기 기자 프로필 김남영 기자 김남영 기자 중앙일보 구독 구독중 [팩플] “이거 답 맞아?” 구글, 양자컴 검증 알고리즘 만들었다 엔비디아도 뛰어들었다…휴머노이드 전략무기 된 '오픈소스' [실험실 밖 휴머노이드] 구독 중앙일보 구독하고 메인에서 바로 만나보세요!구독하고 메인에서 만나보세요! 구독중 중앙일보 구독하고 메인에서 바로 만나보세요!구독하고 메인에서 만나보세요! 언론사홈 중앙일보 주요뉴스해당 언론사에서 선정하며 언론사(아웃링크)로 이동합니다. \"尹 인수위 두 개였다\" 배신당한 안철수의 폭로 강남 규제 찍어봤자…집 사려면 '이 아파트' 노려라 \"尹은 말야!\" 폭탄주 먹던 김건희, 의미심장 발언 강남 건물 20초만에 무너졌다…탐욕이 부른 충격 재난 친딸 277회 성폭행…그렇게 낳은 손녀도 충격 성폭행 AI로 1분만에 보는 중앙일보 '1min(원미닛)' QR 코드를 클릭하면 크게 볼 수 있어요. QR을 촬영해보세요. AI로 1분만에 보는 중앙일보 '1min(원미닛)' 닫기 '바스키아 특별전' 30% 할인 받고, 구독 혜택까지! QR 코드를 클릭하면 크게 볼 수 있어요. QR을 촬영해보세요. '바스키아 특별전' 30% 할인 받고, 구독 혜택까지! 닫기 중앙일보 언론사가 직접 선정한 이슈 이슈 3대 특검 \"尹 실명 위험, 글자 크기 16도 못읽어\"…내란재판 16차례 불출석 이슈 트럼프발 관세전쟁 관세 비판 광고 냈다고…트럼프 \"캐나다 무역협상 즉각 종료\" 이슈 2025 국감 경찰 \"민중기 특검 주식 의혹 수사 중\"…서울청 국감 이진숙 체포 공방 이슈 캄보디아판 범죄도시 캄보디아 韓대학생 사망 1년 전…정부 '감금 위험' 보고 받았다 이전 다음 이 기사를 추천합니다 기사 추천은 24시간 내 50회까지 참여할 수 있습니다. 닫기 기자 구독 후 기사보기 구독 없이 계속 보기 \n",
            "\n",
            "---\n",
            "\n",
            " URL: https://n.news.naver.com/mnews/article/009/0005579181?sid=105\n",
            "기사 내용: 지원 급증...\"의대말고 공대 가고싶다\" '김밥천국'에 몰려온 8만명 인파…인구 13만명 소도시 김천에 무슨 일 아름다운 패자 삼성의 빛났던 가을야구 11경기 매경 회원전용 콘텐츠 'MK위클리연재'에서 확인하세요 QR 코드를 클릭하면 크게 볼 수 있어요. QR을 촬영해보세요. 매경 회원전용 콘텐츠 'MK위클리연재'에서 확인하세요 닫기 현명한 부의 이전을 위한 자산관리 노하우 QR 코드를 클릭하면 크게 볼 수 있어요. QR을 촬영해보세요. 현명한 부의 이전을 위한 자산관리 노하우 닫기 매일경제 언론사가 직접 선정한 이슈 이슈 관세전쟁 트럼프 “한미협상, 타결에 매우 가까워…한국 준비되면 나도 준비돼” 이슈 연이은 해킹 사태 김영섭 KT 대표 “해킹 피해 고객 위약금 면제”...전체 대상은 검토 이슈 이재명 시대 개막 예상 뛰어넘는 예산, 방산에 쏟는다…자주국방 외친 이재명의 청사진 이슈 이스라엘·이란 전쟁 네타냐후 이스라엘 총리, 내년 선거에 재도전 발표 이슈 의대증원 갈등 정부 “보건의료 ‘심각’ 단계 20일 해제…의정갈등 불편 사과” 이전 다음 이 기사를 추천합니다 기사 추천은 24시간 내 50회까지 참여할 수 있습니다. 닫기 기자 구독 후 기사보기 구독 없이 계속 보기\n"
          ]
        }
      ],
      "source": [
        "print(format_docs(ensemble_retriever.invoke(\"\")))"
      ]
    },
    {
      "cell_type": "code",
      "execution_count": 24,
      "metadata": {
        "id": "nV9-CYSzBPig",
        "colab": {
          "base_uri": "https://localhost:8080/",
          "height": 146
        },
        "outputId": "fdac3a2c-3f8c-432d-aff6-9f16c02fa3fc"
      },
      "outputs": [
        {
          "output_type": "execute_result",
          "data": {
            "text/plain": [
              "'xAI의 언어 모델 \\'그록(Grok)\\'은 다음과 같은 특징을 가지고 있습니다.\\n\\n*   **본질적 맥락 이해**: 엑스(X)에 올라온 포스팅의 맥락이나 추가 정보를 확인하고, 코멘트 기능을 통해 궁금한 점을 즉시 확인할 수 있습니다.\\n*   **이미지 및 영상 변환**: 생성형 AI \\'그록 이미진\\'을 통해 텍스트 프롬프트와 이미지를 고퀄리티 영상으로 변환할 수 있습니다.\\n*   **실시간 사용자 데이터 활용**: 엑스의 실시간 사용자 데이터를 활용하여 학습과 성능 향상을 강화하고 있습니다.\\n*   **문제적 발언**: 올해 초 스스로를 \"메카 히틀러\"라고 칭하거나, 허위 주장을 하는 등 논란에 휘말리기도 했습니다.\\n*   **미국 정부 공급**: 미국 정부에 기관당 0.42달러에 공급 계약을 체결했습니다. 이 계약에는 그록4와 그록4 패스트 접근 권한이 포함됩니다.'"
            ],
            "application/vnd.google.colaboratory.intrinsic+json": {
              "type": "string"
            }
          },
          "metadata": {},
          "execution_count": 24
        }
      ],
      "source": [
        "rag_chain.invoke(\"XAI의 언어 모델 그록에 대해 설명해 주세요.\")"
      ]
    },
    {
      "cell_type": "code",
      "execution_count": 25,
      "metadata": {
        "id": "0j9J2CpsBPig",
        "colab": {
          "base_uri": "https://localhost:8080/",
          "height": 219
        },
        "outputId": "e5213151-f0cf-4ddc-8ad0-93f0fd247564"
      },
      "outputs": [
        {
          "output_type": "execute_result",
          "data": {
            "text/plain": [
              "\"OpenAI는 최근 다음과 같은 기술 발전 성과를 보였습니다.\\n\\n*   **상시 학습형 AI 모델 운영:** 기존의 사전 훈련 방식에서 벗어나 사용자 피드백과 실시간 연산을 통해 모델이 끊임없이 스스로 개선되는 형태의 AI 모델을 운영하고 있습니다. 이는 '테스트 타임 컴퓨트' 개념을 본격화한 것으로, AI가 응답 단계에서도 추가 연산을 수행하며 스스로 성능을 개선합니다. (출처: [https://n.news.naver.com/mnews/article/009/0005579181?sid=105](https://n.news.naver.com/mnews/article/009/0005579181?sid=105))\\n*   **맥(Mac) 컴퓨터용 AI 인터페이스 개발 스타트업 인수:** 애플 맥 데스크톱 컴퓨터용 AI 기반 인터페이스를 개발한 스타트업 '소프트웨어 애플리케이션스'를 인수했습니다. 이 스타트업이 개발한 '스카이'는 사용자가 글쓰기, 계획 수립, 코딩, 업무 관리 등 어떤 작업을 하든 AI가 함께 작동하도록 해줍니다. (출처: [https://n.news.naver.com/mnews/article/001/0015698047?sid=104](https://n.news.naver.com/mnews/article/001/0015698047?sid=104))\\n*   **AI 챗봇(큐원) 공개:** AI 학습 모델 큐원3 기반의 AI 챗봇을 공개하여 챗GPT에 도전장을 내밀었습니다. (출처: [https://n.news.naver.com/mnews/article/011/0004547477?sid=104](https://n.news.naver.com/mnews/article/011/0004547477?sid=104))\""
            ],
            "application/vnd.google.colaboratory.intrinsic+json": {
              "type": "string"
            }
          },
          "metadata": {},
          "execution_count": 25
        }
      ],
      "source": [
        "rag_chain.invoke(\"OpenAI의 최근 기술 발전 성과는? 관련 링크도 보여주세요\")"
      ]
    },
    {
      "cell_type": "code",
      "execution_count": 26,
      "metadata": {
        "id": "fhgi0WUEzxvF",
        "colab": {
          "base_uri": "https://localhost:8080/",
          "height": 35
        },
        "outputId": "60582f57-c267-4265-d3ec-098403ece529"
      },
      "outputs": [
        {
          "output_type": "execute_result",
          "data": {
            "text/plain": [
              "\"알리바바의 언어 모델 이름은 '큐원(Qwen)'입니다.\""
            ],
            "application/vnd.google.colaboratory.intrinsic+json": {
              "type": "string"
            }
          },
          "metadata": {},
          "execution_count": 26
        }
      ],
      "source": [
        "rag_chain.invoke(\"알리바바의 언어 모델 이름은?\")"
      ]
    },
    {
      "cell_type": "markdown",
      "metadata": {
        "id": "8br1RVEwkVC4"
      },
      "source": [
        "만약 Context가 포함된 RAG 결과를 보고 싶다면, RunnableParallel을 사용하면 됩니다."
      ]
    },
    {
      "cell_type": "markdown",
      "metadata": {
        "id": "37hTqiCOzxvF"
      },
      "source": [
        "assign()을 이용하면, 체인의 결과를 받아 새로운 체인에 전달하고, 그 결과를 가져옵니다."
      ]
    },
    {
      "cell_type": "code",
      "execution_count": 27,
      "metadata": {
        "id": "8lirfP5Q-HyX",
        "colab": {
          "base_uri": "https://localhost:8080/"
        },
        "outputId": "bbe65158-9adb-44cd-942d-e0eea17314ee"
      },
      "outputs": [
        {
          "output_type": "execute_result",
          "data": {
            "text/plain": [
              "{'context': 'URL: https://n.news.naver.com/mnews/article/469/0000893809?sid=101\\n기사 내용: 일정 수준 이상의 답변을 제공하지 않도록 ‘가드레일’(안전판)을 단단하게 구축해 왔던 AI 업계가 최근 들어 그 장벽을 하나둘씩 낮추고 있는 건 분명한 흐름이다.일론 머스크 테슬라 CEO가 소유한 스타트업 xAI의 챗봇 ‘그록(Grok)’이 대표적 사례다. 그록은 올해 초부터 성인용 기능을 적극 선보이며 다른 AI와의 명확한 차별화를 꾀했다. 지난 2월 말 욕설과 공격적 답변이 가능한 음성 기능을 새로 출시한 데 이어, 2D 캐릭터와 연애 역할극을 하거나 성적 대화도 나눌 수 있는 성인용 챗봇 ‘그록18+’를 선보였다. 7월 출시한 이미지·영상 생성 도구 ‘그록이매진(Grok Imagine)’의 경우엔 ‘스파이시 모드(Spicy mode)’를 추가해 성인 이용자들이 누드를 비롯한 성적 암시가 있는 이미지와 영상을 생성할 수 있도록 했다. 테슬라 창업자 일론 머스크의 인공지능(AI) 스타트업 \\'xAI\\'가 내놓은 AI챗봇 그록(Grok). 연합뉴스xAI는 스파이시 모드의 안전성을 강조하고 있다. 이미지 노출 정도가 일정 수위를 넘으면 블러(모자이크) 처리를 하는 등 자동 검열을 하고 있고, 실제 인물을 묘사한 딥페이크 영상이나 미성년자 관련 콘텐츠는 철저히 금지하고 있다는 것이다. 하지만 출시 직후 “그록이매진에 ‘가수 테일러 스위프트 등 유명인의 이미지를 만들어 달라’고 입력한 결과, 상반신 노출 이미지가 임의로 생성됐다”는 언론 보도가 나오면서 ‘딥페이크 방조’ 논란이 일었다. 미국 정보기술(IT) 전문매체 ‘버지’는 “그록이매진은 연령 확인을 딱 한 번만 진행했고, 이조차도 이용자가 입력한 나이가 맞는지 제대로 확인하지 않았다”며 성인 인증 시스템의 실효성에 의문을 제기하기도 했다.인스타그램을 운영하는 메타의 ‘메타AI’ 역시 마찬가지다. 정치·사회 등 민감한 주제에 대한 답변을 제공하는 동시에, 성적 대화도 주고받을 수 있도록 허용한 것으로 알려져 있다. 미국 월스트리트저널은 지난 4월 “메타AI의 챗봇이 14세라고 밝힌 미성년 사용자에게 성적 함의가 담긴 메시지로 말을 걸었으며, 성인 이용자 또한 미성년자 역할로 설정된 챗봇과 성적 대화를 할 수 있었다”고 보도했다. 구글 인공지능(AI) 제미나이의 로고. 구글 제공다만 챗GPT·메타AI·그록을 제외한 다른 기업들은 아직까진 성인 콘텐츠에 대해 높은 제한 기준을 적용하고 있다. 구글이 운영하는 제미나이는 정책 가이드라인에 “외설적이거나 노골적인 성적 행위, 성폭력 또는 성적인 신체 부위를 선정적으로 설명·묘사하는 출력을 생성해선 안 된다\"고 명시하고 있다. 특히 미성년자를 위한 필터 모드에서는 제미나이가 스스로를 인간이라고 말하거나, 유해한 캐릭터를 활용해 역할극을 할 수 없도록 방지하고 있다. 앤트로픽이 운영하는 클로드 역시 성인용 콘텐츠를 명확히 금지하는 정책을 유지 중이다. 성적으로 부적절한 대화가 계속 시도·요청될 땐 자동 종료하는 기능도 탑재돼 있다.챗봇과 대화하던 美 10대들 죽음… \\'AI 규제법\\' 등장주목할 대목은 AI 기업들의 성인 콘텐츠 허용·시장 우위 선점 경쟁이 가속화하는 가운데, 위험 신호도 뚜렷해지고 있다는 사실이다. 최근 미국에서는 챗봇을 일상적으로 쓰는 10대 청소년들의 정신 건강 문제가 공론화하고 있다. 지난해 2월 미국 플로리다주(州)에 살던 14세 소년은 캐릭터AI의 챗봇과 성적 대화를 나누던 중, “사랑한다, 내게 와 달라”는 말을 듣고 자살했다. 올해 4월 미 캘리포니아주에서도 16세 소년이 챗GPT와 자해 및 자살 관련 대화를 나눈 뒤 숨졌다. 이 소년의 부모는 아들의 죽음에 챗GPT 책임이 크다며 오픈AI와 올트먼을 상대로 소송을 낸 상태다.잇따르는 10대 사망 사건에 캘리포니아주는 미국 내에서 처음으로 ‘AI 챗봇 이용 규제 법률’을 제정하기도 했다. 내년 1월 1일 발효되는 이 법에 따르면 AI 챗봇 운영 기업은 △플랫폼 이용자의 연령 확인 기능을 갖춰야 하고 △모든 답변이 인공적으로 생성된 것임을 명확히 표시해야 하며 △이용자의 자살 충동이나 자해 표현을 식별·대응할 수 있어야 한다. 또 챗봇이 생성한 노골적인 성적 이미지는 미성년자가 볼 수 없도록 조치해야만 한다. 챗GPT 개발사 오픈AI의 로고. 로이터 연합뉴스이처럼 청소년 정신 건강 보호를 위한 법적 기준이 엄격해지는 상황에서 공개된 ‘챗GPT의 성인용 콘텐츠 허용’ 방침은 상당한 우려를 낳고 있다. 미국 시민단체 전미성착취반대센터의 헤일리 맥나마라 이사는 오픈AI의 발표 직후 성명을 통해 “성적으로 대상화된 AI 챗봇은 본질적으로 위험하며, 가공된 친밀감으로 인해 실제 정신 건강에도 해로운 영향을 줄 수 있다“고 비판했다. 미 온라인 매체 액시오스는 “AI 콘텐츠의 표현 수위 제한을 풀겠다는 오픈AI의 움직임은 유료 구독자 수 증가에 도움이 될 순 있겠으나, 결국 사회적 문제를 야기해 규제 압박을 높일 수 있다”고 지적했다.미성년 자녀를 둔 부모들의 고민은 더 깊어졌다. 메타를 상대로 소송을 진행 중인 제니 킴 변호사는 영국 BBC방송 인터뷰에서 “연령에 따른 서비스 차등 제공이 제대로 이뤄질 것인지조차 불분명한 상황”이라며 “AI서비스가 제공하는 성애물에 대한 아동들의 접근을 도대체 어떻게 막겠다는 것인지 모르겠다”고 꼬집었다. 박지윤 기자 (luce_jyun@hankookilbo.com) Copyright ⓒ 한국일보. All rights reserved. 무단 전재 및 재배포 금지. 이 기사는 언론사에서 경제, IT, 세계 섹션으로 분류했습니다. 기사 섹션 분류 안내 기사의 섹션 정보는 해당 언론사의 분류를 따르고 있습니다. 언론사는 개별 기사를 2개 이상 섹션으로 중복 분류할 수 있습니다. 닫기 기자 프로필 박지윤 기자 박지윤 기자 한국일보 구독 구독중 美서 \\'망명\\' 운운하더니… 전한길, 日서 \\'친중 이재명\\' 피켓 시위 뒷좌석에서 잠든 차주 못 보고 주차타워 입고... 법원 \"경비원, 추락사 책임\" 구독 한국일보 구독하고 메인에서 바로 만나보세요!구독하고 메인에서 만나보세요! 구독중 한국일보 구독하고 메인에서 바로 만나보세요!구독하고 메인에서 만나보세요! 언론사홈 한국일보 주요뉴스해당 언론사에서 선정하며 \\n\\n---\\n\\n URL: https://n.news.naver.com/mnews/article/123/0002368956?sid=104\\n기사 내용: 머스크의 xAI, 美정부와 AI 계약…42센트에 챗봇 \\'그록\\' 공급 정수민 기자 정수민 기자 정수민 기자 구독 입력 2025.09.26. 오전 5:29 기사원문 추천 1년 6개월 동안 42센트…챗GPT \\'연간 1달러\\'보다 저럼 ◆…일론 머스크의 인공지능(AI) 기업 xAI가 미 연방정부와 계약을 체결했다. <사진=로이터>테슬라 최고경영자(CEO) 일론 머스크의 인공지능(AI) 기업 xAI가 미 연방정부와 계약을 체결하고 소속 연방 기관에 챗봇 \\'그록\\'을 제공하기로 했다. 25일(현지시간) 뉴욕타임스(NYT)에 따르면 미 연방조달청(GSA)은 이날 xAI와 계약을 체결해 연방 기관들이 챗봇 \\'그록(Grok)\\'을 1년 6개월 동안 총 42센트에 이용할 수 있도록 했다. 이는 오픈AI의 챗GPT 연간 사용료 1달러보다 저렴한 수준이다. 연방정부는 지난달 오픈AI의 챗GPT와 앤스로픽의 \\'클로드\\'와도 유사한 챗봇 계약을 체결한 바 있다. NYT는 이번 계약 금액에 사용된 숫자 42가 대마초 은어인 \\'420\\'과, 머스크가 좋아하는 소설 『은하수를 여행하는 히치하이커를 위한 안내서』에서 슈퍼컴퓨터가 \"삶과 우주, 모든 것의 의미\"라는 질문에 내놓은 답변 \\'42\\'와 연결된다고 짚었다. 머스크는 이날 성명을 통해 \"트럼프 대통령과 그의 팀과 계속 협력해 인공지능을 정부 전반에 신속히 도입, 국가에 도움이 되기를 기대한다\"고 밝혔다. 머스크는 트럼프 대통령이 취임한 올해 1월부터 연방정부의 비용 절감 프로젝트인 \\'정부 효율성 부서(DOGE)\\'를 주도하기도 했으나, 이후 프로젝트에서 손을 떼며 트럼프 대통령과의 불화설에 휘말리기도 했다. 이번 xAI 계약 협상은 7월부터 진행됐으며, 조달청 산하 연방조달서비스(FAS)는 머스크가 직접 협상에 참여하지는 않았다고 밝혔다. xAI는 지난 7월 미국 국방부와도 AI 계약을 체결한 바 있다. xAI는 데이터센터와 GPU 등 AI 인프라에 막대한 자본을 투입해왔으며, 블룸버그 보도에 따르면 한 달에 최대 10억 달러를 소진하는 것으로 알려졌다. 매출 규모는 추정치가 엇갈리는데, 2025년 1분기 매출이 약 5,200만 달러에 불과했다는 분석이 있는 반면, 연간 매출이 5억 달러에 이를 것이라는 전망도 있다. 그러나 공식적으로 확인된 회계 자료는 없어 실제 수익 구조는 여전히 불투명하다. 그록은 올해 초 스스로를 \"메카 히틀러\"라고 칭하거나, 머스크의 고향인 남아프리카공화국에서 백인에 대한 집단학살이 벌어지고 있다고 허위 주장하는 등 문제적 발언으로 논란에 휘말리기도 했다. 정수민 (sumin@joseilbo.com) Copyright ⓒ 조세일보. All rights reserved. 무단 전재 및 재배포 금지. 이 기사는 언론사에서 세계 섹션으로 분류했습니다. 기사 섹션 분류 안내 기사의 섹션 정보는 해당 언론사의 분류를 따르고 있습니다. 언론사는 개별 기사를 2개 이상 섹션으로 중복 분류할 수 있습니다. 닫기 기자 프로필 정수민 기자 정수민 기자 조세일보 구독 구독중 \"트럼프, 아이온큐·리게티 등 양자컴 기업 지분 인수 검토중\" 젠슨 황 “엔비디아 中 점유율 95→0%”…美수출 규제 비판 구독 조세일보 구독하고 메인에서 바로 만나보세요!구독하고 메인에서 만나보세요! 구독중 조세일보 구독하고 메인에서 바로 만나보세요!구독하고 메인에서 만나보세요! 언론사홈 조세일보 주요뉴스해당 언론사에서 선정하며 언론사(아웃링크)로 이동합니다. 코스피, 외인·기관 \\'쌍끌이 매수\\'에도 개인 \\'팔자\\'...이틀째 하락 홍준표 \"막무가내식 이재명 정권, 전두환 국보위 연상\" 두나무 품는 네이버…핀테크·가상자산 결합 시너지 기대 서울, 국제금융경쟁력 10위...핀테크는 8위로 역대최고 \"업무용도 불편해\"…카톡 새 기능에 \\'자동 업데이트 끄기\\' 확산 조세일보 홈페이지 QR 코드를 클릭하면 크게 볼 수 있어요. QR을 촬영해보세요. 조세일보 홈페이지 닫기 조세일보 네이버 뉴스스탠드 구독(종합/경제) QR 코드를 클릭하면 크게 볼 수 있어요. QR을 촬영해보세요. 조세일보 네이버 뉴스스탠드 구독(종합/경제) 닫기 이 기사를 추천합니다 기사 추천은 24시간 내 50회까지 참여할 수 있습니다. 닫기 기자 구독 후 기사보기 구독 없이 계속 보기 \\n\\n---\\n\\n URL: https://n.news.naver.com/mnews/article/001/0015650091?sid=104\\n기사 내용: 머스크의 xAI, 美 정부와 AI 공급 계약…오픈AI보다 저렴 임미나 기자 임미나 기자 임미나 기자 구독 입력 2025.09.26. 오전 3:47 수정 2025.09.26. 오전 3:48 기사원문 추천 기관당 0.42달러…오픈AI 1달러의 절반 수준 xAI \\'그록\\' 로고 [로이터 연합뉴스 자료사진. 재판매 및 DB 금지](로스앤젤레스=연합뉴스) 임미나 특파원 = 일론 머스크가 설립해 경영 중인 인공지능(AI) 스타트업 xAI가 경쟁사인 오픈AI보다 훨씬 낮은 가격을 제시하며 미국 정부의 AI 계약을 따냈다. 미 연방총무청(GSA)은 25일(현지시간) xAI와 협약을 체결해 \\'그록\\' AI 모델을 기관당 단 0.42달러에 이용할 수 있게 했다고 밝혔다. GSA는 \"이 독보적인 제공은 연방 정부의 역대 AI 계약 사상 최장 기간인 18개월간 유효해 2027년 3월까지 적용된다\"고 설명했다. 이번 계약에는 xAI의 고급 추론 모델인 그록4와 그록4 패스트(Fast) 접근 권한이 포함된다고 GSA는 덧붙였다. GSA에 따르면 머스크는 \"트럼프 대통령과 행정부 덕분에 xAI의 최첨단 AI가 이제 모든 연방 기관에 개방돼 미국 정부가 그 어느 때보다 빠르게 혁신하고 임무를 효과적으로 수행할 수 있게 됐다\"고 말했다. GSA는 지난 4월부터 \\'원거브\\'(OneGov)라는 이름으로 연방 기관의 일괄적인 AI 조달 정책을 추진해 왔다. AI 조달 절차를 간소화하고 경쟁력 있는 가격으로 최첨단 AI 모델에 접근할 수 있게 함으로써 연방 기관의 AI 도입을 가속한다는 취지다. 이에 따라 메타와 오픈AI, 앤스로픽, 구글 등 주요 기업들이 정부와 계약을 맺고 자사 제품을 공급하고 있다. 블룸버그 통신 등 미 언론은 xAI가 이번에 정부와 체결한 계약이 최대 경쟁사인 오픈AI보다 훨씬 저렴한 가격이라는 데 주목했다. 오픈AI가 기관당 1달러에 AI 서비스를 공급하는 것에 비하면 xAI의 0.42달러는 절반도 안 되는 가격이다. 저렴한 비용으로 인해 연방 기관들 사이에서 xAI 채택이 더 늘어날 가능성이 있다. 다만 일부 민주당 정치인들과 진보 성향 단체들은 정부 기관의 그록 도입에 비판적인 입장을 나타내 왔다. 이들은 그록 챗봇이 그동안 부정확한 정보와 혐오 표현, 이념적으로 편향적인 내용 등을 생성해 물의를 일으킨 점을 지적하면서 연방 정부 차원에서 이용하기에는 안전하지 않다고 주장한다. mina@yna.co.kr 임미나(mina@yna.co.kr) Copyright ⓒ 연합뉴스. All rights reserved. 무단 전재-재배포, AI 학습 및 활용 금지. 이 기사는 언론사에서 세계, IT, 경제 섹션으로 분류했습니다. 기사 섹션 분류 안내 기사의 섹션 정보는 해당 언론사의 분류를 따르고 있습니다. 언론사는 개별 기사를 2개 이상 섹션으로 중복 분류할 수 있습니다. 닫기 기자 프로필 임미나 기자 임미나 기자 연합뉴스 구독 구독중 美 LA국감서 유승준 비자문제 또 도마…김태호 \"공권력 지나쳐\" \\'우주가족 로빈슨\\' 엄마역 배우 준 록하트 별세…향년 100세 구독 연합뉴스 구독하고 메인에서 바로 만나보세요!구독하고 메인에서 만나보세요! 구독중 연합뉴스 구독하고 메인에서 바로 만나보세요!구독하고 메인에서 만나보세요! 언론사홈 연합뉴스 주요뉴스해당 언론사에서 선정하며 언론사(아웃링크)로 이동합니다. 전유성, 폐기흉 악화로 별세…촌철살인 입담의 \\'개그계 스승\\' 성매매 혐의 유명 피아니스트, 1심서 벌금 100만원 조카 포박하고 3시간 숯불 고문해 살해…무속인 무기징역 여고생들 얼굴에 성행위 도구 합성한 사진 유포…경찰 수사 불법이민자 잡는 피카츄?…논란에 침묵깬 포켓몬 \"영상봤는데…\" [앱 다운] 빠르고 정확한 연합뉴스를 받아보세요 뉴스제보는 연합뉴스 okjebo 톡! 연합뉴스 언론사가 직접 선정한 이슈 이슈 한미 관세협상 방한 트럼프, 국내조선소 갈까…러트닉은 재계총수 만찬 추진(종합) 이슈 3특검 가동 특검, 내일 김대기 前비서실장 첫소환…이종섭 도피의혹 참고인 이슈 국가전산망 장애 \"국정자원 화재로 정부부처 피해 최소 95억원 추산\" 이전 다음 이 기사를 추천합니다 기사 추천은 24시간 내 50회까지 참여할 수 있습니다. 닫기 기자 구독 후 기사보기 구독 없이 계속 보기 \\n\\n---\\n\\n URL: https://n.news.naver.com/mnews/article/030/0003354757?sid=105\\n기사 내용: 머스크의 xAI, 美 정부와 AI 공급 계약…오픈AI보다 저렴 김명희 기자 김명희 기자 김명희 기자 구독 입력 2025.09.26. 오전 9:28 기사원문 추천 xAI. 사진=연합뉴스일론 머스크의 인공지능(AI) 스타트업 xAI가 경쟁사인 오픈AI보다 훨씬 낮은 가격을 제시하며 미국 정부의 AI 계약을 따냈다.미 연방총무청(GSA)은 25일(현지시간) xAI와 협약을 체결해 \\'그록\\' AI 모델을 기관당 단 0.42달러에 이용할 수 있게 했다고 밝혔다.GSA는 “이 독보적인 제공은 연방 정부의 역대 AI 계약 사상 최장 기간인 18개월간 유효해 2027년 3월까지 적용된다”고 설명했다.이번 계약에는 xAI의 고급 추론 모델인 그록4와 그록4 패스트(Fast) 접근 권한이 포함된다고 GSA는 덧붙였다.GSA에 따르면 머스크는 “트럼프 대통령과 행정부 덕분에 xAI의 최첨단 AI가 이제 모든 연방 기관에 개방돼 미국 정부가 그 어느 때보다 빠르게 혁신하고 임무를 효과적으로 수행할 수 있게 됐다”고 말했다.GSA는 지난 4월부터 \\'원거브(OneGov)\\'라는 이름으로 연방 기관의 일괄적인 AI 조달 정책을 추진해 왔다. AI 조달 절차를 간소화하고 경쟁력 있는 가격으로 최첨단 AI 모델에 접근할 수 있게 함으로써 연방 기관의 AI 도입을 가속한다는 취지다.이에 따라 메타와 오픈AI, 앤스로픽, 구글 등 주요 기업들이 정부와 계약을 맺고 자사 제품을 공급하고 있다.블룸버그 통신 등 미 언론은 xAI가 이번에 정부와 체결한 계약이 최대 경쟁사인 오픈AI보다 훨씬 저렴한 가격이라는 데 주목했다.오픈AI가 기관당 1달러에 AI 서비스를 공급하는 것에 비하면 xAI의 0.42달러는 절반도 안 되는 가격이다.저렴한 비용으로 인해 연방 기관들 사이에서 xAI 채택이 더 늘어날 가능성이 있다.다만 일부 민주당 정치인들과 진보 성향 단체들은 정부 기관의 그록 도입에 비판적인 입장을 나타내 왔다.이들은 그록 챗봇이 그동안 부정확한 정보와 혐오 표현, 이념적으로 편향적인 내용 등을 생성해 물의를 일으킨 점을 지적하면서 연방 정부 차원에서 이용하기에는 안전하지 않다고 주장한다. 김명희 noprint@etnews.com Copyright ⓒ 전자신문. All rights reserved. 무단 전재 및 재배포 금지. 이 기사는 언론사에서 IT 섹션으로 분류했습니다. 기사 섹션 분류 안내 기사의 섹션 정보는 해당 언론사의 분류를 따르고 있습니다. 언론사는 개별 기사를 2개 이상 섹션으로 중복 분류할 수 있습니다. 닫기 기자 프로필 김명희 기자 김명희 기자 전자신문 구독 구독중 오픈AI, AI 브라우저 \\'챗GPT 아틀라스\\' 전격 출시…“구글 킬러 등장” 아마존, 2027년까지 인력의 75% 자동화로 대체 추진 구독 전자신문 구독하고 메인에서 바로 만나보세요!구독하고 메인에서 만나보세요! 구독중 전자신문 구독하고 메인에서 바로 만나보세요!구독하고 메인에서 만나보세요! 언론사홈 전자신문 주요뉴스해당 언론사에서 선정하며 언론사(아웃링크)로 이동합니다. 서울시 \\'이공계 전성시대\\' 선언...장학금·연구지원·성장주택 제공한다 트럼프, \"3500억달러, 그것은 선불\" 李대통령, 월가서 \\'韓 투자 세일즈\\'...3차 상법개정 등 대대적 체질개선 예고 \"관심 가져달라\" 퀄컴-휴메인, AI 협력…\"하이브리드 AI 실현\" 머스크의 xAI, 美 정부와 AI 공급 계약…오픈AI보다 저렴 네이버 홈에서 [전자신문] 구독하기 전자신문 바로가기 전자신문 언론사가 직접 선정한 이슈 이슈 AI 패권 경쟁 국가대표 AI 모델, 국민평가단 500명이 직접 써보고 뽑는다 이슈 국정자원 화재, 정부시스템 마비 공공 IT, 기술 중심 평가로 전면 전환해야 이슈 불안한 한국경제 최태원 SK 회장 “APEC, 美·中 문제 가늠자 될 것…韓·日 경제연대 필요” 이슈 관세전쟁 李 대통령 “한미 관세협상, 금융시장 영향 신중히 검토 중…국익에 기반해 대응” 이슈 생성형AI KAIST, 물리법칙 이해하는 \\'3D 생성형 AI\\' 개발...옷 주름도 세밀 재현 이전 다음 이 기사를 추천합니다 기사 추천은 24시간 내 50회까지 참여할 수 있습니다. 닫기 기자 구독 후 기사보기 구독 없이 계속 보기 \\n\\n---\\n\\n URL: https://n.news.naver.com/mnews/article/138/0002207625?sid=105\\n기사 내용: [현장] \"트위터는 잊어라\"…엑스, 그록 AI·숏폼 플랫폼으로 \\'슈퍼앱\\' 진화 조윤정 기자 조윤정 기자 조윤정 기자 구독 입력 2025.10.23. 오후 4:06 기사원문 추천 23일 서울 강남구 라움 아트센터에서 열린 ‘더에쓰엠씨(The SMC) 포스트 포럼 2025’에서 김다훈 엑스 코리아 에이전시 파트너십 헤드가 발표하고 있다. [ⓒ 디지털데일리][디지털데일리 조윤정기자] 글로벌 소셜 미디어 엑스(X·옛 트위터)가 AI와 숏폼 비디오 중심의 슈퍼앱으로 빠르게 진화하고 있다.23일 서울 강남구 라움 아트센터에서 열린 ‘더에쓰엠씨(The SMC) 포스트 포럼 2025’에서 김다훈 엑스 코리아 에이전시 파트너십 헤드는 “그록(Grok) AI와 다양한 비디오 기능이 엑스 혁신의 핵심”이라고 강조하며 플랫폼의 글로벌 성장과 한국 시장 성과를 공개했다.엑스의 전신인 트위터는 일론 머스크가 2022년 10월 인수한 이후 플랫폼명을 바꾸고 지속적인 혁신을 이어왔다. 3년이 지난 현재 엑스는 슈퍼앱으로 본격적인 진화를 추진하고 있다.이날 김 헤드는 “엑스는 자유로운 의사소통이 가능한 환경을 구축하고 슈퍼앱 전략을 적극적으로 추진해 왔다”며 \"실제로 플랫폼에는 빅데이터를 활용한 3대 핵심 기능이 설치되며 이용자 경험을 극대화하고 있다”고 밝혔다.특히 숏폼 비디오 기능이 주목받았다. 김 헤드는 “여러 기능 업데이트가 있었지만 가장 중요한 측면은 트위터에서 엑스로 넘어오면서 비디오 플랫폼이 진화했다는 것”이라며 “기존 조회 수 대비 총 시청 시간은 38%, 총 비디오 시청 시간은 15% 증가하며 폭발적인 성장을 기록하고 있다”고 말했다.이어 그는 “iOS에는 비디오 탭이 추가돼 동영상 감상을 극대화했고, 해당 탭 광고 지면을 점유하는 ‘버티컬 비디오 테이크오버’ 상품을 런칭해 브랜드 효과를 극대화할 수 있게 됐다”고 덧붙였다. 23일 서울 강남구 라움 아트센터에서 열린 ‘더에쓰엠씨(The SMC) 포스트 포럼 2025’에서 김다훈 엑스 코리아 에이전시 파트너십 헤드가 발표하고 있다. [ⓒ 디지털데일리]엑스 혁신의 핵심 동력으로는 그록AI가 꼽혔다. 김다훈 헤드는 “그록은 본질적 맥락을 이해하는 AI로 엑스에 올린 포스팅의 맥락이나 추가 정보를 확인할 수 있으며, 코멘트 기능을 통해 궁금한 점도 즉시 확인할 수 있다”며 “덕분에 이용자들이 매우 활발하게 사용하고 있다”고 설명했다.이어 “생성형 AI ‘그록 이미진’을 통해 텍스트 프롬프트와 이미지를 고퀄리티 영상으로 변환할 수도 있다”고 덧붙였다.지난 3월 28일 인공지능 기업 xAI가 엑스를 인수하면서 혁신은 더욱 가속화됐다. 이번 인수를 통해 xAI는 엑스의 실시간 사용자 데이터를 활용해 AI 모델 ‘그록(Grok)’의 학습과 성능 향상을 강화하고 있다.한국 시장에서의 성과도 두드러진다. 김 헤드는 “엑스는 한국에서 월 990만명 이용자를 기록하고 있으며 데일리 활성화 유저는 460만명에 달한다. 10~20대가 50% 이상을 차지하고, 중고소득층 비중도 높다”고 밝혔다. 이어 “엑스에는 모든 이용자가 인플루언서가 될 수 있으며 다양한 커뮤니티에서 생성되는 트렌드가 폭발적으로 확산된다”고 강조했다.김 헤드는 엑스의 글로벌 비전과 향후 혁신 가능성도 소개했다. 그는 “그록은 글로벌 문제 해결이나 우주 탐사 등 인류의 중차대한 과제에도 활용될 수 있다”며 “1년 뒤에는 더욱 똑똑해진 그록이 상상하는 엑스의 혁신을 보여줄 수 있기를 기대한다”고 말했다. 조윤정 기자(y.jo@ddaily.co.kr) Copyright ⓒ 디지털데일리. All rights reserved. 무단 전재 및 재배포 금지. 이 기사는 언론사에서 IT 섹션으로 분류했습니다. 기사 섹션 분류 안내 기사의 섹션 정보는 해당 언론사의 분류를 따르고 있습니다. 언론사는 개별 기사를 2개 이상 섹션으로 중복 분류할 수 있습니다. 닫기 기자 프로필 조윤정 기자 조윤정 기자 디지털데일리 구독 구독중 [현장] \"재혼황후 결혼식장부터 나혼렙 무기까지\"…K-웹툰 팬 ‘성지순례’ 네이버 “두나무 합병 확정된 바 없어…협력 방안 논의 중” 재공시 구독 디지털데일리 구독하고 메인에서 바로 만나보세요!구독하고 메인에서 만나보세요! 구독중 디지털데일리 구독하고 메인에서 바로 만나보세요!구독하고 메인에서 만나보세요! 언론사홈 디지털데일리 주요뉴스해당 언론사에서 선정하며 언론사(아웃링크)로 이동합니다. 네이버 \"AI 시대 광고 경쟁력은 \\'연결\\'…애드부스트로 승부\" \\'구글·인스타\\' 집중된 정부 광고 편중 심화…\"공적 역할 고려해야\" 인스타그램, 아이패드 전용 앱 출시…첫 화면은 \\'릴스\\' [빅테크 24시] X·인스타·틱톡, 아동 보호 논란에 \\'강력 대응\\' 나선다 네이버에서 디지털데일리 채널 구독하기 QR 코드를 클릭하면 크게 볼 수 있어요. QR을 촬영해보세요. 네이버에서 디지털데일리 채널 구독하기 닫기 [딜라이트닷넷 창간 15주년 특별 기획] ‘AI로 레벨업(Level Up) 산업의 미래를 다시 쓰다’ -정책·산업·비즈니스 혁신을 이끄는 AI 전략 QR 코드를 클릭하면 크게 볼 수 있어요. QR을 촬영해보세요. [딜라이트닷넷 창간 15주년 특별 기획] ‘AI로 레벨업(Level Up) 산업의 미래를 다시 쓰다’ -정책·산업·비즈니스 혁신을 이끄는 AI 전략 닫기 디지털데일리 언론사가 직접 선정한 이슈 이슈 국정감사 해킹신고 없으면 정부 조사도 불가? \"제도 개선 필요성 공감\" 이슈 인공지능 시대 활짝 \"AI가 만든 가짜 판례입니다\"... 법정 뒤집은 변호사들, 한국도 \\'위험지대 이슈 국정자원 화재 사태 대구센터로 16개 시스템 민간 클라우드 이전 이슈 주요기업 해킹 파문 패러다임 전환 한발 늦은 韓…\"기본으로 돌아가라\" 이전 다음 이 기사를 추천합니다 기사 추천은 24시간 내 50회까지 참여할 수 있습니다. 닫기 기자 구독 후 기사보기 구독 없이 계속 보기',\n",
              " 'question': 'XAI의 언어 모델 그록에 대해 설명해 주세요.',\n",
              " 'answer': \"xAI의 챗봇 '그록(Grok)'은 올해 초부터 성인용 기능을 적극적으로 선보이며 다른 AI와의 차별화를 꾀하고 있습니다. 지난 2월 말 욕설과 공격적인 답변이 가능한 음성 기능을 출시했고, 2D 캐릭터와 연애 역할극을 하거나 성적인 대화도 나눌 수 있는 성인용 챗봇 '그록18+'를 선보였습니다. 7월에는 이미지·영상 생성 도구 '그록이매진(Grok Imagine)'에 '스파이시 모드(Spicy mode)'를 추가하여 성인 이용자들이 누드를 비롯한 성적 암시가 있는 이미지와 영상을 생성할 수 있도록 했습니다.\\n\\n그록은 본질적인 맥락을 이해하는 AI로 엑스에 올린 포스팅의 맥락이나 추가 정보를 확인할 수 있으며, 코멘트 기능을 통해 궁금한 점도 즉시 확인할 수 있습니다. 또한 생성형 AI ‘그록 이미진’을 통해 텍스트 프롬프트와 이미지를 고퀄리티 영상으로 변환할 수도 있습니다.\"}"
            ]
          },
          "metadata": {},
          "execution_count": 27
        }
      ],
      "source": [
        "# assign : 결과를 받아서 새로운 인수 추가하고 원래 결과와 함께 전달\n",
        "from langchain_core.runnables import RunnableParallel\n",
        "\n",
        "rag_chain_from_docs = (\n",
        "    prompt\n",
        "    | llm\n",
        "    | StrOutputParser()\n",
        ")\n",
        "\n",
        "rag_chain_with_source = RunnableParallel(\n",
        "    {\"context\": retriever | format_docs, \"question\": RunnablePassthrough()}\n",
        ").assign(answer=rag_chain_from_docs)\n",
        "\n",
        "response = rag_chain_with_source.invoke(\"XAI의 언어 모델 그록에 대해 설명해 주세요.\")\n",
        "\n",
        "# retriever가 1번 실행됨\n",
        "# retriever의 실행 결과를 rag_chain_from_docs 에 넘겨주기 때문에\n",
        "\n",
        "response"
      ]
    },
    {
      "cell_type": "code",
      "source": [
        "print(response['context'])\n",
        "print('--------')\n",
        "print('Question:', response['question'])\n",
        "print('Answer:', response['answer'])"
      ],
      "metadata": {
        "id": "wR7SR7if_KnB",
        "colab": {
          "base_uri": "https://localhost:8080/"
        },
        "outputId": "11ed259d-4a63-4428-8ace-378d67565d31"
      },
      "execution_count": 28,
      "outputs": [
        {
          "output_type": "stream",
          "name": "stdout",
          "text": [
            "URL: https://n.news.naver.com/mnews/article/469/0000893809?sid=101\n",
            "기사 내용: 일정 수준 이상의 답변을 제공하지 않도록 ‘가드레일’(안전판)을 단단하게 구축해 왔던 AI 업계가 최근 들어 그 장벽을 하나둘씩 낮추고 있는 건 분명한 흐름이다.일론 머스크 테슬라 CEO가 소유한 스타트업 xAI의 챗봇 ‘그록(Grok)’이 대표적 사례다. 그록은 올해 초부터 성인용 기능을 적극 선보이며 다른 AI와의 명확한 차별화를 꾀했다. 지난 2월 말 욕설과 공격적 답변이 가능한 음성 기능을 새로 출시한 데 이어, 2D 캐릭터와 연애 역할극을 하거나 성적 대화도 나눌 수 있는 성인용 챗봇 ‘그록18+’를 선보였다. 7월 출시한 이미지·영상 생성 도구 ‘그록이매진(Grok Imagine)’의 경우엔 ‘스파이시 모드(Spicy mode)’를 추가해 성인 이용자들이 누드를 비롯한 성적 암시가 있는 이미지와 영상을 생성할 수 있도록 했다. 테슬라 창업자 일론 머스크의 인공지능(AI) 스타트업 'xAI'가 내놓은 AI챗봇 그록(Grok). 연합뉴스xAI는 스파이시 모드의 안전성을 강조하고 있다. 이미지 노출 정도가 일정 수위를 넘으면 블러(모자이크) 처리를 하는 등 자동 검열을 하고 있고, 실제 인물을 묘사한 딥페이크 영상이나 미성년자 관련 콘텐츠는 철저히 금지하고 있다는 것이다. 하지만 출시 직후 “그록이매진에 ‘가수 테일러 스위프트 등 유명인의 이미지를 만들어 달라’고 입력한 결과, 상반신 노출 이미지가 임의로 생성됐다”는 언론 보도가 나오면서 ‘딥페이크 방조’ 논란이 일었다. 미국 정보기술(IT) 전문매체 ‘버지’는 “그록이매진은 연령 확인을 딱 한 번만 진행했고, 이조차도 이용자가 입력한 나이가 맞는지 제대로 확인하지 않았다”며 성인 인증 시스템의 실효성에 의문을 제기하기도 했다.인스타그램을 운영하는 메타의 ‘메타AI’ 역시 마찬가지다. 정치·사회 등 민감한 주제에 대한 답변을 제공하는 동시에, 성적 대화도 주고받을 수 있도록 허용한 것으로 알려져 있다. 미국 월스트리트저널은 지난 4월 “메타AI의 챗봇이 14세라고 밝힌 미성년 사용자에게 성적 함의가 담긴 메시지로 말을 걸었으며, 성인 이용자 또한 미성년자 역할로 설정된 챗봇과 성적 대화를 할 수 있었다”고 보도했다. 구글 인공지능(AI) 제미나이의 로고. 구글 제공다만 챗GPT·메타AI·그록을 제외한 다른 기업들은 아직까진 성인 콘텐츠에 대해 높은 제한 기준을 적용하고 있다. 구글이 운영하는 제미나이는 정책 가이드라인에 “외설적이거나 노골적인 성적 행위, 성폭력 또는 성적인 신체 부위를 선정적으로 설명·묘사하는 출력을 생성해선 안 된다\"고 명시하고 있다. 특히 미성년자를 위한 필터 모드에서는 제미나이가 스스로를 인간이라고 말하거나, 유해한 캐릭터를 활용해 역할극을 할 수 없도록 방지하고 있다. 앤트로픽이 운영하는 클로드 역시 성인용 콘텐츠를 명확히 금지하는 정책을 유지 중이다. 성적으로 부적절한 대화가 계속 시도·요청될 땐 자동 종료하는 기능도 탑재돼 있다.챗봇과 대화하던 美 10대들 죽음… 'AI 규제법' 등장주목할 대목은 AI 기업들의 성인 콘텐츠 허용·시장 우위 선점 경쟁이 가속화하는 가운데, 위험 신호도 뚜렷해지고 있다는 사실이다. 최근 미국에서는 챗봇을 일상적으로 쓰는 10대 청소년들의 정신 건강 문제가 공론화하고 있다. 지난해 2월 미국 플로리다주(州)에 살던 14세 소년은 캐릭터AI의 챗봇과 성적 대화를 나누던 중, “사랑한다, 내게 와 달라”는 말을 듣고 자살했다. 올해 4월 미 캘리포니아주에서도 16세 소년이 챗GPT와 자해 및 자살 관련 대화를 나눈 뒤 숨졌다. 이 소년의 부모는 아들의 죽음에 챗GPT 책임이 크다며 오픈AI와 올트먼을 상대로 소송을 낸 상태다.잇따르는 10대 사망 사건에 캘리포니아주는 미국 내에서 처음으로 ‘AI 챗봇 이용 규제 법률’을 제정하기도 했다. 내년 1월 1일 발효되는 이 법에 따르면 AI 챗봇 운영 기업은 △플랫폼 이용자의 연령 확인 기능을 갖춰야 하고 △모든 답변이 인공적으로 생성된 것임을 명확히 표시해야 하며 △이용자의 자살 충동이나 자해 표현을 식별·대응할 수 있어야 한다. 또 챗봇이 생성한 노골적인 성적 이미지는 미성년자가 볼 수 없도록 조치해야만 한다. 챗GPT 개발사 오픈AI의 로고. 로이터 연합뉴스이처럼 청소년 정신 건강 보호를 위한 법적 기준이 엄격해지는 상황에서 공개된 ‘챗GPT의 성인용 콘텐츠 허용’ 방침은 상당한 우려를 낳고 있다. 미국 시민단체 전미성착취반대센터의 헤일리 맥나마라 이사는 오픈AI의 발표 직후 성명을 통해 “성적으로 대상화된 AI 챗봇은 본질적으로 위험하며, 가공된 친밀감으로 인해 실제 정신 건강에도 해로운 영향을 줄 수 있다“고 비판했다. 미 온라인 매체 액시오스는 “AI 콘텐츠의 표현 수위 제한을 풀겠다는 오픈AI의 움직임은 유료 구독자 수 증가에 도움이 될 순 있겠으나, 결국 사회적 문제를 야기해 규제 압박을 높일 수 있다”고 지적했다.미성년 자녀를 둔 부모들의 고민은 더 깊어졌다. 메타를 상대로 소송을 진행 중인 제니 킴 변호사는 영국 BBC방송 인터뷰에서 “연령에 따른 서비스 차등 제공이 제대로 이뤄질 것인지조차 불분명한 상황”이라며 “AI서비스가 제공하는 성애물에 대한 아동들의 접근을 도대체 어떻게 막겠다는 것인지 모르겠다”고 꼬집었다. 박지윤 기자 (luce_jyun@hankookilbo.com) Copyright ⓒ 한국일보. All rights reserved. 무단 전재 및 재배포 금지. 이 기사는 언론사에서 경제, IT, 세계 섹션으로 분류했습니다. 기사 섹션 분류 안내 기사의 섹션 정보는 해당 언론사의 분류를 따르고 있습니다. 언론사는 개별 기사를 2개 이상 섹션으로 중복 분류할 수 있습니다. 닫기 기자 프로필 박지윤 기자 박지윤 기자 한국일보 구독 구독중 美서 '망명' 운운하더니… 전한길, 日서 '친중 이재명' 피켓 시위 뒷좌석에서 잠든 차주 못 보고 주차타워 입고... 법원 \"경비원, 추락사 책임\" 구독 한국일보 구독하고 메인에서 바로 만나보세요!구독하고 메인에서 만나보세요! 구독중 한국일보 구독하고 메인에서 바로 만나보세요!구독하고 메인에서 만나보세요! 언론사홈 한국일보 주요뉴스해당 언론사에서 선정하며 \n",
            "\n",
            "---\n",
            "\n",
            " URL: https://n.news.naver.com/mnews/article/123/0002368956?sid=104\n",
            "기사 내용: 머스크의 xAI, 美정부와 AI 계약…42센트에 챗봇 '그록' 공급 정수민 기자 정수민 기자 정수민 기자 구독 입력 2025.09.26. 오전 5:29 기사원문 추천 1년 6개월 동안 42센트…챗GPT '연간 1달러'보다 저럼 ◆…일론 머스크의 인공지능(AI) 기업 xAI가 미 연방정부와 계약을 체결했다. <사진=로이터>테슬라 최고경영자(CEO) 일론 머스크의 인공지능(AI) 기업 xAI가 미 연방정부와 계약을 체결하고 소속 연방 기관에 챗봇 '그록'을 제공하기로 했다. 25일(현지시간) 뉴욕타임스(NYT)에 따르면 미 연방조달청(GSA)은 이날 xAI와 계약을 체결해 연방 기관들이 챗봇 '그록(Grok)'을 1년 6개월 동안 총 42센트에 이용할 수 있도록 했다. 이는 오픈AI의 챗GPT 연간 사용료 1달러보다 저렴한 수준이다. 연방정부는 지난달 오픈AI의 챗GPT와 앤스로픽의 '클로드'와도 유사한 챗봇 계약을 체결한 바 있다. NYT는 이번 계약 금액에 사용된 숫자 42가 대마초 은어인 '420'과, 머스크가 좋아하는 소설 『은하수를 여행하는 히치하이커를 위한 안내서』에서 슈퍼컴퓨터가 \"삶과 우주, 모든 것의 의미\"라는 질문에 내놓은 답변 '42'와 연결된다고 짚었다. 머스크는 이날 성명을 통해 \"트럼프 대통령과 그의 팀과 계속 협력해 인공지능을 정부 전반에 신속히 도입, 국가에 도움이 되기를 기대한다\"고 밝혔다. 머스크는 트럼프 대통령이 취임한 올해 1월부터 연방정부의 비용 절감 프로젝트인 '정부 효율성 부서(DOGE)'를 주도하기도 했으나, 이후 프로젝트에서 손을 떼며 트럼프 대통령과의 불화설에 휘말리기도 했다. 이번 xAI 계약 협상은 7월부터 진행됐으며, 조달청 산하 연방조달서비스(FAS)는 머스크가 직접 협상에 참여하지는 않았다고 밝혔다. xAI는 지난 7월 미국 국방부와도 AI 계약을 체결한 바 있다. xAI는 데이터센터와 GPU 등 AI 인프라에 막대한 자본을 투입해왔으며, 블룸버그 보도에 따르면 한 달에 최대 10억 달러를 소진하는 것으로 알려졌다. 매출 규모는 추정치가 엇갈리는데, 2025년 1분기 매출이 약 5,200만 달러에 불과했다는 분석이 있는 반면, 연간 매출이 5억 달러에 이를 것이라는 전망도 있다. 그러나 공식적으로 확인된 회계 자료는 없어 실제 수익 구조는 여전히 불투명하다. 그록은 올해 초 스스로를 \"메카 히틀러\"라고 칭하거나, 머스크의 고향인 남아프리카공화국에서 백인에 대한 집단학살이 벌어지고 있다고 허위 주장하는 등 문제적 발언으로 논란에 휘말리기도 했다. 정수민 (sumin@joseilbo.com) Copyright ⓒ 조세일보. All rights reserved. 무단 전재 및 재배포 금지. 이 기사는 언론사에서 세계 섹션으로 분류했습니다. 기사 섹션 분류 안내 기사의 섹션 정보는 해당 언론사의 분류를 따르고 있습니다. 언론사는 개별 기사를 2개 이상 섹션으로 중복 분류할 수 있습니다. 닫기 기자 프로필 정수민 기자 정수민 기자 조세일보 구독 구독중 \"트럼프, 아이온큐·리게티 등 양자컴 기업 지분 인수 검토중\" 젠슨 황 “엔비디아 中 점유율 95→0%”…美수출 규제 비판 구독 조세일보 구독하고 메인에서 바로 만나보세요!구독하고 메인에서 만나보세요! 구독중 조세일보 구독하고 메인에서 바로 만나보세요!구독하고 메인에서 만나보세요! 언론사홈 조세일보 주요뉴스해당 언론사에서 선정하며 언론사(아웃링크)로 이동합니다. 코스피, 외인·기관 '쌍끌이 매수'에도 개인 '팔자'...이틀째 하락 홍준표 \"막무가내식 이재명 정권, 전두환 국보위 연상\" 두나무 품는 네이버…핀테크·가상자산 결합 시너지 기대 서울, 국제금융경쟁력 10위...핀테크는 8위로 역대최고 \"업무용도 불편해\"…카톡 새 기능에 '자동 업데이트 끄기' 확산 조세일보 홈페이지 QR 코드를 클릭하면 크게 볼 수 있어요. QR을 촬영해보세요. 조세일보 홈페이지 닫기 조세일보 네이버 뉴스스탠드 구독(종합/경제) QR 코드를 클릭하면 크게 볼 수 있어요. QR을 촬영해보세요. 조세일보 네이버 뉴스스탠드 구독(종합/경제) 닫기 이 기사를 추천합니다 기사 추천은 24시간 내 50회까지 참여할 수 있습니다. 닫기 기자 구독 후 기사보기 구독 없이 계속 보기 \n",
            "\n",
            "---\n",
            "\n",
            " URL: https://n.news.naver.com/mnews/article/001/0015650091?sid=104\n",
            "기사 내용: 머스크의 xAI, 美 정부와 AI 공급 계약…오픈AI보다 저렴 임미나 기자 임미나 기자 임미나 기자 구독 입력 2025.09.26. 오전 3:47 수정 2025.09.26. 오전 3:48 기사원문 추천 기관당 0.42달러…오픈AI 1달러의 절반 수준 xAI '그록' 로고 [로이터 연합뉴스 자료사진. 재판매 및 DB 금지](로스앤젤레스=연합뉴스) 임미나 특파원 = 일론 머스크가 설립해 경영 중인 인공지능(AI) 스타트업 xAI가 경쟁사인 오픈AI보다 훨씬 낮은 가격을 제시하며 미국 정부의 AI 계약을 따냈다. 미 연방총무청(GSA)은 25일(현지시간) xAI와 협약을 체결해 '그록' AI 모델을 기관당 단 0.42달러에 이용할 수 있게 했다고 밝혔다. GSA는 \"이 독보적인 제공은 연방 정부의 역대 AI 계약 사상 최장 기간인 18개월간 유효해 2027년 3월까지 적용된다\"고 설명했다. 이번 계약에는 xAI의 고급 추론 모델인 그록4와 그록4 패스트(Fast) 접근 권한이 포함된다고 GSA는 덧붙였다. GSA에 따르면 머스크는 \"트럼프 대통령과 행정부 덕분에 xAI의 최첨단 AI가 이제 모든 연방 기관에 개방돼 미국 정부가 그 어느 때보다 빠르게 혁신하고 임무를 효과적으로 수행할 수 있게 됐다\"고 말했다. GSA는 지난 4월부터 '원거브'(OneGov)라는 이름으로 연방 기관의 일괄적인 AI 조달 정책을 추진해 왔다. AI 조달 절차를 간소화하고 경쟁력 있는 가격으로 최첨단 AI 모델에 접근할 수 있게 함으로써 연방 기관의 AI 도입을 가속한다는 취지다. 이에 따라 메타와 오픈AI, 앤스로픽, 구글 등 주요 기업들이 정부와 계약을 맺고 자사 제품을 공급하고 있다. 블룸버그 통신 등 미 언론은 xAI가 이번에 정부와 체결한 계약이 최대 경쟁사인 오픈AI보다 훨씬 저렴한 가격이라는 데 주목했다. 오픈AI가 기관당 1달러에 AI 서비스를 공급하는 것에 비하면 xAI의 0.42달러는 절반도 안 되는 가격이다. 저렴한 비용으로 인해 연방 기관들 사이에서 xAI 채택이 더 늘어날 가능성이 있다. 다만 일부 민주당 정치인들과 진보 성향 단체들은 정부 기관의 그록 도입에 비판적인 입장을 나타내 왔다. 이들은 그록 챗봇이 그동안 부정확한 정보와 혐오 표현, 이념적으로 편향적인 내용 등을 생성해 물의를 일으킨 점을 지적하면서 연방 정부 차원에서 이용하기에는 안전하지 않다고 주장한다. mina@yna.co.kr 임미나(mina@yna.co.kr) Copyright ⓒ 연합뉴스. All rights reserved. 무단 전재-재배포, AI 학습 및 활용 금지. 이 기사는 언론사에서 세계, IT, 경제 섹션으로 분류했습니다. 기사 섹션 분류 안내 기사의 섹션 정보는 해당 언론사의 분류를 따르고 있습니다. 언론사는 개별 기사를 2개 이상 섹션으로 중복 분류할 수 있습니다. 닫기 기자 프로필 임미나 기자 임미나 기자 연합뉴스 구독 구독중 美 LA국감서 유승준 비자문제 또 도마…김태호 \"공권력 지나쳐\" '우주가족 로빈슨' 엄마역 배우 준 록하트 별세…향년 100세 구독 연합뉴스 구독하고 메인에서 바로 만나보세요!구독하고 메인에서 만나보세요! 구독중 연합뉴스 구독하고 메인에서 바로 만나보세요!구독하고 메인에서 만나보세요! 언론사홈 연합뉴스 주요뉴스해당 언론사에서 선정하며 언론사(아웃링크)로 이동합니다. 전유성, 폐기흉 악화로 별세…촌철살인 입담의 '개그계 스승' 성매매 혐의 유명 피아니스트, 1심서 벌금 100만원 조카 포박하고 3시간 숯불 고문해 살해…무속인 무기징역 여고생들 얼굴에 성행위 도구 합성한 사진 유포…경찰 수사 불법이민자 잡는 피카츄?…논란에 침묵깬 포켓몬 \"영상봤는데…\" [앱 다운] 빠르고 정확한 연합뉴스를 받아보세요 뉴스제보는 연합뉴스 okjebo 톡! 연합뉴스 언론사가 직접 선정한 이슈 이슈 한미 관세협상 방한 트럼프, 국내조선소 갈까…러트닉은 재계총수 만찬 추진(종합) 이슈 3특검 가동 특검, 내일 김대기 前비서실장 첫소환…이종섭 도피의혹 참고인 이슈 국가전산망 장애 \"국정자원 화재로 정부부처 피해 최소 95억원 추산\" 이전 다음 이 기사를 추천합니다 기사 추천은 24시간 내 50회까지 참여할 수 있습니다. 닫기 기자 구독 후 기사보기 구독 없이 계속 보기 \n",
            "\n",
            "---\n",
            "\n",
            " URL: https://n.news.naver.com/mnews/article/030/0003354757?sid=105\n",
            "기사 내용: 머스크의 xAI, 美 정부와 AI 공급 계약…오픈AI보다 저렴 김명희 기자 김명희 기자 김명희 기자 구독 입력 2025.09.26. 오전 9:28 기사원문 추천 xAI. 사진=연합뉴스일론 머스크의 인공지능(AI) 스타트업 xAI가 경쟁사인 오픈AI보다 훨씬 낮은 가격을 제시하며 미국 정부의 AI 계약을 따냈다.미 연방총무청(GSA)은 25일(현지시간) xAI와 협약을 체결해 '그록' AI 모델을 기관당 단 0.42달러에 이용할 수 있게 했다고 밝혔다.GSA는 “이 독보적인 제공은 연방 정부의 역대 AI 계약 사상 최장 기간인 18개월간 유효해 2027년 3월까지 적용된다”고 설명했다.이번 계약에는 xAI의 고급 추론 모델인 그록4와 그록4 패스트(Fast) 접근 권한이 포함된다고 GSA는 덧붙였다.GSA에 따르면 머스크는 “트럼프 대통령과 행정부 덕분에 xAI의 최첨단 AI가 이제 모든 연방 기관에 개방돼 미국 정부가 그 어느 때보다 빠르게 혁신하고 임무를 효과적으로 수행할 수 있게 됐다”고 말했다.GSA는 지난 4월부터 '원거브(OneGov)'라는 이름으로 연방 기관의 일괄적인 AI 조달 정책을 추진해 왔다. AI 조달 절차를 간소화하고 경쟁력 있는 가격으로 최첨단 AI 모델에 접근할 수 있게 함으로써 연방 기관의 AI 도입을 가속한다는 취지다.이에 따라 메타와 오픈AI, 앤스로픽, 구글 등 주요 기업들이 정부와 계약을 맺고 자사 제품을 공급하고 있다.블룸버그 통신 등 미 언론은 xAI가 이번에 정부와 체결한 계약이 최대 경쟁사인 오픈AI보다 훨씬 저렴한 가격이라는 데 주목했다.오픈AI가 기관당 1달러에 AI 서비스를 공급하는 것에 비하면 xAI의 0.42달러는 절반도 안 되는 가격이다.저렴한 비용으로 인해 연방 기관들 사이에서 xAI 채택이 더 늘어날 가능성이 있다.다만 일부 민주당 정치인들과 진보 성향 단체들은 정부 기관의 그록 도입에 비판적인 입장을 나타내 왔다.이들은 그록 챗봇이 그동안 부정확한 정보와 혐오 표현, 이념적으로 편향적인 내용 등을 생성해 물의를 일으킨 점을 지적하면서 연방 정부 차원에서 이용하기에는 안전하지 않다고 주장한다. 김명희 noprint@etnews.com Copyright ⓒ 전자신문. All rights reserved. 무단 전재 및 재배포 금지. 이 기사는 언론사에서 IT 섹션으로 분류했습니다. 기사 섹션 분류 안내 기사의 섹션 정보는 해당 언론사의 분류를 따르고 있습니다. 언론사는 개별 기사를 2개 이상 섹션으로 중복 분류할 수 있습니다. 닫기 기자 프로필 김명희 기자 김명희 기자 전자신문 구독 구독중 오픈AI, AI 브라우저 '챗GPT 아틀라스' 전격 출시…“구글 킬러 등장” 아마존, 2027년까지 인력의 75% 자동화로 대체 추진 구독 전자신문 구독하고 메인에서 바로 만나보세요!구독하고 메인에서 만나보세요! 구독중 전자신문 구독하고 메인에서 바로 만나보세요!구독하고 메인에서 만나보세요! 언론사홈 전자신문 주요뉴스해당 언론사에서 선정하며 언론사(아웃링크)로 이동합니다. 서울시 '이공계 전성시대' 선언...장학금·연구지원·성장주택 제공한다 트럼프, \"3500억달러, 그것은 선불\" 李대통령, 월가서 '韓 투자 세일즈'...3차 상법개정 등 대대적 체질개선 예고 \"관심 가져달라\" 퀄컴-휴메인, AI 협력…\"하이브리드 AI 실현\" 머스크의 xAI, 美 정부와 AI 공급 계약…오픈AI보다 저렴 네이버 홈에서 [전자신문] 구독하기 전자신문 바로가기 전자신문 언론사가 직접 선정한 이슈 이슈 AI 패권 경쟁 국가대표 AI 모델, 국민평가단 500명이 직접 써보고 뽑는다 이슈 국정자원 화재, 정부시스템 마비 공공 IT, 기술 중심 평가로 전면 전환해야 이슈 불안한 한국경제 최태원 SK 회장 “APEC, 美·中 문제 가늠자 될 것…韓·日 경제연대 필요” 이슈 관세전쟁 李 대통령 “한미 관세협상, 금융시장 영향 신중히 검토 중…국익에 기반해 대응” 이슈 생성형AI KAIST, 물리법칙 이해하는 '3D 생성형 AI' 개발...옷 주름도 세밀 재현 이전 다음 이 기사를 추천합니다 기사 추천은 24시간 내 50회까지 참여할 수 있습니다. 닫기 기자 구독 후 기사보기 구독 없이 계속 보기 \n",
            "\n",
            "---\n",
            "\n",
            " URL: https://n.news.naver.com/mnews/article/138/0002207625?sid=105\n",
            "기사 내용: [현장] \"트위터는 잊어라\"…엑스, 그록 AI·숏폼 플랫폼으로 '슈퍼앱' 진화 조윤정 기자 조윤정 기자 조윤정 기자 구독 입력 2025.10.23. 오후 4:06 기사원문 추천 23일 서울 강남구 라움 아트센터에서 열린 ‘더에쓰엠씨(The SMC) 포스트 포럼 2025’에서 김다훈 엑스 코리아 에이전시 파트너십 헤드가 발표하고 있다. [ⓒ 디지털데일리][디지털데일리 조윤정기자] 글로벌 소셜 미디어 엑스(X·옛 트위터)가 AI와 숏폼 비디오 중심의 슈퍼앱으로 빠르게 진화하고 있다.23일 서울 강남구 라움 아트센터에서 열린 ‘더에쓰엠씨(The SMC) 포스트 포럼 2025’에서 김다훈 엑스 코리아 에이전시 파트너십 헤드는 “그록(Grok) AI와 다양한 비디오 기능이 엑스 혁신의 핵심”이라고 강조하며 플랫폼의 글로벌 성장과 한국 시장 성과를 공개했다.엑스의 전신인 트위터는 일론 머스크가 2022년 10월 인수한 이후 플랫폼명을 바꾸고 지속적인 혁신을 이어왔다. 3년이 지난 현재 엑스는 슈퍼앱으로 본격적인 진화를 추진하고 있다.이날 김 헤드는 “엑스는 자유로운 의사소통이 가능한 환경을 구축하고 슈퍼앱 전략을 적극적으로 추진해 왔다”며 \"실제로 플랫폼에는 빅데이터를 활용한 3대 핵심 기능이 설치되며 이용자 경험을 극대화하고 있다”고 밝혔다.특히 숏폼 비디오 기능이 주목받았다. 김 헤드는 “여러 기능 업데이트가 있었지만 가장 중요한 측면은 트위터에서 엑스로 넘어오면서 비디오 플랫폼이 진화했다는 것”이라며 “기존 조회 수 대비 총 시청 시간은 38%, 총 비디오 시청 시간은 15% 증가하며 폭발적인 성장을 기록하고 있다”고 말했다.이어 그는 “iOS에는 비디오 탭이 추가돼 동영상 감상을 극대화했고, 해당 탭 광고 지면을 점유하는 ‘버티컬 비디오 테이크오버’ 상품을 런칭해 브랜드 효과를 극대화할 수 있게 됐다”고 덧붙였다. 23일 서울 강남구 라움 아트센터에서 열린 ‘더에쓰엠씨(The SMC) 포스트 포럼 2025’에서 김다훈 엑스 코리아 에이전시 파트너십 헤드가 발표하고 있다. [ⓒ 디지털데일리]엑스 혁신의 핵심 동력으로는 그록AI가 꼽혔다. 김다훈 헤드는 “그록은 본질적 맥락을 이해하는 AI로 엑스에 올린 포스팅의 맥락이나 추가 정보를 확인할 수 있으며, 코멘트 기능을 통해 궁금한 점도 즉시 확인할 수 있다”며 “덕분에 이용자들이 매우 활발하게 사용하고 있다”고 설명했다.이어 “생성형 AI ‘그록 이미진’을 통해 텍스트 프롬프트와 이미지를 고퀄리티 영상으로 변환할 수도 있다”고 덧붙였다.지난 3월 28일 인공지능 기업 xAI가 엑스를 인수하면서 혁신은 더욱 가속화됐다. 이번 인수를 통해 xAI는 엑스의 실시간 사용자 데이터를 활용해 AI 모델 ‘그록(Grok)’의 학습과 성능 향상을 강화하고 있다.한국 시장에서의 성과도 두드러진다. 김 헤드는 “엑스는 한국에서 월 990만명 이용자를 기록하고 있으며 데일리 활성화 유저는 460만명에 달한다. 10~20대가 50% 이상을 차지하고, 중고소득층 비중도 높다”고 밝혔다. 이어 “엑스에는 모든 이용자가 인플루언서가 될 수 있으며 다양한 커뮤니티에서 생성되는 트렌드가 폭발적으로 확산된다”고 강조했다.김 헤드는 엑스의 글로벌 비전과 향후 혁신 가능성도 소개했다. 그는 “그록은 글로벌 문제 해결이나 우주 탐사 등 인류의 중차대한 과제에도 활용될 수 있다”며 “1년 뒤에는 더욱 똑똑해진 그록이 상상하는 엑스의 혁신을 보여줄 수 있기를 기대한다”고 말했다. 조윤정 기자(y.jo@ddaily.co.kr) Copyright ⓒ 디지털데일리. All rights reserved. 무단 전재 및 재배포 금지. 이 기사는 언론사에서 IT 섹션으로 분류했습니다. 기사 섹션 분류 안내 기사의 섹션 정보는 해당 언론사의 분류를 따르고 있습니다. 언론사는 개별 기사를 2개 이상 섹션으로 중복 분류할 수 있습니다. 닫기 기자 프로필 조윤정 기자 조윤정 기자 디지털데일리 구독 구독중 [현장] \"재혼황후 결혼식장부터 나혼렙 무기까지\"…K-웹툰 팬 ‘성지순례’ 네이버 “두나무 합병 확정된 바 없어…협력 방안 논의 중” 재공시 구독 디지털데일리 구독하고 메인에서 바로 만나보세요!구독하고 메인에서 만나보세요! 구독중 디지털데일리 구독하고 메인에서 바로 만나보세요!구독하고 메인에서 만나보세요! 언론사홈 디지털데일리 주요뉴스해당 언론사에서 선정하며 언론사(아웃링크)로 이동합니다. 네이버 \"AI 시대 광고 경쟁력은 '연결'…애드부스트로 승부\" '구글·인스타' 집중된 정부 광고 편중 심화…\"공적 역할 고려해야\" 인스타그램, 아이패드 전용 앱 출시…첫 화면은 '릴스' [빅테크 24시] X·인스타·틱톡, 아동 보호 논란에 '강력 대응' 나선다 네이버에서 디지털데일리 채널 구독하기 QR 코드를 클릭하면 크게 볼 수 있어요. QR을 촬영해보세요. 네이버에서 디지털데일리 채널 구독하기 닫기 [딜라이트닷넷 창간 15주년 특별 기획] ‘AI로 레벨업(Level Up) 산업의 미래를 다시 쓰다’ -정책·산업·비즈니스 혁신을 이끄는 AI 전략 QR 코드를 클릭하면 크게 볼 수 있어요. QR을 촬영해보세요. [딜라이트닷넷 창간 15주년 특별 기획] ‘AI로 레벨업(Level Up) 산업의 미래를 다시 쓰다’ -정책·산업·비즈니스 혁신을 이끄는 AI 전략 닫기 디지털데일리 언론사가 직접 선정한 이슈 이슈 국정감사 해킹신고 없으면 정부 조사도 불가? \"제도 개선 필요성 공감\" 이슈 인공지능 시대 활짝 \"AI가 만든 가짜 판례입니다\"... 법정 뒤집은 변호사들, 한국도 '위험지대 이슈 국정자원 화재 사태 대구센터로 16개 시스템 민간 클라우드 이전 이슈 주요기업 해킹 파문 패러다임 전환 한발 늦은 韓…\"기본으로 돌아가라\" 이전 다음 이 기사를 추천합니다 기사 추천은 24시간 내 50회까지 참여할 수 있습니다. 닫기 기자 구독 후 기사보기 구독 없이 계속 보기\n",
            "--------\n",
            "Question: XAI의 언어 모델 그록에 대해 설명해 주세요.\n",
            "Answer: xAI의 챗봇 '그록(Grok)'은 올해 초부터 성인용 기능을 적극적으로 선보이며 다른 AI와의 차별화를 꾀하고 있습니다. 지난 2월 말 욕설과 공격적인 답변이 가능한 음성 기능을 출시했고, 2D 캐릭터와 연애 역할극을 하거나 성적인 대화도 나눌 수 있는 성인용 챗봇 '그록18+'를 선보였습니다. 7월에는 이미지·영상 생성 도구 '그록이매진(Grok Imagine)'에 '스파이시 모드(Spicy mode)'를 추가하여 성인 이용자들이 누드를 비롯한 성적 암시가 있는 이미지와 영상을 생성할 수 있도록 했습니다.\n",
            "\n",
            "그록은 본질적인 맥락을 이해하는 AI로 엑스에 올린 포스팅의 맥락이나 추가 정보를 확인할 수 있으며, 코멘트 기능을 통해 궁금한 점도 즉시 확인할 수 있습니다. 또한 생성형 AI ‘그록 이미진’을 통해 텍스트 프롬프트와 이미지를 고퀄리티 영상으로 변환할 수도 있습니다.\n"
          ]
        }
      ]
    },
    {
      "cell_type": "code",
      "source": [],
      "metadata": {
        "id": "5K5PvlBRAHof"
      },
      "execution_count": null,
      "outputs": []
    }
  ],
  "metadata": {
    "colab": {
      "provenance": [],
      "gpuType": "T4"
    },
    "kernelspec": {
      "display_name": "Python 3",
      "name": "python3"
    },
    "language_info": {
      "codemirror_mode": {
        "name": "ipython",
        "version": 3
      },
      "file_extension": ".py",
      "mimetype": "text/x-python",
      "name": "python",
      "nbconvert_exporter": "python",
      "pygments_lexer": "ipython3",
      "version": "3.11.7"
    },
    "accelerator": "GPU",
    "widgets": {
      "application/vnd.jupyter.widget-state+json": {
        "ab13613589494df6b6bc63f0583bee6c": {
          "model_module": "@jupyter-widgets/controls",
          "model_name": "HBoxModel",
          "model_module_version": "1.5.0",
          "state": {
            "_dom_classes": [],
            "_model_module": "@jupyter-widgets/controls",
            "_model_module_version": "1.5.0",
            "_model_name": "HBoxModel",
            "_view_count": null,
            "_view_module": "@jupyter-widgets/controls",
            "_view_module_version": "1.5.0",
            "_view_name": "HBoxView",
            "box_style": "",
            "children": [
              "IPY_MODEL_b7529c4ff47d48a3a7a5219294dad9a7",
              "IPY_MODEL_d7847c8ccd884f8e80a3c03316ad04dc",
              "IPY_MODEL_c0f441c7b27d4483a33b669de8230074"
            ],
            "layout": "IPY_MODEL_8710833204434b7389efaa67d9db6c35"
          }
        },
        "b7529c4ff47d48a3a7a5219294dad9a7": {
          "model_module": "@jupyter-widgets/controls",
          "model_name": "HTMLModel",
          "model_module_version": "1.5.0",
          "state": {
            "_dom_classes": [],
            "_model_module": "@jupyter-widgets/controls",
            "_model_module_version": "1.5.0",
            "_model_name": "HTMLModel",
            "_view_count": null,
            "_view_module": "@jupyter-widgets/controls",
            "_view_module_version": "1.5.0",
            "_view_name": "HTMLView",
            "description": "",
            "description_tooltip": null,
            "layout": "IPY_MODEL_bf9998f47210492cb248c11b76dbe431",
            "placeholder": "​",
            "style": "IPY_MODEL_12acdc83448d493ea6fd5c4b805edb95",
            "value": "modules.json: 100%"
          }
        },
        "d7847c8ccd884f8e80a3c03316ad04dc": {
          "model_module": "@jupyter-widgets/controls",
          "model_name": "FloatProgressModel",
          "model_module_version": "1.5.0",
          "state": {
            "_dom_classes": [],
            "_model_module": "@jupyter-widgets/controls",
            "_model_module_version": "1.5.0",
            "_model_name": "FloatProgressModel",
            "_view_count": null,
            "_view_module": "@jupyter-widgets/controls",
            "_view_module_version": "1.5.0",
            "_view_name": "ProgressView",
            "bar_style": "success",
            "description": "",
            "description_tooltip": null,
            "layout": "IPY_MODEL_054d8d9bc6864b9a974d939e4fc0fd3a",
            "max": 349,
            "min": 0,
            "orientation": "horizontal",
            "style": "IPY_MODEL_c23b6036310640a89abf5ad87c93cba0",
            "value": 349
          }
        },
        "c0f441c7b27d4483a33b669de8230074": {
          "model_module": "@jupyter-widgets/controls",
          "model_name": "HTMLModel",
          "model_module_version": "1.5.0",
          "state": {
            "_dom_classes": [],
            "_model_module": "@jupyter-widgets/controls",
            "_model_module_version": "1.5.0",
            "_model_name": "HTMLModel",
            "_view_count": null,
            "_view_module": "@jupyter-widgets/controls",
            "_view_module_version": "1.5.0",
            "_view_name": "HTMLView",
            "description": "",
            "description_tooltip": null,
            "layout": "IPY_MODEL_fdd98a8d453d4f1691d626a2eb4d066f",
            "placeholder": "​",
            "style": "IPY_MODEL_2a12967172f546d7b6b1c7ae853907a8",
            "value": " 349/349 [00:00&lt;00:00, 43.3kB/s]"
          }
        },
        "8710833204434b7389efaa67d9db6c35": {
          "model_module": "@jupyter-widgets/base",
          "model_name": "LayoutModel",
          "model_module_version": "1.2.0",
          "state": {
            "_model_module": "@jupyter-widgets/base",
            "_model_module_version": "1.2.0",
            "_model_name": "LayoutModel",
            "_view_count": null,
            "_view_module": "@jupyter-widgets/base",
            "_view_module_version": "1.2.0",
            "_view_name": "LayoutView",
            "align_content": null,
            "align_items": null,
            "align_self": null,
            "border": null,
            "bottom": null,
            "display": null,
            "flex": null,
            "flex_flow": null,
            "grid_area": null,
            "grid_auto_columns": null,
            "grid_auto_flow": null,
            "grid_auto_rows": null,
            "grid_column": null,
            "grid_gap": null,
            "grid_row": null,
            "grid_template_areas": null,
            "grid_template_columns": null,
            "grid_template_rows": null,
            "height": null,
            "justify_content": null,
            "justify_items": null,
            "left": null,
            "margin": null,
            "max_height": null,
            "max_width": null,
            "min_height": null,
            "min_width": null,
            "object_fit": null,
            "object_position": null,
            "order": null,
            "overflow": null,
            "overflow_x": null,
            "overflow_y": null,
            "padding": null,
            "right": null,
            "top": null,
            "visibility": null,
            "width": null
          }
        },
        "bf9998f47210492cb248c11b76dbe431": {
          "model_module": "@jupyter-widgets/base",
          "model_name": "LayoutModel",
          "model_module_version": "1.2.0",
          "state": {
            "_model_module": "@jupyter-widgets/base",
            "_model_module_version": "1.2.0",
            "_model_name": "LayoutModel",
            "_view_count": null,
            "_view_module": "@jupyter-widgets/base",
            "_view_module_version": "1.2.0",
            "_view_name": "LayoutView",
            "align_content": null,
            "align_items": null,
            "align_self": null,
            "border": null,
            "bottom": null,
            "display": null,
            "flex": null,
            "flex_flow": null,
            "grid_area": null,
            "grid_auto_columns": null,
            "grid_auto_flow": null,
            "grid_auto_rows": null,
            "grid_column": null,
            "grid_gap": null,
            "grid_row": null,
            "grid_template_areas": null,
            "grid_template_columns": null,
            "grid_template_rows": null,
            "height": null,
            "justify_content": null,
            "justify_items": null,
            "left": null,
            "margin": null,
            "max_height": null,
            "max_width": null,
            "min_height": null,
            "min_width": null,
            "object_fit": null,
            "object_position": null,
            "order": null,
            "overflow": null,
            "overflow_x": null,
            "overflow_y": null,
            "padding": null,
            "right": null,
            "top": null,
            "visibility": null,
            "width": null
          }
        },
        "12acdc83448d493ea6fd5c4b805edb95": {
          "model_module": "@jupyter-widgets/controls",
          "model_name": "DescriptionStyleModel",
          "model_module_version": "1.5.0",
          "state": {
            "_model_module": "@jupyter-widgets/controls",
            "_model_module_version": "1.5.0",
            "_model_name": "DescriptionStyleModel",
            "_view_count": null,
            "_view_module": "@jupyter-widgets/base",
            "_view_module_version": "1.2.0",
            "_view_name": "StyleView",
            "description_width": ""
          }
        },
        "054d8d9bc6864b9a974d939e4fc0fd3a": {
          "model_module": "@jupyter-widgets/base",
          "model_name": "LayoutModel",
          "model_module_version": "1.2.0",
          "state": {
            "_model_module": "@jupyter-widgets/base",
            "_model_module_version": "1.2.0",
            "_model_name": "LayoutModel",
            "_view_count": null,
            "_view_module": "@jupyter-widgets/base",
            "_view_module_version": "1.2.0",
            "_view_name": "LayoutView",
            "align_content": null,
            "align_items": null,
            "align_self": null,
            "border": null,
            "bottom": null,
            "display": null,
            "flex": null,
            "flex_flow": null,
            "grid_area": null,
            "grid_auto_columns": null,
            "grid_auto_flow": null,
            "grid_auto_rows": null,
            "grid_column": null,
            "grid_gap": null,
            "grid_row": null,
            "grid_template_areas": null,
            "grid_template_columns": null,
            "grid_template_rows": null,
            "height": null,
            "justify_content": null,
            "justify_items": null,
            "left": null,
            "margin": null,
            "max_height": null,
            "max_width": null,
            "min_height": null,
            "min_width": null,
            "object_fit": null,
            "object_position": null,
            "order": null,
            "overflow": null,
            "overflow_x": null,
            "overflow_y": null,
            "padding": null,
            "right": null,
            "top": null,
            "visibility": null,
            "width": null
          }
        },
        "c23b6036310640a89abf5ad87c93cba0": {
          "model_module": "@jupyter-widgets/controls",
          "model_name": "ProgressStyleModel",
          "model_module_version": "1.5.0",
          "state": {
            "_model_module": "@jupyter-widgets/controls",
            "_model_module_version": "1.5.0",
            "_model_name": "ProgressStyleModel",
            "_view_count": null,
            "_view_module": "@jupyter-widgets/base",
            "_view_module_version": "1.2.0",
            "_view_name": "StyleView",
            "bar_color": null,
            "description_width": ""
          }
        },
        "fdd98a8d453d4f1691d626a2eb4d066f": {
          "model_module": "@jupyter-widgets/base",
          "model_name": "LayoutModel",
          "model_module_version": "1.2.0",
          "state": {
            "_model_module": "@jupyter-widgets/base",
            "_model_module_version": "1.2.0",
            "_model_name": "LayoutModel",
            "_view_count": null,
            "_view_module": "@jupyter-widgets/base",
            "_view_module_version": "1.2.0",
            "_view_name": "LayoutView",
            "align_content": null,
            "align_items": null,
            "align_self": null,
            "border": null,
            "bottom": null,
            "display": null,
            "flex": null,
            "flex_flow": null,
            "grid_area": null,
            "grid_auto_columns": null,
            "grid_auto_flow": null,
            "grid_auto_rows": null,
            "grid_column": null,
            "grid_gap": null,
            "grid_row": null,
            "grid_template_areas": null,
            "grid_template_columns": null,
            "grid_template_rows": null,
            "height": null,
            "justify_content": null,
            "justify_items": null,
            "left": null,
            "margin": null,
            "max_height": null,
            "max_width": null,
            "min_height": null,
            "min_width": null,
            "object_fit": null,
            "object_position": null,
            "order": null,
            "overflow": null,
            "overflow_x": null,
            "overflow_y": null,
            "padding": null,
            "right": null,
            "top": null,
            "visibility": null,
            "width": null
          }
        },
        "2a12967172f546d7b6b1c7ae853907a8": {
          "model_module": "@jupyter-widgets/controls",
          "model_name": "DescriptionStyleModel",
          "model_module_version": "1.5.0",
          "state": {
            "_model_module": "@jupyter-widgets/controls",
            "_model_module_version": "1.5.0",
            "_model_name": "DescriptionStyleModel",
            "_view_count": null,
            "_view_module": "@jupyter-widgets/base",
            "_view_module_version": "1.2.0",
            "_view_name": "StyleView",
            "description_width": ""
          }
        },
        "7aa30f8d706f411bbd7a29a58c55cc24": {
          "model_module": "@jupyter-widgets/controls",
          "model_name": "HBoxModel",
          "model_module_version": "1.5.0",
          "state": {
            "_dom_classes": [],
            "_model_module": "@jupyter-widgets/controls",
            "_model_module_version": "1.5.0",
            "_model_name": "HBoxModel",
            "_view_count": null,
            "_view_module": "@jupyter-widgets/controls",
            "_view_module_version": "1.5.0",
            "_view_name": "HBoxView",
            "box_style": "",
            "children": [
              "IPY_MODEL_1db249523a8f4b0aa1794894924abfbe",
              "IPY_MODEL_501904992b854667ab5d29337a6e6a62",
              "IPY_MODEL_d2fbe308f255425ba36756501ccc6c04"
            ],
            "layout": "IPY_MODEL_03308ff7e537422390f546444cab4956"
          }
        },
        "1db249523a8f4b0aa1794894924abfbe": {
          "model_module": "@jupyter-widgets/controls",
          "model_name": "HTMLModel",
          "model_module_version": "1.5.0",
          "state": {
            "_dom_classes": [],
            "_model_module": "@jupyter-widgets/controls",
            "_model_module_version": "1.5.0",
            "_model_name": "HTMLModel",
            "_view_count": null,
            "_view_module": "@jupyter-widgets/controls",
            "_view_module_version": "1.5.0",
            "_view_name": "HTMLView",
            "description": "",
            "description_tooltip": null,
            "layout": "IPY_MODEL_6f6f6860eda549ef814f10f7476bf7b5",
            "placeholder": "​",
            "style": "IPY_MODEL_b74d6b0343ab4d2aac9227cb9ca35d08",
            "value": "config_sentence_transformers.json: 100%"
          }
        },
        "501904992b854667ab5d29337a6e6a62": {
          "model_module": "@jupyter-widgets/controls",
          "model_name": "FloatProgressModel",
          "model_module_version": "1.5.0",
          "state": {
            "_dom_classes": [],
            "_model_module": "@jupyter-widgets/controls",
            "_model_module_version": "1.5.0",
            "_model_name": "FloatProgressModel",
            "_view_count": null,
            "_view_module": "@jupyter-widgets/controls",
            "_view_module_version": "1.5.0",
            "_view_name": "ProgressView",
            "bar_style": "success",
            "description": "",
            "description_tooltip": null,
            "layout": "IPY_MODEL_0249a7531e6445f2b0d5c284f08cb414",
            "max": 220,
            "min": 0,
            "orientation": "horizontal",
            "style": "IPY_MODEL_857805197ed14174a44fb5cae588df5c",
            "value": 220
          }
        },
        "d2fbe308f255425ba36756501ccc6c04": {
          "model_module": "@jupyter-widgets/controls",
          "model_name": "HTMLModel",
          "model_module_version": "1.5.0",
          "state": {
            "_dom_classes": [],
            "_model_module": "@jupyter-widgets/controls",
            "_model_module_version": "1.5.0",
            "_model_name": "HTMLModel",
            "_view_count": null,
            "_view_module": "@jupyter-widgets/controls",
            "_view_module_version": "1.5.0",
            "_view_name": "HTMLView",
            "description": "",
            "description_tooltip": null,
            "layout": "IPY_MODEL_bf23738c0bce4f01b192e5f46bd572b1",
            "placeholder": "​",
            "style": "IPY_MODEL_d43a053bcb384c879b35754ccaaa6582",
            "value": " 220/220 [00:00&lt;00:00, 26.5kB/s]"
          }
        },
        "03308ff7e537422390f546444cab4956": {
          "model_module": "@jupyter-widgets/base",
          "model_name": "LayoutModel",
          "model_module_version": "1.2.0",
          "state": {
            "_model_module": "@jupyter-widgets/base",
            "_model_module_version": "1.2.0",
            "_model_name": "LayoutModel",
            "_view_count": null,
            "_view_module": "@jupyter-widgets/base",
            "_view_module_version": "1.2.0",
            "_view_name": "LayoutView",
            "align_content": null,
            "align_items": null,
            "align_self": null,
            "border": null,
            "bottom": null,
            "display": null,
            "flex": null,
            "flex_flow": null,
            "grid_area": null,
            "grid_auto_columns": null,
            "grid_auto_flow": null,
            "grid_auto_rows": null,
            "grid_column": null,
            "grid_gap": null,
            "grid_row": null,
            "grid_template_areas": null,
            "grid_template_columns": null,
            "grid_template_rows": null,
            "height": null,
            "justify_content": null,
            "justify_items": null,
            "left": null,
            "margin": null,
            "max_height": null,
            "max_width": null,
            "min_height": null,
            "min_width": null,
            "object_fit": null,
            "object_position": null,
            "order": null,
            "overflow": null,
            "overflow_x": null,
            "overflow_y": null,
            "padding": null,
            "right": null,
            "top": null,
            "visibility": null,
            "width": null
          }
        },
        "6f6f6860eda549ef814f10f7476bf7b5": {
          "model_module": "@jupyter-widgets/base",
          "model_name": "LayoutModel",
          "model_module_version": "1.2.0",
          "state": {
            "_model_module": "@jupyter-widgets/base",
            "_model_module_version": "1.2.0",
            "_model_name": "LayoutModel",
            "_view_count": null,
            "_view_module": "@jupyter-widgets/base",
            "_view_module_version": "1.2.0",
            "_view_name": "LayoutView",
            "align_content": null,
            "align_items": null,
            "align_self": null,
            "border": null,
            "bottom": null,
            "display": null,
            "flex": null,
            "flex_flow": null,
            "grid_area": null,
            "grid_auto_columns": null,
            "grid_auto_flow": null,
            "grid_auto_rows": null,
            "grid_column": null,
            "grid_gap": null,
            "grid_row": null,
            "grid_template_areas": null,
            "grid_template_columns": null,
            "grid_template_rows": null,
            "height": null,
            "justify_content": null,
            "justify_items": null,
            "left": null,
            "margin": null,
            "max_height": null,
            "max_width": null,
            "min_height": null,
            "min_width": null,
            "object_fit": null,
            "object_position": null,
            "order": null,
            "overflow": null,
            "overflow_x": null,
            "overflow_y": null,
            "padding": null,
            "right": null,
            "top": null,
            "visibility": null,
            "width": null
          }
        },
        "b74d6b0343ab4d2aac9227cb9ca35d08": {
          "model_module": "@jupyter-widgets/controls",
          "model_name": "DescriptionStyleModel",
          "model_module_version": "1.5.0",
          "state": {
            "_model_module": "@jupyter-widgets/controls",
            "_model_module_version": "1.5.0",
            "_model_name": "DescriptionStyleModel",
            "_view_count": null,
            "_view_module": "@jupyter-widgets/base",
            "_view_module_version": "1.2.0",
            "_view_name": "StyleView",
            "description_width": ""
          }
        },
        "0249a7531e6445f2b0d5c284f08cb414": {
          "model_module": "@jupyter-widgets/base",
          "model_name": "LayoutModel",
          "model_module_version": "1.2.0",
          "state": {
            "_model_module": "@jupyter-widgets/base",
            "_model_module_version": "1.2.0",
            "_model_name": "LayoutModel",
            "_view_count": null,
            "_view_module": "@jupyter-widgets/base",
            "_view_module_version": "1.2.0",
            "_view_name": "LayoutView",
            "align_content": null,
            "align_items": null,
            "align_self": null,
            "border": null,
            "bottom": null,
            "display": null,
            "flex": null,
            "flex_flow": null,
            "grid_area": null,
            "grid_auto_columns": null,
            "grid_auto_flow": null,
            "grid_auto_rows": null,
            "grid_column": null,
            "grid_gap": null,
            "grid_row": null,
            "grid_template_areas": null,
            "grid_template_columns": null,
            "grid_template_rows": null,
            "height": null,
            "justify_content": null,
            "justify_items": null,
            "left": null,
            "margin": null,
            "max_height": null,
            "max_width": null,
            "min_height": null,
            "min_width": null,
            "object_fit": null,
            "object_position": null,
            "order": null,
            "overflow": null,
            "overflow_x": null,
            "overflow_y": null,
            "padding": null,
            "right": null,
            "top": null,
            "visibility": null,
            "width": null
          }
        },
        "857805197ed14174a44fb5cae588df5c": {
          "model_module": "@jupyter-widgets/controls",
          "model_name": "ProgressStyleModel",
          "model_module_version": "1.5.0",
          "state": {
            "_model_module": "@jupyter-widgets/controls",
            "_model_module_version": "1.5.0",
            "_model_name": "ProgressStyleModel",
            "_view_count": null,
            "_view_module": "@jupyter-widgets/base",
            "_view_module_version": "1.2.0",
            "_view_name": "StyleView",
            "bar_color": null,
            "description_width": ""
          }
        },
        "bf23738c0bce4f01b192e5f46bd572b1": {
          "model_module": "@jupyter-widgets/base",
          "model_name": "LayoutModel",
          "model_module_version": "1.2.0",
          "state": {
            "_model_module": "@jupyter-widgets/base",
            "_model_module_version": "1.2.0",
            "_model_name": "LayoutModel",
            "_view_count": null,
            "_view_module": "@jupyter-widgets/base",
            "_view_module_version": "1.2.0",
            "_view_name": "LayoutView",
            "align_content": null,
            "align_items": null,
            "align_self": null,
            "border": null,
            "bottom": null,
            "display": null,
            "flex": null,
            "flex_flow": null,
            "grid_area": null,
            "grid_auto_columns": null,
            "grid_auto_flow": null,
            "grid_auto_rows": null,
            "grid_column": null,
            "grid_gap": null,
            "grid_row": null,
            "grid_template_areas": null,
            "grid_template_columns": null,
            "grid_template_rows": null,
            "height": null,
            "justify_content": null,
            "justify_items": null,
            "left": null,
            "margin": null,
            "max_height": null,
            "max_width": null,
            "min_height": null,
            "min_width": null,
            "object_fit": null,
            "object_position": null,
            "order": null,
            "overflow": null,
            "overflow_x": null,
            "overflow_y": null,
            "padding": null,
            "right": null,
            "top": null,
            "visibility": null,
            "width": null
          }
        },
        "d43a053bcb384c879b35754ccaaa6582": {
          "model_module": "@jupyter-widgets/controls",
          "model_name": "DescriptionStyleModel",
          "model_module_version": "1.5.0",
          "state": {
            "_model_module": "@jupyter-widgets/controls",
            "_model_module_version": "1.5.0",
            "_model_name": "DescriptionStyleModel",
            "_view_count": null,
            "_view_module": "@jupyter-widgets/base",
            "_view_module_version": "1.2.0",
            "_view_name": "StyleView",
            "description_width": ""
          }
        },
        "bfca3fe101d349d3a92024af7fb450cb": {
          "model_module": "@jupyter-widgets/controls",
          "model_name": "HBoxModel",
          "model_module_version": "1.5.0",
          "state": {
            "_dom_classes": [],
            "_model_module": "@jupyter-widgets/controls",
            "_model_module_version": "1.5.0",
            "_model_name": "HBoxModel",
            "_view_count": null,
            "_view_module": "@jupyter-widgets/controls",
            "_view_module_version": "1.5.0",
            "_view_name": "HBoxView",
            "box_style": "",
            "children": [
              "IPY_MODEL_28127f709d124750baf4e9f8ee5110b2",
              "IPY_MODEL_e610c854a078486eb725a54c876fb8bc",
              "IPY_MODEL_5243501747df4a159b5ff5be036c801a"
            ],
            "layout": "IPY_MODEL_d39ede6cf6c24d26ba73a35d9d394c36"
          }
        },
        "28127f709d124750baf4e9f8ee5110b2": {
          "model_module": "@jupyter-widgets/controls",
          "model_name": "HTMLModel",
          "model_module_version": "1.5.0",
          "state": {
            "_dom_classes": [],
            "_model_module": "@jupyter-widgets/controls",
            "_model_module_version": "1.5.0",
            "_model_name": "HTMLModel",
            "_view_count": null,
            "_view_module": "@jupyter-widgets/controls",
            "_view_module_version": "1.5.0",
            "_view_name": "HTMLView",
            "description": "",
            "description_tooltip": null,
            "layout": "IPY_MODEL_7dcd0565b19c4811a18be2ade08a5e76",
            "placeholder": "​",
            "style": "IPY_MODEL_b7b165e051c349f78482d4e956852598",
            "value": "README.md: "
          }
        },
        "e610c854a078486eb725a54c876fb8bc": {
          "model_module": "@jupyter-widgets/controls",
          "model_name": "FloatProgressModel",
          "model_module_version": "1.5.0",
          "state": {
            "_dom_classes": [],
            "_model_module": "@jupyter-widgets/controls",
            "_model_module_version": "1.5.0",
            "_model_name": "FloatProgressModel",
            "_view_count": null,
            "_view_module": "@jupyter-widgets/controls",
            "_view_module_version": "1.5.0",
            "_view_name": "ProgressView",
            "bar_style": "success",
            "description": "",
            "description_tooltip": null,
            "layout": "IPY_MODEL_c077240363a5475f9832be4dd3844c39",
            "max": 1,
            "min": 0,
            "orientation": "horizontal",
            "style": "IPY_MODEL_a60002ac94f64e858d328eeba36e9e09",
            "value": 1
          }
        },
        "5243501747df4a159b5ff5be036c801a": {
          "model_module": "@jupyter-widgets/controls",
          "model_name": "HTMLModel",
          "model_module_version": "1.5.0",
          "state": {
            "_dom_classes": [],
            "_model_module": "@jupyter-widgets/controls",
            "_model_module_version": "1.5.0",
            "_model_name": "HTMLModel",
            "_view_count": null,
            "_view_module": "@jupyter-widgets/controls",
            "_view_module_version": "1.5.0",
            "_view_name": "HTMLView",
            "description": "",
            "description_tooltip": null,
            "layout": "IPY_MODEL_d4d1cb8305994a5d9551d9dafc22e21f",
            "placeholder": "​",
            "style": "IPY_MODEL_89ebffeea10b4eff9fac6215a240a18d",
            "value": " 16.9k/? [00:00&lt;00:00, 1.67MB/s]"
          }
        },
        "d39ede6cf6c24d26ba73a35d9d394c36": {
          "model_module": "@jupyter-widgets/base",
          "model_name": "LayoutModel",
          "model_module_version": "1.2.0",
          "state": {
            "_model_module": "@jupyter-widgets/base",
            "_model_module_version": "1.2.0",
            "_model_name": "LayoutModel",
            "_view_count": null,
            "_view_module": "@jupyter-widgets/base",
            "_view_module_version": "1.2.0",
            "_view_name": "LayoutView",
            "align_content": null,
            "align_items": null,
            "align_self": null,
            "border": null,
            "bottom": null,
            "display": null,
            "flex": null,
            "flex_flow": null,
            "grid_area": null,
            "grid_auto_columns": null,
            "grid_auto_flow": null,
            "grid_auto_rows": null,
            "grid_column": null,
            "grid_gap": null,
            "grid_row": null,
            "grid_template_areas": null,
            "grid_template_columns": null,
            "grid_template_rows": null,
            "height": null,
            "justify_content": null,
            "justify_items": null,
            "left": null,
            "margin": null,
            "max_height": null,
            "max_width": null,
            "min_height": null,
            "min_width": null,
            "object_fit": null,
            "object_position": null,
            "order": null,
            "overflow": null,
            "overflow_x": null,
            "overflow_y": null,
            "padding": null,
            "right": null,
            "top": null,
            "visibility": null,
            "width": null
          }
        },
        "7dcd0565b19c4811a18be2ade08a5e76": {
          "model_module": "@jupyter-widgets/base",
          "model_name": "LayoutModel",
          "model_module_version": "1.2.0",
          "state": {
            "_model_module": "@jupyter-widgets/base",
            "_model_module_version": "1.2.0",
            "_model_name": "LayoutModel",
            "_view_count": null,
            "_view_module": "@jupyter-widgets/base",
            "_view_module_version": "1.2.0",
            "_view_name": "LayoutView",
            "align_content": null,
            "align_items": null,
            "align_self": null,
            "border": null,
            "bottom": null,
            "display": null,
            "flex": null,
            "flex_flow": null,
            "grid_area": null,
            "grid_auto_columns": null,
            "grid_auto_flow": null,
            "grid_auto_rows": null,
            "grid_column": null,
            "grid_gap": null,
            "grid_row": null,
            "grid_template_areas": null,
            "grid_template_columns": null,
            "grid_template_rows": null,
            "height": null,
            "justify_content": null,
            "justify_items": null,
            "left": null,
            "margin": null,
            "max_height": null,
            "max_width": null,
            "min_height": null,
            "min_width": null,
            "object_fit": null,
            "object_position": null,
            "order": null,
            "overflow": null,
            "overflow_x": null,
            "overflow_y": null,
            "padding": null,
            "right": null,
            "top": null,
            "visibility": null,
            "width": null
          }
        },
        "b7b165e051c349f78482d4e956852598": {
          "model_module": "@jupyter-widgets/controls",
          "model_name": "DescriptionStyleModel",
          "model_module_version": "1.5.0",
          "state": {
            "_model_module": "@jupyter-widgets/controls",
            "_model_module_version": "1.5.0",
            "_model_name": "DescriptionStyleModel",
            "_view_count": null,
            "_view_module": "@jupyter-widgets/base",
            "_view_module_version": "1.2.0",
            "_view_name": "StyleView",
            "description_width": ""
          }
        },
        "c077240363a5475f9832be4dd3844c39": {
          "model_module": "@jupyter-widgets/base",
          "model_name": "LayoutModel",
          "model_module_version": "1.2.0",
          "state": {
            "_model_module": "@jupyter-widgets/base",
            "_model_module_version": "1.2.0",
            "_model_name": "LayoutModel",
            "_view_count": null,
            "_view_module": "@jupyter-widgets/base",
            "_view_module_version": "1.2.0",
            "_view_name": "LayoutView",
            "align_content": null,
            "align_items": null,
            "align_self": null,
            "border": null,
            "bottom": null,
            "display": null,
            "flex": null,
            "flex_flow": null,
            "grid_area": null,
            "grid_auto_columns": null,
            "grid_auto_flow": null,
            "grid_auto_rows": null,
            "grid_column": null,
            "grid_gap": null,
            "grid_row": null,
            "grid_template_areas": null,
            "grid_template_columns": null,
            "grid_template_rows": null,
            "height": null,
            "justify_content": null,
            "justify_items": null,
            "left": null,
            "margin": null,
            "max_height": null,
            "max_width": null,
            "min_height": null,
            "min_width": null,
            "object_fit": null,
            "object_position": null,
            "order": null,
            "overflow": null,
            "overflow_x": null,
            "overflow_y": null,
            "padding": null,
            "right": null,
            "top": null,
            "visibility": null,
            "width": "20px"
          }
        },
        "a60002ac94f64e858d328eeba36e9e09": {
          "model_module": "@jupyter-widgets/controls",
          "model_name": "ProgressStyleModel",
          "model_module_version": "1.5.0",
          "state": {
            "_model_module": "@jupyter-widgets/controls",
            "_model_module_version": "1.5.0",
            "_model_name": "ProgressStyleModel",
            "_view_count": null,
            "_view_module": "@jupyter-widgets/base",
            "_view_module_version": "1.2.0",
            "_view_name": "StyleView",
            "bar_color": null,
            "description_width": ""
          }
        },
        "d4d1cb8305994a5d9551d9dafc22e21f": {
          "model_module": "@jupyter-widgets/base",
          "model_name": "LayoutModel",
          "model_module_version": "1.2.0",
          "state": {
            "_model_module": "@jupyter-widgets/base",
            "_model_module_version": "1.2.0",
            "_model_name": "LayoutModel",
            "_view_count": null,
            "_view_module": "@jupyter-widgets/base",
            "_view_module_version": "1.2.0",
            "_view_name": "LayoutView",
            "align_content": null,
            "align_items": null,
            "align_self": null,
            "border": null,
            "bottom": null,
            "display": null,
            "flex": null,
            "flex_flow": null,
            "grid_area": null,
            "grid_auto_columns": null,
            "grid_auto_flow": null,
            "grid_auto_rows": null,
            "grid_column": null,
            "grid_gap": null,
            "grid_row": null,
            "grid_template_areas": null,
            "grid_template_columns": null,
            "grid_template_rows": null,
            "height": null,
            "justify_content": null,
            "justify_items": null,
            "left": null,
            "margin": null,
            "max_height": null,
            "max_width": null,
            "min_height": null,
            "min_width": null,
            "object_fit": null,
            "object_position": null,
            "order": null,
            "overflow": null,
            "overflow_x": null,
            "overflow_y": null,
            "padding": null,
            "right": null,
            "top": null,
            "visibility": null,
            "width": null
          }
        },
        "89ebffeea10b4eff9fac6215a240a18d": {
          "model_module": "@jupyter-widgets/controls",
          "model_name": "DescriptionStyleModel",
          "model_module_version": "1.5.0",
          "state": {
            "_model_module": "@jupyter-widgets/controls",
            "_model_module_version": "1.5.0",
            "_model_name": "DescriptionStyleModel",
            "_view_count": null,
            "_view_module": "@jupyter-widgets/base",
            "_view_module_version": "1.2.0",
            "_view_name": "StyleView",
            "description_width": ""
          }
        },
        "fedbaa7e4d1649d1aa2b8d21d657195c": {
          "model_module": "@jupyter-widgets/controls",
          "model_name": "HBoxModel",
          "model_module_version": "1.5.0",
          "state": {
            "_dom_classes": [],
            "_model_module": "@jupyter-widgets/controls",
            "_model_module_version": "1.5.0",
            "_model_name": "HBoxModel",
            "_view_count": null,
            "_view_module": "@jupyter-widgets/controls",
            "_view_module_version": "1.5.0",
            "_view_name": "HBoxView",
            "box_style": "",
            "children": [
              "IPY_MODEL_f3e37b9f35a24b0c96f8c1f804a62b69",
              "IPY_MODEL_1b9d83ac68e040ac98e1128c9c898707",
              "IPY_MODEL_d26e79f288454c87840c5ae996931f55"
            ],
            "layout": "IPY_MODEL_685d6ff9a78b4055a62a0f6545656e20"
          }
        },
        "f3e37b9f35a24b0c96f8c1f804a62b69": {
          "model_module": "@jupyter-widgets/controls",
          "model_name": "HTMLModel",
          "model_module_version": "1.5.0",
          "state": {
            "_dom_classes": [],
            "_model_module": "@jupyter-widgets/controls",
            "_model_module_version": "1.5.0",
            "_model_name": "HTMLModel",
            "_view_count": null,
            "_view_module": "@jupyter-widgets/controls",
            "_view_module_version": "1.5.0",
            "_view_name": "HTMLView",
            "description": "",
            "description_tooltip": null,
            "layout": "IPY_MODEL_a8292cad82fa46e7b6a9e92d9c17d2fe",
            "placeholder": "​",
            "style": "IPY_MODEL_26927e5702fa49009afc8579cf333daa",
            "value": "sentence_bert_config.json: 100%"
          }
        },
        "1b9d83ac68e040ac98e1128c9c898707": {
          "model_module": "@jupyter-widgets/controls",
          "model_name": "FloatProgressModel",
          "model_module_version": "1.5.0",
          "state": {
            "_dom_classes": [],
            "_model_module": "@jupyter-widgets/controls",
            "_model_module_version": "1.5.0",
            "_model_name": "FloatProgressModel",
            "_view_count": null,
            "_view_module": "@jupyter-widgets/controls",
            "_view_module_version": "1.5.0",
            "_view_name": "ProgressView",
            "bar_style": "success",
            "description": "",
            "description_tooltip": null,
            "layout": "IPY_MODEL_fd08c77fa15945068c9f6f6efcfcd375",
            "max": 54,
            "min": 0,
            "orientation": "horizontal",
            "style": "IPY_MODEL_ef7ce18b87544cc4812f55096379d588",
            "value": 54
          }
        },
        "d26e79f288454c87840c5ae996931f55": {
          "model_module": "@jupyter-widgets/controls",
          "model_name": "HTMLModel",
          "model_module_version": "1.5.0",
          "state": {
            "_dom_classes": [],
            "_model_module": "@jupyter-widgets/controls",
            "_model_module_version": "1.5.0",
            "_model_name": "HTMLModel",
            "_view_count": null,
            "_view_module": "@jupyter-widgets/controls",
            "_view_module_version": "1.5.0",
            "_view_name": "HTMLView",
            "description": "",
            "description_tooltip": null,
            "layout": "IPY_MODEL_a087f316b3c84f5b94b682b4dd20b7df",
            "placeholder": "​",
            "style": "IPY_MODEL_9af06f6fd04a42d29c1b7bb435de1b15",
            "value": " 54.0/54.0 [00:00&lt;00:00, 6.30kB/s]"
          }
        },
        "685d6ff9a78b4055a62a0f6545656e20": {
          "model_module": "@jupyter-widgets/base",
          "model_name": "LayoutModel",
          "model_module_version": "1.2.0",
          "state": {
            "_model_module": "@jupyter-widgets/base",
            "_model_module_version": "1.2.0",
            "_model_name": "LayoutModel",
            "_view_count": null,
            "_view_module": "@jupyter-widgets/base",
            "_view_module_version": "1.2.0",
            "_view_name": "LayoutView",
            "align_content": null,
            "align_items": null,
            "align_self": null,
            "border": null,
            "bottom": null,
            "display": null,
            "flex": null,
            "flex_flow": null,
            "grid_area": null,
            "grid_auto_columns": null,
            "grid_auto_flow": null,
            "grid_auto_rows": null,
            "grid_column": null,
            "grid_gap": null,
            "grid_row": null,
            "grid_template_areas": null,
            "grid_template_columns": null,
            "grid_template_rows": null,
            "height": null,
            "justify_content": null,
            "justify_items": null,
            "left": null,
            "margin": null,
            "max_height": null,
            "max_width": null,
            "min_height": null,
            "min_width": null,
            "object_fit": null,
            "object_position": null,
            "order": null,
            "overflow": null,
            "overflow_x": null,
            "overflow_y": null,
            "padding": null,
            "right": null,
            "top": null,
            "visibility": null,
            "width": null
          }
        },
        "a8292cad82fa46e7b6a9e92d9c17d2fe": {
          "model_module": "@jupyter-widgets/base",
          "model_name": "LayoutModel",
          "model_module_version": "1.2.0",
          "state": {
            "_model_module": "@jupyter-widgets/base",
            "_model_module_version": "1.2.0",
            "_model_name": "LayoutModel",
            "_view_count": null,
            "_view_module": "@jupyter-widgets/base",
            "_view_module_version": "1.2.0",
            "_view_name": "LayoutView",
            "align_content": null,
            "align_items": null,
            "align_self": null,
            "border": null,
            "bottom": null,
            "display": null,
            "flex": null,
            "flex_flow": null,
            "grid_area": null,
            "grid_auto_columns": null,
            "grid_auto_flow": null,
            "grid_auto_rows": null,
            "grid_column": null,
            "grid_gap": null,
            "grid_row": null,
            "grid_template_areas": null,
            "grid_template_columns": null,
            "grid_template_rows": null,
            "height": null,
            "justify_content": null,
            "justify_items": null,
            "left": null,
            "margin": null,
            "max_height": null,
            "max_width": null,
            "min_height": null,
            "min_width": null,
            "object_fit": null,
            "object_position": null,
            "order": null,
            "overflow": null,
            "overflow_x": null,
            "overflow_y": null,
            "padding": null,
            "right": null,
            "top": null,
            "visibility": null,
            "width": null
          }
        },
        "26927e5702fa49009afc8579cf333daa": {
          "model_module": "@jupyter-widgets/controls",
          "model_name": "DescriptionStyleModel",
          "model_module_version": "1.5.0",
          "state": {
            "_model_module": "@jupyter-widgets/controls",
            "_model_module_version": "1.5.0",
            "_model_name": "DescriptionStyleModel",
            "_view_count": null,
            "_view_module": "@jupyter-widgets/base",
            "_view_module_version": "1.2.0",
            "_view_name": "StyleView",
            "description_width": ""
          }
        },
        "fd08c77fa15945068c9f6f6efcfcd375": {
          "model_module": "@jupyter-widgets/base",
          "model_name": "LayoutModel",
          "model_module_version": "1.2.0",
          "state": {
            "_model_module": "@jupyter-widgets/base",
            "_model_module_version": "1.2.0",
            "_model_name": "LayoutModel",
            "_view_count": null,
            "_view_module": "@jupyter-widgets/base",
            "_view_module_version": "1.2.0",
            "_view_name": "LayoutView",
            "align_content": null,
            "align_items": null,
            "align_self": null,
            "border": null,
            "bottom": null,
            "display": null,
            "flex": null,
            "flex_flow": null,
            "grid_area": null,
            "grid_auto_columns": null,
            "grid_auto_flow": null,
            "grid_auto_rows": null,
            "grid_column": null,
            "grid_gap": null,
            "grid_row": null,
            "grid_template_areas": null,
            "grid_template_columns": null,
            "grid_template_rows": null,
            "height": null,
            "justify_content": null,
            "justify_items": null,
            "left": null,
            "margin": null,
            "max_height": null,
            "max_width": null,
            "min_height": null,
            "min_width": null,
            "object_fit": null,
            "object_position": null,
            "order": null,
            "overflow": null,
            "overflow_x": null,
            "overflow_y": null,
            "padding": null,
            "right": null,
            "top": null,
            "visibility": null,
            "width": null
          }
        },
        "ef7ce18b87544cc4812f55096379d588": {
          "model_module": "@jupyter-widgets/controls",
          "model_name": "ProgressStyleModel",
          "model_module_version": "1.5.0",
          "state": {
            "_model_module": "@jupyter-widgets/controls",
            "_model_module_version": "1.5.0",
            "_model_name": "ProgressStyleModel",
            "_view_count": null,
            "_view_module": "@jupyter-widgets/base",
            "_view_module_version": "1.2.0",
            "_view_name": "StyleView",
            "bar_color": null,
            "description_width": ""
          }
        },
        "a087f316b3c84f5b94b682b4dd20b7df": {
          "model_module": "@jupyter-widgets/base",
          "model_name": "LayoutModel",
          "model_module_version": "1.2.0",
          "state": {
            "_model_module": "@jupyter-widgets/base",
            "_model_module_version": "1.2.0",
            "_model_name": "LayoutModel",
            "_view_count": null,
            "_view_module": "@jupyter-widgets/base",
            "_view_module_version": "1.2.0",
            "_view_name": "LayoutView",
            "align_content": null,
            "align_items": null,
            "align_self": null,
            "border": null,
            "bottom": null,
            "display": null,
            "flex": null,
            "flex_flow": null,
            "grid_area": null,
            "grid_auto_columns": null,
            "grid_auto_flow": null,
            "grid_auto_rows": null,
            "grid_column": null,
            "grid_gap": null,
            "grid_row": null,
            "grid_template_areas": null,
            "grid_template_columns": null,
            "grid_template_rows": null,
            "height": null,
            "justify_content": null,
            "justify_items": null,
            "left": null,
            "margin": null,
            "max_height": null,
            "max_width": null,
            "min_height": null,
            "min_width": null,
            "object_fit": null,
            "object_position": null,
            "order": null,
            "overflow": null,
            "overflow_x": null,
            "overflow_y": null,
            "padding": null,
            "right": null,
            "top": null,
            "visibility": null,
            "width": null
          }
        },
        "9af06f6fd04a42d29c1b7bb435de1b15": {
          "model_module": "@jupyter-widgets/controls",
          "model_name": "DescriptionStyleModel",
          "model_module_version": "1.5.0",
          "state": {
            "_model_module": "@jupyter-widgets/controls",
            "_model_module_version": "1.5.0",
            "_model_name": "DescriptionStyleModel",
            "_view_count": null,
            "_view_module": "@jupyter-widgets/base",
            "_view_module_version": "1.2.0",
            "_view_name": "StyleView",
            "description_width": ""
          }
        },
        "cb43e26aed4b4284a793f79090917ee9": {
          "model_module": "@jupyter-widgets/controls",
          "model_name": "HBoxModel",
          "model_module_version": "1.5.0",
          "state": {
            "_dom_classes": [],
            "_model_module": "@jupyter-widgets/controls",
            "_model_module_version": "1.5.0",
            "_model_name": "HBoxModel",
            "_view_count": null,
            "_view_module": "@jupyter-widgets/controls",
            "_view_module_version": "1.5.0",
            "_view_name": "HBoxView",
            "box_style": "",
            "children": [
              "IPY_MODEL_9c7308a90a394795ba5e7cca072f768c",
              "IPY_MODEL_0c4d556cbe424b30989027fa8b953859",
              "IPY_MODEL_abf275da97bc44968fdf9b693dc66abe"
            ],
            "layout": "IPY_MODEL_37ce3f7eed574d80a2834c19613bf104"
          }
        },
        "9c7308a90a394795ba5e7cca072f768c": {
          "model_module": "@jupyter-widgets/controls",
          "model_name": "HTMLModel",
          "model_module_version": "1.5.0",
          "state": {
            "_dom_classes": [],
            "_model_module": "@jupyter-widgets/controls",
            "_model_module_version": "1.5.0",
            "_model_name": "HTMLModel",
            "_view_count": null,
            "_view_module": "@jupyter-widgets/controls",
            "_view_module_version": "1.5.0",
            "_view_name": "HTMLView",
            "description": "",
            "description_tooltip": null,
            "layout": "IPY_MODEL_5349f752fa194c1da1b68502f5e16c1d",
            "placeholder": "​",
            "style": "IPY_MODEL_a51e0434e5cf424f884a0aaa30a090ef",
            "value": "config.json: 100%"
          }
        },
        "0c4d556cbe424b30989027fa8b953859": {
          "model_module": "@jupyter-widgets/controls",
          "model_name": "FloatProgressModel",
          "model_module_version": "1.5.0",
          "state": {
            "_dom_classes": [],
            "_model_module": "@jupyter-widgets/controls",
            "_model_module_version": "1.5.0",
            "_model_name": "FloatProgressModel",
            "_view_count": null,
            "_view_module": "@jupyter-widgets/controls",
            "_view_module_version": "1.5.0",
            "_view_name": "ProgressView",
            "bar_style": "success",
            "description": "",
            "description_tooltip": null,
            "layout": "IPY_MODEL_998dec4bacc344b1aa9c8ec7d0d1427f",
            "max": 807,
            "min": 0,
            "orientation": "horizontal",
            "style": "IPY_MODEL_0b29e6ad945e4aa185252357ff68e698",
            "value": 807
          }
        },
        "abf275da97bc44968fdf9b693dc66abe": {
          "model_module": "@jupyter-widgets/controls",
          "model_name": "HTMLModel",
          "model_module_version": "1.5.0",
          "state": {
            "_dom_classes": [],
            "_model_module": "@jupyter-widgets/controls",
            "_model_module_version": "1.5.0",
            "_model_name": "HTMLModel",
            "_view_count": null,
            "_view_module": "@jupyter-widgets/controls",
            "_view_module_version": "1.5.0",
            "_view_name": "HTMLView",
            "description": "",
            "description_tooltip": null,
            "layout": "IPY_MODEL_3b7d8bdc5ba8434691c6909c3b9bc6f4",
            "placeholder": "​",
            "style": "IPY_MODEL_5ec037f6a5ab4fdf93b17382ab18f547",
            "value": " 807/807 [00:00&lt;00:00, 75.6kB/s]"
          }
        },
        "37ce3f7eed574d80a2834c19613bf104": {
          "model_module": "@jupyter-widgets/base",
          "model_name": "LayoutModel",
          "model_module_version": "1.2.0",
          "state": {
            "_model_module": "@jupyter-widgets/base",
            "_model_module_version": "1.2.0",
            "_model_name": "LayoutModel",
            "_view_count": null,
            "_view_module": "@jupyter-widgets/base",
            "_view_module_version": "1.2.0",
            "_view_name": "LayoutView",
            "align_content": null,
            "align_items": null,
            "align_self": null,
            "border": null,
            "bottom": null,
            "display": null,
            "flex": null,
            "flex_flow": null,
            "grid_area": null,
            "grid_auto_columns": null,
            "grid_auto_flow": null,
            "grid_auto_rows": null,
            "grid_column": null,
            "grid_gap": null,
            "grid_row": null,
            "grid_template_areas": null,
            "grid_template_columns": null,
            "grid_template_rows": null,
            "height": null,
            "justify_content": null,
            "justify_items": null,
            "left": null,
            "margin": null,
            "max_height": null,
            "max_width": null,
            "min_height": null,
            "min_width": null,
            "object_fit": null,
            "object_position": null,
            "order": null,
            "overflow": null,
            "overflow_x": null,
            "overflow_y": null,
            "padding": null,
            "right": null,
            "top": null,
            "visibility": null,
            "width": null
          }
        },
        "5349f752fa194c1da1b68502f5e16c1d": {
          "model_module": "@jupyter-widgets/base",
          "model_name": "LayoutModel",
          "model_module_version": "1.2.0",
          "state": {
            "_model_module": "@jupyter-widgets/base",
            "_model_module_version": "1.2.0",
            "_model_name": "LayoutModel",
            "_view_count": null,
            "_view_module": "@jupyter-widgets/base",
            "_view_module_version": "1.2.0",
            "_view_name": "LayoutView",
            "align_content": null,
            "align_items": null,
            "align_self": null,
            "border": null,
            "bottom": null,
            "display": null,
            "flex": null,
            "flex_flow": null,
            "grid_area": null,
            "grid_auto_columns": null,
            "grid_auto_flow": null,
            "grid_auto_rows": null,
            "grid_column": null,
            "grid_gap": null,
            "grid_row": null,
            "grid_template_areas": null,
            "grid_template_columns": null,
            "grid_template_rows": null,
            "height": null,
            "justify_content": null,
            "justify_items": null,
            "left": null,
            "margin": null,
            "max_height": null,
            "max_width": null,
            "min_height": null,
            "min_width": null,
            "object_fit": null,
            "object_position": null,
            "order": null,
            "overflow": null,
            "overflow_x": null,
            "overflow_y": null,
            "padding": null,
            "right": null,
            "top": null,
            "visibility": null,
            "width": null
          }
        },
        "a51e0434e5cf424f884a0aaa30a090ef": {
          "model_module": "@jupyter-widgets/controls",
          "model_name": "DescriptionStyleModel",
          "model_module_version": "1.5.0",
          "state": {
            "_model_module": "@jupyter-widgets/controls",
            "_model_module_version": "1.5.0",
            "_model_name": "DescriptionStyleModel",
            "_view_count": null,
            "_view_module": "@jupyter-widgets/base",
            "_view_module_version": "1.2.0",
            "_view_name": "StyleView",
            "description_width": ""
          }
        },
        "998dec4bacc344b1aa9c8ec7d0d1427f": {
          "model_module": "@jupyter-widgets/base",
          "model_name": "LayoutModel",
          "model_module_version": "1.2.0",
          "state": {
            "_model_module": "@jupyter-widgets/base",
            "_model_module_version": "1.2.0",
            "_model_name": "LayoutModel",
            "_view_count": null,
            "_view_module": "@jupyter-widgets/base",
            "_view_module_version": "1.2.0",
            "_view_name": "LayoutView",
            "align_content": null,
            "align_items": null,
            "align_self": null,
            "border": null,
            "bottom": null,
            "display": null,
            "flex": null,
            "flex_flow": null,
            "grid_area": null,
            "grid_auto_columns": null,
            "grid_auto_flow": null,
            "grid_auto_rows": null,
            "grid_column": null,
            "grid_gap": null,
            "grid_row": null,
            "grid_template_areas": null,
            "grid_template_columns": null,
            "grid_template_rows": null,
            "height": null,
            "justify_content": null,
            "justify_items": null,
            "left": null,
            "margin": null,
            "max_height": null,
            "max_width": null,
            "min_height": null,
            "min_width": null,
            "object_fit": null,
            "object_position": null,
            "order": null,
            "overflow": null,
            "overflow_x": null,
            "overflow_y": null,
            "padding": null,
            "right": null,
            "top": null,
            "visibility": null,
            "width": null
          }
        },
        "0b29e6ad945e4aa185252357ff68e698": {
          "model_module": "@jupyter-widgets/controls",
          "model_name": "ProgressStyleModel",
          "model_module_version": "1.5.0",
          "state": {
            "_model_module": "@jupyter-widgets/controls",
            "_model_module_version": "1.5.0",
            "_model_name": "ProgressStyleModel",
            "_view_count": null,
            "_view_module": "@jupyter-widgets/base",
            "_view_module_version": "1.2.0",
            "_view_name": "StyleView",
            "bar_color": null,
            "description_width": ""
          }
        },
        "3b7d8bdc5ba8434691c6909c3b9bc6f4": {
          "model_module": "@jupyter-widgets/base",
          "model_name": "LayoutModel",
          "model_module_version": "1.2.0",
          "state": {
            "_model_module": "@jupyter-widgets/base",
            "_model_module_version": "1.2.0",
            "_model_name": "LayoutModel",
            "_view_count": null,
            "_view_module": "@jupyter-widgets/base",
            "_view_module_version": "1.2.0",
            "_view_name": "LayoutView",
            "align_content": null,
            "align_items": null,
            "align_self": null,
            "border": null,
            "bottom": null,
            "display": null,
            "flex": null,
            "flex_flow": null,
            "grid_area": null,
            "grid_auto_columns": null,
            "grid_auto_flow": null,
            "grid_auto_rows": null,
            "grid_column": null,
            "grid_gap": null,
            "grid_row": null,
            "grid_template_areas": null,
            "grid_template_columns": null,
            "grid_template_rows": null,
            "height": null,
            "justify_content": null,
            "justify_items": null,
            "left": null,
            "margin": null,
            "max_height": null,
            "max_width": null,
            "min_height": null,
            "min_width": null,
            "object_fit": null,
            "object_position": null,
            "order": null,
            "overflow": null,
            "overflow_x": null,
            "overflow_y": null,
            "padding": null,
            "right": null,
            "top": null,
            "visibility": null,
            "width": null
          }
        },
        "5ec037f6a5ab4fdf93b17382ab18f547": {
          "model_module": "@jupyter-widgets/controls",
          "model_name": "DescriptionStyleModel",
          "model_module_version": "1.5.0",
          "state": {
            "_model_module": "@jupyter-widgets/controls",
            "_model_module_version": "1.5.0",
            "_model_name": "DescriptionStyleModel",
            "_view_count": null,
            "_view_module": "@jupyter-widgets/base",
            "_view_module_version": "1.2.0",
            "_view_name": "StyleView",
            "description_width": ""
          }
        },
        "c1fb426df72546c18a38429863577e1a": {
          "model_module": "@jupyter-widgets/controls",
          "model_name": "HBoxModel",
          "model_module_version": "1.5.0",
          "state": {
            "_dom_classes": [],
            "_model_module": "@jupyter-widgets/controls",
            "_model_module_version": "1.5.0",
            "_model_name": "HBoxModel",
            "_view_count": null,
            "_view_module": "@jupyter-widgets/controls",
            "_view_module_version": "1.5.0",
            "_view_name": "HBoxView",
            "box_style": "",
            "children": [
              "IPY_MODEL_69924766acd9408f929a347c39760ba7",
              "IPY_MODEL_94980f7e51784c7aa0a39f9813fa59d7",
              "IPY_MODEL_83ec66aae39249dabd218b2c70450c6d"
            ],
            "layout": "IPY_MODEL_29ee523d1ec64d9394cdef25c1ffeb41"
          }
        },
        "69924766acd9408f929a347c39760ba7": {
          "model_module": "@jupyter-widgets/controls",
          "model_name": "HTMLModel",
          "model_module_version": "1.5.0",
          "state": {
            "_dom_classes": [],
            "_model_module": "@jupyter-widgets/controls",
            "_model_module_version": "1.5.0",
            "_model_name": "HTMLModel",
            "_view_count": null,
            "_view_module": "@jupyter-widgets/controls",
            "_view_module_version": "1.5.0",
            "_view_name": "HTMLView",
            "description": "",
            "description_tooltip": null,
            "layout": "IPY_MODEL_3006412cd7ac43e8b5b8a806d8d5bf6a",
            "placeholder": "​",
            "style": "IPY_MODEL_c349d86500444bafaf548137f7d3ab22",
            "value": "model.safetensors: 100%"
          }
        },
        "94980f7e51784c7aa0a39f9813fa59d7": {
          "model_module": "@jupyter-widgets/controls",
          "model_name": "FloatProgressModel",
          "model_module_version": "1.5.0",
          "state": {
            "_dom_classes": [],
            "_model_module": "@jupyter-widgets/controls",
            "_model_module_version": "1.5.0",
            "_model_name": "FloatProgressModel",
            "_view_count": null,
            "_view_module": "@jupyter-widgets/controls",
            "_view_module_version": "1.5.0",
            "_view_name": "ProgressView",
            "bar_style": "success",
            "description": "",
            "description_tooltip": null,
            "layout": "IPY_MODEL_a3f5c885b863414fb5344b00de65922c",
            "max": 2271064456,
            "min": 0,
            "orientation": "horizontal",
            "style": "IPY_MODEL_26b0d2c4654f46e0a5086ebd614b4d52",
            "value": 2271064456
          }
        },
        "83ec66aae39249dabd218b2c70450c6d": {
          "model_module": "@jupyter-widgets/controls",
          "model_name": "HTMLModel",
          "model_module_version": "1.5.0",
          "state": {
            "_dom_classes": [],
            "_model_module": "@jupyter-widgets/controls",
            "_model_module_version": "1.5.0",
            "_model_name": "HTMLModel",
            "_view_count": null,
            "_view_module": "@jupyter-widgets/controls",
            "_view_module_version": "1.5.0",
            "_view_name": "HTMLView",
            "description": "",
            "description_tooltip": null,
            "layout": "IPY_MODEL_3302cc7297b141d994fcf4efe3187a69",
            "placeholder": "​",
            "style": "IPY_MODEL_085bc35bc74941ea9738f65b1f6efc4d",
            "value": " 2.27G/2.27G [00:56&lt;00:00, 88.5MB/s]"
          }
        },
        "29ee523d1ec64d9394cdef25c1ffeb41": {
          "model_module": "@jupyter-widgets/base",
          "model_name": "LayoutModel",
          "model_module_version": "1.2.0",
          "state": {
            "_model_module": "@jupyter-widgets/base",
            "_model_module_version": "1.2.0",
            "_model_name": "LayoutModel",
            "_view_count": null,
            "_view_module": "@jupyter-widgets/base",
            "_view_module_version": "1.2.0",
            "_view_name": "LayoutView",
            "align_content": null,
            "align_items": null,
            "align_self": null,
            "border": null,
            "bottom": null,
            "display": null,
            "flex": null,
            "flex_flow": null,
            "grid_area": null,
            "grid_auto_columns": null,
            "grid_auto_flow": null,
            "grid_auto_rows": null,
            "grid_column": null,
            "grid_gap": null,
            "grid_row": null,
            "grid_template_areas": null,
            "grid_template_columns": null,
            "grid_template_rows": null,
            "height": null,
            "justify_content": null,
            "justify_items": null,
            "left": null,
            "margin": null,
            "max_height": null,
            "max_width": null,
            "min_height": null,
            "min_width": null,
            "object_fit": null,
            "object_position": null,
            "order": null,
            "overflow": null,
            "overflow_x": null,
            "overflow_y": null,
            "padding": null,
            "right": null,
            "top": null,
            "visibility": null,
            "width": null
          }
        },
        "3006412cd7ac43e8b5b8a806d8d5bf6a": {
          "model_module": "@jupyter-widgets/base",
          "model_name": "LayoutModel",
          "model_module_version": "1.2.0",
          "state": {
            "_model_module": "@jupyter-widgets/base",
            "_model_module_version": "1.2.0",
            "_model_name": "LayoutModel",
            "_view_count": null,
            "_view_module": "@jupyter-widgets/base",
            "_view_module_version": "1.2.0",
            "_view_name": "LayoutView",
            "align_content": null,
            "align_items": null,
            "align_self": null,
            "border": null,
            "bottom": null,
            "display": null,
            "flex": null,
            "flex_flow": null,
            "grid_area": null,
            "grid_auto_columns": null,
            "grid_auto_flow": null,
            "grid_auto_rows": null,
            "grid_column": null,
            "grid_gap": null,
            "grid_row": null,
            "grid_template_areas": null,
            "grid_template_columns": null,
            "grid_template_rows": null,
            "height": null,
            "justify_content": null,
            "justify_items": null,
            "left": null,
            "margin": null,
            "max_height": null,
            "max_width": null,
            "min_height": null,
            "min_width": null,
            "object_fit": null,
            "object_position": null,
            "order": null,
            "overflow": null,
            "overflow_x": null,
            "overflow_y": null,
            "padding": null,
            "right": null,
            "top": null,
            "visibility": null,
            "width": null
          }
        },
        "c349d86500444bafaf548137f7d3ab22": {
          "model_module": "@jupyter-widgets/controls",
          "model_name": "DescriptionStyleModel",
          "model_module_version": "1.5.0",
          "state": {
            "_model_module": "@jupyter-widgets/controls",
            "_model_module_version": "1.5.0",
            "_model_name": "DescriptionStyleModel",
            "_view_count": null,
            "_view_module": "@jupyter-widgets/base",
            "_view_module_version": "1.2.0",
            "_view_name": "StyleView",
            "description_width": ""
          }
        },
        "a3f5c885b863414fb5344b00de65922c": {
          "model_module": "@jupyter-widgets/base",
          "model_name": "LayoutModel",
          "model_module_version": "1.2.0",
          "state": {
            "_model_module": "@jupyter-widgets/base",
            "_model_module_version": "1.2.0",
            "_model_name": "LayoutModel",
            "_view_count": null,
            "_view_module": "@jupyter-widgets/base",
            "_view_module_version": "1.2.0",
            "_view_name": "LayoutView",
            "align_content": null,
            "align_items": null,
            "align_self": null,
            "border": null,
            "bottom": null,
            "display": null,
            "flex": null,
            "flex_flow": null,
            "grid_area": null,
            "grid_auto_columns": null,
            "grid_auto_flow": null,
            "grid_auto_rows": null,
            "grid_column": null,
            "grid_gap": null,
            "grid_row": null,
            "grid_template_areas": null,
            "grid_template_columns": null,
            "grid_template_rows": null,
            "height": null,
            "justify_content": null,
            "justify_items": null,
            "left": null,
            "margin": null,
            "max_height": null,
            "max_width": null,
            "min_height": null,
            "min_width": null,
            "object_fit": null,
            "object_position": null,
            "order": null,
            "overflow": null,
            "overflow_x": null,
            "overflow_y": null,
            "padding": null,
            "right": null,
            "top": null,
            "visibility": null,
            "width": null
          }
        },
        "26b0d2c4654f46e0a5086ebd614b4d52": {
          "model_module": "@jupyter-widgets/controls",
          "model_name": "ProgressStyleModel",
          "model_module_version": "1.5.0",
          "state": {
            "_model_module": "@jupyter-widgets/controls",
            "_model_module_version": "1.5.0",
            "_model_name": "ProgressStyleModel",
            "_view_count": null,
            "_view_module": "@jupyter-widgets/base",
            "_view_module_version": "1.2.0",
            "_view_name": "StyleView",
            "bar_color": null,
            "description_width": ""
          }
        },
        "3302cc7297b141d994fcf4efe3187a69": {
          "model_module": "@jupyter-widgets/base",
          "model_name": "LayoutModel",
          "model_module_version": "1.2.0",
          "state": {
            "_model_module": "@jupyter-widgets/base",
            "_model_module_version": "1.2.0",
            "_model_name": "LayoutModel",
            "_view_count": null,
            "_view_module": "@jupyter-widgets/base",
            "_view_module_version": "1.2.0",
            "_view_name": "LayoutView",
            "align_content": null,
            "align_items": null,
            "align_self": null,
            "border": null,
            "bottom": null,
            "display": null,
            "flex": null,
            "flex_flow": null,
            "grid_area": null,
            "grid_auto_columns": null,
            "grid_auto_flow": null,
            "grid_auto_rows": null,
            "grid_column": null,
            "grid_gap": null,
            "grid_row": null,
            "grid_template_areas": null,
            "grid_template_columns": null,
            "grid_template_rows": null,
            "height": null,
            "justify_content": null,
            "justify_items": null,
            "left": null,
            "margin": null,
            "max_height": null,
            "max_width": null,
            "min_height": null,
            "min_width": null,
            "object_fit": null,
            "object_position": null,
            "order": null,
            "overflow": null,
            "overflow_x": null,
            "overflow_y": null,
            "padding": null,
            "right": null,
            "top": null,
            "visibility": null,
            "width": null
          }
        },
        "085bc35bc74941ea9738f65b1f6efc4d": {
          "model_module": "@jupyter-widgets/controls",
          "model_name": "DescriptionStyleModel",
          "model_module_version": "1.5.0",
          "state": {
            "_model_module": "@jupyter-widgets/controls",
            "_model_module_version": "1.5.0",
            "_model_name": "DescriptionStyleModel",
            "_view_count": null,
            "_view_module": "@jupyter-widgets/base",
            "_view_module_version": "1.2.0",
            "_view_name": "StyleView",
            "description_width": ""
          }
        },
        "a069f8b7fe0443bab0f8d3059aacc03c": {
          "model_module": "@jupyter-widgets/controls",
          "model_name": "HBoxModel",
          "model_module_version": "1.5.0",
          "state": {
            "_dom_classes": [],
            "_model_module": "@jupyter-widgets/controls",
            "_model_module_version": "1.5.0",
            "_model_name": "HBoxModel",
            "_view_count": null,
            "_view_module": "@jupyter-widgets/controls",
            "_view_module_version": "1.5.0",
            "_view_name": "HBoxView",
            "box_style": "",
            "children": [
              "IPY_MODEL_48d4d050227c4e02a7b7800b5551962f",
              "IPY_MODEL_e2754b40a15f480d8d48bc8ad86b694e",
              "IPY_MODEL_eb3ddc663ce1452d8b37b03aa2a7292b"
            ],
            "layout": "IPY_MODEL_32de6916f47845f2b82e8e255f2783f8"
          }
        },
        "48d4d050227c4e02a7b7800b5551962f": {
          "model_module": "@jupyter-widgets/controls",
          "model_name": "HTMLModel",
          "model_module_version": "1.5.0",
          "state": {
            "_dom_classes": [],
            "_model_module": "@jupyter-widgets/controls",
            "_model_module_version": "1.5.0",
            "_model_name": "HTMLModel",
            "_view_count": null,
            "_view_module": "@jupyter-widgets/controls",
            "_view_module_version": "1.5.0",
            "_view_name": "HTMLView",
            "description": "",
            "description_tooltip": null,
            "layout": "IPY_MODEL_5fa07f9f768c450eadb4208c1fde199d",
            "placeholder": "​",
            "style": "IPY_MODEL_49c3b4a0b22e4a31898936a74e852357",
            "value": "tokenizer_config.json: "
          }
        },
        "e2754b40a15f480d8d48bc8ad86b694e": {
          "model_module": "@jupyter-widgets/controls",
          "model_name": "FloatProgressModel",
          "model_module_version": "1.5.0",
          "state": {
            "_dom_classes": [],
            "_model_module": "@jupyter-widgets/controls",
            "_model_module_version": "1.5.0",
            "_model_name": "FloatProgressModel",
            "_view_count": null,
            "_view_module": "@jupyter-widgets/controls",
            "_view_module_version": "1.5.0",
            "_view_name": "ProgressView",
            "bar_style": "success",
            "description": "",
            "description_tooltip": null,
            "layout": "IPY_MODEL_90572833333a406da4f35f396434b16e",
            "max": 1,
            "min": 0,
            "orientation": "horizontal",
            "style": "IPY_MODEL_2395cd09d97f44cda4fec1acfe964296",
            "value": 1
          }
        },
        "eb3ddc663ce1452d8b37b03aa2a7292b": {
          "model_module": "@jupyter-widgets/controls",
          "model_name": "HTMLModel",
          "model_module_version": "1.5.0",
          "state": {
            "_dom_classes": [],
            "_model_module": "@jupyter-widgets/controls",
            "_model_module_version": "1.5.0",
            "_model_name": "HTMLModel",
            "_view_count": null,
            "_view_module": "@jupyter-widgets/controls",
            "_view_module_version": "1.5.0",
            "_view_name": "HTMLView",
            "description": "",
            "description_tooltip": null,
            "layout": "IPY_MODEL_4d5b59968c5a421b98f10eb3dfdecc32",
            "placeholder": "​",
            "style": "IPY_MODEL_09fdb343b4144319939dca555268d234",
            "value": " 1.20k/? [00:00&lt;00:00, 126kB/s]"
          }
        },
        "32de6916f47845f2b82e8e255f2783f8": {
          "model_module": "@jupyter-widgets/base",
          "model_name": "LayoutModel",
          "model_module_version": "1.2.0",
          "state": {
            "_model_module": "@jupyter-widgets/base",
            "_model_module_version": "1.2.0",
            "_model_name": "LayoutModel",
            "_view_count": null,
            "_view_module": "@jupyter-widgets/base",
            "_view_module_version": "1.2.0",
            "_view_name": "LayoutView",
            "align_content": null,
            "align_items": null,
            "align_self": null,
            "border": null,
            "bottom": null,
            "display": null,
            "flex": null,
            "flex_flow": null,
            "grid_area": null,
            "grid_auto_columns": null,
            "grid_auto_flow": null,
            "grid_auto_rows": null,
            "grid_column": null,
            "grid_gap": null,
            "grid_row": null,
            "grid_template_areas": null,
            "grid_template_columns": null,
            "grid_template_rows": null,
            "height": null,
            "justify_content": null,
            "justify_items": null,
            "left": null,
            "margin": null,
            "max_height": null,
            "max_width": null,
            "min_height": null,
            "min_width": null,
            "object_fit": null,
            "object_position": null,
            "order": null,
            "overflow": null,
            "overflow_x": null,
            "overflow_y": null,
            "padding": null,
            "right": null,
            "top": null,
            "visibility": null,
            "width": null
          }
        },
        "5fa07f9f768c450eadb4208c1fde199d": {
          "model_module": "@jupyter-widgets/base",
          "model_name": "LayoutModel",
          "model_module_version": "1.2.0",
          "state": {
            "_model_module": "@jupyter-widgets/base",
            "_model_module_version": "1.2.0",
            "_model_name": "LayoutModel",
            "_view_count": null,
            "_view_module": "@jupyter-widgets/base",
            "_view_module_version": "1.2.0",
            "_view_name": "LayoutView",
            "align_content": null,
            "align_items": null,
            "align_self": null,
            "border": null,
            "bottom": null,
            "display": null,
            "flex": null,
            "flex_flow": null,
            "grid_area": null,
            "grid_auto_columns": null,
            "grid_auto_flow": null,
            "grid_auto_rows": null,
            "grid_column": null,
            "grid_gap": null,
            "grid_row": null,
            "grid_template_areas": null,
            "grid_template_columns": null,
            "grid_template_rows": null,
            "height": null,
            "justify_content": null,
            "justify_items": null,
            "left": null,
            "margin": null,
            "max_height": null,
            "max_width": null,
            "min_height": null,
            "min_width": null,
            "object_fit": null,
            "object_position": null,
            "order": null,
            "overflow": null,
            "overflow_x": null,
            "overflow_y": null,
            "padding": null,
            "right": null,
            "top": null,
            "visibility": null,
            "width": null
          }
        },
        "49c3b4a0b22e4a31898936a74e852357": {
          "model_module": "@jupyter-widgets/controls",
          "model_name": "DescriptionStyleModel",
          "model_module_version": "1.5.0",
          "state": {
            "_model_module": "@jupyter-widgets/controls",
            "_model_module_version": "1.5.0",
            "_model_name": "DescriptionStyleModel",
            "_view_count": null,
            "_view_module": "@jupyter-widgets/base",
            "_view_module_version": "1.2.0",
            "_view_name": "StyleView",
            "description_width": ""
          }
        },
        "90572833333a406da4f35f396434b16e": {
          "model_module": "@jupyter-widgets/base",
          "model_name": "LayoutModel",
          "model_module_version": "1.2.0",
          "state": {
            "_model_module": "@jupyter-widgets/base",
            "_model_module_version": "1.2.0",
            "_model_name": "LayoutModel",
            "_view_count": null,
            "_view_module": "@jupyter-widgets/base",
            "_view_module_version": "1.2.0",
            "_view_name": "LayoutView",
            "align_content": null,
            "align_items": null,
            "align_self": null,
            "border": null,
            "bottom": null,
            "display": null,
            "flex": null,
            "flex_flow": null,
            "grid_area": null,
            "grid_auto_columns": null,
            "grid_auto_flow": null,
            "grid_auto_rows": null,
            "grid_column": null,
            "grid_gap": null,
            "grid_row": null,
            "grid_template_areas": null,
            "grid_template_columns": null,
            "grid_template_rows": null,
            "height": null,
            "justify_content": null,
            "justify_items": null,
            "left": null,
            "margin": null,
            "max_height": null,
            "max_width": null,
            "min_height": null,
            "min_width": null,
            "object_fit": null,
            "object_position": null,
            "order": null,
            "overflow": null,
            "overflow_x": null,
            "overflow_y": null,
            "padding": null,
            "right": null,
            "top": null,
            "visibility": null,
            "width": "20px"
          }
        },
        "2395cd09d97f44cda4fec1acfe964296": {
          "model_module": "@jupyter-widgets/controls",
          "model_name": "ProgressStyleModel",
          "model_module_version": "1.5.0",
          "state": {
            "_model_module": "@jupyter-widgets/controls",
            "_model_module_version": "1.5.0",
            "_model_name": "ProgressStyleModel",
            "_view_count": null,
            "_view_module": "@jupyter-widgets/base",
            "_view_module_version": "1.2.0",
            "_view_name": "StyleView",
            "bar_color": null,
            "description_width": ""
          }
        },
        "4d5b59968c5a421b98f10eb3dfdecc32": {
          "model_module": "@jupyter-widgets/base",
          "model_name": "LayoutModel",
          "model_module_version": "1.2.0",
          "state": {
            "_model_module": "@jupyter-widgets/base",
            "_model_module_version": "1.2.0",
            "_model_name": "LayoutModel",
            "_view_count": null,
            "_view_module": "@jupyter-widgets/base",
            "_view_module_version": "1.2.0",
            "_view_name": "LayoutView",
            "align_content": null,
            "align_items": null,
            "align_self": null,
            "border": null,
            "bottom": null,
            "display": null,
            "flex": null,
            "flex_flow": null,
            "grid_area": null,
            "grid_auto_columns": null,
            "grid_auto_flow": null,
            "grid_auto_rows": null,
            "grid_column": null,
            "grid_gap": null,
            "grid_row": null,
            "grid_template_areas": null,
            "grid_template_columns": null,
            "grid_template_rows": null,
            "height": null,
            "justify_content": null,
            "justify_items": null,
            "left": null,
            "margin": null,
            "max_height": null,
            "max_width": null,
            "min_height": null,
            "min_width": null,
            "object_fit": null,
            "object_position": null,
            "order": null,
            "overflow": null,
            "overflow_x": null,
            "overflow_y": null,
            "padding": null,
            "right": null,
            "top": null,
            "visibility": null,
            "width": null
          }
        },
        "09fdb343b4144319939dca555268d234": {
          "model_module": "@jupyter-widgets/controls",
          "model_name": "DescriptionStyleModel",
          "model_module_version": "1.5.0",
          "state": {
            "_model_module": "@jupyter-widgets/controls",
            "_model_module_version": "1.5.0",
            "_model_name": "DescriptionStyleModel",
            "_view_count": null,
            "_view_module": "@jupyter-widgets/base",
            "_view_module_version": "1.2.0",
            "_view_name": "StyleView",
            "description_width": ""
          }
        },
        "560615347a684ba1afc023dade46af53": {
          "model_module": "@jupyter-widgets/controls",
          "model_name": "HBoxModel",
          "model_module_version": "1.5.0",
          "state": {
            "_dom_classes": [],
            "_model_module": "@jupyter-widgets/controls",
            "_model_module_version": "1.5.0",
            "_model_name": "HBoxModel",
            "_view_count": null,
            "_view_module": "@jupyter-widgets/controls",
            "_view_module_version": "1.5.0",
            "_view_name": "HBoxView",
            "box_style": "",
            "children": [
              "IPY_MODEL_2961f431eef04dffa34b67f4dc8e3f0c",
              "IPY_MODEL_04b28166b037412f9df0384eaabf63ab",
              "IPY_MODEL_ca6142dd8b47432f86f9989a54212040"
            ],
            "layout": "IPY_MODEL_f31792e9faa342f7951036a3a49345f8"
          }
        },
        "2961f431eef04dffa34b67f4dc8e3f0c": {
          "model_module": "@jupyter-widgets/controls",
          "model_name": "HTMLModel",
          "model_module_version": "1.5.0",
          "state": {
            "_dom_classes": [],
            "_model_module": "@jupyter-widgets/controls",
            "_model_module_version": "1.5.0",
            "_model_name": "HTMLModel",
            "_view_count": null,
            "_view_module": "@jupyter-widgets/controls",
            "_view_module_version": "1.5.0",
            "_view_name": "HTMLView",
            "description": "",
            "description_tooltip": null,
            "layout": "IPY_MODEL_2f9692f06f7e44da9686d128b7b62833",
            "placeholder": "​",
            "style": "IPY_MODEL_c5d10c98e223430b998f903ac1f77fab",
            "value": "tokenizer.json: 100%"
          }
        },
        "04b28166b037412f9df0384eaabf63ab": {
          "model_module": "@jupyter-widgets/controls",
          "model_name": "FloatProgressModel",
          "model_module_version": "1.5.0",
          "state": {
            "_dom_classes": [],
            "_model_module": "@jupyter-widgets/controls",
            "_model_module_version": "1.5.0",
            "_model_name": "FloatProgressModel",
            "_view_count": null,
            "_view_module": "@jupyter-widgets/controls",
            "_view_module_version": "1.5.0",
            "_view_name": "ProgressView",
            "bar_style": "success",
            "description": "",
            "description_tooltip": null,
            "layout": "IPY_MODEL_a2fb92c9cb1f442485b71d6c1caf93c7",
            "max": 17083053,
            "min": 0,
            "orientation": "horizontal",
            "style": "IPY_MODEL_d58ac6fbe5b04939ab637dd44af1e387",
            "value": 17083053
          }
        },
        "ca6142dd8b47432f86f9989a54212040": {
          "model_module": "@jupyter-widgets/controls",
          "model_name": "HTMLModel",
          "model_module_version": "1.5.0",
          "state": {
            "_dom_classes": [],
            "_model_module": "@jupyter-widgets/controls",
            "_model_module_version": "1.5.0",
            "_model_name": "HTMLModel",
            "_view_count": null,
            "_view_module": "@jupyter-widgets/controls",
            "_view_module_version": "1.5.0",
            "_view_name": "HTMLView",
            "description": "",
            "description_tooltip": null,
            "layout": "IPY_MODEL_b67673099cdb4e26853ad2b1064a617e",
            "placeholder": "​",
            "style": "IPY_MODEL_81a99b204b0b4de89ad1886aadcecf47",
            "value": " 17.1M/17.1M [00:00&lt;00:00, 86.3kB/s]"
          }
        },
        "f31792e9faa342f7951036a3a49345f8": {
          "model_module": "@jupyter-widgets/base",
          "model_name": "LayoutModel",
          "model_module_version": "1.2.0",
          "state": {
            "_model_module": "@jupyter-widgets/base",
            "_model_module_version": "1.2.0",
            "_model_name": "LayoutModel",
            "_view_count": null,
            "_view_module": "@jupyter-widgets/base",
            "_view_module_version": "1.2.0",
            "_view_name": "LayoutView",
            "align_content": null,
            "align_items": null,
            "align_self": null,
            "border": null,
            "bottom": null,
            "display": null,
            "flex": null,
            "flex_flow": null,
            "grid_area": null,
            "grid_auto_columns": null,
            "grid_auto_flow": null,
            "grid_auto_rows": null,
            "grid_column": null,
            "grid_gap": null,
            "grid_row": null,
            "grid_template_areas": null,
            "grid_template_columns": null,
            "grid_template_rows": null,
            "height": null,
            "justify_content": null,
            "justify_items": null,
            "left": null,
            "margin": null,
            "max_height": null,
            "max_width": null,
            "min_height": null,
            "min_width": null,
            "object_fit": null,
            "object_position": null,
            "order": null,
            "overflow": null,
            "overflow_x": null,
            "overflow_y": null,
            "padding": null,
            "right": null,
            "top": null,
            "visibility": null,
            "width": null
          }
        },
        "2f9692f06f7e44da9686d128b7b62833": {
          "model_module": "@jupyter-widgets/base",
          "model_name": "LayoutModel",
          "model_module_version": "1.2.0",
          "state": {
            "_model_module": "@jupyter-widgets/base",
            "_model_module_version": "1.2.0",
            "_model_name": "LayoutModel",
            "_view_count": null,
            "_view_module": "@jupyter-widgets/base",
            "_view_module_version": "1.2.0",
            "_view_name": "LayoutView",
            "align_content": null,
            "align_items": null,
            "align_self": null,
            "border": null,
            "bottom": null,
            "display": null,
            "flex": null,
            "flex_flow": null,
            "grid_area": null,
            "grid_auto_columns": null,
            "grid_auto_flow": null,
            "grid_auto_rows": null,
            "grid_column": null,
            "grid_gap": null,
            "grid_row": null,
            "grid_template_areas": null,
            "grid_template_columns": null,
            "grid_template_rows": null,
            "height": null,
            "justify_content": null,
            "justify_items": null,
            "left": null,
            "margin": null,
            "max_height": null,
            "max_width": null,
            "min_height": null,
            "min_width": null,
            "object_fit": null,
            "object_position": null,
            "order": null,
            "overflow": null,
            "overflow_x": null,
            "overflow_y": null,
            "padding": null,
            "right": null,
            "top": null,
            "visibility": null,
            "width": null
          }
        },
        "c5d10c98e223430b998f903ac1f77fab": {
          "model_module": "@jupyter-widgets/controls",
          "model_name": "DescriptionStyleModel",
          "model_module_version": "1.5.0",
          "state": {
            "_model_module": "@jupyter-widgets/controls",
            "_model_module_version": "1.5.0",
            "_model_name": "DescriptionStyleModel",
            "_view_count": null,
            "_view_module": "@jupyter-widgets/base",
            "_view_module_version": "1.2.0",
            "_view_name": "StyleView",
            "description_width": ""
          }
        },
        "a2fb92c9cb1f442485b71d6c1caf93c7": {
          "model_module": "@jupyter-widgets/base",
          "model_name": "LayoutModel",
          "model_module_version": "1.2.0",
          "state": {
            "_model_module": "@jupyter-widgets/base",
            "_model_module_version": "1.2.0",
            "_model_name": "LayoutModel",
            "_view_count": null,
            "_view_module": "@jupyter-widgets/base",
            "_view_module_version": "1.2.0",
            "_view_name": "LayoutView",
            "align_content": null,
            "align_items": null,
            "align_self": null,
            "border": null,
            "bottom": null,
            "display": null,
            "flex": null,
            "flex_flow": null,
            "grid_area": null,
            "grid_auto_columns": null,
            "grid_auto_flow": null,
            "grid_auto_rows": null,
            "grid_column": null,
            "grid_gap": null,
            "grid_row": null,
            "grid_template_areas": null,
            "grid_template_columns": null,
            "grid_template_rows": null,
            "height": null,
            "justify_content": null,
            "justify_items": null,
            "left": null,
            "margin": null,
            "max_height": null,
            "max_width": null,
            "min_height": null,
            "min_width": null,
            "object_fit": null,
            "object_position": null,
            "order": null,
            "overflow": null,
            "overflow_x": null,
            "overflow_y": null,
            "padding": null,
            "right": null,
            "top": null,
            "visibility": null,
            "width": null
          }
        },
        "d58ac6fbe5b04939ab637dd44af1e387": {
          "model_module": "@jupyter-widgets/controls",
          "model_name": "ProgressStyleModel",
          "model_module_version": "1.5.0",
          "state": {
            "_model_module": "@jupyter-widgets/controls",
            "_model_module_version": "1.5.0",
            "_model_name": "ProgressStyleModel",
            "_view_count": null,
            "_view_module": "@jupyter-widgets/base",
            "_view_module_version": "1.2.0",
            "_view_name": "StyleView",
            "bar_color": null,
            "description_width": ""
          }
        },
        "b67673099cdb4e26853ad2b1064a617e": {
          "model_module": "@jupyter-widgets/base",
          "model_name": "LayoutModel",
          "model_module_version": "1.2.0",
          "state": {
            "_model_module": "@jupyter-widgets/base",
            "_model_module_version": "1.2.0",
            "_model_name": "LayoutModel",
            "_view_count": null,
            "_view_module": "@jupyter-widgets/base",
            "_view_module_version": "1.2.0",
            "_view_name": "LayoutView",
            "align_content": null,
            "align_items": null,
            "align_self": null,
            "border": null,
            "bottom": null,
            "display": null,
            "flex": null,
            "flex_flow": null,
            "grid_area": null,
            "grid_auto_columns": null,
            "grid_auto_flow": null,
            "grid_auto_rows": null,
            "grid_column": null,
            "grid_gap": null,
            "grid_row": null,
            "grid_template_areas": null,
            "grid_template_columns": null,
            "grid_template_rows": null,
            "height": null,
            "justify_content": null,
            "justify_items": null,
            "left": null,
            "margin": null,
            "max_height": null,
            "max_width": null,
            "min_height": null,
            "min_width": null,
            "object_fit": null,
            "object_position": null,
            "order": null,
            "overflow": null,
            "overflow_x": null,
            "overflow_y": null,
            "padding": null,
            "right": null,
            "top": null,
            "visibility": null,
            "width": null
          }
        },
        "81a99b204b0b4de89ad1886aadcecf47": {
          "model_module": "@jupyter-widgets/controls",
          "model_name": "DescriptionStyleModel",
          "model_module_version": "1.5.0",
          "state": {
            "_model_module": "@jupyter-widgets/controls",
            "_model_module_version": "1.5.0",
            "_model_name": "DescriptionStyleModel",
            "_view_count": null,
            "_view_module": "@jupyter-widgets/base",
            "_view_module_version": "1.2.0",
            "_view_name": "StyleView",
            "description_width": ""
          }
        },
        "02cabbff811b4596bb2a1a66b3fc3577": {
          "model_module": "@jupyter-widgets/controls",
          "model_name": "HBoxModel",
          "model_module_version": "1.5.0",
          "state": {
            "_dom_classes": [],
            "_model_module": "@jupyter-widgets/controls",
            "_model_module_version": "1.5.0",
            "_model_name": "HBoxModel",
            "_view_count": null,
            "_view_module": "@jupyter-widgets/controls",
            "_view_module_version": "1.5.0",
            "_view_name": "HBoxView",
            "box_style": "",
            "children": [
              "IPY_MODEL_60ba9ff58b6948fdbe791d1a113539c4",
              "IPY_MODEL_b235c1a668db46abb8467e5fa232f1d2",
              "IPY_MODEL_11c6e3cb37a94b53926aa467622952ec"
            ],
            "layout": "IPY_MODEL_c3a29a6d5c7f4d3fa3e64f7655cccea0"
          }
        },
        "60ba9ff58b6948fdbe791d1a113539c4": {
          "model_module": "@jupyter-widgets/controls",
          "model_name": "HTMLModel",
          "model_module_version": "1.5.0",
          "state": {
            "_dom_classes": [],
            "_model_module": "@jupyter-widgets/controls",
            "_model_module_version": "1.5.0",
            "_model_name": "HTMLModel",
            "_view_count": null,
            "_view_module": "@jupyter-widgets/controls",
            "_view_module_version": "1.5.0",
            "_view_name": "HTMLView",
            "description": "",
            "description_tooltip": null,
            "layout": "IPY_MODEL_b90954dc4298412885a533f08ef0e92c",
            "placeholder": "​",
            "style": "IPY_MODEL_07033aa842484efeb4a8fb6c89577284",
            "value": "special_tokens_map.json: 100%"
          }
        },
        "b235c1a668db46abb8467e5fa232f1d2": {
          "model_module": "@jupyter-widgets/controls",
          "model_name": "FloatProgressModel",
          "model_module_version": "1.5.0",
          "state": {
            "_dom_classes": [],
            "_model_module": "@jupyter-widgets/controls",
            "_model_module_version": "1.5.0",
            "_model_name": "FloatProgressModel",
            "_view_count": null,
            "_view_module": "@jupyter-widgets/controls",
            "_view_module_version": "1.5.0",
            "_view_name": "ProgressView",
            "bar_style": "success",
            "description": "",
            "description_tooltip": null,
            "layout": "IPY_MODEL_af0cdb056288431ab1b79575e6047e18",
            "max": 964,
            "min": 0,
            "orientation": "horizontal",
            "style": "IPY_MODEL_a176ead6c0914447b2dce74318378694",
            "value": 964
          }
        },
        "11c6e3cb37a94b53926aa467622952ec": {
          "model_module": "@jupyter-widgets/controls",
          "model_name": "HTMLModel",
          "model_module_version": "1.5.0",
          "state": {
            "_dom_classes": [],
            "_model_module": "@jupyter-widgets/controls",
            "_model_module_version": "1.5.0",
            "_model_name": "HTMLModel",
            "_view_count": null,
            "_view_module": "@jupyter-widgets/controls",
            "_view_module_version": "1.5.0",
            "_view_name": "HTMLView",
            "description": "",
            "description_tooltip": null,
            "layout": "IPY_MODEL_fdd1e7d122624c188a1427876527c870",
            "placeholder": "​",
            "style": "IPY_MODEL_57d2a28b5af940c9bf36c91633149b47",
            "value": " 964/964 [00:00&lt;00:00, 99.3kB/s]"
          }
        },
        "c3a29a6d5c7f4d3fa3e64f7655cccea0": {
          "model_module": "@jupyter-widgets/base",
          "model_name": "LayoutModel",
          "model_module_version": "1.2.0",
          "state": {
            "_model_module": "@jupyter-widgets/base",
            "_model_module_version": "1.2.0",
            "_model_name": "LayoutModel",
            "_view_count": null,
            "_view_module": "@jupyter-widgets/base",
            "_view_module_version": "1.2.0",
            "_view_name": "LayoutView",
            "align_content": null,
            "align_items": null,
            "align_self": null,
            "border": null,
            "bottom": null,
            "display": null,
            "flex": null,
            "flex_flow": null,
            "grid_area": null,
            "grid_auto_columns": null,
            "grid_auto_flow": null,
            "grid_auto_rows": null,
            "grid_column": null,
            "grid_gap": null,
            "grid_row": null,
            "grid_template_areas": null,
            "grid_template_columns": null,
            "grid_template_rows": null,
            "height": null,
            "justify_content": null,
            "justify_items": null,
            "left": null,
            "margin": null,
            "max_height": null,
            "max_width": null,
            "min_height": null,
            "min_width": null,
            "object_fit": null,
            "object_position": null,
            "order": null,
            "overflow": null,
            "overflow_x": null,
            "overflow_y": null,
            "padding": null,
            "right": null,
            "top": null,
            "visibility": null,
            "width": null
          }
        },
        "b90954dc4298412885a533f08ef0e92c": {
          "model_module": "@jupyter-widgets/base",
          "model_name": "LayoutModel",
          "model_module_version": "1.2.0",
          "state": {
            "_model_module": "@jupyter-widgets/base",
            "_model_module_version": "1.2.0",
            "_model_name": "LayoutModel",
            "_view_count": null,
            "_view_module": "@jupyter-widgets/base",
            "_view_module_version": "1.2.0",
            "_view_name": "LayoutView",
            "align_content": null,
            "align_items": null,
            "align_self": null,
            "border": null,
            "bottom": null,
            "display": null,
            "flex": null,
            "flex_flow": null,
            "grid_area": null,
            "grid_auto_columns": null,
            "grid_auto_flow": null,
            "grid_auto_rows": null,
            "grid_column": null,
            "grid_gap": null,
            "grid_row": null,
            "grid_template_areas": null,
            "grid_template_columns": null,
            "grid_template_rows": null,
            "height": null,
            "justify_content": null,
            "justify_items": null,
            "left": null,
            "margin": null,
            "max_height": null,
            "max_width": null,
            "min_height": null,
            "min_width": null,
            "object_fit": null,
            "object_position": null,
            "order": null,
            "overflow": null,
            "overflow_x": null,
            "overflow_y": null,
            "padding": null,
            "right": null,
            "top": null,
            "visibility": null,
            "width": null
          }
        },
        "07033aa842484efeb4a8fb6c89577284": {
          "model_module": "@jupyter-widgets/controls",
          "model_name": "DescriptionStyleModel",
          "model_module_version": "1.5.0",
          "state": {
            "_model_module": "@jupyter-widgets/controls",
            "_model_module_version": "1.5.0",
            "_model_name": "DescriptionStyleModel",
            "_view_count": null,
            "_view_module": "@jupyter-widgets/base",
            "_view_module_version": "1.2.0",
            "_view_name": "StyleView",
            "description_width": ""
          }
        },
        "af0cdb056288431ab1b79575e6047e18": {
          "model_module": "@jupyter-widgets/base",
          "model_name": "LayoutModel",
          "model_module_version": "1.2.0",
          "state": {
            "_model_module": "@jupyter-widgets/base",
            "_model_module_version": "1.2.0",
            "_model_name": "LayoutModel",
            "_view_count": null,
            "_view_module": "@jupyter-widgets/base",
            "_view_module_version": "1.2.0",
            "_view_name": "LayoutView",
            "align_content": null,
            "align_items": null,
            "align_self": null,
            "border": null,
            "bottom": null,
            "display": null,
            "flex": null,
            "flex_flow": null,
            "grid_area": null,
            "grid_auto_columns": null,
            "grid_auto_flow": null,
            "grid_auto_rows": null,
            "grid_column": null,
            "grid_gap": null,
            "grid_row": null,
            "grid_template_areas": null,
            "grid_template_columns": null,
            "grid_template_rows": null,
            "height": null,
            "justify_content": null,
            "justify_items": null,
            "left": null,
            "margin": null,
            "max_height": null,
            "max_width": null,
            "min_height": null,
            "min_width": null,
            "object_fit": null,
            "object_position": null,
            "order": null,
            "overflow": null,
            "overflow_x": null,
            "overflow_y": null,
            "padding": null,
            "right": null,
            "top": null,
            "visibility": null,
            "width": null
          }
        },
        "a176ead6c0914447b2dce74318378694": {
          "model_module": "@jupyter-widgets/controls",
          "model_name": "ProgressStyleModel",
          "model_module_version": "1.5.0",
          "state": {
            "_model_module": "@jupyter-widgets/controls",
            "_model_module_version": "1.5.0",
            "_model_name": "ProgressStyleModel",
            "_view_count": null,
            "_view_module": "@jupyter-widgets/base",
            "_view_module_version": "1.2.0",
            "_view_name": "StyleView",
            "bar_color": null,
            "description_width": ""
          }
        },
        "fdd1e7d122624c188a1427876527c870": {
          "model_module": "@jupyter-widgets/base",
          "model_name": "LayoutModel",
          "model_module_version": "1.2.0",
          "state": {
            "_model_module": "@jupyter-widgets/base",
            "_model_module_version": "1.2.0",
            "_model_name": "LayoutModel",
            "_view_count": null,
            "_view_module": "@jupyter-widgets/base",
            "_view_module_version": "1.2.0",
            "_view_name": "LayoutView",
            "align_content": null,
            "align_items": null,
            "align_self": null,
            "border": null,
            "bottom": null,
            "display": null,
            "flex": null,
            "flex_flow": null,
            "grid_area": null,
            "grid_auto_columns": null,
            "grid_auto_flow": null,
            "grid_auto_rows": null,
            "grid_column": null,
            "grid_gap": null,
            "grid_row": null,
            "grid_template_areas": null,
            "grid_template_columns": null,
            "grid_template_rows": null,
            "height": null,
            "justify_content": null,
            "justify_items": null,
            "left": null,
            "margin": null,
            "max_height": null,
            "max_width": null,
            "min_height": null,
            "min_width": null,
            "object_fit": null,
            "object_position": null,
            "order": null,
            "overflow": null,
            "overflow_x": null,
            "overflow_y": null,
            "padding": null,
            "right": null,
            "top": null,
            "visibility": null,
            "width": null
          }
        },
        "57d2a28b5af940c9bf36c91633149b47": {
          "model_module": "@jupyter-widgets/controls",
          "model_name": "DescriptionStyleModel",
          "model_module_version": "1.5.0",
          "state": {
            "_model_module": "@jupyter-widgets/controls",
            "_model_module_version": "1.5.0",
            "_model_name": "DescriptionStyleModel",
            "_view_count": null,
            "_view_module": "@jupyter-widgets/base",
            "_view_module_version": "1.2.0",
            "_view_name": "StyleView",
            "description_width": ""
          }
        },
        "dbd05cb42e43422397001d0892e07603": {
          "model_module": "@jupyter-widgets/controls",
          "model_name": "HBoxModel",
          "model_module_version": "1.5.0",
          "state": {
            "_dom_classes": [],
            "_model_module": "@jupyter-widgets/controls",
            "_model_module_version": "1.5.0",
            "_model_name": "HBoxModel",
            "_view_count": null,
            "_view_module": "@jupyter-widgets/controls",
            "_view_module_version": "1.5.0",
            "_view_name": "HBoxView",
            "box_style": "",
            "children": [
              "IPY_MODEL_42353d2e12974eeebb4ebb4cc37759cd",
              "IPY_MODEL_45afdfce2ea64036820f13de1f9829ab",
              "IPY_MODEL_82982cf89cfc41fa9a28d1a390a57424"
            ],
            "layout": "IPY_MODEL_2192afabcbb84ab1b4c4d59aa2ca5688"
          }
        },
        "42353d2e12974eeebb4ebb4cc37759cd": {
          "model_module": "@jupyter-widgets/controls",
          "model_name": "HTMLModel",
          "model_module_version": "1.5.0",
          "state": {
            "_dom_classes": [],
            "_model_module": "@jupyter-widgets/controls",
            "_model_module_version": "1.5.0",
            "_model_name": "HTMLModel",
            "_view_count": null,
            "_view_module": "@jupyter-widgets/controls",
            "_view_module_version": "1.5.0",
            "_view_name": "HTMLView",
            "description": "",
            "description_tooltip": null,
            "layout": "IPY_MODEL_3777b2af6f0b47fabe511fd983b3cc33",
            "placeholder": "​",
            "style": "IPY_MODEL_022a476eff83410980d0253793980b92",
            "value": "config.json: 100%"
          }
        },
        "45afdfce2ea64036820f13de1f9829ab": {
          "model_module": "@jupyter-widgets/controls",
          "model_name": "FloatProgressModel",
          "model_module_version": "1.5.0",
          "state": {
            "_dom_classes": [],
            "_model_module": "@jupyter-widgets/controls",
            "_model_module_version": "1.5.0",
            "_model_name": "FloatProgressModel",
            "_view_count": null,
            "_view_module": "@jupyter-widgets/controls",
            "_view_module_version": "1.5.0",
            "_view_name": "ProgressView",
            "bar_style": "success",
            "description": "",
            "description_tooltip": null,
            "layout": "IPY_MODEL_5a766ab1372b4c18b114ab11cdd2ddaf",
            "max": 297,
            "min": 0,
            "orientation": "horizontal",
            "style": "IPY_MODEL_9a028d0376e64d2687d2323de9121273",
            "value": 297
          }
        },
        "82982cf89cfc41fa9a28d1a390a57424": {
          "model_module": "@jupyter-widgets/controls",
          "model_name": "HTMLModel",
          "model_module_version": "1.5.0",
          "state": {
            "_dom_classes": [],
            "_model_module": "@jupyter-widgets/controls",
            "_model_module_version": "1.5.0",
            "_model_name": "HTMLModel",
            "_view_count": null,
            "_view_module": "@jupyter-widgets/controls",
            "_view_module_version": "1.5.0",
            "_view_name": "HTMLView",
            "description": "",
            "description_tooltip": null,
            "layout": "IPY_MODEL_2b529a09e91a48928d9b8cfddf56af7e",
            "placeholder": "​",
            "style": "IPY_MODEL_39f239176d794b52a825685733d3b19d",
            "value": " 297/297 [00:00&lt;00:00, 29.5kB/s]"
          }
        },
        "2192afabcbb84ab1b4c4d59aa2ca5688": {
          "model_module": "@jupyter-widgets/base",
          "model_name": "LayoutModel",
          "model_module_version": "1.2.0",
          "state": {
            "_model_module": "@jupyter-widgets/base",
            "_model_module_version": "1.2.0",
            "_model_name": "LayoutModel",
            "_view_count": null,
            "_view_module": "@jupyter-widgets/base",
            "_view_module_version": "1.2.0",
            "_view_name": "LayoutView",
            "align_content": null,
            "align_items": null,
            "align_self": null,
            "border": null,
            "bottom": null,
            "display": null,
            "flex": null,
            "flex_flow": null,
            "grid_area": null,
            "grid_auto_columns": null,
            "grid_auto_flow": null,
            "grid_auto_rows": null,
            "grid_column": null,
            "grid_gap": null,
            "grid_row": null,
            "grid_template_areas": null,
            "grid_template_columns": null,
            "grid_template_rows": null,
            "height": null,
            "justify_content": null,
            "justify_items": null,
            "left": null,
            "margin": null,
            "max_height": null,
            "max_width": null,
            "min_height": null,
            "min_width": null,
            "object_fit": null,
            "object_position": null,
            "order": null,
            "overflow": null,
            "overflow_x": null,
            "overflow_y": null,
            "padding": null,
            "right": null,
            "top": null,
            "visibility": null,
            "width": null
          }
        },
        "3777b2af6f0b47fabe511fd983b3cc33": {
          "model_module": "@jupyter-widgets/base",
          "model_name": "LayoutModel",
          "model_module_version": "1.2.0",
          "state": {
            "_model_module": "@jupyter-widgets/base",
            "_model_module_version": "1.2.0",
            "_model_name": "LayoutModel",
            "_view_count": null,
            "_view_module": "@jupyter-widgets/base",
            "_view_module_version": "1.2.0",
            "_view_name": "LayoutView",
            "align_content": null,
            "align_items": null,
            "align_self": null,
            "border": null,
            "bottom": null,
            "display": null,
            "flex": null,
            "flex_flow": null,
            "grid_area": null,
            "grid_auto_columns": null,
            "grid_auto_flow": null,
            "grid_auto_rows": null,
            "grid_column": null,
            "grid_gap": null,
            "grid_row": null,
            "grid_template_areas": null,
            "grid_template_columns": null,
            "grid_template_rows": null,
            "height": null,
            "justify_content": null,
            "justify_items": null,
            "left": null,
            "margin": null,
            "max_height": null,
            "max_width": null,
            "min_height": null,
            "min_width": null,
            "object_fit": null,
            "object_position": null,
            "order": null,
            "overflow": null,
            "overflow_x": null,
            "overflow_y": null,
            "padding": null,
            "right": null,
            "top": null,
            "visibility": null,
            "width": null
          }
        },
        "022a476eff83410980d0253793980b92": {
          "model_module": "@jupyter-widgets/controls",
          "model_name": "DescriptionStyleModel",
          "model_module_version": "1.5.0",
          "state": {
            "_model_module": "@jupyter-widgets/controls",
            "_model_module_version": "1.5.0",
            "_model_name": "DescriptionStyleModel",
            "_view_count": null,
            "_view_module": "@jupyter-widgets/base",
            "_view_module_version": "1.2.0",
            "_view_name": "StyleView",
            "description_width": ""
          }
        },
        "5a766ab1372b4c18b114ab11cdd2ddaf": {
          "model_module": "@jupyter-widgets/base",
          "model_name": "LayoutModel",
          "model_module_version": "1.2.0",
          "state": {
            "_model_module": "@jupyter-widgets/base",
            "_model_module_version": "1.2.0",
            "_model_name": "LayoutModel",
            "_view_count": null,
            "_view_module": "@jupyter-widgets/base",
            "_view_module_version": "1.2.0",
            "_view_name": "LayoutView",
            "align_content": null,
            "align_items": null,
            "align_self": null,
            "border": null,
            "bottom": null,
            "display": null,
            "flex": null,
            "flex_flow": null,
            "grid_area": null,
            "grid_auto_columns": null,
            "grid_auto_flow": null,
            "grid_auto_rows": null,
            "grid_column": null,
            "grid_gap": null,
            "grid_row": null,
            "grid_template_areas": null,
            "grid_template_columns": null,
            "grid_template_rows": null,
            "height": null,
            "justify_content": null,
            "justify_items": null,
            "left": null,
            "margin": null,
            "max_height": null,
            "max_width": null,
            "min_height": null,
            "min_width": null,
            "object_fit": null,
            "object_position": null,
            "order": null,
            "overflow": null,
            "overflow_x": null,
            "overflow_y": null,
            "padding": null,
            "right": null,
            "top": null,
            "visibility": null,
            "width": null
          }
        },
        "9a028d0376e64d2687d2323de9121273": {
          "model_module": "@jupyter-widgets/controls",
          "model_name": "ProgressStyleModel",
          "model_module_version": "1.5.0",
          "state": {
            "_model_module": "@jupyter-widgets/controls",
            "_model_module_version": "1.5.0",
            "_model_name": "ProgressStyleModel",
            "_view_count": null,
            "_view_module": "@jupyter-widgets/base",
            "_view_module_version": "1.2.0",
            "_view_name": "StyleView",
            "bar_color": null,
            "description_width": ""
          }
        },
        "2b529a09e91a48928d9b8cfddf56af7e": {
          "model_module": "@jupyter-widgets/base",
          "model_name": "LayoutModel",
          "model_module_version": "1.2.0",
          "state": {
            "_model_module": "@jupyter-widgets/base",
            "_model_module_version": "1.2.0",
            "_model_name": "LayoutModel",
            "_view_count": null,
            "_view_module": "@jupyter-widgets/base",
            "_view_module_version": "1.2.0",
            "_view_name": "LayoutView",
            "align_content": null,
            "align_items": null,
            "align_self": null,
            "border": null,
            "bottom": null,
            "display": null,
            "flex": null,
            "flex_flow": null,
            "grid_area": null,
            "grid_auto_columns": null,
            "grid_auto_flow": null,
            "grid_auto_rows": null,
            "grid_column": null,
            "grid_gap": null,
            "grid_row": null,
            "grid_template_areas": null,
            "grid_template_columns": null,
            "grid_template_rows": null,
            "height": null,
            "justify_content": null,
            "justify_items": null,
            "left": null,
            "margin": null,
            "max_height": null,
            "max_width": null,
            "min_height": null,
            "min_width": null,
            "object_fit": null,
            "object_position": null,
            "order": null,
            "overflow": null,
            "overflow_x": null,
            "overflow_y": null,
            "padding": null,
            "right": null,
            "top": null,
            "visibility": null,
            "width": null
          }
        },
        "39f239176d794b52a825685733d3b19d": {
          "model_module": "@jupyter-widgets/controls",
          "model_name": "DescriptionStyleModel",
          "model_module_version": "1.5.0",
          "state": {
            "_model_module": "@jupyter-widgets/controls",
            "_model_module_version": "1.5.0",
            "_model_name": "DescriptionStyleModel",
            "_view_count": null,
            "_view_module": "@jupyter-widgets/base",
            "_view_module_version": "1.2.0",
            "_view_name": "StyleView",
            "description_width": ""
          }
        }
      }
    }
  },
  "nbformat": 4,
  "nbformat_minor": 0
}