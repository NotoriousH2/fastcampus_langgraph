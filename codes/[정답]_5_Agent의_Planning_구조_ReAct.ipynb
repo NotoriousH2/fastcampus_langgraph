{
  "cells": [
    {
      "cell_type": "markdown",
      "metadata": {
        "id": "zAWfvZKOrMCl"
      },
      "source": [
        "# [실습] Agent의 Planning ReAct 알아보기"
      ]
    },
    {
      "cell_type": "markdown",
      "metadata": {
        "id": "kTwBtAVvrMCn"
      },
      "source": [
        "`ToolNode`와 `ToolCondition`을 통해 툴을 실행하는 에이전트 구조를 만들어 보았습니다.\n",
        "\n",
        "이 구조는 랭그래프에서 ReAct 에이전트라는 형태로 구현이 되어 있습니다."
      ]
    },
    {
      "cell_type": "code",
      "execution_count": null,
      "metadata": {
        "colab": {
          "base_uri": "https://localhost:8080/"
        },
        "id": "ZjgQZudIrMCn",
        "outputId": "1cb5f7b5-4c59-48ac-b90b-a52b01117839"
      },
      "outputs": [
        {
          "output_type": "stream",
          "name": "stdout",
          "text": [
            "Collecting langgraph\n",
            "  Downloading langgraph-0.2.70-py3-none-any.whl.metadata (17 kB)\n",
            "Requirement already satisfied: langchain in /usr/local/lib/python3.11/dist-packages (0.3.17)\n",
            "Collecting langchain\n",
            "  Downloading langchain-0.3.18-py3-none-any.whl.metadata (7.8 kB)\n",
            "Collecting langchain_google_genai\n",
            "  Downloading langchain_google_genai-2.0.9-py3-none-any.whl.metadata (3.6 kB)\n",
            "Collecting langchain_community\n",
            "  Downloading langchain_community-0.3.17-py3-none-any.whl.metadata (2.4 kB)\n",
            "Collecting langchain_experimental\n",
            "  Downloading langchain_experimental-0.3.4-py3-none-any.whl.metadata (1.7 kB)\n",
            "Requirement already satisfied: langchain-core!=0.3.0,!=0.3.1,!=0.3.10,!=0.3.11,!=0.3.12,!=0.3.13,!=0.3.14,!=0.3.15,!=0.3.16,!=0.3.17,!=0.3.18,!=0.3.19,!=0.3.2,!=0.3.20,!=0.3.21,!=0.3.22,!=0.3.3,!=0.3.4,!=0.3.5,!=0.3.6,!=0.3.7,!=0.3.8,!=0.3.9,<0.4.0,>=0.2.43 in /usr/local/lib/python3.11/dist-packages (from langgraph) (0.3.33)\n",
            "Collecting langgraph-checkpoint<3.0.0,>=2.0.10 (from langgraph)\n",
            "  Downloading langgraph_checkpoint-2.0.12-py3-none-any.whl.metadata (4.6 kB)\n",
            "Collecting langgraph-sdk<0.2.0,>=0.1.42 (from langgraph)\n",
            "  Downloading langgraph_sdk-0.1.51-py3-none-any.whl.metadata (1.8 kB)\n",
            "Collecting langchain-core!=0.3.0,!=0.3.1,!=0.3.10,!=0.3.11,!=0.3.12,!=0.3.13,!=0.3.14,!=0.3.15,!=0.3.16,!=0.3.17,!=0.3.18,!=0.3.19,!=0.3.2,!=0.3.20,!=0.3.21,!=0.3.22,!=0.3.3,!=0.3.4,!=0.3.5,!=0.3.6,!=0.3.7,!=0.3.8,!=0.3.9,<0.4.0,>=0.2.43 (from langgraph)\n",
            "  Downloading langchain_core-0.3.34-py3-none-any.whl.metadata (5.9 kB)\n",
            "Collecting langchain-text-splitters<1.0.0,>=0.3.6 (from langchain)\n",
            "  Downloading langchain_text_splitters-0.3.6-py3-none-any.whl.metadata (1.9 kB)\n",
            "Requirement already satisfied: langsmith<0.4,>=0.1.17 in /usr/local/lib/python3.11/dist-packages (from langchain) (0.3.5)\n",
            "Requirement already satisfied: pydantic<3.0.0,>=2.7.4 in /usr/local/lib/python3.11/dist-packages (from langchain) (2.10.6)\n",
            "Requirement already satisfied: SQLAlchemy<3,>=1.4 in /usr/local/lib/python3.11/dist-packages (from langchain) (2.0.37)\n",
            "Requirement already satisfied: requests<3,>=2 in /usr/local/lib/python3.11/dist-packages (from langchain) (2.32.3)\n",
            "Requirement already satisfied: PyYAML>=5.3 in /usr/local/lib/python3.11/dist-packages (from langchain) (6.0.2)\n",
            "Requirement already satisfied: aiohttp<4.0.0,>=3.8.3 in /usr/local/lib/python3.11/dist-packages (from langchain) (3.11.11)\n",
            "Requirement already satisfied: tenacity!=8.4.0,<10,>=8.1.0 in /usr/local/lib/python3.11/dist-packages (from langchain) (9.0.0)\n",
            "Requirement already satisfied: numpy<2,>=1.26.4 in /usr/local/lib/python3.11/dist-packages (from langchain) (1.26.4)\n",
            "Collecting filetype<2.0.0,>=1.2.0 (from langchain_google_genai)\n",
            "  Downloading filetype-1.2.0-py2.py3-none-any.whl.metadata (6.5 kB)\n",
            "Requirement already satisfied: google-generativeai<0.9.0,>=0.8.0 in /usr/local/lib/python3.11/dist-packages (from langchain_google_genai) (0.8.4)\n",
            "Collecting dataclasses-json<0.7,>=0.5.7 (from langchain_community)\n",
            "  Downloading dataclasses_json-0.6.7-py3-none-any.whl.metadata (25 kB)\n",
            "Collecting pydantic-settings<3.0.0,>=2.4.0 (from langchain_community)\n",
            "  Downloading pydantic_settings-2.7.1-py3-none-any.whl.metadata (3.5 kB)\n",
            "Collecting httpx-sse<1.0.0,>=0.4.0 (from langchain_community)\n",
            "  Downloading httpx_sse-0.4.0-py3-none-any.whl.metadata (9.0 kB)\n",
            "Requirement already satisfied: aiohappyeyeballs>=2.3.0 in /usr/local/lib/python3.11/dist-packages (from aiohttp<4.0.0,>=3.8.3->langchain) (2.4.4)\n",
            "Requirement already satisfied: aiosignal>=1.1.2 in /usr/local/lib/python3.11/dist-packages (from aiohttp<4.0.0,>=3.8.3->langchain) (1.3.2)\n",
            "Requirement already satisfied: attrs>=17.3.0 in /usr/local/lib/python3.11/dist-packages (from aiohttp<4.0.0,>=3.8.3->langchain) (25.1.0)\n",
            "Requirement already satisfied: frozenlist>=1.1.1 in /usr/local/lib/python3.11/dist-packages (from aiohttp<4.0.0,>=3.8.3->langchain) (1.5.0)\n",
            "Requirement already satisfied: multidict<7.0,>=4.5 in /usr/local/lib/python3.11/dist-packages (from aiohttp<4.0.0,>=3.8.3->langchain) (6.1.0)\n",
            "Requirement already satisfied: propcache>=0.2.0 in /usr/local/lib/python3.11/dist-packages (from aiohttp<4.0.0,>=3.8.3->langchain) (0.2.1)\n",
            "Requirement already satisfied: yarl<2.0,>=1.17.0 in /usr/local/lib/python3.11/dist-packages (from aiohttp<4.0.0,>=3.8.3->langchain) (1.18.3)\n",
            "Collecting marshmallow<4.0.0,>=3.18.0 (from dataclasses-json<0.7,>=0.5.7->langchain_community)\n",
            "  Downloading marshmallow-3.26.1-py3-none-any.whl.metadata (7.3 kB)\n",
            "Collecting typing-inspect<1,>=0.4.0 (from dataclasses-json<0.7,>=0.5.7->langchain_community)\n",
            "  Downloading typing_inspect-0.9.0-py3-none-any.whl.metadata (1.5 kB)\n",
            "Requirement already satisfied: google-ai-generativelanguage==0.6.15 in /usr/local/lib/python3.11/dist-packages (from google-generativeai<0.9.0,>=0.8.0->langchain_google_genai) (0.6.15)\n",
            "Requirement already satisfied: google-api-core in /usr/local/lib/python3.11/dist-packages (from google-generativeai<0.9.0,>=0.8.0->langchain_google_genai) (2.19.2)\n",
            "Requirement already satisfied: google-api-python-client in /usr/local/lib/python3.11/dist-packages (from google-generativeai<0.9.0,>=0.8.0->langchain_google_genai) (2.160.0)\n",
            "Requirement already satisfied: google-auth>=2.15.0 in /usr/local/lib/python3.11/dist-packages (from google-generativeai<0.9.0,>=0.8.0->langchain_google_genai) (2.27.0)\n",
            "Requirement already satisfied: protobuf in /usr/local/lib/python3.11/dist-packages (from google-generativeai<0.9.0,>=0.8.0->langchain_google_genai) (4.25.6)\n",
            "Requirement already satisfied: tqdm in /usr/local/lib/python3.11/dist-packages (from google-generativeai<0.9.0,>=0.8.0->langchain_google_genai) (4.67.1)\n",
            "Requirement already satisfied: typing-extensions in /usr/local/lib/python3.11/dist-packages (from google-generativeai<0.9.0,>=0.8.0->langchain_google_genai) (4.12.2)\n",
            "Requirement already satisfied: proto-plus<2.0.0dev,>=1.22.3 in /usr/local/lib/python3.11/dist-packages (from google-ai-generativelanguage==0.6.15->google-generativeai<0.9.0,>=0.8.0->langchain_google_genai) (1.26.0)\n",
            "Requirement already satisfied: jsonpatch<2.0,>=1.33 in /usr/local/lib/python3.11/dist-packages (from langchain-core!=0.3.0,!=0.3.1,!=0.3.10,!=0.3.11,!=0.3.12,!=0.3.13,!=0.3.14,!=0.3.15,!=0.3.16,!=0.3.17,!=0.3.18,!=0.3.19,!=0.3.2,!=0.3.20,!=0.3.21,!=0.3.22,!=0.3.3,!=0.3.4,!=0.3.5,!=0.3.6,!=0.3.7,!=0.3.8,!=0.3.9,<0.4.0,>=0.2.43->langgraph) (1.33)\n",
            "Requirement already satisfied: packaging<25,>=23.2 in /usr/local/lib/python3.11/dist-packages (from langchain-core!=0.3.0,!=0.3.1,!=0.3.10,!=0.3.11,!=0.3.12,!=0.3.13,!=0.3.14,!=0.3.15,!=0.3.16,!=0.3.17,!=0.3.18,!=0.3.19,!=0.3.2,!=0.3.20,!=0.3.21,!=0.3.22,!=0.3.3,!=0.3.4,!=0.3.5,!=0.3.6,!=0.3.7,!=0.3.8,!=0.3.9,<0.4.0,>=0.2.43->langgraph) (24.2)\n",
            "Requirement already satisfied: msgpack<2.0.0,>=1.1.0 in /usr/local/lib/python3.11/dist-packages (from langgraph-checkpoint<3.0.0,>=2.0.10->langgraph) (1.1.0)\n",
            "Requirement already satisfied: httpx>=0.25.2 in /usr/local/lib/python3.11/dist-packages (from langgraph-sdk<0.2.0,>=0.1.42->langgraph) (0.28.1)\n",
            "Requirement already satisfied: orjson>=3.10.1 in /usr/local/lib/python3.11/dist-packages (from langgraph-sdk<0.2.0,>=0.1.42->langgraph) (3.10.15)\n",
            "Requirement already satisfied: requests-toolbelt<2.0.0,>=1.0.0 in /usr/local/lib/python3.11/dist-packages (from langsmith<0.4,>=0.1.17->langchain) (1.0.0)\n",
            "Requirement already satisfied: zstandard<0.24.0,>=0.23.0 in /usr/local/lib/python3.11/dist-packages (from langsmith<0.4,>=0.1.17->langchain) (0.23.0)\n",
            "Requirement already satisfied: annotated-types>=0.6.0 in /usr/local/lib/python3.11/dist-packages (from pydantic<3.0.0,>=2.7.4->langchain) (0.7.0)\n",
            "Requirement already satisfied: pydantic-core==2.27.2 in /usr/local/lib/python3.11/dist-packages (from pydantic<3.0.0,>=2.7.4->langchain) (2.27.2)\n",
            "Collecting python-dotenv>=0.21.0 (from pydantic-settings<3.0.0,>=2.4.0->langchain_community)\n",
            "  Downloading python_dotenv-1.0.1-py3-none-any.whl.metadata (23 kB)\n",
            "Requirement already satisfied: charset-normalizer<4,>=2 in /usr/local/lib/python3.11/dist-packages (from requests<3,>=2->langchain) (3.4.1)\n",
            "Requirement already satisfied: idna<4,>=2.5 in /usr/local/lib/python3.11/dist-packages (from requests<3,>=2->langchain) (3.10)\n",
            "Requirement already satisfied: urllib3<3,>=1.21.1 in /usr/local/lib/python3.11/dist-packages (from requests<3,>=2->langchain) (2.3.0)\n",
            "Requirement already satisfied: certifi>=2017.4.17 in /usr/local/lib/python3.11/dist-packages (from requests<3,>=2->langchain) (2025.1.31)\n",
            "Requirement already satisfied: greenlet!=0.4.17 in /usr/local/lib/python3.11/dist-packages (from SQLAlchemy<3,>=1.4->langchain) (3.1.1)\n",
            "Requirement already satisfied: googleapis-common-protos<2.0.dev0,>=1.56.2 in /usr/local/lib/python3.11/dist-packages (from google-api-core->google-generativeai<0.9.0,>=0.8.0->langchain_google_genai) (1.66.0)\n",
            "Requirement already satisfied: cachetools<6.0,>=2.0.0 in /usr/local/lib/python3.11/dist-packages (from google-auth>=2.15.0->google-generativeai<0.9.0,>=0.8.0->langchain_google_genai) (5.5.1)\n",
            "Requirement already satisfied: pyasn1-modules>=0.2.1 in /usr/local/lib/python3.11/dist-packages (from google-auth>=2.15.0->google-generativeai<0.9.0,>=0.8.0->langchain_google_genai) (0.4.1)\n",
            "Requirement already satisfied: rsa<5,>=3.1.4 in /usr/local/lib/python3.11/dist-packages (from google-auth>=2.15.0->google-generativeai<0.9.0,>=0.8.0->langchain_google_genai) (4.9)\n",
            "Requirement already satisfied: anyio in /usr/local/lib/python3.11/dist-packages (from httpx>=0.25.2->langgraph-sdk<0.2.0,>=0.1.42->langgraph) (3.7.1)\n",
            "Requirement already satisfied: httpcore==1.* in /usr/local/lib/python3.11/dist-packages (from httpx>=0.25.2->langgraph-sdk<0.2.0,>=0.1.42->langgraph) (1.0.7)\n",
            "Requirement already satisfied: h11<0.15,>=0.13 in /usr/local/lib/python3.11/dist-packages (from httpcore==1.*->httpx>=0.25.2->langgraph-sdk<0.2.0,>=0.1.42->langgraph) (0.14.0)\n",
            "Requirement already satisfied: jsonpointer>=1.9 in /usr/local/lib/python3.11/dist-packages (from jsonpatch<2.0,>=1.33->langchain-core!=0.3.0,!=0.3.1,!=0.3.10,!=0.3.11,!=0.3.12,!=0.3.13,!=0.3.14,!=0.3.15,!=0.3.16,!=0.3.17,!=0.3.18,!=0.3.19,!=0.3.2,!=0.3.20,!=0.3.21,!=0.3.22,!=0.3.3,!=0.3.4,!=0.3.5,!=0.3.6,!=0.3.7,!=0.3.8,!=0.3.9,<0.4.0,>=0.2.43->langgraph) (3.0.0)\n",
            "Collecting mypy-extensions>=0.3.0 (from typing-inspect<1,>=0.4.0->dataclasses-json<0.7,>=0.5.7->langchain_community)\n",
            "  Downloading mypy_extensions-1.0.0-py3-none-any.whl.metadata (1.1 kB)\n",
            "Requirement already satisfied: httplib2<1.dev0,>=0.19.0 in /usr/local/lib/python3.11/dist-packages (from google-api-python-client->google-generativeai<0.9.0,>=0.8.0->langchain_google_genai) (0.22.0)\n",
            "Requirement already satisfied: google-auth-httplib2<1.0.0,>=0.2.0 in /usr/local/lib/python3.11/dist-packages (from google-api-python-client->google-generativeai<0.9.0,>=0.8.0->langchain_google_genai) (0.2.0)\n",
            "Requirement already satisfied: uritemplate<5,>=3.0.1 in /usr/local/lib/python3.11/dist-packages (from google-api-python-client->google-generativeai<0.9.0,>=0.8.0->langchain_google_genai) (4.1.1)\n",
            "Requirement already satisfied: grpcio<2.0dev,>=1.33.2 in /usr/local/lib/python3.11/dist-packages (from google-api-core[grpc]!=2.0.*,!=2.1.*,!=2.10.*,!=2.2.*,!=2.3.*,!=2.4.*,!=2.5.*,!=2.6.*,!=2.7.*,!=2.8.*,!=2.9.*,<3.0.0dev,>=1.34.1->google-ai-generativelanguage==0.6.15->google-generativeai<0.9.0,>=0.8.0->langchain_google_genai) (1.70.0)\n",
            "Requirement already satisfied: grpcio-status<2.0.dev0,>=1.33.2 in /usr/local/lib/python3.11/dist-packages (from google-api-core[grpc]!=2.0.*,!=2.1.*,!=2.10.*,!=2.2.*,!=2.3.*,!=2.4.*,!=2.5.*,!=2.6.*,!=2.7.*,!=2.8.*,!=2.9.*,<3.0.0dev,>=1.34.1->google-ai-generativelanguage==0.6.15->google-generativeai<0.9.0,>=0.8.0->langchain_google_genai) (1.62.3)\n",
            "Requirement already satisfied: pyparsing!=3.0.0,!=3.0.1,!=3.0.2,!=3.0.3,<4,>=2.4.2 in /usr/local/lib/python3.11/dist-packages (from httplib2<1.dev0,>=0.19.0->google-api-python-client->google-generativeai<0.9.0,>=0.8.0->langchain_google_genai) (3.2.1)\n",
            "Requirement already satisfied: pyasn1<0.7.0,>=0.4.6 in /usr/local/lib/python3.11/dist-packages (from pyasn1-modules>=0.2.1->google-auth>=2.15.0->google-generativeai<0.9.0,>=0.8.0->langchain_google_genai) (0.6.1)\n",
            "Requirement already satisfied: sniffio>=1.1 in /usr/local/lib/python3.11/dist-packages (from anyio->httpx>=0.25.2->langgraph-sdk<0.2.0,>=0.1.42->langgraph) (1.3.1)\n",
            "Downloading langgraph-0.2.70-py3-none-any.whl (149 kB)\n",
            "\u001b[2K   \u001b[90m━━━━━━━━━━━━━━━━━━━━━━━━━━━━━━━━━━━━━━━━\u001b[0m \u001b[32m149.7/149.7 kB\u001b[0m \u001b[31m4.8 MB/s\u001b[0m eta \u001b[36m0:00:00\u001b[0m\n",
            "\u001b[?25hDownloading langchain-0.3.18-py3-none-any.whl (1.0 MB)\n",
            "\u001b[2K   \u001b[90m━━━━━━━━━━━━━━━━━━━━━━━━━━━━━━━━━━━━━━━━\u001b[0m \u001b[32m1.0/1.0 MB\u001b[0m \u001b[31m11.5 MB/s\u001b[0m eta \u001b[36m0:00:00\u001b[0m\n",
            "\u001b[?25hDownloading langchain_google_genai-2.0.9-py3-none-any.whl (41 kB)\n",
            "\u001b[2K   \u001b[90m━━━━━━━━━━━━━━━━━━━━━━━━━━━━━━━━━━━━━━━━\u001b[0m \u001b[32m41.7/41.7 kB\u001b[0m \u001b[31m2.0 MB/s\u001b[0m eta \u001b[36m0:00:00\u001b[0m\n",
            "\u001b[?25hDownloading langchain_community-0.3.17-py3-none-any.whl (2.5 MB)\n",
            "\u001b[2K   \u001b[90m━━━━━━━━━━━━━━━━━━━━━━━━━━━━━━━━━━━━━━━━\u001b[0m \u001b[32m2.5/2.5 MB\u001b[0m \u001b[31m20.2 MB/s\u001b[0m eta \u001b[36m0:00:00\u001b[0m\n",
            "\u001b[?25hDownloading langchain_experimental-0.3.4-py3-none-any.whl (209 kB)\n",
            "\u001b[2K   \u001b[90m━━━━━━━━━━━━━━━━━━━━━━━━━━━━━━━━━━━━━━━━\u001b[0m \u001b[32m209.2/209.2 kB\u001b[0m \u001b[31m5.0 MB/s\u001b[0m eta \u001b[36m0:00:00\u001b[0m\n",
            "\u001b[?25hDownloading dataclasses_json-0.6.7-py3-none-any.whl (28 kB)\n",
            "Downloading filetype-1.2.0-py2.py3-none-any.whl (19 kB)\n",
            "Downloading httpx_sse-0.4.0-py3-none-any.whl (7.8 kB)\n",
            "Downloading langchain_core-0.3.34-py3-none-any.whl (412 kB)\n",
            "\u001b[2K   \u001b[90m━━━━━━━━━━━━━━━━━━━━━━━━━━━━━━━━━━━━━━━━\u001b[0m \u001b[32m413.0/413.0 kB\u001b[0m \u001b[31m15.1 MB/s\u001b[0m eta \u001b[36m0:00:00\u001b[0m\n",
            "\u001b[?25hDownloading langchain_text_splitters-0.3.6-py3-none-any.whl (31 kB)\n",
            "Downloading langgraph_checkpoint-2.0.12-py3-none-any.whl (38 kB)\n",
            "Downloading langgraph_sdk-0.1.51-py3-none-any.whl (44 kB)\n",
            "\u001b[2K   \u001b[90m━━━━━━━━━━━━━━━━━━━━━━━━━━━━━━━━━━━━━━━━\u001b[0m \u001b[32m44.7/44.7 kB\u001b[0m \u001b[31m3.0 MB/s\u001b[0m eta \u001b[36m0:00:00\u001b[0m\n",
            "\u001b[?25hDownloading pydantic_settings-2.7.1-py3-none-any.whl (29 kB)\n",
            "Downloading marshmallow-3.26.1-py3-none-any.whl (50 kB)\n",
            "\u001b[2K   \u001b[90m━━━━━━━━━━━━━━━━━━━━━━━━━━━━━━━━━━━━━━━━\u001b[0m \u001b[32m50.9/50.9 kB\u001b[0m \u001b[31m3.3 MB/s\u001b[0m eta \u001b[36m0:00:00\u001b[0m\n",
            "\u001b[?25hDownloading python_dotenv-1.0.1-py3-none-any.whl (19 kB)\n",
            "Downloading typing_inspect-0.9.0-py3-none-any.whl (8.8 kB)\n",
            "Downloading mypy_extensions-1.0.0-py3-none-any.whl (4.7 kB)\n",
            "Installing collected packages: filetype, python-dotenv, mypy-extensions, marshmallow, httpx-sse, typing-inspect, pydantic-settings, langgraph-sdk, dataclasses-json, langchain-core, langgraph-checkpoint, langchain-text-splitters, langgraph, langchain, langchain_google_genai, langchain_community, langchain_experimental\n",
            "  Attempting uninstall: langchain-core\n",
            "    Found existing installation: langchain-core 0.3.33\n",
            "    Uninstalling langchain-core-0.3.33:\n",
            "      Successfully uninstalled langchain-core-0.3.33\n",
            "  Attempting uninstall: langchain-text-splitters\n",
            "    Found existing installation: langchain-text-splitters 0.3.5\n",
            "    Uninstalling langchain-text-splitters-0.3.5:\n",
            "      Successfully uninstalled langchain-text-splitters-0.3.5\n",
            "  Attempting uninstall: langchain\n",
            "    Found existing installation: langchain 0.3.17\n",
            "    Uninstalling langchain-0.3.17:\n",
            "      Successfully uninstalled langchain-0.3.17\n",
            "Successfully installed dataclasses-json-0.6.7 filetype-1.2.0 httpx-sse-0.4.0 langchain-0.3.18 langchain-core-0.3.34 langchain-text-splitters-0.3.6 langchain_community-0.3.17 langchain_experimental-0.3.4 langchain_google_genai-2.0.9 langgraph-0.2.70 langgraph-checkpoint-2.0.12 langgraph-sdk-0.1.51 marshmallow-3.26.1 mypy-extensions-1.0.0 pydantic-settings-2.7.1 python-dotenv-1.0.1 typing-inspect-0.9.0\n"
          ]
        }
      ],
      "source": [
        "!pip install --upgrade langgraph langchain langchain_google_genai langchain_community langchain_experimental"
      ]
    },
    {
      "cell_type": "markdown",
      "source": [
        "API 키와 LLM을 설정합니다."
      ],
      "metadata": {
        "id": "BUoU_6-4sTaI"
      }
    },
    {
      "cell_type": "code",
      "execution_count": null,
      "metadata": {
        "id": "rvTKbjPJrMCo",
        "colab": {
          "base_uri": "https://localhost:8080/"
        },
        "outputId": "109341a4-d3e6-42ea-bed9-e2311d68c4c9"
      },
      "outputs": [
        {
          "output_type": "stream",
          "name": "stderr",
          "text": [
            "<ipython-input-3-4e191f275e11>:9: LangChainBetaWarning: Introduced in 0.2.24. API subject to change.\n",
            "  rate_limiter = InMemoryRateLimiter(\n"
          ]
        }
      ],
      "source": [
        "import os\n",
        "os.environ['GOOGLE_API_KEY'] = ''\n",
        "\n",
        "from langchain_core.rate_limiters import InMemoryRateLimiter\n",
        "from langchain_google_genai import ChatGoogleGenerativeAI\n",
        "\n",
        "# Gemini API는 분당 10개 요청으로 제한\n",
        "# 즉, 초당 약 0.167개 요청 (10/60)\n",
        "rate_limiter = InMemoryRateLimiter(\n",
        "    requests_per_second=0.167,  # 분당 10개 요청\n",
        "    check_every_n_seconds=0.1,  # 100ms마다 체크\n",
        "    max_bucket_size=10,  # 최대 버스트 크기\n",
        ")\n",
        "\n",
        "# rate limiter를 LLM에 적용\n",
        "llm = ChatGoogleGenerativeAI(\n",
        "    model=\"gemini-2.0-flash-exp\",\n",
        "    rate_limiter=rate_limiter\n",
        ")"
      ]
    },
    {
      "cell_type": "markdown",
      "source": [
        "LLM에서 사용할 툴을 설정합니다."
      ],
      "metadata": {
        "id": "EpL8cPyWsaJn"
      }
    },
    {
      "cell_type": "code",
      "execution_count": null,
      "metadata": {
        "colab": {
          "base_uri": "https://localhost:8080/"
        },
        "id": "mXQ5wE51rMCp",
        "outputId": "6e331d56-ede0-4c3e-e18c-a19264d7674e"
      },
      "outputs": [
        {
          "output_type": "stream",
          "name": "stdout",
          "text": [
            "2025-02-10\n",
            "네!\n"
          ]
        }
      ],
      "source": [
        "# Tavily API\n",
        "os.environ['TAVILY_API_KEY'] = ''\n",
        "\n",
        "\n",
        "from langchain_community.tools.tavily_search import TavilySearchResults\n",
        "from langchain_core.tools import tool\n",
        "import random\n",
        "\n",
        "tavily_search = TavilySearchResults(\n",
        "    max_results=5)\n",
        "\n",
        "@tool\n",
        "def current_date() -> str:\n",
        "    \"현재 날짜를 %y-%m-%d 형식으로 반환합니다.\"\n",
        "    from datetime import datetime\n",
        "    return datetime.now().strftime(\"%Y-%m-%d\")\n",
        "\n",
        "\n",
        "@tool\n",
        "def counsel(problem:str) -> str: # 나중에는 LLM 기반의 모듈이나, 개별 에이전트로 처리 가능\n",
        "    \"고민에 대한 답을 예/아니오로 얻습니다.\"\n",
        "    if random.random()>=0.5:\n",
        "        return '네!'\n",
        "    else:\n",
        "        return '아니오.'\n",
        "\n",
        "print(current_date.invoke({}))\n",
        "print(counsel.invoke({'problem':'아무 고민'}))\n",
        "\n",
        "\n"
      ]
    },
    {
      "cell_type": "markdown",
      "metadata": {
        "id": "RqnTR5farMCp"
      },
      "source": [
        "이번에는 새로운 툴을 추가해 보겠습니다.   \n",
        "`Python_REPL`은 파이썬 쉘을 이용해서 코드를 실행하는 기능으로, ChatGPT의 코드 인터프리터와 유사합니다."
      ]
    },
    {
      "cell_type": "code",
      "execution_count": null,
      "metadata": {
        "id": "_zS2G_HrrMCp",
        "colab": {
          "base_uri": "https://localhost:8080/",
          "height": 35
        },
        "outputId": "391f1cb5-5c86-4a42-e10d-b165985c15b7"
      },
      "outputs": [
        {
          "output_type": "execute_result",
          "data": {
            "text/plain": [
              "'0\\n1\\n2\\n3\\n4\\n5\\n6\\n7\\n8\\n9\\n'"
            ],
            "application/vnd.google.colaboratory.intrinsic+json": {
              "type": "string"
            }
          },
          "metadata": {},
          "execution_count": 24
        }
      ],
      "source": [
        "from langchain_experimental.tools.python.tool import PythonREPLTool\n",
        "\n",
        "repl_tool = PythonREPLTool()\n",
        "repl_tool.invoke(\"for i in range(10): print(i)\")"
      ]
    },
    {
      "cell_type": "markdown",
      "source": [
        "React Agent는 `langgraph.prebuilt` 에서 바로 실행할 수 있습니다."
      ],
      "metadata": {
        "id": "rjAqJiYLuAw0"
      }
    },
    {
      "cell_type": "code",
      "execution_count": null,
      "metadata": {
        "id": "MJC-S7vfrMCp"
      },
      "outputs": [],
      "source": [
        "from langgraph.prebuilt import create_react_agent\n",
        "\n",
        "tools = [tavily_search, current_date, counsel, repl_tool]\n",
        "\n",
        "graph = create_react_agent(llm, tools=tools)"
      ]
    },
    {
      "cell_type": "code",
      "execution_count": null,
      "metadata": {
        "colab": {
          "base_uri": "https://localhost:8080/",
          "height": 266
        },
        "id": "7O1HO1COrMCp",
        "outputId": "5ef46f8d-1108-4e69-e949-92cdc0b34155"
      },
      "outputs": [
        {
          "output_type": "execute_result",
          "data": {
            "text/plain": [
              "<langgraph.graph.state.CompiledStateGraph object at 0x7c038a1bb690>"
            ],
            "image/png": "[encoded data removed]"
          },
          "metadata": {},
          "execution_count": 26
        }
      ],
      "source": [
        "graph"
      ]
    },
    {
      "cell_type": "code",
      "source": [
        "from langchain_core.messages import HumanMessage, SystemMessage, AIMessage\n",
        "\n",
        "graph.invoke({'messages':[HumanMessage(content=\"오늘 운동을 빠질지 말지 고민이에요.\")]})"
      ],
      "metadata": {
        "colab": {
          "base_uri": "https://localhost:8080/"
        },
        "id": "m-yicm0ltSaw",
        "outputId": "ac9970f6-1a37-4513-a6a0-e07d08dc4df4"
      },
      "execution_count": null,
      "outputs": [
        {
          "output_type": "execute_result",
          "data": {
            "text/plain": [
              "{'messages': [HumanMessage(content='오늘 운동을 빠질지 말지 고민이에요.', additional_kwargs={}, response_metadata={}, id='2c6f5cd0-ea5f-4466-9ef1-156e1fa5a931'),\n",
              "  AIMessage(content='', additional_kwargs={'function_call': {'name': 'counsel', 'arguments': '{\"problem\": \"\\\\uc624\\\\ub298 \\\\uc6b4\\\\ub3d9\\\\uc744 \\\\ube60\\\\uc9c8\\\\uc9c0 \\\\ub9d0\\\\uc9c0 \\\\uace0\\\\ubbfc\"}'}}, response_metadata={'prompt_feedback': {'block_reason': 0, 'safety_ratings': []}, 'finish_reason': 'STOP', 'safety_ratings': []}, id='run-8a8bb8b3-44e8-4a0f-8a06-179523a6facd-0', tool_calls=[{'name': 'counsel', 'args': {'problem': '오늘 운동을 빠질지 말지 고민'}, 'id': 'a61ea878-01f0-4c4f-b2d7-95c6cb11ccfd', 'type': 'tool_call'}], usage_metadata={'input_tokens': 150, 'output_tokens': 15, 'total_tokens': 165, 'input_token_details': {'cache_read': 0}}),\n",
              "  ToolMessage(content='아니오.', name='counsel', id='3b7a9174-312e-401d-b035-b95082fa8f77', tool_call_id='a61ea878-01f0-4c4f-b2d7-95c6cb11ccfd'),\n",
              "  AIMessage(content='운동을 빠지지 마세요.', additional_kwargs={}, response_metadata={'prompt_feedback': {'block_reason': 0, 'safety_ratings': []}, 'finish_reason': 'STOP', 'safety_ratings': []}, id='run-182b732e-f1dd-4214-bd0e-bc48264c7fe1-0', usage_metadata={'input_tokens': 172, 'output_tokens': 10, 'total_tokens': 182, 'input_token_details': {'cache_read': 0}})]}"
            ]
          },
          "metadata": {},
          "execution_count": 28
        }
      ]
    },
    {
      "cell_type": "code",
      "execution_count": null,
      "metadata": {
        "colab": {
          "base_uri": "https://localhost:8080/"
        },
        "id": "3ctGtKv5rMCq",
        "outputId": "0e0eb115-990b-41b2-8e17-610f26f365d9"
      },
      "outputs": [
        {
          "output_type": "stream",
          "name": "stdout",
          "text": [
            "{'agent': {'messages': [AIMessage(content='', additional_kwargs={'function_call': {'name': 'current_date', 'arguments': '{}'}}, response_metadata={'prompt_feedback': {'block_reason': 0, 'safety_ratings': []}, 'finish_reason': 'STOP', 'safety_ratings': []}, id='run-b479f437-6dbc-4533-91da-2746ca83c4b9-0', tool_calls=[{'name': 'current_date', 'args': {}, 'id': '10d00da1-3433-4376-b5ab-0abcd6236b1d', 'type': 'tool_call'}], usage_metadata={'input_tokens': 182, 'output_tokens': 3, 'total_tokens': 185, 'input_token_details': {'cache_read': 0}})]}}\n",
            "{'tools': {'messages': [ToolMessage(content='2025-02-10', name='current_date', id='3f7c24bc-ad4e-4207-9b24-65002c1713c1', tool_call_id='10d00da1-3433-4376-b5ab-0abcd6236b1d')]}}\n",
            "{'agent': {'messages': [AIMessage(content='', additional_kwargs={'function_call': {'name': 'Python_REPL', 'arguments': '{\"query\": \"file_name = \\'2025-02-10.txt\\'\\\\nfile = open(file_name, \\'w\\')\\\\nfile.write(\\'2025-02-10\\')\\\\nfile.close()\\\\n\"}'}}, response_metadata={'prompt_feedback': {'block_reason': 0, 'safety_ratings': []}, 'finish_reason': 'STOP', 'safety_ratings': []}, id='run-4c4f5939-0b2b-4e1a-b3fb-da2376f6606e-0', tool_calls=[{'name': 'Python_REPL', 'args': {'query': \"file_name = '2025-02-10.txt'\\nfile = open(file_name, 'w')\\nfile.write('2025-02-10')\\nfile.close()\\n\"}, 'id': '5c6debe3-b64f-42ce-83c2-3e28c55aa28f', 'type': 'tool_call'}], usage_metadata={'input_tokens': 199, 'output_tokens': 58, 'total_tokens': 257, 'input_token_details': {'cache_read': 0}})]}}\n",
            "{'tools': {'messages': [ToolMessage(content='', name='Python_REPL', id='7beb37ec-8c2a-46dd-b44f-ee7c0d93ec9f', tool_call_id='5c6debe3-b64f-42ce-83c2-3e28c55aa28f')]}}\n",
            "{'agent': {'messages': [AIMessage(content='현재 날짜는 2025-02-10이고, 해당 날짜로 파일이름을 정해 텍스트 파일을 생성했습니다. 파일에 날짜를 쓰고 저장했습니다.', additional_kwargs={}, response_metadata={'prompt_feedback': {'block_reason': 0, 'safety_ratings': []}, 'finish_reason': 'STOP', 'safety_ratings': []}, id='run-bba5dcbe-c92d-4967-8629-cfd5d2253656-0', usage_metadata={'input_tokens': 261, 'output_tokens': 48, 'total_tokens': 309, 'input_token_details': {'cache_read': 0}})]}}\n"
          ]
        }
      ],
      "source": [
        "for data in graph.stream(\n",
        "    {'messages':[\n",
        "        HumanMessage(content='''\n",
        "오늘 날짜 확인해서 txt 파일로 저장해, 파일 이름은 날짜.txt로 하고,\n",
        "파일 시스템 접근이 필요한 경우, PythonREPL 코드를 짜서 실행하면 돼. ''')]},\n",
        "    stream_mode='updates'):\n",
        "    print(data)"
      ]
    },
    {
      "cell_type": "markdown",
      "metadata": {
        "id": "UF3GE4mgrMCq"
      },
      "source": [
        "이번에는 Tool Node, ToolCondition 등의 Prebuilt 없이 구현해 보겠습니다."
      ]
    },
    {
      "cell_type": "code",
      "execution_count": null,
      "metadata": {
        "id": "YtPHw7IRrMCq"
      },
      "outputs": [],
      "source": [
        "from typing import TypedDict, Annotated\n",
        "from langgraph.graph.message import add_messages\n",
        "\n",
        "\n",
        "class State(TypedDict):\n",
        "    messages : Annotated[list, add_messages]   # 메시지 맥락을 저장하는 리스트\n"
      ]
    },
    {
      "cell_type": "code",
      "execution_count": null,
      "metadata": {
        "colab": {
          "base_uri": "https://localhost:8080/"
        },
        "id": "vE0vrzzKrMCq",
        "outputId": "b1bdd0fc-55fa-479d-ef4a-c8b8f9119a13"
      },
      "outputs": [
        {
          "output_type": "execute_result",
          "data": {
            "text/plain": [
              "RunnableBinding(bound=ChatGoogleGenerativeAI(rate_limiter=<langchain_core.rate_limiters.InMemoryRateLimiter object at 0x7c039e455110>, model='models/gemini-2.0-flash-exp', google_api_key=SecretStr('**********'), client=<google.ai.generativelanguage_v1beta.services.generative_service.client.GenerativeServiceClient object at 0x7c039e3d0210>, default_metadata=()), kwargs={'tools': [{'type': 'function', 'function': {'name': 'tavily_search_results_json', 'description': 'A search engine optimized for comprehensive, accurate, and trusted results. Useful for when you need to answer questions about current events. Input should be a search query.', 'parameters': {'properties': {'query': {'description': 'search query to look up', 'type': 'string'}}, 'required': ['query'], 'type': 'object'}}}, {'type': 'function', 'function': {'name': 'current_date', 'description': '현재 날짜를 %y-%m-%d 형식으로 반환합니다.', 'parameters': {'properties': {}, 'type': 'object'}}}, {'type': 'function', 'function': {'name': 'counsel', 'description': '고민에 대한 답을 예/아니오로 얻습니다.', 'parameters': {'properties': {'problem': {'type': 'string'}}, 'required': ['problem'], 'type': 'object'}}}, {'type': 'function', 'function': {'name': 'Python_REPL', 'description': 'A Python shell. Use this to execute python commands. Input should be a valid python command. If you want to see the output of a value, you should print it out with `print(...)`.', 'parameters': {'properties': {'query': {'type': 'string'}}, 'required': ['query'], 'type': 'object'}}}]}, config={}, config_factories=[])"
            ]
          },
          "metadata": {},
          "execution_count": 46
        }
      ],
      "source": [
        "llm_with_tools = llm.bind_tools(tools)\n",
        "llm_with_tools"
      ]
    },
    {
      "cell_type": "code",
      "execution_count": null,
      "metadata": {
        "id": "QlCCBu_drMCq"
      },
      "outputs": [],
      "source": [
        "from langchain_core.messages import ToolMessage\n",
        "\n",
        "tool_list = {tool.name: tool for tool in tools}\n",
        "# tool 목록 dict로 생성\n",
        "\n",
        "def tool_node(state):\n",
        "    tool_outputs = []\n",
        "    tool_call_msgs = state['messages'][-1]\n",
        "    # 마지막 메시지: 툴 콜링 메시지\n",
        "\n",
        "    for tool_call in tool_call_msgs.tool_calls:\n",
        "    # 여러 개의 툴 콜이 필요한 경우를 고려해 for로 표시\n",
        "        tool_exec = tool_list[tool_call['name']]\n",
        "        # 실제 함수 찾기\n",
        "        tool_result = tool_exec.invoke(tool_call)\n",
        "        # tool 실행 결과 얻기 (결과는 ToolMessage 타입: 1번 실습 참고)\n",
        "        tool_outputs.append(tool_result)\n",
        "\n",
        "    return {'messages': tool_outputs}\n",
        "\n",
        "def agent(state):\n",
        "\n",
        "    # system_prompt = SystemMessage(\"주어진 툴을 사용하여, 사용자의 질문에 답하세요.\")\n",
        "\n",
        "    # ReAct 목적에 충실한 버전\n",
        "    system_prompt = SystemMessage(\"\"\"주어진 툴을 사용하여, 사용자의 질문에 답하세요.\n",
        "툴을 실행하기 전, 직전까지의 결과의 의미를 파악하고 맥락에 맞게 다음 툴을 실행하기 위한 Planning Step을 메시지에 포함해 출력하세요.\n",
        "파일 시스템 접근은 파이썬 코드를 실행하여 처리하세요.\n",
        "에러가 발생하면, 전략을 바꿔 다시 실행하세요.\"\"\")\n",
        "\n",
        "\n",
        "    response = llm_with_tools.invoke([system_prompt] + state[\"messages\"])\n",
        "    # Tool Calling이 필요한 경우와 필요하지 않은 경우를 구분할할 필요\n",
        "    return {'messages': response}\n",
        "\n",
        "def tool_needed(state):\n",
        "\n",
        "    last_msg = state['messages'][-1]\n",
        "    if last_msg.tool_calls: # 툴 콜링이 필요하면\n",
        "        return \"continue\"\n",
        "    else:\n",
        "        return \"finish\""
      ]
    },
    {
      "cell_type": "code",
      "execution_count": null,
      "metadata": {
        "colab": {
          "base_uri": "https://localhost:8080/"
        },
        "id": "t7JY5soZrMCq",
        "outputId": "bfcad08c-0971-4398-df6a-0d841d4b0b38"
      },
      "outputs": [
        {
          "output_type": "execute_result",
          "data": {
            "text/plain": [
              "<langgraph.graph.state.StateGraph at 0x7c038a1e7bd0>"
            ]
          },
          "metadata": {},
          "execution_count": 48
        }
      ],
      "source": [
        "from langgraph.graph import StateGraph, START, END\n",
        "\n",
        "builder = StateGraph(State)\n",
        "\n",
        "builder.add_node(\"agent\", agent)\n",
        "builder.add_node(\"tools\", tool_node)\n",
        "\n",
        "builder.add_edge(START, 'agent'),\n",
        "builder.add_conditional_edges(\"agent\",\n",
        "                              tool_needed,\n",
        "                               {\"continue\": \"tools\",\"finish\": END})\n",
        "builder.add_edge(\"tools\", \"agent\")"
      ]
    },
    {
      "cell_type": "code",
      "execution_count": null,
      "metadata": {
        "colab": {
          "base_uri": "https://localhost:8080/",
          "height": 290
        },
        "id": "AoQSryTjrMCq",
        "outputId": "6c77df44-3464-4f1f-9c35-3790dfcb4b7a"
      },
      "outputs": [
        {
          "output_type": "execute_result",
          "data": {
            "text/plain": [
              "<langgraph.graph.state.CompiledStateGraph object at 0x7c038a3764d0>"
            ],
            "image/png": "[encoded data removed]"
          },
          "metadata": {},
          "execution_count": 49
        }
      ],
      "source": [
        "graph = builder.compile()\n",
        "graph"
      ]
    },
    {
      "cell_type": "code",
      "execution_count": null,
      "metadata": {
        "colab": {
          "base_uri": "https://localhost:8080/"
        },
        "id": "0PNNpHuvrMCq",
        "outputId": "89ae875a-17ab-4cce-d5ef-3a28ea76598e"
      },
      "outputs": [
        {
          "output_type": "execute_result",
          "data": {
            "text/plain": [
              "{'messages': [HumanMessage(content='패스트캠퍼스 랭그래프 과정 검색해서 소개해줘.', additional_kwargs={}, response_metadata={}, id='a261db0f-7c08-4d8e-9c20-4e7c98b5c27a'),\n",
              "  AIMessage(content='', additional_kwargs={'function_call': {'name': 'tavily_search_results_json', 'arguments': '{\"query\": \"\\\\ud328\\\\uc2a4\\\\ud2b8\\\\ucea0\\\\ud37c\\\\uc2a4 \\\\ub7ad\\\\uadf8\\\\ub798\\\\ud504 \\\\uacfc\\\\uc815\"}'}}, response_metadata={'prompt_feedback': {'block_reason': 0, 'safety_ratings': []}, 'finish_reason': 'STOP', 'safety_ratings': []}, id='run-71083e13-698e-4629-b523-ebaba13a1776-0', tool_calls=[{'name': 'tavily_search_results_json', 'args': {'query': '패스트캠퍼스 랭그래프 과정'}, 'id': '91c803af-19c8-4d7c-bc79-43478cb937bb', 'type': 'tool_call'}], usage_metadata={'input_tokens': 248, 'output_tokens': 21, 'total_tokens': 269, 'input_token_details': {'cache_read': 0}}),\n",
              "  ToolMessage(content='[{\"url\": \"https://fastcampus.co.kr/categories\", \"content\": \"랭그래프로 한번에 완성하는 복잡한 RAG와 Agent. 약 20시간사전지식 필요 · 강의 대표이미지. 10+. 딥러닝 · 파인튜닝과 RAG로 완성하는 맞춤형 LLM 서비스 개발.\"}, {\"url\": \"https://kr.linkedin.com/posts/hyungho-byun-6b2588224_%EB%9E%AD%EA%B7%B8%EB%9E%98%ED%94%84%EB%A1%9C-%ED%95%9C%EB%B2%88%EC%97%90-%EC%99%84%EC%84%B1%ED%95%98%EB%8A%94-%EB%B3%B5%EC%9E%A1%ED%95%9C-rag%EC%99%80-agent-%ED%8C%A8%EC%8A%A4%ED%8A%B8%EC%BA%A0%ED%8D%BC%EC%8A%A4-activity-7288441474692661248-b3zr\", \"content\": \"LinkedIn Hyungho Byun 페이지: 랭그래프로 한번에 완성하는 복잡한 RAG와 Agent | 패스트캠퍼스 가입이나 로그인을 하기 위해 계속 버튼을 클릭하면 LinkedIn 사용자약관, 개인정보 처리방침, 쿠키정책에 동의하게 됩니다. [본문 내용으로 가기](https://kr.linkedin.com/posts/hyungho-byun-6b2588224_%EB%9E%AD%EA%B7%B8%EB%9E%98%ED%94%84%EB%A1%9C-%ED%95%9C%EB%B2%88%EC%97%90-%EC%99%84%EC%84%B1%ED%95%98%EB%8A%94-%EB%B3%B5%EC%9E%A1%ED%95%9C-rag%EC%99%80-agent-%ED%8C%A8%EC%8A%A4%ED%8A%B8%EC%BA%A0%ED%8D%BC%EC%8A%A4-activity-7288441474692661248-b3zr#main-content) LinkedIn 회원 가입 로그인 과정 이름은 \\\\\"랭그래프로 한번에 완성하는 복잡한 RAG와 Agent\\\\\" 입니다 :) LLM 어플리케이션 개발의 가장 편한 라이브러리가 랭체인이었다면,\\xa0 랭체인의 단일 기능을 활용해 복잡한 워크플로우(Workflow)를 구성하고, 효과적으로 관리하도록 만들어 주는 라이브러리는 랭그래프입니다. 랭그래프로 한번에 완성하는 복잡한 RAG와 Agent | 패스트캠퍼스 -------------------------------------- ### fastcampus.co.kr  LinkedIn Hyungho Byun노토랩 대표, LLM 강의/개발/기술자문, 서울대 컴퓨터공학 박사 댓글 신고 Hyungho Byun노토랩 대표, LLM 강의/개발/기술자문, 서울대 컴퓨터공학 박사 댓글 신고 가입이나 로그인을 하기 위해 계속 버튼을 클릭하면 LinkedIn 사용자약관, 개인정보 처리방침, 쿠키정책에 동의하게 됩니다. 가입이나 로그인을 하기 위해 계속 버튼을 클릭하면 LinkedIn 사용자약관, 개인정보 처리방침, 쿠키정책에 동의하게 됩니다.\"}, {\"url\": \"https://www.youtube.com/watch?v=p_pOIvXFDXQ\", \"content\": \"안녕하세요 케인입니다. 패스트캠퍼스에서 진행하는 Langgraph로 끝내는 멀티 AI Agent 강의의 입문 시리즈를 유튜브에 공개하게 되었습니다.\"}, {\"url\": \"https://fastcampus.co.kr/category_online_datasciencedl\", \"content\": \"프로에게 배우는 하이퍼리얼리티 인물 · 영상 제작: Midjourney, ComfyUI, Kling, Gen3 약 28시간사전지식 필요 온라인 AI 영상 툴을 활용한 광고/애니메이션/시네마틱 영상 제작 약 13시간누구나 온라인 The RED : 프롬프트 엔지니어링, LLM(ChatGPT) 기반의 AI 서비스 개발 약 16시간누구나 온라인 프롬프트 엔지니어링으로 시작하는 AI/LLM 서비스 개발: 9개 프로젝트로 챗봇부터 AI 에이전트까지 약 56시간사전지식 필요 온라인 모두를 위한 2025 AI 바이블: AI Signature 약 95시간사전지식 필요 온라인 혁펜하임의 AI DEEP DIVE (Online.) 약 15시간누구나 온라인 약 94시간누구나 온라인 약 66시간누구나 온라인 AI 시대, 프로급 영상 제작자들의 상업 영상 연출을 위한 생성형 AI 활용법 약 10시간누구나 온라인 [5주 완성] LangGraph를 활용한 실전 AI 애플리케이션 개발 마스터 캠프 약 15시간사전지식 필요 일관성을 유지하는 AI 영상 제작 with Midjourney & Runway 약 10시간누구나 온라인\"}, {\"url\": \"https://www.youtube.com/watch?v=C7W2KGyFrV4\", \"content\": \"패스트캠퍼스 RAG 비법노트⭐️ - 할인코드(20% 할인): 테디노트 - 강의 ... 랭체인 튜토리얼 무료 전자책(wikidocs) https://wikidocs.net/book\"}]', name='tavily_search_results_json', id='3d765fc2-a928-4401-9842-5f419250bca7', tool_call_id='91c803af-19c8-4d7c-bc79-43478cb937bb', artifact={'query': '패스트캠퍼스 랭그래프 과정', 'follow_up_questions': None, 'answer': None, 'images': [], 'results': [{'url': 'https://fastcampus.co.kr/categories', 'title': '커리어 성장을 위한 최고의 실무교육 아카데미 - 패스트캠퍼스', 'content': '랭그래프로 한번에 완성하는 복잡한 RAG와 Agent. 약 20시간사전지식 필요 · 강의 대표이미지. 10+. 딥러닝 · 파인튜닝과 RAG로 완성하는 맞춤형 LLM 서비스 개발.', 'score': 0.7144891, 'raw_content': None}, {'url': 'https://kr.linkedin.com/posts/hyungho-byun-6b2588224_%EB%9E%AD%EA%B7%B8%EB%9E%98%ED%94%84%EB%A1%9C-%ED%95%9C%EB%B2%88%EC%97%90-%EC%99%84%EC%84%B1%ED%95%98%EB%8A%94-%EB%B3%B5%EC%9E%A1%ED%95%9C-rag%EC%99%80-agent-%ED%8C%A8%EC%8A%A4%ED%8A%B8%EC%BA%A0%ED%8D%BC%EC%8A%A4-activity-7288441474692661248-b3zr', 'title': 'LinkedIn Hyungho Byun 페이지: 랭그래프로 한번에 완성하는 복잡한 ...', 'content': 'LinkedIn Hyungho Byun 페이지: 랭그래프로 한번에 완성하는 복잡한 RAG와 Agent | 패스트캠퍼스 가입이나 로그인을 하기 위해 계속 버튼을 클릭하면 LinkedIn 사용자약관, 개인정보 처리방침, 쿠키정책에 동의하게 됩니다. [본문 내용으로 가기](https://kr.linkedin.com/posts/hyungho-byun-6b2588224_%EB%9E%AD%EA%B7%B8%EB%9E%98%ED%94%84%EB%A1%9C-%ED%95%9C%EB%B2%88%EC%97%90-%EC%99%84%EC%84%B1%ED%95%98%EB%8A%94-%EB%B3%B5%EC%9E%A1%ED%95%9C-rag%EC%99%80-agent-%ED%8C%A8%EC%8A%A4%ED%8A%B8%EC%BA%A0%ED%8D%BC%EC%8A%A4-activity-7288441474692661248-b3zr#main-content) LinkedIn 회원 가입 로그인 과정 이름은 \"랭그래프로 한번에 완성하는 복잡한 RAG와 Agent\" 입니다 :) LLM 어플리케이션 개발의 가장 편한 라이브러리가 랭체인이었다면,\\xa0 랭체인의 단일 기능을 활용해 복잡한 워크플로우(Workflow)를 구성하고, 효과적으로 관리하도록 만들어 주는 라이브러리는 랭그래프입니다. 랭그래프로 한번에 완성하는 복잡한 RAG와 Agent | 패스트캠퍼스 -------------------------------------- ### fastcampus.co.kr  LinkedIn Hyungho Byun노토랩 대표, LLM 강의/개발/기술자문, 서울대 컴퓨터공학 박사 댓글 신고 Hyungho Byun노토랩 대표, LLM 강의/개발/기술자문, 서울대 컴퓨터공학 박사 댓글 신고 가입이나 로그인을 하기 위해 계속 버튼을 클릭하면 LinkedIn 사용자약관, 개인정보 처리방침, 쿠키정책에 동의하게 됩니다. 가입이나 로그인을 하기 위해 계속 버튼을 클릭하면 LinkedIn 사용자약관, 개인정보 처리방침, 쿠키정책에 동의하게 됩니다.', 'score': 0.67269784, 'raw_content': None}, {'url': 'https://www.youtube.com/watch?v=p_pOIvXFDXQ', 'title': 'EP 1. AI Agent 프레임워크, Langgraph의 개념과 원리 - YouTube', 'content': '안녕하세요 케인입니다. 패스트캠퍼스에서 진행하는 Langgraph로 끝내는 멀티 AI Agent 강의의 입문 시리즈를 유튜브에 공개하게 되었습니다.', 'score': 0.64182705, 'raw_content': None}, {'url': 'https://fastcampus.co.kr/category_online_datasciencedl', 'title': '커리어 성장을 위한 최고의 실무교육 아카데미 - 패스트캠퍼스', 'content': '프로에게 배우는 하이퍼리얼리티 인물 · 영상 제작: Midjourney, ComfyUI, Kling, Gen3 약 28시간사전지식 필요 온라인 AI 영상 툴을 활용한 광고/애니메이션/시네마틱 영상 제작 약 13시간누구나 온라인 The RED : 프롬프트 엔지니어링, LLM(ChatGPT) 기반의 AI 서비스 개발 약 16시간누구나 온라인 프롬프트 엔지니어링으로 시작하는 AI/LLM 서비스 개발: 9개 프로젝트로 챗봇부터 AI 에이전트까지 약 56시간사전지식 필요 온라인 모두를 위한 2025 AI 바이블: AI Signature 약 95시간사전지식 필요 온라인 혁펜하임의 AI DEEP DIVE (Online.) 약 15시간누구나 온라인 약 94시간누구나 온라인 약 66시간누구나 온라인 AI 시대, 프로급 영상 제작자들의 상업 영상 연출을 위한 생성형 AI 활용법 약 10시간누구나 온라인 [5주 완성] LangGraph를 활용한 실전 AI 애플리케이션 개발 마스터 캠프 약 15시간사전지식 필요 일관성을 유지하는 AI 영상 제작 with Midjourney & Runway 약 10시간누구나 온라인', 'score': 0.6083387, 'raw_content': None}, {'url': 'https://www.youtube.com/watch?v=C7W2KGyFrV4', 'title': 'RAG 비법노트 강의 커리큘럼 소개 / #LangGraph 튜토리얼 하이라이트', 'content': '패스트캠퍼스 RAG 비법노트⭐️ - 할인코드(20% 할인): 테디노트 - 강의 ... 랭체인 튜토리얼 무료 전자책(wikidocs) https://wikidocs.net/book', 'score': 0.528461, 'raw_content': None}], 'response_time': 1.88}),\n",
              "  AIMessage(content='패스트캠퍼스에서 \"랭그래프로 한번에 완성하는 복잡한 RAG와 Agent\"라는 과정이 있는 것 같습니다.  LinkedIn에 관련 게시물이 있고, 유튜브에 입문 시리즈가 공개되었다는 정보도 있습니다. 또한, \"[5주 완성] LangGraph를 활용한 실전 AI 애플리케이션 개발 마스터 캠프\"라는 과정도 있습니다. 더 자세한 내용은 fastcampus.co.kr에서 확인해 보세요.', additional_kwargs={}, response_metadata={'prompt_feedback': {'block_reason': 0, 'safety_ratings': []}, 'finish_reason': 'STOP', 'safety_ratings': []}, id='run-2e9d8f8a-7506-4d74-8e59-0c8a126ca01b-0', usage_metadata={'input_tokens': 1701, 'output_tokens': 117, 'total_tokens': 1818, 'input_token_details': {'cache_read': 0}})]}"
            ]
          },
          "metadata": {},
          "execution_count": 43
        }
      ],
      "source": [
        "response = graph.invoke({'messages':[HumanMessage(content=\"패스트캠퍼스 랭그래프 과정 검색해서 소개해줘.\")]})\n",
        "response"
      ]
    },
    {
      "cell_type": "code",
      "execution_count": null,
      "metadata": {
        "colab": {
          "base_uri": "https://localhost:8080/"
        },
        "id": "BwQOBfaXrMCr",
        "outputId": "f80dc080-0cab-4917-eea1-635da23517e4"
      },
      "outputs": [
        {
          "output_type": "stream",
          "name": "stdout",
          "text": [
            "{'agent': {'messages': AIMessage(content='먼저 오늘 날짜를 알아내야 합니다. 그런 다음 해당 날짜를 사용하여 파일 이름으로 txt 파일을 만들고 날짜를 파일에 써야 합니다.', additional_kwargs={'function_call': {'name': 'current_date', 'arguments': '{}'}}, response_metadata={'prompt_feedback': {'block_reason': 0, 'safety_ratings': []}, 'finish_reason': 'STOP', 'safety_ratings': []}, id='run-d53a6574-a556-4d16-91ac-a12a893df6ee-0', tool_calls=[{'name': 'current_date', 'args': {}, 'id': '7ca1dc51-bc1a-439a-941d-e22db1a267fd', 'type': 'tool_call'}], usage_metadata={'input_tokens': 253, 'output_tokens': 45, 'total_tokens': 298, 'input_token_details': {'cache_read': 0}})}}\n",
            "----------\n",
            "{'tools': {'messages': [ToolMessage(content='2025-02-10', name='current_date', id='82dae67b-f501-4e9e-b8fa-342d5eef8f68', tool_call_id='7ca1dc51-bc1a-439a-941d-e22db1a267fd')]}}\n",
            "----------\n",
            "{'agent': {'messages': AIMessage(content='현재 날짜를 얻었습니다. 이제 날짜를 사용하여 파일 이름을 만들고 txt 파일로 저장해야 합니다. 파일 시스템에 접근하려면 파이썬 쉘을 사용해야 합니다.', additional_kwargs={'function_call': {'name': 'Python_REPL', 'arguments': '{\"query\": \"\\\\nimport os\\\\ndate = \\\\\"2025-02-10\\\\\"\\\\nfilename = date + \\\\\".txt\\\\\"\\\\n\\\\nwith open(filename, \\\\\"w\\\\\") as f:\\\\n    f.write(date)\\\\n\\\\nprint(f\\\\\"\\\\ud30c\\\\uc77c {filename}\\\\uc774 \\\\uc0dd\\\\uc131\\\\ub418\\\\uc5c8\\\\uc2b5\\\\ub2c8\\\\ub2e4.\\\\\")\\\\n\"}'}}, response_metadata={'prompt_feedback': {'block_reason': 0, 'safety_ratings': []}, 'finish_reason': 'STOP', 'safety_ratings': []}, id='run-6d2842e4-19c8-46e3-96ee-a35a7e2e7b0b-0', tool_calls=[{'name': 'Python_REPL', 'args': {'query': '\\nimport os\\ndate = \"2025-02-10\"\\nfilename = date + \".txt\"\\n\\nwith open(filename, \"w\") as f:\\n    f.write(date)\\n\\nprint(f\"파일 {filename}이 생성되었습니다.\")\\n'}, 'id': '412a490f-1e92-4fdd-b74f-f13a8a230ea4', 'type': 'tool_call'}], usage_metadata={'input_tokens': 270, 'output_tokens': 112, 'total_tokens': 382, 'input_token_details': {'cache_read': 0}})}}\n",
            "----------\n",
            "{'tools': {'messages': [ToolMessage(content='파일 2025-02-10.txt이 생성되었습니다.\\n', name='Python_REPL', id='e3517290-45e1-49c1-b9cb-4d17d15425ea', tool_call_id='412a490f-1e92-4fdd-b74f-f13a8a230ea4')]}}\n",
            "----------\n",
            "{'agent': {'messages': AIMessage(content='오늘 날짜로 파일이 생성되었습니다.', additional_kwargs={}, response_metadata={'prompt_feedback': {'block_reason': 0, 'safety_ratings': []}, 'finish_reason': 'STOP', 'safety_ratings': []}, id='run-d92859f9-4fa5-4cd4-8e73-02f1fa5878db-0', usage_metadata={'input_tokens': 359, 'output_tokens': 11, 'total_tokens': 370, 'input_token_details': {'cache_read': 0}})}}\n",
            "----------\n"
          ]
        }
      ],
      "source": [
        "for data in graph.stream(\n",
        "    {'messages':[HumanMessage(content='''\n",
        "    오늘 날짜 확인해서 txt 파일로 저장해, 파일 이름은 날짜.txt로 해.''')]}, stream_mode='updates'):\n",
        "    print(data)\n",
        "    print('----------')\n"
      ]
    },
    {
      "cell_type": "code",
      "source": [],
      "metadata": {
        "id": "JqJp4TmSvDZN"
      },
      "execution_count": null,
      "outputs": []
    }
  ],
  "metadata": {
    "kernelspec": {
      "display_name": "multicampus",
      "language": "python",
      "name": "python3"
    },
    "language_info": {
      "codemirror_mode": {
        "name": "ipython",
        "version": 3
      },
      "file_extension": ".py",
      "mimetype": "text/x-python",
      "name": "python",
      "nbconvert_exporter": "python",
      "pygments_lexer": "ipython3",
      "version": "3.11.7"
    },
    "colab": {
      "provenance": []
    }
  },
  "nbformat": 4,
  "nbformat_minor": 0
}