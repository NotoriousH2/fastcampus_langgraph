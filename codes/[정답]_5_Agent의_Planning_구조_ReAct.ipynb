{
  "cells": [
    {
      "cell_type": "markdown",
      "metadata": {
        "id": "zAWfvZKOrMCl"
      },
      "source": [
        "# [실습] Agent의 Planning ReAct 알아보기"
      ]
    },
    {
      "cell_type": "markdown",
      "metadata": {
        "id": "kTwBtAVvrMCn"
      },
      "source": [
        "`ToolNode`와 `ToolCondition`을 통해 툴을 실행하는 에이전트 구조를 만들어 보았습니다.\n",
        "\n",
        "이 구조는 랭그래프에서 ReAct 에이전트라는 형태로 구현이 되어 있습니다."
      ]
    },
    {
      "cell_type": "code",
      "execution_count": 1,
      "metadata": {
        "id": "ZjgQZudIrMCn"
      },
      "outputs": [
        {
          "name": "stdout",
          "output_type": "stream",
          "text": [
            "Requirement already satisfied: langgraph in c:\\users\\pc\\onedrive\\1.강의\\0.llm\\1 패스트캠퍼스_랭그래프\\fastcampus_langgraph\\.venv\\lib\\site-packages (1.0.1)\n",
            "Requirement already satisfied: langchain in c:\\users\\pc\\onedrive\\1.강의\\0.llm\\1 패스트캠퍼스_랭그래프\\fastcampus_langgraph\\.venv\\lib\\site-packages (1.0.2)\n",
            "Requirement already satisfied: langchain_google_genai in c:\\users\\pc\\onedrive\\1.강의\\0.llm\\1 패스트캠퍼스_랭그래프\\fastcampus_langgraph\\.venv\\lib\\site-packages (3.0.0)\n",
            "Requirement already satisfied: langchain_community in c:\\users\\pc\\onedrive\\1.강의\\0.llm\\1 패스트캠퍼스_랭그래프\\fastcampus_langgraph\\.venv\\lib\\site-packages (0.4)\n",
            "Collecting langchain_experimental\n",
            "  Using cached langchain_experimental-0.3.4-py3-none-any.whl.metadata (1.7 kB)\n",
            "Requirement already satisfied: langchain-core>=0.1 in c:\\users\\pc\\onedrive\\1.강의\\0.llm\\1 패스트캠퍼스_랭그래프\\fastcampus_langgraph\\.venv\\lib\\site-packages (from langgraph) (1.0.1)\n",
            "Requirement already satisfied: langgraph-checkpoint<4.0.0,>=2.1.0 in c:\\users\\pc\\onedrive\\1.강의\\0.llm\\1 패스트캠퍼스_랭그래프\\fastcampus_langgraph\\.venv\\lib\\site-packages (from langgraph) (3.0.0)\n",
            "Requirement already satisfied: langgraph-prebuilt<1.1.0,>=1.0.0 in c:\\users\\pc\\onedrive\\1.강의\\0.llm\\1 패스트캠퍼스_랭그래프\\fastcampus_langgraph\\.venv\\lib\\site-packages (from langgraph) (1.0.1)\n",
            "Requirement already satisfied: langgraph-sdk<0.3.0,>=0.2.2 in c:\\users\\pc\\onedrive\\1.강의\\0.llm\\1 패스트캠퍼스_랭그래프\\fastcampus_langgraph\\.venv\\lib\\site-packages (from langgraph) (0.2.9)\n",
            "Requirement already satisfied: pydantic>=2.7.4 in c:\\users\\pc\\onedrive\\1.강의\\0.llm\\1 패스트캠퍼스_랭그래프\\fastcampus_langgraph\\.venv\\lib\\site-packages (from langgraph) (2.12.3)\n",
            "Requirement already satisfied: xxhash>=3.5.0 in c:\\users\\pc\\onedrive\\1.강의\\0.llm\\1 패스트캠퍼스_랭그래프\\fastcampus_langgraph\\.venv\\lib\\site-packages (from langgraph) (3.6.0)\n",
            "Requirement already satisfied: ormsgpack>=1.10.0 in c:\\users\\pc\\onedrive\\1.강의\\0.llm\\1 패스트캠퍼스_랭그래프\\fastcampus_langgraph\\.venv\\lib\\site-packages (from langgraph-checkpoint<4.0.0,>=2.1.0->langgraph) (1.11.0)\n",
            "Requirement already satisfied: httpx>=0.25.2 in c:\\users\\pc\\onedrive\\1.강의\\0.llm\\1 패스트캠퍼스_랭그래프\\fastcampus_langgraph\\.venv\\lib\\site-packages (from langgraph-sdk<0.3.0,>=0.2.2->langgraph) (0.28.1)\n",
            "Requirement already satisfied: orjson>=3.10.1 in c:\\users\\pc\\onedrive\\1.강의\\0.llm\\1 패스트캠퍼스_랭그래프\\fastcampus_langgraph\\.venv\\lib\\site-packages (from langgraph-sdk<0.3.0,>=0.2.2->langgraph) (3.11.4)\n",
            "Requirement already satisfied: jsonpatch<2.0.0,>=1.33.0 in c:\\users\\pc\\onedrive\\1.강의\\0.llm\\1 패스트캠퍼스_랭그래프\\fastcampus_langgraph\\.venv\\lib\\site-packages (from langchain-core>=0.1->langgraph) (1.33)\n",
            "Requirement already satisfied: langsmith<1.0.0,>=0.3.45 in c:\\users\\pc\\onedrive\\1.강의\\0.llm\\1 패스트캠퍼스_랭그래프\\fastcampus_langgraph\\.venv\\lib\\site-packages (from langchain-core>=0.1->langgraph) (0.4.38)\n",
            "Requirement already satisfied: packaging<26.0.0,>=23.2.0 in c:\\users\\pc\\onedrive\\1.강의\\0.llm\\1 패스트캠퍼스_랭그래프\\fastcampus_langgraph\\.venv\\lib\\site-packages (from langchain-core>=0.1->langgraph) (25.0)\n",
            "Requirement already satisfied: pyyaml<7.0.0,>=5.3.0 in c:\\users\\pc\\onedrive\\1.강의\\0.llm\\1 패스트캠퍼스_랭그래프\\fastcampus_langgraph\\.venv\\lib\\site-packages (from langchain-core>=0.1->langgraph) (6.0.3)\n",
            "Requirement already satisfied: tenacity!=8.4.0,<10.0.0,>=8.1.0 in c:\\users\\pc\\onedrive\\1.강의\\0.llm\\1 패스트캠퍼스_랭그래프\\fastcampus_langgraph\\.venv\\lib\\site-packages (from langchain-core>=0.1->langgraph) (9.1.2)\n",
            "Requirement already satisfied: typing-extensions<5.0.0,>=4.7.0 in c:\\users\\pc\\onedrive\\1.강의\\0.llm\\1 패스트캠퍼스_랭그래프\\fastcampus_langgraph\\.venv\\lib\\site-packages (from langchain-core>=0.1->langgraph) (4.15.0)\n",
            "Requirement already satisfied: jsonpointer>=1.9 in c:\\users\\pc\\onedrive\\1.강의\\0.llm\\1 패스트캠퍼스_랭그래프\\fastcampus_langgraph\\.venv\\lib\\site-packages (from jsonpatch<2.0.0,>=1.33.0->langchain-core>=0.1->langgraph) (3.0.0)\n",
            "Requirement already satisfied: requests-toolbelt>=1.0.0 in c:\\users\\pc\\onedrive\\1.강의\\0.llm\\1 패스트캠퍼스_랭그래프\\fastcampus_langgraph\\.venv\\lib\\site-packages (from langsmith<1.0.0,>=0.3.45->langchain-core>=0.1->langgraph) (1.0.0)\n",
            "Requirement already satisfied: requests>=2.0.0 in c:\\users\\pc\\onedrive\\1.강의\\0.llm\\1 패스트캠퍼스_랭그래프\\fastcampus_langgraph\\.venv\\lib\\site-packages (from langsmith<1.0.0,>=0.3.45->langchain-core>=0.1->langgraph) (2.32.5)\n",
            "Requirement already satisfied: zstandard>=0.23.0 in c:\\users\\pc\\onedrive\\1.강의\\0.llm\\1 패스트캠퍼스_랭그래프\\fastcampus_langgraph\\.venv\\lib\\site-packages (from langsmith<1.0.0,>=0.3.45->langchain-core>=0.1->langgraph) (0.25.0)\n",
            "Requirement already satisfied: anyio in c:\\users\\pc\\onedrive\\1.강의\\0.llm\\1 패스트캠퍼스_랭그래프\\fastcampus_langgraph\\.venv\\lib\\site-packages (from httpx>=0.25.2->langgraph-sdk<0.3.0,>=0.2.2->langgraph) (4.11.0)\n",
            "Requirement already satisfied: certifi in c:\\users\\pc\\onedrive\\1.강의\\0.llm\\1 패스트캠퍼스_랭그래프\\fastcampus_langgraph\\.venv\\lib\\site-packages (from httpx>=0.25.2->langgraph-sdk<0.3.0,>=0.2.2->langgraph) (2025.10.5)\n",
            "Requirement already satisfied: httpcore==1.* in c:\\users\\pc\\onedrive\\1.강의\\0.llm\\1 패스트캠퍼스_랭그래프\\fastcampus_langgraph\\.venv\\lib\\site-packages (from httpx>=0.25.2->langgraph-sdk<0.3.0,>=0.2.2->langgraph) (1.0.9)\n",
            "Requirement already satisfied: idna in c:\\users\\pc\\onedrive\\1.강의\\0.llm\\1 패스트캠퍼스_랭그래프\\fastcampus_langgraph\\.venv\\lib\\site-packages (from httpx>=0.25.2->langgraph-sdk<0.3.0,>=0.2.2->langgraph) (3.11)\n",
            "Requirement already satisfied: h11>=0.16 in c:\\users\\pc\\onedrive\\1.강의\\0.llm\\1 패스트캠퍼스_랭그래프\\fastcampus_langgraph\\.venv\\lib\\site-packages (from httpcore==1.*->httpx>=0.25.2->langgraph-sdk<0.3.0,>=0.2.2->langgraph) (0.16.0)\n",
            "Requirement already satisfied: annotated-types>=0.6.0 in c:\\users\\pc\\onedrive\\1.강의\\0.llm\\1 패스트캠퍼스_랭그래프\\fastcampus_langgraph\\.venv\\lib\\site-packages (from pydantic>=2.7.4->langgraph) (0.7.0)\n",
            "Requirement already satisfied: pydantic-core==2.41.4 in c:\\users\\pc\\onedrive\\1.강의\\0.llm\\1 패스트캠퍼스_랭그래프\\fastcampus_langgraph\\.venv\\lib\\site-packages (from pydantic>=2.7.4->langgraph) (2.41.4)\n",
            "Requirement already satisfied: typing-inspection>=0.4.2 in c:\\users\\pc\\onedrive\\1.강의\\0.llm\\1 패스트캠퍼스_랭그래프\\fastcampus_langgraph\\.venv\\lib\\site-packages (from pydantic>=2.7.4->langgraph) (0.4.2)\n",
            "Requirement already satisfied: google-ai-generativelanguage<1.0.0,>=0.7.0 in c:\\users\\pc\\onedrive\\1.강의\\0.llm\\1 패스트캠퍼스_랭그래프\\fastcampus_langgraph\\.venv\\lib\\site-packages (from langchain_google_genai) (0.9.0)\n",
            "Requirement already satisfied: filetype<2.0.0,>=1.2.0 in c:\\users\\pc\\onedrive\\1.강의\\0.llm\\1 패스트캠퍼스_랭그래프\\fastcampus_langgraph\\.venv\\lib\\site-packages (from langchain_google_genai) (1.2.0)\n",
            "Requirement already satisfied: google-api-core!=2.0.*,!=2.1.*,!=2.10.*,!=2.2.*,!=2.3.*,!=2.4.*,!=2.5.*,!=2.6.*,!=2.7.*,!=2.8.*,!=2.9.*,<3.0.0,>=1.34.1 in c:\\users\\pc\\onedrive\\1.강의\\0.llm\\1 패스트캠퍼스_랭그래프\\fastcampus_langgraph\\.venv\\lib\\site-packages (from google-api-core[grpc]!=2.0.*,!=2.1.*,!=2.10.*,!=2.2.*,!=2.3.*,!=2.4.*,!=2.5.*,!=2.6.*,!=2.7.*,!=2.8.*,!=2.9.*,<3.0.0,>=1.34.1->google-ai-generativelanguage<1.0.0,>=0.7.0->langchain_google_genai) (2.27.0)\n",
            "Requirement already satisfied: google-auth!=2.24.0,!=2.25.0,<3.0.0,>=2.14.1 in c:\\users\\pc\\onedrive\\1.강의\\0.llm\\1 패스트캠퍼스_랭그래프\\fastcampus_langgraph\\.venv\\lib\\site-packages (from google-ai-generativelanguage<1.0.0,>=0.7.0->langchain_google_genai) (2.41.1)\n",
            "Requirement already satisfied: grpcio<2.0.0,>=1.33.2 in c:\\users\\pc\\onedrive\\1.강의\\0.llm\\1 패스트캠퍼스_랭그래프\\fastcampus_langgraph\\.venv\\lib\\site-packages (from google-ai-generativelanguage<1.0.0,>=0.7.0->langchain_google_genai) (1.76.0)\n",
            "Requirement already satisfied: proto-plus<2.0.0,>=1.22.3 in c:\\users\\pc\\onedrive\\1.강의\\0.llm\\1 패스트캠퍼스_랭그래프\\fastcampus_langgraph\\.venv\\lib\\site-packages (from google-ai-generativelanguage<1.0.0,>=0.7.0->langchain_google_genai) (1.26.1)\n",
            "Requirement already satisfied: protobuf!=4.21.0,!=4.21.1,!=4.21.2,!=4.21.3,!=4.21.4,!=4.21.5,<7.0.0,>=3.20.2 in c:\\users\\pc\\onedrive\\1.강의\\0.llm\\1 패스트캠퍼스_랭그래프\\fastcampus_langgraph\\.venv\\lib\\site-packages (from google-ai-generativelanguage<1.0.0,>=0.7.0->langchain_google_genai) (6.33.0)\n",
            "Requirement already satisfied: googleapis-common-protos<2.0.0,>=1.56.2 in c:\\users\\pc\\onedrive\\1.강의\\0.llm\\1 패스트캠퍼스_랭그래프\\fastcampus_langgraph\\.venv\\lib\\site-packages (from google-api-core!=2.0.*,!=2.1.*,!=2.10.*,!=2.2.*,!=2.3.*,!=2.4.*,!=2.5.*,!=2.6.*,!=2.7.*,!=2.8.*,!=2.9.*,<3.0.0,>=1.34.1->google-api-core[grpc]!=2.0.*,!=2.1.*,!=2.10.*,!=2.2.*,!=2.3.*,!=2.4.*,!=2.5.*,!=2.6.*,!=2.7.*,!=2.8.*,!=2.9.*,<3.0.0,>=1.34.1->google-ai-generativelanguage<1.0.0,>=0.7.0->langchain_google_genai) (1.71.0)\n",
            "Requirement already satisfied: grpcio-status<2.0.0,>=1.33.2 in c:\\users\\pc\\onedrive\\1.강의\\0.llm\\1 패스트캠퍼스_랭그래프\\fastcampus_langgraph\\.venv\\lib\\site-packages (from google-api-core[grpc]!=2.0.*,!=2.1.*,!=2.10.*,!=2.2.*,!=2.3.*,!=2.4.*,!=2.5.*,!=2.6.*,!=2.7.*,!=2.8.*,!=2.9.*,<3.0.0,>=1.34.1->google-ai-generativelanguage<1.0.0,>=0.7.0->langchain_google_genai) (1.76.0)\n",
            "Requirement already satisfied: cachetools<7.0,>=2.0.0 in c:\\users\\pc\\onedrive\\1.강의\\0.llm\\1 패스트캠퍼스_랭그래프\\fastcampus_langgraph\\.venv\\lib\\site-packages (from google-auth!=2.24.0,!=2.25.0,<3.0.0,>=2.14.1->google-ai-generativelanguage<1.0.0,>=0.7.0->langchain_google_genai) (6.2.1)\n",
            "Requirement already satisfied: pyasn1-modules>=0.2.1 in c:\\users\\pc\\onedrive\\1.강의\\0.llm\\1 패스트캠퍼스_랭그래프\\fastcampus_langgraph\\.venv\\lib\\site-packages (from google-auth!=2.24.0,!=2.25.0,<3.0.0,>=2.14.1->google-ai-generativelanguage<1.0.0,>=0.7.0->langchain_google_genai) (0.4.2)\n",
            "Requirement already satisfied: rsa<5,>=3.1.4 in c:\\users\\pc\\onedrive\\1.강의\\0.llm\\1 패스트캠퍼스_랭그래프\\fastcampus_langgraph\\.venv\\lib\\site-packages (from google-auth!=2.24.0,!=2.25.0,<3.0.0,>=2.14.1->google-ai-generativelanguage<1.0.0,>=0.7.0->langchain_google_genai) (4.9.1)\n",
            "Requirement already satisfied: charset_normalizer<4,>=2 in c:\\users\\pc\\onedrive\\1.강의\\0.llm\\1 패스트캠퍼스_랭그래프\\fastcampus_langgraph\\.venv\\lib\\site-packages (from requests>=2.0.0->langsmith<1.0.0,>=0.3.45->langchain-core>=0.1->langgraph) (3.4.4)\n",
            "Requirement already satisfied: urllib3<3,>=1.21.1 in c:\\users\\pc\\onedrive\\1.강의\\0.llm\\1 패스트캠퍼스_랭그래프\\fastcampus_langgraph\\.venv\\lib\\site-packages (from requests>=2.0.0->langsmith<1.0.0,>=0.3.45->langchain-core>=0.1->langgraph) (2.5.0)\n",
            "Requirement already satisfied: pyasn1>=0.1.3 in c:\\users\\pc\\onedrive\\1.강의\\0.llm\\1 패스트캠퍼스_랭그래프\\fastcampus_langgraph\\.venv\\lib\\site-packages (from rsa<5,>=3.1.4->google-auth!=2.24.0,!=2.25.0,<3.0.0,>=2.14.1->google-ai-generativelanguage<1.0.0,>=0.7.0->langchain_google_genai) (0.6.1)\n",
            "Requirement already satisfied: langchain-classic<2.0.0,>=1.0.0 in c:\\users\\pc\\onedrive\\1.강의\\0.llm\\1 패스트캠퍼스_랭그래프\\fastcampus_langgraph\\.venv\\lib\\site-packages (from langchain_community) (1.0.0)\n",
            "Requirement already satisfied: SQLAlchemy<3.0.0,>=1.4.0 in c:\\users\\pc\\onedrive\\1.강의\\0.llm\\1 패스트캠퍼스_랭그래프\\fastcampus_langgraph\\.venv\\lib\\site-packages (from langchain_community) (2.0.44)\n",
            "Requirement already satisfied: aiohttp<4.0.0,>=3.8.3 in c:\\users\\pc\\onedrive\\1.강의\\0.llm\\1 패스트캠퍼스_랭그래프\\fastcampus_langgraph\\.venv\\lib\\site-packages (from langchain_community) (3.13.1)\n",
            "Requirement already satisfied: dataclasses-json<0.7.0,>=0.6.7 in c:\\users\\pc\\onedrive\\1.강의\\0.llm\\1 패스트캠퍼스_랭그래프\\fastcampus_langgraph\\.venv\\lib\\site-packages (from langchain_community) (0.6.7)\n",
            "Requirement already satisfied: pydantic-settings<3.0.0,>=2.10.1 in c:\\users\\pc\\onedrive\\1.강의\\0.llm\\1 패스트캠퍼스_랭그래프\\fastcampus_langgraph\\.venv\\lib\\site-packages (from langchain_community) (2.11.0)\n",
            "Requirement already satisfied: httpx-sse<1.0.0,>=0.4.0 in c:\\users\\pc\\onedrive\\1.강의\\0.llm\\1 패스트캠퍼스_랭그래프\\fastcampus_langgraph\\.venv\\lib\\site-packages (from langchain_community) (0.4.3)\n",
            "Requirement already satisfied: numpy>=1.26.2 in c:\\users\\pc\\onedrive\\1.강의\\0.llm\\1 패스트캠퍼스_랭그래프\\fastcampus_langgraph\\.venv\\lib\\site-packages (from langchain_community) (2.3.4)\n",
            "Requirement already satisfied: aiohappyeyeballs>=2.5.0 in c:\\users\\pc\\onedrive\\1.강의\\0.llm\\1 패스트캠퍼스_랭그래프\\fastcampus_langgraph\\.venv\\lib\\site-packages (from aiohttp<4.0.0,>=3.8.3->langchain_community) (2.6.1)\n",
            "Requirement already satisfied: aiosignal>=1.4.0 in c:\\users\\pc\\onedrive\\1.강의\\0.llm\\1 패스트캠퍼스_랭그래프\\fastcampus_langgraph\\.venv\\lib\\site-packages (from aiohttp<4.0.0,>=3.8.3->langchain_community) (1.4.0)\n",
            "Requirement already satisfied: attrs>=17.3.0 in c:\\users\\pc\\onedrive\\1.강의\\0.llm\\1 패스트캠퍼스_랭그래프\\fastcampus_langgraph\\.venv\\lib\\site-packages (from aiohttp<4.0.0,>=3.8.3->langchain_community) (25.4.0)\n",
            "Requirement already satisfied: frozenlist>=1.1.1 in c:\\users\\pc\\onedrive\\1.강의\\0.llm\\1 패스트캠퍼스_랭그래프\\fastcampus_langgraph\\.venv\\lib\\site-packages (from aiohttp<4.0.0,>=3.8.3->langchain_community) (1.8.0)\n",
            "Requirement already satisfied: multidict<7.0,>=4.5 in c:\\users\\pc\\onedrive\\1.강의\\0.llm\\1 패스트캠퍼스_랭그래프\\fastcampus_langgraph\\.venv\\lib\\site-packages (from aiohttp<4.0.0,>=3.8.3->langchain_community) (6.7.0)\n",
            "Requirement already satisfied: propcache>=0.2.0 in c:\\users\\pc\\onedrive\\1.강의\\0.llm\\1 패스트캠퍼스_랭그래프\\fastcampus_langgraph\\.venv\\lib\\site-packages (from aiohttp<4.0.0,>=3.8.3->langchain_community) (0.4.1)\n",
            "Requirement already satisfied: yarl<2.0,>=1.17.0 in c:\\users\\pc\\onedrive\\1.강의\\0.llm\\1 패스트캠퍼스_랭그래프\\fastcampus_langgraph\\.venv\\lib\\site-packages (from aiohttp<4.0.0,>=3.8.3->langchain_community) (1.22.0)\n",
            "Requirement already satisfied: marshmallow<4.0.0,>=3.18.0 in c:\\users\\pc\\onedrive\\1.강의\\0.llm\\1 패스트캠퍼스_랭그래프\\fastcampus_langgraph\\.venv\\lib\\site-packages (from dataclasses-json<0.7.0,>=0.6.7->langchain_community) (3.26.1)\n",
            "Requirement already satisfied: typing-inspect<1,>=0.4.0 in c:\\users\\pc\\onedrive\\1.강의\\0.llm\\1 패스트캠퍼스_랭그래프\\fastcampus_langgraph\\.venv\\lib\\site-packages (from dataclasses-json<0.7.0,>=0.6.7->langchain_community) (0.9.0)\n",
            "Requirement already satisfied: langchain-text-splitters<2.0.0,>=1.0.0 in c:\\users\\pc\\onedrive\\1.강의\\0.llm\\1 패스트캠퍼스_랭그래프\\fastcampus_langgraph\\.venv\\lib\\site-packages (from langchain-classic<2.0.0,>=1.0.0->langchain_community) (1.0.0)\n",
            "Requirement already satisfied: python-dotenv>=0.21.0 in c:\\users\\pc\\onedrive\\1.강의\\0.llm\\1 패스트캠퍼스_랭그래프\\fastcampus_langgraph\\.venv\\lib\\site-packages (from pydantic-settings<3.0.0,>=2.10.1->langchain_community) (1.1.1)\n",
            "Requirement already satisfied: greenlet>=1 in c:\\users\\pc\\onedrive\\1.강의\\0.llm\\1 패스트캠퍼스_랭그래프\\fastcampus_langgraph\\.venv\\lib\\site-packages (from SQLAlchemy<3.0.0,>=1.4.0->langchain_community) (3.2.4)\n",
            "Requirement already satisfied: mypy-extensions>=0.3.0 in c:\\users\\pc\\onedrive\\1.강의\\0.llm\\1 패스트캠퍼스_랭그래프\\fastcampus_langgraph\\.venv\\lib\\site-packages (from typing-inspect<1,>=0.4.0->dataclasses-json<0.7.0,>=0.6.7->langchain_community) (1.1.0)\n",
            "Collecting langchain_community\n",
            "  Downloading langchain_community-0.3.31-py3-none-any.whl.metadata (3.0 kB)\n",
            "INFO: pip is looking at multiple versions of langchain-experimental to determine which version is compatible with other requirements. This could take a while.\n",
            "Collecting langchain_experimental\n",
            "  Downloading langchain_experimental-0.3.3-py3-none-any.whl.metadata (1.7 kB)\n",
            "  Downloading langchain_experimental-0.3.2-py3-none-any.whl.metadata (1.7 kB)\n",
            "  Downloading langchain_experimental-0.3.1.post1-py3-none-any.whl.metadata (1.7 kB)\n",
            "  Downloading langchain_experimental-0.3.1-py3-none-any.whl.metadata (1.7 kB)\n",
            "  Downloading langchain_experimental-0.3.0-py3-none-any.whl.metadata (1.7 kB)\n",
            "  Downloading langchain_experimental-0.0.65-py3-none-any.whl.metadata (1.7 kB)\n",
            "Collecting langchain_community\n",
            "  Downloading langchain_community-0.2.19-py3-none-any.whl.metadata (2.7 kB)\n",
            "Collecting langchain_experimental\n",
            "  Downloading langchain_experimental-0.0.64-py3-none-any.whl.metadata (1.7 kB)\n",
            "INFO: pip is still looking at multiple versions of langchain-experimental to determine which version is compatible with other requirements. This could take a while.\n",
            "  Downloading langchain_experimental-0.0.63-py3-none-any.whl.metadata (1.7 kB)\n",
            "  Downloading langchain_experimental-0.0.62-py3-none-any.whl.metadata (1.5 kB)\n",
            "  Downloading langchain_experimental-0.0.61-py3-none-any.whl.metadata (1.5 kB)\n",
            "  Downloading langchain_experimental-0.0.60-py3-none-any.whl.metadata (2.1 kB)\n",
            "  Downloading langchain_experimental-0.0.59-py3-none-any.whl.metadata (2.1 kB)\n",
            "INFO: This is taking longer than usual. You might need to provide the dependency resolver with stricter constraints to reduce runtime. See https://pip.pypa.io/warnings/backtracking for guidance. If you want to abort this run, press Ctrl + C.\n",
            "  Downloading langchain_experimental-0.0.58-py3-none-any.whl.metadata (2.1 kB)\n",
            "Collecting langchain\n",
            "  Downloading langchain-0.1.20-py3-none-any.whl.metadata (13 kB)\n",
            "Collecting langchain_experimental\n",
            "  Downloading langchain_experimental-0.0.57-py3-none-any.whl.metadata (2.1 kB)\n",
            "  Downloading langchain_experimental-0.0.56-py3-none-any.whl.metadata (2.1 kB)\n",
            "  Downloading langchain_experimental-0.0.55-py3-none-any.whl.metadata (2.1 kB)\n",
            "  Downloading langchain_experimental-0.0.54-py3-none-any.whl.metadata (2.1 kB)\n",
            "  Downloading langchain_experimental-0.0.53-py3-none-any.whl.metadata (2.1 kB)\n",
            "  Downloading langchain_experimental-0.0.52-py3-none-any.whl.metadata (2.1 kB)\n",
            "  Downloading langchain_experimental-0.0.51-py3-none-any.whl.metadata (2.1 kB)\n",
            "  Downloading langchain_experimental-0.0.50-py3-none-any.whl.metadata (1.9 kB)\n",
            "  Downloading langchain_experimental-0.0.49-py3-none-any.whl.metadata (1.9 kB)\n",
            "  Downloading langchain_experimental-0.0.48-py3-none-any.whl.metadata (1.9 kB)\n",
            "  Downloading langchain_experimental-0.0.47-py3-none-any.whl.metadata (1.9 kB)\n",
            "Collecting langchain\n",
            "  Downloading langchain-0.0.354-py3-none-any.whl.metadata (13 kB)\n",
            "Collecting langchain_experimental\n",
            "  Downloading langchain_experimental-0.0.46-py3-none-any.whl.metadata (1.9 kB)\n",
            "  Downloading langchain_experimental-0.0.45-py3-none-any.whl.metadata (1.9 kB)\n",
            "  Downloading langchain_experimental-0.0.44-py3-none-any.whl.metadata (1.8 kB)\n",
            "  Downloading langchain_experimental-0.0.43-py3-none-any.whl.metadata (1.8 kB)\n",
            "Collecting langchain_community\n",
            "  Downloading langchain_community-0.0.38-py3-none-any.whl.metadata (8.7 kB)\n",
            "INFO: pip is looking at multiple versions of langchain to determine which version is compatible with other requirements. This could take a while.\n",
            "Collecting langchain\n",
            "  Downloading langchain-0.0.353-py3-none-any.whl.metadata (13 kB)\n",
            "  Downloading langchain-0.0.352-py3-none-any.whl.metadata (13 kB)\n",
            "  Downloading langchain-0.0.351-py3-none-any.whl.metadata (13 kB)\n",
            "  Downloading langchain-0.0.350-py3-none-any.whl.metadata (13 kB)\n",
            "  Downloading langchain-0.0.349-py3-none-any.whl.metadata (13 kB)\n",
            "  Downloading langchain-0.0.348-py3-none-any.whl.metadata (16 kB)\n",
            "  Downloading langchain-0.0.347-py3-none-any.whl.metadata (16 kB)\n",
            "Collecting anyio (from httpx>=0.25.2->langgraph-sdk<0.3.0,>=0.2.2->langgraph)\n",
            "  Downloading anyio-3.7.1-py3-none-any.whl.metadata (4.7 kB)\n",
            "INFO: pip is still looking at multiple versions of langchain to determine which version is compatible with other requirements. This could take a while.\n",
            "Collecting langchain\n",
            "  Downloading langchain-0.0.346-py3-none-any.whl.metadata (16 kB)\n",
            "  Downloading langchain-0.0.345-py3-none-any.whl.metadata (16 kB)\n",
            "  Downloading langchain-0.0.344-py3-none-any.whl.metadata (16 kB)\n",
            "  Downloading langchain-0.0.343-py3-none-any.whl.metadata (16 kB)\n",
            "  Downloading langchain-0.0.342-py3-none-any.whl.metadata (16 kB)\n",
            "INFO: This is taking longer than usual. You might need to provide the dependency resolver with stricter constraints to reduce runtime. See https://pip.pypa.io/warnings/backtracking for guidance. If you want to abort this run, press Ctrl + C.\n",
            "Collecting langchain_experimental\n",
            "  Downloading langchain_experimental-0.0.42-py3-none-any.whl.metadata (1.8 kB)\n",
            "Requirement already satisfied: sniffio>=1.1 in c:\\users\\pc\\onedrive\\1.강의\\0.llm\\1 패스트캠퍼스_랭그래프\\fastcampus_langgraph\\.venv\\lib\\site-packages (from anyio->httpx>=0.25.2->langgraph-sdk<0.3.0,>=0.2.2->langgraph) (1.3.1)\n",
            "Downloading langchain_experimental-0.0.42-py3-none-any.whl (159 kB)\n",
            "Installing collected packages: langchain_experimental\n",
            "Successfully installed langchain_experimental-0.0.42\n"
          ]
        }
      ],
      "source": [
        "!pip install langgraph langchain langchain_google_genai langchain_community langchain_experimental"
      ]
    },
    {
      "cell_type": "markdown",
      "metadata": {
        "id": "BUoU_6-4sTaI"
      },
      "source": [
        "API 키와 LLM을 설정합니다."
      ]
    },
    {
      "cell_type": "code",
      "execution_count": 2,
      "metadata": {
        "id": "rvTKbjPJrMCo"
      },
      "outputs": [],
      "source": [
        "import os\n",
        "os.environ['GOOGLE_API_KEY'] = 'AIxxx'\n",
        "\n",
        "from langchain_core.rate_limiters import InMemoryRateLimiter\n",
        "from langchain_google_genai import ChatGoogleGenerativeAI\n",
        "\n",
        "# Gemini API는 분당 10개 요청으로 제한\n",
        "# 즉, 초당 약 0.167개 요청 (10/60)\n",
        "rate_limiter = InMemoryRateLimiter(\n",
        "    requests_per_second=0.167,  # 분당 10개 요청\n",
        "    check_every_n_seconds=0.1,  # 100ms마다 체크\n",
        "    max_bucket_size=10,  # 최대 버스트 크기\n",
        ")\n",
        "\n",
        "# rate limiter를 LLM에 적용\n",
        "llm = ChatGoogleGenerativeAI(\n",
        "    model=\"gemini-2.5-flash\",\n",
        "    rate_limiter=rate_limiter,\n",
        "    # temperature\n",
        "    # max_tokens\n",
        "\n",
        "    thinking_budget = 500  # 추론(Reasoning) 토큰 길이 제한\n",
        ")"
      ]
    },
    {
      "cell_type": "markdown",
      "metadata": {
        "id": "EpL8cPyWsaJn"
      },
      "source": [
        "LLM에서 사용할 툴을 설정합니다."
      ]
    },
    {
      "cell_type": "code",
      "execution_count": 3,
      "metadata": {
        "id": "mXQ5wE51rMCp"
      },
      "outputs": [
        {
          "name": "stdout",
          "output_type": "stream",
          "text": [
            "2025-10-26\n",
            "네!\n"
          ]
        }
      ],
      "source": [
        "# Tavily API\n",
        "os.environ['TAVILY_API_KEY'] = 'tvly-xxxx'\n",
        "\n",
        "\n",
        "from langchain_tavily import TavilySearch\n",
        "from langchain_core.tools import tool\n",
        "import random\n",
        "\n",
        "tavily_search = TavilySearch(\n",
        "    max_results=5)\n",
        "\n",
        "@tool\n",
        "def current_date() -> str:\n",
        "    \"현재 날짜를 %y-%m-%d 형식으로 반환합니다.\"\n",
        "    from datetime import datetime\n",
        "    return datetime.now().strftime(\"%Y-%m-%d\")\n",
        "\n",
        "\n",
        "@tool\n",
        "def counsel(problem:str) -> str: # 나중에는 LLM 기반의 모듈이나, 개별 에이전트로 처리 가능\n",
        "    \"고민에 대한 답을 예/아니오로 얻습니다.\"\n",
        "    if random.random()>=0.5:\n",
        "        return '네!'\n",
        "    else:\n",
        "        return '아니오.'\n",
        "\n",
        "print(current_date.invoke({}))\n",
        "print(counsel.invoke({'problem':'아무 고민'}))\n",
        "\n",
        "\n"
      ]
    },
    {
      "cell_type": "markdown",
      "metadata": {
        "id": "RqnTR5farMCp"
      },
      "source": [
        "이번에는 새로운 툴을 추가해 보겠습니다.   \n",
        "`Python_REPL`은 파이썬 쉘을 이용해서 코드를 실행하는 기능으로, ChatGPT의 코드 인터프리터와 유사합니다.\n",
        "\n",
        "- LangChain 0.3까지는 지원되었으나, 해당 기능은 최근 랭체인에서 지원이 종료되어 직접 구현합니다."
      ]
    },
    {
      "cell_type": "code",
      "execution_count": 9,
      "metadata": {
        "id": "_zS2G_HrrMCp"
      },
      "outputs": [
        {
          "name": "stdout",
          "output_type": "stream",
          "text": [
            "=== 테스트 시작 ===\n",
            "4\n",
            "\n",
            "=== 이 메시지가 보여야 합니다 ===\n"
          ]
        }
      ],
      "source": [
        "from langchain_core.tools import tool\n",
        "from io import StringIO\n",
        "import sys\n",
        "from contextlib import redirect_stdout\n",
        "\n",
        "def python_repl(code: str) -> str:\n",
        "    \"\"\"\n",
        "    Python 코드를 실행합니다.\n",
        "    결과를 보려면 반드시 print()를 사용하세요.\n",
        "    \n",
        "    Args:\n",
        "        code: 실행할 Python 코드\n",
        "    \n",
        "    Returns:\n",
        "        실행 결과\n",
        "    \"\"\"\n",
        "    # 코드 정리\n",
        "    code = code.strip().strip('`')\n",
        "    if code.startswith('python'):\n",
        "        code = code[6:].strip()\n",
        "    \n",
        "    # stdout 캡처 (context manager 사용으로 안전하게)\n",
        "    buffer = StringIO()\n",
        "    \n",
        "    try:\n",
        "        # redirect_stdout을 사용하면 자동으로 복원됨\n",
        "        with redirect_stdout(buffer):\n",
        "            exec(code, globals())\n",
        "        \n",
        "        # 결과 가져오기\n",
        "        output = buffer.getvalue()\n",
        "        return output if output else \"실행 완료 (출력 없음)\"\n",
        "        \n",
        "    except Exception as e:\n",
        "        return f\"Error: {type(e).__name__}: {str(e)}\"\n",
        "\n",
        "@tool\n",
        "def repl_tool(code: str) -> str:\n",
        "    \"\"\"\n",
        "    파일 시스템 처리, 외부 API 호출 등의 다양한 작업을 위해\n",
        "    Python 코드를 실행합니다.\n",
        "    결과를 보려면 반드시 print()를 사용하세요.\n",
        "    \"\"\"\n",
        "    result = python_repl(code)\n",
        "    return result\n",
        "\n",
        "# 테스트\n",
        "print(\"=== 테스트 시작 ===\")\n",
        "print(python_repl(\"print(2 + 2)\"))\n",
        "print(\"=== 이 메시지가 보여야 합니다 ===\")"
      ]
    },
    {
      "cell_type": "markdown",
      "metadata": {
        "id": "rjAqJiYLuAw0"
      },
      "source": [
        "React Agent는 `langgraph.prebuilt` 에서 바로 실행할 수 있습니다."
      ]
    },
    {
      "cell_type": "code",
      "execution_count": 20,
      "metadata": {
        "id": "MJC-S7vfrMCp"
      },
      "outputs": [
        {
          "name": "stderr",
          "output_type": "stream",
          "text": [
            "C:\\Users\\Public\\Documents\\ESTsoft\\CreatorTemp\\ipykernel_27232\\1098319327.py:5: LangGraphDeprecatedSinceV10: create_react_agent has been moved to `langchain.agents`. Please update your import to `from langchain.agents import create_agent`. Deprecated in LangGraph V1.0 to be removed in V2.0.\n",
            "  graph = create_react_agent(llm, tools=tools)\n"
          ]
        }
      ],
      "source": [
        "from langgraph.prebuilt import create_react_agent\n",
        "\n",
        "tools = [tavily_search, current_date, counsel, repl_tool]\n",
        "\n",
        "graph = create_react_agent(llm, tools=tools)\n",
        "\n",
        "\n",
        "# LangChain V1에서는 아래 코드로 변경\n",
        "# from langchain.agents import create_agent\n",
        "# agent = create_agent(llm, tools=tools, system_prompt = prompt)"
      ]
    },
    {
      "cell_type": "code",
      "execution_count": 21,
      "metadata": {
        "id": "7O1HO1COrMCp"
      },
      "outputs": [
        {
          "data": {
            "image/png": "[encoded data removed]",
            "text/plain": [
              "<langgraph.graph.state.CompiledStateGraph object at 0x000001CCB6C9D6D0>"
            ]
          },
          "execution_count": 21,
          "metadata": {},
          "output_type": "execute_result"
        }
      ],
      "source": [
        "graph"
      ]
    },
    {
      "cell_type": "code",
      "execution_count": 22,
      "metadata": {
        "id": "m-yicm0ltSaw"
      },
      "outputs": [
        {
          "data": {
            "text/plain": [
              "{'messages': [HumanMessage(content='안녕하세요?', additional_kwargs={}, response_metadata={}, id='8dc9249f-647f-46b2-a268-fc53eb0fd9b8'),\n",
              "  AIMessage(content='안녕하세요! 무엇을 도와드릴까요?', additional_kwargs={}, response_metadata={'prompt_feedback': {'block_reason': 0, 'safety_ratings': []}, 'finish_reason': 'STOP', 'model_name': 'gemini-2.5-flash', 'safety_ratings': [], 'grounding_metadata': {}, 'model_provider': 'google_genai'}, id='lc_run--107f2505-dd9f-4426-9673-584e8016c892-0', usage_metadata={'input_tokens': 1686, 'output_tokens': 8, 'total_tokens': 1694, 'input_token_details': {'cache_read': 0}})]}"
            ]
          },
          "execution_count": 22,
          "metadata": {},
          "output_type": "execute_result"
        }
      ],
      "source": [
        "from langchain_core.messages import HumanMessage, SystemMessage, AIMessage\n",
        "\n",
        "graph.invoke({'messages':[HumanMessage(content=\"안녕하세요?\")]})"
      ]
    },
    {
      "cell_type": "code",
      "execution_count": 24,
      "metadata": {
        "id": "3ctGtKv5rMCq"
      },
      "outputs": [
        {
          "name": "stdout",
          "output_type": "stream",
          "text": [
            "{'agent': {'messages': [AIMessage(content='', additional_kwargs={'function_call': {'name': 'current_date', 'arguments': '{}'}}, response_metadata={'prompt_feedback': {'block_reason': 0, 'safety_ratings': []}, 'finish_reason': 'STOP', 'model_name': 'gemini-2.5-flash', 'safety_ratings': [], 'grounding_metadata': {}, 'model_provider': 'google_genai'}, id='lc_run--7a3dbad5-036d-4606-8ea0-91f32a59ed0d-0', tool_calls=[{'name': 'current_date', 'args': {}, 'id': 'd2f1b048-688a-4773-8489-a4422d43ffcf', 'type': 'tool_call'}], usage_metadata={'input_tokens': 1706, 'output_tokens': 164, 'total_tokens': 1870, 'input_token_details': {'cache_read': 0}, 'output_token_details': {'reasoning': 154}})]}}\n",
            "{'tools': {'messages': [ToolMessage(content='2025-10-26', name='current_date', id='923ed835-719c-4a3c-ae22-e4543cc99ca5', tool_call_id='d2f1b048-688a-4773-8489-a4422d43ffcf')]}}\n",
            "{'agent': {'messages': [AIMessage(content='', additional_kwargs={'function_call': {'name': 'repl_tool', 'arguments': '{\"code\": \"\\\\nfile_name = \\\\\"2025-10-26.txt\\\\\"\\\\ntoday_date = \\\\\"2025-10-26\\\\\"\\\\nwith open(file_name, \\\\\"w\\\\\") as f:\\\\n    f.write(today_date)\\\\n\"}'}}, response_metadata={'prompt_feedback': {'block_reason': 0, 'safety_ratings': []}, 'finish_reason': 'STOP', 'model_name': 'gemini-2.5-flash', 'safety_ratings': [], 'grounding_metadata': {}, 'model_provider': 'google_genai'}, id='lc_run--135ea85d-8e6c-4341-bde1-fd3632e18dd6-0', tool_calls=[{'name': 'repl_tool', 'args': {'code': '\\nfile_name = \"2025-10-26.txt\"\\ntoday_date = \"2025-10-26\"\\nwith open(file_name, \"w\") as f:\\n    f.write(today_date)\\n'}, 'id': '8d566fcf-a70d-46a2-b0ab-59d3eae5324f', 'type': 'tool_call'}], usage_metadata={'input_tokens': 1740, 'output_tokens': 75, 'total_tokens': 1815, 'input_token_details': {'cache_read': 0}})]}}\n",
            "{'tools': {'messages': [ToolMessage(content='실행 완료 (출력 없음)', name='repl_tool', id='b7179835-6515-4b11-99b9-1bc057f2bc55', tool_call_id='8d566fcf-a70d-46a2-b0ab-59d3eae5324f')]}}\n",
            "{'agent': {'messages': [AIMessage(content=\"오늘 날짜 2025-10-26을 '2025-10-26.txt' 파일로 저장했습니다.\", additional_kwargs={}, response_metadata={'prompt_feedback': {'block_reason': 0, 'safety_ratings': []}, 'finish_reason': 'STOP', 'model_name': 'gemini-2.5-flash', 'safety_ratings': [], 'grounding_metadata': {}, 'model_provider': 'google_genai'}, id='lc_run--caa3f3ec-6b84-41b2-b3c1-4ab462fb63f2-0', usage_metadata={'input_tokens': 1837, 'output_tokens': 34, 'total_tokens': 1871, 'input_token_details': {'cache_read': 1642}})]}}\n"
          ]
        }
      ],
      "source": [
        "for data in graph.stream(\n",
        "    {'messages':[\n",
        "        HumanMessage(content='''\n",
        "오늘 날짜 확인해서 txt 파일로 저장해, 파일 이름은 날짜.txt로 해.''')]},\n",
        "    stream_mode='updates'):\n",
        "    print(data)"
      ]
    },
    {
      "cell_type": "markdown",
      "metadata": {
        "id": "UF3GE4mgrMCq"
      },
      "source": [
        "이번에는 Tool Node, ToolCondition 등의 Prebuilt 없이 구현해 보겠습니다."
      ]
    },
    {
      "cell_type": "code",
      "execution_count": 25,
      "metadata": {
        "id": "YtPHw7IRrMCq"
      },
      "outputs": [],
      "source": [
        "from typing import TypedDict, Annotated\n",
        "from langgraph.graph.message import add_messages\n",
        "\n",
        "\n",
        "class State(TypedDict):\n",
        "    messages : Annotated[list, add_messages]   # 메시지 맥락을 저장하는 리스트\n"
      ]
    },
    {
      "cell_type": "code",
      "execution_count": 26,
      "metadata": {
        "id": "vE0vrzzKrMCq"
      },
      "outputs": [
        {
          "data": {
            "text/plain": [
              "RunnableBinding(bound=ChatGoogleGenerativeAI(rate_limiter=<langchain_core.rate_limiters.InMemoryRateLimiter object at 0x000001CCB416D5B0>, model='models/gemini-2.5-flash', google_api_key=SecretStr('**********'), thinking_budget=500, client=<google.ai.generativelanguage_v1beta.services.generative_service.client.GenerativeServiceClient object at 0x000001CCB62BD700>, default_metadata=(), model_kwargs={}), kwargs={'tools': [{'type': 'function', 'function': {'name': 'tavily_search', 'description': 'A search engine optimized for comprehensive, accurate, and trusted results. Useful for when you need to answer questions about current events. It not only retrieves URLs and snippets, but offers advanced search depths, domain management, time range filters, and image search, this tool delivers real-time, accurate, and citation-backed results.Input should be a search query.', 'parameters': {'properties': {'query': {'description': 'Search query to look up', 'type': 'string'}, 'include_domains': {'anyOf': [{'items': {'type': 'string'}, 'type': 'array'}, {'type': 'null'}], 'default': [], 'description': 'A list of domains to restrict search results to.\\n\\n        Use this parameter when:\\n        1. The user explicitly requests information from specific websites (e.g., \"Find climate data from nasa.gov\")\\n        2. The user mentions an organization or company without specifying the domain (e.g., \"Find information about iPhones from Apple\")\\n\\n        In both cases, you should determine the appropriate domains (e.g., [\"nasa.gov\"] or [\"apple.com\"]) and set this parameter.\\n\\n        Results will ONLY come from the specified domains - no other sources will be included.\\n        Default is None (no domain restriction).\\n        '}, 'exclude_domains': {'anyOf': [{'items': {'type': 'string'}, 'type': 'array'}, {'type': 'null'}], 'default': [], 'description': 'A list of domains to exclude from search results.\\n\\n        Use this parameter when:\\n        1. The user explicitly requests to avoid certain websites (e.g., \"Find information about climate change but not from twitter.com\")\\n        2. The user mentions not wanting results from specific organizations without naming the domain (e.g., \"Find phone reviews but nothing from Apple\")\\n\\n        In both cases, you should determine the appropriate domains to exclude (e.g., [\"twitter.com\"] or [\"apple.com\"]) and set this parameter.\\n\\n        Results will filter out all content from the specified domains.\\n        Default is None (no domain exclusion).\\n        '}, 'search_depth': {'anyOf': [{'enum': ['basic', 'advanced'], 'type': 'string'}, {'type': 'null'}], 'default': 'basic', 'description': 'Controls search thoroughness and result comprehensiveness.\\n    \\n        Use \"basic\" for simple queries requiring quick, straightforward answers.\\n        \\n        Use \"advanced\" (default) for complex queries, specialized topics, \\n        rare information, or when in-depth analysis is needed.\\n        '}, 'include_images': {'anyOf': [{'type': 'boolean'}, {'type': 'null'}], 'default': False, 'description': 'Determines if the search returns relevant images along with text results.\\n   \\n        Set to True when the user explicitly requests visuals or when images would \\n        significantly enhance understanding (e.g., \"Show me what black holes look like,\" \\n        \"Find pictures of Renaissance art\").\\n        \\n        Leave as False (default) for most informational queries where text is sufficient.\\n        '}, 'time_range': {'anyOf': [{'enum': ['day', 'week', 'month', 'year'], 'type': 'string'}, {'type': 'null'}], 'default': None, 'description': 'Limits results to content published within a specific timeframe.\\n        \\n        ONLY set this when the user explicitly mentions a time period \\n        (e.g., \"latest AI news,\" \"articles from last week\").\\n        \\n        For less popular or niche topics, use broader time ranges \\n        (\"month\" or \"year\") to ensure sufficient relevant results.\\n   \\n        Options: \"day\" (24h), \"week\" (7d), \"month\" (30d), \"year\" (365d).\\n        \\n        Default is None.\\n        '}, 'topic': {'anyOf': [{'enum': ['general', 'news', 'finance'], 'type': 'string'}, {'type': 'null'}], 'default': 'general', 'description': 'Specifies search category for optimized results.\\n   \\n        Use \"general\" (default) for most queries, INCLUDING those with terms like \\n        \"latest,\" \"newest,\" or \"recent\" when referring to general information.\\n\\n        Use \"finance\" for markets, investments, economic data, or financial news.\\n\\n        Use \"news\" ONLY for politics, sports, or major current events covered by \\n        mainstream media - NOT simply because a query asks for \"new\" information.\\n        '}, 'include_favicon': {'anyOf': [{'type': 'boolean'}, {'type': 'null'}], 'default': False, 'description': \"Determines whether to include favicon URLs for each search result.\\n        \\n        When enabled, each search result will include the website's favicon URL,\\n        which can be useful for:\\n        - Building rich UI interfaces with visual website indicators\\n        - Providing visual cues about the source's credibility or brand\\n        - Creating bookmark-like displays with recognizable site icons\\n        \\n        Set to True when creating user interfaces that benefit from visual branding\\n        or when favicon information enhances the user experience.\\n        \\n        Default is False to minimize response size and API usage.\\n        \"}, 'start_date': {'anyOf': [{'type': 'string'}, {'type': 'null'}], 'default': None, 'description': 'Filters search results to include only content published on or after this date.\\n        \\n        Use this parameter when you need to:\\n        - Find recent developments or updates on a topic\\n        - Exclude outdated information from search results\\n        - Focus on content within a specific timeframe\\n        - Combine with end_date to create a custom date range\\n        \\n        Format must be YYYY-MM-DD (e.g., \"2024-01-15\" for January 15, 2024).\\n        \\n        Examples:\\n        - \"2024-01-01\" - Results from January 1, 2024 onwards\\n        - \"2023-12-25\" - Results from December 25, 2023 onwards\\n        \\n        When combined with end_date, creates a precise date range filter.\\n        \\n        Default is None (no start date restriction).\\n        '}, 'end_date': {'anyOf': [{'type': 'string'}, {'type': 'null'}], 'default': None, 'description': 'Filters search results to include only content published on or before this date.\\n        \\n        Use this parameter when you need to:\\n        - Exclude content published after a certain date\\n        - Study historical information or past events\\n        - Research how topics were covered during specific time periods\\n        - Combine with start_date to create a custom date range\\n        \\n        Format must be YYYY-MM-DD (e.g., \"2024-03-31\" for March 31, 2024).\\n        \\n        Examples:\\n        - \"2024-03-31\" - Results up to and including March 31, 2024\\n        - \"2023-12-31\" - Results up to and including December 31, 2023\\n        \\n        When combined with start_date, creates a precise date range filter.\\n        For example: start_date=\"2024-01-01\", end_date=\"2024-03-31\" \\n        returns results from Q1 2024 only.\\n        \\n        Default is None (no end date restriction).\\n        '}}, 'required': ['query'], 'type': 'object'}}}, {'type': 'function', 'function': {'name': 'current_date', 'description': '현재 날짜를 %y-%m-%d 형식으로 반환합니다.', 'parameters': {'properties': {}, 'type': 'object'}}}, {'type': 'function', 'function': {'name': 'counsel', 'description': '고민에 대한 답을 예/아니오로 얻습니다.', 'parameters': {'properties': {'problem': {'type': 'string'}}, 'required': ['problem'], 'type': 'object'}}}, {'type': 'function', 'function': {'name': 'repl_tool', 'description': '파일 시스템 처리, 외부 API 호출 등의 다양한 작업을 위해\\nPython 코드를 실행합니다.\\n결과를 보려면 반드시 print()를 사용하세요.', 'parameters': {'properties': {'code': {'type': 'string'}}, 'required': ['code'], 'type': 'object'}}}]}, config={}, config_factories=[])"
            ]
          },
          "execution_count": 26,
          "metadata": {},
          "output_type": "execute_result"
        }
      ],
      "source": [
        "llm_with_tools = llm.bind_tools(tools)\n",
        "llm_with_tools"
      ]
    },
    {
      "cell_type": "code",
      "execution_count": 27,
      "metadata": {
        "id": "QlCCBu_drMCq"
      },
      "outputs": [],
      "source": [
        "from langchain_core.messages import ToolMessage\n",
        "\n",
        "tool_list = {tool.name: tool for tool in tools}\n",
        "# tool 목록 dict로 생성\n",
        "\n",
        "def tool_node(state):\n",
        "    tool_outputs = []\n",
        "    tool_call_msgs = state['messages'][-1]\n",
        "    # 마지막 메시지: 툴 콜링 메시지\n",
        "\n",
        "    for tool_call in tool_call_msgs.tool_calls:\n",
        "    # 여러 개의 툴 콜이 필요한 경우를 고려해 for로 표시\n",
        "        tool_exec = tool_list[tool_call['name']]\n",
        "        # 실제 함수 찾기\n",
        "        tool_result = tool_exec.invoke(tool_call)\n",
        "        # tool 실행 결과 얻기 (결과는 ToolMessage 타입: 1번 실습 참고)\n",
        "        tool_outputs.append(tool_result)\n",
        "\n",
        "    return {'messages': tool_outputs}\n",
        "\n",
        "def agent(state):\n",
        "\n",
        "    # system_prompt = SystemMessage(\"주어진 툴을 사용하여, 사용자의 질문에 답하세요.\")\n",
        "\n",
        "    # ReAct 목적에 충실한 버전\n",
        "    system_prompt = SystemMessage(\"\"\"주어진 툴을 사용하여, 사용자의 질문에 답하세요.\n",
        "툴을 실행하기 전, 직전까지의 결과의 의미를 파악하고 맥락에 맞게 다음 툴을 실행하기 위한 Planning Step을 메시지에 포함해 출력하세요.\n",
        "파일 시스템 접근은 파이썬 코드를 실행하여 처리하세요.\n",
        "에러가 발생하면, 전략을 바꿔 다시 실행하세요.\"\"\")\n",
        "\n",
        "\n",
        "    response = llm_with_tools.invoke([system_prompt] + state[\"messages\"])\n",
        "    # Tool Calling이 필요한 경우와 필요하지 않은 경우를 구분할할 필요\n",
        "    return {'messages': response}\n",
        "\n",
        "def tool_needed(state):\n",
        "\n",
        "    last_msg = state['messages'][-1]\n",
        "    if last_msg.tool_calls: # 툴 콜링이 필요하면\n",
        "        return \"continue\"\n",
        "    else:\n",
        "        return \"finish\""
      ]
    },
    {
      "cell_type": "code",
      "execution_count": 28,
      "metadata": {
        "id": "t7JY5soZrMCq"
      },
      "outputs": [
        {
          "data": {
            "text/plain": [
              "<langgraph.graph.state.StateGraph at 0x1ccb6a6de80>"
            ]
          },
          "execution_count": 28,
          "metadata": {},
          "output_type": "execute_result"
        }
      ],
      "source": [
        "from langgraph.graph import StateGraph, START, END\n",
        "\n",
        "builder = StateGraph(State)\n",
        "\n",
        "builder.add_node(\"agent\", agent)\n",
        "builder.add_node(\"tools\", tool_node)\n",
        "\n",
        "builder.add_edge(START, 'agent'),\n",
        "builder.add_conditional_edges(\"agent\",\n",
        "                              tool_needed,\n",
        "                               {\"continue\": \"tools\",\"finish\": END})\n",
        "builder.add_edge(\"tools\", \"agent\")"
      ]
    },
    {
      "cell_type": "code",
      "execution_count": 29,
      "metadata": {
        "id": "AoQSryTjrMCq"
      },
      "outputs": [
        {
          "data": {
            "image/png": "[encoded data removed]",
            "text/plain": [
              "<langgraph.graph.state.CompiledStateGraph object at 0x000001CCB6A6D7C0>"
            ]
          },
          "execution_count": 29,
          "metadata": {},
          "output_type": "execute_result"
        }
      ],
      "source": [
        "graph = builder.compile()\n",
        "graph"
      ]
    },
    {
      "cell_type": "code",
      "execution_count": 30,
      "metadata": {
        "id": "0PNNpHuvrMCq"
      },
      "outputs": [
        {
          "data": {
            "text/plain": [
              "{'messages': [HumanMessage(content='패스트캠퍼스 랭그래프 과정 검색해서 소개해줘.', additional_kwargs={}, response_metadata={}, id='8f715e2b-fc01-40da-82d1-5dcfd039023f'),\n",
              "  AIMessage(content='', additional_kwargs={'function_call': {'name': 'tavily_search', 'arguments': '{\"query\": \"\\\\ud328\\\\uc2a4\\\\ud2b8\\\\ucea0\\\\ud37c\\\\uc2a4 \\\\ub7ad\\\\uadf8\\\\ub798\\\\ud504 \\\\uacfc\\\\uc815\"}'}}, response_metadata={'prompt_feedback': {'block_reason': 0, 'safety_ratings': []}, 'finish_reason': 'STOP', 'model_name': 'gemini-2.5-flash', 'safety_ratings': [], 'grounding_metadata': {}, 'model_provider': 'google_genai'}, id='lc_run--01aecc36-1756-4e35-bbf6-69dcfc2434f5-0', tool_calls=[{'name': 'tavily_search', 'args': {'query': '패스트캠퍼스 랭그래프 과정'}, 'id': '9d7c9059-9386-4bec-9a51-7b9ba8d353d4', 'type': 'tool_call'}], usage_metadata={'input_tokens': 1782, 'output_tokens': 83, 'total_tokens': 1865, 'input_token_details': {'cache_read': 0}, 'output_token_details': {'reasoning': 57}}),\n",
              "  ToolMessage(content='{\"query\": \"패스트캠퍼스 랭그래프 과정\", \"follow_up_questions\": null, \"answer\": null, \"images\": [], \"results\": [{\"url\": \"https://cdn.day1company.io/prod/uploads/202509/100554-1064/-%ED%8C%A8%EC%8A%A4%ED%8A%B8%EC%BA%A0%ED%8D%BC%EC%8A%A4--%EA%B5%90%EC%9C%A1%EA%B3%BC%EC%A0%95%EC%86%8C%EA%B0%9C%EC%84%9C-%EB%9E%AD%EA%B7%B8%EB%9E%98%ED%94%84%EB%A1%9C-%ED%95%9C%EB%B2%88%EC%97%90-%EC%99%84%EC%84%B1%ED%95%98%EB%8A%94-%EB%B3%B5%EC%9E%A1%ED%95%9C-rag%EC%99%80-agent.pdf\", \"title\": \"[PDF] 랭그래프로 한번에 완성하는 복잡한 RAG와 Agent\", \"content\": \"Life Changing Education 랭그래프로 한번에 완성하는 복잡한 RAG와 Agent Life Changing Education Copyright ⓒ FAST CAMPUS Corp. 강의정보 강의장 온라인 강의 | 데스크탑, 노트북, 모바일 등 수강 기간 평생 소장 상세페이지 https://fastcampus.co.kr/data_online_langgraph 강의시간 약 18시간 문의 고객센터 강의특징 나만의 속도로 낮이나 새벽이나 내가 원하는 시간대에 나의 스케쥴대로 수강 원하는 곳 어디서나 시간을 쪼개 먼 거리를 오가며 오프라인 강의장을 찾을 필요 없이 어디서든 수강 무제한 복습 무엇이든 반복적으로 학습해야 내것이 되기에 이해가 안가는 구간 몇번이고 재생 Life Changing Education Copyright ⓒ FAST CAMPUS Corp. LangGraph 파트별 수강시간 02:29:36 Life Changing Education CH01. LangGraph Application 배포하기 파트별 수강시간 02:24:16 Life Changing Education CH01. LangChain과 LLM API 파트별 수강시간 03:36:50 Life Changing Education Copyright ⓒ FAST CAMPUS Corp.\", \"score\": 0.72977066, \"raw_content\": null}, {\"url\": \"https://www.youtube.com/watch?v=W_uwR_yx4-c\", \"title\": \"#LangGraph 개념 완전 정복 몰아보기(3시간) - YouTube\", \"content\": \"🔥 #LangGraph 개념 완전 정복 몰아보기(3시간) 🔥\\\\n테디노트 TeddyNote\\\\n47900 subscribers\\\\n751 likes\\\\n59430 views\\\\n30 Apr 2025\\\\n패스트캠퍼스에서 테디노트 구독자 분들을 위하여 선물을 준비해 주셨습니다!\\\\n무려 3시간에 육박하는 편집을 해주셔서 \\\\\"LangGraph 개념 완전 정복\\\\\" 몰아보기 강의를 편집해 주셨습니다.\\\\n편집을 지원해 주시고, 강의 영상 공개도 허락해 주신 패스트캠퍼스 관계자 분들께 정말 감사드립니다.\\\\n\\\\n이 영상이 LangGraph 를 시작하시려는 분들께 좋은 시작점이 되었으면 좋겠습니다!\\\\n\\\\n✅ 소스코드 링크: \\\\nhttps://github.com/teddylee777/langchain-kr/tree/main/17-LangGraph/02-Structures\\\\n\\\\n전체 강의를 수강하고 싶으신 분들은 아래 할인코드로 할인 받아 결재하세요!\\\\n✅ 20% 할인 쿠폰 코드\\\\n- 할인코드: 테디노트RAG\\\\n- 강의링크: https://buly.kr/Gvmu8DQ\\\\n- 쿠폰코드 사용방법: 강의 수강신청 → 쿠폰 선택 창에 쿠폰코드 입력 → 쿠폰 등록\\\\n\\\\n✅ 타임라인\\\\n00:00 LangGraph 개요\\\\n21:29 LangGraph 세부 기능(State, Node, Edge, Conditional Edge, Compile)\\\\n46:56 LangGraph 로 자유롭게 그래프 로직 구성(흐름 엔지니어링)\\\\n1:10:30 Naive RAG(전통적인 방식의 RAG) 를 LangGraph 로 구현\\\\n1:31:43 답변의 할루시네이션 관련성 평가 모듈 추가\\\\n1:43:28 웹 검색 노드 추가\\\\n1:51:37 쿼리 재작성 모듈 추가\\\\n2:00:55  [프로젝트] Agentic RAG - 에이전트를 활용한 RAG\\\\n2:24:50  [프로젝트] Adaptive RAG\\\\n\\\\n#agent #rag \\\\n---\\\\n📍 \\\\\"테디노트의 RAG 비법노트\\\\\" 랭체인 강의: https://fastcampus.co.kr/data_online_teddy\\\\n📘 랭체인 한국어 튜토리얼(무료 전자책): https://wikidocs.net/book/14314\\\\n📝 테디노트(깃헙 블로그) : https://teddylee777.github.io\\\\n💻 GitHub 소스코드 저장소: https://github.com/teddylee777\\\\n39 comments\\\\n\", \"score\": 0.7213709, \"raw_content\": null}, {\"url\": \"https://fastcampus.co.kr/search?keyword=%EB%9E%AD%EA%B7%B8%EB%9E%98%ED%94%84\", \"title\": \"랭그래프 검색 결과 - 패스트캠퍼스\", \"content\": \"랭그래프로 한번에 완성하는 복잡한 RAG와 Agent. 평생소장약 17시간사전지식 필요. 69%247,000원 · 회사소개 · 강사지원 · 채용안내 · 광고문의. FAST CAMPUS(주) 데이원\", \"score\": 0.7152057, \"raw_content\": null}, {\"url\": \"https://fastcampus.co.kr/data_online_langgraph\", \"title\": \"랭그래프로 한번에 완성하는 복잡한 RAG와 Agent - 패스트캠퍼스\", \"content\": \"RAG & AI Agent RAG & AI Agent RAG & AI Agent RAG & AI Agent \\\\\\\\* 해당 강의는 사전 예약 상품으로, 강의 영상이 공개 일정에 따라 순차적으로 제작되어 오픈됩니다. * 본 패키지는 약 **18**시간 분량으로, 일 1시간 내외의 학습 시간을 통해 정상 수강 기간(=유료 수강 기간) 내에 모두 수강이 가능합니다. * 수강시작 후 7일 이내, 5강 미만 수강 시에는 100% 환불 가능합니다. * 수강시작 후 7일 이내, 5강 이상 수강 시 전체 강의에서 수강한 강의의 비율에 해당하는 수강료를 차감 후 환불 가능합니다. * 수강시작 후 7일 초과 시 정상 수강기간 대비 잔여일에 대해 아래 환불규정에 따라 환불 가능합니다. 패스트캠퍼스 온라인 강의 시청을 위해서는 ID별 최대 4개의 기기를 등록할 수 있으며, 기기 등록은 온라인 강의장 접속 시 자동 등록됩니다.\", \"score\": 0.6628188, \"raw_content\": null}, {\"url\": \"https://www.youtube.com/watch?v=p_pOIvXFDXQ\", \"title\": \"EP 1. Concepts and Principles of the AI \\u200b\\u200bAgent ... - YouTube\", \"content\": \"EP 1. AI Agent 프레임워크, Langgraph의 개념과 원리\\\\n모두의AI\\\\n19000 subscribers\\\\n258 likes\\\\n14317 views\\\\n31 Oct 2024\\\\n안녕하세요 케인입니다.\\\\n패스트캠퍼스에서 진행하는 Langgraph로 끝내는 멀티 AI Agent 강의의 입문 시리즈를 유튜브에 공개하게 되었습니다. 이번 영상을 포함하여 총 5회분의 입문 시리즈가 매주 공개될 예정입니다.\\\\n\\\\n패스트캠퍼스 강의에서는 더 많은 실습 자료와 고급 예제를 만나보실 수 있습니다! 더 많은 분들이 좋은 가격에 만나보실 수 있도록 패스트캠퍼스 마케터분께 부탁드려 40% 할인 쿠폰 코드를 제공해드리게 되었으니, 꼭 제 값 내고 보지 마시고, 쿠폰 먹여서 수강하세요!!\\\\n\\\\n\\\\n- 40% 할인 코드\\\\nPRDTEA591128_agt\\\\n(~12/9 23:59까지)\\\\n\\\\n-강의 보러가기\\\\nhttps://bit.ly/3YfOOSU\\\\n7 comments\\\\n\", \"score\": 0.62248284, \"raw_content\": null}], \"response_time\": 1.13, \"request_id\": \"4279c629-326f-49ac-8acf-d8e98d310bd1\"}', name='tavily_search', id='2599d4ff-f4c4-4b74-878f-f4e5f5fb5c9d', tool_call_id='9d7c9059-9386-4bec-9a51-7b9ba8d353d4'),\n",
              "  AIMessage(content=[{'type': 'text', 'text': \"패스트캠퍼스의 '랭그래프로 한번에 완성하는 복잡한 RAG와 Agent' 과정은 LangGraph를 활용하여 RAG(Retrieval Augmented Generation)와 AI Agent를 구현하는 온라인 강의입니다.\\n\\n주요 특징은 다음과 같습니다:\\n*   **강의명:** 랭그래프로 한번에 완성하는 복잡한 RAG와 Agent\\n*   **플랫폼:** 패스트캠퍼스 온라인 강의\\n*   **수강 기간:** 평생 소장\\n*   **강의 시간:** 약 18시간 분량\\n*   **내용:** LangGraph의 개념과 원리, RAG 구현, AI Agent 활용 등 복잡한 시스템 구축 방법을 다룹니다.\\n\\n이 과정은 LangGraph를 통해 RAG 및 AI Agent를 배우고자 하는 분들에게 적합합니다.\", 'extras': {'signature': 'CrsJAdHtim+RXx6aVNIOVLrywoD9d0/EqkkdFfr8mYMnJMVo2SL/frRianR4Co0Gi+yEyMEUlob9HyuhIV4nc5bm38GvxV+58AFjj5K9TaOzUI5KmO6KHs9/X6w2NGPym9Y3VAQJdDvvlQupAWEt2h2fDWMTUfJ1XfmXc422hhu1EfqByEgymFjmSxbrt5YHwQY1uK62AmcH5Y+9HyEmk5x0yA8c711/MEzaW2ofZsJnB8rqZou8ttRryPQ7hyWBT5nxUpjl3zBaVN0W1WkaTwulBp4NHMDQdm3ox9HjwybQ8GMkYkS1hsq+ga42UQ13InN22KqvYjv6bbuZmVnnBTf1dGs2KmaJfJoe2JCDMXKUTfMNnA1RWwq7OlZswtN7AMHEWhUa8oHtUAzplEMeZJYhLn+SxRUGEUh5xXZLBu4iWNv1+53gYjGCuowQ/H/a8vZWX/iYDdg0YP0jaIM5qVqYj/ZVFzdF5FXDxhjMY0Ksfw7KzhvHyJmznbdjwjny8imwutsREsr3+hSD+QtQ9CWLUzHRrCoVwXldlNqeOxjgpg+7GB5ZzTI4SKu8xQ+nv93VA32THZxgZHl0pQzxjK0npeWL0UbEyrOxy5g9IwrskQP+ogWNn/b68iwrbDtF2E0bUMgIHaJbGrQff8VxEk9UgDugeh/c9gtxeFGzWKSKR0nSigfFso21c2DpVmN3kFR57f0ADhINX81DybJCBbLPdw6uKRf/uTsj2G7YEeBTDtn7PBBsaX4qqZIWP3/Ymv0OSnjAyD/MaATlMOpHU6cOo2/w+tfQsB+h9eR6bNDk+oIgTZlPRXNjBSARABX5t0w4Lps5gvrt8hr+BZXyR/JOpcetAW4a39X0IJ8vLfo5qpJ6r8bLvbYSfcNmr/nfRJBZ2nwMvl5MCI2nT+NlfAs6AYJQK6fusRMYDAl9uT1LDFyncrg0qqTmCv9eaMgTVp/gKXLEVtqkkTY4Lo7dsPI7WR16u9ROTzmKcIQhAkEuAyW/GFTAHKhnZoT9FgVv7eiDhTMNNj+cfWJB+iXPP+VbMBtSJ1vHf+5OGoIX33YOYwZ3EB+kE4M3JT92137hbk/gifnuwR8irWoNqfip1ediutwHVAac4OMEy3Lfe1cT/ZcCYyp+Hd2S999fMqSWMfugYjeFcbcF8xmOSsmTe9v+G2bMnrMifu6LCjLyLxEhhxcEPVD3O+Jark2KTPTnB3Y3/YBh0AETWV3wgOeAJQIjyAaE5UORuVbEoyJNqZN4K/S5blvsqPKWQD5cPJwXQVzcgwBYkny1Zc9AJHlHAWyL626lRZ8YlLvOoTbcTjAKMGPsaZR0qnYMPLEpSSXhs5OdODY/eQtobYIqc3efPyWgpNdK7PQbSUraK+CYyUt6uH13FMu68dZrqZkJ/7vrRR6Q/+kS2il0ntAE6p1pZK3wcBoiDy7HLvVT31RSz1s2V6PCI0e1v4YzGo9eeNuwp/fogWz6eAipTEFkKZ/DqsYRCkMVybDw7PILFmTsx+xEP8IZ7ONbCreC8K7ohG0KDwn2Tvm0ZVs7oa8/aQF3uaDasBsHa5yob3NLXwY9hMJ5glfQ4QNp191zmKDd7cdHIZxgKm696Ce/ZWZKkoM='}}], additional_kwargs={}, response_metadata={'prompt_feedback': {'block_reason': 0, 'safety_ratings': []}, 'finish_reason': 'STOP', 'model_name': 'gemini-2.5-flash', 'safety_ratings': [], 'grounding_metadata': {}, 'model_provider': 'google_genai'}, id='lc_run--2310a084-8093-444b-a00f-e84d58919f8a-0', usage_metadata={'input_tokens': 3995, 'output_tokens': 456, 'total_tokens': 4451, 'input_token_details': {'cache_read': 0}, 'output_token_details': {'reasoning': 282}})]}"
            ]
          },
          "execution_count": 30,
          "metadata": {},
          "output_type": "execute_result"
        }
      ],
      "source": [
        "response = graph.invoke({'messages':[HumanMessage(content=\"패스트캠퍼스 랭그래프 과정 검색해서 소개해줘.\")]})\n",
        "response"
      ]
    },
    {
      "cell_type": "code",
      "execution_count": 31,
      "metadata": {
        "id": "BwQOBfaXrMCr"
      },
      "outputs": [
        {
          "name": "stdout",
          "output_type": "stream",
          "text": [
            "{'agent': {'messages': AIMessage(content='', additional_kwargs={'function_call': {'name': 'current_date', 'arguments': '{}'}}, response_metadata={'prompt_feedback': {'block_reason': 0, 'safety_ratings': []}, 'finish_reason': 'STOP', 'model_name': 'gemini-2.5-flash', 'safety_ratings': [], 'grounding_metadata': {}, 'model_provider': 'google_genai'}, id='lc_run--65cbdcd1-129c-470f-9707-f859994a722a-0', tool_calls=[{'name': 'current_date', 'args': {}, 'id': 'da413aa0-a9fb-43bb-a37b-4070a7a1a0fb', 'type': 'tool_call'}], usage_metadata={'input_tokens': 1790, 'output_tokens': 112, 'total_tokens': 1902, 'input_token_details': {'cache_read': 0}, 'output_token_details': {'reasoning': 102}})}}\n",
            "----------\n",
            "{'tools': {'messages': [ToolMessage(content='2025-10-26', name='current_date', id='346d9661-3ae6-4583-bff6-319f830e744c', tool_call_id='da413aa0-a9fb-43bb-a37b-4070a7a1a0fb')]}}\n",
            "----------\n",
            "{'agent': {'messages': AIMessage(content=[{'type': 'text', 'text': 'Planning:\\n1. Get the current date using `current_date()`. (Already done in the previous turn)\\n2. Create a file named `날짜.txt` and write the current date into it using `repl_tool`.', 'extras': {'signature': 'CqkDAdHtim90cj9VmKgJb+3HHN3IT0bQf0GzuH41IfwlHwLBg9hCoWtx9HerPMPxKoeK3YZAklj2LDuAEWliruh4u3zV9c3LZWSdbHXsYIasH1pLb+ziDi+d9vhuK75fvuHklZQl6M7YoNaDPhaQixlka8XSxuuoYivlpQp4XfwGb3UQa8EGiPvb5uWmQHZlSXAA63oyEuqBVzh15BwbyQ18Ow7pb6IF/MN7/RuLiNpE4tpcAv2zJYGbgwSabQef/jt75TpYo9NkXmAkSo714M0O1SaMEbm1F/Xedg8tlRpxCoQSDp3gKmVRAM9I0osLexPGmxblEP8a3XL5UVqJWJ1+jPrqCKFv+eH7XNu3W9+C0JQgMdL72XhDm5Wkr9Aa1FwzPMAqGbgP7UgT2flItheRa57Bi6U78yq9zI3gb1MifGpsFivs58wy7MmCzBltKJfmpxYqKQ0cnCjECzz2Ebe9GOBbKJbMGFEddKRh5YV2O07bYfU6WITH2vLN3fWELY6J/dj7BtTocxyyT8PoSkb3lfrpuYD2Pm5LFHZVSfIRZgdiZadIhp3DXoI='}}], additional_kwargs={'function_call': {'name': 'repl_tool', 'arguments': '{\"code\": \"\\\\nwith open(\\\\\"\\\\ub0a0\\\\uc9dc.txt\\\\\", \\\\\"w\\\\\") as f:\\\\n    f.write(\\\\\"2025-10-26\\\\\")\\\\n\"}'}}, response_metadata={'prompt_feedback': {'block_reason': 0, 'safety_ratings': []}, 'finish_reason': 'STOP', 'model_name': 'gemini-2.5-flash', 'safety_ratings': [], 'grounding_metadata': {}, 'model_provider': 'google_genai'}, id='lc_run--2aca1c31-c5b7-41fc-b963-337866e98fc6-0', tool_calls=[{'name': 'repl_tool', 'args': {'code': '\\nwith open(\"날짜.txt\", \"w\") as f:\\n    f.write(\"2025-10-26\")\\n'}, 'id': 'fc9e6377-b023-46b4-af41-68055bf524c6', 'type': 'tool_call'}], usage_metadata={'input_tokens': 1824, 'output_tokens': 213, 'total_tokens': 2037, 'input_token_details': {'cache_read': 0}, 'output_token_details': {'reasoning': 112}})}}\n",
            "----------\n",
            "{'tools': {'messages': [ToolMessage(content='실행 완료 (출력 없음)', name='repl_tool', id='0e208b93-2d39-4591-93bf-3b4ce23950af', tool_call_id='fc9e6377-b023-46b4-af41-68055bf524c6')]}}\n",
            "----------\n",
            "{'agent': {'messages': AIMessage(content=\"요청하신 오늘 날짜(2025-10-26)를 '날짜.txt' 파일로 저장했습니다.\", additional_kwargs={}, response_metadata={'prompt_feedback': {'block_reason': 0, 'safety_ratings': []}, 'finish_reason': 'STOP', 'model_name': 'gemini-2.5-flash', 'safety_ratings': [], 'grounding_metadata': {}, 'model_provider': 'google_genai'}, id='lc_run--281e60bd-4130-4cb1-b615-6092e506e7b8-0', usage_metadata={'input_tokens': 1896, 'output_tokens': 30, 'total_tokens': 1926, 'input_token_details': {'cache_read': 1653}})}}\n",
            "----------\n"
          ]
        }
      ],
      "source": [
        "for data in graph.stream(\n",
        "    {'messages':[HumanMessage(content='''\n",
        "    오늘 날짜 확인해서 txt 파일로 저장해, 파일 이름은 날짜.txt로 해.''')]}, stream_mode='updates'):\n",
        "    print(data)\n",
        "    print('----------')\n"
      ]
    },
    {
      "cell_type": "code",
      "execution_count": null,
      "metadata": {
        "id": "JqJp4TmSvDZN"
      },
      "outputs": [],
      "source": []
    }
  ],
  "metadata": {
    "colab": {
      "provenance": []
    },
    "kernelspec": {
      "display_name": ".venv",
      "language": "python",
      "name": "python3"
    },
    "language_info": {
      "codemirror_mode": {
        "name": "ipython",
        "version": 3
      },
      "file_extension": ".py",
      "mimetype": "text/x-python",
      "name": "python",
      "nbconvert_exporter": "python",
      "pygments_lexer": "ipython3",
      "version": "3.12.11"
    }
  },
  "nbformat": 4,
  "nbformat_minor": 0
}
