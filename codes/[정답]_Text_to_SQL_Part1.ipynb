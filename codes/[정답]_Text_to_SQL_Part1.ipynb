{
  "cells": [
    {
      "cell_type": "markdown",
      "metadata": {
        "id": "fFGp2BDVWFqD"
      },
      "source": [
        "# [프로젝트] 복잡한 자연어 쿼리를 처리하는 Text-to-SQL   \n",
        "\n",
        "Text-to-SQL 문제는 LLM의 대표적인 활용 분야 중 하나입니다.   \n",
        "LangChain의 기능을 활용하여, 간단하게 SQL 정보를 전달하고   \n",
        " 쿼리를 실행, 생성하는 기능을 만들어 보겠습니다."
      ]
    },
    {
      "cell_type": "markdown",
      "metadata": {
        "id": "vcJI2_i9WFqE"
      },
      "source": [
        "이번 실습에서는 다음의 DB를 사용합니다.   \n",
        "\n",
        "easy_sql.db : 도서관 DB  \n",
        "intermediate_sql.db : 병원 DB   \n",
        "hard_sql.db : 대학교 DB\n"
      ]
    },
    {
      "cell_type": "code",
      "source": [
        "!pip install langgraph langchain langchain_google_genai google_generativeai langchain_community python-dotenv -q"
      ],
      "metadata": {
        "id": "8tj-nJqpWeZF",
        "colab": {
          "base_uri": "https://localhost:8080/"
        },
        "outputId": "c0cd232f-e1a5-4db9-8e98-4ef0eaa44879"
      },
      "execution_count": null,
      "outputs": [
        {
          "output_type": "stream",
          "name": "stdout",
          "text": [
            "\u001b[?25l   \u001b[90m━━━━━━━━━━━━━━━━━━━━━━━━━━━━━━━━━━━━━━━━\u001b[0m \u001b[32m0.0/136.5 kB\u001b[0m \u001b[31m?\u001b[0m eta \u001b[36m-:--:--\u001b[0m\r\u001b[2K   \u001b[90m━━━━━━━━━━━━━━━━━━━━━━━━━━━━━━━━━━━━━━━━\u001b[0m \u001b[32m136.5/136.5 kB\u001b[0m \u001b[31m4.7 MB/s\u001b[0m eta \u001b[36m0:00:00\u001b[0m\n",
            "\u001b[?25h\u001b[?25l   \u001b[90m━━━━━━━━━━━━━━━━━━━━━━━━━━━━━━━━━━━━━━━━\u001b[0m \u001b[32m0.0/42.0 kB\u001b[0m \u001b[31m?\u001b[0m eta \u001b[36m-:--:--\u001b[0m\r\u001b[2K   \u001b[90m━━━━━━━━━━━━━━━━━━━━━━━━━━━━━━━━━━━━━━━━\u001b[0m \u001b[32m42.0/42.0 kB\u001b[0m \u001b[31m2.6 MB/s\u001b[0m eta \u001b[36m0:00:00\u001b[0m\n",
            "\u001b[2K   \u001b[90m━━━━━━━━━━━━━━━━━━━━━━━━━━━━━━━━━━━━━━━━\u001b[0m \u001b[32m2.5/2.5 MB\u001b[0m \u001b[31m49.5 MB/s\u001b[0m eta \u001b[36m0:00:00\u001b[0m\n",
            "\u001b[2K   \u001b[90m━━━━━━━━━━━━━━━━━━━━━━━━━━━━━━━━━━━━━━━━\u001b[0m \u001b[32m1.0/1.0 MB\u001b[0m \u001b[31m32.4 MB/s\u001b[0m eta \u001b[36m0:00:00\u001b[0m\n",
            "\u001b[2K   \u001b[90m━━━━━━━━━━━━━━━━━━━━━━━━━━━━━━━━━━━━━━━━\u001b[0m \u001b[32m41.2/41.2 kB\u001b[0m \u001b[31m2.3 MB/s\u001b[0m eta \u001b[36m0:00:00\u001b[0m\n",
            "\u001b[2K   \u001b[90m━━━━━━━━━━━━━━━━━━━━━━━━━━━━━━━━━━━━━━━━\u001b[0m \u001b[32m46.5/46.5 kB\u001b[0m \u001b[31m2.6 MB/s\u001b[0m eta \u001b[36m0:00:00\u001b[0m\n",
            "\u001b[2K   \u001b[90m━━━━━━━━━━━━━━━━━━━━━━━━━━━━━━━━━━━━━━━━\u001b[0m \u001b[32m50.9/50.9 kB\u001b[0m \u001b[31m3.1 MB/s\u001b[0m eta \u001b[36m0:00:00\u001b[0m\n",
            "\u001b[?25h"
          ]
        }
      ]
    },
    {
      "cell_type": "markdown",
      "source": [
        "**세션 다시 시작** 해 주세요!"
      ],
      "metadata": {
        "id": "cy-1rr-8Wq1S"
      }
    },
    {
      "cell_type": "code",
      "source": [
        "import zipfile\n",
        "\n",
        "with zipfile.ZipFile('sql.zip', 'r') as zip_ref:\n",
        "    zip_ref.extractall('.')"
      ],
      "metadata": {
        "id": "kwZuUmKnWsuQ"
      },
      "execution_count": null,
      "outputs": []
    },
    {
      "cell_type": "markdown",
      "metadata": {
        "id": "PPcn4zjoWFqF"
      },
      "source": [
        "## LangChain의 Utilities 활용하기\n",
        "\n",
        "SQLite3을 이용해 db에 접근한 뒤, DB 정보를 불러옵니다."
      ]
    },
    {
      "cell_type": "code",
      "execution_count": null,
      "metadata": {
        "id": "TPoTTPNUWFqF"
      },
      "outputs": [],
      "source": [
        "import sqlite3\n",
        "from langchain_community.utilities import SQLDatabase\n",
        "\n",
        "\n",
        "db = SQLDatabase.from_uri(\"sqlite:///easy_sql.db\")\n"
      ]
    },
    {
      "cell_type": "markdown",
      "metadata": {
        "id": "UYHAW3xAWFqF"
      },
      "source": [
        "get_table_info()를 통해 스키마를 가져옵니다.    \n",
        "테이블의 목록 + 3개 Row를 가져오는 작업을 기본으로 수행합니다."
      ]
    },
    {
      "cell_type": "code",
      "execution_count": null,
      "metadata": {
        "colab": {
          "base_uri": "https://localhost:8080/"
        },
        "id": "IMnIu7NQWFqF",
        "outputId": "66a21208-c050-4f7a-8c79-580e2887082d"
      },
      "outputs": [
        {
          "output_type": "stream",
          "name": "stdout",
          "text": [
            "\n",
            "CREATE TABLE book_categories (\n",
            "\tbook_id INTEGER, \n",
            "\tcategory_id INTEGER, \n",
            "\tPRIMARY KEY (book_id, category_id), \n",
            "\tFOREIGN KEY(book_id) REFERENCES books (book_id), \n",
            "\tFOREIGN KEY(category_id) REFERENCES categories (category_id)\n",
            ")\n",
            "\n",
            "/*\n",
            "3 rows from book_categories table:\n",
            "book_id\tcategory_id\n",
            "1\t2\n",
            "2\t1\n",
            "3\t3\n",
            "*/\n",
            "\n",
            "\n",
            "CREATE TABLE book_promotions (\n",
            "\tbook_id INTEGER, \n",
            "\tpromotion_id INTEGER, \n",
            "\tPRIMARY KEY (book_id, promotion_id), \n",
            "\tFOREIGN KEY(book_id) REFERENCES books (book_id), \n",
            "\tFOREIGN KEY(promotion_id) REFERENCES promotions (promotion_id)\n",
            ")\n",
            "\n",
            "/*\n",
            "3 rows from book_promotions table:\n",
            "book_id\tpromotion_id\n",
            "1\t1\n",
            "2\t1\n",
            "3\t1\n",
            "*/\n",
            "\n",
            "\n",
            "CREATE TABLE books (\n",
            "\tbook_id INTEGER, \n",
            "\ttitle TEXT NOT NULL, \n",
            "\tauthor TEXT NOT NULL, \n",
            "\tprice INTEGER NOT NULL, \n",
            "\tstock INTEGER NOT NULL, \n",
            "\tPRIMARY KEY (book_id)\n",
            ")\n",
            "\n",
            "/*\n",
            "3 rows from books table:\n",
            "book_id\ttitle\tauthor\tprice\tstock\n",
            "1\t인공지능의 기초\t김영희\t25000\t10\n",
            "2\t파이썬 프로그래밍\t이철수\t30000\t15\n",
            "3\t데이터 분석 입문\t박지민\t28000\t8\n",
            "*/\n",
            "\n",
            "\n",
            "CREATE TABLE categories (\n",
            "\tcategory_id INTEGER, \n",
            "\tcategory_name TEXT NOT NULL, \n",
            "\tdescription TEXT, \n",
            "\tPRIMARY KEY (category_id)\n",
            ")\n",
            "\n",
            "/*\n",
            "3 rows from categories table:\n",
            "category_id\tcategory_name\tdescription\n",
            "1\t컴퓨터 과학\t컴퓨터 및 프로그래밍 관련 서적\n",
            "2\t인공지능\t인공지능, 머신러닝, 딥러닝 관련 서적\n",
            "3\t데이터 과학\t데이터 분석 및 처리 관련 서적\n",
            "*/\n",
            "\n",
            "\n",
            "CREATE TABLE customers (\n",
            "\tcustomer_id INTEGER, \n",
            "\tname TEXT NOT NULL, \n",
            "\temail TEXT NOT NULL, \n",
            "\tphone TEXT, \n",
            "\tPRIMARY KEY (customer_id), \n",
            "\tUNIQUE (email)\n",
            ")\n",
            "\n",
            "/*\n",
            "3 rows from customers table:\n",
            "customer_id\tname\temail\tphone\n",
            "1\t홍길동\thong@email.com\t010-1234-5678\n",
            "2\t김철수\tkim@email.com\t010-2345-6789\n",
            "3\t이영희\tlee@email.com\t010-3456-7890\n",
            "*/\n",
            "\n",
            "\n",
            "CREATE TABLE orders (\n",
            "\torder_id INTEGER, \n",
            "\tcustomer_id INTEGER, \n",
            "\tbook_id INTEGER, \n",
            "\torder_date TEXT NOT NULL, \n",
            "\tquantity INTEGER NOT NULL, \n",
            "\tPRIMARY KEY (order_id), \n",
            "\tFOREIGN KEY(customer_id) REFERENCES customers (customer_id), \n",
            "\tFOREIGN KEY(book_id) REFERENCES books (book_id)\n",
            ")\n",
            "\n",
            "/*\n",
            "3 rows from orders table:\n",
            "order_id\tcustomer_id\tbook_id\torder_date\tquantity\n",
            "1\t1\t1\t2024-03-15\t1\n",
            "2\t2\t3\t2024-03-16\t2\n",
            "3\t3\t2\t2024-03-16\t1\n",
            "*/\n",
            "\n",
            "\n",
            "CREATE TABLE promotions (\n",
            "\tpromotion_id INTEGER, \n",
            "\tpromotion_name TEXT NOT NULL, \n",
            "\tdiscount_rate INTEGER NOT NULL, \n",
            "\tstart_date TEXT NOT NULL, \n",
            "\tend_date TEXT NOT NULL, \n",
            "\tPRIMARY KEY (promotion_id)\n",
            ")\n",
            "\n",
            "/*\n",
            "3 rows from promotions table:\n",
            "promotion_id\tpromotion_name\tdiscount_rate\tstart_date\tend_date\n",
            "1\t봄맞이 도서 할인\t10\t2024-03-01\t2024-03-31\n",
            "2\t여름 특별 할인\t15\t2024-06-01\t2024-06-30\n",
            "3\t가을 독서 프로모션\t20\t2024-09-01\t2024-09-30\n",
            "*/\n",
            "\n",
            "\n",
            "CREATE TABLE reviews (\n",
            "\treview_id INTEGER, \n",
            "\tbook_id INTEGER, \n",
            "\tcustomer_id INTEGER, \n",
            "\trating INTEGER NOT NULL, \n",
            "\treview_text TEXT, \n",
            "\treview_date TEXT NOT NULL, \n",
            "\tPRIMARY KEY (review_id), \n",
            "\tFOREIGN KEY(book_id) REFERENCES books (book_id), \n",
            "\tFOREIGN KEY(customer_id) REFERENCES customers (customer_id), \n",
            "\tCHECK (rating BETWEEN 1 AND 5)\n",
            ")\n",
            "\n",
            "/*\n",
            "3 rows from reviews table:\n",
            "review_id\tbook_id\tcustomer_id\trating\treview_text\treview_date\n",
            "1\t1\t1\t5\t정말 좋은 책입니다. 인공지능 입문자에게 추천합니다.\t2024-03-16\n",
            "2\t3\t2\t4\t데이터 분석을 처음 배우는데 도움이 많이 됐습니다.\t2024-03-17\n",
            "3\t2\t3\t5\t파이썬 기초를 쉽게 배울 수 있었습니다.\t2024-03-17\n",
            "*/\n"
          ]
        }
      ],
      "source": [
        "db_schema = db.get_table_info()\n",
        "print(db_schema)"
      ]
    },
    {
      "cell_type": "code",
      "execution_count": null,
      "metadata": {
        "id": "rtNNDp9vWFqF"
      },
      "outputs": [],
      "source": [
        "import os\n",
        "from dotenv import load_dotenv\n",
        "from langchain_google_genai import ChatGoogleGenerativeAI\n",
        "\n",
        "# 환경 변수 로드\n",
        "load_dotenv()\n",
        "\n",
        "os.environ['LANGCHAIN_PROJECT'] = 'LangGraph_FastCampus'\n",
        "os.environ['LANGCHAIN_ENDPOINT'] = 'https://api.smith.langchain.com'\n",
        "os.environ['LANGCHAIN_TRACING_V2']='true'\n",
        "\n",
        "llm = ChatGoogleGenerativeAI(model=\"gemini-2.0-flash\")"
      ]
    },
    {
      "cell_type": "markdown",
      "metadata": {
        "id": "CRFYtttYWFqG"
      },
      "source": [
        "구조화된 출력을 구성합니다."
      ]
    },
    {
      "cell_type": "code",
      "execution_count": null,
      "metadata": {
        "id": "d7O43f8zWFqG"
      },
      "outputs": [],
      "source": [
        "from pydantic import BaseModel, Field\n",
        "import sqlite3\n",
        "\n",
        "class SQLQuery(BaseModel):\n",
        "    \"\"\"SQL 쿼리\"\"\"\n",
        "    explanation: str = Field(description=\"쿼리의 목적과 기대되는 결과 설명\")\n",
        "    query: str = Field(description=\"생성된 SQL 쿼리 (반드시 유효한 SQL 문법을 사용)\")\n"
      ]
    },
    {
      "cell_type": "code",
      "execution_count": null,
      "metadata": {
        "colab": {
          "base_uri": "https://localhost:8080/"
        },
        "id": "dY9XSwwVWFqG",
        "outputId": "a9d0b247-c8e1-4a4b-c025-7cf83926effa"
      },
      "outputs": [
        {
          "output_type": "execute_result",
          "data": {
            "text/plain": [
              "SQLQuery(explanation='책의 총 권수를 구하는 쿼리', query='SELECT count(*) FROM books')"
            ]
          },
          "metadata": {},
          "execution_count": 11
        }
      ],
      "source": [
        "from langchain.prompts import ChatPromptTemplate\n",
        "\n",
        "structured_llm = llm.with_structured_output(SQLQuery)\n",
        "prompt = ChatPromptTemplate([\"\"\"\n",
        "당신은 SQL 전문가입니다. 다음 데이터베이스 스키마와 사용자 질의를 분석하여 SQL 쿼리를 작성하세요.\n",
        "\n",
        "## 데이터베이스 스키마:\n",
        "{db_schema}\n",
        "\n",
        "## 사용자 질의:\n",
        "{query}\n",
        "\n",
        "\n",
        "테이블을 참고하여, 질문을 쿼리로 변환하세요.\n",
        "SQLite의 경우 LIMIT clause 를 사용하면 됩니다.\n",
        "데이터의 결과를 더 잘 전달하기 위해 정렬할 수 있습니다.\n",
        "주어진 예시 row에 없는 내용이라도, 쿼리를 작성하세요.\n",
        "\n",
        "정답과 무관한 컬럼에 대한 쿼리를 수행하지 말고, 필요한 내용만 추출하세요.\n",
        "아래에 주어지는 컬럼 이름과 테이블 정보를 꼭 참고하세요.\n",
        "존재하지 않는 컬럼에 대한 쿼리를 하지 않도록 주의하세요.\n",
        "만약 '오늘'과 같이 현재 날짜에 대한 질문이 들어오면 date() 등을 사용하세요.\n",
        "컬럼 이름은 \"로 구분하고, 전체 출력은 마크다운으로 수행하세요.\n",
        "\"\"\"])\n",
        "\n",
        "\n",
        "sample = {'db_schema':db_schema, 'query':'책이 총 몇 권 있어요?'}\n",
        "\n",
        "chain = prompt | structured_llm\n",
        "query = chain.invoke(sample)\n",
        "\n",
        "query\n"
      ]
    },
    {
      "cell_type": "markdown",
      "metadata": {
        "id": "BcWG2tnhWFqG"
      },
      "source": [
        "생성한 쿼리는 run()으로 실행합니다."
      ]
    },
    {
      "cell_type": "code",
      "execution_count": null,
      "metadata": {
        "colab": {
          "base_uri": "https://localhost:8080/",
          "height": 35
        },
        "id": "iImptJsAWFqG",
        "outputId": "ca8d1537-05b7-4793-f64b-605d3af4609a"
      },
      "outputs": [
        {
          "output_type": "execute_result",
          "data": {
            "text/plain": [
              "'[(30,)]'"
            ],
            "application/vnd.google.colaboratory.intrinsic+json": {
              "type": "string"
            }
          },
          "metadata": {},
          "execution_count": 13
        }
      ],
      "source": [
        "db.run(query.query)"
      ]
    },
    {
      "cell_type": "markdown",
      "metadata": {
        "id": "LrxmAK4lWFqG"
      },
      "source": [
        "전체 기능을 노드로 연결합니다."
      ]
    },
    {
      "cell_type": "code",
      "execution_count": null,
      "metadata": {
        "id": "DzpMnMN1WFqG"
      },
      "outputs": [],
      "source": [
        "from typing_extensions import TypedDict\n",
        "\n",
        "class State(TypedDict):\n",
        "    db_schema: str\n",
        "    db_path: str\n",
        "    query: str\n",
        "    result: str\n",
        "    sql_query : str\n",
        "    final_analysis: str\n",
        "\n",
        "def generate_query(state: State):\n",
        "    structured_llm = llm.with_structured_output(SQLQuery)\n",
        "    prompt = ChatPromptTemplate([\"\"\"\n",
        "    당신은 SQL 전문가입니다. 다음 데이터베이스 스키마와 사용자 질의를 분석하여 SQL 쿼리를 작성하세요.\n",
        "\n",
        "    ## 데이터베이스 스키마:\n",
        "    {db_schema}\n",
        "\n",
        "    ## 사용자 질의:\n",
        "    {query}\n",
        "\n",
        "\n",
        "    테이블을 참고하여, 질문을 쿼리로 변환하세요.\n",
        "    SQLite의 경우 LIMIT clause 를 사용하면 됩니다.\n",
        "    데이터의 결과를 더 잘 전달하기 위해 정렬할 수 있습니다.\n",
        "    주어진 예시 row에 없는 내용이라도, 쿼리를 작성하세요.\n",
        "\n",
        "    정답과 무관한 컬럼에 대한 쿼리를 수행하지 말고, 필요한 내용만 추출하세요.\n",
        "    아래에 주어지는 컬럼 이름과 테이블 정보를 꼭 참고하세요.\n",
        "    존재하지 않는 컬럼에 대한 쿼리를 하지 않도록 주의하세요.\n",
        "    만약 '오늘'과 같이 현재 날짜에 대한 질문이 들어오면 date() 등을 사용하세요.\n",
        "    컬럼 이름은 \"로 구분하고, 전체 출력은 마크다운으로 수행하세요.\n",
        "    \"\"\"])\n",
        "    chain = prompt | structured_llm\n",
        "    sql_query = chain.invoke(state).query\n",
        "    state['sql_query'] = sql_query\n",
        "    return state\n",
        "\n",
        "def execute_query(state: State):\n",
        "\n",
        "    sql_query = state['sql_query']\n",
        "    db_path = state['db_path']\n",
        "    db = SQLDatabase.from_uri(db_path)\n",
        "\n",
        "    result = db.run(state['sql_query'])\n",
        "\n",
        "    state['result'] = result\n",
        "    return state\n",
        "\n",
        "def explain_result(state: State):\n",
        "    prompt = f\"\"\"\n",
        "    당신은 데이터 분석 전문가입니다. SQL 쿼리 결과를 분석하여 사용자가 이해하기 쉽게 설명해주세요.\n",
        "\n",
        "    ## 원래 질문:\n",
        "    {state[\"query\"]}\n",
        "\n",
        "    ## 실행된 SQL 쿼리:\n",
        "    {state[\"sql_query\"]}\n",
        "\n",
        "    ## 쿼리 결과:\n",
        "    {state[\"result\"]}\n",
        "\n",
        "    ## 작업:\n",
        "    1. 원래 질문에 직접적으로 답변하세요.\n",
        "    2. 결과에서 발견된 주요 인사이트를 추출하세요.\n",
        "    3. 데이터를 종합적으로 분석하고 명확하게 설명하세요.\n",
        "    4. 결과가 원래 질문의 모든 측면을 다루는지 확인하세요.\n",
        "    \"\"\"\n",
        "    response = llm.invoke(prompt)\n",
        "    state[\"final_analysis\"] = response.content\n",
        "    return state"
      ]
    },
    {
      "cell_type": "code",
      "execution_count": null,
      "metadata": {
        "colab": {
          "base_uri": "https://localhost:8080/",
          "height": 449
        },
        "id": "YwpWV_X4WFqG",
        "outputId": "74fd59ea-f7be-4396-b8be-d6b80aa5549b"
      },
      "outputs": [
        {
          "output_type": "execute_result",
          "data": {
            "text/plain": [
              "<langgraph.graph.state.CompiledStateGraph object at 0x797be8b133d0>"
            ],
            "image/png": "[encoded data removed]"
          },
          "metadata": {},
          "execution_count": 16
        }
      ],
      "source": [
        "from langgraph.graph import StateGraph, START, END\n",
        "\n",
        "builder = StateGraph(State)\n",
        "\n",
        "builder.add_node(\"generate_query\", generate_query)\n",
        "builder.add_node(\"execute_query\", execute_query)\n",
        "builder.add_node(\"explain_result\", explain_result)\n",
        "\n",
        "# 노드 연결\n",
        "builder.add_edge(\"generate_query\", \"execute_query\")\n",
        "builder.add_edge(\"execute_query\", \"explain_result\")\n",
        "builder.add_edge(\"explain_result\", END)\n",
        "\n",
        "# 시작 노드 설정\n",
        "builder.add_edge(START, \"generate_query\")\n",
        "\n",
        "# 그래프 컴파일\n",
        "graph = builder.compile()\n",
        "graph\n"
      ]
    },
    {
      "cell_type": "code",
      "execution_count": null,
      "metadata": {
        "colab": {
          "base_uri": "https://localhost:8080/"
        },
        "id": "Ho-zTU4VWFqH",
        "outputId": "7ccbc71c-945e-4cc6-e867-d292b0622dfc"
      },
      "outputs": [
        {
          "output_type": "stream",
          "name": "stdout",
          "text": [
            "기존 질문: 가장 많은 매출을 올린 작가의 모든 도서 목록과 재고 현황을 조회해주세요.\n",
            "최종 분석 결과: ## 분석 결과 보고서\n",
            "\n",
            "**1. 질문에 대한 직접적인 답변:**\n",
            "\n",
            "가장 많은 매출을 올린 작가의 도서 중 하나는 '모바일 앱 프로그래밍'이며, 현재 재고는 18권입니다.\n",
            "\n",
            "**2. 주요 인사이트:**\n",
            "\n",
            "*   **최고 매출 작가의 책:** '모바일 앱 프로그래밍'이라는 책이 최고 매출 작가의 책 중 하나로 확인되었습니다. 즉, 해당 작가의 다른 책들도 높은 판매량을 기록할 가능성이 높습니다.\n",
            "*   **재고 정보:** '모바일 앱 프로그래밍'의 재고가 18권 남아있다는 정보는 추가적인 마케팅이나 프로모션 전략을 수립할 때 중요한 참고 자료가 될 수 있습니다. 예를 들어, 재고 소진을 위해 할인 행사를 진행하거나, 재고가 부족할 경우 추가 생산 계획을 세울 수 있습니다.\n",
            "\n",
            "**3. 데이터 종합 분석 및 설명:**\n",
            "\n",
            "본 쿼리는 가장 많은 매출을 올린 작가 한 명의 책 중 하나의 제목과 재고만 반환합니다. 쿼리 자체가 `LIMIT 1`을 사용하여 결과 수를 제한했기 때문입니다.  원래 질문이 \"가장 많은 매출을 올린 작가의 *모든* 도서 목록과 재고 현황\"을 요구했으므로, 쿼리 결과는 이 요구사항을 완전히 충족하지 못합니다.\n",
            "\n",
            "**쿼리의 문제점 및 개선 방향:**\n",
            "\n",
            "현재 쿼리는 작가별 총 매출액을 기준으로 정렬하지만, 가장 높은 매출을 올린 작가의 *모든* 도서 목록을 반환하지 않습니다.  가장 높은 매출을 올린 작가를 먼저 식별하고, 해당 작가의 모든 도서 정보를 가져오는 방식으로 쿼리를 수정해야 합니다.\n",
            "\n",
            "**수정된 SQL 쿼리 (예시):**\n",
            "\n",
            "```sql\n",
            "SELECT b.title, b.stock\n",
            "FROM books b\n",
            "WHERE b.author = (SELECT author FROM books b JOIN orders o ON b.book_id = o.book_id GROUP BY b.author ORDER BY SUM(b.price * o.quantity) DESC LIMIT 1);\n",
            "```\n",
            "\n",
            "이 수정된 쿼리는 먼저 최고 매출 작가의 이름을 서브쿼리를 통해 찾고, 그 결과를 사용하여 해당 작가의 모든 도서 제목과 재고를 반환합니다.\n",
            "\n",
            "**4. 질문의 모든 측면 충족 여부:**\n",
            "\n",
            "원래 쿼리 결과는 질문의 일부만 다룹니다.  \"가장 많은 매출을 올린 작가의 *모든* 도서 목록\"을 제공하지 못하고, 단 하나의 도서 정보만 제공합니다.  수정된 쿼리를 사용해야 원래 질문의 모든 측면을 충족할 수 있습니다.\n",
            "\n",
            "**결론:**\n",
            "\n",
            "현재 쿼리 결과는 제한적인 정보만 제공하며, 원래 질문의 요구사항을 완전히 충족하지 못합니다.  수정된 쿼리를 사용하여 최고 매출 작가의 모든 도서 목록과 재고 정보를 조회해야 합니다. 또한, 각 도서의 판매량과 가격 정보 등을 함께 분석하면 더욱 심도 있는 인사이트를 얻을 수 있습니다.\n",
            "-------------\n",
            "기존 질문: IT 분야 도서 목록 알려주세요.\n",
            "최종 분석 결과: ## IT 분야 도서 목록입니다.\n",
            "\n",
            "요청하신 IT 분야 도서 목록은 다음과 같습니다. 쿼리 결과, 컴퓨터 과학, 인공지능, 데이터 과학 관련 도서들을 찾았습니다.\n",
            "\n",
            "*   **인공지능의 기초** (김영희)\n",
            "*   **파이썬 프로그래밍** (이철수)\n",
            "*   **데이터 분석 입문** (박지민)\n",
            "*   **머신러닝 알고리즘** (정동욱)\n",
            "*   **딥러닝의 이해** (강미래)\n",
            "*   **빅데이터 처리** (황준석)\n",
            "*   **클라우드 컴퓨팅** (임서연)\n",
            "*   **자연어 처리** (송민주)\n",
            "*   **컴퓨터 비전** (유태호)\n",
            "*   **로봇공학 입문** (조현우)\n",
            "*   **강화학습 기초** (백승민)\n",
            "*   **블록체인 이해** (신동현)\n",
            "*   **알고리즘 문제 해결** (한지수)\n",
            "*   **데이터베이스 설계** (정데이터)\n",
            "*   **게임 프로그래밍** (박게임)\n",
            "*   **사물인터넷 기초** (최IoT)\n",
            "*   **컴퓨터 구조론** (윤컴구)\n",
            "*   **운영체제의 이해** (최OS)\n",
            "*   **소프트웨어 공학** (김공학)\n",
            "*   **인공지능과 미래** (박미래)\n",
            "*   **머신러닝 실전 프로젝트** (윤머신)\n",
            "*   **파이썬으로 배우는 통계** (한통계)\n",
            "*   **자바 프로그래밍** (김자바)\n",
            "*   **C++ 프로그래밍** (이C++)\n",
            "\n",
            "## 주요 인사이트\n",
            "\n",
            "*   **다양한 IT 분야 커버:** 검색된 도서 목록은 인공지능, 데이터 과학, 프로그래밍, 네트워크, 데이터베이스, 운영체제 등 다양한 IT 분야를 포괄하고 있습니다. 이는 IT 분야에 대한 광범위한 학습 자료를 제공할 수 있음을 시사합니다.\n",
            "*   **프로그래밍 언어:** 파이썬, 자바, C++ 등 인기 있는 프로그래밍 언어 관련 도서가 포함되어 있습니다. 이는 프로그래밍 학습에 대한 높은 수요를 반영합니다. 특히 파이썬은 데이터 분석 및 머신러닝 분야에서 널리 사용되므로 관련 도서의 존재는 중요합니다.\n",
            "*   **최신 기술 트렌드 반영:** 머신러닝, 딥러닝, 빅데이터, 클라우드 컴퓨팅, 블록체인, 사물인터넷 등 최신 기술 트렌드를 반영하는 도서들이 포함되어 있습니다. 이는 빠르게 변화하는 IT 환경에 대한 학습 요구를 충족시킬 수 있습니다.\n",
            "*   **기초 및 실전 학습:** '기초', '입문' 등의 용어를 포함하는 도서와 '실전 프로젝트'와 같은 심화 학습을 위한 도서가 모두 존재합니다. 이는 IT 분야 학습의 다양한 수준을 지원할 수 있음을 의미합니다.\n",
            "\n",
            "## 데이터 분석 및 설명\n",
            "\n",
            "제공된 SQL 쿼리는 `books`, `book_categories`, `categories` 테이블을 조인하여 특정 카테고리에 속하는 도서의 제목과 저자를 검색합니다.  `WHERE` 절은 `category_name` 컬럼에 '컴퓨터 과학', '인공지능', '데이터 과학' 중 하나라도 포함하는 카테고리에 속하는 도서를 필터링합니다.  `LIKE '%...%'` 구문은 해당 문자열이 포함된 모든 카테고리를 검색하므로, '컴퓨터 과학 입문', '데이터 과학 응용' 등과 같은 카테고리에 속하는 도서도 결과에 포함됩니다.\n",
            "\n",
            "결과적으로, 쿼리는 질문자가 요청한 \"IT 분야\" 도서 목록을 제공하기 위해 의도적으로 설계되었으며, 결과는 IT 분야의 핵심 분야들을 잘 나타내고 있습니다.\n",
            "\n",
            "## 질문의 모든 측면 충족 여부\n",
            "\n",
            "쿼리 결과는 원래 질문인 \"IT 분야 도서 목록 알려주세요\"에 대한 직접적인 답변을 제공합니다. 하지만, 좀 더 구체적인 IT 분야 (예: 네트워크, 보안 등)에 대한 정보가 필요하다면, `WHERE` 절에 해당 카테고리를 추가하여 쿼리를 수정할 수 있습니다. 예를 들어, `OR c.\"category_name\" LIKE '%네트워크%'` 를 추가하면 네트워크 관련 도서도 검색 결과에 포함됩니다.\n",
            "-------------\n",
            "기존 질문: 리뷰가 좋은 책들 추천해주세요.\n",
            "최종 분석 결과: ## 답변:\n",
            "\n",
            "**리뷰가 좋은 책들을 추천해 드립니다:**\n",
            "\n",
            "쿼리 결과, 평균 평점이 높은 상위 10권의 책은 다음과 같습니다. 모두 높은 평점을 받았지만, 특히 평점 5.0점을 받은 책들이 눈에 띕니다.\n",
            "\n",
            "*   **평점 5.0:**\n",
            "    *   파이썬 프로그래밍\n",
            "    *   클라우드 컴퓨팅\n",
            "    *   컴퓨터 비전\n",
            "    *   인공지능의 기초\n",
            "    *   웹 개발의 정석\n",
            "    *   네트워크 보안\n",
            "    *   강화학습 기초\n",
            "    *   UI/UX 디자인\n",
            "*   **평점 4.0:**\n",
            "    *   알고리즘 문제 해결\n",
            "    *   사물인터넷 기초\n",
            "\n",
            "**주요 인사이트:**\n",
            "\n",
            "*   **기술 서적의 높은 인기:** 상위 10권의 책은 대부분 프로그래밍, 클라우드 컴퓨팅, 인공지능, 웹 개발 등 기술 분야와 관련된 서적입니다. 이는 해당 분야에 대한 학습 수요가 높고, 관련 서적에 대한 만족도 또한 높다는 것을 시사합니다.\n",
            "*   **평점 양극화 가능성:** 평점 5.0점과 4.0점의 책만 존재하고, 그 사이의 평점을 가진 책이 없다는 점은 리뷰 데이터에 양극화 현상이 존재할 가능성을 보여줍니다. 예를 들어, 극단적으로 만족하거나 불만족한 리뷰만 존재할 수 있습니다.\n",
            "*   **데이터 부족 가능성:** 쿼리 결과에 나타난 책들의 리뷰 수가 충분한지 확인해야 합니다. 리뷰 수가 적다면, 몇 개의 긍정적인 리뷰만으로도 평균 평점이 높게 나타날 수 있습니다. 충분한 리뷰 수를 확보하여 평균 평점의 신뢰도를 높이는 것이 중요합니다.\n",
            "\n",
            "**데이터 분석:**\n",
            "\n",
            "SQL 쿼리는 `books` 테이블과 `reviews` 테이블을 `book_id`를 기준으로 JOIN하여 각 책의 평균 평점을 계산했습니다. `GROUP BY` 절을 사용하여 책 제목별로 평점을 그룹화하고, `ORDER BY` 절을 사용하여 평균 평점 내림차순으로 정렬했습니다. 마지막으로 `LIMIT` 절을 사용하여 상위 10권의 책만 선택했습니다.\n",
            "\n",
            "**결과 검토:**\n",
            "\n",
            "쿼리 결과는 \"리뷰가 좋은 책들\"이라는 원래 질문에 대한 직접적인 답변을 제공합니다. 하지만 몇 가지 추가적인 고려 사항이 있습니다.\n",
            "\n",
            "*   **리뷰 수:** 각 책의 리뷰 수를 함께 고려하면 더욱 정확한 추천이 가능합니다. 리뷰 수가 많은 책일수록 평균 평점의 신뢰도가 높기 때문입니다.\n",
            "*   **최신성:** 오래된 리뷰보다는 최신 리뷰가 현재의 책에 대한 평가를 더 잘 반영할 수 있습니다. 리뷰의 작성 시점을 고려하여 최신 리뷰의 가중치를 높이는 방법을 고려할 수 있습니다.\n",
            "*   **개인화:** 사용자의 관심 분야나 이전에 읽었던 책을 기반으로 개인화된 추천을 제공하면 더욱 만족스러운 결과를 얻을 수 있습니다.\n",
            "\n",
            "**결론:**\n",
            "\n",
            "제공된 쿼리 결과는 리뷰 평점이 높은 책들을 추천하는 데 유용합니다. 하지만 리뷰 수, 최신성, 개인화와 같은 추가적인 요소를 고려한다면 더욱 정확하고 유용한 추천을 제공할 수 있을 것입니다.\n",
            "-------------\n"
          ]
        }
      ],
      "source": [
        "db_path = \"sqlite:///easy_sql.db\"\n",
        "# 데이터베이스 스키마 미리 가져오기\n",
        "db = SQLDatabase.from_uri(db_path)\n",
        "db_schema = db.get_table_info()\n",
        "\n",
        "test_queries=[\n",
        "    \"가장 많은 매출을 올린 작가의 모든 도서 목록과 재고 현황을 조회해주세요.\",\n",
        "    \"IT 분야 도서 목록 알려주세요.\",\n",
        "    \"리뷰가 좋은 책들 추천해주세요.\",\n",
        "]\n",
        "\n",
        "for test_query in test_queries:\n",
        "\n",
        "    initial_state = {\n",
        "        'query':test_query,\n",
        "        \"db_path\": db_path,\n",
        "        \"db_schema\": db_schema  # 미리 가져온 스키마 정보 설정\n",
        "    }\n",
        "    result = graph.invoke(initial_state)\n",
        "\n",
        "    print('기존 질문:', test_query)\n",
        "    print('최종 분석 결과:', result[\"final_analysis\"])\n",
        "\n",
        "    print('-------------')\n",
        "\n"
      ]
    }
  ],
  "metadata": {
    "kernelspec": {
      "display_name": "multicampus",
      "language": "python",
      "name": "python3"
    },
    "language_info": {
      "codemirror_mode": {
        "name": "ipython",
        "version": 3
      },
      "file_extension": ".py",
      "mimetype": "text/x-python",
      "name": "python",
      "nbconvert_exporter": "python",
      "pygments_lexer": "ipython3",
      "version": "3.11.7"
    },
    "colab": {
      "provenance": []
    }
  },
  "nbformat": 4,
  "nbformat_minor": 0
}