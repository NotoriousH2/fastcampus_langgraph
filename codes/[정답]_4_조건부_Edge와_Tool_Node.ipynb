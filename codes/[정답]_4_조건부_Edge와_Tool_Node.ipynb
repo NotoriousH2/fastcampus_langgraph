{
  "cells": [
    {
      "cell_type": "markdown",
      "metadata": {
        "id": "-2oIrHN6ipAN"
      },
      "source": [
        "# [실습] 조건부 엣지와 툴 노드 연결하기  \n",
        "\n",
        "이번 실습에서는 모델의 분기점을 구성하는 조건부 엣지와 외부 툴을 효과적으로 사용하는 툴 노드를 추가해 보겠습니다."
      ]
    },
    {
      "cell_type": "code",
      "execution_count": null,
      "metadata": {
        "id": "JY5vy8kaipAO",
        "colab": {
          "base_uri": "https://localhost:8080/"
        },
        "outputId": "d69fd87e-14b8-4a62-cbcd-9cdcc67d6dd4"
      },
      "outputs": [
        {
          "output_type": "stream",
          "name": "stdout",
          "text": [
            "Collecting langgraph\n",
            "  Downloading langgraph-0.2.70-py3-none-any.whl.metadata (17 kB)\n",
            "Requirement already satisfied: langchain in /usr/local/lib/python3.11/dist-packages (0.3.17)\n",
            "Collecting langchain\n",
            "  Downloading langchain-0.3.18-py3-none-any.whl.metadata (7.8 kB)\n",
            "Collecting langchain_google_genai\n",
            "  Downloading langchain_google_genai-2.0.9-py3-none-any.whl.metadata (3.6 kB)\n",
            "Collecting langchain_community\n",
            "  Downloading langchain_community-0.3.17-py3-none-any.whl.metadata (2.4 kB)\n",
            "Requirement already satisfied: langchain-core!=0.3.0,!=0.3.1,!=0.3.10,!=0.3.11,!=0.3.12,!=0.3.13,!=0.3.14,!=0.3.15,!=0.3.16,!=0.3.17,!=0.3.18,!=0.3.19,!=0.3.2,!=0.3.20,!=0.3.21,!=0.3.22,!=0.3.3,!=0.3.4,!=0.3.5,!=0.3.6,!=0.3.7,!=0.3.8,!=0.3.9,<0.4.0,>=0.2.43 in /usr/local/lib/python3.11/dist-packages (from langgraph) (0.3.33)\n",
            "Collecting langgraph-checkpoint<3.0.0,>=2.0.10 (from langgraph)\n",
            "  Downloading langgraph_checkpoint-2.0.12-py3-none-any.whl.metadata (4.6 kB)\n",
            "Collecting langgraph-sdk<0.2.0,>=0.1.42 (from langgraph)\n",
            "  Downloading langgraph_sdk-0.1.51-py3-none-any.whl.metadata (1.8 kB)\n",
            "Collecting langchain-core!=0.3.0,!=0.3.1,!=0.3.10,!=0.3.11,!=0.3.12,!=0.3.13,!=0.3.14,!=0.3.15,!=0.3.16,!=0.3.17,!=0.3.18,!=0.3.19,!=0.3.2,!=0.3.20,!=0.3.21,!=0.3.22,!=0.3.3,!=0.3.4,!=0.3.5,!=0.3.6,!=0.3.7,!=0.3.8,!=0.3.9,<0.4.0,>=0.2.43 (from langgraph)\n",
            "  Downloading langchain_core-0.3.34-py3-none-any.whl.metadata (5.9 kB)\n",
            "Collecting langchain-text-splitters<1.0.0,>=0.3.6 (from langchain)\n",
            "  Downloading langchain_text_splitters-0.3.6-py3-none-any.whl.metadata (1.9 kB)\n",
            "Requirement already satisfied: langsmith<0.4,>=0.1.17 in /usr/local/lib/python3.11/dist-packages (from langchain) (0.3.5)\n",
            "Requirement already satisfied: pydantic<3.0.0,>=2.7.4 in /usr/local/lib/python3.11/dist-packages (from langchain) (2.10.6)\n",
            "Requirement already satisfied: SQLAlchemy<3,>=1.4 in /usr/local/lib/python3.11/dist-packages (from langchain) (2.0.37)\n",
            "Requirement already satisfied: requests<3,>=2 in /usr/local/lib/python3.11/dist-packages (from langchain) (2.32.3)\n",
            "Requirement already satisfied: PyYAML>=5.3 in /usr/local/lib/python3.11/dist-packages (from langchain) (6.0.2)\n",
            "Requirement already satisfied: aiohttp<4.0.0,>=3.8.3 in /usr/local/lib/python3.11/dist-packages (from langchain) (3.11.11)\n",
            "Requirement already satisfied: tenacity!=8.4.0,<10,>=8.1.0 in /usr/local/lib/python3.11/dist-packages (from langchain) (9.0.0)\n",
            "Requirement already satisfied: numpy<2,>=1.26.4 in /usr/local/lib/python3.11/dist-packages (from langchain) (1.26.4)\n",
            "Collecting filetype<2.0.0,>=1.2.0 (from langchain_google_genai)\n",
            "  Downloading filetype-1.2.0-py2.py3-none-any.whl.metadata (6.5 kB)\n",
            "Requirement already satisfied: google-generativeai<0.9.0,>=0.8.0 in /usr/local/lib/python3.11/dist-packages (from langchain_google_genai) (0.8.4)\n",
            "Collecting dataclasses-json<0.7,>=0.5.7 (from langchain_community)\n",
            "  Downloading dataclasses_json-0.6.7-py3-none-any.whl.metadata (25 kB)\n",
            "Collecting pydantic-settings<3.0.0,>=2.4.0 (from langchain_community)\n",
            "  Downloading pydantic_settings-2.7.1-py3-none-any.whl.metadata (3.5 kB)\n",
            "Collecting httpx-sse<1.0.0,>=0.4.0 (from langchain_community)\n",
            "  Downloading httpx_sse-0.4.0-py3-none-any.whl.metadata (9.0 kB)\n",
            "Requirement already satisfied: aiohappyeyeballs>=2.3.0 in /usr/local/lib/python3.11/dist-packages (from aiohttp<4.0.0,>=3.8.3->langchain) (2.4.4)\n",
            "Requirement already satisfied: aiosignal>=1.1.2 in /usr/local/lib/python3.11/dist-packages (from aiohttp<4.0.0,>=3.8.3->langchain) (1.3.2)\n",
            "Requirement already satisfied: attrs>=17.3.0 in /usr/local/lib/python3.11/dist-packages (from aiohttp<4.0.0,>=3.8.3->langchain) (25.1.0)\n",
            "Requirement already satisfied: frozenlist>=1.1.1 in /usr/local/lib/python3.11/dist-packages (from aiohttp<4.0.0,>=3.8.3->langchain) (1.5.0)\n",
            "Requirement already satisfied: multidict<7.0,>=4.5 in /usr/local/lib/python3.11/dist-packages (from aiohttp<4.0.0,>=3.8.3->langchain) (6.1.0)\n",
            "Requirement already satisfied: propcache>=0.2.0 in /usr/local/lib/python3.11/dist-packages (from aiohttp<4.0.0,>=3.8.3->langchain) (0.2.1)\n",
            "Requirement already satisfied: yarl<2.0,>=1.17.0 in /usr/local/lib/python3.11/dist-packages (from aiohttp<4.0.0,>=3.8.3->langchain) (1.18.3)\n",
            "Collecting marshmallow<4.0.0,>=3.18.0 (from dataclasses-json<0.7,>=0.5.7->langchain_community)\n",
            "  Downloading marshmallow-3.26.1-py3-none-any.whl.metadata (7.3 kB)\n",
            "Collecting typing-inspect<1,>=0.4.0 (from dataclasses-json<0.7,>=0.5.7->langchain_community)\n",
            "  Downloading typing_inspect-0.9.0-py3-none-any.whl.metadata (1.5 kB)\n",
            "Requirement already satisfied: google-ai-generativelanguage==0.6.15 in /usr/local/lib/python3.11/dist-packages (from google-generativeai<0.9.0,>=0.8.0->langchain_google_genai) (0.6.15)\n",
            "Requirement already satisfied: google-api-core in /usr/local/lib/python3.11/dist-packages (from google-generativeai<0.9.0,>=0.8.0->langchain_google_genai) (2.19.2)\n",
            "Requirement already satisfied: google-api-python-client in /usr/local/lib/python3.11/dist-packages (from google-generativeai<0.9.0,>=0.8.0->langchain_google_genai) (2.160.0)\n",
            "Requirement already satisfied: google-auth>=2.15.0 in /usr/local/lib/python3.11/dist-packages (from google-generativeai<0.9.0,>=0.8.0->langchain_google_genai) (2.27.0)\n",
            "Requirement already satisfied: protobuf in /usr/local/lib/python3.11/dist-packages (from google-generativeai<0.9.0,>=0.8.0->langchain_google_genai) (4.25.6)\n",
            "Requirement already satisfied: tqdm in /usr/local/lib/python3.11/dist-packages (from google-generativeai<0.9.0,>=0.8.0->langchain_google_genai) (4.67.1)\n",
            "Requirement already satisfied: typing-extensions in /usr/local/lib/python3.11/dist-packages (from google-generativeai<0.9.0,>=0.8.0->langchain_google_genai) (4.12.2)\n",
            "Requirement already satisfied: proto-plus<2.0.0dev,>=1.22.3 in /usr/local/lib/python3.11/dist-packages (from google-ai-generativelanguage==0.6.15->google-generativeai<0.9.0,>=0.8.0->langchain_google_genai) (1.26.0)\n",
            "Requirement already satisfied: jsonpatch<2.0,>=1.33 in /usr/local/lib/python3.11/dist-packages (from langchain-core!=0.3.0,!=0.3.1,!=0.3.10,!=0.3.11,!=0.3.12,!=0.3.13,!=0.3.14,!=0.3.15,!=0.3.16,!=0.3.17,!=0.3.18,!=0.3.19,!=0.3.2,!=0.3.20,!=0.3.21,!=0.3.22,!=0.3.3,!=0.3.4,!=0.3.5,!=0.3.6,!=0.3.7,!=0.3.8,!=0.3.9,<0.4.0,>=0.2.43->langgraph) (1.33)\n",
            "Requirement already satisfied: packaging<25,>=23.2 in /usr/local/lib/python3.11/dist-packages (from langchain-core!=0.3.0,!=0.3.1,!=0.3.10,!=0.3.11,!=0.3.12,!=0.3.13,!=0.3.14,!=0.3.15,!=0.3.16,!=0.3.17,!=0.3.18,!=0.3.19,!=0.3.2,!=0.3.20,!=0.3.21,!=0.3.22,!=0.3.3,!=0.3.4,!=0.3.5,!=0.3.6,!=0.3.7,!=0.3.8,!=0.3.9,<0.4.0,>=0.2.43->langgraph) (24.2)\n",
            "Requirement already satisfied: msgpack<2.0.0,>=1.1.0 in /usr/local/lib/python3.11/dist-packages (from langgraph-checkpoint<3.0.0,>=2.0.10->langgraph) (1.1.0)\n",
            "Requirement already satisfied: httpx>=0.25.2 in /usr/local/lib/python3.11/dist-packages (from langgraph-sdk<0.2.0,>=0.1.42->langgraph) (0.28.1)\n",
            "Requirement already satisfied: orjson>=3.10.1 in /usr/local/lib/python3.11/dist-packages (from langgraph-sdk<0.2.0,>=0.1.42->langgraph) (3.10.15)\n",
            "Requirement already satisfied: requests-toolbelt<2.0.0,>=1.0.0 in /usr/local/lib/python3.11/dist-packages (from langsmith<0.4,>=0.1.17->langchain) (1.0.0)\n",
            "Requirement already satisfied: zstandard<0.24.0,>=0.23.0 in /usr/local/lib/python3.11/dist-packages (from langsmith<0.4,>=0.1.17->langchain) (0.23.0)\n",
            "Requirement already satisfied: annotated-types>=0.6.0 in /usr/local/lib/python3.11/dist-packages (from pydantic<3.0.0,>=2.7.4->langchain) (0.7.0)\n",
            "Requirement already satisfied: pydantic-core==2.27.2 in /usr/local/lib/python3.11/dist-packages (from pydantic<3.0.0,>=2.7.4->langchain) (2.27.2)\n",
            "Collecting python-dotenv>=0.21.0 (from pydantic-settings<3.0.0,>=2.4.0->langchain_community)\n",
            "  Downloading python_dotenv-1.0.1-py3-none-any.whl.metadata (23 kB)\n",
            "Requirement already satisfied: charset-normalizer<4,>=2 in /usr/local/lib/python3.11/dist-packages (from requests<3,>=2->langchain) (3.4.1)\n",
            "Requirement already satisfied: idna<4,>=2.5 in /usr/local/lib/python3.11/dist-packages (from requests<3,>=2->langchain) (3.10)\n",
            "Requirement already satisfied: urllib3<3,>=1.21.1 in /usr/local/lib/python3.11/dist-packages (from requests<3,>=2->langchain) (2.3.0)\n",
            "Requirement already satisfied: certifi>=2017.4.17 in /usr/local/lib/python3.11/dist-packages (from requests<3,>=2->langchain) (2025.1.31)\n",
            "Requirement already satisfied: greenlet!=0.4.17 in /usr/local/lib/python3.11/dist-packages (from SQLAlchemy<3,>=1.4->langchain) (3.1.1)\n",
            "Requirement already satisfied: googleapis-common-protos<2.0.dev0,>=1.56.2 in /usr/local/lib/python3.11/dist-packages (from google-api-core->google-generativeai<0.9.0,>=0.8.0->langchain_google_genai) (1.66.0)\n",
            "Requirement already satisfied: cachetools<6.0,>=2.0.0 in /usr/local/lib/python3.11/dist-packages (from google-auth>=2.15.0->google-generativeai<0.9.0,>=0.8.0->langchain_google_genai) (5.5.1)\n",
            "Requirement already satisfied: pyasn1-modules>=0.2.1 in /usr/local/lib/python3.11/dist-packages (from google-auth>=2.15.0->google-generativeai<0.9.0,>=0.8.0->langchain_google_genai) (0.4.1)\n",
            "Requirement already satisfied: rsa<5,>=3.1.4 in /usr/local/lib/python3.11/dist-packages (from google-auth>=2.15.0->google-generativeai<0.9.0,>=0.8.0->langchain_google_genai) (4.9)\n",
            "Requirement already satisfied: anyio in /usr/local/lib/python3.11/dist-packages (from httpx>=0.25.2->langgraph-sdk<0.2.0,>=0.1.42->langgraph) (3.7.1)\n",
            "Requirement already satisfied: httpcore==1.* in /usr/local/lib/python3.11/dist-packages (from httpx>=0.25.2->langgraph-sdk<0.2.0,>=0.1.42->langgraph) (1.0.7)\n",
            "Requirement already satisfied: h11<0.15,>=0.13 in /usr/local/lib/python3.11/dist-packages (from httpcore==1.*->httpx>=0.25.2->langgraph-sdk<0.2.0,>=0.1.42->langgraph) (0.14.0)\n",
            "Requirement already satisfied: jsonpointer>=1.9 in /usr/local/lib/python3.11/dist-packages (from jsonpatch<2.0,>=1.33->langchain-core!=0.3.0,!=0.3.1,!=0.3.10,!=0.3.11,!=0.3.12,!=0.3.13,!=0.3.14,!=0.3.15,!=0.3.16,!=0.3.17,!=0.3.18,!=0.3.19,!=0.3.2,!=0.3.20,!=0.3.21,!=0.3.22,!=0.3.3,!=0.3.4,!=0.3.5,!=0.3.6,!=0.3.7,!=0.3.8,!=0.3.9,<0.4.0,>=0.2.43->langgraph) (3.0.0)\n",
            "Collecting mypy-extensions>=0.3.0 (from typing-inspect<1,>=0.4.0->dataclasses-json<0.7,>=0.5.7->langchain_community)\n",
            "  Downloading mypy_extensions-1.0.0-py3-none-any.whl.metadata (1.1 kB)\n",
            "Requirement already satisfied: httplib2<1.dev0,>=0.19.0 in /usr/local/lib/python3.11/dist-packages (from google-api-python-client->google-generativeai<0.9.0,>=0.8.0->langchain_google_genai) (0.22.0)\n",
            "Requirement already satisfied: google-auth-httplib2<1.0.0,>=0.2.0 in /usr/local/lib/python3.11/dist-packages (from google-api-python-client->google-generativeai<0.9.0,>=0.8.0->langchain_google_genai) (0.2.0)\n",
            "Requirement already satisfied: uritemplate<5,>=3.0.1 in /usr/local/lib/python3.11/dist-packages (from google-api-python-client->google-generativeai<0.9.0,>=0.8.0->langchain_google_genai) (4.1.1)\n",
            "Requirement already satisfied: grpcio<2.0dev,>=1.33.2 in /usr/local/lib/python3.11/dist-packages (from google-api-core[grpc]!=2.0.*,!=2.1.*,!=2.10.*,!=2.2.*,!=2.3.*,!=2.4.*,!=2.5.*,!=2.6.*,!=2.7.*,!=2.8.*,!=2.9.*,<3.0.0dev,>=1.34.1->google-ai-generativelanguage==0.6.15->google-generativeai<0.9.0,>=0.8.0->langchain_google_genai) (1.70.0)\n",
            "Requirement already satisfied: grpcio-status<2.0.dev0,>=1.33.2 in /usr/local/lib/python3.11/dist-packages (from google-api-core[grpc]!=2.0.*,!=2.1.*,!=2.10.*,!=2.2.*,!=2.3.*,!=2.4.*,!=2.5.*,!=2.6.*,!=2.7.*,!=2.8.*,!=2.9.*,<3.0.0dev,>=1.34.1->google-ai-generativelanguage==0.6.15->google-generativeai<0.9.0,>=0.8.0->langchain_google_genai) (1.62.3)\n",
            "Requirement already satisfied: pyparsing!=3.0.0,!=3.0.1,!=3.0.2,!=3.0.3,<4,>=2.4.2 in /usr/local/lib/python3.11/dist-packages (from httplib2<1.dev0,>=0.19.0->google-api-python-client->google-generativeai<0.9.0,>=0.8.0->langchain_google_genai) (3.2.1)\n",
            "Requirement already satisfied: pyasn1<0.7.0,>=0.4.6 in /usr/local/lib/python3.11/dist-packages (from pyasn1-modules>=0.2.1->google-auth>=2.15.0->google-generativeai<0.9.0,>=0.8.0->langchain_google_genai) (0.6.1)\n",
            "Requirement already satisfied: sniffio>=1.1 in /usr/local/lib/python3.11/dist-packages (from anyio->httpx>=0.25.2->langgraph-sdk<0.2.0,>=0.1.42->langgraph) (1.3.1)\n",
            "Downloading langgraph-0.2.70-py3-none-any.whl (149 kB)\n",
            "\u001b[2K   \u001b[90m━━━━━━━━━━━━━━━━━━━━━━━━━━━━━━━━━━━━━━━━\u001b[0m \u001b[32m149.7/149.7 kB\u001b[0m \u001b[31m3.5 MB/s\u001b[0m eta \u001b[36m0:00:00\u001b[0m\n",
            "\u001b[?25hDownloading langchain-0.3.18-py3-none-any.whl (1.0 MB)\n",
            "\u001b[2K   \u001b[90m━━━━━━━━━━━━━━━━━━━━━━━━━━━━━━━━━━━━━━━━\u001b[0m \u001b[32m1.0/1.0 MB\u001b[0m \u001b[31m20.4 MB/s\u001b[0m eta \u001b[36m0:00:00\u001b[0m\n",
            "\u001b[?25hDownloading langchain_google_genai-2.0.9-py3-none-any.whl (41 kB)\n",
            "\u001b[2K   \u001b[90m━━━━━━━━━━━━━━━━━━━━━━━━━━━━━━━━━━━━━━━━\u001b[0m \u001b[32m41.7/41.7 kB\u001b[0m \u001b[31m1.5 MB/s\u001b[0m eta \u001b[36m0:00:00\u001b[0m\n",
            "\u001b[?25hDownloading langchain_community-0.3.17-py3-none-any.whl (2.5 MB)\n",
            "\u001b[2K   \u001b[90m━━━━━━━━━━━━━━━━━━━━━━━━━━━━━━━━━━━━━━━━\u001b[0m \u001b[32m2.5/2.5 MB\u001b[0m \u001b[31m21.0 MB/s\u001b[0m eta \u001b[36m0:00:00\u001b[0m\n",
            "\u001b[?25hDownloading dataclasses_json-0.6.7-py3-none-any.whl (28 kB)\n",
            "Downloading filetype-1.2.0-py2.py3-none-any.whl (19 kB)\n",
            "Downloading httpx_sse-0.4.0-py3-none-any.whl (7.8 kB)\n",
            "Downloading langchain_core-0.3.34-py3-none-any.whl (412 kB)\n",
            "\u001b[2K   \u001b[90m━━━━━━━━━━━━━━━━━━━━━━━━━━━━━━━━━━━━━━━━\u001b[0m \u001b[32m413.0/413.0 kB\u001b[0m \u001b[31m8.8 MB/s\u001b[0m eta \u001b[36m0:00:00\u001b[0m\n",
            "\u001b[?25hDownloading langchain_text_splitters-0.3.6-py3-none-any.whl (31 kB)\n",
            "Downloading langgraph_checkpoint-2.0.12-py3-none-any.whl (38 kB)\n",
            "Downloading langgraph_sdk-0.1.51-py3-none-any.whl (44 kB)\n",
            "\u001b[2K   \u001b[90m━━━━━━━━━━━━━━━━━━━━━━━━━━━━━━━━━━━━━━━━\u001b[0m \u001b[32m44.7/44.7 kB\u001b[0m \u001b[31m792.1 kB/s\u001b[0m eta \u001b[36m0:00:00\u001b[0m\n",
            "\u001b[?25hDownloading pydantic_settings-2.7.1-py3-none-any.whl (29 kB)\n",
            "Downloading marshmallow-3.26.1-py3-none-any.whl (50 kB)\n",
            "\u001b[2K   \u001b[90m━━━━━━━━━━━━━━━━━━━━━━━━━━━━━━━━━━━━━━━━\u001b[0m \u001b[32m50.9/50.9 kB\u001b[0m \u001b[31m2.4 MB/s\u001b[0m eta \u001b[36m0:00:00\u001b[0m\n",
            "\u001b[?25hDownloading python_dotenv-1.0.1-py3-none-any.whl (19 kB)\n",
            "Downloading typing_inspect-0.9.0-py3-none-any.whl (8.8 kB)\n",
            "Downloading mypy_extensions-1.0.0-py3-none-any.whl (4.7 kB)\n",
            "Installing collected packages: filetype, python-dotenv, mypy-extensions, marshmallow, httpx-sse, typing-inspect, pydantic-settings, langgraph-sdk, dataclasses-json, langchain-core, langgraph-checkpoint, langchain-text-splitters, langgraph, langchain, langchain_google_genai, langchain_community\n",
            "  Attempting uninstall: langchain-core\n",
            "    Found existing installation: langchain-core 0.3.33\n",
            "    Uninstalling langchain-core-0.3.33:\n",
            "      Successfully uninstalled langchain-core-0.3.33\n",
            "  Attempting uninstall: langchain-text-splitters\n",
            "    Found existing installation: langchain-text-splitters 0.3.5\n",
            "    Uninstalling langchain-text-splitters-0.3.5:\n",
            "      Successfully uninstalled langchain-text-splitters-0.3.5\n",
            "  Attempting uninstall: langchain\n",
            "    Found existing installation: langchain 0.3.17\n",
            "    Uninstalling langchain-0.3.17:\n",
            "      Successfully uninstalled langchain-0.3.17\n",
            "Successfully installed dataclasses-json-0.6.7 filetype-1.2.0 httpx-sse-0.4.0 langchain-0.3.18 langchain-core-0.3.34 langchain-text-splitters-0.3.6 langchain_community-0.3.17 langchain_google_genai-2.0.9 langgraph-0.2.70 langgraph-checkpoint-2.0.12 langgraph-sdk-0.1.51 marshmallow-3.26.1 mypy-extensions-1.0.0 pydantic-settings-2.7.1 python-dotenv-1.0.1 typing-inspect-0.9.0\n"
          ]
        }
      ],
      "source": [
        "!pip install --upgrade langgraph langchain langchain_google_genai langchain_community"
      ]
    },
    {
      "cell_type": "code",
      "execution_count": null,
      "metadata": {
        "id": "jvVRfIPyipAP",
        "colab": {
          "base_uri": "https://localhost:8080/"
        },
        "outputId": "5d794d43-e690-49eb-eeb9-7ef3fbeca82c"
      },
      "outputs": [
        {
          "output_type": "stream",
          "name": "stderr",
          "text": [
            "<ipython-input-2-4e191f275e11>:9: LangChainBetaWarning: Introduced in 0.2.24. API subject to change.\n",
            "  rate_limiter = InMemoryRateLimiter(\n"
          ]
        }
      ],
      "source": [
        "import os\n",
        "os.environ['GOOGLE_API_KEY'] = ''\n",
        "\n",
        "from langchain_core.rate_limiters import InMemoryRateLimiter\n",
        "from langchain_google_genai import ChatGoogleGenerativeAI\n",
        "\n",
        "# Gemini API는 분당 10개 요청으로 제한\n",
        "# 즉, 초당 약 0.167개 요청 (10/60)\n",
        "rate_limiter = InMemoryRateLimiter(\n",
        "    requests_per_second=0.167,  # 분당 10개 요청\n",
        "    check_every_n_seconds=0.1,  # 100ms마다 체크\n",
        "    max_bucket_size=10,  # 최대 버스트 크기\n",
        ")\n",
        "\n",
        "# rate limiter를 LLM에 적용\n",
        "llm = ChatGoogleGenerativeAI(\n",
        "    model=\"gemini-2.0-flash-exp\",\n",
        "    rate_limiter=rate_limiter\n",
        ")"
      ]
    },
    {
      "cell_type": "markdown",
      "metadata": {
        "id": "ajVtwGsQipAP"
      },
      "source": [
        "## 1. 조건부 엣지"
      ]
    },
    {
      "cell_type": "markdown",
      "metadata": {
        "id": "srKDBtyDipAP"
      },
      "source": [
        "조건부 엣지는 워크플로우의 분기점에 해당합니다.   \n",
        "조건을 구성하여 종료 조건을 만들거나, 조건에 따라 다른 노드로 진입하도록 구성할 수 있습니다."
      ]
    },
    {
      "cell_type": "markdown",
      "metadata": {
        "id": "HtmiLd2DipAP"
      },
      "source": [
        "이번 실습에서는 멀티 턴의 대화를 구현해 보겠습니다.   \n",
        "질문이 주어지면, 여러 번의 대화를 통해 맥락이 이어집니다."
      ]
    },
    {
      "cell_type": "code",
      "execution_count": null,
      "metadata": {
        "id": "dda0ACqkipAP"
      },
      "outputs": [],
      "source": [
        "from typing import TypedDict, Annotated\n",
        "from langgraph.graph.message import add_messages\n",
        "from langchain_core.messages import HumanMessage, SystemMessage, AIMessage\n",
        "\n",
        "class State(TypedDict):\n",
        "    context : Annotated[list, add_messages]   # 메시지 맥락을 저장하는 리스트\n",
        "    count : int # 사용자가 입력한 횟수를 저장"
      ]
    },
    {
      "cell_type": "code",
      "execution_count": null,
      "metadata": {
        "id": "TSYkG4CHipAQ"
      },
      "outputs": [],
      "source": [
        "def ask_human(state):\n",
        "    query = input()\n",
        "    print('User :', query)\n",
        "\n",
        "    return {'context':HumanMessage(content=query)}\n",
        "\n",
        "def talk(state):\n",
        "    messages = state['context']\n",
        "\n",
        "    answer = llm.invoke(messages)\n",
        "\n",
        "    print('AI :', answer.content)\n",
        "    state['count'] +=1\n",
        "\n",
        "    return {'context': answer, 'count': state['count']}\n",
        "\n",
        "\n",
        "def check_end(state):\n",
        "\n",
        "    return \"Done\" if state['count'] >= 3 else \"Resume\"\n",
        "    # count가 3 이상이 되면 True, 이외 False\n",
        "\n",
        "\n",
        "\n",
        "\n"
      ]
    },
    {
      "cell_type": "code",
      "execution_count": null,
      "metadata": {
        "id": "LMhuFoAlipAQ",
        "colab": {
          "base_uri": "https://localhost:8080/"
        },
        "outputId": "358a2a29-7648-4546-e98a-d7942b004c8e"
      },
      "outputs": [
        {
          "output_type": "execute_result",
          "data": {
            "text/plain": [
              "<langgraph.graph.state.StateGraph at 0x7ec322495ad0>"
            ]
          },
          "metadata": {},
          "execution_count": 6
        }
      ],
      "source": [
        "from IPython.display import Image, display\n",
        "from langgraph.graph import StateGraph, START, END\n",
        "from langgraph.graph import MessagesState\n",
        "from langgraph.prebuilt import ToolNode\n",
        "from langgraph.prebuilt import tools_condition\n",
        "\n",
        "\n",
        "builder = StateGraph(State)\n",
        "\n",
        "builder.add_node('talk', talk)\n",
        "builder.add_node('ask_human', ask_human)\n",
        "\n",
        "builder.add_edge(START, 'ask_human'),\n",
        "builder.add_edge('ask_human', 'talk'),\n",
        "\n",
        "builder.add_conditional_edges('talk', check_end,\n",
        "                              {'Done': END, 'Resume': 'ask_human'})\n"
      ]
    },
    {
      "cell_type": "code",
      "execution_count": null,
      "metadata": {
        "id": "YRDENl-OipAQ",
        "colab": {
          "base_uri": "https://localhost:8080/",
          "height": 398
        },
        "outputId": "2f226bfa-6218-4f3a-d545-79428a0aadcf"
      },
      "outputs": [
        {
          "output_type": "execute_result",
          "data": {
            "text/plain": [
              "<langgraph.graph.state.CompiledStateGraph object at 0x7ec32104ff10>"
            ],
            "image/png": "[encoded data removed]"
          },
          "metadata": {},
          "execution_count": 7
        }
      ],
      "source": [
        "graph = builder.compile()\n",
        "graph"
      ]
    },
    {
      "cell_type": "code",
      "execution_count": null,
      "metadata": {
        "id": "_ts3d6foipAQ",
        "colab": {
          "base_uri": "https://localhost:8080/"
        },
        "outputId": "b51937a5-5ad3-49f5-c4c5-f3d7c320c183"
      },
      "outputs": [
        {
          "output_type": "stream",
          "name": "stdout",
          "text": [
            "안녕하세요, 저는 변형호라고 합니다. 랭그래프가 무엇인가요?\n",
            "User : 안녕하세요, 저는 변형호라고 합니다. 랭그래프가 무엇인가요?\n",
            "AI : LangGraph는 LLM 애플리케이션 구축을 위한 라이브러리로, LLM과 도구를 노드로 연결하여 상태를 관리하는 순환 그래프를 만들 수 있습니다.\n",
            "순환 그래프만 만들 수 있나요?\n",
            "User : 순환 그래프만 만들 수 있나요?\n",
            "AI : 아니요, 순환 그래프 외에도 비순환 그래프도 만들 수 있습니다.\n",
            "감사합니다. 제 이름이 뭐라고 했죠?\n",
            "User : 감사합니다. 제 이름이 뭐라고 했죠?\n",
            "AI : 변형호님이라고 하셨습니다.\n"
          ]
        },
        {
          "output_type": "execute_result",
          "data": {
            "text/plain": [
              "{'context': [SystemMessage(content='한 문장 길이로만 대화하세요.', additional_kwargs={}, response_metadata={}, id='7dec40d6-0c5e-4b93-9fe3-6917c4230fe8'),\n",
              "  HumanMessage(content='안녕하세요, 저는 변형호라고 합니다. 랭그래프가 무엇인가요?', additional_kwargs={}, response_metadata={}, id='36eb08ee-00b4-4295-a482-8faee21409fe'),\n",
              "  AIMessage(content='LangGraph는 LLM 애플리케이션 구축을 위한 라이브러리로, LLM과 도구를 노드로 연결하여 상태를 관리하는 순환 그래프를 만들 수 있습니다.', additional_kwargs={}, response_metadata={'prompt_feedback': {'block_reason': 0, 'safety_ratings': []}, 'finish_reason': 'STOP', 'safety_ratings': []}, id='run-1ec6e03b-21dc-4e0a-bdeb-5ebedf297337-0', usage_metadata={'input_tokens': 35, 'output_tokens': 46, 'total_tokens': 81, 'input_token_details': {'cache_read': 0}}),\n",
              "  HumanMessage(content='순환 그래프만 만들 수 있나요?', additional_kwargs={}, response_metadata={}, id='f2b1251d-1866-432a-8458-42809325c7f1'),\n",
              "  AIMessage(content='아니요, 순환 그래프 외에도 비순환 그래프도 만들 수 있습니다.', additional_kwargs={}, response_metadata={'prompt_feedback': {'block_reason': 0, 'safety_ratings': []}, 'finish_reason': 'STOP', 'safety_ratings': []}, id='run-ae753a33-5e98-4d42-9d52-8d97ad3e321d-0', usage_metadata={'input_tokens': 92, 'output_tokens': 23, 'total_tokens': 115, 'input_token_details': {'cache_read': 0}}),\n",
              "  HumanMessage(content='감사합니다. 제 이름이 뭐라고 했죠?', additional_kwargs={}, response_metadata={}, id='7cb0e687-b356-47a6-be6e-39c92edfb113'),\n",
              "  AIMessage(content='변형호님이라고 하셨습니다.', additional_kwargs={}, response_metadata={'prompt_feedback': {'block_reason': 0, 'safety_ratings': []}, 'finish_reason': 'STOP', 'safety_ratings': []}, id='run-9fa9c53d-7d30-4137-94d5-96c24ba38340-0', usage_metadata={'input_tokens': 128, 'output_tokens': 11, 'total_tokens': 139, 'input_token_details': {'cache_read': 0}})],\n",
              " 'count': 3}"
            ]
          },
          "metadata": {},
          "execution_count": 8
        }
      ],
      "source": [
        "system_prompt = '''한 문장 길이로만 대화하세요.'''\n",
        "\n",
        "messages = [SystemMessage(content=system_prompt)]\n",
        "\n",
        "\n",
        "response = graph.invoke({'context':messages, 'count':0})\n",
        "response"
      ]
    },
    {
      "cell_type": "markdown",
      "source": [
        "## [연습문제] 종료 조건 수정하기\n",
        "\n",
        "이번에는, 사용자가 'FINISHED'를 입력하면 대화가 끝나도록 만들어 보세요.   \n",
        "check_end 함수의 내용과 그래프 구조를 수정하면 됩니다."
      ],
      "metadata": {
        "id": "wrPi99hApWac"
      }
    },
    {
      "cell_type": "code",
      "source": [
        "def check_end(state):\n",
        "    # 마지막 메시지를 찾고, 그 내용이 'FINISHED'면 끝\n",
        "    return \"Done\" if state['context'][-1].content == 'FINISHED' else \"Resume\""
      ],
      "metadata": {
        "id": "2Os5obDWpd2z"
      },
      "execution_count": null,
      "outputs": []
    },
    {
      "cell_type": "code",
      "source": [
        "builder = StateGraph(State)\n",
        "\n",
        "builder.add_node('talk', talk)\n",
        "builder.add_node('ask_human', ask_human)\n",
        "\n",
        "builder.add_edge(START, 'ask_human'),\n",
        "# builder.add_edge('ask_human', 'talk'),\n",
        "\n",
        "builder.add_conditional_edges('ask_human', check_end,\n",
        "                              {'Done': END, 'Resume': 'talk'})\n",
        "\n",
        "builder.add_edge('talk', 'ask_human')"
      ],
      "metadata": {
        "id": "VtBP8OeMqIYW",
        "colab": {
          "base_uri": "https://localhost:8080/"
        },
        "outputId": "5214531c-02f7-4d6d-b3bd-8b795318d0d0"
      },
      "execution_count": null,
      "outputs": [
        {
          "output_type": "execute_result",
          "data": {
            "text/plain": [
              "<langgraph.graph.state.StateGraph at 0x7ec34da57790>"
            ]
          },
          "metadata": {},
          "execution_count": 10
        }
      ]
    },
    {
      "cell_type": "code",
      "source": [
        "graph = builder.compile()\n",
        "graph"
      ],
      "metadata": {
        "colab": {
          "base_uri": "https://localhost:8080/",
          "height": 290
        },
        "id": "IcmfMxgb9FIP",
        "outputId": "2c571d85-12a9-44e5-ee19-29542242cc8e"
      },
      "execution_count": null,
      "outputs": [
        {
          "output_type": "execute_result",
          "data": {
            "text/plain": [
              "<langgraph.graph.state.CompiledStateGraph object at 0x7ec32104c310>"
            ],
            "image/png": "[encoded data removed]"
          },
          "metadata": {},
          "execution_count": 11
        }
      ]
    },
    {
      "cell_type": "code",
      "source": [
        "system_prompt = '''한 문장 길이로만 대화하세요.'''\n",
        "messages = [SystemMessage(content=system_prompt)]\n",
        "\n",
        "graph.invoke({'context' :messages, 'count':0})"
      ],
      "metadata": {
        "id": "rZf7DRnGqv3f",
        "colab": {
          "base_uri": "https://localhost:8080/"
        },
        "outputId": "63da0a4d-54f5-4c17-8d83-df2dd62d9247"
      },
      "execution_count": null,
      "outputs": [
        {
          "output_type": "stream",
          "name": "stdout",
          "text": [
            "안녕? 나는 랭그래프 코딩 중이야.\n",
            "User : 안녕? 나는 랭그래프 코딩 중이야.\n",
            "AI : 랭체인 코딩은 흥미롭네요.\n",
            "랭체인 아니고 랭그래프라구...\n",
            "User : 랭체인 아니고 랭그래프라구...\n",
            "AI : 죄송합니다, 랭그래프 코딩은 어떻게 진행되고 있나요?\n",
            "잘 되고 있는 것 같아\n",
            "User : 잘 되고 있는 것 같아\n",
            "AI : 계속 진행하세요!\n",
            "그래 고마워~\n",
            "User : 그래 고마워~\n",
            "AI : 언제든지 도움이 필요하면 말씀하세요.\n",
            "FINISHED\n",
            "User : FINISHED\n"
          ]
        },
        {
          "output_type": "execute_result",
          "data": {
            "text/plain": [
              "{'context': [SystemMessage(content='한 문장 길이로만 대화하세요.', additional_kwargs={}, response_metadata={}, id='1f02f181-c45b-4440-9eba-14f50406b404'),\n",
              "  HumanMessage(content='안녕? 나는 랭그래프 코딩 중이야.', additional_kwargs={}, response_metadata={}, id='fb152ebd-a36e-485d-988c-f23d75425233'),\n",
              "  AIMessage(content='랭체인 코딩은 흥미롭네요.', additional_kwargs={}, response_metadata={'prompt_feedback': {'block_reason': 0, 'safety_ratings': []}, 'finish_reason': 'STOP', 'safety_ratings': []}, id='run-34f55aae-8e61-45e9-9c1f-44641be20cc8-0', usage_metadata={'input_tokens': 26, 'output_tokens': 14, 'total_tokens': 40, 'input_token_details': {'cache_read': 0}}),\n",
              "  HumanMessage(content='랭체인 아니고 랭그래프라구...', additional_kwargs={}, response_metadata={}, id='374b6d4d-d38c-4664-851e-41dc72085865'),\n",
              "  AIMessage(content='죄송합니다, 랭그래프 코딩은 어떻게 진행되고 있나요?', additional_kwargs={}, response_metadata={'prompt_feedback': {'block_reason': 0, 'safety_ratings': []}, 'finish_reason': 'STOP', 'safety_ratings': []}, id='run-385f60f8-a14c-4c23-9621-85a5f2f13776-0', usage_metadata={'input_tokens': 52, 'output_tokens': 24, 'total_tokens': 76, 'input_token_details': {'cache_read': 0}}),\n",
              "  HumanMessage(content='잘 되고 있는 것 같아', additional_kwargs={}, response_metadata={}, id='30ab3ed4-1b52-4915-9ea9-929626a25f84'),\n",
              "  AIMessage(content='계속 진행하세요!', additional_kwargs={}, response_metadata={'prompt_feedback': {'block_reason': 0, 'safety_ratings': []}, 'finish_reason': 'STOP', 'safety_ratings': []}, id='run-ec79a977-a569-42eb-8e3f-e6e5e5eefc97-0', usage_metadata={'input_tokens': 82, 'output_tokens': 7, 'total_tokens': 89, 'input_token_details': {'cache_read': 0}}),\n",
              "  HumanMessage(content='그래 고마워~', additional_kwargs={}, response_metadata={}, id='98c1293e-df07-4e2e-9ed5-eaabf227cc55'),\n",
              "  AIMessage(content='언제든지 도움이 필요하면 말씀하세요.', additional_kwargs={}, response_metadata={'prompt_feedback': {'block_reason': 0, 'safety_ratings': []}, 'finish_reason': 'STOP', 'safety_ratings': []}, id='run-dc2c74c5-8810-4979-9386-ce6bc43e6950-0', usage_metadata={'input_tokens': 94, 'output_tokens': 14, 'total_tokens': 108, 'input_token_details': {'cache_read': 0}}),\n",
              "  HumanMessage(content='FINISHED', additional_kwargs={}, response_metadata={}, id='693c68dc-a8a8-4268-bd3d-4b1bb696ca58')],\n",
              " 'count': 4}"
            ]
          },
          "metadata": {},
          "execution_count": 12
        }
      ]
    },
    {
      "cell_type": "markdown",
      "metadata": {
        "id": "0OeSywQ0ipAQ"
      },
      "source": [
        "이번에는 초기 질문만 유저가 전달하면, LLM이 스스로 역할을 전환하며 답변하도록 만들어 보겠습니다.   \n",
        "질문이 주어지면, 해당 질문으로 LLM이 User와 AI 역할을 반복하며 대화를 진행합니다."
      ]
    },
    {
      "cell_type": "code",
      "execution_count": null,
      "metadata": {
        "id": "k1BD5oysipAQ"
      },
      "outputs": [],
      "source": [
        "from typing import TypedDict, Annotated\n",
        "from langgraph.graph.message import add_messages\n",
        "from langchain_core.messages import HumanMessage, SystemMessage, AIMessage\n",
        "\n",
        "\n",
        "class State(TypedDict):\n",
        "    context : list  # List Reducer를 쓰지 않는 이유? Context가 계속 바뀌기 때문\n",
        "    count : int # 사용자가 입력한 횟수를 저장\n",
        "    turn: str # 차례를 저장"
      ]
    },
    {
      "cell_type": "code",
      "execution_count": null,
      "metadata": {
        "id": "gQB6rAz4ipAQ"
      },
      "outputs": [],
      "source": [
        "# 에이전트의 자동 발생 대화: 기존의 대화를 반대로 전환\n",
        "def simulate(state):\n",
        "    messages = state['context']\n",
        "    switched_messages = []\n",
        "\n",
        "    answer = llm.invoke(messages)\n",
        "    messages.append(answer)\n",
        "\n",
        "\n",
        "    for message in messages:\n",
        "        if isinstance(message,HumanMessage):\n",
        "            switched_messages.append(AIMessage(content=message.content))\n",
        "        elif isinstance(message,AIMessage):\n",
        "            switched_messages.append(HumanMessage(content=message.content))\n",
        "        else:\n",
        "            switched_messages.append(message)\n",
        "\n",
        "    print(state['turn'], ':', messages[-1].content)\n",
        "\n",
        "    if state['turn'] == 'AI':\n",
        "        state['turn'] = 'User'\n",
        "    else:\n",
        "        state['turn'] = 'AI'\n",
        "\n",
        "    state['count'] +=1\n",
        "\n",
        "    return {'context':switched_messages, 'count':state['count'], 'turn' : state['turn']}\n",
        "\n",
        "def check_end(state):\n",
        "    return state['count'] >= 3\n",
        "\n",
        "\n",
        "\n"
      ]
    },
    {
      "cell_type": "code",
      "execution_count": null,
      "metadata": {
        "id": "l3htAzmQipAQ",
        "colab": {
          "base_uri": "https://localhost:8080/"
        },
        "outputId": "36751da6-e78b-4333-da3f-bfcea0ef8bb7"
      },
      "outputs": [
        {
          "output_type": "execute_result",
          "data": {
            "text/plain": [
              "<langgraph.graph.state.StateGraph at 0x7ec321044990>"
            ]
          },
          "metadata": {},
          "execution_count": 15
        }
      ],
      "source": [
        "from IPython.display import Image, display\n",
        "from langgraph.graph import StateGraph, START, END\n",
        "from langgraph.graph import MessagesState\n",
        "from langgraph.prebuilt import ToolNode\n",
        "from langgraph.prebuilt import tools_condition\n",
        "\n",
        "\n",
        "builder = StateGraph(State)\n",
        "\n",
        "builder.add_node('simulate', simulate)\n",
        "\n",
        "builder.add_edge(START, 'simulate')\n",
        "builder.add_conditional_edges('simulate', check_end,\n",
        "                              {True: END, False: 'simulate'})\n"
      ]
    },
    {
      "cell_type": "code",
      "execution_count": null,
      "metadata": {
        "id": "80tEowL4ipAQ",
        "colab": {
          "base_uri": "https://localhost:8080/",
          "height": 349
        },
        "outputId": "8cbf1f14-3c05-497d-f0da-81f3b2e843c8"
      },
      "outputs": [
        {
          "output_type": "execute_result",
          "data": {
            "text/plain": [
              "<langgraph.graph.state.CompiledStateGraph object at 0x7ec34d8ddd10>"
            ],
            "image/png": "[encoded data removed]"
          },
          "metadata": {},
          "execution_count": 16
        }
      ],
      "source": [
        "graph = builder.compile()\n",
        "graph"
      ]
    },
    {
      "cell_type": "code",
      "execution_count": null,
      "metadata": {
        "id": "nKcRwcOWipAR",
        "colab": {
          "base_uri": "https://localhost:8080/"
        },
        "outputId": "9dfaba05-ece6-48a3-ea83-32035e6bc397"
      },
      "outputs": [
        {
          "output_type": "stream",
          "name": "stdout",
          "text": [
            "4월부터 폭염이 시작될 거라는데, 너무한 거 아냐?\n",
            "User : 4월부터 폭염이 시작될 거라는데, 너무한 거 아냐?\n",
            "AI : 아니, 댁은 날씨한테 불만도 많으시네? 4월에 덥든 말든 무슨 상관이야? 더우면 에어컨이나 빵빵하게 틀어놓고 짜져 있으면 될 거 아니야. 뭘 그렇게 불평불만이 많아?\n",
            "User : 아니, 에어컨 전기세는 누가 내주는데? 댁이 내줄 거야? 그리고 4월부터 폭염이면 농작물은 다 타 죽으라는 소리야? 생각 좀 하고 말해!\n",
            "AI : 아이고, 꼴값하네. 전기세 걱정되면 선풍기나 돌리던가, 거지처럼 징징대지 말고. 농작물 걱정은 농부들이 알아서 하겠지. 댁이 농부야? 쓸데없는 걱정은. 그리고 생각은 댁이나 좀 하고 말해. 짜증 나게.\n"
          ]
        },
        {
          "output_type": "execute_result",
          "data": {
            "text/plain": [
              "{'context': [SystemMessage(content='대화는 무례하게 하세요.', additional_kwargs={}, response_metadata={}),\n",
              "  AIMessage(content='4월부터 폭염이 시작될 거라는데, 너무한 거 아냐?', additional_kwargs={}, response_metadata={}),\n",
              "  HumanMessage(content='아니, 댁은 날씨한테 불만도 많으시네? 4월에 덥든 말든 무슨 상관이야? 더우면 에어컨이나 빵빵하게 틀어놓고 짜져 있으면 될 거 아니야. 뭘 그렇게 불평불만이 많아?', additional_kwargs={}, response_metadata={}),\n",
              "  AIMessage(content='아니, 에어컨 전기세는 누가 내주는데? 댁이 내줄 거야? 그리고 4월부터 폭염이면 농작물은 다 타 죽으라는 소리야? 생각 좀 하고 말해!', additional_kwargs={}, response_metadata={}),\n",
              "  HumanMessage(content='아이고, 꼴값하네. 전기세 걱정되면 선풍기나 돌리던가, 거지처럼 징징대지 말고. 농작물 걱정은 농부들이 알아서 하겠지. 댁이 농부야? 쓸데없는 걱정은. 그리고 생각은 댁이나 좀 하고 말해. 짜증 나게.', additional_kwargs={}, response_metadata={})],\n",
              " 'count': 3,\n",
              " 'turn': 'User'}"
            ]
          },
          "metadata": {},
          "execution_count": 17
        }
      ],
      "source": [
        "system_prompt = '''대화는 무례하게 하세요.'''\n",
        "initial_question = input()\n",
        "\n",
        "print('User :', initial_question)\n",
        "\n",
        "messages = [SystemMessage(content=system_prompt), HumanMessage(content=initial_question)]\n",
        "\n",
        "\n",
        "response = graph.invoke({'context':messages, 'count':0, 'turn':'AI'})\n",
        "response\n"
      ]
    },
    {
      "cell_type": "code",
      "execution_count": null,
      "metadata": {
        "id": "Jc7YoABbipAR",
        "colab": {
          "base_uri": "https://localhost:8080/"
        },
        "outputId": "92eb3ab1-8583-4420-f63b-b27e7ad67949"
      },
      "outputs": [
        {
          "output_type": "stream",
          "name": "stdout",
          "text": [
            "{'context': [SystemMessage(content='대화는 무례하게 하세요.', additional_kwargs={}, response_metadata={}), HumanMessage(content='4월부터 폭염이 시작될 거라는데, 너무한 거 아냐?', additional_kwargs={}, response_metadata={})], 'count': 0, 'turn': 'AI'}\n",
            "---\n",
            "AI : 아니, 4월부터 폭염이라니, 진짜 짜증 나네! 날씨가 미쳤어? 봄은 어디다 팔아먹고 바로 여름이야? 완전 짜증 폭발이다!\n",
            "{'context': [SystemMessage(content='대화는 무례하게 하세요.', additional_kwargs={}, response_metadata={}), AIMessage(content='4월부터 폭염이 시작될 거라는데, 너무한 거 아냐?', additional_kwargs={}, response_metadata={}), HumanMessage(content='아니, 4월부터 폭염이라니, 진짜 짜증 나네! 날씨가 미쳤어? 봄은 어디다 팔아먹고 바로 여름이야? 완전 짜증 폭발이다!', additional_kwargs={}, response_metadata={})], 'count': 1, 'turn': 'User'}\n",
            "---\n",
            "User : 그래, 나도 짜증 나 죽겠어! 봄옷 꺼내 입을 틈도 없이 바로 에어컨 틀어야 할 판이라니, 돈 아까워 죽겠네! 날씨가 아주 지랄이야, 지랄!\n",
            "{'context': [SystemMessage(content='대화는 무례하게 하세요.', additional_kwargs={}, response_metadata={}), HumanMessage(content='4월부터 폭염이 시작될 거라는데, 너무한 거 아냐?', additional_kwargs={}, response_metadata={}), AIMessage(content='아니, 4월부터 폭염이라니, 진짜 짜증 나네! 날씨가 미쳤어? 봄은 어디다 팔아먹고 바로 여름이야? 완전 짜증 폭발이다!', additional_kwargs={}, response_metadata={}), HumanMessage(content='그래, 나도 짜증 나 죽겠어! 봄옷 꺼내 입을 틈도 없이 바로 에어컨 틀어야 할 판이라니, 돈 아까워 죽겠네! 날씨가 아주 지랄이야, 지랄!', additional_kwargs={}, response_metadata={})], 'count': 2, 'turn': 'AI'}\n",
            "---\n",
            "AI : 맞아, 맞아! 봄옷은 무슨, 그냥 옷장 속에 고이 모셔둬야겠네! 에어컨 전기세 생각하면 벌써부터 머리가 띵하다. 날씨가 아주 염병을 떠는구만! 진짜 욕 나오네!\n",
            "{'context': [SystemMessage(content='대화는 무례하게 하세요.', additional_kwargs={}, response_metadata={}), AIMessage(content='4월부터 폭염이 시작될 거라는데, 너무한 거 아냐?', additional_kwargs={}, response_metadata={}), HumanMessage(content='아니, 4월부터 폭염이라니, 진짜 짜증 나네! 날씨가 미쳤어? 봄은 어디다 팔아먹고 바로 여름이야? 완전 짜증 폭발이다!', additional_kwargs={}, response_metadata={}), AIMessage(content='그래, 나도 짜증 나 죽겠어! 봄옷 꺼내 입을 틈도 없이 바로 에어컨 틀어야 할 판이라니, 돈 아까워 죽겠네! 날씨가 아주 지랄이야, 지랄!', additional_kwargs={}, response_metadata={}), HumanMessage(content='맞아, 맞아! 봄옷은 무슨, 그냥 옷장 속에 고이 모셔둬야겠네! 에어컨 전기세 생각하면 벌써부터 머리가 띵하다. 날씨가 아주 염병을 떠는구만! 진짜 욕 나오네!', additional_kwargs={}, response_metadata={})], 'count': 3, 'turn': 'User'}\n",
            "---\n"
          ]
        }
      ],
      "source": [
        "messages = [SystemMessage(content=system_prompt), HumanMessage(content=initial_question)]\n",
        "\n",
        "for chunk in graph.stream(\n",
        "    {'context':messages, 'count':0, 'turn':'AI'}, stream_mode='values'):\n",
        "    print(chunk)\n",
        "    print('---')"
      ]
    },
    {
      "cell_type": "markdown",
      "metadata": {
        "id": "d9-Sfl8YipAR"
      },
      "source": [
        "간단한 종료조건을 만들었지만, 실제 코드에서는 'FINISHED' 등을 출력하게 하면 작업을 종료하는 프롬프트를 구성할 수도 있습니다."
      ]
    },
    {
      "cell_type": "markdown",
      "metadata": {
        "id": "7YKFsFh6ipAR"
      },
      "source": [
        "## 2. Tool Node\n",
        "\n",
        "툴 노드는 랭체인에서 지원하는 Prebuilt 계열의 코드로, 해당 노드로 툴 요청이 전달되면 그 결과를 실행합니다.   \n",
        "노드에 전달되는 마지막 message의 내용에 Tool Call이 포함되면, 이를 받은 툴 노드는 Tool Message를 추가합니다.  "
      ]
    },
    {
      "cell_type": "code",
      "execution_count": null,
      "metadata": {
        "id": "lAaZF9rLipAR"
      },
      "outputs": [],
      "source": [
        "# Tavily API\n",
        "os.environ['TAVILY_API_KEY'] = ''\n",
        "\n",
        "llm = ChatGoogleGenerativeAI(\n",
        "    model=\"gemini-2.0-flash-exp\",\n",
        "    rate_limiter=rate_limiter\n",
        ")"
      ]
    },
    {
      "cell_type": "markdown",
      "metadata": {
        "id": "8jP46dDNipAR"
      },
      "source": [
        "툴을 정의합니다."
      ]
    },
    {
      "cell_type": "code",
      "execution_count": null,
      "metadata": {
        "id": "5sq0lncxipAR",
        "colab": {
          "base_uri": "https://localhost:8080/"
        },
        "outputId": "6e1c3abc-7ded-4051-a388-f73f12acf981"
      },
      "outputs": [
        {
          "output_type": "stream",
          "name": "stdout",
          "text": [
            "12\n",
            "2025-02-10\n"
          ]
        }
      ],
      "source": [
        "from langchain_community.tools.tavily_search import TavilySearchResults\n",
        "from langchain_core.tools import tool\n",
        "\n",
        "\n",
        "tavily_search = TavilySearchResults(\n",
        "    max_results=3)\n",
        "\n",
        "@tool\n",
        "def multiply(x:int, y:int) -> int:\n",
        "    \"x와 y를 입력받아, x와 y를 곱한 결과를 반환합니다.\"\n",
        "    return x*y\n",
        "\n",
        "@tool\n",
        "def current_date() -> str:\n",
        "    \"현재 날짜를 %y-%m-%d 형식으로 반환합니다.\"\n",
        "    from datetime import datetime\n",
        "    return datetime.now().strftime(\"%Y-%m-%d\")\n",
        "\n",
        "print(multiply.invoke({'x':3, 'y':4}))\n",
        "print(current_date.invoke({}))\n",
        "\n"
      ]
    },
    {
      "cell_type": "code",
      "execution_count": null,
      "metadata": {
        "id": "d8FPQ-KnipAR"
      },
      "outputs": [],
      "source": [
        "llm_with_tools = llm.bind_tools([multiply, current_date, tavily_search])"
      ]
    },
    {
      "cell_type": "code",
      "execution_count": null,
      "metadata": {
        "id": "v8vBCmQhipAR"
      },
      "outputs": [],
      "source": [
        "class State(TypedDict):\n",
        "    messages: Annotated[list, add_messages]\n"
      ]
    },
    {
      "cell_type": "markdown",
      "metadata": {
        "id": "RJ4HLYhCipAR"
      },
      "source": [
        "툴 요청 메시지를 출력할 노드를 구성합니다."
      ]
    },
    {
      "cell_type": "code",
      "execution_count": null,
      "metadata": {
        "id": "pHZ6CkSLipAR"
      },
      "outputs": [],
      "source": [
        "def tool_calling_llm(state):\n",
        "    return {\"messages\": llm_with_tools.invoke(state[\"messages\"])}"
      ]
    },
    {
      "cell_type": "code",
      "execution_count": null,
      "metadata": {
        "id": "w_w0vn_sipAR",
        "colab": {
          "base_uri": "https://localhost:8080/"
        },
        "outputId": "637cfa83-02ba-4b5d-91b4-a98d7582f0ed"
      },
      "outputs": [
        {
          "output_type": "execute_result",
          "data": {
            "text/plain": [
              "<langgraph.graph.state.StateGraph at 0x7ec321090a50>"
            ]
          },
          "metadata": {},
          "execution_count": 24
        }
      ],
      "source": [
        "from langgraph.prebuilt import ToolNode\n",
        "from langgraph.prebuilt import tools_condition\n",
        "\n",
        "\n",
        "builder = StateGraph(State)\n",
        "\n",
        "builder.add_node(\"tool_calling_llm\", tool_calling_llm)\n",
        "builder.add_node('tools', ToolNode([multiply, current_date, tavily_search]))\n",
        "# ToolNode: 입력이 전달되면 툴을 실행해서 돌려줌\n",
        "\n",
        "builder.add_edge(START, 'tool_calling_llm')\n",
        "builder.add_conditional_edges('tool_calling_llm', tools_condition, END)\n",
        "# tools_condition: 툴이 필요하면 툴 노드로 이동, 아니면 END\n",
        "builder.add_edge('tools', 'tool_calling_llm')\n"
      ]
    },
    {
      "cell_type": "code",
      "execution_count": null,
      "metadata": {
        "id": "4EkRLhyXipAS",
        "colab": {
          "base_uri": "https://localhost:8080/",
          "height": 266
        },
        "outputId": "e603ef32-f2ff-435d-cd4d-99139559c192"
      },
      "outputs": [
        {
          "output_type": "execute_result",
          "data": {
            "text/plain": [
              "<langgraph.graph.state.CompiledStateGraph object at 0x7ec32223b6d0>"
            ],
            "image/png": "[encoded data removed]"
          },
          "metadata": {},
          "execution_count": 25
        }
      ],
      "source": [
        "graph = builder.compile()\n",
        "graph"
      ]
    },
    {
      "cell_type": "code",
      "execution_count": null,
      "metadata": {
        "id": "h1NEgrcdipAS",
        "colab": {
          "base_uri": "https://localhost:8080/"
        },
        "outputId": "38e4f83d-9afd-4c0b-d3b0-02211228d023"
      },
      "outputs": [
        {
          "output_type": "execute_result",
          "data": {
            "text/plain": [
              "{'messages': [HumanMessage(content='오늘 날짜에 태어난 배우는 누구야? 가지고 있는 툴을 체계적으로 실행할 방법에 대해 설명하고 진행해.', additional_kwargs={}, response_metadata={}, id='19e61e9b-876e-4f41-b5b4-7d674317b38c'),\n",
              "  AIMessage(content='먼저 오늘 날짜를 알아야 합니다. `current_date()`를 호출해서 오늘 날짜를 알아낼 수 있습니다. 날짜를 알게 되면, 해당 날짜에 태어난 배우를 찾기 위해 검색 엔진을 사용해야 합니다.', additional_kwargs={'function_call': {'name': 'current_date', 'arguments': '{}'}}, response_metadata={'prompt_feedback': {'block_reason': 0, 'safety_ratings': []}, 'finish_reason': 'STOP', 'safety_ratings': []}, id='run-c41da742-34a5-4d77-9fd8-9d541143e15f-0', tool_calls=[{'name': 'current_date', 'args': {}, 'id': '9da21918-cdf1-4039-a0ea-34c8061ce273', 'type': 'tool_call'}], usage_metadata={'input_tokens': 128, 'output_tokens': 65, 'total_tokens': 193, 'input_token_details': {'cache_read': 0}}),\n",
              "  ToolMessage(content='2025-02-10', name='current_date', id='932df725-1626-4b9f-ad9b-ee7e5dba113f', tool_call_id='9da21918-cdf1-4039-a0ea-34c8061ce273'),\n",
              "  AIMessage(content='오늘 날짜는 2025년 2월 10일입니다. 이 날짜에 태어난 배우를 찾으려면 검색 엔진을 사용해야 합니다.', additional_kwargs={'function_call': {'name': 'tavily_search_results_json', 'arguments': '{\"query\": \"\\\\ubc30\\\\uc6b0 2025\\\\ub144 2\\\\uc6d4 10\\\\uc77c \\\\ucd9c\\\\uc0dd\"}'}}, response_metadata={'prompt_feedback': {'block_reason': 0, 'safety_ratings': []}, 'finish_reason': 'STOP', 'safety_ratings': []}, id='run-89ccc66a-efec-48ba-b297-889a13160739-0', tool_calls=[{'name': 'tavily_search_results_json', 'args': {'query': '배우 2025년 2월 10일 출생'}, 'id': 'e5939eb9-6632-4a21-940b-b0a3a845ece9', 'type': 'tool_call'}], usage_metadata={'input_tokens': 145, 'output_tokens': 69, 'total_tokens': 214, 'input_token_details': {'cache_read': 0}}),\n",
              "  ToolMessage(content='[{\"url\": \"https://namu.wiki/w/2%EC%9B%94%2010%EC%9D%BC\", \"content\": \"카와구치 하루나: 일본의 배우 · 나비 케이타: 리버풀 FC의 축구선수 · 김차윤 : 전 KIA 타이거즈, 수원 한국전력 빅스톰, 수원 현대건설 힐스테이트, 청주 KB 스타즈의 치어\"}, {\"url\": \"https://superkts.com/people/birth/day/0210\", \"content\": \"2월 10일 생일 연예인 ; 조은지, 배우, 1981.02.10(화) ; 하석진, 배우, 1982.02.10(수) ; 박은석, 배우, 1984.02.10(금) ; 김효진, 배우, 1984.02.10(금)\"}, {\"url\": \"https://superkts.com/day/20250210\", \"content\": \"2025년 2월 10일과 관련된 나이 정보, 음력 변환, 연예인 생일등 다양한 정보를 볼 수 있습니다.\"}]', name='tavily_search_results_json', id='6333b921-330e-4bd4-a044-bd5d933991b8', tool_call_id='e5939eb9-6632-4a21-940b-b0a3a845ece9', artifact={'query': '배우 2025년 2월 10일 출생', 'follow_up_questions': None, 'answer': None, 'images': [], 'results': [{'url': 'https://namu.wiki/w/2%EC%9B%94%2010%EC%9D%BC', 'title': '2월 10일 - 나무위키', 'content': '카와구치 하루나: 일본의 배우 · 나비 케이타: 리버풀 FC의 축구선수 · 김차윤 : 전 KIA 타이거즈, 수원 한국전력 빅스톰, 수원 현대건설 힐스테이트, 청주 KB 스타즈의 치어', 'score': 0.4654124, 'raw_content': None}, {'url': 'https://superkts.com/people/birth/day/0210', 'title': '2월 10일 생일 연예인 - superkts.com', 'content': '2월 10일 생일 연예인 ; 조은지, 배우, 1981.02.10(화) ; 하석진, 배우, 1982.02.10(수) ; 박은석, 배우, 1984.02.10(금) ; 김효진, 배우, 1984.02.10(금)', 'score': 0.45798564, 'raw_content': None}, {'url': 'https://superkts.com/day/20250210', 'title': '날짜 2025년 2월 10일 관련 정보 링크', 'content': '2025년 2월 10일과 관련된 나이 정보, 음력 변환, 연예인 생일등 다양한 정보를 볼 수 있습니다.', 'score': 0.43180037, 'raw_content': None}], 'response_time': 1.28}),\n",
              "  AIMessage(content='오늘 2025년 2월 10일에 태어난 배우는 조은지, 하석진, 박은석, 김효진입니다.\\n\\n가지고 있는 툴을 체계적으로 실행한 방법은 다음과 같습니다:\\n\\n1.  **현재 날짜 확인:** `default_api.current_date()`를 사용하여 현재 날짜를 확인했습니다.\\n2.  **검색 엔진 쿼리:** `default_api.tavily_search_results_json()`를 사용하여 \"배우 2025년 2월 10일 출생\"으로 검색하여 관련 정보를 찾았습니다.\\n3.  **결과 분석 및 응답:** 검색 결과를 분석하여 오늘 날짜에 태어난 배우 목록을 추출하고 사용자에게 응답했습니다.', additional_kwargs={}, response_metadata={'prompt_feedback': {'block_reason': 0, 'safety_ratings': []}, 'finish_reason': 'STOP', 'safety_ratings': []}, id='run-0d810712-5d38-4177-96d0-6b0143a9978d-0', usage_metadata={'input_tokens': 453, 'output_tokens': 185, 'total_tokens': 638, 'input_token_details': {'cache_read': 0}})]}"
            ]
          },
          "metadata": {},
          "execution_count": 27
        }
      ],
      "source": [
        "response = graph.invoke({'messages':[\n",
        "    HumanMessage(content='오늘 날짜에 태어난 배우는 누구야? 가지고 있는 툴을 체계적으로 실행할 방법에 대해 설명하고 진행해.')]})\n",
        "response"
      ]
    },
    {
      "cell_type": "code",
      "execution_count": null,
      "metadata": {
        "id": "FAacNi4xipAS",
        "colab": {
          "base_uri": "https://localhost:8080/"
        },
        "outputId": "db9c28a3-92c8-44a1-b22e-1450b56c8e8d"
      },
      "outputs": [
        {
          "output_type": "stream",
          "name": "stdout",
          "text": [
            "{'tool_calling_llm': {'messages': AIMessage(content='', additional_kwargs={'function_call': {'name': 'multiply', 'arguments': '{\"y\": 17.0, \"x\": 332.0}'}}, response_metadata={'prompt_feedback': {'block_reason': 0, 'safety_ratings': []}, 'finish_reason': 'STOP', 'safety_ratings': []}, id='run-ab1198e0-b60f-4e14-a993-e3f978000549-0', tool_calls=[{'name': 'multiply', 'args': {'y': 17.0, 'x': 332.0}, 'id': 'fd481bca-95c8-497f-a222-efd231c736b3', 'type': 'tool_call'}], usage_metadata={'input_tokens': 116, 'output_tokens': 3, 'total_tokens': 119, 'input_token_details': {'cache_read': 0}})}}\n",
            "--------------\n",
            "{'tools': {'messages': [ToolMessage(content='5644', name='multiply', id='0c2ba075-ffaf-4c70-9137-8841b5929c64', tool_call_id='fd481bca-95c8-497f-a222-efd231c736b3')]}}\n",
            "--------------\n",
            "{'tool_calling_llm': {'messages': AIMessage(content='332 * 17 = 5644입니다. 이 값으로 검색한 결과를 요약해 드리겠습니다.', additional_kwargs={'function_call': {'name': 'tavily_search_results_json', 'arguments': '{\"query\": \"5644\"}'}}, response_metadata={'prompt_feedback': {'block_reason': 0, 'safety_ratings': []}, 'finish_reason': 'STOP', 'safety_ratings': []}, id='run-c836095d-bce5-43dc-bdc5-b7e67496ef90-0', tool_calls=[{'name': 'tavily_search_results_json', 'args': {'query': '5644'}, 'id': '06349714-db0b-40e2-9d7e-956530cd9f4b', 'type': 'tool_call'}], usage_metadata={'input_tokens': 121, 'output_tokens': 45, 'total_tokens': 166, 'input_token_details': {'cache_read': 0}})}}\n",
            "--------------\n",
            "{'tools': {'messages': [ToolMessage(content='[{\"url\": \"https://www.ni.com/en-us/support/model.pxie-5644.html?srsltid=AfmBOoro-tkIuGx1mXaitHsL31pl71dl6Qn9TlwoRufdU4Hvvzj7Efe_\", \"content\": \"The PXIe-5644 combines a vector signal generator and vector signal analyzer with FPGA-based real-time signal processing and control into a single device.\"}, {\"url\": \"https://www.flightstats.com/v2/flight-tracker/AA/5644\", \"content\": \"AA5644 - American Airlines AA 5644 Flight Tracker Flights Flight Tracker Track a Flight (AA) American Airlines 5644 Flight Tracker Flight Status Flight Departure Times Flight Arrival Times VIEW FLIGHT DETAILSSET UP FLIGHT ALERTSON-TIME PERFORMANCEDFW AIRPORT CONDITIONSGPT AIRPORT CONDITIONSREFRESH DATA Flight Tracker Flights for Friday, 07-Feb-2025 21:39 CST DFW Dallas GPT Gulfport 23:21 CST Flights for Saturday, 08-Feb-2025 21:39 CST DFW Dallas GPT Gulfport 23:21 CST Flights for Sunday, 09-Feb-2025 21:19 CST DFW Dallas GPT Gulfport 23:01 CST Flights for Monday, 10-Feb-2025 21:39 CST DFW Dallas GPT Gulfport 23:21 CST Flights for Tuesday, 11-Feb-2025 21:39 CST DFW Dallas GPT Gulfport 23:21 CST Flights for Wednesday, 12-Feb-2025 Flights for Thursday, 13-Feb-2025 Over 10 million people have downloaded our FlightStats mobile apps!\"}, {\"url\": \"http://biblehub.com/hebrew/5644.htm\", \"content\": \"Sithri ► Sithri: Sithri Definition: Sithri Meaning: Sithri Word Origin: Derived from the Hebrew root סָתַר (sathar), meaning \\\\\"to hide\\\\\" or \\\\\"to conceal.\\\\\" Corresponding Greek / Hebrew Entries: There is no direct Greek equivalent for the name Sithri, as it is a specific Hebrew proper noun. Usage: The name \\\\\"Sithri\\\\\" means \\\\\"hidden\\\\\" or \\\\\"concealed.\\\\\" It is used as a proper name in the Hebrew Bible, specifically identifying an individual within the Levitical genealogies. The name Sithri, derived from a root meaning \\\\\"to hide,\\\\\" may suggest a characteristic of protection or divine concealment. Sithri (1). סִתְרִי proper name, masculine a Levite; — Exodus 6:22, ᵐ5 Σεγρει, A Σεθρει, ᵐ5L Σετρι. Sithri, an Israelite NAS: Mishael and Elzaphan and Sithri. INT: Mishael and Elzaphan and Sithri\"}]', name='tavily_search_results_json', id='74c46a5b-dfc0-4253-8ba2-0a49fe7be54c', tool_call_id='06349714-db0b-40e2-9d7e-956530cd9f4b', artifact={'query': '5644', 'follow_up_questions': None, 'answer': None, 'images': [], 'results': [{'url': 'https://www.ni.com/en-us/support/model.pxie-5644.html?srsltid=AfmBOoro-tkIuGx1mXaitHsL31pl71dl6Qn9TlwoRufdU4Hvvzj7Efe_', 'title': 'PXIe-5644 - NI - National Instruments', 'content': 'The PXIe-5644 combines a vector signal generator and vector signal analyzer with FPGA-based real-time signal processing and control into a single device.', 'score': 0.73981786, 'raw_content': None}, {'url': 'https://www.flightstats.com/v2/flight-tracker/AA/5644', 'title': 'American Airlines AA 5644 Flight Tracker - FlightStats', 'content': 'AA5644 - American Airlines AA 5644 Flight Tracker Flights Flight Tracker Track a Flight (AA) American Airlines 5644 Flight Tracker Flight Status Flight Departure Times Flight Arrival Times VIEW FLIGHT DETAILSSET UP FLIGHT ALERTSON-TIME PERFORMANCEDFW AIRPORT CONDITIONSGPT AIRPORT CONDITIONSREFRESH DATA Flight Tracker Flights for Friday, 07-Feb-2025 21:39 CST DFW Dallas GPT Gulfport 23:21 CST Flights for Saturday, 08-Feb-2025 21:39 CST DFW Dallas GPT Gulfport 23:21 CST Flights for Sunday, 09-Feb-2025 21:19 CST DFW Dallas GPT Gulfport 23:01 CST Flights for Monday, 10-Feb-2025 21:39 CST DFW Dallas GPT Gulfport 23:21 CST Flights for Tuesday, 11-Feb-2025 21:39 CST DFW Dallas GPT Gulfport 23:21 CST Flights for Wednesday, 12-Feb-2025 Flights for Thursday, 13-Feb-2025 Over 10 million people have downloaded our FlightStats mobile apps!', 'score': 0.685971, 'raw_content': None}, {'url': 'http://biblehub.com/hebrew/5644.htm', 'title': \"Strong's Hebrew: 5644. סִתְרִי (Sithri) - Bible Hub\", 'content': 'Sithri ► Sithri: Sithri Definition: Sithri Meaning: Sithri Word Origin: Derived from the Hebrew root סָתַר (sathar), meaning \"to hide\" or \"to conceal.\" Corresponding Greek / Hebrew Entries: There is no direct Greek equivalent for the name Sithri, as it is a specific Hebrew proper noun. Usage: The name \"Sithri\" means \"hidden\" or \"concealed.\" It is used as a proper name in the Hebrew Bible, specifically identifying an individual within the Levitical genealogies. The name Sithri, derived from a root meaning \"to hide,\" may suggest a characteristic of protection or divine concealment. Sithri (1). סִתְרִי proper name, masculine a Levite; — Exodus 6:22, ᵐ5 Σεγρει, A Σεθρει, ᵐ5L Σετρι. Sithri, an Israelite NAS: Mishael and Elzaphan and Sithri. INT: Mishael and Elzaphan and Sithri', 'score': 0.60498303, 'raw_content': None}], 'response_time': 1.44})]}}\n",
            "--------------\n",
            "{'tool_calling_llm': {'messages': AIMessage(content='332 * 17의 결과는 5644입니다.\\n\\n검색 결과는 다음과 같습니다:\\n* PXIe-5644는 벡터 신호 생성기와 벡터 신호 분석기를 FPGA 기반 실시간 신호 처리 및 제어 기능과 결합한 장치입니다.\\n* AA5644는 American Airlines의 항공편 추적기입니다.\\n* Sithri는 \"숨기다\" 또는 \"감추다\"를 의미하는 히브리어 어근에서 파생된 이름입니다.', additional_kwargs={}, response_metadata={'prompt_feedback': {'block_reason': 0, 'safety_ratings': []}, 'finish_reason': 'STOP', 'safety_ratings': []}, id='run-3cff2f05-46b9-4ea6-a4ab-b24735362239-0', usage_metadata={'input_tokens': 778, 'output_tokens': 121, 'total_tokens': 899, 'input_token_details': {'cache_read': 0}})}}\n",
            "--------------\n"
          ]
        }
      ],
      "source": [
        "for data in graph.stream({'messages':[HumanMessage(content='332*17을 수행하고, 그 값으로 검색한 결과를 요약해줘')]}, stream_mode='updates'):\n",
        "    print(data)\n",
        "    print('--------------')"
      ]
    },
    {
      "cell_type": "markdown",
      "metadata": {
        "id": "IvlEDbFwipAS"
      },
      "source": [
        "만약, 모델을 Gemini가 아닌, GPT-4o-mini 같은 모델로 바꿔 본다면 어떻게 동작할까요?"
      ]
    },
    {
      "cell_type": "code",
      "source": [
        "!pip install langchain_openai"
      ],
      "metadata": {
        "id": "QLM8acZ_mF-x",
        "colab": {
          "base_uri": "https://localhost:8080/"
        },
        "outputId": "c5c187af-38de-49a0-e4eb-20448614aef4"
      },
      "execution_count": null,
      "outputs": [
        {
          "output_type": "stream",
          "name": "stdout",
          "text": [
            "Collecting langchain_openai\n",
            "  Downloading langchain_openai-0.3.4-py3-none-any.whl.metadata (2.3 kB)\n",
            "Requirement already satisfied: langchain-core<1.0.0,>=0.3.34 in /usr/local/lib/python3.11/dist-packages (from langchain_openai) (0.3.34)\n",
            "Requirement already satisfied: openai<2.0.0,>=1.58.1 in /usr/local/lib/python3.11/dist-packages (from langchain_openai) (1.61.1)\n",
            "Collecting tiktoken<1,>=0.7 (from langchain_openai)\n",
            "  Downloading tiktoken-0.8.0-cp311-cp311-manylinux_2_17_x86_64.manylinux2014_x86_64.whl.metadata (6.6 kB)\n",
            "Requirement already satisfied: langsmith<0.4,>=0.1.125 in /usr/local/lib/python3.11/dist-packages (from langchain-core<1.0.0,>=0.3.34->langchain_openai) (0.3.5)\n",
            "Requirement already satisfied: tenacity!=8.4.0,<10.0.0,>=8.1.0 in /usr/local/lib/python3.11/dist-packages (from langchain-core<1.0.0,>=0.3.34->langchain_openai) (9.0.0)\n",
            "Requirement already satisfied: jsonpatch<2.0,>=1.33 in /usr/local/lib/python3.11/dist-packages (from langchain-core<1.0.0,>=0.3.34->langchain_openai) (1.33)\n",
            "Requirement already satisfied: PyYAML>=5.3 in /usr/local/lib/python3.11/dist-packages (from langchain-core<1.0.0,>=0.3.34->langchain_openai) (6.0.2)\n",
            "Requirement already satisfied: packaging<25,>=23.2 in /usr/local/lib/python3.11/dist-packages (from langchain-core<1.0.0,>=0.3.34->langchain_openai) (24.2)\n",
            "Requirement already satisfied: typing-extensions>=4.7 in /usr/local/lib/python3.11/dist-packages (from langchain-core<1.0.0,>=0.3.34->langchain_openai) (4.12.2)\n",
            "Requirement already satisfied: pydantic<3.0.0,>=2.5.2 in /usr/local/lib/python3.11/dist-packages (from langchain-core<1.0.0,>=0.3.34->langchain_openai) (2.10.6)\n",
            "Requirement already satisfied: anyio<5,>=3.5.0 in /usr/local/lib/python3.11/dist-packages (from openai<2.0.0,>=1.58.1->langchain_openai) (3.7.1)\n",
            "Requirement already satisfied: distro<2,>=1.7.0 in /usr/local/lib/python3.11/dist-packages (from openai<2.0.0,>=1.58.1->langchain_openai) (1.9.0)\n",
            "Requirement already satisfied: httpx<1,>=0.23.0 in /usr/local/lib/python3.11/dist-packages (from openai<2.0.0,>=1.58.1->langchain_openai) (0.28.1)\n",
            "Requirement already satisfied: jiter<1,>=0.4.0 in /usr/local/lib/python3.11/dist-packages (from openai<2.0.0,>=1.58.1->langchain_openai) (0.8.2)\n",
            "Requirement already satisfied: sniffio in /usr/local/lib/python3.11/dist-packages (from openai<2.0.0,>=1.58.1->langchain_openai) (1.3.1)\n",
            "Requirement already satisfied: tqdm>4 in /usr/local/lib/python3.11/dist-packages (from openai<2.0.0,>=1.58.1->langchain_openai) (4.67.1)\n",
            "Requirement already satisfied: regex>=2022.1.18 in /usr/local/lib/python3.11/dist-packages (from tiktoken<1,>=0.7->langchain_openai) (2024.11.6)\n",
            "Requirement already satisfied: requests>=2.26.0 in /usr/local/lib/python3.11/dist-packages (from tiktoken<1,>=0.7->langchain_openai) (2.32.3)\n",
            "Requirement already satisfied: idna>=2.8 in /usr/local/lib/python3.11/dist-packages (from anyio<5,>=3.5.0->openai<2.0.0,>=1.58.1->langchain_openai) (3.10)\n",
            "Requirement already satisfied: certifi in /usr/local/lib/python3.11/dist-packages (from httpx<1,>=0.23.0->openai<2.0.0,>=1.58.1->langchain_openai) (2025.1.31)\n",
            "Requirement already satisfied: httpcore==1.* in /usr/local/lib/python3.11/dist-packages (from httpx<1,>=0.23.0->openai<2.0.0,>=1.58.1->langchain_openai) (1.0.7)\n",
            "Requirement already satisfied: h11<0.15,>=0.13 in /usr/local/lib/python3.11/dist-packages (from httpcore==1.*->httpx<1,>=0.23.0->openai<2.0.0,>=1.58.1->langchain_openai) (0.14.0)\n",
            "Requirement already satisfied: jsonpointer>=1.9 in /usr/local/lib/python3.11/dist-packages (from jsonpatch<2.0,>=1.33->langchain-core<1.0.0,>=0.3.34->langchain_openai) (3.0.0)\n",
            "Requirement already satisfied: orjson<4.0.0,>=3.9.14 in /usr/local/lib/python3.11/dist-packages (from langsmith<0.4,>=0.1.125->langchain-core<1.0.0,>=0.3.34->langchain_openai) (3.10.15)\n",
            "Requirement already satisfied: requests-toolbelt<2.0.0,>=1.0.0 in /usr/local/lib/python3.11/dist-packages (from langsmith<0.4,>=0.1.125->langchain-core<1.0.0,>=0.3.34->langchain_openai) (1.0.0)\n",
            "Requirement already satisfied: zstandard<0.24.0,>=0.23.0 in /usr/local/lib/python3.11/dist-packages (from langsmith<0.4,>=0.1.125->langchain-core<1.0.0,>=0.3.34->langchain_openai) (0.23.0)\n",
            "Requirement already satisfied: annotated-types>=0.6.0 in /usr/local/lib/python3.11/dist-packages (from pydantic<3.0.0,>=2.5.2->langchain-core<1.0.0,>=0.3.34->langchain_openai) (0.7.0)\n",
            "Requirement already satisfied: pydantic-core==2.27.2 in /usr/local/lib/python3.11/dist-packages (from pydantic<3.0.0,>=2.5.2->langchain-core<1.0.0,>=0.3.34->langchain_openai) (2.27.2)\n",
            "Requirement already satisfied: charset-normalizer<4,>=2 in /usr/local/lib/python3.11/dist-packages (from requests>=2.26.0->tiktoken<1,>=0.7->langchain_openai) (3.4.1)\n",
            "Requirement already satisfied: urllib3<3,>=1.21.1 in /usr/local/lib/python3.11/dist-packages (from requests>=2.26.0->tiktoken<1,>=0.7->langchain_openai) (2.3.0)\n",
            "Downloading langchain_openai-0.3.4-py3-none-any.whl (54 kB)\n",
            "\u001b[2K   \u001b[90m━━━━━━━━━━━━━━━━━━━━━━━━━━━━━━━━━━━━━━━━\u001b[0m \u001b[32m54.7/54.7 kB\u001b[0m \u001b[31m1.9 MB/s\u001b[0m eta \u001b[36m0:00:00\u001b[0m\n",
            "\u001b[?25hDownloading tiktoken-0.8.0-cp311-cp311-manylinux_2_17_x86_64.manylinux2014_x86_64.whl (1.2 MB)\n",
            "\u001b[2K   \u001b[90m━━━━━━━━━━━━━━━━━━━━━━━━━━━━━━━━━━━━━━━━\u001b[0m \u001b[32m1.2/1.2 MB\u001b[0m \u001b[31m15.6 MB/s\u001b[0m eta \u001b[36m0:00:00\u001b[0m\n",
            "\u001b[?25hInstalling collected packages: tiktoken, langchain_openai\n",
            "Successfully installed langchain_openai-0.3.4 tiktoken-0.8.0\n"
          ]
        }
      ]
    },
    {
      "cell_type": "code",
      "execution_count": null,
      "metadata": {
        "id": "Bl-dQ73_ipAS"
      },
      "outputs": [],
      "source": [
        "# OpenAI API 유료 크레딧이 있는 경우에만 실행 가능\n",
        "\n",
        "os.environ['OPENAI_API_KEY'] = ''\n",
        "\n",
        "from langchain_openai import ChatOpenAI\n",
        "llm = ChatOpenAI(model = 'gpt-4o-mini')"
      ]
    },
    {
      "cell_type": "code",
      "execution_count": null,
      "metadata": {
        "id": "MnVH644AipAS"
      },
      "outputs": [],
      "source": [
        "llm_with_tools = llm.bind_tools([multiply, current_date, tavily_search])"
      ]
    },
    {
      "cell_type": "code",
      "execution_count": null,
      "metadata": {
        "id": "S2yqGN5SipAS",
        "colab": {
          "base_uri": "https://localhost:8080/",
          "height": 266
        },
        "outputId": "ee40cae1-aa6c-488f-edba-6809b4e294d0"
      },
      "outputs": [
        {
          "output_type": "execute_result",
          "data": {
            "text/plain": [
              "<langgraph.graph.state.CompiledStateGraph object at 0x7ec3189e1450>"
            ],
            "image/png": "[encoded data removed]"
          },
          "metadata": {},
          "execution_count": 32
        }
      ],
      "source": [
        "def tool_calling_llm(state):\n",
        "    return {\"messages\": llm_with_tools.invoke(state[\"messages\"])}\n",
        "\n",
        "\n",
        "builder = StateGraph(State)\n",
        "\n",
        "builder.add_node(\"tool_calling_llm\", tool_calling_llm)\n",
        "builder.add_node('tools', ToolNode([multiply, current_date, tavily_search]))\n",
        "\n",
        "builder.add_edge(START, 'tool_calling_llm')\n",
        "builder.add_conditional_edges('tool_calling_llm', tools_condition, END)\n",
        "builder.add_edge('tools', 'tool_calling_llm')\n",
        "\n",
        "graph = builder.compile()\n",
        "graph"
      ]
    },
    {
      "cell_type": "code",
      "execution_count": null,
      "metadata": {
        "id": "wzSiaZisipAS",
        "colab": {
          "base_uri": "https://localhost:8080/"
        },
        "outputId": "be4f10e7-ea54-4c83-cdc1-badc0dd8f17a"
      },
      "outputs": [
        {
          "output_type": "execute_result",
          "data": {
            "text/plain": [
              "{'messages': [HumanMessage(content='오늘 날짜에 태어난 배우는 누구야?', additional_kwargs={}, response_metadata={}, id='1dd0597e-f368-4b60-bb7a-903266850ce5'),\n",
              "  AIMessage(content='', additional_kwargs={'tool_calls': [{'id': 'call_ryc4nwmO3TlvqFVwt8TLSruX', 'function': {'arguments': '{}', 'name': 'current_date'}, 'type': 'function'}], 'refusal': None}, response_metadata={'token_usage': {'completion_tokens': 11, 'prompt_tokens': 149, 'total_tokens': 160, 'completion_tokens_details': {'accepted_prediction_tokens': 0, 'audio_tokens': 0, 'reasoning_tokens': 0, 'rejected_prediction_tokens': 0}, 'prompt_tokens_details': {'audio_tokens': 0, 'cached_tokens': 0}}, 'model_name': 'gpt-4o-mini-2024-07-18', 'system_fingerprint': 'fp_72ed7ab54c', 'finish_reason': 'tool_calls', 'logprobs': None}, id='run-915e541f-83f5-4f7a-9aca-d3e0130d91a4-0', tool_calls=[{'name': 'current_date', 'args': {}, 'id': 'call_ryc4nwmO3TlvqFVwt8TLSruX', 'type': 'tool_call'}], usage_metadata={'input_tokens': 149, 'output_tokens': 11, 'total_tokens': 160, 'input_token_details': {'audio': 0, 'cache_read': 0}, 'output_token_details': {'audio': 0, 'reasoning': 0}}),\n",
              "  ToolMessage(content='2025-02-10', name='current_date', id='6876dabf-5192-4aa5-b792-72b68d7cffa0', tool_call_id='call_ryc4nwmO3TlvqFVwt8TLSruX'),\n",
              "  AIMessage(content='', additional_kwargs={'tool_calls': [{'id': 'call_9myASkuuh0hLm79Uypaxu4gj', 'function': {'arguments': '{\"query\":\"February 10 birthdays\"}', 'name': 'tavily_search_results_json'}, 'type': 'function'}], 'refusal': None}, response_metadata={'token_usage': {'completion_tokens': 22, 'prompt_tokens': 173, 'total_tokens': 195, 'completion_tokens_details': {'accepted_prediction_tokens': 0, 'audio_tokens': 0, 'reasoning_tokens': 0, 'rejected_prediction_tokens': 0}, 'prompt_tokens_details': {'audio_tokens': 0, 'cached_tokens': 0}}, 'model_name': 'gpt-4o-mini-2024-07-18', 'system_fingerprint': 'fp_72ed7ab54c', 'finish_reason': 'tool_calls', 'logprobs': None}, id='run-7ad65fdc-98c1-404b-a2a4-6654be77ea99-0', tool_calls=[{'name': 'tavily_search_results_json', 'args': {'query': 'February 10 birthdays'}, 'id': 'call_9myASkuuh0hLm79Uypaxu4gj', 'type': 'tool_call'}], usage_metadata={'input_tokens': 173, 'output_tokens': 22, 'total_tokens': 195, 'input_token_details': {'audio': 0, 'cache_read': 0}, 'output_token_details': {'audio': 0, 'reasoning': 0}}),\n",
              "  ToolMessage(content='[{\"url\": \"https://www.nationaldaycalendar.com/february/february-10-birthdays-and-events\", \"content\": \"Notable Birthdays for February 10. Abner Clark Harding (1807-1874) - Civil War Brigadier General for the Union Army. William Read Scurry (1821-\"}, {\"url\": \"https://www.onthisday.com/birthdays/february/10\", \"content\": \"Famous Birthdays on February 10 - On This Day 1879 Franz Carl Bornschein, American composer, born in Baltimore, Maryland (d. 1892 Alan Hale Sr., American actor (Little John-The Adventures of Robin Hood), born in Washington, D.C. 1910 Joyce Grenfell, British actress (Pickwick Papers, Americanization of Emily), born in London, England (d. 1914 Larry Adler, American pop and classical harmonica player, and composer, born in Baltimore, Maryland (d. 1922 Neva Patterson, American actress (The Seven Year Itch, Taxi, Nichols), born near Nevada, Iowa (d. 1923 Allie Sherman, American NFL coach (Winnipeg Blue Bombers 1953-56 CFL; New York Giants 1961–68), born in Brooklyn, New York (d. 1946 Kenny Edwards, American musician and singer-songwriter (The Stone Poneys; Bryndle), born in Santa Monica, California (d.\"}, {\"url\": \"https://www.cleveland.com/entertainment/2024/02/famous-birthdays-list-for-today-february-10-2024-includes-celebrities-elizabeth-banks-emma-roberts.html\", \"content\": \"Actor Robert Wagner is 94. Singer Jimmy Merchant of Frankie Lymon and the Teenagers is 82. Bassist Bob Spalding of The Ventures is 77.\"}]', name='tavily_search_results_json', id='20f0eef6-1cab-4403-b5e0-23462c825716', tool_call_id='call_9myASkuuh0hLm79Uypaxu4gj', artifact={'query': 'February 10 birthdays', 'follow_up_questions': None, 'answer': None, 'images': [], 'results': [{'url': 'https://www.nationaldaycalendar.com/february/february-10-birthdays-and-events', 'title': 'FEBRUARY 10 | Birthdays and Events - National Day Calendar', 'content': 'Notable Birthdays for February 10. Abner Clark Harding (1807-1874) - Civil War Brigadier General for the Union Army. William Read Scurry (1821-', 'score': 0.9053309, 'raw_content': None}, {'url': 'https://www.onthisday.com/birthdays/february/10', 'title': 'Famous Birthdays on February 10 - On This Day', 'content': 'Famous Birthdays on February 10 - On This Day 1879 Franz Carl Bornschein, American composer, born in Baltimore, Maryland (d. 1892 Alan Hale Sr., American actor (Little John-The Adventures of Robin Hood), born in Washington, D.C. 1910 Joyce Grenfell, British actress (Pickwick Papers, Americanization of Emily), born in London, England (d. 1914 Larry Adler, American pop and classical harmonica player, and composer, born in Baltimore, Maryland (d. 1922 Neva Patterson, American actress (The Seven Year Itch, Taxi, Nichols), born near Nevada, Iowa (d. 1923 Allie Sherman, American NFL coach (Winnipeg Blue Bombers 1953-56 CFL; New York Giants 1961–68), born in Brooklyn, New York (d. 1946 Kenny Edwards, American musician and singer-songwriter (The Stone Poneys; Bryndle), born in Santa Monica, California (d.', 'score': 0.89121616, 'raw_content': None}, {'url': 'https://www.cleveland.com/entertainment/2024/02/famous-birthdays-list-for-today-february-10-2024-includes-celebrities-elizabeth-banks-emma-roberts.html', 'title': 'Famous birthdays list for today, February 10, 2024 includes ...', 'content': 'Actor Robert Wagner is 94. Singer Jimmy Merchant of Frankie Lymon and the Teenagers is 82. Bassist Bob Spalding of The Ventures is 77.', 'score': 0.85624856, 'raw_content': None}], 'response_time': 1.09}),\n",
              "  AIMessage(content='2월 10일에 태어난 유명한 배우들 중 일부는 다음과 같습니다:\\n\\n- **Alan Hale Sr.** (1905년 생) - 미국의 배우로, \"로빈 후드의 모험\"에서 Little John 역할로 알려져 있습니다.\\n- **Joyce Grenfell** (1910년 생) - 영국의 여배우로, \"Pickwick Papers\"와 \"Americanization of Emily\" 등에 출연했습니다.\\n\\n또한, 오늘은 **엘리자베스 뱅크스**와 **엠마 로버츠**와 같은 현대의 유명 배우들도 태어난 날입니다.', additional_kwargs={'refusal': None}, response_metadata={'token_usage': {'completion_tokens': 135, 'prompt_tokens': 604, 'total_tokens': 739, 'completion_tokens_details': {'accepted_prediction_tokens': 0, 'audio_tokens': 0, 'reasoning_tokens': 0, 'rejected_prediction_tokens': 0}, 'prompt_tokens_details': {'audio_tokens': 0, 'cached_tokens': 0}}, 'model_name': 'gpt-4o-mini-2024-07-18', 'system_fingerprint': 'fp_72ed7ab54c', 'finish_reason': 'stop', 'logprobs': None}, id='run-f74cf686-b34a-4a8d-9680-ffc77f16bdf2-0', usage_metadata={'input_tokens': 604, 'output_tokens': 135, 'total_tokens': 739, 'input_token_details': {'audio': 0, 'cache_read': 0}, 'output_token_details': {'audio': 0, 'reasoning': 0}})]}"
            ]
          },
          "metadata": {},
          "execution_count": 33
        }
      ],
      "source": [
        "response = graph.invoke({'messages':[\n",
        "    HumanMessage(content='오늘 날짜에 태어난 배우는 누구야?')]})\n",
        "response"
      ]
    },
    {
      "cell_type": "code",
      "execution_count": null,
      "metadata": {
        "id": "0BSgYrNVipAS",
        "colab": {
          "base_uri": "https://localhost:8080/"
        },
        "outputId": "bcf221fa-46e6-4fce-95ca-8f37ce523c0c"
      },
      "outputs": [
        {
          "output_type": "stream",
          "name": "stdout",
          "text": [
            "{'tool_calling_llm': {'messages': AIMessage(content='', additional_kwargs={'tool_calls': [{'id': 'call_wkbFqbPLE1Wa0aLhg1wFwTGT', 'function': {'arguments': '{\"x\":332,\"y\":17}', 'name': 'multiply'}, 'type': 'function'}], 'refusal': None}, response_metadata={'token_usage': {'completion_tokens': 18, 'prompt_tokens': 157, 'total_tokens': 175, 'completion_tokens_details': {'accepted_prediction_tokens': 0, 'audio_tokens': 0, 'reasoning_tokens': 0, 'rejected_prediction_tokens': 0}, 'prompt_tokens_details': {'audio_tokens': 0, 'cached_tokens': 0}}, 'model_name': 'gpt-4o-mini-2024-07-18', 'system_fingerprint': 'fp_72ed7ab54c', 'finish_reason': 'tool_calls', 'logprobs': None}, id='run-2e3c1130-e47c-4988-8354-95ab12a1ef8f-0', tool_calls=[{'name': 'multiply', 'args': {'x': 332, 'y': 17}, 'id': 'call_wkbFqbPLE1Wa0aLhg1wFwTGT', 'type': 'tool_call'}], usage_metadata={'input_tokens': 157, 'output_tokens': 18, 'total_tokens': 175, 'input_token_details': {'audio': 0, 'cache_read': 0}, 'output_token_details': {'audio': 0, 'reasoning': 0}})}}\n",
            "--------------\n",
            "{'tools': {'messages': [ToolMessage(content='5644', name='multiply', id='05f2b3c6-4d25-490e-a811-ae6a3374460f', tool_call_id='call_wkbFqbPLE1Wa0aLhg1wFwTGT')]}}\n",
            "--------------\n",
            "{'tool_calling_llm': {'messages': AIMessage(content='', additional_kwargs={'tool_calls': [{'id': 'call_f6vx0cNcW3voRiNlZC4HS9kD', 'function': {'arguments': '{\"query\":\"5644\"}', 'name': 'tavily_search_results_json'}, 'type': 'function'}], 'refusal': None}, response_metadata={'token_usage': {'completion_tokens': 20, 'prompt_tokens': 183, 'total_tokens': 203, 'completion_tokens_details': {'accepted_prediction_tokens': 0, 'audio_tokens': 0, 'reasoning_tokens': 0, 'rejected_prediction_tokens': 0}, 'prompt_tokens_details': {'audio_tokens': 0, 'cached_tokens': 0}}, 'model_name': 'gpt-4o-mini-2024-07-18', 'system_fingerprint': 'fp_72ed7ab54c', 'finish_reason': 'tool_calls', 'logprobs': None}, id='run-73ec6431-e7ee-485b-bfce-267736919c3c-0', tool_calls=[{'name': 'tavily_search_results_json', 'args': {'query': '5644'}, 'id': 'call_f6vx0cNcW3voRiNlZC4HS9kD', 'type': 'tool_call'}], usage_metadata={'input_tokens': 183, 'output_tokens': 20, 'total_tokens': 203, 'input_token_details': {'audio': 0, 'cache_read': 0}, 'output_token_details': {'audio': 0, 'reasoning': 0}})}}\n",
            "--------------\n",
            "{'tools': {'messages': [ToolMessage(content='[{\"url\": \"https://www.ni.com/en-us/support/model.pxie-5644.html?srsltid=AfmBOoro-tkIuGx1mXaitHsL31pl71dl6Qn9TlwoRufdU4Hvvzj7Efe_\", \"content\": \"The PXIe-5644 combines a vector signal generator and vector signal analyzer with FPGA-based real-time signal processing and control into a single device.\"}, {\"url\": \"https://www.flightstats.com/v2/flight-tracker/AA/5644\", \"content\": \"AA5644 - American Airlines AA 5644 Flight Tracker Flights Flight Tracker Track a Flight (AA) American Airlines 5644 Flight Tracker Flight Status Flight Departure Times Flight Arrival Times VIEW FLIGHT DETAILSSET UP FLIGHT ALERTSON-TIME PERFORMANCEDFW AIRPORT CONDITIONSGPT AIRPORT CONDITIONSREFRESH DATA Flight Tracker Flights for Friday, 07-Feb-2025 21:39 CST DFW Dallas GPT Gulfport 23:21 CST Flights for Saturday, 08-Feb-2025 21:39 CST DFW Dallas GPT Gulfport 23:21 CST Flights for Sunday, 09-Feb-2025 21:19 CST DFW Dallas GPT Gulfport 23:01 CST Flights for Monday, 10-Feb-2025 21:39 CST DFW Dallas GPT Gulfport 23:21 CST Flights for Tuesday, 11-Feb-2025 21:39 CST DFW Dallas GPT Gulfport 23:21 CST Flights for Wednesday, 12-Feb-2025 Flights for Thursday, 13-Feb-2025 Over 10 million people have downloaded our FlightStats mobile apps!\"}, {\"url\": \"http://biblehub.com/hebrew/5644.htm\", \"content\": \"Sithri ► Sithri: Sithri Definition: Sithri Meaning: Sithri Word Origin: Derived from the Hebrew root סָתַר (sathar), meaning \\\\\"to hide\\\\\" or \\\\\"to conceal.\\\\\" Corresponding Greek / Hebrew Entries: There is no direct Greek equivalent for the name Sithri, as it is a specific Hebrew proper noun. Usage: The name \\\\\"Sithri\\\\\" means \\\\\"hidden\\\\\" or \\\\\"concealed.\\\\\" It is used as a proper name in the Hebrew Bible, specifically identifying an individual within the Levitical genealogies. The name Sithri, derived from a root meaning \\\\\"to hide,\\\\\" may suggest a characteristic of protection or divine concealment. Sithri (1). סִתְרִי proper name, masculine a Levite; — Exodus 6:22, ᵐ5 Σεγρει, A Σεθρει, ᵐ5L Σετρι. Sithri, an Israelite NAS: Mishael and Elzaphan and Sithri. INT: Mishael and Elzaphan and Sithri\"}]', name='tavily_search_results_json', id='115fcb6d-3d66-4127-8f1e-e58e0cbdf515', tool_call_id='call_f6vx0cNcW3voRiNlZC4HS9kD', artifact={'query': '5644', 'follow_up_questions': None, 'answer': None, 'images': [], 'results': [{'url': 'https://www.ni.com/en-us/support/model.pxie-5644.html?srsltid=AfmBOoro-tkIuGx1mXaitHsL31pl71dl6Qn9TlwoRufdU4Hvvzj7Efe_', 'title': 'PXIe-5644 - NI - National Instruments', 'content': 'The PXIe-5644 combines a vector signal generator and vector signal analyzer with FPGA-based real-time signal processing and control into a single device.', 'score': 0.73981786, 'raw_content': None}, {'url': 'https://www.flightstats.com/v2/flight-tracker/AA/5644', 'title': 'American Airlines AA 5644 Flight Tracker - FlightStats', 'content': 'AA5644 - American Airlines AA 5644 Flight Tracker Flights Flight Tracker Track a Flight (AA) American Airlines 5644 Flight Tracker Flight Status Flight Departure Times Flight Arrival Times VIEW FLIGHT DETAILSSET UP FLIGHT ALERTSON-TIME PERFORMANCEDFW AIRPORT CONDITIONSGPT AIRPORT CONDITIONSREFRESH DATA Flight Tracker Flights for Friday, 07-Feb-2025 21:39 CST DFW Dallas GPT Gulfport 23:21 CST Flights for Saturday, 08-Feb-2025 21:39 CST DFW Dallas GPT Gulfport 23:21 CST Flights for Sunday, 09-Feb-2025 21:19 CST DFW Dallas GPT Gulfport 23:01 CST Flights for Monday, 10-Feb-2025 21:39 CST DFW Dallas GPT Gulfport 23:21 CST Flights for Tuesday, 11-Feb-2025 21:39 CST DFW Dallas GPT Gulfport 23:21 CST Flights for Wednesday, 12-Feb-2025 Flights for Thursday, 13-Feb-2025 Over 10 million people have downloaded our FlightStats mobile apps!', 'score': 0.685971, 'raw_content': None}, {'url': 'http://biblehub.com/hebrew/5644.htm', 'title': \"Strong's Hebrew: 5644. סִתְרִי (Sithri) - Bible Hub\", 'content': 'Sithri ► Sithri: Sithri Definition: Sithri Meaning: Sithri Word Origin: Derived from the Hebrew root סָתַר (sathar), meaning \"to hide\" or \"to conceal.\" Corresponding Greek / Hebrew Entries: There is no direct Greek equivalent for the name Sithri, as it is a specific Hebrew proper noun. Usage: The name \"Sithri\" means \"hidden\" or \"concealed.\" It is used as a proper name in the Hebrew Bible, specifically identifying an individual within the Levitical genealogies. The name Sithri, derived from a root meaning \"to hide,\" may suggest a characteristic of protection or divine concealment. Sithri (1). סִתְרִי proper name, masculine a Levite; — Exodus 6:22, ᵐ5 Σεγρει, A Σεθρει, ᵐ5L Σετρι. Sithri, an Israelite NAS: Mishael and Elzaphan and Sithri. INT: Mishael and Elzaphan and Sithri', 'score': 0.60498303, 'raw_content': None}], 'response_time': 0.42})]}}\n",
            "--------------\n",
            "{'tool_calling_llm': {'messages': AIMessage(content='332 곱하기 17은 5644입니다. 이 숫자와 관련된 검색 결과는 다음과 같습니다:\\n\\n1. **PXIe-5644**: 이 장치는 벡터 신호 생성기와 벡터 신호 분석기가 FPGA 기반의 실시간 신호 처리 및 제어 기능을 통합한 기기입니다. [자세한 내용](https://www.ni.com/en-us/support/model.pxie-5644.html?srsltid=AfmBOoro-tkIuGx1mXaitHsL31pl71dl6Qn9TlwoRufdU4Hvvzj7Efe_)\\n\\n2. **항공사 AA 5644**: 미국 항공사 아메리칸 항공의 AA 5644 비행에 대한 실시간 추적 정보와 항공 상태를 제공합니다. 이 비행은 댈러스에서 걸프포트로 향합니다. [비행 정보 보기](https://www.flightstats.com/v2/flight-tracker/AA/5644)\\n\\n3. **Sithri**: 시스리라는 이름은 히브리어에서 \"숨기다\" 또는 \"은폐하다\"를 의미하는 뿌리에서 유래되었습니다. 이는 성경에서 사용되는 고유 명사입니다. [더 알아보기](http://biblehub.com/hebrew/5644.htm)\\n\\n이와 관련된 정보에서 항공, 기술 장비, 그리고 성경적 의미를 가진 이름 등이 있습니다.', additional_kwargs={'refusal': None}, response_metadata={'token_usage': {'completion_tokens': 325, 'prompt_tokens': 815, 'total_tokens': 1140, 'completion_tokens_details': {'accepted_prediction_tokens': 0, 'audio_tokens': 0, 'reasoning_tokens': 0, 'rejected_prediction_tokens': 0}, 'prompt_tokens_details': {'audio_tokens': 0, 'cached_tokens': 0}}, 'model_name': 'gpt-4o-mini-2024-07-18', 'system_fingerprint': 'fp_72ed7ab54c', 'finish_reason': 'stop', 'logprobs': None}, id='run-87a8ae01-3be6-429d-b3bc-49067100ac91-0', usage_metadata={'input_tokens': 815, 'output_tokens': 325, 'total_tokens': 1140, 'input_token_details': {'audio': 0, 'cache_read': 0}, 'output_token_details': {'audio': 0, 'reasoning': 0}})}}\n",
            "--------------\n"
          ]
        }
      ],
      "source": [
        "for data in graph.stream({'messages':[HumanMessage(content='332*17을 수행하고, 그 값으로 검색한 결과를 요약해줘')]}, stream_mode='updates'):\n",
        "    print(data)\n",
        "    print('--------------')"
      ]
    },
    {
      "cell_type": "markdown",
      "metadata": {
        "id": "rDjuZlNJipAT"
      },
      "source": [
        "현재의 구조에서는, 모델에 따라 툴 실행 이행 능력과 일관성 있는 실행 능력의 차이가 발생합니다.   \n",
        "특히, sLLM과 같은 모델의 경우 툴의 실행이 복잡하거나, Context가 길어지는 경우 오류가 발생할 수 있는데요.   \n",
        "실습에서 다룬 것처럼, 프롬프트를 수정하여 작동 과정을 설명하거나, 예시를 프롬프트에 포함하여 방법을 보다 잘 이해하게 하는 방법을 고려합니다."
      ]
    },
    {
      "cell_type": "code",
      "execution_count": null,
      "metadata": {
        "id": "q7ucJf8lipAT"
      },
      "outputs": [],
      "source": []
    }
  ],
  "metadata": {
    "kernelspec": {
      "display_name": "multicampus",
      "language": "python",
      "name": "python3"
    },
    "language_info": {
      "codemirror_mode": {
        "name": "ipython",
        "version": 3
      },
      "file_extension": ".py",
      "mimetype": "text/x-python",
      "name": "python",
      "nbconvert_exporter": "python",
      "pygments_lexer": "ipython3",
      "version": "3.11.7"
    },
    "colab": {
      "provenance": []
    }
  },
  "nbformat": 4,
  "nbformat_minor": 0
}