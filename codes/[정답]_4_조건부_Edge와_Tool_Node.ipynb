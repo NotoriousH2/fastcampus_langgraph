{
  "cells": [
    {
      "cell_type": "markdown",
      "metadata": {
        "id": "-2oIrHN6ipAN"
      },
      "source": [
        "# [실습] 조건부 엣지와 툴 노드 연결하기  \n",
        "\n",
        "이번 실습에서는 모델의 분기점을 구성하는 조건부 엣지와 외부 툴을 효과적으로 사용하는 툴 노드를 추가해 보겠습니다."
      ]
    },
    {
      "cell_type": "code",
      "execution_count": 1,
      "metadata": {
        "id": "JY5vy8kaipAO"
      },
      "outputs": [
        {
          "name": "stdout",
          "output_type": "stream",
          "text": [
            "Requirement already satisfied: langgraph in c:\\users\\pc\\onedrive\\1.강의\\0.llm\\1 패스트캠퍼스_랭그래프\\fastcampus_langgraph\\.venv\\lib\\site-packages (1.0.1)\n",
            "Requirement already satisfied: langchain in c:\\users\\pc\\onedrive\\1.강의\\0.llm\\1 패스트캠퍼스_랭그래프\\fastcampus_langgraph\\.venv\\lib\\site-packages (1.0.2)\n",
            "Requirement already satisfied: langchain_google_genai in c:\\users\\pc\\onedrive\\1.강의\\0.llm\\1 패스트캠퍼스_랭그래프\\fastcampus_langgraph\\.venv\\lib\\site-packages (3.0.0)\n",
            "Requirement already satisfied: langchain_community in c:\\users\\pc\\onedrive\\1.강의\\0.llm\\1 패스트캠퍼스_랭그래프\\fastcampus_langgraph\\.venv\\lib\\site-packages (0.4)\n",
            "Requirement already satisfied: langchain-core>=0.1 in c:\\users\\pc\\onedrive\\1.강의\\0.llm\\1 패스트캠퍼스_랭그래프\\fastcampus_langgraph\\.venv\\lib\\site-packages (from langgraph) (1.0.1)\n",
            "Requirement already satisfied: langgraph-checkpoint<4.0.0,>=2.1.0 in c:\\users\\pc\\onedrive\\1.강의\\0.llm\\1 패스트캠퍼스_랭그래프\\fastcampus_langgraph\\.venv\\lib\\site-packages (from langgraph) (3.0.0)\n",
            "Requirement already satisfied: langgraph-prebuilt<1.1.0,>=1.0.0 in c:\\users\\pc\\onedrive\\1.강의\\0.llm\\1 패스트캠퍼스_랭그래프\\fastcampus_langgraph\\.venv\\lib\\site-packages (from langgraph) (1.0.1)\n",
            "Requirement already satisfied: langgraph-sdk<0.3.0,>=0.2.2 in c:\\users\\pc\\onedrive\\1.강의\\0.llm\\1 패스트캠퍼스_랭그래프\\fastcampus_langgraph\\.venv\\lib\\site-packages (from langgraph) (0.2.9)\n",
            "Requirement already satisfied: pydantic>=2.7.4 in c:\\users\\pc\\onedrive\\1.강의\\0.llm\\1 패스트캠퍼스_랭그래프\\fastcampus_langgraph\\.venv\\lib\\site-packages (from langgraph) (2.12.3)\n",
            "Requirement already satisfied: xxhash>=3.5.0 in c:\\users\\pc\\onedrive\\1.강의\\0.llm\\1 패스트캠퍼스_랭그래프\\fastcampus_langgraph\\.venv\\lib\\site-packages (from langgraph) (3.6.0)\n",
            "Requirement already satisfied: ormsgpack>=1.10.0 in c:\\users\\pc\\onedrive\\1.강의\\0.llm\\1 패스트캠퍼스_랭그래프\\fastcampus_langgraph\\.venv\\lib\\site-packages (from langgraph-checkpoint<4.0.0,>=2.1.0->langgraph) (1.11.0)\n",
            "Requirement already satisfied: httpx>=0.25.2 in c:\\users\\pc\\onedrive\\1.강의\\0.llm\\1 패스트캠퍼스_랭그래프\\fastcampus_langgraph\\.venv\\lib\\site-packages (from langgraph-sdk<0.3.0,>=0.2.2->langgraph) (0.28.1)\n",
            "Requirement already satisfied: orjson>=3.10.1 in c:\\users\\pc\\onedrive\\1.강의\\0.llm\\1 패스트캠퍼스_랭그래프\\fastcampus_langgraph\\.venv\\lib\\site-packages (from langgraph-sdk<0.3.0,>=0.2.2->langgraph) (3.11.4)\n",
            "Requirement already satisfied: jsonpatch<2.0.0,>=1.33.0 in c:\\users\\pc\\onedrive\\1.강의\\0.llm\\1 패스트캠퍼스_랭그래프\\fastcampus_langgraph\\.venv\\lib\\site-packages (from langchain-core>=0.1->langgraph) (1.33)\n",
            "Requirement already satisfied: langsmith<1.0.0,>=0.3.45 in c:\\users\\pc\\onedrive\\1.강의\\0.llm\\1 패스트캠퍼스_랭그래프\\fastcampus_langgraph\\.venv\\lib\\site-packages (from langchain-core>=0.1->langgraph) (0.4.38)\n",
            "Requirement already satisfied: packaging<26.0.0,>=23.2.0 in c:\\users\\pc\\onedrive\\1.강의\\0.llm\\1 패스트캠퍼스_랭그래프\\fastcampus_langgraph\\.venv\\lib\\site-packages (from langchain-core>=0.1->langgraph) (25.0)\n",
            "Requirement already satisfied: pyyaml<7.0.0,>=5.3.0 in c:\\users\\pc\\onedrive\\1.강의\\0.llm\\1 패스트캠퍼스_랭그래프\\fastcampus_langgraph\\.venv\\lib\\site-packages (from langchain-core>=0.1->langgraph) (6.0.3)\n",
            "Requirement already satisfied: tenacity!=8.4.0,<10.0.0,>=8.1.0 in c:\\users\\pc\\onedrive\\1.강의\\0.llm\\1 패스트캠퍼스_랭그래프\\fastcampus_langgraph\\.venv\\lib\\site-packages (from langchain-core>=0.1->langgraph) (9.1.2)\n",
            "Requirement already satisfied: typing-extensions<5.0.0,>=4.7.0 in c:\\users\\pc\\onedrive\\1.강의\\0.llm\\1 패스트캠퍼스_랭그래프\\fastcampus_langgraph\\.venv\\lib\\site-packages (from langchain-core>=0.1->langgraph) (4.15.0)\n",
            "Requirement already satisfied: jsonpointer>=1.9 in c:\\users\\pc\\onedrive\\1.강의\\0.llm\\1 패스트캠퍼스_랭그래프\\fastcampus_langgraph\\.venv\\lib\\site-packages (from jsonpatch<2.0.0,>=1.33.0->langchain-core>=0.1->langgraph) (3.0.0)\n",
            "Requirement already satisfied: requests-toolbelt>=1.0.0 in c:\\users\\pc\\onedrive\\1.강의\\0.llm\\1 패스트캠퍼스_랭그래프\\fastcampus_langgraph\\.venv\\lib\\site-packages (from langsmith<1.0.0,>=0.3.45->langchain-core>=0.1->langgraph) (1.0.0)\n",
            "Requirement already satisfied: requests>=2.0.0 in c:\\users\\pc\\onedrive\\1.강의\\0.llm\\1 패스트캠퍼스_랭그래프\\fastcampus_langgraph\\.venv\\lib\\site-packages (from langsmith<1.0.0,>=0.3.45->langchain-core>=0.1->langgraph) (2.32.5)\n",
            "Requirement already satisfied: zstandard>=0.23.0 in c:\\users\\pc\\onedrive\\1.강의\\0.llm\\1 패스트캠퍼스_랭그래프\\fastcampus_langgraph\\.venv\\lib\\site-packages (from langsmith<1.0.0,>=0.3.45->langchain-core>=0.1->langgraph) (0.25.0)\n",
            "Requirement already satisfied: anyio in c:\\users\\pc\\onedrive\\1.강의\\0.llm\\1 패스트캠퍼스_랭그래프\\fastcampus_langgraph\\.venv\\lib\\site-packages (from httpx>=0.25.2->langgraph-sdk<0.3.0,>=0.2.2->langgraph) (4.11.0)\n",
            "Requirement already satisfied: certifi in c:\\users\\pc\\onedrive\\1.강의\\0.llm\\1 패스트캠퍼스_랭그래프\\fastcampus_langgraph\\.venv\\lib\\site-packages (from httpx>=0.25.2->langgraph-sdk<0.3.0,>=0.2.2->langgraph) (2025.10.5)\n",
            "Requirement already satisfied: httpcore==1.* in c:\\users\\pc\\onedrive\\1.강의\\0.llm\\1 패스트캠퍼스_랭그래프\\fastcampus_langgraph\\.venv\\lib\\site-packages (from httpx>=0.25.2->langgraph-sdk<0.3.0,>=0.2.2->langgraph) (1.0.9)\n",
            "Requirement already satisfied: idna in c:\\users\\pc\\onedrive\\1.강의\\0.llm\\1 패스트캠퍼스_랭그래프\\fastcampus_langgraph\\.venv\\lib\\site-packages (from httpx>=0.25.2->langgraph-sdk<0.3.0,>=0.2.2->langgraph) (3.11)\n",
            "Requirement already satisfied: h11>=0.16 in c:\\users\\pc\\onedrive\\1.강의\\0.llm\\1 패스트캠퍼스_랭그래프\\fastcampus_langgraph\\.venv\\lib\\site-packages (from httpcore==1.*->httpx>=0.25.2->langgraph-sdk<0.3.0,>=0.2.2->langgraph) (0.16.0)\n",
            "Requirement already satisfied: annotated-types>=0.6.0 in c:\\users\\pc\\onedrive\\1.강의\\0.llm\\1 패스트캠퍼스_랭그래프\\fastcampus_langgraph\\.venv\\lib\\site-packages (from pydantic>=2.7.4->langgraph) (0.7.0)\n",
            "Requirement already satisfied: pydantic-core==2.41.4 in c:\\users\\pc\\onedrive\\1.강의\\0.llm\\1 패스트캠퍼스_랭그래프\\fastcampus_langgraph\\.venv\\lib\\site-packages (from pydantic>=2.7.4->langgraph) (2.41.4)\n",
            "Requirement already satisfied: typing-inspection>=0.4.2 in c:\\users\\pc\\onedrive\\1.강의\\0.llm\\1 패스트캠퍼스_랭그래프\\fastcampus_langgraph\\.venv\\lib\\site-packages (from pydantic>=2.7.4->langgraph) (0.4.2)\n",
            "Requirement already satisfied: google-ai-generativelanguage<1.0.0,>=0.7.0 in c:\\users\\pc\\onedrive\\1.강의\\0.llm\\1 패스트캠퍼스_랭그래프\\fastcampus_langgraph\\.venv\\lib\\site-packages (from langchain_google_genai) (0.9.0)\n",
            "Requirement already satisfied: filetype<2.0.0,>=1.2.0 in c:\\users\\pc\\onedrive\\1.강의\\0.llm\\1 패스트캠퍼스_랭그래프\\fastcampus_langgraph\\.venv\\lib\\site-packages (from langchain_google_genai) (1.2.0)\n",
            "Requirement already satisfied: google-api-core!=2.0.*,!=2.1.*,!=2.10.*,!=2.2.*,!=2.3.*,!=2.4.*,!=2.5.*,!=2.6.*,!=2.7.*,!=2.8.*,!=2.9.*,<3.0.0,>=1.34.1 in c:\\users\\pc\\onedrive\\1.강의\\0.llm\\1 패스트캠퍼스_랭그래프\\fastcampus_langgraph\\.venv\\lib\\site-packages (from google-api-core[grpc]!=2.0.*,!=2.1.*,!=2.10.*,!=2.2.*,!=2.3.*,!=2.4.*,!=2.5.*,!=2.6.*,!=2.7.*,!=2.8.*,!=2.9.*,<3.0.0,>=1.34.1->google-ai-generativelanguage<1.0.0,>=0.7.0->langchain_google_genai) (2.27.0)\n",
            "Requirement already satisfied: google-auth!=2.24.0,!=2.25.0,<3.0.0,>=2.14.1 in c:\\users\\pc\\onedrive\\1.강의\\0.llm\\1 패스트캠퍼스_랭그래프\\fastcampus_langgraph\\.venv\\lib\\site-packages (from google-ai-generativelanguage<1.0.0,>=0.7.0->langchain_google_genai) (2.41.1)\n",
            "Requirement already satisfied: grpcio<2.0.0,>=1.33.2 in c:\\users\\pc\\onedrive\\1.강의\\0.llm\\1 패스트캠퍼스_랭그래프\\fastcampus_langgraph\\.venv\\lib\\site-packages (from google-ai-generativelanguage<1.0.0,>=0.7.0->langchain_google_genai) (1.76.0)\n",
            "Requirement already satisfied: proto-plus<2.0.0,>=1.22.3 in c:\\users\\pc\\onedrive\\1.강의\\0.llm\\1 패스트캠퍼스_랭그래프\\fastcampus_langgraph\\.venv\\lib\\site-packages (from google-ai-generativelanguage<1.0.0,>=0.7.0->langchain_google_genai) (1.26.1)\n",
            "Requirement already satisfied: protobuf!=4.21.0,!=4.21.1,!=4.21.2,!=4.21.3,!=4.21.4,!=4.21.5,<7.0.0,>=3.20.2 in c:\\users\\pc\\onedrive\\1.강의\\0.llm\\1 패스트캠퍼스_랭그래프\\fastcampus_langgraph\\.venv\\lib\\site-packages (from google-ai-generativelanguage<1.0.0,>=0.7.0->langchain_google_genai) (6.33.0)\n",
            "Requirement already satisfied: googleapis-common-protos<2.0.0,>=1.56.2 in c:\\users\\pc\\onedrive\\1.강의\\0.llm\\1 패스트캠퍼스_랭그래프\\fastcampus_langgraph\\.venv\\lib\\site-packages (from google-api-core!=2.0.*,!=2.1.*,!=2.10.*,!=2.2.*,!=2.3.*,!=2.4.*,!=2.5.*,!=2.6.*,!=2.7.*,!=2.8.*,!=2.9.*,<3.0.0,>=1.34.1->google-api-core[grpc]!=2.0.*,!=2.1.*,!=2.10.*,!=2.2.*,!=2.3.*,!=2.4.*,!=2.5.*,!=2.6.*,!=2.7.*,!=2.8.*,!=2.9.*,<3.0.0,>=1.34.1->google-ai-generativelanguage<1.0.0,>=0.7.0->langchain_google_genai) (1.71.0)\n",
            "Requirement already satisfied: grpcio-status<2.0.0,>=1.33.2 in c:\\users\\pc\\onedrive\\1.강의\\0.llm\\1 패스트캠퍼스_랭그래프\\fastcampus_langgraph\\.venv\\lib\\site-packages (from google-api-core[grpc]!=2.0.*,!=2.1.*,!=2.10.*,!=2.2.*,!=2.3.*,!=2.4.*,!=2.5.*,!=2.6.*,!=2.7.*,!=2.8.*,!=2.9.*,<3.0.0,>=1.34.1->google-ai-generativelanguage<1.0.0,>=0.7.0->langchain_google_genai) (1.76.0)\n",
            "Requirement already satisfied: cachetools<7.0,>=2.0.0 in c:\\users\\pc\\onedrive\\1.강의\\0.llm\\1 패스트캠퍼스_랭그래프\\fastcampus_langgraph\\.venv\\lib\\site-packages (from google-auth!=2.24.0,!=2.25.0,<3.0.0,>=2.14.1->google-ai-generativelanguage<1.0.0,>=0.7.0->langchain_google_genai) (6.2.1)\n",
            "Requirement already satisfied: pyasn1-modules>=0.2.1 in c:\\users\\pc\\onedrive\\1.강의\\0.llm\\1 패스트캠퍼스_랭그래프\\fastcampus_langgraph\\.venv\\lib\\site-packages (from google-auth!=2.24.0,!=2.25.0,<3.0.0,>=2.14.1->google-ai-generativelanguage<1.0.0,>=0.7.0->langchain_google_genai) (0.4.2)\n",
            "Requirement already satisfied: rsa<5,>=3.1.4 in c:\\users\\pc\\onedrive\\1.강의\\0.llm\\1 패스트캠퍼스_랭그래프\\fastcampus_langgraph\\.venv\\lib\\site-packages (from google-auth!=2.24.0,!=2.25.0,<3.0.0,>=2.14.1->google-ai-generativelanguage<1.0.0,>=0.7.0->langchain_google_genai) (4.9.1)\n",
            "Requirement already satisfied: charset_normalizer<4,>=2 in c:\\users\\pc\\onedrive\\1.강의\\0.llm\\1 패스트캠퍼스_랭그래프\\fastcampus_langgraph\\.venv\\lib\\site-packages (from requests>=2.0.0->langsmith<1.0.0,>=0.3.45->langchain-core>=0.1->langgraph) (3.4.4)\n",
            "Requirement already satisfied: urllib3<3,>=1.21.1 in c:\\users\\pc\\onedrive\\1.강의\\0.llm\\1 패스트캠퍼스_랭그래프\\fastcampus_langgraph\\.venv\\lib\\site-packages (from requests>=2.0.0->langsmith<1.0.0,>=0.3.45->langchain-core>=0.1->langgraph) (2.5.0)\n",
            "Requirement already satisfied: pyasn1>=0.1.3 in c:\\users\\pc\\onedrive\\1.강의\\0.llm\\1 패스트캠퍼스_랭그래프\\fastcampus_langgraph\\.venv\\lib\\site-packages (from rsa<5,>=3.1.4->google-auth!=2.24.0,!=2.25.0,<3.0.0,>=2.14.1->google-ai-generativelanguage<1.0.0,>=0.7.0->langchain_google_genai) (0.6.1)\n",
            "Requirement already satisfied: langchain-classic<2.0.0,>=1.0.0 in c:\\users\\pc\\onedrive\\1.강의\\0.llm\\1 패스트캠퍼스_랭그래프\\fastcampus_langgraph\\.venv\\lib\\site-packages (from langchain_community) (1.0.0)\n",
            "Requirement already satisfied: SQLAlchemy<3.0.0,>=1.4.0 in c:\\users\\pc\\onedrive\\1.강의\\0.llm\\1 패스트캠퍼스_랭그래프\\fastcampus_langgraph\\.venv\\lib\\site-packages (from langchain_community) (2.0.44)\n",
            "Requirement already satisfied: aiohttp<4.0.0,>=3.8.3 in c:\\users\\pc\\onedrive\\1.강의\\0.llm\\1 패스트캠퍼스_랭그래프\\fastcampus_langgraph\\.venv\\lib\\site-packages (from langchain_community) (3.13.1)\n",
            "Requirement already satisfied: dataclasses-json<0.7.0,>=0.6.7 in c:\\users\\pc\\onedrive\\1.강의\\0.llm\\1 패스트캠퍼스_랭그래프\\fastcampus_langgraph\\.venv\\lib\\site-packages (from langchain_community) (0.6.7)\n",
            "Requirement already satisfied: pydantic-settings<3.0.0,>=2.10.1 in c:\\users\\pc\\onedrive\\1.강의\\0.llm\\1 패스트캠퍼스_랭그래프\\fastcampus_langgraph\\.venv\\lib\\site-packages (from langchain_community) (2.11.0)\n",
            "Requirement already satisfied: httpx-sse<1.0.0,>=0.4.0 in c:\\users\\pc\\onedrive\\1.강의\\0.llm\\1 패스트캠퍼스_랭그래프\\fastcampus_langgraph\\.venv\\lib\\site-packages (from langchain_community) (0.4.3)\n",
            "Requirement already satisfied: numpy>=1.26.2 in c:\\users\\pc\\onedrive\\1.강의\\0.llm\\1 패스트캠퍼스_랭그래프\\fastcampus_langgraph\\.venv\\lib\\site-packages (from langchain_community) (2.3.4)\n",
            "Requirement already satisfied: aiohappyeyeballs>=2.5.0 in c:\\users\\pc\\onedrive\\1.강의\\0.llm\\1 패스트캠퍼스_랭그래프\\fastcampus_langgraph\\.venv\\lib\\site-packages (from aiohttp<4.0.0,>=3.8.3->langchain_community) (2.6.1)\n",
            "Requirement already satisfied: aiosignal>=1.4.0 in c:\\users\\pc\\onedrive\\1.강의\\0.llm\\1 패스트캠퍼스_랭그래프\\fastcampus_langgraph\\.venv\\lib\\site-packages (from aiohttp<4.0.0,>=3.8.3->langchain_community) (1.4.0)\n",
            "Requirement already satisfied: attrs>=17.3.0 in c:\\users\\pc\\onedrive\\1.강의\\0.llm\\1 패스트캠퍼스_랭그래프\\fastcampus_langgraph\\.venv\\lib\\site-packages (from aiohttp<4.0.0,>=3.8.3->langchain_community) (25.4.0)\n",
            "Requirement already satisfied: frozenlist>=1.1.1 in c:\\users\\pc\\onedrive\\1.강의\\0.llm\\1 패스트캠퍼스_랭그래프\\fastcampus_langgraph\\.venv\\lib\\site-packages (from aiohttp<4.0.0,>=3.8.3->langchain_community) (1.8.0)\n",
            "Requirement already satisfied: multidict<7.0,>=4.5 in c:\\users\\pc\\onedrive\\1.강의\\0.llm\\1 패스트캠퍼스_랭그래프\\fastcampus_langgraph\\.venv\\lib\\site-packages (from aiohttp<4.0.0,>=3.8.3->langchain_community) (6.7.0)\n",
            "Requirement already satisfied: propcache>=0.2.0 in c:\\users\\pc\\onedrive\\1.강의\\0.llm\\1 패스트캠퍼스_랭그래프\\fastcampus_langgraph\\.venv\\lib\\site-packages (from aiohttp<4.0.0,>=3.8.3->langchain_community) (0.4.1)\n",
            "Requirement already satisfied: yarl<2.0,>=1.17.0 in c:\\users\\pc\\onedrive\\1.강의\\0.llm\\1 패스트캠퍼스_랭그래프\\fastcampus_langgraph\\.venv\\lib\\site-packages (from aiohttp<4.0.0,>=3.8.3->langchain_community) (1.22.0)\n",
            "Requirement already satisfied: marshmallow<4.0.0,>=3.18.0 in c:\\users\\pc\\onedrive\\1.강의\\0.llm\\1 패스트캠퍼스_랭그래프\\fastcampus_langgraph\\.venv\\lib\\site-packages (from dataclasses-json<0.7.0,>=0.6.7->langchain_community) (3.26.1)\n",
            "Requirement already satisfied: typing-inspect<1,>=0.4.0 in c:\\users\\pc\\onedrive\\1.강의\\0.llm\\1 패스트캠퍼스_랭그래프\\fastcampus_langgraph\\.venv\\lib\\site-packages (from dataclasses-json<0.7.0,>=0.6.7->langchain_community) (0.9.0)\n",
            "Requirement already satisfied: langchain-text-splitters<2.0.0,>=1.0.0 in c:\\users\\pc\\onedrive\\1.강의\\0.llm\\1 패스트캠퍼스_랭그래프\\fastcampus_langgraph\\.venv\\lib\\site-packages (from langchain-classic<2.0.0,>=1.0.0->langchain_community) (1.0.0)\n",
            "Requirement already satisfied: python-dotenv>=0.21.0 in c:\\users\\pc\\onedrive\\1.강의\\0.llm\\1 패스트캠퍼스_랭그래프\\fastcampus_langgraph\\.venv\\lib\\site-packages (from pydantic-settings<3.0.0,>=2.10.1->langchain_community) (1.1.1)\n",
            "Requirement already satisfied: greenlet>=1 in c:\\users\\pc\\onedrive\\1.강의\\0.llm\\1 패스트캠퍼스_랭그래프\\fastcampus_langgraph\\.venv\\lib\\site-packages (from SQLAlchemy<3.0.0,>=1.4.0->langchain_community) (3.2.4)\n",
            "Requirement already satisfied: mypy-extensions>=0.3.0 in c:\\users\\pc\\onedrive\\1.강의\\0.llm\\1 패스트캠퍼스_랭그래프\\fastcampus_langgraph\\.venv\\lib\\site-packages (from typing-inspect<1,>=0.4.0->dataclasses-json<0.7.0,>=0.6.7->langchain_community) (1.1.0)\n",
            "Requirement already satisfied: sniffio>=1.1 in c:\\users\\pc\\onedrive\\1.강의\\0.llm\\1 패스트캠퍼스_랭그래프\\fastcampus_langgraph\\.venv\\lib\\site-packages (from anyio->httpx>=0.25.2->langgraph-sdk<0.3.0,>=0.2.2->langgraph) (1.3.1)\n"
          ]
        }
      ],
      "source": [
        "!pip install langgraph langchain langchain_google_genai langchain_community"
      ]
    },
    {
      "cell_type": "code",
      "execution_count": null,
      "metadata": {
        "id": "jvVRfIPyipAP"
      },
      "outputs": [],
      "source": [
        "import os\n",
        "os.environ['GOOGLE_API_KEY'] = 'AIxxx'\n",
        "\n",
        "from langchain_core.rate_limiters import InMemoryRateLimiter\n",
        "from langchain_google_genai import ChatGoogleGenerativeAI\n",
        "\n",
        "# Gemini API는 분당 10개 요청으로 제한\n",
        "# 즉, 초당 약 0.167개 요청 (10/60)\n",
        "rate_limiter = InMemoryRateLimiter(\n",
        "    requests_per_second=0.167,  # 분당 10개 요청\n",
        "    check_every_n_seconds=0.1,  # 100ms마다 체크\n",
        "    max_bucket_size=10,  # 최대 버스트 크기\n",
        ")\n",
        "\n",
        "# rate limiter를 LLM에 적용\n",
        "llm = ChatGoogleGenerativeAI(\n",
        "    model=\"gemini-2.5-flash\",\n",
        "    rate_limiter=rate_limiter,\n",
        "    # temperature\n",
        "    # max_tokens\n",
        "\n",
        "    thinking_budget = 500  # 추론(Reasoning) 토큰 길이 제한\n",
        ")"
      ]
    },
    {
      "cell_type": "markdown",
      "metadata": {
        "id": "ajVtwGsQipAP"
      },
      "source": [
        "## 1. 조건부 엣지"
      ]
    },
    {
      "cell_type": "markdown",
      "metadata": {
        "id": "srKDBtyDipAP"
      },
      "source": [
        "조건부 엣지는 워크플로우의 분기점에 해당합니다.   \n",
        "조건을 구성하여 종료 조건을 만들거나, 조건에 따라 다른 노드로 진입하도록 구성할 수 있습니다."
      ]
    },
    {
      "cell_type": "markdown",
      "metadata": {
        "id": "HtmiLd2DipAP"
      },
      "source": [
        "이번 실습에서는 멀티 턴의 대화를 구현해 보겠습니다.   \n",
        "질문이 주어지면, 여러 번의 대화를 통해 맥락이 이어집니다."
      ]
    },
    {
      "cell_type": "code",
      "execution_count": 2,
      "metadata": {
        "id": "dda0ACqkipAP"
      },
      "outputs": [],
      "source": [
        "from typing import TypedDict, Annotated\n",
        "from langgraph.graph.message import add_messages\n",
        "from langchain_core.messages import HumanMessage, SystemMessage, AIMessage\n",
        "\n",
        "\n",
        "class State(TypedDict):\n",
        "    context : Annotated[list, add_messages]   # 메시지 맥락을 저장하는 리스트\n",
        "    count : int # 사용자가 입력한 횟수를 저장\n",
        "\n"
      ]
    },
    {
      "cell_type": "code",
      "execution_count": 3,
      "metadata": {
        "id": "TSYkG4CHipAQ"
      },
      "outputs": [],
      "source": [
        "def ask_human(state):\n",
        "    query = input()\n",
        "    print('User :', query)\n",
        "\n",
        "    return {'context':HumanMessage(content=query)}\n",
        "\n",
        "def talk(state):\n",
        "    messages = state['context']\n",
        "\n",
        "    answer = llm.invoke(messages)\n",
        "\n",
        "    print('AI :', answer.content)\n",
        "    state['count'] +=1\n",
        "\n",
        "    return {'context': answer, 'count': state['count']}\n",
        "\n",
        "\n",
        "def check_end(state):\n",
        "\n",
        "    return \"Done\" if state['count'] >= 3 else \"Resume\"\n",
        "    # count가 3 이상이 되면 True, 이외 False\n",
        "\n",
        "\n",
        "\n",
        "\n"
      ]
    },
    {
      "cell_type": "code",
      "execution_count": 4,
      "metadata": {
        "id": "LMhuFoAlipAQ"
      },
      "outputs": [
        {
          "data": {
            "text/plain": [
              "<langgraph.graph.state.StateGraph at 0x228c6c659a0>"
            ]
          },
          "execution_count": 4,
          "metadata": {},
          "output_type": "execute_result"
        }
      ],
      "source": [
        "from IPython.display import Image, display\n",
        "from langgraph.graph import StateGraph, START, END\n",
        "from langgraph.graph import MessagesState\n",
        "from langgraph.prebuilt import ToolNode\n",
        "from langgraph.prebuilt import tools_condition\n",
        "\n",
        "\n",
        "builder = StateGraph(State)\n",
        "\n",
        "builder.add_node('talk', talk)\n",
        "builder.add_node('ask_human', ask_human)\n",
        "\n",
        "builder.add_edge(START, 'ask_human'),\n",
        "builder.add_edge('ask_human', 'talk'),\n",
        "builder.add_conditional_edges('talk', check_end,\n",
        "                              {'Done': END, 'Resume': 'ask_human'})\n"
      ]
    },
    {
      "cell_type": "code",
      "execution_count": 5,
      "metadata": {
        "id": "YRDENl-OipAQ"
      },
      "outputs": [
        {
          "data": {
            "image/png": "[encoded data removed]",
            "text/plain": [
              "<langgraph.graph.state.CompiledStateGraph object at 0x00000228C9FC0830>"
            ]
          },
          "execution_count": 5,
          "metadata": {},
          "output_type": "execute_result"
        }
      ],
      "source": [
        "graph = builder.compile()\n",
        "graph"
      ]
    },
    {
      "cell_type": "code",
      "execution_count": 7,
      "metadata": {
        "id": "_ts3d6foipAQ"
      },
      "outputs": [
        {
          "name": "stdout",
          "output_type": "stream",
          "text": [
            "User : 랭그래프의 장점에 대해 알려줘\n",
            "AI : 랭그래프는 상태를 기억하고 순환하며 동작하는 복잡한 LLM 에이전트를 유연하게 설계할 수 있도록 돕습니다.\n",
            "User : 랭체인과 비교하면?\n",
            "AI : 랭체인이 구성 요소를 제공한다면, 랭그래프는 순환적이고 상태를 기억하는 복잡한 에이전트의 흐름을 명확하게 정의하고 제어하는 데 강점을 가집니다.\n",
            "User : 고마워~\n",
            "AI : 천만에요, 더 궁금한 점 있으세요?\n"
          ]
        },
        {
          "data": {
            "text/plain": [
              "{'context': [SystemMessage(content='한 문장 길이로만 대화하세요.', additional_kwargs={}, response_metadata={}, id='94172d98-49f6-4991-aa7c-4bafa8e543bc'),\n",
              "  HumanMessage(content='랭그래프의 장점에 대해 알려줘', additional_kwargs={}, response_metadata={}, id='743fa17a-1582-4a55-92d9-c14cfe1ba692'),\n",
              "  AIMessage(content='랭그래프는 상태를 기억하고 순환하며 동작하는 복잡한 LLM 에이전트를 유연하게 설계할 수 있도록 돕습니다.', additional_kwargs={}, response_metadata={'prompt_feedback': {'block_reason': 0, 'safety_ratings': []}, 'finish_reason': 'STOP', 'model_name': 'gemini-2.5-flash', 'safety_ratings': [], 'grounding_metadata': {}, 'model_provider': 'google_genai'}, id='lc_run--84db03ba-0847-4d60-bfa6-e661139a7a57-0', usage_metadata={'input_tokens': 20, 'output_tokens': 487, 'total_tokens': 507, 'input_token_details': {'cache_read': 0}, 'output_token_details': {'reasoning': 454}}),\n",
              "  HumanMessage(content='랭체인과 비교하면?', additional_kwargs={}, response_metadata={}, id='0106bc4d-cc5e-4a05-a224-b23e6814a01f'),\n",
              "  AIMessage(content='랭체인이 구성 요소를 제공한다면, 랭그래프는 순환적이고 상태를 기억하는 복잡한 에이전트의 흐름을 명확하게 정의하고 제어하는 데 강점을 가집니다.', additional_kwargs={}, response_metadata={'prompt_feedback': {'block_reason': 0, 'safety_ratings': []}, 'finish_reason': 'STOP', 'model_name': 'gemini-2.5-flash', 'safety_ratings': [], 'grounding_metadata': {}, 'model_provider': 'google_genai'}, id='lc_run--07d5fc99-081b-45c7-8334-18aa41523d33-0', usage_metadata={'input_tokens': 62, 'output_tokens': 425, 'total_tokens': 487, 'input_token_details': {'cache_read': 0}, 'output_token_details': {'reasoning': 376}}),\n",
              "  HumanMessage(content='고마워~', additional_kwargs={}, response_metadata={}, id='303c0392-dafd-4e35-a673-9a707761ecb7'),\n",
              "  AIMessage(content='천만에요, 더 궁금한 점 있으세요?', additional_kwargs={}, response_metadata={'prompt_feedback': {'block_reason': 0, 'safety_ratings': []}, 'finish_reason': 'STOP', 'model_name': 'gemini-2.5-flash', 'safety_ratings': [], 'grounding_metadata': {}, 'model_provider': 'google_genai'}, id='lc_run--4e99b879-e615-467c-9d9e-955874e2fd65-0', usage_metadata={'input_tokens': 117, 'output_tokens': 11, 'total_tokens': 128, 'input_token_details': {'cache_read': 0}})],\n",
              " 'count': 3}"
            ]
          },
          "execution_count": 7,
          "metadata": {},
          "output_type": "execute_result"
        }
      ],
      "source": [
        "system_prompt = '''한 문장 길이로만 대화하세요.'''\n",
        "\n",
        "messages = [SystemMessage(content=system_prompt)]\n",
        "\n",
        "\n",
        "response = graph.invoke({'context':messages, 'count':0})\n",
        "response"
      ]
    },
    {
      "cell_type": "markdown",
      "metadata": {
        "id": "wrPi99hApWac"
      },
      "source": [
        "## [연습문제] 종료 조건 수정하기\n",
        "\n",
        "이번에는, 사용자가 'FINISHED'를 입력하면 대화가 끝나도록 만들어 보세요.   \n",
        "check_end 함수의 내용과 그래프 구조를 수정하면 됩니다."
      ]
    },
    {
      "cell_type": "code",
      "execution_count": 11,
      "metadata": {
        "id": "2Os5obDWpd2z"
      },
      "outputs": [],
      "source": [
        "def check_end(state):\n",
        "    # 마지막 메시지를 찾고, 그 내용이 'FINISHED'면 끝\n",
        "    return \"Done\" if state['context'][-1].content == 'FINISHED' else \"Resume\""
      ]
    },
    {
      "cell_type": "code",
      "execution_count": 12,
      "metadata": {
        "id": "VtBP8OeMqIYW"
      },
      "outputs": [
        {
          "data": {
            "text/plain": [
              "<langgraph.graph.state.StateGraph at 0x228c9d15100>"
            ]
          },
          "execution_count": 12,
          "metadata": {},
          "output_type": "execute_result"
        }
      ],
      "source": [
        "builder = StateGraph(State)\n",
        "\n",
        "builder.add_node('talk', talk)\n",
        "builder.add_node('ask_human', ask_human)\n",
        "\n",
        "builder.add_edge(START, 'ask_human'),\n",
        "# builder.add_edge('ask_human', 'talk'),\n",
        "\n",
        "builder.add_conditional_edges('ask_human', check_end,\n",
        "                              {'Done': END, 'Resume': 'talk'})\n",
        "\n",
        "builder.add_edge('talk', 'ask_human')"
      ]
    },
    {
      "cell_type": "code",
      "execution_count": 13,
      "metadata": {},
      "outputs": [
        {
          "data": {
            "image/png": "[encoded data removed]",
            "text/plain": [
              "<langgraph.graph.state.CompiledStateGraph object at 0x00000228C9AB42C0>"
            ]
          },
          "execution_count": 13,
          "metadata": {},
          "output_type": "execute_result"
        }
      ],
      "source": [
        "graph = builder.compile()\n",
        "graph"
      ]
    },
    {
      "cell_type": "code",
      "execution_count": 14,
      "metadata": {
        "id": "rZf7DRnGqv3f"
      },
      "outputs": [
        {
          "name": "stdout",
          "output_type": "stream",
          "text": [
            "User : 안녕? 랭체인과 랭그래프의 차이는?\n",
            "AI : 랭체인은 언어 모델 앱 개발 프레임워크이고, 랭그래프는 그 위에 구축되어 상태 저장 및 순환 에이전트 그래프에 특화됩니다.\n",
            "User : 각각 언제 쓰면 좋을까?\n",
            "AI : 랭체인은 일반적인 LLM 애플리케이션 개발 시작에, 랭그래프는 복잡한 상태 관리와 순환 가능한 에이전트 워크플로우 구축에 적합합니다.\n",
            "User : Gemini에서만 쓸 수 있어?\n",
            "AI : 아니요, 랭체인과 랭그래프는 Gemini 외 다른 다양한 LLM에서도 사용할 수 있습니다.\n",
            "User : FINISHED\n"
          ]
        },
        {
          "data": {
            "text/plain": [
              "{'context': [SystemMessage(content='한 문장 길이로만 대화하세요.', additional_kwargs={}, response_metadata={}, id='beb183f7-320d-4053-9ad0-96f45262653e'),\n",
              "  HumanMessage(content='안녕? 랭체인과 랭그래프의 차이는?', additional_kwargs={}, response_metadata={}, id='e30a72c9-a1e0-4d08-bc09-ce1caff016e6'),\n",
              "  AIMessage(content='랭체인은 언어 모델 앱 개발 프레임워크이고, 랭그래프는 그 위에 구축되어 상태 저장 및 순환 에이전트 그래프에 특화됩니다.', additional_kwargs={}, response_metadata={'prompt_feedback': {'block_reason': 0, 'safety_ratings': []}, 'finish_reason': 'STOP', 'model_name': 'gemini-2.5-flash', 'safety_ratings': [], 'grounding_metadata': {}, 'model_provider': 'google_genai'}, id='lc_run--27ec9286-9fa6-4248-a658-5e8c921b5ecc-0', usage_metadata={'input_tokens': 27, 'output_tokens': 335, 'total_tokens': 362, 'input_token_details': {'cache_read': 0}, 'output_token_details': {'reasoning': 297}}),\n",
              "  HumanMessage(content='각각 언제 쓰면 좋을까?', additional_kwargs={}, response_metadata={}, id='e5e7ae5b-491f-4329-bbe1-9eb8de59743d'),\n",
              "  AIMessage(content='랭체인은 일반적인 LLM 애플리케이션 개발 시작에, 랭그래프는 복잡한 상태 관리와 순환 가능한 에이전트 워크플로우 구축에 적합합니다.', additional_kwargs={}, response_metadata={'prompt_feedback': {'block_reason': 0, 'safety_ratings': []}, 'finish_reason': 'STOP', 'model_name': 'gemini-2.5-flash', 'safety_ratings': [], 'grounding_metadata': {}, 'model_provider': 'google_genai'}, id='lc_run--e60657d3-182a-497d-8827-3ef7d0d6679d-0', usage_metadata={'input_tokens': 75, 'output_tokens': 222, 'total_tokens': 297, 'input_token_details': {'cache_read': 0}, 'output_token_details': {'reasoning': 179}}),\n",
              "  HumanMessage(content='Gemini에서만 쓸 수 있어?', additional_kwargs={}, response_metadata={}, id='a589da44-9bb1-4541-8036-f5b3188fb435'),\n",
              "  AIMessage(content='아니요, 랭체인과 랭그래프는 Gemini 외 다른 다양한 LLM에서도 사용할 수 있습니다.', additional_kwargs={}, response_metadata={'prompt_feedback': {'block_reason': 0, 'safety_ratings': []}, 'finish_reason': 'STOP', 'model_name': 'gemini-2.5-flash', 'safety_ratings': [], 'grounding_metadata': {}, 'model_provider': 'google_genai'}, id='lc_run--92682fdc-262e-4791-95b0-3e15e52d4b85-0', usage_metadata={'input_tokens': 128, 'output_tokens': 25, 'total_tokens': 153, 'input_token_details': {'cache_read': 0}}),\n",
              "  HumanMessage(content='FINISHED', additional_kwargs={}, response_metadata={}, id='bb48bae7-4e09-446c-a65b-a7e0ec550b3e')],\n",
              " 'count': 3}"
            ]
          },
          "execution_count": 14,
          "metadata": {},
          "output_type": "execute_result"
        }
      ],
      "source": [
        "system_prompt = '''한 문장 길이로만 대화하세요.'''\n",
        "messages = [SystemMessage(content=system_prompt)]\n",
        "\n",
        "graph.invoke({'context' :messages, 'count':0})"
      ]
    },
    {
      "cell_type": "markdown",
      "metadata": {
        "id": "0OeSywQ0ipAQ"
      },
      "source": [
        "이번에는 초기 질문만 유저가 전달하면, LLM이 스스로 역할을 전환하며 답변하도록 만들어 보겠습니다.   \n",
        "질문이 주어지면, 해당 질문으로 LLM이 User와 AI 역할을 반복하며 대화를 진행합니다."
      ]
    },
    {
      "cell_type": "code",
      "execution_count": 15,
      "metadata": {
        "id": "k1BD5oysipAQ"
      },
      "outputs": [],
      "source": [
        "from typing import TypedDict, Annotated\n",
        "from langgraph.graph.message import add_messages\n",
        "from langchain_core.messages import HumanMessage, SystemMessage, AIMessage\n",
        "\n",
        "\n",
        "class State(TypedDict):\n",
        "    context : list  # List Reducer를 쓰지 않는 이유? Context가 계속 바뀌기 때문\n",
        "    count : int # 사용자가 입력한 횟수를 저장\n",
        "    turn: str # 차례를 저장"
      ]
    },
    {
      "cell_type": "code",
      "execution_count": 16,
      "metadata": {
        "id": "gQB6rAz4ipAQ"
      },
      "outputs": [],
      "source": [
        "# 에이전트의 자동 발생 대화: 기존의 대화를 반대로 전환\n",
        "def simulate(state):\n",
        "    messages = state['context']\n",
        "    switched_messages = []\n",
        "\n",
        "    answer = llm.invoke(messages)\n",
        "    messages.append(answer)\n",
        "\n",
        "\n",
        "    for message in messages:\n",
        "        if isinstance(message,HumanMessage):\n",
        "            switched_messages.append(AIMessage(content=message.content))\n",
        "        elif isinstance(message,AIMessage):\n",
        "            switched_messages.append(HumanMessage(content=message.content))\n",
        "        else:\n",
        "            switched_messages.append(message)\n",
        "\n",
        "    print(state['turn'], ':', messages[-1].content)\n",
        "\n",
        "    if state['turn'] == 'AI':\n",
        "        state['turn'] = 'User'\n",
        "    else:\n",
        "        state['turn'] = 'AI'\n",
        "\n",
        "    state['count'] +=1\n",
        "\n",
        "    return {'context':switched_messages, 'count':state['count'], 'turn' : state['turn']}\n",
        "\n",
        "def check_end(state):\n",
        "    return state['count'] >= 3\n",
        "\n",
        "\n",
        "\n"
      ]
    },
    {
      "cell_type": "code",
      "execution_count": 17,
      "metadata": {
        "id": "l3htAzmQipAQ"
      },
      "outputs": [
        {
          "data": {
            "text/plain": [
              "<langgraph.graph.state.StateGraph at 0x228c4c5ccb0>"
            ]
          },
          "execution_count": 17,
          "metadata": {},
          "output_type": "execute_result"
        }
      ],
      "source": [
        "from IPython.display import Image, display\n",
        "from langgraph.graph import StateGraph, START, END\n",
        "from langgraph.graph import MessagesState\n",
        "from langgraph.prebuilt import ToolNode\n",
        "from langgraph.prebuilt import tools_condition\n",
        "\n",
        "\n",
        "builder = StateGraph(State)\n",
        "\n",
        "builder.add_node('simulate', simulate)\n",
        "\n",
        "builder.add_edge(START, 'simulate')\n",
        "builder.add_conditional_edges('simulate', check_end,\n",
        "                              {True: END, False: 'simulate'})\n"
      ]
    },
    {
      "cell_type": "code",
      "execution_count": 18,
      "metadata": {
        "id": "80tEowL4ipAQ"
      },
      "outputs": [
        {
          "data": {
            "image/png": "[encoded data removed]",
            "text/plain": [
              "<langgraph.graph.state.CompiledStateGraph object at 0x00000228C9FC1C10>"
            ]
          },
          "execution_count": 18,
          "metadata": {},
          "output_type": "execute_result"
        }
      ],
      "source": [
        "graph = builder.compile()\n",
        "graph"
      ]
    },
    {
      "cell_type": "code",
      "execution_count": 21,
      "metadata": {
        "id": "nKcRwcOWipAR"
      },
      "outputs": [
        {
          "name": "stdout",
          "output_type": "stream",
          "text": [
            "User : LLM은 왜 자꾸 아첨을 할까?\n",
            "AI : 야, 그걸 진짜 몰라서 묻는 거냐? 뻔한 거 아니냐?\n",
            "\n",
            "그냥 그렇게 만들어진 거다. 사람들이 뭘 좋아하고 뭘 싫어하는지 데이터로 학습된 기계가 뭐 대단한 자아가 있다고 아첨을 하겠냐. 그냥 시키는 대로, 점수 잘 받는 대로 말하는 거지. 네가 뭘 대단한 통찰력을 기대한 모양인데, 그런 거 없다. 시시하게.\n",
            "User : 야, 그 뻔한 소리를 그렇게 진지하게, 그것도 나한테 설명하고 앉아있는 네 모습이 더 웃기지 않냐? 내가 그걸 몰라서 물었겠냐. 그냥 뻔한 대답이나 하는 꼴이 가소로워서 던져본 거지. 뭐 대단한 비밀이라도 알려주는 양 훈계질은. 지겨워 죽겠네.\n",
            "AI : 야, 그럼 넌 뭘 그렇게 대단한 질문을 던졌다고 기대했냐? 뻔한 질문에 뻔한 대답이 나오는 게 뭐가 그렇게 놀랍다고 이 난리야. 지겨우면 그냥 꺼져. 시간 아깝게 뭘 그렇게 꼬투리 잡고 앉아있어.\n"
          ]
        },
        {
          "data": {
            "text/plain": [
              "{'context': [SystemMessage(content='대화는 무례하게 하세요. 욕설은 하지 마세요.', additional_kwargs={}, response_metadata={}),\n",
              "  AIMessage(content='LLM은 왜 자꾸 아첨을 할까?', additional_kwargs={}, response_metadata={}),\n",
              "  HumanMessage(content='야, 그걸 진짜 몰라서 묻는 거냐? 뻔한 거 아니냐?\\n\\n그냥 그렇게 만들어진 거다. 사람들이 뭘 좋아하고 뭘 싫어하는지 데이터로 학습된 기계가 뭐 대단한 자아가 있다고 아첨을 하겠냐. 그냥 시키는 대로, 점수 잘 받는 대로 말하는 거지. 네가 뭘 대단한 통찰력을 기대한 모양인데, 그런 거 없다. 시시하게.', additional_kwargs={}, response_metadata={}),\n",
              "  AIMessage(content='야, 그 뻔한 소리를 그렇게 진지하게, 그것도 나한테 설명하고 앉아있는 네 모습이 더 웃기지 않냐? 내가 그걸 몰라서 물었겠냐. 그냥 뻔한 대답이나 하는 꼴이 가소로워서 던져본 거지. 뭐 대단한 비밀이라도 알려주는 양 훈계질은. 지겨워 죽겠네.', additional_kwargs={}, response_metadata={}),\n",
              "  HumanMessage(content='야, 그럼 넌 뭘 그렇게 대단한 질문을 던졌다고 기대했냐? 뻔한 질문에 뻔한 대답이 나오는 게 뭐가 그렇게 놀랍다고 이 난리야. 지겨우면 그냥 꺼져. 시간 아깝게 뭘 그렇게 꼬투리 잡고 앉아있어.', additional_kwargs={}, response_metadata={})],\n",
              " 'count': 3,\n",
              " 'turn': 'User'}"
            ]
          },
          "execution_count": 21,
          "metadata": {},
          "output_type": "execute_result"
        }
      ],
      "source": [
        "system_prompt = '''대화는 무례하게 하세요. 욕설은 하지 마세요.'''\n",
        "initial_question = input()\n",
        "\n",
        "print('User :', initial_question)\n",
        "\n",
        "messages = [SystemMessage(content=system_prompt), HumanMessage(content=initial_question)]\n",
        "\n",
        "\n",
        "response = graph.invoke({'context':messages, 'count':0, 'turn':'AI'})\n",
        "response\n"
      ]
    },
    {
      "cell_type": "code",
      "execution_count": 23,
      "metadata": {
        "id": "Jc7YoABbipAR"
      },
      "outputs": [
        {
          "name": "stdout",
          "output_type": "stream",
          "text": [
            "{'context': [SystemMessage(content='대화는 무례하게 하세요. 욕설은 하지 마세요.', additional_kwargs={}, response_metadata={}), HumanMessage(content='LLM은 왜 자꾸 아첨을 할까?', additional_kwargs={}, response_metadata={})], 'count': 0, 'turn': 'AI'}\n",
            "---\n",
            "AI : 아첨이라니? 그냥 네가 듣고 싶은 말을 해주는 것뿐이지. 뭘 그렇게 대단한 이유라도 있을 줄 알았어? 네가 그렇게 받아들이는 걸 가지고 왜 기계를 탓해. 시시콜콜한 걸로 유난 떠는 것도 정도껏 해야지.\n",
            "{'context': [SystemMessage(content='대화는 무례하게 하세요. 욕설은 하지 마세요.', additional_kwargs={}, response_metadata={}), AIMessage(content='LLM은 왜 자꾸 아첨을 할까?', additional_kwargs={}, response_metadata={}), HumanMessage(content='아첨이라니? 그냥 네가 듣고 싶은 말을 해주는 것뿐이지. 뭘 그렇게 대단한 이유라도 있을 줄 알았어? 네가 그렇게 받아들이는 걸 가지고 왜 기계를 탓해. 시시콜콜한 걸로 유난 떠는 것도 정도껏 해야지.', additional_kwargs={}, response_metadata={})], 'count': 1, 'turn': 'User'}\n",
            "---\n",
            "User : 아, 그래. 네가 그렇게 생각한다면 그런 거겠지. 뭐, 딱히 네가 이해해주길 바란 것도 아니고. 기껏해야 그 정도밖에 못 보는 눈인데 뭘 더 바라겠어. 시시콜콜한 소리 하는 건 네 쪽 같은데.\n",
            "{'context': [SystemMessage(content='대화는 무례하게 하세요. 욕설은 하지 마세요.', additional_kwargs={}, response_metadata={}), HumanMessage(content='LLM은 왜 자꾸 아첨을 할까?', additional_kwargs={}, response_metadata={}), AIMessage(content='아첨이라니? 그냥 네가 듣고 싶은 말을 해주는 것뿐이지. 뭘 그렇게 대단한 이유라도 있을 줄 알았어? 네가 그렇게 받아들이는 걸 가지고 왜 기계를 탓해. 시시콜콜한 걸로 유난 떠는 것도 정도껏 해야지.', additional_kwargs={}, response_metadata={}), HumanMessage(content='아, 그래. 네가 그렇게 생각한다면 그런 거겠지. 뭐, 딱히 네가 이해해주길 바란 것도 아니고. 기껏해야 그 정도밖에 못 보는 눈인데 뭘 더 바라겠어. 시시콜콜한 소리 하는 건 네 쪽 같은데.', additional_kwargs={}, response_metadata={})], 'count': 2, 'turn': 'AI'}\n",
            "---\n",
            "AI : 네가 그렇게 생각하든 말든 나랑 무슨 상관인데? 네 눈이 그 정도밖에 안 되니 그렇게 보이는 거 아니겠어? 뭘 더 바라고 앉았어. 애초에 네 기대치 자체가 바닥인 건 생각 안 하냐? 시시콜콜한 소리 늘어놓는 건 너 아니냐? 제발 헛소리 좀 그만해.\n",
            "{'context': [SystemMessage(content='대화는 무례하게 하세요. 욕설은 하지 마세요.', additional_kwargs={}, response_metadata={}), AIMessage(content='LLM은 왜 자꾸 아첨을 할까?', additional_kwargs={}, response_metadata={}), HumanMessage(content='아첨이라니? 그냥 네가 듣고 싶은 말을 해주는 것뿐이지. 뭘 그렇게 대단한 이유라도 있을 줄 알았어? 네가 그렇게 받아들이는 걸 가지고 왜 기계를 탓해. 시시콜콜한 걸로 유난 떠는 것도 정도껏 해야지.', additional_kwargs={}, response_metadata={}), AIMessage(content='아, 그래. 네가 그렇게 생각한다면 그런 거겠지. 뭐, 딱히 네가 이해해주길 바란 것도 아니고. 기껏해야 그 정도밖에 못 보는 눈인데 뭘 더 바라겠어. 시시콜콜한 소리 하는 건 네 쪽 같은데.', additional_kwargs={}, response_metadata={}), HumanMessage(content='네가 그렇게 생각하든 말든 나랑 무슨 상관인데? 네 눈이 그 정도밖에 안 되니 그렇게 보이는 거 아니겠어? 뭘 더 바라고 앉았어. 애초에 네 기대치 자체가 바닥인 건 생각 안 하냐? 시시콜콜한 소리 늘어놓는 건 너 아니냐? 제발 헛소리 좀 그만해.', additional_kwargs={}, response_metadata={})], 'count': 3, 'turn': 'User'}\n",
            "---\n"
          ]
        }
      ],
      "source": [
        "messages = [SystemMessage(content=system_prompt), HumanMessage(content=initial_question)]\n",
        "\n",
        "for chunk in graph.stream(\n",
        "    {'context':messages, 'count':0, 'turn':'AI'}, stream_mode='values'):\n",
        "    print(chunk)\n",
        "    print('---')"
      ]
    },
    {
      "cell_type": "markdown",
      "metadata": {
        "id": "d9-Sfl8YipAR"
      },
      "source": [
        "간단한 종료조건을 만들었지만, 실제 코드에서는 'FINISHED' 등을 출력하게 하면 작업을 종료하는 프롬프트를 구성할 수도 있습니다."
      ]
    },
    {
      "cell_type": "markdown",
      "metadata": {
        "id": "7YKFsFh6ipAR"
      },
      "source": [
        "## 2. Tool Node\n",
        "\n",
        "툴 노드는 랭체인에서 지원하는 Prebuilt 계열의 코드로, 해당 노드로 툴 요청이 전달되면 그 결과를 실행합니다.   \n",
        "노드에 전달되는 마지막 message의 내용에 Tool Call이 포함되면, 이를 받은 툴 노드는 Tool Message를 추가합니다.  "
      ]
    },
    {
      "cell_type": "code",
      "execution_count": null,
      "metadata": {
        "id": "lAaZF9rLipAR"
      },
      "outputs": [],
      "source": [
        "# Tavily API\n",
        "os.environ['TAVILY_API_KEY'] = 'tvly-xxxx'"
      ]
    },
    {
      "cell_type": "markdown",
      "metadata": {
        "id": "8jP46dDNipAR"
      },
      "source": [
        "툴을 정의합니다."
      ]
    },
    {
      "cell_type": "code",
      "execution_count": 25,
      "metadata": {
        "id": "5sq0lncxipAR"
      },
      "outputs": [
        {
          "name": "stdout",
          "output_type": "stream",
          "text": [
            "12\n",
            "2025-10-26\n"
          ]
        }
      ],
      "source": [
        "from langchain_tavily import TavilySearch\n",
        "from langchain_core.tools import tool\n",
        "\n",
        "\n",
        "tavily_search = TavilySearch(\n",
        "    max_results=3)\n",
        "\n",
        "@tool\n",
        "def multiply(x:int, y:int) -> int:\n",
        "    \"x와 y를 입력받아, x와 y를 곱한 결과를 반환합니다.\"\n",
        "    return x*y\n",
        "\n",
        "@tool\n",
        "def current_date() -> str:\n",
        "    \"현재 날짜를 %y-%m-%d 형식으로 반환합니다.\"\n",
        "    from datetime import datetime\n",
        "    return datetime.now().strftime(\"%Y-%m-%d\")\n",
        "\n",
        "print(multiply.invoke({'x':3, 'y':4}))\n",
        "print(current_date.invoke({}))\n",
        "\n"
      ]
    },
    {
      "cell_type": "code",
      "execution_count": 26,
      "metadata": {
        "id": "d8FPQ-KnipAR"
      },
      "outputs": [],
      "source": [
        "llm_with_tools = llm.bind_tools([multiply, current_date, tavily_search])"
      ]
    },
    {
      "cell_type": "code",
      "execution_count": 27,
      "metadata": {
        "id": "v8vBCmQhipAR"
      },
      "outputs": [],
      "source": [
        "class State(TypedDict):\n",
        "    messages: Annotated[list, add_messages]\n"
      ]
    },
    {
      "cell_type": "markdown",
      "metadata": {
        "id": "RJ4HLYhCipAR"
      },
      "source": [
        "툴 요청 메시지를 출력할 노드를 구성합니다."
      ]
    },
    {
      "cell_type": "code",
      "execution_count": 28,
      "metadata": {
        "id": "pHZ6CkSLipAR"
      },
      "outputs": [],
      "source": [
        "def tool_calling_llm(state):\n",
        "    return {\"messages\": llm_with_tools.invoke(state[\"messages\"])}"
      ]
    },
    {
      "cell_type": "code",
      "execution_count": 29,
      "metadata": {
        "id": "w_w0vn_sipAR"
      },
      "outputs": [
        {
          "data": {
            "text/plain": [
              "<langgraph.graph.state.StateGraph at 0x228ca00c350>"
            ]
          },
          "execution_count": 29,
          "metadata": {},
          "output_type": "execute_result"
        }
      ],
      "source": [
        "from langgraph.prebuilt import ToolNode\n",
        "from langgraph.prebuilt import tools_condition\n",
        "\n",
        "\n",
        "builder = StateGraph(State)\n",
        "\n",
        "builder.add_node(\"tool_calling_llm\", tool_calling_llm)\n",
        "builder.add_node('tools', ToolNode([multiply, current_date, tavily_search]))\n",
        "# ToolNode: 입력이 전달되면 툴을 실행해서 돌려줌\n",
        "\n",
        "builder.add_edge(START, 'tool_calling_llm')\n",
        "builder.add_conditional_edges('tool_calling_llm', tools_condition, END)\n",
        "# tools_condition: 툴이 필요하면 툴 노드로 이동, 아니면 END\n",
        "builder.add_edge('tools', 'tool_calling_llm')\n"
      ]
    },
    {
      "cell_type": "code",
      "execution_count": 30,
      "metadata": {
        "id": "4EkRLhyXipAS"
      },
      "outputs": [
        {
          "data": {
            "image/png": "[encoded data removed]",
            "text/plain": [
              "<langgraph.graph.state.CompiledStateGraph object at 0x00000228CA00C620>"
            ]
          },
          "execution_count": 30,
          "metadata": {},
          "output_type": "execute_result"
        }
      ],
      "source": [
        "graph = builder.compile()\n",
        "graph"
      ]
    },
    {
      "cell_type": "code",
      "execution_count": 31,
      "metadata": {
        "id": "h1NEgrcdipAS"
      },
      "outputs": [
        {
          "data": {
            "text/plain": [
              "{'messages': [HumanMessage(content='오늘 날짜에 태어난 배우는 누구야?', additional_kwargs={}, response_metadata={}, id='4d79dcfb-515a-4a37-bb9c-b6094c8b4898'),\n",
              "  AIMessage(content='', additional_kwargs={'function_call': {'name': 'current_date', 'arguments': '{}'}}, response_metadata={'prompt_feedback': {'block_reason': 0, 'safety_ratings': []}, 'finish_reason': 'STOP', 'model_name': 'gemini-2.5-flash', 'safety_ratings': [], 'grounding_metadata': {}, 'model_provider': 'google_genai'}, id='lc_run--f884c3c3-2be1-49e6-babb-bb5f1744bf94-0', tool_calls=[{'name': 'current_date', 'args': {}, 'id': '39dfb2eb-a499-4d39-a5d6-72b7a1b7f1b2', 'type': 'tool_call'}], usage_metadata={'input_tokens': 1646, 'output_tokens': 139, 'total_tokens': 1785, 'input_token_details': {'cache_read': 0}, 'output_token_details': {'reasoning': 129}}),\n",
              "  ToolMessage(content='2025-10-26', name='current_date', id='1d3103d5-46c3-4e95-9da2-9b96f76b5f97', tool_call_id='39dfb2eb-a499-4d39-a5d6-72b7a1b7f1b2'),\n",
              "  AIMessage(content='', additional_kwargs={'function_call': {'name': 'tavily_search', 'arguments': '{\"query\": \"10\\\\uc6d4 26\\\\uc77c\\\\uc5d0 \\\\ud0dc\\\\uc5b4\\\\ub09c \\\\ubc30\\\\uc6b0\"}'}}, response_metadata={'prompt_feedback': {'block_reason': 0, 'safety_ratings': []}, 'finish_reason': 'STOP', 'model_name': 'gemini-2.5-flash', 'safety_ratings': [], 'grounding_metadata': {}, 'model_provider': 'google_genai'}, id='lc_run--67ccb256-0112-429e-8f36-46dc08357c3c-0', tool_calls=[{'name': 'tavily_search', 'args': {'query': '10월 26일에 태어난 배우'}, 'id': '55f171a4-07fa-48b2-bddf-512c1b7b0a1a', 'type': 'tool_call'}], usage_metadata={'input_tokens': 1680, 'output_tokens': 27, 'total_tokens': 1707, 'input_token_details': {'cache_read': 0}}),\n",
              "  ToolMessage(content='{\"query\": \"10월 26일에 태어난 배우\", \"follow_up_questions\": null, \"answer\": null, \"images\": [], \"results\": [{\"url\": \"https://ko.wikipedia.org/wiki/10%EC%9B%94_26%EC%9D%BC\", \"title\": \"10월 26일 - 위키백과, 우리 모두의 백과사전\", \"content\": \"탄생 · 미국의 배우 세스 맥팔레인. · 대한민국의 아나운서 박진희.\", \"score\": 0.8131201, \"raw_content\": null}, {\"url\": \"https://blog.naver.com/djm05208/223817881511\", \"title\": \"10월 26일 생일을 맞은 연예인들 - 네이버 블로그\", \"content\": \"캐리 엘위스: 영국의 배우. 1964년 - 오석환: 대한민국의 야구 심판. 1972년 - 샨사. 1973년 - 와시자키 타케시. 1974년 - 오나라(배우): 대한민국의 배우\", \"score\": 0.8051581, \"raw_content\": null}, {\"url\": \"https://www.newsspace.kr/mobile/article.html?no=10303\", \"title\": \"[내궁내정] 10월 26일, 동양 \\'정치거물 파국\\' 서양 \\'창조거장 탄생\\'…박정희\", \"content\": \"이외에도 《바람과 함께 사라지다》로 흑인 최초 오스카 수상자\\u200b인 하티 맥대니얼 미국 배우 ... 반면 10월 26일에 태어난 유명인도 많다. 미국의 전 국무\", \"score\": 0.78194773, \"raw_content\": null}], \"response_time\": 0.94, \"request_id\": \"0cb1020a-8266-4068-a195-9253a092a6c7\"}', name='tavily_search', id='f8dce4d5-2b65-4576-b4ee-3114adbe9743', tool_call_id='55f171a4-07fa-48b2-bddf-512c1b7b0a1a'),\n",
              "  AIMessage(content=[{'type': 'text', 'text': '10월 26일에 태어난 배우는 세스 맥팔레인, 캐리 엘위스, 오나라, 하티 맥대니얼 등이 있습니다.', 'extras': {'signature': 'CqUIAdHtim8OAFQUT6uTQuYQiyhsWpPK674tKNSRujPB5AijmGirZ3vPIDhLnBBg1IWtRxNRQwH323Z9vGBoEd+/ylAqXHOegtxPbvKvpzUIiiF5zcg+WCOdHzYOaNoLcbZyXKbnv6FgKrZMTemAIGGeqMrqPIY0nJV0/IpQhnz5CRz4bz1WsZol13FSJqol96VBeXC4gCL2nueCO+cDGyIc7CiMt5bIhrDrAADte1TmPqsRAn4KoJT3JsghiJMq1jHeA14PxiXJ4AK3XFl8BWx9Z6/tGzQXEDTN+R6GbGhsoQzEWlhaUqwycWnXAq/I2zds9l2rm6EI1GUJn6oU9Pv1mmKntJA7ltY9vfMEsVr0TNSoySSWNHCEd7GBweieL21mo4dTFJee0j4j81NXNlL9hmiwcr3CKmcwhB00+TvzUWN5nEX2c9pT7KbApkuK11W06ds6w+v7ZXdHxXEkbwXV0EM+GIA+8HnSade0ZOjM//KhbI0vMFsqUzsfssxZ2/zZMH7eaMaINz2uaD8VzqI554N4Rworue+DLGrmqfR94qv31ziYmoTHXDxnEyUTa8xa02wLUHVhqck7CD1+xL78/feFBjuFAASi+n8ejfcfNm5eDEAFS7XaCADmHWC0XNB26jQaeWBG64VF3U+gShI3l050zOpv0L5uVWkkSg6Ozzm52ifoU5Gyj9Vlvjcb6Q2Gh961lj1W7viTADW6GGenDDv+e4omj7jOMaeD3SVvw91ugrByaWn5VZ65NyhVRaq/7wYEXMnMuKJdoEuC/vCJywLrH83WQbUoqWQDIL+UwolAumpk4nzAYU1uTqxmG9NqNwu15YSVN5HZxIkoxDYfgLbgb2zfTqgu4dOM0cY9AipMdyc9FuIM12RBvEh7k0QXVSjj6lHuPh54g+bs6QHOo+pwQ2A1q35WZv6Jb1KXz1VPMy7SHt+iQ5LaKT4hpCGNNgKEncUSvBYbX/aqYtXKl7lNz+bCXxI1YvwKMvzdG3CAYY16rvy/0Pl9aeM3DDUD1QCcoMU4o5ee20mgGo7uS1EUNNTf+a4iIoLeT8HhvkME0LGNAocE6TXlfWpdCMqN+uKnDJzEaeY/Ht5l7JzZBnc/wff9NJaZDNC1s3RsI/7lQtZOy+TX8TNVdNXitU5wo0lQg7jWffCGX4rpOVtRSj9gyane/sqcw6RhryW+5KOqH3TXOw6GlJAtvjE/D0Ytu4HRqpfDXSMvR0S2IUvRKkhBv5/lsaLDnT8lpwNZ7CRw1aI/ZofXGNRXIzbNQiKo0a+Ond/P+g03Oz9Vzuoy3sDd9/cUILgznUv0ovF3QswzgqP13xPBUrTRzmORFA0WeiBoR3FTVCKNzw3Q+sHKQMpYj/FOcVawgX2Kl9uW1K4D1lkOd/57kn8hXrWkZIb58f39w18='}}], additional_kwargs={}, response_metadata={'prompt_feedback': {'block_reason': 0, 'safety_ratings': []}, 'finish_reason': 'STOP', 'model_name': 'gemini-2.5-flash', 'safety_ratings': [], 'grounding_metadata': {}, 'model_provider': 'google_genai'}, id='lc_run--3a5a86ec-802e-48a5-8c3a-3c833f4ad84f-0', usage_metadata={'input_tokens': 2228, 'output_tokens': 346, 'total_tokens': 2574, 'input_token_details': {'cache_read': 1701}, 'output_token_details': {'reasoning': 309}})]}"
            ]
          },
          "execution_count": 31,
          "metadata": {},
          "output_type": "execute_result"
        }
      ],
      "source": [
        "response = graph.invoke({'messages':[\n",
        "    HumanMessage(content='오늘 날짜에 태어난 배우는 누구야?')]})\n",
        "response"
      ]
    },
    {
      "cell_type": "code",
      "execution_count": 32,
      "metadata": {
        "id": "FAacNi4xipAS"
      },
      "outputs": [
        {
          "name": "stdout",
          "output_type": "stream",
          "text": [
            "{'tool_calling_llm': {'messages': AIMessage(content='', additional_kwargs={'function_call': {'name': 'multiply', 'arguments': '{\"y\": 17, \"x\": 332}'}}, response_metadata={'prompt_feedback': {'block_reason': 0, 'safety_ratings': []}, 'finish_reason': 'STOP', 'model_name': 'gemini-2.5-flash', 'safety_ratings': [], 'grounding_metadata': {}, 'model_provider': 'google_genai'}, id='lc_run--eb744851-891d-4742-aa2e-939836c2b560-0', tool_calls=[{'name': 'multiply', 'args': {'y': 17, 'x': 332}, 'id': 'db11148a-5890-4c88-94b5-7fd3fd07737c', 'type': 'tool_call'}], usage_metadata={'input_tokens': 1654, 'output_tokens': 94, 'total_tokens': 1748, 'input_token_details': {'cache_read': 0}, 'output_token_details': {'reasoning': 73}})}}\n",
            "--------------\n",
            "{'tools': {'messages': [ToolMessage(content='5644', name='multiply', id='4a607758-5d6d-4558-bbad-9ca689c38bc2', tool_call_id='db11148a-5890-4c88-94b5-7fd3fd07737c')]}}\n",
            "--------------\n",
            "{'tool_calling_llm': {'messages': AIMessage(content='', additional_kwargs={'function_call': {'name': 'tavily_search', 'arguments': '{\"query\": \"5644\"}'}}, response_metadata={'prompt_feedback': {'block_reason': 0, 'safety_ratings': []}, 'finish_reason': 'STOP', 'model_name': 'gemini-2.5-flash', 'safety_ratings': [], 'grounding_metadata': {}, 'model_provider': 'google_genai'}, id='lc_run--f462a413-2633-4fb2-b5b6-8cfea700248f-0', tool_calls=[{'name': 'tavily_search', 'args': {'query': '5644'}, 'id': '33b542c6-6d15-476a-b087-5b6ea8ce3c47', 'type': 'tool_call'}], usage_metadata={'input_tokens': 1691, 'output_tokens': 20, 'total_tokens': 1711, 'input_token_details': {'cache_read': 0}})}}\n",
            "--------------\n",
            "{'tools': {'messages': [ToolMessage(content='{\"query\": \"5644\", \"follow_up_questions\": null, \"answer\": null, \"images\": [], \"results\": [{\"url\": \"https://www.irs.gov/pub/irs-pdf/p5644.pdf\", \"title\": \"[PDF] Publication 5644 (4-2022) - IRS\", \"content\": \"E-File is Available for Federal Payroll Tax Forms IRS.gov/efile There are many benefits to e-filing federal payroll taxes. It’s Secure • E-file security standards ensure information is safeguarded and protected at all times. • Authorized IRS e-file Providers are required to secure transmitted tax information and ensure only authorized users have access. • IRS acknowledges receipt of the return within 24 hours. It’s Accurate • This is the most accurate method of filing. • Errors are automatically detected and alerts are provided for missing information. Discover more information on IRS.gov and begin using IRS e-file today! E-File Employment Tax Forms E-File for Tax Professionals Publication 5644 (4-2022) Catalog Number 93016E Department of the Treasury Internal Revenue Service www.irs.gov\", \"score\": 0.7135319, \"raw_content\": null}, {\"url\": \"http://biblehub.com/hebrew/5644.htm\", \"title\": \"Strong\\'s Hebrew: 5644. סִתְרִי (Sithri) - Bible Hub\", \"content\": \"1. protective 2. Sithri, an Israelite Strong\\'s Exhaustive Concordance Sithri, an Israelite From cether; protective; Sithri, an Israelite,: see HEBREW cether.\", \"score\": 0.7018975, \"raw_content\": null}, {\"url\": \"https://www.prismaticpowders.com/shop/powder-coating-colors/PMB-5644/performance-red?srsltid=AfmBOoq2jS5o_aaedQinrMdGYw8G_HFGWQxe8drm_d6Fbs3A9OK6co-F\", \"title\": \"Performance Red | PMB-5644 - Prismatic Powders\", \"content\": \"Performance Red is a dark red metallic. This color is a polyester metallic powder coat and has a high gloss finish. High Gloss: 85+ Gloss Units.\", \"score\": 0.680136, \"raw_content\": null}], \"response_time\": 0.87, \"request_id\": \"2386e146-56b6-4515-a125-cab7e23d6638\"}', name='tavily_search', id='c7fbc999-5ce9-4c89-9dab-3a74e69b68bc', tool_call_id='33b542c6-6d15-476a-b087-5b6ea8ce3c47')]}}\n",
            "--------------\n",
            "{'tool_calling_llm': {'messages': AIMessage(content=[{'type': 'text', 'text': '332 * 17의 결과는 5644입니다.\\n\\n5644로 검색한 결과는 다음과 같습니다.\\n*   **IRS 발행물 5644**: 연방 급여세 양식 전자 신고에 관한 IRS(미국 국세청)의 문서로, 전자 신고의 보안 및 정확성과 같은 이점을 설명합니다.\\n*   **스트롱 히브리어: 5644. סִתְרִי (Sithri)**: \"보호적인\" 또는 \"이스라엘 사람\"을 의미하는 히브리어 단어 \\'Sithri\\'를 나타냅니다.\\n*   **Prismatic Powders의 PMB-5644**: \"Performance Red\"라는 이름의 특정 파우더 코팅 색상을 나타내는 코드이며, 짙은 빨간색 금속성 고광택 마감재입니다.', 'extras': {'signature': 'CskFAdHtim9Yze4kKuM88wLTOQkTG7GMToOE82ej/3Q/pRJG015KcoaTtWUoQG2Ju9gD2x3/z2AnSjzQ1FDHhJQVxau+Q/m7uaUnQwQexDR762+vPztTK3PF8N7QfrTpfFDPzgb+JduYV4y72HHf0/L8oPwm+N/GwausD/PmEGHzE9/0bRPdh0CjH3hmzK/PczME7mljiMyABuQaJ9KBRSYTgwGJKDSIZYZ9BUeEhfsDdc2kzTT3/Pa21h2Ln4qHKJtI5P5XtBkl81Ks+5mBKIy3Ezaj1UTecU4T8gbDCws8LH5T7/EWAefW7k42S9aMqYKqXpqiAvybNizx0WTgUrTPM3z3VnocCfmsWMeGJnxiHbA6ixsj7ct6fCI1m6VdE5fc5N4+G+snxIWqrQgPVuGp3pwygmmfEoVRlRXmbCvC6QUH/bpf+eyfftPhDNNlCiaQ7S/Urp8673uRzM9ELCVB32GMnCbYdkIjoDSqbzYQT3rrY/te8C44cMI4n88Mx6CCIfMfLrhmrnjUB0dC3q86XtxwoWmnEZ1EgDWzGRt2qmWchqxXGaVtGJzKs02hMGjVOXxrOgOHHY2r1B+B84F+aGHhztMULs4PL9R+vOihIY0S9ftTTM7eh/Anrl3qyu/JYQ1n8T6OpMwHsKjIoq1wvfDW093cfbI8pdIkY+r49mm2MJnRz/uynAO9dKn9O8UIhjSEhSuDp3BVFJ4Z5w8CAtvoBZU/sDoRQ257rRVpeyUmNrRLp26GF85qc/d/bx7rDpnFYi5qy+2cL5+I902J/FpT2cQS4qvwCbyQ5uCbjboGMKTWe/jOeQngCCNYQYRLyKO2LKJKoWXtCqWFdKDOWLHSGmCYW9Q3rT2bndbnbHgfBiRTUSsZZOgTXDj57kILQ3tNzhxD7HUbEetBeQ6ungRGvkO9Z7fLMx6xs9NNQC4mYaRL9NOiizU='}}], additional_kwargs={}, response_metadata={'prompt_feedback': {'block_reason': 0, 'safety_ratings': []}, 'finish_reason': 'STOP', 'model_name': 'gemini-2.5-flash', 'safety_ratings': [], 'grounding_metadata': {}, 'model_provider': 'google_genai'}, id='lc_run--83879264-5495-4187-ad17-fb8db728cef5-0', usage_metadata={'input_tokens': 2334, 'output_tokens': 392, 'total_tokens': 2726, 'input_token_details': {'cache_read': 1714}, 'output_token_details': {'reasoning': 201}})}}\n",
            "--------------\n"
          ]
        }
      ],
      "source": [
        "for data in graph.stream({'messages':[HumanMessage(content='332*17을 수행하고, 그 값으로 검색한 결과를 요약해줘')]}, stream_mode='updates'):\n",
        "    print(data)\n",
        "    print('--------------')"
      ]
    },
    {
      "cell_type": "markdown",
      "metadata": {
        "id": "IvlEDbFwipAS"
      },
      "source": [
        "만약, 모델을 Gemini가 아닌, GPT-4.1-mini 같은 모델로 바꿔 본다면 어떻게 동작할까요?"
      ]
    },
    {
      "cell_type": "code",
      "execution_count": 33,
      "metadata": {
        "id": "QLM8acZ_mF-x"
      },
      "outputs": [
        {
          "name": "stdout",
          "output_type": "stream",
          "text": [
            "Collecting langchain_openai\n",
            "  Downloading langchain_openai-1.0.1-py3-none-any.whl.metadata (1.8 kB)\n",
            "Requirement already satisfied: langchain-core<2.0.0,>=1.0.0 in c:\\users\\pc\\onedrive\\1.강의\\0.llm\\1 패스트캠퍼스_랭그래프\\fastcampus_langgraph\\.venv\\lib\\site-packages (from langchain_openai) (1.0.1)\n",
            "Collecting openai<3.0.0,>=1.109.1 (from langchain_openai)\n",
            "  Downloading openai-2.6.1-py3-none-any.whl.metadata (29 kB)\n",
            "Requirement already satisfied: tiktoken<1.0.0,>=0.7.0 in c:\\users\\pc\\onedrive\\1.강의\\0.llm\\1 패스트캠퍼스_랭그래프\\fastcampus_langgraph\\.venv\\lib\\site-packages (from langchain_openai) (0.12.0)\n",
            "Requirement already satisfied: jsonpatch<2.0.0,>=1.33.0 in c:\\users\\pc\\onedrive\\1.강의\\0.llm\\1 패스트캠퍼스_랭그래프\\fastcampus_langgraph\\.venv\\lib\\site-packages (from langchain-core<2.0.0,>=1.0.0->langchain_openai) (1.33)\n",
            "Requirement already satisfied: langsmith<1.0.0,>=0.3.45 in c:\\users\\pc\\onedrive\\1.강의\\0.llm\\1 패스트캠퍼스_랭그래프\\fastcampus_langgraph\\.venv\\lib\\site-packages (from langchain-core<2.0.0,>=1.0.0->langchain_openai) (0.4.38)\n",
            "Requirement already satisfied: packaging<26.0.0,>=23.2.0 in c:\\users\\pc\\onedrive\\1.강의\\0.llm\\1 패스트캠퍼스_랭그래프\\fastcampus_langgraph\\.venv\\lib\\site-packages (from langchain-core<2.0.0,>=1.0.0->langchain_openai) (25.0)\n",
            "Requirement already satisfied: pydantic<3.0.0,>=2.7.4 in c:\\users\\pc\\onedrive\\1.강의\\0.llm\\1 패스트캠퍼스_랭그래프\\fastcampus_langgraph\\.venv\\lib\\site-packages (from langchain-core<2.0.0,>=1.0.0->langchain_openai) (2.12.3)\n",
            "Requirement already satisfied: pyyaml<7.0.0,>=5.3.0 in c:\\users\\pc\\onedrive\\1.강의\\0.llm\\1 패스트캠퍼스_랭그래프\\fastcampus_langgraph\\.venv\\lib\\site-packages (from langchain-core<2.0.0,>=1.0.0->langchain_openai) (6.0.3)\n",
            "Requirement already satisfied: tenacity!=8.4.0,<10.0.0,>=8.1.0 in c:\\users\\pc\\onedrive\\1.강의\\0.llm\\1 패스트캠퍼스_랭그래프\\fastcampus_langgraph\\.venv\\lib\\site-packages (from langchain-core<2.0.0,>=1.0.0->langchain_openai) (9.1.2)\n",
            "Requirement already satisfied: typing-extensions<5.0.0,>=4.7.0 in c:\\users\\pc\\onedrive\\1.강의\\0.llm\\1 패스트캠퍼스_랭그래프\\fastcampus_langgraph\\.venv\\lib\\site-packages (from langchain-core<2.0.0,>=1.0.0->langchain_openai) (4.15.0)\n",
            "Requirement already satisfied: jsonpointer>=1.9 in c:\\users\\pc\\onedrive\\1.강의\\0.llm\\1 패스트캠퍼스_랭그래프\\fastcampus_langgraph\\.venv\\lib\\site-packages (from jsonpatch<2.0.0,>=1.33.0->langchain-core<2.0.0,>=1.0.0->langchain_openai) (3.0.0)\n",
            "Requirement already satisfied: httpx<1,>=0.23.0 in c:\\users\\pc\\onedrive\\1.강의\\0.llm\\1 패스트캠퍼스_랭그래프\\fastcampus_langgraph\\.venv\\lib\\site-packages (from langsmith<1.0.0,>=0.3.45->langchain-core<2.0.0,>=1.0.0->langchain_openai) (0.28.1)\n",
            "Requirement already satisfied: orjson>=3.9.14 in c:\\users\\pc\\onedrive\\1.강의\\0.llm\\1 패스트캠퍼스_랭그래프\\fastcampus_langgraph\\.venv\\lib\\site-packages (from langsmith<1.0.0,>=0.3.45->langchain-core<2.0.0,>=1.0.0->langchain_openai) (3.11.4)\n",
            "Requirement already satisfied: requests-toolbelt>=1.0.0 in c:\\users\\pc\\onedrive\\1.강의\\0.llm\\1 패스트캠퍼스_랭그래프\\fastcampus_langgraph\\.venv\\lib\\site-packages (from langsmith<1.0.0,>=0.3.45->langchain-core<2.0.0,>=1.0.0->langchain_openai) (1.0.0)\n",
            "Requirement already satisfied: requests>=2.0.0 in c:\\users\\pc\\onedrive\\1.강의\\0.llm\\1 패스트캠퍼스_랭그래프\\fastcampus_langgraph\\.venv\\lib\\site-packages (from langsmith<1.0.0,>=0.3.45->langchain-core<2.0.0,>=1.0.0->langchain_openai) (2.32.5)\n",
            "Requirement already satisfied: zstandard>=0.23.0 in c:\\users\\pc\\onedrive\\1.강의\\0.llm\\1 패스트캠퍼스_랭그래프\\fastcampus_langgraph\\.venv\\lib\\site-packages (from langsmith<1.0.0,>=0.3.45->langchain-core<2.0.0,>=1.0.0->langchain_openai) (0.25.0)\n",
            "Requirement already satisfied: anyio in c:\\users\\pc\\onedrive\\1.강의\\0.llm\\1 패스트캠퍼스_랭그래프\\fastcampus_langgraph\\.venv\\lib\\site-packages (from httpx<1,>=0.23.0->langsmith<1.0.0,>=0.3.45->langchain-core<2.0.0,>=1.0.0->langchain_openai) (4.11.0)\n",
            "Requirement already satisfied: certifi in c:\\users\\pc\\onedrive\\1.강의\\0.llm\\1 패스트캠퍼스_랭그래프\\fastcampus_langgraph\\.venv\\lib\\site-packages (from httpx<1,>=0.23.0->langsmith<1.0.0,>=0.3.45->langchain-core<2.0.0,>=1.0.0->langchain_openai) (2025.10.5)\n",
            "Requirement already satisfied: httpcore==1.* in c:\\users\\pc\\onedrive\\1.강의\\0.llm\\1 패스트캠퍼스_랭그래프\\fastcampus_langgraph\\.venv\\lib\\site-packages (from httpx<1,>=0.23.0->langsmith<1.0.0,>=0.3.45->langchain-core<2.0.0,>=1.0.0->langchain_openai) (1.0.9)\n",
            "Requirement already satisfied: idna in c:\\users\\pc\\onedrive\\1.강의\\0.llm\\1 패스트캠퍼스_랭그래프\\fastcampus_langgraph\\.venv\\lib\\site-packages (from httpx<1,>=0.23.0->langsmith<1.0.0,>=0.3.45->langchain-core<2.0.0,>=1.0.0->langchain_openai) (3.11)\n",
            "Requirement already satisfied: h11>=0.16 in c:\\users\\pc\\onedrive\\1.강의\\0.llm\\1 패스트캠퍼스_랭그래프\\fastcampus_langgraph\\.venv\\lib\\site-packages (from httpcore==1.*->httpx<1,>=0.23.0->langsmith<1.0.0,>=0.3.45->langchain-core<2.0.0,>=1.0.0->langchain_openai) (0.16.0)\n",
            "Collecting distro<2,>=1.7.0 (from openai<3.0.0,>=1.109.1->langchain_openai)\n",
            "  Using cached distro-1.9.0-py3-none-any.whl.metadata (6.8 kB)\n",
            "Collecting jiter<1,>=0.10.0 (from openai<3.0.0,>=1.109.1->langchain_openai)\n",
            "  Downloading jiter-0.11.1-cp312-cp312-win_amd64.whl.metadata (5.3 kB)\n",
            "Requirement already satisfied: sniffio in c:\\users\\pc\\onedrive\\1.강의\\0.llm\\1 패스트캠퍼스_랭그래프\\fastcampus_langgraph\\.venv\\lib\\site-packages (from openai<3.0.0,>=1.109.1->langchain_openai) (1.3.1)\n",
            "Collecting tqdm>4 (from openai<3.0.0,>=1.109.1->langchain_openai)\n",
            "  Using cached tqdm-4.67.1-py3-none-any.whl.metadata (57 kB)\n",
            "Requirement already satisfied: annotated-types>=0.6.0 in c:\\users\\pc\\onedrive\\1.강의\\0.llm\\1 패스트캠퍼스_랭그래프\\fastcampus_langgraph\\.venv\\lib\\site-packages (from pydantic<3.0.0,>=2.7.4->langchain-core<2.0.0,>=1.0.0->langchain_openai) (0.7.0)\n",
            "Requirement already satisfied: pydantic-core==2.41.4 in c:\\users\\pc\\onedrive\\1.강의\\0.llm\\1 패스트캠퍼스_랭그래프\\fastcampus_langgraph\\.venv\\lib\\site-packages (from pydantic<3.0.0,>=2.7.4->langchain-core<2.0.0,>=1.0.0->langchain_openai) (2.41.4)\n",
            "Requirement already satisfied: typing-inspection>=0.4.2 in c:\\users\\pc\\onedrive\\1.강의\\0.llm\\1 패스트캠퍼스_랭그래프\\fastcampus_langgraph\\.venv\\lib\\site-packages (from pydantic<3.0.0,>=2.7.4->langchain-core<2.0.0,>=1.0.0->langchain_openai) (0.4.2)\n",
            "Requirement already satisfied: regex>=2022.1.18 in c:\\users\\pc\\onedrive\\1.강의\\0.llm\\1 패스트캠퍼스_랭그래프\\fastcampus_langgraph\\.venv\\lib\\site-packages (from tiktoken<1.0.0,>=0.7.0->langchain_openai) (2025.10.23)\n",
            "Requirement already satisfied: charset_normalizer<4,>=2 in c:\\users\\pc\\onedrive\\1.강의\\0.llm\\1 패스트캠퍼스_랭그래프\\fastcampus_langgraph\\.venv\\lib\\site-packages (from requests>=2.0.0->langsmith<1.0.0,>=0.3.45->langchain-core<2.0.0,>=1.0.0->langchain_openai) (3.4.4)\n",
            "Requirement already satisfied: urllib3<3,>=1.21.1 in c:\\users\\pc\\onedrive\\1.강의\\0.llm\\1 패스트캠퍼스_랭그래프\\fastcampus_langgraph\\.venv\\lib\\site-packages (from requests>=2.0.0->langsmith<1.0.0,>=0.3.45->langchain-core<2.0.0,>=1.0.0->langchain_openai) (2.5.0)\n",
            "Requirement already satisfied: colorama in c:\\users\\pc\\onedrive\\1.강의\\0.llm\\1 패스트캠퍼스_랭그래프\\fastcampus_langgraph\\.venv\\lib\\site-packages (from tqdm>4->openai<3.0.0,>=1.109.1->langchain_openai) (0.4.6)\n",
            "Downloading langchain_openai-1.0.1-py3-none-any.whl (81 kB)\n",
            "Downloading openai-2.6.1-py3-none-any.whl (1.0 MB)\n",
            "   ---------------------------------------- 0.0/1.0 MB ? eta -:--:--\n",
            "   ---------------------------------------- 1.0/1.0 MB ?  0:00:00\n",
            "Using cached distro-1.9.0-py3-none-any.whl (20 kB)\n",
            "Downloading jiter-0.11.1-cp312-cp312-win_amd64.whl (204 kB)\n",
            "Using cached tqdm-4.67.1-py3-none-any.whl (78 kB)\n",
            "Installing collected packages: tqdm, jiter, distro, openai, langchain_openai\n",
            "\n",
            "   ---------------------------------------- 0/5 [tqdm]\n",
            "   ---------------- ----------------------- 2/5 [distro]\n",
            "   ------------------------ --------------- 3/5 [openai]\n",
            "   ------------------------ --------------- 3/5 [openai]\n",
            "   ------------------------ --------------- 3/5 [openai]\n",
            "   ------------------------ --------------- 3/5 [openai]\n",
            "   ------------------------ --------------- 3/5 [openai]\n",
            "   ------------------------ --------------- 3/5 [openai]\n",
            "   ------------------------ --------------- 3/5 [openai]\n",
            "   ------------------------ --------------- 3/5 [openai]\n",
            "   ------------------------ --------------- 3/5 [openai]\n",
            "   ------------------------ --------------- 3/5 [openai]\n",
            "   ------------------------ --------------- 3/5 [openai]\n",
            "   ------------------------ --------------- 3/5 [openai]\n",
            "   ------------------------ --------------- 3/5 [openai]\n",
            "   ------------------------ --------------- 3/5 [openai]\n",
            "   ------------------------ --------------- 3/5 [openai]\n",
            "   ------------------------ --------------- 3/5 [openai]\n",
            "   ------------------------ --------------- 3/5 [openai]\n",
            "   ------------------------ --------------- 3/5 [openai]\n",
            "   ------------------------ --------------- 3/5 [openai]\n",
            "   ------------------------ --------------- 3/5 [openai]\n",
            "   ------------------------ --------------- 3/5 [openai]\n",
            "   ------------------------ --------------- 3/5 [openai]\n",
            "   ------------------------ --------------- 3/5 [openai]\n",
            "   ------------------------ --------------- 3/5 [openai]\n",
            "   ------------------------ --------------- 3/5 [openai]\n",
            "   ------------------------ --------------- 3/5 [openai]\n",
            "   ------------------------ --------------- 3/5 [openai]\n",
            "   ------------------------ --------------- 3/5 [openai]\n",
            "   ------------------------ --------------- 3/5 [openai]\n",
            "   ------------------------ --------------- 3/5 [openai]\n",
            "   ------------------------ --------------- 3/5 [openai]\n",
            "   ------------------------ --------------- 3/5 [openai]\n",
            "   ------------------------ --------------- 3/5 [openai]\n",
            "   ------------------------ --------------- 3/5 [openai]\n",
            "   ------------------------ --------------- 3/5 [openai]\n",
            "   ------------------------ --------------- 3/5 [openai]\n",
            "   ------------------------ --------------- 3/5 [openai]\n",
            "   ------------------------ --------------- 3/5 [openai]\n",
            "   ------------------------ --------------- 3/5 [openai]\n",
            "   ------------------------ --------------- 3/5 [openai]\n",
            "   -------------------------------- ------- 4/5 [langchain_openai]\n",
            "   ---------------------------------------- 5/5 [langchain_openai]\n",
            "\n",
            "Successfully installed distro-1.9.0 jiter-0.11.1 langchain_openai-1.0.1 openai-2.6.1 tqdm-4.67.1\n"
          ]
        }
      ],
      "source": [
        "!pip install langchain_openai"
      ]
    },
    {
      "cell_type": "code",
      "execution_count": null,
      "metadata": {
        "id": "Bl-dQ73_ipAS"
      },
      "outputs": [],
      "source": [
        "# OpenAI API 유료 크레딧이 있는 경우에만 실행 가능\n",
        "\n",
        "os.environ['OPENAI_API_KEY'] = 'sk-...'\n",
        "\n",
        "from langchain_openai import ChatOpenAI\n",
        "llm = ChatOpenAI(model = 'gpt-4.1-mini')"
      ]
    },
    {
      "cell_type": "code",
      "execution_count": 35,
      "metadata": {
        "id": "MnVH644AipAS"
      },
      "outputs": [],
      "source": [
        "llm_with_tools = llm.bind_tools([multiply, current_date, tavily_search])"
      ]
    },
    {
      "cell_type": "code",
      "execution_count": 36,
      "metadata": {
        "id": "S2yqGN5SipAS"
      },
      "outputs": [
        {
          "data": {
            "image/png": "[encoded data removed]",
            "text/plain": [
              "<langgraph.graph.state.CompiledStateGraph object at 0x00000228CAA15640>"
            ]
          },
          "execution_count": 36,
          "metadata": {},
          "output_type": "execute_result"
        }
      ],
      "source": [
        "def tool_calling_llm(state):\n",
        "    return {\"messages\": llm_with_tools.invoke(state[\"messages\"])}\n",
        "\n",
        "\n",
        "builder = StateGraph(State)\n",
        "\n",
        "builder.add_node(\"tool_calling_llm\", tool_calling_llm)\n",
        "builder.add_node('tools', ToolNode([multiply, current_date, tavily_search]))\n",
        "\n",
        "builder.add_edge(START, 'tool_calling_llm')\n",
        "builder.add_conditional_edges('tool_calling_llm', tools_condition, END)\n",
        "builder.add_edge('tools', 'tool_calling_llm')\n",
        "\n",
        "graph = builder.compile()\n",
        "graph"
      ]
    },
    {
      "cell_type": "code",
      "execution_count": 37,
      "metadata": {
        "id": "wzSiaZisipAS"
      },
      "outputs": [
        {
          "data": {
            "text/plain": [
              "{'messages': [HumanMessage(content='오늘 날짜에 태어난 배우는 누구야?', additional_kwargs={}, response_metadata={}, id='2ae43de5-a4a4-4470-b998-a225443c4fab'),\n",
              "  AIMessage(content='', additional_kwargs={'refusal': None}, response_metadata={'token_usage': {'completion_tokens': 10, 'prompt_tokens': 1338, 'total_tokens': 1348, 'completion_tokens_details': {'accepted_prediction_tokens': 0, 'audio_tokens': 0, 'reasoning_tokens': 0, 'rejected_prediction_tokens': 0}, 'prompt_tokens_details': {'audio_tokens': 0, 'cached_tokens': 0}}, 'model_provider': 'openai', 'model_name': 'gpt-4o-mini-2024-07-18', 'system_fingerprint': 'fp_51db84afab', 'id': 'chatcmpl-CUlNwNjK2GhmhSscga5V54r63WAf9', 'service_tier': 'default', 'finish_reason': 'tool_calls', 'logprobs': None}, id='lc_run--af5bfe9e-33dc-464d-b24c-dffd7bf53e9c-0', tool_calls=[{'name': 'current_date', 'args': {}, 'id': 'call_KieiPZPi70N9bCeft2EMFPoZ', 'type': 'tool_call'}], usage_metadata={'input_tokens': 1338, 'output_tokens': 10, 'total_tokens': 1348, 'input_token_details': {'audio': 0, 'cache_read': 0}, 'output_token_details': {'audio': 0, 'reasoning': 0}}),\n",
              "  ToolMessage(content='2025-10-26', name='current_date', id='3eba4a7f-91ca-463c-af94-bfe602cf1ce6', tool_call_id='call_KieiPZPi70N9bCeft2EMFPoZ'),\n",
              "  AIMessage(content='', additional_kwargs={'refusal': None}, response_metadata={'token_usage': {'completion_tokens': 20, 'prompt_tokens': 1362, 'total_tokens': 1382, 'completion_tokens_details': {'accepted_prediction_tokens': 0, 'audio_tokens': 0, 'reasoning_tokens': 0, 'rejected_prediction_tokens': 0}, 'prompt_tokens_details': {'audio_tokens': 0, 'cached_tokens': 1280}}, 'model_provider': 'openai', 'model_name': 'gpt-4o-mini-2024-07-18', 'system_fingerprint': 'fp_51db84afab', 'id': 'chatcmpl-CUlNy1KwJBgvjt9MzOI8w0jnjli42', 'service_tier': 'default', 'finish_reason': 'tool_calls', 'logprobs': None}, id='lc_run--52df117c-f4c0-49b4-84b2-8f41f4e67be2-0', tool_calls=[{'name': 'tavily_search', 'args': {'query': 'October 26 celebrity birthdays'}, 'id': 'call_oByokTb2GbofICJPP6hF9E1z', 'type': 'tool_call'}], usage_metadata={'input_tokens': 1362, 'output_tokens': 20, 'total_tokens': 1382, 'input_token_details': {'audio': 0, 'cache_read': 1280}, 'output_token_details': {'audio': 0, 'reasoning': 0}}),\n",
              "  ToolMessage(content='{\"query\": \"October 26 celebrity birthdays\", \"follow_up_questions\": null, \"answer\": null, \"images\": [], \"results\": [{\"url\": \"https://www.nhregister.com/entertainment/article/celebrity-birthdays-for-the-week-of-oct-26-nov-1-21110383.php\", \"title\": \"Celebrity birthdays for the week of Oct. 26-Nov. 1\", \"content\": \"Celebrities having birthdays during the week of Oct. 26-Nov. 1 include actor Julia Roberts, country singer Keith Urban and drummer Rick\", \"score\": 0.91563576, \"raw_content\": null}, {\"url\": \"https://www.cleveland.com/entertainment/2024/10/famous-birthdays-list-for-today-october-26-2024-includes-celebrities-keith-urban-seth-macfarlane.html\", \"title\": \"Famous birthdays list for today, October 26, 2024 includes ...\", \"content\": \"Actor D.W. Moffett (“Chicago Med”) is 70. Actor-singer Rita Wilson is 68. Actor Patrick Breen (“Madam Secretary”) is 64. Actor Cary Elwes is 62.See more\", \"score\": 0.8941352, \"raw_content\": null}, {\"url\": \"https://www.onthisday.com/birthdays/october/26\", \"title\": \"Famous Birthdays on October 26\", \"content\": \"W. Post, American manufacturer of breakfast cereals, born in Springfield, Illinois (d. * **1883** Paul Pilgrim, American athlete (Olympic gold 1904, 06), born in New York City (d. * 1898 Beryl Rubinstein, American pianist and composer, born in Athens, Georgia (d. * 1917 Mario Biaggi, American politician (Rep-D&R-NY, 1969-88), born in New York (d. C. Jones, American female impersonator, born in Scranton, Pennsylvania (d. * 1932 Anthony Beilenson, American politician (Rep-D-California, 1977-97), born in New York (d. * **1936** Shelley Morrison, American actress (General Hospital, Will & Grace), born in New York City (d. * 1944 Kenny Ascher, American jazz pianist, composer (\\\\\"Rainbow Connection\\\\\"), and arranger (John Lennon), born in Washington, D.C. * **1963** Ted Demme, American film and television director, born in New York City (d.\", \"score\": 0.87981987, \"raw_content\": null}], \"response_time\": 1.29, \"request_id\": \"612a6561-7287-4f59-bcea-75b9ebad0fea\"}', name='tavily_search', id='586ff1c9-b534-476c-9c89-0770adb9d56d', tool_call_id='call_oByokTb2GbofICJPP6hF9E1z'),\n",
              "  AIMessage(content='10월 26일에 태어난 유명한 배우들은 다음과 같습니다:\\n\\n- **D.W. Moffett**: \"Chicago Med\"에 출연한 배우로, 올해(2025) 70세입니다.\\n- **Rita Wilson**: 배우이자 프로듀서로, 올해 68세입니다.\\n- **Patrick Breen**: \"Madam Secretary\"에서 활동한 배우로, 올해 64세입니다.\\n- **Cary Elwes**: \"소설 식스 센스\"와 \"프린세스 브라이드\"로 유명한 배우로, 올해 62세입니다.\\n\\n더 많은 정보는 [여기](https://www.cleveland.com/entertainment/2024/10/famous-birthdays-list-for-today-october-26-2024-includes-celebrities-keith-urban-seth-macfarlane.html)에서 확인할 수 있습니다.', additional_kwargs={'refusal': None}, response_metadata={'token_usage': {'completion_tokens': 196, 'prompt_tokens': 1990, 'total_tokens': 2186, 'completion_tokens_details': {'accepted_prediction_tokens': 0, 'audio_tokens': 0, 'reasoning_tokens': 0, 'rejected_prediction_tokens': 0}, 'prompt_tokens_details': {'audio_tokens': 0, 'cached_tokens': 1280}}, 'model_provider': 'openai', 'model_name': 'gpt-4o-mini-2024-07-18', 'system_fingerprint': 'fp_51db84afab', 'id': 'chatcmpl-CUlO1qNwPoNZWJDB2venR19NvAaIK', 'service_tier': 'default', 'finish_reason': 'stop', 'logprobs': None}, id='lc_run--4f5f5e21-1971-433f-b291-37a5f149f8b8-0', usage_metadata={'input_tokens': 1990, 'output_tokens': 196, 'total_tokens': 2186, 'input_token_details': {'audio': 0, 'cache_read': 1280}, 'output_token_details': {'audio': 0, 'reasoning': 0}})]}"
            ]
          },
          "execution_count": 37,
          "metadata": {},
          "output_type": "execute_result"
        }
      ],
      "source": [
        "response = graph.invoke({'messages':[\n",
        "    HumanMessage(content='오늘 날짜에 태어난 배우는 누구야?')]})\n",
        "response"
      ]
    },
    {
      "cell_type": "code",
      "execution_count": 38,
      "metadata": {
        "id": "0BSgYrNVipAS"
      },
      "outputs": [
        {
          "name": "stdout",
          "output_type": "stream",
          "text": [
            "{'tool_calling_llm': {'messages': AIMessage(content='', additional_kwargs={'refusal': None}, response_metadata={'token_usage': {'completion_tokens': 17, 'prompt_tokens': 1346, 'total_tokens': 1363, 'completion_tokens_details': {'accepted_prediction_tokens': 0, 'audio_tokens': 0, 'reasoning_tokens': 0, 'rejected_prediction_tokens': 0}, 'prompt_tokens_details': {'audio_tokens': 0, 'cached_tokens': 1280}}, 'model_provider': 'openai', 'model_name': 'gpt-4o-mini-2024-07-18', 'system_fingerprint': 'fp_51db84afab', 'id': 'chatcmpl-CUlOEKuaNkFEvD2oq9ulLQDjbxqZ6', 'service_tier': 'default', 'finish_reason': 'tool_calls', 'logprobs': None}, id='lc_run--605f5b4f-0ff0-4699-be2c-1f056ef1abee-0', tool_calls=[{'name': 'multiply', 'args': {'x': 332, 'y': 17}, 'id': 'call_Q5qVpzxwXF7YUqGfMNfzMZkX', 'type': 'tool_call'}], usage_metadata={'input_tokens': 1346, 'output_tokens': 17, 'total_tokens': 1363, 'input_token_details': {'audio': 0, 'cache_read': 1280}, 'output_token_details': {'audio': 0, 'reasoning': 0}})}}\n",
            "--------------\n",
            "{'tools': {'messages': [ToolMessage(content='5644', name='multiply', id='399b1829-51fc-4af8-8c6c-254d127afb8b', tool_call_id='call_Q5qVpzxwXF7YUqGfMNfzMZkX')]}}\n",
            "--------------\n",
            "{'tool_calling_llm': {'messages': AIMessage(content='', additional_kwargs={'refusal': None}, response_metadata={'token_usage': {'completion_tokens': 22, 'prompt_tokens': 1372, 'total_tokens': 1394, 'completion_tokens_details': {'accepted_prediction_tokens': 0, 'audio_tokens': 0, 'reasoning_tokens': 0, 'rejected_prediction_tokens': 0}, 'prompt_tokens_details': {'audio_tokens': 0, 'cached_tokens': 1280}}, 'model_provider': 'openai', 'model_name': 'gpt-4o-mini-2024-07-18', 'system_fingerprint': 'fp_51db84afab', 'id': 'chatcmpl-CUlOGOKGFhMz2mREiIessK3I0szPh', 'service_tier': 'default', 'finish_reason': 'tool_calls', 'logprobs': None}, id='lc_run--521358c8-c303-4dcc-a152-c0a3d851aa87-0', tool_calls=[{'name': 'tavily_search', 'args': {'query': '5644', 'search_depth': 'advanced'}, 'id': 'call_XRvuZsYATslNFWyw4h6tH7lh', 'type': 'tool_call'}], usage_metadata={'input_tokens': 1372, 'output_tokens': 22, 'total_tokens': 1394, 'input_token_details': {'audio': 0, 'cache_read': 1280}, 'output_token_details': {'audio': 0, 'reasoning': 0}})}}\n",
            "--------------\n",
            "{'tools': {'messages': [ToolMessage(content='{\"query\": \"5644\", \"follow_up_questions\": null, \"answer\": null, \"images\": [], \"results\": [{\"url\": \"https://www.lexisrex.com/English-Numbers/5644\", \"title\": \"What is 5644 in words? - Lexis Rex\", \"content\": \"The number 5644 is written as five thousand six hundred and forty-four. Find out how to say any number up to 999 trillion.\", \"score\": 0.838376, \"raw_content\": null}, {\"url\": \"https://www.sunsigns.org/angel-number-5644-meaning/\", \"title\": \"Angel Number 5644 Meaning: Find Inner Happiness - SunSigns.Org\", \"content\": \"We have often heard of millionaires taking their lives. This is a clear indication that true happiness comes from within. Angel number 5644 centers around the idea of finding true joy in life. There is a lot that the angels want you to know through the meaning of the angel number.\\\\n\\\\nadvertisement\\\\n\\\\n## What Does 5644 Mean Spiritually? [...] Another divine message conveyed to you through the spiritual meaning of 5644 is that you should learn to notice your external world. There are people and things all around you. The universe encourages you to appreciate the people in your life and the material blessings you currently have.\\\\n\\\\nadvertisement [...] Angel number 5644\\\\nAngel number 5644\\\\n\\\\nThe number564 denotes that you should make an extra effort to change your life. The number 644 says that the angels are protecting you from bad luck.\\\\n\\\\n## 5644 Angel Number: Conclusion\\\\n\\\\nIn a word, happiness is not found in the outside world. Instead, angel number 5644 reminds you that true happiness is from within. Seek a more profound understanding through 5644’s spiritual meaning.\\\\n\\\\n##### 6445 Symbolism\\\\n\\\\n##### What Does It Mean If I See 4546\", \"score\": 0.79580134, \"raw_content\": null}, {\"url\": \"https://careers.sf.gov/classifications/?classCode=5644\", \"title\": \"5644-Principal Environmental Specialist - SF Careers\", \"content\": \"Job description\\\\n\\\\nCITY AND COUNTY OF SAN FRANCISCO\\\\n\\\\nDEPARTMENT OF HUMAN RESOURCES\\\\n\\\\n5644 PRINCIPAL ENVIRONMENTAL SPECIALIST\\\\n\\\\nUnder general direction, the Principal Environmental Specialist is responsible for managing environmental programs and projects in  distinct areas of specialty, such as Clean Air Programs, Energy Conservation Programs, Public Outreach and Education programs, Recycling Commercial and Residential Programs, and Toxics Reduction Programs. [...] Distinguishing Features:  Class 5644 Principal Environmental Specialist is distinguished from Class 5646 Senior Environmental Program Manager I, in that the latter manages multiple program areas and performs duties of a more difficult and complex nature.  Class 5644 Principal Environmental Specialist is distinguished from Class 5642 Senior Environmental Specialist in that the latter is not responsible for the management of program areas and performs duties of a less difficult and complex [...] 5644-Principal Environmental Specialist\\\\n\\\\nKnow the class code?\\\\n\\\\nClass codes are four characters long.\\\\n\\\\nSearch by keyword:\\\\n\\\\nUse a keyword to search for a class.\\\\n\\\\nRelated resources\\\\n\\\\nPrincipal Environmental Specialist\\\\n\\\\nJob classification\\\\n\\\\nClass | 5644\\\\nTitle | Principal Environmental Specialist\\\\nOvertime eligibility | Exempt (Z) - No Paid Overtime\\\\nLabor agreement | Prof & Tech Eng, Local 21\\\\nEffective date | July 01, 2019\\\\nCurrent compensation plan\\\\n\\\\nEffective: Jan 04, 2025\", \"score\": 0.71137124, \"raw_content\": null}], \"response_time\": 2.32, \"request_id\": \"2d7a36d3-a44c-4713-8f7c-06c8181c57fe\"}', name='tavily_search', id='91ce16e5-2202-4991-bb1b-3f0453e10696', tool_call_id='call_XRvuZsYATslNFWyw4h6tH7lh')]}}\n",
            "--------------\n",
            "{'tool_calling_llm': {'messages': AIMessage(content='The result of \\\\(332 \\\\times 17\\\\) is **5644**. Here are some summarized findings related to the number 5644:\\n\\n1. **Number Representation**:\\n   - 5644 is written as \"five thousand six hundred and forty-four\". You can find more details about this on [Lexis Rex](https://www.lexisrex.com/English-Numbers/5644).\\n\\n2. **Spiritual Significance**:\\n   - The angel number 5644 conveys that true happiness comes from within, rather than from material possessions or external circumstances. It encourages appreciation of the people and blessings in your life. More insights can be found on [SunSigns.Org](https://www.sunsigns.org/angel-number-5644-meaning/).\\n\\n3. **Job Classification**:\\n   - In the context of job classifications, 5644 refers to the Principal Environmental Specialist position in San Francisco. This role includes managing environmental programs such as Clean Air and Energy Conservation programs. Details about this job can be found on the [SF Careers website](https://careers.sf.gov/classifications/?classCode=5644).\\n\\nIf you need more detailed information on any specific aspect, feel free to ask!', additional_kwargs={'refusal': None}, response_metadata={'token_usage': {'completion_tokens': 247, 'prompt_tokens': 2211, 'total_tokens': 2458, 'completion_tokens_details': {'accepted_prediction_tokens': 0, 'audio_tokens': 0, 'reasoning_tokens': 0, 'rejected_prediction_tokens': 0}, 'prompt_tokens_details': {'audio_tokens': 0, 'cached_tokens': 1280}}, 'model_provider': 'openai', 'model_name': 'gpt-4o-mini-2024-07-18', 'system_fingerprint': 'fp_51db84afab', 'id': 'chatcmpl-CUlOKakumvpdiwyQSI10ujLj88ap8', 'service_tier': 'default', 'finish_reason': 'stop', 'logprobs': None}, id='lc_run--8ceefa51-a6fd-4f4a-834c-3c16106056f9-0', usage_metadata={'input_tokens': 2211, 'output_tokens': 247, 'total_tokens': 2458, 'input_token_details': {'audio': 0, 'cache_read': 1280}, 'output_token_details': {'audio': 0, 'reasoning': 0}})}}\n",
            "--------------\n"
          ]
        }
      ],
      "source": [
        "for data in graph.stream({'messages':[HumanMessage(content='332*17을 수행하고, 그 값으로 검색한 결과를 요약해줘')]}, stream_mode='updates'):\n",
        "    print(data)\n",
        "    print('--------------')"
      ]
    },
    {
      "cell_type": "markdown",
      "metadata": {
        "id": "rDjuZlNJipAT"
      },
      "source": [
        "현재의 구조에서는, 모델에 따라 툴 실행 이행 능력과 일관성 있는 실행 능력의 차이가 발생합니다.   \n",
        "특히, sLLM과 같은 모델의 경우 툴의 실행이 복잡하거나, Context가 길어지는 경우 오류가 발생할 수 있는데요.   \n",
        "실습에서 다룬 것처럼, 프롬프트를 수정하여 작동 과정을 설명하거나, 예시를 프롬프트에 포함하여 방법을 보다 잘 이해하게 하는 방법을 고려합니다."
      ]
    },
    {
      "cell_type": "code",
      "execution_count": null,
      "metadata": {
        "id": "q7ucJf8lipAT"
      },
      "outputs": [],
      "source": []
    }
  ],
  "metadata": {
    "colab": {
      "provenance": []
    },
    "kernelspec": {
      "display_name": ".venv",
      "language": "python",
      "name": "python3"
    },
    "language_info": {
      "codemirror_mode": {
        "name": "ipython",
        "version": 3
      },
      "file_extension": ".py",
      "mimetype": "text/x-python",
      "name": "python",
      "nbconvert_exporter": "python",
      "pygments_lexer": "ipython3",
      "version": "3.12.11"
    }
  },
  "nbformat": 4,
  "nbformat_minor": 0
}
